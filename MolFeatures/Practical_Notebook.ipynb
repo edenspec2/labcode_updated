{
 "cells": [
  {
   "cell_type": "markdown",
   "metadata": {},
   "source": [
    "This Notebook will go over Feature extraction , some Visualization and Modeling\n",
    "lets start with imports and loading the main class Molecules that works on a directory with feather files,\n",
    "we will use the example in the package.\n",
    "Change ROOT_DIR accordingly.\n"
   ]
  },
  {
   "cell_type": "code",
   "execution_count": 88,
   "metadata": {},
   "outputs": [],
   "source": [
    "%reset -f\n",
    "%reload_ext autoreload\n",
    "%autoreload 2\n",
    "\n",
    "import os\n",
    "import sys\n",
    "import importlib\n",
    "import numpy as np\n",
    "import pandas as pd\n",
    "\n",
    "# === Setup ===\n",
    "ROOT_DIR = r'C:\\Users\\edens\\Documents\\GitHub\\LabCode\\MolFeatures'\n",
    "sys.path.append(ROOT_DIR)\n",
    "sys.path.append(os.path.join(ROOT_DIR, 'M3_modeler'))\n",
    "sys.path.append(os.path.join(ROOT_DIR, 'M2_data_extractor'))\n",
    "sys.path.append(os.path.join(ROOT_DIR, 'utils'))\n",
    "\n",
    "os.chdir(ROOT_DIR)  # Set working directory\n",
    "\n",
    "# === Clear old module caches ===\n",
    "for module in ['data_extractor', 'feather_extractor', 'gaussian_handler', 'help_functions', 'modeling', 'plot']:\n",
    "    sys.modules.pop(module, None)\n",
    "\n",
    "# === Safe Imports ===\n",
    "try:\n",
    "    from data_extractor import Molecules, extract_connectivity\n",
    "    from feather_extractor import logs_to_feather\n",
    "    import gaussian_handler\n",
    "    from gaussian_handler import feather_file_handler\n",
    "    from help_functions import dict_to_horizontal_df, get_df_from_file, pick_samples_to_remove_for_distribution\n",
    "    import help_functions\n",
    "    import visualize\n",
    "    from modeling import (\n",
    "        ClassificationModel,\n",
    "        LinearRegressionModel,\n",
    "        fit_and_evaluate_single_combination_regression,\n",
    "        fit_and_evaluate_single_combination_classification\n",
    "        \n",
    "    )\n",
    "    import plot\n",
    "except ModuleNotFoundError as e:\n",
    "    print(f\"Module import failed: {e}\")\n",
    "\n",
    "# === Config ===\n",
    "pd.set_option('display.max_columns', None)\n",
    "\n",
    "# === Load molecular data ===\n",
    "feather_path = r'C:\\Users\\edens\\Documents\\GitHub\\lucas_project\\new_logs_hirshfeld\\new_feather\\test\\feather_files'\n",
    "\n"
   ]
  },
  {
   "cell_type": "code",
   "execution_count": 89,
   "metadata": {},
   "outputs": [
    {
     "name": "stdout",
     "output_type": "stream",
     "text": [
      "Molecules Loaded: ['BMNM_8.feather', 'molecule_6.feather', 'p49.feather', 'thiol_2 (1).feather'] Failed Molecules: []\n"
     ]
    }
   ],
   "source": [
    "mols = Molecules(feather_path)"
   ]
  },
  {
   "cell_type": "markdown",
   "metadata": {},
   "source": [
    "Great we can see the files Loaded ! \n",
    "lets print the methods for the mols object we created to see what wee can use."
   ]
  },
  {
   "cell_type": "code",
   "execution_count": 58,
   "metadata": {},
   "outputs": [
    {
     "name": "stdout",
     "output_type": "stream",
     "text": [
      "['export_all_xyz', 'extract_all_dfs', 'extract_all_xyz', 'failed_molecules', 'filter_molecules', 'get_bend_vibration_dict', 'get_bond_angle_dict', 'get_bond_length_dict', 'get_charge_df_dict', 'get_charge_diff_df_dict', 'get_dipole_dict', 'get_molecules_comp_set_app', 'get_npa_dict', 'get_ring_vibration_dict', 'get_sterimol_dict', 'get_stretch_vibration_dict', 'molecules', 'molecules_names', 'molecules_path', 'old_molecules', 'old_molecules_names', 'success_molecules', 'visualize_molecules', 'visualize_smallest_molecule', 'visualize_smallest_molecule_morfeus']\n"
     ]
    }
   ],
   "source": [
    "methods=[method for method in dir(mols) if not method.startswith('_')]\n",
    "print(methods)"
   ]
  },
  {
   "cell_type": "code",
   "execution_count": 19,
   "metadata": {},
   "outputs": [],
   "source": [
    "for mol in mols.molecules:\n",
    "    # replace nan in atoms with Pd not NaN\n",
    "    mol.xyz_df['atom'] = mol.xyz_df['atom'].replace('nan', 'Pd')"
   ]
  },
  {
   "cell_type": "markdown",
   "metadata": {},
   "source": [
    "Great now lets use visualize_molecules to see the first molecule of the set.\n"
   ]
  },
  {
   "cell_type": "code",
   "execution_count": 24,
   "metadata": {},
   "outputs": [
    {
     "name": "stdout",
     "output_type": "stream",
     "text": [
      "🔥 dipole vector: array([ 0.    , -2.2062,  0.    ]) (scaled by 2)\n"
     ]
    },
    {
     "data": {
      "application/vnd.plotly.v1+json": {
       "config": {
        "plotlyServerURL": "https://plot.ly"
       },
       "data": [
        {
         "marker": {
          "color": [
           "black",
           "red",
           "black",
           "black",
           "blue",
           "blue",
           "red",
           "black",
           "black",
           "black",
           "white",
           "white",
           "white",
           "white",
           "black",
           "black",
           "black",
           "black",
           "white",
           "black",
           "white",
           "black",
           "black",
           "white",
           "white",
           "white",
           "white",
           "black",
           "black",
           "black",
           "black",
           "white",
           "black",
           "white",
           "black",
           "white",
           "black",
           "white",
           "white",
           "white"
          ],
          "line": {
           "color": "lightgray",
           "width": 2
          },
          "size": 5
         },
         "mode": "markers",
         "name": "atoms",
         "text": [
          "C",
          "O",
          "C",
          "C",
          "N",
          "N",
          "O",
          "C",
          "C",
          "C",
          "H",
          "H",
          "H",
          "H",
          "C",
          "C",
          "C",
          "C",
          "H",
          "C",
          "H",
          "C",
          "C",
          "H",
          "H",
          "H",
          "H",
          "C",
          "C",
          "C",
          "C",
          "H",
          "C",
          "H",
          "C",
          "H",
          "C",
          "H",
          "H",
          "H"
         ],
         "type": "scatter3d",
         "x": [
          0.635329,
          1.162885,
          2.322229,
          2.470072,
          1.232968,
          -1.232968,
          -1.162884,
          -0.635328,
          -2.322229,
          -2.470072,
          2.098921,
          -2.098921,
          2.588194,
          -2.588194,
          3.57959,
          4.270694,
          -3.67033,
          4.1523,
          3.659732,
          3.67033,
          5.851754,
          5.870256,
          5.260957,
          3.314345,
          4.211311,
          5.651579,
          6.732271,
          -3.579589,
          -4.270694,
          5.378357,
          -4.152301,
          -3.659732,
          -5.378357,
          -5.851754,
          -5.870256,
          -6.732271,
          -5.260957,
          -5.651579,
          -4.211311,
          -3.314345
         ],
         "y": [
          -0.160721,
          -1.382196,
          -1.159496,
          0.385454,
          0.870154,
          0.870154,
          -1.382196,
          -0.160721,
          -1.159495,
          0.385454,
          -1.567379,
          -1.567379,
          0.844149,
          0.844149,
          -1.764207,
          -0.58888,
          0.612959,
          1.821385,
          2.748965,
          0.612959,
          -1.528183,
          0.612513,
          1.814062,
          -2.54841,
          -2.216257,
          2.746612,
          0.620502,
          -1.764207,
          -0.58888,
          -0.595321,
          1.821385,
          2.748965,
          -0.595321,
          -1.528183,
          0.612512,
          0.620502,
          1.814062,
          2.746612,
          -2.216257,
          -2.54841
         ],
         "z": [
          0.38155,
          0.628066,
          1.45328,
          1.416553,
          0.792498,
          -0.792498,
          -0.628066,
          -0.381551,
          -1.45328,
          -1.416553,
          2.438184,
          -2.438184,
          2.398496,
          -2.398496,
          0.82234,
          0.177516,
          -0.52968,
          0.05156,
          0.314907,
          0.529681,
          -0.940076,
          -1.134579,
          -0.783266,
          0.112542,
          1.590235,
          -1.169194,
          -1.789161,
          -0.82234,
          -0.177516,
          -0.658435,
          -0.05156,
          -0.314907,
          0.658435,
          0.940076,
          1.134579,
          1.789161,
          0.783266,
          1.169194,
          -1.590234,
          -0.112542
         ]
        },
        {
         "hoverinfo": "none",
         "line": {
          "color": "black",
          "width": 3
         },
         "mode": "lines",
         "name": "bonds",
         "type": "scatter3d",
         "x": [
          0.635329,
          1.162885,
          null,
          1.162885,
          2.322229,
          null,
          2.322229,
          2.470072,
          null,
          2.470072,
          1.232968,
          null,
          -1.162884,
          -0.635328,
          null,
          -2.322229,
          -2.470072,
          null,
          3.57959,
          4.270694,
          null,
          4.1523,
          3.659732,
          null,
          5.870256,
          5.260957,
          null,
          -3.579589,
          -4.270694,
          null,
          -4.152301,
          -3.659732,
          null,
          -5.378357,
          -5.851754,
          null,
          -5.870256,
          -6.732271,
          null,
          -5.260957,
          -5.651579,
          null,
          -1.232968,
          -0.635328,
          null,
          -2.322229,
          -1.162884,
          null,
          4.1523,
          3.67033,
          null,
          -5.378357,
          -5.870256,
          null,
          -5.870256,
          -5.260957,
          null,
          -2.322229,
          -2.098921,
          null,
          5.651579,
          5.260957,
          null,
          0.635329,
          1.232968,
          null,
          -2.470072,
          -1.232968,
          null,
          -2.470072,
          -2.588194,
          null,
          3.67033,
          4.270694,
          null,
          -5.378357,
          -4.270694,
          null,
          4.1523,
          5.260957,
          null,
          6.732271,
          5.870256,
          null,
          -5.260957,
          -4.152301,
          null,
          0.635329,
          -0.635328,
          null,
          -3.67033,
          -2.470072,
          null,
          2.322229,
          2.098921,
          null,
          5.378357,
          5.870256,
          null,
          2.470072,
          2.588194,
          null,
          3.57959,
          3.314345,
          null,
          5.851754,
          5.378357,
          null,
          4.211311,
          3.57959,
          null,
          -3.579589,
          -4.211311,
          null,
          2.322229,
          3.57959,
          null,
          -3.67033,
          -4.270694,
          null,
          -3.579589,
          -3.314345,
          null,
          5.378357,
          4.270694,
          null,
          -3.67033,
          -4.152301,
          null,
          3.67033,
          2.470072,
          null,
          -2.322229,
          -3.579589,
          null
         ],
         "y": [
          -0.160721,
          -1.382196,
          null,
          -1.382196,
          -1.159496,
          null,
          -1.159496,
          0.385454,
          null,
          0.385454,
          0.870154,
          null,
          -1.382196,
          -0.160721,
          null,
          -1.159495,
          0.385454,
          null,
          -1.764207,
          -0.58888,
          null,
          1.821385,
          2.748965,
          null,
          0.612513,
          1.814062,
          null,
          -1.764207,
          -0.58888,
          null,
          1.821385,
          2.748965,
          null,
          -0.595321,
          -1.528183,
          null,
          0.612512,
          0.620502,
          null,
          1.814062,
          2.746612,
          null,
          0.870154,
          -0.160721,
          null,
          -1.159495,
          -1.382196,
          null,
          1.821385,
          0.612959,
          null,
          -0.595321,
          0.612512,
          null,
          0.612512,
          1.814062,
          null,
          -1.159495,
          -1.567379,
          null,
          2.746612,
          1.814062,
          null,
          -0.160721,
          0.870154,
          null,
          0.385454,
          0.870154,
          null,
          0.385454,
          0.844149,
          null,
          0.612959,
          -0.58888,
          null,
          -0.595321,
          -0.58888,
          null,
          1.821385,
          1.814062,
          null,
          0.620502,
          0.612513,
          null,
          1.814062,
          1.821385,
          null,
          -0.160721,
          -0.160721,
          null,
          0.612959,
          0.385454,
          null,
          -1.159496,
          -1.567379,
          null,
          -0.595321,
          0.612513,
          null,
          0.385454,
          0.844149,
          null,
          -1.764207,
          -2.54841,
          null,
          -1.528183,
          -0.595321,
          null,
          -2.216257,
          -1.764207,
          null,
          -1.764207,
          -2.216257,
          null,
          -1.159496,
          -1.764207,
          null,
          0.612959,
          -0.58888,
          null,
          -1.764207,
          -2.54841,
          null,
          -0.595321,
          -0.58888,
          null,
          0.612959,
          1.821385,
          null,
          0.612959,
          0.385454,
          null,
          -1.159495,
          -1.764207,
          null
         ],
         "z": [
          0.38155,
          0.628066,
          null,
          0.628066,
          1.45328,
          null,
          1.45328,
          1.416553,
          null,
          1.416553,
          0.792498,
          null,
          -0.628066,
          -0.381551,
          null,
          -1.45328,
          -1.416553,
          null,
          0.82234,
          0.177516,
          null,
          0.05156,
          0.314907,
          null,
          -1.134579,
          -0.783266,
          null,
          -0.82234,
          -0.177516,
          null,
          -0.05156,
          -0.314907,
          null,
          0.658435,
          0.940076,
          null,
          1.134579,
          1.789161,
          null,
          0.783266,
          1.169194,
          null,
          -0.792498,
          -0.381551,
          null,
          -1.45328,
          -0.628066,
          null,
          0.05156,
          0.529681,
          null,
          0.658435,
          1.134579,
          null,
          1.134579,
          0.783266,
          null,
          -1.45328,
          -2.438184,
          null,
          -1.169194,
          -0.783266,
          null,
          0.38155,
          0.792498,
          null,
          -1.416553,
          -0.792498,
          null,
          -1.416553,
          -2.398496,
          null,
          0.529681,
          0.177516,
          null,
          0.658435,
          -0.177516,
          null,
          0.05156,
          -0.783266,
          null,
          -1.789161,
          -1.134579,
          null,
          0.783266,
          -0.05156,
          null,
          0.38155,
          -0.381551,
          null,
          -0.52968,
          -1.416553,
          null,
          1.45328,
          2.438184,
          null,
          -0.658435,
          -1.134579,
          null,
          1.416553,
          2.398496,
          null,
          0.82234,
          0.112542,
          null,
          -0.940076,
          -0.658435,
          null,
          1.590235,
          0.82234,
          null,
          -0.82234,
          -1.590234,
          null,
          1.45328,
          0.82234,
          null,
          -0.52968,
          -0.177516,
          null,
          -0.82234,
          -0.112542,
          null,
          -0.658435,
          0.177516,
          null,
          -0.52968,
          -0.05156,
          null,
          0.529681,
          1.416553,
          null,
          -1.45328,
          -0.82234,
          null
         ]
        },
        {
         "line": {
          "color": "green",
          "width": 8
         },
         "mode": "lines",
         "name": "Dipole Y",
         "showlegend": true,
         "type": "scatter3d",
         "visible": false,
         "x": [
          0,
          0
         ],
         "y": [
          0,
          -4.2623999999999995
         ],
         "z": [
          0,
          0
         ]
        },
        {
         "anchor": "tip",
         "colorscale": [
          [
           0,
           "green"
          ],
          [
           1,
           "green"
          ]
         ],
         "name": "Dipole Y",
         "showlegend": false,
         "showscale": false,
         "sizemode": "scaled",
         "sizeref": 0.2,
         "type": "cone",
         "u": [
          0
         ],
         "v": [
          -4.4124
         ],
         "visible": false,
         "w": [
          0
         ],
         "x": [
          0
         ],
         "y": [
          -4.4124
         ],
         "z": [
          0
         ]
        },
        {
         "line": {
          "color": "purple",
          "width": 8
         },
         "mode": "lines",
         "name": "Total Dipole",
         "showlegend": true,
         "type": "scatter3d",
         "visible": false,
         "x": [
          0,
          0
         ],
         "y": [
          0,
          -4.2623999999999995
         ],
         "z": [
          0,
          0
         ]
        },
        {
         "anchor": "tip",
         "colorscale": [
          [
           0,
           "purple"
          ],
          [
           1,
           "purple"
          ]
         ],
         "name": "Total Dipole",
         "showlegend": false,
         "showscale": false,
         "sizemode": "scaled",
         "sizeref": 0.2,
         "type": "cone",
         "u": [
          0
         ],
         "v": [
          -4.4124
         ],
         "visible": false,
         "w": [
          0
         ],
         "x": [
          0
         ],
         "y": [
          -4.4124
         ],
         "z": [
          0
         ]
        }
       ],
       "layout": {
        "margin": {
         "b": 0,
         "l": 0,
         "r": 0,
         "t": 0
        },
        "scene": {
         "annotations": [
          {
           "font": {
            "color": "blue"
           },
           "showarrow": false,
           "text": "1",
           "x": 0.635329,
           "y": -0.160721,
           "yshift": 15,
           "z": 0.38155
          },
          {
           "font": {
            "color": "blue"
           },
           "showarrow": false,
           "text": "2",
           "x": 1.162885,
           "y": -1.382196,
           "yshift": 15,
           "z": 0.628066
          },
          {
           "font": {
            "color": "blue"
           },
           "showarrow": false,
           "text": "3",
           "x": 2.322229,
           "y": -1.159496,
           "yshift": 15,
           "z": 1.45328
          },
          {
           "font": {
            "color": "blue"
           },
           "showarrow": false,
           "text": "4",
           "x": 2.470072,
           "y": 0.385454,
           "yshift": 15,
           "z": 1.416553
          },
          {
           "font": {
            "color": "blue"
           },
           "showarrow": false,
           "text": "5",
           "x": 1.232968,
           "y": 0.870154,
           "yshift": 15,
           "z": 0.792498
          },
          {
           "font": {
            "color": "blue"
           },
           "showarrow": false,
           "text": "6",
           "x": -1.232968,
           "y": 0.870154,
           "yshift": 15,
           "z": -0.792498
          },
          {
           "font": {
            "color": "blue"
           },
           "showarrow": false,
           "text": "7",
           "x": -1.162884,
           "y": -1.382196,
           "yshift": 15,
           "z": -0.628066
          },
          {
           "font": {
            "color": "blue"
           },
           "showarrow": false,
           "text": "8",
           "x": -0.635328,
           "y": -0.160721,
           "yshift": 15,
           "z": -0.381551
          },
          {
           "font": {
            "color": "blue"
           },
           "showarrow": false,
           "text": "9",
           "x": -2.322229,
           "y": -1.159495,
           "yshift": 15,
           "z": -1.45328
          },
          {
           "font": {
            "color": "blue"
           },
           "showarrow": false,
           "text": "10",
           "x": -2.470072,
           "y": 0.385454,
           "yshift": 15,
           "z": -1.416553
          },
          {
           "font": {
            "color": "blue"
           },
           "showarrow": false,
           "text": "11",
           "x": 2.098921,
           "y": -1.567379,
           "yshift": 15,
           "z": 2.438184
          },
          {
           "font": {
            "color": "blue"
           },
           "showarrow": false,
           "text": "12",
           "x": -2.098921,
           "y": -1.567379,
           "yshift": 15,
           "z": -2.438184
          },
          {
           "font": {
            "color": "blue"
           },
           "showarrow": false,
           "text": "13",
           "x": 2.588194,
           "y": 0.844149,
           "yshift": 15,
           "z": 2.398496
          },
          {
           "font": {
            "color": "blue"
           },
           "showarrow": false,
           "text": "14",
           "x": -2.588194,
           "y": 0.844149,
           "yshift": 15,
           "z": -2.398496
          },
          {
           "font": {
            "color": "blue"
           },
           "showarrow": false,
           "text": "15",
           "x": 3.57959,
           "y": -1.764207,
           "yshift": 15,
           "z": 0.82234
          },
          {
           "font": {
            "color": "blue"
           },
           "showarrow": false,
           "text": "16",
           "x": 4.270694,
           "y": -0.58888,
           "yshift": 15,
           "z": 0.177516
          },
          {
           "font": {
            "color": "blue"
           },
           "showarrow": false,
           "text": "17",
           "x": -3.67033,
           "y": 0.612959,
           "yshift": 15,
           "z": -0.52968
          },
          {
           "font": {
            "color": "blue"
           },
           "showarrow": false,
           "text": "18",
           "x": 4.1523,
           "y": 1.821385,
           "yshift": 15,
           "z": 0.05156
          },
          {
           "font": {
            "color": "blue"
           },
           "showarrow": false,
           "text": "19",
           "x": 3.659732,
           "y": 2.748965,
           "yshift": 15,
           "z": 0.314907
          },
          {
           "font": {
            "color": "blue"
           },
           "showarrow": false,
           "text": "20",
           "x": 3.67033,
           "y": 0.612959,
           "yshift": 15,
           "z": 0.529681
          },
          {
           "font": {
            "color": "blue"
           },
           "showarrow": false,
           "text": "21",
           "x": 5.851754,
           "y": -1.528183,
           "yshift": 15,
           "z": -0.940076
          },
          {
           "font": {
            "color": "blue"
           },
           "showarrow": false,
           "text": "22",
           "x": 5.870256,
           "y": 0.612513,
           "yshift": 15,
           "z": -1.134579
          },
          {
           "font": {
            "color": "blue"
           },
           "showarrow": false,
           "text": "23",
           "x": 5.260957,
           "y": 1.814062,
           "yshift": 15,
           "z": -0.783266
          },
          {
           "font": {
            "color": "blue"
           },
           "showarrow": false,
           "text": "24",
           "x": 3.314345,
           "y": -2.54841,
           "yshift": 15,
           "z": 0.112542
          },
          {
           "font": {
            "color": "blue"
           },
           "showarrow": false,
           "text": "25",
           "x": 4.211311,
           "y": -2.216257,
           "yshift": 15,
           "z": 1.590235
          },
          {
           "font": {
            "color": "blue"
           },
           "showarrow": false,
           "text": "26",
           "x": 5.651579,
           "y": 2.746612,
           "yshift": 15,
           "z": -1.169194
          },
          {
           "font": {
            "color": "blue"
           },
           "showarrow": false,
           "text": "27",
           "x": 6.732271,
           "y": 0.620502,
           "yshift": 15,
           "z": -1.789161
          },
          {
           "font": {
            "color": "blue"
           },
           "showarrow": false,
           "text": "28",
           "x": -3.579589,
           "y": -1.764207,
           "yshift": 15,
           "z": -0.82234
          },
          {
           "font": {
            "color": "blue"
           },
           "showarrow": false,
           "text": "29",
           "x": -4.270694,
           "y": -0.58888,
           "yshift": 15,
           "z": -0.177516
          },
          {
           "font": {
            "color": "blue"
           },
           "showarrow": false,
           "text": "30",
           "x": 5.378357,
           "y": -0.595321,
           "yshift": 15,
           "z": -0.658435
          },
          {
           "font": {
            "color": "blue"
           },
           "showarrow": false,
           "text": "31",
           "x": -4.152301,
           "y": 1.821385,
           "yshift": 15,
           "z": -0.05156
          },
          {
           "font": {
            "color": "blue"
           },
           "showarrow": false,
           "text": "32",
           "x": -3.659732,
           "y": 2.748965,
           "yshift": 15,
           "z": -0.314907
          },
          {
           "font": {
            "color": "blue"
           },
           "showarrow": false,
           "text": "33",
           "x": -5.378357,
           "y": -0.595321,
           "yshift": 15,
           "z": 0.658435
          },
          {
           "font": {
            "color": "blue"
           },
           "showarrow": false,
           "text": "34",
           "x": -5.851754,
           "y": -1.528183,
           "yshift": 15,
           "z": 0.940076
          },
          {
           "font": {
            "color": "blue"
           },
           "showarrow": false,
           "text": "35",
           "x": -5.870256,
           "y": 0.612512,
           "yshift": 15,
           "z": 1.134579
          },
          {
           "font": {
            "color": "blue"
           },
           "showarrow": false,
           "text": "36",
           "x": -6.732271,
           "y": 0.620502,
           "yshift": 15,
           "z": 1.789161
          },
          {
           "font": {
            "color": "blue"
           },
           "showarrow": false,
           "text": "37",
           "x": -5.260957,
           "y": 1.814062,
           "yshift": 15,
           "z": 0.783266
          },
          {
           "font": {
            "color": "blue"
           },
           "showarrow": false,
           "text": "38",
           "x": -5.651579,
           "y": 2.746612,
           "yshift": 15,
           "z": 1.169194
          },
          {
           "font": {
            "color": "blue"
           },
           "showarrow": false,
           "text": "39",
           "x": -4.211311,
           "y": -2.216257,
           "yshift": 15,
           "z": -1.590234
          },
          {
           "font": {
            "color": "blue"
           },
           "showarrow": false,
           "text": "40",
           "x": -3.314345,
           "y": -2.54841,
           "yshift": 15,
           "z": -0.112542
          }
         ],
         "xaxis": {
          "showbackground": false,
          "showgrid": false,
          "showticklabels": false,
          "title": {
           "font": {
            "color": "white"
           },
           "text": "X"
          },
          "zeroline": false
         },
         "yaxis": {
          "showbackground": false,
          "showgrid": false,
          "showticklabels": false,
          "title": {
           "font": {
            "color": "white"
           },
           "text": "Y"
          },
          "zeroline": false
         },
         "zaxis": {
          "showbackground": false,
          "showgrid": false,
          "showticklabels": false,
          "title": {
           "font": {
            "color": "white"
           },
           "text": "Z"
          },
          "zeroline": false
         }
        },
        "showlegend": false,
        "template": {
         "data": {
          "bar": [
           {
            "error_x": {
             "color": "#2a3f5f"
            },
            "error_y": {
             "color": "#2a3f5f"
            },
            "marker": {
             "line": {
              "color": "#E5ECF6",
              "width": 0.5
             },
             "pattern": {
              "fillmode": "overlay",
              "size": 10,
              "solidity": 0.2
             }
            },
            "type": "bar"
           }
          ],
          "barpolar": [
           {
            "marker": {
             "line": {
              "color": "#E5ECF6",
              "width": 0.5
             },
             "pattern": {
              "fillmode": "overlay",
              "size": 10,
              "solidity": 0.2
             }
            },
            "type": "barpolar"
           }
          ],
          "carpet": [
           {
            "aaxis": {
             "endlinecolor": "#2a3f5f",
             "gridcolor": "white",
             "linecolor": "white",
             "minorgridcolor": "white",
             "startlinecolor": "#2a3f5f"
            },
            "baxis": {
             "endlinecolor": "#2a3f5f",
             "gridcolor": "white",
             "linecolor": "white",
             "minorgridcolor": "white",
             "startlinecolor": "#2a3f5f"
            },
            "type": "carpet"
           }
          ],
          "choropleth": [
           {
            "colorbar": {
             "outlinewidth": 0,
             "ticks": ""
            },
            "type": "choropleth"
           }
          ],
          "contour": [
           {
            "colorbar": {
             "outlinewidth": 0,
             "ticks": ""
            },
            "colorscale": [
             [
              0,
              "#0d0887"
             ],
             [
              0.1111111111111111,
              "#46039f"
             ],
             [
              0.2222222222222222,
              "#7201a8"
             ],
             [
              0.3333333333333333,
              "#9c179e"
             ],
             [
              0.4444444444444444,
              "#bd3786"
             ],
             [
              0.5555555555555556,
              "#d8576b"
             ],
             [
              0.6666666666666666,
              "#ed7953"
             ],
             [
              0.7777777777777778,
              "#fb9f3a"
             ],
             [
              0.8888888888888888,
              "#fdca26"
             ],
             [
              1,
              "#f0f921"
             ]
            ],
            "type": "contour"
           }
          ],
          "contourcarpet": [
           {
            "colorbar": {
             "outlinewidth": 0,
             "ticks": ""
            },
            "type": "contourcarpet"
           }
          ],
          "heatmap": [
           {
            "colorbar": {
             "outlinewidth": 0,
             "ticks": ""
            },
            "colorscale": [
             [
              0,
              "#0d0887"
             ],
             [
              0.1111111111111111,
              "#46039f"
             ],
             [
              0.2222222222222222,
              "#7201a8"
             ],
             [
              0.3333333333333333,
              "#9c179e"
             ],
             [
              0.4444444444444444,
              "#bd3786"
             ],
             [
              0.5555555555555556,
              "#d8576b"
             ],
             [
              0.6666666666666666,
              "#ed7953"
             ],
             [
              0.7777777777777778,
              "#fb9f3a"
             ],
             [
              0.8888888888888888,
              "#fdca26"
             ],
             [
              1,
              "#f0f921"
             ]
            ],
            "type": "heatmap"
           }
          ],
          "heatmapgl": [
           {
            "colorbar": {
             "outlinewidth": 0,
             "ticks": ""
            },
            "colorscale": [
             [
              0,
              "#0d0887"
             ],
             [
              0.1111111111111111,
              "#46039f"
             ],
             [
              0.2222222222222222,
              "#7201a8"
             ],
             [
              0.3333333333333333,
              "#9c179e"
             ],
             [
              0.4444444444444444,
              "#bd3786"
             ],
             [
              0.5555555555555556,
              "#d8576b"
             ],
             [
              0.6666666666666666,
              "#ed7953"
             ],
             [
              0.7777777777777778,
              "#fb9f3a"
             ],
             [
              0.8888888888888888,
              "#fdca26"
             ],
             [
              1,
              "#f0f921"
             ]
            ],
            "type": "heatmapgl"
           }
          ],
          "histogram": [
           {
            "marker": {
             "pattern": {
              "fillmode": "overlay",
              "size": 10,
              "solidity": 0.2
             }
            },
            "type": "histogram"
           }
          ],
          "histogram2d": [
           {
            "colorbar": {
             "outlinewidth": 0,
             "ticks": ""
            },
            "colorscale": [
             [
              0,
              "#0d0887"
             ],
             [
              0.1111111111111111,
              "#46039f"
             ],
             [
              0.2222222222222222,
              "#7201a8"
             ],
             [
              0.3333333333333333,
              "#9c179e"
             ],
             [
              0.4444444444444444,
              "#bd3786"
             ],
             [
              0.5555555555555556,
              "#d8576b"
             ],
             [
              0.6666666666666666,
              "#ed7953"
             ],
             [
              0.7777777777777778,
              "#fb9f3a"
             ],
             [
              0.8888888888888888,
              "#fdca26"
             ],
             [
              1,
              "#f0f921"
             ]
            ],
            "type": "histogram2d"
           }
          ],
          "histogram2dcontour": [
           {
            "colorbar": {
             "outlinewidth": 0,
             "ticks": ""
            },
            "colorscale": [
             [
              0,
              "#0d0887"
             ],
             [
              0.1111111111111111,
              "#46039f"
             ],
             [
              0.2222222222222222,
              "#7201a8"
             ],
             [
              0.3333333333333333,
              "#9c179e"
             ],
             [
              0.4444444444444444,
              "#bd3786"
             ],
             [
              0.5555555555555556,
              "#d8576b"
             ],
             [
              0.6666666666666666,
              "#ed7953"
             ],
             [
              0.7777777777777778,
              "#fb9f3a"
             ],
             [
              0.8888888888888888,
              "#fdca26"
             ],
             [
              1,
              "#f0f921"
             ]
            ],
            "type": "histogram2dcontour"
           }
          ],
          "mesh3d": [
           {
            "colorbar": {
             "outlinewidth": 0,
             "ticks": ""
            },
            "type": "mesh3d"
           }
          ],
          "parcoords": [
           {
            "line": {
             "colorbar": {
              "outlinewidth": 0,
              "ticks": ""
             }
            },
            "type": "parcoords"
           }
          ],
          "pie": [
           {
            "automargin": true,
            "type": "pie"
           }
          ],
          "scatter": [
           {
            "fillpattern": {
             "fillmode": "overlay",
             "size": 10,
             "solidity": 0.2
            },
            "type": "scatter"
           }
          ],
          "scatter3d": [
           {
            "line": {
             "colorbar": {
              "outlinewidth": 0,
              "ticks": ""
             }
            },
            "marker": {
             "colorbar": {
              "outlinewidth": 0,
              "ticks": ""
             }
            },
            "type": "scatter3d"
           }
          ],
          "scattercarpet": [
           {
            "marker": {
             "colorbar": {
              "outlinewidth": 0,
              "ticks": ""
             }
            },
            "type": "scattercarpet"
           }
          ],
          "scattergeo": [
           {
            "marker": {
             "colorbar": {
              "outlinewidth": 0,
              "ticks": ""
             }
            },
            "type": "scattergeo"
           }
          ],
          "scattergl": [
           {
            "marker": {
             "colorbar": {
              "outlinewidth": 0,
              "ticks": ""
             }
            },
            "type": "scattergl"
           }
          ],
          "scattermapbox": [
           {
            "marker": {
             "colorbar": {
              "outlinewidth": 0,
              "ticks": ""
             }
            },
            "type": "scattermapbox"
           }
          ],
          "scatterpolar": [
           {
            "marker": {
             "colorbar": {
              "outlinewidth": 0,
              "ticks": ""
             }
            },
            "type": "scatterpolar"
           }
          ],
          "scatterpolargl": [
           {
            "marker": {
             "colorbar": {
              "outlinewidth": 0,
              "ticks": ""
             }
            },
            "type": "scatterpolargl"
           }
          ],
          "scatterternary": [
           {
            "marker": {
             "colorbar": {
              "outlinewidth": 0,
              "ticks": ""
             }
            },
            "type": "scatterternary"
           }
          ],
          "surface": [
           {
            "colorbar": {
             "outlinewidth": 0,
             "ticks": ""
            },
            "colorscale": [
             [
              0,
              "#0d0887"
             ],
             [
              0.1111111111111111,
              "#46039f"
             ],
             [
              0.2222222222222222,
              "#7201a8"
             ],
             [
              0.3333333333333333,
              "#9c179e"
             ],
             [
              0.4444444444444444,
              "#bd3786"
             ],
             [
              0.5555555555555556,
              "#d8576b"
             ],
             [
              0.6666666666666666,
              "#ed7953"
             ],
             [
              0.7777777777777778,
              "#fb9f3a"
             ],
             [
              0.8888888888888888,
              "#fdca26"
             ],
             [
              1,
              "#f0f921"
             ]
            ],
            "type": "surface"
           }
          ],
          "table": [
           {
            "cells": {
             "fill": {
              "color": "#EBF0F8"
             },
             "line": {
              "color": "white"
             }
            },
            "header": {
             "fill": {
              "color": "#C8D4E3"
             },
             "line": {
              "color": "white"
             }
            },
            "type": "table"
           }
          ]
         },
         "layout": {
          "annotationdefaults": {
           "arrowcolor": "#2a3f5f",
           "arrowhead": 0,
           "arrowwidth": 1
          },
          "autotypenumbers": "strict",
          "coloraxis": {
           "colorbar": {
            "outlinewidth": 0,
            "ticks": ""
           }
          },
          "colorscale": {
           "diverging": [
            [
             0,
             "#8e0152"
            ],
            [
             0.1,
             "#c51b7d"
            ],
            [
             0.2,
             "#de77ae"
            ],
            [
             0.3,
             "#f1b6da"
            ],
            [
             0.4,
             "#fde0ef"
            ],
            [
             0.5,
             "#f7f7f7"
            ],
            [
             0.6,
             "#e6f5d0"
            ],
            [
             0.7,
             "#b8e186"
            ],
            [
             0.8,
             "#7fbc41"
            ],
            [
             0.9,
             "#4d9221"
            ],
            [
             1,
             "#276419"
            ]
           ],
           "sequential": [
            [
             0,
             "#0d0887"
            ],
            [
             0.1111111111111111,
             "#46039f"
            ],
            [
             0.2222222222222222,
             "#7201a8"
            ],
            [
             0.3333333333333333,
             "#9c179e"
            ],
            [
             0.4444444444444444,
             "#bd3786"
            ],
            [
             0.5555555555555556,
             "#d8576b"
            ],
            [
             0.6666666666666666,
             "#ed7953"
            ],
            [
             0.7777777777777778,
             "#fb9f3a"
            ],
            [
             0.8888888888888888,
             "#fdca26"
            ],
            [
             1,
             "#f0f921"
            ]
           ],
           "sequentialminus": [
            [
             0,
             "#0d0887"
            ],
            [
             0.1111111111111111,
             "#46039f"
            ],
            [
             0.2222222222222222,
             "#7201a8"
            ],
            [
             0.3333333333333333,
             "#9c179e"
            ],
            [
             0.4444444444444444,
             "#bd3786"
            ],
            [
             0.5555555555555556,
             "#d8576b"
            ],
            [
             0.6666666666666666,
             "#ed7953"
            ],
            [
             0.7777777777777778,
             "#fb9f3a"
            ],
            [
             0.8888888888888888,
             "#fdca26"
            ],
            [
             1,
             "#f0f921"
            ]
           ]
          },
          "colorway": [
           "#636efa",
           "#EF553B",
           "#00cc96",
           "#ab63fa",
           "#FFA15A",
           "#19d3f3",
           "#FF6692",
           "#B6E880",
           "#FF97FF",
           "#FECB52"
          ],
          "font": {
           "color": "#2a3f5f"
          },
          "geo": {
           "bgcolor": "white",
           "lakecolor": "white",
           "landcolor": "#E5ECF6",
           "showlakes": true,
           "showland": true,
           "subunitcolor": "white"
          },
          "hoverlabel": {
           "align": "left"
          },
          "hovermode": "closest",
          "mapbox": {
           "style": "light"
          },
          "paper_bgcolor": "white",
          "plot_bgcolor": "#E5ECF6",
          "polar": {
           "angularaxis": {
            "gridcolor": "white",
            "linecolor": "white",
            "ticks": ""
           },
           "bgcolor": "#E5ECF6",
           "radialaxis": {
            "gridcolor": "white",
            "linecolor": "white",
            "ticks": ""
           }
          },
          "scene": {
           "xaxis": {
            "backgroundcolor": "#E5ECF6",
            "gridcolor": "white",
            "gridwidth": 2,
            "linecolor": "white",
            "showbackground": true,
            "ticks": "",
            "zerolinecolor": "white"
           },
           "yaxis": {
            "backgroundcolor": "#E5ECF6",
            "gridcolor": "white",
            "gridwidth": 2,
            "linecolor": "white",
            "showbackground": true,
            "ticks": "",
            "zerolinecolor": "white"
           },
           "zaxis": {
            "backgroundcolor": "#E5ECF6",
            "gridcolor": "white",
            "gridwidth": 2,
            "linecolor": "white",
            "showbackground": true,
            "ticks": "",
            "zerolinecolor": "white"
           }
          },
          "shapedefaults": {
           "line": {
            "color": "#2a3f5f"
           }
          },
          "ternary": {
           "aaxis": {
            "gridcolor": "white",
            "linecolor": "white",
            "ticks": ""
           },
           "baxis": {
            "gridcolor": "white",
            "linecolor": "white",
            "ticks": ""
           },
           "bgcolor": "#E5ECF6",
           "caxis": {
            "gridcolor": "white",
            "linecolor": "white",
            "ticks": ""
           }
          },
          "title": {
           "x": 0.05
          },
          "xaxis": {
           "automargin": true,
           "gridcolor": "white",
           "linecolor": "white",
           "ticks": "",
           "title": {
            "standoff": 15
           },
           "zerolinecolor": "white",
           "zerolinewidth": 2
          },
          "yaxis": {
           "automargin": true,
           "gridcolor": "white",
           "linecolor": "white",
           "ticks": "",
           "title": {
            "standoff": 15
           },
           "zerolinecolor": "white",
           "zerolinewidth": 2
          }
         }
        },
        "title": {
         "text": "BMNM_8",
         "x": 0.5,
         "xanchor": "center",
         "y": 0.9,
         "yanchor": "top"
        },
        "updatemenus": [
         {
          "buttons": [
           {
            "args": [
             {
              "scene.annotations": [
               {
                "font": {
                 "color": "blue"
                },
                "showarrow": false,
                "text": "1",
                "x": 0.635329,
                "y": -0.160721,
                "yshift": 15,
                "z": 0.38155
               },
               {
                "font": {
                 "color": "blue"
                },
                "showarrow": false,
                "text": "2",
                "x": 1.162885,
                "y": -1.382196,
                "yshift": 15,
                "z": 0.628066
               },
               {
                "font": {
                 "color": "blue"
                },
                "showarrow": false,
                "text": "3",
                "x": 2.322229,
                "y": -1.159496,
                "yshift": 15,
                "z": 1.45328
               },
               {
                "font": {
                 "color": "blue"
                },
                "showarrow": false,
                "text": "4",
                "x": 2.470072,
                "y": 0.385454,
                "yshift": 15,
                "z": 1.416553
               },
               {
                "font": {
                 "color": "blue"
                },
                "showarrow": false,
                "text": "5",
                "x": 1.232968,
                "y": 0.870154,
                "yshift": 15,
                "z": 0.792498
               },
               {
                "font": {
                 "color": "blue"
                },
                "showarrow": false,
                "text": "6",
                "x": -1.232968,
                "y": 0.870154,
                "yshift": 15,
                "z": -0.792498
               },
               {
                "font": {
                 "color": "blue"
                },
                "showarrow": false,
                "text": "7",
                "x": -1.162884,
                "y": -1.382196,
                "yshift": 15,
                "z": -0.628066
               },
               {
                "font": {
                 "color": "blue"
                },
                "showarrow": false,
                "text": "8",
                "x": -0.635328,
                "y": -0.160721,
                "yshift": 15,
                "z": -0.381551
               },
               {
                "font": {
                 "color": "blue"
                },
                "showarrow": false,
                "text": "9",
                "x": -2.322229,
                "y": -1.159495,
                "yshift": 15,
                "z": -1.45328
               },
               {
                "font": {
                 "color": "blue"
                },
                "showarrow": false,
                "text": "10",
                "x": -2.470072,
                "y": 0.385454,
                "yshift": 15,
                "z": -1.416553
               },
               {
                "font": {
                 "color": "blue"
                },
                "showarrow": false,
                "text": "11",
                "x": 2.098921,
                "y": -1.567379,
                "yshift": 15,
                "z": 2.438184
               },
               {
                "font": {
                 "color": "blue"
                },
                "showarrow": false,
                "text": "12",
                "x": -2.098921,
                "y": -1.567379,
                "yshift": 15,
                "z": -2.438184
               },
               {
                "font": {
                 "color": "blue"
                },
                "showarrow": false,
                "text": "13",
                "x": 2.588194,
                "y": 0.844149,
                "yshift": 15,
                "z": 2.398496
               },
               {
                "font": {
                 "color": "blue"
                },
                "showarrow": false,
                "text": "14",
                "x": -2.588194,
                "y": 0.844149,
                "yshift": 15,
                "z": -2.398496
               },
               {
                "font": {
                 "color": "blue"
                },
                "showarrow": false,
                "text": "15",
                "x": 3.57959,
                "y": -1.764207,
                "yshift": 15,
                "z": 0.82234
               },
               {
                "font": {
                 "color": "blue"
                },
                "showarrow": false,
                "text": "16",
                "x": 4.270694,
                "y": -0.58888,
                "yshift": 15,
                "z": 0.177516
               },
               {
                "font": {
                 "color": "blue"
                },
                "showarrow": false,
                "text": "17",
                "x": -3.67033,
                "y": 0.612959,
                "yshift": 15,
                "z": -0.52968
               },
               {
                "font": {
                 "color": "blue"
                },
                "showarrow": false,
                "text": "18",
                "x": 4.1523,
                "y": 1.821385,
                "yshift": 15,
                "z": 0.05156
               },
               {
                "font": {
                 "color": "blue"
                },
                "showarrow": false,
                "text": "19",
                "x": 3.659732,
                "y": 2.748965,
                "yshift": 15,
                "z": 0.314907
               },
               {
                "font": {
                 "color": "blue"
                },
                "showarrow": false,
                "text": "20",
                "x": 3.67033,
                "y": 0.612959,
                "yshift": 15,
                "z": 0.529681
               },
               {
                "font": {
                 "color": "blue"
                },
                "showarrow": false,
                "text": "21",
                "x": 5.851754,
                "y": -1.528183,
                "yshift": 15,
                "z": -0.940076
               },
               {
                "font": {
                 "color": "blue"
                },
                "showarrow": false,
                "text": "22",
                "x": 5.870256,
                "y": 0.612513,
                "yshift": 15,
                "z": -1.134579
               },
               {
                "font": {
                 "color": "blue"
                },
                "showarrow": false,
                "text": "23",
                "x": 5.260957,
                "y": 1.814062,
                "yshift": 15,
                "z": -0.783266
               },
               {
                "font": {
                 "color": "blue"
                },
                "showarrow": false,
                "text": "24",
                "x": 3.314345,
                "y": -2.54841,
                "yshift": 15,
                "z": 0.112542
               },
               {
                "font": {
                 "color": "blue"
                },
                "showarrow": false,
                "text": "25",
                "x": 4.211311,
                "y": -2.216257,
                "yshift": 15,
                "z": 1.590235
               },
               {
                "font": {
                 "color": "blue"
                },
                "showarrow": false,
                "text": "26",
                "x": 5.651579,
                "y": 2.746612,
                "yshift": 15,
                "z": -1.169194
               },
               {
                "font": {
                 "color": "blue"
                },
                "showarrow": false,
                "text": "27",
                "x": 6.732271,
                "y": 0.620502,
                "yshift": 15,
                "z": -1.789161
               },
               {
                "font": {
                 "color": "blue"
                },
                "showarrow": false,
                "text": "28",
                "x": -3.579589,
                "y": -1.764207,
                "yshift": 15,
                "z": -0.82234
               },
               {
                "font": {
                 "color": "blue"
                },
                "showarrow": false,
                "text": "29",
                "x": -4.270694,
                "y": -0.58888,
                "yshift": 15,
                "z": -0.177516
               },
               {
                "font": {
                 "color": "blue"
                },
                "showarrow": false,
                "text": "30",
                "x": 5.378357,
                "y": -0.595321,
                "yshift": 15,
                "z": -0.658435
               },
               {
                "font": {
                 "color": "blue"
                },
                "showarrow": false,
                "text": "31",
                "x": -4.152301,
                "y": 1.821385,
                "yshift": 15,
                "z": -0.05156
               },
               {
                "font": {
                 "color": "blue"
                },
                "showarrow": false,
                "text": "32",
                "x": -3.659732,
                "y": 2.748965,
                "yshift": 15,
                "z": -0.314907
               },
               {
                "font": {
                 "color": "blue"
                },
                "showarrow": false,
                "text": "33",
                "x": -5.378357,
                "y": -0.595321,
                "yshift": 15,
                "z": 0.658435
               },
               {
                "font": {
                 "color": "blue"
                },
                "showarrow": false,
                "text": "34",
                "x": -5.851754,
                "y": -1.528183,
                "yshift": 15,
                "z": 0.940076
               },
               {
                "font": {
                 "color": "blue"
                },
                "showarrow": false,
                "text": "35",
                "x": -5.870256,
                "y": 0.612512,
                "yshift": 15,
                "z": 1.134579
               },
               {
                "font": {
                 "color": "blue"
                },
                "showarrow": false,
                "text": "36",
                "x": -6.732271,
                "y": 0.620502,
                "yshift": 15,
                "z": 1.789161
               },
               {
                "font": {
                 "color": "blue"
                },
                "showarrow": false,
                "text": "37",
                "x": -5.260957,
                "y": 1.814062,
                "yshift": 15,
                "z": 0.783266
               },
               {
                "font": {
                 "color": "blue"
                },
                "showarrow": false,
                "text": "38",
                "x": -5.651579,
                "y": 2.746612,
                "yshift": 15,
                "z": 1.169194
               },
               {
                "font": {
                 "color": "blue"
                },
                "showarrow": false,
                "text": "39",
                "x": -4.211311,
                "y": -2.216257,
                "yshift": 15,
                "z": -1.590234
               },
               {
                "font": {
                 "color": "blue"
                },
                "showarrow": false,
                "text": "40",
                "x": -3.314345,
                "y": -2.54841,
                "yshift": 15,
                "z": -0.112542
               }
              ]
             }
            ],
            "label": "Atom indices",
            "method": "relayout"
           },
           {
            "args": [
             {
              "scene.annotations": [
               {
                "showarrow": false,
                "text": "1.35",
                "x": 0.899107,
                "y": -0.7714585,
                "yshift": 10,
                "z": 0.504808
               },
               {
                "showarrow": false,
                "text": "1.44",
                "x": 1.7425570000000001,
                "y": -1.2708460000000001,
                "yshift": 10,
                "z": 1.040673
               },
               {
                "showarrow": false,
                "text": "1.55",
                "x": 2.3961505,
                "y": -0.38702100000000006,
                "yshift": 10,
                "z": 1.4349165
               },
               {
                "showarrow": false,
                "text": "1.47",
                "x": 1.85152,
                "y": 0.627804,
                "yshift": 10,
                "z": 1.1045255
               },
               {
                "showarrow": false,
                "text": "1.35",
                "x": -0.899106,
                "y": -0.7714585,
                "yshift": 10,
                "z": -0.5048085
               },
               {
                "showarrow": false,
                "text": "1.55",
                "x": -2.3961505,
                "y": -0.3870205,
                "yshift": 10,
                "z": -1.4349165
               },
               {
                "showarrow": false,
                "text": "1.51",
                "x": 3.925142,
                "y": -1.1765435,
                "yshift": 10,
                "z": 0.499928
               },
               {
                "showarrow": false,
                "text": "1.08",
                "x": 3.906016,
                "y": 2.285175,
                "yshift": 10,
                "z": 0.1832335
               },
               {
                "showarrow": false,
                "text": "1.39",
                "x": 5.5656065,
                "y": 1.2132875,
                "yshift": 10,
                "z": -0.9589225
               },
               {
                "showarrow": false,
                "text": "1.51",
                "x": -3.9251414999999996,
                "y": -1.1765435,
                "yshift": 10,
                "z": -0.499928
               },
               {
                "showarrow": false,
                "text": "1.08",
                "x": -3.9060165,
                "y": 2.285175,
                "yshift": 10,
                "z": -0.1832335
               },
               {
                "showarrow": false,
                "text": "1.08",
                "x": -5.6150555,
                "y": -1.061752,
                "yshift": 10,
                "z": 0.7992555
               },
               {
                "showarrow": false,
                "text": "1.08",
                "x": -6.3012635,
                "y": 0.6165069999999999,
                "yshift": 10,
                "z": 1.46187
               },
               {
                "showarrow": false,
                "text": "1.08",
                "x": -5.456268,
                "y": 2.280337,
                "yshift": 10,
                "z": 0.97623
               },
               {
                "showarrow": false,
                "text": "1.26",
                "x": -0.934148,
                "y": 0.3547165,
                "yshift": 10,
                "z": -0.5870245000000001
               },
               {
                "showarrow": false,
                "text": "1.44",
                "x": -1.7425565,
                "y": -1.2708455,
                "yshift": 10,
                "z": -1.040673
               },
               {
                "showarrow": false,
                "text": "1.39",
                "x": 3.911315,
                "y": 1.2171720000000001,
                "yshift": 10,
                "z": 0.2906205
               },
               {
                "showarrow": false,
                "text": "1.39",
                "x": -5.6243065,
                "y": 0.008595499999999978,
                "yshift": 10,
                "z": 0.8965069999999999
               },
               {
                "showarrow": false,
                "text": "1.39",
                "x": -5.5656065,
                "y": 1.213287,
                "yshift": 10,
                "z": 0.9589225
               },
               {
                "showarrow": false,
                "text": "1.09",
                "x": -2.210575,
                "y": -1.363437,
                "yshift": 10,
                "z": -1.945732
               },
               {
                "showarrow": false,
                "text": "1.08",
                "x": 5.456268,
                "y": 2.280337,
                "yshift": 10,
                "z": -0.97623
               },
               {
                "showarrow": false,
                "text": "1.26",
                "x": 0.9341485,
                "y": 0.3547165,
                "yshift": 10,
                "z": 0.587024
               },
               {
                "showarrow": false,
                "text": "1.47",
                "x": -1.85152,
                "y": 0.627804,
                "yshift": 10,
                "z": -1.1045255
               },
               {
                "showarrow": false,
                "text": "1.09",
                "x": -2.529133,
                "y": 0.6148015,
                "yshift": 10,
                "z": -1.9075245
               },
               {
                "showarrow": false,
                "text": "1.39",
                "x": 3.970512,
                "y": 0.012039500000000036,
                "yshift": 10,
                "z": 0.3535985
               },
               {
                "showarrow": false,
                "text": "1.39",
                "x": -4.8245255,
                "y": -0.5921004999999999,
                "yshift": 10,
                "z": 0.2404595
               },
               {
                "showarrow": false,
                "text": "1.39",
                "x": 4.706628500000001,
                "y": 1.8177235,
                "yshift": 10,
                "z": -0.365853
               },
               {
                "showarrow": false,
                "text": "1.08",
                "x": 6.3012635,
                "y": 0.6165075,
                "yshift": 10,
                "z": -1.46187
               },
               {
                "showarrow": false,
                "text": "1.39",
                "x": -4.7066289999999995,
                "y": 1.8177235,
                "yshift": 10,
                "z": 0.365853
               },
               {
                "showarrow": false,
                "text": "1.48",
                "x": 5.000000000143778e-7,
                "y": -0.160721,
                "yshift": 10,
                "z": -4.999999999866223e-7
               },
               {
                "showarrow": false,
                "text": "1.51",
                "x": -3.070201,
                "y": 0.4992065,
                "yshift": 10,
                "z": -0.9731164999999999
               },
               {
                "showarrow": false,
                "text": "1.09",
                "x": 2.210575,
                "y": -1.3634375,
                "yshift": 10,
                "z": 1.945732
               },
               {
                "showarrow": false,
                "text": "1.39",
                "x": 5.6243065,
                "y": 0.008595999999999993,
                "yshift": 10,
                "z": -0.8965069999999999
               },
               {
                "showarrow": false,
                "text": "1.09",
                "x": 2.529133,
                "y": 0.6148015,
                "yshift": 10,
                "z": 1.9075245
               },
               {
                "showarrow": false,
                "text": "1.09",
                "x": 3.4469675,
                "y": -2.1563085,
                "yshift": 10,
                "z": 0.467441
               },
               {
                "showarrow": false,
                "text": "1.08",
                "x": 5.6150555,
                "y": -1.061752,
                "yshift": 10,
                "z": -0.7992555
               },
               {
                "showarrow": false,
                "text": "1.09",
                "x": 3.8954505,
                "y": -1.9902320000000002,
                "yshift": 10,
                "z": 1.2062875
               },
               {
                "showarrow": false,
                "text": "1.09",
                "x": -3.8954500000000003,
                "y": -1.9902320000000002,
                "yshift": 10,
                "z": -1.2062869999999999
               },
               {
                "showarrow": false,
                "text": "1.53",
                "x": 2.9509095,
                "y": -1.4618515,
                "yshift": 10,
                "z": 1.13781
               },
               {
                "showarrow": false,
                "text": "1.39",
                "x": -3.970512,
                "y": 0.012039500000000036,
                "yshift": 10,
                "z": -0.353598
               },
               {
                "showarrow": false,
                "text": "1.09",
                "x": -3.446967,
                "y": -2.1563085,
                "yshift": 10,
                "z": -0.467441
               },
               {
                "showarrow": false,
                "text": "1.39",
                "x": 4.8245255,
                "y": -0.5921004999999999,
                "yshift": 10,
                "z": -0.2404595
               },
               {
                "showarrow": false,
                "text": "1.39",
                "x": -3.9113154999999997,
                "y": 1.2171720000000001,
                "yshift": 10,
                "z": -0.29062000000000004
               },
               {
                "showarrow": false,
                "text": "1.51",
                "x": 3.070201,
                "y": 0.4992065,
                "yshift": 10,
                "z": 0.973117
               },
               {
                "showarrow": false,
                "text": "1.53",
                "x": -2.9509090000000002,
                "y": -1.461851,
                "yshift": 10,
                "z": -1.13781
               }
              ]
             }
            ],
            "label": "Bond lengths",
            "method": "relayout"
           },
           {
            "args": [
             {
              "scene.annotations": [
               {
                "font": {
                 "color": "blue"
                },
                "showarrow": false,
                "text": "1",
                "x": 0.635329,
                "y": -0.160721,
                "yshift": 15,
                "z": 0.38155
               },
               {
                "font": {
                 "color": "blue"
                },
                "showarrow": false,
                "text": "2",
                "x": 1.162885,
                "y": -1.382196,
                "yshift": 15,
                "z": 0.628066
               },
               {
                "font": {
                 "color": "blue"
                },
                "showarrow": false,
                "text": "3",
                "x": 2.322229,
                "y": -1.159496,
                "yshift": 15,
                "z": 1.45328
               },
               {
                "font": {
                 "color": "blue"
                },
                "showarrow": false,
                "text": "4",
                "x": 2.470072,
                "y": 0.385454,
                "yshift": 15,
                "z": 1.416553
               },
               {
                "font": {
                 "color": "blue"
                },
                "showarrow": false,
                "text": "5",
                "x": 1.232968,
                "y": 0.870154,
                "yshift": 15,
                "z": 0.792498
               },
               {
                "font": {
                 "color": "blue"
                },
                "showarrow": false,
                "text": "6",
                "x": -1.232968,
                "y": 0.870154,
                "yshift": 15,
                "z": -0.792498
               },
               {
                "font": {
                 "color": "blue"
                },
                "showarrow": false,
                "text": "7",
                "x": -1.162884,
                "y": -1.382196,
                "yshift": 15,
                "z": -0.628066
               },
               {
                "font": {
                 "color": "blue"
                },
                "showarrow": false,
                "text": "8",
                "x": -0.635328,
                "y": -0.160721,
                "yshift": 15,
                "z": -0.381551
               },
               {
                "font": {
                 "color": "blue"
                },
                "showarrow": false,
                "text": "9",
                "x": -2.322229,
                "y": -1.159495,
                "yshift": 15,
                "z": -1.45328
               },
               {
                "font": {
                 "color": "blue"
                },
                "showarrow": false,
                "text": "10",
                "x": -2.470072,
                "y": 0.385454,
                "yshift": 15,
                "z": -1.416553
               },
               {
                "font": {
                 "color": "blue"
                },
                "showarrow": false,
                "text": "11",
                "x": 2.098921,
                "y": -1.567379,
                "yshift": 15,
                "z": 2.438184
               },
               {
                "font": {
                 "color": "blue"
                },
                "showarrow": false,
                "text": "12",
                "x": -2.098921,
                "y": -1.567379,
                "yshift": 15,
                "z": -2.438184
               },
               {
                "font": {
                 "color": "blue"
                },
                "showarrow": false,
                "text": "13",
                "x": 2.588194,
                "y": 0.844149,
                "yshift": 15,
                "z": 2.398496
               },
               {
                "font": {
                 "color": "blue"
                },
                "showarrow": false,
                "text": "14",
                "x": -2.588194,
                "y": 0.844149,
                "yshift": 15,
                "z": -2.398496
               },
               {
                "font": {
                 "color": "blue"
                },
                "showarrow": false,
                "text": "15",
                "x": 3.57959,
                "y": -1.764207,
                "yshift": 15,
                "z": 0.82234
               },
               {
                "font": {
                 "color": "blue"
                },
                "showarrow": false,
                "text": "16",
                "x": 4.270694,
                "y": -0.58888,
                "yshift": 15,
                "z": 0.177516
               },
               {
                "font": {
                 "color": "blue"
                },
                "showarrow": false,
                "text": "17",
                "x": -3.67033,
                "y": 0.612959,
                "yshift": 15,
                "z": -0.52968
               },
               {
                "font": {
                 "color": "blue"
                },
                "showarrow": false,
                "text": "18",
                "x": 4.1523,
                "y": 1.821385,
                "yshift": 15,
                "z": 0.05156
               },
               {
                "font": {
                 "color": "blue"
                },
                "showarrow": false,
                "text": "19",
                "x": 3.659732,
                "y": 2.748965,
                "yshift": 15,
                "z": 0.314907
               },
               {
                "font": {
                 "color": "blue"
                },
                "showarrow": false,
                "text": "20",
                "x": 3.67033,
                "y": 0.612959,
                "yshift": 15,
                "z": 0.529681
               },
               {
                "font": {
                 "color": "blue"
                },
                "showarrow": false,
                "text": "21",
                "x": 5.851754,
                "y": -1.528183,
                "yshift": 15,
                "z": -0.940076
               },
               {
                "font": {
                 "color": "blue"
                },
                "showarrow": false,
                "text": "22",
                "x": 5.870256,
                "y": 0.612513,
                "yshift": 15,
                "z": -1.134579
               },
               {
                "font": {
                 "color": "blue"
                },
                "showarrow": false,
                "text": "23",
                "x": 5.260957,
                "y": 1.814062,
                "yshift": 15,
                "z": -0.783266
               },
               {
                "font": {
                 "color": "blue"
                },
                "showarrow": false,
                "text": "24",
                "x": 3.314345,
                "y": -2.54841,
                "yshift": 15,
                "z": 0.112542
               },
               {
                "font": {
                 "color": "blue"
                },
                "showarrow": false,
                "text": "25",
                "x": 4.211311,
                "y": -2.216257,
                "yshift": 15,
                "z": 1.590235
               },
               {
                "font": {
                 "color": "blue"
                },
                "showarrow": false,
                "text": "26",
                "x": 5.651579,
                "y": 2.746612,
                "yshift": 15,
                "z": -1.169194
               },
               {
                "font": {
                 "color": "blue"
                },
                "showarrow": false,
                "text": "27",
                "x": 6.732271,
                "y": 0.620502,
                "yshift": 15,
                "z": -1.789161
               },
               {
                "font": {
                 "color": "blue"
                },
                "showarrow": false,
                "text": "28",
                "x": -3.579589,
                "y": -1.764207,
                "yshift": 15,
                "z": -0.82234
               },
               {
                "font": {
                 "color": "blue"
                },
                "showarrow": false,
                "text": "29",
                "x": -4.270694,
                "y": -0.58888,
                "yshift": 15,
                "z": -0.177516
               },
               {
                "font": {
                 "color": "blue"
                },
                "showarrow": false,
                "text": "30",
                "x": 5.378357,
                "y": -0.595321,
                "yshift": 15,
                "z": -0.658435
               },
               {
                "font": {
                 "color": "blue"
                },
                "showarrow": false,
                "text": "31",
                "x": -4.152301,
                "y": 1.821385,
                "yshift": 15,
                "z": -0.05156
               },
               {
                "font": {
                 "color": "blue"
                },
                "showarrow": false,
                "text": "32",
                "x": -3.659732,
                "y": 2.748965,
                "yshift": 15,
                "z": -0.314907
               },
               {
                "font": {
                 "color": "blue"
                },
                "showarrow": false,
                "text": "33",
                "x": -5.378357,
                "y": -0.595321,
                "yshift": 15,
                "z": 0.658435
               },
               {
                "font": {
                 "color": "blue"
                },
                "showarrow": false,
                "text": "34",
                "x": -5.851754,
                "y": -1.528183,
                "yshift": 15,
                "z": 0.940076
               },
               {
                "font": {
                 "color": "blue"
                },
                "showarrow": false,
                "text": "35",
                "x": -5.870256,
                "y": 0.612512,
                "yshift": 15,
                "z": 1.134579
               },
               {
                "font": {
                 "color": "blue"
                },
                "showarrow": false,
                "text": "36",
                "x": -6.732271,
                "y": 0.620502,
                "yshift": 15,
                "z": 1.789161
               },
               {
                "font": {
                 "color": "blue"
                },
                "showarrow": false,
                "text": "37",
                "x": -5.260957,
                "y": 1.814062,
                "yshift": 15,
                "z": 0.783266
               },
               {
                "font": {
                 "color": "blue"
                },
                "showarrow": false,
                "text": "38",
                "x": -5.651579,
                "y": 2.746612,
                "yshift": 15,
                "z": 1.169194
               },
               {
                "font": {
                 "color": "blue"
                },
                "showarrow": false,
                "text": "39",
                "x": -4.211311,
                "y": -2.216257,
                "yshift": 15,
                "z": -1.590234
               },
               {
                "font": {
                 "color": "blue"
                },
                "showarrow": false,
                "text": "40",
                "x": -3.314345,
                "y": -2.54841,
                "yshift": 15,
                "z": -0.112542
               },
               {
                "showarrow": false,
                "text": "1.35",
                "x": 0.899107,
                "y": -0.7714585,
                "yshift": 10,
                "z": 0.504808
               },
               {
                "showarrow": false,
                "text": "1.44",
                "x": 1.7425570000000001,
                "y": -1.2708460000000001,
                "yshift": 10,
                "z": 1.040673
               },
               {
                "showarrow": false,
                "text": "1.55",
                "x": 2.3961505,
                "y": -0.38702100000000006,
                "yshift": 10,
                "z": 1.4349165
               },
               {
                "showarrow": false,
                "text": "1.47",
                "x": 1.85152,
                "y": 0.627804,
                "yshift": 10,
                "z": 1.1045255
               },
               {
                "showarrow": false,
                "text": "1.35",
                "x": -0.899106,
                "y": -0.7714585,
                "yshift": 10,
                "z": -0.5048085
               },
               {
                "showarrow": false,
                "text": "1.55",
                "x": -2.3961505,
                "y": -0.3870205,
                "yshift": 10,
                "z": -1.4349165
               },
               {
                "showarrow": false,
                "text": "1.51",
                "x": 3.925142,
                "y": -1.1765435,
                "yshift": 10,
                "z": 0.499928
               },
               {
                "showarrow": false,
                "text": "1.08",
                "x": 3.906016,
                "y": 2.285175,
                "yshift": 10,
                "z": 0.1832335
               },
               {
                "showarrow": false,
                "text": "1.39",
                "x": 5.5656065,
                "y": 1.2132875,
                "yshift": 10,
                "z": -0.9589225
               },
               {
                "showarrow": false,
                "text": "1.51",
                "x": -3.9251414999999996,
                "y": -1.1765435,
                "yshift": 10,
                "z": -0.499928
               },
               {
                "showarrow": false,
                "text": "1.08",
                "x": -3.9060165,
                "y": 2.285175,
                "yshift": 10,
                "z": -0.1832335
               },
               {
                "showarrow": false,
                "text": "1.08",
                "x": -5.6150555,
                "y": -1.061752,
                "yshift": 10,
                "z": 0.7992555
               },
               {
                "showarrow": false,
                "text": "1.08",
                "x": -6.3012635,
                "y": 0.6165069999999999,
                "yshift": 10,
                "z": 1.46187
               },
               {
                "showarrow": false,
                "text": "1.08",
                "x": -5.456268,
                "y": 2.280337,
                "yshift": 10,
                "z": 0.97623
               },
               {
                "showarrow": false,
                "text": "1.26",
                "x": -0.934148,
                "y": 0.3547165,
                "yshift": 10,
                "z": -0.5870245000000001
               },
               {
                "showarrow": false,
                "text": "1.44",
                "x": -1.7425565,
                "y": -1.2708455,
                "yshift": 10,
                "z": -1.040673
               },
               {
                "showarrow": false,
                "text": "1.39",
                "x": 3.911315,
                "y": 1.2171720000000001,
                "yshift": 10,
                "z": 0.2906205
               },
               {
                "showarrow": false,
                "text": "1.39",
                "x": -5.6243065,
                "y": 0.008595499999999978,
                "yshift": 10,
                "z": 0.8965069999999999
               },
               {
                "showarrow": false,
                "text": "1.39",
                "x": -5.5656065,
                "y": 1.213287,
                "yshift": 10,
                "z": 0.9589225
               },
               {
                "showarrow": false,
                "text": "1.09",
                "x": -2.210575,
                "y": -1.363437,
                "yshift": 10,
                "z": -1.945732
               },
               {
                "showarrow": false,
                "text": "1.08",
                "x": 5.456268,
                "y": 2.280337,
                "yshift": 10,
                "z": -0.97623
               },
               {
                "showarrow": false,
                "text": "1.26",
                "x": 0.9341485,
                "y": 0.3547165,
                "yshift": 10,
                "z": 0.587024
               },
               {
                "showarrow": false,
                "text": "1.47",
                "x": -1.85152,
                "y": 0.627804,
                "yshift": 10,
                "z": -1.1045255
               },
               {
                "showarrow": false,
                "text": "1.09",
                "x": -2.529133,
                "y": 0.6148015,
                "yshift": 10,
                "z": -1.9075245
               },
               {
                "showarrow": false,
                "text": "1.39",
                "x": 3.970512,
                "y": 0.012039500000000036,
                "yshift": 10,
                "z": 0.3535985
               },
               {
                "showarrow": false,
                "text": "1.39",
                "x": -4.8245255,
                "y": -0.5921004999999999,
                "yshift": 10,
                "z": 0.2404595
               },
               {
                "showarrow": false,
                "text": "1.39",
                "x": 4.706628500000001,
                "y": 1.8177235,
                "yshift": 10,
                "z": -0.365853
               },
               {
                "showarrow": false,
                "text": "1.08",
                "x": 6.3012635,
                "y": 0.6165075,
                "yshift": 10,
                "z": -1.46187
               },
               {
                "showarrow": false,
                "text": "1.39",
                "x": -4.7066289999999995,
                "y": 1.8177235,
                "yshift": 10,
                "z": 0.365853
               },
               {
                "showarrow": false,
                "text": "1.48",
                "x": 5.000000000143778e-7,
                "y": -0.160721,
                "yshift": 10,
                "z": -4.999999999866223e-7
               },
               {
                "showarrow": false,
                "text": "1.51",
                "x": -3.070201,
                "y": 0.4992065,
                "yshift": 10,
                "z": -0.9731164999999999
               },
               {
                "showarrow": false,
                "text": "1.09",
                "x": 2.210575,
                "y": -1.3634375,
                "yshift": 10,
                "z": 1.945732
               },
               {
                "showarrow": false,
                "text": "1.39",
                "x": 5.6243065,
                "y": 0.008595999999999993,
                "yshift": 10,
                "z": -0.8965069999999999
               },
               {
                "showarrow": false,
                "text": "1.09",
                "x": 2.529133,
                "y": 0.6148015,
                "yshift": 10,
                "z": 1.9075245
               },
               {
                "showarrow": false,
                "text": "1.09",
                "x": 3.4469675,
                "y": -2.1563085,
                "yshift": 10,
                "z": 0.467441
               },
               {
                "showarrow": false,
                "text": "1.08",
                "x": 5.6150555,
                "y": -1.061752,
                "yshift": 10,
                "z": -0.7992555
               },
               {
                "showarrow": false,
                "text": "1.09",
                "x": 3.8954505,
                "y": -1.9902320000000002,
                "yshift": 10,
                "z": 1.2062875
               },
               {
                "showarrow": false,
                "text": "1.09",
                "x": -3.8954500000000003,
                "y": -1.9902320000000002,
                "yshift": 10,
                "z": -1.2062869999999999
               },
               {
                "showarrow": false,
                "text": "1.53",
                "x": 2.9509095,
                "y": -1.4618515,
                "yshift": 10,
                "z": 1.13781
               },
               {
                "showarrow": false,
                "text": "1.39",
                "x": -3.970512,
                "y": 0.012039500000000036,
                "yshift": 10,
                "z": -0.353598
               },
               {
                "showarrow": false,
                "text": "1.09",
                "x": -3.446967,
                "y": -2.1563085,
                "yshift": 10,
                "z": -0.467441
               },
               {
                "showarrow": false,
                "text": "1.39",
                "x": 4.8245255,
                "y": -0.5921004999999999,
                "yshift": 10,
                "z": -0.2404595
               },
               {
                "showarrow": false,
                "text": "1.39",
                "x": -3.9113154999999997,
                "y": 1.2171720000000001,
                "yshift": 10,
                "z": -0.29062000000000004
               },
               {
                "showarrow": false,
                "text": "1.51",
                "x": 3.070201,
                "y": 0.4992065,
                "yshift": 10,
                "z": 0.973117
               },
               {
                "showarrow": false,
                "text": "1.53",
                "x": -2.9509090000000002,
                "y": -1.461851,
                "yshift": 10,
                "z": -1.13781
               }
              ]
             }
            ],
            "label": "Both",
            "method": "relayout"
           },
           {
            "args": [
             {
              "scene.annotations": []
             }
            ],
            "label": "Hide all",
            "method": "relayout"
           },
           {
            "args": [
             {
              "visible": [
               true,
               true,
               true,
               true,
               true,
               true
              ]
             },
             {}
            ],
            "label": "Show dipole",
            "method": "update"
           },
           {
            "args": [
             {
              "visible": [
               true,
               true,
               false,
               false,
               false,
               false
              ]
             },
             {}
            ],
            "label": "Hide dipole",
            "method": "update"
           }
          ],
          "direction": "down",
          "xanchor": "left",
          "yanchor": "top"
         }
        ]
       }
      }
     },
     "metadata": {},
     "output_type": "display_data"
    }
   ],
   "source": [
    "mols.visualize_molecules([0])"
   ]
  },
  {
   "cell_type": "code",
   "execution_count": 90,
   "metadata": {},
   "outputs": [
    {
     "name": "stdout",
     "output_type": "stream",
     "text": [
      "Calculating stretch vibration for atoms [6, 8] with threshold 1700 \n",
      " Remember : ALWAYS LOOK AT THE RESULTING VIBRATION\n",
      "Directionality check: [0.23 0.45 0.16] vs [ 0.23 -0.45  0.16] ===> -0.4412811387900355\n",
      "Directionality check: [-0.39 -0.35 -0.25] vs [ 0.39 -0.35  0.25] ===> -0.27321269652921987\n",
      "Directionality check: [-0.2  -0.31 -0.14] vs [-0.2   0.31 -0.14] ===> -0.2344251766217083\n",
      "Directionality check: [0.2  0.27 0.14] vs [-0.2   0.27 -0.14] ===> 0.10037735849056609\n",
      "                        Frequency  Amplitude\n",
      "symmetric_Stretch_6_8   1752.4203   1.152019\n",
      "asymmetric_Stretch_6_8  1783.6602   1.152019 \n",
      "We strongly recommend to visualize the vibration modes to confirm the symmetry/asymmetry.\n",
      "Strech Vibration Error: the following bonds do not exist-check atom numbering in molecule: \n",
      " molecule_6 for [6, 8] \n",
      "\n",
      "Strech Vibration Error: the following bonds do not exist-check atom numbering in molecule: \n",
      " p49 for [6, 8] \n",
      "\n",
      "Strech Vibration Error: the following bonds do not exist-check atom numbering in molecule: \n",
      " thiol_2 (1) for [6, 8] \n",
      "\n"
     ]
    },
    {
     "data": {
      "text/plain": [
       "{'BMNM_8':                         Frequency  Amplitude\n",
       " symmetric_Stretch_6_8   1752.4203   1.152019\n",
       " asymmetric_Stretch_6_8  1783.6602   1.152019,\n",
       " 'molecule_6':             Frequency Amplitude\n",
       " Stretch_6_8       NaN       NaN,\n",
       " 'p49':             Frequency Amplitude\n",
       " Stretch_6_8       NaN       NaN,\n",
       " 'thiol_2 (1)':             Frequency Amplitude\n",
       " Stretch_6_8       NaN       NaN}"
      ]
     },
     "execution_count": 90,
     "metadata": {},
     "output_type": "execute_result"
    }
   ],
   "source": [
    "sss = mols.get_stretch_vibration_dict([6,8], threshold=1700)\n",
    "sss\n",
    "# === Example of using the Molecules class ===\n"
   ]
  },
  {
   "cell_type": "markdown",
   "metadata": {},
   "source": [
    "Now that we see the molecules and atom numbering we can extract features. Remember it need to be numbered the same across the set !"
   ]
  },
  {
   "cell_type": "code",
   "execution_count": 92,
   "metadata": {},
   "outputs": [
    {
     "name": "stdout",
     "output_type": "stream",
     "text": [
      "No benzene ring found.\n",
      "Debug: Found 0 benzene rings\n",
      "     0   1\n",
      "0    1   2\n",
      "1    1   5\n",
      "2    1   8\n",
      "3    2   3\n",
      "4    3   4\n",
      "5    3  11\n",
      "6    3  15\n",
      "7    4   5\n",
      "8    4  13\n",
      "9    4  20\n",
      "10   6   8\n",
      "11   6  10\n",
      "12   7   8\n",
      "13   7   9\n",
      "14   9  10\n",
      "15   9  12\n",
      "16   9  28\n",
      "17  10  14\n",
      "18  10  17\n",
      "19  15  16\n",
      "20  15  24\n",
      "21  15  25\n",
      "22  16  20\n",
      "23  16  30\n",
      "24  17  29\n",
      "25  17  31\n",
      "26  18  19\n",
      "27  18  20\n",
      "28  18  23\n",
      "29  22  23\n",
      "30  22  27\n",
      "31  22  30\n",
      "32  23  26\n",
      "33  28  29\n",
      "34  28  39\n",
      "35  28  40\n",
      "36  29  33\n",
      "37  21  30\n",
      "38  31  32\n",
      "39  31  37\n",
      "40  33  34\n",
      "41  33  35\n",
      "42  35  36\n",
      "43  35  37\n",
      "44  37  38\n",
      "Debug: Rings containing atom 8: []\n",
      "Debug: No rings found containing both atoms 9 and 8\n",
      "[ERROR] Error in get_ring_vibrations (get_benzene_ring_indices): cannot unpack non-iterable NoneType object\n",
      "No benzene ring found.\n",
      "Debug: Found 0 benzene rings\n",
      "    0   1\n",
      "0   1   2\n",
      "1   1  10\n",
      "2   1  11\n",
      "3   2   3\n",
      "4   2   7\n",
      "5   3   4\n",
      "6   3  12\n",
      "7   3  13\n",
      "8   4   5\n",
      "9   4  14\n",
      "10  5   6\n",
      "11  5  15\n",
      "12  6  16\n",
      "13  7   8\n",
      "14  7   9\n",
      "15  9  17\n",
      "Debug: Rings containing atom 8: []\n",
      "Debug: No rings found containing both atoms 9 and 8\n",
      "[ERROR] Error in get_ring_vibrations (get_benzene_ring_indices): cannot unpack non-iterable NoneType object\n",
      "No benzene ring found.\n",
      "Debug: Found 0 benzene rings\n",
      "     0   1\n",
      "0    1   2\n",
      "1    1   6\n",
      "2    1  14\n",
      "3    2   3\n",
      "4    2  15\n",
      "5    3   4\n",
      "6    3  16\n",
      "7    4   5\n",
      "8    4   7\n",
      "9    5   6\n",
      "10   5  17\n",
      "11   6  18\n",
      "12   7   8\n",
      "13   7   9\n",
      "14   9  10\n",
      "15  11  12\n",
      "16  11  19\n",
      "17  11  20\n",
      "18  12  13\n",
      "19  12  14\n",
      "20  14  21\n",
      "21  14  22\n",
      "Debug: Rings containing atom 8: []\n",
      "Debug: No rings found containing both atoms 9 and 8\n",
      "[ERROR] Error in get_ring_vibrations (get_benzene_ring_indices): cannot unpack non-iterable NoneType object\n",
      "No benzene ring found.\n",
      "Debug: Found 0 benzene rings\n",
      "   0   1\n",
      "0  1   2\n",
      "1  1   5\n",
      "2  1   7\n",
      "3  2   3\n",
      "4  2   8\n",
      "5  3   4\n",
      "6  3   9\n",
      "7  4   5\n",
      "8  5   6\n",
      "9  6  10\n",
      "Debug: Rings containing atom 8: []\n",
      "Debug: No rings found containing both atoms 9 and 8\n",
      "[ERROR] Error in get_ring_vibrations (get_benzene_ring_indices): cannot unpack non-iterable NoneType object\n",
      "Error: could not calculate bend vibration for BMNM_8 : Bend Vibration - Atoms do not share a center in molecule BMNM_8 - for atoms [17, 18] check atom numbering in molecule\n",
      "Error: could not calculate bend vibration for molecule_6 : 18\n",
      "Error: could not calculate bend vibration for p49 : Bend Vibration - Atoms do not share a center in molecule p49 - for atoms [17, 18] check atom numbering in molecule\n",
      "Error: could not calculate bend vibration for thiol_2 (1) : 17\n",
      "Error: thiol_2 (1) npa could not be processed: positional indexers are out-of-bounds\n",
      "\n",
      "============================================================\n",
      "🔥 Exception in get_npa_dict\n",
      "  File      : c:\\Users\\edens\\anaconda3\\envs\\labenv\\lib\\site-packages\\pandas\\core\\indexing.py\n",
      "  Function  : _get_list_axis\n",
      "  Line      : 1718\n",
      "  Code      : raise IndexError(\"positional indexers are out-of-bounds\") from err\n",
      "  Type      : IndexError\n",
      "  Message   : positional indexers are out-of-bounds\n",
      "------------------------------------------------------------\n",
      "Error: molecule_6 Dipole could not be processed: index 17 is out of bounds for axis 0 with size 17\n",
      "\n",
      "============================================================\n",
      "🔥 Exception in get_dipole_dict\n",
      "  File      : C:\\Users\\edens\\Documents\\GitHub\\LabCode\\MolFeatures\\M2_data_extractor\\extractor_utils\\dipole_utils.py\n",
      "  Function  : calc_dipole_gaussian\n",
      "  Line      : 135\n",
      "  Code      : new_origin = np.mean(coordinates_array[orig_indices], axis=0)\n",
      "  Type      : IndexError\n",
      "  Message   : index 17 is out of bounds for axis 0 with size 17\n",
      "------------------------------------------------------------\n",
      "Error: p49 Dipole could not be processed: index 22 is out of bounds for axis 0 with size 22\n",
      "\n",
      "============================================================\n",
      "🔥 Exception in get_dipole_dict\n",
      "  File      : C:\\Users\\edens\\Documents\\GitHub\\LabCode\\MolFeatures\\M2_data_extractor\\extractor_utils\\dipole_utils.py\n",
      "  Function  : calc_dipole_gaussian\n",
      "  Line      : 135\n",
      "  Code      : new_origin = np.mean(coordinates_array[orig_indices], axis=0)\n",
      "  Type      : IndexError\n",
      "  Message   : index 22 is out of bounds for axis 0 with size 22\n",
      "------------------------------------------------------------\n",
      "Error: thiol_2 (1) Dipole could not be processed: index 10 is out of bounds for axis 0 with size 10\n",
      "\n",
      "============================================================\n",
      "🔥 Exception in get_dipole_dict\n",
      "  File      : C:\\Users\\edens\\Documents\\GitHub\\LabCode\\MolFeatures\\M2_data_extractor\\extractor_utils\\dipole_utils.py\n",
      "  Function  : calc_dipole_gaussian\n",
      "  Line      : 135\n",
      "  Code      : new_origin = np.mean(coordinates_array[orig_indices], axis=0)\n",
      "  Type      : IndexError\n",
      "  Message   : index 10 is out of bounds for axis 0 with size 10\n",
      "------------------------------------------------------------\n",
      "Processing Sterimol for BMNM_8\n",
      "Error: BMNM_8 sterimol could not be processed: need at least one array to concatenate\n",
      "\n",
      "============================================================\n",
      "🔥 Exception in get_sterimol_dict\n",
      "  File      : c:\\Users\\edens\\anaconda3\\envs\\labenv\\lib\\site-packages\\numpy\\core\\shape_base.py\n",
      "  Function  : vstack\n",
      "  Line      : 289\n",
      "  Code      : return _nx.concatenate(arrs, 0, dtype=dtype, casting=casting)\n",
      "  Type      : ValueError\n",
      "  Message   : need at least one array to concatenate\n",
      "------------------------------------------------------------\n",
      "Processing Sterimol for molecule_6\n",
      "Error: molecule_6 sterimol could not be processed: '[19, 20, 21, 22, 23, 24, 25] not found in axis'\n",
      "\n",
      "============================================================\n",
      "🔥 Exception in get_sterimol_dict\n",
      "  File      : c:\\Users\\edens\\anaconda3\\envs\\labenv\\lib\\site-packages\\pandas\\core\\indexes\\base.py\n",
      "  Function  : drop\n",
      "  Line      : 7069\n",
      "  Code      : raise KeyError(f\"{labels[mask].tolist()} not found in axis\")\n",
      "  Type      : KeyError\n",
      "  Message   : '[19, 20, 21, 22, 23, 24, 25] not found in axis'\n",
      "------------------------------------------------------------\n",
      "Processing Sterimol for p49\n",
      "Error: p49 sterimol could not be processed: '[22, 23, 24, 25] not found in axis'\n",
      "\n",
      "============================================================\n",
      "🔥 Exception in get_sterimol_dict\n",
      "  File      : c:\\Users\\edens\\anaconda3\\envs\\labenv\\lib\\site-packages\\pandas\\core\\indexes\\base.py\n",
      "  Function  : drop\n",
      "  Line      : 7069\n",
      "  Code      : raise KeyError(f\"{labels[mask].tolist()} not found in axis\")\n",
      "  Type      : KeyError\n",
      "  Message   : '[22, 23, 24, 25] not found in axis'\n",
      "------------------------------------------------------------\n",
      "Processing Sterimol for thiol_2 (1)\n",
      "Error: thiol_2 (1) sterimol could not be processed: '[11, 19, 20, 21, 22, 23, 24, 25] not found in axis'\n",
      "\n",
      "============================================================\n",
      "🔥 Exception in get_sterimol_dict\n",
      "  File      : c:\\Users\\edens\\anaconda3\\envs\\labenv\\lib\\site-packages\\pandas\\core\\indexes\\base.py\n",
      "  Function  : drop\n",
      "  Line      : 7069\n",
      "  Code      : raise KeyError(f\"{labels[mask].tolist()} not found in axis\")\n",
      "  Type      : KeyError\n",
      "  Message   : '[11, 19, 20, 21, 22, 23, 24, 25] not found in axis'\n",
      "------------------------------------------------------------\n",
      "Error: thiol_2 (1) Angle could not be processed: index 10 is out of bounds for axis 0 with size 10\n",
      "\n",
      "============================================================\n",
      "🔥 Exception in get_bond_angle_dict\n",
      "  File      : C:\\Users\\edens\\Documents\\GitHub\\LabCode\\MolFeatures\\M2_data_extractor\\extractor_utils\\bond_angle_length_utils.py\n",
      "  Function  : <listcomp>\n",
      "  Line      : 28\n",
      "  Code      : bond_vector=[(coordinates_array[index[0]]-coordinates_array[index[1]]) for index in indices]\n",
      "  Type      : IndexError\n",
      "  Message   : index 10 is out of bounds for axis 0 with size 10\n",
      "------------------------------------------------------------\n",
      "Error: molecule_6 Bond Length could not be processed: index 21 is out of bounds for axis 0 with size 17\n",
      "Error: p49 Bond Length could not be processed: index 22 is out of bounds for axis 0 with size 22\n",
      "Error: thiol_2 (1) Bond Length could not be processed: index 10 is out of bounds for axis 0 with size 10\n"
     ]
    },
    {
     "data": {
      "application/vnd.jupyter.widget-view+json": {
       "model_id": "c43f3740f2124e508b84d0b71341638e",
       "version_major": 2,
       "version_minor": 0
      },
      "text/plain": [
       "interactive(children=(FloatSlider(value=0.9, description='Threshold', max=1.0, step=0.01), Output()), _dom_cla…"
      ]
     },
     "metadata": {},
     "output_type": "display_data"
    },
    {
     "name": "stdout",
     "output_type": "stream",
     "text": [
      "\n",
      "Perfectly correlated feature pairs (|corr|=1):\n",
      "            Feature 1         Feature 2  Correlation  Perfect\n",
      "0    dip_x_NPA_11-6-4        nbo_atom_3          1.0     True\n",
      "1    dip_x_NPA_11-6-4        nbo_atom_5         -1.0     True\n",
      "2    dip_x_NPA_11-6-4       nbo_atom_12         -1.0     True\n",
      "3    dip_x_NPA_11-6-4        nbo_atom_4          1.0     True\n",
      "4    dip_x_NPA_11-6-4       nbo_atom_21         -1.0     True\n",
      "..                ...               ...          ...      ...\n",
      "149        nbo_atom_7      nbo_diff_3-5         -1.0     True\n",
      "150        nbo_atom_7     nbo_diff_5-12         -1.0     True\n",
      "151        nbo_atom_7  angle_[11, 6, 4]          1.0     True\n",
      "152        nbo_atom_7   angle_[6, 4, 5]          1.0     True\n",
      "153        nbo_atom_7               iso         -1.0     True\n",
      "\n",
      "[154 rows x 4 columns]\n",
      "\n",
      "Other highly correlated pairs:\n",
      "              Feature 1         Feature 2  Correlation  Perfect\n",
      "154  dip_y_NPA_10-11-12        nbo_atom_4    -1.000000    False\n",
      "155     dip_z_NPA_4-3-2       nbo_atom_12     1.000000    False\n",
      "156          nbo_atom_5             aniso    -1.000000    False\n",
      "157          nbo_atom_6             aniso    -1.000000    False\n",
      "158         nbo_atom_21             aniso    -1.000000    False\n",
      "..                  ...               ...          ...      ...\n",
      "425     dip_z_NPA_4-5-1      nbo_diff_3-5     0.954760    False\n",
      "426                 iso            energy    -0.953330    False\n",
      "427     dip_x_NPA_4-3-2     nbo_diff_11-5    -0.951918    False\n",
      "428       nbo_diff_11-5  angle_[11, 6, 4]    -0.950495    False\n",
      "429   dip_y_NPA_11-12-5   dip_x_NPA_4-3-2     0.950399    False\n",
      "\n",
      "[276 rows x 4 columns]\n"
     ]
    }
   ],
   "source": [
    "answers_dict = {\n",
    "    \"Ring Vibration atoms - by order -> Pick primary atom and para to it: \\n example: 13,17\": [9, 8],\n",
    "    \"Stretch Threshold\": [1600],\n",
    "    \"Stretching Vibration atoms- enter bonded atom pairs: \\n example: 1,2 4,5\": [],\n",
    "    \"Bend Threshold\": [3000],\n",
    "    \"Bending Vibration atoms - enter atom pairs that have a common atom: \\n example: 4,7\": [17, 18],\n",
    "    \"Center_Atoms Dipole\": [1, 2, 3, 4, 5, 6, 7, 8, 9, 10, 11, 12, 13, 14, 15, 16, 17, 18, 19, 20, 21, 22, 23, 24, 25],\n",
    "    \"Dipole atoms - indices for coordination transformation: \\n example: 4,5,6 - origin, y-axis, new xy plane\": [[11, 6, 4], [10, 11, 12], [11, 12, 5], [4, 5, 1], [4, 3, 2],[1,2,3]],\n",
    "    \"Sub-Atoms NPA\": [1, 3, 5, 11, 8, 12, 14, 4, 6] ,\n",
    "    \"NPA manipulation atoms - Insert atoms to show NPA: \\n example: 1,2,4\": [[11, 6, 4], [10, 11, 12], [11, 12, 5], [4, 5, 1], [4, 3, 2]],\n",
    "    \"charges values - Insert atoms to show charge: \\n example: 1,2,3,4\": [3,5,11,12,4,6,20,21,22,7],\n",
    "    \"charge_diff - Insert atoms to show charge difference: \\n example: 1,2 3,4\": [[3, 5], [5, 12], [11, 5], [3, 11]],\n",
    "    \"Sterimol atoms - Primary axis along: \\n example: 7,8\": [[4,6], [6, 4]],\n",
    "    'drop_atoms - Atoms to drop: \\n example: 1,2,3': [12,20,21,22,23,24,25,26],\n",
    "    \"Bond_length - Atom pairs to calculate difference: \\n example: 1,2 4,5\": [[11, 6], [6, 4], [1, 5], [11, 6],[22,23]],\n",
    "    'Bond_angle - Atom triplets to calculate difference: \\n example: 1,2,3 4,5,6': [[11, 6, 4], [6, 4, 5], [1, 5, 4], [11, 6, 4]],\n",
    "}\n",
    "df=mols.get_molecules_features_set(entry_widgets=answers_dict,answers_list=None)"
   ]
  },
  {
   "cell_type": "code",
   "execution_count": 95,
   "metadata": {},
   "outputs": [
    {
     "data": {
      "image/png": "[encoded data removed]",
      "text/plain": [
       "<Figure size 800x400 with 1 Axes>"
      ]
     },
     "metadata": {},
     "output_type": "display_data"
    },
    {
     "name": "stdout",
     "output_type": "stream",
     "text": [
      "Samples to leave out: [20, 0, 2, 12]\n",
      "Database already exists at: results_added_features_new_version.db\n",
      "Table 'regression_results' has been ensured to exist.\n",
      "linear model selected\n",
      "\n",
      "--- Correlation Report ---\n",
      "Features with correlation above 0.8:\n",
      "['loc_B5_19-18', 'loc_B5_1-5', 'B1_11-6', 'L_4-6', 'B5_20-9', 'loc_B5_6-4', 'B1_19-18', 'B1_20-9', 'L_1-5', 'cross', 'cm5_atom_12', 'dipole_x_10-11-12', 'para_angle', 'B5_6-4', 'bond_length_12-14', 'loc_B5_4-6', 'Amplitude_Stretch_5_4', 'L_11-6', 'cross_angle', 'bite_angle', 'bite_angle_inverted', 'Cross_mag_Bending_22-23', 'loc_B5_20-9', 'B1_4-6', 'total_dipole_5-1-25', 'total_dipole_10-11-12', 'Frequency_Stretch_5_4']\n",
      "\n"
     ]
    },
    {
     "data": {
      "image/png": "[encoded data removed]",
      "text/plain": [
       "<Figure size 600x500 with 2 Axes>"
      ]
     },
     "metadata": {},
     "output_type": "display_data"
    },
    {
     "name": "stdout",
     "output_type": "stream",
     "text": [
      "\n",
      "Correlated features were not dropped.\n",
      "\n",
      "Starting generate_and_display_q2_scatter_plot...\n",
      "Extracting features from model.features_df...\n",
      "Data normalized. Variance: 1.00\n",
      "Using Leave-One-Out cross-validation (LOO)...\n",
      "R2:0.809 Q2: 0.767, MAE: 0.313, RMSD: 0.372 for combination: ['dipole_z_10-11-12', 'hirshfeld_atom_12']\n",
      "Training Set Results: {'r2': 0.8091010052420691, 'Q2': 0.7669550682995583, 'MAE': 0.31342394099480086, 'RMSD': 0.37245115762449743}\n",
      "Calculating cross-validation metrics for 3-fold CV...\n",
      "Data normalized. Variance: 1.00\n",
      "Using 3-Fold cross-validation...\n",
      "3-fold CV metrics: Q2: 0.7772927209328689, MAE: 0.30673947123620293, RMSD: 0.3640966669540886\n",
      "Calculating cross-validation metrics for 5-fold CV...\n",
      "Data normalized. Variance: 1.00\n",
      "Using 5-Fold cross-validation...\n",
      "5-fold CV metrics: Q2: 0.7657072355975673, MAE: 0.3106843490356241, RMSD: 0.37344696615642303\n",
      "Calculating cross-validation metrics for LOOCV...\n",
      "Data normalized. Variance: 1.00\n",
      "Using Leave-One-Out cross-validation (LOO)...\n",
      "LOOCV metrics: Q2: 0.7669550682995583, MAE: 0.31342394099480086, RMSD: 0.37245115762449743\n",
      "Calculating left-out samples prediction and metrics...\n",
      "Left-out samples prediction completed. (array([0.45094732, 1.10462174, 0.87598322, 1.72929569]), array([1.19424346, 0.05850457, 0.65566254, 0.01418289]))\n",
      "Successfully predicted left-out samples: (array([0.45094732, 1.10462174, 0.87598322, 1.72929569]), array([1.19424346, 0.05850457, 0.65566254, 0.01418289]))\n",
      "  Molecule    Actual  Predicted  Error in %\n",
      "0   LS2000  1.645191   0.450947   72.589968\n",
      "1   LS2003  1.163126   1.104622    5.029941\n",
      "2   LS1687  1.531646   0.875983   42.807714\n",
      "3   LS1685  1.743479   1.729296    0.813482\n",
      "R² for left-out predictions: -8.6306\n",
      "MAE for left-out predictions: 0.4806\n",
      "Folds DataFrame prepared:\n",
      "   Q2_3_Fold     MAE_3    RMSD_3  Q2_5_Fold     MAE_5    RMSD_5  Q2_LOOCV  \\\n",
      "0   0.777293  0.306739  0.364097   0.765707  0.310684  0.373447  0.766955   \n",
      "\n",
      "   MAE_LOOCV  RMSD_LOOCV  \n",
      "0   0.313424    0.372451  \n",
      "Calculating fixed margin lines and axis bounds…\n",
      "\n",
      "\n",
      "\n",
      "\n",
      "VIF Table\n",
      "\n",
      "---\n",
      "\n",
      "| variable          |     VIF |\n",
      "|:------------------|--------:|\n",
      "| dipole_z_10-11-12 | 1.00024 |\n",
      "| hirshfeld_atom_12 | 1.00024 |\n",
      "Calculating R^2 value...\n",
      "R^2 value: 0.8091, MAE: 0.2812\n",
      "Retrieving coefficient estimates...\n",
      "Coefficient estimates retrieved:\n",
      "                   Estimate  Std. Error    t value       p value\n",
      "(Intercept)        1.032866    0.070356  14.680502  3.588241e-13\n",
      "dipole_z_10-11-12  0.257126    0.068337   3.762643  1.012368e-03\n",
      "hirshfeld_atom_12  0.607032    0.066934   9.069065  4.672779e-09\n",
      "Calling generate_q2_scatter_plot with computed values...\n"
     ]
    },
    {
     "name": "stderr",
     "output_type": "stream",
     "text": [
      "C:\\Users\\edens\\Documents\\GitHub\\LabCode\\MolFeatures\\M3_modeler\\plot.py:293: UserWarning:\n",
      "\n",
      "No artists with labels found to put in legend.  Note that artists whose label start with an underscore are ignored when legend() is called with no argument.\n",
      "\n"
     ]
    },
    {
     "name": "stdout",
     "output_type": "stream",
     "text": [
      "Plot generated successfully.\n",
      "Finished generate_and_display_q2_scatter_plot.\n"
     ]
    },
    {
     "data": {
      "image/png": "[encoded data removed]",
      "text/plain": [
       "<Figure size 4800x1800 with 1 Axes>"
      ]
     },
     "metadata": {},
     "output_type": "display_data"
    }
   ],
   "source": [
    "\n",
    "\n",
    "os.chdir(r'C:\\Users\\edens\\Documents\\GitHub\\Robert')  # Reset working directory\n",
    "csv_path=r'C:\\Users\\edens\\Documents\\GitHub\\Robert\\added_features_new_version.csv'\n",
    "\n",
    "# csv_path=r'C:\\Users\\edens\\Documents\\GitHub\\lucas_project\\new_update_logs\\added_features_try34.csv'\n",
    "\n",
    "csv_filepaths = {\n",
    "'features_csv_filepath': csv_path,\n",
    "'target_csv_filepath': ''\n",
    "}\n",
    "# ['LS2008','LS1643']\n",
    "# ('B1_B5_angle_4-3', 'L_11-6', 'bond_length_11-12')\n",
    "df=pd.read_csv(csv_path, index_col=0)\n",
    "\n",
    "# df.drop(columns=['Unnamed: 0'], inplace=True, errors='ignore')\n",
    "leave_out = [\n",
    "    \"LS1621\", \"LS1622\",  \"LS1641\", \"LS1642\", \"LS1643\",\n",
    "    \"LS1661\", \"LS1663\", \"LS1715\", \"LS1716\", \"LS1717\",\n",
    "    \"LS1721\", \"LS1723\", \"LS1726\", \"LS1734\", \"LS1736\",\n",
    "    \"LS2000\", \"LS2001\", \"LS2002\", \"LS2003\",  \"LS2007\", \"LS2008\"\n",
    "]\n",
    "y=df['output']\n",
    "leave_out = pick_samples_to_remove_for_distribution(y, n_remove=4, plot=True)\n",
    "print(f\"Samples to leave out: {leave_out}\")\n",
    "# pick 4 random samples to leave out\n",
    "# leave_out = np.random.choice(df.index, size=2, replace=False).tolist()\n",
    "leave_out=['LS2000', 'LS2003', 'LS1687', 'LS1685'] # \n",
    "\n",
    "Regression_model = LinearRegressionModel(csv_filepaths, process_method='one csv', output_name='output', leave_out=leave_out, min_features_num=4, max_features_num=4, metrics=None, return_coefficients=False)\n",
    "\n",
    "features=['dipole_z_10-11-12', 'hirshfeld_atom_12']\n",
    "\n",
    "r=['hirshfeld_atom_4', 'Frequency_Stretch_12_21']\n",
    "# ('B1_B5_angle_4-3', 'L_11-6', 'bond_length_11-12')\n",
    "# x=Regression_model.check_linear_regression_assumptions()\n",
    "# Regression_model.fit_and_evaluate_combinations()\n",
    "plot.generate_and_display_q2_scatter_plot(Regression_model,features)\n"
   ]
  },
  {
   "cell_type": "code",
   "execution_count": null,
   "metadata": {},
   "outputs": [],
   "source": []
  },
  {
   "cell_type": "code",
   "execution_count": 8,
   "metadata": {},
   "outputs": [
    {
     "name": "stdout",
     "output_type": "stream",
     "text": [
      "TreeExplainer failed: The passed model is not callable and cannot be analyzed directly with the given masker! Model: <modeling.LinearRegressionModel object at 0x0000020D8EC72F40>. Falling back to KernelExplainer.\n"
     ]
    },
    {
     "data": {
      "application/vnd.jupyter.widget-view+json": {
       "model_id": "218290640494442fa3a400d49561edd0",
       "version_major": 2,
       "version_minor": 0
      },
      "text/plain": [
       "  0%|          | 0/29 [00:00<?, ?it/s]"
      ]
     },
     "metadata": {},
     "output_type": "display_data"
    },
    {
     "name": "stdout",
     "output_type": "stream",
     "text": [
      "Error creating explainer: The passed model is not callable and cannot be analyzed directly with the given masker! Model: <modeling.LinearRegressionModel object at 0x0000020D8EC72F40>\n"
     ]
    },
    {
     "data": {
      "application/vnd.jupyter.widget-view+json": {
       "model_id": "9938927f6d6244a6b65ec3f98b122b2c",
       "version_major": 2,
       "version_minor": 0
      },
      "text/plain": [
       "  0%|          | 0/29 [00:00<?, ?it/s]"
      ]
     },
     "metadata": {},
     "output_type": "display_data"
    },
    {
     "data": {
      "image/png": "[encoded data removed]",
      "text/plain": [
       "<Figure size 800x230 with 2 Axes>"
      ]
     },
     "metadata": {},
     "output_type": "display_data"
    },
    {
     "name": "stdout",
     "output_type": "stream",
     "text": [
      "Error creating explainer: The passed model is not callable and cannot be analyzed directly with the given masker! Model: <modeling.LinearRegressionModel object at 0x0000020D8EC72F40>\n"
     ]
    },
    {
     "data": {
      "application/vnd.jupyter.widget-view+json": {
       "model_id": "3144c01b5d18438d9d1990eab379f645",
       "version_major": 2,
       "version_minor": 0
      },
      "text/plain": [
       "  0%|          | 0/29 [00:00<?, ?it/s]"
      ]
     },
     "metadata": {},
     "output_type": "display_data"
    },
    {
     "data": {
      "text/plain": [
       "<Figure size 1000x600 with 0 Axes>"
      ]
     },
     "metadata": {},
     "output_type": "display_data"
    },
    {
     "data": {
      "image/png": "[encoded data removed]",
      "text/plain": [
       "<Figure size 600x500 with 1 Axes>"
      ]
     },
     "metadata": {},
     "output_type": "display_data"
    },
    {
     "name": "stdout",
     "output_type": "stream",
     "text": [
      "Error creating explainer: The passed model is not callable and cannot be analyzed directly with the given masker! Model: <modeling.LinearRegressionModel object at 0x0000020D8EC72F40>\n"
     ]
    },
    {
     "data": {
      "application/vnd.jupyter.widget-view+json": {
       "model_id": "1231afbf04ac4baab6d185778e2d83c9",
       "version_major": 2,
       "version_minor": 0
      },
      "text/plain": [
       "  0%|          | 0/29 [00:00<?, ?it/s]"
      ]
     },
     "metadata": {},
     "output_type": "display_data"
    },
    {
     "data": {
      "text/plain": [
       "<Figure size 1000x600 with 0 Axes>"
      ]
     },
     "metadata": {},
     "output_type": "display_data"
    },
    {
     "data": {
      "image/png": "[encoded data removed]",
      "text/plain": [
       "<Figure size 600x500 with 1 Axes>"
      ]
     },
     "metadata": {},
     "output_type": "display_data"
    },
    {
     "data": {
      "text/plain": [
       "{'shap_values': array([[-0.03925619, -0.56858349],\n",
       "        [-0.0311642 ,  0.57777138],\n",
       "        [-0.2031799 ,  1.24180994],\n",
       "        [ 0.10021363,  0.82419601],\n",
       "        [-0.10392413,  0.70555568],\n",
       "        [ 0.34619948,  0.35113943],\n",
       "        [ 0.14267693, -0.17944324],\n",
       "        [ 0.39084588, -0.09842058],\n",
       "        [ 0.51136213, -0.06415957],\n",
       "        [-0.11788542,  0.17497302],\n",
       "        [-0.4577986 ,  0.3019471 ],\n",
       "        [-0.19364126,  0.30738719],\n",
       "        [-0.01063942, -1.27197591],\n",
       "        [ 0.05395548, -0.9382783 ],\n",
       "        [-0.07056745, -0.48015304],\n",
       "        [ 0.01626619, -0.75481986],\n",
       "        [-0.62630992, -0.32435805],\n",
       "        [-0.07721288, -0.43478036],\n",
       "        [-0.35989645, -0.41846008],\n",
       "        [ 0.07835164,  0.10147389],\n",
       "        [-0.08453096, -0.56233317],\n",
       "        [-0.05566563, -0.37493934],\n",
       "        [-0.18812273, -0.34634991],\n",
       "        [ 0.02828253,  0.32810584],\n",
       "        [ 0.6477504 ,  0.25252328],\n",
       "        [ 0.62887476,  0.29222438],\n",
       "        [-0.08809223, -0.5648796 ],\n",
       "        [-0.14651211,  0.73426085],\n",
       "        [-0.09037956,  1.18856647]]),\n",
       " 'mean_shap': array([[0.03925619, 0.56858349],\n",
       "        [0.0311642 , 0.57777138],\n",
       "        [0.2031799 , 1.24180994],\n",
       "        [0.10021363, 0.82419601],\n",
       "        [0.10392413, 0.70555568],\n",
       "        [0.34619948, 0.35113943],\n",
       "        [0.14267693, 0.17944324],\n",
       "        [0.39084588, 0.09842058],\n",
       "        [0.51136213, 0.06415957],\n",
       "        [0.11788542, 0.17497302],\n",
       "        [0.4577986 , 0.3019471 ],\n",
       "        [0.19364126, 0.30738719],\n",
       "        [0.01063942, 1.27197591],\n",
       "        [0.05395548, 0.9382783 ],\n",
       "        [0.07056745, 0.48015304],\n",
       "        [0.01626619, 0.75481986],\n",
       "        [0.62630992, 0.32435805],\n",
       "        [0.07721288, 0.43478036],\n",
       "        [0.35989645, 0.41846008],\n",
       "        [0.07835164, 0.10147389],\n",
       "        [0.08453096, 0.56233317],\n",
       "        [0.05566563, 0.37493934],\n",
       "        [0.18812273, 0.34634991],\n",
       "        [0.02828253, 0.32810584],\n",
       "        [0.6477504 , 0.25252328],\n",
       "        [0.62887476, 0.29222438],\n",
       "        [0.08809223, 0.5648796 ],\n",
       "        [0.14651211, 0.73426085],\n",
       "        [0.09037956, 1.18856647]]),\n",
       " 'feature_importance':              Feature  Mean Absolute SHAP Value  Max Absolute SHAP Value\n",
       " 1  hirshfeld_atom_12                  0.509099                 1.271976\n",
       " 0  dipole_z_10-11-12                  0.203088                 0.647750,\n",
       " 'top_features': ['hirshfeld_atom_12', 'dipole_z_10-11-12'],\n",
       " 'fig_summary': <Figure size 800x230 with 2 Axes>,\n",
       " 'dependence_plots': [<Figure size 1000x600 with 0 Axes>,\n",
       "  <Figure size 1000x600 with 0 Axes>]}"
      ]
     },
     "execution_count": 8,
     "metadata": {},
     "output_type": "execute_result"
    }
   ],
   "source": [
    "plot.analyze_shap_values(Regression_model, Regression_model.features_df[list(features)], feature_names=features, target_name=Regression_model.output_name, n_top_features=10)"
   ]
  },
  {
   "cell_type": "code",
   "execution_count": 9,
   "metadata": {},
   "outputs": [
    {
     "ename": "AttributeError",
     "evalue": "'LinearRegressionModel' object has no attribute 'y'",
     "output_type": "error",
     "traceback": [
      "\u001b[1;31m---------------------------------------------------------------------------\u001b[0m",
      "\u001b[1;31mAttributeError\u001b[0m                            Traceback (most recent call last)",
      "Cell \u001b[1;32mIn[9], line 55\u001b[0m\n\u001b[0;32m     51\u001b[0m         plt\u001b[38;5;241m.\u001b[39mshow()\n\u001b[0;32m     53\u001b[0m     \u001b[38;5;28;01mreturn\u001b[39;00m summary\n\u001b[1;32m---> 55\u001b[0m check_y_distribution(\u001b[43mRegression_model\u001b[49m\u001b[38;5;241;43m.\u001b[39;49m\u001b[43my\u001b[49m, zero_threshold\u001b[38;5;241m=\u001b[39m\u001b[38;5;241m0.25\u001b[39m, plot\u001b[38;5;241m=\u001b[39m\u001b[38;5;28;01mTrue\u001b[39;00m)\n",
      "\u001b[1;31mAttributeError\u001b[0m: 'LinearRegressionModel' object has no attribute 'y'"
     ]
    }
   ],
   "source": [
    "import numpy as np\n",
    "import matplotlib.pyplot as plt\n",
    "\n",
    "def check_y_distribution(y, zero_threshold=0.25, plot=True):\n",
    "    \"\"\"\n",
    "    Check if y values are well-spread for linear regression.\n",
    "\n",
    "    Parameters\n",
    "    ----------\n",
    "    y : array-like\n",
    "        Target values for regression.\n",
    "    zero_threshold : float\n",
    "        Fraction of zeros above which a warning is issued.\n",
    "    plot : bool\n",
    "        If True, plot histogram and boxplot.\n",
    "\n",
    "    Returns\n",
    "    -------\n",
    "    result : dict\n",
    "        Summary statistics and warning flag.\n",
    "    \"\"\"\n",
    "    y = np.array(y)\n",
    "    n_total = len(y)\n",
    "    n_zeros = np.sum(y == 0)\n",
    "    frac_zeros = n_zeros / n_total\n",
    "    summary = {\n",
    "        'n_total': n_total,\n",
    "        'n_zeros': n_zeros,\n",
    "        'frac_zeros': frac_zeros,\n",
    "        'min': float(np.min(y)),\n",
    "        'max': float(np.max(y)),\n",
    "        'mean': float(np.mean(y)),\n",
    "        'std': float(np.std(y)),\n",
    "        'warning': frac_zeros > zero_threshold\n",
    "    }\n",
    "    print(f\"Total values: {n_total}\")\n",
    "    print(f\"Zero values: {n_zeros} ({frac_zeros:.1%})\")\n",
    "    print(f\"Min: {summary['min']:.3f} | Max: {summary['max']:.3f} | Mean: {summary['mean']:.3f} | Std: {summary['std']:.3f}\")\n",
    "    if summary['warning']:\n",
    "        print(f\"⚠️ Warning: {frac_zeros:.1%} of y values are zero! This may bias regression.\")\n",
    "\n",
    "    if plot:\n",
    "        fig, axes = plt.subplots(1, 2, figsize=(10, 4))\n",
    "        axes[0].hist(y, bins=30, color='steelblue', edgecolor='k')\n",
    "        axes[0].set_title('y Value Histogram')\n",
    "        axes[0].set_xlabel('y')\n",
    "        axes[0].set_ylabel('Count')\n",
    "        axes[1].boxplot(y, vert=False)\n",
    "        axes[1].set_title('y Value Boxplot')\n",
    "        plt.tight_layout()\n",
    "        plt.show()\n",
    "\n",
    "    return summary\n",
    "\n",
    "check_y_distribution(Regression_model.y, zero_threshold=0.25, plot=True)"
   ]
  },
  {
   "cell_type": "code",
   "execution_count": null,
   "metadata": {},
   "outputs": [],
   "source": []
  }
 ],
 "metadata": {
  "kernelspec": {
   "display_name": "labenv",
   "language": "python",
   "name": "python3"
  },
  "language_info": {
   "codemirror_mode": {
    "name": "ipython",
    "version": 3
   },
   "file_extension": ".py",
   "mimetype": "text/x-python",
   "name": "python",
   "nbconvert_exporter": "python",
   "pygments_lexer": "ipython3",
   "version": "3.9.18"
  }
 },
 "nbformat": 4,
 "nbformat_minor": 2
}
