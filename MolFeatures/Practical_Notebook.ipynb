{
 "cells": [
  {
   "cell_type": "markdown",
   "metadata": {},
   "source": [
    "This Notebook will go over Feature extraction , some Visualization and Modeling\n",
    "lets start with imports and loading the main class Molecules that works on a directory with feather files,\n",
    "we will use the example in the package.\n",
    "Change ROOT_DIR accordingly.\n"
   ]
  },
  {
   "cell_type": "code",
   "execution_count": 159,
   "metadata": {},
   "outputs": [
    {
     "name": "stdout",
     "output_type": "stream",
     "text": [
      "Molecules Loaded: ['LS1621.feather', 'LS1630.feather', 'LS1641.feather', 'LS1642.feather', 'LS1643.feather', 'LS1687.feather', 'LS1688.feather', 'LS1690.feather', 'LS1695.feather', 'LS1714.feather', 'LS1715.feather', 'LS1717.feather', 'LS1726.feather', 'LS2002.feather', 'LS2003.feather', 'LS2005.feather', 'LS2007.feather'] Failed Molecules: []\n"
     ]
    }
   ],
   "source": [
    "%reset -f\n",
    "%reload_ext autoreload\n",
    "%autoreload 2\n",
    "\n",
    "import os\n",
    "import sys\n",
    "import importlib\n",
    "import numpy as np\n",
    "import pandas as pd\n",
    "\n",
    "# === Setup ===\n",
    "ROOT_DIR = r'C:\\Users\\edens\\Documents\\GitHub\\LabCode\\MolFeatures'\n",
    "sys.path.append(ROOT_DIR)\n",
    "sys.path.append(os.path.join(ROOT_DIR, 'M3_modeler'))\n",
    "sys.path.append(os.path.join(ROOT_DIR, 'M2_data_extractor'))\n",
    "sys.path.append(os.path.join(ROOT_DIR, 'utils'))\n",
    "\n",
    "os.chdir(ROOT_DIR)  # Set working directory\n",
    "\n",
    "# === Clear old module caches ===\n",
    "for module in ['data_extractor', 'feather_extractor', 'gaussian_handler', 'help_functions', 'modeling', 'plot']:\n",
    "    sys.modules.pop(module, None)\n",
    "\n",
    "# === Safe Imports ===\n",
    "try:\n",
    "    from data_extractor import Molecules, extract_connectivity\n",
    "    from feather_extractor import logs_to_feather\n",
    "    import gaussian_handler\n",
    "    from gaussian_handler import feather_file_handler\n",
    "    from help_functions import dict_to_horizontal_df, get_df_from_file\n",
    "    import help_functions\n",
    "    import visualize\n",
    "    from modeling import (\n",
    "        ClassificationModel,\n",
    "        LinearRegressionModel,\n",
    "        fit_and_evaluate_single_combination_regression,\n",
    "        fit_and_evaluate_single_combination_classification\n",
    "    )\n",
    "    import plot\n",
    "except ModuleNotFoundError as e:\n",
    "    print(f\"Module import failed: {e}\")\n",
    "\n",
    "# === Config ===\n",
    "pd.set_option('display.max_columns', None)\n",
    "\n",
    "# === Load molecular data ===\n",
    "feather_path = r'C:\\Users\\edens\\Documents\\GitHub\\lucas_project\\new_feather_substrate\\set1'\n",
    "mols = Molecules(feather_path)\n"
   ]
  },
  {
   "cell_type": "markdown",
   "metadata": {},
   "source": [
    "Great we can see the files Loaded ! \n",
    "lets print the methods for the mols object we created to see what wee can use."
   ]
  },
  {
   "cell_type": "code",
   "execution_count": 2,
   "metadata": {},
   "outputs": [
    {
     "name": "stdout",
     "output_type": "stream",
     "text": [
      "['export_all_xyz', 'extract_all_dfs', 'extract_all_xyz', 'failed_molecules', 'filter_molecules', 'get_bend_vibration_dict', 'get_bond_angle_dict', 'get_bond_length_dict', 'get_charge_df_dict', 'get_charge_diff_df_dict', 'get_dipole_dict', 'get_molecules_comp_set_app', 'get_npa_dict', 'get_ring_vibration_dict', 'get_sterimol_dict', 'get_stretch_vibration_dict', 'molecules', 'molecules_names', 'molecules_path', 'old_molecules', 'old_molecules_names', 'success_molecules', 'visualize_molecules', 'visualize_smallest_molecule', 'visualize_smallest_molecule_morfeus']\n"
     ]
    }
   ],
   "source": [
    "methods=[method for method in dir(mols) if not method.startswith('_')]\n",
    "print(methods)"
   ]
  },
  {
   "cell_type": "code",
   "execution_count": 133,
   "metadata": {},
   "outputs": [],
   "source": [
    "for mol in mols.molecules:\n",
    "    # replace nan in atoms with Pd not NaN\n",
    "    mol.xyz_df['atom'] = mol.xyz_df['atom'].replace('nan', 'Pd')"
   ]
  },
  {
   "cell_type": "markdown",
   "metadata": {},
   "source": [
    "Great now lets use visualize_molecules to see the first molecule of the set.\n"
   ]
  },
  {
   "cell_type": "code",
   "execution_count": 119,
   "metadata": {},
   "outputs": [
    {
     "name": "stdout",
     "output_type": "stream",
     "text": [
      "🔥 atoms: ['C', 'C', 'C', 'N', 'C', 'C', 'C', 'C', 'C', 'N', 'Pd', 'H', 'H', 'H', 'H', 'H', 'C', 'H', 'C', 'C', 'H', 'H', 'H', 'H', 'C', 'H', 'H', 'H', 'C', 'H', 'C', 'H', 'H', 'H', 'H', 'H', 'H', 'C', 'F', 'F', 'F', 'N', 'C', 'C', 'C', 'C', 'H', 'C', 'H', 'C', 'H', 'H', 'O', 'C', 'H', 'H', 'H']\n",
      "🔥 dipole vector: array([-1.0427, -2.1032, -2.0568]) (scaled by 5)\n"
     ]
    },
    {
     "data": {
      "application/vnd.plotly.v1+json": {
       "config": {
        "plotlyServerURL": "https://plot.ly"
       },
       "data": [
        {
         "marker": {
          "color": [
           "black",
           "black",
           "black",
           "blue",
           "black",
           "black",
           "black",
           "black",
           "black",
           "blue",
           "green",
           "white",
           "white",
           "white",
           "white",
           "white",
           "black",
           "white",
           "black",
           "black",
           "white",
           "white",
           "white",
           "white",
           "black",
           "white",
           "white",
           "white",
           "black",
           "white",
           "black",
           "white",
           "white",
           "white",
           "white",
           "white",
           "white",
           "black",
           "green",
           "green",
           "green",
           "blue",
           "black",
           "black",
           "black",
           "black",
           "white",
           "black",
           "white",
           "black",
           "white",
           "white",
           "red",
           "black",
           "white",
           "white",
           "white"
          ],
          "line": {
           "color": "lightgray",
           "width": 2
          },
          "size": 5
         },
         "mode": "markers",
         "name": "atoms",
         "text": [
          "C",
          "C",
          "C",
          "N",
          "C",
          "C",
          "C",
          "C",
          "C",
          "N",
          "Pd",
          "H",
          "H",
          "H",
          "H",
          "H",
          "C",
          "H",
          "C",
          "C",
          "H",
          "H",
          "H",
          "H",
          "C",
          "H",
          "H",
          "H",
          "C",
          "H",
          "C",
          "H",
          "H",
          "H",
          "H",
          "H",
          "H",
          "C",
          "F",
          "F",
          "F",
          "N",
          "C",
          "C",
          "C",
          "C",
          "H",
          "C",
          "H",
          "C",
          "H",
          "H",
          "O",
          "C",
          "H",
          "H",
          "H"
         ],
         "type": "scatter3d",
         "x": [
          -0.16277,
          -1.548824,
          -0.261744,
          0.584545,
          0.217948,
          -0.560534,
          0.007836,
          1.328046,
          2.054352,
          1.516006,
          2.608038,
          -1.589296,
          -0.573604,
          -1.674465,
          -2.378709,
          0.324114,
          -0.198084,
          3.113874,
          4.670591,
          4.598345,
          4.531209,
          5.079811,
          4.947009,
          4.400041,
          1.223626,
          -0.911104,
          1.79931,
          -0.399092,
          -0.911597,
          -1.953752,
          -0.931263,
          1.185543,
          1.7598,
          -0.949127,
          -1.96637,
          -0.424074,
          3.103815,
          2.009367,
          2.201881,
          1.288457,
          3.206102,
          -1.537167,
          -2.724905,
          -3.726849,
          -2.90085,
          -4.899467,
          -3.59049,
          -4.051364,
          -2.128608,
          -5.063558,
          -5.668976,
          -4.206623,
          -6.150144,
          -7.219433,
          -7.621359,
          -7.983957,
          -6.898387
         ],
         "y": [
          -3.005606,
          -2.53052,
          -0.753724,
          -1.737064,
          0.646021,
          1.770812,
          3.025498,
          3.108408,
          1.934941,
          0.740796,
          -1.242655,
          1.680921,
          3.923105,
          -2.639387,
          -3.022449,
          -3.61708,
          -3.811474,
          -2.597307,
          -0.550942,
          -0.839263,
          0.460101,
          -1.260951,
          -1.787617,
          -0.066919,
          -4.139381,
          -3.606981,
          -4.615691,
          -2.084033,
          -3.027404,
          -2.812418,
          -5.128487,
          -4.829741,
          -3.248116,
          -5.733374,
          -4.977508,
          -5.705491,
          1.968865,
          4.429655,
          4.612514,
          5.446585,
          4.465294,
          -1.100513,
          -0.409613,
          -0.215323,
          0.046504,
          0.442914,
          -0.572695,
          0.720337,
          -0.131312,
          0.922478,
          0.579635,
          1.085281,
          1.578212,
          1.789162,
          0.838323,
          2.320321,
          2.396919
         ],
         "z": [
          -0.647043,
          -1.128224,
          -0.518871,
          -0.516787,
          -0.330516,
          -0.547627,
          -0.361785,
          0.028235,
          0.1901,
          0.010434,
          -0.286469,
          -0.86021,
          -0.524665,
          -2.206812,
          -0.62703,
          -1.407086,
          0.674884,
          -0.604535,
          -0.727798,
          0.601979,
          -1.092757,
          -1.433862,
          0.989056,
          1.336175,
          1.133689,
          2.701304,
          0.336561,
          1.982972,
          1.777258,
          1.529164,
          0.40432,
          1.977506,
          1.462405,
          1.311438,
          0.095355,
          -0.371913,
          0.461982,
          0.285455,
          1.592215,
          -0.172667,
          -0.303894,
          -0.771533,
          -0.402897,
          -1.339412,
          0.903616,
          -0.99219,
          -2.352603,
          1.251628,
          1.6428,
          0.306885,
          -1.737219,
          2.257835,
          0.743416,
          -0.16153,
          -0.518325,
          0.396631,
          -1.010512
         ]
        },
        {
         "hoverinfo": "none",
         "line": {
          "color": "black",
          "width": 3
         },
         "mode": "lines",
         "name": "bonds",
         "type": "scatter3d",
         "x": [
          -0.16277,
          -1.548824,
          null,
          -0.261744,
          0.584545,
          null,
          0.217948,
          -0.560534,
          null,
          -0.560534,
          0.007836,
          null,
          0.007836,
          1.328046,
          null,
          2.054352,
          1.328046,
          null,
          2.054352,
          1.516006,
          null,
          1.516006,
          2.608038,
          null,
          4.670591,
          4.598345,
          null,
          -0.399092,
          -0.911597,
          null,
          -0.911597,
          -1.953752,
          null,
          2.009367,
          2.201881,
          null,
          -1.537167,
          -2.724905,
          null,
          -2.724905,
          -3.726849,
          null,
          -6.150144,
          -7.219433,
          null,
          -7.219433,
          -7.621359,
          null,
          -0.261744,
          0.217948,
          null,
          4.670591,
          4.531209,
          null,
          1.223626,
          1.79931,
          null,
          2.009367,
          1.288457,
          null,
          -2.724905,
          -2.90085,
          null,
          -3.726849,
          -4.899467,
          null,
          -5.063558,
          -4.051364,
          null,
          -7.219433,
          -7.983957,
          null,
          -0.16277,
          0.584545,
          null,
          4.670591,
          5.079811,
          null,
          4.598345,
          4.947009,
          null,
          -0.911104,
          -0.911597,
          null,
          -0.949127,
          -0.931263,
          null,
          3.206102,
          2.009367,
          null,
          -3.726849,
          -3.59049,
          null,
          -2.90085,
          -4.051364,
          null,
          -5.063558,
          -6.150144,
          null,
          -6.898387,
          -7.219433,
          null,
          4.598345,
          4.400041,
          null,
          -1.96637,
          -0.931263,
          null,
          -2.128608,
          -2.90085,
          null,
          -5.063558,
          -4.899467,
          null,
          -4.206623,
          -4.051364,
          null,
          1.516006,
          0.217948,
          null,
          -0.424074,
          -0.931263,
          null,
          -5.668976,
          -4.899467,
          null,
          -1.589296,
          -0.560534,
          null,
          -0.573604,
          0.007836,
          null,
          2.608038,
          0.584545,
          null,
          3.113874,
          2.608038,
          null,
          1.223626,
          1.185543,
          null,
          2.608038,
          4.670591,
          null,
          -0.198084,
          1.223626,
          null,
          1.223626,
          1.7598,
          null,
          2.608038,
          4.598345,
          null,
          -1.548824,
          -1.674465,
          null,
          -0.198084,
          -0.911597,
          null,
          -1.548824,
          -2.378709,
          null,
          -0.198084,
          -0.931263,
          null,
          -0.16277,
          0.324114,
          null,
          -0.16277,
          -0.198084,
          null,
          -1.537167,
          -1.548824,
          null,
          -1.537167,
          -0.261744,
          null,
          2.009367,
          1.328046,
          null,
          2.054352,
          3.103815,
          null
         ],
         "y": [
          -3.005606,
          -2.53052,
          null,
          -0.753724,
          -1.737064,
          null,
          0.646021,
          1.770812,
          null,
          1.770812,
          3.025498,
          null,
          3.025498,
          3.108408,
          null,
          1.934941,
          3.108408,
          null,
          1.934941,
          0.740796,
          null,
          0.740796,
          -1.242655,
          null,
          -0.550942,
          -0.839263,
          null,
          -2.084033,
          -3.027404,
          null,
          -3.027404,
          -2.812418,
          null,
          4.429655,
          4.612514,
          null,
          -1.100513,
          -0.409613,
          null,
          -0.409613,
          -0.215323,
          null,
          1.578212,
          1.789162,
          null,
          1.789162,
          0.838323,
          null,
          -0.753724,
          0.646021,
          null,
          -0.550942,
          0.460101,
          null,
          -4.139381,
          -4.615691,
          null,
          4.429655,
          5.446585,
          null,
          -0.409613,
          0.046504,
          null,
          -0.215323,
          0.442914,
          null,
          0.922478,
          0.720337,
          null,
          1.789162,
          2.320321,
          null,
          -3.005606,
          -1.737064,
          null,
          -0.550942,
          -1.260951,
          null,
          -0.839263,
          -1.787617,
          null,
          -3.606981,
          -3.027404,
          null,
          -5.733374,
          -5.128487,
          null,
          4.465294,
          4.429655,
          null,
          -0.215323,
          -0.572695,
          null,
          0.046504,
          0.720337,
          null,
          0.922478,
          1.578212,
          null,
          2.396919,
          1.789162,
          null,
          -0.839263,
          -0.066919,
          null,
          -4.977508,
          -5.128487,
          null,
          -0.131312,
          0.046504,
          null,
          0.922478,
          0.442914,
          null,
          1.085281,
          0.720337,
          null,
          0.740796,
          0.646021,
          null,
          -5.705491,
          -5.128487,
          null,
          0.579635,
          0.442914,
          null,
          1.680921,
          1.770812,
          null,
          3.923105,
          3.025498,
          null,
          -1.242655,
          -1.737064,
          null,
          -2.597307,
          -1.242655,
          null,
          -4.139381,
          -4.829741,
          null,
          -1.242655,
          -0.550942,
          null,
          -3.811474,
          -4.139381,
          null,
          -4.139381,
          -3.248116,
          null,
          -1.242655,
          -0.839263,
          null,
          -2.53052,
          -2.639387,
          null,
          -3.811474,
          -3.027404,
          null,
          -2.53052,
          -3.022449,
          null,
          -3.811474,
          -5.128487,
          null,
          -3.005606,
          -3.61708,
          null,
          -3.005606,
          -3.811474,
          null,
          -1.100513,
          -2.53052,
          null,
          -1.100513,
          -0.753724,
          null,
          4.429655,
          3.108408,
          null,
          1.934941,
          1.968865,
          null
         ],
         "z": [
          -0.647043,
          -1.128224,
          null,
          -0.518871,
          -0.516787,
          null,
          -0.330516,
          -0.547627,
          null,
          -0.547627,
          -0.361785,
          null,
          -0.361785,
          0.028235,
          null,
          0.1901,
          0.028235,
          null,
          0.1901,
          0.010434,
          null,
          0.010434,
          -0.286469,
          null,
          -0.727798,
          0.601979,
          null,
          1.982972,
          1.777258,
          null,
          1.777258,
          1.529164,
          null,
          0.285455,
          1.592215,
          null,
          -0.771533,
          -0.402897,
          null,
          -0.402897,
          -1.339412,
          null,
          0.743416,
          -0.16153,
          null,
          -0.16153,
          -0.518325,
          null,
          -0.518871,
          -0.330516,
          null,
          -0.727798,
          -1.092757,
          null,
          1.133689,
          0.336561,
          null,
          0.285455,
          -0.172667,
          null,
          -0.402897,
          0.903616,
          null,
          -1.339412,
          -0.99219,
          null,
          0.306885,
          1.251628,
          null,
          -0.16153,
          0.396631,
          null,
          -0.647043,
          -0.516787,
          null,
          -0.727798,
          -1.433862,
          null,
          0.601979,
          0.989056,
          null,
          2.701304,
          1.777258,
          null,
          1.311438,
          0.40432,
          null,
          -0.303894,
          0.285455,
          null,
          -1.339412,
          -2.352603,
          null,
          0.903616,
          1.251628,
          null,
          0.306885,
          0.743416,
          null,
          -1.010512,
          -0.16153,
          null,
          0.601979,
          1.336175,
          null,
          0.095355,
          0.40432,
          null,
          1.6428,
          0.903616,
          null,
          0.306885,
          -0.99219,
          null,
          2.257835,
          1.251628,
          null,
          0.010434,
          -0.330516,
          null,
          -0.371913,
          0.40432,
          null,
          -1.737219,
          -0.99219,
          null,
          -0.86021,
          -0.547627,
          null,
          -0.524665,
          -0.361785,
          null,
          -0.286469,
          -0.516787,
          null,
          -0.604535,
          -0.286469,
          null,
          1.133689,
          1.977506,
          null,
          -0.286469,
          -0.727798,
          null,
          0.674884,
          1.133689,
          null,
          1.133689,
          1.462405,
          null,
          -0.286469,
          0.601979,
          null,
          -1.128224,
          -2.206812,
          null,
          0.674884,
          1.777258,
          null,
          -1.128224,
          -0.62703,
          null,
          0.674884,
          0.40432,
          null,
          -0.647043,
          -1.407086,
          null,
          -0.647043,
          0.674884,
          null,
          -0.771533,
          -1.128224,
          null,
          -0.771533,
          -0.518871,
          null,
          0.285455,
          0.028235,
          null,
          0.1901,
          0.461982,
          null
         ]
        },
        {
         "line": {
          "color": "red",
          "width": 8
         },
         "mode": "lines",
         "name": "Dipole X",
         "showlegend": true,
         "type": "scatter3d",
         "visible": false,
         "x": [
          0,
          -5.0634999999999994
         ],
         "y": [
          0,
          0
         ],
         "z": [
          0,
          0
         ]
        },
        {
         "anchor": "tip",
         "colorscale": [
          [
           0,
           "red"
          ],
          [
           1,
           "red"
          ]
         ],
         "name": "Dipole X",
         "showlegend": false,
         "showscale": false,
         "sizemode": "scaled",
         "sizeref": 0.2,
         "type": "cone",
         "u": [
          -5.2135
         ],
         "v": [
          0
         ],
         "visible": false,
         "w": [
          0
         ],
         "x": [
          -5.2135
         ],
         "y": [
          0
         ],
         "z": [
          0
         ]
        },
        {
         "line": {
          "color": "green",
          "width": 8
         },
         "mode": "lines",
         "name": "Dipole Y",
         "showlegend": true,
         "type": "scatter3d",
         "visible": false,
         "x": [
          0,
          0
         ],
         "y": [
          0,
          -10.366000000000001
         ],
         "z": [
          0,
          0
         ]
        },
        {
         "anchor": "tip",
         "colorscale": [
          [
           0,
           "green"
          ],
          [
           1,
           "green"
          ]
         ],
         "name": "Dipole Y",
         "showlegend": false,
         "showscale": false,
         "sizemode": "scaled",
         "sizeref": 0.2,
         "type": "cone",
         "u": [
          0
         ],
         "v": [
          -10.516000000000002
         ],
         "visible": false,
         "w": [
          0
         ],
         "x": [
          0
         ],
         "y": [
          -10.516000000000002
         ],
         "z": [
          0
         ]
        },
        {
         "line": {
          "color": "blue",
          "width": 8
         },
         "mode": "lines",
         "name": "Dipole Z",
         "showlegend": true,
         "type": "scatter3d",
         "visible": false,
         "x": [
          0,
          0
         ],
         "y": [
          0,
          0
         ],
         "z": [
          0,
          -10.133999999999999
         ]
        },
        {
         "anchor": "tip",
         "colorscale": [
          [
           0,
           "blue"
          ],
          [
           1,
           "blue"
          ]
         ],
         "name": "Dipole Z",
         "showlegend": false,
         "showscale": false,
         "sizemode": "scaled",
         "sizeref": 0.2,
         "type": "cone",
         "u": [
          0
         ],
         "v": [
          0
         ],
         "visible": false,
         "w": [
          -10.283999999999999
         ],
         "x": [
          0
         ],
         "y": [
          0
         ],
         "z": [
          -10.283999999999999
         ]
        },
        {
         "line": {
          "color": "purple",
          "width": 8
         },
         "mode": "lines",
         "name": "Total Dipole",
         "showlegend": true,
         "type": "scatter3d",
         "visible": false,
         "x": [
          0,
          -5.163387434506157
         ],
         "y": [
          0,
          -10.414919394124245
         ],
         "z": [
          0,
          -10.18514939607966
         ]
        },
        {
         "anchor": "tip",
         "colorscale": [
          [
           0,
           "purple"
          ],
          [
           1,
           "purple"
          ]
         ],
         "name": "Total Dipole",
         "showlegend": false,
         "showscale": false,
         "sizemode": "scaled",
         "sizeref": 0.2,
         "type": "cone",
         "u": [
          -5.2135
         ],
         "v": [
          -10.516000000000002
         ],
         "visible": false,
         "w": [
          -10.283999999999999
         ],
         "x": [
          -5.2135
         ],
         "y": [
          -10.516000000000002
         ],
         "z": [
          -10.283999999999999
         ]
        }
       ],
       "layout": {
        "margin": {
         "b": 0,
         "l": 0,
         "r": 0,
         "t": 0
        },
        "scene": {
         "annotations": [
          {
           "font": {
            "color": "blue"
           },
           "showarrow": false,
           "text": "1",
           "x": -0.16277,
           "y": -3.005606,
           "yshift": 15,
           "z": -0.647043
          },
          {
           "font": {
            "color": "blue"
           },
           "showarrow": false,
           "text": "2",
           "x": -1.548824,
           "y": -2.53052,
           "yshift": 15,
           "z": -1.128224
          },
          {
           "font": {
            "color": "blue"
           },
           "showarrow": false,
           "text": "3",
           "x": -0.261744,
           "y": -0.753724,
           "yshift": 15,
           "z": -0.518871
          },
          {
           "font": {
            "color": "blue"
           },
           "showarrow": false,
           "text": "4",
           "x": 0.584545,
           "y": -1.737064,
           "yshift": 15,
           "z": -0.516787
          },
          {
           "font": {
            "color": "blue"
           },
           "showarrow": false,
           "text": "5",
           "x": 0.217948,
           "y": 0.646021,
           "yshift": 15,
           "z": -0.330516
          },
          {
           "font": {
            "color": "blue"
           },
           "showarrow": false,
           "text": "6",
           "x": -0.560534,
           "y": 1.770812,
           "yshift": 15,
           "z": -0.547627
          },
          {
           "font": {
            "color": "blue"
           },
           "showarrow": false,
           "text": "7",
           "x": 0.007836,
           "y": 3.025498,
           "yshift": 15,
           "z": -0.361785
          },
          {
           "font": {
            "color": "blue"
           },
           "showarrow": false,
           "text": "8",
           "x": 1.328046,
           "y": 3.108408,
           "yshift": 15,
           "z": 0.028235
          },
          {
           "font": {
            "color": "blue"
           },
           "showarrow": false,
           "text": "9",
           "x": 2.054352,
           "y": 1.934941,
           "yshift": 15,
           "z": 0.1901
          },
          {
           "font": {
            "color": "blue"
           },
           "showarrow": false,
           "text": "10",
           "x": 1.516006,
           "y": 0.740796,
           "yshift": 15,
           "z": 0.010434
          },
          {
           "font": {
            "color": "blue"
           },
           "showarrow": false,
           "text": "11",
           "x": 2.608038,
           "y": -1.242655,
           "yshift": 15,
           "z": -0.286469
          },
          {
           "font": {
            "color": "blue"
           },
           "showarrow": false,
           "text": "12",
           "x": -1.589296,
           "y": 1.680921,
           "yshift": 15,
           "z": -0.86021
          },
          {
           "font": {
            "color": "blue"
           },
           "showarrow": false,
           "text": "13",
           "x": -0.573604,
           "y": 3.923105,
           "yshift": 15,
           "z": -0.524665
          },
          {
           "font": {
            "color": "blue"
           },
           "showarrow": false,
           "text": "14",
           "x": -1.674465,
           "y": -2.639387,
           "yshift": 15,
           "z": -2.206812
          },
          {
           "font": {
            "color": "blue"
           },
           "showarrow": false,
           "text": "15",
           "x": -2.378709,
           "y": -3.022449,
           "yshift": 15,
           "z": -0.62703
          },
          {
           "font": {
            "color": "blue"
           },
           "showarrow": false,
           "text": "16",
           "x": 0.324114,
           "y": -3.61708,
           "yshift": 15,
           "z": -1.407086
          },
          {
           "font": {
            "color": "blue"
           },
           "showarrow": false,
           "text": "17",
           "x": -0.198084,
           "y": -3.811474,
           "yshift": 15,
           "z": 0.674884
          },
          {
           "font": {
            "color": "blue"
           },
           "showarrow": false,
           "text": "18",
           "x": 3.113874,
           "y": -2.597307,
           "yshift": 15,
           "z": -0.604535
          },
          {
           "font": {
            "color": "blue"
           },
           "showarrow": false,
           "text": "19",
           "x": 4.670591,
           "y": -0.550942,
           "yshift": 15,
           "z": -0.727798
          },
          {
           "font": {
            "color": "blue"
           },
           "showarrow": false,
           "text": "20",
           "x": 4.598345,
           "y": -0.839263,
           "yshift": 15,
           "z": 0.601979
          },
          {
           "font": {
            "color": "blue"
           },
           "showarrow": false,
           "text": "21",
           "x": 4.531209,
           "y": 0.460101,
           "yshift": 15,
           "z": -1.092757
          },
          {
           "font": {
            "color": "blue"
           },
           "showarrow": false,
           "text": "22",
           "x": 5.079811,
           "y": -1.260951,
           "yshift": 15,
           "z": -1.433862
          },
          {
           "font": {
            "color": "blue"
           },
           "showarrow": false,
           "text": "23",
           "x": 4.947009,
           "y": -1.787617,
           "yshift": 15,
           "z": 0.989056
          },
          {
           "font": {
            "color": "blue"
           },
           "showarrow": false,
           "text": "24",
           "x": 4.400041,
           "y": -0.066919,
           "yshift": 15,
           "z": 1.336175
          },
          {
           "font": {
            "color": "blue"
           },
           "showarrow": false,
           "text": "25",
           "x": 1.223626,
           "y": -4.139381,
           "yshift": 15,
           "z": 1.133689
          },
          {
           "font": {
            "color": "blue"
           },
           "showarrow": false,
           "text": "26",
           "x": -0.911104,
           "y": -3.606981,
           "yshift": 15,
           "z": 2.701304
          },
          {
           "font": {
            "color": "blue"
           },
           "showarrow": false,
           "text": "27",
           "x": 1.79931,
           "y": -4.615691,
           "yshift": 15,
           "z": 0.336561
          },
          {
           "font": {
            "color": "blue"
           },
           "showarrow": false,
           "text": "28",
           "x": -0.399092,
           "y": -2.084033,
           "yshift": 15,
           "z": 1.982972
          },
          {
           "font": {
            "color": "blue"
           },
           "showarrow": false,
           "text": "29",
           "x": -0.911597,
           "y": -3.027404,
           "yshift": 15,
           "z": 1.777258
          },
          {
           "font": {
            "color": "blue"
           },
           "showarrow": false,
           "text": "30",
           "x": -1.953752,
           "y": -2.812418,
           "yshift": 15,
           "z": 1.529164
          },
          {
           "font": {
            "color": "blue"
           },
           "showarrow": false,
           "text": "31",
           "x": -0.931263,
           "y": -5.128487,
           "yshift": 15,
           "z": 0.40432
          },
          {
           "font": {
            "color": "blue"
           },
           "showarrow": false,
           "text": "32",
           "x": 1.185543,
           "y": -4.829741,
           "yshift": 15,
           "z": 1.977506
          },
          {
           "font": {
            "color": "blue"
           },
           "showarrow": false,
           "text": "33",
           "x": 1.7598,
           "y": -3.248116,
           "yshift": 15,
           "z": 1.462405
          },
          {
           "font": {
            "color": "blue"
           },
           "showarrow": false,
           "text": "34",
           "x": -0.949127,
           "y": -5.733374,
           "yshift": 15,
           "z": 1.311438
          },
          {
           "font": {
            "color": "blue"
           },
           "showarrow": false,
           "text": "35",
           "x": -1.96637,
           "y": -4.977508,
           "yshift": 15,
           "z": 0.095355
          },
          {
           "font": {
            "color": "blue"
           },
           "showarrow": false,
           "text": "36",
           "x": -0.424074,
           "y": -5.705491,
           "yshift": 15,
           "z": -0.371913
          },
          {
           "font": {
            "color": "blue"
           },
           "showarrow": false,
           "text": "37",
           "x": 3.103815,
           "y": 1.968865,
           "yshift": 15,
           "z": 0.461982
          },
          {
           "font": {
            "color": "blue"
           },
           "showarrow": false,
           "text": "38",
           "x": 2.009367,
           "y": 4.429655,
           "yshift": 15,
           "z": 0.285455
          },
          {
           "font": {
            "color": "blue"
           },
           "showarrow": false,
           "text": "39",
           "x": 2.201881,
           "y": 4.612514,
           "yshift": 15,
           "z": 1.592215
          },
          {
           "font": {
            "color": "blue"
           },
           "showarrow": false,
           "text": "40",
           "x": 1.288457,
           "y": 5.446585,
           "yshift": 15,
           "z": -0.172667
          },
          {
           "font": {
            "color": "blue"
           },
           "showarrow": false,
           "text": "41",
           "x": 3.206102,
           "y": 4.465294,
           "yshift": 15,
           "z": -0.303894
          },
          {
           "font": {
            "color": "blue"
           },
           "showarrow": false,
           "text": "42",
           "x": -1.537167,
           "y": -1.100513,
           "yshift": 15,
           "z": -0.771533
          },
          {
           "font": {
            "color": "blue"
           },
           "showarrow": false,
           "text": "43",
           "x": -2.724905,
           "y": -0.409613,
           "yshift": 15,
           "z": -0.402897
          },
          {
           "font": {
            "color": "blue"
           },
           "showarrow": false,
           "text": "44",
           "x": -3.726849,
           "y": -0.215323,
           "yshift": 15,
           "z": -1.339412
          },
          {
           "font": {
            "color": "blue"
           },
           "showarrow": false,
           "text": "45",
           "x": -2.90085,
           "y": 0.046504,
           "yshift": 15,
           "z": 0.903616
          },
          {
           "font": {
            "color": "blue"
           },
           "showarrow": false,
           "text": "46",
           "x": -4.899467,
           "y": 0.442914,
           "yshift": 15,
           "z": -0.99219
          },
          {
           "font": {
            "color": "blue"
           },
           "showarrow": false,
           "text": "47",
           "x": -3.59049,
           "y": -0.572695,
           "yshift": 15,
           "z": -2.352603
          },
          {
           "font": {
            "color": "blue"
           },
           "showarrow": false,
           "text": "48",
           "x": -4.051364,
           "y": 0.720337,
           "yshift": 15,
           "z": 1.251628
          },
          {
           "font": {
            "color": "blue"
           },
           "showarrow": false,
           "text": "49",
           "x": -2.128608,
           "y": -0.131312,
           "yshift": 15,
           "z": 1.6428
          },
          {
           "font": {
            "color": "blue"
           },
           "showarrow": false,
           "text": "50",
           "x": -5.063558,
           "y": 0.922478,
           "yshift": 15,
           "z": 0.306885
          },
          {
           "font": {
            "color": "blue"
           },
           "showarrow": false,
           "text": "51",
           "x": -5.668976,
           "y": 0.579635,
           "yshift": 15,
           "z": -1.737219
          },
          {
           "font": {
            "color": "blue"
           },
           "showarrow": false,
           "text": "52",
           "x": -4.206623,
           "y": 1.085281,
           "yshift": 15,
           "z": 2.257835
          },
          {
           "font": {
            "color": "blue"
           },
           "showarrow": false,
           "text": "53",
           "x": -6.150144,
           "y": 1.578212,
           "yshift": 15,
           "z": 0.743416
          },
          {
           "font": {
            "color": "blue"
           },
           "showarrow": false,
           "text": "54",
           "x": -7.219433,
           "y": 1.789162,
           "yshift": 15,
           "z": -0.16153
          },
          {
           "font": {
            "color": "blue"
           },
           "showarrow": false,
           "text": "55",
           "x": -7.621359,
           "y": 0.838323,
           "yshift": 15,
           "z": -0.518325
          },
          {
           "font": {
            "color": "blue"
           },
           "showarrow": false,
           "text": "56",
           "x": -7.983957,
           "y": 2.320321,
           "yshift": 15,
           "z": 0.396631
          },
          {
           "font": {
            "color": "blue"
           },
           "showarrow": false,
           "text": "57",
           "x": -6.898387,
           "y": 2.396919,
           "yshift": 15,
           "z": -1.010512
          }
         ],
         "xaxis": {
          "showbackground": false,
          "showgrid": false,
          "showticklabels": false,
          "title": {
           "font": {
            "color": "white"
           }
          },
          "zeroline": false
         },
         "yaxis": {
          "showbackground": false,
          "showgrid": false,
          "showticklabels": false,
          "title": {
           "font": {
            "color": "white"
           }
          },
          "zeroline": false
         },
         "zaxis": {
          "showbackground": false,
          "showgrid": false,
          "showticklabels": false,
          "title": {
           "font": {
            "color": "white"
           }
          },
          "zeroline": false
         }
        },
        "showlegend": false,
        "template": {
         "data": {
          "bar": [
           {
            "error_x": {
             "color": "#2a3f5f"
            },
            "error_y": {
             "color": "#2a3f5f"
            },
            "marker": {
             "line": {
              "color": "#E5ECF6",
              "width": 0.5
             },
             "pattern": {
              "fillmode": "overlay",
              "size": 10,
              "solidity": 0.2
             }
            },
            "type": "bar"
           }
          ],
          "barpolar": [
           {
            "marker": {
             "line": {
              "color": "#E5ECF6",
              "width": 0.5
             },
             "pattern": {
              "fillmode": "overlay",
              "size": 10,
              "solidity": 0.2
             }
            },
            "type": "barpolar"
           }
          ],
          "carpet": [
           {
            "aaxis": {
             "endlinecolor": "#2a3f5f",
             "gridcolor": "white",
             "linecolor": "white",
             "minorgridcolor": "white",
             "startlinecolor": "#2a3f5f"
            },
            "baxis": {
             "endlinecolor": "#2a3f5f",
             "gridcolor": "white",
             "linecolor": "white",
             "minorgridcolor": "white",
             "startlinecolor": "#2a3f5f"
            },
            "type": "carpet"
           }
          ],
          "choropleth": [
           {
            "colorbar": {
             "outlinewidth": 0,
             "ticks": ""
            },
            "type": "choropleth"
           }
          ],
          "contour": [
           {
            "colorbar": {
             "outlinewidth": 0,
             "ticks": ""
            },
            "colorscale": [
             [
              0,
              "#0d0887"
             ],
             [
              0.1111111111111111,
              "#46039f"
             ],
             [
              0.2222222222222222,
              "#7201a8"
             ],
             [
              0.3333333333333333,
              "#9c179e"
             ],
             [
              0.4444444444444444,
              "#bd3786"
             ],
             [
              0.5555555555555556,
              "#d8576b"
             ],
             [
              0.6666666666666666,
              "#ed7953"
             ],
             [
              0.7777777777777778,
              "#fb9f3a"
             ],
             [
              0.8888888888888888,
              "#fdca26"
             ],
             [
              1,
              "#f0f921"
             ]
            ],
            "type": "contour"
           }
          ],
          "contourcarpet": [
           {
            "colorbar": {
             "outlinewidth": 0,
             "ticks": ""
            },
            "type": "contourcarpet"
           }
          ],
          "heatmap": [
           {
            "colorbar": {
             "outlinewidth": 0,
             "ticks": ""
            },
            "colorscale": [
             [
              0,
              "#0d0887"
             ],
             [
              0.1111111111111111,
              "#46039f"
             ],
             [
              0.2222222222222222,
              "#7201a8"
             ],
             [
              0.3333333333333333,
              "#9c179e"
             ],
             [
              0.4444444444444444,
              "#bd3786"
             ],
             [
              0.5555555555555556,
              "#d8576b"
             ],
             [
              0.6666666666666666,
              "#ed7953"
             ],
             [
              0.7777777777777778,
              "#fb9f3a"
             ],
             [
              0.8888888888888888,
              "#fdca26"
             ],
             [
              1,
              "#f0f921"
             ]
            ],
            "type": "heatmap"
           }
          ],
          "heatmapgl": [
           {
            "colorbar": {
             "outlinewidth": 0,
             "ticks": ""
            },
            "colorscale": [
             [
              0,
              "#0d0887"
             ],
             [
              0.1111111111111111,
              "#46039f"
             ],
             [
              0.2222222222222222,
              "#7201a8"
             ],
             [
              0.3333333333333333,
              "#9c179e"
             ],
             [
              0.4444444444444444,
              "#bd3786"
             ],
             [
              0.5555555555555556,
              "#d8576b"
             ],
             [
              0.6666666666666666,
              "#ed7953"
             ],
             [
              0.7777777777777778,
              "#fb9f3a"
             ],
             [
              0.8888888888888888,
              "#fdca26"
             ],
             [
              1,
              "#f0f921"
             ]
            ],
            "type": "heatmapgl"
           }
          ],
          "histogram": [
           {
            "marker": {
             "pattern": {
              "fillmode": "overlay",
              "size": 10,
              "solidity": 0.2
             }
            },
            "type": "histogram"
           }
          ],
          "histogram2d": [
           {
            "colorbar": {
             "outlinewidth": 0,
             "ticks": ""
            },
            "colorscale": [
             [
              0,
              "#0d0887"
             ],
             [
              0.1111111111111111,
              "#46039f"
             ],
             [
              0.2222222222222222,
              "#7201a8"
             ],
             [
              0.3333333333333333,
              "#9c179e"
             ],
             [
              0.4444444444444444,
              "#bd3786"
             ],
             [
              0.5555555555555556,
              "#d8576b"
             ],
             [
              0.6666666666666666,
              "#ed7953"
             ],
             [
              0.7777777777777778,
              "#fb9f3a"
             ],
             [
              0.8888888888888888,
              "#fdca26"
             ],
             [
              1,
              "#f0f921"
             ]
            ],
            "type": "histogram2d"
           }
          ],
          "histogram2dcontour": [
           {
            "colorbar": {
             "outlinewidth": 0,
             "ticks": ""
            },
            "colorscale": [
             [
              0,
              "#0d0887"
             ],
             [
              0.1111111111111111,
              "#46039f"
             ],
             [
              0.2222222222222222,
              "#7201a8"
             ],
             [
              0.3333333333333333,
              "#9c179e"
             ],
             [
              0.4444444444444444,
              "#bd3786"
             ],
             [
              0.5555555555555556,
              "#d8576b"
             ],
             [
              0.6666666666666666,
              "#ed7953"
             ],
             [
              0.7777777777777778,
              "#fb9f3a"
             ],
             [
              0.8888888888888888,
              "#fdca26"
             ],
             [
              1,
              "#f0f921"
             ]
            ],
            "type": "histogram2dcontour"
           }
          ],
          "mesh3d": [
           {
            "colorbar": {
             "outlinewidth": 0,
             "ticks": ""
            },
            "type": "mesh3d"
           }
          ],
          "parcoords": [
           {
            "line": {
             "colorbar": {
              "outlinewidth": 0,
              "ticks": ""
             }
            },
            "type": "parcoords"
           }
          ],
          "pie": [
           {
            "automargin": true,
            "type": "pie"
           }
          ],
          "scatter": [
           {
            "fillpattern": {
             "fillmode": "overlay",
             "size": 10,
             "solidity": 0.2
            },
            "type": "scatter"
           }
          ],
          "scatter3d": [
           {
            "line": {
             "colorbar": {
              "outlinewidth": 0,
              "ticks": ""
             }
            },
            "marker": {
             "colorbar": {
              "outlinewidth": 0,
              "ticks": ""
             }
            },
            "type": "scatter3d"
           }
          ],
          "scattercarpet": [
           {
            "marker": {
             "colorbar": {
              "outlinewidth": 0,
              "ticks": ""
             }
            },
            "type": "scattercarpet"
           }
          ],
          "scattergeo": [
           {
            "marker": {
             "colorbar": {
              "outlinewidth": 0,
              "ticks": ""
             }
            },
            "type": "scattergeo"
           }
          ],
          "scattergl": [
           {
            "marker": {
             "colorbar": {
              "outlinewidth": 0,
              "ticks": ""
             }
            },
            "type": "scattergl"
           }
          ],
          "scattermapbox": [
           {
            "marker": {
             "colorbar": {
              "outlinewidth": 0,
              "ticks": ""
             }
            },
            "type": "scattermapbox"
           }
          ],
          "scatterpolar": [
           {
            "marker": {
             "colorbar": {
              "outlinewidth": 0,
              "ticks": ""
             }
            },
            "type": "scatterpolar"
           }
          ],
          "scatterpolargl": [
           {
            "marker": {
             "colorbar": {
              "outlinewidth": 0,
              "ticks": ""
             }
            },
            "type": "scatterpolargl"
           }
          ],
          "scatterternary": [
           {
            "marker": {
             "colorbar": {
              "outlinewidth": 0,
              "ticks": ""
             }
            },
            "type": "scatterternary"
           }
          ],
          "surface": [
           {
            "colorbar": {
             "outlinewidth": 0,
             "ticks": ""
            },
            "colorscale": [
             [
              0,
              "#0d0887"
             ],
             [
              0.1111111111111111,
              "#46039f"
             ],
             [
              0.2222222222222222,
              "#7201a8"
             ],
             [
              0.3333333333333333,
              "#9c179e"
             ],
             [
              0.4444444444444444,
              "#bd3786"
             ],
             [
              0.5555555555555556,
              "#d8576b"
             ],
             [
              0.6666666666666666,
              "#ed7953"
             ],
             [
              0.7777777777777778,
              "#fb9f3a"
             ],
             [
              0.8888888888888888,
              "#fdca26"
             ],
             [
              1,
              "#f0f921"
             ]
            ],
            "type": "surface"
           }
          ],
          "table": [
           {
            "cells": {
             "fill": {
              "color": "#EBF0F8"
             },
             "line": {
              "color": "white"
             }
            },
            "header": {
             "fill": {
              "color": "#C8D4E3"
             },
             "line": {
              "color": "white"
             }
            },
            "type": "table"
           }
          ]
         },
         "layout": {
          "annotationdefaults": {
           "arrowcolor": "#2a3f5f",
           "arrowhead": 0,
           "arrowwidth": 1
          },
          "autotypenumbers": "strict",
          "coloraxis": {
           "colorbar": {
            "outlinewidth": 0,
            "ticks": ""
           }
          },
          "colorscale": {
           "diverging": [
            [
             0,
             "#8e0152"
            ],
            [
             0.1,
             "#c51b7d"
            ],
            [
             0.2,
             "#de77ae"
            ],
            [
             0.3,
             "#f1b6da"
            ],
            [
             0.4,
             "#fde0ef"
            ],
            [
             0.5,
             "#f7f7f7"
            ],
            [
             0.6,
             "#e6f5d0"
            ],
            [
             0.7,
             "#b8e186"
            ],
            [
             0.8,
             "#7fbc41"
            ],
            [
             0.9,
             "#4d9221"
            ],
            [
             1,
             "#276419"
            ]
           ],
           "sequential": [
            [
             0,
             "#0d0887"
            ],
            [
             0.1111111111111111,
             "#46039f"
            ],
            [
             0.2222222222222222,
             "#7201a8"
            ],
            [
             0.3333333333333333,
             "#9c179e"
            ],
            [
             0.4444444444444444,
             "#bd3786"
            ],
            [
             0.5555555555555556,
             "#d8576b"
            ],
            [
             0.6666666666666666,
             "#ed7953"
            ],
            [
             0.7777777777777778,
             "#fb9f3a"
            ],
            [
             0.8888888888888888,
             "#fdca26"
            ],
            [
             1,
             "#f0f921"
            ]
           ],
           "sequentialminus": [
            [
             0,
             "#0d0887"
            ],
            [
             0.1111111111111111,
             "#46039f"
            ],
            [
             0.2222222222222222,
             "#7201a8"
            ],
            [
             0.3333333333333333,
             "#9c179e"
            ],
            [
             0.4444444444444444,
             "#bd3786"
            ],
            [
             0.5555555555555556,
             "#d8576b"
            ],
            [
             0.6666666666666666,
             "#ed7953"
            ],
            [
             0.7777777777777778,
             "#fb9f3a"
            ],
            [
             0.8888888888888888,
             "#fdca26"
            ],
            [
             1,
             "#f0f921"
            ]
           ]
          },
          "colorway": [
           "#636efa",
           "#EF553B",
           "#00cc96",
           "#ab63fa",
           "#FFA15A",
           "#19d3f3",
           "#FF6692",
           "#B6E880",
           "#FF97FF",
           "#FECB52"
          ],
          "font": {
           "color": "#2a3f5f"
          },
          "geo": {
           "bgcolor": "white",
           "lakecolor": "white",
           "landcolor": "#E5ECF6",
           "showlakes": true,
           "showland": true,
           "subunitcolor": "white"
          },
          "hoverlabel": {
           "align": "left"
          },
          "hovermode": "closest",
          "mapbox": {
           "style": "light"
          },
          "paper_bgcolor": "white",
          "plot_bgcolor": "#E5ECF6",
          "polar": {
           "angularaxis": {
            "gridcolor": "white",
            "linecolor": "white",
            "ticks": ""
           },
           "bgcolor": "#E5ECF6",
           "radialaxis": {
            "gridcolor": "white",
            "linecolor": "white",
            "ticks": ""
           }
          },
          "scene": {
           "xaxis": {
            "backgroundcolor": "#E5ECF6",
            "gridcolor": "white",
            "gridwidth": 2,
            "linecolor": "white",
            "showbackground": true,
            "ticks": "",
            "zerolinecolor": "white"
           },
           "yaxis": {
            "backgroundcolor": "#E5ECF6",
            "gridcolor": "white",
            "gridwidth": 2,
            "linecolor": "white",
            "showbackground": true,
            "ticks": "",
            "zerolinecolor": "white"
           },
           "zaxis": {
            "backgroundcolor": "#E5ECF6",
            "gridcolor": "white",
            "gridwidth": 2,
            "linecolor": "white",
            "showbackground": true,
            "ticks": "",
            "zerolinecolor": "white"
           }
          },
          "shapedefaults": {
           "line": {
            "color": "#2a3f5f"
           }
          },
          "ternary": {
           "aaxis": {
            "gridcolor": "white",
            "linecolor": "white",
            "ticks": ""
           },
           "baxis": {
            "gridcolor": "white",
            "linecolor": "white",
            "ticks": ""
           },
           "bgcolor": "#E5ECF6",
           "caxis": {
            "gridcolor": "white",
            "linecolor": "white",
            "ticks": ""
           }
          },
          "title": {
           "x": 0.05
          },
          "xaxis": {
           "automargin": true,
           "gridcolor": "white",
           "linecolor": "white",
           "ticks": "",
           "title": {
            "standoff": 15
           },
           "zerolinecolor": "white",
           "zerolinewidth": 2
          },
          "yaxis": {
           "automargin": true,
           "gridcolor": "white",
           "linecolor": "white",
           "ticks": "",
           "title": {
            "standoff": 15
           },
           "zerolinecolor": "white",
           "zerolinewidth": 2
          }
         }
        },
        "title": {
         "text": "LS1685",
         "x": 0.5,
         "xanchor": "center",
         "y": 0.9,
         "yanchor": "top"
        },
        "updatemenus": [
         {
          "buttons": [
           {
            "args": [
             {
              "scene.annotations": [
               {
                "font": {
                 "color": "blue"
                },
                "showarrow": false,
                "text": "1",
                "x": -0.16277,
                "y": -3.005606,
                "yshift": 15,
                "z": -0.647043
               },
               {
                "font": {
                 "color": "blue"
                },
                "showarrow": false,
                "text": "2",
                "x": -1.548824,
                "y": -2.53052,
                "yshift": 15,
                "z": -1.128224
               },
               {
                "font": {
                 "color": "blue"
                },
                "showarrow": false,
                "text": "3",
                "x": -0.261744,
                "y": -0.753724,
                "yshift": 15,
                "z": -0.518871
               },
               {
                "font": {
                 "color": "blue"
                },
                "showarrow": false,
                "text": "4",
                "x": 0.584545,
                "y": -1.737064,
                "yshift": 15,
                "z": -0.516787
               },
               {
                "font": {
                 "color": "blue"
                },
                "showarrow": false,
                "text": "5",
                "x": 0.217948,
                "y": 0.646021,
                "yshift": 15,
                "z": -0.330516
               },
               {
                "font": {
                 "color": "blue"
                },
                "showarrow": false,
                "text": "6",
                "x": -0.560534,
                "y": 1.770812,
                "yshift": 15,
                "z": -0.547627
               },
               {
                "font": {
                 "color": "blue"
                },
                "showarrow": false,
                "text": "7",
                "x": 0.007836,
                "y": 3.025498,
                "yshift": 15,
                "z": -0.361785
               },
               {
                "font": {
                 "color": "blue"
                },
                "showarrow": false,
                "text": "8",
                "x": 1.328046,
                "y": 3.108408,
                "yshift": 15,
                "z": 0.028235
               },
               {
                "font": {
                 "color": "blue"
                },
                "showarrow": false,
                "text": "9",
                "x": 2.054352,
                "y": 1.934941,
                "yshift": 15,
                "z": 0.1901
               },
               {
                "font": {
                 "color": "blue"
                },
                "showarrow": false,
                "text": "10",
                "x": 1.516006,
                "y": 0.740796,
                "yshift": 15,
                "z": 0.010434
               },
               {
                "font": {
                 "color": "blue"
                },
                "showarrow": false,
                "text": "11",
                "x": 2.608038,
                "y": -1.242655,
                "yshift": 15,
                "z": -0.286469
               },
               {
                "font": {
                 "color": "blue"
                },
                "showarrow": false,
                "text": "12",
                "x": -1.589296,
                "y": 1.680921,
                "yshift": 15,
                "z": -0.86021
               },
               {
                "font": {
                 "color": "blue"
                },
                "showarrow": false,
                "text": "13",
                "x": -0.573604,
                "y": 3.923105,
                "yshift": 15,
                "z": -0.524665
               },
               {
                "font": {
                 "color": "blue"
                },
                "showarrow": false,
                "text": "14",
                "x": -1.674465,
                "y": -2.639387,
                "yshift": 15,
                "z": -2.206812
               },
               {
                "font": {
                 "color": "blue"
                },
                "showarrow": false,
                "text": "15",
                "x": -2.378709,
                "y": -3.022449,
                "yshift": 15,
                "z": -0.62703
               },
               {
                "font": {
                 "color": "blue"
                },
                "showarrow": false,
                "text": "16",
                "x": 0.324114,
                "y": -3.61708,
                "yshift": 15,
                "z": -1.407086
               },
               {
                "font": {
                 "color": "blue"
                },
                "showarrow": false,
                "text": "17",
                "x": -0.198084,
                "y": -3.811474,
                "yshift": 15,
                "z": 0.674884
               },
               {
                "font": {
                 "color": "blue"
                },
                "showarrow": false,
                "text": "18",
                "x": 3.113874,
                "y": -2.597307,
                "yshift": 15,
                "z": -0.604535
               },
               {
                "font": {
                 "color": "blue"
                },
                "showarrow": false,
                "text": "19",
                "x": 4.670591,
                "y": -0.550942,
                "yshift": 15,
                "z": -0.727798
               },
               {
                "font": {
                 "color": "blue"
                },
                "showarrow": false,
                "text": "20",
                "x": 4.598345,
                "y": -0.839263,
                "yshift": 15,
                "z": 0.601979
               },
               {
                "font": {
                 "color": "blue"
                },
                "showarrow": false,
                "text": "21",
                "x": 4.531209,
                "y": 0.460101,
                "yshift": 15,
                "z": -1.092757
               },
               {
                "font": {
                 "color": "blue"
                },
                "showarrow": false,
                "text": "22",
                "x": 5.079811,
                "y": -1.260951,
                "yshift": 15,
                "z": -1.433862
               },
               {
                "font": {
                 "color": "blue"
                },
                "showarrow": false,
                "text": "23",
                "x": 4.947009,
                "y": -1.787617,
                "yshift": 15,
                "z": 0.989056
               },
               {
                "font": {
                 "color": "blue"
                },
                "showarrow": false,
                "text": "24",
                "x": 4.400041,
                "y": -0.066919,
                "yshift": 15,
                "z": 1.336175
               },
               {
                "font": {
                 "color": "blue"
                },
                "showarrow": false,
                "text": "25",
                "x": 1.223626,
                "y": -4.139381,
                "yshift": 15,
                "z": 1.133689
               },
               {
                "font": {
                 "color": "blue"
                },
                "showarrow": false,
                "text": "26",
                "x": -0.911104,
                "y": -3.606981,
                "yshift": 15,
                "z": 2.701304
               },
               {
                "font": {
                 "color": "blue"
                },
                "showarrow": false,
                "text": "27",
                "x": 1.79931,
                "y": -4.615691,
                "yshift": 15,
                "z": 0.336561
               },
               {
                "font": {
                 "color": "blue"
                },
                "showarrow": false,
                "text": "28",
                "x": -0.399092,
                "y": -2.084033,
                "yshift": 15,
                "z": 1.982972
               },
               {
                "font": {
                 "color": "blue"
                },
                "showarrow": false,
                "text": "29",
                "x": -0.911597,
                "y": -3.027404,
                "yshift": 15,
                "z": 1.777258
               },
               {
                "font": {
                 "color": "blue"
                },
                "showarrow": false,
                "text": "30",
                "x": -1.953752,
                "y": -2.812418,
                "yshift": 15,
                "z": 1.529164
               },
               {
                "font": {
                 "color": "blue"
                },
                "showarrow": false,
                "text": "31",
                "x": -0.931263,
                "y": -5.128487,
                "yshift": 15,
                "z": 0.40432
               },
               {
                "font": {
                 "color": "blue"
                },
                "showarrow": false,
                "text": "32",
                "x": 1.185543,
                "y": -4.829741,
                "yshift": 15,
                "z": 1.977506
               },
               {
                "font": {
                 "color": "blue"
                },
                "showarrow": false,
                "text": "33",
                "x": 1.7598,
                "y": -3.248116,
                "yshift": 15,
                "z": 1.462405
               },
               {
                "font": {
                 "color": "blue"
                },
                "showarrow": false,
                "text": "34",
                "x": -0.949127,
                "y": -5.733374,
                "yshift": 15,
                "z": 1.311438
               },
               {
                "font": {
                 "color": "blue"
                },
                "showarrow": false,
                "text": "35",
                "x": -1.96637,
                "y": -4.977508,
                "yshift": 15,
                "z": 0.095355
               },
               {
                "font": {
                 "color": "blue"
                },
                "showarrow": false,
                "text": "36",
                "x": -0.424074,
                "y": -5.705491,
                "yshift": 15,
                "z": -0.371913
               },
               {
                "font": {
                 "color": "blue"
                },
                "showarrow": false,
                "text": "37",
                "x": 3.103815,
                "y": 1.968865,
                "yshift": 15,
                "z": 0.461982
               },
               {
                "font": {
                 "color": "blue"
                },
                "showarrow": false,
                "text": "38",
                "x": 2.009367,
                "y": 4.429655,
                "yshift": 15,
                "z": 0.285455
               },
               {
                "font": {
                 "color": "blue"
                },
                "showarrow": false,
                "text": "39",
                "x": 2.201881,
                "y": 4.612514,
                "yshift": 15,
                "z": 1.592215
               },
               {
                "font": {
                 "color": "blue"
                },
                "showarrow": false,
                "text": "40",
                "x": 1.288457,
                "y": 5.446585,
                "yshift": 15,
                "z": -0.172667
               },
               {
                "font": {
                 "color": "blue"
                },
                "showarrow": false,
                "text": "41",
                "x": 3.206102,
                "y": 4.465294,
                "yshift": 15,
                "z": -0.303894
               },
               {
                "font": {
                 "color": "blue"
                },
                "showarrow": false,
                "text": "42",
                "x": -1.537167,
                "y": -1.100513,
                "yshift": 15,
                "z": -0.771533
               },
               {
                "font": {
                 "color": "blue"
                },
                "showarrow": false,
                "text": "43",
                "x": -2.724905,
                "y": -0.409613,
                "yshift": 15,
                "z": -0.402897
               },
               {
                "font": {
                 "color": "blue"
                },
                "showarrow": false,
                "text": "44",
                "x": -3.726849,
                "y": -0.215323,
                "yshift": 15,
                "z": -1.339412
               },
               {
                "font": {
                 "color": "blue"
                },
                "showarrow": false,
                "text": "45",
                "x": -2.90085,
                "y": 0.046504,
                "yshift": 15,
                "z": 0.903616
               },
               {
                "font": {
                 "color": "blue"
                },
                "showarrow": false,
                "text": "46",
                "x": -4.899467,
                "y": 0.442914,
                "yshift": 15,
                "z": -0.99219
               },
               {
                "font": {
                 "color": "blue"
                },
                "showarrow": false,
                "text": "47",
                "x": -3.59049,
                "y": -0.572695,
                "yshift": 15,
                "z": -2.352603
               },
               {
                "font": {
                 "color": "blue"
                },
                "showarrow": false,
                "text": "48",
                "x": -4.051364,
                "y": 0.720337,
                "yshift": 15,
                "z": 1.251628
               },
               {
                "font": {
                 "color": "blue"
                },
                "showarrow": false,
                "text": "49",
                "x": -2.128608,
                "y": -0.131312,
                "yshift": 15,
                "z": 1.6428
               },
               {
                "font": {
                 "color": "blue"
                },
                "showarrow": false,
                "text": "50",
                "x": -5.063558,
                "y": 0.922478,
                "yshift": 15,
                "z": 0.306885
               },
               {
                "font": {
                 "color": "blue"
                },
                "showarrow": false,
                "text": "51",
                "x": -5.668976,
                "y": 0.579635,
                "yshift": 15,
                "z": -1.737219
               },
               {
                "font": {
                 "color": "blue"
                },
                "showarrow": false,
                "text": "52",
                "x": -4.206623,
                "y": 1.085281,
                "yshift": 15,
                "z": 2.257835
               },
               {
                "font": {
                 "color": "blue"
                },
                "showarrow": false,
                "text": "53",
                "x": -6.150144,
                "y": 1.578212,
                "yshift": 15,
                "z": 0.743416
               },
               {
                "font": {
                 "color": "blue"
                },
                "showarrow": false,
                "text": "54",
                "x": -7.219433,
                "y": 1.789162,
                "yshift": 15,
                "z": -0.16153
               },
               {
                "font": {
                 "color": "blue"
                },
                "showarrow": false,
                "text": "55",
                "x": -7.621359,
                "y": 0.838323,
                "yshift": 15,
                "z": -0.518325
               },
               {
                "font": {
                 "color": "blue"
                },
                "showarrow": false,
                "text": "56",
                "x": -7.983957,
                "y": 2.320321,
                "yshift": 15,
                "z": 0.396631
               },
               {
                "font": {
                 "color": "blue"
                },
                "showarrow": false,
                "text": "57",
                "x": -6.898387,
                "y": 2.396919,
                "yshift": 15,
                "z": -1.010512
               }
              ]
             }
            ],
            "label": "Atom indices",
            "method": "relayout"
           },
           {
            "args": [
             {
              "scene.annotations": [
               {
                "showarrow": false,
                "text": "1.54",
                "x": -0.855797,
                "y": -2.768063,
                "yshift": 10,
                "z": -0.8876335
               },
               {
                "showarrow": false,
                "text": "1.3",
                "x": 0.1614005,
                "y": -1.245394,
                "yshift": 10,
                "z": -0.517829
               },
               {
                "showarrow": false,
                "text": "1.39",
                "x": -0.17129299999999997,
                "y": 1.2084165,
                "yshift": 10,
                "z": -0.43907149999999995
               },
               {
                "showarrow": false,
                "text": "1.39",
                "x": -0.276349,
                "y": 2.398155,
                "yshift": 10,
                "z": -0.454706
               },
               {
                "showarrow": false,
                "text": "1.38",
                "x": 0.667941,
                "y": 3.066953,
                "yshift": 10,
                "z": -0.166775
               },
               {
                "showarrow": false,
                "text": "1.39",
                "x": 1.6911990000000001,
                "y": 2.5216745,
                "yshift": 10,
                "z": 0.1091675
               },
               {
                "showarrow": false,
                "text": "1.32",
                "x": 1.785179,
                "y": 1.3378685,
                "yshift": 10,
                "z": 0.100267
               },
               {
                "showarrow": false,
                "text": "2.28",
                "x": 2.062022,
                "y": -0.2509295,
                "yshift": 10,
                "z": -0.1380175
               },
               {
                "showarrow": false,
                "text": "1.36",
                "x": 4.634468,
                "y": -0.6951025,
                "yshift": 10,
                "z": -0.06290949999999995
               },
               {
                "showarrow": false,
                "text": "1.09",
                "x": -0.6553445,
                "y": -2.5557185000000002,
                "yshift": 10,
                "z": 1.880115
               },
               {
                "showarrow": false,
                "text": "1.09",
                "x": -1.4326745,
                "y": -2.919911,
                "yshift": 10,
                "z": 1.653211
               },
               {
                "showarrow": false,
                "text": "1.33",
                "x": 2.105624,
                "y": 4.521084500000001,
                "yshift": 10,
                "z": 0.938835
               },
               {
                "showarrow": false,
                "text": "1.42",
                "x": -2.131036,
                "y": -0.755063,
                "yshift": 10,
                "z": -0.587215
               },
               {
                "showarrow": false,
                "text": "1.39",
                "x": -3.225877,
                "y": -0.31246799999999997,
                "yshift": 10,
                "z": -0.8711545
               },
               {
                "showarrow": false,
                "text": "1.42",
                "x": -6.6847885,
                "y": 1.683687,
                "yshift": 10,
                "z": 0.29094299999999995
               },
               {
                "showarrow": false,
                "text": "1.09",
                "x": -7.420396,
                "y": 1.3137425,
                "yshift": 10,
                "z": -0.33992750000000005
               },
               {
                "showarrow": false,
                "text": "1.49",
                "x": -0.021897999999999987,
                "y": -0.0538515,
                "yshift": 10,
                "z": -0.42469349999999995
               },
               {
                "showarrow": false,
                "text": "1.08",
                "x": 4.600899999999999,
                "y": -0.04542050000000003,
                "yshift": 10,
                "z": -0.9102775
               },
               {
                "showarrow": false,
                "text": "1.09",
                "x": 1.511468,
                "y": -4.377536,
                "yshift": 10,
                "z": 0.735125
               },
               {
                "showarrow": false,
                "text": "1.33",
                "x": 1.6489120000000002,
                "y": 4.93812,
                "yshift": 10,
                "z": 0.056394000000000014
               },
               {
                "showarrow": false,
                "text": "1.39",
                "x": -2.8128775,
                "y": -0.1815545,
                "yshift": 10,
                "z": 0.25035949999999996
               },
               {
                "showarrow": false,
                "text": "1.39",
                "x": -4.313158,
                "y": 0.1137955,
                "yshift": 10,
                "z": -1.165801
               },
               {
                "showarrow": false,
                "text": "1.4",
                "x": -4.557461,
                "y": 0.8214075000000001,
                "yshift": 10,
                "z": 0.7792565
               },
               {
                "showarrow": false,
                "text": "1.09",
                "x": -7.601695,
                "y": 2.0547415,
                "yshift": 10,
                "z": 0.1175505
               },
               {
                "showarrow": false,
                "text": "1.48",
                "x": 0.2108875,
                "y": -2.371335,
                "yshift": 10,
                "z": -0.581915
               },
               {
                "showarrow": false,
                "text": "1.08",
                "x": 4.875201000000001,
                "y": -0.9059465,
                "yshift": 10,
                "z": -1.08083
               },
               {
                "showarrow": false,
                "text": "1.08",
                "x": 4.772677,
                "y": -1.31344,
                "yshift": 10,
                "z": 0.7955175000000001
               },
               {
                "showarrow": false,
                "text": "1.09",
                "x": -0.9113505,
                "y": -3.3171925,
                "yshift": 10,
                "z": 2.239281
               },
               {
                "showarrow": false,
                "text": "1.09",
                "x": -0.940195,
                "y": -5.4309305000000005,
                "yshift": 10,
                "z": 0.8578790000000001
               },
               {
                "showarrow": false,
                "text": "1.33",
                "x": 2.6077345000000003,
                "y": 4.4474745,
                "yshift": 10,
                "z": -0.009219499999999992
               },
               {
                "showarrow": false,
                "text": "1.08",
                "x": -3.6586695000000002,
                "y": -0.39400899999999994,
                "yshift": 10,
                "z": -1.8460075000000002
               },
               {
                "showarrow": false,
                "text": "1.38",
                "x": -3.4761070000000003,
                "y": 0.3834205,
                "yshift": 10,
                "z": 1.0776219999999999
               },
               {
                "showarrow": false,
                "text": "1.34",
                "x": -5.606851,
                "y": 1.250345,
                "yshift": 10,
                "z": 0.5251505
               },
               {
                "showarrow": false,
                "text": "1.09",
                "x": -7.05891,
                "y": 2.0930405,
                "yshift": 10,
                "z": -0.586021
               },
               {
                "showarrow": false,
                "text": "1.08",
                "x": 4.499193,
                "y": -0.453091,
                "yshift": 10,
                "z": 0.969077
               },
               {
                "showarrow": false,
                "text": "1.09",
                "x": -1.4488165,
                "y": -5.0529975,
                "yshift": 10,
                "z": 0.2498375
               },
               {
                "showarrow": false,
                "text": "1.08",
                "x": -2.514729,
                "y": -0.04240400000000001,
                "yshift": 10,
                "z": 1.273208
               },
               {
                "showarrow": false,
                "text": "1.39",
                "x": -4.981512499999999,
                "y": 0.682696,
                "yshift": 10,
                "z": -0.3426525
               },
               {
                "showarrow": false,
                "text": "1.08",
                "x": -4.1289935,
                "y": 0.902809,
                "yshift": 10,
                "z": 1.7547315
               },
               {
                "showarrow": false,
                "text": "1.35",
                "x": 0.866977,
                "y": 0.6934085,
                "yshift": 10,
                "z": -0.160041
               },
               {
                "showarrow": false,
                "text": "1.09",
                "x": -0.6776685,
                "y": -5.416989,
                "yshift": 10,
                "z": 0.01620350000000001
               },
               {
                "showarrow": false,
                "text": "1.08",
                "x": -5.284221499999999,
                "y": 0.5112745,
                "yshift": 10,
                "z": -1.3647045
               },
               {
                "showarrow": false,
                "text": "1.08",
                "x": -1.074915,
                "y": 1.7258665,
                "yshift": 10,
                "z": -0.7039185
               },
               {
                "showarrow": false,
                "text": "1.08",
                "x": -0.282884,
                "y": 3.4743015,
                "yshift": 10,
                "z": -0.44322500000000004
               },
               {
                "showarrow": false,
                "text": "2.1",
                "x": 1.5962915,
                "y": -1.4898595000000001,
                "yshift": 10,
                "z": -0.401628
               },
               {
                "showarrow": false,
                "text": "1.48",
                "x": 2.860956,
                "y": -1.919981,
                "yshift": 10,
                "z": -0.445502
               },
               {
                "showarrow": false,
                "text": "1.09",
                "x": 1.2045845000000002,
                "y": -4.484561,
                "yshift": 10,
                "z": 1.5555975
               },
               {
                "showarrow": false,
                "text": "2.22",
                "x": 3.6393145000000002,
                "y": -0.8967985,
                "yshift": 10,
                "z": -0.5071334999999999
               },
               {
                "showarrow": false,
                "text": "1.53",
                "x": 0.5127710000000001,
                "y": -3.9754275000000003,
                "yshift": 10,
                "z": 0.9042865
               },
               {
                "showarrow": false,
                "text": "1.09",
                "x": 1.491713,
                "y": -3.6937485,
                "yshift": 10,
                "z": 1.298047
               },
               {
                "showarrow": false,
                "text": "2.22",
                "x": 3.6031915000000003,
                "y": -1.040959,
                "yshift": 10,
                "z": 0.15775500000000003
               },
               {
                "showarrow": false,
                "text": "1.09",
                "x": -1.6116445000000001,
                "y": -2.5849535,
                "yshift": 10,
                "z": -1.667518
               },
               {
                "showarrow": false,
                "text": "1.53",
                "x": -0.5548405,
                "y": -3.419439,
                "yshift": 10,
                "z": 1.2260710000000001
               },
               {
                "showarrow": false,
                "text": "1.09",
                "x": -1.9637665000000002,
                "y": -2.7764845,
                "yshift": 10,
                "z": -0.8776269999999999
               },
               {
                "showarrow": false,
                "text": "1.53",
                "x": -0.5646734999999999,
                "y": -4.4699805,
                "yshift": 10,
                "z": 0.539602
               },
               {
                "showarrow": false,
                "text": "1.09",
                "x": 0.08067200000000001,
                "y": -3.311343,
                "yshift": 10,
                "z": -1.0270645
               },
               {
                "showarrow": false,
                "text": "1.55",
                "x": -0.180427,
                "y": -3.4085400000000003,
                "yshift": 10,
                "z": 0.013920500000000002
               },
               {
                "showarrow": false,
                "text": "1.47",
                "x": -1.5429955,
                "y": -1.8155165000000002,
                "yshift": 10,
                "z": -0.9498785
               },
               {
                "showarrow": false,
                "text": "1.35",
                "x": -0.8994555,
                "y": -0.9271185,
                "yshift": 10,
                "z": -0.645202
               },
               {
                "showarrow": false,
                "text": "1.51",
                "x": 1.6687065,
                "y": 3.7690315,
                "yshift": 10,
                "z": 0.156845
               },
               {
                "showarrow": false,
                "text": "1.08",
                "x": 2.5790835000000003,
                "y": 1.9519030000000002,
                "yshift": 10,
                "z": 0.326041
               }
              ]
             }
            ],
            "label": "Bond lengths",
            "method": "relayout"
           },
           {
            "args": [
             {
              "scene.annotations": [
               {
                "font": {
                 "color": "blue"
                },
                "showarrow": false,
                "text": "1",
                "x": -0.16277,
                "y": -3.005606,
                "yshift": 15,
                "z": -0.647043
               },
               {
                "font": {
                 "color": "blue"
                },
                "showarrow": false,
                "text": "2",
                "x": -1.548824,
                "y": -2.53052,
                "yshift": 15,
                "z": -1.128224
               },
               {
                "font": {
                 "color": "blue"
                },
                "showarrow": false,
                "text": "3",
                "x": -0.261744,
                "y": -0.753724,
                "yshift": 15,
                "z": -0.518871
               },
               {
                "font": {
                 "color": "blue"
                },
                "showarrow": false,
                "text": "4",
                "x": 0.584545,
                "y": -1.737064,
                "yshift": 15,
                "z": -0.516787
               },
               {
                "font": {
                 "color": "blue"
                },
                "showarrow": false,
                "text": "5",
                "x": 0.217948,
                "y": 0.646021,
                "yshift": 15,
                "z": -0.330516
               },
               {
                "font": {
                 "color": "blue"
                },
                "showarrow": false,
                "text": "6",
                "x": -0.560534,
                "y": 1.770812,
                "yshift": 15,
                "z": -0.547627
               },
               {
                "font": {
                 "color": "blue"
                },
                "showarrow": false,
                "text": "7",
                "x": 0.007836,
                "y": 3.025498,
                "yshift": 15,
                "z": -0.361785
               },
               {
                "font": {
                 "color": "blue"
                },
                "showarrow": false,
                "text": "8",
                "x": 1.328046,
                "y": 3.108408,
                "yshift": 15,
                "z": 0.028235
               },
               {
                "font": {
                 "color": "blue"
                },
                "showarrow": false,
                "text": "9",
                "x": 2.054352,
                "y": 1.934941,
                "yshift": 15,
                "z": 0.1901
               },
               {
                "font": {
                 "color": "blue"
                },
                "showarrow": false,
                "text": "10",
                "x": 1.516006,
                "y": 0.740796,
                "yshift": 15,
                "z": 0.010434
               },
               {
                "font": {
                 "color": "blue"
                },
                "showarrow": false,
                "text": "11",
                "x": 2.608038,
                "y": -1.242655,
                "yshift": 15,
                "z": -0.286469
               },
               {
                "font": {
                 "color": "blue"
                },
                "showarrow": false,
                "text": "12",
                "x": -1.589296,
                "y": 1.680921,
                "yshift": 15,
                "z": -0.86021
               },
               {
                "font": {
                 "color": "blue"
                },
                "showarrow": false,
                "text": "13",
                "x": -0.573604,
                "y": 3.923105,
                "yshift": 15,
                "z": -0.524665
               },
               {
                "font": {
                 "color": "blue"
                },
                "showarrow": false,
                "text": "14",
                "x": -1.674465,
                "y": -2.639387,
                "yshift": 15,
                "z": -2.206812
               },
               {
                "font": {
                 "color": "blue"
                },
                "showarrow": false,
                "text": "15",
                "x": -2.378709,
                "y": -3.022449,
                "yshift": 15,
                "z": -0.62703
               },
               {
                "font": {
                 "color": "blue"
                },
                "showarrow": false,
                "text": "16",
                "x": 0.324114,
                "y": -3.61708,
                "yshift": 15,
                "z": -1.407086
               },
               {
                "font": {
                 "color": "blue"
                },
                "showarrow": false,
                "text": "17",
                "x": -0.198084,
                "y": -3.811474,
                "yshift": 15,
                "z": 0.674884
               },
               {
                "font": {
                 "color": "blue"
                },
                "showarrow": false,
                "text": "18",
                "x": 3.113874,
                "y": -2.597307,
                "yshift": 15,
                "z": -0.604535
               },
               {
                "font": {
                 "color": "blue"
                },
                "showarrow": false,
                "text": "19",
                "x": 4.670591,
                "y": -0.550942,
                "yshift": 15,
                "z": -0.727798
               },
               {
                "font": {
                 "color": "blue"
                },
                "showarrow": false,
                "text": "20",
                "x": 4.598345,
                "y": -0.839263,
                "yshift": 15,
                "z": 0.601979
               },
               {
                "font": {
                 "color": "blue"
                },
                "showarrow": false,
                "text": "21",
                "x": 4.531209,
                "y": 0.460101,
                "yshift": 15,
                "z": -1.092757
               },
               {
                "font": {
                 "color": "blue"
                },
                "showarrow": false,
                "text": "22",
                "x": 5.079811,
                "y": -1.260951,
                "yshift": 15,
                "z": -1.433862
               },
               {
                "font": {
                 "color": "blue"
                },
                "showarrow": false,
                "text": "23",
                "x": 4.947009,
                "y": -1.787617,
                "yshift": 15,
                "z": 0.989056
               },
               {
                "font": {
                 "color": "blue"
                },
                "showarrow": false,
                "text": "24",
                "x": 4.400041,
                "y": -0.066919,
                "yshift": 15,
                "z": 1.336175
               },
               {
                "font": {
                 "color": "blue"
                },
                "showarrow": false,
                "text": "25",
                "x": 1.223626,
                "y": -4.139381,
                "yshift": 15,
                "z": 1.133689
               },
               {
                "font": {
                 "color": "blue"
                },
                "showarrow": false,
                "text": "26",
                "x": -0.911104,
                "y": -3.606981,
                "yshift": 15,
                "z": 2.701304
               },
               {
                "font": {
                 "color": "blue"
                },
                "showarrow": false,
                "text": "27",
                "x": 1.79931,
                "y": -4.615691,
                "yshift": 15,
                "z": 0.336561
               },
               {
                "font": {
                 "color": "blue"
                },
                "showarrow": false,
                "text": "28",
                "x": -0.399092,
                "y": -2.084033,
                "yshift": 15,
                "z": 1.982972
               },
               {
                "font": {
                 "color": "blue"
                },
                "showarrow": false,
                "text": "29",
                "x": -0.911597,
                "y": -3.027404,
                "yshift": 15,
                "z": 1.777258
               },
               {
                "font": {
                 "color": "blue"
                },
                "showarrow": false,
                "text": "30",
                "x": -1.953752,
                "y": -2.812418,
                "yshift": 15,
                "z": 1.529164
               },
               {
                "font": {
                 "color": "blue"
                },
                "showarrow": false,
                "text": "31",
                "x": -0.931263,
                "y": -5.128487,
                "yshift": 15,
                "z": 0.40432
               },
               {
                "font": {
                 "color": "blue"
                },
                "showarrow": false,
                "text": "32",
                "x": 1.185543,
                "y": -4.829741,
                "yshift": 15,
                "z": 1.977506
               },
               {
                "font": {
                 "color": "blue"
                },
                "showarrow": false,
                "text": "33",
                "x": 1.7598,
                "y": -3.248116,
                "yshift": 15,
                "z": 1.462405
               },
               {
                "font": {
                 "color": "blue"
                },
                "showarrow": false,
                "text": "34",
                "x": -0.949127,
                "y": -5.733374,
                "yshift": 15,
                "z": 1.311438
               },
               {
                "font": {
                 "color": "blue"
                },
                "showarrow": false,
                "text": "35",
                "x": -1.96637,
                "y": -4.977508,
                "yshift": 15,
                "z": 0.095355
               },
               {
                "font": {
                 "color": "blue"
                },
                "showarrow": false,
                "text": "36",
                "x": -0.424074,
                "y": -5.705491,
                "yshift": 15,
                "z": -0.371913
               },
               {
                "font": {
                 "color": "blue"
                },
                "showarrow": false,
                "text": "37",
                "x": 3.103815,
                "y": 1.968865,
                "yshift": 15,
                "z": 0.461982
               },
               {
                "font": {
                 "color": "blue"
                },
                "showarrow": false,
                "text": "38",
                "x": 2.009367,
                "y": 4.429655,
                "yshift": 15,
                "z": 0.285455
               },
               {
                "font": {
                 "color": "blue"
                },
                "showarrow": false,
                "text": "39",
                "x": 2.201881,
                "y": 4.612514,
                "yshift": 15,
                "z": 1.592215
               },
               {
                "font": {
                 "color": "blue"
                },
                "showarrow": false,
                "text": "40",
                "x": 1.288457,
                "y": 5.446585,
                "yshift": 15,
                "z": -0.172667
               },
               {
                "font": {
                 "color": "blue"
                },
                "showarrow": false,
                "text": "41",
                "x": 3.206102,
                "y": 4.465294,
                "yshift": 15,
                "z": -0.303894
               },
               {
                "font": {
                 "color": "blue"
                },
                "showarrow": false,
                "text": "42",
                "x": -1.537167,
                "y": -1.100513,
                "yshift": 15,
                "z": -0.771533
               },
               {
                "font": {
                 "color": "blue"
                },
                "showarrow": false,
                "text": "43",
                "x": -2.724905,
                "y": -0.409613,
                "yshift": 15,
                "z": -0.402897
               },
               {
                "font": {
                 "color": "blue"
                },
                "showarrow": false,
                "text": "44",
                "x": -3.726849,
                "y": -0.215323,
                "yshift": 15,
                "z": -1.339412
               },
               {
                "font": {
                 "color": "blue"
                },
                "showarrow": false,
                "text": "45",
                "x": -2.90085,
                "y": 0.046504,
                "yshift": 15,
                "z": 0.903616
               },
               {
                "font": {
                 "color": "blue"
                },
                "showarrow": false,
                "text": "46",
                "x": -4.899467,
                "y": 0.442914,
                "yshift": 15,
                "z": -0.99219
               },
               {
                "font": {
                 "color": "blue"
                },
                "showarrow": false,
                "text": "47",
                "x": -3.59049,
                "y": -0.572695,
                "yshift": 15,
                "z": -2.352603
               },
               {
                "font": {
                 "color": "blue"
                },
                "showarrow": false,
                "text": "48",
                "x": -4.051364,
                "y": 0.720337,
                "yshift": 15,
                "z": 1.251628
               },
               {
                "font": {
                 "color": "blue"
                },
                "showarrow": false,
                "text": "49",
                "x": -2.128608,
                "y": -0.131312,
                "yshift": 15,
                "z": 1.6428
               },
               {
                "font": {
                 "color": "blue"
                },
                "showarrow": false,
                "text": "50",
                "x": -5.063558,
                "y": 0.922478,
                "yshift": 15,
                "z": 0.306885
               },
               {
                "font": {
                 "color": "blue"
                },
                "showarrow": false,
                "text": "51",
                "x": -5.668976,
                "y": 0.579635,
                "yshift": 15,
                "z": -1.737219
               },
               {
                "font": {
                 "color": "blue"
                },
                "showarrow": false,
                "text": "52",
                "x": -4.206623,
                "y": 1.085281,
                "yshift": 15,
                "z": 2.257835
               },
               {
                "font": {
                 "color": "blue"
                },
                "showarrow": false,
                "text": "53",
                "x": -6.150144,
                "y": 1.578212,
                "yshift": 15,
                "z": 0.743416
               },
               {
                "font": {
                 "color": "blue"
                },
                "showarrow": false,
                "text": "54",
                "x": -7.219433,
                "y": 1.789162,
                "yshift": 15,
                "z": -0.16153
               },
               {
                "font": {
                 "color": "blue"
                },
                "showarrow": false,
                "text": "55",
                "x": -7.621359,
                "y": 0.838323,
                "yshift": 15,
                "z": -0.518325
               },
               {
                "font": {
                 "color": "blue"
                },
                "showarrow": false,
                "text": "56",
                "x": -7.983957,
                "y": 2.320321,
                "yshift": 15,
                "z": 0.396631
               },
               {
                "font": {
                 "color": "blue"
                },
                "showarrow": false,
                "text": "57",
                "x": -6.898387,
                "y": 2.396919,
                "yshift": 15,
                "z": -1.010512
               },
               {
                "showarrow": false,
                "text": "1.54",
                "x": -0.855797,
                "y": -2.768063,
                "yshift": 10,
                "z": -0.8876335
               },
               {
                "showarrow": false,
                "text": "1.3",
                "x": 0.1614005,
                "y": -1.245394,
                "yshift": 10,
                "z": -0.517829
               },
               {
                "showarrow": false,
                "text": "1.39",
                "x": -0.17129299999999997,
                "y": 1.2084165,
                "yshift": 10,
                "z": -0.43907149999999995
               },
               {
                "showarrow": false,
                "text": "1.39",
                "x": -0.276349,
                "y": 2.398155,
                "yshift": 10,
                "z": -0.454706
               },
               {
                "showarrow": false,
                "text": "1.38",
                "x": 0.667941,
                "y": 3.066953,
                "yshift": 10,
                "z": -0.166775
               },
               {
                "showarrow": false,
                "text": "1.39",
                "x": 1.6911990000000001,
                "y": 2.5216745,
                "yshift": 10,
                "z": 0.1091675
               },
               {
                "showarrow": false,
                "text": "1.32",
                "x": 1.785179,
                "y": 1.3378685,
                "yshift": 10,
                "z": 0.100267
               },
               {
                "showarrow": false,
                "text": "2.28",
                "x": 2.062022,
                "y": -0.2509295,
                "yshift": 10,
                "z": -0.1380175
               },
               {
                "showarrow": false,
                "text": "1.36",
                "x": 4.634468,
                "y": -0.6951025,
                "yshift": 10,
                "z": -0.06290949999999995
               },
               {
                "showarrow": false,
                "text": "1.09",
                "x": -0.6553445,
                "y": -2.5557185000000002,
                "yshift": 10,
                "z": 1.880115
               },
               {
                "showarrow": false,
                "text": "1.09",
                "x": -1.4326745,
                "y": -2.919911,
                "yshift": 10,
                "z": 1.653211
               },
               {
                "showarrow": false,
                "text": "1.33",
                "x": 2.105624,
                "y": 4.521084500000001,
                "yshift": 10,
                "z": 0.938835
               },
               {
                "showarrow": false,
                "text": "1.42",
                "x": -2.131036,
                "y": -0.755063,
                "yshift": 10,
                "z": -0.587215
               },
               {
                "showarrow": false,
                "text": "1.39",
                "x": -3.225877,
                "y": -0.31246799999999997,
                "yshift": 10,
                "z": -0.8711545
               },
               {
                "showarrow": false,
                "text": "1.42",
                "x": -6.6847885,
                "y": 1.683687,
                "yshift": 10,
                "z": 0.29094299999999995
               },
               {
                "showarrow": false,
                "text": "1.09",
                "x": -7.420396,
                "y": 1.3137425,
                "yshift": 10,
                "z": -0.33992750000000005
               },
               {
                "showarrow": false,
                "text": "1.49",
                "x": -0.021897999999999987,
                "y": -0.0538515,
                "yshift": 10,
                "z": -0.42469349999999995
               },
               {
                "showarrow": false,
                "text": "1.08",
                "x": 4.600899999999999,
                "y": -0.04542050000000003,
                "yshift": 10,
                "z": -0.9102775
               },
               {
                "showarrow": false,
                "text": "1.09",
                "x": 1.511468,
                "y": -4.377536,
                "yshift": 10,
                "z": 0.735125
               },
               {
                "showarrow": false,
                "text": "1.33",
                "x": 1.6489120000000002,
                "y": 4.93812,
                "yshift": 10,
                "z": 0.056394000000000014
               },
               {
                "showarrow": false,
                "text": "1.39",
                "x": -2.8128775,
                "y": -0.1815545,
                "yshift": 10,
                "z": 0.25035949999999996
               },
               {
                "showarrow": false,
                "text": "1.39",
                "x": -4.313158,
                "y": 0.1137955,
                "yshift": 10,
                "z": -1.165801
               },
               {
                "showarrow": false,
                "text": "1.4",
                "x": -4.557461,
                "y": 0.8214075000000001,
                "yshift": 10,
                "z": 0.7792565
               },
               {
                "showarrow": false,
                "text": "1.09",
                "x": -7.601695,
                "y": 2.0547415,
                "yshift": 10,
                "z": 0.1175505
               },
               {
                "showarrow": false,
                "text": "1.48",
                "x": 0.2108875,
                "y": -2.371335,
                "yshift": 10,
                "z": -0.581915
               },
               {
                "showarrow": false,
                "text": "1.08",
                "x": 4.875201000000001,
                "y": -0.9059465,
                "yshift": 10,
                "z": -1.08083
               },
               {
                "showarrow": false,
                "text": "1.08",
                "x": 4.772677,
                "y": -1.31344,
                "yshift": 10,
                "z": 0.7955175000000001
               },
               {
                "showarrow": false,
                "text": "1.09",
                "x": -0.9113505,
                "y": -3.3171925,
                "yshift": 10,
                "z": 2.239281
               },
               {
                "showarrow": false,
                "text": "1.09",
                "x": -0.940195,
                "y": -5.4309305000000005,
                "yshift": 10,
                "z": 0.8578790000000001
               },
               {
                "showarrow": false,
                "text": "1.33",
                "x": 2.6077345000000003,
                "y": 4.4474745,
                "yshift": 10,
                "z": -0.009219499999999992
               },
               {
                "showarrow": false,
                "text": "1.08",
                "x": -3.6586695000000002,
                "y": -0.39400899999999994,
                "yshift": 10,
                "z": -1.8460075000000002
               },
               {
                "showarrow": false,
                "text": "1.38",
                "x": -3.4761070000000003,
                "y": 0.3834205,
                "yshift": 10,
                "z": 1.0776219999999999
               },
               {
                "showarrow": false,
                "text": "1.34",
                "x": -5.606851,
                "y": 1.250345,
                "yshift": 10,
                "z": 0.5251505
               },
               {
                "showarrow": false,
                "text": "1.09",
                "x": -7.05891,
                "y": 2.0930405,
                "yshift": 10,
                "z": -0.586021
               },
               {
                "showarrow": false,
                "text": "1.08",
                "x": 4.499193,
                "y": -0.453091,
                "yshift": 10,
                "z": 0.969077
               },
               {
                "showarrow": false,
                "text": "1.09",
                "x": -1.4488165,
                "y": -5.0529975,
                "yshift": 10,
                "z": 0.2498375
               },
               {
                "showarrow": false,
                "text": "1.08",
                "x": -2.514729,
                "y": -0.04240400000000001,
                "yshift": 10,
                "z": 1.273208
               },
               {
                "showarrow": false,
                "text": "1.39",
                "x": -4.981512499999999,
                "y": 0.682696,
                "yshift": 10,
                "z": -0.3426525
               },
               {
                "showarrow": false,
                "text": "1.08",
                "x": -4.1289935,
                "y": 0.902809,
                "yshift": 10,
                "z": 1.7547315
               },
               {
                "showarrow": false,
                "text": "1.35",
                "x": 0.866977,
                "y": 0.6934085,
                "yshift": 10,
                "z": -0.160041
               },
               {
                "showarrow": false,
                "text": "1.09",
                "x": -0.6776685,
                "y": -5.416989,
                "yshift": 10,
                "z": 0.01620350000000001
               },
               {
                "showarrow": false,
                "text": "1.08",
                "x": -5.284221499999999,
                "y": 0.5112745,
                "yshift": 10,
                "z": -1.3647045
               },
               {
                "showarrow": false,
                "text": "1.08",
                "x": -1.074915,
                "y": 1.7258665,
                "yshift": 10,
                "z": -0.7039185
               },
               {
                "showarrow": false,
                "text": "1.08",
                "x": -0.282884,
                "y": 3.4743015,
                "yshift": 10,
                "z": -0.44322500000000004
               },
               {
                "showarrow": false,
                "text": "2.1",
                "x": 1.5962915,
                "y": -1.4898595000000001,
                "yshift": 10,
                "z": -0.401628
               },
               {
                "showarrow": false,
                "text": "1.48",
                "x": 2.860956,
                "y": -1.919981,
                "yshift": 10,
                "z": -0.445502
               },
               {
                "showarrow": false,
                "text": "1.09",
                "x": 1.2045845000000002,
                "y": -4.484561,
                "yshift": 10,
                "z": 1.5555975
               },
               {
                "showarrow": false,
                "text": "2.22",
                "x": 3.6393145000000002,
                "y": -0.8967985,
                "yshift": 10,
                "z": -0.5071334999999999
               },
               {
                "showarrow": false,
                "text": "1.53",
                "x": 0.5127710000000001,
                "y": -3.9754275000000003,
                "yshift": 10,
                "z": 0.9042865
               },
               {
                "showarrow": false,
                "text": "1.09",
                "x": 1.491713,
                "y": -3.6937485,
                "yshift": 10,
                "z": 1.298047
               },
               {
                "showarrow": false,
                "text": "2.22",
                "x": 3.6031915000000003,
                "y": -1.040959,
                "yshift": 10,
                "z": 0.15775500000000003
               },
               {
                "showarrow": false,
                "text": "1.09",
                "x": -1.6116445000000001,
                "y": -2.5849535,
                "yshift": 10,
                "z": -1.667518
               },
               {
                "showarrow": false,
                "text": "1.53",
                "x": -0.5548405,
                "y": -3.419439,
                "yshift": 10,
                "z": 1.2260710000000001
               },
               {
                "showarrow": false,
                "text": "1.09",
                "x": -1.9637665000000002,
                "y": -2.7764845,
                "yshift": 10,
                "z": -0.8776269999999999
               },
               {
                "showarrow": false,
                "text": "1.53",
                "x": -0.5646734999999999,
                "y": -4.4699805,
                "yshift": 10,
                "z": 0.539602
               },
               {
                "showarrow": false,
                "text": "1.09",
                "x": 0.08067200000000001,
                "y": -3.311343,
                "yshift": 10,
                "z": -1.0270645
               },
               {
                "showarrow": false,
                "text": "1.55",
                "x": -0.180427,
                "y": -3.4085400000000003,
                "yshift": 10,
                "z": 0.013920500000000002
               },
               {
                "showarrow": false,
                "text": "1.47",
                "x": -1.5429955,
                "y": -1.8155165000000002,
                "yshift": 10,
                "z": -0.9498785
               },
               {
                "showarrow": false,
                "text": "1.35",
                "x": -0.8994555,
                "y": -0.9271185,
                "yshift": 10,
                "z": -0.645202
               },
               {
                "showarrow": false,
                "text": "1.51",
                "x": 1.6687065,
                "y": 3.7690315,
                "yshift": 10,
                "z": 0.156845
               },
               {
                "showarrow": false,
                "text": "1.08",
                "x": 2.5790835000000003,
                "y": 1.9519030000000002,
                "yshift": 10,
                "z": 0.326041
               }
              ]
             }
            ],
            "label": "Both",
            "method": "relayout"
           },
           {
            "args": [
             {
              "scene.annotations": []
             }
            ],
            "label": "Hide all",
            "method": "relayout"
           },
           {
            "args": [
             {
              "visible": [
               true,
               true,
               true,
               true,
               true,
               true,
               true,
               true,
               true,
               true
              ]
             },
             {}
            ],
            "label": "Show dipole",
            "method": "update"
           },
           {
            "args": [
             {
              "visible": [
               true,
               true,
               false,
               false,
               false,
               false,
               false,
               false,
               false,
               false
              ]
             },
             {}
            ],
            "label": "Hide dipole",
            "method": "update"
           }
          ],
          "direction": "down",
          "xanchor": "left",
          "yanchor": "top"
         }
        ]
       }
      }
     },
     "metadata": {},
     "output_type": "display_data"
    },
    {
     "name": "stdout",
     "output_type": "stream",
     "text": [
      "🔥 atoms: ['C', 'C', 'C', 'N', 'C', 'C', 'C', 'C', 'C', 'N', 'Pd', 'H', 'H', 'H', 'H', 'H', 'H', 'C', 'H', 'C', 'C', 'H', 'H', 'H', 'H', 'C', 'H', 'H', 'H', 'C', 'H', 'C', 'H', 'H', 'H', 'H', 'H', 'O', 'C', 'H', 'H', 'H', 'N', 'C', 'C', 'C', 'C', 'H', 'C', 'H', 'C', 'H', 'C', 'C', 'F', 'F', 'F', 'F', 'F', 'F']\n",
      "🔥 dipole vector: array([-9.6109,  3.9002,  1.8389]) (scaled by 5)\n"
     ]
    },
    {
     "data": {
      "application/vnd.plotly.v1+json": {
       "config": {
        "plotlyServerURL": "https://plot.ly"
       },
       "data": [
        {
         "marker": {
          "color": [
           "black",
           "black",
           "black",
           "blue",
           "black",
           "black",
           "black",
           "black",
           "black",
           "blue",
           "green",
           "white",
           "white",
           "white",
           "white",
           "white",
           "white",
           "black",
           "white",
           "black",
           "black",
           "white",
           "white",
           "white",
           "white",
           "black",
           "white",
           "white",
           "white",
           "black",
           "white",
           "black",
           "white",
           "white",
           "white",
           "white",
           "white",
           "red",
           "black",
           "white",
           "white",
           "white",
           "blue",
           "black",
           "black",
           "black",
           "black",
           "white",
           "black",
           "white",
           "black",
           "white",
           "black",
           "black",
           "green",
           "green",
           "green",
           "green",
           "green",
           "green"
          ],
          "line": {
           "color": "lightgray",
           "width": 2
          },
          "size": 5
         },
         "mode": "markers",
         "name": "atoms",
         "text": [
          "C",
          "C",
          "C",
          "N",
          "C",
          "C",
          "C",
          "C",
          "C",
          "N",
          "Pd",
          "H",
          "H",
          "H",
          "H",
          "H",
          "H",
          "C",
          "H",
          "C",
          "C",
          "H",
          "H",
          "H",
          "H",
          "C",
          "H",
          "H",
          "H",
          "C",
          "H",
          "C",
          "H",
          "H",
          "H",
          "H",
          "H",
          "O",
          "C",
          "H",
          "H",
          "H",
          "N",
          "C",
          "C",
          "C",
          "C",
          "H",
          "C",
          "H",
          "C",
          "H",
          "C",
          "C",
          "F",
          "F",
          "F",
          "F",
          "F",
          "F"
         ],
         "type": "scatter3d",
         "x": [
          -1.515379,
          -0.077081,
          -0.903312,
          -1.945768,
          -1.044561,
          -0.042047,
          -0.273558,
          -1.520232,
          -2.476932,
          -2.266586,
          -3.793157,
          0.919835,
          -1.763533,
          -3.467136,
          -0.030442,
          0.627728,
          -2.155565,
          -1.620947,
          -4.621077,
          -5.650305,
          -5.587221,
          -5.286146,
          -6.250842,
          -6.134983,
          -5.172219,
          -3.061432,
          -0.807574,
          -3.764804,
          -0.9569,
          -0.698665,
          0.355621,
          -1.234185,
          -3.156953,
          -3.355327,
          -1.324689,
          -0.205876,
          -1.894619,
          0.733661,
          0.562248,
          1.502585,
          0.355282,
          -0.243039,
          0.265326,
          1.555808,
          2.660659,
          1.736795,
          3.93331,
          2.528205,
          3.014277,
          0.885209,
          4.125644,
          5.12071,
          3.155324,
          5.104892,
          2.64791,
          4.422146,
          2.481668,
          5.056524,
          5.088398,
          6.268137
         ],
         "y": [
          -2.580144,
          -2.468186,
          -0.40739,
          -1.166816,
          1.073057,
          1.940532,
          3.321908,
          3.757882,
          2.799827,
          1.493702,
          -0.184605,
          1.598712,
          4.804455,
          3.109429,
          -2.631449,
          -3.134616,
          -3.11161,
          -3.276632,
          -1.392554,
          0.950883,
          0.735826,
          1.872019,
          0.319557,
          -0.074162,
          1.479413,
          -3.219109,
          -3.111123,
          -3.593874,
          -1.563147,
          -2.61541,
          -2.682177,
          -4.746866,
          -3.840256,
          -2.204693,
          -5.27357,
          -4.871381,
          -5.237518,
          4.10714,
          5.519288,
          5.950474,
          5.817784,
          5.846171,
          -1.065754,
          -0.702655,
          -1.080122,
          -0.014084,
          -0.746647,
          -1.625107,
          0.339465,
          0.243059,
          -0.023426,
          0.242108,
          1.144181,
          -1.171263,
          2.374275,
          1.276449,
          0.581428,
          -0.584798,
          -2.490962,
          -0.85802
         ],
         "z": [
          0.57592,
          1.117706,
          0.587054,
          0.530129,
          0.514632,
          0.873347,
          0.783747,
          0.343624,
          0.047729,
          0.127486,
          0.282385,
          1.224923,
          0.244261,
          -0.2675,
          2.195402,
          0.626848,
          1.279995,
          -0.803203,
          0.508683,
          0.711276,
          -0.632863,
          1.150894,
          1.352229,
          -1.096208,
          -1.303276,
          -1.314662,
          -2.794292,
          -0.567543,
          -1.973934,
          -1.828933,
          -1.549444,
          -0.617774,
          -2.206248,
          -1.588098,
          -1.568207,
          -0.275912,
          0.100274,
          1.133553,
          1.049774,
          1.375663,
          0.021054,
          1.709351,
          0.809799,
          0.366922,
          1.119915,
          -0.827522,
          0.683667,
          2.046817,
          -1.227288,
          -1.445663,
          -0.482435,
          -0.809658,
          -2.494232,
          1.535018,
          -2.327527,
          -2.868515,
          -3.501544,
          2.735368,
          1.742478,
          0.974302
         ]
        },
        {
         "hoverinfo": "none",
         "line": {
          "color": "black",
          "width": 3
         },
         "mode": "lines",
         "name": "bonds",
         "type": "scatter3d",
         "x": [
          -1.515379,
          -0.077081,
          null,
          -0.903312,
          -1.945768,
          null,
          -1.044561,
          -0.042047,
          null,
          -0.042047,
          -0.273558,
          null,
          -0.273558,
          -1.520232,
          null,
          -2.476932,
          -1.520232,
          null,
          -2.476932,
          -2.266586,
          null,
          -2.266586,
          -3.793157,
          null,
          -5.650305,
          -5.587221,
          null,
          -0.9569,
          -0.698665,
          null,
          -0.698665,
          0.355621,
          null,
          0.733661,
          0.562248,
          null,
          0.562248,
          1.502585,
          null,
          0.265326,
          1.555808,
          null,
          1.555808,
          2.660659,
          null,
          4.125644,
          5.12071,
          null,
          -0.903312,
          -1.044561,
          null,
          -5.650305,
          -5.286146,
          null,
          -3.061432,
          -3.764804,
          null,
          0.355282,
          0.562248,
          null,
          1.555808,
          1.736795,
          null,
          2.660659,
          3.93331,
          null,
          3.014277,
          4.125644,
          null,
          3.155324,
          2.64791,
          null,
          -1.515379,
          -1.945768,
          null,
          -5.650305,
          -6.250842,
          null,
          -5.587221,
          -6.134983,
          null,
          -0.807574,
          -0.698665,
          null,
          -1.324689,
          -1.234185,
          null,
          -0.243039,
          0.562248,
          null,
          2.660659,
          2.528205,
          null,
          3.014277,
          1.736795,
          null,
          3.155324,
          4.422146,
          null,
          -5.172219,
          -5.587221,
          null,
          -0.205876,
          -1.234185,
          null,
          0.885209,
          1.736795,
          null,
          4.125644,
          3.93331,
          null,
          3.014277,
          3.155324,
          null,
          2.481668,
          3.155324,
          null,
          5.056524,
          5.104892,
          null,
          -2.266586,
          -1.044561,
          null,
          -1.763533,
          -1.520232,
          null,
          -2.476932,
          -3.467136,
          null,
          -1.894619,
          -1.234185,
          null,
          5.088398,
          5.104892,
          null,
          0.919835,
          -0.042047,
          null,
          6.268137,
          5.104892,
          null,
          -3.793157,
          -1.945768,
          null,
          -3.156953,
          -3.061432,
          null,
          5.104892,
          3.93331,
          null,
          -3.793157,
          -4.621077,
          null,
          -1.620947,
          -3.061432,
          null,
          -3.061432,
          -3.355327,
          null,
          -3.793157,
          -5.650305,
          null,
          -3.793157,
          -5.587221,
          null,
          -1.620947,
          -0.698665,
          null,
          -0.077081,
          -0.030442,
          null,
          -0.077081,
          0.627728,
          null,
          -1.620947,
          -1.234185,
          null,
          -1.515379,
          -2.155565,
          null,
          -1.515379,
          -1.620947,
          null,
          -0.077081,
          0.265326,
          null,
          0.265326,
          -0.903312,
          null,
          0.733661,
          -0.273558,
          null
         ],
         "y": [
          -2.580144,
          -2.468186,
          null,
          -0.40739,
          -1.166816,
          null,
          1.073057,
          1.940532,
          null,
          1.940532,
          3.321908,
          null,
          3.321908,
          3.757882,
          null,
          2.799827,
          3.757882,
          null,
          2.799827,
          1.493702,
          null,
          1.493702,
          -0.184605,
          null,
          0.950883,
          0.735826,
          null,
          -1.563147,
          -2.61541,
          null,
          -2.61541,
          -2.682177,
          null,
          4.10714,
          5.519288,
          null,
          5.519288,
          5.950474,
          null,
          -1.065754,
          -0.702655,
          null,
          -0.702655,
          -1.080122,
          null,
          -0.023426,
          0.242108,
          null,
          -0.40739,
          1.073057,
          null,
          0.950883,
          1.872019,
          null,
          -3.219109,
          -3.593874,
          null,
          5.817784,
          5.519288,
          null,
          -0.702655,
          -0.014084,
          null,
          -1.080122,
          -0.746647,
          null,
          0.339465,
          -0.023426,
          null,
          1.144181,
          2.374275,
          null,
          -2.580144,
          -1.166816,
          null,
          0.950883,
          0.319557,
          null,
          0.735826,
          -0.074162,
          null,
          -3.111123,
          -2.61541,
          null,
          -5.27357,
          -4.746866,
          null,
          5.846171,
          5.519288,
          null,
          -1.080122,
          -1.625107,
          null,
          0.339465,
          -0.014084,
          null,
          1.144181,
          1.276449,
          null,
          1.479413,
          0.735826,
          null,
          -4.871381,
          -4.746866,
          null,
          0.243059,
          -0.014084,
          null,
          -0.023426,
          -0.746647,
          null,
          0.339465,
          1.144181,
          null,
          0.581428,
          1.144181,
          null,
          -0.584798,
          -1.171263,
          null,
          1.493702,
          1.073057,
          null,
          4.804455,
          3.757882,
          null,
          2.799827,
          3.109429,
          null,
          -5.237518,
          -4.746866,
          null,
          -2.490962,
          -1.171263,
          null,
          1.598712,
          1.940532,
          null,
          -0.85802,
          -1.171263,
          null,
          -0.184605,
          -1.166816,
          null,
          -3.840256,
          -3.219109,
          null,
          -1.171263,
          -0.746647,
          null,
          -0.184605,
          -1.392554,
          null,
          -3.276632,
          -3.219109,
          null,
          -3.219109,
          -2.204693,
          null,
          -0.184605,
          0.950883,
          null,
          -0.184605,
          0.735826,
          null,
          -3.276632,
          -2.61541,
          null,
          -2.468186,
          -2.631449,
          null,
          -2.468186,
          -3.134616,
          null,
          -3.276632,
          -4.746866,
          null,
          -2.580144,
          -3.11161,
          null,
          -2.580144,
          -3.276632,
          null,
          -2.468186,
          -1.065754,
          null,
          -1.065754,
          -0.40739,
          null,
          4.10714,
          3.321908,
          null
         ],
         "z": [
          0.57592,
          1.117706,
          null,
          0.587054,
          0.530129,
          null,
          0.514632,
          0.873347,
          null,
          0.873347,
          0.783747,
          null,
          0.783747,
          0.343624,
          null,
          0.047729,
          0.343624,
          null,
          0.047729,
          0.127486,
          null,
          0.127486,
          0.282385,
          null,
          0.711276,
          -0.632863,
          null,
          -1.973934,
          -1.828933,
          null,
          -1.828933,
          -1.549444,
          null,
          1.133553,
          1.049774,
          null,
          1.049774,
          1.375663,
          null,
          0.809799,
          0.366922,
          null,
          0.366922,
          1.119915,
          null,
          -0.482435,
          -0.809658,
          null,
          0.587054,
          0.514632,
          null,
          0.711276,
          1.150894,
          null,
          -1.314662,
          -0.567543,
          null,
          0.021054,
          1.049774,
          null,
          0.366922,
          -0.827522,
          null,
          1.119915,
          0.683667,
          null,
          -1.227288,
          -0.482435,
          null,
          -2.494232,
          -2.327527,
          null,
          0.57592,
          0.530129,
          null,
          0.711276,
          1.352229,
          null,
          -0.632863,
          -1.096208,
          null,
          -2.794292,
          -1.828933,
          null,
          -1.568207,
          -0.617774,
          null,
          1.709351,
          1.049774,
          null,
          1.119915,
          2.046817,
          null,
          -1.227288,
          -0.827522,
          null,
          -2.494232,
          -2.868515,
          null,
          -1.303276,
          -0.632863,
          null,
          -0.275912,
          -0.617774,
          null,
          -1.445663,
          -0.827522,
          null,
          -0.482435,
          0.683667,
          null,
          -1.227288,
          -2.494232,
          null,
          -3.501544,
          -2.494232,
          null,
          2.735368,
          1.535018,
          null,
          0.127486,
          0.514632,
          null,
          0.244261,
          0.343624,
          null,
          0.047729,
          -0.2675,
          null,
          0.100274,
          -0.617774,
          null,
          1.742478,
          1.535018,
          null,
          1.224923,
          0.873347,
          null,
          0.974302,
          1.535018,
          null,
          0.282385,
          0.530129,
          null,
          -2.206248,
          -1.314662,
          null,
          1.535018,
          0.683667,
          null,
          0.282385,
          0.508683,
          null,
          -0.803203,
          -1.314662,
          null,
          -1.314662,
          -1.588098,
          null,
          0.282385,
          0.711276,
          null,
          0.282385,
          -0.632863,
          null,
          -0.803203,
          -1.828933,
          null,
          1.117706,
          2.195402,
          null,
          1.117706,
          0.626848,
          null,
          -0.803203,
          -0.617774,
          null,
          0.57592,
          1.279995,
          null,
          0.57592,
          -0.803203,
          null,
          1.117706,
          0.809799,
          null,
          0.809799,
          0.587054,
          null,
          1.133553,
          0.783747,
          null
         ]
        },
        {
         "line": {
          "color": "red",
          "width": 8
         },
         "mode": "lines",
         "name": "Dipole X",
         "showlegend": true,
         "type": "scatter3d",
         "visible": false,
         "x": [
          0,
          -47.904500000000006
         ],
         "y": [
          0,
          0
         ],
         "z": [
          0,
          0
         ]
        },
        {
         "anchor": "tip",
         "colorscale": [
          [
           0,
           "red"
          ],
          [
           1,
           "red"
          ]
         ],
         "name": "Dipole X",
         "showlegend": false,
         "showscale": false,
         "sizemode": "scaled",
         "sizeref": 0.2,
         "type": "cone",
         "u": [
          -48.054500000000004
         ],
         "v": [
          0
         ],
         "visible": false,
         "w": [
          0
         ],
         "x": [
          -48.054500000000004
         ],
         "y": [
          0
         ],
         "z": [
          0
         ]
        },
        {
         "line": {
          "color": "green",
          "width": 8
         },
         "mode": "lines",
         "name": "Dipole Y",
         "showlegend": true,
         "type": "scatter3d",
         "visible": false,
         "x": [
          0,
          0
         ],
         "y": [
          0,
          19.351
         ],
         "z": [
          0,
          0
         ]
        },
        {
         "anchor": "tip",
         "colorscale": [
          [
           0,
           "green"
          ],
          [
           1,
           "green"
          ]
         ],
         "name": "Dipole Y",
         "showlegend": false,
         "showscale": false,
         "sizemode": "scaled",
         "sizeref": 0.2,
         "type": "cone",
         "u": [
          0
         ],
         "v": [
          19.500999999999998
         ],
         "visible": false,
         "w": [
          0
         ],
         "x": [
          0
         ],
         "y": [
          19.500999999999998
         ],
         "z": [
          0
         ]
        },
        {
         "line": {
          "color": "blue",
          "width": 8
         },
         "mode": "lines",
         "name": "Dipole Z",
         "showlegend": true,
         "type": "scatter3d",
         "visible": false,
         "x": [
          0,
          0
         ],
         "y": [
          0,
          0
         ],
         "z": [
          0,
          9.0445
         ]
        },
        {
         "anchor": "tip",
         "colorscale": [
          [
           0,
           "blue"
          ],
          [
           1,
           "blue"
          ]
         ],
         "name": "Dipole Z",
         "showlegend": false,
         "showscale": false,
         "sizemode": "scaled",
         "sizeref": 0.2,
         "type": "cone",
         "u": [
          0
         ],
         "v": [
          0
         ],
         "visible": false,
         "w": [
          9.1945
         ],
         "x": [
          0
         ],
         "y": [
          0
         ],
         "z": [
          9.1945
         ]
        },
        {
         "line": {
          "color": "purple",
          "width": 8
         },
         "mode": "lines",
         "name": "Total Dipole",
         "showlegend": true,
         "type": "scatter3d",
         "visible": false,
         "x": [
          0,
          -47.91764294901732
         ],
         "y": [
          0,
          19.445462030585826
         ],
         "z": [
          0,
          9.16831447824324
         ]
        },
        {
         "anchor": "tip",
         "colorscale": [
          [
           0,
           "purple"
          ],
          [
           1,
           "purple"
          ]
         ],
         "name": "Total Dipole",
         "showlegend": false,
         "showscale": false,
         "sizemode": "scaled",
         "sizeref": 0.2,
         "type": "cone",
         "u": [
          -48.054500000000004
         ],
         "v": [
          19.500999999999998
         ],
         "visible": false,
         "w": [
          9.1945
         ],
         "x": [
          -48.054500000000004
         ],
         "y": [
          19.500999999999998
         ],
         "z": [
          9.1945
         ]
        }
       ],
       "layout": {
        "margin": {
         "b": 0,
         "l": 0,
         "r": 0,
         "t": 0
        },
        "scene": {
         "annotations": [
          {
           "font": {
            "color": "blue"
           },
           "showarrow": false,
           "text": "1",
           "x": -1.515379,
           "y": -2.580144,
           "yshift": 15,
           "z": 0.57592
          },
          {
           "font": {
            "color": "blue"
           },
           "showarrow": false,
           "text": "2",
           "x": -0.077081,
           "y": -2.468186,
           "yshift": 15,
           "z": 1.117706
          },
          {
           "font": {
            "color": "blue"
           },
           "showarrow": false,
           "text": "3",
           "x": -0.903312,
           "y": -0.40739,
           "yshift": 15,
           "z": 0.587054
          },
          {
           "font": {
            "color": "blue"
           },
           "showarrow": false,
           "text": "4",
           "x": -1.945768,
           "y": -1.166816,
           "yshift": 15,
           "z": 0.530129
          },
          {
           "font": {
            "color": "blue"
           },
           "showarrow": false,
           "text": "5",
           "x": -1.044561,
           "y": 1.073057,
           "yshift": 15,
           "z": 0.514632
          },
          {
           "font": {
            "color": "blue"
           },
           "showarrow": false,
           "text": "6",
           "x": -0.042047,
           "y": 1.940532,
           "yshift": 15,
           "z": 0.873347
          },
          {
           "font": {
            "color": "blue"
           },
           "showarrow": false,
           "text": "7",
           "x": -0.273558,
           "y": 3.321908,
           "yshift": 15,
           "z": 0.783747
          },
          {
           "font": {
            "color": "blue"
           },
           "showarrow": false,
           "text": "8",
           "x": -1.520232,
           "y": 3.757882,
           "yshift": 15,
           "z": 0.343624
          },
          {
           "font": {
            "color": "blue"
           },
           "showarrow": false,
           "text": "9",
           "x": -2.476932,
           "y": 2.799827,
           "yshift": 15,
           "z": 0.047729
          },
          {
           "font": {
            "color": "blue"
           },
           "showarrow": false,
           "text": "10",
           "x": -2.266586,
           "y": 1.493702,
           "yshift": 15,
           "z": 0.127486
          },
          {
           "font": {
            "color": "blue"
           },
           "showarrow": false,
           "text": "11",
           "x": -3.793157,
           "y": -0.184605,
           "yshift": 15,
           "z": 0.282385
          },
          {
           "font": {
            "color": "blue"
           },
           "showarrow": false,
           "text": "12",
           "x": 0.919835,
           "y": 1.598712,
           "yshift": 15,
           "z": 1.224923
          },
          {
           "font": {
            "color": "blue"
           },
           "showarrow": false,
           "text": "13",
           "x": -1.763533,
           "y": 4.804455,
           "yshift": 15,
           "z": 0.244261
          },
          {
           "font": {
            "color": "blue"
           },
           "showarrow": false,
           "text": "14",
           "x": -3.467136,
           "y": 3.109429,
           "yshift": 15,
           "z": -0.2675
          },
          {
           "font": {
            "color": "blue"
           },
           "showarrow": false,
           "text": "15",
           "x": -0.030442,
           "y": -2.631449,
           "yshift": 15,
           "z": 2.195402
          },
          {
           "font": {
            "color": "blue"
           },
           "showarrow": false,
           "text": "16",
           "x": 0.627728,
           "y": -3.134616,
           "yshift": 15,
           "z": 0.626848
          },
          {
           "font": {
            "color": "blue"
           },
           "showarrow": false,
           "text": "17",
           "x": -2.155565,
           "y": -3.11161,
           "yshift": 15,
           "z": 1.279995
          },
          {
           "font": {
            "color": "blue"
           },
           "showarrow": false,
           "text": "18",
           "x": -1.620947,
           "y": -3.276632,
           "yshift": 15,
           "z": -0.803203
          },
          {
           "font": {
            "color": "blue"
           },
           "showarrow": false,
           "text": "19",
           "x": -4.621077,
           "y": -1.392554,
           "yshift": 15,
           "z": 0.508683
          },
          {
           "font": {
            "color": "blue"
           },
           "showarrow": false,
           "text": "20",
           "x": -5.650305,
           "y": 0.950883,
           "yshift": 15,
           "z": 0.711276
          },
          {
           "font": {
            "color": "blue"
           },
           "showarrow": false,
           "text": "21",
           "x": -5.587221,
           "y": 0.735826,
           "yshift": 15,
           "z": -0.632863
          },
          {
           "font": {
            "color": "blue"
           },
           "showarrow": false,
           "text": "22",
           "x": -5.286146,
           "y": 1.872019,
           "yshift": 15,
           "z": 1.150894
          },
          {
           "font": {
            "color": "blue"
           },
           "showarrow": false,
           "text": "23",
           "x": -6.250842,
           "y": 0.319557,
           "yshift": 15,
           "z": 1.352229
          },
          {
           "font": {
            "color": "blue"
           },
           "showarrow": false,
           "text": "24",
           "x": -6.134983,
           "y": -0.074162,
           "yshift": 15,
           "z": -1.096208
          },
          {
           "font": {
            "color": "blue"
           },
           "showarrow": false,
           "text": "25",
           "x": -5.172219,
           "y": 1.479413,
           "yshift": 15,
           "z": -1.303276
          },
          {
           "font": {
            "color": "blue"
           },
           "showarrow": false,
           "text": "26",
           "x": -3.061432,
           "y": -3.219109,
           "yshift": 15,
           "z": -1.314662
          },
          {
           "font": {
            "color": "blue"
           },
           "showarrow": false,
           "text": "27",
           "x": -0.807574,
           "y": -3.111123,
           "yshift": 15,
           "z": -2.794292
          },
          {
           "font": {
            "color": "blue"
           },
           "showarrow": false,
           "text": "28",
           "x": -3.764804,
           "y": -3.593874,
           "yshift": 15,
           "z": -0.567543
          },
          {
           "font": {
            "color": "blue"
           },
           "showarrow": false,
           "text": "29",
           "x": -0.9569,
           "y": -1.563147,
           "yshift": 15,
           "z": -1.973934
          },
          {
           "font": {
            "color": "blue"
           },
           "showarrow": false,
           "text": "30",
           "x": -0.698665,
           "y": -2.61541,
           "yshift": 15,
           "z": -1.828933
          },
          {
           "font": {
            "color": "blue"
           },
           "showarrow": false,
           "text": "31",
           "x": 0.355621,
           "y": -2.682177,
           "yshift": 15,
           "z": -1.549444
          },
          {
           "font": {
            "color": "blue"
           },
           "showarrow": false,
           "text": "32",
           "x": -1.234185,
           "y": -4.746866,
           "yshift": 15,
           "z": -0.617774
          },
          {
           "font": {
            "color": "blue"
           },
           "showarrow": false,
           "text": "33",
           "x": -3.156953,
           "y": -3.840256,
           "yshift": 15,
           "z": -2.206248
          },
          {
           "font": {
            "color": "blue"
           },
           "showarrow": false,
           "text": "34",
           "x": -3.355327,
           "y": -2.204693,
           "yshift": 15,
           "z": -1.588098
          },
          {
           "font": {
            "color": "blue"
           },
           "showarrow": false,
           "text": "35",
           "x": -1.324689,
           "y": -5.27357,
           "yshift": 15,
           "z": -1.568207
          },
          {
           "font": {
            "color": "blue"
           },
           "showarrow": false,
           "text": "36",
           "x": -0.205876,
           "y": -4.871381,
           "yshift": 15,
           "z": -0.275912
          },
          {
           "font": {
            "color": "blue"
           },
           "showarrow": false,
           "text": "37",
           "x": -1.894619,
           "y": -5.237518,
           "yshift": 15,
           "z": 0.100274
          },
          {
           "font": {
            "color": "blue"
           },
           "showarrow": false,
           "text": "38",
           "x": 0.733661,
           "y": 4.10714,
           "yshift": 15,
           "z": 1.133553
          },
          {
           "font": {
            "color": "blue"
           },
           "showarrow": false,
           "text": "39",
           "x": 0.562248,
           "y": 5.519288,
           "yshift": 15,
           "z": 1.049774
          },
          {
           "font": {
            "color": "blue"
           },
           "showarrow": false,
           "text": "40",
           "x": 1.502585,
           "y": 5.950474,
           "yshift": 15,
           "z": 1.375663
          },
          {
           "font": {
            "color": "blue"
           },
           "showarrow": false,
           "text": "41",
           "x": 0.355282,
           "y": 5.817784,
           "yshift": 15,
           "z": 0.021054
          },
          {
           "font": {
            "color": "blue"
           },
           "showarrow": false,
           "text": "42",
           "x": -0.243039,
           "y": 5.846171,
           "yshift": 15,
           "z": 1.709351
          },
          {
           "font": {
            "color": "blue"
           },
           "showarrow": false,
           "text": "43",
           "x": 0.265326,
           "y": -1.065754,
           "yshift": 15,
           "z": 0.809799
          },
          {
           "font": {
            "color": "blue"
           },
           "showarrow": false,
           "text": "44",
           "x": 1.555808,
           "y": -0.702655,
           "yshift": 15,
           "z": 0.366922
          },
          {
           "font": {
            "color": "blue"
           },
           "showarrow": false,
           "text": "45",
           "x": 2.660659,
           "y": -1.080122,
           "yshift": 15,
           "z": 1.119915
          },
          {
           "font": {
            "color": "blue"
           },
           "showarrow": false,
           "text": "46",
           "x": 1.736795,
           "y": -0.014084,
           "yshift": 15,
           "z": -0.827522
          },
          {
           "font": {
            "color": "blue"
           },
           "showarrow": false,
           "text": "47",
           "x": 3.93331,
           "y": -0.746647,
           "yshift": 15,
           "z": 0.683667
          },
          {
           "font": {
            "color": "blue"
           },
           "showarrow": false,
           "text": "48",
           "x": 2.528205,
           "y": -1.625107,
           "yshift": 15,
           "z": 2.046817
          },
          {
           "font": {
            "color": "blue"
           },
           "showarrow": false,
           "text": "49",
           "x": 3.014277,
           "y": 0.339465,
           "yshift": 15,
           "z": -1.227288
          },
          {
           "font": {
            "color": "blue"
           },
           "showarrow": false,
           "text": "50",
           "x": 0.885209,
           "y": 0.243059,
           "yshift": 15,
           "z": -1.445663
          },
          {
           "font": {
            "color": "blue"
           },
           "showarrow": false,
           "text": "51",
           "x": 4.125644,
           "y": -0.023426,
           "yshift": 15,
           "z": -0.482435
          },
          {
           "font": {
            "color": "blue"
           },
           "showarrow": false,
           "text": "52",
           "x": 5.12071,
           "y": 0.242108,
           "yshift": 15,
           "z": -0.809658
          },
          {
           "font": {
            "color": "blue"
           },
           "showarrow": false,
           "text": "53",
           "x": 3.155324,
           "y": 1.144181,
           "yshift": 15,
           "z": -2.494232
          },
          {
           "font": {
            "color": "blue"
           },
           "showarrow": false,
           "text": "54",
           "x": 5.104892,
           "y": -1.171263,
           "yshift": 15,
           "z": 1.535018
          },
          {
           "font": {
            "color": "blue"
           },
           "showarrow": false,
           "text": "55",
           "x": 2.64791,
           "y": 2.374275,
           "yshift": 15,
           "z": -2.327527
          },
          {
           "font": {
            "color": "blue"
           },
           "showarrow": false,
           "text": "56",
           "x": 4.422146,
           "y": 1.276449,
           "yshift": 15,
           "z": -2.868515
          },
          {
           "font": {
            "color": "blue"
           },
           "showarrow": false,
           "text": "57",
           "x": 2.481668,
           "y": 0.581428,
           "yshift": 15,
           "z": -3.501544
          },
          {
           "font": {
            "color": "blue"
           },
           "showarrow": false,
           "text": "58",
           "x": 5.056524,
           "y": -0.584798,
           "yshift": 15,
           "z": 2.735368
          },
          {
           "font": {
            "color": "blue"
           },
           "showarrow": false,
           "text": "59",
           "x": 5.088398,
           "y": -2.490962,
           "yshift": 15,
           "z": 1.742478
          },
          {
           "font": {
            "color": "blue"
           },
           "showarrow": false,
           "text": "60",
           "x": 6.268137,
           "y": -0.85802,
           "yshift": 15,
           "z": 0.974302
          }
         ],
         "xaxis": {
          "showbackground": false,
          "showgrid": false,
          "showticklabels": false,
          "title": {
           "font": {
            "color": "white"
           }
          },
          "zeroline": false
         },
         "yaxis": {
          "showbackground": false,
          "showgrid": false,
          "showticklabels": false,
          "title": {
           "font": {
            "color": "white"
           }
          },
          "zeroline": false
         },
         "zaxis": {
          "showbackground": false,
          "showgrid": false,
          "showticklabels": false,
          "title": {
           "font": {
            "color": "white"
           }
          },
          "zeroline": false
         }
        },
        "showlegend": false,
        "template": {
         "data": {
          "bar": [
           {
            "error_x": {
             "color": "#2a3f5f"
            },
            "error_y": {
             "color": "#2a3f5f"
            },
            "marker": {
             "line": {
              "color": "#E5ECF6",
              "width": 0.5
             },
             "pattern": {
              "fillmode": "overlay",
              "size": 10,
              "solidity": 0.2
             }
            },
            "type": "bar"
           }
          ],
          "barpolar": [
           {
            "marker": {
             "line": {
              "color": "#E5ECF6",
              "width": 0.5
             },
             "pattern": {
              "fillmode": "overlay",
              "size": 10,
              "solidity": 0.2
             }
            },
            "type": "barpolar"
           }
          ],
          "carpet": [
           {
            "aaxis": {
             "endlinecolor": "#2a3f5f",
             "gridcolor": "white",
             "linecolor": "white",
             "minorgridcolor": "white",
             "startlinecolor": "#2a3f5f"
            },
            "baxis": {
             "endlinecolor": "#2a3f5f",
             "gridcolor": "white",
             "linecolor": "white",
             "minorgridcolor": "white",
             "startlinecolor": "#2a3f5f"
            },
            "type": "carpet"
           }
          ],
          "choropleth": [
           {
            "colorbar": {
             "outlinewidth": 0,
             "ticks": ""
            },
            "type": "choropleth"
           }
          ],
          "contour": [
           {
            "colorbar": {
             "outlinewidth": 0,
             "ticks": ""
            },
            "colorscale": [
             [
              0,
              "#0d0887"
             ],
             [
              0.1111111111111111,
              "#46039f"
             ],
             [
              0.2222222222222222,
              "#7201a8"
             ],
             [
              0.3333333333333333,
              "#9c179e"
             ],
             [
              0.4444444444444444,
              "#bd3786"
             ],
             [
              0.5555555555555556,
              "#d8576b"
             ],
             [
              0.6666666666666666,
              "#ed7953"
             ],
             [
              0.7777777777777778,
              "#fb9f3a"
             ],
             [
              0.8888888888888888,
              "#fdca26"
             ],
             [
              1,
              "#f0f921"
             ]
            ],
            "type": "contour"
           }
          ],
          "contourcarpet": [
           {
            "colorbar": {
             "outlinewidth": 0,
             "ticks": ""
            },
            "type": "contourcarpet"
           }
          ],
          "heatmap": [
           {
            "colorbar": {
             "outlinewidth": 0,
             "ticks": ""
            },
            "colorscale": [
             [
              0,
              "#0d0887"
             ],
             [
              0.1111111111111111,
              "#46039f"
             ],
             [
              0.2222222222222222,
              "#7201a8"
             ],
             [
              0.3333333333333333,
              "#9c179e"
             ],
             [
              0.4444444444444444,
              "#bd3786"
             ],
             [
              0.5555555555555556,
              "#d8576b"
             ],
             [
              0.6666666666666666,
              "#ed7953"
             ],
             [
              0.7777777777777778,
              "#fb9f3a"
             ],
             [
              0.8888888888888888,
              "#fdca26"
             ],
             [
              1,
              "#f0f921"
             ]
            ],
            "type": "heatmap"
           }
          ],
          "heatmapgl": [
           {
            "colorbar": {
             "outlinewidth": 0,
             "ticks": ""
            },
            "colorscale": [
             [
              0,
              "#0d0887"
             ],
             [
              0.1111111111111111,
              "#46039f"
             ],
             [
              0.2222222222222222,
              "#7201a8"
             ],
             [
              0.3333333333333333,
              "#9c179e"
             ],
             [
              0.4444444444444444,
              "#bd3786"
             ],
             [
              0.5555555555555556,
              "#d8576b"
             ],
             [
              0.6666666666666666,
              "#ed7953"
             ],
             [
              0.7777777777777778,
              "#fb9f3a"
             ],
             [
              0.8888888888888888,
              "#fdca26"
             ],
             [
              1,
              "#f0f921"
             ]
            ],
            "type": "heatmapgl"
           }
          ],
          "histogram": [
           {
            "marker": {
             "pattern": {
              "fillmode": "overlay",
              "size": 10,
              "solidity": 0.2
             }
            },
            "type": "histogram"
           }
          ],
          "histogram2d": [
           {
            "colorbar": {
             "outlinewidth": 0,
             "ticks": ""
            },
            "colorscale": [
             [
              0,
              "#0d0887"
             ],
             [
              0.1111111111111111,
              "#46039f"
             ],
             [
              0.2222222222222222,
              "#7201a8"
             ],
             [
              0.3333333333333333,
              "#9c179e"
             ],
             [
              0.4444444444444444,
              "#bd3786"
             ],
             [
              0.5555555555555556,
              "#d8576b"
             ],
             [
              0.6666666666666666,
              "#ed7953"
             ],
             [
              0.7777777777777778,
              "#fb9f3a"
             ],
             [
              0.8888888888888888,
              "#fdca26"
             ],
             [
              1,
              "#f0f921"
             ]
            ],
            "type": "histogram2d"
           }
          ],
          "histogram2dcontour": [
           {
            "colorbar": {
             "outlinewidth": 0,
             "ticks": ""
            },
            "colorscale": [
             [
              0,
              "#0d0887"
             ],
             [
              0.1111111111111111,
              "#46039f"
             ],
             [
              0.2222222222222222,
              "#7201a8"
             ],
             [
              0.3333333333333333,
              "#9c179e"
             ],
             [
              0.4444444444444444,
              "#bd3786"
             ],
             [
              0.5555555555555556,
              "#d8576b"
             ],
             [
              0.6666666666666666,
              "#ed7953"
             ],
             [
              0.7777777777777778,
              "#fb9f3a"
             ],
             [
              0.8888888888888888,
              "#fdca26"
             ],
             [
              1,
              "#f0f921"
             ]
            ],
            "type": "histogram2dcontour"
           }
          ],
          "mesh3d": [
           {
            "colorbar": {
             "outlinewidth": 0,
             "ticks": ""
            },
            "type": "mesh3d"
           }
          ],
          "parcoords": [
           {
            "line": {
             "colorbar": {
              "outlinewidth": 0,
              "ticks": ""
             }
            },
            "type": "parcoords"
           }
          ],
          "pie": [
           {
            "automargin": true,
            "type": "pie"
           }
          ],
          "scatter": [
           {
            "fillpattern": {
             "fillmode": "overlay",
             "size": 10,
             "solidity": 0.2
            },
            "type": "scatter"
           }
          ],
          "scatter3d": [
           {
            "line": {
             "colorbar": {
              "outlinewidth": 0,
              "ticks": ""
             }
            },
            "marker": {
             "colorbar": {
              "outlinewidth": 0,
              "ticks": ""
             }
            },
            "type": "scatter3d"
           }
          ],
          "scattercarpet": [
           {
            "marker": {
             "colorbar": {
              "outlinewidth": 0,
              "ticks": ""
             }
            },
            "type": "scattercarpet"
           }
          ],
          "scattergeo": [
           {
            "marker": {
             "colorbar": {
              "outlinewidth": 0,
              "ticks": ""
             }
            },
            "type": "scattergeo"
           }
          ],
          "scattergl": [
           {
            "marker": {
             "colorbar": {
              "outlinewidth": 0,
              "ticks": ""
             }
            },
            "type": "scattergl"
           }
          ],
          "scattermapbox": [
           {
            "marker": {
             "colorbar": {
              "outlinewidth": 0,
              "ticks": ""
             }
            },
            "type": "scattermapbox"
           }
          ],
          "scatterpolar": [
           {
            "marker": {
             "colorbar": {
              "outlinewidth": 0,
              "ticks": ""
             }
            },
            "type": "scatterpolar"
           }
          ],
          "scatterpolargl": [
           {
            "marker": {
             "colorbar": {
              "outlinewidth": 0,
              "ticks": ""
             }
            },
            "type": "scatterpolargl"
           }
          ],
          "scatterternary": [
           {
            "marker": {
             "colorbar": {
              "outlinewidth": 0,
              "ticks": ""
             }
            },
            "type": "scatterternary"
           }
          ],
          "surface": [
           {
            "colorbar": {
             "outlinewidth": 0,
             "ticks": ""
            },
            "colorscale": [
             [
              0,
              "#0d0887"
             ],
             [
              0.1111111111111111,
              "#46039f"
             ],
             [
              0.2222222222222222,
              "#7201a8"
             ],
             [
              0.3333333333333333,
              "#9c179e"
             ],
             [
              0.4444444444444444,
              "#bd3786"
             ],
             [
              0.5555555555555556,
              "#d8576b"
             ],
             [
              0.6666666666666666,
              "#ed7953"
             ],
             [
              0.7777777777777778,
              "#fb9f3a"
             ],
             [
              0.8888888888888888,
              "#fdca26"
             ],
             [
              1,
              "#f0f921"
             ]
            ],
            "type": "surface"
           }
          ],
          "table": [
           {
            "cells": {
             "fill": {
              "color": "#EBF0F8"
             },
             "line": {
              "color": "white"
             }
            },
            "header": {
             "fill": {
              "color": "#C8D4E3"
             },
             "line": {
              "color": "white"
             }
            },
            "type": "table"
           }
          ]
         },
         "layout": {
          "annotationdefaults": {
           "arrowcolor": "#2a3f5f",
           "arrowhead": 0,
           "arrowwidth": 1
          },
          "autotypenumbers": "strict",
          "coloraxis": {
           "colorbar": {
            "outlinewidth": 0,
            "ticks": ""
           }
          },
          "colorscale": {
           "diverging": [
            [
             0,
             "#8e0152"
            ],
            [
             0.1,
             "#c51b7d"
            ],
            [
             0.2,
             "#de77ae"
            ],
            [
             0.3,
             "#f1b6da"
            ],
            [
             0.4,
             "#fde0ef"
            ],
            [
             0.5,
             "#f7f7f7"
            ],
            [
             0.6,
             "#e6f5d0"
            ],
            [
             0.7,
             "#b8e186"
            ],
            [
             0.8,
             "#7fbc41"
            ],
            [
             0.9,
             "#4d9221"
            ],
            [
             1,
             "#276419"
            ]
           ],
           "sequential": [
            [
             0,
             "#0d0887"
            ],
            [
             0.1111111111111111,
             "#46039f"
            ],
            [
             0.2222222222222222,
             "#7201a8"
            ],
            [
             0.3333333333333333,
             "#9c179e"
            ],
            [
             0.4444444444444444,
             "#bd3786"
            ],
            [
             0.5555555555555556,
             "#d8576b"
            ],
            [
             0.6666666666666666,
             "#ed7953"
            ],
            [
             0.7777777777777778,
             "#fb9f3a"
            ],
            [
             0.8888888888888888,
             "#fdca26"
            ],
            [
             1,
             "#f0f921"
            ]
           ],
           "sequentialminus": [
            [
             0,
             "#0d0887"
            ],
            [
             0.1111111111111111,
             "#46039f"
            ],
            [
             0.2222222222222222,
             "#7201a8"
            ],
            [
             0.3333333333333333,
             "#9c179e"
            ],
            [
             0.4444444444444444,
             "#bd3786"
            ],
            [
             0.5555555555555556,
             "#d8576b"
            ],
            [
             0.6666666666666666,
             "#ed7953"
            ],
            [
             0.7777777777777778,
             "#fb9f3a"
            ],
            [
             0.8888888888888888,
             "#fdca26"
            ],
            [
             1,
             "#f0f921"
            ]
           ]
          },
          "colorway": [
           "#636efa",
           "#EF553B",
           "#00cc96",
           "#ab63fa",
           "#FFA15A",
           "#19d3f3",
           "#FF6692",
           "#B6E880",
           "#FF97FF",
           "#FECB52"
          ],
          "font": {
           "color": "#2a3f5f"
          },
          "geo": {
           "bgcolor": "white",
           "lakecolor": "white",
           "landcolor": "#E5ECF6",
           "showlakes": true,
           "showland": true,
           "subunitcolor": "white"
          },
          "hoverlabel": {
           "align": "left"
          },
          "hovermode": "closest",
          "mapbox": {
           "style": "light"
          },
          "paper_bgcolor": "white",
          "plot_bgcolor": "#E5ECF6",
          "polar": {
           "angularaxis": {
            "gridcolor": "white",
            "linecolor": "white",
            "ticks": ""
           },
           "bgcolor": "#E5ECF6",
           "radialaxis": {
            "gridcolor": "white",
            "linecolor": "white",
            "ticks": ""
           }
          },
          "scene": {
           "xaxis": {
            "backgroundcolor": "#E5ECF6",
            "gridcolor": "white",
            "gridwidth": 2,
            "linecolor": "white",
            "showbackground": true,
            "ticks": "",
            "zerolinecolor": "white"
           },
           "yaxis": {
            "backgroundcolor": "#E5ECF6",
            "gridcolor": "white",
            "gridwidth": 2,
            "linecolor": "white",
            "showbackground": true,
            "ticks": "",
            "zerolinecolor": "white"
           },
           "zaxis": {
            "backgroundcolor": "#E5ECF6",
            "gridcolor": "white",
            "gridwidth": 2,
            "linecolor": "white",
            "showbackground": true,
            "ticks": "",
            "zerolinecolor": "white"
           }
          },
          "shapedefaults": {
           "line": {
            "color": "#2a3f5f"
           }
          },
          "ternary": {
           "aaxis": {
            "gridcolor": "white",
            "linecolor": "white",
            "ticks": ""
           },
           "baxis": {
            "gridcolor": "white",
            "linecolor": "white",
            "ticks": ""
           },
           "bgcolor": "#E5ECF6",
           "caxis": {
            "gridcolor": "white",
            "linecolor": "white",
            "ticks": ""
           }
          },
          "title": {
           "x": 0.05
          },
          "xaxis": {
           "automargin": true,
           "gridcolor": "white",
           "linecolor": "white",
           "ticks": "",
           "title": {
            "standoff": 15
           },
           "zerolinecolor": "white",
           "zerolinewidth": 2
          },
          "yaxis": {
           "automargin": true,
           "gridcolor": "white",
           "linecolor": "white",
           "ticks": "",
           "title": {
            "standoff": 15
           },
           "zerolinecolor": "white",
           "zerolinewidth": 2
          }
         }
        },
        "title": {
         "text": "LS1689",
         "x": 0.5,
         "xanchor": "center",
         "y": 0.9,
         "yanchor": "top"
        },
        "updatemenus": [
         {
          "buttons": [
           {
            "args": [
             {
              "scene.annotations": [
               {
                "font": {
                 "color": "blue"
                },
                "showarrow": false,
                "text": "1",
                "x": -1.515379,
                "y": -2.580144,
                "yshift": 15,
                "z": 0.57592
               },
               {
                "font": {
                 "color": "blue"
                },
                "showarrow": false,
                "text": "2",
                "x": -0.077081,
                "y": -2.468186,
                "yshift": 15,
                "z": 1.117706
               },
               {
                "font": {
                 "color": "blue"
                },
                "showarrow": false,
                "text": "3",
                "x": -0.903312,
                "y": -0.40739,
                "yshift": 15,
                "z": 0.587054
               },
               {
                "font": {
                 "color": "blue"
                },
                "showarrow": false,
                "text": "4",
                "x": -1.945768,
                "y": -1.166816,
                "yshift": 15,
                "z": 0.530129
               },
               {
                "font": {
                 "color": "blue"
                },
                "showarrow": false,
                "text": "5",
                "x": -1.044561,
                "y": 1.073057,
                "yshift": 15,
                "z": 0.514632
               },
               {
                "font": {
                 "color": "blue"
                },
                "showarrow": false,
                "text": "6",
                "x": -0.042047,
                "y": 1.940532,
                "yshift": 15,
                "z": 0.873347
               },
               {
                "font": {
                 "color": "blue"
                },
                "showarrow": false,
                "text": "7",
                "x": -0.273558,
                "y": 3.321908,
                "yshift": 15,
                "z": 0.783747
               },
               {
                "font": {
                 "color": "blue"
                },
                "showarrow": false,
                "text": "8",
                "x": -1.520232,
                "y": 3.757882,
                "yshift": 15,
                "z": 0.343624
               },
               {
                "font": {
                 "color": "blue"
                },
                "showarrow": false,
                "text": "9",
                "x": -2.476932,
                "y": 2.799827,
                "yshift": 15,
                "z": 0.047729
               },
               {
                "font": {
                 "color": "blue"
                },
                "showarrow": false,
                "text": "10",
                "x": -2.266586,
                "y": 1.493702,
                "yshift": 15,
                "z": 0.127486
               },
               {
                "font": {
                 "color": "blue"
                },
                "showarrow": false,
                "text": "11",
                "x": -3.793157,
                "y": -0.184605,
                "yshift": 15,
                "z": 0.282385
               },
               {
                "font": {
                 "color": "blue"
                },
                "showarrow": false,
                "text": "12",
                "x": 0.919835,
                "y": 1.598712,
                "yshift": 15,
                "z": 1.224923
               },
               {
                "font": {
                 "color": "blue"
                },
                "showarrow": false,
                "text": "13",
                "x": -1.763533,
                "y": 4.804455,
                "yshift": 15,
                "z": 0.244261
               },
               {
                "font": {
                 "color": "blue"
                },
                "showarrow": false,
                "text": "14",
                "x": -3.467136,
                "y": 3.109429,
                "yshift": 15,
                "z": -0.2675
               },
               {
                "font": {
                 "color": "blue"
                },
                "showarrow": false,
                "text": "15",
                "x": -0.030442,
                "y": -2.631449,
                "yshift": 15,
                "z": 2.195402
               },
               {
                "font": {
                 "color": "blue"
                },
                "showarrow": false,
                "text": "16",
                "x": 0.627728,
                "y": -3.134616,
                "yshift": 15,
                "z": 0.626848
               },
               {
                "font": {
                 "color": "blue"
                },
                "showarrow": false,
                "text": "17",
                "x": -2.155565,
                "y": -3.11161,
                "yshift": 15,
                "z": 1.279995
               },
               {
                "font": {
                 "color": "blue"
                },
                "showarrow": false,
                "text": "18",
                "x": -1.620947,
                "y": -3.276632,
                "yshift": 15,
                "z": -0.803203
               },
               {
                "font": {
                 "color": "blue"
                },
                "showarrow": false,
                "text": "19",
                "x": -4.621077,
                "y": -1.392554,
                "yshift": 15,
                "z": 0.508683
               },
               {
                "font": {
                 "color": "blue"
                },
                "showarrow": false,
                "text": "20",
                "x": -5.650305,
                "y": 0.950883,
                "yshift": 15,
                "z": 0.711276
               },
               {
                "font": {
                 "color": "blue"
                },
                "showarrow": false,
                "text": "21",
                "x": -5.587221,
                "y": 0.735826,
                "yshift": 15,
                "z": -0.632863
               },
               {
                "font": {
                 "color": "blue"
                },
                "showarrow": false,
                "text": "22",
                "x": -5.286146,
                "y": 1.872019,
                "yshift": 15,
                "z": 1.150894
               },
               {
                "font": {
                 "color": "blue"
                },
                "showarrow": false,
                "text": "23",
                "x": -6.250842,
                "y": 0.319557,
                "yshift": 15,
                "z": 1.352229
               },
               {
                "font": {
                 "color": "blue"
                },
                "showarrow": false,
                "text": "24",
                "x": -6.134983,
                "y": -0.074162,
                "yshift": 15,
                "z": -1.096208
               },
               {
                "font": {
                 "color": "blue"
                },
                "showarrow": false,
                "text": "25",
                "x": -5.172219,
                "y": 1.479413,
                "yshift": 15,
                "z": -1.303276
               },
               {
                "font": {
                 "color": "blue"
                },
                "showarrow": false,
                "text": "26",
                "x": -3.061432,
                "y": -3.219109,
                "yshift": 15,
                "z": -1.314662
               },
               {
                "font": {
                 "color": "blue"
                },
                "showarrow": false,
                "text": "27",
                "x": -0.807574,
                "y": -3.111123,
                "yshift": 15,
                "z": -2.794292
               },
               {
                "font": {
                 "color": "blue"
                },
                "showarrow": false,
                "text": "28",
                "x": -3.764804,
                "y": -3.593874,
                "yshift": 15,
                "z": -0.567543
               },
               {
                "font": {
                 "color": "blue"
                },
                "showarrow": false,
                "text": "29",
                "x": -0.9569,
                "y": -1.563147,
                "yshift": 15,
                "z": -1.973934
               },
               {
                "font": {
                 "color": "blue"
                },
                "showarrow": false,
                "text": "30",
                "x": -0.698665,
                "y": -2.61541,
                "yshift": 15,
                "z": -1.828933
               },
               {
                "font": {
                 "color": "blue"
                },
                "showarrow": false,
                "text": "31",
                "x": 0.355621,
                "y": -2.682177,
                "yshift": 15,
                "z": -1.549444
               },
               {
                "font": {
                 "color": "blue"
                },
                "showarrow": false,
                "text": "32",
                "x": -1.234185,
                "y": -4.746866,
                "yshift": 15,
                "z": -0.617774
               },
               {
                "font": {
                 "color": "blue"
                },
                "showarrow": false,
                "text": "33",
                "x": -3.156953,
                "y": -3.840256,
                "yshift": 15,
                "z": -2.206248
               },
               {
                "font": {
                 "color": "blue"
                },
                "showarrow": false,
                "text": "34",
                "x": -3.355327,
                "y": -2.204693,
                "yshift": 15,
                "z": -1.588098
               },
               {
                "font": {
                 "color": "blue"
                },
                "showarrow": false,
                "text": "35",
                "x": -1.324689,
                "y": -5.27357,
                "yshift": 15,
                "z": -1.568207
               },
               {
                "font": {
                 "color": "blue"
                },
                "showarrow": false,
                "text": "36",
                "x": -0.205876,
                "y": -4.871381,
                "yshift": 15,
                "z": -0.275912
               },
               {
                "font": {
                 "color": "blue"
                },
                "showarrow": false,
                "text": "37",
                "x": -1.894619,
                "y": -5.237518,
                "yshift": 15,
                "z": 0.100274
               },
               {
                "font": {
                 "color": "blue"
                },
                "showarrow": false,
                "text": "38",
                "x": 0.733661,
                "y": 4.10714,
                "yshift": 15,
                "z": 1.133553
               },
               {
                "font": {
                 "color": "blue"
                },
                "showarrow": false,
                "text": "39",
                "x": 0.562248,
                "y": 5.519288,
                "yshift": 15,
                "z": 1.049774
               },
               {
                "font": {
                 "color": "blue"
                },
                "showarrow": false,
                "text": "40",
                "x": 1.502585,
                "y": 5.950474,
                "yshift": 15,
                "z": 1.375663
               },
               {
                "font": {
                 "color": "blue"
                },
                "showarrow": false,
                "text": "41",
                "x": 0.355282,
                "y": 5.817784,
                "yshift": 15,
                "z": 0.021054
               },
               {
                "font": {
                 "color": "blue"
                },
                "showarrow": false,
                "text": "42",
                "x": -0.243039,
                "y": 5.846171,
                "yshift": 15,
                "z": 1.709351
               },
               {
                "font": {
                 "color": "blue"
                },
                "showarrow": false,
                "text": "43",
                "x": 0.265326,
                "y": -1.065754,
                "yshift": 15,
                "z": 0.809799
               },
               {
                "font": {
                 "color": "blue"
                },
                "showarrow": false,
                "text": "44",
                "x": 1.555808,
                "y": -0.702655,
                "yshift": 15,
                "z": 0.366922
               },
               {
                "font": {
                 "color": "blue"
                },
                "showarrow": false,
                "text": "45",
                "x": 2.660659,
                "y": -1.080122,
                "yshift": 15,
                "z": 1.119915
               },
               {
                "font": {
                 "color": "blue"
                },
                "showarrow": false,
                "text": "46",
                "x": 1.736795,
                "y": -0.014084,
                "yshift": 15,
                "z": -0.827522
               },
               {
                "font": {
                 "color": "blue"
                },
                "showarrow": false,
                "text": "47",
                "x": 3.93331,
                "y": -0.746647,
                "yshift": 15,
                "z": 0.683667
               },
               {
                "font": {
                 "color": "blue"
                },
                "showarrow": false,
                "text": "48",
                "x": 2.528205,
                "y": -1.625107,
                "yshift": 15,
                "z": 2.046817
               },
               {
                "font": {
                 "color": "blue"
                },
                "showarrow": false,
                "text": "49",
                "x": 3.014277,
                "y": 0.339465,
                "yshift": 15,
                "z": -1.227288
               },
               {
                "font": {
                 "color": "blue"
                },
                "showarrow": false,
                "text": "50",
                "x": 0.885209,
                "y": 0.243059,
                "yshift": 15,
                "z": -1.445663
               },
               {
                "font": {
                 "color": "blue"
                },
                "showarrow": false,
                "text": "51",
                "x": 4.125644,
                "y": -0.023426,
                "yshift": 15,
                "z": -0.482435
               },
               {
                "font": {
                 "color": "blue"
                },
                "showarrow": false,
                "text": "52",
                "x": 5.12071,
                "y": 0.242108,
                "yshift": 15,
                "z": -0.809658
               },
               {
                "font": {
                 "color": "blue"
                },
                "showarrow": false,
                "text": "53",
                "x": 3.155324,
                "y": 1.144181,
                "yshift": 15,
                "z": -2.494232
               },
               {
                "font": {
                 "color": "blue"
                },
                "showarrow": false,
                "text": "54",
                "x": 5.104892,
                "y": -1.171263,
                "yshift": 15,
                "z": 1.535018
               },
               {
                "font": {
                 "color": "blue"
                },
                "showarrow": false,
                "text": "55",
                "x": 2.64791,
                "y": 2.374275,
                "yshift": 15,
                "z": -2.327527
               },
               {
                "font": {
                 "color": "blue"
                },
                "showarrow": false,
                "text": "56",
                "x": 4.422146,
                "y": 1.276449,
                "yshift": 15,
                "z": -2.868515
               },
               {
                "font": {
                 "color": "blue"
                },
                "showarrow": false,
                "text": "57",
                "x": 2.481668,
                "y": 0.581428,
                "yshift": 15,
                "z": -3.501544
               },
               {
                "font": {
                 "color": "blue"
                },
                "showarrow": false,
                "text": "58",
                "x": 5.056524,
                "y": -0.584798,
                "yshift": 15,
                "z": 2.735368
               },
               {
                "font": {
                 "color": "blue"
                },
                "showarrow": false,
                "text": "59",
                "x": 5.088398,
                "y": -2.490962,
                "yshift": 15,
                "z": 1.742478
               },
               {
                "font": {
                 "color": "blue"
                },
                "showarrow": false,
                "text": "60",
                "x": 6.268137,
                "y": -0.85802,
                "yshift": 15,
                "z": 0.974302
               }
              ]
             }
            ],
            "label": "Atom indices",
            "method": "relayout"
           },
           {
            "args": [
             {
              "scene.annotations": [
               {
                "showarrow": false,
                "text": "1.54",
                "x": -0.79623,
                "y": -2.524165,
                "yshift": 10,
                "z": 0.846813
               },
               {
                "showarrow": false,
                "text": "1.29",
                "x": -1.42454,
                "y": -0.787103,
                "yshift": 10,
                "z": 0.5585914999999999
               },
               {
                "showarrow": false,
                "text": "1.37",
                "x": -0.543304,
                "y": 1.5067944999999998,
                "yshift": 10,
                "z": 0.6939895
               },
               {
                "showarrow": false,
                "text": "1.4",
                "x": -0.1578025,
                "y": 2.63122,
                "yshift": 10,
                "z": 0.8285469999999999
               },
               {
                "showarrow": false,
                "text": "1.39",
                "x": -0.896895,
                "y": 3.539895,
                "yshift": 10,
                "z": 0.5636855
               },
               {
                "showarrow": false,
                "text": "1.39",
                "x": -1.998582,
                "y": 3.2788545,
                "yshift": 10,
                "z": 0.1956765
               },
               {
                "showarrow": false,
                "text": "1.33",
                "x": -2.371759,
                "y": 2.1467645,
                "yshift": 10,
                "z": 0.08760749999999999
               },
               {
                "showarrow": false,
                "text": "2.27",
                "x": -3.0298715,
                "y": 0.6545485000000001,
                "yshift": 10,
                "z": 0.2049355
               },
               {
                "showarrow": false,
                "text": "1.36",
                "x": -5.618763,
                "y": 0.8433545,
                "yshift": 10,
                "z": 0.03920650000000003
               },
               {
                "showarrow": false,
                "text": "1.09",
                "x": -0.8277825,
                "y": -2.0892785,
                "yshift": 10,
                "z": -1.9014335
               },
               {
                "showarrow": false,
                "text": "1.09",
                "x": -0.17152199999999998,
                "y": -2.6487935,
                "yshift": 10,
                "z": -1.6891885
               },
               {
                "showarrow": false,
                "text": "1.42",
                "x": 0.6479545,
                "y": 4.813214,
                "yshift": 10,
                "z": 1.0916635000000001
               },
               {
                "showarrow": false,
                "text": "1.08",
                "x": 1.0324165,
                "y": 5.734881,
                "yshift": 10,
                "z": 1.2127185
               },
               {
                "showarrow": false,
                "text": "1.41",
                "x": 0.910567,
                "y": -0.8842045000000001,
                "yshift": 10,
                "z": 0.5883605000000001
               },
               {
                "showarrow": false,
                "text": "1.39",
                "x": 2.1082335,
                "y": -0.8913885,
                "yshift": 10,
                "z": 0.7434185
               },
               {
                "showarrow": false,
                "text": "1.08",
                "x": 4.623177,
                "y": 0.109341,
                "yshift": 10,
                "z": -0.6460465
               },
               {
                "showarrow": false,
                "text": "1.49",
                "x": -0.9739365,
                "y": 0.3328335,
                "yshift": 10,
                "z": 0.550843
               },
               {
                "showarrow": false,
                "text": "1.08",
                "x": -5.4682255,
                "y": 1.411451,
                "yshift": 10,
                "z": 0.931085
               },
               {
                "showarrow": false,
                "text": "1.09",
                "x": -3.413118,
                "y": -3.4064915,
                "yshift": 10,
                "z": -0.9411025
               },
               {
                "showarrow": false,
                "text": "1.09",
                "x": 0.458765,
                "y": 5.668536,
                "yshift": 10,
                "z": 0.535414
               },
               {
                "showarrow": false,
                "text": "1.39",
                "x": 1.6463015,
                "y": -0.3583695,
                "yshift": 10,
                "z": -0.23029999999999998
               },
               {
                "showarrow": false,
                "text": "1.39",
                "x": 3.2969844999999998,
                "y": -0.9133845,
                "yshift": 10,
                "z": 0.901791
               },
               {
                "showarrow": false,
                "text": "1.39",
                "x": 3.5699605,
                "y": 0.1580195,
                "yshift": 10,
                "z": -0.8548614999999999
               },
               {
                "showarrow": false,
                "text": "1.34",
                "x": 2.901617,
                "y": 1.7592279999999998,
                "yshift": 10,
                "z": -2.4108795
               },
               {
                "showarrow": false,
                "text": "1.48",
                "x": -1.7305735,
                "y": -1.8734800000000003,
                "yshift": 10,
                "z": 0.5530245
               },
               {
                "showarrow": false,
                "text": "1.08",
                "x": -5.9505735,
                "y": 0.63522,
                "yshift": 10,
                "z": 1.0317525
               },
               {
                "showarrow": false,
                "text": "1.08",
                "x": -5.861102000000001,
                "y": 0.330832,
                "yshift": 10,
                "z": -0.8645355
               },
               {
                "showarrow": false,
                "text": "1.09",
                "x": -0.7531194999999999,
                "y": -2.8632665,
                "yshift": 10,
                "z": -2.3116125
               },
               {
                "showarrow": false,
                "text": "1.09",
                "x": -1.2794370000000002,
                "y": -5.010218,
                "yshift": 10,
                "z": -1.0929905
               },
               {
                "showarrow": false,
                "text": "1.09",
                "x": 0.15960449999999998,
                "y": 5.682729500000001,
                "yshift": 10,
                "z": 1.3795625
               },
               {
                "showarrow": false,
                "text": "1.08",
                "x": 2.594432,
                "y": -1.3526145,
                "yshift": 10,
                "z": 1.5833659999999998
               },
               {
                "showarrow": false,
                "text": "1.38",
                "x": 2.375536,
                "y": 0.16269050000000002,
                "yshift": 10,
                "z": -1.027405
               },
               {
                "showarrow": false,
                "text": "1.33",
                "x": 3.788735,
                "y": 1.210315,
                "yshift": 10,
                "z": -2.6813735
               },
               {
                "showarrow": false,
                "text": "1.08",
                "x": -5.379720000000001,
                "y": 1.1076195,
                "yshift": 10,
                "z": -0.9680695
               },
               {
                "showarrow": false,
                "text": "1.09",
                "x": -0.7200305,
                "y": -4.8091235,
                "yshift": 10,
                "z": -0.446843
               },
               {
                "showarrow": false,
                "text": "1.08",
                "x": 1.311002,
                "y": 0.11448749999999999,
                "yshift": 10,
                "z": -1.1365925
               },
               {
                "showarrow": false,
                "text": "1.39",
                "x": 4.029477,
                "y": -0.38503649999999995,
                "yshift": 10,
                "z": 0.10061600000000001
               },
               {
                "showarrow": false,
                "text": "1.51",
                "x": 3.0848005,
                "y": 0.7418229999999999,
                "yshift": 10,
                "z": -1.86076
               },
               {
                "showarrow": false,
                "text": "1.34",
                "x": 2.8184959999999997,
                "y": 0.8628045,
                "yshift": 10,
                "z": -2.9978879999999997
               },
               {
                "showarrow": false,
                "text": "1.34",
                "x": 5.080708,
                "y": -0.8780304999999999,
                "yshift": 10,
                "z": 2.135193
               },
               {
                "showarrow": false,
                "text": "1.35",
                "x": -1.6555735,
                "y": 1.2833795000000001,
                "yshift": 10,
                "z": 0.321059
               },
               {
                "showarrow": false,
                "text": "1.08",
                "x": -1.6418825,
                "y": 4.2811685,
                "yshift": 10,
                "z": 0.2939425
               },
               {
                "showarrow": false,
                "text": "1.08",
                "x": -2.972034,
                "y": 2.954628,
                "yshift": 10,
                "z": -0.10988550000000001
               },
               {
                "showarrow": false,
                "text": "1.09",
                "x": -1.564402,
                "y": -4.992191999999999,
                "yshift": 10,
                "z": -0.25875000000000004
               },
               {
                "showarrow": false,
                "text": "1.34",
                "x": 5.0966450000000005,
                "y": -1.8311125000000001,
                "yshift": 10,
                "z": 1.638748
               },
               {
                "showarrow": false,
                "text": "1.08",
                "x": 0.438894,
                "y": 1.769622,
                "yshift": 10,
                "z": 1.049135
               },
               {
                "showarrow": false,
                "text": "1.33",
                "x": 5.6865145,
                "y": -1.0146415,
                "yshift": 10,
                "z": 1.2546599999999999
               },
               {
                "showarrow": false,
                "text": "2.11",
                "x": -2.8694625,
                "y": -0.6757105,
                "yshift": 10,
                "z": 0.406257
               },
               {
                "showarrow": false,
                "text": "1.09",
                "x": -3.1091925,
                "y": -3.5296825,
                "yshift": 10,
                "z": -1.7604549999999999
               },
               {
                "showarrow": false,
                "text": "1.51",
                "x": 4.519101,
                "y": -0.958955,
                "yshift": 10,
                "z": 1.1093425
               },
               {
                "showarrow": false,
                "text": "1.48",
                "x": -4.207117,
                "y": -0.7885795,
                "yshift": 10,
                "z": 0.395534
               },
               {
                "showarrow": false,
                "text": "1.53",
                "x": -2.3411895,
                "y": -3.2478705000000003,
                "yshift": 10,
                "z": -1.0589325
               },
               {
                "showarrow": false,
                "text": "1.09",
                "x": -3.2083795,
                "y": -2.711901,
                "yshift": 10,
                "z": -1.45138
               },
               {
                "showarrow": false,
                "text": "2.22",
                "x": -4.721731,
                "y": 0.383139,
                "yshift": 10,
                "z": 0.4968305
               },
               {
                "showarrow": false,
                "text": "2.21",
                "x": -4.690189,
                "y": 0.2756105,
                "yshift": 10,
                "z": -0.17523899999999998
               },
               {
                "showarrow": false,
                "text": "1.53",
                "x": -1.159806,
                "y": -2.946021,
                "yshift": 10,
                "z": -1.316068
               },
               {
                "showarrow": false,
                "text": "1.09",
                "x": -0.0537615,
                "y": -2.5498175,
                "yshift": 10,
                "z": 1.656554
               },
               {
                "showarrow": false,
                "text": "1.09",
                "x": 0.2753235,
                "y": -2.8014010000000003,
                "yshift": 10,
                "z": 0.872277
               },
               {
                "showarrow": false,
                "text": "1.53",
                "x": -1.4275660000000001,
                "y": -4.011749,
                "yshift": 10,
                "z": -0.7104885000000001
               },
               {
                "showarrow": false,
                "text": "1.09",
                "x": -1.8354720000000002,
                "y": -2.845877,
                "yshift": 10,
                "z": 0.9279575
               },
               {
                "showarrow": false,
                "text": "1.55",
                "x": -1.568163,
                "y": -2.928388,
                "yshift": 10,
                "z": -0.1136415
               },
               {
                "showarrow": false,
                "text": "1.48",
                "x": 0.0941225,
                "y": -1.7669700000000002,
                "yshift": 10,
                "z": 0.9637525
               },
               {
                "showarrow": false,
                "text": "1.36",
                "x": -0.31899299999999997,
                "y": -0.736572,
                "yshift": 10,
                "z": 0.6984265000000001
               },
               {
                "showarrow": false,
                "text": "1.32",
                "x": 0.2300515,
                "y": 3.714524,
                "yshift": 10,
                "z": 0.95865
               }
              ]
             }
            ],
            "label": "Bond lengths",
            "method": "relayout"
           },
           {
            "args": [
             {
              "scene.annotations": [
               {
                "font": {
                 "color": "blue"
                },
                "showarrow": false,
                "text": "1",
                "x": -1.515379,
                "y": -2.580144,
                "yshift": 15,
                "z": 0.57592
               },
               {
                "font": {
                 "color": "blue"
                },
                "showarrow": false,
                "text": "2",
                "x": -0.077081,
                "y": -2.468186,
                "yshift": 15,
                "z": 1.117706
               },
               {
                "font": {
                 "color": "blue"
                },
                "showarrow": false,
                "text": "3",
                "x": -0.903312,
                "y": -0.40739,
                "yshift": 15,
                "z": 0.587054
               },
               {
                "font": {
                 "color": "blue"
                },
                "showarrow": false,
                "text": "4",
                "x": -1.945768,
                "y": -1.166816,
                "yshift": 15,
                "z": 0.530129
               },
               {
                "font": {
                 "color": "blue"
                },
                "showarrow": false,
                "text": "5",
                "x": -1.044561,
                "y": 1.073057,
                "yshift": 15,
                "z": 0.514632
               },
               {
                "font": {
                 "color": "blue"
                },
                "showarrow": false,
                "text": "6",
                "x": -0.042047,
                "y": 1.940532,
                "yshift": 15,
                "z": 0.873347
               },
               {
                "font": {
                 "color": "blue"
                },
                "showarrow": false,
                "text": "7",
                "x": -0.273558,
                "y": 3.321908,
                "yshift": 15,
                "z": 0.783747
               },
               {
                "font": {
                 "color": "blue"
                },
                "showarrow": false,
                "text": "8",
                "x": -1.520232,
                "y": 3.757882,
                "yshift": 15,
                "z": 0.343624
               },
               {
                "font": {
                 "color": "blue"
                },
                "showarrow": false,
                "text": "9",
                "x": -2.476932,
                "y": 2.799827,
                "yshift": 15,
                "z": 0.047729
               },
               {
                "font": {
                 "color": "blue"
                },
                "showarrow": false,
                "text": "10",
                "x": -2.266586,
                "y": 1.493702,
                "yshift": 15,
                "z": 0.127486
               },
               {
                "font": {
                 "color": "blue"
                },
                "showarrow": false,
                "text": "11",
                "x": -3.793157,
                "y": -0.184605,
                "yshift": 15,
                "z": 0.282385
               },
               {
                "font": {
                 "color": "blue"
                },
                "showarrow": false,
                "text": "12",
                "x": 0.919835,
                "y": 1.598712,
                "yshift": 15,
                "z": 1.224923
               },
               {
                "font": {
                 "color": "blue"
                },
                "showarrow": false,
                "text": "13",
                "x": -1.763533,
                "y": 4.804455,
                "yshift": 15,
                "z": 0.244261
               },
               {
                "font": {
                 "color": "blue"
                },
                "showarrow": false,
                "text": "14",
                "x": -3.467136,
                "y": 3.109429,
                "yshift": 15,
                "z": -0.2675
               },
               {
                "font": {
                 "color": "blue"
                },
                "showarrow": false,
                "text": "15",
                "x": -0.030442,
                "y": -2.631449,
                "yshift": 15,
                "z": 2.195402
               },
               {
                "font": {
                 "color": "blue"
                },
                "showarrow": false,
                "text": "16",
                "x": 0.627728,
                "y": -3.134616,
                "yshift": 15,
                "z": 0.626848
               },
               {
                "font": {
                 "color": "blue"
                },
                "showarrow": false,
                "text": "17",
                "x": -2.155565,
                "y": -3.11161,
                "yshift": 15,
                "z": 1.279995
               },
               {
                "font": {
                 "color": "blue"
                },
                "showarrow": false,
                "text": "18",
                "x": -1.620947,
                "y": -3.276632,
                "yshift": 15,
                "z": -0.803203
               },
               {
                "font": {
                 "color": "blue"
                },
                "showarrow": false,
                "text": "19",
                "x": -4.621077,
                "y": -1.392554,
                "yshift": 15,
                "z": 0.508683
               },
               {
                "font": {
                 "color": "blue"
                },
                "showarrow": false,
                "text": "20",
                "x": -5.650305,
                "y": 0.950883,
                "yshift": 15,
                "z": 0.711276
               },
               {
                "font": {
                 "color": "blue"
                },
                "showarrow": false,
                "text": "21",
                "x": -5.587221,
                "y": 0.735826,
                "yshift": 15,
                "z": -0.632863
               },
               {
                "font": {
                 "color": "blue"
                },
                "showarrow": false,
                "text": "22",
                "x": -5.286146,
                "y": 1.872019,
                "yshift": 15,
                "z": 1.150894
               },
               {
                "font": {
                 "color": "blue"
                },
                "showarrow": false,
                "text": "23",
                "x": -6.250842,
                "y": 0.319557,
                "yshift": 15,
                "z": 1.352229
               },
               {
                "font": {
                 "color": "blue"
                },
                "showarrow": false,
                "text": "24",
                "x": -6.134983,
                "y": -0.074162,
                "yshift": 15,
                "z": -1.096208
               },
               {
                "font": {
                 "color": "blue"
                },
                "showarrow": false,
                "text": "25",
                "x": -5.172219,
                "y": 1.479413,
                "yshift": 15,
                "z": -1.303276
               },
               {
                "font": {
                 "color": "blue"
                },
                "showarrow": false,
                "text": "26",
                "x": -3.061432,
                "y": -3.219109,
                "yshift": 15,
                "z": -1.314662
               },
               {
                "font": {
                 "color": "blue"
                },
                "showarrow": false,
                "text": "27",
                "x": -0.807574,
                "y": -3.111123,
                "yshift": 15,
                "z": -2.794292
               },
               {
                "font": {
                 "color": "blue"
                },
                "showarrow": false,
                "text": "28",
                "x": -3.764804,
                "y": -3.593874,
                "yshift": 15,
                "z": -0.567543
               },
               {
                "font": {
                 "color": "blue"
                },
                "showarrow": false,
                "text": "29",
                "x": -0.9569,
                "y": -1.563147,
                "yshift": 15,
                "z": -1.973934
               },
               {
                "font": {
                 "color": "blue"
                },
                "showarrow": false,
                "text": "30",
                "x": -0.698665,
                "y": -2.61541,
                "yshift": 15,
                "z": -1.828933
               },
               {
                "font": {
                 "color": "blue"
                },
                "showarrow": false,
                "text": "31",
                "x": 0.355621,
                "y": -2.682177,
                "yshift": 15,
                "z": -1.549444
               },
               {
                "font": {
                 "color": "blue"
                },
                "showarrow": false,
                "text": "32",
                "x": -1.234185,
                "y": -4.746866,
                "yshift": 15,
                "z": -0.617774
               },
               {
                "font": {
                 "color": "blue"
                },
                "showarrow": false,
                "text": "33",
                "x": -3.156953,
                "y": -3.840256,
                "yshift": 15,
                "z": -2.206248
               },
               {
                "font": {
                 "color": "blue"
                },
                "showarrow": false,
                "text": "34",
                "x": -3.355327,
                "y": -2.204693,
                "yshift": 15,
                "z": -1.588098
               },
               {
                "font": {
                 "color": "blue"
                },
                "showarrow": false,
                "text": "35",
                "x": -1.324689,
                "y": -5.27357,
                "yshift": 15,
                "z": -1.568207
               },
               {
                "font": {
                 "color": "blue"
                },
                "showarrow": false,
                "text": "36",
                "x": -0.205876,
                "y": -4.871381,
                "yshift": 15,
                "z": -0.275912
               },
               {
                "font": {
                 "color": "blue"
                },
                "showarrow": false,
                "text": "37",
                "x": -1.894619,
                "y": -5.237518,
                "yshift": 15,
                "z": 0.100274
               },
               {
                "font": {
                 "color": "blue"
                },
                "showarrow": false,
                "text": "38",
                "x": 0.733661,
                "y": 4.10714,
                "yshift": 15,
                "z": 1.133553
               },
               {
                "font": {
                 "color": "blue"
                },
                "showarrow": false,
                "text": "39",
                "x": 0.562248,
                "y": 5.519288,
                "yshift": 15,
                "z": 1.049774
               },
               {
                "font": {
                 "color": "blue"
                },
                "showarrow": false,
                "text": "40",
                "x": 1.502585,
                "y": 5.950474,
                "yshift": 15,
                "z": 1.375663
               },
               {
                "font": {
                 "color": "blue"
                },
                "showarrow": false,
                "text": "41",
                "x": 0.355282,
                "y": 5.817784,
                "yshift": 15,
                "z": 0.021054
               },
               {
                "font": {
                 "color": "blue"
                },
                "showarrow": false,
                "text": "42",
                "x": -0.243039,
                "y": 5.846171,
                "yshift": 15,
                "z": 1.709351
               },
               {
                "font": {
                 "color": "blue"
                },
                "showarrow": false,
                "text": "43",
                "x": 0.265326,
                "y": -1.065754,
                "yshift": 15,
                "z": 0.809799
               },
               {
                "font": {
                 "color": "blue"
                },
                "showarrow": false,
                "text": "44",
                "x": 1.555808,
                "y": -0.702655,
                "yshift": 15,
                "z": 0.366922
               },
               {
                "font": {
                 "color": "blue"
                },
                "showarrow": false,
                "text": "45",
                "x": 2.660659,
                "y": -1.080122,
                "yshift": 15,
                "z": 1.119915
               },
               {
                "font": {
                 "color": "blue"
                },
                "showarrow": false,
                "text": "46",
                "x": 1.736795,
                "y": -0.014084,
                "yshift": 15,
                "z": -0.827522
               },
               {
                "font": {
                 "color": "blue"
                },
                "showarrow": false,
                "text": "47",
                "x": 3.93331,
                "y": -0.746647,
                "yshift": 15,
                "z": 0.683667
               },
               {
                "font": {
                 "color": "blue"
                },
                "showarrow": false,
                "text": "48",
                "x": 2.528205,
                "y": -1.625107,
                "yshift": 15,
                "z": 2.046817
               },
               {
                "font": {
                 "color": "blue"
                },
                "showarrow": false,
                "text": "49",
                "x": 3.014277,
                "y": 0.339465,
                "yshift": 15,
                "z": -1.227288
               },
               {
                "font": {
                 "color": "blue"
                },
                "showarrow": false,
                "text": "50",
                "x": 0.885209,
                "y": 0.243059,
                "yshift": 15,
                "z": -1.445663
               },
               {
                "font": {
                 "color": "blue"
                },
                "showarrow": false,
                "text": "51",
                "x": 4.125644,
                "y": -0.023426,
                "yshift": 15,
                "z": -0.482435
               },
               {
                "font": {
                 "color": "blue"
                },
                "showarrow": false,
                "text": "52",
                "x": 5.12071,
                "y": 0.242108,
                "yshift": 15,
                "z": -0.809658
               },
               {
                "font": {
                 "color": "blue"
                },
                "showarrow": false,
                "text": "53",
                "x": 3.155324,
                "y": 1.144181,
                "yshift": 15,
                "z": -2.494232
               },
               {
                "font": {
                 "color": "blue"
                },
                "showarrow": false,
                "text": "54",
                "x": 5.104892,
                "y": -1.171263,
                "yshift": 15,
                "z": 1.535018
               },
               {
                "font": {
                 "color": "blue"
                },
                "showarrow": false,
                "text": "55",
                "x": 2.64791,
                "y": 2.374275,
                "yshift": 15,
                "z": -2.327527
               },
               {
                "font": {
                 "color": "blue"
                },
                "showarrow": false,
                "text": "56",
                "x": 4.422146,
                "y": 1.276449,
                "yshift": 15,
                "z": -2.868515
               },
               {
                "font": {
                 "color": "blue"
                },
                "showarrow": false,
                "text": "57",
                "x": 2.481668,
                "y": 0.581428,
                "yshift": 15,
                "z": -3.501544
               },
               {
                "font": {
                 "color": "blue"
                },
                "showarrow": false,
                "text": "58",
                "x": 5.056524,
                "y": -0.584798,
                "yshift": 15,
                "z": 2.735368
               },
               {
                "font": {
                 "color": "blue"
                },
                "showarrow": false,
                "text": "59",
                "x": 5.088398,
                "y": -2.490962,
                "yshift": 15,
                "z": 1.742478
               },
               {
                "font": {
                 "color": "blue"
                },
                "showarrow": false,
                "text": "60",
                "x": 6.268137,
                "y": -0.85802,
                "yshift": 15,
                "z": 0.974302
               },
               {
                "showarrow": false,
                "text": "1.54",
                "x": -0.79623,
                "y": -2.524165,
                "yshift": 10,
                "z": 0.846813
               },
               {
                "showarrow": false,
                "text": "1.29",
                "x": -1.42454,
                "y": -0.787103,
                "yshift": 10,
                "z": 0.5585914999999999
               },
               {
                "showarrow": false,
                "text": "1.37",
                "x": -0.543304,
                "y": 1.5067944999999998,
                "yshift": 10,
                "z": 0.6939895
               },
               {
                "showarrow": false,
                "text": "1.4",
                "x": -0.1578025,
                "y": 2.63122,
                "yshift": 10,
                "z": 0.8285469999999999
               },
               {
                "showarrow": false,
                "text": "1.39",
                "x": -0.896895,
                "y": 3.539895,
                "yshift": 10,
                "z": 0.5636855
               },
               {
                "showarrow": false,
                "text": "1.39",
                "x": -1.998582,
                "y": 3.2788545,
                "yshift": 10,
                "z": 0.1956765
               },
               {
                "showarrow": false,
                "text": "1.33",
                "x": -2.371759,
                "y": 2.1467645,
                "yshift": 10,
                "z": 0.08760749999999999
               },
               {
                "showarrow": false,
                "text": "2.27",
                "x": -3.0298715,
                "y": 0.6545485000000001,
                "yshift": 10,
                "z": 0.2049355
               },
               {
                "showarrow": false,
                "text": "1.36",
                "x": -5.618763,
                "y": 0.8433545,
                "yshift": 10,
                "z": 0.03920650000000003
               },
               {
                "showarrow": false,
                "text": "1.09",
                "x": -0.8277825,
                "y": -2.0892785,
                "yshift": 10,
                "z": -1.9014335
               },
               {
                "showarrow": false,
                "text": "1.09",
                "x": -0.17152199999999998,
                "y": -2.6487935,
                "yshift": 10,
                "z": -1.6891885
               },
               {
                "showarrow": false,
                "text": "1.42",
                "x": 0.6479545,
                "y": 4.813214,
                "yshift": 10,
                "z": 1.0916635000000001
               },
               {
                "showarrow": false,
                "text": "1.08",
                "x": 1.0324165,
                "y": 5.734881,
                "yshift": 10,
                "z": 1.2127185
               },
               {
                "showarrow": false,
                "text": "1.41",
                "x": 0.910567,
                "y": -0.8842045000000001,
                "yshift": 10,
                "z": 0.5883605000000001
               },
               {
                "showarrow": false,
                "text": "1.39",
                "x": 2.1082335,
                "y": -0.8913885,
                "yshift": 10,
                "z": 0.7434185
               },
               {
                "showarrow": false,
                "text": "1.08",
                "x": 4.623177,
                "y": 0.109341,
                "yshift": 10,
                "z": -0.6460465
               },
               {
                "showarrow": false,
                "text": "1.49",
                "x": -0.9739365,
                "y": 0.3328335,
                "yshift": 10,
                "z": 0.550843
               },
               {
                "showarrow": false,
                "text": "1.08",
                "x": -5.4682255,
                "y": 1.411451,
                "yshift": 10,
                "z": 0.931085
               },
               {
                "showarrow": false,
                "text": "1.09",
                "x": -3.413118,
                "y": -3.4064915,
                "yshift": 10,
                "z": -0.9411025
               },
               {
                "showarrow": false,
                "text": "1.09",
                "x": 0.458765,
                "y": 5.668536,
                "yshift": 10,
                "z": 0.535414
               },
               {
                "showarrow": false,
                "text": "1.39",
                "x": 1.6463015,
                "y": -0.3583695,
                "yshift": 10,
                "z": -0.23029999999999998
               },
               {
                "showarrow": false,
                "text": "1.39",
                "x": 3.2969844999999998,
                "y": -0.9133845,
                "yshift": 10,
                "z": 0.901791
               },
               {
                "showarrow": false,
                "text": "1.39",
                "x": 3.5699605,
                "y": 0.1580195,
                "yshift": 10,
                "z": -0.8548614999999999
               },
               {
                "showarrow": false,
                "text": "1.34",
                "x": 2.901617,
                "y": 1.7592279999999998,
                "yshift": 10,
                "z": -2.4108795
               },
               {
                "showarrow": false,
                "text": "1.48",
                "x": -1.7305735,
                "y": -1.8734800000000003,
                "yshift": 10,
                "z": 0.5530245
               },
               {
                "showarrow": false,
                "text": "1.08",
                "x": -5.9505735,
                "y": 0.63522,
                "yshift": 10,
                "z": 1.0317525
               },
               {
                "showarrow": false,
                "text": "1.08",
                "x": -5.861102000000001,
                "y": 0.330832,
                "yshift": 10,
                "z": -0.8645355
               },
               {
                "showarrow": false,
                "text": "1.09",
                "x": -0.7531194999999999,
                "y": -2.8632665,
                "yshift": 10,
                "z": -2.3116125
               },
               {
                "showarrow": false,
                "text": "1.09",
                "x": -1.2794370000000002,
                "y": -5.010218,
                "yshift": 10,
                "z": -1.0929905
               },
               {
                "showarrow": false,
                "text": "1.09",
                "x": 0.15960449999999998,
                "y": 5.682729500000001,
                "yshift": 10,
                "z": 1.3795625
               },
               {
                "showarrow": false,
                "text": "1.08",
                "x": 2.594432,
                "y": -1.3526145,
                "yshift": 10,
                "z": 1.5833659999999998
               },
               {
                "showarrow": false,
                "text": "1.38",
                "x": 2.375536,
                "y": 0.16269050000000002,
                "yshift": 10,
                "z": -1.027405
               },
               {
                "showarrow": false,
                "text": "1.33",
                "x": 3.788735,
                "y": 1.210315,
                "yshift": 10,
                "z": -2.6813735
               },
               {
                "showarrow": false,
                "text": "1.08",
                "x": -5.379720000000001,
                "y": 1.1076195,
                "yshift": 10,
                "z": -0.9680695
               },
               {
                "showarrow": false,
                "text": "1.09",
                "x": -0.7200305,
                "y": -4.8091235,
                "yshift": 10,
                "z": -0.446843
               },
               {
                "showarrow": false,
                "text": "1.08",
                "x": 1.311002,
                "y": 0.11448749999999999,
                "yshift": 10,
                "z": -1.1365925
               },
               {
                "showarrow": false,
                "text": "1.39",
                "x": 4.029477,
                "y": -0.38503649999999995,
                "yshift": 10,
                "z": 0.10061600000000001
               },
               {
                "showarrow": false,
                "text": "1.51",
                "x": 3.0848005,
                "y": 0.7418229999999999,
                "yshift": 10,
                "z": -1.86076
               },
               {
                "showarrow": false,
                "text": "1.34",
                "x": 2.8184959999999997,
                "y": 0.8628045,
                "yshift": 10,
                "z": -2.9978879999999997
               },
               {
                "showarrow": false,
                "text": "1.34",
                "x": 5.080708,
                "y": -0.8780304999999999,
                "yshift": 10,
                "z": 2.135193
               },
               {
                "showarrow": false,
                "text": "1.35",
                "x": -1.6555735,
                "y": 1.2833795000000001,
                "yshift": 10,
                "z": 0.321059
               },
               {
                "showarrow": false,
                "text": "1.08",
                "x": -1.6418825,
                "y": 4.2811685,
                "yshift": 10,
                "z": 0.2939425
               },
               {
                "showarrow": false,
                "text": "1.08",
                "x": -2.972034,
                "y": 2.954628,
                "yshift": 10,
                "z": -0.10988550000000001
               },
               {
                "showarrow": false,
                "text": "1.09",
                "x": -1.564402,
                "y": -4.992191999999999,
                "yshift": 10,
                "z": -0.25875000000000004
               },
               {
                "showarrow": false,
                "text": "1.34",
                "x": 5.0966450000000005,
                "y": -1.8311125000000001,
                "yshift": 10,
                "z": 1.638748
               },
               {
                "showarrow": false,
                "text": "1.08",
                "x": 0.438894,
                "y": 1.769622,
                "yshift": 10,
                "z": 1.049135
               },
               {
                "showarrow": false,
                "text": "1.33",
                "x": 5.6865145,
                "y": -1.0146415,
                "yshift": 10,
                "z": 1.2546599999999999
               },
               {
                "showarrow": false,
                "text": "2.11",
                "x": -2.8694625,
                "y": -0.6757105,
                "yshift": 10,
                "z": 0.406257
               },
               {
                "showarrow": false,
                "text": "1.09",
                "x": -3.1091925,
                "y": -3.5296825,
                "yshift": 10,
                "z": -1.7604549999999999
               },
               {
                "showarrow": false,
                "text": "1.51",
                "x": 4.519101,
                "y": -0.958955,
                "yshift": 10,
                "z": 1.1093425
               },
               {
                "showarrow": false,
                "text": "1.48",
                "x": -4.207117,
                "y": -0.7885795,
                "yshift": 10,
                "z": 0.395534
               },
               {
                "showarrow": false,
                "text": "1.53",
                "x": -2.3411895,
                "y": -3.2478705000000003,
                "yshift": 10,
                "z": -1.0589325
               },
               {
                "showarrow": false,
                "text": "1.09",
                "x": -3.2083795,
                "y": -2.711901,
                "yshift": 10,
                "z": -1.45138
               },
               {
                "showarrow": false,
                "text": "2.22",
                "x": -4.721731,
                "y": 0.383139,
                "yshift": 10,
                "z": 0.4968305
               },
               {
                "showarrow": false,
                "text": "2.21",
                "x": -4.690189,
                "y": 0.2756105,
                "yshift": 10,
                "z": -0.17523899999999998
               },
               {
                "showarrow": false,
                "text": "1.53",
                "x": -1.159806,
                "y": -2.946021,
                "yshift": 10,
                "z": -1.316068
               },
               {
                "showarrow": false,
                "text": "1.09",
                "x": -0.0537615,
                "y": -2.5498175,
                "yshift": 10,
                "z": 1.656554
               },
               {
                "showarrow": false,
                "text": "1.09",
                "x": 0.2753235,
                "y": -2.8014010000000003,
                "yshift": 10,
                "z": 0.872277
               },
               {
                "showarrow": false,
                "text": "1.53",
                "x": -1.4275660000000001,
                "y": -4.011749,
                "yshift": 10,
                "z": -0.7104885000000001
               },
               {
                "showarrow": false,
                "text": "1.09",
                "x": -1.8354720000000002,
                "y": -2.845877,
                "yshift": 10,
                "z": 0.9279575
               },
               {
                "showarrow": false,
                "text": "1.55",
                "x": -1.568163,
                "y": -2.928388,
                "yshift": 10,
                "z": -0.1136415
               },
               {
                "showarrow": false,
                "text": "1.48",
                "x": 0.0941225,
                "y": -1.7669700000000002,
                "yshift": 10,
                "z": 0.9637525
               },
               {
                "showarrow": false,
                "text": "1.36",
                "x": -0.31899299999999997,
                "y": -0.736572,
                "yshift": 10,
                "z": 0.6984265000000001
               },
               {
                "showarrow": false,
                "text": "1.32",
                "x": 0.2300515,
                "y": 3.714524,
                "yshift": 10,
                "z": 0.95865
               }
              ]
             }
            ],
            "label": "Both",
            "method": "relayout"
           },
           {
            "args": [
             {
              "scene.annotations": []
             }
            ],
            "label": "Hide all",
            "method": "relayout"
           },
           {
            "args": [
             {
              "visible": [
               true,
               true,
               true,
               true,
               true,
               true,
               true,
               true,
               true,
               true
              ]
             },
             {}
            ],
            "label": "Show dipole",
            "method": "update"
           },
           {
            "args": [
             {
              "visible": [
               true,
               true,
               false,
               false,
               false,
               false,
               false,
               false,
               false,
               false
              ]
             },
             {}
            ],
            "label": "Hide dipole",
            "method": "update"
           }
          ],
          "direction": "down",
          "xanchor": "left",
          "yanchor": "top"
         }
        ]
       }
      }
     },
     "metadata": {},
     "output_type": "display_data"
    }
   ],
   "source": [
    "mols.visualize_molecules([0,1])"
   ]
  },
  {
   "cell_type": "markdown",
   "metadata": {},
   "source": [
    "Now that we see the molecules and atom numbering we can extract features. Remember it need to be numbered the same across the set !"
   ]
  },
  {
   "cell_type": "code",
   "execution_count": null,
   "metadata": {},
   "outputs": [],
   "source": [
    "answers_dict = {\n",
    "    \"Ring Vibration atoms - by order -> Pick primary atom and para to it: \\n example: 13,17\": [9, 8],\n",
    "    \"Stretch Threshold\": [1600],\n",
    "    \"Stretching Vibration atoms- enter bonded atom pairs: \\n example: 1,2 4,5\": [],\n",
    "    \"Bend Threshold\": [3000],\n",
    "    \"Bending Vibration atoms - enter atom pairs that have a common atom: \\n example: 4,7\": [16, 17],\n",
    "    \"Center_Atoms Dipole\": [1, 2, 3, 4, 5, 6, 7, 8, 9, 10, 11, 12, 13, 14, 15, 16, 17, 18, 19, 20, 21, 22, 23, 24, 25],\n",
    "    \"Dipole atoms - indices for coordination transformation: \\n example: 4,5,6 - origin, y-axis, new xy plane\": [[11, 6, 4], [10, 11, 12], [11, 12, 5], [4, 5, 1], [4, 3, 2],[1,2,3]],\n",
    "    \"Sub-Atoms NPA\": [1, 3, 5, 11, 8, 12, 14, 4, 6] ,\n",
    "    \"NPA manipulation atoms - Insert atoms to show NPA: \\n example: 1,2,4\": [[11, 6, 4], [10, 11, 12], [11, 12, 5], [4, 5, 1], [4, 3, 2]],\n",
    "    \"charges values - Insert atoms to show charge: \\n example: 1,2,3,4\": [3,5,11,12,4,6,20,21,22,7],\n",
    "    \"charge_diff - Insert atoms to show charge difference: \\n example: 1,2 3,4\": [[3, 5], [5, 12], [11, 5], [3, 11]],\n",
    "    \"Sterimol atoms - Primary axis along: \\n example: 7,8\": [[4,6], [6, 4]],\n",
    "    'drop_atoms - Atoms to drop: \\n example: 1,2,3': [12,20,21,22,23,24,25,26],\n",
    "    \"Bond_length - Atom pairs to calculate difference: \\n example: 1,2 4,5\": [[11, 6], [6, 4], [1, 5], [11, 6],[21,22]],\n",
    "    'Bond_angle - Atom triplets to calculate difference: \\n example: 1,2,3 4,5,6': [[11, 6, 4], [6, 4, 5], [1, 5, 4], [11, 6, 4]],\n",
    "}\n",
    "df=mols.get_molecules_comp_set_app(entry_widgets=answers_dict,answers_list=None)"
   ]
  },
  {
   "cell_type": "code",
   "execution_count": 150,
   "metadata": {},
   "outputs": [],
   "source": [
    "answers_dict = {\n",
    "    \"Ring Vibration atoms - by order -> Pick primary atom and para to it: \\n example: 13,17\": [9, 8],\n",
    "    \"Stretch Threshold\": [1600],\n",
    "    \"Stretching Vibration atoms- enter bonded atom pairs: \\n example: 1,2 4,5\": [],\n",
    "    \"Bend Threshold\": [3000],\n",
    "    \"Bending Vibration atoms - enter atom pairs that have a common atom: \\n example: 4,7\": [15, 16],\n",
    "    \"Center_Atoms Dipole\": [1, 2, 3, 4, 5, 6, 7, 8, 9, 10, 11, 12, 13, 14, 15, 16, 17, 18, 19, 20, 21, 22, 23, 24, 25],\n",
    "    \"Dipole atoms - indices for coordination transformation: \\n example: 4,5,6 - origin, y-axis, new xy plane\": [[10, 5, 3], [9, 10, 11], [10, 11, 4], [3, 4, 1], [3, 43, 2],[1,2,43]],\n",
    "    \"Sub-Atoms NPA\": [1, 3, 5, 11, 8, 12, 14, 4, 6] ,\n",
    "    \"NPA manipulation atoms - Insert atoms to show NPA: \\n example: 1,2,4\": [[11, 6, 4], [10, 11, 12], [11, 12, 5], [4, 5, 1], [4, 3, 2]],\n",
    "    \"charges values - Insert atoms to show charge: \\n example: 1,2,3,4\": [43,4,10,11,3,5,19,20,21,6],\n",
    "    \"charge_diff - Insert atoms to show charge difference: \\n example: 1,2 3,4\": [[43, 4], [10, 4], [43, 10]],\n",
    "    \"Sterimol atoms - Primary axis along: \\n example: 7,8\": [[3,5], [5, 3]],\n",
    "    'drop_atoms - Atoms to drop: \\n example: 1,2,3': [11,19,20,21,22,23,24,25],\n",
    "    \"Bond_length - Atom pairs to calculate difference: \\n example: 1,2 4,5\": [[10, 5], [5, 3], [1, 4], [10, 5],[20,21]],\n",
    "    'Bond_angle - Atom triplets to calculate difference: \\n example: 1,2,3 4,5,6': [[10, 5, 3], [5, 3, 4], [1, 4, 3], [10, 5, 3]],\n",
    "}\n",
    "df=mols.get_molecules_comp_set_app(entry_widgets=answers_dict,answers_list=None)"
   ]
  },
  {
   "cell_type": "code",
   "execution_count": 151,
   "metadata": {},
   "outputs": [
    {
     "name": "stdout",
     "output_type": "stream",
     "text": [
      "Calculating stretch vibration for atoms [11, 19] with threshold 2300 \n",
      " Remember : ALWAYS LOOK AT THE RESULTING VIBRATION\n"
     ]
    }
   ],
   "source": [
    "metal_vib = dict_to_horizontal_df(mols.get_stretch_vibration_dict([11,19], 2300))"
   ]
  },
  {
   "cell_type": "code",
   "execution_count": 152,
   "metadata": {},
   "outputs": [
    {
     "data": {
      "text/html": [
       "<div>\n",
       "<style scoped>\n",
       "    .dataframe tbody tr th:only-of-type {\n",
       "        vertical-align: middle;\n",
       "    }\n",
       "\n",
       "    .dataframe tbody tr th {\n",
       "        vertical-align: top;\n",
       "    }\n",
       "\n",
       "    .dataframe thead th {\n",
       "        text-align: right;\n",
       "    }\n",
       "</style>\n",
       "<table border=\"1\" class=\"dataframe\">\n",
       "  <thead>\n",
       "    <tr style=\"text-align: right;\">\n",
       "      <th></th>\n",
       "      <th>cross</th>\n",
       "      <th>cross_angle</th>\n",
       "      <th>para</th>\n",
       "      <th>para_angle</th>\n",
       "      <th>Frequency_Bending_15-16</th>\n",
       "      <th>Cross_mag_Bending_15-16</th>\n",
       "      <th>dip_x_NPA_11-6-4</th>\n",
       "      <th>dip_y_NPA_11-6-4</th>\n",
       "      <th>dip_z_NPA_11-6-4</th>\n",
       "      <th>total_dipole_NPA_11-6-4</th>\n",
       "      <th>dip_x_NPA_10-11-12</th>\n",
       "      <th>dip_y_NPA_10-11-12</th>\n",
       "      <th>dip_z_NPA_10-11-12</th>\n",
       "      <th>total_dipole_NPA_10-11-12</th>\n",
       "      <th>dip_x_NPA_11-12-5</th>\n",
       "      <th>dip_y_NPA_11-12-5</th>\n",
       "      <th>dip_z_NPA_11-12-5</th>\n",
       "      <th>total_dipole_NPA_11-12-5</th>\n",
       "      <th>dip_x_NPA_4-5-1</th>\n",
       "      <th>dip_y_NPA_4-5-1</th>\n",
       "      <th>dip_z_NPA_4-5-1</th>\n",
       "      <th>total_dipole_NPA_4-5-1</th>\n",
       "      <th>dip_x_NPA_4-3-2</th>\n",
       "      <th>dip_y_NPA_4-3-2</th>\n",
       "      <th>dip_z_NPA_4-3-2</th>\n",
       "      <th>total_dipole_NPA_4-3-2</th>\n",
       "      <th>dipole_x_10-5-3</th>\n",
       "      <th>dipole_y_10-5-3</th>\n",
       "      <th>dipole_z_10-5-3</th>\n",
       "      <th>total_dipole_10-5-3</th>\n",
       "      <th>dipole_x_9-10-11</th>\n",
       "      <th>dipole_y_9-10-11</th>\n",
       "      <th>dipole_z_9-10-11</th>\n",
       "      <th>total_dipole_9-10-11</th>\n",
       "      <th>dipole_x_10-11-4</th>\n",
       "      <th>dipole_y_10-11-4</th>\n",
       "      <th>dipole_z_10-11-4</th>\n",
       "      <th>total_dipole_10-11-4</th>\n",
       "      <th>dipole_x_3-4-1</th>\n",
       "      <th>dipole_y_3-4-1</th>\n",
       "      <th>dipole_z_3-4-1</th>\n",
       "      <th>total_dipole_3-4-1</th>\n",
       "      <th>dipole_x_3-43-2</th>\n",
       "      <th>dipole_y_3-43-2</th>\n",
       "      <th>dipole_z_3-43-2</th>\n",
       "      <th>total_dipole_3-43-2</th>\n",
       "      <th>dipole_x_1-2-43</th>\n",
       "      <th>dipole_y_1-2-43</th>\n",
       "      <th>dipole_z_1-2-43</th>\n",
       "      <th>total_dipole_1-2-43</th>\n",
       "      <th>nbo_atom_43</th>\n",
       "      <th>nbo_atom_4</th>\n",
       "      <th>nbo_atom_10</th>\n",
       "      <th>nbo_atom_11</th>\n",
       "      <th>nbo_atom_3</th>\n",
       "      <th>nbo_atom_5</th>\n",
       "      <th>nbo_atom_19</th>\n",
       "      <th>nbo_atom_20</th>\n",
       "      <th>nbo_atom_21</th>\n",
       "      <th>nbo_atom_6</th>\n",
       "      <th>hirshfeld_atom_43</th>\n",
       "      <th>hirshfeld_atom_4</th>\n",
       "      <th>hirshfeld_atom_10</th>\n",
       "      <th>hirshfeld_atom_11</th>\n",
       "      <th>hirshfeld_atom_3</th>\n",
       "      <th>hirshfeld_atom_5</th>\n",
       "      <th>hirshfeld_atom_19</th>\n",
       "      <th>hirshfeld_atom_20</th>\n",
       "      <th>hirshfeld_atom_21</th>\n",
       "      <th>hirshfeld_atom_6</th>\n",
       "      <th>cm5_atom_43</th>\n",
       "      <th>cm5_atom_4</th>\n",
       "      <th>cm5_atom_10</th>\n",
       "      <th>cm5_atom_11</th>\n",
       "      <th>cm5_atom_3</th>\n",
       "      <th>cm5_atom_5</th>\n",
       "      <th>cm5_atom_19</th>\n",
       "      <th>cm5_atom_20</th>\n",
       "      <th>cm5_atom_21</th>\n",
       "      <th>cm5_atom_6</th>\n",
       "      <th>nbo_diff_43-4</th>\n",
       "      <th>nbo_diff_10-4</th>\n",
       "      <th>nbo_diff_43-10</th>\n",
       "      <th>hirshfeld_diff_43-4</th>\n",
       "      <th>hirshfeld_diff_10-4</th>\n",
       "      <th>hirshfeld_diff_43-10</th>\n",
       "      <th>cm5_diff_43-4</th>\n",
       "      <th>cm5_diff_10-4</th>\n",
       "      <th>cm5_diff_43-10</th>\n",
       "      <th>B1_3-5</th>\n",
       "      <th>B5_3-5</th>\n",
       "      <th>L_3-5</th>\n",
       "      <th>loc_B5_3-5</th>\n",
       "      <th>B1_B5_angle_3-5</th>\n",
       "      <th>B1_5-3</th>\n",
       "      <th>B5_5-3</th>\n",
       "      <th>L_5-3</th>\n",
       "      <th>loc_B5_5-3</th>\n",
       "      <th>B1_B5_angle_5-3</th>\n",
       "      <th>angle_[10, 5, 3]</th>\n",
       "      <th>angle_[5, 3, 4]</th>\n",
       "      <th>angle_[1, 4, 3]</th>\n",
       "      <th>bond_length_10-5</th>\n",
       "      <th>bond_length_5-3</th>\n",
       "      <th>bond_length_1-4</th>\n",
       "      <th>bond_length_20-21</th>\n",
       "      <th>aniso</th>\n",
       "      <th>iso</th>\n",
       "      <th>energy</th>\n",
       "      <th>Frequency_Stretch_11_19</th>\n",
       "      <th>Amplitude_Stretch_11_19</th>\n",
       "    </tr>\n",
       "  </thead>\n",
       "  <tbody>\n",
       "    <tr>\n",
       "      <th>LS1689</th>\n",
       "      <td>1637.648</td>\n",
       "      <td>1.397978</td>\n",
       "      <td>1686.0636</td>\n",
       "      <td>71.504135</td>\n",
       "      <td>3166.7862</td>\n",
       "      <td>0.281607</td>\n",
       "      <td>0.829224</td>\n",
       "      <td>-0.014957</td>\n",
       "      <td>0.486175</td>\n",
       "      <td>0.961354</td>\n",
       "      <td>0.612603</td>\n",
       "      <td>0.58099</td>\n",
       "      <td>-0.145328</td>\n",
       "      <td>0.85671</td>\n",
       "      <td>-0.737507</td>\n",
       "      <td>0.159862</td>\n",
       "      <td>0.263154</td>\n",
       "      <td>0.799201</td>\n",
       "      <td>0.701847</td>\n",
       "      <td>-1.005224</td>\n",
       "      <td>0.485646</td>\n",
       "      <td>1.31868</td>\n",
       "      <td>1.133618</td>\n",
       "      <td>-0.697296</td>\n",
       "      <td>0.204652</td>\n",
       "      <td>1.346549</td>\n",
       "      <td>-0.931673</td>\n",
       "      <td>-9.393739</td>\n",
       "      <td>4.674629</td>\n",
       "      <td>10.5339</td>\n",
       "      <td>8.946262</td>\n",
       "      <td>-5.258283</td>\n",
       "      <td>1.81035</td>\n",
       "      <td>10.5339</td>\n",
       "      <td>-9.421643</td>\n",
       "      <td>3.698677</td>\n",
       "      <td>-2.91804</td>\n",
       "      <td>10.5339</td>\n",
       "      <td>-8.701504</td>\n",
       "      <td>5.385239</td>\n",
       "      <td>-2.499107</td>\n",
       "      <td>10.5339</td>\n",
       "      <td>1.895113</td>\n",
       "      <td>-9.847648</td>\n",
       "      <td>3.224109</td>\n",
       "      <td>10.5339</td>\n",
       "      <td>2.863874</td>\n",
       "      <td>-8.040339</td>\n",
       "      <td>-6.173628</td>\n",
       "      <td>10.5339</td>\n",
       "      <td>-0.41163</td>\n",
       "      <td>-0.4788</td>\n",
       "      <td>-0.46739</td>\n",
       "      <td>0.31138</td>\n",
       "      <td>0.47212</td>\n",
       "      <td>0.13765</td>\n",
       "      <td>0.11011</td>\n",
       "      <td>-0.37479</td>\n",
       "      <td>-0.37697</td>\n",
       "      <td>-0.23526</td>\n",
       "      <td>-0.034927</td>\n",
       "      <td>-0.103828</td>\n",
       "      <td>-0.108047</td>\n",
       "      <td>0.218036</td>\n",
       "      <td>0.122968</td>\n",
       "      <td>0.049688</td>\n",
       "      <td>-0.000232</td>\n",
       "      <td>-0.029787</td>\n",
       "      <td>-0.029917</td>\n",
       "      <td>-0.035053</td>\n",
       "      <td>-0.28293</td>\n",
       "      <td>-0.369728</td>\n",
       "      <td>-0.351794</td>\n",
       "      <td>0.423285</td>\n",
       "      <td>0.275326</td>\n",
       "      <td>0.123732</td>\n",
       "      <td>0.013906</td>\n",
       "      <td>-0.164733</td>\n",
       "      <td>-0.165095</td>\n",
       "      <td>-0.075576</td>\n",
       "      <td>0.06717</td>\n",
       "      <td>0.01141</td>\n",
       "      <td>0.05576</td>\n",
       "      <td>0.068901</td>\n",
       "      <td>-0.004219</td>\n",
       "      <td>0.07312</td>\n",
       "      <td>0.086798</td>\n",
       "      <td>0.017934</td>\n",
       "      <td>0.068864</td>\n",
       "      <td>1.9858</td>\n",
       "      <td>6.2826</td>\n",
       "      <td>6.2804</td>\n",
       "      <td>-0.8009</td>\n",
       "      <td>118.1269</td>\n",
       "      <td>2.1006</td>\n",
       "      <td>7.7798</td>\n",
       "      <td>7.1826</td>\n",
       "      <td>0.1518</td>\n",
       "      <td>144.7414</td>\n",
       "      <td>114.198374</td>\n",
       "      <td>120.407497</td>\n",
       "      <td>109.024919</td>\n",
       "      <td>1.349137</td>\n",
       "      <td>1.488932</td>\n",
       "      <td>1.478116</td>\n",
       "      <td>1.362695</td>\n",
       "      <td>320.818</td>\n",
       "      <td>229.296</td>\n",
       "      <td>6.306786</td>\n",
       "      <td>2313.0354</td>\n",
       "      <td>1.500178</td>\n",
       "    </tr>\n",
       "  </tbody>\n",
       "</table>\n",
       "</div>"
      ],
      "text/plain": [
       "           cross  cross_angle       para  para_angle  Frequency_Bending_15-16  \\\n",
       "LS1689  1637.648     1.397978  1686.0636   71.504135                3166.7862   \n",
       "\n",
       "        Cross_mag_Bending_15-16  dip_x_NPA_11-6-4  dip_y_NPA_11-6-4  \\\n",
       "LS1689                 0.281607          0.829224         -0.014957   \n",
       "\n",
       "        dip_z_NPA_11-6-4  total_dipole_NPA_11-6-4  dip_x_NPA_10-11-12  \\\n",
       "LS1689          0.486175                 0.961354            0.612603   \n",
       "\n",
       "        dip_y_NPA_10-11-12  dip_z_NPA_10-11-12  total_dipole_NPA_10-11-12  \\\n",
       "LS1689             0.58099           -0.145328                    0.85671   \n",
       "\n",
       "        dip_x_NPA_11-12-5  dip_y_NPA_11-12-5  dip_z_NPA_11-12-5  \\\n",
       "LS1689          -0.737507           0.159862           0.263154   \n",
       "\n",
       "        total_dipole_NPA_11-12-5  dip_x_NPA_4-5-1  dip_y_NPA_4-5-1  \\\n",
       "LS1689                  0.799201         0.701847        -1.005224   \n",
       "\n",
       "        dip_z_NPA_4-5-1  total_dipole_NPA_4-5-1  dip_x_NPA_4-3-2  \\\n",
       "LS1689         0.485646                 1.31868         1.133618   \n",
       "\n",
       "        dip_y_NPA_4-3-2  dip_z_NPA_4-3-2  total_dipole_NPA_4-3-2  \\\n",
       "LS1689        -0.697296         0.204652                1.346549   \n",
       "\n",
       "        dipole_x_10-5-3  dipole_y_10-5-3  dipole_z_10-5-3  \\\n",
       "LS1689        -0.931673        -9.393739         4.674629   \n",
       "\n",
       "        total_dipole_10-5-3  dipole_x_9-10-11  dipole_y_9-10-11  \\\n",
       "LS1689              10.5339          8.946262         -5.258283   \n",
       "\n",
       "        dipole_z_9-10-11  total_dipole_9-10-11  dipole_x_10-11-4  \\\n",
       "LS1689           1.81035               10.5339         -9.421643   \n",
       "\n",
       "        dipole_y_10-11-4  dipole_z_10-11-4  total_dipole_10-11-4  \\\n",
       "LS1689          3.698677          -2.91804               10.5339   \n",
       "\n",
       "        dipole_x_3-4-1  dipole_y_3-4-1  dipole_z_3-4-1  total_dipole_3-4-1  \\\n",
       "LS1689       -8.701504        5.385239       -2.499107             10.5339   \n",
       "\n",
       "        dipole_x_3-43-2  dipole_y_3-43-2  dipole_z_3-43-2  \\\n",
       "LS1689         1.895113        -9.847648         3.224109   \n",
       "\n",
       "        total_dipole_3-43-2  dipole_x_1-2-43  dipole_y_1-2-43  \\\n",
       "LS1689              10.5339         2.863874        -8.040339   \n",
       "\n",
       "        dipole_z_1-2-43  total_dipole_1-2-43  nbo_atom_43  nbo_atom_4  \\\n",
       "LS1689        -6.173628              10.5339     -0.41163     -0.4788   \n",
       "\n",
       "        nbo_atom_10  nbo_atom_11  nbo_atom_3  nbo_atom_5  nbo_atom_19  \\\n",
       "LS1689     -0.46739      0.31138     0.47212     0.13765      0.11011   \n",
       "\n",
       "        nbo_atom_20  nbo_atom_21  nbo_atom_6  hirshfeld_atom_43  \\\n",
       "LS1689     -0.37479     -0.37697    -0.23526          -0.034927   \n",
       "\n",
       "        hirshfeld_atom_4  hirshfeld_atom_10  hirshfeld_atom_11  \\\n",
       "LS1689         -0.103828          -0.108047           0.218036   \n",
       "\n",
       "        hirshfeld_atom_3  hirshfeld_atom_5  hirshfeld_atom_19  \\\n",
       "LS1689          0.122968          0.049688          -0.000232   \n",
       "\n",
       "        hirshfeld_atom_20  hirshfeld_atom_21  hirshfeld_atom_6  cm5_atom_43  \\\n",
       "LS1689          -0.029787          -0.029917         -0.035053     -0.28293   \n",
       "\n",
       "        cm5_atom_4  cm5_atom_10  cm5_atom_11  cm5_atom_3  cm5_atom_5  \\\n",
       "LS1689   -0.369728    -0.351794     0.423285    0.275326    0.123732   \n",
       "\n",
       "        cm5_atom_19  cm5_atom_20  cm5_atom_21  cm5_atom_6  nbo_diff_43-4  \\\n",
       "LS1689     0.013906    -0.164733    -0.165095   -0.075576        0.06717   \n",
       "\n",
       "        nbo_diff_10-4  nbo_diff_43-10  hirshfeld_diff_43-4  \\\n",
       "LS1689        0.01141         0.05576             0.068901   \n",
       "\n",
       "        hirshfeld_diff_10-4  hirshfeld_diff_43-10  cm5_diff_43-4  \\\n",
       "LS1689            -0.004219               0.07312       0.086798   \n",
       "\n",
       "        cm5_diff_10-4  cm5_diff_43-10  B1_3-5  B5_3-5   L_3-5  loc_B5_3-5  \\\n",
       "LS1689       0.017934        0.068864  1.9858  6.2826  6.2804     -0.8009   \n",
       "\n",
       "        B1_B5_angle_3-5  B1_5-3  B5_5-3   L_5-3  loc_B5_5-3  B1_B5_angle_5-3  \\\n",
       "LS1689         118.1269  2.1006  7.7798  7.1826      0.1518         144.7414   \n",
       "\n",
       "        angle_[10, 5, 3]  angle_[5, 3, 4]  angle_[1, 4, 3]  bond_length_10-5  \\\n",
       "LS1689        114.198374       120.407497       109.024919          1.349137   \n",
       "\n",
       "        bond_length_5-3  bond_length_1-4  bond_length_20-21    aniso      iso  \\\n",
       "LS1689         1.488932         1.478116           1.362695  320.818  229.296   \n",
       "\n",
       "          energy  Frequency_Stretch_11_19  Amplitude_Stretch_11_19  \n",
       "LS1689  6.306786                2313.0354                 1.500178  "
      ]
     },
     "execution_count": 152,
     "metadata": {},
     "output_type": "execute_result"
    }
   ],
   "source": [
    "df = pd.concat([df, metal_vib], axis=1)\n",
    "df.head()"
   ]
  },
  {
   "cell_type": "code",
   "execution_count": null,
   "metadata": {},
   "outputs": [
    {
     "name": "stdout",
     "output_type": "stream",
     "text": [
      "Database already exists at: results_new_features_set_combined.db\n",
      "Table 'regression_results' has been ensured to exist.\n",
      "linear model selected\n",
      "\n",
      "--- Correlation Report ---\n",
      "Features with correlation above 0.8:\n",
      "['energy', 'dipole_y_1-2-3', 'para_angle', 'hirshfeld_diff_5-12', 'total_dipole_4-3-2', 'hirshfeld_atom_21', 'L_6-4', 'bond_length_6-4', 'nbo_diff_3-11', 'nbo_atom_7', 'dipole_z_10-11-12', 'hirshfeld_atom_7', 'total_dipole_11-12-5', 'nbo_atom_3', 'hirshfeld_atom_11', 'nbo_diff_5-12', 'total_dipole_1-2-3', 'dipole_y_11-12-5', 'B5_6-4', 'aniso', 'nbo_atom_12', 'Cross_mag_Bending_17-18', 'dipole_x_11-12-5', 'dipole_y_4-5-1', 'dipole_x_4-5-1', 'angle_[1, 5, 4]', 'nbo_atom_11', 'dipole_z_11-12-5', 'dipole_z_1-2-3', 'nbo_atom_4', 'dipole_x_1-2-3', 'dipole_y_11-6-4', 'total_dipole_11-6-4', 'dipole_z_4-3-2', 'dipole_x_11-6-4', 'angle_[6, 4, 5]', 'hirshfeld_atom_5', 'dipole_y_4-3-2', 'hirshfeld_diff_3-11', 'nbo_atom_21', 'dipole_z_11-6-4', 'dipole_x_10-11-12', 'hirshfeld_diff_3-5', 'dipole_y_10-11-12', 'dipole_z_4-5-1', 'total_dipole_10-11-12', 'cross_angle', 'dipole_x_4-3-2', 'nbo_diff_3-5', 'hirshfeld_atom_3', 'hirshfeld_atom_4', 'total_dipole_4-5-1', 'nbo_atom_6']\n",
      "\n"
     ]
    },
    {
     "data": {
      "image/png": "[encoded data removed]",
      "text/plain": [
       "<Figure size 600x500 with 2 Axes>"
      ]
     },
     "metadata": {},
     "output_type": "display_data"
    },
    {
     "name": "stdout",
     "output_type": "stream",
     "text": [
      "\n",
      "Correlated features were not dropped.\n",
      "\n",
      "Using 1 jobs for evaluation. Found 20 cores.\n",
      "Combos to run: 1423590, done_combos: 2836\n",
      "Evaluating 1423590 new combos with R2 >= 0.7...\n"
     ]
    },
    {
     "name": "stderr",
     "output_type": "stream",
     "text": [
      "Threshold 0.7 (single-core):   0%|          | 3326/1423590 [00:18<1:56:35, 203.03it/s]"
     ]
    },
    {
     "name": "stdout",
     "output_type": "stream",
     "text": [
      "Error evaluating combo ('cross', 'para', 'total_dipole_11-6-4', 'total_dipole_10-11-12'): Singular matrix\n",
      "Error evaluating combo ('cross', 'para', 'total_dipole_11-6-4', 'total_dipole_11-12-5'): Singular matrix\n",
      "Error evaluating combo ('cross', 'para', 'total_dipole_11-6-4', 'total_dipole_4-5-1'): Singular matrix\n",
      "Error evaluating combo ('cross', 'para', 'total_dipole_11-6-4', 'total_dipole_4-3-2'): Singular matrix\n",
      "Error evaluating combo ('cross', 'para', 'total_dipole_11-6-4', 'total_dipole_1-2-3'): Singular matrix\n"
     ]
    },
    {
     "name": "stderr",
     "output_type": "stream",
     "text": [
      "Threshold 0.7 (single-core):   0%|          | 3569/1423590 [00:19<1:57:58, 200.62it/s]"
     ]
    },
    {
     "name": "stdout",
     "output_type": "stream",
     "text": [
      "Error evaluating combo ('cross', 'para', 'total_dipole_10-11-12', 'total_dipole_11-12-5'): Singular matrix\n",
      "Error evaluating combo ('cross', 'para', 'total_dipole_10-11-12', 'total_dipole_4-5-1'): Singular matrix\n",
      "Error evaluating combo ('cross', 'para', 'total_dipole_10-11-12', 'total_dipole_4-3-2'): Singular matrix\n",
      "Error evaluating combo ('cross', 'para', 'total_dipole_10-11-12', 'total_dipole_1-2-3'): Singular matrix\n"
     ]
    },
    {
     "name": "stderr",
     "output_type": "stream",
     "text": [
      "Threshold 0.7 (single-core):   0%|          | 3833/1423590 [00:21<1:56:25, 203.23it/s]"
     ]
    },
    {
     "name": "stdout",
     "output_type": "stream",
     "text": [
      "Error evaluating combo ('cross', 'para', 'total_dipole_11-12-5', 'total_dipole_4-5-1'): Singular matrix\n",
      "Error evaluating combo ('cross', 'para', 'total_dipole_11-12-5', 'total_dipole_4-3-2'): Singular matrix\n",
      "Error evaluating combo ('cross', 'para', 'total_dipole_11-12-5', 'total_dipole_1-2-3'): Singular matrix\n"
     ]
    },
    {
     "name": "stderr",
     "output_type": "stream",
     "text": [
      "Threshold 0.7 (single-core):   0%|          | 4070/1423590 [00:22<1:57:47, 200.86it/s]"
     ]
    },
    {
     "name": "stdout",
     "output_type": "stream",
     "text": [
      "Error evaluating combo ('cross', 'para', 'total_dipole_4-5-1', 'total_dipole_4-3-2'): Singular matrix\n",
      "Error evaluating combo ('cross', 'para', 'total_dipole_4-5-1', 'total_dipole_1-2-3'): Singular matrix\n"
     ]
    },
    {
     "name": "stderr",
     "output_type": "stream",
     "text": [
      "Threshold 0.7 (single-core):   0%|          | 4287/1423590 [00:23<2:01:14, 195.11it/s]"
     ]
    },
    {
     "name": "stdout",
     "output_type": "stream",
     "text": [
      "Error evaluating combo ('cross', 'para', 'total_dipole_4-3-2', 'total_dipole_1-2-3'): Singular matrix\n"
     ]
    },
    {
     "name": "stderr",
     "output_type": "stream",
     "text": [
      "Threshold 0.7 (single-core):   0%|          | 4565/1423590 [00:25<2:11:06, 180.39it/s]"
     ]
    },
    {
     "name": "stdout",
     "output_type": "stream",
     "text": [
      "Data normalized. Variance: 0.9999999999999999\n",
      "Using single train/test split with test size 0.1 and random state 42\n",
      "Index 0: Actual = 0.047, Predicted = 0.337, % Error = 610.86%\n",
      "Index 1: Actual = 0.265, Predicted = 0.292, % Error = 10.10%\n",
      "Index 2: Actual = 0.000, Predicted = 0.236, % Error = nan%\n",
      "Index 3: Actual = 1.882, Predicted = 1.632, % Error = -13.29%\n",
      "Index 4: Actual = 1.882, Predicted = 1.878, % Error = -0.19%\n",
      "Index 5: Actual = 2.304, Predicted = 2.054, % Error = -10.89%\n",
      "Index 6: Actual = 2.304, Predicted = 1.464, % Error = -36.48%\n",
      "Index 7: Actual = 1.743, Predicted = 1.698, % Error = -2.60%\n",
      "Index 8: Actual = 1.532, Predicted = 1.258, % Error = -17.86%\n",
      "Index 9: Actual = 1.370, Predicted = 1.441, % Error = 5.18%\n",
      "Index 10: Actual = 1.532, Predicted = 1.282, % Error = -16.31%\n",
      "Index 11: Actual = 1.629, Predicted = 1.647, % Error = 1.08%\n",
      "Index 12: Actual = 1.027, Predicted = 1.752, % Error = 70.54%\n",
      "Index 13: Actual = 0.000, Predicted = -0.249, % Error = nan%\n",
      "Index 14: Actual = 0.071, Predicted = 0.113, % Error = 59.07%\n",
      "Index 15: Actual = 0.047, Predicted = 0.528, % Error = 1014.03%\n",
      "Index 16: Actual = 0.000, Predicted = 0.379, % Error = nan%\n",
      "Index 17: Actual = 0.102, Predicted = 0.289, % Error = 183.20%\n",
      "Index 18: Actual = 0.058, Predicted = 0.477, % Error = 723.26%\n",
      "Index 19: Actual = 1.208, Predicted = 1.079, % Error = -10.73%\n",
      "Index 20: Actual = 0.635, Predicted = 1.125, % Error = 77.16%\n",
      "Index 21: Actual = 1.645, Predicted = 0.459, % Error = -72.09%\n",
      "Index 22: Actual = 0.238, Predicted = 0.129, % Error = -45.78%\n",
      "Index 23: Actual = 0.732, Predicted = 0.312, % Error = -57.42%\n",
      "Index 24: Actual = 1.163, Predicted = 1.149, % Error = -1.23%\n",
      "Index 25: Actual = 1.743, Predicted = 1.193, % Error = -31.55%\n",
      "Index 26: Actual = 0.000, Predicted = 0.528, % Error = nan%\n",
      "Index 27: Actual = 1.180, Predicted = 1.894, % Error = 60.57%\n",
      "Index 28: Actual = 1.743, Predicted = 1.709, % Error = -1.98%\n"
     ]
    },
    {
     "name": "stderr",
     "output_type": "stream",
     "text": [
      "Threshold 0.7 (single-core):   0%|          | 4734/1423590 [00:26<2:20:03, 168.84it/s]"
     ]
    },
    {
     "name": "stdout",
     "output_type": "stream",
     "text": [
      "Data normalized. Variance: 1.0\n",
      "Using single train/test split with test size 0.1 and random state 42\n",
      "Index 0: Actual = 0.047, Predicted = 0.444, % Error = 835.98%\n",
      "Index 1: Actual = 0.265, Predicted = 0.171, % Error = -35.32%\n",
      "Index 2: Actual = 0.000, Predicted = 0.431, % Error = nan%\n",
      "Index 3: Actual = 1.882, Predicted = 1.200, % Error = -36.25%\n",
      "Index 4: Actual = 1.882, Predicted = 2.038, % Error = 8.30%\n",
      "Index 5: Actual = 2.304, Predicted = 2.250, % Error = -2.35%\n",
      "Index 6: Actual = 2.304, Predicted = 1.466, % Error = -36.37%\n",
      "Index 7: Actual = 1.743, Predicted = 1.397, % Error = -19.90%\n",
      "Index 8: Actual = 1.532, Predicted = 1.229, % Error = -19.78%\n",
      "Index 9: Actual = 1.370, Predicted = 1.271, % Error = -7.22%\n",
      "Index 10: Actual = 1.532, Predicted = 1.758, % Error = 14.80%\n",
      "Index 11: Actual = 1.629, Predicted = 1.546, % Error = -5.13%\n",
      "Index 12: Actual = 1.027, Predicted = 1.634, % Error = 59.07%\n",
      "Index 13: Actual = 0.000, Predicted = -0.128, % Error = nan%\n",
      "Index 14: Actual = 0.071, Predicted = 0.181, % Error = 154.41%\n",
      "Index 15: Actual = 0.047, Predicted = 0.435, % Error = 816.84%\n",
      "Index 16: Actual = 0.000, Predicted = 0.202, % Error = nan%\n",
      "Index 17: Actual = 0.102, Predicted = 0.402, % Error = 293.91%\n",
      "Index 18: Actual = 0.058, Predicted = 0.478, % Error = 723.62%\n",
      "Index 19: Actual = 1.208, Predicted = 0.870, % Error = -27.96%\n",
      "Index 20: Actual = 0.635, Predicted = 0.775, % Error = 22.12%\n",
      "Index 21: Actual = 1.645, Predicted = 0.511, % Error = -68.96%\n",
      "Index 22: Actual = 0.238, Predicted = 0.250, % Error = 5.13%\n",
      "Index 23: Actual = 0.732, Predicted = 0.376, % Error = -48.70%\n",
      "Index 24: Actual = 1.163, Predicted = 1.122, % Error = -3.54%\n",
      "Index 25: Actual = 1.743, Predicted = 1.660, % Error = -4.78%\n",
      "Index 26: Actual = 0.000, Predicted = 0.435, % Error = nan%\n",
      "Index 27: Actual = 1.180, Predicted = 2.013, % Error = 70.59%\n",
      "Index 28: Actual = 1.743, Predicted = 1.669, % Error = -4.28%\n"
     ]
    },
    {
     "name": "stderr",
     "output_type": "stream",
     "text": [
      "Threshold 0.7 (single-core):   0%|          | 4977/1423590 [00:27<2:41:34, 146.34it/s]"
     ]
    },
    {
     "name": "stdout",
     "output_type": "stream",
     "text": [
      "Data normalized. Variance: 1.0\n",
      "Using single train/test split with test size 0.1 and random state 42\n",
      "Index 0: Actual = 0.047, Predicted = 0.362, % Error = 664.55%\n",
      "Index 1: Actual = 0.265, Predicted = 0.231, % Error = -12.64%\n",
      "Index 2: Actual = 0.000, Predicted = 0.369, % Error = nan%\n",
      "Index 3: Actual = 1.882, Predicted = 1.545, % Error = -17.89%\n",
      "Index 4: Actual = 1.882, Predicted = 1.913, % Error = 1.67%\n",
      "Index 5: Actual = 2.304, Predicted = 2.043, % Error = -11.34%\n",
      "Index 6: Actual = 2.304, Predicted = 1.478, % Error = -35.87%\n",
      "Index 7: Actual = 1.743, Predicted = 1.402, % Error = -19.57%\n",
      "Index 8: Actual = 1.532, Predicted = 1.331, % Error = -13.11%\n",
      "Index 9: Actual = 1.370, Predicted = 1.331, % Error = -2.84%\n",
      "Index 10: Actual = 1.532, Predicted = 1.777, % Error = 16.01%\n",
      "Index 11: Actual = 1.629, Predicted = 1.569, % Error = -3.73%\n",
      "Index 12: Actual = 1.027, Predicted = 1.597, % Error = 55.48%\n",
      "Index 13: Actual = 0.000, Predicted = -0.359, % Error = nan%\n",
      "Index 14: Actual = 0.071, Predicted = -0.008, % Error = -111.86%\n",
      "Index 15: Actual = 0.047, Predicted = 0.507, % Error = 969.43%\n",
      "Index 16: Actual = 0.000, Predicted = 0.123, % Error = nan%\n",
      "Index 17: Actual = 0.102, Predicted = 0.320, % Error = 213.24%\n",
      "Index 18: Actual = 0.058, Predicted = 0.496, % Error = 754.47%\n",
      "Index 19: Actual = 1.208, Predicted = 1.176, % Error = -2.65%\n",
      "Index 20: Actual = 0.635, Predicted = 1.020, % Error = 60.63%\n",
      "Index 21: Actual = 1.645, Predicted = 0.495, % Error = -69.93%\n",
      "Index 22: Actual = 0.238, Predicted = 0.196, % Error = -17.64%\n",
      "Index 23: Actual = 0.732, Predicted = 0.354, % Error = -51.61%\n",
      "Index 24: Actual = 1.163, Predicted = 1.169, % Error = 0.49%\n",
      "Index 25: Actual = 1.743, Predicted = 1.576, % Error = -9.62%\n",
      "Index 26: Actual = 0.000, Predicted = 0.507, % Error = nan%\n",
      "Index 27: Actual = 1.180, Predicted = 1.872, % Error = 58.70%\n",
      "Index 28: Actual = 1.743, Predicted = 1.694, % Error = -2.81%\n"
     ]
    },
    {
     "name": "stderr",
     "output_type": "stream",
     "text": [
      "Threshold 0.7 (single-core):   0%|          | 5116/1423590 [00:28<2:22:31, 165.88it/s]"
     ]
    },
    {
     "name": "stdout",
     "output_type": "stream",
     "text": [
      "Data normalized. Variance: 1.0\n",
      "Using single train/test split with test size 0.1 and random state 42\n",
      "Index 0: Actual = 0.047, Predicted = 0.440, % Error = 828.60%\n",
      "Index 1: Actual = 0.265, Predicted = 0.158, % Error = -40.52%\n",
      "Index 2: Actual = 0.000, Predicted = 0.425, % Error = nan%\n",
      "Index 3: Actual = 1.882, Predicted = 1.259, % Error = -33.12%\n",
      "Index 4: Actual = 1.882, Predicted = 2.037, % Error = 8.22%\n",
      "Index 5: Actual = 2.304, Predicted = 2.219, % Error = -3.69%\n",
      "Index 6: Actual = 2.304, Predicted = 1.470, % Error = -36.22%\n",
      "Index 7: Actual = 1.743, Predicted = 1.441, % Error = -17.38%\n",
      "Index 8: Actual = 1.532, Predicted = 1.286, % Error = -16.04%\n",
      "Index 9: Actual = 1.370, Predicted = 1.335, % Error = -2.59%\n",
      "Index 10: Actual = 1.532, Predicted = 1.650, % Error = 7.73%\n",
      "Index 11: Actual = 1.629, Predicted = 1.555, % Error = -4.53%\n",
      "Index 12: Actual = 1.027, Predicted = 1.698, % Error = 65.31%\n",
      "Index 13: Actual = 0.000, Predicted = -0.217, % Error = nan%\n",
      "Index 14: Actual = 0.071, Predicted = 0.134, % Error = 88.28%\n",
      "Index 15: Actual = 0.047, Predicted = 0.430, % Error = 807.95%\n",
      "Index 16: Actual = 0.000, Predicted = 0.163, % Error = nan%\n",
      "Index 17: Actual = 0.102, Predicted = 0.477, % Error = 367.38%\n",
      "Index 18: Actual = 0.058, Predicted = 0.535, % Error = 822.44%\n",
      "Index 19: Actual = 1.208, Predicted = 0.847, % Error = -29.92%\n",
      "Index 20: Actual = 0.635, Predicted = 0.793, % Error = 24.95%\n",
      "Index 21: Actual = 1.645, Predicted = 0.530, % Error = -67.79%\n",
      "Index 22: Actual = 0.238, Predicted = 0.284, % Error = 19.56%\n",
      "Index 23: Actual = 0.732, Predicted = 0.374, % Error = -48.87%\n",
      "Index 24: Actual = 1.163, Predicted = 1.121, % Error = -3.62%\n",
      "Index 25: Actual = 1.743, Predicted = 1.537, % Error = -11.87%\n",
      "Index 26: Actual = 0.000, Predicted = 0.430, % Error = nan%\n",
      "Index 27: Actual = 1.180, Predicted = 1.995, % Error = 69.08%\n",
      "Index 28: Actual = 1.743, Predicted = 1.680, % Error = -3.63%\n"
     ]
    },
    {
     "name": "stderr",
     "output_type": "stream",
     "text": [
      "Threshold 0.7 (single-core):   0%|          | 5375/1423590 [00:30<2:07:58, 184.69it/s]"
     ]
    },
    {
     "name": "stdout",
     "output_type": "stream",
     "text": [
      "Data normalized. Variance: 0.9999999999999999\n",
      "Using single train/test split with test size 0.1 and random state 42\n",
      "Index 0: Actual = 0.047, Predicted = 0.366, % Error = 673.25%\n",
      "Index 1: Actual = 0.265, Predicted = 0.226, % Error = -14.86%\n",
      "Index 2: Actual = 0.000, Predicted = 0.348, % Error = nan%\n",
      "Index 3: Actual = 1.882, Predicted = 1.569, % Error = -16.63%\n",
      "Index 4: Actual = 1.882, Predicted = 1.936, % Error = 2.88%\n",
      "Index 5: Actual = 2.304, Predicted = 2.033, % Error = -11.80%\n",
      "Index 6: Actual = 2.304, Predicted = 1.494, % Error = -35.18%\n",
      "Index 7: Actual = 1.743, Predicted = 1.496, % Error = -14.21%\n",
      "Index 8: Actual = 1.532, Predicted = 1.418, % Error = -7.42%\n",
      "Index 9: Actual = 1.370, Predicted = 1.402, % Error = 2.36%\n",
      "Index 10: Actual = 1.532, Predicted = 1.528, % Error = -0.24%\n",
      "Index 11: Actual = 1.629, Predicted = 1.618, % Error = -0.72%\n",
      "Index 12: Actual = 1.027, Predicted = 1.688, % Error = 64.37%\n",
      "Index 13: Actual = 0.000, Predicted = -0.367, % Error = nan%\n",
      "Index 14: Actual = 0.071, Predicted = 0.014, % Error = -80.25%\n",
      "Index 15: Actual = 0.047, Predicted = 0.510, % Error = 976.56%\n",
      "Index 16: Actual = 0.000, Predicted = 0.124, % Error = nan%\n",
      "Index 17: Actual = 0.102, Predicted = 0.368, % Error = 260.23%\n",
      "Index 18: Actual = 0.058, Predicted = 0.532, % Error = 816.56%\n",
      "Index 19: Actual = 1.208, Predicted = 1.152, % Error = -4.67%\n",
      "Index 20: Actual = 0.635, Predicted = 1.022, % Error = 61.05%\n",
      "Index 21: Actual = 1.645, Predicted = 0.488, % Error = -70.35%\n",
      "Index 22: Actual = 0.238, Predicted = 0.210, % Error = -11.76%\n",
      "Index 23: Actual = 0.732, Predicted = 0.315, % Error = -56.95%\n",
      "Index 24: Actual = 1.163, Predicted = 1.140, % Error = -1.98%\n",
      "Index 25: Actual = 1.743, Predicted = 1.361, % Error = -21.94%\n",
      "Index 26: Actual = 0.000, Predicted = 0.510, % Error = nan%\n",
      "Index 27: Actual = 1.180, Predicted = 1.865, % Error = 58.11%\n",
      "Index 28: Actual = 1.743, Predicted = 1.719, % Error = -1.40%\n"
     ]
    },
    {
     "name": "stderr",
     "output_type": "stream",
     "text": [
      "Threshold 0.7 (single-core):   0%|          | 5411/1423590 [00:30<2:33:04, 154.41it/s]"
     ]
    },
    {
     "name": "stdout",
     "output_type": "stream",
     "text": [
      "Data normalized. Variance: 1.0\n",
      "Using single train/test split with test size 0.1 and random state 42\n",
      "Index 0: Actual = 0.047, Predicted = 0.287, % Error = 505.83%\n",
      "Index 1: Actual = 0.265, Predicted = 0.127, % Error = -52.18%\n",
      "Index 2: Actual = 0.000, Predicted = 0.380, % Error = nan%\n",
      "Index 3: Actual = 1.882, Predicted = 1.633, % Error = -13.23%\n",
      "Index 4: Actual = 1.882, Predicted = 1.731, % Error = -8.03%\n",
      "Index 5: Actual = 2.304, Predicted = 2.047, % Error = -11.16%\n",
      "Index 6: Actual = 2.304, Predicted = 1.712, % Error = -25.72%\n",
      "Index 7: Actual = 1.743, Predicted = 1.344, % Error = -22.89%\n",
      "Index 8: Actual = 1.532, Predicted = 1.415, % Error = -7.60%\n",
      "Index 9: Actual = 1.370, Predicted = 1.433, % Error = 4.63%\n",
      "Index 10: Actual = 1.532, Predicted = 1.682, % Error = 9.85%\n",
      "Index 11: Actual = 1.629, Predicted = 1.446, % Error = -11.27%\n",
      "Index 12: Actual = 1.027, Predicted = 1.431, % Error = 39.31%\n",
      "Index 13: Actual = 0.000, Predicted = -0.147, % Error = nan%\n",
      "Index 14: Actual = 0.071, Predicted = 0.099, % Error = 38.57%\n",
      "Index 15: Actual = 0.047, Predicted = 0.609, % Error = 1184.55%\n",
      "Index 16: Actual = 0.000, Predicted = 0.347, % Error = nan%\n",
      "Index 17: Actual = 0.102, Predicted = 0.178, % Error = 74.15%\n",
      "Index 18: Actual = 0.058, Predicted = 0.388, % Error = 569.61%\n",
      "Index 19: Actual = 1.208, Predicted = 1.099, % Error = -9.06%\n",
      "Index 20: Actual = 0.635, Predicted = 0.988, % Error = 55.69%\n",
      "Index 21: Actual = 1.645, Predicted = 0.064, % Error = -96.13%\n",
      "Index 22: Actual = 0.238, Predicted = 0.337, % Error = 41.69%\n",
      "Index 23: Actual = 0.732, Predicted = 0.534, % Error = -27.14%\n",
      "Index 24: Actual = 1.163, Predicted = 1.077, % Error = -7.44%\n",
      "Index 25: Actual = 1.743, Predicted = 1.568, % Error = -10.08%\n",
      "Index 26: Actual = 0.000, Predicted = 0.609, % Error = nan%\n",
      "Index 27: Actual = 1.180, Predicted = 1.841, % Error = 56.05%\n",
      "Index 28: Actual = 1.743, Predicted = 1.828, % Error = 4.84%\n"
     ]
    },
    {
     "name": "stderr",
     "output_type": "stream",
     "text": [
      "Threshold 0.7 (single-core):   1%|          | 8653/1423590 [00:50<2:01:41, 193.80it/s]"
     ]
    },
    {
     "name": "stdout",
     "output_type": "stream",
     "text": [
      "Error evaluating combo ('cross', 'Frequency_Bending_17-18', 'total_dipole_11-6-4', 'total_dipole_10-11-12'): Singular matrix\n",
      "Error evaluating combo ('cross', 'Frequency_Bending_17-18', 'total_dipole_11-6-4', 'total_dipole_11-12-5'): Singular matrix\n",
      "Error evaluating combo ('cross', 'Frequency_Bending_17-18', 'total_dipole_11-6-4', 'total_dipole_4-5-1'): Singular matrix\n",
      "Error evaluating combo ('cross', 'Frequency_Bending_17-18', 'total_dipole_11-6-4', 'total_dipole_4-3-2'): Singular matrix\n",
      "Error evaluating combo ('cross', 'Frequency_Bending_17-18', 'total_dipole_11-6-4', 'total_dipole_1-2-3'): Singular matrix\n"
     ]
    },
    {
     "name": "stderr",
     "output_type": "stream",
     "text": [
      "Threshold 0.7 (single-core):   1%|          | 8820/1423590 [00:52<3:41:46, 106.32it/s]"
     ]
    },
    {
     "name": "stdout",
     "output_type": "stream",
     "text": [
      "Error evaluating combo ('cross', 'Frequency_Bending_17-18', 'dipole_y_10-11-12', 'bond_length_22-23'): [Errno 13] Permission denied: 'results_new_features_set_combined.csv'\n",
      "Error evaluating combo ('cross', 'Frequency_Bending_17-18', 'dipole_y_10-11-12', 'Frequency_Stretch_12_21'): [Errno 13] Permission denied: 'results_new_features_set_combined.csv'\n",
      "Error evaluating combo ('cross', 'Frequency_Bending_17-18', 'dipole_z_10-11-12', 'dipole_y_11-12-5'): [Errno 13] Permission denied: 'results_new_features_set_combined.csv'\n",
      "Error evaluating combo ('cross', 'Frequency_Bending_17-18', 'dipole_z_10-11-12', 'dipole_z_11-12-5'): [Errno 13] Permission denied: 'results_new_features_set_combined.csv'\n",
      "Error evaluating combo ('cross', 'Frequency_Bending_17-18', 'dipole_z_10-11-12', 'total_dipole_11-12-5'): [Errno 13] Permission denied: 'results_new_features_set_combined.csv'\n",
      "Error evaluating combo ('cross', 'Frequency_Bending_17-18', 'dipole_z_10-11-12', 'dipole_x_4-5-1'): [Errno 13] Permission denied: 'results_new_features_set_combined.csv'\n",
      "Error evaluating combo ('cross', 'Frequency_Bending_17-18', 'dipole_z_10-11-12', 'dipole_y_4-5-1'): [Errno 13] Permission denied: 'results_new_features_set_combined.csv'\n",
      "Error evaluating combo ('cross', 'Frequency_Bending_17-18', 'dipole_z_10-11-12', 'dipole_z_4-5-1'): [Errno 13] Permission denied: 'results_new_features_set_combined.csv'\n",
      "Error evaluating combo ('cross', 'Frequency_Bending_17-18', 'dipole_z_10-11-12', 'total_dipole_4-5-1'): [Errno 13] Permission denied: 'results_new_features_set_combined.csv'\n",
      "Error evaluating combo ('cross', 'Frequency_Bending_17-18', 'dipole_z_10-11-12', 'dipole_x_4-3-2'): [Errno 13] Permission denied: 'results_new_features_set_combined.csv'\n",
      "Error evaluating combo ('cross', 'Frequency_Bending_17-18', 'dipole_z_10-11-12', 'dipole_y_4-3-2'): [Errno 13] Permission denied: 'results_new_features_set_combined.csv'\n",
      "Error evaluating combo ('cross', 'Frequency_Bending_17-18', 'dipole_z_10-11-12', 'dipole_z_4-3-2'): [Errno 13] Permission denied: 'results_new_features_set_combined.csv'\n",
      "Error evaluating combo ('cross', 'Frequency_Bending_17-18', 'dipole_z_10-11-12', 'total_dipole_4-3-2'): [Errno 13] Permission denied: 'results_new_features_set_combined.csv'\n",
      "Error evaluating combo ('cross', 'Frequency_Bending_17-18', 'dipole_z_10-11-12', 'dipole_x_1-2-3'): [Errno 13] Permission denied: 'results_new_features_set_combined.csv'\n",
      "Error evaluating combo ('cross', 'Frequency_Bending_17-18', 'dipole_z_10-11-12', 'dipole_y_1-2-3'): [Errno 13] Permission denied: 'results_new_features_set_combined.csv'\n",
      "Error evaluating combo ('cross', 'Frequency_Bending_17-18', 'dipole_z_10-11-12', 'dipole_z_1-2-3'): [Errno 13] Permission denied: 'results_new_features_set_combined.csv'\n",
      "Error evaluating combo ('cross', 'Frequency_Bending_17-18', 'dipole_z_10-11-12', 'total_dipole_1-2-3'): [Errno 13] Permission denied: 'results_new_features_set_combined.csv'\n"
     ]
    },
    {
     "name": "stderr",
     "output_type": "stream",
     "text": [
      "Threshold 0.7 (single-core):   1%|          | 8894/1423590 [00:52<4:09:40, 94.44it/s] "
     ]
    },
    {
     "name": "stdout",
     "output_type": "stream",
     "text": [
      "Error evaluating combo ('cross', 'Frequency_Bending_17-18', 'total_dipole_10-11-12', 'total_dipole_11-12-5'): Singular matrix\n",
      "Error evaluating combo ('cross', 'Frequency_Bending_17-18', 'total_dipole_10-11-12', 'total_dipole_4-5-1'): Singular matrix\n",
      "Error evaluating combo ('cross', 'Frequency_Bending_17-18', 'total_dipole_10-11-12', 'total_dipole_4-3-2'): Singular matrix\n",
      "Error evaluating combo ('cross', 'Frequency_Bending_17-18', 'total_dipole_10-11-12', 'total_dipole_1-2-3'): Singular matrix\n"
     ]
    },
    {
     "name": "stderr",
     "output_type": "stream",
     "text": [
      "Threshold 0.7 (single-core):   1%|          | 9141/1423590 [00:55<3:25:30, 114.71it/s]"
     ]
    },
    {
     "name": "stdout",
     "output_type": "stream",
     "text": [
      "Error evaluating combo ('cross', 'Frequency_Bending_17-18', 'total_dipole_11-12-5', 'total_dipole_4-5-1'): Singular matrix\n",
      "Error evaluating combo ('cross', 'Frequency_Bending_17-18', 'total_dipole_11-12-5', 'total_dipole_4-3-2'): Singular matrix\n",
      "Error evaluating combo ('cross', 'Frequency_Bending_17-18', 'total_dipole_11-12-5', 'total_dipole_1-2-3'): Singular matrix\n"
     ]
    },
    {
     "name": "stderr",
     "output_type": "stream",
     "text": [
      "Threshold 0.7 (single-core):   1%|          | 9371/1423590 [00:57<2:45:09, 142.71it/s]"
     ]
    },
    {
     "name": "stdout",
     "output_type": "stream",
     "text": [
      "Error evaluating combo ('cross', 'Frequency_Bending_17-18', 'total_dipole_4-5-1', 'total_dipole_4-3-2'): Singular matrix\n",
      "Error evaluating combo ('cross', 'Frequency_Bending_17-18', 'total_dipole_4-5-1', 'total_dipole_1-2-3'): Singular matrix\n"
     ]
    },
    {
     "name": "stderr",
     "output_type": "stream",
     "text": [
      "Threshold 0.7 (single-core):   1%|          | 9608/1423590 [00:59<2:23:06, 164.67it/s]"
     ]
    },
    {
     "name": "stdout",
     "output_type": "stream",
     "text": [
      "Error evaluating combo ('cross', 'Frequency_Bending_17-18', 'total_dipole_4-3-2', 'total_dipole_1-2-3'): Singular matrix\n"
     ]
    },
    {
     "name": "stderr",
     "output_type": "stream",
     "text": [
      "Threshold 0.7 (single-core):   1%|          | 11194/1423590 [01:10<2:37:07, 149.81it/s]"
     ]
    },
    {
     "name": "stdout",
     "output_type": "stream",
     "text": [
      "Error evaluating combo ('cross', 'Cross_mag_Bending_17-18', 'total_dipole_11-6-4', 'total_dipole_10-11-12'): Singular matrix\n",
      "Error evaluating combo ('cross', 'Cross_mag_Bending_17-18', 'total_dipole_11-6-4', 'total_dipole_11-12-5'): Singular matrix\n",
      "Error evaluating combo ('cross', 'Cross_mag_Bending_17-18', 'total_dipole_11-6-4', 'total_dipole_4-5-1'): Singular matrix\n",
      "Error evaluating combo ('cross', 'Cross_mag_Bending_17-18', 'total_dipole_11-6-4', 'total_dipole_4-3-2'): Singular matrix\n",
      "Error evaluating combo ('cross', 'Cross_mag_Bending_17-18', 'total_dipole_11-6-4', 'total_dipole_1-2-3'): Singular matrix\n"
     ]
    },
    {
     "name": "stderr",
     "output_type": "stream",
     "text": [
      "Threshold 0.7 (single-core):   1%|          | 11451/1423590 [01:12<2:41:44, 145.51it/s]"
     ]
    },
    {
     "name": "stdout",
     "output_type": "stream",
     "text": [
      "Error evaluating combo ('cross', 'Cross_mag_Bending_17-18', 'total_dipole_10-11-12', 'total_dipole_11-12-5'): Singular matrix\n",
      "Error evaluating combo ('cross', 'Cross_mag_Bending_17-18', 'total_dipole_10-11-12', 'total_dipole_4-5-1'): Singular matrix\n",
      "Error evaluating combo ('cross', 'Cross_mag_Bending_17-18', 'total_dipole_10-11-12', 'total_dipole_4-3-2'): Singular matrix\n",
      "Error evaluating combo ('cross', 'Cross_mag_Bending_17-18', 'total_dipole_10-11-12', 'total_dipole_1-2-3'): Singular matrix\n"
     ]
    },
    {
     "name": "stderr",
     "output_type": "stream",
     "text": [
      "Threshold 0.7 (single-core):   1%|          | 11708/1423590 [01:14<2:27:14, 159.82it/s]"
     ]
    },
    {
     "name": "stdout",
     "output_type": "stream",
     "text": [
      "Error evaluating combo ('cross', 'Cross_mag_Bending_17-18', 'total_dipole_11-12-5', 'total_dipole_4-5-1'): Singular matrix\n",
      "Error evaluating combo ('cross', 'Cross_mag_Bending_17-18', 'total_dipole_11-12-5', 'total_dipole_4-3-2'): Singular matrix\n",
      "Error evaluating combo ('cross', 'Cross_mag_Bending_17-18', 'total_dipole_11-12-5', 'total_dipole_1-2-3'): Singular matrix\n"
     ]
    },
    {
     "name": "stderr",
     "output_type": "stream",
     "text": [
      "Threshold 0.7 (single-core):   1%|          | 11942/1423590 [01:15<2:27:08, 159.89it/s]"
     ]
    },
    {
     "name": "stdout",
     "output_type": "stream",
     "text": [
      "Error evaluating combo ('cross', 'Cross_mag_Bending_17-18', 'total_dipole_4-5-1', 'total_dipole_4-3-2'): Singular matrix\n",
      "Error evaluating combo ('cross', 'Cross_mag_Bending_17-18', 'total_dipole_4-5-1', 'total_dipole_1-2-3'): Singular matrix\n"
     ]
    },
    {
     "name": "stderr",
     "output_type": "stream",
     "text": [
      "Threshold 0.7 (single-core):   1%|          | 12145/1423590 [01:18<3:47:53, 103.23it/s]"
     ]
    },
    {
     "name": "stdout",
     "output_type": "stream",
     "text": [
      "Error evaluating combo ('cross', 'Cross_mag_Bending_17-18', 'total_dipole_4-3-2', 'total_dipole_1-2-3'): Singular matrix\n"
     ]
    },
    {
     "name": "stderr",
     "output_type": "stream",
     "text": [
      "Threshold 0.7 (single-core):   1%|          | 13666/1423590 [01:28<2:54:24, 134.74it/s]"
     ]
    },
    {
     "name": "stdout",
     "output_type": "stream",
     "text": [
      "Error evaluating combo ('cross', 'dipole_x_11-6-4', 'total_dipole_11-6-4', 'total_dipole_10-11-12'): Singular matrix\n",
      "Error evaluating combo ('cross', 'dipole_x_11-6-4', 'total_dipole_11-6-4', 'total_dipole_11-12-5'): Singular matrix\n",
      "Error evaluating combo ('cross', 'dipole_x_11-6-4', 'total_dipole_11-6-4', 'total_dipole_4-5-1'): Singular matrix\n",
      "Error evaluating combo ('cross', 'dipole_x_11-6-4', 'total_dipole_11-6-4', 'total_dipole_4-3-2'): Singular matrix\n",
      "Error evaluating combo ('cross', 'dipole_x_11-6-4', 'total_dipole_11-6-4', 'total_dipole_1-2-3'): Singular matrix\n"
     ]
    },
    {
     "name": "stderr",
     "output_type": "stream",
     "text": [
      "Threshold 0.7 (single-core):   1%|          | 13935/1423590 [01:30<2:03:40, 189.97it/s]"
     ]
    },
    {
     "name": "stdout",
     "output_type": "stream",
     "text": [
      "Error evaluating combo ('cross', 'dipole_x_11-6-4', 'total_dipole_10-11-12', 'total_dipole_11-12-5'): Singular matrix\n",
      "Error evaluating combo ('cross', 'dipole_x_11-6-4', 'total_dipole_10-11-12', 'total_dipole_4-5-1'): Singular matrix\n",
      "Error evaluating combo ('cross', 'dipole_x_11-6-4', 'total_dipole_10-11-12', 'total_dipole_4-3-2'): Singular matrix\n",
      "Error evaluating combo ('cross', 'dipole_x_11-6-4', 'total_dipole_10-11-12', 'total_dipole_1-2-3'): Singular matrix\n"
     ]
    },
    {
     "name": "stderr",
     "output_type": "stream",
     "text": [
      "Threshold 0.7 (single-core):   1%|          | 14205/1423590 [01:31<1:58:56, 197.48it/s]"
     ]
    },
    {
     "name": "stdout",
     "output_type": "stream",
     "text": [
      "Error evaluating combo ('cross', 'dipole_x_11-6-4', 'total_dipole_11-12-5', 'total_dipole_4-5-1'): Singular matrix\n",
      "Error evaluating combo ('cross', 'dipole_x_11-6-4', 'total_dipole_11-12-5', 'total_dipole_4-3-2'): Singular matrix\n",
      "Error evaluating combo ('cross', 'dipole_x_11-6-4', 'total_dipole_11-12-5', 'total_dipole_1-2-3'): Singular matrix\n"
     ]
    },
    {
     "name": "stderr",
     "output_type": "stream",
     "text": [
      "Threshold 0.7 (single-core):   1%|          | 14423/1423590 [01:33<2:01:42, 192.97it/s]"
     ]
    },
    {
     "name": "stdout",
     "output_type": "stream",
     "text": [
      "Error evaluating combo ('cross', 'dipole_x_11-6-4', 'total_dipole_4-5-1', 'total_dipole_4-3-2'): Singular matrix\n",
      "Error evaluating combo ('cross', 'dipole_x_11-6-4', 'total_dipole_4-5-1', 'total_dipole_1-2-3'): Singular matrix\n"
     ]
    },
    {
     "name": "stderr",
     "output_type": "stream",
     "text": [
      "Threshold 0.7 (single-core):   1%|          | 14651/1423590 [01:34<2:04:08, 189.17it/s]"
     ]
    },
    {
     "name": "stdout",
     "output_type": "stream",
     "text": [
      "Error evaluating combo ('cross', 'dipole_x_11-6-4', 'total_dipole_4-3-2', 'total_dipole_1-2-3'): Singular matrix\n"
     ]
    },
    {
     "name": "stderr",
     "output_type": "stream",
     "text": [
      "Threshold 0.7 (single-core):   1%|          | 16081/1423590 [01:43<2:29:10, 157.26it/s]"
     ]
    },
    {
     "name": "stdout",
     "output_type": "stream",
     "text": [
      "Error evaluating combo ('cross', 'dipole_y_11-6-4', 'total_dipole_11-6-4', 'total_dipole_10-11-12'): Singular matrix\n",
      "Error evaluating combo ('cross', 'dipole_y_11-6-4', 'total_dipole_11-6-4', 'total_dipole_11-12-5'): Singular matrix\n",
      "Error evaluating combo ('cross', 'dipole_y_11-6-4', 'total_dipole_11-6-4', 'total_dipole_4-5-1'): Singular matrix\n",
      "Error evaluating combo ('cross', 'dipole_y_11-6-4', 'total_dipole_11-6-4', 'total_dipole_4-3-2'): Singular matrix\n",
      "Error evaluating combo ('cross', 'dipole_y_11-6-4', 'total_dipole_11-6-4', 'total_dipole_1-2-3'): Singular matrix\n"
     ]
    },
    {
     "name": "stderr",
     "output_type": "stream",
     "text": [
      "Threshold 0.7 (single-core):   1%|          | 16340/1423590 [01:45<4:11:39, 93.20it/s] "
     ]
    },
    {
     "name": "stdout",
     "output_type": "stream",
     "text": [
      "Error evaluating combo ('cross', 'dipole_y_11-6-4', 'total_dipole_10-11-12', 'total_dipole_11-12-5'): Singular matrix\n",
      "Error evaluating combo ('cross', 'dipole_y_11-6-4', 'total_dipole_10-11-12', 'total_dipole_4-5-1'): Singular matrix\n",
      "Error evaluating combo ('cross', 'dipole_y_11-6-4', 'total_dipole_10-11-12', 'total_dipole_4-3-2'): Singular matrix\n",
      "Error evaluating combo ('cross', 'dipole_y_11-6-4', 'total_dipole_10-11-12', 'total_dipole_1-2-3'): Singular matrix\n"
     ]
    },
    {
     "name": "stderr",
     "output_type": "stream",
     "text": [
      "Threshold 0.7 (single-core):   1%|          | 16594/1423590 [01:47<3:41:01, 106.09it/s]"
     ]
    },
    {
     "name": "stdout",
     "output_type": "stream",
     "text": [
      "Error evaluating combo ('cross', 'dipole_y_11-6-4', 'total_dipole_11-12-5', 'total_dipole_4-5-1'): Singular matrix\n",
      "Error evaluating combo ('cross', 'dipole_y_11-6-4', 'total_dipole_11-12-5', 'total_dipole_4-3-2'): Singular matrix\n",
      "Error evaluating combo ('cross', 'dipole_y_11-6-4', 'total_dipole_11-12-5', 'total_dipole_1-2-3'): Singular matrix\n"
     ]
    },
    {
     "name": "stderr",
     "output_type": "stream",
     "text": [
      "Threshold 0.7 (single-core):   1%|          | 16823/1423590 [01:50<3:18:29, 118.12it/s]"
     ]
    },
    {
     "name": "stdout",
     "output_type": "stream",
     "text": [
      "Error evaluating combo ('cross', 'dipole_y_11-6-4', 'total_dipole_4-5-1', 'total_dipole_4-3-2'): Singular matrix\n",
      "Error evaluating combo ('cross', 'dipole_y_11-6-4', 'total_dipole_4-5-1', 'total_dipole_1-2-3'): Singular matrix\n"
     ]
    },
    {
     "name": "stderr",
     "output_type": "stream",
     "text": [
      "Threshold 0.7 (single-core):   1%|          | 17040/1423590 [01:51<3:23:13, 115.35it/s]"
     ]
    },
    {
     "name": "stdout",
     "output_type": "stream",
     "text": [
      "Error evaluating combo ('cross', 'dipole_y_11-6-4', 'total_dipole_4-3-2', 'total_dipole_1-2-3'): Singular matrix\n"
     ]
    },
    {
     "name": "stderr",
     "output_type": "stream",
     "text": [
      "Threshold 0.7 (single-core):   1%|▏         | 18431/1423590 [02:03<3:23:06, 115.31it/s]"
     ]
    },
    {
     "name": "stdout",
     "output_type": "stream",
     "text": [
      "Error evaluating combo ('cross', 'dipole_z_11-6-4', 'total_dipole_11-6-4', 'total_dipole_10-11-12'): Singular matrix\n",
      "Error evaluating combo ('cross', 'dipole_z_11-6-4', 'total_dipole_11-6-4', 'total_dipole_11-12-5'): Singular matrix\n",
      "Error evaluating combo ('cross', 'dipole_z_11-6-4', 'total_dipole_11-6-4', 'total_dipole_4-5-1'): Singular matrix\n",
      "Error evaluating combo ('cross', 'dipole_z_11-6-4', 'total_dipole_11-6-4', 'total_dipole_4-3-2'): Singular matrix\n",
      "Error evaluating combo ('cross', 'dipole_z_11-6-4', 'total_dipole_11-6-4', 'total_dipole_1-2-3'): Singular matrix\n"
     ]
    },
    {
     "name": "stderr",
     "output_type": "stream",
     "text": [
      "Threshold 0.7 (single-core):   1%|▏         | 18693/1423590 [02:06<3:36:45, 108.02it/s]"
     ]
    },
    {
     "name": "stdout",
     "output_type": "stream",
     "text": [
      "Error evaluating combo ('cross', 'dipole_z_11-6-4', 'total_dipole_10-11-12', 'total_dipole_11-12-5'): Singular matrix\n",
      "Error evaluating combo ('cross', 'dipole_z_11-6-4', 'total_dipole_10-11-12', 'total_dipole_4-5-1'): Singular matrix\n",
      "Error evaluating combo ('cross', 'dipole_z_11-6-4', 'total_dipole_10-11-12', 'total_dipole_4-3-2'): Singular matrix\n",
      "Error evaluating combo ('cross', 'dipole_z_11-6-4', 'total_dipole_10-11-12', 'total_dipole_1-2-3'): Singular matrix\n"
     ]
    },
    {
     "name": "stderr",
     "output_type": "stream",
     "text": [
      "Threshold 0.7 (single-core):   1%|▏         | 18936/1423590 [02:08<3:42:19, 105.30it/s]"
     ]
    },
    {
     "name": "stdout",
     "output_type": "stream",
     "text": [
      "Error evaluating combo ('cross', 'dipole_z_11-6-4', 'total_dipole_11-12-5', 'total_dipole_4-5-1'): Singular matrix\n",
      "Error evaluating combo ('cross', 'dipole_z_11-6-4', 'total_dipole_11-12-5', 'total_dipole_4-3-2'): Singular matrix\n",
      "Error evaluating combo ('cross', 'dipole_z_11-6-4', 'total_dipole_11-12-5', 'total_dipole_1-2-3'): Singular matrix\n"
     ]
    },
    {
     "name": "stderr",
     "output_type": "stream",
     "text": [
      "Threshold 0.7 (single-core):   1%|▏         | 19174/1423590 [02:10<2:57:26, 131.92it/s]"
     ]
    },
    {
     "name": "stdout",
     "output_type": "stream",
     "text": [
      "Error evaluating combo ('cross', 'dipole_z_11-6-4', 'total_dipole_4-5-1', 'total_dipole_4-3-2'): Singular matrix\n",
      "Error evaluating combo ('cross', 'dipole_z_11-6-4', 'total_dipole_4-5-1', 'total_dipole_1-2-3'): Singular matrix\n"
     ]
    },
    {
     "name": "stderr",
     "output_type": "stream",
     "text": [
      "Threshold 0.7 (single-core):   1%|▏         | 19391/1423590 [02:12<3:34:17, 109.22it/s]"
     ]
    },
    {
     "name": "stdout",
     "output_type": "stream",
     "text": [
      "Error evaluating combo ('cross', 'dipole_z_11-6-4', 'total_dipole_4-3-2', 'total_dipole_1-2-3'): Singular matrix\n"
     ]
    },
    {
     "name": "stderr",
     "output_type": "stream",
     "text": [
      "Threshold 0.7 (single-core):   1%|▏         | 20775/1423590 [02:23<2:20:36, 166.29it/s]"
     ]
    },
    {
     "name": "stdout",
     "output_type": "stream",
     "text": [
      "Error evaluating combo ('cross', 'total_dipole_11-6-4', 'dipole_x_10-11-12', 'total_dipole_10-11-12'): Singular matrix\n",
      "Error evaluating combo ('cross', 'total_dipole_11-6-4', 'dipole_x_10-11-12', 'total_dipole_11-12-5'): Singular matrix\n",
      "Error evaluating combo ('cross', 'total_dipole_11-6-4', 'dipole_x_10-11-12', 'total_dipole_4-5-1'): Singular matrix\n",
      "Error evaluating combo ('cross', 'total_dipole_11-6-4', 'dipole_x_10-11-12', 'total_dipole_4-3-2'): Singular matrix\n",
      "Error evaluating combo ('cross', 'total_dipole_11-6-4', 'dipole_x_10-11-12', 'total_dipole_1-2-3'): Singular matrix\n"
     ]
    },
    {
     "name": "stderr",
     "output_type": "stream",
     "text": [
      "Threshold 0.7 (single-core):   1%|▏         | 20823/1423590 [02:23<2:51:47, 136.09it/s]"
     ]
    },
    {
     "name": "stdout",
     "output_type": "stream",
     "text": [
      "Error evaluating combo ('cross', 'total_dipole_11-6-4', 'dipole_y_10-11-12', 'total_dipole_10-11-12'): Singular matrix\n",
      "Error evaluating combo ('cross', 'total_dipole_11-6-4', 'dipole_y_10-11-12', 'total_dipole_11-12-5'): Singular matrix\n",
      "Error evaluating combo ('cross', 'total_dipole_11-6-4', 'dipole_y_10-11-12', 'total_dipole_4-5-1'): Singular matrix\n",
      "Error evaluating combo ('cross', 'total_dipole_11-6-4', 'dipole_y_10-11-12', 'total_dipole_4-3-2'): Singular matrix\n",
      "Error evaluating combo ('cross', 'total_dipole_11-6-4', 'dipole_y_10-11-12', 'total_dipole_1-2-3'): Singular matrix\n"
     ]
    },
    {
     "name": "stderr",
     "output_type": "stream",
     "text": [
      "Threshold 0.7 (single-core):   1%|▏         | 20892/1423590 [02:24<3:28:04, 112.35it/s]"
     ]
    },
    {
     "name": "stdout",
     "output_type": "stream",
     "text": [
      "Error evaluating combo ('cross', 'total_dipole_11-6-4', 'dipole_z_10-11-12', 'total_dipole_10-11-12'): Singular matrix\n",
      "Error evaluating combo ('cross', 'total_dipole_11-6-4', 'dipole_z_10-11-12', 'total_dipole_11-12-5'): Singular matrix\n",
      "Error evaluating combo ('cross', 'total_dipole_11-6-4', 'dipole_z_10-11-12', 'total_dipole_4-5-1'): Singular matrix\n",
      "Error evaluating combo ('cross', 'total_dipole_11-6-4', 'dipole_z_10-11-12', 'total_dipole_4-3-2'): Singular matrix\n",
      "Error evaluating combo ('cross', 'total_dipole_11-6-4', 'dipole_z_10-11-12', 'total_dipole_1-2-3'): Singular matrix\n"
     ]
    },
    {
     "name": "stderr",
     "output_type": "stream",
     "text": [
      "Threshold 0.7 (single-core):   1%|▏         | 21025/1423590 [02:25<1:34:32, 247.28it/s]"
     ]
    },
    {
     "name": "stdout",
     "output_type": "stream",
     "text": [
      "Error evaluating combo ('cross', 'total_dipole_11-6-4', 'total_dipole_10-11-12', 'dipole_x_11-12-5'): Singular matrix\n",
      "Error evaluating combo ('cross', 'total_dipole_11-6-4', 'total_dipole_10-11-12', 'dipole_y_11-12-5'): Singular matrix\n",
      "Error evaluating combo ('cross', 'total_dipole_11-6-4', 'total_dipole_10-11-12', 'dipole_z_11-12-5'): Singular matrix\n",
      "Error evaluating combo ('cross', 'total_dipole_11-6-4', 'total_dipole_10-11-12', 'total_dipole_11-12-5'): Singular matrix\n",
      "Error evaluating combo ('cross', 'total_dipole_11-6-4', 'total_dipole_10-11-12', 'dipole_x_4-5-1'): Singular matrix\n",
      "Error evaluating combo ('cross', 'total_dipole_11-6-4', 'total_dipole_10-11-12', 'dipole_y_4-5-1'): Singular matrix\n",
      "Error evaluating combo ('cross', 'total_dipole_11-6-4', 'total_dipole_10-11-12', 'dipole_z_4-5-1'): Singular matrix\n",
      "Error evaluating combo ('cross', 'total_dipole_11-6-4', 'total_dipole_10-11-12', 'total_dipole_4-5-1'): Singular matrix\n",
      "Error evaluating combo ('cross', 'total_dipole_11-6-4', 'total_dipole_10-11-12', 'dipole_x_4-3-2'): Singular matrix\n",
      "Error evaluating combo ('cross', 'total_dipole_11-6-4', 'total_dipole_10-11-12', 'dipole_y_4-3-2'): Singular matrix\n",
      "Error evaluating combo ('cross', 'total_dipole_11-6-4', 'total_dipole_10-11-12', 'dipole_z_4-3-2'): Singular matrix\n",
      "Error evaluating combo ('cross', 'total_dipole_11-6-4', 'total_dipole_10-11-12', 'total_dipole_4-3-2'): Singular matrix\n",
      "Error evaluating combo ('cross', 'total_dipole_11-6-4', 'total_dipole_10-11-12', 'dipole_x_1-2-3'): Singular matrix\n",
      "Error evaluating combo ('cross', 'total_dipole_11-6-4', 'total_dipole_10-11-12', 'dipole_y_1-2-3'): Singular matrix\n",
      "Error evaluating combo ('cross', 'total_dipole_11-6-4', 'total_dipole_10-11-12', 'dipole_z_1-2-3'): Singular matrix\n",
      "Error evaluating combo ('cross', 'total_dipole_11-6-4', 'total_dipole_10-11-12', 'total_dipole_1-2-3'): Singular matrix\n",
      "Error evaluating combo ('cross', 'total_dipole_11-6-4', 'total_dipole_10-11-12', 'nbo_atom_3'): Singular matrix\n",
      "Error evaluating combo ('cross', 'total_dipole_11-6-4', 'total_dipole_10-11-12', 'nbo_atom_5'): Singular matrix\n",
      "Error evaluating combo ('cross', 'total_dipole_11-6-4', 'total_dipole_10-11-12', 'nbo_atom_11'): Singular matrix\n",
      "Error evaluating combo ('cross', 'total_dipole_11-6-4', 'total_dipole_10-11-12', 'nbo_atom_12'): Singular matrix\n",
      "Error evaluating combo ('cross', 'total_dipole_11-6-4', 'total_dipole_10-11-12', 'nbo_atom_4'): Singular matrix\n",
      "Error evaluating combo ('cross', 'total_dipole_11-6-4', 'total_dipole_10-11-12', 'nbo_atom_6'): Singular matrix\n",
      "Error evaluating combo ('cross', 'total_dipole_11-6-4', 'total_dipole_10-11-12', 'nbo_atom_20'): Singular matrix\n",
      "Error evaluating combo ('cross', 'total_dipole_11-6-4', 'total_dipole_10-11-12', 'nbo_atom_21'): Singular matrix\n",
      "Error evaluating combo ('cross', 'total_dipole_11-6-4', 'total_dipole_10-11-12', 'nbo_atom_22'): Singular matrix\n",
      "Error evaluating combo ('cross', 'total_dipole_11-6-4', 'total_dipole_10-11-12', 'nbo_atom_7'): Singular matrix\n",
      "Error evaluating combo ('cross', 'total_dipole_11-6-4', 'total_dipole_10-11-12', 'hirshfeld_atom_3'): Singular matrix\n",
      "Error evaluating combo ('cross', 'total_dipole_11-6-4', 'total_dipole_10-11-12', 'hirshfeld_atom_5'): Singular matrix\n",
      "Error evaluating combo ('cross', 'total_dipole_11-6-4', 'total_dipole_10-11-12', 'hirshfeld_atom_11'): Singular matrix\n",
      "Error evaluating combo ('cross', 'total_dipole_11-6-4', 'total_dipole_10-11-12', 'hirshfeld_atom_12'): Singular matrix\n",
      "Error evaluating combo ('cross', 'total_dipole_11-6-4', 'total_dipole_10-11-12', 'hirshfeld_atom_4'): Singular matrix\n",
      "Error evaluating combo ('cross', 'total_dipole_11-6-4', 'total_dipole_10-11-12', 'hirshfeld_atom_6'): Singular matrix\n",
      "Error evaluating combo ('cross', 'total_dipole_11-6-4', 'total_dipole_10-11-12', 'hirshfeld_atom_20'): Singular matrix\n",
      "Error evaluating combo ('cross', 'total_dipole_11-6-4', 'total_dipole_10-11-12', 'hirshfeld_atom_21'): Singular matrix\n",
      "Error evaluating combo ('cross', 'total_dipole_11-6-4', 'total_dipole_10-11-12', 'hirshfeld_atom_22'): Singular matrix\n",
      "Error evaluating combo ('cross', 'total_dipole_11-6-4', 'total_dipole_10-11-12', 'hirshfeld_atom_7'): Singular matrix\n",
      "Error evaluating combo ('cross', 'total_dipole_11-6-4', 'total_dipole_10-11-12', 'nbo_diff_3-5'): Singular matrix\n",
      "Error evaluating combo ('cross', 'total_dipole_11-6-4', 'total_dipole_10-11-12', 'nbo_diff_5-12'): Singular matrix\n",
      "Error evaluating combo ('cross', 'total_dipole_11-6-4', 'total_dipole_10-11-12', 'nbo_diff_3-11'): Singular matrix\n",
      "Error evaluating combo ('cross', 'total_dipole_11-6-4', 'total_dipole_10-11-12', 'hirshfeld_diff_3-5'): Singular matrix\n",
      "Error evaluating combo ('cross', 'total_dipole_11-6-4', 'total_dipole_10-11-12', 'hirshfeld_diff_5-12'): Singular matrix\n",
      "Error evaluating combo ('cross', 'total_dipole_11-6-4', 'total_dipole_10-11-12', 'hirshfeld_diff_3-11'): Singular matrix\n",
      "Error evaluating combo ('cross', 'total_dipole_11-6-4', 'total_dipole_10-11-12', 'B1_4-6'): Singular matrix\n",
      "Error evaluating combo ('cross', 'total_dipole_11-6-4', 'total_dipole_10-11-12', 'B5_4-6'): Singular matrix\n",
      "Error evaluating combo ('cross', 'total_dipole_11-6-4', 'total_dipole_10-11-12', 'L_4-6'): Singular matrix\n",
      "Error evaluating combo ('cross', 'total_dipole_11-6-4', 'total_dipole_10-11-12', 'loc_B5_4-6'): Singular matrix\n",
      "Error evaluating combo ('cross', 'total_dipole_11-6-4', 'total_dipole_10-11-12', 'B1_B5_angle_4-6'): Singular matrix\n",
      "Error evaluating combo ('cross', 'total_dipole_11-6-4', 'total_dipole_10-11-12', 'B1_6-4'): Singular matrix\n",
      "Error evaluating combo ('cross', 'total_dipole_11-6-4', 'total_dipole_10-11-12', 'B5_6-4'): Singular matrix\n",
      "Error evaluating combo ('cross', 'total_dipole_11-6-4', 'total_dipole_10-11-12', 'L_6-4'): Singular matrix\n",
      "Error evaluating combo ('cross', 'total_dipole_11-6-4', 'total_dipole_10-11-12', 'loc_B5_6-4'): Singular matrix\n",
      "Error evaluating combo ('cross', 'total_dipole_11-6-4', 'total_dipole_10-11-12', 'B1_B5_angle_6-4'): Singular matrix\n",
      "Error evaluating combo ('cross', 'total_dipole_11-6-4', 'total_dipole_10-11-12', 'angle_[11, 6, 4]'): Singular matrix\n",
      "Error evaluating combo ('cross', 'total_dipole_11-6-4', 'total_dipole_10-11-12', 'angle_[6, 4, 5]'): Singular matrix\n",
      "Error evaluating combo ('cross', 'total_dipole_11-6-4', 'total_dipole_10-11-12', 'angle_[1, 5, 4]'): Singular matrix\n",
      "Error evaluating combo ('cross', 'total_dipole_11-6-4', 'total_dipole_10-11-12', 'bond_length_11-6'): Singular matrix\n",
      "Error evaluating combo ('cross', 'total_dipole_11-6-4', 'total_dipole_10-11-12', 'bond_length_6-4'): Singular matrix\n",
      "Error evaluating combo ('cross', 'total_dipole_11-6-4', 'total_dipole_10-11-12', 'bond_length_1-5'): Singular matrix\n",
      "Error evaluating combo ('cross', 'total_dipole_11-6-4', 'total_dipole_10-11-12', 'bond_length_22-23'): Singular matrix\n",
      "Error evaluating combo ('cross', 'total_dipole_11-6-4', 'total_dipole_10-11-12', 'aniso'): Singular matrix\n",
      "Error evaluating combo ('cross', 'total_dipole_11-6-4', 'total_dipole_10-11-12', 'iso'): Singular matrix\n",
      "Error evaluating combo ('cross', 'total_dipole_11-6-4', 'total_dipole_10-11-12', 'energy'): Singular matrix\n",
      "Error evaluating combo ('cross', 'total_dipole_11-6-4', 'total_dipole_10-11-12', 'Frequency_Stretch_12_21'): Singular matrix\n",
      "Error evaluating combo ('cross', 'total_dipole_11-6-4', 'total_dipole_10-11-12', 'Amplitude_Stretch_12_21'): Singular matrix\n",
      "Error evaluating combo ('cross', 'total_dipole_11-6-4', 'dipole_x_11-12-5', 'total_dipole_11-12-5'): Singular matrix\n",
      "Error evaluating combo ('cross', 'total_dipole_11-6-4', 'dipole_x_11-12-5', 'total_dipole_4-5-1'): Singular matrix\n",
      "Error evaluating combo ('cross', 'total_dipole_11-6-4', 'dipole_x_11-12-5', 'total_dipole_4-3-2'): Singular matrix\n",
      "Error evaluating combo ('cross', 'total_dipole_11-6-4', 'dipole_x_11-12-5', 'total_dipole_1-2-3'): Singular matrix\n"
     ]
    },
    {
     "name": "stderr",
     "output_type": "stream",
     "text": [
      "Threshold 0.7 (single-core):   1%|▏         | 21089/1423590 [02:25<2:54:24, 134.02it/s]"
     ]
    },
    {
     "name": "stdout",
     "output_type": "stream",
     "text": [
      "Error evaluating combo ('cross', 'total_dipole_11-6-4', 'dipole_y_11-12-5', 'total_dipole_11-12-5'): Singular matrix\n",
      "Error evaluating combo ('cross', 'total_dipole_11-6-4', 'dipole_y_11-12-5', 'total_dipole_4-5-1'): Singular matrix\n",
      "Error evaluating combo ('cross', 'total_dipole_11-6-4', 'dipole_y_11-12-5', 'total_dipole_4-3-2'): Singular matrix\n",
      "Error evaluating combo ('cross', 'total_dipole_11-6-4', 'dipole_y_11-12-5', 'total_dipole_1-2-3'): Singular matrix\n"
     ]
    },
    {
     "name": "stderr",
     "output_type": "stream",
     "text": [
      "Threshold 0.7 (single-core):   1%|▏         | 21153/1423590 [02:26<2:51:49, 136.04it/s]"
     ]
    },
    {
     "name": "stdout",
     "output_type": "stream",
     "text": [
      "Error evaluating combo ('cross', 'total_dipole_11-6-4', 'dipole_z_11-12-5', 'total_dipole_11-12-5'): Singular matrix\n",
      "Error evaluating combo ('cross', 'total_dipole_11-6-4', 'dipole_z_11-12-5', 'total_dipole_4-5-1'): Singular matrix\n",
      "Error evaluating combo ('cross', 'total_dipole_11-6-4', 'dipole_z_11-12-5', 'total_dipole_4-3-2'): Singular matrix\n",
      "Error evaluating combo ('cross', 'total_dipole_11-6-4', 'dipole_z_11-12-5', 'total_dipole_1-2-3'): Singular matrix\n"
     ]
    },
    {
     "name": "stderr",
     "output_type": "stream",
     "text": [
      "Threshold 0.7 (single-core):   1%|▏         | 21263/1423590 [02:26<1:34:24, 247.56it/s]"
     ]
    },
    {
     "name": "stdout",
     "output_type": "stream",
     "text": [
      "Error evaluating combo ('cross', 'total_dipole_11-6-4', 'total_dipole_11-12-5', 'dipole_x_4-5-1'): Singular matrix\n",
      "Error evaluating combo ('cross', 'total_dipole_11-6-4', 'total_dipole_11-12-5', 'dipole_y_4-5-1'): Singular matrix\n",
      "Error evaluating combo ('cross', 'total_dipole_11-6-4', 'total_dipole_11-12-5', 'dipole_z_4-5-1'): Singular matrix\n",
      "Error evaluating combo ('cross', 'total_dipole_11-6-4', 'total_dipole_11-12-5', 'total_dipole_4-5-1'): Singular matrix\n",
      "Error evaluating combo ('cross', 'total_dipole_11-6-4', 'total_dipole_11-12-5', 'dipole_x_4-3-2'): Singular matrix\n",
      "Error evaluating combo ('cross', 'total_dipole_11-6-4', 'total_dipole_11-12-5', 'dipole_y_4-3-2'): Singular matrix\n",
      "Error evaluating combo ('cross', 'total_dipole_11-6-4', 'total_dipole_11-12-5', 'dipole_z_4-3-2'): Singular matrix\n",
      "Error evaluating combo ('cross', 'total_dipole_11-6-4', 'total_dipole_11-12-5', 'total_dipole_4-3-2'): Singular matrix\n",
      "Error evaluating combo ('cross', 'total_dipole_11-6-4', 'total_dipole_11-12-5', 'dipole_x_1-2-3'): Singular matrix\n",
      "Error evaluating combo ('cross', 'total_dipole_11-6-4', 'total_dipole_11-12-5', 'dipole_y_1-2-3'): Singular matrix\n",
      "Error evaluating combo ('cross', 'total_dipole_11-6-4', 'total_dipole_11-12-5', 'dipole_z_1-2-3'): Singular matrix\n",
      "Error evaluating combo ('cross', 'total_dipole_11-6-4', 'total_dipole_11-12-5', 'total_dipole_1-2-3'): Singular matrix\n",
      "Error evaluating combo ('cross', 'total_dipole_11-6-4', 'total_dipole_11-12-5', 'nbo_atom_3'): Singular matrix\n",
      "Error evaluating combo ('cross', 'total_dipole_11-6-4', 'total_dipole_11-12-5', 'nbo_atom_5'): Singular matrix\n",
      "Error evaluating combo ('cross', 'total_dipole_11-6-4', 'total_dipole_11-12-5', 'nbo_atom_11'): Singular matrix\n",
      "Error evaluating combo ('cross', 'total_dipole_11-6-4', 'total_dipole_11-12-5', 'nbo_atom_12'): Singular matrix\n",
      "Error evaluating combo ('cross', 'total_dipole_11-6-4', 'total_dipole_11-12-5', 'nbo_atom_4'): Singular matrix\n",
      "Error evaluating combo ('cross', 'total_dipole_11-6-4', 'total_dipole_11-12-5', 'nbo_atom_6'): Singular matrix\n",
      "Error evaluating combo ('cross', 'total_dipole_11-6-4', 'total_dipole_11-12-5', 'nbo_atom_20'): Singular matrix\n",
      "Error evaluating combo ('cross', 'total_dipole_11-6-4', 'total_dipole_11-12-5', 'nbo_atom_21'): Singular matrix\n",
      "Error evaluating combo ('cross', 'total_dipole_11-6-4', 'total_dipole_11-12-5', 'nbo_atom_22'): Singular matrix\n",
      "Error evaluating combo ('cross', 'total_dipole_11-6-4', 'total_dipole_11-12-5', 'nbo_atom_7'): Singular matrix\n",
      "Error evaluating combo ('cross', 'total_dipole_11-6-4', 'total_dipole_11-12-5', 'hirshfeld_atom_3'): Singular matrix\n",
      "Error evaluating combo ('cross', 'total_dipole_11-6-4', 'total_dipole_11-12-5', 'hirshfeld_atom_5'): Singular matrix\n",
      "Error evaluating combo ('cross', 'total_dipole_11-6-4', 'total_dipole_11-12-5', 'hirshfeld_atom_11'): Singular matrix\n",
      "Error evaluating combo ('cross', 'total_dipole_11-6-4', 'total_dipole_11-12-5', 'hirshfeld_atom_12'): Singular matrix\n",
      "Error evaluating combo ('cross', 'total_dipole_11-6-4', 'total_dipole_11-12-5', 'hirshfeld_atom_4'): Singular matrix\n",
      "Error evaluating combo ('cross', 'total_dipole_11-6-4', 'total_dipole_11-12-5', 'hirshfeld_atom_6'): Singular matrix\n",
      "Error evaluating combo ('cross', 'total_dipole_11-6-4', 'total_dipole_11-12-5', 'hirshfeld_atom_20'): Singular matrix\n",
      "Error evaluating combo ('cross', 'total_dipole_11-6-4', 'total_dipole_11-12-5', 'hirshfeld_atom_21'): Singular matrix\n",
      "Error evaluating combo ('cross', 'total_dipole_11-6-4', 'total_dipole_11-12-5', 'hirshfeld_atom_22'): Singular matrix\n",
      "Error evaluating combo ('cross', 'total_dipole_11-6-4', 'total_dipole_11-12-5', 'hirshfeld_atom_7'): Singular matrix\n",
      "Error evaluating combo ('cross', 'total_dipole_11-6-4', 'total_dipole_11-12-5', 'nbo_diff_3-5'): Singular matrix\n",
      "Error evaluating combo ('cross', 'total_dipole_11-6-4', 'total_dipole_11-12-5', 'nbo_diff_5-12'): Singular matrix\n",
      "Error evaluating combo ('cross', 'total_dipole_11-6-4', 'total_dipole_11-12-5', 'nbo_diff_3-11'): Singular matrix\n",
      "Error evaluating combo ('cross', 'total_dipole_11-6-4', 'total_dipole_11-12-5', 'hirshfeld_diff_3-5'): Singular matrix\n",
      "Error evaluating combo ('cross', 'total_dipole_11-6-4', 'total_dipole_11-12-5', 'hirshfeld_diff_5-12'): Singular matrix\n",
      "Error evaluating combo ('cross', 'total_dipole_11-6-4', 'total_dipole_11-12-5', 'hirshfeld_diff_3-11'): Singular matrix\n",
      "Error evaluating combo ('cross', 'total_dipole_11-6-4', 'total_dipole_11-12-5', 'B1_4-6'): Singular matrix\n",
      "Error evaluating combo ('cross', 'total_dipole_11-6-4', 'total_dipole_11-12-5', 'B5_4-6'): Singular matrix\n",
      "Error evaluating combo ('cross', 'total_dipole_11-6-4', 'total_dipole_11-12-5', 'L_4-6'): Singular matrix\n",
      "Error evaluating combo ('cross', 'total_dipole_11-6-4', 'total_dipole_11-12-5', 'loc_B5_4-6'): Singular matrix\n",
      "Error evaluating combo ('cross', 'total_dipole_11-6-4', 'total_dipole_11-12-5', 'B1_B5_angle_4-6'): Singular matrix\n",
      "Error evaluating combo ('cross', 'total_dipole_11-6-4', 'total_dipole_11-12-5', 'B1_6-4'): Singular matrix\n",
      "Error evaluating combo ('cross', 'total_dipole_11-6-4', 'total_dipole_11-12-5', 'B5_6-4'): Singular matrix\n",
      "Error evaluating combo ('cross', 'total_dipole_11-6-4', 'total_dipole_11-12-5', 'L_6-4'): Singular matrix\n",
      "Error evaluating combo ('cross', 'total_dipole_11-6-4', 'total_dipole_11-12-5', 'loc_B5_6-4'): Singular matrix\n",
      "Error evaluating combo ('cross', 'total_dipole_11-6-4', 'total_dipole_11-12-5', 'B1_B5_angle_6-4'): Singular matrix\n",
      "Error evaluating combo ('cross', 'total_dipole_11-6-4', 'total_dipole_11-12-5', 'angle_[11, 6, 4]'): Singular matrix\n",
      "Error evaluating combo ('cross', 'total_dipole_11-6-4', 'total_dipole_11-12-5', 'angle_[6, 4, 5]'): Singular matrix\n",
      "Error evaluating combo ('cross', 'total_dipole_11-6-4', 'total_dipole_11-12-5', 'angle_[1, 5, 4]'): Singular matrix\n",
      "Error evaluating combo ('cross', 'total_dipole_11-6-4', 'total_dipole_11-12-5', 'bond_length_11-6'): Singular matrix\n",
      "Error evaluating combo ('cross', 'total_dipole_11-6-4', 'total_dipole_11-12-5', 'bond_length_6-4'): Singular matrix\n",
      "Error evaluating combo ('cross', 'total_dipole_11-6-4', 'total_dipole_11-12-5', 'bond_length_1-5'): Singular matrix\n",
      "Error evaluating combo ('cross', 'total_dipole_11-6-4', 'total_dipole_11-12-5', 'bond_length_22-23'): Singular matrix\n",
      "Error evaluating combo ('cross', 'total_dipole_11-6-4', 'total_dipole_11-12-5', 'aniso'): Singular matrix\n",
      "Error evaluating combo ('cross', 'total_dipole_11-6-4', 'total_dipole_11-12-5', 'iso'): Singular matrix\n",
      "Error evaluating combo ('cross', 'total_dipole_11-6-4', 'total_dipole_11-12-5', 'energy'): Singular matrix\n",
      "Error evaluating combo ('cross', 'total_dipole_11-6-4', 'total_dipole_11-12-5', 'Frequency_Stretch_12_21'): Singular matrix\n",
      "Error evaluating combo ('cross', 'total_dipole_11-6-4', 'total_dipole_11-12-5', 'Amplitude_Stretch_12_21'): Singular matrix\n",
      "Error evaluating combo ('cross', 'total_dipole_11-6-4', 'dipole_x_4-5-1', 'total_dipole_4-5-1'): Singular matrix\n",
      "Error evaluating combo ('cross', 'total_dipole_11-6-4', 'dipole_x_4-5-1', 'total_dipole_4-3-2'): Singular matrix\n",
      "Error evaluating combo ('cross', 'total_dipole_11-6-4', 'dipole_x_4-5-1', 'total_dipole_1-2-3'): Singular matrix\n"
     ]
    },
    {
     "name": "stderr",
     "output_type": "stream",
     "text": [
      "Threshold 0.7 (single-core):   1%|▏         | 21331/1423590 [02:27<2:30:39, 155.13it/s]"
     ]
    },
    {
     "name": "stdout",
     "output_type": "stream",
     "text": [
      "Error evaluating combo ('cross', 'total_dipole_11-6-4', 'dipole_y_4-5-1', 'total_dipole_4-5-1'): Singular matrix\n",
      "Error evaluating combo ('cross', 'total_dipole_11-6-4', 'dipole_y_4-5-1', 'total_dipole_4-3-2'): Singular matrix\n",
      "Error evaluating combo ('cross', 'total_dipole_11-6-4', 'dipole_y_4-5-1', 'total_dipole_1-2-3'): Singular matrix\n"
     ]
    },
    {
     "name": "stderr",
     "output_type": "stream",
     "text": [
      "Threshold 0.7 (single-core):   2%|▏         | 21397/1423590 [02:28<2:56:25, 132.46it/s]"
     ]
    },
    {
     "name": "stdout",
     "output_type": "stream",
     "text": [
      "Error evaluating combo ('cross', 'total_dipole_11-6-4', 'dipole_z_4-5-1', 'total_dipole_4-5-1'): Singular matrix\n",
      "Error evaluating combo ('cross', 'total_dipole_11-6-4', 'dipole_z_4-5-1', 'total_dipole_4-3-2'): Singular matrix\n",
      "Error evaluating combo ('cross', 'total_dipole_11-6-4', 'dipole_z_4-5-1', 'total_dipole_1-2-3'): Singular matrix\n"
     ]
    },
    {
     "name": "stderr",
     "output_type": "stream",
     "text": [
      "Threshold 0.7 (single-core):   2%|▏         | 21490/1423590 [02:28<1:31:46, 254.64it/s]"
     ]
    },
    {
     "name": "stdout",
     "output_type": "stream",
     "text": [
      "Error evaluating combo ('cross', 'total_dipole_11-6-4', 'total_dipole_4-5-1', 'dipole_x_4-3-2'): Singular matrix\n",
      "Error evaluating combo ('cross', 'total_dipole_11-6-4', 'total_dipole_4-5-1', 'dipole_y_4-3-2'): Singular matrix\n",
      "Error evaluating combo ('cross', 'total_dipole_11-6-4', 'total_dipole_4-5-1', 'dipole_z_4-3-2'): Singular matrix\n",
      "Error evaluating combo ('cross', 'total_dipole_11-6-4', 'total_dipole_4-5-1', 'total_dipole_4-3-2'): Singular matrix\n",
      "Error evaluating combo ('cross', 'total_dipole_11-6-4', 'total_dipole_4-5-1', 'dipole_x_1-2-3'): Singular matrix\n",
      "Error evaluating combo ('cross', 'total_dipole_11-6-4', 'total_dipole_4-5-1', 'dipole_y_1-2-3'): Singular matrix\n",
      "Error evaluating combo ('cross', 'total_dipole_11-6-4', 'total_dipole_4-5-1', 'dipole_z_1-2-3'): Singular matrix\n",
      "Error evaluating combo ('cross', 'total_dipole_11-6-4', 'total_dipole_4-5-1', 'total_dipole_1-2-3'): Singular matrix\n",
      "Error evaluating combo ('cross', 'total_dipole_11-6-4', 'total_dipole_4-5-1', 'nbo_atom_3'): Singular matrix\n",
      "Error evaluating combo ('cross', 'total_dipole_11-6-4', 'total_dipole_4-5-1', 'nbo_atom_5'): Singular matrix\n",
      "Error evaluating combo ('cross', 'total_dipole_11-6-4', 'total_dipole_4-5-1', 'nbo_atom_11'): Singular matrix\n",
      "Error evaluating combo ('cross', 'total_dipole_11-6-4', 'total_dipole_4-5-1', 'nbo_atom_12'): Singular matrix\n",
      "Error evaluating combo ('cross', 'total_dipole_11-6-4', 'total_dipole_4-5-1', 'nbo_atom_4'): Singular matrix\n",
      "Error evaluating combo ('cross', 'total_dipole_11-6-4', 'total_dipole_4-5-1', 'nbo_atom_6'): Singular matrix\n",
      "Error evaluating combo ('cross', 'total_dipole_11-6-4', 'total_dipole_4-5-1', 'nbo_atom_20'): Singular matrix\n",
      "Error evaluating combo ('cross', 'total_dipole_11-6-4', 'total_dipole_4-5-1', 'nbo_atom_21'): Singular matrix\n",
      "Error evaluating combo ('cross', 'total_dipole_11-6-4', 'total_dipole_4-5-1', 'nbo_atom_22'): Singular matrix\n",
      "Error evaluating combo ('cross', 'total_dipole_11-6-4', 'total_dipole_4-5-1', 'nbo_atom_7'): Singular matrix\n",
      "Error evaluating combo ('cross', 'total_dipole_11-6-4', 'total_dipole_4-5-1', 'hirshfeld_atom_3'): Singular matrix\n",
      "Error evaluating combo ('cross', 'total_dipole_11-6-4', 'total_dipole_4-5-1', 'hirshfeld_atom_5'): Singular matrix\n",
      "Error evaluating combo ('cross', 'total_dipole_11-6-4', 'total_dipole_4-5-1', 'hirshfeld_atom_11'): Singular matrix\n",
      "Error evaluating combo ('cross', 'total_dipole_11-6-4', 'total_dipole_4-5-1', 'hirshfeld_atom_12'): Singular matrix\n",
      "Error evaluating combo ('cross', 'total_dipole_11-6-4', 'total_dipole_4-5-1', 'hirshfeld_atom_4'): Singular matrix\n",
      "Error evaluating combo ('cross', 'total_dipole_11-6-4', 'total_dipole_4-5-1', 'hirshfeld_atom_6'): Singular matrix\n",
      "Error evaluating combo ('cross', 'total_dipole_11-6-4', 'total_dipole_4-5-1', 'hirshfeld_atom_20'): Singular matrix\n",
      "Error evaluating combo ('cross', 'total_dipole_11-6-4', 'total_dipole_4-5-1', 'hirshfeld_atom_21'): Singular matrix\n",
      "Error evaluating combo ('cross', 'total_dipole_11-6-4', 'total_dipole_4-5-1', 'hirshfeld_atom_22'): Singular matrix\n",
      "Error evaluating combo ('cross', 'total_dipole_11-6-4', 'total_dipole_4-5-1', 'hirshfeld_atom_7'): Singular matrix\n",
      "Error evaluating combo ('cross', 'total_dipole_11-6-4', 'total_dipole_4-5-1', 'nbo_diff_3-5'): Singular matrix\n",
      "Error evaluating combo ('cross', 'total_dipole_11-6-4', 'total_dipole_4-5-1', 'nbo_diff_5-12'): Singular matrix\n",
      "Error evaluating combo ('cross', 'total_dipole_11-6-4', 'total_dipole_4-5-1', 'nbo_diff_3-11'): Singular matrix\n",
      "Error evaluating combo ('cross', 'total_dipole_11-6-4', 'total_dipole_4-5-1', 'hirshfeld_diff_3-5'): Singular matrix\n",
      "Error evaluating combo ('cross', 'total_dipole_11-6-4', 'total_dipole_4-5-1', 'hirshfeld_diff_5-12'): Singular matrix\n",
      "Error evaluating combo ('cross', 'total_dipole_11-6-4', 'total_dipole_4-5-1', 'hirshfeld_diff_3-11'): Singular matrix\n",
      "Error evaluating combo ('cross', 'total_dipole_11-6-4', 'total_dipole_4-5-1', 'B1_4-6'): Singular matrix\n",
      "Error evaluating combo ('cross', 'total_dipole_11-6-4', 'total_dipole_4-5-1', 'B5_4-6'): Singular matrix\n",
      "Error evaluating combo ('cross', 'total_dipole_11-6-4', 'total_dipole_4-5-1', 'L_4-6'): Singular matrix\n",
      "Error evaluating combo ('cross', 'total_dipole_11-6-4', 'total_dipole_4-5-1', 'loc_B5_4-6'): Singular matrix\n",
      "Error evaluating combo ('cross', 'total_dipole_11-6-4', 'total_dipole_4-5-1', 'B1_B5_angle_4-6'): Singular matrix\n",
      "Error evaluating combo ('cross', 'total_dipole_11-6-4', 'total_dipole_4-5-1', 'B1_6-4'): Singular matrix\n",
      "Error evaluating combo ('cross', 'total_dipole_11-6-4', 'total_dipole_4-5-1', 'B5_6-4'): Singular matrix\n",
      "Error evaluating combo ('cross', 'total_dipole_11-6-4', 'total_dipole_4-5-1', 'L_6-4'): Singular matrix\n",
      "Error evaluating combo ('cross', 'total_dipole_11-6-4', 'total_dipole_4-5-1', 'loc_B5_6-4'): Singular matrix\n",
      "Error evaluating combo ('cross', 'total_dipole_11-6-4', 'total_dipole_4-5-1', 'B1_B5_angle_6-4'): Singular matrix\n",
      "Error evaluating combo ('cross', 'total_dipole_11-6-4', 'total_dipole_4-5-1', 'angle_[11, 6, 4]'): Singular matrix\n",
      "Error evaluating combo ('cross', 'total_dipole_11-6-4', 'total_dipole_4-5-1', 'angle_[6, 4, 5]'): Singular matrix\n",
      "Error evaluating combo ('cross', 'total_dipole_11-6-4', 'total_dipole_4-5-1', 'angle_[1, 5, 4]'): Singular matrix\n",
      "Error evaluating combo ('cross', 'total_dipole_11-6-4', 'total_dipole_4-5-1', 'bond_length_11-6'): Singular matrix\n",
      "Error evaluating combo ('cross', 'total_dipole_11-6-4', 'total_dipole_4-5-1', 'bond_length_6-4'): Singular matrix\n",
      "Error evaluating combo ('cross', 'total_dipole_11-6-4', 'total_dipole_4-5-1', 'bond_length_1-5'): Singular matrix\n",
      "Error evaluating combo ('cross', 'total_dipole_11-6-4', 'total_dipole_4-5-1', 'bond_length_22-23'): Singular matrix\n",
      "Error evaluating combo ('cross', 'total_dipole_11-6-4', 'total_dipole_4-5-1', 'aniso'): Singular matrix\n",
      "Error evaluating combo ('cross', 'total_dipole_11-6-4', 'total_dipole_4-5-1', 'iso'): Singular matrix\n",
      "Error evaluating combo ('cross', 'total_dipole_11-6-4', 'total_dipole_4-5-1', 'energy'): Singular matrix\n",
      "Error evaluating combo ('cross', 'total_dipole_11-6-4', 'total_dipole_4-5-1', 'Frequency_Stretch_12_21'): Singular matrix\n",
      "Error evaluating combo ('cross', 'total_dipole_11-6-4', 'total_dipole_4-5-1', 'Amplitude_Stretch_12_21'): Singular matrix\n",
      "Error evaluating combo ('cross', 'total_dipole_11-6-4', 'dipole_x_4-3-2', 'total_dipole_4-3-2'): Singular matrix\n",
      "Error evaluating combo ('cross', 'total_dipole_11-6-4', 'dipole_x_4-3-2', 'total_dipole_1-2-3'): Singular matrix\n"
     ]
    },
    {
     "name": "stderr",
     "output_type": "stream",
     "text": [
      "Threshold 0.7 (single-core):   2%|▏         | 21561/1423590 [02:28<2:21:42, 164.89it/s]"
     ]
    },
    {
     "name": "stdout",
     "output_type": "stream",
     "text": [
      "Error evaluating combo ('cross', 'total_dipole_11-6-4', 'dipole_y_4-3-2', 'total_dipole_4-3-2'): Singular matrix\n",
      "Error evaluating combo ('cross', 'total_dipole_11-6-4', 'dipole_y_4-3-2', 'total_dipole_1-2-3'): Singular matrix\n"
     ]
    },
    {
     "name": "stderr",
     "output_type": "stream",
     "text": [
      "Threshold 0.7 (single-core):   2%|▏         | 21614/1423590 [02:29<2:46:51, 140.04it/s]"
     ]
    },
    {
     "name": "stdout",
     "output_type": "stream",
     "text": [
      "Error evaluating combo ('cross', 'total_dipole_11-6-4', 'dipole_z_4-3-2', 'total_dipole_4-3-2'): Singular matrix\n",
      "Error evaluating combo ('cross', 'total_dipole_11-6-4', 'dipole_z_4-3-2', 'total_dipole_1-2-3'): Singular matrix\n"
     ]
    },
    {
     "name": "stderr",
     "output_type": "stream",
     "text": [
      "Threshold 0.7 (single-core):   2%|▏         | 21704/1423590 [02:29<1:34:31, 247.18it/s]"
     ]
    },
    {
     "name": "stdout",
     "output_type": "stream",
     "text": [
      "Error evaluating combo ('cross', 'total_dipole_11-6-4', 'total_dipole_4-3-2', 'dipole_x_1-2-3'): Singular matrix\n",
      "Error evaluating combo ('cross', 'total_dipole_11-6-4', 'total_dipole_4-3-2', 'dipole_y_1-2-3'): Singular matrix\n",
      "Error evaluating combo ('cross', 'total_dipole_11-6-4', 'total_dipole_4-3-2', 'dipole_z_1-2-3'): Singular matrix\n",
      "Error evaluating combo ('cross', 'total_dipole_11-6-4', 'total_dipole_4-3-2', 'total_dipole_1-2-3'): Singular matrix\n",
      "Error evaluating combo ('cross', 'total_dipole_11-6-4', 'total_dipole_4-3-2', 'nbo_atom_3'): Singular matrix\n",
      "Error evaluating combo ('cross', 'total_dipole_11-6-4', 'total_dipole_4-3-2', 'nbo_atom_5'): Singular matrix\n",
      "Error evaluating combo ('cross', 'total_dipole_11-6-4', 'total_dipole_4-3-2', 'nbo_atom_11'): Singular matrix\n",
      "Error evaluating combo ('cross', 'total_dipole_11-6-4', 'total_dipole_4-3-2', 'nbo_atom_12'): Singular matrix\n",
      "Error evaluating combo ('cross', 'total_dipole_11-6-4', 'total_dipole_4-3-2', 'nbo_atom_4'): Singular matrix\n",
      "Error evaluating combo ('cross', 'total_dipole_11-6-4', 'total_dipole_4-3-2', 'nbo_atom_6'): Singular matrix\n",
      "Error evaluating combo ('cross', 'total_dipole_11-6-4', 'total_dipole_4-3-2', 'nbo_atom_20'): Singular matrix\n",
      "Error evaluating combo ('cross', 'total_dipole_11-6-4', 'total_dipole_4-3-2', 'nbo_atom_21'): Singular matrix\n",
      "Error evaluating combo ('cross', 'total_dipole_11-6-4', 'total_dipole_4-3-2', 'nbo_atom_22'): Singular matrix\n",
      "Error evaluating combo ('cross', 'total_dipole_11-6-4', 'total_dipole_4-3-2', 'nbo_atom_7'): Singular matrix\n",
      "Error evaluating combo ('cross', 'total_dipole_11-6-4', 'total_dipole_4-3-2', 'hirshfeld_atom_3'): Singular matrix\n",
      "Error evaluating combo ('cross', 'total_dipole_11-6-4', 'total_dipole_4-3-2', 'hirshfeld_atom_5'): Singular matrix\n",
      "Error evaluating combo ('cross', 'total_dipole_11-6-4', 'total_dipole_4-3-2', 'hirshfeld_atom_11'): Singular matrix\n",
      "Error evaluating combo ('cross', 'total_dipole_11-6-4', 'total_dipole_4-3-2', 'hirshfeld_atom_12'): Singular matrix\n",
      "Error evaluating combo ('cross', 'total_dipole_11-6-4', 'total_dipole_4-3-2', 'hirshfeld_atom_4'): Singular matrix\n",
      "Error evaluating combo ('cross', 'total_dipole_11-6-4', 'total_dipole_4-3-2', 'hirshfeld_atom_6'): Singular matrix\n",
      "Error evaluating combo ('cross', 'total_dipole_11-6-4', 'total_dipole_4-3-2', 'hirshfeld_atom_20'): Singular matrix\n",
      "Error evaluating combo ('cross', 'total_dipole_11-6-4', 'total_dipole_4-3-2', 'hirshfeld_atom_21'): Singular matrix\n",
      "Error evaluating combo ('cross', 'total_dipole_11-6-4', 'total_dipole_4-3-2', 'hirshfeld_atom_22'): Singular matrix\n",
      "Error evaluating combo ('cross', 'total_dipole_11-6-4', 'total_dipole_4-3-2', 'hirshfeld_atom_7'): Singular matrix\n",
      "Error evaluating combo ('cross', 'total_dipole_11-6-4', 'total_dipole_4-3-2', 'nbo_diff_3-5'): Singular matrix\n",
      "Error evaluating combo ('cross', 'total_dipole_11-6-4', 'total_dipole_4-3-2', 'nbo_diff_5-12'): Singular matrix\n",
      "Error evaluating combo ('cross', 'total_dipole_11-6-4', 'total_dipole_4-3-2', 'nbo_diff_3-11'): Singular matrix\n",
      "Error evaluating combo ('cross', 'total_dipole_11-6-4', 'total_dipole_4-3-2', 'hirshfeld_diff_3-5'): Singular matrix\n",
      "Error evaluating combo ('cross', 'total_dipole_11-6-4', 'total_dipole_4-3-2', 'hirshfeld_diff_5-12'): Singular matrix\n",
      "Error evaluating combo ('cross', 'total_dipole_11-6-4', 'total_dipole_4-3-2', 'hirshfeld_diff_3-11'): Singular matrix\n",
      "Error evaluating combo ('cross', 'total_dipole_11-6-4', 'total_dipole_4-3-2', 'B1_4-6'): Singular matrix\n",
      "Error evaluating combo ('cross', 'total_dipole_11-6-4', 'total_dipole_4-3-2', 'B5_4-6'): Singular matrix\n",
      "Error evaluating combo ('cross', 'total_dipole_11-6-4', 'total_dipole_4-3-2', 'L_4-6'): Singular matrix\n",
      "Error evaluating combo ('cross', 'total_dipole_11-6-4', 'total_dipole_4-3-2', 'loc_B5_4-6'): Singular matrix\n",
      "Error evaluating combo ('cross', 'total_dipole_11-6-4', 'total_dipole_4-3-2', 'B1_B5_angle_4-6'): Singular matrix\n",
      "Error evaluating combo ('cross', 'total_dipole_11-6-4', 'total_dipole_4-3-2', 'B1_6-4'): Singular matrix\n",
      "Error evaluating combo ('cross', 'total_dipole_11-6-4', 'total_dipole_4-3-2', 'B5_6-4'): Singular matrix\n",
      "Error evaluating combo ('cross', 'total_dipole_11-6-4', 'total_dipole_4-3-2', 'L_6-4'): Singular matrix\n",
      "Error evaluating combo ('cross', 'total_dipole_11-6-4', 'total_dipole_4-3-2', 'loc_B5_6-4'): Singular matrix\n",
      "Error evaluating combo ('cross', 'total_dipole_11-6-4', 'total_dipole_4-3-2', 'B1_B5_angle_6-4'): Singular matrix\n",
      "Error evaluating combo ('cross', 'total_dipole_11-6-4', 'total_dipole_4-3-2', 'angle_[11, 6, 4]'): Singular matrix\n",
      "Error evaluating combo ('cross', 'total_dipole_11-6-4', 'total_dipole_4-3-2', 'angle_[6, 4, 5]'): Singular matrix\n",
      "Error evaluating combo ('cross', 'total_dipole_11-6-4', 'total_dipole_4-3-2', 'angle_[1, 5, 4]'): Singular matrix\n",
      "Error evaluating combo ('cross', 'total_dipole_11-6-4', 'total_dipole_4-3-2', 'bond_length_11-6'): Singular matrix\n",
      "Error evaluating combo ('cross', 'total_dipole_11-6-4', 'total_dipole_4-3-2', 'bond_length_6-4'): Singular matrix\n",
      "Error evaluating combo ('cross', 'total_dipole_11-6-4', 'total_dipole_4-3-2', 'bond_length_1-5'): Singular matrix\n",
      "Error evaluating combo ('cross', 'total_dipole_11-6-4', 'total_dipole_4-3-2', 'bond_length_22-23'): Singular matrix\n",
      "Error evaluating combo ('cross', 'total_dipole_11-6-4', 'total_dipole_4-3-2', 'aniso'): Singular matrix\n",
      "Error evaluating combo ('cross', 'total_dipole_11-6-4', 'total_dipole_4-3-2', 'iso'): Singular matrix\n",
      "Error evaluating combo ('cross', 'total_dipole_11-6-4', 'total_dipole_4-3-2', 'energy'): Singular matrix\n",
      "Error evaluating combo ('cross', 'total_dipole_11-6-4', 'total_dipole_4-3-2', 'Frequency_Stretch_12_21'): Singular matrix\n",
      "Error evaluating combo ('cross', 'total_dipole_11-6-4', 'total_dipole_4-3-2', 'Amplitude_Stretch_12_21'): Singular matrix\n",
      "Error evaluating combo ('cross', 'total_dipole_11-6-4', 'dipole_x_1-2-3', 'total_dipole_1-2-3'): Singular matrix\n"
     ]
    },
    {
     "name": "stderr",
     "output_type": "stream",
     "text": [
      "Threshold 0.7 (single-core):   2%|▏         | 21773/1423590 [02:30<2:17:49, 169.51it/s]"
     ]
    },
    {
     "name": "stdout",
     "output_type": "stream",
     "text": [
      "Error evaluating combo ('cross', 'total_dipole_11-6-4', 'dipole_y_1-2-3', 'total_dipole_1-2-3'): Singular matrix\n"
     ]
    },
    {
     "name": "stderr",
     "output_type": "stream",
     "text": [
      "Threshold 0.7 (single-core):   2%|▏         | 21829/1423590 [02:30<2:22:16, 164.21it/s]"
     ]
    },
    {
     "name": "stdout",
     "output_type": "stream",
     "text": [
      "Error evaluating combo ('cross', 'total_dipole_11-6-4', 'dipole_z_1-2-3', 'total_dipole_1-2-3'): Singular matrix\n"
     ]
    },
    {
     "name": "stderr",
     "output_type": "stream",
     "text": [
      "Threshold 0.7 (single-core):   2%|▏         | 21911/1423590 [02:30<1:20:47, 289.14it/s]"
     ]
    },
    {
     "name": "stdout",
     "output_type": "stream",
     "text": [
      "Error evaluating combo ('cross', 'total_dipole_11-6-4', 'total_dipole_1-2-3', 'nbo_atom_3'): Singular matrix\n",
      "Error evaluating combo ('cross', 'total_dipole_11-6-4', 'total_dipole_1-2-3', 'nbo_atom_5'): Singular matrix\n",
      "Error evaluating combo ('cross', 'total_dipole_11-6-4', 'total_dipole_1-2-3', 'nbo_atom_11'): Singular matrix\n",
      "Error evaluating combo ('cross', 'total_dipole_11-6-4', 'total_dipole_1-2-3', 'nbo_atom_12'): Singular matrix\n",
      "Error evaluating combo ('cross', 'total_dipole_11-6-4', 'total_dipole_1-2-3', 'nbo_atom_4'): Singular matrix\n",
      "Error evaluating combo ('cross', 'total_dipole_11-6-4', 'total_dipole_1-2-3', 'nbo_atom_6'): Singular matrix\n",
      "Error evaluating combo ('cross', 'total_dipole_11-6-4', 'total_dipole_1-2-3', 'nbo_atom_20'): Singular matrix\n",
      "Error evaluating combo ('cross', 'total_dipole_11-6-4', 'total_dipole_1-2-3', 'nbo_atom_21'): Singular matrix\n",
      "Error evaluating combo ('cross', 'total_dipole_11-6-4', 'total_dipole_1-2-3', 'nbo_atom_22'): Singular matrix\n",
      "Error evaluating combo ('cross', 'total_dipole_11-6-4', 'total_dipole_1-2-3', 'nbo_atom_7'): Singular matrix\n",
      "Error evaluating combo ('cross', 'total_dipole_11-6-4', 'total_dipole_1-2-3', 'hirshfeld_atom_3'): Singular matrix\n",
      "Error evaluating combo ('cross', 'total_dipole_11-6-4', 'total_dipole_1-2-3', 'hirshfeld_atom_5'): Singular matrix\n",
      "Error evaluating combo ('cross', 'total_dipole_11-6-4', 'total_dipole_1-2-3', 'hirshfeld_atom_11'): Singular matrix\n",
      "Error evaluating combo ('cross', 'total_dipole_11-6-4', 'total_dipole_1-2-3', 'hirshfeld_atom_12'): Singular matrix\n",
      "Error evaluating combo ('cross', 'total_dipole_11-6-4', 'total_dipole_1-2-3', 'hirshfeld_atom_4'): Singular matrix\n",
      "Error evaluating combo ('cross', 'total_dipole_11-6-4', 'total_dipole_1-2-3', 'hirshfeld_atom_6'): Singular matrix\n",
      "Error evaluating combo ('cross', 'total_dipole_11-6-4', 'total_dipole_1-2-3', 'hirshfeld_atom_20'): Singular matrix\n",
      "Error evaluating combo ('cross', 'total_dipole_11-6-4', 'total_dipole_1-2-3', 'hirshfeld_atom_21'): Singular matrix\n",
      "Error evaluating combo ('cross', 'total_dipole_11-6-4', 'total_dipole_1-2-3', 'hirshfeld_atom_22'): Singular matrix\n",
      "Error evaluating combo ('cross', 'total_dipole_11-6-4', 'total_dipole_1-2-3', 'hirshfeld_atom_7'): Singular matrix\n",
      "Error evaluating combo ('cross', 'total_dipole_11-6-4', 'total_dipole_1-2-3', 'nbo_diff_3-5'): Singular matrix\n",
      "Error evaluating combo ('cross', 'total_dipole_11-6-4', 'total_dipole_1-2-3', 'nbo_diff_5-12'): Singular matrix\n",
      "Error evaluating combo ('cross', 'total_dipole_11-6-4', 'total_dipole_1-2-3', 'nbo_diff_3-11'): Singular matrix\n",
      "Error evaluating combo ('cross', 'total_dipole_11-6-4', 'total_dipole_1-2-3', 'hirshfeld_diff_3-5'): Singular matrix\n",
      "Error evaluating combo ('cross', 'total_dipole_11-6-4', 'total_dipole_1-2-3', 'hirshfeld_diff_5-12'): Singular matrix\n",
      "Error evaluating combo ('cross', 'total_dipole_11-6-4', 'total_dipole_1-2-3', 'hirshfeld_diff_3-11'): Singular matrix\n",
      "Error evaluating combo ('cross', 'total_dipole_11-6-4', 'total_dipole_1-2-3', 'B1_4-6'): Singular matrix\n",
      "Error evaluating combo ('cross', 'total_dipole_11-6-4', 'total_dipole_1-2-3', 'B5_4-6'): Singular matrix\n",
      "Error evaluating combo ('cross', 'total_dipole_11-6-4', 'total_dipole_1-2-3', 'L_4-6'): Singular matrix\n",
      "Error evaluating combo ('cross', 'total_dipole_11-6-4', 'total_dipole_1-2-3', 'loc_B5_4-6'): Singular matrix\n",
      "Error evaluating combo ('cross', 'total_dipole_11-6-4', 'total_dipole_1-2-3', 'B1_B5_angle_4-6'): Singular matrix\n",
      "Error evaluating combo ('cross', 'total_dipole_11-6-4', 'total_dipole_1-2-3', 'B1_6-4'): Singular matrix\n",
      "Error evaluating combo ('cross', 'total_dipole_11-6-4', 'total_dipole_1-2-3', 'B5_6-4'): Singular matrix\n",
      "Error evaluating combo ('cross', 'total_dipole_11-6-4', 'total_dipole_1-2-3', 'L_6-4'): Singular matrix\n",
      "Error evaluating combo ('cross', 'total_dipole_11-6-4', 'total_dipole_1-2-3', 'loc_B5_6-4'): Singular matrix\n",
      "Error evaluating combo ('cross', 'total_dipole_11-6-4', 'total_dipole_1-2-3', 'B1_B5_angle_6-4'): Singular matrix\n",
      "Error evaluating combo ('cross', 'total_dipole_11-6-4', 'total_dipole_1-2-3', 'angle_[11, 6, 4]'): Singular matrix\n",
      "Error evaluating combo ('cross', 'total_dipole_11-6-4', 'total_dipole_1-2-3', 'angle_[6, 4, 5]'): Singular matrix\n",
      "Error evaluating combo ('cross', 'total_dipole_11-6-4', 'total_dipole_1-2-3', 'angle_[1, 5, 4]'): Singular matrix\n",
      "Error evaluating combo ('cross', 'total_dipole_11-6-4', 'total_dipole_1-2-3', 'bond_length_11-6'): Singular matrix\n",
      "Error evaluating combo ('cross', 'total_dipole_11-6-4', 'total_dipole_1-2-3', 'bond_length_6-4'): Singular matrix\n",
      "Error evaluating combo ('cross', 'total_dipole_11-6-4', 'total_dipole_1-2-3', 'bond_length_1-5'): Singular matrix\n",
      "Error evaluating combo ('cross', 'total_dipole_11-6-4', 'total_dipole_1-2-3', 'bond_length_22-23'): Singular matrix\n",
      "Error evaluating combo ('cross', 'total_dipole_11-6-4', 'total_dipole_1-2-3', 'aniso'): Singular matrix\n",
      "Error evaluating combo ('cross', 'total_dipole_11-6-4', 'total_dipole_1-2-3', 'iso'): Singular matrix\n",
      "Error evaluating combo ('cross', 'total_dipole_11-6-4', 'total_dipole_1-2-3', 'energy'): Singular matrix\n",
      "Error evaluating combo ('cross', 'total_dipole_11-6-4', 'total_dipole_1-2-3', 'Frequency_Stretch_12_21'): Singular matrix\n",
      "Error evaluating combo ('cross', 'total_dipole_11-6-4', 'total_dipole_1-2-3', 'Amplitude_Stretch_12_21'): Singular matrix\n"
     ]
    },
    {
     "name": "stderr",
     "output_type": "stream",
     "text": [
      "Threshold 0.7 (single-core):   2%|▏         | 25326/1423590 [02:54<2:12:08, 176.36it/s]"
     ]
    },
    {
     "name": "stdout",
     "output_type": "stream",
     "text": [
      "Error evaluating combo ('cross', 'dipole_y_10-11-12', 'total_dipole_10-11-12', 'total_dipole_11-12-5'): Singular matrix\n",
      "Error evaluating combo ('cross', 'dipole_y_10-11-12', 'total_dipole_10-11-12', 'total_dipole_4-5-1'): Singular matrix\n",
      "Error evaluating combo ('cross', 'dipole_y_10-11-12', 'total_dipole_10-11-12', 'total_dipole_4-3-2'): Singular matrix\n",
      "Error evaluating combo ('cross', 'dipole_y_10-11-12', 'total_dipole_10-11-12', 'total_dipole_1-2-3'): Singular matrix\n"
     ]
    },
    {
     "name": "stderr",
     "output_type": "stream",
     "text": [
      "Threshold 0.7 (single-core):   2%|▏         | 25569/1423590 [02:56<3:15:24, 119.24it/s]"
     ]
    },
    {
     "name": "stdout",
     "output_type": "stream",
     "text": [
      "Error evaluating combo ('cross', 'dipole_y_10-11-12', 'total_dipole_11-12-5', 'total_dipole_4-5-1'): Singular matrix\n",
      "Error evaluating combo ('cross', 'dipole_y_10-11-12', 'total_dipole_11-12-5', 'total_dipole_4-3-2'): Singular matrix\n",
      "Error evaluating combo ('cross', 'dipole_y_10-11-12', 'total_dipole_11-12-5', 'total_dipole_1-2-3'): Singular matrix\n"
     ]
    },
    {
     "name": "stderr",
     "output_type": "stream",
     "text": [
      "Threshold 0.7 (single-core):   2%|▏         | 25798/1423590 [02:58<3:10:39, 122.19it/s]"
     ]
    },
    {
     "name": "stdout",
     "output_type": "stream",
     "text": [
      "Error evaluating combo ('cross', 'dipole_y_10-11-12', 'total_dipole_4-5-1', 'total_dipole_4-3-2'): Singular matrix\n",
      "Error evaluating combo ('cross', 'dipole_y_10-11-12', 'total_dipole_4-5-1', 'total_dipole_1-2-3'): Singular matrix\n"
     ]
    },
    {
     "name": "stderr",
     "output_type": "stream",
     "text": [
      "Threshold 0.7 (single-core):   2%|▏         | 26020/1423590 [03:00<3:38:26, 106.64it/s]"
     ]
    },
    {
     "name": "stdout",
     "output_type": "stream",
     "text": [
      "Error evaluating combo ('cross', 'dipole_y_10-11-12', 'total_dipole_4-3-2', 'total_dipole_1-2-3'): Singular matrix\n"
     ]
    },
    {
     "name": "stderr",
     "output_type": "stream",
     "text": [
      "Threshold 0.7 (single-core):   2%|▏         | 29413/1423590 [03:31<4:13:52, 91.53it/s] "
     ]
    },
    {
     "name": "stdout",
     "output_type": "stream",
     "text": [
      "Error evaluating combo ('cross', 'total_dipole_10-11-12', 'dipole_x_11-12-5', 'total_dipole_11-12-5'): Singular matrix\n",
      "Error evaluating combo ('cross', 'total_dipole_10-11-12', 'dipole_x_11-12-5', 'total_dipole_4-5-1'): Singular matrix\n",
      "Error evaluating combo ('cross', 'total_dipole_10-11-12', 'dipole_x_11-12-5', 'total_dipole_4-3-2'): Singular matrix\n",
      "Error evaluating combo ('cross', 'total_dipole_10-11-12', 'dipole_x_11-12-5', 'total_dipole_1-2-3'): Singular matrix\n"
     ]
    },
    {
     "name": "stderr",
     "output_type": "stream",
     "text": [
      "Threshold 0.7 (single-core):   2%|▏         | 29479/1423590 [03:32<3:48:05, 101.87it/s]"
     ]
    },
    {
     "name": "stdout",
     "output_type": "stream",
     "text": [
      "Error evaluating combo ('cross', 'total_dipole_10-11-12', 'dipole_y_11-12-5', 'total_dipole_11-12-5'): Singular matrix\n",
      "Error evaluating combo ('cross', 'total_dipole_10-11-12', 'dipole_y_11-12-5', 'total_dipole_4-5-1'): Singular matrix\n",
      "Error evaluating combo ('cross', 'total_dipole_10-11-12', 'dipole_y_11-12-5', 'total_dipole_4-3-2'): Singular matrix\n",
      "Error evaluating combo ('cross', 'total_dipole_10-11-12', 'dipole_y_11-12-5', 'total_dipole_1-2-3'): Singular matrix\n"
     ]
    },
    {
     "name": "stderr",
     "output_type": "stream",
     "text": [
      "Threshold 0.7 (single-core):   2%|▏         | 29541/1423590 [03:32<3:14:13, 119.62it/s]"
     ]
    },
    {
     "name": "stdout",
     "output_type": "stream",
     "text": [
      "Error evaluating combo ('cross', 'total_dipole_10-11-12', 'dipole_z_11-12-5', 'total_dipole_11-12-5'): Singular matrix\n",
      "Error evaluating combo ('cross', 'total_dipole_10-11-12', 'dipole_z_11-12-5', 'total_dipole_4-5-1'): Singular matrix\n",
      "Error evaluating combo ('cross', 'total_dipole_10-11-12', 'dipole_z_11-12-5', 'total_dipole_4-3-2'): Singular matrix\n",
      "Error evaluating combo ('cross', 'total_dipole_10-11-12', 'dipole_z_11-12-5', 'total_dipole_1-2-3'): Singular matrix\n"
     ]
    },
    {
     "name": "stderr",
     "output_type": "stream",
     "text": [
      "Threshold 0.7 (single-core):   2%|▏         | 29646/1423590 [03:33<1:35:45, 242.63it/s]"
     ]
    },
    {
     "name": "stdout",
     "output_type": "stream",
     "text": [
      "Error evaluating combo ('cross', 'total_dipole_10-11-12', 'total_dipole_11-12-5', 'dipole_x_4-5-1'): Singular matrix\n",
      "Error evaluating combo ('cross', 'total_dipole_10-11-12', 'total_dipole_11-12-5', 'dipole_y_4-5-1'): Singular matrix\n",
      "Error evaluating combo ('cross', 'total_dipole_10-11-12', 'total_dipole_11-12-5', 'dipole_z_4-5-1'): Singular matrix\n",
      "Error evaluating combo ('cross', 'total_dipole_10-11-12', 'total_dipole_11-12-5', 'total_dipole_4-5-1'): Singular matrix\n",
      "Error evaluating combo ('cross', 'total_dipole_10-11-12', 'total_dipole_11-12-5', 'dipole_x_4-3-2'): Singular matrix\n",
      "Error evaluating combo ('cross', 'total_dipole_10-11-12', 'total_dipole_11-12-5', 'dipole_y_4-3-2'): Singular matrix\n",
      "Error evaluating combo ('cross', 'total_dipole_10-11-12', 'total_dipole_11-12-5', 'dipole_z_4-3-2'): Singular matrix\n",
      "Error evaluating combo ('cross', 'total_dipole_10-11-12', 'total_dipole_11-12-5', 'total_dipole_4-3-2'): Singular matrix\n",
      "Error evaluating combo ('cross', 'total_dipole_10-11-12', 'total_dipole_11-12-5', 'dipole_x_1-2-3'): Singular matrix\n",
      "Error evaluating combo ('cross', 'total_dipole_10-11-12', 'total_dipole_11-12-5', 'dipole_y_1-2-3'): Singular matrix\n",
      "Error evaluating combo ('cross', 'total_dipole_10-11-12', 'total_dipole_11-12-5', 'dipole_z_1-2-3'): Singular matrix\n",
      "Error evaluating combo ('cross', 'total_dipole_10-11-12', 'total_dipole_11-12-5', 'total_dipole_1-2-3'): Singular matrix\n",
      "Error evaluating combo ('cross', 'total_dipole_10-11-12', 'total_dipole_11-12-5', 'nbo_atom_3'): Singular matrix\n",
      "Error evaluating combo ('cross', 'total_dipole_10-11-12', 'total_dipole_11-12-5', 'nbo_atom_5'): Singular matrix\n",
      "Error evaluating combo ('cross', 'total_dipole_10-11-12', 'total_dipole_11-12-5', 'nbo_atom_11'): Singular matrix\n",
      "Error evaluating combo ('cross', 'total_dipole_10-11-12', 'total_dipole_11-12-5', 'nbo_atom_12'): Singular matrix\n",
      "Error evaluating combo ('cross', 'total_dipole_10-11-12', 'total_dipole_11-12-5', 'nbo_atom_4'): Singular matrix\n",
      "Error evaluating combo ('cross', 'total_dipole_10-11-12', 'total_dipole_11-12-5', 'nbo_atom_6'): Singular matrix\n",
      "Error evaluating combo ('cross', 'total_dipole_10-11-12', 'total_dipole_11-12-5', 'nbo_atom_20'): Singular matrix\n",
      "Error evaluating combo ('cross', 'total_dipole_10-11-12', 'total_dipole_11-12-5', 'nbo_atom_21'): Singular matrix\n",
      "Error evaluating combo ('cross', 'total_dipole_10-11-12', 'total_dipole_11-12-5', 'nbo_atom_22'): Singular matrix\n",
      "Error evaluating combo ('cross', 'total_dipole_10-11-12', 'total_dipole_11-12-5', 'nbo_atom_7'): Singular matrix\n",
      "Error evaluating combo ('cross', 'total_dipole_10-11-12', 'total_dipole_11-12-5', 'hirshfeld_atom_3'): Singular matrix\n",
      "Error evaluating combo ('cross', 'total_dipole_10-11-12', 'total_dipole_11-12-5', 'hirshfeld_atom_5'): Singular matrix\n",
      "Error evaluating combo ('cross', 'total_dipole_10-11-12', 'total_dipole_11-12-5', 'hirshfeld_atom_11'): Singular matrix\n",
      "Error evaluating combo ('cross', 'total_dipole_10-11-12', 'total_dipole_11-12-5', 'hirshfeld_atom_12'): Singular matrix\n",
      "Error evaluating combo ('cross', 'total_dipole_10-11-12', 'total_dipole_11-12-5', 'hirshfeld_atom_4'): Singular matrix\n",
      "Error evaluating combo ('cross', 'total_dipole_10-11-12', 'total_dipole_11-12-5', 'hirshfeld_atom_6'): Singular matrix\n",
      "Error evaluating combo ('cross', 'total_dipole_10-11-12', 'total_dipole_11-12-5', 'hirshfeld_atom_20'): Singular matrix\n",
      "Error evaluating combo ('cross', 'total_dipole_10-11-12', 'total_dipole_11-12-5', 'hirshfeld_atom_21'): Singular matrix\n",
      "Error evaluating combo ('cross', 'total_dipole_10-11-12', 'total_dipole_11-12-5', 'hirshfeld_atom_22'): Singular matrix\n",
      "Error evaluating combo ('cross', 'total_dipole_10-11-12', 'total_dipole_11-12-5', 'hirshfeld_atom_7'): Singular matrix\n",
      "Error evaluating combo ('cross', 'total_dipole_10-11-12', 'total_dipole_11-12-5', 'nbo_diff_3-5'): Singular matrix\n",
      "Error evaluating combo ('cross', 'total_dipole_10-11-12', 'total_dipole_11-12-5', 'nbo_diff_5-12'): Singular matrix\n",
      "Error evaluating combo ('cross', 'total_dipole_10-11-12', 'total_dipole_11-12-5', 'nbo_diff_3-11'): Singular matrix\n",
      "Error evaluating combo ('cross', 'total_dipole_10-11-12', 'total_dipole_11-12-5', 'hirshfeld_diff_3-5'): Singular matrix\n",
      "Error evaluating combo ('cross', 'total_dipole_10-11-12', 'total_dipole_11-12-5', 'hirshfeld_diff_5-12'): Singular matrix\n",
      "Error evaluating combo ('cross', 'total_dipole_10-11-12', 'total_dipole_11-12-5', 'hirshfeld_diff_3-11'): Singular matrix\n",
      "Error evaluating combo ('cross', 'total_dipole_10-11-12', 'total_dipole_11-12-5', 'B1_4-6'): Singular matrix\n",
      "Error evaluating combo ('cross', 'total_dipole_10-11-12', 'total_dipole_11-12-5', 'B5_4-6'): Singular matrix\n",
      "Error evaluating combo ('cross', 'total_dipole_10-11-12', 'total_dipole_11-12-5', 'L_4-6'): Singular matrix\n",
      "Error evaluating combo ('cross', 'total_dipole_10-11-12', 'total_dipole_11-12-5', 'loc_B5_4-6'): Singular matrix\n",
      "Error evaluating combo ('cross', 'total_dipole_10-11-12', 'total_dipole_11-12-5', 'B1_B5_angle_4-6'): Singular matrix\n",
      "Error evaluating combo ('cross', 'total_dipole_10-11-12', 'total_dipole_11-12-5', 'B1_6-4'): Singular matrix\n",
      "Error evaluating combo ('cross', 'total_dipole_10-11-12', 'total_dipole_11-12-5', 'B5_6-4'): Singular matrix\n",
      "Error evaluating combo ('cross', 'total_dipole_10-11-12', 'total_dipole_11-12-5', 'L_6-4'): Singular matrix\n",
      "Error evaluating combo ('cross', 'total_dipole_10-11-12', 'total_dipole_11-12-5', 'loc_B5_6-4'): Singular matrix\n",
      "Error evaluating combo ('cross', 'total_dipole_10-11-12', 'total_dipole_11-12-5', 'B1_B5_angle_6-4'): Singular matrix\n",
      "Error evaluating combo ('cross', 'total_dipole_10-11-12', 'total_dipole_11-12-5', 'angle_[11, 6, 4]'): Singular matrix\n",
      "Error evaluating combo ('cross', 'total_dipole_10-11-12', 'total_dipole_11-12-5', 'angle_[6, 4, 5]'): Singular matrix\n",
      "Error evaluating combo ('cross', 'total_dipole_10-11-12', 'total_dipole_11-12-5', 'angle_[1, 5, 4]'): Singular matrix\n",
      "Error evaluating combo ('cross', 'total_dipole_10-11-12', 'total_dipole_11-12-5', 'bond_length_11-6'): Singular matrix\n",
      "Error evaluating combo ('cross', 'total_dipole_10-11-12', 'total_dipole_11-12-5', 'bond_length_6-4'): Singular matrix\n",
      "Error evaluating combo ('cross', 'total_dipole_10-11-12', 'total_dipole_11-12-5', 'bond_length_1-5'): Singular matrix\n",
      "Error evaluating combo ('cross', 'total_dipole_10-11-12', 'total_dipole_11-12-5', 'bond_length_22-23'): Singular matrix\n",
      "Error evaluating combo ('cross', 'total_dipole_10-11-12', 'total_dipole_11-12-5', 'aniso'): Singular matrix\n",
      "Error evaluating combo ('cross', 'total_dipole_10-11-12', 'total_dipole_11-12-5', 'iso'): Singular matrix\n",
      "Error evaluating combo ('cross', 'total_dipole_10-11-12', 'total_dipole_11-12-5', 'energy'): Singular matrix\n",
      "Error evaluating combo ('cross', 'total_dipole_10-11-12', 'total_dipole_11-12-5', 'Frequency_Stretch_12_21'): Singular matrix\n",
      "Error evaluating combo ('cross', 'total_dipole_10-11-12', 'total_dipole_11-12-5', 'Amplitude_Stretch_12_21'): Singular matrix\n",
      "Error evaluating combo ('cross', 'total_dipole_10-11-12', 'dipole_x_4-5-1', 'total_dipole_4-5-1'): Singular matrix\n",
      "Error evaluating combo ('cross', 'total_dipole_10-11-12', 'dipole_x_4-5-1', 'total_dipole_4-3-2'): Singular matrix\n",
      "Error evaluating combo ('cross', 'total_dipole_10-11-12', 'dipole_x_4-5-1', 'total_dipole_1-2-3'): Singular matrix\n"
     ]
    },
    {
     "name": "stderr",
     "output_type": "stream",
     "text": [
      "Threshold 0.7 (single-core):   2%|▏         | 29718/1423590 [03:33<2:15:17, 171.72it/s]"
     ]
    },
    {
     "name": "stdout",
     "output_type": "stream",
     "text": [
      "Error evaluating combo ('cross', 'total_dipole_10-11-12', 'dipole_y_4-5-1', 'total_dipole_4-5-1'): Singular matrix\n",
      "Error evaluating combo ('cross', 'total_dipole_10-11-12', 'dipole_y_4-5-1', 'total_dipole_4-3-2'): Singular matrix\n",
      "Error evaluating combo ('cross', 'total_dipole_10-11-12', 'dipole_y_4-5-1', 'total_dipole_1-2-3'): Singular matrix\n"
     ]
    },
    {
     "name": "stderr",
     "output_type": "stream",
     "text": [
      "Threshold 0.7 (single-core):   2%|▏         | 29790/1423590 [03:34<2:35:15, 149.63it/s]"
     ]
    },
    {
     "name": "stdout",
     "output_type": "stream",
     "text": [
      "Error evaluating combo ('cross', 'total_dipole_10-11-12', 'dipole_z_4-5-1', 'total_dipole_4-5-1'): Singular matrix\n",
      "Error evaluating combo ('cross', 'total_dipole_10-11-12', 'dipole_z_4-5-1', 'total_dipole_4-3-2'): Singular matrix\n",
      "Error evaluating combo ('cross', 'total_dipole_10-11-12', 'dipole_z_4-5-1', 'total_dipole_1-2-3'): Singular matrix\n"
     ]
    },
    {
     "name": "stderr",
     "output_type": "stream",
     "text": [
      "Threshold 0.7 (single-core):   2%|▏         | 29873/1423590 [03:34<1:23:15, 278.98it/s]"
     ]
    },
    {
     "name": "stdout",
     "output_type": "stream",
     "text": [
      "Error evaluating combo ('cross', 'total_dipole_10-11-12', 'total_dipole_4-5-1', 'dipole_x_4-3-2'): Singular matrix\n",
      "Error evaluating combo ('cross', 'total_dipole_10-11-12', 'total_dipole_4-5-1', 'dipole_y_4-3-2'): Singular matrix\n",
      "Error evaluating combo ('cross', 'total_dipole_10-11-12', 'total_dipole_4-5-1', 'dipole_z_4-3-2'): Singular matrix\n",
      "Error evaluating combo ('cross', 'total_dipole_10-11-12', 'total_dipole_4-5-1', 'total_dipole_4-3-2'): Singular matrix\n",
      "Error evaluating combo ('cross', 'total_dipole_10-11-12', 'total_dipole_4-5-1', 'dipole_x_1-2-3'): Singular matrix\n",
      "Error evaluating combo ('cross', 'total_dipole_10-11-12', 'total_dipole_4-5-1', 'dipole_y_1-2-3'): Singular matrix\n",
      "Error evaluating combo ('cross', 'total_dipole_10-11-12', 'total_dipole_4-5-1', 'dipole_z_1-2-3'): Singular matrix\n",
      "Error evaluating combo ('cross', 'total_dipole_10-11-12', 'total_dipole_4-5-1', 'total_dipole_1-2-3'): Singular matrix\n",
      "Error evaluating combo ('cross', 'total_dipole_10-11-12', 'total_dipole_4-5-1', 'nbo_atom_3'): Singular matrix\n",
      "Error evaluating combo ('cross', 'total_dipole_10-11-12', 'total_dipole_4-5-1', 'nbo_atom_5'): Singular matrix\n",
      "Error evaluating combo ('cross', 'total_dipole_10-11-12', 'total_dipole_4-5-1', 'nbo_atom_11'): Singular matrix\n",
      "Error evaluating combo ('cross', 'total_dipole_10-11-12', 'total_dipole_4-5-1', 'nbo_atom_12'): Singular matrix\n",
      "Error evaluating combo ('cross', 'total_dipole_10-11-12', 'total_dipole_4-5-1', 'nbo_atom_4'): Singular matrix\n",
      "Error evaluating combo ('cross', 'total_dipole_10-11-12', 'total_dipole_4-5-1', 'nbo_atom_6'): Singular matrix\n",
      "Error evaluating combo ('cross', 'total_dipole_10-11-12', 'total_dipole_4-5-1', 'nbo_atom_20'): Singular matrix\n",
      "Error evaluating combo ('cross', 'total_dipole_10-11-12', 'total_dipole_4-5-1', 'nbo_atom_21'): Singular matrix\n",
      "Error evaluating combo ('cross', 'total_dipole_10-11-12', 'total_dipole_4-5-1', 'nbo_atom_22'): Singular matrix\n",
      "Error evaluating combo ('cross', 'total_dipole_10-11-12', 'total_dipole_4-5-1', 'nbo_atom_7'): Singular matrix\n",
      "Error evaluating combo ('cross', 'total_dipole_10-11-12', 'total_dipole_4-5-1', 'hirshfeld_atom_3'): Singular matrix\n",
      "Error evaluating combo ('cross', 'total_dipole_10-11-12', 'total_dipole_4-5-1', 'hirshfeld_atom_5'): Singular matrix\n",
      "Error evaluating combo ('cross', 'total_dipole_10-11-12', 'total_dipole_4-5-1', 'hirshfeld_atom_11'): Singular matrix\n",
      "Error evaluating combo ('cross', 'total_dipole_10-11-12', 'total_dipole_4-5-1', 'hirshfeld_atom_12'): Singular matrix\n",
      "Error evaluating combo ('cross', 'total_dipole_10-11-12', 'total_dipole_4-5-1', 'hirshfeld_atom_4'): Singular matrix\n",
      "Error evaluating combo ('cross', 'total_dipole_10-11-12', 'total_dipole_4-5-1', 'hirshfeld_atom_6'): Singular matrix\n",
      "Error evaluating combo ('cross', 'total_dipole_10-11-12', 'total_dipole_4-5-1', 'hirshfeld_atom_20'): Singular matrix\n",
      "Error evaluating combo ('cross', 'total_dipole_10-11-12', 'total_dipole_4-5-1', 'hirshfeld_atom_21'): Singular matrix\n",
      "Error evaluating combo ('cross', 'total_dipole_10-11-12', 'total_dipole_4-5-1', 'hirshfeld_atom_22'): Singular matrix\n",
      "Error evaluating combo ('cross', 'total_dipole_10-11-12', 'total_dipole_4-5-1', 'hirshfeld_atom_7'): Singular matrix\n",
      "Error evaluating combo ('cross', 'total_dipole_10-11-12', 'total_dipole_4-5-1', 'nbo_diff_3-5'): Singular matrix\n",
      "Error evaluating combo ('cross', 'total_dipole_10-11-12', 'total_dipole_4-5-1', 'nbo_diff_5-12'): Singular matrix\n",
      "Error evaluating combo ('cross', 'total_dipole_10-11-12', 'total_dipole_4-5-1', 'nbo_diff_3-11'): Singular matrix\n",
      "Error evaluating combo ('cross', 'total_dipole_10-11-12', 'total_dipole_4-5-1', 'hirshfeld_diff_3-5'): Singular matrix\n",
      "Error evaluating combo ('cross', 'total_dipole_10-11-12', 'total_dipole_4-5-1', 'hirshfeld_diff_5-12'): Singular matrix\n",
      "Error evaluating combo ('cross', 'total_dipole_10-11-12', 'total_dipole_4-5-1', 'hirshfeld_diff_3-11'): Singular matrix\n",
      "Error evaluating combo ('cross', 'total_dipole_10-11-12', 'total_dipole_4-5-1', 'B1_4-6'): Singular matrix\n",
      "Error evaluating combo ('cross', 'total_dipole_10-11-12', 'total_dipole_4-5-1', 'B5_4-6'): Singular matrix\n",
      "Error evaluating combo ('cross', 'total_dipole_10-11-12', 'total_dipole_4-5-1', 'L_4-6'): Singular matrix\n",
      "Error evaluating combo ('cross', 'total_dipole_10-11-12', 'total_dipole_4-5-1', 'loc_B5_4-6'): Singular matrix\n",
      "Error evaluating combo ('cross', 'total_dipole_10-11-12', 'total_dipole_4-5-1', 'B1_B5_angle_4-6'): Singular matrix\n",
      "Error evaluating combo ('cross', 'total_dipole_10-11-12', 'total_dipole_4-5-1', 'B1_6-4'): Singular matrix\n",
      "Error evaluating combo ('cross', 'total_dipole_10-11-12', 'total_dipole_4-5-1', 'B5_6-4'): Singular matrix\n",
      "Error evaluating combo ('cross', 'total_dipole_10-11-12', 'total_dipole_4-5-1', 'L_6-4'): Singular matrix\n",
      "Error evaluating combo ('cross', 'total_dipole_10-11-12', 'total_dipole_4-5-1', 'loc_B5_6-4'): Singular matrix\n",
      "Error evaluating combo ('cross', 'total_dipole_10-11-12', 'total_dipole_4-5-1', 'B1_B5_angle_6-4'): Singular matrix\n",
      "Error evaluating combo ('cross', 'total_dipole_10-11-12', 'total_dipole_4-5-1', 'angle_[11, 6, 4]'): Singular matrix\n",
      "Error evaluating combo ('cross', 'total_dipole_10-11-12', 'total_dipole_4-5-1', 'angle_[6, 4, 5]'): Singular matrix\n",
      "Error evaluating combo ('cross', 'total_dipole_10-11-12', 'total_dipole_4-5-1', 'angle_[1, 5, 4]'): Singular matrix\n",
      "Error evaluating combo ('cross', 'total_dipole_10-11-12', 'total_dipole_4-5-1', 'bond_length_11-6'): Singular matrix\n",
      "Error evaluating combo ('cross', 'total_dipole_10-11-12', 'total_dipole_4-5-1', 'bond_length_6-4'): Singular matrix\n",
      "Error evaluating combo ('cross', 'total_dipole_10-11-12', 'total_dipole_4-5-1', 'bond_length_1-5'): Singular matrix\n",
      "Error evaluating combo ('cross', 'total_dipole_10-11-12', 'total_dipole_4-5-1', 'bond_length_22-23'): Singular matrix\n",
      "Error evaluating combo ('cross', 'total_dipole_10-11-12', 'total_dipole_4-5-1', 'aniso'): Singular matrix\n",
      "Error evaluating combo ('cross', 'total_dipole_10-11-12', 'total_dipole_4-5-1', 'iso'): Singular matrix\n",
      "Error evaluating combo ('cross', 'total_dipole_10-11-12', 'total_dipole_4-5-1', 'energy'): Singular matrix\n",
      "Error evaluating combo ('cross', 'total_dipole_10-11-12', 'total_dipole_4-5-1', 'Frequency_Stretch_12_21'): Singular matrix\n",
      "Error evaluating combo ('cross', 'total_dipole_10-11-12', 'total_dipole_4-5-1', 'Amplitude_Stretch_12_21'): Singular matrix\n",
      "Error evaluating combo ('cross', 'total_dipole_10-11-12', 'dipole_x_4-3-2', 'total_dipole_4-3-2'): Singular matrix\n",
      "Error evaluating combo ('cross', 'total_dipole_10-11-12', 'dipole_x_4-3-2', 'total_dipole_1-2-3'): Singular matrix\n"
     ]
    },
    {
     "name": "stderr",
     "output_type": "stream",
     "text": [
      "Threshold 0.7 (single-core):   2%|▏         | 29954/1423590 [03:35<1:49:37, 211.87it/s]"
     ]
    },
    {
     "name": "stdout",
     "output_type": "stream",
     "text": [
      "Error evaluating combo ('cross', 'total_dipole_10-11-12', 'dipole_y_4-3-2', 'total_dipole_4-3-2'): Singular matrix\n",
      "Error evaluating combo ('cross', 'total_dipole_10-11-12', 'dipole_y_4-3-2', 'total_dipole_1-2-3'): Singular matrix\n"
     ]
    },
    {
     "name": "stderr",
     "output_type": "stream",
     "text": [
      "Threshold 0.7 (single-core):   2%|▏         | 29999/1423590 [03:35<1:55:03, 201.86it/s]"
     ]
    },
    {
     "name": "stdout",
     "output_type": "stream",
     "text": [
      "Error evaluating combo ('cross', 'total_dipole_10-11-12', 'dipole_z_4-3-2', 'total_dipole_4-3-2'): Singular matrix\n",
      "Error evaluating combo ('cross', 'total_dipole_10-11-12', 'dipole_z_4-3-2', 'total_dipole_1-2-3'): Singular matrix\n"
     ]
    },
    {
     "name": "stderr",
     "output_type": "stream",
     "text": [
      "Threshold 0.7 (single-core):   2%|▏         | 30120/1423590 [03:35<1:32:07, 252.10it/s]"
     ]
    },
    {
     "name": "stdout",
     "output_type": "stream",
     "text": [
      "Error evaluating combo ('cross', 'total_dipole_10-11-12', 'total_dipole_4-3-2', 'dipole_x_1-2-3'): Singular matrix\n",
      "Error evaluating combo ('cross', 'total_dipole_10-11-12', 'total_dipole_4-3-2', 'dipole_y_1-2-3'): Singular matrix\n",
      "Error evaluating combo ('cross', 'total_dipole_10-11-12', 'total_dipole_4-3-2', 'dipole_z_1-2-3'): Singular matrix\n",
      "Error evaluating combo ('cross', 'total_dipole_10-11-12', 'total_dipole_4-3-2', 'total_dipole_1-2-3'): Singular matrix\n",
      "Error evaluating combo ('cross', 'total_dipole_10-11-12', 'total_dipole_4-3-2', 'nbo_atom_3'): Singular matrix\n",
      "Error evaluating combo ('cross', 'total_dipole_10-11-12', 'total_dipole_4-3-2', 'nbo_atom_5'): Singular matrix\n",
      "Error evaluating combo ('cross', 'total_dipole_10-11-12', 'total_dipole_4-3-2', 'nbo_atom_11'): Singular matrix\n",
      "Error evaluating combo ('cross', 'total_dipole_10-11-12', 'total_dipole_4-3-2', 'nbo_atom_12'): Singular matrix\n",
      "Error evaluating combo ('cross', 'total_dipole_10-11-12', 'total_dipole_4-3-2', 'nbo_atom_4'): Singular matrix\n",
      "Error evaluating combo ('cross', 'total_dipole_10-11-12', 'total_dipole_4-3-2', 'nbo_atom_6'): Singular matrix\n",
      "Error evaluating combo ('cross', 'total_dipole_10-11-12', 'total_dipole_4-3-2', 'nbo_atom_20'): Singular matrix\n",
      "Error evaluating combo ('cross', 'total_dipole_10-11-12', 'total_dipole_4-3-2', 'nbo_atom_21'): Singular matrix\n",
      "Error evaluating combo ('cross', 'total_dipole_10-11-12', 'total_dipole_4-3-2', 'nbo_atom_22'): Singular matrix\n",
      "Error evaluating combo ('cross', 'total_dipole_10-11-12', 'total_dipole_4-3-2', 'nbo_atom_7'): Singular matrix\n",
      "Error evaluating combo ('cross', 'total_dipole_10-11-12', 'total_dipole_4-3-2', 'hirshfeld_atom_3'): Singular matrix\n",
      "Error evaluating combo ('cross', 'total_dipole_10-11-12', 'total_dipole_4-3-2', 'hirshfeld_atom_5'): Singular matrix\n",
      "Error evaluating combo ('cross', 'total_dipole_10-11-12', 'total_dipole_4-3-2', 'hirshfeld_atom_11'): Singular matrix\n",
      "Error evaluating combo ('cross', 'total_dipole_10-11-12', 'total_dipole_4-3-2', 'hirshfeld_atom_12'): Singular matrix\n",
      "Error evaluating combo ('cross', 'total_dipole_10-11-12', 'total_dipole_4-3-2', 'hirshfeld_atom_4'): Singular matrix\n",
      "Error evaluating combo ('cross', 'total_dipole_10-11-12', 'total_dipole_4-3-2', 'hirshfeld_atom_6'): Singular matrix\n",
      "Error evaluating combo ('cross', 'total_dipole_10-11-12', 'total_dipole_4-3-2', 'hirshfeld_atom_20'): Singular matrix\n",
      "Error evaluating combo ('cross', 'total_dipole_10-11-12', 'total_dipole_4-3-2', 'hirshfeld_atom_21'): Singular matrix\n",
      "Error evaluating combo ('cross', 'total_dipole_10-11-12', 'total_dipole_4-3-2', 'hirshfeld_atom_22'): Singular matrix\n",
      "Error evaluating combo ('cross', 'total_dipole_10-11-12', 'total_dipole_4-3-2', 'hirshfeld_atom_7'): Singular matrix\n",
      "Error evaluating combo ('cross', 'total_dipole_10-11-12', 'total_dipole_4-3-2', 'nbo_diff_3-5'): Singular matrix\n",
      "Error evaluating combo ('cross', 'total_dipole_10-11-12', 'total_dipole_4-3-2', 'nbo_diff_5-12'): Singular matrix\n",
      "Error evaluating combo ('cross', 'total_dipole_10-11-12', 'total_dipole_4-3-2', 'nbo_diff_3-11'): Singular matrix\n",
      "Error evaluating combo ('cross', 'total_dipole_10-11-12', 'total_dipole_4-3-2', 'hirshfeld_diff_3-5'): Singular matrix\n",
      "Error evaluating combo ('cross', 'total_dipole_10-11-12', 'total_dipole_4-3-2', 'hirshfeld_diff_5-12'): Singular matrix\n",
      "Error evaluating combo ('cross', 'total_dipole_10-11-12', 'total_dipole_4-3-2', 'hirshfeld_diff_3-11'): Singular matrix\n",
      "Error evaluating combo ('cross', 'total_dipole_10-11-12', 'total_dipole_4-3-2', 'B1_4-6'): Singular matrix\n",
      "Error evaluating combo ('cross', 'total_dipole_10-11-12', 'total_dipole_4-3-2', 'B5_4-6'): Singular matrix\n",
      "Error evaluating combo ('cross', 'total_dipole_10-11-12', 'total_dipole_4-3-2', 'L_4-6'): Singular matrix\n",
      "Error evaluating combo ('cross', 'total_dipole_10-11-12', 'total_dipole_4-3-2', 'loc_B5_4-6'): Singular matrix\n",
      "Error evaluating combo ('cross', 'total_dipole_10-11-12', 'total_dipole_4-3-2', 'B1_B5_angle_4-6'): Singular matrix\n",
      "Error evaluating combo ('cross', 'total_dipole_10-11-12', 'total_dipole_4-3-2', 'B1_6-4'): Singular matrix\n",
      "Error evaluating combo ('cross', 'total_dipole_10-11-12', 'total_dipole_4-3-2', 'B5_6-4'): Singular matrix\n",
      "Error evaluating combo ('cross', 'total_dipole_10-11-12', 'total_dipole_4-3-2', 'L_6-4'): Singular matrix\n",
      "Error evaluating combo ('cross', 'total_dipole_10-11-12', 'total_dipole_4-3-2', 'loc_B5_6-4'): Singular matrix\n",
      "Error evaluating combo ('cross', 'total_dipole_10-11-12', 'total_dipole_4-3-2', 'B1_B5_angle_6-4'): Singular matrix\n",
      "Error evaluating combo ('cross', 'total_dipole_10-11-12', 'total_dipole_4-3-2', 'angle_[11, 6, 4]'): Singular matrix\n",
      "Error evaluating combo ('cross', 'total_dipole_10-11-12', 'total_dipole_4-3-2', 'angle_[6, 4, 5]'): Singular matrix\n",
      "Error evaluating combo ('cross', 'total_dipole_10-11-12', 'total_dipole_4-3-2', 'angle_[1, 5, 4]'): Singular matrix\n",
      "Error evaluating combo ('cross', 'total_dipole_10-11-12', 'total_dipole_4-3-2', 'bond_length_11-6'): Singular matrix\n",
      "Error evaluating combo ('cross', 'total_dipole_10-11-12', 'total_dipole_4-3-2', 'bond_length_6-4'): Singular matrix\n",
      "Error evaluating combo ('cross', 'total_dipole_10-11-12', 'total_dipole_4-3-2', 'bond_length_1-5'): Singular matrix\n",
      "Error evaluating combo ('cross', 'total_dipole_10-11-12', 'total_dipole_4-3-2', 'bond_length_22-23'): Singular matrix\n",
      "Error evaluating combo ('cross', 'total_dipole_10-11-12', 'total_dipole_4-3-2', 'aniso'): Singular matrix\n",
      "Error evaluating combo ('cross', 'total_dipole_10-11-12', 'total_dipole_4-3-2', 'iso'): Singular matrix\n",
      "Error evaluating combo ('cross', 'total_dipole_10-11-12', 'total_dipole_4-3-2', 'energy'): Singular matrix\n",
      "Error evaluating combo ('cross', 'total_dipole_10-11-12', 'total_dipole_4-3-2', 'Frequency_Stretch_12_21'): Singular matrix\n",
      "Error evaluating combo ('cross', 'total_dipole_10-11-12', 'total_dipole_4-3-2', 'Amplitude_Stretch_12_21'): Singular matrix\n",
      "Error evaluating combo ('cross', 'total_dipole_10-11-12', 'dipole_x_1-2-3', 'total_dipole_1-2-3'): Singular matrix\n"
     ]
    },
    {
     "name": "stderr",
     "output_type": "stream",
     "text": [
      "Threshold 0.7 (single-core):   2%|▏         | 30149/1423590 [03:35<1:50:48, 209.59it/s]"
     ]
    },
    {
     "name": "stdout",
     "output_type": "stream",
     "text": [
      "Error evaluating combo ('cross', 'total_dipole_10-11-12', 'dipole_y_1-2-3', 'total_dipole_1-2-3'): Singular matrix\n"
     ]
    },
    {
     "name": "stderr",
     "output_type": "stream",
     "text": [
      "Threshold 0.7 (single-core):   2%|▏         | 30214/1423590 [03:36<2:28:26, 156.45it/s]"
     ]
    },
    {
     "name": "stdout",
     "output_type": "stream",
     "text": [
      "Error evaluating combo ('cross', 'total_dipole_10-11-12', 'dipole_z_1-2-3', 'total_dipole_1-2-3'): Singular matrix\n"
     ]
    },
    {
     "name": "stderr",
     "output_type": "stream",
     "text": [
      "Threshold 0.7 (single-core):   2%|▏         | 30295/1423590 [03:36<1:26:54, 267.19it/s]"
     ]
    },
    {
     "name": "stdout",
     "output_type": "stream",
     "text": [
      "Error evaluating combo ('cross', 'total_dipole_10-11-12', 'total_dipole_1-2-3', 'nbo_atom_3'): Singular matrix\n",
      "Error evaluating combo ('cross', 'total_dipole_10-11-12', 'total_dipole_1-2-3', 'nbo_atom_5'): Singular matrix\n",
      "Error evaluating combo ('cross', 'total_dipole_10-11-12', 'total_dipole_1-2-3', 'nbo_atom_11'): Singular matrix\n",
      "Error evaluating combo ('cross', 'total_dipole_10-11-12', 'total_dipole_1-2-3', 'nbo_atom_12'): Singular matrix\n",
      "Error evaluating combo ('cross', 'total_dipole_10-11-12', 'total_dipole_1-2-3', 'nbo_atom_4'): Singular matrix\n",
      "Error evaluating combo ('cross', 'total_dipole_10-11-12', 'total_dipole_1-2-3', 'nbo_atom_6'): Singular matrix\n",
      "Error evaluating combo ('cross', 'total_dipole_10-11-12', 'total_dipole_1-2-3', 'nbo_atom_20'): Singular matrix\n",
      "Error evaluating combo ('cross', 'total_dipole_10-11-12', 'total_dipole_1-2-3', 'nbo_atom_21'): Singular matrix\n",
      "Error evaluating combo ('cross', 'total_dipole_10-11-12', 'total_dipole_1-2-3', 'nbo_atom_22'): Singular matrix\n",
      "Error evaluating combo ('cross', 'total_dipole_10-11-12', 'total_dipole_1-2-3', 'nbo_atom_7'): Singular matrix\n",
      "Error evaluating combo ('cross', 'total_dipole_10-11-12', 'total_dipole_1-2-3', 'hirshfeld_atom_3'): Singular matrix\n",
      "Error evaluating combo ('cross', 'total_dipole_10-11-12', 'total_dipole_1-2-3', 'hirshfeld_atom_5'): Singular matrix\n",
      "Error evaluating combo ('cross', 'total_dipole_10-11-12', 'total_dipole_1-2-3', 'hirshfeld_atom_11'): Singular matrix\n",
      "Error evaluating combo ('cross', 'total_dipole_10-11-12', 'total_dipole_1-2-3', 'hirshfeld_atom_12'): Singular matrix\n",
      "Error evaluating combo ('cross', 'total_dipole_10-11-12', 'total_dipole_1-2-3', 'hirshfeld_atom_4'): Singular matrix\n",
      "Error evaluating combo ('cross', 'total_dipole_10-11-12', 'total_dipole_1-2-3', 'hirshfeld_atom_6'): Singular matrix\n",
      "Error evaluating combo ('cross', 'total_dipole_10-11-12', 'total_dipole_1-2-3', 'hirshfeld_atom_20'): Singular matrix\n",
      "Error evaluating combo ('cross', 'total_dipole_10-11-12', 'total_dipole_1-2-3', 'hirshfeld_atom_21'): Singular matrix\n",
      "Error evaluating combo ('cross', 'total_dipole_10-11-12', 'total_dipole_1-2-3', 'hirshfeld_atom_22'): Singular matrix\n",
      "Error evaluating combo ('cross', 'total_dipole_10-11-12', 'total_dipole_1-2-3', 'hirshfeld_atom_7'): Singular matrix\n",
      "Error evaluating combo ('cross', 'total_dipole_10-11-12', 'total_dipole_1-2-3', 'nbo_diff_3-5'): Singular matrix\n",
      "Error evaluating combo ('cross', 'total_dipole_10-11-12', 'total_dipole_1-2-3', 'nbo_diff_5-12'): Singular matrix\n",
      "Error evaluating combo ('cross', 'total_dipole_10-11-12', 'total_dipole_1-2-3', 'nbo_diff_3-11'): Singular matrix\n",
      "Error evaluating combo ('cross', 'total_dipole_10-11-12', 'total_dipole_1-2-3', 'hirshfeld_diff_3-5'): Singular matrix\n",
      "Error evaluating combo ('cross', 'total_dipole_10-11-12', 'total_dipole_1-2-3', 'hirshfeld_diff_5-12'): Singular matrix\n",
      "Error evaluating combo ('cross', 'total_dipole_10-11-12', 'total_dipole_1-2-3', 'hirshfeld_diff_3-11'): Singular matrix\n",
      "Error evaluating combo ('cross', 'total_dipole_10-11-12', 'total_dipole_1-2-3', 'B1_4-6'): Singular matrix\n",
      "Error evaluating combo ('cross', 'total_dipole_10-11-12', 'total_dipole_1-2-3', 'B5_4-6'): Singular matrix\n",
      "Error evaluating combo ('cross', 'total_dipole_10-11-12', 'total_dipole_1-2-3', 'L_4-6'): Singular matrix\n",
      "Error evaluating combo ('cross', 'total_dipole_10-11-12', 'total_dipole_1-2-3', 'loc_B5_4-6'): Singular matrix\n",
      "Error evaluating combo ('cross', 'total_dipole_10-11-12', 'total_dipole_1-2-3', 'B1_B5_angle_4-6'): Singular matrix\n",
      "Error evaluating combo ('cross', 'total_dipole_10-11-12', 'total_dipole_1-2-3', 'B1_6-4'): Singular matrix\n",
      "Error evaluating combo ('cross', 'total_dipole_10-11-12', 'total_dipole_1-2-3', 'B5_6-4'): Singular matrix\n",
      "Error evaluating combo ('cross', 'total_dipole_10-11-12', 'total_dipole_1-2-3', 'L_6-4'): Singular matrix\n",
      "Error evaluating combo ('cross', 'total_dipole_10-11-12', 'total_dipole_1-2-3', 'loc_B5_6-4'): Singular matrix\n",
      "Error evaluating combo ('cross', 'total_dipole_10-11-12', 'total_dipole_1-2-3', 'B1_B5_angle_6-4'): Singular matrix\n",
      "Error evaluating combo ('cross', 'total_dipole_10-11-12', 'total_dipole_1-2-3', 'angle_[11, 6, 4]'): Singular matrix\n",
      "Error evaluating combo ('cross', 'total_dipole_10-11-12', 'total_dipole_1-2-3', 'angle_[6, 4, 5]'): Singular matrix\n",
      "Error evaluating combo ('cross', 'total_dipole_10-11-12', 'total_dipole_1-2-3', 'angle_[1, 5, 4]'): Singular matrix\n",
      "Error evaluating combo ('cross', 'total_dipole_10-11-12', 'total_dipole_1-2-3', 'bond_length_11-6'): Singular matrix\n",
      "Error evaluating combo ('cross', 'total_dipole_10-11-12', 'total_dipole_1-2-3', 'bond_length_6-4'): Singular matrix\n",
      "Error evaluating combo ('cross', 'total_dipole_10-11-12', 'total_dipole_1-2-3', 'bond_length_1-5'): Singular matrix\n",
      "Error evaluating combo ('cross', 'total_dipole_10-11-12', 'total_dipole_1-2-3', 'bond_length_22-23'): Singular matrix\n",
      "Error evaluating combo ('cross', 'total_dipole_10-11-12', 'total_dipole_1-2-3', 'aniso'): Singular matrix\n",
      "Error evaluating combo ('cross', 'total_dipole_10-11-12', 'total_dipole_1-2-3', 'iso'): Singular matrix\n",
      "Error evaluating combo ('cross', 'total_dipole_10-11-12', 'total_dipole_1-2-3', 'energy'): Singular matrix\n",
      "Error evaluating combo ('cross', 'total_dipole_10-11-12', 'total_dipole_1-2-3', 'Frequency_Stretch_12_21'): Singular matrix\n",
      "Error evaluating combo ('cross', 'total_dipole_10-11-12', 'total_dipole_1-2-3', 'Amplitude_Stretch_12_21'): Singular matrix\n"
     ]
    },
    {
     "name": "stderr",
     "output_type": "stream",
     "text": [
      "Threshold 0.7 (single-core):   2%|▏         | 31572/1423590 [03:44<2:16:30, 169.96it/s]"
     ]
    },
    {
     "name": "stdout",
     "output_type": "stream",
     "text": [
      "Error evaluating combo ('cross', 'dipole_x_11-12-5', 'total_dipole_11-12-5', 'total_dipole_4-5-1'): Singular matrix\n",
      "Error evaluating combo ('cross', 'dipole_x_11-12-5', 'total_dipole_11-12-5', 'total_dipole_4-3-2'): Singular matrix\n",
      "Error evaluating combo ('cross', 'dipole_x_11-12-5', 'total_dipole_11-12-5', 'total_dipole_1-2-3'): Singular matrix\n"
     ]
    },
    {
     "name": "stderr",
     "output_type": "stream",
     "text": [
      "Threshold 0.7 (single-core):   2%|▏         | 31794/1423590 [03:45<2:14:24, 172.58it/s]"
     ]
    },
    {
     "name": "stdout",
     "output_type": "stream",
     "text": [
      "Error evaluating combo ('cross', 'dipole_x_11-12-5', 'total_dipole_4-5-1', 'total_dipole_4-3-2'): Singular matrix\n",
      "Error evaluating combo ('cross', 'dipole_x_11-12-5', 'total_dipole_4-5-1', 'total_dipole_1-2-3'): Singular matrix\n"
     ]
    },
    {
     "name": "stderr",
     "output_type": "stream",
     "text": [
      "Threshold 0.7 (single-core):   2%|▏         | 32012/1423590 [03:46<2:05:13, 185.20it/s]"
     ]
    },
    {
     "name": "stdout",
     "output_type": "stream",
     "text": [
      "Error evaluating combo ('cross', 'dipole_x_11-12-5', 'total_dipole_4-3-2', 'total_dipole_1-2-3'): Singular matrix\n"
     ]
    },
    {
     "name": "stderr",
     "output_type": "stream",
     "text": [
      "Threshold 0.7 (single-core):   2%|▏         | 33009/1423590 [03:53<2:01:26, 190.84it/s]"
     ]
    },
    {
     "name": "stdout",
     "output_type": "stream",
     "text": [
      "Error evaluating combo ('cross', 'dipole_x_11-12-5', 'hirshfeld_atom_7', 'Amplitude_Stretch_12_21'): [Errno 13] Permission denied: 'results_new_features_set_combined.csv'\n"
     ]
    },
    {
     "name": "stderr",
     "output_type": "stream",
     "text": [
      "Threshold 0.7 (single-core):   2%|▏         | 33457/1423590 [03:55<2:38:15, 146.39it/s]"
     ]
    },
    {
     "name": "stdout",
     "output_type": "stream",
     "text": [
      "Error evaluating combo ('cross', 'dipole_y_11-12-5', 'total_dipole_11-12-5', 'total_dipole_4-5-1'): Singular matrix\n",
      "Error evaluating combo ('cross', 'dipole_y_11-12-5', 'total_dipole_11-12-5', 'total_dipole_4-3-2'): Singular matrix\n",
      "Error evaluating combo ('cross', 'dipole_y_11-12-5', 'total_dipole_11-12-5', 'total_dipole_1-2-3'): Singular matrix\n"
     ]
    },
    {
     "name": "stderr",
     "output_type": "stream",
     "text": [
      "Threshold 0.7 (single-core):   2%|▏         | 33691/1423590 [03:57<2:33:04, 151.32it/s]"
     ]
    },
    {
     "name": "stdout",
     "output_type": "stream",
     "text": [
      "Error evaluating combo ('cross', 'dipole_y_11-12-5', 'total_dipole_4-5-1', 'total_dipole_4-3-2'): Singular matrix\n",
      "Error evaluating combo ('cross', 'dipole_y_11-12-5', 'total_dipole_4-5-1', 'total_dipole_1-2-3'): Singular matrix\n"
     ]
    },
    {
     "name": "stderr",
     "output_type": "stream",
     "text": [
      "Threshold 0.7 (single-core):   2%|▏         | 33756/1423590 [03:57<2:32:45, 151.63it/s]"
     ]
    },
    {
     "name": "stdout",
     "output_type": "stream",
     "text": [
      "Error evaluating combo ('cross', 'dipole_y_11-12-5', 'dipole_x_4-3-2', 'nbo_atom_11'): [Errno 13] Permission denied: 'results_new_features_set_combined.csv'\n",
      "Error evaluating combo ('cross', 'dipole_y_11-12-5', 'dipole_x_4-3-2', 'nbo_atom_21'): [Errno 13] Permission denied: 'results_new_features_set_combined.csv'\n",
      "Error evaluating combo ('cross', 'dipole_y_11-12-5', 'dipole_x_4-3-2', 'nbo_atom_22'): [Errno 13] Permission denied: 'results_new_features_set_combined.csv'\n",
      "Error evaluating combo ('cross', 'dipole_y_11-12-5', 'dipole_x_4-3-2', 'hirshfeld_atom_11'): [Errno 13] Permission denied: 'results_new_features_set_combined.csv'\n",
      "Error evaluating combo ('cross', 'dipole_y_11-12-5', 'dipole_x_4-3-2', 'hirshfeld_atom_12'): [Errno 13] Permission denied: 'results_new_features_set_combined.csv'\n",
      "Error evaluating combo ('cross', 'dipole_y_11-12-5', 'dipole_x_4-3-2', 'hirshfeld_atom_4'): [Errno 13] Permission denied: 'results_new_features_set_combined.csv'\n",
      "Error evaluating combo ('cross', 'dipole_y_11-12-5', 'dipole_x_4-3-2', 'hirshfeld_atom_6'): [Errno 13] Permission denied: 'results_new_features_set_combined.csv'\n",
      "Error evaluating combo ('cross', 'dipole_y_11-12-5', 'dipole_x_4-3-2', 'hirshfeld_atom_20'): [Errno 13] Permission denied: 'results_new_features_set_combined.csv'\n",
      "Error evaluating combo ('cross', 'dipole_y_11-12-5', 'dipole_x_4-3-2', 'hirshfeld_atom_21'): [Errno 13] Permission denied: 'results_new_features_set_combined.csv'\n",
      "Error evaluating combo ('cross', 'dipole_y_11-12-5', 'dipole_x_4-3-2', 'hirshfeld_atom_22'): [Errno 13] Permission denied: 'results_new_features_set_combined.csv'\n",
      "Error evaluating combo ('cross', 'dipole_y_11-12-5', 'dipole_x_4-3-2', 'hirshfeld_atom_7'): [Errno 13] Permission denied: 'results_new_features_set_combined.csv'\n",
      "Error evaluating combo ('cross', 'dipole_y_11-12-5', 'dipole_x_4-3-2', 'nbo_diff_3-5'): [Errno 13] Permission denied: 'results_new_features_set_combined.csv'\n",
      "Error evaluating combo ('cross', 'dipole_y_11-12-5', 'dipole_x_4-3-2', 'nbo_diff_5-12'): [Errno 13] Permission denied: 'results_new_features_set_combined.csv'\n",
      "Error evaluating combo ('cross', 'dipole_y_11-12-5', 'dipole_x_4-3-2', 'nbo_diff_3-11'): [Errno 13] Permission denied: 'results_new_features_set_combined.csv'\n",
      "Error evaluating combo ('cross', 'dipole_y_11-12-5', 'dipole_x_4-3-2', 'hirshfeld_diff_3-5'): [Errno 13] Permission denied: 'results_new_features_set_combined.csv'\n",
      "Error evaluating combo ('cross', 'dipole_y_11-12-5', 'dipole_x_4-3-2', 'hirshfeld_diff_5-12'): [Errno 13] Permission denied: 'results_new_features_set_combined.csv'\n",
      "Error evaluating combo ('cross', 'dipole_y_11-12-5', 'dipole_x_4-3-2', 'hirshfeld_diff_3-11'): [Errno 13] Permission denied: 'results_new_features_set_combined.csv'\n",
      "Error evaluating combo ('cross', 'dipole_y_11-12-5', 'dipole_x_4-3-2', 'B1_4-6'): [Errno 13] Permission denied: 'results_new_features_set_combined.csv'\n",
      "Error evaluating combo ('cross', 'dipole_y_11-12-5', 'dipole_x_4-3-2', 'B5_4-6'): [Errno 13] Permission denied: 'results_new_features_set_combined.csv'\n",
      "Error evaluating combo ('cross', 'dipole_y_11-12-5', 'dipole_x_4-3-2', 'L_4-6'): [Errno 13] Permission denied: 'results_new_features_set_combined.csv'\n",
      "Error evaluating combo ('cross', 'dipole_y_11-12-5', 'dipole_x_4-3-2', 'loc_B5_4-6'): [Errno 13] Permission denied: 'results_new_features_set_combined.csv'\n",
      "Error evaluating combo ('cross', 'dipole_y_11-12-5', 'dipole_x_4-3-2', 'B1_B5_angle_4-6'): [Errno 13] Permission denied: 'results_new_features_set_combined.csv'\n",
      "Error evaluating combo ('cross', 'dipole_y_11-12-5', 'dipole_x_4-3-2', 'B1_6-4'): [Errno 13] Permission denied: 'results_new_features_set_combined.csv'\n",
      "Error evaluating combo ('cross', 'dipole_y_11-12-5', 'dipole_x_4-3-2', 'B5_6-4'): [Errno 13] Permission denied: 'results_new_features_set_combined.csv'\n",
      "Error evaluating combo ('cross', 'dipole_y_11-12-5', 'dipole_x_4-3-2', 'L_6-4'): [Errno 13] Permission denied: 'results_new_features_set_combined.csv'\n",
      "Error evaluating combo ('cross', 'dipole_y_11-12-5', 'dipole_x_4-3-2', 'loc_B5_6-4'): [Errno 13] Permission denied: 'results_new_features_set_combined.csv'\n",
      "Error evaluating combo ('cross', 'dipole_y_11-12-5', 'dipole_x_4-3-2', 'B1_B5_angle_6-4'): [Errno 13] Permission denied: 'results_new_features_set_combined.csv'\n",
      "Error evaluating combo ('cross', 'dipole_y_11-12-5', 'dipole_x_4-3-2', 'angle_[11, 6, 4]'): [Errno 13] Permission denied: 'results_new_features_set_combined.csv'\n",
      "Error evaluating combo ('cross', 'dipole_y_11-12-5', 'dipole_x_4-3-2', 'angle_[6, 4, 5]'): [Errno 13] Permission denied: 'results_new_features_set_combined.csv'\n",
      "Error evaluating combo ('cross', 'dipole_y_11-12-5', 'dipole_x_4-3-2', 'angle_[1, 5, 4]'): [Errno 13] Permission denied: 'results_new_features_set_combined.csv'\n",
      "Error evaluating combo ('cross', 'dipole_y_11-12-5', 'dipole_x_4-3-2', 'bond_length_11-6'): [Errno 13] Permission denied: 'results_new_features_set_combined.csv'\n"
     ]
    },
    {
     "name": "stderr",
     "output_type": "stream",
     "text": [
      "Threshold 0.7 (single-core):   2%|▏         | 33774/1423590 [03:57<2:25:42, 158.97it/s]"
     ]
    },
    {
     "name": "stdout",
     "output_type": "stream",
     "text": [
      "Error evaluating combo ('cross', 'dipole_y_11-12-5', 'dipole_x_4-3-2', 'bond_length_6-4'): [Errno 13] Permission denied: 'results_new_features_set_combined.csv'\n",
      "Error evaluating combo ('cross', 'dipole_y_11-12-5', 'dipole_x_4-3-2', 'bond_length_1-5'): [Errno 13] Permission denied: 'results_new_features_set_combined.csv'\n",
      "Error evaluating combo ('cross', 'dipole_y_11-12-5', 'dipole_x_4-3-2', 'bond_length_22-23'): [Errno 13] Permission denied: 'results_new_features_set_combined.csv'\n",
      "Error evaluating combo ('cross', 'dipole_y_11-12-5', 'dipole_x_4-3-2', 'aniso'): [Errno 13] Permission denied: 'results_new_features_set_combined.csv'\n",
      "Error evaluating combo ('cross', 'dipole_y_11-12-5', 'dipole_x_4-3-2', 'iso'): [Errno 13] Permission denied: 'results_new_features_set_combined.csv'\n",
      "Error evaluating combo ('cross', 'dipole_y_11-12-5', 'dipole_x_4-3-2', 'energy'): [Errno 13] Permission denied: 'results_new_features_set_combined.csv'\n",
      "Error evaluating combo ('cross', 'dipole_y_11-12-5', 'dipole_x_4-3-2', 'Frequency_Stretch_12_21'): [Errno 13] Permission denied: 'results_new_features_set_combined.csv'\n",
      "Error evaluating combo ('cross', 'dipole_y_11-12-5', 'dipole_x_4-3-2', 'Amplitude_Stretch_12_21'): [Errno 13] Permission denied: 'results_new_features_set_combined.csv'\n",
      "Error evaluating combo ('cross', 'dipole_y_11-12-5', 'dipole_y_4-3-2', 'dipole_z_4-3-2'): [Errno 13] Permission denied: 'results_new_features_set_combined.csv'\n",
      "Error evaluating combo ('cross', 'dipole_y_11-12-5', 'dipole_y_4-3-2', 'total_dipole_4-3-2'): [Errno 13] Permission denied: 'results_new_features_set_combined.csv'\n",
      "Error evaluating combo ('cross', 'dipole_y_11-12-5', 'dipole_y_4-3-2', 'dipole_x_1-2-3'): [Errno 13] Permission denied: 'results_new_features_set_combined.csv'\n",
      "Error evaluating combo ('cross', 'dipole_y_11-12-5', 'dipole_y_4-3-2', 'dipole_y_1-2-3'): [Errno 13] Permission denied: 'results_new_features_set_combined.csv'\n",
      "Error evaluating combo ('cross', 'dipole_y_11-12-5', 'dipole_y_4-3-2', 'dipole_z_1-2-3'): [Errno 13] Permission denied: 'results_new_features_set_combined.csv'\n",
      "Error evaluating combo ('cross', 'dipole_y_11-12-5', 'dipole_y_4-3-2', 'total_dipole_1-2-3'): [Errno 13] Permission denied: 'results_new_features_set_combined.csv'\n",
      "Error evaluating combo ('cross', 'dipole_y_11-12-5', 'dipole_y_4-3-2', 'nbo_atom_3'): [Errno 13] Permission denied: 'results_new_features_set_combined.csv'\n",
      "Error evaluating combo ('cross', 'dipole_y_11-12-5', 'dipole_y_4-3-2', 'nbo_atom_5'): [Errno 13] Permission denied: 'results_new_features_set_combined.csv'\n",
      "Error evaluating combo ('cross', 'dipole_y_11-12-5', 'dipole_y_4-3-2', 'nbo_atom_11'): [Errno 13] Permission denied: 'results_new_features_set_combined.csv'\n",
      "Error evaluating combo ('cross', 'dipole_y_11-12-5', 'dipole_y_4-3-2', 'nbo_atom_12'): [Errno 13] Permission denied: 'results_new_features_set_combined.csv'\n",
      "Error evaluating combo ('cross', 'dipole_y_11-12-5', 'dipole_y_4-3-2', 'nbo_atom_4'): [Errno 13] Permission denied: 'results_new_features_set_combined.csv'\n",
      "Error evaluating combo ('cross', 'dipole_y_11-12-5', 'dipole_y_4-3-2', 'nbo_atom_6'): [Errno 13] Permission denied: 'results_new_features_set_combined.csv'\n",
      "Error evaluating combo ('cross', 'dipole_y_11-12-5', 'dipole_y_4-3-2', 'nbo_atom_20'): [Errno 13] Permission denied: 'results_new_features_set_combined.csv'\n",
      "Error evaluating combo ('cross', 'dipole_y_11-12-5', 'dipole_y_4-3-2', 'nbo_atom_21'): [Errno 13] Permission denied: 'results_new_features_set_combined.csv'\n",
      "Error evaluating combo ('cross', 'dipole_y_11-12-5', 'dipole_y_4-3-2', 'nbo_atom_22'): [Errno 13] Permission denied: 'results_new_features_set_combined.csv'\n",
      "Error evaluating combo ('cross', 'dipole_y_11-12-5', 'dipole_y_4-3-2', 'nbo_atom_7'): [Errno 13] Permission denied: 'results_new_features_set_combined.csv'\n"
     ]
    },
    {
     "name": "stderr",
     "output_type": "stream",
     "text": [
      "Threshold 0.7 (single-core):   2%|▏         | 33806/1423590 [03:58<3:06:11, 124.41it/s]"
     ]
    },
    {
     "name": "stdout",
     "output_type": "stream",
     "text": [
      "Error evaluating combo ('cross', 'dipole_y_11-12-5', 'dipole_y_4-3-2', 'hirshfeld_atom_3'): [Errno 13] Permission denied: 'results_new_features_set_combined.csv'\n"
     ]
    },
    {
     "name": "stderr",
     "output_type": "stream",
     "text": [
      "Threshold 0.7 (single-core):   2%|▏         | 33919/1423590 [03:58<2:21:58, 163.14it/s]"
     ]
    },
    {
     "name": "stdout",
     "output_type": "stream",
     "text": [
      "Error evaluating combo ('cross', 'dipole_y_11-12-5', 'total_dipole_4-3-2', 'total_dipole_1-2-3'): Singular matrix\n"
     ]
    },
    {
     "name": "stderr",
     "output_type": "stream",
     "text": [
      "Threshold 0.7 (single-core):   2%|▏         | 35285/1423590 [04:07<2:11:05, 176.51it/s]"
     ]
    },
    {
     "name": "stdout",
     "output_type": "stream",
     "text": [
      "Error evaluating combo ('cross', 'dipole_z_11-12-5', 'total_dipole_11-12-5', 'total_dipole_4-5-1'): Singular matrix\n",
      "Error evaluating combo ('cross', 'dipole_z_11-12-5', 'total_dipole_11-12-5', 'total_dipole_4-3-2'): Singular matrix\n",
      "Error evaluating combo ('cross', 'dipole_z_11-12-5', 'total_dipole_11-12-5', 'total_dipole_1-2-3'): Singular matrix\n"
     ]
    },
    {
     "name": "stderr",
     "output_type": "stream",
     "text": [
      "Threshold 0.7 (single-core):   2%|▏         | 35528/1423590 [04:08<2:11:20, 176.14it/s]"
     ]
    },
    {
     "name": "stdout",
     "output_type": "stream",
     "text": [
      "Error evaluating combo ('cross', 'dipole_z_11-12-5', 'total_dipole_4-5-1', 'total_dipole_4-3-2'): Singular matrix\n",
      "Error evaluating combo ('cross', 'dipole_z_11-12-5', 'total_dipole_4-5-1', 'total_dipole_1-2-3'): Singular matrix\n"
     ]
    },
    {
     "name": "stderr",
     "output_type": "stream",
     "text": [
      "Threshold 0.7 (single-core):   3%|▎         | 35740/1423590 [04:10<2:24:54, 159.62it/s]"
     ]
    },
    {
     "name": "stdout",
     "output_type": "stream",
     "text": [
      "Error evaluating combo ('cross', 'dipole_z_11-12-5', 'total_dipole_4-3-2', 'total_dipole_1-2-3'): Singular matrix\n"
     ]
    },
    {
     "name": "stderr",
     "output_type": "stream",
     "text": [
      "Threshold 0.7 (single-core):   3%|▎         | 37109/1423590 [04:18<1:57:43, 196.29it/s]"
     ]
    },
    {
     "name": "stdout",
     "output_type": "stream",
     "text": [
      "Error evaluating combo ('cross', 'total_dipole_11-12-5', 'dipole_x_4-5-1', 'total_dipole_4-5-1'): Singular matrix\n",
      "Error evaluating combo ('cross', 'total_dipole_11-12-5', 'dipole_x_4-5-1', 'total_dipole_4-3-2'): Singular matrix\n",
      "Error evaluating combo ('cross', 'total_dipole_11-12-5', 'dipole_x_4-5-1', 'total_dipole_1-2-3'): Singular matrix\n"
     ]
    },
    {
     "name": "stderr",
     "output_type": "stream",
     "text": [
      "Threshold 0.7 (single-core):   3%|▎         | 37169/1423590 [04:18<2:06:54, 182.07it/s]"
     ]
    },
    {
     "name": "stdout",
     "output_type": "stream",
     "text": [
      "Error evaluating combo ('cross', 'total_dipole_11-12-5', 'dipole_y_4-5-1', 'total_dipole_4-5-1'): Singular matrix\n",
      "Error evaluating combo ('cross', 'total_dipole_11-12-5', 'dipole_y_4-5-1', 'total_dipole_4-3-2'): Singular matrix\n",
      "Error evaluating combo ('cross', 'total_dipole_11-12-5', 'dipole_y_4-5-1', 'total_dipole_1-2-3'): Singular matrix\n"
     ]
    },
    {
     "name": "stderr",
     "output_type": "stream",
     "text": [
      "Threshold 0.7 (single-core):   3%|▎         | 37223/1423590 [04:18<2:22:48, 161.79it/s]"
     ]
    },
    {
     "name": "stdout",
     "output_type": "stream",
     "text": [
      "Error evaluating combo ('cross', 'total_dipole_11-12-5', 'dipole_z_4-5-1', 'total_dipole_4-5-1'): Singular matrix\n",
      "Error evaluating combo ('cross', 'total_dipole_11-12-5', 'dipole_z_4-5-1', 'total_dipole_4-3-2'): Singular matrix\n",
      "Error evaluating combo ('cross', 'total_dipole_11-12-5', 'dipole_z_4-5-1', 'total_dipole_1-2-3'): Singular matrix\n"
     ]
    },
    {
     "name": "stderr",
     "output_type": "stream",
     "text": [
      "Threshold 0.7 (single-core):   3%|▎         | 37331/1423590 [04:19<1:17:04, 299.73it/s]"
     ]
    },
    {
     "name": "stdout",
     "output_type": "stream",
     "text": [
      "Error evaluating combo ('cross', 'total_dipole_11-12-5', 'total_dipole_4-5-1', 'dipole_x_4-3-2'): Singular matrix\n",
      "Error evaluating combo ('cross', 'total_dipole_11-12-5', 'total_dipole_4-5-1', 'dipole_y_4-3-2'): Singular matrix\n",
      "Error evaluating combo ('cross', 'total_dipole_11-12-5', 'total_dipole_4-5-1', 'dipole_z_4-3-2'): Singular matrix\n",
      "Error evaluating combo ('cross', 'total_dipole_11-12-5', 'total_dipole_4-5-1', 'total_dipole_4-3-2'): Singular matrix\n",
      "Error evaluating combo ('cross', 'total_dipole_11-12-5', 'total_dipole_4-5-1', 'dipole_x_1-2-3'): Singular matrix\n",
      "Error evaluating combo ('cross', 'total_dipole_11-12-5', 'total_dipole_4-5-1', 'dipole_y_1-2-3'): Singular matrix\n",
      "Error evaluating combo ('cross', 'total_dipole_11-12-5', 'total_dipole_4-5-1', 'dipole_z_1-2-3'): Singular matrix\n",
      "Error evaluating combo ('cross', 'total_dipole_11-12-5', 'total_dipole_4-5-1', 'total_dipole_1-2-3'): Singular matrix\n",
      "Error evaluating combo ('cross', 'total_dipole_11-12-5', 'total_dipole_4-5-1', 'nbo_atom_3'): Singular matrix\n",
      "Error evaluating combo ('cross', 'total_dipole_11-12-5', 'total_dipole_4-5-1', 'nbo_atom_5'): Singular matrix\n",
      "Error evaluating combo ('cross', 'total_dipole_11-12-5', 'total_dipole_4-5-1', 'nbo_atom_11'): Singular matrix\n",
      "Error evaluating combo ('cross', 'total_dipole_11-12-5', 'total_dipole_4-5-1', 'nbo_atom_12'): Singular matrix\n",
      "Error evaluating combo ('cross', 'total_dipole_11-12-5', 'total_dipole_4-5-1', 'nbo_atom_4'): Singular matrix\n",
      "Error evaluating combo ('cross', 'total_dipole_11-12-5', 'total_dipole_4-5-1', 'nbo_atom_6'): Singular matrix\n",
      "Error evaluating combo ('cross', 'total_dipole_11-12-5', 'total_dipole_4-5-1', 'nbo_atom_20'): Singular matrix\n",
      "Error evaluating combo ('cross', 'total_dipole_11-12-5', 'total_dipole_4-5-1', 'nbo_atom_21'): Singular matrix\n",
      "Error evaluating combo ('cross', 'total_dipole_11-12-5', 'total_dipole_4-5-1', 'nbo_atom_22'): Singular matrix\n",
      "Error evaluating combo ('cross', 'total_dipole_11-12-5', 'total_dipole_4-5-1', 'nbo_atom_7'): Singular matrix\n",
      "Error evaluating combo ('cross', 'total_dipole_11-12-5', 'total_dipole_4-5-1', 'hirshfeld_atom_3'): Singular matrix\n",
      "Error evaluating combo ('cross', 'total_dipole_11-12-5', 'total_dipole_4-5-1', 'hirshfeld_atom_5'): Singular matrix\n",
      "Error evaluating combo ('cross', 'total_dipole_11-12-5', 'total_dipole_4-5-1', 'hirshfeld_atom_11'): Singular matrix\n",
      "Error evaluating combo ('cross', 'total_dipole_11-12-5', 'total_dipole_4-5-1', 'hirshfeld_atom_12'): Singular matrix\n",
      "Error evaluating combo ('cross', 'total_dipole_11-12-5', 'total_dipole_4-5-1', 'hirshfeld_atom_4'): Singular matrix\n",
      "Error evaluating combo ('cross', 'total_dipole_11-12-5', 'total_dipole_4-5-1', 'hirshfeld_atom_6'): Singular matrix\n",
      "Error evaluating combo ('cross', 'total_dipole_11-12-5', 'total_dipole_4-5-1', 'hirshfeld_atom_20'): Singular matrix\n",
      "Error evaluating combo ('cross', 'total_dipole_11-12-5', 'total_dipole_4-5-1', 'hirshfeld_atom_21'): Singular matrix\n",
      "Error evaluating combo ('cross', 'total_dipole_11-12-5', 'total_dipole_4-5-1', 'hirshfeld_atom_22'): Singular matrix\n",
      "Error evaluating combo ('cross', 'total_dipole_11-12-5', 'total_dipole_4-5-1', 'hirshfeld_atom_7'): Singular matrix\n",
      "Error evaluating combo ('cross', 'total_dipole_11-12-5', 'total_dipole_4-5-1', 'nbo_diff_3-5'): Singular matrix\n",
      "Error evaluating combo ('cross', 'total_dipole_11-12-5', 'total_dipole_4-5-1', 'nbo_diff_5-12'): Singular matrix\n",
      "Error evaluating combo ('cross', 'total_dipole_11-12-5', 'total_dipole_4-5-1', 'nbo_diff_3-11'): Singular matrix\n",
      "Error evaluating combo ('cross', 'total_dipole_11-12-5', 'total_dipole_4-5-1', 'hirshfeld_diff_3-5'): Singular matrix\n",
      "Error evaluating combo ('cross', 'total_dipole_11-12-5', 'total_dipole_4-5-1', 'hirshfeld_diff_5-12'): Singular matrix\n",
      "Error evaluating combo ('cross', 'total_dipole_11-12-5', 'total_dipole_4-5-1', 'hirshfeld_diff_3-11'): Singular matrix\n",
      "Error evaluating combo ('cross', 'total_dipole_11-12-5', 'total_dipole_4-5-1', 'B1_4-6'): Singular matrix\n",
      "Error evaluating combo ('cross', 'total_dipole_11-12-5', 'total_dipole_4-5-1', 'B5_4-6'): Singular matrix\n",
      "Error evaluating combo ('cross', 'total_dipole_11-12-5', 'total_dipole_4-5-1', 'L_4-6'): Singular matrix\n",
      "Error evaluating combo ('cross', 'total_dipole_11-12-5', 'total_dipole_4-5-1', 'loc_B5_4-6'): Singular matrix\n",
      "Error evaluating combo ('cross', 'total_dipole_11-12-5', 'total_dipole_4-5-1', 'B1_B5_angle_4-6'): Singular matrix\n",
      "Error evaluating combo ('cross', 'total_dipole_11-12-5', 'total_dipole_4-5-1', 'B1_6-4'): Singular matrix\n",
      "Error evaluating combo ('cross', 'total_dipole_11-12-5', 'total_dipole_4-5-1', 'B5_6-4'): Singular matrix\n",
      "Error evaluating combo ('cross', 'total_dipole_11-12-5', 'total_dipole_4-5-1', 'L_6-4'): Singular matrix\n",
      "Error evaluating combo ('cross', 'total_dipole_11-12-5', 'total_dipole_4-5-1', 'loc_B5_6-4'): Singular matrix\n",
      "Error evaluating combo ('cross', 'total_dipole_11-12-5', 'total_dipole_4-5-1', 'B1_B5_angle_6-4'): Singular matrix\n",
      "Error evaluating combo ('cross', 'total_dipole_11-12-5', 'total_dipole_4-5-1', 'angle_[11, 6, 4]'): Singular matrix\n",
      "Error evaluating combo ('cross', 'total_dipole_11-12-5', 'total_dipole_4-5-1', 'angle_[6, 4, 5]'): Singular matrix\n",
      "Error evaluating combo ('cross', 'total_dipole_11-12-5', 'total_dipole_4-5-1', 'angle_[1, 5, 4]'): Singular matrix\n",
      "Error evaluating combo ('cross', 'total_dipole_11-12-5', 'total_dipole_4-5-1', 'bond_length_11-6'): Singular matrix\n",
      "Error evaluating combo ('cross', 'total_dipole_11-12-5', 'total_dipole_4-5-1', 'bond_length_6-4'): Singular matrix\n",
      "Error evaluating combo ('cross', 'total_dipole_11-12-5', 'total_dipole_4-5-1', 'bond_length_1-5'): Singular matrix\n",
      "Error evaluating combo ('cross', 'total_dipole_11-12-5', 'total_dipole_4-5-1', 'bond_length_22-23'): Singular matrix\n",
      "Error evaluating combo ('cross', 'total_dipole_11-12-5', 'total_dipole_4-5-1', 'aniso'): Singular matrix\n",
      "Error evaluating combo ('cross', 'total_dipole_11-12-5', 'total_dipole_4-5-1', 'iso'): Singular matrix\n",
      "Error evaluating combo ('cross', 'total_dipole_11-12-5', 'total_dipole_4-5-1', 'energy'): Singular matrix\n",
      "Error evaluating combo ('cross', 'total_dipole_11-12-5', 'total_dipole_4-5-1', 'Frequency_Stretch_12_21'): Singular matrix\n",
      "Error evaluating combo ('cross', 'total_dipole_11-12-5', 'total_dipole_4-5-1', 'Amplitude_Stretch_12_21'): Singular matrix\n",
      "Error evaluating combo ('cross', 'total_dipole_11-12-5', 'dipole_x_4-3-2', 'total_dipole_4-3-2'): Singular matrix\n",
      "Error evaluating combo ('cross', 'total_dipole_11-12-5', 'dipole_x_4-3-2', 'total_dipole_1-2-3'): Singular matrix\n"
     ]
    },
    {
     "name": "stderr",
     "output_type": "stream",
     "text": [
      "Threshold 0.7 (single-core):   3%|▎         | 37393/1423590 [04:19<1:36:51, 238.53it/s]"
     ]
    },
    {
     "name": "stdout",
     "output_type": "stream",
     "text": [
      "Error evaluating combo ('cross', 'total_dipole_11-12-5', 'dipole_y_4-3-2', 'total_dipole_4-3-2'): Singular matrix\n",
      "Error evaluating combo ('cross', 'total_dipole_11-12-5', 'dipole_y_4-3-2', 'total_dipole_1-2-3'): Singular matrix\n"
     ]
    },
    {
     "name": "stderr",
     "output_type": "stream",
     "text": [
      "Threshold 0.7 (single-core):   3%|▎         | 37443/1423590 [04:19<1:47:51, 214.19it/s]"
     ]
    },
    {
     "name": "stdout",
     "output_type": "stream",
     "text": [
      "Error evaluating combo ('cross', 'total_dipole_11-12-5', 'dipole_z_4-3-2', 'total_dipole_4-3-2'): Singular matrix\n",
      "Error evaluating combo ('cross', 'total_dipole_11-12-5', 'dipole_z_4-3-2', 'total_dipole_1-2-3'): Singular matrix\n"
     ]
    },
    {
     "name": "stderr",
     "output_type": "stream",
     "text": [
      "Threshold 0.7 (single-core):   3%|▎         | 37563/1423590 [04:20<1:34:36, 244.18it/s]"
     ]
    },
    {
     "name": "stdout",
     "output_type": "stream",
     "text": [
      "Error evaluating combo ('cross', 'total_dipole_11-12-5', 'total_dipole_4-3-2', 'dipole_x_1-2-3'): Singular matrix\n",
      "Error evaluating combo ('cross', 'total_dipole_11-12-5', 'total_dipole_4-3-2', 'dipole_y_1-2-3'): Singular matrix\n",
      "Error evaluating combo ('cross', 'total_dipole_11-12-5', 'total_dipole_4-3-2', 'dipole_z_1-2-3'): Singular matrix\n",
      "Error evaluating combo ('cross', 'total_dipole_11-12-5', 'total_dipole_4-3-2', 'total_dipole_1-2-3'): Singular matrix\n",
      "Error evaluating combo ('cross', 'total_dipole_11-12-5', 'total_dipole_4-3-2', 'nbo_atom_3'): Singular matrix\n",
      "Error evaluating combo ('cross', 'total_dipole_11-12-5', 'total_dipole_4-3-2', 'nbo_atom_5'): Singular matrix\n",
      "Error evaluating combo ('cross', 'total_dipole_11-12-5', 'total_dipole_4-3-2', 'nbo_atom_11'): Singular matrix\n",
      "Error evaluating combo ('cross', 'total_dipole_11-12-5', 'total_dipole_4-3-2', 'nbo_atom_12'): Singular matrix\n",
      "Error evaluating combo ('cross', 'total_dipole_11-12-5', 'total_dipole_4-3-2', 'nbo_atom_4'): Singular matrix\n",
      "Error evaluating combo ('cross', 'total_dipole_11-12-5', 'total_dipole_4-3-2', 'nbo_atom_6'): Singular matrix\n",
      "Error evaluating combo ('cross', 'total_dipole_11-12-5', 'total_dipole_4-3-2', 'nbo_atom_20'): Singular matrix\n",
      "Error evaluating combo ('cross', 'total_dipole_11-12-5', 'total_dipole_4-3-2', 'nbo_atom_21'): Singular matrix\n",
      "Error evaluating combo ('cross', 'total_dipole_11-12-5', 'total_dipole_4-3-2', 'nbo_atom_22'): Singular matrix\n",
      "Error evaluating combo ('cross', 'total_dipole_11-12-5', 'total_dipole_4-3-2', 'nbo_atom_7'): Singular matrix\n",
      "Error evaluating combo ('cross', 'total_dipole_11-12-5', 'total_dipole_4-3-2', 'hirshfeld_atom_3'): Singular matrix\n",
      "Error evaluating combo ('cross', 'total_dipole_11-12-5', 'total_dipole_4-3-2', 'hirshfeld_atom_5'): Singular matrix\n",
      "Error evaluating combo ('cross', 'total_dipole_11-12-5', 'total_dipole_4-3-2', 'hirshfeld_atom_11'): Singular matrix\n",
      "Error evaluating combo ('cross', 'total_dipole_11-12-5', 'total_dipole_4-3-2', 'hirshfeld_atom_12'): Singular matrix\n",
      "Error evaluating combo ('cross', 'total_dipole_11-12-5', 'total_dipole_4-3-2', 'hirshfeld_atom_4'): Singular matrix\n",
      "Error evaluating combo ('cross', 'total_dipole_11-12-5', 'total_dipole_4-3-2', 'hirshfeld_atom_6'): Singular matrix\n",
      "Error evaluating combo ('cross', 'total_dipole_11-12-5', 'total_dipole_4-3-2', 'hirshfeld_atom_20'): Singular matrix\n",
      "Error evaluating combo ('cross', 'total_dipole_11-12-5', 'total_dipole_4-3-2', 'hirshfeld_atom_21'): Singular matrix\n",
      "Error evaluating combo ('cross', 'total_dipole_11-12-5', 'total_dipole_4-3-2', 'hirshfeld_atom_22'): Singular matrix\n",
      "Error evaluating combo ('cross', 'total_dipole_11-12-5', 'total_dipole_4-3-2', 'hirshfeld_atom_7'): Singular matrix\n",
      "Error evaluating combo ('cross', 'total_dipole_11-12-5', 'total_dipole_4-3-2', 'nbo_diff_3-5'): Singular matrix\n",
      "Error evaluating combo ('cross', 'total_dipole_11-12-5', 'total_dipole_4-3-2', 'nbo_diff_5-12'): Singular matrix\n",
      "Error evaluating combo ('cross', 'total_dipole_11-12-5', 'total_dipole_4-3-2', 'nbo_diff_3-11'): Singular matrix\n",
      "Error evaluating combo ('cross', 'total_dipole_11-12-5', 'total_dipole_4-3-2', 'hirshfeld_diff_3-5'): Singular matrix\n",
      "Error evaluating combo ('cross', 'total_dipole_11-12-5', 'total_dipole_4-3-2', 'hirshfeld_diff_5-12'): Singular matrix\n",
      "Error evaluating combo ('cross', 'total_dipole_11-12-5', 'total_dipole_4-3-2', 'hirshfeld_diff_3-11'): Singular matrix\n",
      "Error evaluating combo ('cross', 'total_dipole_11-12-5', 'total_dipole_4-3-2', 'B1_4-6'): Singular matrix\n",
      "Error evaluating combo ('cross', 'total_dipole_11-12-5', 'total_dipole_4-3-2', 'B5_4-6'): Singular matrix\n",
      "Error evaluating combo ('cross', 'total_dipole_11-12-5', 'total_dipole_4-3-2', 'L_4-6'): Singular matrix\n",
      "Error evaluating combo ('cross', 'total_dipole_11-12-5', 'total_dipole_4-3-2', 'loc_B5_4-6'): Singular matrix\n",
      "Error evaluating combo ('cross', 'total_dipole_11-12-5', 'total_dipole_4-3-2', 'B1_B5_angle_4-6'): Singular matrix\n",
      "Error evaluating combo ('cross', 'total_dipole_11-12-5', 'total_dipole_4-3-2', 'B1_6-4'): Singular matrix\n",
      "Error evaluating combo ('cross', 'total_dipole_11-12-5', 'total_dipole_4-3-2', 'B5_6-4'): Singular matrix\n",
      "Error evaluating combo ('cross', 'total_dipole_11-12-5', 'total_dipole_4-3-2', 'L_6-4'): Singular matrix\n",
      "Error evaluating combo ('cross', 'total_dipole_11-12-5', 'total_dipole_4-3-2', 'loc_B5_6-4'): Singular matrix\n",
      "Error evaluating combo ('cross', 'total_dipole_11-12-5', 'total_dipole_4-3-2', 'B1_B5_angle_6-4'): Singular matrix\n",
      "Error evaluating combo ('cross', 'total_dipole_11-12-5', 'total_dipole_4-3-2', 'angle_[11, 6, 4]'): Singular matrix\n",
      "Error evaluating combo ('cross', 'total_dipole_11-12-5', 'total_dipole_4-3-2', 'angle_[6, 4, 5]'): Singular matrix\n",
      "Error evaluating combo ('cross', 'total_dipole_11-12-5', 'total_dipole_4-3-2', 'angle_[1, 5, 4]'): Singular matrix\n",
      "Error evaluating combo ('cross', 'total_dipole_11-12-5', 'total_dipole_4-3-2', 'bond_length_11-6'): Singular matrix\n",
      "Error evaluating combo ('cross', 'total_dipole_11-12-5', 'total_dipole_4-3-2', 'bond_length_6-4'): Singular matrix\n",
      "Error evaluating combo ('cross', 'total_dipole_11-12-5', 'total_dipole_4-3-2', 'bond_length_1-5'): Singular matrix\n",
      "Error evaluating combo ('cross', 'total_dipole_11-12-5', 'total_dipole_4-3-2', 'bond_length_22-23'): Singular matrix\n",
      "Error evaluating combo ('cross', 'total_dipole_11-12-5', 'total_dipole_4-3-2', 'aniso'): Singular matrix\n",
      "Error evaluating combo ('cross', 'total_dipole_11-12-5', 'total_dipole_4-3-2', 'iso'): Singular matrix\n",
      "Error evaluating combo ('cross', 'total_dipole_11-12-5', 'total_dipole_4-3-2', 'energy'): Singular matrix\n",
      "Error evaluating combo ('cross', 'total_dipole_11-12-5', 'total_dipole_4-3-2', 'Frequency_Stretch_12_21'): Singular matrix\n",
      "Error evaluating combo ('cross', 'total_dipole_11-12-5', 'total_dipole_4-3-2', 'Amplitude_Stretch_12_21'): Singular matrix\n",
      "Error evaluating combo ('cross', 'total_dipole_11-12-5', 'dipole_x_1-2-3', 'total_dipole_1-2-3'): Singular matrix\n"
     ]
    },
    {
     "name": "stderr",
     "output_type": "stream",
     "text": [
      "Threshold 0.7 (single-core):   3%|▎         | 37617/1423590 [04:20<1:44:02, 222.01it/s]"
     ]
    },
    {
     "name": "stdout",
     "output_type": "stream",
     "text": [
      "Error evaluating combo ('cross', 'total_dipole_11-12-5', 'dipole_y_1-2-3', 'total_dipole_1-2-3'): Singular matrix\n"
     ]
    },
    {
     "name": "stderr",
     "output_type": "stream",
     "text": [
      "Threshold 0.7 (single-core):   3%|▎         | 37664/1423590 [04:20<1:53:25, 203.66it/s]"
     ]
    },
    {
     "name": "stdout",
     "output_type": "stream",
     "text": [
      "Error evaluating combo ('cross', 'total_dipole_11-12-5', 'dipole_z_1-2-3', 'total_dipole_1-2-3'): Singular matrix\n"
     ]
    },
    {
     "name": "stderr",
     "output_type": "stream",
     "text": [
      "Threshold 0.7 (single-core):   3%|▎         | 37762/1423590 [04:21<1:28:16, 261.64it/s]"
     ]
    },
    {
     "name": "stdout",
     "output_type": "stream",
     "text": [
      "Error evaluating combo ('cross', 'total_dipole_11-12-5', 'total_dipole_1-2-3', 'nbo_atom_3'): Singular matrix\n",
      "Error evaluating combo ('cross', 'total_dipole_11-12-5', 'total_dipole_1-2-3', 'nbo_atom_5'): Singular matrix\n",
      "Error evaluating combo ('cross', 'total_dipole_11-12-5', 'total_dipole_1-2-3', 'nbo_atom_11'): Singular matrix\n",
      "Error evaluating combo ('cross', 'total_dipole_11-12-5', 'total_dipole_1-2-3', 'nbo_atom_12'): Singular matrix\n",
      "Error evaluating combo ('cross', 'total_dipole_11-12-5', 'total_dipole_1-2-3', 'nbo_atom_4'): Singular matrix\n",
      "Error evaluating combo ('cross', 'total_dipole_11-12-5', 'total_dipole_1-2-3', 'nbo_atom_6'): Singular matrix\n",
      "Error evaluating combo ('cross', 'total_dipole_11-12-5', 'total_dipole_1-2-3', 'nbo_atom_20'): Singular matrix\n",
      "Error evaluating combo ('cross', 'total_dipole_11-12-5', 'total_dipole_1-2-3', 'nbo_atom_21'): Singular matrix\n",
      "Error evaluating combo ('cross', 'total_dipole_11-12-5', 'total_dipole_1-2-3', 'nbo_atom_22'): Singular matrix\n",
      "Error evaluating combo ('cross', 'total_dipole_11-12-5', 'total_dipole_1-2-3', 'nbo_atom_7'): Singular matrix\n",
      "Error evaluating combo ('cross', 'total_dipole_11-12-5', 'total_dipole_1-2-3', 'hirshfeld_atom_3'): Singular matrix\n",
      "Error evaluating combo ('cross', 'total_dipole_11-12-5', 'total_dipole_1-2-3', 'hirshfeld_atom_5'): Singular matrix\n",
      "Error evaluating combo ('cross', 'total_dipole_11-12-5', 'total_dipole_1-2-3', 'hirshfeld_atom_11'): Singular matrix\n",
      "Error evaluating combo ('cross', 'total_dipole_11-12-5', 'total_dipole_1-2-3', 'hirshfeld_atom_12'): Singular matrix\n",
      "Error evaluating combo ('cross', 'total_dipole_11-12-5', 'total_dipole_1-2-3', 'hirshfeld_atom_4'): Singular matrix\n",
      "Error evaluating combo ('cross', 'total_dipole_11-12-5', 'total_dipole_1-2-3', 'hirshfeld_atom_6'): Singular matrix\n",
      "Error evaluating combo ('cross', 'total_dipole_11-12-5', 'total_dipole_1-2-3', 'hirshfeld_atom_20'): Singular matrix\n",
      "Error evaluating combo ('cross', 'total_dipole_11-12-5', 'total_dipole_1-2-3', 'hirshfeld_atom_21'): Singular matrix\n",
      "Error evaluating combo ('cross', 'total_dipole_11-12-5', 'total_dipole_1-2-3', 'hirshfeld_atom_22'): Singular matrix\n",
      "Error evaluating combo ('cross', 'total_dipole_11-12-5', 'total_dipole_1-2-3', 'hirshfeld_atom_7'): Singular matrix\n",
      "Error evaluating combo ('cross', 'total_dipole_11-12-5', 'total_dipole_1-2-3', 'nbo_diff_3-5'): Singular matrix\n",
      "Error evaluating combo ('cross', 'total_dipole_11-12-5', 'total_dipole_1-2-3', 'nbo_diff_5-12'): Singular matrix\n",
      "Error evaluating combo ('cross', 'total_dipole_11-12-5', 'total_dipole_1-2-3', 'nbo_diff_3-11'): Singular matrix\n",
      "Error evaluating combo ('cross', 'total_dipole_11-12-5', 'total_dipole_1-2-3', 'hirshfeld_diff_3-5'): Singular matrix\n",
      "Error evaluating combo ('cross', 'total_dipole_11-12-5', 'total_dipole_1-2-3', 'hirshfeld_diff_5-12'): Singular matrix\n",
      "Error evaluating combo ('cross', 'total_dipole_11-12-5', 'total_dipole_1-2-3', 'hirshfeld_diff_3-11'): Singular matrix\n",
      "Error evaluating combo ('cross', 'total_dipole_11-12-5', 'total_dipole_1-2-3', 'B1_4-6'): Singular matrix\n",
      "Error evaluating combo ('cross', 'total_dipole_11-12-5', 'total_dipole_1-2-3', 'B5_4-6'): Singular matrix\n",
      "Error evaluating combo ('cross', 'total_dipole_11-12-5', 'total_dipole_1-2-3', 'L_4-6'): Singular matrix\n",
      "Error evaluating combo ('cross', 'total_dipole_11-12-5', 'total_dipole_1-2-3', 'loc_B5_4-6'): Singular matrix\n",
      "Error evaluating combo ('cross', 'total_dipole_11-12-5', 'total_dipole_1-2-3', 'B1_B5_angle_4-6'): Singular matrix\n",
      "Error evaluating combo ('cross', 'total_dipole_11-12-5', 'total_dipole_1-2-3', 'B1_6-4'): Singular matrix\n",
      "Error evaluating combo ('cross', 'total_dipole_11-12-5', 'total_dipole_1-2-3', 'B5_6-4'): Singular matrix\n",
      "Error evaluating combo ('cross', 'total_dipole_11-12-5', 'total_dipole_1-2-3', 'L_6-4'): Singular matrix\n",
      "Error evaluating combo ('cross', 'total_dipole_11-12-5', 'total_dipole_1-2-3', 'loc_B5_6-4'): Singular matrix\n",
      "Error evaluating combo ('cross', 'total_dipole_11-12-5', 'total_dipole_1-2-3', 'B1_B5_angle_6-4'): Singular matrix\n",
      "Error evaluating combo ('cross', 'total_dipole_11-12-5', 'total_dipole_1-2-3', 'angle_[11, 6, 4]'): Singular matrix\n",
      "Error evaluating combo ('cross', 'total_dipole_11-12-5', 'total_dipole_1-2-3', 'angle_[6, 4, 5]'): Singular matrix\n",
      "Error evaluating combo ('cross', 'total_dipole_11-12-5', 'total_dipole_1-2-3', 'angle_[1, 5, 4]'): Singular matrix\n",
      "Error evaluating combo ('cross', 'total_dipole_11-12-5', 'total_dipole_1-2-3', 'bond_length_11-6'): Singular matrix\n",
      "Error evaluating combo ('cross', 'total_dipole_11-12-5', 'total_dipole_1-2-3', 'bond_length_6-4'): Singular matrix\n",
      "Error evaluating combo ('cross', 'total_dipole_11-12-5', 'total_dipole_1-2-3', 'bond_length_1-5'): Singular matrix\n",
      "Error evaluating combo ('cross', 'total_dipole_11-12-5', 'total_dipole_1-2-3', 'bond_length_22-23'): Singular matrix\n",
      "Error evaluating combo ('cross', 'total_dipole_11-12-5', 'total_dipole_1-2-3', 'aniso'): Singular matrix\n",
      "Error evaluating combo ('cross', 'total_dipole_11-12-5', 'total_dipole_1-2-3', 'iso'): Singular matrix\n",
      "Error evaluating combo ('cross', 'total_dipole_11-12-5', 'total_dipole_1-2-3', 'energy'): Singular matrix\n",
      "Error evaluating combo ('cross', 'total_dipole_11-12-5', 'total_dipole_1-2-3', 'Frequency_Stretch_12_21'): Singular matrix\n",
      "Error evaluating combo ('cross', 'total_dipole_11-12-5', 'total_dipole_1-2-3', 'Amplitude_Stretch_12_21'): Singular matrix\n"
     ]
    },
    {
     "name": "stderr",
     "output_type": "stream",
     "text": [
      "Threshold 0.7 (single-core):   3%|▎         | 39005/1423590 [04:29<2:27:48, 156.12it/s]"
     ]
    },
    {
     "name": "stdout",
     "output_type": "stream",
     "text": [
      "Error evaluating combo ('cross', 'dipole_x_4-5-1', 'total_dipole_4-5-1', 'total_dipole_4-3-2'): Singular matrix\n",
      "Error evaluating combo ('cross', 'dipole_x_4-5-1', 'total_dipole_4-5-1', 'total_dipole_1-2-3'): Singular matrix\n"
     ]
    },
    {
     "name": "stderr",
     "output_type": "stream",
     "text": [
      "Threshold 0.7 (single-core):   3%|▎         | 39222/1423590 [04:30<2:21:06, 163.51it/s]"
     ]
    },
    {
     "name": "stdout",
     "output_type": "stream",
     "text": [
      "Error evaluating combo ('cross', 'dipole_x_4-5-1', 'total_dipole_4-3-2', 'total_dipole_1-2-3'): Singular matrix\n"
     ]
    },
    {
     "name": "stderr",
     "output_type": "stream",
     "text": [
      "Threshold 0.7 (single-core):   3%|▎         | 40661/1423590 [04:39<2:19:09, 165.63it/s]"
     ]
    },
    {
     "name": "stdout",
     "output_type": "stream",
     "text": [
      "Error evaluating combo ('cross', 'dipole_y_4-5-1', 'total_dipole_4-5-1', 'total_dipole_4-3-2'): Singular matrix\n",
      "Error evaluating combo ('cross', 'dipole_y_4-5-1', 'total_dipole_4-5-1', 'total_dipole_1-2-3'): Singular matrix\n"
     ]
    },
    {
     "name": "stderr",
     "output_type": "stream",
     "text": [
      "Threshold 0.7 (single-core):   3%|▎         | 40858/1423590 [04:40<3:23:06, 113.46it/s]"
     ]
    },
    {
     "name": "stdout",
     "output_type": "stream",
     "text": [
      "Error evaluating combo ('cross', 'dipole_y_4-5-1', 'total_dipole_4-3-2', 'total_dipole_1-2-3'): Singular matrix\n"
     ]
    },
    {
     "name": "stderr",
     "output_type": "stream",
     "text": [
      "Threshold 0.7 (single-core):   3%|▎         | 41443/1423590 [04:45<3:30:22, 109.50it/s]"
     ]
    }
   ],
   "source": [
    "csv_path=r'C:\\Users\\edens\\Documents\\GitHub\\lucas_project\\new_feather_substrate\\new_features_set_combined.csv'\n",
    "\n",
    "# csv_path=r'C:\\Users\\edens\\Documents\\GitHub\\lucas_project\\new_update_logs\\added_features_try34.csv'\n",
    "\n",
    "csv_filepaths = {\n",
    "'features_csv_filepath': csv_path,\n",
    "'target_csv_filepath': ''\n",
    "}\n",
    "# ['LS2008','LS1643']\n",
    "# ('B1_B5_angle_4-3', 'L_11-6', 'bond_length_11-12')\n",
    "df=pd.read_csv(csv_path, index_col=0)\n",
    "\n",
    "# df.drop(columns=['Unnamed: 0'], inplace=True, errors='ignore')\n",
    "leave_out = [\n",
    "    \"LS1621\", \"LS1622\", \"LS1630\", \"LS1641\", \"LS1642\", \"LS1643\",\n",
    "    \"LS1661\", \"LS1663\", \"LS1714\", \"LS1715\", \"LS1716\", \"LS1717\",\n",
    "    \"LS1721\", \"LS1723\", \"LS1726\", \"LS1734\", \"LS1736\",\n",
    "    \"LS2000\", \"LS2001\", \"LS2002\", \"LS2003\", \"LS2006\", \"LS2007\", \"LS2008\"\n",
    "]\n",
    "\n",
    "# pick 4 random samples to leave out\n",
    "leave_out = np.random.choice(df.index, size=2, replace=False).tolist()\n",
    "leave_out=['LS1726', 'LS2004', 'LS1695', 'LS1663'] # \n",
    "\n",
    "Regression_model = LinearRegressionModel(csv_filepaths, process_method='one csv', output_name='output', leave_out=leave_out, min_features_num=4, max_features_num=4, metrics=None, return_coefficients=False)\n",
    "\n",
    "features=['B1_B5_angle_25-1', 'loc_B5_1-5', 'cm5_atom_5', 'bond_length_12-14']\n",
    "\n",
    "r=['dipole_z_10-11-12', 'hirshfeld_atom_12']\n",
    "# ('B1_B5_angle_4-3', 'L_11-6', 'bond_length_11-12')\n",
    "# x=Regression_model.check_linear_regression_assumptions()\n",
    "Regression_model.fit_and_evaluate_combinations()\n",
    "# plot.generate_and_display_q2_scatter_plot(Regression_model,r)\n",
    "x=[ 'hirshfeld_atom_4', 'Frequency_Stretch_12_21']"
   ]
  },
  {
   "cell_type": "code",
   "execution_count": 3,
   "metadata": {},
   "outputs": [
    {
     "name": "stderr",
     "output_type": "stream",
     "text": [
      "[autoreload of plot failed: Traceback (most recent call last):\n",
      "  File \"c:\\Users\\edens\\anaconda3\\envs\\labenv\\lib\\site-packages\\IPython\\extensions\\autoreload.py\", line 276, in check\n",
      "    superreload(m, reload, self.old_objects)\n",
      "  File \"c:\\Users\\edens\\anaconda3\\envs\\labenv\\lib\\site-packages\\IPython\\extensions\\autoreload.py\", line 475, in superreload\n",
      "    module = reload(module)\n",
      "  File \"c:\\Users\\edens\\anaconda3\\envs\\labenv\\lib\\importlib\\__init__.py\", line 168, in reload\n",
      "    raise ModuleNotFoundError(f\"spec not found for the module {name!r}\", name=name)\n",
      "ModuleNotFoundError: spec not found for the module 'plot'\n",
      "]\n"
     ]
    },
    {
     "name": "stdout",
     "output_type": "stream",
     "text": [
      "Starting generate_and_display_q2_scatter_plot...\n",
      "Extracting features from model.features_df...\n",
      "Using single train/test split with test size 0.1 and random state 42\n",
      "Index 0: Actual = -1.000, Predicted = -0.857, % Error = -14.35%\n",
      "Index 1: Actual = 0.190, Predicted = -0.135, % Error = -171.27%\n",
      "Index 2: Actual = -0.570, Predicted = -0.356, % Error = -37.54%\n",
      "Index 3: Actual = -0.680, Predicted = -0.440, % Error = -35.31%\n",
      "Index 4: Actual = -1.130, Predicted = -0.945, % Error = -16.41%\n",
      "Index 5: Actual = -0.650, Predicted = -0.727, % Error = 11.90%\n",
      "Index 6: Actual = -0.240, Predicted = -0.502, % Error = 109.34%\n",
      "Index 7: Actual = -1.740, Predicted = -1.951, % Error = 12.10%\n",
      "Index 8: Actual = -1.180, Predicted = -1.031, % Error = -12.63%\n",
      "Index 9: Actual = -1.530, Predicted = -1.711, % Error = 11.80%\n",
      "Index 10: Actual = -1.740, Predicted = -1.545, % Error = -11.18%\n",
      "Index 11: Actual = -0.590, Predicted = -0.887, % Error = 50.35%\n",
      "Index 12: Actual = -1.050, Predicted = -0.932, % Error = -11.21%\n",
      "Index 13: Actual = -1.000, Predicted = -0.965, % Error = -3.53%\n",
      "Index 14: Actual = -1.130, Predicted = -0.995, % Error = -11.92%\n",
      "Index 15: Actual = -0.080, Predicted = 0.004, % Error = -105.19%\n",
      "Index 16: Actual = 0.170, Predicted = 0.025, % Error = -85.33%\n",
      "Training Set Results: {'r2': 0.889914949986873, 'Q2': 0.8899149499868731, 'MAE': 0.17628638230828042, 'RMSD': 0.19186052213867155}\n",
      "Calculating cross-validation metrics for 3-fold CV...\n",
      "Using Repeated K-Fold cross-validation with 3 splits and 100 iterations...\n",
      "3-fold CV metrics: Q2: 0.7057045931699291, MAE: 0.2928365124088668, RMSD: 0.35397553734020953\n",
      "Calculating cross-validation metrics for 5-fold CV...\n",
      "Using Repeated K-Fold cross-validation with 5 splits and 100 iterations...\n",
      "5-fold CV metrics: Q2: 0.7560348628732434, MAE: 0.2624623227044327, RMSD: 0.2989459461954608\n",
      "Calculating cross-validation metrics for LOOCV...\n",
      "Using Leave-One-Out cross-validation (LOO)...\n",
      "LOOCV metrics: Q2: 0.7836866317448838, MAE: 0.25187898860763597, RMSD: 0.2744162356836743\n",
      "Calculating left-out samples prediction and metrics...\n",
      "Left-out samples prediction completed. (array([-0.43115825, -0.57514979, -1.57647996, -0.90694857, -1.86803328]), array([-0.21884175,  0.15514979,  0.12647996, -0.12305143, -0.30196672]))\n",
      "Successfully predicted left-out samples: (array([-0.43115825, -0.57514979, -1.57647996, -0.90694857, -1.86803328]), array([-0.21884175,  0.15514979,  0.12647996, -0.12305143, -0.30196672]))\n",
      "                  Molecule  Actual  Predicted  Error in %\n",
      "0   FL_lig_3_str_optimized   -0.65  -0.431158   33.667961\n",
      "1  FL_lig_22_str_optimized   -0.42  -0.575150   36.940427\n",
      "2  FL_lig_16_str_optimized   -1.45  -1.576480    8.722756\n",
      "3  FL_lig_15_str_optimized   -1.03  -0.906949   11.946741\n",
      "4  FL_lig_12_str_optimized   -2.17  -1.868033   13.915517\n",
      "R² for left-out predictions: 0.8992\n",
      "MAE for left-out predictions: 0.1851\n",
      "Folds DataFrame prepared:\n",
      "   Q2_3_Fold     MAE_3    RMSD_3  Q2_5_Fold     MAE_5    RMSD_5  Q2_LOOCV  \\\n",
      "0   0.705705  0.292837  0.353976   0.756035  0.262462  0.298946  0.783687   \n",
      "\n",
      "   MAE_LOOCV  RMSD_LOOCV  \n",
      "0   0.251879    0.274416  \n",
      "Calculating fixed margin lines and axis bounds…\n",
      "\n",
      "\n",
      "\n",
      "\n",
      "VIF Table\n",
      "\n",
      "---\n",
      "\n",
      "| variable               |     VIF |\n",
      "|:-----------------------|--------:|\n",
      "| Frequency_Stretch_1_21 | 5.12165 |\n",
      "| hirshfeld_atom_1       | 2.16627 |\n",
      "| B1_6-7                 | 2.70985 |\n",
      "| bond_length_5-6        | 1.41238 |\n",
      "Calculating R^2 value...\n",
      "R^2 value: 0.8899, MAE: 0.1763\n",
      "R^2 calculated: 0.8899149499868729\n",
      "Retrieving coefficient estimates...\n",
      "Coefficient estimates retrieved:\n",
      "                        Estimate  Std. Error    t value       p value\n",
      "(Intercept)            -0.884202    0.065477 -13.504112  1.283990e-08\n",
      "Frequency_Stretch_1_21  0.237206    0.181701   1.305476  2.162060e-01\n",
      "hirshfeld_atom_1        0.428966    0.081367   5.271971  1.971721e-04\n",
      "B1_6-7                 -0.214863    0.097038  -2.214218  4.692357e-02\n",
      "bond_length_5-6        -0.441895    0.071904  -6.145649  4.978984e-05\n",
      "Calling generate_q2_scatter_plot with computed values...\n",
      "Plot generated successfully.\n",
      "Finished generate_and_display_q2_scatter_plot.\n"
     ]
    },
    {
     "data": {
      "image/png": "[encoded data removed]",
      "text/plain": [
       "<Figure size 1600x600 with 1 Axes>"
      ]
     },
     "metadata": {},
     "output_type": "display_data"
    }
   ],
   "source": [
    "features_sterimol =['Frequency_Stretch_1_21','hirshfeld_atom_1','B1_6-7','bond_length_5-6']\n",
    "\n",
    "plot.generate_and_display_q2_scatter_plot(Regression_model,features_sterimol)"
   ]
  },
  {
   "cell_type": "code",
   "execution_count": 1,
   "metadata": {},
   "outputs": [
    {
     "ename": "NameError",
     "evalue": "name 'mols' is not defined",
     "output_type": "error",
     "traceback": [
      "\u001b[1;31m---------------------------------------------------------------------------\u001b[0m",
      "\u001b[1;31mNameError\u001b[0m                                 Traceback (most recent call last)",
      "Cell \u001b[1;32mIn[1], line 1\u001b[0m\n\u001b[1;32m----> 1\u001b[0m sterimol_example \u001b[38;5;241m=\u001b[39m \u001b[43mmols\u001b[49m\u001b[38;5;241m.\u001b[39mmolecules[\u001b[38;5;241m0\u001b[39m]\u001b[38;5;241m.\u001b[39mget_sterimol([\u001b[38;5;241m4\u001b[39m,\u001b[38;5;241m1\u001b[39m])\n",
      "\u001b[1;31mNameError\u001b[0m: name 'mols' is not defined"
     ]
    }
   ],
   "source": [
    "sterimol_example = mols.molecules[0].get_sterimol([4,1])"
   ]
  },
  {
   "cell_type": "markdown",
   "metadata": {},
   "source": []
  }
 ],
 "metadata": {
  "kernelspec": {
   "display_name": "labenv",
   "language": "python",
   "name": "python3"
  },
  "language_info": {
   "codemirror_mode": {
    "name": "ipython",
    "version": 3
   },
   "file_extension": ".py",
   "mimetype": "text/x-python",
   "name": "python",
   "nbconvert_exporter": "python",
   "pygments_lexer": "ipython3",
   "version": "3.9.18"
  }
 },
 "nbformat": 4,
 "nbformat_minor": 2
}
