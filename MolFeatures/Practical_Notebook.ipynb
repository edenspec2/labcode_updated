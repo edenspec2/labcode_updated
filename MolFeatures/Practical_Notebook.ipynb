{
 "cells": [
  {
   "cell_type": "markdown",
   "metadata": {},
   "source": [
    "This Notebook will go over Feature extraction , some Visualization and Modeling\n",
    "lets start with imports and loading the main class Molecules that works on a directory with feather files,\n",
    "we will use the example in the package.\n",
    "Change ROOT_DIR accordingly.\n"
   ]
  },
  {
   "cell_type": "code",
   "execution_count": null,
   "metadata": {},
   "outputs": [
    {
     "name": "stdout",
     "output_type": "stream",
     "text": [
      "Molecules Loaded: ['FL_lig_4_str_optimized.feather', 'FL_lig_5_str_optimized.feather', 'FL_lig_6_str_optimized.feather', 'FL_lig_7_str_optimized.feather'] Failed Molecules: []\n"
     ]
    }
   ],
   "source": [
    "%reset -f\n",
    "%reload_ext autoreload\n",
    "%autoreload 2\n",
    "\n",
    "import os\n",
    "import sys\n",
    "import importlib\n",
    "import numpy as np\n",
    "import pandas as pd\n",
    "\n",
    "# === Setup ===\n",
    "ROOT_DIR = r'C:\\Users\\edens\\Documents\\GitHub\\LabCode\\MolFeatures'\n",
    "sys.path.append(ROOT_DIR)\n",
    "sys.path.append(os.path.join(ROOT_DIR, 'M3_modeler'))\n",
    "sys.path.append(os.path.join(ROOT_DIR, 'M2_data_extractor'))\n",
    "sys.path.append(os.path.join(ROOT_DIR, 'utils'))\n",
    "\n",
    "os.chdir(ROOT_DIR)  # Set working directory\n",
    "\n",
    "# === Clear old module caches ===\n",
    "for module in ['data_extractor', 'feather_extractor', 'gaussian_handler', 'help_functions', 'modeling', 'plot']:\n",
    "    sys.modules.pop(module, None)\n",
    "\n",
    "# === Safe Imports ===\n",
    "try:\n",
    "    from data_extractor import Molecules, extract_connectivity\n",
    "    from feather_extractor import logs_to_feather\n",
    "    import gaussian_handler\n",
    "    from gaussian_handler import feather_file_handler\n",
    "    from help_functions import dict_to_horizontal_df, get_df_from_file\n",
    "    import help_functions\n",
    "    import visualize\n",
    "    from modeling import (\n",
    "        ClassificationModel,\n",
    "        LinearRegressionModel,\n",
    "        fit_and_evaluate_single_combination_regression,\n",
    "        fit_and_evaluate_single_combination_classification\n",
    "    )\n",
    "    import plot\n",
    "except ModuleNotFoundError as e:\n",
    "    print(f\"Module import failed: {e}\")\n",
    "\n",
    "# === Config ===\n",
    "pd.set_option('display.max_columns', None)\n",
    "\n",
    "# === Load molecular data ===\n",
    "feather_path = r'C:\\Users\\edens\\Documents\\GitHub\\possible_dataset_info\\Lutz\\Reunmbered_Feather_Files'\n",
    "mols = Molecules(feather_path)\n"
   ]
  },
  {
   "cell_type": "markdown",
   "metadata": {},
   "source": [
    "Great we can see the files Loaded ! \n",
    "lets print the methods for the mols object we created to see what wee can use."
   ]
  },
  {
   "cell_type": "code",
   "execution_count": 2,
   "metadata": {},
   "outputs": [
    {
     "name": "stdout",
     "output_type": "stream",
     "text": [
      "['export_all_xyz', 'extract_all_dfs', 'extract_all_xyz', 'failed_molecules', 'filter_molecules', 'get_bend_vibration_dict', 'get_bond_angle_dict', 'get_bond_length_dict', 'get_charge_df_dict', 'get_charge_diff_df_dict', 'get_dipole_dict', 'get_molecules_comp_set_app', 'get_npa_dict', 'get_ring_vibration_dict', 'get_sterimol_dict', 'get_stretch_vibration_dict', 'molecules', 'molecules_names', 'molecules_path', 'old_molecules', 'old_molecules_names', 'success_molecules', 'visualize_molecules', 'visualize_smallest_molecule', 'visualize_smallest_molecule_morfeus']\n"
     ]
    }
   ],
   "source": [
    "methods=[method for method in dir(mols) if not method.startswith('_')]\n",
    "print(methods)"
   ]
  },
  {
   "cell_type": "code",
   "execution_count": null,
   "metadata": {},
   "outputs": [],
   "source": [
    "mols.get_dipole_dict([])"
   ]
  },
  {
   "cell_type": "markdown",
   "metadata": {},
   "source": [
    "Great now lets use visualize_molecules to see the first molecule of the set.\n"
   ]
  },
  {
   "cell_type": "code",
   "execution_count": null,
   "metadata": {},
   "outputs": [
    {
     "name": "stdout",
     "output_type": "stream",
     "text": [
      "🔥 sterimol_trace failed: TypeError(\"'NoneType' object is not subscriptable\")\n"
     ]
    },
    {
     "data": {
      "application/vnd.plotly.v1+json": {
       "config": {
        "plotlyServerURL": "https://plot.ly"
       },
       "data": [
        {
         "marker": {
          "color": [
           "black",
           "blue",
           "red",
           "black",
           "white",
           "white",
           "black",
           "black",
           "black",
           "black",
           "white",
           "black",
           "white",
           "black",
           "white",
           "white",
           "white",
           "white",
           "black",
           "black",
           "white",
           "black",
           "white",
           "white",
           "white",
           "white",
           "black",
           "red",
           "red"
          ],
          "line": {
           "color": "lightgray",
           "width": 2
          },
          "size": 5
         },
         "mode": "markers",
         "name": "atoms",
         "text": [
          "C",
          "N",
          "O",
          "C",
          "H",
          "H",
          "C",
          "C",
          "C",
          "C",
          "H",
          "C",
          "H",
          "C",
          "H",
          "H",
          "H",
          "H",
          "C",
          "C",
          "H",
          "C",
          "H",
          "H",
          "H",
          "H",
          "C",
          "O",
          "O"
         ],
         "type": "scatter3d",
         "x": [
          0.32504,
          0.500105,
          1.260416,
          -1.102969,
          -1.130758,
          -1.254182,
          -2.172048,
          -3.193919,
          -2.14059,
          -4.174964,
          -3.225424,
          -3.116365,
          -1.334255,
          -4.138412,
          -4.966295,
          -3.079279,
          -4.901075,
          -0.320325,
          1.768496,
          2.955549,
          1.629735,
          4.12418,
          2.849329,
          3.06453,
          4.548329,
          4.918444,
          2.251131,
          3.58737,
          1.575928
         ],
         "y": [
          -1.121856,
          -0.485258,
          -1.394239,
          -1.513826,
          -1.554014,
          -2.533696,
          -0.59954,
          -1.079854,
          0.76137,
          -0.224286,
          -2.134057,
          1.616421,
          1.150401,
          1.124823,
          -0.614352,
          2.669162,
          1.792921,
          -0.113936,
          0.122313,
          -0.810293,
          0.772206,
          0.059092,
          -1.6836,
          -1.124872,
          0.651299,
          -0.505756,
          1.033097,
          0.965515,
          1.731266
         ],
         "z": [
          -0.576925,
          0.617607,
          -1.298911,
          -0.927529,
          -2.016785,
          -0.566575,
          -0.390058,
          0.42158,
          -0.699722,
          0.908422,
          0.671173,
          -0.212454,
          -1.313011,
          0.591587,
          1.535413,
          -0.460708,
          0.969832,
          1.068388,
          0.917469,
          1.138773,
          1.784731,
          0.671828,
          0.500558,
          2.17418,
          1.48517,
          0.190854,
          -0.220411,
          -0.302594,
          -0.908724
         ]
        },
        {
         "hoverinfo": "none",
         "line": {
          "color": "black",
          "width": 3
         },
         "mode": "lines",
         "name": "bonds",
         "type": "scatter3d",
         "x": [
          0.32504,
          0.500105,
          null,
          -1.102969,
          -1.130758,
          null,
          -2.172048,
          -3.193919,
          null,
          1.768496,
          2.955549,
          null,
          2.251131,
          3.58737,
          null,
          0.32504,
          1.260416,
          null,
          -1.102969,
          -1.254182,
          null,
          -2.14059,
          -2.172048,
          null,
          -4.174964,
          -3.193919,
          null,
          -3.116365,
          -4.138412,
          null,
          1.768496,
          1.629735,
          null,
          2.955549,
          4.12418,
          null,
          2.251131,
          1.575928,
          null,
          0.32504,
          -1.102969,
          null,
          -1.102969,
          -2.172048,
          null,
          -3.225424,
          -3.193919,
          null,
          -2.14059,
          -3.116365,
          null,
          -4.901075,
          -4.138412,
          null,
          2.955549,
          2.849329,
          null,
          4.548329,
          4.12418,
          null,
          -2.14059,
          -1.334255,
          null,
          -4.174964,
          -4.138412,
          null,
          -3.116365,
          -3.079279,
          null,
          2.955549,
          3.06453,
          null,
          4.918444,
          4.12418,
          null,
          -4.174964,
          -4.966295,
          null,
          3.58737,
          4.12418,
          null,
          1.768496,
          2.251131,
          null,
          0.500105,
          1.768496,
          null,
          -0.320325,
          0.500105,
          null
         ],
         "y": [
          -1.121856,
          -0.485258,
          null,
          -1.513826,
          -1.554014,
          null,
          -0.59954,
          -1.079854,
          null,
          0.122313,
          -0.810293,
          null,
          1.033097,
          0.965515,
          null,
          -1.121856,
          -1.394239,
          null,
          -1.513826,
          -2.533696,
          null,
          0.76137,
          -0.59954,
          null,
          -0.224286,
          -1.079854,
          null,
          1.616421,
          1.124823,
          null,
          0.122313,
          0.772206,
          null,
          -0.810293,
          0.059092,
          null,
          1.033097,
          1.731266,
          null,
          -1.121856,
          -1.513826,
          null,
          -1.513826,
          -0.59954,
          null,
          -2.134057,
          -1.079854,
          null,
          0.76137,
          1.616421,
          null,
          1.792921,
          1.124823,
          null,
          -0.810293,
          -1.6836,
          null,
          0.651299,
          0.059092,
          null,
          0.76137,
          1.150401,
          null,
          -0.224286,
          1.124823,
          null,
          1.616421,
          2.669162,
          null,
          -0.810293,
          -1.124872,
          null,
          -0.505756,
          0.059092,
          null,
          -0.224286,
          -0.614352,
          null,
          0.965515,
          0.059092,
          null,
          0.122313,
          1.033097,
          null,
          -0.485258,
          0.122313,
          null,
          -0.113936,
          -0.485258,
          null
         ],
         "z": [
          -0.576925,
          0.617607,
          null,
          -0.927529,
          -2.016785,
          null,
          -0.390058,
          0.42158,
          null,
          0.917469,
          1.138773,
          null,
          -0.220411,
          -0.302594,
          null,
          -0.576925,
          -1.298911,
          null,
          -0.927529,
          -0.566575,
          null,
          -0.699722,
          -0.390058,
          null,
          0.908422,
          0.42158,
          null,
          -0.212454,
          0.591587,
          null,
          0.917469,
          1.784731,
          null,
          1.138773,
          0.671828,
          null,
          -0.220411,
          -0.908724,
          null,
          -0.576925,
          -0.927529,
          null,
          -0.927529,
          -0.390058,
          null,
          0.671173,
          0.42158,
          null,
          -0.699722,
          -0.212454,
          null,
          0.969832,
          0.591587,
          null,
          1.138773,
          0.500558,
          null,
          1.48517,
          0.671828,
          null,
          -0.699722,
          -1.313011,
          null,
          0.908422,
          0.591587,
          null,
          -0.212454,
          -0.460708,
          null,
          1.138773,
          2.17418,
          null,
          0.190854,
          0.671828,
          null,
          0.908422,
          1.535413,
          null,
          -0.302594,
          0.671828,
          null,
          0.917469,
          -0.220411,
          null,
          0.617607,
          0.917469,
          null,
          1.068388,
          0.617607,
          null
         ]
        },
        {
         "line": {
          "color": "red",
          "width": 3
         },
         "mode": "lines",
         "showlegend": false,
         "type": "scatter3d",
         "visible": false,
         "x": [
          0,
          -1.1425999999999998
         ],
         "y": [
          0,
          0
         ],
         "z": [
          0,
          0
         ]
        },
        {
         "anchor": "tip",
         "colorscale": [
          [
           0,
           "red"
          ],
          [
           1,
           "red"
          ]
         ],
         "showlegend": false,
         "showscale": false,
         "sizemode": "absolute",
         "sizeref": 0.06213,
         "type": "cone",
         "u": [
          -1.2426
         ],
         "v": [
          0
         ],
         "visible": false,
         "w": [
          0
         ],
         "x": [
          -1.2426
         ],
         "y": [
          0
         ],
         "z": [
          0
         ]
        },
        {
         "line": {
          "color": "green",
          "width": 3
         },
         "mode": "lines",
         "showlegend": false,
         "type": "scatter3d",
         "visible": false,
         "x": [
          0,
          0
         ],
         "y": [
          0,
          -1.3114
         ],
         "z": [
          0,
          0
         ]
        },
        {
         "anchor": "tip",
         "colorscale": [
          [
           0,
           "green"
          ],
          [
           1,
           "green"
          ]
         ],
         "showlegend": false,
         "showscale": false,
         "sizemode": "absolute",
         "sizeref": 0.07057000000000001,
         "type": "cone",
         "u": [
          0
         ],
         "v": [
          -1.4114
         ],
         "visible": false,
         "w": [
          0
         ],
         "x": [
          0
         ],
         "y": [
          -1.4114
         ],
         "z": [
          0
         ]
        },
        {
         "line": {
          "color": "blue",
          "width": 3
         },
         "mode": "lines",
         "showlegend": false,
         "type": "scatter3d",
         "visible": false,
         "x": [
          0,
          0
         ],
         "y": [
          0,
          0
         ],
         "z": [
          0,
          4.868200000000001
         ]
        },
        {
         "anchor": "tip",
         "colorscale": [
          [
           0,
           "blue"
          ],
          [
           1,
           "blue"
          ]
         ],
         "showlegend": false,
         "showscale": false,
         "sizemode": "absolute",
         "sizeref": 0.24841000000000002,
         "type": "cone",
         "u": [
          0
         ],
         "v": [
          0
         ],
         "visible": false,
         "w": [
          4.9682
         ],
         "x": [
          0
         ],
         "y": [
          0
         ],
         "z": [
          4.9682
         ]
        }
       ],
       "layout": {
        "margin": {
         "b": 0,
         "l": 0,
         "r": 0,
         "t": 0
        },
        "scene": {
         "annotations": [
          {
           "font": {
            "color": "blue"
           },
           "showarrow": false,
           "text": "1",
           "x": 0.32504,
           "y": -1.121856,
           "yshift": 15,
           "z": -0.576925
          },
          {
           "font": {
            "color": "blue"
           },
           "showarrow": false,
           "text": "2",
           "x": 0.500105,
           "y": -0.485258,
           "yshift": 15,
           "z": 0.617607
          },
          {
           "font": {
            "color": "blue"
           },
           "showarrow": false,
           "text": "3",
           "x": 1.260416,
           "y": -1.394239,
           "yshift": 15,
           "z": -1.298911
          },
          {
           "font": {
            "color": "blue"
           },
           "showarrow": false,
           "text": "4",
           "x": -1.102969,
           "y": -1.513826,
           "yshift": 15,
           "z": -0.927529
          },
          {
           "font": {
            "color": "blue"
           },
           "showarrow": false,
           "text": "5",
           "x": -1.130758,
           "y": -1.554014,
           "yshift": 15,
           "z": -2.016785
          },
          {
           "font": {
            "color": "blue"
           },
           "showarrow": false,
           "text": "6",
           "x": -1.254182,
           "y": -2.533696,
           "yshift": 15,
           "z": -0.566575
          },
          {
           "font": {
            "color": "blue"
           },
           "showarrow": false,
           "text": "7",
           "x": -2.172048,
           "y": -0.59954,
           "yshift": 15,
           "z": -0.390058
          },
          {
           "font": {
            "color": "blue"
           },
           "showarrow": false,
           "text": "8",
           "x": -3.193919,
           "y": -1.079854,
           "yshift": 15,
           "z": 0.42158
          },
          {
           "font": {
            "color": "blue"
           },
           "showarrow": false,
           "text": "9",
           "x": -2.14059,
           "y": 0.76137,
           "yshift": 15,
           "z": -0.699722
          },
          {
           "font": {
            "color": "blue"
           },
           "showarrow": false,
           "text": "10",
           "x": -4.174964,
           "y": -0.224286,
           "yshift": 15,
           "z": 0.908422
          },
          {
           "font": {
            "color": "blue"
           },
           "showarrow": false,
           "text": "11",
           "x": -3.225424,
           "y": -2.134057,
           "yshift": 15,
           "z": 0.671173
          },
          {
           "font": {
            "color": "blue"
           },
           "showarrow": false,
           "text": "12",
           "x": -3.116365,
           "y": 1.616421,
           "yshift": 15,
           "z": -0.212454
          },
          {
           "font": {
            "color": "blue"
           },
           "showarrow": false,
           "text": "13",
           "x": -1.334255,
           "y": 1.150401,
           "yshift": 15,
           "z": -1.313011
          },
          {
           "font": {
            "color": "blue"
           },
           "showarrow": false,
           "text": "14",
           "x": -4.138412,
           "y": 1.124823,
           "yshift": 15,
           "z": 0.591587
          },
          {
           "font": {
            "color": "blue"
           },
           "showarrow": false,
           "text": "15",
           "x": -4.966295,
           "y": -0.614352,
           "yshift": 15,
           "z": 1.535413
          },
          {
           "font": {
            "color": "blue"
           },
           "showarrow": false,
           "text": "16",
           "x": -3.079279,
           "y": 2.669162,
           "yshift": 15,
           "z": -0.460708
          },
          {
           "font": {
            "color": "blue"
           },
           "showarrow": false,
           "text": "17",
           "x": -4.901075,
           "y": 1.792921,
           "yshift": 15,
           "z": 0.969832
          },
          {
           "font": {
            "color": "blue"
           },
           "showarrow": false,
           "text": "18",
           "x": -0.320325,
           "y": -0.113936,
           "yshift": 15,
           "z": 1.068388
          },
          {
           "font": {
            "color": "blue"
           },
           "showarrow": false,
           "text": "19",
           "x": 1.768496,
           "y": 0.122313,
           "yshift": 15,
           "z": 0.917469
          },
          {
           "font": {
            "color": "blue"
           },
           "showarrow": false,
           "text": "20",
           "x": 2.955549,
           "y": -0.810293,
           "yshift": 15,
           "z": 1.138773
          },
          {
           "font": {
            "color": "blue"
           },
           "showarrow": false,
           "text": "21",
           "x": 1.629735,
           "y": 0.772206,
           "yshift": 15,
           "z": 1.784731
          },
          {
           "font": {
            "color": "blue"
           },
           "showarrow": false,
           "text": "22",
           "x": 4.12418,
           "y": 0.059092,
           "yshift": 15,
           "z": 0.671828
          },
          {
           "font": {
            "color": "blue"
           },
           "showarrow": false,
           "text": "23",
           "x": 2.849329,
           "y": -1.6836,
           "yshift": 15,
           "z": 0.500558
          },
          {
           "font": {
            "color": "blue"
           },
           "showarrow": false,
           "text": "24",
           "x": 3.06453,
           "y": -1.124872,
           "yshift": 15,
           "z": 2.17418
          },
          {
           "font": {
            "color": "blue"
           },
           "showarrow": false,
           "text": "25",
           "x": 4.548329,
           "y": 0.651299,
           "yshift": 15,
           "z": 1.48517
          },
          {
           "font": {
            "color": "blue"
           },
           "showarrow": false,
           "text": "26",
           "x": 4.918444,
           "y": -0.505756,
           "yshift": 15,
           "z": 0.190854
          },
          {
           "font": {
            "color": "blue"
           },
           "showarrow": false,
           "text": "27",
           "x": 2.251131,
           "y": 1.033097,
           "yshift": 15,
           "z": -0.220411
          },
          {
           "font": {
            "color": "blue"
           },
           "showarrow": false,
           "text": "28",
           "x": 3.58737,
           "y": 0.965515,
           "yshift": 15,
           "z": -0.302594
          },
          {
           "font": {
            "color": "blue"
           },
           "showarrow": false,
           "text": "29",
           "x": 1.575928,
           "y": 1.731266,
           "yshift": 15,
           "z": -0.908724
          }
         ],
         "xaxis": {
          "showbackground": false,
          "showgrid": false,
          "showticklabels": false,
          "title": {
           "font": {
            "color": "white"
           }
          },
          "zeroline": false
         },
         "yaxis": {
          "showbackground": false,
          "showgrid": false,
          "showticklabels": false,
          "title": {
           "font": {
            "color": "white"
           }
          },
          "zeroline": false
         },
         "zaxis": {
          "showbackground": false,
          "showgrid": false,
          "showticklabels": false,
          "title": {
           "font": {
            "color": "white"
           }
          },
          "zeroline": false
         }
        },
        "showlegend": false,
        "template": {
         "data": {
          "bar": [
           {
            "error_x": {
             "color": "#2a3f5f"
            },
            "error_y": {
             "color": "#2a3f5f"
            },
            "marker": {
             "line": {
              "color": "#E5ECF6",
              "width": 0.5
             },
             "pattern": {
              "fillmode": "overlay",
              "size": 10,
              "solidity": 0.2
             }
            },
            "type": "bar"
           }
          ],
          "barpolar": [
           {
            "marker": {
             "line": {
              "color": "#E5ECF6",
              "width": 0.5
             },
             "pattern": {
              "fillmode": "overlay",
              "size": 10,
              "solidity": 0.2
             }
            },
            "type": "barpolar"
           }
          ],
          "carpet": [
           {
            "aaxis": {
             "endlinecolor": "#2a3f5f",
             "gridcolor": "white",
             "linecolor": "white",
             "minorgridcolor": "white",
             "startlinecolor": "#2a3f5f"
            },
            "baxis": {
             "endlinecolor": "#2a3f5f",
             "gridcolor": "white",
             "linecolor": "white",
             "minorgridcolor": "white",
             "startlinecolor": "#2a3f5f"
            },
            "type": "carpet"
           }
          ],
          "choropleth": [
           {
            "colorbar": {
             "outlinewidth": 0,
             "ticks": ""
            },
            "type": "choropleth"
           }
          ],
          "contour": [
           {
            "colorbar": {
             "outlinewidth": 0,
             "ticks": ""
            },
            "colorscale": [
             [
              0,
              "#0d0887"
             ],
             [
              0.1111111111111111,
              "#46039f"
             ],
             [
              0.2222222222222222,
              "#7201a8"
             ],
             [
              0.3333333333333333,
              "#9c179e"
             ],
             [
              0.4444444444444444,
              "#bd3786"
             ],
             [
              0.5555555555555556,
              "#d8576b"
             ],
             [
              0.6666666666666666,
              "#ed7953"
             ],
             [
              0.7777777777777778,
              "#fb9f3a"
             ],
             [
              0.8888888888888888,
              "#fdca26"
             ],
             [
              1,
              "#f0f921"
             ]
            ],
            "type": "contour"
           }
          ],
          "contourcarpet": [
           {
            "colorbar": {
             "outlinewidth": 0,
             "ticks": ""
            },
            "type": "contourcarpet"
           }
          ],
          "heatmap": [
           {
            "colorbar": {
             "outlinewidth": 0,
             "ticks": ""
            },
            "colorscale": [
             [
              0,
              "#0d0887"
             ],
             [
              0.1111111111111111,
              "#46039f"
             ],
             [
              0.2222222222222222,
              "#7201a8"
             ],
             [
              0.3333333333333333,
              "#9c179e"
             ],
             [
              0.4444444444444444,
              "#bd3786"
             ],
             [
              0.5555555555555556,
              "#d8576b"
             ],
             [
              0.6666666666666666,
              "#ed7953"
             ],
             [
              0.7777777777777778,
              "#fb9f3a"
             ],
             [
              0.8888888888888888,
              "#fdca26"
             ],
             [
              1,
              "#f0f921"
             ]
            ],
            "type": "heatmap"
           }
          ],
          "heatmapgl": [
           {
            "colorbar": {
             "outlinewidth": 0,
             "ticks": ""
            },
            "colorscale": [
             [
              0,
              "#0d0887"
             ],
             [
              0.1111111111111111,
              "#46039f"
             ],
             [
              0.2222222222222222,
              "#7201a8"
             ],
             [
              0.3333333333333333,
              "#9c179e"
             ],
             [
              0.4444444444444444,
              "#bd3786"
             ],
             [
              0.5555555555555556,
              "#d8576b"
             ],
             [
              0.6666666666666666,
              "#ed7953"
             ],
             [
              0.7777777777777778,
              "#fb9f3a"
             ],
             [
              0.8888888888888888,
              "#fdca26"
             ],
             [
              1,
              "#f0f921"
             ]
            ],
            "type": "heatmapgl"
           }
          ],
          "histogram": [
           {
            "marker": {
             "pattern": {
              "fillmode": "overlay",
              "size": 10,
              "solidity": 0.2
             }
            },
            "type": "histogram"
           }
          ],
          "histogram2d": [
           {
            "colorbar": {
             "outlinewidth": 0,
             "ticks": ""
            },
            "colorscale": [
             [
              0,
              "#0d0887"
             ],
             [
              0.1111111111111111,
              "#46039f"
             ],
             [
              0.2222222222222222,
              "#7201a8"
             ],
             [
              0.3333333333333333,
              "#9c179e"
             ],
             [
              0.4444444444444444,
              "#bd3786"
             ],
             [
              0.5555555555555556,
              "#d8576b"
             ],
             [
              0.6666666666666666,
              "#ed7953"
             ],
             [
              0.7777777777777778,
              "#fb9f3a"
             ],
             [
              0.8888888888888888,
              "#fdca26"
             ],
             [
              1,
              "#f0f921"
             ]
            ],
            "type": "histogram2d"
           }
          ],
          "histogram2dcontour": [
           {
            "colorbar": {
             "outlinewidth": 0,
             "ticks": ""
            },
            "colorscale": [
             [
              0,
              "#0d0887"
             ],
             [
              0.1111111111111111,
              "#46039f"
             ],
             [
              0.2222222222222222,
              "#7201a8"
             ],
             [
              0.3333333333333333,
              "#9c179e"
             ],
             [
              0.4444444444444444,
              "#bd3786"
             ],
             [
              0.5555555555555556,
              "#d8576b"
             ],
             [
              0.6666666666666666,
              "#ed7953"
             ],
             [
              0.7777777777777778,
              "#fb9f3a"
             ],
             [
              0.8888888888888888,
              "#fdca26"
             ],
             [
              1,
              "#f0f921"
             ]
            ],
            "type": "histogram2dcontour"
           }
          ],
          "mesh3d": [
           {
            "colorbar": {
             "outlinewidth": 0,
             "ticks": ""
            },
            "type": "mesh3d"
           }
          ],
          "parcoords": [
           {
            "line": {
             "colorbar": {
              "outlinewidth": 0,
              "ticks": ""
             }
            },
            "type": "parcoords"
           }
          ],
          "pie": [
           {
            "automargin": true,
            "type": "pie"
           }
          ],
          "scatter": [
           {
            "fillpattern": {
             "fillmode": "overlay",
             "size": 10,
             "solidity": 0.2
            },
            "type": "scatter"
           }
          ],
          "scatter3d": [
           {
            "line": {
             "colorbar": {
              "outlinewidth": 0,
              "ticks": ""
             }
            },
            "marker": {
             "colorbar": {
              "outlinewidth": 0,
              "ticks": ""
             }
            },
            "type": "scatter3d"
           }
          ],
          "scattercarpet": [
           {
            "marker": {
             "colorbar": {
              "outlinewidth": 0,
              "ticks": ""
             }
            },
            "type": "scattercarpet"
           }
          ],
          "scattergeo": [
           {
            "marker": {
             "colorbar": {
              "outlinewidth": 0,
              "ticks": ""
             }
            },
            "type": "scattergeo"
           }
          ],
          "scattergl": [
           {
            "marker": {
             "colorbar": {
              "outlinewidth": 0,
              "ticks": ""
             }
            },
            "type": "scattergl"
           }
          ],
          "scattermapbox": [
           {
            "marker": {
             "colorbar": {
              "outlinewidth": 0,
              "ticks": ""
             }
            },
            "type": "scattermapbox"
           }
          ],
          "scatterpolar": [
           {
            "marker": {
             "colorbar": {
              "outlinewidth": 0,
              "ticks": ""
             }
            },
            "type": "scatterpolar"
           }
          ],
          "scatterpolargl": [
           {
            "marker": {
             "colorbar": {
              "outlinewidth": 0,
              "ticks": ""
             }
            },
            "type": "scatterpolargl"
           }
          ],
          "scatterternary": [
           {
            "marker": {
             "colorbar": {
              "outlinewidth": 0,
              "ticks": ""
             }
            },
            "type": "scatterternary"
           }
          ],
          "surface": [
           {
            "colorbar": {
             "outlinewidth": 0,
             "ticks": ""
            },
            "colorscale": [
             [
              0,
              "#0d0887"
             ],
             [
              0.1111111111111111,
              "#46039f"
             ],
             [
              0.2222222222222222,
              "#7201a8"
             ],
             [
              0.3333333333333333,
              "#9c179e"
             ],
             [
              0.4444444444444444,
              "#bd3786"
             ],
             [
              0.5555555555555556,
              "#d8576b"
             ],
             [
              0.6666666666666666,
              "#ed7953"
             ],
             [
              0.7777777777777778,
              "#fb9f3a"
             ],
             [
              0.8888888888888888,
              "#fdca26"
             ],
             [
              1,
              "#f0f921"
             ]
            ],
            "type": "surface"
           }
          ],
          "table": [
           {
            "cells": {
             "fill": {
              "color": "#EBF0F8"
             },
             "line": {
              "color": "white"
             }
            },
            "header": {
             "fill": {
              "color": "#C8D4E3"
             },
             "line": {
              "color": "white"
             }
            },
            "type": "table"
           }
          ]
         },
         "layout": {
          "annotationdefaults": {
           "arrowcolor": "#2a3f5f",
           "arrowhead": 0,
           "arrowwidth": 1
          },
          "autotypenumbers": "strict",
          "coloraxis": {
           "colorbar": {
            "outlinewidth": 0,
            "ticks": ""
           }
          },
          "colorscale": {
           "diverging": [
            [
             0,
             "#8e0152"
            ],
            [
             0.1,
             "#c51b7d"
            ],
            [
             0.2,
             "#de77ae"
            ],
            [
             0.3,
             "#f1b6da"
            ],
            [
             0.4,
             "#fde0ef"
            ],
            [
             0.5,
             "#f7f7f7"
            ],
            [
             0.6,
             "#e6f5d0"
            ],
            [
             0.7,
             "#b8e186"
            ],
            [
             0.8,
             "#7fbc41"
            ],
            [
             0.9,
             "#4d9221"
            ],
            [
             1,
             "#276419"
            ]
           ],
           "sequential": [
            [
             0,
             "#0d0887"
            ],
            [
             0.1111111111111111,
             "#46039f"
            ],
            [
             0.2222222222222222,
             "#7201a8"
            ],
            [
             0.3333333333333333,
             "#9c179e"
            ],
            [
             0.4444444444444444,
             "#bd3786"
            ],
            [
             0.5555555555555556,
             "#d8576b"
            ],
            [
             0.6666666666666666,
             "#ed7953"
            ],
            [
             0.7777777777777778,
             "#fb9f3a"
            ],
            [
             0.8888888888888888,
             "#fdca26"
            ],
            [
             1,
             "#f0f921"
            ]
           ],
           "sequentialminus": [
            [
             0,
             "#0d0887"
            ],
            [
             0.1111111111111111,
             "#46039f"
            ],
            [
             0.2222222222222222,
             "#7201a8"
            ],
            [
             0.3333333333333333,
             "#9c179e"
            ],
            [
             0.4444444444444444,
             "#bd3786"
            ],
            [
             0.5555555555555556,
             "#d8576b"
            ],
            [
             0.6666666666666666,
             "#ed7953"
            ],
            [
             0.7777777777777778,
             "#fb9f3a"
            ],
            [
             0.8888888888888888,
             "#fdca26"
            ],
            [
             1,
             "#f0f921"
            ]
           ]
          },
          "colorway": [
           "#636efa",
           "#EF553B",
           "#00cc96",
           "#ab63fa",
           "#FFA15A",
           "#19d3f3",
           "#FF6692",
           "#B6E880",
           "#FF97FF",
           "#FECB52"
          ],
          "font": {
           "color": "#2a3f5f"
          },
          "geo": {
           "bgcolor": "white",
           "lakecolor": "white",
           "landcolor": "#E5ECF6",
           "showlakes": true,
           "showland": true,
           "subunitcolor": "white"
          },
          "hoverlabel": {
           "align": "left"
          },
          "hovermode": "closest",
          "mapbox": {
           "style": "light"
          },
          "paper_bgcolor": "white",
          "plot_bgcolor": "#E5ECF6",
          "polar": {
           "angularaxis": {
            "gridcolor": "white",
            "linecolor": "white",
            "ticks": ""
           },
           "bgcolor": "#E5ECF6",
           "radialaxis": {
            "gridcolor": "white",
            "linecolor": "white",
            "ticks": ""
           }
          },
          "scene": {
           "xaxis": {
            "backgroundcolor": "#E5ECF6",
            "gridcolor": "white",
            "gridwidth": 2,
            "linecolor": "white",
            "showbackground": true,
            "ticks": "",
            "zerolinecolor": "white"
           },
           "yaxis": {
            "backgroundcolor": "#E5ECF6",
            "gridcolor": "white",
            "gridwidth": 2,
            "linecolor": "white",
            "showbackground": true,
            "ticks": "",
            "zerolinecolor": "white"
           },
           "zaxis": {
            "backgroundcolor": "#E5ECF6",
            "gridcolor": "white",
            "gridwidth": 2,
            "linecolor": "white",
            "showbackground": true,
            "ticks": "",
            "zerolinecolor": "white"
           }
          },
          "shapedefaults": {
           "line": {
            "color": "#2a3f5f"
           }
          },
          "ternary": {
           "aaxis": {
            "gridcolor": "white",
            "linecolor": "white",
            "ticks": ""
           },
           "baxis": {
            "gridcolor": "white",
            "linecolor": "white",
            "ticks": ""
           },
           "bgcolor": "#E5ECF6",
           "caxis": {
            "gridcolor": "white",
            "linecolor": "white",
            "ticks": ""
           }
          },
          "title": {
           "x": 0.05
          },
          "xaxis": {
           "automargin": true,
           "gridcolor": "white",
           "linecolor": "white",
           "ticks": "",
           "title": {
            "standoff": 15
           },
           "zerolinecolor": "white",
           "zerolinewidth": 2
          },
          "yaxis": {
           "automargin": true,
           "gridcolor": "white",
           "linecolor": "white",
           "ticks": "",
           "title": {
            "standoff": 15
           },
           "zerolinecolor": "white",
           "zerolinewidth": 2
          }
         }
        },
        "title": {
         "text": "basic",
         "x": 0.5,
         "xanchor": "center",
         "y": 0.9,
         "yanchor": "top"
        },
        "updatemenus": [
         {
          "buttons": [
           {
            "args": [
             {
              "scene.annotations": [
               {
                "font": {
                 "color": "blue"
                },
                "showarrow": false,
                "text": "1",
                "x": 0.32504,
                "y": -1.121856,
                "yshift": 15,
                "z": -0.576925
               },
               {
                "font": {
                 "color": "blue"
                },
                "showarrow": false,
                "text": "2",
                "x": 0.500105,
                "y": -0.485258,
                "yshift": 15,
                "z": 0.617607
               },
               {
                "font": {
                 "color": "blue"
                },
                "showarrow": false,
                "text": "3",
                "x": 1.260416,
                "y": -1.394239,
                "yshift": 15,
                "z": -1.298911
               },
               {
                "font": {
                 "color": "blue"
                },
                "showarrow": false,
                "text": "4",
                "x": -1.102969,
                "y": -1.513826,
                "yshift": 15,
                "z": -0.927529
               },
               {
                "font": {
                 "color": "blue"
                },
                "showarrow": false,
                "text": "5",
                "x": -1.130758,
                "y": -1.554014,
                "yshift": 15,
                "z": -2.016785
               },
               {
                "font": {
                 "color": "blue"
                },
                "showarrow": false,
                "text": "6",
                "x": -1.254182,
                "y": -2.533696,
                "yshift": 15,
                "z": -0.566575
               },
               {
                "font": {
                 "color": "blue"
                },
                "showarrow": false,
                "text": "7",
                "x": -2.172048,
                "y": -0.59954,
                "yshift": 15,
                "z": -0.390058
               },
               {
                "font": {
                 "color": "blue"
                },
                "showarrow": false,
                "text": "8",
                "x": -3.193919,
                "y": -1.079854,
                "yshift": 15,
                "z": 0.42158
               },
               {
                "font": {
                 "color": "blue"
                },
                "showarrow": false,
                "text": "9",
                "x": -2.14059,
                "y": 0.76137,
                "yshift": 15,
                "z": -0.699722
               },
               {
                "font": {
                 "color": "blue"
                },
                "showarrow": false,
                "text": "10",
                "x": -4.174964,
                "y": -0.224286,
                "yshift": 15,
                "z": 0.908422
               },
               {
                "font": {
                 "color": "blue"
                },
                "showarrow": false,
                "text": "11",
                "x": -3.225424,
                "y": -2.134057,
                "yshift": 15,
                "z": 0.671173
               },
               {
                "font": {
                 "color": "blue"
                },
                "showarrow": false,
                "text": "12",
                "x": -3.116365,
                "y": 1.616421,
                "yshift": 15,
                "z": -0.212454
               },
               {
                "font": {
                 "color": "blue"
                },
                "showarrow": false,
                "text": "13",
                "x": -1.334255,
                "y": 1.150401,
                "yshift": 15,
                "z": -1.313011
               },
               {
                "font": {
                 "color": "blue"
                },
                "showarrow": false,
                "text": "14",
                "x": -4.138412,
                "y": 1.124823,
                "yshift": 15,
                "z": 0.591587
               },
               {
                "font": {
                 "color": "blue"
                },
                "showarrow": false,
                "text": "15",
                "x": -4.966295,
                "y": -0.614352,
                "yshift": 15,
                "z": 1.535413
               },
               {
                "font": {
                 "color": "blue"
                },
                "showarrow": false,
                "text": "16",
                "x": -3.079279,
                "y": 2.669162,
                "yshift": 15,
                "z": -0.460708
               },
               {
                "font": {
                 "color": "blue"
                },
                "showarrow": false,
                "text": "17",
                "x": -4.901075,
                "y": 1.792921,
                "yshift": 15,
                "z": 0.969832
               },
               {
                "font": {
                 "color": "blue"
                },
                "showarrow": false,
                "text": "18",
                "x": -0.320325,
                "y": -0.113936,
                "yshift": 15,
                "z": 1.068388
               },
               {
                "font": {
                 "color": "blue"
                },
                "showarrow": false,
                "text": "19",
                "x": 1.768496,
                "y": 0.122313,
                "yshift": 15,
                "z": 0.917469
               },
               {
                "font": {
                 "color": "blue"
                },
                "showarrow": false,
                "text": "20",
                "x": 2.955549,
                "y": -0.810293,
                "yshift": 15,
                "z": 1.138773
               },
               {
                "font": {
                 "color": "blue"
                },
                "showarrow": false,
                "text": "21",
                "x": 1.629735,
                "y": 0.772206,
                "yshift": 15,
                "z": 1.784731
               },
               {
                "font": {
                 "color": "blue"
                },
                "showarrow": false,
                "text": "22",
                "x": 4.12418,
                "y": 0.059092,
                "yshift": 15,
                "z": 0.671828
               },
               {
                "font": {
                 "color": "blue"
                },
                "showarrow": false,
                "text": "23",
                "x": 2.849329,
                "y": -1.6836,
                "yshift": 15,
                "z": 0.500558
               },
               {
                "font": {
                 "color": "blue"
                },
                "showarrow": false,
                "text": "24",
                "x": 3.06453,
                "y": -1.124872,
                "yshift": 15,
                "z": 2.17418
               },
               {
                "font": {
                 "color": "blue"
                },
                "showarrow": false,
                "text": "25",
                "x": 4.548329,
                "y": 0.651299,
                "yshift": 15,
                "z": 1.48517
               },
               {
                "font": {
                 "color": "blue"
                },
                "showarrow": false,
                "text": "26",
                "x": 4.918444,
                "y": -0.505756,
                "yshift": 15,
                "z": 0.190854
               },
               {
                "font": {
                 "color": "blue"
                },
                "showarrow": false,
                "text": "27",
                "x": 2.251131,
                "y": 1.033097,
                "yshift": 15,
                "z": -0.220411
               },
               {
                "font": {
                 "color": "blue"
                },
                "showarrow": false,
                "text": "28",
                "x": 3.58737,
                "y": 0.965515,
                "yshift": 15,
                "z": -0.302594
               },
               {
                "font": {
                 "color": "blue"
                },
                "showarrow": false,
                "text": "29",
                "x": 1.575928,
                "y": 1.731266,
                "yshift": 15,
                "z": -0.908724
               }
              ]
             }
            ],
            "label": "Atom indices",
            "method": "relayout"
           },
           {
            "args": [
             {
              "scene.annotations": [
               {
                "showarrow": false,
                "text": "1.36",
                "x": 0.4125725,
                "y": -0.803557,
                "yshift": 10,
                "z": 0.020340999999999998
               },
               {
                "showarrow": false,
                "text": "1.09",
                "x": -1.1168635,
                "y": -1.53392,
                "yshift": 10,
                "z": -1.4721570000000002
               },
               {
                "showarrow": false,
                "text": "1.39",
                "x": -2.6829835,
                "y": -0.839697,
                "yshift": 10,
                "z": 0.015760999999999997
               },
               {
                "showarrow": false,
                "text": "1.53",
                "x": 2.3620225,
                "y": -0.34399,
                "yshift": 10,
                "z": 1.028121
               },
               {
                "showarrow": false,
                "text": "1.34",
                "x": 2.9192505,
                "y": 0.999306,
                "yshift": 10,
                "z": -0.26150249999999997
               },
               {
                "showarrow": false,
                "text": "1.21",
                "x": 0.792728,
                "y": -1.2580475,
                "yshift": 10,
                "z": -0.937918
               },
               {
                "showarrow": false,
                "text": "1.09",
                "x": -1.1785755,
                "y": -2.023761,
                "yshift": 10,
                "z": -0.747052
               },
               {
                "showarrow": false,
                "text": "1.4",
                "x": -2.156319,
                "y": 0.08091500000000001,
                "yshift": 10,
                "z": -0.54489
               },
               {
                "showarrow": false,
                "text": "1.39",
                "x": -3.6844415,
                "y": -0.65207,
                "yshift": 10,
                "z": 0.665001
               },
               {
                "showarrow": false,
                "text": "1.39",
                "x": -3.6273885,
                "y": 1.370622,
                "yshift": 10,
                "z": 0.18956649999999997
               },
               {
                "showarrow": false,
                "text": "1.09",
                "x": 1.6991155,
                "y": 0.4472595,
                "yshift": 10,
                "z": 1.3511
               },
               {
                "showarrow": false,
                "text": "1.53",
                "x": 3.5398645,
                "y": -0.3756005,
                "yshift": 10,
                "z": 0.9053005000000001
               },
               {
                "showarrow": false,
                "text": "1.19",
                "x": 1.9135295,
                "y": 1.3821815,
                "yshift": 10,
                "z": -0.5645675
               },
               {
                "showarrow": false,
                "text": "1.52",
                "x": -0.38896450000000005,
                "y": -1.317841,
                "yshift": 10,
                "z": -0.752227
               },
               {
                "showarrow": false,
                "text": "1.51",
                "x": -1.6375085,
                "y": -1.056683,
                "yshift": 10,
                "z": -0.6587935
               },
               {
                "showarrow": false,
                "text": "1.08",
                "x": -3.2096715,
                "y": -1.6069555,
                "yshift": 10,
                "z": 0.5463765
               },
               {
                "showarrow": false,
                "text": "1.39",
                "x": -2.6284775,
                "y": 1.1888955,
                "yshift": 10,
                "z": -0.456088
               },
               {
                "showarrow": false,
                "text": "1.08",
                "x": -4.5197435,
                "y": 1.458872,
                "yshift": 10,
                "z": 0.7807095
               },
               {
                "showarrow": false,
                "text": "1.09",
                "x": 2.902439,
                "y": -1.2469465,
                "yshift": 10,
                "z": 0.8196654999999999
               },
               {
                "showarrow": false,
                "text": "1.09",
                "x": 4.3362545,
                "y": 0.3551955,
                "yshift": 10,
                "z": 1.078499
               },
               {
                "showarrow": false,
                "text": "1.09",
                "x": -1.7374225,
                "y": 0.9558854999999999,
                "yshift": 10,
                "z": -1.0063665
               },
               {
                "showarrow": false,
                "text": "1.39",
                "x": -4.156688,
                "y": 0.45026849999999996,
                "yshift": 10,
                "z": 0.7500045
               },
               {
                "showarrow": false,
                "text": "1.08",
                "x": -3.097822,
                "y": 2.1427915,
                "yshift": 10,
                "z": -0.336581
               },
               {
                "showarrow": false,
                "text": "1.09",
                "x": 3.0100395,
                "y": -0.9675825,
                "yshift": 10,
                "z": 1.6564765
               },
               {
                "showarrow": false,
                "text": "1.09",
                "x": 4.521312,
                "y": -0.223332,
                "yshift": 10,
                "z": 0.431341
               },
               {
                "showarrow": false,
                "text": "1.08",
                "x": -4.5706295,
                "y": -0.419319,
                "yshift": 10,
                "z": 1.2219175
               },
               {
                "showarrow": false,
                "text": "1.44",
                "x": 3.855775,
                "y": 0.5123035,
                "yshift": 10,
                "z": 0.184617
               },
               {
                "showarrow": false,
                "text": "1.54",
                "x": 2.0098135,
                "y": 0.5777049999999999,
                "yshift": 10,
                "z": 0.348529
               },
               {
                "showarrow": false,
                "text": "1.44",
                "x": 1.1343005000000002,
                "y": -0.1814725,
                "yshift": 10,
                "z": 0.767538
               },
               {
                "showarrow": false,
                "text": "1.01",
                "x": 0.08989,
                "y": -0.299597,
                "yshift": 10,
                "z": 0.8429975
               }
              ]
             }
            ],
            "label": "Bond lengths",
            "method": "relayout"
           },
           {
            "args": [
             {
              "scene.annotations": [
               {
                "font": {
                 "color": "blue"
                },
                "showarrow": false,
                "text": "1",
                "x": 0.32504,
                "y": -1.121856,
                "yshift": 15,
                "z": -0.576925
               },
               {
                "font": {
                 "color": "blue"
                },
                "showarrow": false,
                "text": "2",
                "x": 0.500105,
                "y": -0.485258,
                "yshift": 15,
                "z": 0.617607
               },
               {
                "font": {
                 "color": "blue"
                },
                "showarrow": false,
                "text": "3",
                "x": 1.260416,
                "y": -1.394239,
                "yshift": 15,
                "z": -1.298911
               },
               {
                "font": {
                 "color": "blue"
                },
                "showarrow": false,
                "text": "4",
                "x": -1.102969,
                "y": -1.513826,
                "yshift": 15,
                "z": -0.927529
               },
               {
                "font": {
                 "color": "blue"
                },
                "showarrow": false,
                "text": "5",
                "x": -1.130758,
                "y": -1.554014,
                "yshift": 15,
                "z": -2.016785
               },
               {
                "font": {
                 "color": "blue"
                },
                "showarrow": false,
                "text": "6",
                "x": -1.254182,
                "y": -2.533696,
                "yshift": 15,
                "z": -0.566575
               },
               {
                "font": {
                 "color": "blue"
                },
                "showarrow": false,
                "text": "7",
                "x": -2.172048,
                "y": -0.59954,
                "yshift": 15,
                "z": -0.390058
               },
               {
                "font": {
                 "color": "blue"
                },
                "showarrow": false,
                "text": "8",
                "x": -3.193919,
                "y": -1.079854,
                "yshift": 15,
                "z": 0.42158
               },
               {
                "font": {
                 "color": "blue"
                },
                "showarrow": false,
                "text": "9",
                "x": -2.14059,
                "y": 0.76137,
                "yshift": 15,
                "z": -0.699722
               },
               {
                "font": {
                 "color": "blue"
                },
                "showarrow": false,
                "text": "10",
                "x": -4.174964,
                "y": -0.224286,
                "yshift": 15,
                "z": 0.908422
               },
               {
                "font": {
                 "color": "blue"
                },
                "showarrow": false,
                "text": "11",
                "x": -3.225424,
                "y": -2.134057,
                "yshift": 15,
                "z": 0.671173
               },
               {
                "font": {
                 "color": "blue"
                },
                "showarrow": false,
                "text": "12",
                "x": -3.116365,
                "y": 1.616421,
                "yshift": 15,
                "z": -0.212454
               },
               {
                "font": {
                 "color": "blue"
                },
                "showarrow": false,
                "text": "13",
                "x": -1.334255,
                "y": 1.150401,
                "yshift": 15,
                "z": -1.313011
               },
               {
                "font": {
                 "color": "blue"
                },
                "showarrow": false,
                "text": "14",
                "x": -4.138412,
                "y": 1.124823,
                "yshift": 15,
                "z": 0.591587
               },
               {
                "font": {
                 "color": "blue"
                },
                "showarrow": false,
                "text": "15",
                "x": -4.966295,
                "y": -0.614352,
                "yshift": 15,
                "z": 1.535413
               },
               {
                "font": {
                 "color": "blue"
                },
                "showarrow": false,
                "text": "16",
                "x": -3.079279,
                "y": 2.669162,
                "yshift": 15,
                "z": -0.460708
               },
               {
                "font": {
                 "color": "blue"
                },
                "showarrow": false,
                "text": "17",
                "x": -4.901075,
                "y": 1.792921,
                "yshift": 15,
                "z": 0.969832
               },
               {
                "font": {
                 "color": "blue"
                },
                "showarrow": false,
                "text": "18",
                "x": -0.320325,
                "y": -0.113936,
                "yshift": 15,
                "z": 1.068388
               },
               {
                "font": {
                 "color": "blue"
                },
                "showarrow": false,
                "text": "19",
                "x": 1.768496,
                "y": 0.122313,
                "yshift": 15,
                "z": 0.917469
               },
               {
                "font": {
                 "color": "blue"
                },
                "showarrow": false,
                "text": "20",
                "x": 2.955549,
                "y": -0.810293,
                "yshift": 15,
                "z": 1.138773
               },
               {
                "font": {
                 "color": "blue"
                },
                "showarrow": false,
                "text": "21",
                "x": 1.629735,
                "y": 0.772206,
                "yshift": 15,
                "z": 1.784731
               },
               {
                "font": {
                 "color": "blue"
                },
                "showarrow": false,
                "text": "22",
                "x": 4.12418,
                "y": 0.059092,
                "yshift": 15,
                "z": 0.671828
               },
               {
                "font": {
                 "color": "blue"
                },
                "showarrow": false,
                "text": "23",
                "x": 2.849329,
                "y": -1.6836,
                "yshift": 15,
                "z": 0.500558
               },
               {
                "font": {
                 "color": "blue"
                },
                "showarrow": false,
                "text": "24",
                "x": 3.06453,
                "y": -1.124872,
                "yshift": 15,
                "z": 2.17418
               },
               {
                "font": {
                 "color": "blue"
                },
                "showarrow": false,
                "text": "25",
                "x": 4.548329,
                "y": 0.651299,
                "yshift": 15,
                "z": 1.48517
               },
               {
                "font": {
                 "color": "blue"
                },
                "showarrow": false,
                "text": "26",
                "x": 4.918444,
                "y": -0.505756,
                "yshift": 15,
                "z": 0.190854
               },
               {
                "font": {
                 "color": "blue"
                },
                "showarrow": false,
                "text": "27",
                "x": 2.251131,
                "y": 1.033097,
                "yshift": 15,
                "z": -0.220411
               },
               {
                "font": {
                 "color": "blue"
                },
                "showarrow": false,
                "text": "28",
                "x": 3.58737,
                "y": 0.965515,
                "yshift": 15,
                "z": -0.302594
               },
               {
                "font": {
                 "color": "blue"
                },
                "showarrow": false,
                "text": "29",
                "x": 1.575928,
                "y": 1.731266,
                "yshift": 15,
                "z": -0.908724
               },
               {
                "showarrow": false,
                "text": "1.36",
                "x": 0.4125725,
                "y": -0.803557,
                "yshift": 10,
                "z": 0.020340999999999998
               },
               {
                "showarrow": false,
                "text": "1.09",
                "x": -1.1168635,
                "y": -1.53392,
                "yshift": 10,
                "z": -1.4721570000000002
               },
               {
                "showarrow": false,
                "text": "1.39",
                "x": -2.6829835,
                "y": -0.839697,
                "yshift": 10,
                "z": 0.015760999999999997
               },
               {
                "showarrow": false,
                "text": "1.53",
                "x": 2.3620225,
                "y": -0.34399,
                "yshift": 10,
                "z": 1.028121
               },
               {
                "showarrow": false,
                "text": "1.34",
                "x": 2.9192505,
                "y": 0.999306,
                "yshift": 10,
                "z": -0.26150249999999997
               },
               {
                "showarrow": false,
                "text": "1.21",
                "x": 0.792728,
                "y": -1.2580475,
                "yshift": 10,
                "z": -0.937918
               },
               {
                "showarrow": false,
                "text": "1.09",
                "x": -1.1785755,
                "y": -2.023761,
                "yshift": 10,
                "z": -0.747052
               },
               {
                "showarrow": false,
                "text": "1.4",
                "x": -2.156319,
                "y": 0.08091500000000001,
                "yshift": 10,
                "z": -0.54489
               },
               {
                "showarrow": false,
                "text": "1.39",
                "x": -3.6844415,
                "y": -0.65207,
                "yshift": 10,
                "z": 0.665001
               },
               {
                "showarrow": false,
                "text": "1.39",
                "x": -3.6273885,
                "y": 1.370622,
                "yshift": 10,
                "z": 0.18956649999999997
               },
               {
                "showarrow": false,
                "text": "1.09",
                "x": 1.6991155,
                "y": 0.4472595,
                "yshift": 10,
                "z": 1.3511
               },
               {
                "showarrow": false,
                "text": "1.53",
                "x": 3.5398645,
                "y": -0.3756005,
                "yshift": 10,
                "z": 0.9053005000000001
               },
               {
                "showarrow": false,
                "text": "1.19",
                "x": 1.9135295,
                "y": 1.3821815,
                "yshift": 10,
                "z": -0.5645675
               },
               {
                "showarrow": false,
                "text": "1.52",
                "x": -0.38896450000000005,
                "y": -1.317841,
                "yshift": 10,
                "z": -0.752227
               },
               {
                "showarrow": false,
                "text": "1.51",
                "x": -1.6375085,
                "y": -1.056683,
                "yshift": 10,
                "z": -0.6587935
               },
               {
                "showarrow": false,
                "text": "1.08",
                "x": -3.2096715,
                "y": -1.6069555,
                "yshift": 10,
                "z": 0.5463765
               },
               {
                "showarrow": false,
                "text": "1.39",
                "x": -2.6284775,
                "y": 1.1888955,
                "yshift": 10,
                "z": -0.456088
               },
               {
                "showarrow": false,
                "text": "1.08",
                "x": -4.5197435,
                "y": 1.458872,
                "yshift": 10,
                "z": 0.7807095
               },
               {
                "showarrow": false,
                "text": "1.09",
                "x": 2.902439,
                "y": -1.2469465,
                "yshift": 10,
                "z": 0.8196654999999999
               },
               {
                "showarrow": false,
                "text": "1.09",
                "x": 4.3362545,
                "y": 0.3551955,
                "yshift": 10,
                "z": 1.078499
               },
               {
                "showarrow": false,
                "text": "1.09",
                "x": -1.7374225,
                "y": 0.9558854999999999,
                "yshift": 10,
                "z": -1.0063665
               },
               {
                "showarrow": false,
                "text": "1.39",
                "x": -4.156688,
                "y": 0.45026849999999996,
                "yshift": 10,
                "z": 0.7500045
               },
               {
                "showarrow": false,
                "text": "1.08",
                "x": -3.097822,
                "y": 2.1427915,
                "yshift": 10,
                "z": -0.336581
               },
               {
                "showarrow": false,
                "text": "1.09",
                "x": 3.0100395,
                "y": -0.9675825,
                "yshift": 10,
                "z": 1.6564765
               },
               {
                "showarrow": false,
                "text": "1.09",
                "x": 4.521312,
                "y": -0.223332,
                "yshift": 10,
                "z": 0.431341
               },
               {
                "showarrow": false,
                "text": "1.08",
                "x": -4.5706295,
                "y": -0.419319,
                "yshift": 10,
                "z": 1.2219175
               },
               {
                "showarrow": false,
                "text": "1.44",
                "x": 3.855775,
                "y": 0.5123035,
                "yshift": 10,
                "z": 0.184617
               },
               {
                "showarrow": false,
                "text": "1.54",
                "x": 2.0098135,
                "y": 0.5777049999999999,
                "yshift": 10,
                "z": 0.348529
               },
               {
                "showarrow": false,
                "text": "1.44",
                "x": 1.1343005000000002,
                "y": -0.1814725,
                "yshift": 10,
                "z": 0.767538
               },
               {
                "showarrow": false,
                "text": "1.01",
                "x": 0.08989,
                "y": -0.299597,
                "yshift": 10,
                "z": 0.8429975
               }
              ]
             }
            ],
            "label": "Both",
            "method": "relayout"
           },
           {
            "args": [
             {
              "scene.annotations": []
             }
            ],
            "label": "Hide all",
            "method": "relayout"
           },
           {
            "args": [
             {
              "visible": [
               true,
               true,
               true,
               true,
               true,
               true,
               true,
               true
              ]
             },
             {}
            ],
            "label": "Show dipole",
            "method": "update"
           },
           {
            "args": [
             {
              "visible": [
               true,
               true,
               false,
               false,
               false,
               false,
               false,
               false
              ]
             },
             {}
            ],
            "label": "Hide dipole",
            "method": "update"
           }
          ],
          "direction": "down",
          "xanchor": "left",
          "yanchor": "top"
         }
        ]
       }
      }
     },
     "metadata": {},
     "output_type": "display_data"
    }
   ],
   "source": [
    "mols.visualize_molecules([0])"
   ]
  },
  {
   "cell_type": "markdown",
   "metadata": {},
   "source": [
    "Now that we see the molecules and atom numbering we can extract features. Remember it need to be numbered the same across the set !"
   ]
  },
  {
   "cell_type": "code",
   "execution_count": 2,
   "metadata": {},
   "outputs": [
    {
     "name": "stdout",
     "output_type": "stream",
     "text": [
      "[DEBUG] Called get_ring_vibrations on molecule: basic\n",
      "[DEBUG] ring_atom_indices argument: [8]\n",
      "[DEBUG] Detected single atom set input (one ring or atom set)\n",
      "[DEBUG] Benzene ring indices grouped: [[12, 8], [10, 7], [14, 9]]\n",
      "[DEBUG] Filtered DataFrame:\n",
      "   index  Product  Frequency  Sin_angle\n",
      "0     64  -0.5753  1657.1445   0.483498\n",
      "1     65  -0.5942  1680.2718   0.872609\n",
      "[DEBUG] Result DataFrame:\n",
      "                       0\n",
      "cross        1657.144500\n",
      "cross_angle    28.914133\n",
      "para         1680.271800\n",
      "para_angle     60.763308\n",
      "[DEBUG] Called get_ring_vibrations on molecule: m_Br\n",
      "[DEBUG] ring_atom_indices argument: [8]\n",
      "[DEBUG] Detected single atom set input (one ring or atom set)\n",
      "[DEBUG] Benzene ring indices grouped: [[12, 8], [10, 7], [14, 9]]\n",
      "[DEBUG] Filtered DataFrame:\n",
      "   index  Product  Frequency  Sin_angle\n",
      "0     65  -0.6293  1641.5631   0.553350\n",
      "1     66  -0.6230  1669.3498   0.814842\n",
      "[DEBUG] Result DataFrame:\n",
      "                       0\n",
      "cross        1641.563100\n",
      "cross_angle    33.597172\n",
      "para         1669.349800\n",
      "para_angle     54.571698\n",
      "[DEBUG] Called get_ring_vibrations on molecule: m_Cl\n",
      "[DEBUG] ring_atom_indices argument: [8]\n",
      "[DEBUG] Detected single atom set input (one ring or atom set)\n",
      "[DEBUG] Benzene ring indices grouped: [[12, 8], [10, 7], [14, 9]]\n",
      "[DEBUG] Filtered DataFrame:\n",
      "   index  Product  Frequency  Sin_angle\n",
      "0     65  -0.6209  1647.6226   0.471459\n",
      "1     66  -0.6250  1672.1898   0.869232\n",
      "[DEBUG] Result DataFrame:\n",
      "                       0\n",
      "cross        1647.622600\n",
      "cross_angle    28.129027\n",
      "para         1672.189800\n",
      "para_angle     60.369503\n",
      "[DEBUG] Called get_ring_vibrations on molecule: m_F\n",
      "[DEBUG] ring_atom_indices argument: [8]\n",
      "[DEBUG] Detected single atom set input (one ring or atom set)\n",
      "\n",
      "Detected fused benzene ring pairs:\n",
      "[DEBUG] Benzene ring indices grouped: [[12, 8], [10, 7], [14, 9]]\n",
      "[DEBUG] Filtered DataFrame:\n",
      "   index  Product  Frequency  Sin_angle\n",
      "0     65  -0.6605  1667.7992   0.494544\n",
      "1     66  -0.6897  1687.4749   0.853276\n",
      "[DEBUG] Result DataFrame:\n",
      "                       0\n",
      "cross        1667.799200\n",
      "cross_angle    29.639712\n",
      "para         1687.474900\n",
      "para_angle     58.569790\n",
      "[DEBUG] Called get_ring_vibrations on molecule: m_I\n",
      "[DEBUG] ring_atom_indices argument: [8]\n",
      "[DEBUG] Detected single atom set input (one ring or atom set)\n",
      "[DEBUG] Benzene ring indices grouped: [[12, 8], [10, 7], [14, 9]]\n",
      "[DEBUG] Filtered DataFrame:\n",
      "   index  Product  Frequency  Sin_angle\n",
      "0     65  -0.6053  1635.9083   0.558934\n",
      "1     66  -0.6096  1665.1876   0.817997\n",
      "[DEBUG] Result DataFrame:\n",
      "                       0\n",
      "cross        1635.908300\n",
      "cross_angle    33.982134\n",
      "para         1665.187600\n",
      "para_angle     54.884821\n",
      "[DEBUG] Called get_ring_vibrations on molecule: m_nitro\n",
      "[DEBUG] ring_atom_indices argument: [8]\n",
      "[DEBUG] Detected single atom set input (one ring or atom set)\n",
      "[DEBUG] Benzene ring indices grouped: [[12, 8], [10, 7], [14, 9]]\n",
      "[DEBUG] Filtered DataFrame:\n",
      "   index  Product  Frequency  Sin_angle\n",
      "0     70  -0.5876  1652.8928   0.499139\n",
      "1     71  -0.5197  1670.1614   0.965484\n",
      "2     72  -0.4890  1713.7331   0.625603\n",
      "[DEBUG] Result DataFrame:\n",
      "                       0\n",
      "cross        1652.892800\n",
      "cross_angle    29.943044\n",
      "para         1670.161400\n",
      "para_angle     74.902394\n",
      "[DEBUG] Called get_ring_vibrations on molecule: o_Br\n",
      "[DEBUG] ring_atom_indices argument: [8]\n",
      "[DEBUG] Detected single atom set input (one ring or atom set)\n",
      "[DEBUG] Benzene ring indices grouped: [[12, 8], [10, 7], [14, 9]]\n",
      "[DEBUG] Filtered DataFrame:\n",
      "   index  Product  Frequency  Sin_angle\n",
      "0     65  -0.5456  1640.9503   0.558250\n",
      "1     66  -0.6211  1667.6032   0.825966\n",
      "[DEBUG] Result DataFrame:\n",
      "                       0\n",
      "cross        1640.950300\n",
      "cross_angle    33.934871\n",
      "para         1667.603200\n",
      "para_angle     55.686555\n",
      "[DEBUG] Called get_ring_vibrations on molecule: o_Cl\n",
      "[DEBUG] ring_atom_indices argument: [8]\n",
      "[DEBUG] Detected single atom set input (one ring or atom set)\n",
      "[DEBUG] Benzene ring indices grouped: [[12, 8], [10, 7], [14, 9]]\n",
      "[DEBUG] Filtered DataFrame:\n",
      "   index  Product  Frequency  Sin_angle\n",
      "0     65  -0.5791  1644.3875   0.596371\n",
      "1     66  -0.6345  1669.8139   0.783329\n",
      "[DEBUG] Result DataFrame:\n",
      "                       0\n",
      "cross        1644.387500\n",
      "cross_angle    36.610454\n",
      "para         1669.813900\n",
      "para_angle     51.566367\n",
      "[DEBUG] Called get_ring_vibrations on molecule: o_F\n",
      "[DEBUG] ring_atom_indices argument: [8]\n",
      "[DEBUG] Detected single atom set input (one ring or atom set)\n",
      "No benzene ring found.\n",
      "Debug: Found 0 benzene rings\n",
      "[ERROR] Error in get_ring_vibrations (get_benzene_ring_indices): cannot unpack non-iterable NoneType object\n",
      "Error in <unknown> at line 732:\n",
      "[DEBUG] Called get_ring_vibrations on molecule: o_I\n",
      "[DEBUG] ring_atom_indices argument: [8]\n",
      "[DEBUG] Detected single atom set input (one ring or atom set)\n",
      "[DEBUG] Benzene ring indices grouped: [[12, 8], [10, 7], [14, 9]]\n",
      "[DEBUG] Filtered DataFrame:\n",
      "   index  Product  Frequency  Sin_angle\n",
      "0     65  -0.5167  1636.0173   0.546432\n",
      "1     66  -0.6154  1662.2976   0.822903\n",
      "[DEBUG] Result DataFrame:\n",
      "                       0\n",
      "cross        1636.017300\n",
      "cross_angle    33.122575\n",
      "para         1662.297600\n",
      "para_angle     55.376466\n",
      "[DEBUG] Called get_ring_vibrations on molecule: o_nitro\n",
      "[DEBUG] ring_atom_indices argument: [8]\n",
      "[DEBUG] Detected single atom set input (one ring or atom set)\n",
      "[DEBUG] Benzene ring indices grouped: [[12, 8], [10, 7], [14, 9]]\n",
      "[DEBUG] Filtered DataFrame:\n",
      "   index  Product  Frequency  Sin_angle\n",
      "0     70  -0.5799  1648.9161   0.672557\n",
      "1     71  -0.3957  1660.5135   0.322513\n",
      "2     72  -0.5793  1697.3010   0.917438\n",
      "[DEBUG] Result DataFrame:\n",
      "                       0\n",
      "cross        1660.513500\n",
      "cross_angle    18.814968\n",
      "para         1697.301000\n",
      "para_angle     66.554412\n",
      "[DEBUG] Called get_ring_vibrations on molecule: penta_F\n",
      "[DEBUG] ring_atom_indices argument: [8]\n",
      "[DEBUG] Detected single atom set input (one ring or atom set)\n",
      "[DEBUG] Benzene ring indices grouped: [[12, 8], [10, 7], [17, 13]]\n",
      "[DEBUG] Filtered DataFrame:\n",
      "   index  Product  Frequency  Sin_angle\n",
      "0     69  -0.2546  1705.8671   0.784693\n",
      "1     70  -0.4893  1721.7035   0.924184\n",
      "[DEBUG] Result DataFrame:\n",
      "                       0\n",
      "cross        1705.867100\n",
      "cross_angle    51.692321\n",
      "para         1721.703500\n",
      "para_angle     67.545610\n",
      "[DEBUG] Called get_ring_vibrations on molecule: p_amine\n",
      "[DEBUG] ring_atom_indices argument: [8]\n",
      "[DEBUG] Detected single atom set input (one ring or atom set)\n",
      "[DEBUG] Benzene ring indices grouped: [[12, 8], [10, 7], [14, 9]]\n",
      "[DEBUG] Filtered DataFrame:\n",
      "   index  Product  Frequency  Sin_angle\n",
      "0     68  -0.4193  1650.7953   0.431424\n",
      "1     70  -0.5626  1695.0942   0.878344\n",
      "[DEBUG] Result DataFrame:\n",
      "                       0\n",
      "cross        1650.795300\n",
      "cross_angle    25.557985\n",
      "para         1695.094200\n",
      "para_angle     61.443251\n",
      "[DEBUG] Called get_ring_vibrations on molecule: p_azide\n",
      "[DEBUG] ring_atom_indices argument: [8]\n",
      "[DEBUG] Detected single atom set input (one ring or atom set)\n",
      "[DEBUG] Benzene ring indices grouped: [[12, 8], [10, 7], [14, 9]]\n",
      "[DEBUG] Filtered DataFrame:\n",
      "   index  Product  Frequency  Sin_angle\n",
      "0     70  -0.6766  1646.5686   0.360729\n",
      "1     71  -0.6377  1686.1110   0.933728\n",
      "[DEBUG] Result DataFrame:\n",
      "                       0\n",
      "cross        1646.568600\n",
      "cross_angle    21.144995\n",
      "para         1686.111000\n",
      "para_angle     69.023587\n",
      "[DEBUG] Called get_ring_vibrations on molecule: p_boc\n",
      "[DEBUG] ring_atom_indices argument: [8]\n",
      "[DEBUG] Detected single atom set input (one ring or atom set)\n",
      "[DEBUG] Benzene ring indices grouped: [[12, 8], [10, 7], [14, 9]]\n",
      "[DEBUG] Filtered DataFrame:\n",
      "   index  Product  Frequency  Sin_angle\n",
      "0    105  -0.4783  1655.0745   0.482718\n",
      "1    106  -0.6432  1690.6121   0.865869\n",
      "[DEBUG] Result DataFrame:\n",
      "                       0\n",
      "cross        1655.074500\n",
      "cross_angle    28.863077\n",
      "para         1690.612100\n",
      "para_angle     59.982045\n",
      "[DEBUG] Called get_ring_vibrations on molecule: p_Br\n",
      "[DEBUG] ring_atom_indices argument: [8]\n",
      "[DEBUG] Detected single atom set input (one ring or atom set)\n",
      "[DEBUG] Benzene ring indices grouped: [[12, 8], [10, 7], [14, 9]]\n",
      "[DEBUG] Filtered DataFrame:\n",
      "   index  Product  Frequency  Sin_angle\n",
      "0     65  -0.6922  1643.5925   0.434782\n",
      "1     66  -0.5957  1667.2775   0.899429\n",
      "[DEBUG] Result DataFrame:\n",
      "                       0\n",
      "cross        1643.592500\n",
      "cross_angle    25.771415\n",
      "para         1667.277500\n",
      "para_angle     64.083145\n",
      "[DEBUG] Called get_ring_vibrations on molecule: p_Cl\n",
      "[DEBUG] ring_atom_indices argument: [8]\n",
      "[DEBUG] Detected single atom set input (one ring or atom set)\n",
      "[DEBUG] Benzene ring indices grouped: [[12, 8], [10, 7], [14, 9]]\n",
      "[DEBUG] Filtered DataFrame:\n",
      "   index  Product  Frequency  Sin_angle\n",
      "0     65  -0.6942  1644.9732   0.464355\n",
      "1     66  -0.6075  1673.7923   0.881395\n",
      "[DEBUG] Result DataFrame:\n",
      "                       0\n",
      "cross        1644.973200\n",
      "cross_angle    27.668491\n",
      "para         1673.792300\n",
      "para_angle     61.811124\n",
      "[DEBUG] Called get_ring_vibrations on molecule: p_F\n",
      "[DEBUG] ring_atom_indices argument: [8]\n",
      "[DEBUG] Detected single atom set input (one ring or atom set)\n",
      "[DEBUG] Benzene ring indices grouped: [[12, 8], [10, 7], [17, 9]]\n",
      "[DEBUG] Filtered DataFrame:\n",
      "   index  Product  Frequency  Sin_angle\n",
      "0     65  -0.3468  1668.6750   0.495773\n",
      "1     66  -0.4695  1686.7409   0.877402\n",
      "[DEBUG] Result DataFrame:\n",
      "                       0\n",
      "cross        1668.675000\n",
      "cross_angle    29.720759\n",
      "para         1686.740900\n",
      "para_angle     61.330489\n",
      "[DEBUG] Called get_ring_vibrations on molecule: p_I\n",
      "[DEBUG] ring_atom_indices argument: [8]\n",
      "[DEBUG] Detected single atom set input (one ring or atom set)\n",
      "[DEBUG] Benzene ring indices grouped: [[12, 8], [10, 7], [14, 9]]\n",
      "[DEBUG] Filtered DataFrame:\n",
      "   index  Product  Frequency  Sin_angle\n",
      "0     65  -0.6914  1637.7132   0.422484\n",
      "1     66  -0.5770  1663.9261   0.899332\n",
      "[DEBUG] Result DataFrame:\n",
      "                       0\n",
      "cross        1637.713200\n",
      "cross_angle    24.991522\n",
      "para         1663.926100\n",
      "para_angle     64.070381\n",
      "[DEBUG] Called get_ring_vibrations on molecule: p_Me\n",
      "[DEBUG] ring_atom_indices argument: [8]\n",
      "[DEBUG] Detected single atom set input (one ring or atom set)\n",
      "[DEBUG] Benzene ring indices grouped: [[12, 8], [10, 7], [14, 9]]\n",
      "[DEBUG] Filtered DataFrame:\n",
      "   index  Product  Frequency  Sin_angle\n",
      "0     71  -0.5972  1647.2585   0.481243\n",
      "1     72  -0.6646  1691.1858   0.866307\n",
      "[DEBUG] Result DataFrame:\n",
      "                       0\n",
      "cross        1647.258500\n",
      "cross_angle    28.766590\n",
      "para         1691.185800\n",
      "para_angle     60.032228\n",
      "[DEBUG] Called get_ring_vibrations on molecule: p_nitro\n",
      "[DEBUG] ring_atom_indices argument: [8]\n",
      "[DEBUG] Detected single atom set input (one ring or atom set)\n",
      "[DEBUG] Benzene ring indices grouped: [[12, 8], [10, 7], [14, 9]]\n",
      "[DEBUG] Filtered DataFrame:\n",
      "   index  Product  Frequency  Sin_angle\n",
      "0     70  -0.5771  1651.7804   0.516311\n",
      "1     71  -0.6119  1675.9797   0.866848\n",
      "2     72  -0.3800  1709.1878   0.474587\n",
      "[DEBUG] Result DataFrame:\n",
      "                       0\n",
      "cross        1709.187800\n",
      "cross_angle    28.332490\n",
      "para         1675.979700\n",
      "para_angle     60.094452\n",
      "[DEBUG] Called get_ring_vibrations on molecule: p_OEt\n",
      "[DEBUG] ring_atom_indices argument: [8]\n",
      "[DEBUG] Detected single atom set input (one ring or atom set)\n",
      "[DEBUG] Benzene ring indices grouped: [[12, 8], [10, 7], [14, 9]]\n",
      "[DEBUG] Filtered DataFrame:\n",
      "   index  Product  Frequency  Sin_angle\n",
      "0     81  -0.6625  1650.5610   0.309839\n",
      "1     82  -0.6488  1691.9215   0.943020\n",
      "[DEBUG] Result DataFrame:\n",
      "                       0\n",
      "cross        1650.561000\n",
      "cross_angle    18.049549\n",
      "para         1691.921500\n",
      "para_angle     70.565007\n",
      "[DEBUG] Called get_ring_vibrations on molecule: p_OH\n",
      "[DEBUG] ring_atom_indices argument: [8]\n",
      "[DEBUG] Detected single atom set input (one ring or atom set)\n",
      "[DEBUG] Benzene ring indices grouped: [[12, 8], [10, 7], [14, 9]]\n",
      "[DEBUG] Filtered DataFrame:\n",
      "   index  Product  Frequency  Sin_angle\n",
      "0     67  -0.6013  1664.3776   0.300162\n",
      "1     68  -0.6701  1692.6970   0.951506\n",
      "[DEBUG] Result DataFrame:\n",
      "                       0\n",
      "cross        1664.377600\n",
      "cross_angle    17.467321\n",
      "para         1692.697000\n",
      "para_angle     72.083606\n",
      "[DEBUG] Called get_ring_vibrations on molecule: p_OMe\n",
      "[DEBUG] ring_atom_indices argument: [8]\n",
      "[DEBUG] Detected single atom set input (one ring or atom set)\n",
      "[DEBUG] Benzene ring indices grouped: [[12, 8], [10, 7], [14, 9]]\n",
      "[DEBUG] Filtered DataFrame:\n",
      "   index  Product  Frequency  Sin_angle\n",
      "0     74  -0.6549  1651.7267   0.330387\n",
      "1     75  -0.6504  1692.9778   0.940943\n",
      "[DEBUG] Result DataFrame:\n",
      "                       0\n",
      "cross        1651.726700\n",
      "cross_angle    19.292294\n",
      "para         1692.977800\n",
      "para_angle     70.210484\n",
      "[DEBUG] Called get_ring_vibrations on molecule: p_Ph\n",
      "[DEBUG] ring_atom_indices argument: [8]\n",
      "[DEBUG] Detected single atom set input (one ring or atom set)\n",
      "[DEBUG] Benzene ring indices grouped: [[12, 8], [10, 7], [14, 9]]\n",
      "[DEBUG] Filtered DataFrame:\n",
      "   index  Product  Frequency  Sin_angle\n",
      "0     88  -0.4648  1632.5792   0.470965\n",
      "1     89  -0.1293  1657.1433   0.491008\n",
      "2     91  -0.6457  1687.7438   0.876518\n",
      "[DEBUG] Result DataFrame:\n",
      "                       0\n",
      "cross        1632.579200\n",
      "cross_angle    28.096938\n",
      "para         1687.743800\n",
      "para_angle     61.225194\n",
      "[DEBUG] Called get_ring_vibrations on molecule: p_tfm\n",
      "[DEBUG] ring_atom_indices argument: [8]\n",
      "[DEBUG] Detected single atom set input (one ring or atom set)\n",
      "[DEBUG] Benzene ring indices grouped: [[12, 8], [10, 7], [14, 9]]\n",
      "[DEBUG] Filtered DataFrame:\n",
      "   index  Product  Frequency  Sin_angle\n",
      "0     74  -0.6965  1656.7011   0.538908\n",
      "1     75  -0.6467  1693.8106   0.839020\n",
      "[DEBUG] Result DataFrame:\n",
      "                       0\n",
      "cross        1656.701100\n",
      "cross_angle    32.609309\n",
      "para         1693.810600\n",
      "para_angle     57.036819\n",
      "Calculating stretch vibration for atoms [1, 3] with threshold 1400 \n",
      " Remember : ALWAYS LOOK AT THE RESULTING VIBRATION\n"
     ]
    },
    {
     "name": "stderr",
     "output_type": "stream",
     "text": [
      "Traceback (most recent call last):\n",
      "  File \"C:\\Users\\edens\\Documents\\GitHub\\LabCode\\MolFeatures\\M2_data_extractor\\data_extractor.py\", line 732, in get_ring_vibrations\n",
      "    z, x, c, v, b, n = get_benzene_ring_indices(self.bonds_df, ring_atom_indices)\n",
      "TypeError: cannot unpack non-iterable NoneType object\n"
     ]
    }
   ],
   "source": [
    "answers_dict ={\n",
    "    \"Ring Vibration atoms - by order -> Pick primary atom and para to it: \\n example: 13,17\": [8],\n",
    "    \"Stretch Threshold\": [1400],\n",
    "    \"Stretching Vibration atoms- enter bonded atom pairs: \\n example: 1,2 4,5\": [1,3],\n",
    "    \"Bend Threshold\": [1600],\n",
    "    \"Bending Vibration atoms - enter atom pairs that have a common atom: \\n example: 4,7\":[5,6],\n",
    "    \"Center_Atoms Dipole\": [],\n",
    "    \"Dipole atoms - indices for coordination transformation: \\n example: 4,5,6 - origin, y-axis, new xy plane\": [[2,3,1], [29,27,28], [8,7,9]],\n",
    "    \"Sub-Atoms NPA\": [],\n",
    "    \"NPA manipulation atoms - Insert atoms to show NPA: \\n example: 1,2,4\": [[2,3,1], [29,27,28], [8,7,9]],\n",
    "    \"charges values - Insert atoms to show charge: \\n example: 1,2,3,4\": [1,2,3,28],\n",
    "    \"charge_diff - Insert atoms to show charge difference: \\n example: 1,2 3,4\": [[2,3], [1,2]],\n",
    "    \"Sterimol atoms - Primary axis along: \\n example: 7,8\": [[4,1],[1,4],[17,14]],\n",
    "    \"Bond_length - Atom pairs to calculate difference: \\n example: 1,2 4,5\": [[1,2], [1,3]],\n",
    "    \"Bond_Angle - Insert a list of atom triads/quartets for which you wish to have angles/dihedrals: \\n example: 1,3,4 5,6,7,4\": [2,1,4,7]\n",
    "}\n",
    "\n",
    "df=mols.get_molecules_comp_set_app(entry_widgets=answers_dict,answers_list=None)"
   ]
  },
  {
   "cell_type": "code",
   "execution_count": 1,
   "metadata": {},
   "outputs": [
    {
     "ename": "ModuleNotFoundError",
     "evalue": "No module named 'shap'",
     "output_type": "error",
     "traceback": [
      "\u001b[1;31m---------------------------------------------------------------------------\u001b[0m",
      "\u001b[1;31mModuleNotFoundError\u001b[0m                       Traceback (most recent call last)",
      "Cell \u001b[1;32mIn[1], line 2\u001b[0m\n\u001b[0;32m      1\u001b[0m \u001b[38;5;28;01mimport\u001b[39;00m \u001b[38;5;21;01mmatplotlib\u001b[39;00m\u001b[38;5;21;01m.\u001b[39;00m\u001b[38;5;21;01mpyplot\u001b[39;00m \u001b[38;5;28;01mas\u001b[39;00m \u001b[38;5;21;01mplt\u001b[39;00m\n\u001b[1;32m----> 2\u001b[0m \u001b[38;5;28;01mimport\u001b[39;00m \u001b[38;5;21;01mshap\u001b[39;00m\n\u001b[0;32m      3\u001b[0m \u001b[38;5;28;01mimport\u001b[39;00m \u001b[38;5;21;01mseaborn\u001b[39;00m \u001b[38;5;28;01mas\u001b[39;00m \u001b[38;5;21;01msns\u001b[39;00m\n\u001b[0;32m      4\u001b[0m \u001b[38;5;28;01mimport\u001b[39;00m \u001b[38;5;21;01mpandas\u001b[39;00m \u001b[38;5;28;01mas\u001b[39;00m \u001b[38;5;21;01mpd\u001b[39;00m\n",
      "\u001b[1;31mModuleNotFoundError\u001b[0m: No module named 'shap'"
     ]
    }
   ],
   "source": [
    "import matplotlib.pyplot as plt\n",
    "import shap\n",
    "import seaborn as sns\n",
    "import pandas as pd\n",
    "\n",
    "def plot_shap_summary(model, X, feature_names=None, max_display=20, figsize=(12, 8)):\n",
    "    \"\"\"\n",
    "    Plot SHAP summary visualization for the given model.\n",
    "    \n",
    "    Parameters:\n",
    "    -----------\n",
    "    model : model object\n",
    "        The fitted model for which to calculate SHAP values.\n",
    "        Should have a predict method.\n",
    "    X : numpy.ndarray or pandas.DataFrame\n",
    "        Feature matrix for which to compute SHAP values.\n",
    "    feature_names : list, optional\n",
    "        Names of features. If None and X is a DataFrame, column names are used.\n",
    "    max_display : int, optional\n",
    "        Maximum number of features to show in the plot.\n",
    "    figsize : tuple, optional\n",
    "        Figure size (width, height) in inches.\n",
    "    \n",
    "    Returns:\n",
    "    --------\n",
    "    fig : matplotlib.figure.Figure\n",
    "        The created figure object.\n",
    "    \"\"\"\n",
    "\n",
    "    # Determine feature names\n",
    "    if feature_names is None and isinstance(X, pd.DataFrame):\n",
    "        feature_names = X.columns.tolist()\n",
    "    \n",
    "    # Create SHAP explainer based on the model type\n",
    "    explainer = None\n",
    "    try:\n",
    "        # Try to use the most appropriate explainer\n",
    "        if hasattr(model, \"predict_proba\"):\n",
    "            explainer = shap.Explainer(model)\n",
    "        else:\n",
    "            explainer = shap.Explainer(model)\n",
    "    except Exception as e:\n",
    "        print(f\"Error creating explainer: {e}\")\n",
    "        # Fallback to KernelExplainer which works with any model\n",
    "        explainer = shap.KernelExplainer(model.predict, shap.sample(X, 50))\n",
    "    \n",
    "    # Calculate SHAP values\n",
    "    shap_values = explainer.shap_values(X)\n",
    "    \n",
    "    # Handle different output formats from different explainers\n",
    "    if isinstance(shap_values, list):\n",
    "        # For multi-class models, use the first class\n",
    "        shap_values = shap_values[0]\n",
    "    \n",
    "    # Create plot\n",
    "    plt.figure(figsize=figsize)\n",
    "    fig = plt.gcf()\n",
    "    \n",
    "    # Plot SHAP summary\n",
    "    if feature_names:\n",
    "        shap.summary_plot(shap_values, X, feature_names=feature_names, \n",
    "                            max_display=max_display, show=False)\n",
    "    else:\n",
    "        shap.summary_plot(shap_values, X, max_display=max_display, show=False)\n",
    "    \n",
    "    plt.tight_layout()\n",
    "    plt.savefig('shap_summary.png', dpi=300, bbox_inches='tight')\n",
    "    plt.show()\n",
    "    \n",
    "    return fig\n",
    "\n",
    "def plot_shap_dependence(model, X, feature_idx, interaction_idx=None, feature_names=None, figsize=(10, 6)):\n",
    "    \"\"\"\n",
    "    Plot SHAP dependence plot for a specific feature, optionally with interaction.\n",
    "    \n",
    "    Parameters:\n",
    "    -----------\n",
    "    model : model object\n",
    "        The fitted model for which to calculate SHAP values.\n",
    "    X : numpy.ndarray or pandas.DataFrame\n",
    "        Feature matrix for which to compute SHAP values.\n",
    "    feature_idx : int or str\n",
    "        Index or name of the feature to plot.\n",
    "    interaction_idx : int or str, optional\n",
    "        Index or name of the feature to use for interaction coloring.\n",
    "    feature_names : list, optional\n",
    "        Names of features. If None and X is a DataFrame, column names are used.\n",
    "    figsize : tuple, optional\n",
    "        Figure size (width, height) in inches.\n",
    "    \n",
    "    Returns:\n",
    "    --------\n",
    "    fig : matplotlib.figure.Figure\n",
    "        The created figure object.\n",
    "    \"\"\"\n",
    "    # Determine feature names\n",
    "    if feature_names is None and isinstance(X, pd.DataFrame):\n",
    "        feature_names = X.columns.tolist()\n",
    "        \n",
    "        # If feature_idx or interaction_idx is a string, convert to index\n",
    "        if isinstance(feature_idx, str):\n",
    "            feature_idx = feature_names.index(feature_idx)\n",
    "        if interaction_idx is not None and isinstance(interaction_idx, str):\n",
    "            interaction_idx = feature_names.index(interaction_idx)\n",
    "    \n",
    "    # Create SHAP explainer\n",
    "    try:\n",
    "        explainer = shap.Explainer(model)\n",
    "    except Exception as e:\n",
    "        print(f\"Error creating explainer: {e}\")\n",
    "        explainer = shap.KernelExplainer(model.predict, shap.sample(X, 50))\n",
    "    \n",
    "    # Calculate SHAP values\n",
    "    shap_values = explainer.shap_values(X)\n",
    "    \n",
    "    # Handle different output formats\n",
    "    if isinstance(shap_values, list):\n",
    "        shap_values = shap_values[0]\n",
    "    \n",
    "    # Create plot\n",
    "    plt.figure(figsize=figsize)\n",
    "    fig = plt.gcf()\n",
    "    \n",
    "    # Plot SHAP dependence\n",
    "    if feature_names:\n",
    "        # Get actual feature name\n",
    "        feature_name = feature_names[feature_idx] if isinstance(feature_idx, int) else feature_idx\n",
    "        interaction_name = None\n",
    "        if interaction_idx is not None:\n",
    "            interaction_name = feature_names[interaction_idx] if isinstance(interaction_idx, int) else interaction_idx\n",
    "        \n",
    "        shap.dependence_plot(\n",
    "            feature_idx, shap_values, X, \n",
    "            interaction_index=interaction_idx,\n",
    "            feature_names=feature_names, \n",
    "            show=False\n",
    "        )\n",
    "        \n",
    "        # Update title to be more descriptive\n",
    "        plt.title(f\"SHAP Dependence Plot for {feature_name}\" + \n",
    "                    (f\" with {interaction_name} Interaction\" if interaction_name else \"\"))\n",
    "    else:\n",
    "        shap.dependence_plot(\n",
    "            feature_idx, shap_values, X, \n",
    "            interaction_index=interaction_idx,\n",
    "            show=False\n",
    "        )\n",
    "    \n",
    "    plt.tight_layout()\n",
    "    save_name = f\"shap_dependence_{feature_idx}\"\n",
    "    if interaction_idx is not None:\n",
    "        save_name += f\"_interaction_{interaction_idx}\"\n",
    "    plt.savefig(f'{save_name}.png', dpi=300, bbox_inches='tight')\n",
    "    plt.show()\n",
    "    \n",
    "    return fig\n",
    "\n",
    "def analyze_shap_values(model, X, feature_names=None, target_name=\"output\", n_top_features=10):\n",
    "    \"\"\"\n",
    "    Perform comprehensive SHAP analysis on a model and return detailed results.\n",
    "    \n",
    "    Parameters:\n",
    "    -----------\n",
    "    model : model object\n",
    "        The fitted model to analyze.\n",
    "    X : numpy.ndarray or pandas.DataFrame\n",
    "        Feature matrix for which to compute SHAP values.\n",
    "    feature_names : list, optional\n",
    "        Names of features. If None and X is a DataFrame, column names are used.\n",
    "    target_name : str, optional\n",
    "        Name of the target variable for reporting.\n",
    "    n_top_features : int, optional\n",
    "        Number of top features to include in the detailed analysis.\n",
    "    \n",
    "    Returns:\n",
    "    --------\n",
    "    dict\n",
    "        Dictionary containing SHAP analysis results, including:\n",
    "        - shap_values: Raw SHAP values\n",
    "        - feature_importance: DataFrame of features sorted by mean absolute SHAP value\n",
    "        - interaction_strength: DataFrame of feature interactions (if supported)\n",
    "    \"\"\"\n",
    "    \n",
    "    \n",
    "    # Determine feature names\n",
    "    if feature_names is None:\n",
    "        if isinstance(X, pd.DataFrame):\n",
    "            feature_names = X.columns.tolist()\n",
    "        else:\n",
    "            feature_names = [f\"Feature {i}\" for i in range(X.shape[1])]\n",
    "    \n",
    "    results = {}\n",
    "    \n",
    "    # Create explainer\n",
    "    try:\n",
    "        explainer = shap.Explainer(model)\n",
    "        print(\"Using TreeExplainer for SHAP analysis\")\n",
    "    except Exception as e:\n",
    "        print(f\"TreeExplainer failed: {e}. Falling back to KernelExplainer.\")\n",
    "        explainer = shap.KernelExplainer(model.predict, shap.sample(X, min(50, X.shape[0])))\n",
    "    \n",
    "    # Calculate SHAP values\n",
    "    shap_values = explainer.shap_values(X)\n",
    "    \n",
    "    # Handle different output formats\n",
    "    if isinstance(shap_values, list):\n",
    "        # For multi-class models, use mean across classes or first class\n",
    "        if len(shap_values) > 1:\n",
    "            print(f\"Multi-class model detected with {len(shap_values)} classes\")\n",
    "            mean_shap = np.abs(np.array(shap_values)).mean(axis=0)\n",
    "            results['shap_values'] = shap_values\n",
    "            results['mean_shap'] = mean_shap\n",
    "        else:\n",
    "            mean_shap = np.abs(shap_values[0])\n",
    "            results['shap_values'] = shap_values[0]\n",
    "            results['mean_shap'] = mean_shap\n",
    "    else:\n",
    "        mean_shap = np.abs(shap_values)\n",
    "        results['shap_values'] = shap_values\n",
    "        results['mean_shap'] = mean_shap\n",
    "    \n",
    "    # Feature importance based on SHAP values\n",
    "    feature_importance = pd.DataFrame({\n",
    "        'Feature': feature_names,\n",
    "        'Mean Absolute SHAP Value': np.mean(np.abs(mean_shap), axis=0),\n",
    "        'Max Absolute SHAP Value': np.max(np.abs(mean_shap), axis=0)\n",
    "    })\n",
    "    feature_importance = feature_importance.sort_values('Mean Absolute SHAP Value', ascending=False)\n",
    "    results['feature_importance'] = feature_importance\n",
    "    \n",
    "    # Get top features\n",
    "    top_features = feature_importance['Feature'].head(n_top_features).tolist()\n",
    "    results['top_features'] = top_features\n",
    "    \n",
    "    # Plot SHAP summary\n",
    "    fig_summary = plot_shap_summary(model, X, feature_names, max_display=n_top_features)\n",
    "    results['fig_summary'] = fig_summary\n",
    "    \n",
    "    # Plot dependence plots for top features\n",
    "    dependence_plots = []\n",
    "    for feature in top_features[:5]:  # Limit to first 5 to avoid too many plots\n",
    "        fig_dep = plot_shap_dependence(model, X, \n",
    "                                        feature if isinstance(X, pd.DataFrame) else feature_names.index(feature),\n",
    "                                        feature_names=feature_names)\n",
    "        dependence_plots.append(fig_dep)\n",
    "    results['dependence_plots'] = dependence_plots\n",
    "    \n",
    "    # Try to calculate and plot interactions (if supported)\n",
    "    try:\n",
    "        if hasattr(explainer, 'shap_interaction_values'):\n",
    "            shap_interaction = explainer.shap_interaction_values(X)\n",
    "            if isinstance(shap_interaction, list):\n",
    "                shap_interaction = shap_interaction[0]\n",
    "            \n",
    "            # Calculate interaction strengths\n",
    "            interaction_strength = np.zeros((X.shape[1], X.shape[1]))\n",
    "            for i in range(X.shape[1]):\n",
    "                for j in range(X.shape[1]):\n",
    "                    if i != j:\n",
    "                        interaction_strength[i, j] = np.abs(shap_interaction[:, i, j]).mean()\n",
    "            \n",
    "            interaction_df = pd.DataFrame(interaction_strength, \n",
    "                                            index=feature_names,\n",
    "                                            columns=feature_names)\n",
    "            results['interaction_strength'] = interaction_df\n",
    "            \n",
    "            # Plot top interactions\n",
    "            plt.figure(figsize=(10, 8))\n",
    "            sns.heatmap(interaction_df, cmap='viridis', annot=True, fmt=\".4f\")\n",
    "            plt.title(\"SHAP Interaction Strengths\")\n",
    "            plt.tight_layout()\n",
    "            plt.savefig('shap_interactions.png', dpi=300, bbox_inches='tight')\n",
    "            results['fig_interaction'] = plt.gcf()\n",
    "    except Exception as e:\n",
    "        print(f\"Interaction analysis not supported by this explainer: {e}\")\n",
    "    \n",
    "    return results"
   ]
  },
  {
   "cell_type": "code",
   "execution_count": null,
   "metadata": {},
   "outputs": [
    {
     "name": "stdout",
     "output_type": "stream",
     "text": [
      "Database already exists at: results_Lutz_new_features.db\n",
      "Table 'regression_results' has been ensured to exist.\n",
      "linear model selected\n",
      "\n",
      "--- Correlation Report ---\n",
      "Features with correlation above 0.8:\n",
      "['cm5_diff_1-5', 'loc_B5_2-17', 'dip_x_NPA_1-2-3', 'cm5_atom_4', 'total_dipole_1-2-3', 'cm5_diff_15-5', 'nbo_atom_21', 'dipole_z_1-2-3', 'B5_17-2', 'B5_7-6', 's_C2_L_FL', 'dip_z_NPA_1-2-3', 'bond_length_1-2', 'cm5_atom_3', 'B1_6-7', 'L_7-6', 'Frequency_Stretch_1_21', 'dip_z_NPA_4-5-6', 'total_dipole_2-3-4', 'nbo_atom_2', 'cm5_atom_2', 'IE (Ha)', 'hirshfeld_atom_3', 'dipole_y_2-3-4', 'nbo_atom_6', 'hirshfeld_atom_1', 'L_17-2', 'dipole_x_1-2-3', 'L_2-17', 'loc_B5_6-7', 'dipole_y_1-2-3', 'dipole_z_2-3-4', 'cm5_atom_6', 'dihedral_[5, 4, 3, 2]', 'cm5_atom_21', 'hirshfeld_diff_15-5', 'nbo_C2_CMC', 'total_dipole_NPA_1-2-3', 'dip_y_NPA_1-2-3', 'hirshfeld_diff_1-5', 'hirshfeld_atom_5', 'B1_B5_angle_7-6', 'cm5_atom_17', 'dipole_x_2-3-4', 'nbo_atom_5', 'nbo_diff_1-5', 'nbo_atom_4', 'L_6-7', 'nbo_atom_17', 'hirshfeld_atom_2', 'nbo_C6_CMC', 'dip_y_NPA_4-5-6', 'nbo_atom_3', 'hirshfeld_atom_17', 'hirshfeld_atom_21', 'dip_x_NPA_4-5-6', 'total_dipole_NPA_4-5-6', 'hirshfeld_atom_4', 'nbo_diff_15-5', 'cm5_atom_1']\n",
      "\n"
     ]
    },
    {
     "data": {
      "image/png": "[encoded data removed]",
      "text/plain": [
       "<Figure size 600x500 with 2 Axes>"
      ]
     },
     "metadata": {},
     "output_type": "display_data"
    },
    {
     "name": "stdout",
     "output_type": "stream",
     "text": [
      "\n",
      "Correlated features were not dropped.\n",
      "\n"
     ]
    },
    {
     "data": {
      "image/png": "[encoded data removed]",
      "text/plain": [
       "<Figure size 800x500 with 1 Axes>"
      ]
     },
     "metadata": {},
     "output_type": "display_data"
    },
    {
     "data": {
      "image/png": "[encoded data removed]",
      "text/plain": [
       "<Figure size 800x500 with 1 Axes>"
      ]
     },
     "metadata": {},
     "output_type": "display_data"
    },
    {
     "data": {
      "image/png": "[encoded data removed]",
      "text/plain": [
       "<Figure size 800x500 with 1 Axes>"
      ]
     },
     "metadata": {},
     "output_type": "display_data"
    },
    {
     "data": {
      "image/png": "[encoded data removed]",
      "text/plain": [
       "<Figure size 800x500 with 1 Axes>"
      ]
     },
     "metadata": {},
     "output_type": "display_data"
    },
    {
     "data": {
      "text/plain": [
       "[<Figure size 800x500 with 1 Axes>,\n",
       " <Figure size 800x500 with 1 Axes>,\n",
       " <Figure size 800x500 with 1 Axes>,\n",
       " <Figure size 800x500 with 1 Axes>]"
      ]
     },
     "execution_count": 2,
     "metadata": {},
     "output_type": "execute_result"
    }
   ],
   "source": [
    "csv_path=r'C:\\Users\\edens\\Documents\\GitHub\\Robert\\Lutz_new_features.csv'\n",
    "\n",
    "# csv_path=r'C:\\Users\\edens\\Documents\\GitHub\\lucas_project\\new_update_logs\\added_features_try34.csv'\n",
    "\n",
    "csv_filepaths = {\n",
    "'features_csv_filepath': csv_path,\n",
    "'target_csv_filepath': ''\n",
    "}\n",
    "# ['LS2008','LS1643']\n",
    "# ('B1_B5_angle_4-3', 'L_11-6', 'bond_length_11-12')\n",
    "df=pd.read_csv(csv_path, index_col=0)\n",
    "\n",
    "# df.drop(columns=['Unnamed: 0'], inplace=True, errors='ignore')\n",
    "leave_out = [\n",
    "    \"LS1621\", \"LS1622\", \"LS1630\", \"LS1641\", \"LS1642\", \"LS1643\",\n",
    "    \"LS1661\", \"LS1663\", \"LS1714\", \"LS1715\", \"LS1716\", \"LS1717\",\n",
    "    \"LS1721\", \"LS1723\", \"LS1726\", \"LS1734\", \"LS1736\",\n",
    "    \"LS2000\", \"LS2001\", \"LS2002\", \"LS2003\", \"LS2006\", \"LS2007\", \"LS2008\"\n",
    "]\n",
    "\n",
    "# pick 4 random samples to leave out\n",
    "# leave_out = (np.random.choice(df_drop.index-1, size=5, replace=False)-1).tolist()\n",
    "# print(f\"idx: {df.index}\")\n",
    "leave_out=[3,22,16,15,12] # \n",
    "leave_out=[1,20,14,13,10] # \n",
    "Regression_model = LinearRegressionModel(csv_filepaths, process_method='one csv', output_name='output', leave_out=leave_out, min_features_num=2, max_features_num=None, metrics=None, return_coefficients=False)\n",
    "\n",
    "features=['IE (Ha)', 'dipole_x_1-2-3','hirshfeld_atom_1','bond_length_5-6']\n",
    "features_2=['IE (Ha)', 'dip_x_NPA_4-5-6','hirshfeld_atom_1','bond_length_5-6']\n",
    "features_origin =['IE (Ha)','nbo_C2_CMC','nbo_C6_CMC','s_C2_L_FL']\n",
    "df_features = Regression_model.features_df[features]\n",
    "# analyze_shap_values(Regression_model.model, df_features, feature_names=features)\n",
    "# plot.plot_all_features_vs_target(df_features, Regression_model.target_vector)\n",
    "\n",
    "\n",
    "# plot.generate_and_display_q2_scatter_plot(Regression_model,features_origin)\n",
    "\n",
    "\n",
    "# plot.generate_and_display_q2_scatter_plot(Regression_model,features)\n",
    "\n",
    "\n",
    "# plot.generate_and_display_q2_scatter_plot(Regression_model,features_2)\n"
   ]
  },
  {
   "cell_type": "code",
   "execution_count": 3,
   "metadata": {},
   "outputs": [
    {
     "name": "stderr",
     "output_type": "stream",
     "text": [
      "[autoreload of plot failed: Traceback (most recent call last):\n",
      "  File \"c:\\Users\\edens\\anaconda3\\envs\\labenv\\lib\\site-packages\\IPython\\extensions\\autoreload.py\", line 276, in check\n",
      "    superreload(m, reload, self.old_objects)\n",
      "  File \"c:\\Users\\edens\\anaconda3\\envs\\labenv\\lib\\site-packages\\IPython\\extensions\\autoreload.py\", line 475, in superreload\n",
      "    module = reload(module)\n",
      "  File \"c:\\Users\\edens\\anaconda3\\envs\\labenv\\lib\\importlib\\__init__.py\", line 168, in reload\n",
      "    raise ModuleNotFoundError(f\"spec not found for the module {name!r}\", name=name)\n",
      "ModuleNotFoundError: spec not found for the module 'plot'\n",
      "]\n"
     ]
    },
    {
     "name": "stdout",
     "output_type": "stream",
     "text": [
      "Starting generate_and_display_q2_scatter_plot...\n",
      "Extracting features from model.features_df...\n",
      "Using single train/test split with test size 0.1 and random state 42\n",
      "Index 0: Actual = -1.000, Predicted = -0.857, % Error = -14.35%\n",
      "Index 1: Actual = 0.190, Predicted = -0.135, % Error = -171.27%\n",
      "Index 2: Actual = -0.570, Predicted = -0.356, % Error = -37.54%\n",
      "Index 3: Actual = -0.680, Predicted = -0.440, % Error = -35.31%\n",
      "Index 4: Actual = -1.130, Predicted = -0.945, % Error = -16.41%\n",
      "Index 5: Actual = -0.650, Predicted = -0.727, % Error = 11.90%\n",
      "Index 6: Actual = -0.240, Predicted = -0.502, % Error = 109.34%\n",
      "Index 7: Actual = -1.740, Predicted = -1.951, % Error = 12.10%\n",
      "Index 8: Actual = -1.180, Predicted = -1.031, % Error = -12.63%\n",
      "Index 9: Actual = -1.530, Predicted = -1.711, % Error = 11.80%\n",
      "Index 10: Actual = -1.740, Predicted = -1.545, % Error = -11.18%\n",
      "Index 11: Actual = -0.590, Predicted = -0.887, % Error = 50.35%\n",
      "Index 12: Actual = -1.050, Predicted = -0.932, % Error = -11.21%\n",
      "Index 13: Actual = -1.000, Predicted = -0.965, % Error = -3.53%\n",
      "Index 14: Actual = -1.130, Predicted = -0.995, % Error = -11.92%\n",
      "Index 15: Actual = -0.080, Predicted = 0.004, % Error = -105.19%\n",
      "Index 16: Actual = 0.170, Predicted = 0.025, % Error = -85.33%\n",
      "Training Set Results: {'r2': 0.889914949986873, 'Q2': 0.8899149499868731, 'MAE': 0.17628638230828042, 'RMSD': 0.19186052213867155}\n",
      "Calculating cross-validation metrics for 3-fold CV...\n",
      "Using Repeated K-Fold cross-validation with 3 splits and 100 iterations...\n",
      "3-fold CV metrics: Q2: 0.7057045931699291, MAE: 0.2928365124088668, RMSD: 0.35397553734020953\n",
      "Calculating cross-validation metrics for 5-fold CV...\n",
      "Using Repeated K-Fold cross-validation with 5 splits and 100 iterations...\n",
      "5-fold CV metrics: Q2: 0.7560348628732434, MAE: 0.2624623227044327, RMSD: 0.2989459461954608\n",
      "Calculating cross-validation metrics for LOOCV...\n",
      "Using Leave-One-Out cross-validation (LOO)...\n",
      "LOOCV metrics: Q2: 0.7836866317448838, MAE: 0.25187898860763597, RMSD: 0.2744162356836743\n",
      "Calculating left-out samples prediction and metrics...\n",
      "Left-out samples prediction completed. (array([-0.43115825, -0.57514979, -1.57647996, -0.90694857, -1.86803328]), array([-0.21884175,  0.15514979,  0.12647996, -0.12305143, -0.30196672]))\n",
      "Successfully predicted left-out samples: (array([-0.43115825, -0.57514979, -1.57647996, -0.90694857, -1.86803328]), array([-0.21884175,  0.15514979,  0.12647996, -0.12305143, -0.30196672]))\n",
      "                  Molecule  Actual  Predicted  Error in %\n",
      "0   FL_lig_3_str_optimized   -0.65  -0.431158   33.667961\n",
      "1  FL_lig_22_str_optimized   -0.42  -0.575150   36.940427\n",
      "2  FL_lig_16_str_optimized   -1.45  -1.576480    8.722756\n",
      "3  FL_lig_15_str_optimized   -1.03  -0.906949   11.946741\n",
      "4  FL_lig_12_str_optimized   -2.17  -1.868033   13.915517\n",
      "R² for left-out predictions: 0.8992\n",
      "MAE for left-out predictions: 0.1851\n",
      "Folds DataFrame prepared:\n",
      "   Q2_3_Fold     MAE_3    RMSD_3  Q2_5_Fold     MAE_5    RMSD_5  Q2_LOOCV  \\\n",
      "0   0.705705  0.292837  0.353976   0.756035  0.262462  0.298946  0.783687   \n",
      "\n",
      "   MAE_LOOCV  RMSD_LOOCV  \n",
      "0   0.251879    0.274416  \n",
      "Calculating fixed margin lines and axis bounds…\n",
      "\n",
      "\n",
      "\n",
      "\n",
      "VIF Table\n",
      "\n",
      "---\n",
      "\n",
      "| variable               |     VIF |\n",
      "|:-----------------------|--------:|\n",
      "| Frequency_Stretch_1_21 | 5.12165 |\n",
      "| hirshfeld_atom_1       | 2.16627 |\n",
      "| B1_6-7                 | 2.70985 |\n",
      "| bond_length_5-6        | 1.41238 |\n",
      "Calculating R^2 value...\n",
      "R^2 value: 0.8899, MAE: 0.1763\n",
      "R^2 calculated: 0.8899149499868729\n",
      "Retrieving coefficient estimates...\n",
      "Coefficient estimates retrieved:\n",
      "                        Estimate  Std. Error    t value       p value\n",
      "(Intercept)            -0.884202    0.065477 -13.504112  1.283990e-08\n",
      "Frequency_Stretch_1_21  0.237206    0.181701   1.305476  2.162060e-01\n",
      "hirshfeld_atom_1        0.428966    0.081367   5.271971  1.971721e-04\n",
      "B1_6-7                 -0.214863    0.097038  -2.214218  4.692357e-02\n",
      "bond_length_5-6        -0.441895    0.071904  -6.145649  4.978984e-05\n",
      "Calling generate_q2_scatter_plot with computed values...\n",
      "Plot generated successfully.\n",
      "Finished generate_and_display_q2_scatter_plot.\n"
     ]
    },
    {
     "data": {
      "image/png": "[encoded data removed]",
      "text/plain": [
       "<Figure size 1600x600 with 1 Axes>"
      ]
     },
     "metadata": {},
     "output_type": "display_data"
    }
   ],
   "source": [
    "features_sterimol =['Frequency_Stretch_1_21','hirshfeld_atom_1','B1_6-7','bond_length_5-6']\n",
    "\n",
    "plot.generate_and_display_q2_scatter_plot(Regression_model,features_sterimol)"
   ]
  },
  {
   "cell_type": "code",
   "execution_count": 1,
   "metadata": {},
   "outputs": [
    {
     "ename": "NameError",
     "evalue": "name 'mols' is not defined",
     "output_type": "error",
     "traceback": [
      "\u001b[1;31m---------------------------------------------------------------------------\u001b[0m",
      "\u001b[1;31mNameError\u001b[0m                                 Traceback (most recent call last)",
      "Cell \u001b[1;32mIn[1], line 1\u001b[0m\n\u001b[1;32m----> 1\u001b[0m sterimol_example \u001b[38;5;241m=\u001b[39m \u001b[43mmols\u001b[49m\u001b[38;5;241m.\u001b[39mmolecules[\u001b[38;5;241m0\u001b[39m]\u001b[38;5;241m.\u001b[39mget_sterimol([\u001b[38;5;241m4\u001b[39m,\u001b[38;5;241m1\u001b[39m])\n",
      "\u001b[1;31mNameError\u001b[0m: name 'mols' is not defined"
     ]
    }
   ],
   "source": [
    "sterimol_example = mols.molecules[0].get_sterimol([4,1])"
   ]
  },
  {
   "cell_type": "markdown",
   "metadata": {},
   "source": []
  }
 ],
 "metadata": {
  "kernelspec": {
   "display_name": "labenv",
   "language": "python",
   "name": "python3"
  },
  "language_info": {
   "codemirror_mode": {
    "name": "ipython",
    "version": 3
   },
   "file_extension": ".py",
   "mimetype": "text/x-python",
   "name": "python",
   "nbconvert_exporter": "python",
   "pygments_lexer": "ipython3",
   "version": "3.9.18"
  }
 },
 "nbformat": 4,
 "nbformat_minor": 2
}
