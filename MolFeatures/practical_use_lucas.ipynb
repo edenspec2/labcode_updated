{
 "cells": [
  {
   "cell_type": "code",
   "execution_count": 83,
   "metadata": {},
   "outputs": [
    {
     "name": "stdout",
     "output_type": "stream",
     "text": [
      "Molecules Loaded: ['LS1621.feather', 'LS1622.feather', 'LS1630.feather', 'LS1641.feather', 'LS1642.feather', 'LS1643.feather', 'LS1661.feather', 'LS1663.feather', 'LS1685.feather', 'LS1687.feather', 'LS1688.feather', 'LS1689.feather', 'LS1690.feather', 'LS1695.feather', 'LS1696.feather', 'LS1714.feather', 'LS1715.feather', 'LS1716.feather', 'LS1717.feather', 'LS1721.feather', 'LS1723.feather', 'LS1726.feather', 'LS1734.feather', 'LS1736.feather', 'LS2000.feather', 'LS2001.feather', 'LS2002.feather', 'LS2003.feather', 'LS2004.feather', 'LS2005.feather', 'LS2006.feather', 'LS2007.feather', 'LS2008.feather'] Failed Molecules: []\n"
     ]
    }
   ],
   "source": [
    "%reset -f\n",
    "%reload_ext autoreload\n",
    "%autoreload 2\n",
    "\n",
    "import os\n",
    "import sys\n",
    "import importlib\n",
    "import numpy as np\n",
    "import pandas as pd\n",
    "\n",
    "# === Setup ===\n",
    "ROOT_DIR = r'C:\\Users\\edens\\Documents\\GitHub\\LabCode\\MolFeatures'\n",
    "sys.path.append(ROOT_DIR)\n",
    "sys.path.append(os.path.join(ROOT_DIR, 'M3_modeler'))\n",
    "sys.path.append(os.path.join(ROOT_DIR, 'M2_data_extractor'))\n",
    "sys.path.append(os.path.join(ROOT_DIR, 'utils'))\n",
    "\n",
    "os.chdir(ROOT_DIR)  # Set working directory\n",
    "\n",
    "# === Clear old module caches ===\n",
    "for module in ['data_extractor', 'feather_extractor', 'gaussian_handler', 'help_functions', 'modeling', 'plot']:\n",
    "    sys.modules.pop(module, None)\n",
    "\n",
    "# === Safe Imports ===\n",
    "try:\n",
    "    from data_extractor import Molecules, extract_connectivity\n",
    "    from feather_extractor import logs_to_feather\n",
    "    import gaussian_handler\n",
    "    from gaussian_handler import feather_file_handler\n",
    "    from help_functions import dict_to_horizontal_df, get_df_from_file\n",
    "    import help_functions\n",
    "    import visualize\n",
    "    from modeling import (\n",
    "        ClassificationModel,\n",
    "        LinearRegressionModel,\n",
    "        fit_and_evaluate_single_combination_regression,\n",
    "        fit_and_evaluate_single_combination_classification\n",
    "    )\n",
    "    import plot\n",
    "except ModuleNotFoundError as e:\n",
    "    print(f\"Module import failed: {e}\")\n",
    "\n",
    "# === Config ===\n",
    "pd.set_option('display.max_columns', None)\n",
    "\n",
    "# === Load molecular data ===\n",
    "feather_path = r'C:\\Users\\edens\\Documents\\GitHub\\lucas_project\\new_logs_hirshfeld\\new_feather'\n",
    "mols = Molecules(feather_path)\n",
    "\n"
   ]
  },
  {
   "cell_type": "code",
   "execution_count": 53,
   "metadata": {},
   "outputs": [
    {
     "name": "stdout",
     "output_type": "stream",
     "text": [
      "🔥 dipole vector: array([ -3.0938, -10.2555,   0.6619]) (scaled by 5)\n"
     ]
    },
    {
     "data": {
      "application/vnd.plotly.v1+json": {
       "config": {
        "plotlyServerURL": "https://plot.ly"
       },
       "data": [
        {
         "marker": {
          "color": [
           "black",
           "black",
           "red",
           "black",
           "blue",
           "black",
           "black",
           "black",
           "black",
           "black",
           "blue",
           "green",
           "green",
           "black",
           "white",
           "white",
           "white",
           "white",
           "white",
           "white",
           "white",
           "white",
           "white",
           "white",
           "black",
           "black",
           "white",
           "white",
           "white",
           "black",
           "white",
           "black",
           "white",
           "white",
           "white",
           "white",
           "white"
          ],
          "line": {
           "color": "lightgray",
           "width": 2
          },
          "size": 5
         },
         "mode": "markers",
         "name": "atoms",
         "text": [
          "C",
          "C",
          "O",
          "C",
          "N",
          "C",
          "C",
          "C",
          "C",
          "C",
          "N",
          "Pd",
          "Cl",
          "C",
          "H",
          "H",
          "H",
          "H",
          "H",
          "H",
          "H",
          "H",
          "H",
          "H",
          "C",
          "C",
          "H",
          "H",
          "H",
          "C",
          "H",
          "C",
          "H",
          "H",
          "H",
          "H",
          "H"
         ],
         "type": "scatter3d",
         "x": [
          2.134492,
          2.036881,
          0.724225,
          0.080018,
          0.730345,
          -1.351739,
          -2.009159,
          -3.352694,
          -3.978855,
          -3.244253,
          -1.958228,
          -0.716834,
          0.71839,
          -2.20892,
          -1.884503,
          -2.572219,
          -2.988541,
          -1.467432,
          -3.89869,
          -5.023451,
          -3.696718,
          2.066939,
          2.769276,
          2.480324,
          3.033453,
          2.937968,
          3.252686,
          3.176036,
          1.581602,
          2.606369,
          2.676929,
          4.477691,
          3.63504,
          1.932956,
          5.142751,
          4.616306,
          4.796314
         ],
         "y": [
          -0.694968,
          -2.120286,
          -2.582517,
          -1.480139,
          -0.39805,
          -1.589627,
          -2.806654,
          -2.828523,
          -1.638157,
          -0.459499,
          -0.431489,
          1.344061,
          3.114298,
          2.602218,
          3.631271,
          2.438883,
          2.365864,
          -3.703595,
          -3.762282,
          -1.607622,
          0.49577,
          -2.130198,
          -2.818926,
          0.025106,
          -0.567393,
          0.856649,
          -1.4469,
          1.596068,
          -1.365275,
          -1.558112,
          -2.597163,
          -0.84329,
          0.976786,
          1.085716,
          -0.723004,
          -1.857322,
          -0.139461
         ],
         "z": [
          -0.697091,
          -1.282779,
          -0.879761,
          -0.472746,
          -0.386415,
          -0.14006,
          -0.137508,
          0.209044,
          0.530748,
          0.492557,
          0.166485,
          -0.060908,
          -0.51039,
          0.232751,
          0.112696,
          1.251734,
          -0.496547,
          -0.401285,
          0.225457,
          0.806296,
          0.725846,
          -2.37197,
          -0.888623,
          -1.440554,
          0.553803,
          1.100299,
          2.509882,
          0.334518,
          1.961153,
          1.637804,
          1.307512,
          0.129948,
          1.932223,
          1.454011,
          0.986458,
          -0.251494,
          -0.641922
         ]
        },
        {
         "hoverinfo": "none",
         "line": {
          "color": "black",
          "width": 3
         },
         "mode": "lines",
         "name": "bonds",
         "type": "scatter3d",
         "x": [
          2.134492,
          2.036881,
          null,
          2.036881,
          0.724225,
          null,
          0.724225,
          0.080018,
          null,
          0.080018,
          0.730345,
          null,
          -1.351739,
          -2.009159,
          null,
          -2.009159,
          -3.352694,
          null,
          -3.978855,
          -3.352694,
          null,
          -3.978855,
          -3.244253,
          null,
          -3.244253,
          -1.958228,
          null,
          -1.958228,
          -0.716834,
          null,
          -0.716834,
          0.71839,
          null,
          -2.20892,
          -1.884503,
          null,
          3.033453,
          2.937968,
          null,
          1.581602,
          2.606369,
          null,
          2.606369,
          2.676929,
          null,
          0.080018,
          -1.351739,
          null,
          -0.716834,
          -2.20892,
          null,
          -2.20892,
          -2.572219,
          null,
          2.937968,
          3.176036,
          null,
          -2.988541,
          -2.20892,
          null,
          3.252686,
          2.606369,
          null,
          5.142751,
          4.477691,
          null,
          2.134492,
          0.730345,
          null,
          4.616306,
          4.477691,
          null,
          -1.958228,
          -1.351739,
          null,
          3.033453,
          2.606369,
          null,
          4.796314,
          4.477691,
          null,
          -0.716834,
          0.730345,
          null,
          3.033453,
          4.477691,
          null,
          3.63504,
          2.937968,
          null,
          2.937968,
          1.932956,
          null,
          -1.467432,
          -2.009159,
          null,
          -3.89869,
          -3.352694,
          null,
          -3.978855,
          -5.023451,
          null,
          -3.244253,
          -3.696718,
          null,
          3.033453,
          2.134492,
          null,
          2.134492,
          2.480324,
          null,
          2.036881,
          2.769276,
          null,
          2.036881,
          2.066939,
          null
         ],
         "y": [
          -0.694968,
          -2.120286,
          null,
          -2.120286,
          -2.582517,
          null,
          -2.582517,
          -1.480139,
          null,
          -1.480139,
          -0.39805,
          null,
          -1.589627,
          -2.806654,
          null,
          -2.806654,
          -2.828523,
          null,
          -1.638157,
          -2.828523,
          null,
          -1.638157,
          -0.459499,
          null,
          -0.459499,
          -0.431489,
          null,
          -0.431489,
          1.344061,
          null,
          1.344061,
          3.114298,
          null,
          2.602218,
          3.631271,
          null,
          -0.567393,
          0.856649,
          null,
          -1.365275,
          -1.558112,
          null,
          -1.558112,
          -2.597163,
          null,
          -1.480139,
          -1.589627,
          null,
          1.344061,
          2.602218,
          null,
          2.602218,
          2.438883,
          null,
          0.856649,
          1.596068,
          null,
          2.365864,
          2.602218,
          null,
          -1.4469,
          -1.558112,
          null,
          -0.723004,
          -0.84329,
          null,
          -0.694968,
          -0.39805,
          null,
          -1.857322,
          -0.84329,
          null,
          -0.431489,
          -1.589627,
          null,
          -0.567393,
          -1.558112,
          null,
          -0.139461,
          -0.84329,
          null,
          1.344061,
          -0.39805,
          null,
          -0.567393,
          -0.84329,
          null,
          0.976786,
          0.856649,
          null,
          0.856649,
          1.085716,
          null,
          -3.703595,
          -2.806654,
          null,
          -3.762282,
          -2.828523,
          null,
          -1.638157,
          -1.607622,
          null,
          -0.459499,
          0.49577,
          null,
          -0.567393,
          -0.694968,
          null,
          -0.694968,
          0.025106,
          null,
          -2.120286,
          -2.818926,
          null,
          -2.120286,
          -2.130198,
          null
         ],
         "z": [
          -0.697091,
          -1.282779,
          null,
          -1.282779,
          -0.879761,
          null,
          -0.879761,
          -0.472746,
          null,
          -0.472746,
          -0.386415,
          null,
          -0.14006,
          -0.137508,
          null,
          -0.137508,
          0.209044,
          null,
          0.530748,
          0.209044,
          null,
          0.530748,
          0.492557,
          null,
          0.492557,
          0.166485,
          null,
          0.166485,
          -0.060908,
          null,
          -0.060908,
          -0.51039,
          null,
          0.232751,
          0.112696,
          null,
          0.553803,
          1.100299,
          null,
          1.961153,
          1.637804,
          null,
          1.637804,
          1.307512,
          null,
          -0.472746,
          -0.14006,
          null,
          -0.060908,
          0.232751,
          null,
          0.232751,
          1.251734,
          null,
          1.100299,
          0.334518,
          null,
          -0.496547,
          0.232751,
          null,
          2.509882,
          1.637804,
          null,
          0.986458,
          0.129948,
          null,
          -0.697091,
          -0.386415,
          null,
          -0.251494,
          0.129948,
          null,
          0.166485,
          -0.14006,
          null,
          0.553803,
          1.637804,
          null,
          -0.641922,
          0.129948,
          null,
          -0.060908,
          -0.386415,
          null,
          0.553803,
          0.129948,
          null,
          1.932223,
          1.100299,
          null,
          1.100299,
          1.454011,
          null,
          -0.401285,
          -0.137508,
          null,
          0.225457,
          0.209044,
          null,
          0.530748,
          0.806296,
          null,
          0.492557,
          0.725846,
          null,
          0.553803,
          -0.697091,
          null,
          -0.697091,
          -1.440554,
          null,
          -1.282779,
          -0.888623,
          null,
          -1.282779,
          -2.37197,
          null
         ]
        },
        {
         "line": {
          "color": "red",
          "width": 8
         },
         "mode": "lines",
         "name": "Dipole X",
         "showlegend": true,
         "type": "scatter3d",
         "visible": false,
         "x": [
          0,
          -15.318999999999999
         ],
         "y": [
          0,
          0
         ],
         "z": [
          0,
          0
         ]
        },
        {
         "anchor": "tip",
         "colorscale": [
          [
           0,
           "red"
          ],
          [
           1,
           "red"
          ]
         ],
         "name": "Dipole X",
         "showlegend": false,
         "showscale": false,
         "sizemode": "scaled",
         "sizeref": 0.2,
         "type": "cone",
         "u": [
          -15.469
         ],
         "v": [
          0
         ],
         "visible": false,
         "w": [
          0
         ],
         "x": [
          -15.469
         ],
         "y": [
          0
         ],
         "z": [
          0
         ]
        },
        {
         "line": {
          "color": "green",
          "width": 8
         },
         "mode": "lines",
         "name": "Dipole Y",
         "showlegend": true,
         "type": "scatter3d",
         "visible": false,
         "x": [
          0,
          0
         ],
         "y": [
          0,
          -51.1275
         ],
         "z": [
          0,
          0
         ]
        },
        {
         "anchor": "tip",
         "colorscale": [
          [
           0,
           "green"
          ],
          [
           1,
           "green"
          ]
         ],
         "name": "Dipole Y",
         "showlegend": false,
         "showscale": false,
         "sizemode": "scaled",
         "sizeref": 0.2,
         "type": "cone",
         "u": [
          0
         ],
         "v": [
          -51.277499999999996
         ],
         "visible": false,
         "w": [
          0
         ],
         "x": [
          0
         ],
         "y": [
          -51.277499999999996
         ],
         "z": [
          0
         ]
        },
        {
         "line": {
          "color": "blue",
          "width": 8
         },
         "mode": "lines",
         "name": "Dipole Z",
         "showlegend": true,
         "type": "scatter3d",
         "visible": false,
         "x": [
          0,
          0
         ],
         "y": [
          0,
          0
         ],
         "z": [
          0,
          3.1595000000000004
         ]
        },
        {
         "anchor": "tip",
         "colorscale": [
          [
           0,
           "blue"
          ],
          [
           1,
           "blue"
          ]
         ],
         "name": "Dipole Z",
         "showlegend": false,
         "showscale": false,
         "sizemode": "scaled",
         "sizeref": 0.2,
         "type": "cone",
         "u": [
          0
         ],
         "v": [
          0
         ],
         "visible": false,
         "w": [
          3.3095000000000003
         ],
         "x": [
          0
         ],
         "y": [
          0
         ],
         "z": [
          3.3095000000000003
         ]
        },
        {
         "line": {
          "color": "purple",
          "width": 8
         },
         "mode": "lines",
         "name": "Total Dipole",
         "showlegend": true,
         "type": "scatter3d",
         "visible": false,
         "x": [
          0,
          -15.425760013554589
         ],
         "y": [
          0,
          -51.13416569235538
         ],
         "z": [
          0,
          3.300249063601973
         ]
        },
        {
         "anchor": "tip",
         "colorscale": [
          [
           0,
           "purple"
          ],
          [
           1,
           "purple"
          ]
         ],
         "name": "Total Dipole",
         "showlegend": false,
         "showscale": false,
         "sizemode": "scaled",
         "sizeref": 0.2,
         "type": "cone",
         "u": [
          -15.469
         ],
         "v": [
          -51.277499999999996
         ],
         "visible": false,
         "w": [
          3.3095000000000003
         ],
         "x": [
          -15.469
         ],
         "y": [
          -51.277499999999996
         ],
         "z": [
          3.3095000000000003
         ]
        }
       ],
       "layout": {
        "margin": {
         "b": 0,
         "l": 0,
         "r": 0,
         "t": 0
        },
        "scene": {
         "annotations": [
          {
           "font": {
            "color": "blue"
           },
           "showarrow": false,
           "text": "1",
           "x": 2.134492,
           "y": -0.694968,
           "yshift": 15,
           "z": -0.697091
          },
          {
           "font": {
            "color": "blue"
           },
           "showarrow": false,
           "text": "2",
           "x": 2.036881,
           "y": -2.120286,
           "yshift": 15,
           "z": -1.282779
          },
          {
           "font": {
            "color": "blue"
           },
           "showarrow": false,
           "text": "3",
           "x": 0.724225,
           "y": -2.582517,
           "yshift": 15,
           "z": -0.879761
          },
          {
           "font": {
            "color": "blue"
           },
           "showarrow": false,
           "text": "4",
           "x": 0.080018,
           "y": -1.480139,
           "yshift": 15,
           "z": -0.472746
          },
          {
           "font": {
            "color": "blue"
           },
           "showarrow": false,
           "text": "5",
           "x": 0.730345,
           "y": -0.39805,
           "yshift": 15,
           "z": -0.386415
          },
          {
           "font": {
            "color": "blue"
           },
           "showarrow": false,
           "text": "6",
           "x": -1.351739,
           "y": -1.589627,
           "yshift": 15,
           "z": -0.14006
          },
          {
           "font": {
            "color": "blue"
           },
           "showarrow": false,
           "text": "7",
           "x": -2.009159,
           "y": -2.806654,
           "yshift": 15,
           "z": -0.137508
          },
          {
           "font": {
            "color": "blue"
           },
           "showarrow": false,
           "text": "8",
           "x": -3.352694,
           "y": -2.828523,
           "yshift": 15,
           "z": 0.209044
          },
          {
           "font": {
            "color": "blue"
           },
           "showarrow": false,
           "text": "9",
           "x": -3.978855,
           "y": -1.638157,
           "yshift": 15,
           "z": 0.530748
          },
          {
           "font": {
            "color": "blue"
           },
           "showarrow": false,
           "text": "10",
           "x": -3.244253,
           "y": -0.459499,
           "yshift": 15,
           "z": 0.492557
          },
          {
           "font": {
            "color": "blue"
           },
           "showarrow": false,
           "text": "11",
           "x": -1.958228,
           "y": -0.431489,
           "yshift": 15,
           "z": 0.166485
          },
          {
           "font": {
            "color": "blue"
           },
           "showarrow": false,
           "text": "12",
           "x": -0.716834,
           "y": 1.344061,
           "yshift": 15,
           "z": -0.060908
          },
          {
           "font": {
            "color": "blue"
           },
           "showarrow": false,
           "text": "13",
           "x": 0.71839,
           "y": 3.114298,
           "yshift": 15,
           "z": -0.51039
          },
          {
           "font": {
            "color": "blue"
           },
           "showarrow": false,
           "text": "14",
           "x": -2.20892,
           "y": 2.602218,
           "yshift": 15,
           "z": 0.232751
          },
          {
           "font": {
            "color": "blue"
           },
           "showarrow": false,
           "text": "15",
           "x": -1.884503,
           "y": 3.631271,
           "yshift": 15,
           "z": 0.112696
          },
          {
           "font": {
            "color": "blue"
           },
           "showarrow": false,
           "text": "16",
           "x": -2.572219,
           "y": 2.438883,
           "yshift": 15,
           "z": 1.251734
          },
          {
           "font": {
            "color": "blue"
           },
           "showarrow": false,
           "text": "17",
           "x": -2.988541,
           "y": 2.365864,
           "yshift": 15,
           "z": -0.496547
          },
          {
           "font": {
            "color": "blue"
           },
           "showarrow": false,
           "text": "18",
           "x": -1.467432,
           "y": -3.703595,
           "yshift": 15,
           "z": -0.401285
          },
          {
           "font": {
            "color": "blue"
           },
           "showarrow": false,
           "text": "19",
           "x": -3.89869,
           "y": -3.762282,
           "yshift": 15,
           "z": 0.225457
          },
          {
           "font": {
            "color": "blue"
           },
           "showarrow": false,
           "text": "20",
           "x": -5.023451,
           "y": -1.607622,
           "yshift": 15,
           "z": 0.806296
          },
          {
           "font": {
            "color": "blue"
           },
           "showarrow": false,
           "text": "21",
           "x": -3.696718,
           "y": 0.49577,
           "yshift": 15,
           "z": 0.725846
          },
          {
           "font": {
            "color": "blue"
           },
           "showarrow": false,
           "text": "22",
           "x": 2.066939,
           "y": -2.130198,
           "yshift": 15,
           "z": -2.37197
          },
          {
           "font": {
            "color": "blue"
           },
           "showarrow": false,
           "text": "23",
           "x": 2.769276,
           "y": -2.818926,
           "yshift": 15,
           "z": -0.888623
          },
          {
           "font": {
            "color": "blue"
           },
           "showarrow": false,
           "text": "24",
           "x": 2.480324,
           "y": 0.025106,
           "yshift": 15,
           "z": -1.440554
          },
          {
           "font": {
            "color": "blue"
           },
           "showarrow": false,
           "text": "25",
           "x": 3.033453,
           "y": -0.567393,
           "yshift": 15,
           "z": 0.553803
          },
          {
           "font": {
            "color": "blue"
           },
           "showarrow": false,
           "text": "26",
           "x": 2.937968,
           "y": 0.856649,
           "yshift": 15,
           "z": 1.100299
          },
          {
           "font": {
            "color": "blue"
           },
           "showarrow": false,
           "text": "27",
           "x": 3.252686,
           "y": -1.4469,
           "yshift": 15,
           "z": 2.509882
          },
          {
           "font": {
            "color": "blue"
           },
           "showarrow": false,
           "text": "28",
           "x": 3.176036,
           "y": 1.596068,
           "yshift": 15,
           "z": 0.334518
          },
          {
           "font": {
            "color": "blue"
           },
           "showarrow": false,
           "text": "29",
           "x": 1.581602,
           "y": -1.365275,
           "yshift": 15,
           "z": 1.961153
          },
          {
           "font": {
            "color": "blue"
           },
           "showarrow": false,
           "text": "30",
           "x": 2.606369,
           "y": -1.558112,
           "yshift": 15,
           "z": 1.637804
          },
          {
           "font": {
            "color": "blue"
           },
           "showarrow": false,
           "text": "31",
           "x": 2.676929,
           "y": -2.597163,
           "yshift": 15,
           "z": 1.307512
          },
          {
           "font": {
            "color": "blue"
           },
           "showarrow": false,
           "text": "32",
           "x": 4.477691,
           "y": -0.84329,
           "yshift": 15,
           "z": 0.129948
          },
          {
           "font": {
            "color": "blue"
           },
           "showarrow": false,
           "text": "33",
           "x": 3.63504,
           "y": 0.976786,
           "yshift": 15,
           "z": 1.932223
          },
          {
           "font": {
            "color": "blue"
           },
           "showarrow": false,
           "text": "34",
           "x": 1.932956,
           "y": 1.085716,
           "yshift": 15,
           "z": 1.454011
          },
          {
           "font": {
            "color": "blue"
           },
           "showarrow": false,
           "text": "35",
           "x": 5.142751,
           "y": -0.723004,
           "yshift": 15,
           "z": 0.986458
          },
          {
           "font": {
            "color": "blue"
           },
           "showarrow": false,
           "text": "36",
           "x": 4.616306,
           "y": -1.857322,
           "yshift": 15,
           "z": -0.251494
          },
          {
           "font": {
            "color": "blue"
           },
           "showarrow": false,
           "text": "37",
           "x": 4.796314,
           "y": -0.139461,
           "yshift": 15,
           "z": -0.641922
          }
         ],
         "xaxis": {
          "showbackground": false,
          "showgrid": false,
          "showticklabels": false,
          "title": {
           "font": {
            "color": "white"
           }
          },
          "zeroline": false
         },
         "yaxis": {
          "showbackground": false,
          "showgrid": false,
          "showticklabels": false,
          "title": {
           "font": {
            "color": "white"
           }
          },
          "zeroline": false
         },
         "zaxis": {
          "showbackground": false,
          "showgrid": false,
          "showticklabels": false,
          "title": {
           "font": {
            "color": "white"
           }
          },
          "zeroline": false
         }
        },
        "showlegend": false,
        "template": {
         "data": {
          "bar": [
           {
            "error_x": {
             "color": "#2a3f5f"
            },
            "error_y": {
             "color": "#2a3f5f"
            },
            "marker": {
             "line": {
              "color": "#E5ECF6",
              "width": 0.5
             },
             "pattern": {
              "fillmode": "overlay",
              "size": 10,
              "solidity": 0.2
             }
            },
            "type": "bar"
           }
          ],
          "barpolar": [
           {
            "marker": {
             "line": {
              "color": "#E5ECF6",
              "width": 0.5
             },
             "pattern": {
              "fillmode": "overlay",
              "size": 10,
              "solidity": 0.2
             }
            },
            "type": "barpolar"
           }
          ],
          "carpet": [
           {
            "aaxis": {
             "endlinecolor": "#2a3f5f",
             "gridcolor": "white",
             "linecolor": "white",
             "minorgridcolor": "white",
             "startlinecolor": "#2a3f5f"
            },
            "baxis": {
             "endlinecolor": "#2a3f5f",
             "gridcolor": "white",
             "linecolor": "white",
             "minorgridcolor": "white",
             "startlinecolor": "#2a3f5f"
            },
            "type": "carpet"
           }
          ],
          "choropleth": [
           {
            "colorbar": {
             "outlinewidth": 0,
             "ticks": ""
            },
            "type": "choropleth"
           }
          ],
          "contour": [
           {
            "colorbar": {
             "outlinewidth": 0,
             "ticks": ""
            },
            "colorscale": [
             [
              0,
              "#0d0887"
             ],
             [
              0.1111111111111111,
              "#46039f"
             ],
             [
              0.2222222222222222,
              "#7201a8"
             ],
             [
              0.3333333333333333,
              "#9c179e"
             ],
             [
              0.4444444444444444,
              "#bd3786"
             ],
             [
              0.5555555555555556,
              "#d8576b"
             ],
             [
              0.6666666666666666,
              "#ed7953"
             ],
             [
              0.7777777777777778,
              "#fb9f3a"
             ],
             [
              0.8888888888888888,
              "#fdca26"
             ],
             [
              1,
              "#f0f921"
             ]
            ],
            "type": "contour"
           }
          ],
          "contourcarpet": [
           {
            "colorbar": {
             "outlinewidth": 0,
             "ticks": ""
            },
            "type": "contourcarpet"
           }
          ],
          "heatmap": [
           {
            "colorbar": {
             "outlinewidth": 0,
             "ticks": ""
            },
            "colorscale": [
             [
              0,
              "#0d0887"
             ],
             [
              0.1111111111111111,
              "#46039f"
             ],
             [
              0.2222222222222222,
              "#7201a8"
             ],
             [
              0.3333333333333333,
              "#9c179e"
             ],
             [
              0.4444444444444444,
              "#bd3786"
             ],
             [
              0.5555555555555556,
              "#d8576b"
             ],
             [
              0.6666666666666666,
              "#ed7953"
             ],
             [
              0.7777777777777778,
              "#fb9f3a"
             ],
             [
              0.8888888888888888,
              "#fdca26"
             ],
             [
              1,
              "#f0f921"
             ]
            ],
            "type": "heatmap"
           }
          ],
          "heatmapgl": [
           {
            "colorbar": {
             "outlinewidth": 0,
             "ticks": ""
            },
            "colorscale": [
             [
              0,
              "#0d0887"
             ],
             [
              0.1111111111111111,
              "#46039f"
             ],
             [
              0.2222222222222222,
              "#7201a8"
             ],
             [
              0.3333333333333333,
              "#9c179e"
             ],
             [
              0.4444444444444444,
              "#bd3786"
             ],
             [
              0.5555555555555556,
              "#d8576b"
             ],
             [
              0.6666666666666666,
              "#ed7953"
             ],
             [
              0.7777777777777778,
              "#fb9f3a"
             ],
             [
              0.8888888888888888,
              "#fdca26"
             ],
             [
              1,
              "#f0f921"
             ]
            ],
            "type": "heatmapgl"
           }
          ],
          "histogram": [
           {
            "marker": {
             "pattern": {
              "fillmode": "overlay",
              "size": 10,
              "solidity": 0.2
             }
            },
            "type": "histogram"
           }
          ],
          "histogram2d": [
           {
            "colorbar": {
             "outlinewidth": 0,
             "ticks": ""
            },
            "colorscale": [
             [
              0,
              "#0d0887"
             ],
             [
              0.1111111111111111,
              "#46039f"
             ],
             [
              0.2222222222222222,
              "#7201a8"
             ],
             [
              0.3333333333333333,
              "#9c179e"
             ],
             [
              0.4444444444444444,
              "#bd3786"
             ],
             [
              0.5555555555555556,
              "#d8576b"
             ],
             [
              0.6666666666666666,
              "#ed7953"
             ],
             [
              0.7777777777777778,
              "#fb9f3a"
             ],
             [
              0.8888888888888888,
              "#fdca26"
             ],
             [
              1,
              "#f0f921"
             ]
            ],
            "type": "histogram2d"
           }
          ],
          "histogram2dcontour": [
           {
            "colorbar": {
             "outlinewidth": 0,
             "ticks": ""
            },
            "colorscale": [
             [
              0,
              "#0d0887"
             ],
             [
              0.1111111111111111,
              "#46039f"
             ],
             [
              0.2222222222222222,
              "#7201a8"
             ],
             [
              0.3333333333333333,
              "#9c179e"
             ],
             [
              0.4444444444444444,
              "#bd3786"
             ],
             [
              0.5555555555555556,
              "#d8576b"
             ],
             [
              0.6666666666666666,
              "#ed7953"
             ],
             [
              0.7777777777777778,
              "#fb9f3a"
             ],
             [
              0.8888888888888888,
              "#fdca26"
             ],
             [
              1,
              "#f0f921"
             ]
            ],
            "type": "histogram2dcontour"
           }
          ],
          "mesh3d": [
           {
            "colorbar": {
             "outlinewidth": 0,
             "ticks": ""
            },
            "type": "mesh3d"
           }
          ],
          "parcoords": [
           {
            "line": {
             "colorbar": {
              "outlinewidth": 0,
              "ticks": ""
             }
            },
            "type": "parcoords"
           }
          ],
          "pie": [
           {
            "automargin": true,
            "type": "pie"
           }
          ],
          "scatter": [
           {
            "fillpattern": {
             "fillmode": "overlay",
             "size": 10,
             "solidity": 0.2
            },
            "type": "scatter"
           }
          ],
          "scatter3d": [
           {
            "line": {
             "colorbar": {
              "outlinewidth": 0,
              "ticks": ""
             }
            },
            "marker": {
             "colorbar": {
              "outlinewidth": 0,
              "ticks": ""
             }
            },
            "type": "scatter3d"
           }
          ],
          "scattercarpet": [
           {
            "marker": {
             "colorbar": {
              "outlinewidth": 0,
              "ticks": ""
             }
            },
            "type": "scattercarpet"
           }
          ],
          "scattergeo": [
           {
            "marker": {
             "colorbar": {
              "outlinewidth": 0,
              "ticks": ""
             }
            },
            "type": "scattergeo"
           }
          ],
          "scattergl": [
           {
            "marker": {
             "colorbar": {
              "outlinewidth": 0,
              "ticks": ""
             }
            },
            "type": "scattergl"
           }
          ],
          "scattermapbox": [
           {
            "marker": {
             "colorbar": {
              "outlinewidth": 0,
              "ticks": ""
             }
            },
            "type": "scattermapbox"
           }
          ],
          "scatterpolar": [
           {
            "marker": {
             "colorbar": {
              "outlinewidth": 0,
              "ticks": ""
             }
            },
            "type": "scatterpolar"
           }
          ],
          "scatterpolargl": [
           {
            "marker": {
             "colorbar": {
              "outlinewidth": 0,
              "ticks": ""
             }
            },
            "type": "scatterpolargl"
           }
          ],
          "scatterternary": [
           {
            "marker": {
             "colorbar": {
              "outlinewidth": 0,
              "ticks": ""
             }
            },
            "type": "scatterternary"
           }
          ],
          "surface": [
           {
            "colorbar": {
             "outlinewidth": 0,
             "ticks": ""
            },
            "colorscale": [
             [
              0,
              "#0d0887"
             ],
             [
              0.1111111111111111,
              "#46039f"
             ],
             [
              0.2222222222222222,
              "#7201a8"
             ],
             [
              0.3333333333333333,
              "#9c179e"
             ],
             [
              0.4444444444444444,
              "#bd3786"
             ],
             [
              0.5555555555555556,
              "#d8576b"
             ],
             [
              0.6666666666666666,
              "#ed7953"
             ],
             [
              0.7777777777777778,
              "#fb9f3a"
             ],
             [
              0.8888888888888888,
              "#fdca26"
             ],
             [
              1,
              "#f0f921"
             ]
            ],
            "type": "surface"
           }
          ],
          "table": [
           {
            "cells": {
             "fill": {
              "color": "#EBF0F8"
             },
             "line": {
              "color": "white"
             }
            },
            "header": {
             "fill": {
              "color": "#C8D4E3"
             },
             "line": {
              "color": "white"
             }
            },
            "type": "table"
           }
          ]
         },
         "layout": {
          "annotationdefaults": {
           "arrowcolor": "#2a3f5f",
           "arrowhead": 0,
           "arrowwidth": 1
          },
          "autotypenumbers": "strict",
          "coloraxis": {
           "colorbar": {
            "outlinewidth": 0,
            "ticks": ""
           }
          },
          "colorscale": {
           "diverging": [
            [
             0,
             "#8e0152"
            ],
            [
             0.1,
             "#c51b7d"
            ],
            [
             0.2,
             "#de77ae"
            ],
            [
             0.3,
             "#f1b6da"
            ],
            [
             0.4,
             "#fde0ef"
            ],
            [
             0.5,
             "#f7f7f7"
            ],
            [
             0.6,
             "#e6f5d0"
            ],
            [
             0.7,
             "#b8e186"
            ],
            [
             0.8,
             "#7fbc41"
            ],
            [
             0.9,
             "#4d9221"
            ],
            [
             1,
             "#276419"
            ]
           ],
           "sequential": [
            [
             0,
             "#0d0887"
            ],
            [
             0.1111111111111111,
             "#46039f"
            ],
            [
             0.2222222222222222,
             "#7201a8"
            ],
            [
             0.3333333333333333,
             "#9c179e"
            ],
            [
             0.4444444444444444,
             "#bd3786"
            ],
            [
             0.5555555555555556,
             "#d8576b"
            ],
            [
             0.6666666666666666,
             "#ed7953"
            ],
            [
             0.7777777777777778,
             "#fb9f3a"
            ],
            [
             0.8888888888888888,
             "#fdca26"
            ],
            [
             1,
             "#f0f921"
            ]
           ],
           "sequentialminus": [
            [
             0,
             "#0d0887"
            ],
            [
             0.1111111111111111,
             "#46039f"
            ],
            [
             0.2222222222222222,
             "#7201a8"
            ],
            [
             0.3333333333333333,
             "#9c179e"
            ],
            [
             0.4444444444444444,
             "#bd3786"
            ],
            [
             0.5555555555555556,
             "#d8576b"
            ],
            [
             0.6666666666666666,
             "#ed7953"
            ],
            [
             0.7777777777777778,
             "#fb9f3a"
            ],
            [
             0.8888888888888888,
             "#fdca26"
            ],
            [
             1,
             "#f0f921"
            ]
           ]
          },
          "colorway": [
           "#636efa",
           "#EF553B",
           "#00cc96",
           "#ab63fa",
           "#FFA15A",
           "#19d3f3",
           "#FF6692",
           "#B6E880",
           "#FF97FF",
           "#FECB52"
          ],
          "font": {
           "color": "#2a3f5f"
          },
          "geo": {
           "bgcolor": "white",
           "lakecolor": "white",
           "landcolor": "#E5ECF6",
           "showlakes": true,
           "showland": true,
           "subunitcolor": "white"
          },
          "hoverlabel": {
           "align": "left"
          },
          "hovermode": "closest",
          "mapbox": {
           "style": "light"
          },
          "paper_bgcolor": "white",
          "plot_bgcolor": "#E5ECF6",
          "polar": {
           "angularaxis": {
            "gridcolor": "white",
            "linecolor": "white",
            "ticks": ""
           },
           "bgcolor": "#E5ECF6",
           "radialaxis": {
            "gridcolor": "white",
            "linecolor": "white",
            "ticks": ""
           }
          },
          "scene": {
           "xaxis": {
            "backgroundcolor": "#E5ECF6",
            "gridcolor": "white",
            "gridwidth": 2,
            "linecolor": "white",
            "showbackground": true,
            "ticks": "",
            "zerolinecolor": "white"
           },
           "yaxis": {
            "backgroundcolor": "#E5ECF6",
            "gridcolor": "white",
            "gridwidth": 2,
            "linecolor": "white",
            "showbackground": true,
            "ticks": "",
            "zerolinecolor": "white"
           },
           "zaxis": {
            "backgroundcolor": "#E5ECF6",
            "gridcolor": "white",
            "gridwidth": 2,
            "linecolor": "white",
            "showbackground": true,
            "ticks": "",
            "zerolinecolor": "white"
           }
          },
          "shapedefaults": {
           "line": {
            "color": "#2a3f5f"
           }
          },
          "ternary": {
           "aaxis": {
            "gridcolor": "white",
            "linecolor": "white",
            "ticks": ""
           },
           "baxis": {
            "gridcolor": "white",
            "linecolor": "white",
            "ticks": ""
           },
           "bgcolor": "#E5ECF6",
           "caxis": {
            "gridcolor": "white",
            "linecolor": "white",
            "ticks": ""
           }
          },
          "title": {
           "x": 0.05
          },
          "xaxis": {
           "automargin": true,
           "gridcolor": "white",
           "linecolor": "white",
           "ticks": "",
           "title": {
            "standoff": 15
           },
           "zerolinecolor": "white",
           "zerolinewidth": 2
          },
          "yaxis": {
           "automargin": true,
           "gridcolor": "white",
           "linecolor": "white",
           "ticks": "",
           "title": {
            "standoff": 15
           },
           "zerolinecolor": "white",
           "zerolinewidth": 2
          }
         }
        },
        "title": {
         "text": "LS1621",
         "x": 0.5,
         "xanchor": "center",
         "y": 0.9,
         "yanchor": "top"
        },
        "updatemenus": [
         {
          "buttons": [
           {
            "args": [
             {
              "scene.annotations": [
               {
                "font": {
                 "color": "blue"
                },
                "showarrow": false,
                "text": "1",
                "x": 2.134492,
                "y": -0.694968,
                "yshift": 15,
                "z": -0.697091
               },
               {
                "font": {
                 "color": "blue"
                },
                "showarrow": false,
                "text": "2",
                "x": 2.036881,
                "y": -2.120286,
                "yshift": 15,
                "z": -1.282779
               },
               {
                "font": {
                 "color": "blue"
                },
                "showarrow": false,
                "text": "3",
                "x": 0.724225,
                "y": -2.582517,
                "yshift": 15,
                "z": -0.879761
               },
               {
                "font": {
                 "color": "blue"
                },
                "showarrow": false,
                "text": "4",
                "x": 0.080018,
                "y": -1.480139,
                "yshift": 15,
                "z": -0.472746
               },
               {
                "font": {
                 "color": "blue"
                },
                "showarrow": false,
                "text": "5",
                "x": 0.730345,
                "y": -0.39805,
                "yshift": 15,
                "z": -0.386415
               },
               {
                "font": {
                 "color": "blue"
                },
                "showarrow": false,
                "text": "6",
                "x": -1.351739,
                "y": -1.589627,
                "yshift": 15,
                "z": -0.14006
               },
               {
                "font": {
                 "color": "blue"
                },
                "showarrow": false,
                "text": "7",
                "x": -2.009159,
                "y": -2.806654,
                "yshift": 15,
                "z": -0.137508
               },
               {
                "font": {
                 "color": "blue"
                },
                "showarrow": false,
                "text": "8",
                "x": -3.352694,
                "y": -2.828523,
                "yshift": 15,
                "z": 0.209044
               },
               {
                "font": {
                 "color": "blue"
                },
                "showarrow": false,
                "text": "9",
                "x": -3.978855,
                "y": -1.638157,
                "yshift": 15,
                "z": 0.530748
               },
               {
                "font": {
                 "color": "blue"
                },
                "showarrow": false,
                "text": "10",
                "x": -3.244253,
                "y": -0.459499,
                "yshift": 15,
                "z": 0.492557
               },
               {
                "font": {
                 "color": "blue"
                },
                "showarrow": false,
                "text": "11",
                "x": -1.958228,
                "y": -0.431489,
                "yshift": 15,
                "z": 0.166485
               },
               {
                "font": {
                 "color": "blue"
                },
                "showarrow": false,
                "text": "12",
                "x": -0.716834,
                "y": 1.344061,
                "yshift": 15,
                "z": -0.060908
               },
               {
                "font": {
                 "color": "blue"
                },
                "showarrow": false,
                "text": "13",
                "x": 0.71839,
                "y": 3.114298,
                "yshift": 15,
                "z": -0.51039
               },
               {
                "font": {
                 "color": "blue"
                },
                "showarrow": false,
                "text": "14",
                "x": -2.20892,
                "y": 2.602218,
                "yshift": 15,
                "z": 0.232751
               },
               {
                "font": {
                 "color": "blue"
                },
                "showarrow": false,
                "text": "15",
                "x": -1.884503,
                "y": 3.631271,
                "yshift": 15,
                "z": 0.112696
               },
               {
                "font": {
                 "color": "blue"
                },
                "showarrow": false,
                "text": "16",
                "x": -2.572219,
                "y": 2.438883,
                "yshift": 15,
                "z": 1.251734
               },
               {
                "font": {
                 "color": "blue"
                },
                "showarrow": false,
                "text": "17",
                "x": -2.988541,
                "y": 2.365864,
                "yshift": 15,
                "z": -0.496547
               },
               {
                "font": {
                 "color": "blue"
                },
                "showarrow": false,
                "text": "18",
                "x": -1.467432,
                "y": -3.703595,
                "yshift": 15,
                "z": -0.401285
               },
               {
                "font": {
                 "color": "blue"
                },
                "showarrow": false,
                "text": "19",
                "x": -3.89869,
                "y": -3.762282,
                "yshift": 15,
                "z": 0.225457
               },
               {
                "font": {
                 "color": "blue"
                },
                "showarrow": false,
                "text": "20",
                "x": -5.023451,
                "y": -1.607622,
                "yshift": 15,
                "z": 0.806296
               },
               {
                "font": {
                 "color": "blue"
                },
                "showarrow": false,
                "text": "21",
                "x": -3.696718,
                "y": 0.49577,
                "yshift": 15,
                "z": 0.725846
               },
               {
                "font": {
                 "color": "blue"
                },
                "showarrow": false,
                "text": "22",
                "x": 2.066939,
                "y": -2.130198,
                "yshift": 15,
                "z": -2.37197
               },
               {
                "font": {
                 "color": "blue"
                },
                "showarrow": false,
                "text": "23",
                "x": 2.769276,
                "y": -2.818926,
                "yshift": 15,
                "z": -0.888623
               },
               {
                "font": {
                 "color": "blue"
                },
                "showarrow": false,
                "text": "24",
                "x": 2.480324,
                "y": 0.025106,
                "yshift": 15,
                "z": -1.440554
               },
               {
                "font": {
                 "color": "blue"
                },
                "showarrow": false,
                "text": "25",
                "x": 3.033453,
                "y": -0.567393,
                "yshift": 15,
                "z": 0.553803
               },
               {
                "font": {
                 "color": "blue"
                },
                "showarrow": false,
                "text": "26",
                "x": 2.937968,
                "y": 0.856649,
                "yshift": 15,
                "z": 1.100299
               },
               {
                "font": {
                 "color": "blue"
                },
                "showarrow": false,
                "text": "27",
                "x": 3.252686,
                "y": -1.4469,
                "yshift": 15,
                "z": 2.509882
               },
               {
                "font": {
                 "color": "blue"
                },
                "showarrow": false,
                "text": "28",
                "x": 3.176036,
                "y": 1.596068,
                "yshift": 15,
                "z": 0.334518
               },
               {
                "font": {
                 "color": "blue"
                },
                "showarrow": false,
                "text": "29",
                "x": 1.581602,
                "y": -1.365275,
                "yshift": 15,
                "z": 1.961153
               },
               {
                "font": {
                 "color": "blue"
                },
                "showarrow": false,
                "text": "30",
                "x": 2.606369,
                "y": -1.558112,
                "yshift": 15,
                "z": 1.637804
               },
               {
                "font": {
                 "color": "blue"
                },
                "showarrow": false,
                "text": "31",
                "x": 2.676929,
                "y": -2.597163,
                "yshift": 15,
                "z": 1.307512
               },
               {
                "font": {
                 "color": "blue"
                },
                "showarrow": false,
                "text": "32",
                "x": 4.477691,
                "y": -0.84329,
                "yshift": 15,
                "z": 0.129948
               },
               {
                "font": {
                 "color": "blue"
                },
                "showarrow": false,
                "text": "33",
                "x": 3.63504,
                "y": 0.976786,
                "yshift": 15,
                "z": 1.932223
               },
               {
                "font": {
                 "color": "blue"
                },
                "showarrow": false,
                "text": "34",
                "x": 1.932956,
                "y": 1.085716,
                "yshift": 15,
                "z": 1.454011
               },
               {
                "font": {
                 "color": "blue"
                },
                "showarrow": false,
                "text": "35",
                "x": 5.142751,
                "y": -0.723004,
                "yshift": 15,
                "z": 0.986458
               },
               {
                "font": {
                 "color": "blue"
                },
                "showarrow": false,
                "text": "36",
                "x": 4.616306,
                "y": -1.857322,
                "yshift": 15,
                "z": -0.251494
               },
               {
                "font": {
                 "color": "blue"
                },
                "showarrow": false,
                "text": "37",
                "x": 4.796314,
                "y": -0.139461,
                "yshift": 15,
                "z": -0.641922
               }
              ]
             }
            ],
            "label": "Atom indices",
            "method": "relayout"
           },
           {
            "args": [
             {
              "scene.annotations": [
               {
                "showarrow": false,
                "text": "1.54",
                "x": 2.0856865,
                "y": -1.4076270000000002,
                "yshift": 10,
                "z": -0.989935
               },
               {
                "showarrow": false,
                "text": "1.45",
                "x": 1.3805530000000001,
                "y": -2.3514015,
                "yshift": 10,
                "z": -1.08127
               },
               {
                "showarrow": false,
                "text": "1.34",
                "x": 0.4021215,
                "y": -2.0313280000000002,
                "yshift": 10,
                "z": -0.6762535000000001
               },
               {
                "showarrow": false,
                "text": "1.27",
                "x": 0.4051815,
                "y": -0.9390945,
                "yshift": 10,
                "z": -0.42958050000000003
               },
               {
                "showarrow": false,
                "text": "1.38",
                "x": -1.6804489999999999,
                "y": -2.1981405,
                "yshift": 10,
                "z": -0.138784
               },
               {
                "showarrow": false,
                "text": "1.39",
                "x": -2.6809265,
                "y": -2.8175885000000003,
                "yshift": 10,
                "z": 0.03576800000000001
               },
               {
                "showarrow": false,
                "text": "1.38",
                "x": -3.6657745,
                "y": -2.23334,
                "yshift": 10,
                "z": 0.369896
               },
               {
                "showarrow": false,
                "text": "1.39",
                "x": -3.611554,
                "y": -1.048828,
                "yshift": 10,
                "z": 0.5116525000000001
               },
               {
                "showarrow": false,
                "text": "1.33",
                "x": -2.6012405000000003,
                "y": -0.445494,
                "yshift": 10,
                "z": 0.329521
               },
               {
                "showarrow": false,
                "text": "2.18",
                "x": -1.337531,
                "y": 0.45628599999999997,
                "yshift": 10,
                "z": 0.0527885
               },
               {
                "showarrow": false,
                "text": "2.32",
                "x": 0.0007780000000000009,
                "y": 2.2291795,
                "yshift": 10,
                "z": -0.285649
               },
               {
                "showarrow": false,
                "text": "1.09",
                "x": -2.0467115,
                "y": 3.1167445000000003,
                "yshift": 10,
                "z": 0.1727235
               },
               {
                "showarrow": false,
                "text": "1.53",
                "x": 2.9857105,
                "y": 0.14462799999999998,
                "yshift": 10,
                "z": 0.827051
               },
               {
                "showarrow": false,
                "text": "1.09",
                "x": 2.0939855,
                "y": -1.4616935,
                "yshift": 10,
                "z": 1.7994785
               },
               {
                "showarrow": false,
                "text": "1.09",
                "x": 2.641649,
                "y": -2.0776375,
                "yshift": 10,
                "z": 1.472658
               },
               {
                "showarrow": false,
                "text": "1.47",
                "x": -0.6358605,
                "y": -1.534883,
                "yshift": 10,
                "z": -0.306403
               },
               {
                "showarrow": false,
                "text": "1.97",
                "x": -1.462877,
                "y": 1.9731395,
                "yshift": 10,
                "z": 0.08592150000000001
               },
               {
                "showarrow": false,
                "text": "1.09",
                "x": -2.3905695,
                "y": 2.5205505,
                "yshift": 10,
                "z": 0.7422424999999999
               },
               {
                "showarrow": false,
                "text": "1.09",
                "x": 3.0570019999999998,
                "y": 1.2263585,
                "yshift": 10,
                "z": 0.7174084999999999
               },
               {
                "showarrow": false,
                "text": "1.09",
                "x": -2.5987305000000003,
                "y": 2.4840410000000004,
                "yshift": 10,
                "z": -0.13189800000000002
               },
               {
                "showarrow": false,
                "text": "1.09",
                "x": 2.9295275,
                "y": -1.502506,
                "yshift": 10,
                "z": 2.073843
               },
               {
                "showarrow": false,
                "text": "1.09",
                "x": 4.810221,
                "y": -0.783147,
                "yshift": 10,
                "z": 0.558203
               },
               {
                "showarrow": false,
                "text": "1.47",
                "x": 1.4324184999999998,
                "y": -0.546509,
                "yshift": 10,
                "z": -0.541753
               },
               {
                "showarrow": false,
                "text": "1.09",
                "x": 4.5469985,
                "y": -1.350306,
                "yshift": 10,
                "z": -0.060772999999999994
               },
               {
                "showarrow": false,
                "text": "1.34",
                "x": -1.6549835000000002,
                "y": -1.010558,
                "yshift": 10,
                "z": 0.013212500000000002
               },
               {
                "showarrow": false,
                "text": "1.53",
                "x": 2.8199110000000003,
                "y": -1.0627525,
                "yshift": 10,
                "z": 1.0958035000000002
               },
               {
                "showarrow": false,
                "text": "1.09",
                "x": 4.6370024999999995,
                "y": -0.49137549999999997,
                "yshift": 10,
                "z": -0.25598699999999996
               },
               {
                "showarrow": false,
                "text": "2.29",
                "x": 0.006755500000000025,
                "y": 0.47300549999999997,
                "yshift": 10,
                "z": -0.2236615
               },
               {
                "showarrow": false,
                "text": "1.53",
                "x": 3.755572,
                "y": -0.7053415000000001,
                "yshift": 10,
                "z": 0.3418755
               },
               {
                "showarrow": false,
                "text": "1.09",
                "x": 3.286504,
                "y": 0.9167175000000001,
                "yshift": 10,
                "z": 1.516261
               },
               {
                "showarrow": false,
                "text": "1.09",
                "x": 2.4354620000000002,
                "y": 0.9711825,
                "yshift": 10,
                "z": 1.277155
               },
               {
                "showarrow": false,
                "text": "1.08",
                "x": -1.7382955,
                "y": -3.2551245,
                "yshift": 10,
                "z": -0.2693965
               },
               {
                "showarrow": false,
                "text": "1.08",
                "x": -3.625692,
                "y": -3.2954025,
                "yshift": 10,
                "z": 0.2172505
               },
               {
                "showarrow": false,
                "text": "1.08",
                "x": -4.5011529999999995,
                "y": -1.6228895,
                "yshift": 10,
                "z": 0.6685220000000001
               },
               {
                "showarrow": false,
                "text": "1.08",
                "x": -3.4704855,
                "y": 0.0181355,
                "yshift": 10,
                "z": 0.6092015
               },
               {
                "showarrow": false,
                "text": "1.55",
                "x": 2.5839725,
                "y": -0.6311805,
                "yshift": 10,
                "z": -0.07164399999999999
               },
               {
                "showarrow": false,
                "text": "1.09",
                "x": 2.3074079999999997,
                "y": -0.33493100000000003,
                "yshift": 10,
                "z": -1.0688225
               },
               {
                "showarrow": false,
                "text": "1.09",
                "x": 2.4030785000000003,
                "y": -2.4696059999999997,
                "yshift": 10,
                "z": -1.085701
               },
               {
                "showarrow": false,
                "text": "1.09",
                "x": 2.0519100000000003,
                "y": -2.125242,
                "yshift": 10,
                "z": -1.8273745
               }
              ]
             }
            ],
            "label": "Bond lengths",
            "method": "relayout"
           },
           {
            "args": [
             {
              "scene.annotations": [
               {
                "font": {
                 "color": "blue"
                },
                "showarrow": false,
                "text": "1",
                "x": 2.134492,
                "y": -0.694968,
                "yshift": 15,
                "z": -0.697091
               },
               {
                "font": {
                 "color": "blue"
                },
                "showarrow": false,
                "text": "2",
                "x": 2.036881,
                "y": -2.120286,
                "yshift": 15,
                "z": -1.282779
               },
               {
                "font": {
                 "color": "blue"
                },
                "showarrow": false,
                "text": "3",
                "x": 0.724225,
                "y": -2.582517,
                "yshift": 15,
                "z": -0.879761
               },
               {
                "font": {
                 "color": "blue"
                },
                "showarrow": false,
                "text": "4",
                "x": 0.080018,
                "y": -1.480139,
                "yshift": 15,
                "z": -0.472746
               },
               {
                "font": {
                 "color": "blue"
                },
                "showarrow": false,
                "text": "5",
                "x": 0.730345,
                "y": -0.39805,
                "yshift": 15,
                "z": -0.386415
               },
               {
                "font": {
                 "color": "blue"
                },
                "showarrow": false,
                "text": "6",
                "x": -1.351739,
                "y": -1.589627,
                "yshift": 15,
                "z": -0.14006
               },
               {
                "font": {
                 "color": "blue"
                },
                "showarrow": false,
                "text": "7",
                "x": -2.009159,
                "y": -2.806654,
                "yshift": 15,
                "z": -0.137508
               },
               {
                "font": {
                 "color": "blue"
                },
                "showarrow": false,
                "text": "8",
                "x": -3.352694,
                "y": -2.828523,
                "yshift": 15,
                "z": 0.209044
               },
               {
                "font": {
                 "color": "blue"
                },
                "showarrow": false,
                "text": "9",
                "x": -3.978855,
                "y": -1.638157,
                "yshift": 15,
                "z": 0.530748
               },
               {
                "font": {
                 "color": "blue"
                },
                "showarrow": false,
                "text": "10",
                "x": -3.244253,
                "y": -0.459499,
                "yshift": 15,
                "z": 0.492557
               },
               {
                "font": {
                 "color": "blue"
                },
                "showarrow": false,
                "text": "11",
                "x": -1.958228,
                "y": -0.431489,
                "yshift": 15,
                "z": 0.166485
               },
               {
                "font": {
                 "color": "blue"
                },
                "showarrow": false,
                "text": "12",
                "x": -0.716834,
                "y": 1.344061,
                "yshift": 15,
                "z": -0.060908
               },
               {
                "font": {
                 "color": "blue"
                },
                "showarrow": false,
                "text": "13",
                "x": 0.71839,
                "y": 3.114298,
                "yshift": 15,
                "z": -0.51039
               },
               {
                "font": {
                 "color": "blue"
                },
                "showarrow": false,
                "text": "14",
                "x": -2.20892,
                "y": 2.602218,
                "yshift": 15,
                "z": 0.232751
               },
               {
                "font": {
                 "color": "blue"
                },
                "showarrow": false,
                "text": "15",
                "x": -1.884503,
                "y": 3.631271,
                "yshift": 15,
                "z": 0.112696
               },
               {
                "font": {
                 "color": "blue"
                },
                "showarrow": false,
                "text": "16",
                "x": -2.572219,
                "y": 2.438883,
                "yshift": 15,
                "z": 1.251734
               },
               {
                "font": {
                 "color": "blue"
                },
                "showarrow": false,
                "text": "17",
                "x": -2.988541,
                "y": 2.365864,
                "yshift": 15,
                "z": -0.496547
               },
               {
                "font": {
                 "color": "blue"
                },
                "showarrow": false,
                "text": "18",
                "x": -1.467432,
                "y": -3.703595,
                "yshift": 15,
                "z": -0.401285
               },
               {
                "font": {
                 "color": "blue"
                },
                "showarrow": false,
                "text": "19",
                "x": -3.89869,
                "y": -3.762282,
                "yshift": 15,
                "z": 0.225457
               },
               {
                "font": {
                 "color": "blue"
                },
                "showarrow": false,
                "text": "20",
                "x": -5.023451,
                "y": -1.607622,
                "yshift": 15,
                "z": 0.806296
               },
               {
                "font": {
                 "color": "blue"
                },
                "showarrow": false,
                "text": "21",
                "x": -3.696718,
                "y": 0.49577,
                "yshift": 15,
                "z": 0.725846
               },
               {
                "font": {
                 "color": "blue"
                },
                "showarrow": false,
                "text": "22",
                "x": 2.066939,
                "y": -2.130198,
                "yshift": 15,
                "z": -2.37197
               },
               {
                "font": {
                 "color": "blue"
                },
                "showarrow": false,
                "text": "23",
                "x": 2.769276,
                "y": -2.818926,
                "yshift": 15,
                "z": -0.888623
               },
               {
                "font": {
                 "color": "blue"
                },
                "showarrow": false,
                "text": "24",
                "x": 2.480324,
                "y": 0.025106,
                "yshift": 15,
                "z": -1.440554
               },
               {
                "font": {
                 "color": "blue"
                },
                "showarrow": false,
                "text": "25",
                "x": 3.033453,
                "y": -0.567393,
                "yshift": 15,
                "z": 0.553803
               },
               {
                "font": {
                 "color": "blue"
                },
                "showarrow": false,
                "text": "26",
                "x": 2.937968,
                "y": 0.856649,
                "yshift": 15,
                "z": 1.100299
               },
               {
                "font": {
                 "color": "blue"
                },
                "showarrow": false,
                "text": "27",
                "x": 3.252686,
                "y": -1.4469,
                "yshift": 15,
                "z": 2.509882
               },
               {
                "font": {
                 "color": "blue"
                },
                "showarrow": false,
                "text": "28",
                "x": 3.176036,
                "y": 1.596068,
                "yshift": 15,
                "z": 0.334518
               },
               {
                "font": {
                 "color": "blue"
                },
                "showarrow": false,
                "text": "29",
                "x": 1.581602,
                "y": -1.365275,
                "yshift": 15,
                "z": 1.961153
               },
               {
                "font": {
                 "color": "blue"
                },
                "showarrow": false,
                "text": "30",
                "x": 2.606369,
                "y": -1.558112,
                "yshift": 15,
                "z": 1.637804
               },
               {
                "font": {
                 "color": "blue"
                },
                "showarrow": false,
                "text": "31",
                "x": 2.676929,
                "y": -2.597163,
                "yshift": 15,
                "z": 1.307512
               },
               {
                "font": {
                 "color": "blue"
                },
                "showarrow": false,
                "text": "32",
                "x": 4.477691,
                "y": -0.84329,
                "yshift": 15,
                "z": 0.129948
               },
               {
                "font": {
                 "color": "blue"
                },
                "showarrow": false,
                "text": "33",
                "x": 3.63504,
                "y": 0.976786,
                "yshift": 15,
                "z": 1.932223
               },
               {
                "font": {
                 "color": "blue"
                },
                "showarrow": false,
                "text": "34",
                "x": 1.932956,
                "y": 1.085716,
                "yshift": 15,
                "z": 1.454011
               },
               {
                "font": {
                 "color": "blue"
                },
                "showarrow": false,
                "text": "35",
                "x": 5.142751,
                "y": -0.723004,
                "yshift": 15,
                "z": 0.986458
               },
               {
                "font": {
                 "color": "blue"
                },
                "showarrow": false,
                "text": "36",
                "x": 4.616306,
                "y": -1.857322,
                "yshift": 15,
                "z": -0.251494
               },
               {
                "font": {
                 "color": "blue"
                },
                "showarrow": false,
                "text": "37",
                "x": 4.796314,
                "y": -0.139461,
                "yshift": 15,
                "z": -0.641922
               },
               {
                "showarrow": false,
                "text": "1.54",
                "x": 2.0856865,
                "y": -1.4076270000000002,
                "yshift": 10,
                "z": -0.989935
               },
               {
                "showarrow": false,
                "text": "1.45",
                "x": 1.3805530000000001,
                "y": -2.3514015,
                "yshift": 10,
                "z": -1.08127
               },
               {
                "showarrow": false,
                "text": "1.34",
                "x": 0.4021215,
                "y": -2.0313280000000002,
                "yshift": 10,
                "z": -0.6762535000000001
               },
               {
                "showarrow": false,
                "text": "1.27",
                "x": 0.4051815,
                "y": -0.9390945,
                "yshift": 10,
                "z": -0.42958050000000003
               },
               {
                "showarrow": false,
                "text": "1.38",
                "x": -1.6804489999999999,
                "y": -2.1981405,
                "yshift": 10,
                "z": -0.138784
               },
               {
                "showarrow": false,
                "text": "1.39",
                "x": -2.6809265,
                "y": -2.8175885000000003,
                "yshift": 10,
                "z": 0.03576800000000001
               },
               {
                "showarrow": false,
                "text": "1.38",
                "x": -3.6657745,
                "y": -2.23334,
                "yshift": 10,
                "z": 0.369896
               },
               {
                "showarrow": false,
                "text": "1.39",
                "x": -3.611554,
                "y": -1.048828,
                "yshift": 10,
                "z": 0.5116525000000001
               },
               {
                "showarrow": false,
                "text": "1.33",
                "x": -2.6012405000000003,
                "y": -0.445494,
                "yshift": 10,
                "z": 0.329521
               },
               {
                "showarrow": false,
                "text": "2.18",
                "x": -1.337531,
                "y": 0.45628599999999997,
                "yshift": 10,
                "z": 0.0527885
               },
               {
                "showarrow": false,
                "text": "2.32",
                "x": 0.0007780000000000009,
                "y": 2.2291795,
                "yshift": 10,
                "z": -0.285649
               },
               {
                "showarrow": false,
                "text": "1.09",
                "x": -2.0467115,
                "y": 3.1167445000000003,
                "yshift": 10,
                "z": 0.1727235
               },
               {
                "showarrow": false,
                "text": "1.53",
                "x": 2.9857105,
                "y": 0.14462799999999998,
                "yshift": 10,
                "z": 0.827051
               },
               {
                "showarrow": false,
                "text": "1.09",
                "x": 2.0939855,
                "y": -1.4616935,
                "yshift": 10,
                "z": 1.7994785
               },
               {
                "showarrow": false,
                "text": "1.09",
                "x": 2.641649,
                "y": -2.0776375,
                "yshift": 10,
                "z": 1.472658
               },
               {
                "showarrow": false,
                "text": "1.47",
                "x": -0.6358605,
                "y": -1.534883,
                "yshift": 10,
                "z": -0.306403
               },
               {
                "showarrow": false,
                "text": "1.97",
                "x": -1.462877,
                "y": 1.9731395,
                "yshift": 10,
                "z": 0.08592150000000001
               },
               {
                "showarrow": false,
                "text": "1.09",
                "x": -2.3905695,
                "y": 2.5205505,
                "yshift": 10,
                "z": 0.7422424999999999
               },
               {
                "showarrow": false,
                "text": "1.09",
                "x": 3.0570019999999998,
                "y": 1.2263585,
                "yshift": 10,
                "z": 0.7174084999999999
               },
               {
                "showarrow": false,
                "text": "1.09",
                "x": -2.5987305000000003,
                "y": 2.4840410000000004,
                "yshift": 10,
                "z": -0.13189800000000002
               },
               {
                "showarrow": false,
                "text": "1.09",
                "x": 2.9295275,
                "y": -1.502506,
                "yshift": 10,
                "z": 2.073843
               },
               {
                "showarrow": false,
                "text": "1.09",
                "x": 4.810221,
                "y": -0.783147,
                "yshift": 10,
                "z": 0.558203
               },
               {
                "showarrow": false,
                "text": "1.47",
                "x": 1.4324184999999998,
                "y": -0.546509,
                "yshift": 10,
                "z": -0.541753
               },
               {
                "showarrow": false,
                "text": "1.09",
                "x": 4.5469985,
                "y": -1.350306,
                "yshift": 10,
                "z": -0.060772999999999994
               },
               {
                "showarrow": false,
                "text": "1.34",
                "x": -1.6549835000000002,
                "y": -1.010558,
                "yshift": 10,
                "z": 0.013212500000000002
               },
               {
                "showarrow": false,
                "text": "1.53",
                "x": 2.8199110000000003,
                "y": -1.0627525,
                "yshift": 10,
                "z": 1.0958035000000002
               },
               {
                "showarrow": false,
                "text": "1.09",
                "x": 4.6370024999999995,
                "y": -0.49137549999999997,
                "yshift": 10,
                "z": -0.25598699999999996
               },
               {
                "showarrow": false,
                "text": "2.29",
                "x": 0.006755500000000025,
                "y": 0.47300549999999997,
                "yshift": 10,
                "z": -0.2236615
               },
               {
                "showarrow": false,
                "text": "1.53",
                "x": 3.755572,
                "y": -0.7053415000000001,
                "yshift": 10,
                "z": 0.3418755
               },
               {
                "showarrow": false,
                "text": "1.09",
                "x": 3.286504,
                "y": 0.9167175000000001,
                "yshift": 10,
                "z": 1.516261
               },
               {
                "showarrow": false,
                "text": "1.09",
                "x": 2.4354620000000002,
                "y": 0.9711825,
                "yshift": 10,
                "z": 1.277155
               },
               {
                "showarrow": false,
                "text": "1.08",
                "x": -1.7382955,
                "y": -3.2551245,
                "yshift": 10,
                "z": -0.2693965
               },
               {
                "showarrow": false,
                "text": "1.08",
                "x": -3.625692,
                "y": -3.2954025,
                "yshift": 10,
                "z": 0.2172505
               },
               {
                "showarrow": false,
                "text": "1.08",
                "x": -4.5011529999999995,
                "y": -1.6228895,
                "yshift": 10,
                "z": 0.6685220000000001
               },
               {
                "showarrow": false,
                "text": "1.08",
                "x": -3.4704855,
                "y": 0.0181355,
                "yshift": 10,
                "z": 0.6092015
               },
               {
                "showarrow": false,
                "text": "1.55",
                "x": 2.5839725,
                "y": -0.6311805,
                "yshift": 10,
                "z": -0.07164399999999999
               },
               {
                "showarrow": false,
                "text": "1.09",
                "x": 2.3074079999999997,
                "y": -0.33493100000000003,
                "yshift": 10,
                "z": -1.0688225
               },
               {
                "showarrow": false,
                "text": "1.09",
                "x": 2.4030785000000003,
                "y": -2.4696059999999997,
                "yshift": 10,
                "z": -1.085701
               },
               {
                "showarrow": false,
                "text": "1.09",
                "x": 2.0519100000000003,
                "y": -2.125242,
                "yshift": 10,
                "z": -1.8273745
               }
              ]
             }
            ],
            "label": "Both",
            "method": "relayout"
           },
           {
            "args": [
             {
              "scene.annotations": []
             }
            ],
            "label": "Hide all",
            "method": "relayout"
           },
           {
            "args": [
             {
              "visible": [
               true,
               true,
               true,
               true,
               true,
               true,
               true,
               true,
               true,
               true
              ]
             },
             {}
            ],
            "label": "Show dipole",
            "method": "update"
           },
           {
            "args": [
             {
              "visible": [
               true,
               true,
               false,
               false,
               false,
               false,
               false,
               false,
               false,
               false
              ]
             },
             {}
            ],
            "label": "Hide dipole",
            "method": "update"
           }
          ],
          "direction": "down",
          "xanchor": "left",
          "yanchor": "top"
         }
        ]
       }
      }
     },
     "metadata": {},
     "output_type": "display_data"
    }
   ],
   "source": [
    "mols.visualize_molecules([0])"
   ]
  },
  {
   "cell_type": "code",
   "execution_count": 70,
   "metadata": {},
   "outputs": [
    {
     "name": "stdout",
     "output_type": "stream",
     "text": [
      "[[11, 6, 4], [10, 11, 12], [11, 12, 5], [4, 5, 1], [4, 3, 2]] [1, 3, 5, 11, 8, 12, 14, 4, 6]\n",
      "Available charge types: ['nbo', 'hirshfeld', 'cm5']\n",
      "Columns in nbo charge: ['atom_1', 'atom_2', 'atom_3', 'atom_4']\n",
      "Columns in hirshfeld charge: ['atom_1', 'atom_2', 'atom_3', 'atom_4']\n",
      "Columns in cm5 charge: ['atom_1', 'atom_2', 'atom_3', 'atom_4']\n"
     ]
    }
   ],
   "source": [
    "answers_dict = {\n",
    "    \"Ring Vibration atoms - by order -> Pick primary atom and para to it: \\n example: 13,17\": [9, 8],\n",
    "    \"Stretch Threshold\": [1600],\n",
    "    \"Stretching Vibration atoms- enter bonded atom pairs: \\n example: 1,2 4,5\": [],\n",
    "    \"Bend Threshold\": [3000],\n",
    "    \"Bending Vibration atoms - enter atom pairs that have a common atom: \\n example: 4,7\": [22, 23],\n",
    "    \"Center_Atoms Dipole\": [1, 2, 3, 4, 5, 6, 7, 8, 9, 10, 11, 12, 13, 14, 15, 16, 17, 18, 19, 20, 21, 22, 23, 24, 25],\n",
    "    \"Dipole atoms - indices for coordination transformation: \\n example: 4,5,6 - origin, y-axis, new xy plane\": [[11, 6, 4], [10, 11, 12], [11, 12, 5], [4, 5, 1], [4, 3, 2],[]],\n",
    "    \"Sub-Atoms NPA\": [1, 3, 5, 11, 8, 12, 14, 4, 6] ,\n",
    "    \"NPA manipulation atoms - Insert atoms to show NPA: \\n example: 1,2,4\": [[11, 6, 4], [10, 11, 12], [11, 12, 5], [4, 5, 1], [4, 3, 2]],\n",
    "    \"charges values - Insert atoms to show charge: \\n example: 1,2,3,4\": [1,2,3,4],\n",
    "    \"charge_diff - Insert atoms to show charge difference: \\n example: 1,2 3,4\": [[4, 6], [6, 4], [4, 3], [11, 6]],\n",
    "    \"Sterimol atoms - Primary axis along: \\n example: 7,8\": [[11, 12], [3, 11], [3, 12], [5, 11], [12, 14], [4, 12]],\n",
    "    \"Bond_length - Atom pairs to calculate difference: \\n example: 1,2 4,5\": [[11, 6], [6, 4], [1, 5], [11, 6]],\n",
    "    'Bond_angle - Atom triplets to calculate difference: \\n example: 1,2,3 4,5,6': [[11, 6, 4], [6, 4, 5], [1, 5, 4], [11, 6, 4]],\n",
    "}\n",
    "df=mols.get_molecules_comp_set_app(entry_widgets=answers_dict,answers_list=None)"
   ]
  },
  {
   "cell_type": "code",
   "execution_count": 71,
   "metadata": {},
   "outputs": [],
   "source": [
    "import os\n",
    "os.chdir(r'C:\\Users\\edens\\Documents\\GitHub\\Robert')\n",
    "df.to_csv('added_features_try342.csv', index=True)"
   ]
  },
  {
   "cell_type": "code",
   "execution_count": 84,
   "metadata": {},
   "outputs": [
    {
     "name": "stdout",
     "output_type": "stream",
     "text": [
      "Database already exists at: results_added_features.db\n",
      "Table 'regression_results' has been ensured to exist.\n",
      "linear model selected\n",
      "\n",
      "--- Correlation Report ---\n",
      "Features with correlation above 0.8:\n",
      "['B1_11-6', 'loc_B5_1-5', 'para_angle', 'cross_angle', 'hirshfeld_atom_12', 'bite_angle', 'buried_volume', 'loc_B5_19-18', 'bond_length_12-14', 'L_11-6', 'total_dipole_10-11-12', 'total_dipole_5-1-25', 'Amplitude_Stretch_5_4', 'B1_19-18', 'dipole_x_10-11-12', 'Cross_mag_Bending_22-23', 'B1_20-9', 'cm5_atom_12', 'bite_angle_inverted', 'Frequency_Stretch_5_4']\n",
      "\n"
     ]
    },
    {
     "data": {
      "image/png": "[encoded data removed]",
      "text/plain": [
       "<Figure size 600x500 with 2 Axes>"
      ]
     },
     "metadata": {},
     "output_type": "display_data"
    },
    {
     "name": "stdout",
     "output_type": "stream",
     "text": [
      "\n",
      "Correlated features were not dropped.\n",
      "\n"
     ]
    }
   ],
   "source": [
    "csv_path=r'C:\\Users\\edens\\Documents\\GitHub\\Robert\\added_features.csv'\n",
    "\n",
    "# csv_path=r'C:\\Users\\edens\\Documents\\GitHub\\lucas_project\\new_update_logs\\added_features_try34.csv'\n",
    "\n",
    "csv_filepaths = {\n",
    "'features_csv_filepath': csv_path,\n",
    "'target_csv_filepath': ''\n",
    "}\n",
    "# ['LS2008','LS1643']\n",
    "# ('B1_B5_angle_4-3', 'L_11-6', 'bond_length_11-12')\n",
    "df=pd.read_csv(csv_path, index_col=0)\n",
    "\n",
    "# df.drop(columns=['Unnamed: 0'], inplace=True, errors='ignore')\n",
    "leave_out = [\n",
    "    \"LS1621\", \"LS1622\", \"LS1630\", \"LS1641\", \"LS1642\", \"LS1643\",\n",
    "    \"LS1661\", \"LS1663\", \"LS1714\", \"LS1715\", \"LS1716\", \"LS1717\",\n",
    "    \"LS1721\", \"LS1723\", \"LS1726\", \"LS1734\", \"LS1736\",\n",
    "    \"LS2000\", \"LS2001\", \"LS2002\", \"LS2003\", \"LS2006\", \"LS2007\", \"LS2008\"\n",
    "]\n",
    "\n",
    "# pick 4 random samples to leave out\n",
    "leave_out = np.random.choice(df.index, size=2, replace=False).tolist()\n",
    "leave_out=['LS1726', 'LS2004', 'LS1695', 'LS1663'] # \n",
    "\n",
    "Regression_model = LinearRegressionModel(csv_filepaths, process_method='one csv', output_name='output', leave_out=leave_out, min_features_num=2, max_features_num=None, metrics=None, return_coefficients=False)\n",
    "# Regression_model.leave_out_samples(leave_out=leave_out, keep_only=True)\n",
    "features_combination_1=['L_25-1', 'B5_19-18', 'L_19-18', 'loc_B5_1-5', 'HOMO-LUMO Gap (eV)']\n",
    "features_combination_2=[ 'hirshfeld_atom_12','cm5_atom_5', 'bond_length_12-14','HOMO-LUMO Gap (eV)','bite_angle_inverted']\n",
    "features_combination_3=[ 'hirshfeld_atom_12','cm5_atom_5', 'L_11-6','HOMO-LUMO Gap (eV)']\n",
    "features=['B1_B5_angle_25-1', 'loc_B5_1-5', 'cm5_atom_5', 'bond_length_12-14']\n",
    "# 0   LS1726  0.277339   0.215294   22.371802\n",
    "# 1   LS2004  1.881808   0.715195   61.994283\n",
    "# 2   LS1695  0.981880   0.120586   87.718864\n",
    "# 3   LS1663  1.743479   0.100025   94.262930\n",
    "\n",
    "# ('B1_B5_angle_4-3', 'L_11-6', 'bond_length_11-12')\n",
    "# x=Regression_model.check_linear_regression_assumptions()\n",
    "# Regression_model.fit_and_evaluate_combinations()\n",
    "# plot.generate_and_display_q2_scatter_plot(Regression_model,['dipole_z_10-11-12', 'hirshfeld_atom_12', 'HOMO-LUMO Gap (eV)'])\n"
   ]
  },
  {
   "cell_type": "code",
   "execution_count": null,
   "metadata": {},
   "outputs": [],
   "source": [
    "plot.univariate_threshold_analysis()"
   ]
  },
  {
   "cell_type": "code",
   "execution_count": 81,
   "metadata": {},
   "outputs": [
    {
     "name": "stdout",
     "output_type": "stream",
     "text": [
      "Starting generate_and_display_q2_scatter_plot...\n",
      "Extracting features from model.features_df...\n",
      "Using single train/test split with test size 0.1 and random state 42\n",
      "Index 0: Actual = 0.047, Predicted = 0.501, % Error = 957.91%\n",
      "Index 1: Actual = 0.265, Predicted = 0.512, % Error = 93.49%\n",
      "Index 2: Actual = 0.000, Predicted = 0.374, % Error = nan%\n",
      "Index 3: Actual = 1.882, Predicted = 1.558, % Error = -17.20%\n",
      "Index 4: Actual = 1.882, Predicted = 2.051, % Error = 8.97%\n",
      "Index 5: Actual = 2.304, Predicted = 1.955, % Error = -15.18%\n",
      "Index 6: Actual = 2.304, Predicted = 1.610, % Error = -30.16%\n",
      "Index 7: Actual = 1.743, Predicted = 1.739, % Error = -0.25%\n",
      "Index 8: Actual = 1.532, Predicted = 0.972, % Error = -36.52%\n",
      "Index 9: Actual = 1.370, Predicted = 1.327, % Error = -3.13%\n",
      "Index 10: Actual = 1.532, Predicted = 1.494, % Error = -2.45%\n",
      "Index 11: Actual = 1.629, Predicted = 1.050, % Error = -35.53%\n",
      "Index 12: Actual = 1.027, Predicted = 1.103, % Error = 7.40%\n",
      "Index 13: Actual = 0.000, Predicted = -0.316, % Error = nan%\n",
      "Index 14: Actual = 0.071, Predicted = 0.097, % Error = 36.65%\n",
      "Index 15: Actual = 0.047, Predicted = 0.431, % Error = 808.35%\n",
      "Index 16: Actual = 0.000, Predicted = 0.244, % Error = nan%\n",
      "Index 17: Actual = 0.102, Predicted = -0.018, % Error = -117.91%\n",
      "Index 18: Actual = 0.058, Predicted = 0.470, % Error = 709.92%\n",
      "Index 19: Actual = 1.208, Predicted = 1.190, % Error = -1.53%\n",
      "Index 20: Actual = 0.635, Predicted = 0.331, % Error = -47.86%\n",
      "Index 21: Actual = 1.645, Predicted = 0.555, % Error = -66.28%\n",
      "Index 22: Actual = 0.238, Predicted = 0.439, % Error = 84.74%\n",
      "Index 23: Actual = 0.732, Predicted = 1.367, % Error = 86.71%\n",
      "Index 24: Actual = 1.163, Predicted = 1.024, % Error = -12.00%\n",
      "Index 25: Actual = 1.743, Predicted = 1.988, % Error = 14.04%\n",
      "Index 26: Actual = 0.000, Predicted = 0.324, % Error = nan%\n",
      "Index 27: Actual = 1.180, Predicted = 1.592, % Error = 34.97%\n",
      "Index 28: Actual = 1.743, Predicted = 2.120, % Error = 21.57%\n",
      "Training Set Results: {'r2': 0.7477804696713302, 'Q2': 0.74778046967133, 'MAE': 0.31584285113486943, 'RMSD': 0.39459804144610156}\n",
      "Calculating cross-validation metrics for 3-fold CV...\n",
      "Using Repeated K-Fold cross-validation with 3 splits and 100 iterations...\n",
      "3-fold CV metrics: Q2: 0.6953281793797487, MAE: 0.36078785833269456, RMSD: 0.44058394789133665\n",
      "Calculating cross-validation metrics for 5-fold CV...\n",
      "Using Repeated K-Fold cross-validation with 5 splits and 100 iterations...\n",
      "5-fold CV metrics: Q2: 0.7020400657190804, MAE: 0.35140625068286624, RMSD: 0.43163407500112916\n",
      "Calculating cross-validation metrics for LOOCV...\n",
      "Using Leave-One-Out cross-validation (LOO)...\n",
      "LOOCV metrics: Q2: 0.7069044417173206, MAE: 0.346643462115537, RMSD: 0.4266120634734993\n",
      "Calculating left-out samples prediction and metrics...\n",
      "Left-out samples prediction completed. (array([0.18094818, 1.98100085, 0.85254118, 1.12269522]), array([ 0.09639112, -0.09919287,  0.12933861,  0.62078336]))\n",
      "Successfully predicted left-out samples: (array([0.18094818, 1.98100085, 0.85254118, 1.12269522]), array([ 0.09639112, -0.09919287,  0.12933861,  0.62078336]))\n",
      "  Molecule    Actual  Predicted  Error in %\n",
      "0   LS1726  0.277339   0.180948   34.755666\n",
      "1   LS2004  1.881808   1.981001    5.271147\n",
      "2   LS1695  0.981880   0.852541   13.172550\n",
      "3   LS1663  1.743479   1.122695   35.606022\n",
      "R² for left-out predictions: 0.7458\n",
      "MAE for left-out predictions: 0.2364\n",
      "Folds DataFrame prepared:\n",
      "   Q2_3_Fold     MAE_3    RMSD_3  Q2_5_Fold     MAE_5    RMSD_5  Q2_LOOCV  \\\n",
      "0   0.695328  0.360788  0.440584    0.70204  0.351406  0.431634  0.706904   \n",
      "\n",
      "   MAE_LOOCV  RMSD_LOOCV  \n",
      "0   0.346643    0.426612  \n",
      "Calculating fixed margin lines and axis bounds…\n",
      "\n",
      "\n",
      "\n",
      "\n",
      "VIF Table\n",
      "\n",
      "---\n",
      "\n",
      "| variable          |     VIF |\n",
      "|:------------------|--------:|\n",
      "| hirshfeld_atom_12 | 1.00083 |\n",
      "| dipole_z_10-11-12 | 1.00083 |\n",
      "Calculating R^2 value...\n",
      "R^2 value: 0.7478, MAE: 0.3158\n",
      "Retrieving coefficient estimates...\n",
      "Coefficient estimates retrieved:\n",
      "                   Estimate  Std. Error    t value       p value\n",
      "(Intercept)        0.973031    0.077594  12.540070  1.570077e-12\n",
      "hirshfeld_atom_12  0.596437    0.074465   8.009616  1.729507e-08\n",
      "dipole_z_10-11-12  0.302549    0.089928   3.364335  2.390091e-03\n",
      "Calling generate_q2_scatter_plot with computed values...\n",
      "Plot generated successfully.\n",
      "Finished generate_and_display_q2_scatter_plot.\n"
     ]
    },
    {
     "data": {
      "image/png": "[encoded data removed]",
      "text/plain": [
       "<Figure size 1600x600 with 1 Axes>"
      ]
     },
     "metadata": {},
     "output_type": "display_data"
    }
   ],
   "source": [
    "comb=['hirshfeld_atom_12','dipole_z_10-11-12']\n",
    "plot.generate_and_display_q2_scatter_plot(Regression_model,comb)"
   ]
  },
  {
   "cell_type": "code",
   "execution_count": 86,
   "metadata": {},
   "outputs": [],
   "source": [
    "features_df=Regression_model.features_df[['hirshfeld_atom_12','dipole_z_10-11-12']]\n",
    "\n",
    "# plot.analyze_shap_values(Regression_model, features_df)"
   ]
  },
  {
   "cell_type": "code",
   "execution_count": null,
   "metadata": {},
   "outputs": [
    {
     "name": "stdout",
     "output_type": "stream",
     "text": [
      "    ΔΔG (kcal/mol)  Predicted ee (%)  Binary Class (>|35.0%|)\n",
      "0         0.047395         -3.997579                    False\n",
      "1         0.264865        -21.987104                    False\n",
      "2         0.000000         -0.000000                    False\n",
      "3         1.881808        -91.985198                     True\n",
      "4         1.881808        -91.985198                     True\n",
      "5         2.304448        -95.990746                     True\n",
      "6         2.304448        -95.990746                     True\n",
      "7         1.743479        -89.983037                     True\n",
      "8         1.531646        -85.979580                     True\n",
      "9         1.369963        -81.977024                     True\n",
      "10        1.531646        -85.979580                     True\n",
      "11        1.629255        -87.981180                     True\n",
      "12        1.027102        -69.973189                     True\n",
      "13        0.000000         -0.000000                    False\n",
      "14        0.071141         -5.996373                    False\n"
     ]
    },
    {
     "ename": "KeyError",
     "evalue": "'Binary Class (>|35%|)'",
     "output_type": "error",
     "traceback": [
      "\u001b[1;31m---------------------------------------------------------------------------\u001b[0m",
      "\u001b[1;31mKeyError\u001b[0m                                  Traceback (most recent call last)",
      "File \u001b[1;32mc:\\Users\\edens\\anaconda3\\envs\\labenv\\lib\\site-packages\\pandas\\core\\indexes\\base.py:3802\u001b[0m, in \u001b[0;36mIndex.get_loc\u001b[1;34m(self, key)\u001b[0m\n\u001b[0;32m   3801\u001b[0m \u001b[38;5;28;01mtry\u001b[39;00m:\n\u001b[1;32m-> 3802\u001b[0m     \u001b[38;5;28;01mreturn\u001b[39;00m \u001b[38;5;28;43mself\u001b[39;49m\u001b[38;5;241;43m.\u001b[39;49m\u001b[43m_engine\u001b[49m\u001b[38;5;241;43m.\u001b[39;49m\u001b[43mget_loc\u001b[49m\u001b[43m(\u001b[49m\u001b[43mcasted_key\u001b[49m\u001b[43m)\u001b[49m\n\u001b[0;32m   3803\u001b[0m \u001b[38;5;28;01mexcept\u001b[39;00m \u001b[38;5;167;01mKeyError\u001b[39;00m \u001b[38;5;28;01mas\u001b[39;00m err:\n",
      "File \u001b[1;32mindex.pyx:153\u001b[0m, in \u001b[0;36mpandas._libs.index.IndexEngine.get_loc\u001b[1;34m()\u001b[0m\n",
      "File \u001b[1;32mindex.pyx:182\u001b[0m, in \u001b[0;36mpandas._libs.index.IndexEngine.get_loc\u001b[1;34m()\u001b[0m\n",
      "File \u001b[1;32mpandas\\\\_libs\\\\hashtable_class_helper.pxi:7081\u001b[0m, in \u001b[0;36mpandas._libs.hashtable.PyObjectHashTable.get_item\u001b[1;34m()\u001b[0m\n",
      "File \u001b[1;32mpandas\\\\_libs\\\\hashtable_class_helper.pxi:7089\u001b[0m, in \u001b[0;36mpandas._libs.hashtable.PyObjectHashTable.get_item\u001b[1;34m()\u001b[0m\n",
      "\u001b[1;31mKeyError\u001b[0m: 'Binary Class (>|35%|)'",
      "\nThe above exception was the direct cause of the following exception:\n",
      "\u001b[1;31mKeyError\u001b[0m                                  Traceback (most recent call last)",
      "Cell \u001b[1;32mIn[92], line 43\u001b[0m\n\u001b[0;32m     41\u001b[0m ddg_df \u001b[38;5;241m=\u001b[39m ddG_to_ee_and_class(target_vector, temperature\u001b[38;5;241m=\u001b[39m\u001b[38;5;241m298.15\u001b[39m, threshold_ee\u001b[38;5;241m=\u001b[39m\u001b[38;5;241m35\u001b[39m, return_df\u001b[38;5;241m=\u001b[39m\u001b[38;5;28;01mTrue\u001b[39;00m)\n\u001b[0;32m     42\u001b[0m \u001b[38;5;28mprint\u001b[39m(ddg_df\u001b[38;5;241m.\u001b[39mhead(\u001b[38;5;241m15\u001b[39m))\n\u001b[1;32m---> 43\u001b[0m plot\u001b[38;5;241m.\u001b[39munivariate_threshold_analysis(features_df, \u001b[43mddg_df\u001b[49m\u001b[43m[\u001b[49m\u001b[38;5;124;43m'\u001b[39;49m\u001b[38;5;124;43mBinary Class (>|35\u001b[39;49m\u001b[38;5;124;43m%\u001b[39;49m\u001b[38;5;124;43m|)\u001b[39;49m\u001b[38;5;124;43m'\u001b[39;49m\u001b[43m]\u001b[49m)\n",
      "File \u001b[1;32mc:\\Users\\edens\\anaconda3\\envs\\labenv\\lib\\site-packages\\pandas\\core\\frame.py:4090\u001b[0m, in \u001b[0;36mDataFrame.__getitem__\u001b[1;34m(self, key)\u001b[0m\n\u001b[0;32m   4088\u001b[0m \u001b[38;5;28;01mif\u001b[39;00m \u001b[38;5;28mself\u001b[39m\u001b[38;5;241m.\u001b[39mcolumns\u001b[38;5;241m.\u001b[39mnlevels \u001b[38;5;241m>\u001b[39m \u001b[38;5;241m1\u001b[39m:\n\u001b[0;32m   4089\u001b[0m     \u001b[38;5;28;01mreturn\u001b[39;00m \u001b[38;5;28mself\u001b[39m\u001b[38;5;241m.\u001b[39m_getitem_multilevel(key)\n\u001b[1;32m-> 4090\u001b[0m indexer \u001b[38;5;241m=\u001b[39m \u001b[38;5;28;43mself\u001b[39;49m\u001b[38;5;241;43m.\u001b[39;49m\u001b[43mcolumns\u001b[49m\u001b[38;5;241;43m.\u001b[39;49m\u001b[43mget_loc\u001b[49m\u001b[43m(\u001b[49m\u001b[43mkey\u001b[49m\u001b[43m)\u001b[49m\n\u001b[0;32m   4091\u001b[0m \u001b[38;5;28;01mif\u001b[39;00m is_integer(indexer):\n\u001b[0;32m   4092\u001b[0m     indexer \u001b[38;5;241m=\u001b[39m [indexer]\n",
      "File \u001b[1;32mc:\\Users\\edens\\anaconda3\\envs\\labenv\\lib\\site-packages\\pandas\\core\\indexes\\base.py:3809\u001b[0m, in \u001b[0;36mIndex.get_loc\u001b[1;34m(self, key)\u001b[0m\n\u001b[0;32m   3804\u001b[0m     \u001b[38;5;28;01mif\u001b[39;00m \u001b[38;5;28misinstance\u001b[39m(casted_key, \u001b[38;5;28mslice\u001b[39m) \u001b[38;5;129;01mor\u001b[39;00m (\n\u001b[0;32m   3805\u001b[0m         \u001b[38;5;28misinstance\u001b[39m(casted_key, abc\u001b[38;5;241m.\u001b[39mIterable)\n\u001b[0;32m   3806\u001b[0m         \u001b[38;5;129;01mand\u001b[39;00m \u001b[38;5;28many\u001b[39m(\u001b[38;5;28misinstance\u001b[39m(x, \u001b[38;5;28mslice\u001b[39m) \u001b[38;5;28;01mfor\u001b[39;00m x \u001b[38;5;129;01min\u001b[39;00m casted_key)\n\u001b[0;32m   3807\u001b[0m     ):\n\u001b[0;32m   3808\u001b[0m         \u001b[38;5;28;01mraise\u001b[39;00m InvalidIndexError(key)\n\u001b[1;32m-> 3809\u001b[0m     \u001b[38;5;28;01mraise\u001b[39;00m \u001b[38;5;167;01mKeyError\u001b[39;00m(key) \u001b[38;5;28;01mfrom\u001b[39;00m \u001b[38;5;21;01merr\u001b[39;00m\n\u001b[0;32m   3810\u001b[0m \u001b[38;5;28;01mexcept\u001b[39;00m \u001b[38;5;167;01mTypeError\u001b[39;00m:\n\u001b[0;32m   3811\u001b[0m     \u001b[38;5;66;03m# If we have a listlike key, _check_indexing_error will raise\u001b[39;00m\n\u001b[0;32m   3812\u001b[0m     \u001b[38;5;66;03m#  InvalidIndexError. Otherwise we fall through and re-raise\u001b[39;00m\n\u001b[0;32m   3813\u001b[0m     \u001b[38;5;66;03m#  the TypeError.\u001b[39;00m\n\u001b[0;32m   3814\u001b[0m     \u001b[38;5;28mself\u001b[39m\u001b[38;5;241m.\u001b[39m_check_indexing_error(key)\n",
      "\u001b[1;31mKeyError\u001b[0m: 'Binary Class (>|35%|)'"
     ]
    }
   ],
   "source": [
    "def ddG_to_ee_and_class(ddg_values, temperature=298.15, threshold_ee=35, return_df=True):\n",
    "    \"\"\"\n",
    "    Converts ΔΔG values (kcal/mol) to enantiomeric excess (%ee), then binarizes.\n",
    "\n",
    "    Parameters\n",
    "    ----------\n",
    "    ddg_values : array-like\n",
    "        ΔΔG values in kcal/mol.\n",
    "    temperature : float, optional\n",
    "        Temperature in Kelvin. Default is 298.15 K.\n",
    "    threshold_ee : float, optional\n",
    "        Threshold (in %ee) to binarize outcome. Default is 50% ee.\n",
    "    return_df : bool, optional\n",
    "        If True, returns DataFrame with ΔΔG, %ee, and binary label. Else, returns only labels.\n",
    "\n",
    "    Returns\n",
    "    -------\n",
    "    pd.DataFrame or np.ndarray\n",
    "        If return_df=True, DataFrame with columns: ΔΔG, %ee, Binary Class.\n",
    "        If return_df=False, just the binary class labels.\n",
    "    \"\"\"\n",
    "    R = 0.0019872041  # kcal/mol·K\n",
    "    ddg_values = np.asarray(ddg_values).astype(float)\n",
    "\n",
    "    # Compute enantiomeric excess using tanh form\n",
    "    ee = np.tanh(-ddg_values / (2 * R * temperature)) * 100  # in %\n",
    "\n",
    "    # Binary classification: is abs(%ee) >= threshold?\n",
    "    threshold_ee = float(threshold_ee)\n",
    "    binary_class = (np.abs(ee) >= threshold_ee)\n",
    "\n",
    "    if return_df:\n",
    "        return pd.DataFrame({\n",
    "            'ΔΔG (kcal/mol)': ddg_values,\n",
    "            'Predicted ee (%)': ee,\n",
    "            'Binary Class': binary_class\n",
    "        })\n",
    "    else:\n",
    "        return binary_class\n",
    "target_vector = Regression_model.target_vector\n",
    "ddg_df = ddG_to_ee_and_class(target_vector, temperature=298.15, threshold_ee=35, return_df=True)\n",
    "print(ddg_df.head(15))\n",
    "plot.univariate_threshold_analysis(features_df, ddg_df['Binary Class'])"
   ]
  },
  {
   "cell_type": "code",
   "execution_count": null,
   "metadata": {},
   "outputs": [
    {
     "data": {
      "image/png": "[encoded data removed]",
      "text/plain": [
       "<Figure size 640x480 with 1 Axes>"
      ]
     },
     "metadata": {},
     "output_type": "display_data"
    },
    {
     "data": {
      "image/png": "[encoded data removed]",
      "text/plain": [
       "<Figure size 640x480 with 1 Axes>"
      ]
     },
     "metadata": {},
     "output_type": "display_data"
    },
    {
     "data": {
      "image/png": "[encoded data removed]",
      "text/plain": [
       "<Figure size 640x480 with 1 Axes>"
      ]
     },
     "metadata": {},
     "output_type": "display_data"
    }
   ],
   "source": [
    "import pandas as pd\n",
    "import numpy as np\n",
    "from sklearn.preprocessing import StandardScaler\n",
    "from sklearn.decomposition import PCA\n",
    "import matplotlib.pyplot as plt\n",
    "os.chdir(r'C:\\Users\\edens\\Documents\\GitHub\\Robert')\n",
    "# Load the dataset\n",
    "df = pd.read_csv(r'C:\\Users\\edens\\Documents\\GitHub\\Robert\\added_features.csv')\n",
    "\n",
    "\n",
    "# Extract sample identifiers (non-numeric first column)\n",
    "sample_names = df.select_dtypes(exclude=[np.number]).iloc[:, 0]\n",
    "\n",
    "# Select only numeric columns (features and output)\n",
    "numeric_df = df.select_dtypes(include=[np.number])\n",
    "\n",
    "# Separate features by dropping the last numeric column (output)\n",
    "features = numeric_df.iloc[:, :-1]\n",
    "# save the output column\n",
    "output = numeric_df.iloc[:, -1]\n",
    "# Standardize the features\n",
    "scaler = StandardScaler()\n",
    "X_scaled = scaler.fit_transform(features)\n",
    "\n",
    "# Perform PCA\n",
    "pca = PCA()\n",
    "X_pca = pca.fit_transform(X_scaled)\n",
    "\n",
    "# Variance explained by each component\n",
    "explained_ratio = pca.explained_variance_ratio_\n",
    "pc1_var = explained_ratio[0] * 100\n",
    "pc2_var = explained_ratio[1] * 100\n",
    "\n",
    "# 1) Scree Plot\n",
    "plt.figure()\n",
    "plt.bar(range(1, len(explained_ratio) + 1), explained_ratio)\n",
    "plt.xlabel('Principal Component')\n",
    "plt.ylabel('Explained Variance Ratio')\n",
    "plt.title('Scree Plot')\n",
    "plt.tight_layout()\n",
    "\n",
    "# 2) Cumulative Variance Plot\n",
    "cum_ratio = explained_ratio.cumsum()\n",
    "plt.figure()\n",
    "plt.plot(range(1, len(cum_ratio) + 1), cum_ratio, marker='o')\n",
    "plt.xlabel('Principal Component')\n",
    "plt.ylabel('Cumulative Explained Variance')\n",
    "plt.title('Cumulative Variance Plot')\n",
    "plt.tight_layout()\n",
    "\n",
    "# 3) Scatter Plot of PC1 vs PC2 with variance and sample labels\n",
    "plt.figure()\n",
    "plt.scatter(X_pca[:, 0], X_pca[:, 1])\n",
    "for i, name in enumerate(sample_names):\n",
    "    plt.text(X_pca[i, 0], X_pca[i, 1], name, fontsize=8, ha='right', va='bottom')\n",
    "plt.xlabel(f'PC1 ({pc1_var:.1f}% variance)')\n",
    "plt.ylabel(f'PC2 ({pc2_var:.1f}% variance)')\n",
    "plt.title('Projection onto First Two Principal Components')\n",
    "plt.tight_layout()\n",
    "plt.show()"
   ]
  },
  {
   "cell_type": "code",
   "execution_count": null,
   "metadata": {},
   "outputs": [
    {
     "data": {
      "image/png": "[encoded data removed]",
      "text/plain": [
       "<Figure size 600x500 with 1 Axes>"
      ]
     },
     "metadata": {},
     "output_type": "display_data"
    },
    {
     "data": {
      "image/png": "[encoded data removed]",
      "text/plain": [
       "<Figure size 600x500 with 1 Axes>"
      ]
     },
     "metadata": {},
     "output_type": "display_data"
    },
    {
     "data": {
      "image/png": "[encoded data removed]",
      "text/plain": [
       "<Figure size 600x500 with 1 Axes>"
      ]
     },
     "metadata": {},
     "output_type": "display_data"
    }
   ],
   "source": [
    "from sklearn.cluster import KMeans, AgglomerativeClustering\n",
    "from sklearn.metrics import pairwise_distances\n",
    "sample_names = df.select_dtypes(exclude=[np.number]).iloc[:, 0]\n",
    "numeric_df = df.select_dtypes(include=[np.number])\n",
    "features = numeric_df.iloc[:, :-1]\n",
    "## drop output column\n",
    "try:\n",
    "    features = features.drop(columns=['output'])\n",
    "except KeyError:\n",
    "    pass    \n",
    "# Standardize features\n",
    "X_scaled = StandardScaler().fit_transform(features)\n",
    "\n",
    "# PCA for visualization\n",
    "X_pca2 = PCA(n_components=2, random_state=0).fit_transform(X_scaled)\n",
    "\n",
    "# Number of clusters\n",
    "K = 3\n",
    "\n",
    "# K-Means\n",
    "labels_km = KMeans(n_clusters=K, random_state=0).fit_predict(X_scaled)\n",
    "\n",
    "# K-Medoids (PAM implementation)\n",
    "def kmedoids_pam(X, K, max_iter=100):\n",
    "    n = X.shape[0]\n",
    "    medoids = np.random.choice(n, K, replace=False)\n",
    "    for _ in range(max_iter):\n",
    "        # Assign to nearest medoid\n",
    "        D = pairwise_distances(X, X[medoids])\n",
    "        labels = np.argmin(D, axis=1)\n",
    "        new_medoids = medoids.copy()\n",
    "        # Update medoids for each cluster\n",
    "        for i in range(K):\n",
    "            cluster_idx = np.where(labels == i)[0]\n",
    "            if len(cluster_idx) == 0:\n",
    "                continue\n",
    "            intra_D = pairwise_distances(X[cluster_idx], X[cluster_idx])\n",
    "            total_dist = intra_D.sum(axis=1)\n",
    "            new_medoids[i] = cluster_idx[np.argmin(total_dist)]\n",
    "        if np.array_equal(new_medoids, medoids):\n",
    "            break\n",
    "        medoids = new_medoids\n",
    "    # Final assignment\n",
    "    D = pairwise_distances(X, X[medoids])\n",
    "    return np.argmin(D, axis=1)\n",
    "\n",
    "labels_kmed = kmedoids_pam(X_scaled, K)\n",
    "\n",
    "# Agglomerative Clustering\n",
    "labels_hc = AgglomerativeClustering(n_clusters=K, linkage='ward').fit_predict(X_scaled)\n",
    "\n",
    "# Results table\n",
    "results = pd.DataFrame({\n",
    "    'Sample': sample_names,\n",
    "    'KMeans': labels_km,\n",
    "    'KMedoids': labels_kmed,\n",
    "    'Agglomerative': labels_hc\n",
    "})\n",
    "\n",
    "\n",
    "# Plotting helper\n",
    "def plot_clusters(X, labels, title):\n",
    "    plt.figure(figsize=(6, 5))\n",
    "    plt.scatter(X[:, 0], X[:, 1], c=labels)\n",
    "    for i, name in enumerate(sample_names):\n",
    "        plt.text(X[i,0], X[i,1], name, fontsize=7, ha='right', va='bottom')\n",
    "    plt.xlabel('PC1')\n",
    "    plt.ylabel('PC2')\n",
    "    plt.title(title)\n",
    "    plt.tight_layout()\n",
    "\n",
    "# Plots\n",
    "plot_clusters(X_pca2, labels_km, 'K-Means Clusters (K=3)')\n",
    "plot_clusters(X_pca2, labels_kmed, 'K-Medoids Clusters (K=3)')\n",
    "plot_clusters(X_pca2, labels_hc, 'Agglomerative Clusters (K=3)')\n",
    "plt.show()"
   ]
  },
  {
   "cell_type": "code",
   "execution_count": 3,
   "metadata": {},
   "outputs": [
    {
     "name": "stdout",
     "output_type": "stream",
     "text": [
      "x\n"
     ]
    }
   ],
   "source": [
    "import re\n",
    "\n",
    "lsd=[\"Strech Threshold - default is 1600 for carbonyl stretch\",\n",
    "                \"Bending Vibration atoms - enter atom pairs that have a common atom: \\n example: 4,7\",\n",
    "                \"Bending Threshold - default is 1600 \"]\n",
    "for question in lsd:\n",
    "    if re.search(r'threshold', question.lower(), re.IGNORECASE):\n",
    "        continue\n",
    "    else: \n",
    "        print('x')"
   ]
  },
  {
   "cell_type": "code",
   "execution_count": 3,
   "metadata": {},
   "outputs": [
    {
     "data": {
      "text/html": [
       "<div>\n",
       "<style scoped>\n",
       "    .dataframe tbody tr th:only-of-type {\n",
       "        vertical-align: middle;\n",
       "    }\n",
       "\n",
       "    .dataframe tbody tr th {\n",
       "        vertical-align: top;\n",
       "    }\n",
       "\n",
       "    .dataframe thead th {\n",
       "        text-align: right;\n",
       "    }\n",
       "</style>\n",
       "<table border=\"1\" class=\"dataframe\">\n",
       "  <thead>\n",
       "    <tr style=\"text-align: right;\">\n",
       "      <th></th>\n",
       "      <th>0</th>\n",
       "      <th>1</th>\n",
       "      <th>2</th>\n",
       "      <th>3</th>\n",
       "      <th>4</th>\n",
       "      <th>5</th>\n",
       "      <th>6</th>\n",
       "      <th>7</th>\n",
       "      <th>8</th>\n",
       "      <th>9</th>\n",
       "      <th>10</th>\n",
       "      <th>11</th>\n",
       "      <th>12</th>\n",
       "      <th>13</th>\n",
       "      <th>14</th>\n",
       "      <th>15</th>\n",
       "      <th>16</th>\n",
       "      <th>17</th>\n",
       "      <th>18</th>\n",
       "      <th>19</th>\n",
       "      <th>20</th>\n",
       "      <th>21</th>\n",
       "      <th>22</th>\n",
       "      <th>23</th>\n",
       "      <th>24</th>\n",
       "      <th>25</th>\n",
       "      <th>26</th>\n",
       "      <th>27</th>\n",
       "      <th>28</th>\n",
       "      <th>29</th>\n",
       "      <th>30</th>\n",
       "      <th>31</th>\n",
       "      <th>32</th>\n",
       "      <th>33</th>\n",
       "      <th>34</th>\n",
       "      <th>35</th>\n",
       "      <th>36</th>\n",
       "      <th>37</th>\n",
       "      <th>38</th>\n",
       "      <th>39</th>\n",
       "      <th>40</th>\n",
       "      <th>41</th>\n",
       "      <th>42</th>\n",
       "      <th>43</th>\n",
       "      <th>44</th>\n",
       "      <th>45</th>\n",
       "      <th>46</th>\n",
       "      <th>47</th>\n",
       "      <th>48</th>\n",
       "      <th>49</th>\n",
       "      <th>50</th>\n",
       "      <th>51</th>\n",
       "      <th>52</th>\n",
       "      <th>53</th>\n",
       "      <th>54</th>\n",
       "      <th>55</th>\n",
       "      <th>56</th>\n",
       "      <th>57</th>\n",
       "      <th>58</th>\n",
       "      <th>59</th>\n",
       "      <th>60</th>\n",
       "      <th>61</th>\n",
       "      <th>62</th>\n",
       "      <th>63</th>\n",
       "      <th>64</th>\n",
       "      <th>65</th>\n",
       "      <th>66</th>\n",
       "      <th>67</th>\n",
       "      <th>68</th>\n",
       "      <th>69</th>\n",
       "      <th>70</th>\n",
       "      <th>71</th>\n",
       "      <th>72</th>\n",
       "      <th>73</th>\n",
       "      <th>74</th>\n",
       "      <th>75</th>\n",
       "      <th>76</th>\n",
       "      <th>77</th>\n",
       "      <th>78</th>\n",
       "      <th>79</th>\n",
       "      <th>80</th>\n",
       "      <th>81</th>\n",
       "      <th>82</th>\n",
       "      <th>83</th>\n",
       "      <th>84</th>\n",
       "      <th>85</th>\n",
       "      <th>86</th>\n",
       "      <th>87</th>\n",
       "      <th>88</th>\n",
       "      <th>89</th>\n",
       "      <th>90</th>\n",
       "      <th>91</th>\n",
       "      <th>92</th>\n",
       "      <th>93</th>\n",
       "      <th>94</th>\n",
       "      <th>95</th>\n",
       "      <th>96</th>\n",
       "      <th>97</th>\n",
       "      <th>98</th>\n",
       "      <th>99</th>\n",
       "      <th>100</th>\n",
       "      <th>101</th>\n",
       "      <th>102</th>\n",
       "      <th>103</th>\n",
       "      <th>104</th>\n",
       "      <th>105</th>\n",
       "      <th>106</th>\n",
       "      <th>107</th>\n",
       "      <th>108</th>\n",
       "      <th>109</th>\n",
       "      <th>110</th>\n",
       "      <th>111</th>\n",
       "      <th>112</th>\n",
       "      <th>113</th>\n",
       "      <th>114</th>\n",
       "      <th>115</th>\n",
       "      <th>116</th>\n",
       "    </tr>\n",
       "  </thead>\n",
       "  <tbody>\n",
       "    <tr>\n",
       "      <th>0</th>\n",
       "      <td>34.0</td>\n",
       "      <td>NaN</td>\n",
       "      <td>NaN</td>\n",
       "      <td>NaN</td>\n",
       "      <td>-3.5495</td>\n",
       "      <td>-5.0962</td>\n",
       "      <td>0.4412</td>\n",
       "      <td>6.2262</td>\n",
       "      <td>204.861</td>\n",
       "      <td>252.49</td>\n",
       "      <td>-0.58832</td>\n",
       "      <td>-0.306992</td>\n",
       "      <td>-0.354133</td>\n",
       "      <td>16.1270</td>\n",
       "      <td>0.0006</td>\n",
       "      <td>-0.02</td>\n",
       "      <td>0.00</td>\n",
       "      <td>-0.14</td>\n",
       "      <td>-0.01</td>\n",
       "      <td>0.00</td>\n",
       "      <td>-0.08</td>\n",
       "      <td>-0.01</td>\n",
       "      <td>0.00</td>\n",
       "      <td>-0.06</td>\n",
       "      <td>-0.02</td>\n",
       "      <td>0.00</td>\n",
       "      <td>-0.10</td>\n",
       "      <td>0.00</td>\n",
       "      <td>0.00</td>\n",
       "      <td>0.00</td>\n",
       "      <td>0.00</td>\n",
       "      <td>-0.01</td>\n",
       "      <td>0.01</td>\n",
       "      <td>0.01</td>\n",
       "      <td>-0.02</td>\n",
       "      <td>0.04</td>\n",
       "      <td>0.00</td>\n",
       "      <td>-0.03</td>\n",
       "      <td>-0.02</td>\n",
       "      <td>0.02</td>\n",
       "      <td>0.06</td>\n",
       "      <td>0.22</td>\n",
       "      <td>0.00</td>\n",
       "      <td>0.02</td>\n",
       "      <td>0.00</td>\n",
       "      <td>0.00</td>\n",
       "      <td>0.04</td>\n",
       "      <td>-0.01</td>\n",
       "      <td>0.01</td>\n",
       "      <td>0.00</td>\n",
       "      <td>0.05</td>\n",
       "      <td>0.01</td>\n",
       "      <td>0.00</td>\n",
       "      <td>0.04</td>\n",
       "      <td>0.02</td>\n",
       "      <td>0.00</td>\n",
       "      <td>0.10</td>\n",
       "      <td>0.02</td>\n",
       "      <td>0.00</td>\n",
       "      <td>0.10</td>\n",
       "      <td>0.01</td>\n",
       "      <td>0.00</td>\n",
       "      <td>0.04</td>\n",
       "      <td>0.00</td>\n",
       "      <td>0.00</td>\n",
       "      <td>-0.02</td>\n",
       "      <td>0.00</td>\n",
       "      <td>0.00</td>\n",
       "      <td>-0.02</td>\n",
       "      <td>0.02</td>\n",
       "      <td>0.04</td>\n",
       "      <td>0.22</td>\n",
       "      <td>-0.01</td>\n",
       "      <td>0.07</td>\n",
       "      <td>0.02</td>\n",
       "      <td>0.03</td>\n",
       "      <td>0.11</td>\n",
       "      <td>0.39</td>\n",
       "      <td>0.00</td>\n",
       "      <td>-0.02</td>\n",
       "      <td>0.01</td>\n",
       "      <td>-0.02</td>\n",
       "      <td>-0.04</td>\n",
       "      <td>-0.22</td>\n",
       "      <td>0.00</td>\n",
       "      <td>0.05</td>\n",
       "      <td>-0.04</td>\n",
       "      <td>0.02</td>\n",
       "      <td>0.00</td>\n",
       "      <td>0.10</td>\n",
       "      <td>0.03</td>\n",
       "      <td>0.00</td>\n",
       "      <td>0.15</td>\n",
       "      <td>0.03</td>\n",
       "      <td>0.00</td>\n",
       "      <td>0.15</td>\n",
       "      <td>0.01</td>\n",
       "      <td>0.00</td>\n",
       "      <td>0.04</td>\n",
       "      <td>-0.01</td>\n",
       "      <td>0.00</td>\n",
       "      <td>-0.07</td>\n",
       "      <td>-0.02</td>\n",
       "      <td>-0.06</td>\n",
       "      <td>-0.21</td>\n",
       "      <td>0.04</td>\n",
       "      <td>0.08</td>\n",
       "      <td>0.40</td>\n",
       "      <td>0.00</td>\n",
       "      <td>-0.03</td>\n",
       "      <td>0.01</td>\n",
       "      <td>-0.04</td>\n",
       "      <td>-0.11</td>\n",
       "      <td>-0.39</td>\n",
       "      <td>-0.04</td>\n",
       "      <td>-0.07</td>\n",
       "      <td>-0.39</td>\n",
       "    </tr>\n",
       "    <tr>\n",
       "      <th>1</th>\n",
       "      <td>nan</td>\n",
       "      <td>NaN</td>\n",
       "      <td>NaN</td>\n",
       "      <td>NaN</td>\n",
       "      <td>NaN</td>\n",
       "      <td>NaN</td>\n",
       "      <td>NaN</td>\n",
       "      <td>NaN</td>\n",
       "      <td>NaN</td>\n",
       "      <td>NaN</td>\n",
       "      <td>0.49254</td>\n",
       "      <td>0.111552</td>\n",
       "      <td>0.144743</td>\n",
       "      <td>28.0790</td>\n",
       "      <td>0.0021</td>\n",
       "      <td>-0.12</td>\n",
       "      <td>0.01</td>\n",
       "      <td>-0.03</td>\n",
       "      <td>-0.07</td>\n",
       "      <td>-0.02</td>\n",
       "      <td>-0.01</td>\n",
       "      <td>-0.06</td>\n",
       "      <td>-0.08</td>\n",
       "      <td>0.01</td>\n",
       "      <td>-0.10</td>\n",
       "      <td>-0.11</td>\n",
       "      <td>0.02</td>\n",
       "      <td>0.00</td>\n",
       "      <td>-0.11</td>\n",
       "      <td>0.03</td>\n",
       "      <td>0.00</td>\n",
       "      <td>-0.17</td>\n",
       "      <td>0.04</td>\n",
       "      <td>-0.02</td>\n",
       "      <td>-0.18</td>\n",
       "      <td>0.04</td>\n",
       "      <td>0.03</td>\n",
       "      <td>-0.17</td>\n",
       "      <td>0.05</td>\n",
       "      <td>0.10</td>\n",
       "      <td>0.01</td>\n",
       "      <td>-0.01</td>\n",
       "      <td>-0.01</td>\n",
       "      <td>-0.07</td>\n",
       "      <td>0.02</td>\n",
       "      <td>0.01</td>\n",
       "      <td>-0.19</td>\n",
       "      <td>0.05</td>\n",
       "      <td>0.05</td>\n",
       "      <td>-0.08</td>\n",
       "      <td>0.03</td>\n",
       "      <td>0.05</td>\n",
       "      <td>-0.02</td>\n",
       "      <td>0.01</td>\n",
       "      <td>0.11</td>\n",
       "      <td>0.01</td>\n",
       "      <td>0.01</td>\n",
       "      <td>0.11</td>\n",
       "      <td>0.08</td>\n",
       "      <td>-0.01</td>\n",
       "      <td>0.05</td>\n",
       "      <td>0.11</td>\n",
       "      <td>-0.03</td>\n",
       "      <td>-0.01</td>\n",
       "      <td>0.08</td>\n",
       "      <td>-0.03</td>\n",
       "      <td>-0.01</td>\n",
       "      <td>0.02</td>\n",
       "      <td>-0.01</td>\n",
       "      <td>0.09</td>\n",
       "      <td>0.13</td>\n",
       "      <td>-0.04</td>\n",
       "      <td>0.07</td>\n",
       "      <td>-0.24</td>\n",
       "      <td>0.02</td>\n",
       "      <td>0.19</td>\n",
       "      <td>-0.04</td>\n",
       "      <td>-0.01</td>\n",
       "      <td>-0.03</td>\n",
       "      <td>0.19</td>\n",
       "      <td>-0.04</td>\n",
       "      <td>-0.12</td>\n",
       "      <td>-0.01</td>\n",
       "      <td>0.02</td>\n",
       "      <td>-0.05</td>\n",
       "      <td>-0.24</td>\n",
       "      <td>0.11</td>\n",
       "      <td>0.09</td>\n",
       "      <td>-0.11</td>\n",
       "      <td>0.04</td>\n",
       "      <td>0.16</td>\n",
       "      <td>-0.01</td>\n",
       "      <td>0.02</td>\n",
       "      <td>0.16</td>\n",
       "      <td>0.10</td>\n",
       "      <td>-0.01</td>\n",
       "      <td>0.05</td>\n",
       "      <td>0.16</td>\n",
       "      <td>-0.05</td>\n",
       "      <td>-0.05</td>\n",
       "      <td>0.11</td>\n",
       "      <td>-0.05</td>\n",
       "      <td>-0.14</td>\n",
       "      <td>0.12</td>\n",
       "      <td>-0.01</td>\n",
       "      <td>0.17</td>\n",
       "      <td>0.19</td>\n",
       "      <td>-0.06</td>\n",
       "      <td>-0.04</td>\n",
       "      <td>0.29</td>\n",
       "      <td>-0.06</td>\n",
       "      <td>-0.23</td>\n",
       "      <td>0.16</td>\n",
       "      <td>-0.01</td>\n",
       "      <td>-0.21</td>\n",
       "      <td>-0.06</td>\n",
       "      <td>0.04</td>\n",
       "    </tr>\n",
       "    <tr>\n",
       "      <th>2</th>\n",
       "      <td>O</td>\n",
       "      <td>3.130753</td>\n",
       "      <td>2.772714</td>\n",
       "      <td>0.002761</td>\n",
       "      <td>NaN</td>\n",
       "      <td>NaN</td>\n",
       "      <td>NaN</td>\n",
       "      <td>NaN</td>\n",
       "      <td>NaN</td>\n",
       "      <td>NaN</td>\n",
       "      <td>-0.36770</td>\n",
       "      <td>-0.090290</td>\n",
       "      <td>-0.132874</td>\n",
       "      <td>41.0538</td>\n",
       "      <td>0.0050</td>\n",
       "      <td>-0.02</td>\n",
       "      <td>-0.01</td>\n",
       "      <td>-0.08</td>\n",
       "      <td>-0.01</td>\n",
       "      <td>0.00</td>\n",
       "      <td>0.00</td>\n",
       "      <td>0.01</td>\n",
       "      <td>0.01</td>\n",
       "      <td>0.10</td>\n",
       "      <td>0.01</td>\n",
       "      <td>0.01</td>\n",
       "      <td>0.08</td>\n",
       "      <td>0.01</td>\n",
       "      <td>0.01</td>\n",
       "      <td>0.19</td>\n",
       "      <td>0.01</td>\n",
       "      <td>0.01</td>\n",
       "      <td>0.19</td>\n",
       "      <td>0.01</td>\n",
       "      <td>0.00</td>\n",
       "      <td>0.23</td>\n",
       "      <td>0.00</td>\n",
       "      <td>-0.03</td>\n",
       "      <td>0.15</td>\n",
       "      <td>0.02</td>\n",
       "      <td>0.01</td>\n",
       "      <td>-0.02</td>\n",
       "      <td>0.05</td>\n",
       "      <td>0.04</td>\n",
       "      <td>0.06</td>\n",
       "      <td>0.06</td>\n",
       "      <td>0.08</td>\n",
       "      <td>0.14</td>\n",
       "      <td>0.01</td>\n",
       "      <td>0.01</td>\n",
       "      <td>0.21</td>\n",
       "      <td>-0.01</td>\n",
       "      <td>0.00</td>\n",
       "      <td>0.09</td>\n",
       "      <td>-0.02</td>\n",
       "      <td>-0.01</td>\n",
       "      <td>0.06</td>\n",
       "      <td>-0.05</td>\n",
       "      <td>-0.01</td>\n",
       "      <td>-0.09</td>\n",
       "      <td>-0.06</td>\n",
       "      <td>-0.02</td>\n",
       "      <td>-0.21</td>\n",
       "      <td>-0.05</td>\n",
       "      <td>-0.02</td>\n",
       "      <td>-0.17</td>\n",
       "      <td>-0.02</td>\n",
       "      <td>-0.01</td>\n",
       "      <td>-0.02</td>\n",
       "      <td>0.00</td>\n",
       "      <td>-0.04</td>\n",
       "      <td>-0.15</td>\n",
       "      <td>0.08</td>\n",
       "      <td>0.12</td>\n",
       "      <td>0.19</td>\n",
       "      <td>0.01</td>\n",
       "      <td>0.02</td>\n",
       "      <td>0.01</td>\n",
       "      <td>0.00</td>\n",
       "      <td>-0.05</td>\n",
       "      <td>-0.19</td>\n",
       "      <td>0.05</td>\n",
       "      <td>0.02</td>\n",
       "      <td>0.02</td>\n",
       "      <td>0.09</td>\n",
       "      <td>0.10</td>\n",
       "      <td>0.11</td>\n",
       "      <td>0.01</td>\n",
       "      <td>0.01</td>\n",
       "      <td>0.26</td>\n",
       "      <td>-0.01</td>\n",
       "      <td>0.00</td>\n",
       "      <td>0.15</td>\n",
       "      <td>-0.06</td>\n",
       "      <td>-0.02</td>\n",
       "      <td>-0.11</td>\n",
       "      <td>-0.08</td>\n",
       "      <td>-0.03</td>\n",
       "      <td>-0.33</td>\n",
       "      <td>-0.06</td>\n",
       "      <td>-0.02</td>\n",
       "      <td>-0.26</td>\n",
       "      <td>0.03</td>\n",
       "      <td>-0.02</td>\n",
       "      <td>-0.11</td>\n",
       "      <td>-0.02</td>\n",
       "      <td>-0.06</td>\n",
       "      <td>-0.21</td>\n",
       "      <td>-0.01</td>\n",
       "      <td>-0.09</td>\n",
       "      <td>-0.29</td>\n",
       "      <td>0.04</td>\n",
       "      <td>-0.04</td>\n",
       "      <td>-0.14</td>\n",
       "      <td>0.08</td>\n",
       "      <td>0.05</td>\n",
       "      <td>0.07</td>\n",
       "    </tr>\n",
       "    <tr>\n",
       "      <th>3</th>\n",
       "      <td>C</td>\n",
       "      <td>2.519342</td>\n",
       "      <td>1.722728</td>\n",
       "      <td>0.112652</td>\n",
       "      <td>NaN</td>\n",
       "      <td>NaN</td>\n",
       "      <td>NaN</td>\n",
       "      <td>NaN</td>\n",
       "      <td>NaN</td>\n",
       "      <td>NaN</td>\n",
       "      <td>0.22967</td>\n",
       "      <td>0.045607</td>\n",
       "      <td>0.105880</td>\n",
       "      <td>53.1047</td>\n",
       "      <td>0.0054</td>\n",
       "      <td>-0.09</td>\n",
       "      <td>-0.02</td>\n",
       "      <td>-0.06</td>\n",
       "      <td>-0.05</td>\n",
       "      <td>-0.04</td>\n",
       "      <td>-0.02</td>\n",
       "      <td>-0.04</td>\n",
       "      <td>-0.09</td>\n",
       "      <td>0.01</td>\n",
       "      <td>-0.07</td>\n",
       "      <td>-0.10</td>\n",
       "      <td>0.02</td>\n",
       "      <td>0.00</td>\n",
       "      <td>-0.11</td>\n",
       "      <td>0.01</td>\n",
       "      <td>0.00</td>\n",
       "      <td>-0.13</td>\n",
       "      <td>0.02</td>\n",
       "      <td>0.02</td>\n",
       "      <td>-0.21</td>\n",
       "      <td>0.25</td>\n",
       "      <td>0.00</td>\n",
       "      <td>-0.31</td>\n",
       "      <td>-0.15</td>\n",
       "      <td>-0.09</td>\n",
       "      <td>0.07</td>\n",
       "      <td>-0.06</td>\n",
       "      <td>-0.02</td>\n",
       "      <td>0.13</td>\n",
       "      <td>-0.04</td>\n",
       "      <td>-0.03</td>\n",
       "      <td>0.19</td>\n",
       "      <td>-0.07</td>\n",
       "      <td>0.03</td>\n",
       "      <td>-0.09</td>\n",
       "      <td>0.00</td>\n",
       "      <td>0.03</td>\n",
       "      <td>-0.04</td>\n",
       "      <td>0.00</td>\n",
       "      <td>0.08</td>\n",
       "      <td>-0.02</td>\n",
       "      <td>0.03</td>\n",
       "      <td>0.08</td>\n",
       "      <td>0.02</td>\n",
       "      <td>0.04</td>\n",
       "      <td>0.04</td>\n",
       "      <td>0.05</td>\n",
       "      <td>0.03</td>\n",
       "      <td>0.00</td>\n",
       "      <td>0.02</td>\n",
       "      <td>0.01</td>\n",
       "      <td>-0.01</td>\n",
       "      <td>-0.02</td>\n",
       "      <td>-0.01</td>\n",
       "      <td>-0.08</td>\n",
       "      <td>-0.01</td>\n",
       "      <td>-0.01</td>\n",
       "      <td>-0.05</td>\n",
       "      <td>0.39</td>\n",
       "      <td>0.11</td>\n",
       "      <td>-0.16</td>\n",
       "      <td>0.09</td>\n",
       "      <td>-0.10</td>\n",
       "      <td>0.00</td>\n",
       "      <td>-0.03</td>\n",
       "      <td>0.05</td>\n",
       "      <td>0.06</td>\n",
       "      <td>0.10</td>\n",
       "      <td>0.01</td>\n",
       "      <td>-0.02</td>\n",
       "      <td>0.28</td>\n",
       "      <td>-0.31</td>\n",
       "      <td>0.06</td>\n",
       "      <td>-0.10</td>\n",
       "      <td>0.01</td>\n",
       "      <td>0.11</td>\n",
       "      <td>-0.04</td>\n",
       "      <td>0.03</td>\n",
       "      <td>0.12</td>\n",
       "      <td>0.04</td>\n",
       "      <td>0.06</td>\n",
       "      <td>0.05</td>\n",
       "      <td>0.08</td>\n",
       "      <td>0.05</td>\n",
       "      <td>-0.03</td>\n",
       "      <td>0.04</td>\n",
       "      <td>0.00</td>\n",
       "      <td>0.08</td>\n",
       "      <td>0.03</td>\n",
       "      <td>0.06</td>\n",
       "      <td>-0.14</td>\n",
       "      <td>-0.05</td>\n",
       "      <td>-0.03</td>\n",
       "      <td>0.01</td>\n",
       "      <td>-0.09</td>\n",
       "      <td>0.08</td>\n",
       "      <td>0.15</td>\n",
       "      <td>0.01</td>\n",
       "      <td>0.11</td>\n",
       "      <td>0.12</td>\n",
       "      <td>0.14</td>\n",
       "      <td>0.03</td>\n",
       "    </tr>\n",
       "    <tr>\n",
       "      <th>4</th>\n",
       "      <td>C</td>\n",
       "      <td>1.090996</td>\n",
       "      <td>1.651325</td>\n",
       "      <td>0.363223</td>\n",
       "      <td>NaN</td>\n",
       "      <td>NaN</td>\n",
       "      <td>NaN</td>\n",
       "      <td>NaN</td>\n",
       "      <td>NaN</td>\n",
       "      <td>NaN</td>\n",
       "      <td>0.24567</td>\n",
       "      <td>0.062148</td>\n",
       "      <td>0.115415</td>\n",
       "      <td>92.9320</td>\n",
       "      <td>0.0253</td>\n",
       "      <td>-0.05</td>\n",
       "      <td>0.00</td>\n",
       "      <td>0.11</td>\n",
       "      <td>-0.05</td>\n",
       "      <td>0.00</td>\n",
       "      <td>0.06</td>\n",
       "      <td>-0.06</td>\n",
       "      <td>0.00</td>\n",
       "      <td>-0.01</td>\n",
       "      <td>-0.08</td>\n",
       "      <td>0.00</td>\n",
       "      <td>-0.10</td>\n",
       "      <td>-0.05</td>\n",
       "      <td>0.00</td>\n",
       "      <td>0.02</td>\n",
       "      <td>-0.06</td>\n",
       "      <td>-0.02</td>\n",
       "      <td>-0.11</td>\n",
       "      <td>-0.10</td>\n",
       "      <td>-0.02</td>\n",
       "      <td>-0.16</td>\n",
       "      <td>-0.13</td>\n",
       "      <td>-0.01</td>\n",
       "      <td>-0.13</td>\n",
       "      <td>0.08</td>\n",
       "      <td>-0.02</td>\n",
       "      <td>-0.11</td>\n",
       "      <td>0.06</td>\n",
       "      <td>-0.04</td>\n",
       "      <td>-0.18</td>\n",
       "      <td>0.06</td>\n",
       "      <td>-0.04</td>\n",
       "      <td>-0.17</td>\n",
       "      <td>-0.03</td>\n",
       "      <td>0.00</td>\n",
       "      <td>0.15</td>\n",
       "      <td>-0.04</td>\n",
       "      <td>0.00</td>\n",
       "      <td>0.11</td>\n",
       "      <td>-0.03</td>\n",
       "      <td>0.00</td>\n",
       "      <td>0.12</td>\n",
       "      <td>-0.06</td>\n",
       "      <td>0.00</td>\n",
       "      <td>-0.02</td>\n",
       "      <td>-0.08</td>\n",
       "      <td>0.00</td>\n",
       "      <td>-0.14</td>\n",
       "      <td>-0.08</td>\n",
       "      <td>0.00</td>\n",
       "      <td>-0.10</td>\n",
       "      <td>-0.05</td>\n",
       "      <td>0.00</td>\n",
       "      <td>0.03</td>\n",
       "      <td>0.11</td>\n",
       "      <td>0.03</td>\n",
       "      <td>0.08</td>\n",
       "      <td>0.09</td>\n",
       "      <td>-0.04</td>\n",
       "      <td>-0.16</td>\n",
       "      <td>0.08</td>\n",
       "      <td>-0.03</td>\n",
       "      <td>-0.16</td>\n",
       "      <td>0.13</td>\n",
       "      <td>0.06</td>\n",
       "      <td>0.19</td>\n",
       "      <td>0.08</td>\n",
       "      <td>-0.02</td>\n",
       "      <td>-0.11</td>\n",
       "      <td>0.09</td>\n",
       "      <td>-0.04</td>\n",
       "      <td>-0.14</td>\n",
       "      <td>-0.03</td>\n",
       "      <td>0.00</td>\n",
       "      <td>0.16</td>\n",
       "      <td>-0.02</td>\n",
       "      <td>0.00</td>\n",
       "      <td>0.20</td>\n",
       "      <td>-0.06</td>\n",
       "      <td>0.00</td>\n",
       "      <td>-0.03</td>\n",
       "      <td>-0.10</td>\n",
       "      <td>0.01</td>\n",
       "      <td>-0.26</td>\n",
       "      <td>-0.09</td>\n",
       "      <td>0.00</td>\n",
       "      <td>-0.17</td>\n",
       "      <td>0.11</td>\n",
       "      <td>0.03</td>\n",
       "      <td>0.07</td>\n",
       "      <td>0.13</td>\n",
       "      <td>0.05</td>\n",
       "      <td>0.16</td>\n",
       "      <td>0.16</td>\n",
       "      <td>0.10</td>\n",
       "      <td>0.35</td>\n",
       "      <td>0.12</td>\n",
       "      <td>0.05</td>\n",
       "      <td>0.14</td>\n",
       "      <td>0.07</td>\n",
       "      <td>-0.04</td>\n",
       "      <td>-0.17</td>\n",
       "    </tr>\n",
       "  </tbody>\n",
       "</table>\n",
       "</div>"
      ],
      "text/plain": [
       "      0         1         2         3       4       5       6       7  \\\n",
       "0  34.0       NaN       NaN       NaN -3.5495 -5.0962  0.4412  6.2262   \n",
       "1   nan       NaN       NaN       NaN     NaN     NaN     NaN     NaN   \n",
       "2     O  3.130753  2.772714  0.002761     NaN     NaN     NaN     NaN   \n",
       "3     C  2.519342  1.722728  0.112652     NaN     NaN     NaN     NaN   \n",
       "4     C  1.090996  1.651325  0.363223     NaN     NaN     NaN     NaN   \n",
       "\n",
       "         8       9       10        11        12       13      14    15    16  \\\n",
       "0  204.861  252.49 -0.58832 -0.306992 -0.354133  16.1270  0.0006 -0.02  0.00   \n",
       "1      NaN     NaN  0.49254  0.111552  0.144743  28.0790  0.0021 -0.12  0.01   \n",
       "2      NaN     NaN -0.36770 -0.090290 -0.132874  41.0538  0.0050 -0.02 -0.01   \n",
       "3      NaN     NaN  0.22967  0.045607  0.105880  53.1047  0.0054 -0.09 -0.02   \n",
       "4      NaN     NaN  0.24567  0.062148  0.115415  92.9320  0.0253 -0.05  0.00   \n",
       "\n",
       "     17    18    19    20    21    22    23    24    25    26    27    28  \\\n",
       "0 -0.14 -0.01  0.00 -0.08 -0.01  0.00 -0.06 -0.02  0.00 -0.10  0.00  0.00   \n",
       "1 -0.03 -0.07 -0.02 -0.01 -0.06 -0.08  0.01 -0.10 -0.11  0.02  0.00 -0.11   \n",
       "2 -0.08 -0.01  0.00  0.00  0.01  0.01  0.10  0.01  0.01  0.08  0.01  0.01   \n",
       "3 -0.06 -0.05 -0.04 -0.02 -0.04 -0.09  0.01 -0.07 -0.10  0.02  0.00 -0.11   \n",
       "4  0.11 -0.05  0.00  0.06 -0.06  0.00 -0.01 -0.08  0.00 -0.10 -0.05  0.00   \n",
       "\n",
       "     29    30    31    32    33    34    35    36    37    38    39    40  \\\n",
       "0  0.00  0.00 -0.01  0.01  0.01 -0.02  0.04  0.00 -0.03 -0.02  0.02  0.06   \n",
       "1  0.03  0.00 -0.17  0.04 -0.02 -0.18  0.04  0.03 -0.17  0.05  0.10  0.01   \n",
       "2  0.19  0.01  0.01  0.19  0.01  0.00  0.23  0.00 -0.03  0.15  0.02  0.01   \n",
       "3  0.01  0.00 -0.13  0.02  0.02 -0.21  0.25  0.00 -0.31 -0.15 -0.09  0.07   \n",
       "4  0.02 -0.06 -0.02 -0.11 -0.10 -0.02 -0.16 -0.13 -0.01 -0.13  0.08 -0.02   \n",
       "\n",
       "     41    42    43    44    45    46    47    48    49    50    51    52  \\\n",
       "0  0.22  0.00  0.02  0.00  0.00  0.04 -0.01  0.01  0.00  0.05  0.01  0.00   \n",
       "1 -0.01 -0.01 -0.07  0.02  0.01 -0.19  0.05  0.05 -0.08  0.03  0.05 -0.02   \n",
       "2 -0.02  0.05  0.04  0.06  0.06  0.08  0.14  0.01  0.01  0.21 -0.01  0.00   \n",
       "3 -0.06 -0.02  0.13 -0.04 -0.03  0.19 -0.07  0.03 -0.09  0.00  0.03 -0.04   \n",
       "4 -0.11  0.06 -0.04 -0.18  0.06 -0.04 -0.17 -0.03  0.00  0.15 -0.04  0.00   \n",
       "\n",
       "     53    54    55    56    57    58    59    60    61    62    63    64  \\\n",
       "0  0.04  0.02  0.00  0.10  0.02  0.00  0.10  0.01  0.00  0.04  0.00  0.00   \n",
       "1  0.01  0.11  0.01  0.01  0.11  0.08 -0.01  0.05  0.11 -0.03 -0.01  0.08   \n",
       "2  0.09 -0.02 -0.01  0.06 -0.05 -0.01 -0.09 -0.06 -0.02 -0.21 -0.05 -0.02   \n",
       "3  0.00  0.08 -0.02  0.03  0.08  0.02  0.04  0.04  0.05  0.03  0.00  0.02   \n",
       "4  0.11 -0.03  0.00  0.12 -0.06  0.00 -0.02 -0.08  0.00 -0.14 -0.08  0.00   \n",
       "\n",
       "     65    66    67    68    69    70    71    72    73    74    75    76  \\\n",
       "0 -0.02  0.00  0.00 -0.02  0.02  0.04  0.22 -0.01  0.07  0.02  0.03  0.11   \n",
       "1 -0.03 -0.01  0.02 -0.01  0.09  0.13 -0.04  0.07 -0.24  0.02  0.19 -0.04   \n",
       "2 -0.17 -0.02 -0.01 -0.02  0.00 -0.04 -0.15  0.08  0.12  0.19  0.01  0.02   \n",
       "3  0.01 -0.01 -0.02 -0.01 -0.08 -0.01 -0.01 -0.05  0.39  0.11 -0.16  0.09   \n",
       "4 -0.10 -0.05  0.00  0.03  0.11  0.03  0.08  0.09 -0.04 -0.16  0.08 -0.03   \n",
       "\n",
       "     77    78    79    80    81    82    83    84    85    86    87    88  \\\n",
       "0  0.39  0.00 -0.02  0.01 -0.02 -0.04 -0.22  0.00  0.05 -0.04  0.02  0.00   \n",
       "1 -0.01 -0.03  0.19 -0.04 -0.12 -0.01  0.02 -0.05 -0.24  0.11  0.09 -0.11   \n",
       "2  0.01  0.00 -0.05 -0.19  0.05  0.02  0.02  0.09  0.10  0.11  0.01  0.01   \n",
       "3 -0.10  0.00 -0.03  0.05  0.06  0.10  0.01 -0.02  0.28 -0.31  0.06 -0.10   \n",
       "4 -0.16  0.13  0.06  0.19  0.08 -0.02 -0.11  0.09 -0.04 -0.14 -0.03  0.00   \n",
       "\n",
       "     89    90    91    92    93    94    95    96    97    98    99   100  \\\n",
       "0  0.10  0.03  0.00  0.15  0.03  0.00  0.15  0.01  0.00  0.04 -0.01  0.00   \n",
       "1  0.04  0.16 -0.01  0.02  0.16  0.10 -0.01  0.05  0.16 -0.05 -0.05  0.11   \n",
       "2  0.26 -0.01  0.00  0.15 -0.06 -0.02 -0.11 -0.08 -0.03 -0.33 -0.06 -0.02   \n",
       "3  0.01  0.11 -0.04  0.03  0.12  0.04  0.06  0.05  0.08  0.05 -0.03  0.04   \n",
       "4  0.16 -0.02  0.00  0.20 -0.06  0.00 -0.03 -0.10  0.01 -0.26 -0.09  0.00   \n",
       "\n",
       "    101   102   103   104   105   106   107   108   109   110   111   112  \\\n",
       "0 -0.07 -0.02 -0.06 -0.21  0.04  0.08  0.40  0.00 -0.03  0.01 -0.04 -0.11   \n",
       "1 -0.05 -0.14  0.12 -0.01  0.17  0.19 -0.06 -0.04  0.29 -0.06 -0.23  0.16   \n",
       "2 -0.26  0.03 -0.02 -0.11 -0.02 -0.06 -0.21 -0.01 -0.09 -0.29  0.04 -0.04   \n",
       "3  0.00  0.08  0.03  0.06 -0.14 -0.05 -0.03  0.01 -0.09  0.08  0.15  0.01   \n",
       "4 -0.17  0.11  0.03  0.07  0.13  0.05  0.16  0.16  0.10  0.35  0.12  0.05   \n",
       "\n",
       "    113   114   115   116  \n",
       "0 -0.39 -0.04 -0.07 -0.39  \n",
       "1 -0.01 -0.21 -0.06  0.04  \n",
       "2 -0.14  0.08  0.05  0.07  \n",
       "3  0.11  0.12  0.14  0.03  \n",
       "4  0.14  0.07 -0.04 -0.17  "
      ]
     },
     "execution_count": 3,
     "metadata": {},
     "output_type": "execute_result"
    }
   ],
   "source": [
    "os.chdir(r'C:\\Users\\edens\\Documents\\GitHub\\smiles_data\\Nadeem_feathers')\n",
    "df = pd.read_feather('MD-25_optimized.feather')\n",
    "df.head()"
   ]
  },
  {
   "cell_type": "code",
   "execution_count": 4,
   "metadata": {},
   "outputs": [
    {
     "name": "stdout",
     "output_type": "stream",
     "text": [
      "Molecules Loaded: ['HHQ_optimized.feather', 'MD-106_optimized.feather', 'MD-108_optimized.feather', 'MD-124_optimized.feather', 'MD-125_optimized.feather', 'MD-24_optimized.feather', 'MD-25_optimized.feather', 'MD-28_optimized.feather', 'MD-37_optimized.feather', 'MD-38_optimized.feather', 'MD-41_optimized.feather', 'MD-42_optimized.feather', 'MD-48_target.feather', 'MD-61_optimized.feather', 'MD-66_optimized.feather', 'MD-68_optimized.feather', 'MD-71_optimized.feather', 'MD-74_optimized.feather', 'MD-75_optimized.feather', 'MD-77_optimized.feather', 'MD-83_optimized.feather', 'MD-87_optimized.feather', 'ME-10_optimized.feather', 'ME-17_optimized.feather', 'ME-18_optimized.feather', 'ME-1_optimized.feather', 'ME-22_optimized.feather', 'ME-27_optimized.feather', 'ME-2_optimized.feather', 'ME-5_optimized.feather', 'ME-7_optimized.feather', 'ME-8_optimized.feather', 'PQS_optimized.feather'] Failed Molecules: []\n"
     ]
    }
   ],
   "source": [
    "m=Molecules(r'C:\\Users\\edens\\Documents\\GitHub\\smiles_data\\Nadeem_feathers')"
   ]
  },
  {
   "cell_type": "code",
   "execution_count": 6,
   "metadata": {},
   "outputs": [
    {
     "data": {
      "text/html": [
       "<div>\n",
       "<style scoped>\n",
       "    .dataframe tbody tr th:only-of-type {\n",
       "        vertical-align: middle;\n",
       "    }\n",
       "\n",
       "    .dataframe tbody tr th {\n",
       "        vertical-align: top;\n",
       "    }\n",
       "\n",
       "    .dataframe thead th {\n",
       "        text-align: right;\n",
       "    }\n",
       "</style>\n",
       "<table border=\"1\" class=\"dataframe\">\n",
       "  <thead>\n",
       "    <tr style=\"text-align: right;\">\n",
       "      <th></th>\n",
       "      <th>atom</th>\n",
       "      <th>x</th>\n",
       "      <th>y</th>\n",
       "      <th>z</th>\n",
       "    </tr>\n",
       "  </thead>\n",
       "  <tbody>\n",
       "    <tr>\n",
       "      <th>0</th>\n",
       "      <td>O</td>\n",
       "      <td>3.130753</td>\n",
       "      <td>2.772714</td>\n",
       "      <td>0.002761</td>\n",
       "    </tr>\n",
       "    <tr>\n",
       "      <th>1</th>\n",
       "      <td>C</td>\n",
       "      <td>2.519342</td>\n",
       "      <td>1.722728</td>\n",
       "      <td>0.112652</td>\n",
       "    </tr>\n",
       "    <tr>\n",
       "      <th>2</th>\n",
       "      <td>C</td>\n",
       "      <td>1.090996</td>\n",
       "      <td>1.651325</td>\n",
       "      <td>0.363223</td>\n",
       "    </tr>\n",
       "    <tr>\n",
       "      <th>3</th>\n",
       "      <td>H</td>\n",
       "      <td>0.547207</td>\n",
       "      <td>2.580431</td>\n",
       "      <td>0.458519</td>\n",
       "    </tr>\n",
       "    <tr>\n",
       "      <th>4</th>\n",
       "      <td>C</td>\n",
       "      <td>0.438942</td>\n",
       "      <td>0.470830</td>\n",
       "      <td>0.476840</td>\n",
       "    </tr>\n",
       "    <tr>\n",
       "      <th>5</th>\n",
       "      <td>C</td>\n",
       "      <td>-1.042087</td>\n",
       "      <td>0.361156</td>\n",
       "      <td>0.681827</td>\n",
       "    </tr>\n",
       "    <tr>\n",
       "      <th>6</th>\n",
       "      <td>H</td>\n",
       "      <td>-1.423587</td>\n",
       "      <td>1.320821</td>\n",
       "      <td>1.029000</td>\n",
       "    </tr>\n",
       "    <tr>\n",
       "      <th>7</th>\n",
       "      <td>H</td>\n",
       "      <td>-1.258496</td>\n",
       "      <td>-0.372482</td>\n",
       "      <td>1.464599</td>\n",
       "    </tr>\n",
       "    <tr>\n",
       "      <th>8</th>\n",
       "      <td>C</td>\n",
       "      <td>-4.068643</td>\n",
       "      <td>0.996029</td>\n",
       "      <td>-0.522982</td>\n",
       "    </tr>\n",
       "    <tr>\n",
       "      <th>9</th>\n",
       "      <td>C</td>\n",
       "      <td>-3.263484</td>\n",
       "      <td>-0.131175</td>\n",
       "      <td>-0.385515</td>\n",
       "    </tr>\n",
       "    <tr>\n",
       "      <th>10</th>\n",
       "      <td>C</td>\n",
       "      <td>-1.778092</td>\n",
       "      <td>-0.041158</td>\n",
       "      <td>-0.609022</td>\n",
       "    </tr>\n",
       "    <tr>\n",
       "      <th>11</th>\n",
       "      <td>N</td>\n",
       "      <td>1.108627</td>\n",
       "      <td>-0.712583</td>\n",
       "      <td>0.358967</td>\n",
       "    </tr>\n",
       "    <tr>\n",
       "      <th>12</th>\n",
       "      <td>C</td>\n",
       "      <td>2.467091</td>\n",
       "      <td>-0.778499</td>\n",
       "      <td>0.127360</td>\n",
       "    </tr>\n",
       "    <tr>\n",
       "      <th>13</th>\n",
       "      <td>C</td>\n",
       "      <td>3.112392</td>\n",
       "      <td>-2.017295</td>\n",
       "      <td>0.022741</td>\n",
       "    </tr>\n",
       "    <tr>\n",
       "      <th>14</th>\n",
       "      <td>C</td>\n",
       "      <td>4.468199</td>\n",
       "      <td>-2.058491</td>\n",
       "      <td>-0.209915</td>\n",
       "    </tr>\n",
       "    <tr>\n",
       "      <th>15</th>\n",
       "      <td>C</td>\n",
       "      <td>5.206802</td>\n",
       "      <td>-0.877134</td>\n",
       "      <td>-0.342722</td>\n",
       "    </tr>\n",
       "    <tr>\n",
       "      <th>16</th>\n",
       "      <td>C</td>\n",
       "      <td>4.569657</td>\n",
       "      <td>0.338875</td>\n",
       "      <td>-0.238556</td>\n",
       "    </tr>\n",
       "    <tr>\n",
       "      <th>17</th>\n",
       "      <td>C</td>\n",
       "      <td>3.194175</td>\n",
       "      <td>0.408052</td>\n",
       "      <td>-0.002033</td>\n",
       "    </tr>\n",
       "    <tr>\n",
       "      <th>18</th>\n",
       "      <td>C</td>\n",
       "      <td>-5.431327</td>\n",
       "      <td>0.929997</td>\n",
       "      <td>-0.270876</td>\n",
       "    </tr>\n",
       "    <tr>\n",
       "      <th>19</th>\n",
       "      <td>H</td>\n",
       "      <td>-1.554961</td>\n",
       "      <td>0.698124</td>\n",
       "      <td>-1.380576</td>\n",
       "    </tr>\n",
       "    <tr>\n",
       "      <th>20</th>\n",
       "      <td>H</td>\n",
       "      <td>-3.622144</td>\n",
       "      <td>1.933069</td>\n",
       "      <td>-0.836738</td>\n",
       "    </tr>\n",
       "    <tr>\n",
       "      <th>21</th>\n",
       "      <td>C</td>\n",
       "      <td>-6.008612</td>\n",
       "      <td>-0.268704</td>\n",
       "      <td>0.124913</td>\n",
       "    </tr>\n",
       "    <tr>\n",
       "      <th>22</th>\n",
       "      <td>C</td>\n",
       "      <td>-3.853227</td>\n",
       "      <td>-1.327474</td>\n",
       "      <td>0.012015</td>\n",
       "    </tr>\n",
       "    <tr>\n",
       "      <th>23</th>\n",
       "      <td>H</td>\n",
       "      <td>-1.398592</td>\n",
       "      <td>-1.001004</td>\n",
       "      <td>-0.967368</td>\n",
       "    </tr>\n",
       "    <tr>\n",
       "      <th>24</th>\n",
       "      <td>H</td>\n",
       "      <td>0.599186</td>\n",
       "      <td>-1.573785</td>\n",
       "      <td>0.474001</td>\n",
       "    </tr>\n",
       "    <tr>\n",
       "      <th>25</th>\n",
       "      <td>H</td>\n",
       "      <td>2.540199</td>\n",
       "      <td>-2.931916</td>\n",
       "      <td>0.124923</td>\n",
       "    </tr>\n",
       "    <tr>\n",
       "      <th>26</th>\n",
       "      <td>H</td>\n",
       "      <td>4.964677</td>\n",
       "      <td>-3.016883</td>\n",
       "      <td>-0.290661</td>\n",
       "    </tr>\n",
       "    <tr>\n",
       "      <th>27</th>\n",
       "      <td>H</td>\n",
       "      <td>6.271649</td>\n",
       "      <td>-0.924286</td>\n",
       "      <td>-0.525547</td>\n",
       "    </tr>\n",
       "    <tr>\n",
       "      <th>28</th>\n",
       "      <td>H</td>\n",
       "      <td>5.103732</td>\n",
       "      <td>1.275573</td>\n",
       "      <td>-0.333942</td>\n",
       "    </tr>\n",
       "    <tr>\n",
       "      <th>29</th>\n",
       "      <td>C</td>\n",
       "      <td>-5.215672</td>\n",
       "      <td>-1.398959</td>\n",
       "      <td>0.265428</td>\n",
       "    </tr>\n",
       "    <tr>\n",
       "      <th>30</th>\n",
       "      <td>H</td>\n",
       "      <td>-6.043965</td>\n",
       "      <td>1.814609</td>\n",
       "      <td>-0.387571</td>\n",
       "    </tr>\n",
       "    <tr>\n",
       "      <th>31</th>\n",
       "      <td>H</td>\n",
       "      <td>-7.071780</td>\n",
       "      <td>-0.322653</td>\n",
       "      <td>0.318784</td>\n",
       "    </tr>\n",
       "    <tr>\n",
       "      <th>32</th>\n",
       "      <td>H</td>\n",
       "      <td>-5.659252</td>\n",
       "      <td>-2.338618</td>\n",
       "      <td>0.568492</td>\n",
       "    </tr>\n",
       "    <tr>\n",
       "      <th>33</th>\n",
       "      <td>H</td>\n",
       "      <td>-3.239002</td>\n",
       "      <td>-2.215257</td>\n",
       "      <td>0.116958</td>\n",
       "    </tr>\n",
       "  </tbody>\n",
       "</table>\n",
       "</div>"
      ],
      "text/plain": [
       "   atom         x         y         z\n",
       "0     O  3.130753  2.772714  0.002761\n",
       "1     C  2.519342  1.722728  0.112652\n",
       "2     C  1.090996  1.651325  0.363223\n",
       "3     H  0.547207  2.580431  0.458519\n",
       "4     C  0.438942  0.470830  0.476840\n",
       "5     C -1.042087  0.361156  0.681827\n",
       "6     H -1.423587  1.320821  1.029000\n",
       "7     H -1.258496 -0.372482  1.464599\n",
       "8     C -4.068643  0.996029 -0.522982\n",
       "9     C -3.263484 -0.131175 -0.385515\n",
       "10    C -1.778092 -0.041158 -0.609022\n",
       "11    N  1.108627 -0.712583  0.358967\n",
       "12    C  2.467091 -0.778499  0.127360\n",
       "13    C  3.112392 -2.017295  0.022741\n",
       "14    C  4.468199 -2.058491 -0.209915\n",
       "15    C  5.206802 -0.877134 -0.342722\n",
       "16    C  4.569657  0.338875 -0.238556\n",
       "17    C  3.194175  0.408052 -0.002033\n",
       "18    C -5.431327  0.929997 -0.270876\n",
       "19    H -1.554961  0.698124 -1.380576\n",
       "20    H -3.622144  1.933069 -0.836738\n",
       "21    C -6.008612 -0.268704  0.124913\n",
       "22    C -3.853227 -1.327474  0.012015\n",
       "23    H -1.398592 -1.001004 -0.967368\n",
       "24    H  0.599186 -1.573785  0.474001\n",
       "25    H  2.540199 -2.931916  0.124923\n",
       "26    H  4.964677 -3.016883 -0.290661\n",
       "27    H  6.271649 -0.924286 -0.525547\n",
       "28    H  5.103732  1.275573 -0.333942\n",
       "29    C -5.215672 -1.398959  0.265428\n",
       "30    H -6.043965  1.814609 -0.387571\n",
       "31    H -7.071780 -0.322653  0.318784\n",
       "32    H -5.659252 -2.338618  0.568492\n",
       "33    H -3.239002 -2.215257  0.116958"
      ]
     },
     "execution_count": 6,
     "metadata": {},
     "output_type": "execute_result"
    }
   ],
   "source": [
    "m.molecules[6].xyz_df"
   ]
  },
  {
   "cell_type": "code",
   "execution_count": null,
   "metadata": {},
   "outputs": [],
   "source": []
  }
 ],
 "metadata": {
  "kernelspec": {
   "display_name": "labenv",
   "language": "python",
   "name": "python3"
  },
  "language_info": {
   "codemirror_mode": {
    "name": "ipython",
    "version": 3
   },
   "file_extension": ".py",
   "mimetype": "text/x-python",
   "name": "python",
   "nbconvert_exporter": "python",
   "pygments_lexer": "ipython3",
   "version": "3.9.18"
  }
 },
 "nbformat": 4,
 "nbformat_minor": 2
}
