{
 "cells": [
  {
   "cell_type": "code",
   "execution_count": 1,
   "metadata": {},
   "outputs": [
    {
     "name": "stdout",
     "output_type": "stream",
     "text": [
      "Molecules Loaded: ['LS1621.feather', 'LS1622.feather', 'LS1630.feather', 'LS1641.feather', 'LS1642.feather', 'LS1643.feather', 'LS1661.feather', 'LS1663.feather', 'LS1685.feather', 'LS1687.feather', 'LS1688.feather', 'LS1689.feather', 'LS1690.feather', 'LS1695.feather', 'LS1696.feather', 'LS1714.feather', 'LS1715.feather', 'LS1716.feather', 'LS1717.feather', 'LS1721.feather', 'LS1723.feather', 'LS1726.feather', 'LS1734.feather', 'LS1736.feather', 'LS2000.feather', 'LS2001.feather', 'LS2002.feather', 'LS2003.feather', 'LS2004.feather', 'LS2005.feather', 'LS2006.feather', 'LS2007.feather', 'LS2008.feather'] Failed Molecules: []\n"
     ]
    }
   ],
   "source": [
    "%reset -f\n",
    "%reload_ext autoreload\n",
    "%autoreload 2\n",
    "\n",
    "import os\n",
    "import sys\n",
    "import importlib\n",
    "import numpy as np\n",
    "import pandas as pd\n",
    "\n",
    "# Set root directory dynamically\n",
    "ROOT_DIR = r'C:\\Users\\edens\\Documents\\GitHub\\LabCode\\MolFeatures'\n",
    "sys.path.append(ROOT_DIR)\n",
    "os.chdir(ROOT_DIR)\n",
    "sys.path.append('M3_modeler')\n",
    "sys.path.append('M2_data_extractor')\n",
    "# Remove old module from cache\n",
    "sys.modules.pop('data_extractor', None)\n",
    "# Import modules and reload\n",
    "try:\n",
    "    os.chdir('M2_data_extractor')\n",
    "    from data_extractor import Molecules, extract_connectivity\n",
    "    from feather_extractor import logs_to_feather\n",
    "    import data_extractor\n",
    "    import feather_extractor\n",
    "    import gaussian_handler\n",
    "    from gaussian_handler import feather_file_handler\n",
    "    os.chdir('../utils')\n",
    "    from help_functions import dict_to_horizontal_df, get_df_from_file\n",
    "    from visualize import show_single_molecule\n",
    "    import help_functions\n",
    "    os.chdir('../M3_modeler')\n",
    "    from modeling import (\n",
    "        ClassificationModel,\n",
    "        LinearRegressionModel,\n",
    "        fit_and_evaluate_single_combination_regression\n",
    "    )\n",
    "    import plot\n",
    "    import modeling\n",
    "\n",
    "\n",
    "    \n",
    "    \n",
    "    \n",
    "except ModuleNotFoundError as e:\n",
    "    print(f\"Error: {e}\")\n",
    "    print(\"Make sure the module is in the correct directory and the Python environment is set up properly.\")\n",
    "\n",
    "# Ensure Pandas displays all columns\n",
    "pd.set_option('display.max_columns', None)\n",
    "\n",
    "# Define paths\n",
    "log_files_path = None  # Example: r'C:\\Users\\edens\\Documents\\GitHub\\LabCode\\MolFeatures\\Blackwell_logs'\n",
    "if log_files_path:\n",
    "    logs_to_feather(log_files_path)\n",
    "\n",
    "feather_path = r'C:\\Users\\edens\\Documents\\GitHub\\lucas_project\\new_logs_hirshfeld\\new_feather'\n",
    "# feather_path=r'C:\\Users\\edens\\Documents\\GitHub\\lucas_project\\Secondary_Sphere\\feather_benzal'\n",
    "# feather_path=r'C:\\Users\\edens\\Documents\\GitHub\\lucas_project\\Doyle2021\\logfiles\\feather_files'\n",
    "os.chdir(feather_path)\n",
    "\n",
    "# Load molecular data\n",
    "mols = data_extractor.Molecules(feather_path)\n",
    "\n",
    "# Define dictionary of answers\n",
    "answers_dict = {\n",
    "    \"Ring Vibration atoms\": \"9\",\n",
    "    \"Strech Vibration atoms\": \"1,2 4,5\",\n",
    "    \"Bending Vibration atoms\": \"22,23\",\n",
    "    \"Dipole atoms\": \"11,6 4 10,11,12 11,12 5 4,5,1 4,3,2\",\n",
    "    \"NPA manipulation atoms\": \"11,6 4 10,11,12 11,12,5 4,5,1 4,3,2\",\n",
    "    \"Sub-Atoms\": \"1,2,3,4,5,6,7,8,9,10,11,12,13,14,15,16,17,18,19,20,21,22,23,24,25\",\n",
    "    \"Charge values\": \"1,3,5,11,8,12,14\",\n",
    "    \"Charge difference\": \"11,5 3,5 11,12 12,5\",\n",
    "    \"Sterimol atoms\": \"4,6 6,4 4,3 11,6\",\n",
    "    \"Bond length\": \"11,12 6,4 12,13 12,5 12,14 4,3\",\n",
    "    \"Bond Angle\": \"11,6 4,6 4,5 1,5,4,3 11,6,4,5\"\n",
    "}\n",
    "\n",
    "list_answers = [\n",
    "    [9,8], [1600], [], [1200], [22, 23],\n",
    "    [[11, 6, 4], [10, 11, 12], [11, 12, 5], [4, 5, 1], [4, 3, 2]],\n",
    "    [1, 2, 3, 4, 5, 6, 7, 8, 9, 10, 11, 12, 13, 14, 15, 16, 17, 18, 19, 20, 21, 22, 23, 24, 25],\n",
    "    [[5,1,25], [10, 11, 12], [11, 12, 5]],\n",
    "    [1, 3, 5, 11, 8, 12, 14],\n",
    "    [[11, 5], [3, 5], [11, 12], [12, 5]],\n",
    "    [[4, 6], [6, 4], [4, 3], [11, 6]],\n",
    "    [[11, 12],[3,11],[3,12],[5,11], [12, 14],[4,12]],\n",
    "    [[11, 6, 4], [6, 4, 5], [1, 5, 4, 3], [11, 6, 4, 5]]\n",
    "\n",
    "]\n"
   ]
  },
  {
   "cell_type": "code",
   "execution_count": 3,
   "metadata": {},
   "outputs": [],
   "source": [
    "steric=mols.get_sterimol_dict([[4, 6], [6, 4], [4, 3], [11, 6]],radii='CPK')"
   ]
  },
  {
   "cell_type": "code",
   "execution_count": 3,
   "metadata": {},
   "outputs": [],
   "source": [
    "steric=dict_to_horizontal_df(steric)"
   ]
  },
  {
   "cell_type": "code",
   "execution_count": 2,
   "metadata": {},
   "outputs": [
    {
     "name": "stdout",
     "output_type": "stream",
     "text": [
      "None\n",
      "Benzene ring found: [9, 8, 7, 6, 11, 10]\n",
      "Second atom is in the benzene ring.\n",
      "Benzene ring found: [9, 8, 7, 6, 11, 10]\n",
      "Second atom is in the benzene ring.\n",
      "Benzene ring found: [9, 8, 7, 6, 11, 10]\n",
      "Second atom is in the benzene ring.\n",
      "Benzene ring found: [9, 8, 7, 6, 11, 10]\n",
      "Second atom is in the benzene ring.\n",
      "Benzene ring found: [9, 8, 7, 6, 11, 10]\n",
      "Second atom is in the benzene ring.\n",
      "Benzene ring found: [9, 8, 7, 6, 11, 10]\n",
      "Second atom is in the benzene ring.\n",
      "Benzene ring found: [9, 8, 7, 6, 11, 10]\n",
      "Second atom is in the benzene ring.\n",
      "Benzene ring found: [9, 8, 7, 6, 11, 10]\n",
      "Second atom is in the benzene ring.\n",
      "Benzene ring found: [9, 8, 7, 6, 11, 10]\n",
      "Second atom is in the benzene ring.\n",
      "Benzene ring found: [9, 8, 7, 6, 11, 10]\n",
      "Second atom is in the benzene ring.\n",
      "Benzene ring found: [9, 8, 7, 6, 11, 10]\n",
      "Second atom is in the benzene ring.\n",
      "Benzene ring found: [9, 8, 7, 6, 11, 10]\n",
      "Second atom is in the benzene ring.\n",
      "Benzene ring found: [9, 8, 7, 6, 11, 10]\n",
      "Second atom is in the benzene ring.\n",
      "Benzene ring found: [9, 8, 7, 6, 11, 10]\n",
      "Second atom is in the benzene ring.\n",
      "Benzene ring found: [9, 8, 7, 6, 11, 10]\n",
      "Second atom is in the benzene ring.\n",
      "Benzene ring found: [9, 8, 7, 6, 11, 10]\n",
      "Second atom is in the benzene ring.\n",
      "Benzene ring found: [9, 8, 7, 6, 11, 10]\n",
      "Second atom is in the benzene ring.\n",
      "Benzene ring found: [9, 10, 11, 6, 7, 19]\n",
      "Second atom is NOT in the benzene ring.\n",
      "Benzene ring found: [9, 8, 7, 6, 11, 10]\n",
      "Second atom is in the benzene ring.\n",
      "Benzene ring found: [9, 8, 7, 6, 11, 10]\n",
      "Second atom is in the benzene ring.\n",
      "Benzene ring found: [9, 8, 7, 6, 11, 10]\n",
      "Second atom is in the benzene ring.\n",
      "Benzene ring found: [9, 8, 7, 6, 11, 10]\n",
      "Second atom is in the benzene ring.\n",
      "Benzene ring found: [9, 8, 7, 6, 11, 10]\n",
      "Second atom is in the benzene ring.\n",
      "Benzene ring found: [9, 8, 7, 6, 11, 10]\n",
      "Second atom is in the benzene ring.\n",
      "Benzene ring found: [9, 8, 7, 6, 11, 10]\n",
      "Second atom is in the benzene ring.\n",
      "Benzene ring found: [9, 8, 7, 6, 11, 10]\n",
      "Second atom is in the benzene ring.\n",
      "Benzene ring found: [9, 8, 7, 6, 11, 10]\n",
      "Second atom is in the benzene ring.\n",
      "Benzene ring found: [9, 8, 7, 6, 11, 10]\n",
      "Second atom is in the benzene ring.\n",
      "Benzene ring found: [9, 8, 7, 6, 11, 10]\n",
      "Second atom is in the benzene ring.\n",
      "Benzene ring found: [9, 8, 7, 6, 11, 10]\n",
      "Second atom is in the benzene ring.\n",
      "Benzene ring found: [9, 8, 7, 6, 11, 10]\n",
      "Second atom is in the benzene ring.\n",
      "Benzene ring found: [9, 8, 7, 6, 11, 10]\n",
      "Second atom is in the benzene ring.\n",
      "Benzene ring found: [9, 8, 7, 6, 11, 10]\n",
      "Second atom is in the benzene ring.\n",
      "Calculating Bend vibration for atoms [22, 23] with threshold 1200 \n",
      " Remember : ALWAYS LOOK AT THE RESULTING VIBRATION\n",
      "'Series' object has no attribute 'columns'\n"
     ]
    },
    {
     "data": {
      "text/html": [
       "<div>\n",
       "<style scoped>\n",
       "    .dataframe tbody tr th:only-of-type {\n",
       "        vertical-align: middle;\n",
       "    }\n",
       "\n",
       "    .dataframe tbody tr th {\n",
       "        vertical-align: top;\n",
       "    }\n",
       "\n",
       "    .dataframe thead th {\n",
       "        text-align: right;\n",
       "    }\n",
       "</style>\n",
       "<table border=\"1\" class=\"dataframe\">\n",
       "  <thead>\n",
       "    <tr style=\"text-align: right;\">\n",
       "      <th></th>\n",
       "      <th>cross</th>\n",
       "      <th>cross_angle</th>\n",
       "      <th>para</th>\n",
       "      <th>para_angle</th>\n",
       "      <th>Frequency_Bending_22-23</th>\n",
       "      <th>Cross_mag_Bending_22-23</th>\n",
       "      <th>dip_x_NPA_11-6-4</th>\n",
       "      <th>dip_y_NPA_11-6-4</th>\n",
       "      <th>dip_z_NPA_11-6-4</th>\n",
       "      <th>total_dipole_NPA_11-6-4</th>\n",
       "      <th>dip_x_NPA_10-11-12</th>\n",
       "      <th>dip_y_NPA_10-11-12</th>\n",
       "      <th>dip_z_NPA_10-11-12</th>\n",
       "      <th>total_dipole_NPA_10-11-12</th>\n",
       "      <th>dip_x_NPA_11-12-5</th>\n",
       "      <th>dip_y_NPA_11-12-5</th>\n",
       "      <th>dip_z_NPA_11-12-5</th>\n",
       "      <th>total_dipole_NPA_11-12-5</th>\n",
       "      <th>dip_x_NPA_4-5-1</th>\n",
       "      <th>dip_y_NPA_4-5-1</th>\n",
       "      <th>dip_z_NPA_4-5-1</th>\n",
       "      <th>total_dipole_NPA_4-5-1</th>\n",
       "      <th>dip_x_NPA_4-3-2</th>\n",
       "      <th>dip_y_NPA_4-3-2</th>\n",
       "      <th>dip_z_NPA_4-3-2</th>\n",
       "      <th>total_dipole_NPA_4-3-2</th>\n",
       "      <th>dipole_x_5-1-25</th>\n",
       "      <th>dipole_y_5-1-25</th>\n",
       "      <th>dipole_z_5-1-25</th>\n",
       "      <th>total_dipole_5-1-25</th>\n",
       "      <th>dipole_x_10-11-12</th>\n",
       "      <th>dipole_y_10-11-12</th>\n",
       "      <th>dipole_z_10-11-12</th>\n",
       "      <th>total_dipole_10-11-12</th>\n",
       "      <th>dipole_x_11-12-5</th>\n",
       "      <th>dipole_y_11-12-5</th>\n",
       "      <th>dipole_z_11-12-5</th>\n",
       "      <th>total_dipole_11-12-5</th>\n",
       "      <th>nbo_atom_1</th>\n",
       "      <th>nbo_atom_3</th>\n",
       "      <th>nbo_atom_5</th>\n",
       "      <th>nbo_atom_11</th>\n",
       "      <th>nbo_atom_8</th>\n",
       "      <th>nbo_atom_12</th>\n",
       "      <th>nbo_atom_14</th>\n",
       "      <th>hirshfeld_atom_1</th>\n",
       "      <th>hirshfeld_atom_3</th>\n",
       "      <th>hirshfeld_atom_5</th>\n",
       "      <th>hirshfeld_atom_11</th>\n",
       "      <th>hirshfeld_atom_8</th>\n",
       "      <th>hirshfeld_atom_12</th>\n",
       "      <th>hirshfeld_atom_14</th>\n",
       "      <th>cm5_atom_1</th>\n",
       "      <th>cm5_atom_3</th>\n",
       "      <th>cm5_atom_5</th>\n",
       "      <th>cm5_atom_11</th>\n",
       "      <th>cm5_atom_8</th>\n",
       "      <th>cm5_atom_12</th>\n",
       "      <th>cm5_atom_14</th>\n",
       "      <th>B1_4-6</th>\n",
       "      <th>B5_4-6</th>\n",
       "      <th>L_4-6</th>\n",
       "      <th>loc_B5_4-6</th>\n",
       "      <th>B1_B5_angle_4-6</th>\n",
       "      <th>B1_6-4</th>\n",
       "      <th>B5_6-4</th>\n",
       "      <th>L_6-4</th>\n",
       "      <th>loc_B5_6-4</th>\n",
       "      <th>B1_B5_angle_6-4</th>\n",
       "      <th>B1_4-3</th>\n",
       "      <th>B5_4-3</th>\n",
       "      <th>L_4-3</th>\n",
       "      <th>loc_B5_4-3</th>\n",
       "      <th>B1_B5_angle_4-3</th>\n",
       "      <th>B1_11-6</th>\n",
       "      <th>B5_11-6</th>\n",
       "      <th>L_11-6</th>\n",
       "      <th>loc_B5_11-6</th>\n",
       "      <th>B1_B5_angle_11-6</th>\n",
       "      <th>bond_length_11-12</th>\n",
       "      <th>bond_length_3-11</th>\n",
       "      <th>bond_length_3-12</th>\n",
       "      <th>bond_length_5-11</th>\n",
       "      <th>bond_length_12-14</th>\n",
       "      <th>bond_length_4-12</th>\n",
       "      <th>angle_[11, 6, 4]</th>\n",
       "      <th>angle_[6, 4, 5]</th>\n",
       "      <th>dihedral_[1, 5, 4, 3]</th>\n",
       "      <th>dihedral_[11, 6, 4, 5]</th>\n",
       "    </tr>\n",
       "  </thead>\n",
       "  <tbody>\n",
       "    <tr>\n",
       "      <th>LS1621</th>\n",
       "      <td>1674.6111</td>\n",
       "      <td>39.227103</td>\n",
       "      <td>1652.6065</td>\n",
       "      <td>53.790361</td>\n",
       "      <td>3176.5085</td>\n",
       "      <td>0.341497</td>\n",
       "      <td>1.160731</td>\n",
       "      <td>4.299914</td>\n",
       "      <td>-0.409019</td>\n",
       "      <td>4.472567</td>\n",
       "      <td>-3.054492</td>\n",
       "      <td>3.064794</td>\n",
       "      <td>-0.171324</td>\n",
       "      <td>4.330385</td>\n",
       "      <td>4.325054</td>\n",
       "      <td>-0.650147</td>\n",
       "      <td>-0.077242</td>\n",
       "      <td>4.374328</td>\n",
       "      <td>4.430421</td>\n",
       "      <td>-1.231978</td>\n",
       "      <td>0.382390</td>\n",
       "      <td>4.614393</td>\n",
       "      <td>0.915549</td>\n",
       "      <td>4.461030</td>\n",
       "      <td>-0.808884</td>\n",
       "      <td>4.625290</td>\n",
       "      <td>-1.863747</td>\n",
       "      <td>-1.024725</td>\n",
       "      <td>-10.519571</td>\n",
       "      <td>10.7325</td>\n",
       "      <td>-10.180303</td>\n",
       "      <td>-3.377346</td>\n",
       "      <td>-0.374115</td>\n",
       "      <td>10.7325</td>\n",
       "      <td>3.360200</td>\n",
       "      <td>-10.191187</td>\n",
       "      <td>0.183729</td>\n",
       "      <td>10.7325</td>\n",
       "      <td>-0.08843</td>\n",
       "      <td>-0.47523</td>\n",
       "      <td>-0.44749</td>\n",
       "      <td>-0.37993</td>\n",
       "      <td>-0.15272</td>\n",
       "      <td>0.38106</td>\n",
       "      <td>-0.70421</td>\n",
       "      <td>0.025547</td>\n",
       "      <td>-0.131285</td>\n",
       "      <td>-0.108202</td>\n",
       "      <td>-0.053677</td>\n",
       "      <td>-0.004202</td>\n",
       "      <td>0.164793</td>\n",
       "      <td>-0.144169</td>\n",
       "      <td>0.022678</td>\n",
       "      <td>-0.207793</td>\n",
       "      <td>-0.353321</td>\n",
       "      <td>-0.314159</td>\n",
       "      <td>-0.057741</td>\n",
       "      <td>0.397356</td>\n",
       "      <td>-0.340934</td>\n",
       "      <td>1.6998</td>\n",
       "      <td>3.2852</td>\n",
       "      <td>6.2555</td>\n",
       "      <td>3.7923</td>\n",
       "      <td>91.0482</td>\n",
       "      <td>1.9316</td>\n",
       "      <td>4.8590</td>\n",
       "      <td>7.1930</td>\n",
       "      <td>4.5669</td>\n",
       "      <td>119.2581</td>\n",
       "      <td>1.6991</td>\n",
       "      <td>6.1440</td>\n",
       "      <td>3.5204</td>\n",
       "      <td>1.3677</td>\n",
       "      <td>144.7530</td>\n",
       "      <td>1.9574</td>\n",
       "      <td>7.3621</td>\n",
       "      <td>5.4352</td>\n",
       "      <td>3.2715</td>\n",
       "      <td>119.8702</td>\n",
       "      <td>2.178381</td>\n",
       "      <td>3.594038</td>\n",
       "      <td>4.262064</td>\n",
       "      <td>2.745039</td>\n",
       "      <td>1.973706</td>\n",
       "      <td>2.963223</td>\n",
       "      <td>115.225880</td>\n",
       "      <td>123.183505</td>\n",
       "      <td>3.866926</td>\n",
       "      <td>4.982389</td>\n",
       "    </tr>\n",
       "    <tr>\n",
       "      <th>LS1622</th>\n",
       "      <td>1688.8190</td>\n",
       "      <td>7.836688</td>\n",
       "      <td>1660.1501</td>\n",
       "      <td>84.348787</td>\n",
       "      <td>1530.3972</td>\n",
       "      <td>0.359935</td>\n",
       "      <td>0.272959</td>\n",
       "      <td>1.839751</td>\n",
       "      <td>-0.989847</td>\n",
       "      <td>2.106891</td>\n",
       "      <td>-3.199226</td>\n",
       "      <td>1.077458</td>\n",
       "      <td>-0.910373</td>\n",
       "      <td>3.496389</td>\n",
       "      <td>2.476554</td>\n",
       "      <td>-1.778912</td>\n",
       "      <td>0.796034</td>\n",
       "      <td>3.151431</td>\n",
       "      <td>0.554543</td>\n",
       "      <td>-0.580570</td>\n",
       "      <td>1.047279</td>\n",
       "      <td>1.319611</td>\n",
       "      <td>-0.380821</td>\n",
       "      <td>0.612844</td>\n",
       "      <td>-0.994820</td>\n",
       "      <td>1.228930</td>\n",
       "      <td>-1.792450</td>\n",
       "      <td>1.775714</td>\n",
       "      <td>-9.693686</td>\n",
       "      <td>10.0166</td>\n",
       "      <td>-9.997078</td>\n",
       "      <td>-0.459818</td>\n",
       "      <td>-0.424948</td>\n",
       "      <td>10.0166</td>\n",
       "      <td>5.574201</td>\n",
       "      <td>-8.321639</td>\n",
       "      <td>0.110408</td>\n",
       "      <td>10.0166</td>\n",
       "      <td>-0.08915</td>\n",
       "      <td>-0.47427</td>\n",
       "      <td>-0.44016</td>\n",
       "      <td>-0.37463</td>\n",
       "      <td>-0.12868</td>\n",
       "      <td>0.37809</td>\n",
       "      <td>-0.70028</td>\n",
       "      <td>0.026314</td>\n",
       "      <td>-0.130423</td>\n",
       "      <td>-0.105224</td>\n",
       "      <td>-0.048963</td>\n",
       "      <td>0.000883</td>\n",
       "      <td>0.165090</td>\n",
       "      <td>-0.141094</td>\n",
       "      <td>0.023349</td>\n",
       "      <td>-0.206961</td>\n",
       "      <td>-0.349665</td>\n",
       "      <td>-0.308815</td>\n",
       "      <td>-0.048492</td>\n",
       "      <td>0.396865</td>\n",
       "      <td>-0.337926</td>\n",
       "      <td>2.0629</td>\n",
       "      <td>3.2858</td>\n",
       "      <td>7.6548</td>\n",
       "      <td>3.7996</td>\n",
       "      <td>109.0228</td>\n",
       "      <td>1.9312</td>\n",
       "      <td>4.8565</td>\n",
       "      <td>7.1931</td>\n",
       "      <td>4.5734</td>\n",
       "      <td>119.1972</td>\n",
       "      <td>1.6991</td>\n",
       "      <td>6.1445</td>\n",
       "      <td>3.5161</td>\n",
       "      <td>1.3591</td>\n",
       "      <td>144.8043</td>\n",
       "      <td>2.3398</td>\n",
       "      <td>7.3589</td>\n",
       "      <td>5.4389</td>\n",
       "      <td>3.2800</td>\n",
       "      <td>111.8759</td>\n",
       "      <td>2.181839</td>\n",
       "      <td>3.594216</td>\n",
       "      <td>4.268282</td>\n",
       "      <td>2.745470</td>\n",
       "      <td>1.973025</td>\n",
       "      <td>2.969747</td>\n",
       "      <td>115.242874</td>\n",
       "      <td>123.122975</td>\n",
       "      <td>3.817904</td>\n",
       "      <td>5.056583</td>\n",
       "    </tr>\n",
       "    <tr>\n",
       "      <th>LS1630</th>\n",
       "      <td>1643.0843</td>\n",
       "      <td>30.852374</td>\n",
       "      <td>1678.5785</td>\n",
       "      <td>60.148641</td>\n",
       "      <td>1531.9099</td>\n",
       "      <td>0.376626</td>\n",
       "      <td>2.667708</td>\n",
       "      <td>4.898217</td>\n",
       "      <td>-0.305293</td>\n",
       "      <td>5.585910</td>\n",
       "      <td>-2.316098</td>\n",
       "      <td>4.650567</td>\n",
       "      <td>-0.077794</td>\n",
       "      <td>5.195972</td>\n",
       "      <td>5.269708</td>\n",
       "      <td>0.872177</td>\n",
       "      <td>-0.204786</td>\n",
       "      <td>5.345321</td>\n",
       "      <td>6.159097</td>\n",
       "      <td>-0.302250</td>\n",
       "      <td>0.142644</td>\n",
       "      <td>6.168158</td>\n",
       "      <td>2.549087</td>\n",
       "      <td>5.582991</td>\n",
       "      <td>-0.915997</td>\n",
       "      <td>6.205375</td>\n",
       "      <td>-2.423660</td>\n",
       "      <td>-0.080908</td>\n",
       "      <td>-11.988257</td>\n",
       "      <td>12.2311</td>\n",
       "      <td>-11.868040</td>\n",
       "      <td>-2.951194</td>\n",
       "      <td>-0.197577</td>\n",
       "      <td>12.2311</td>\n",
       "      <td>4.792779</td>\n",
       "      <td>-11.252821</td>\n",
       "      <td>-0.047437</td>\n",
       "      <td>12.2311</td>\n",
       "      <td>-0.08857</td>\n",
       "      <td>-0.47873</td>\n",
       "      <td>-0.44479</td>\n",
       "      <td>-0.40645</td>\n",
       "      <td>0.35094</td>\n",
       "      <td>0.38062</td>\n",
       "      <td>-0.70331</td>\n",
       "      <td>0.025554</td>\n",
       "      <td>-0.132824</td>\n",
       "      <td>-0.107156</td>\n",
       "      <td>-0.068794</td>\n",
       "      <td>0.101392</td>\n",
       "      <td>0.163014</td>\n",
       "      <td>-0.144128</td>\n",
       "      <td>0.022714</td>\n",
       "      <td>-0.209683</td>\n",
       "      <td>-0.351706</td>\n",
       "      <td>-0.328876</td>\n",
       "      <td>0.121196</td>\n",
       "      <td>0.394774</td>\n",
       "      <td>-0.340945</td>\n",
       "      <td>1.7537</td>\n",
       "      <td>5.1704</td>\n",
       "      <td>6.2538</td>\n",
       "      <td>4.6347</td>\n",
       "      <td>93.1665</td>\n",
       "      <td>1.9315</td>\n",
       "      <td>4.8603</td>\n",
       "      <td>7.1936</td>\n",
       "      <td>4.5640</td>\n",
       "      <td>119.3033</td>\n",
       "      <td>1.6991</td>\n",
       "      <td>6.1418</td>\n",
       "      <td>3.5222</td>\n",
       "      <td>1.3708</td>\n",
       "      <td>144.6567</td>\n",
       "      <td>2.0843</td>\n",
       "      <td>7.3651</td>\n",
       "      <td>5.4272</td>\n",
       "      <td>3.2544</td>\n",
       "      <td>116.8778</td>\n",
       "      <td>2.177188</td>\n",
       "      <td>3.591680</td>\n",
       "      <td>4.267622</td>\n",
       "      <td>2.742675</td>\n",
       "      <td>1.972927</td>\n",
       "      <td>2.966716</td>\n",
       "      <td>115.180219</td>\n",
       "      <td>123.174901</td>\n",
       "      <td>3.886540</td>\n",
       "      <td>4.792056</td>\n",
       "    </tr>\n",
       "    <tr>\n",
       "      <th>LS1641</th>\n",
       "      <td>1647.4172</td>\n",
       "      <td>29.770644</td>\n",
       "      <td>1680.0379</td>\n",
       "      <td>59.709925</td>\n",
       "      <td>3173.2922</td>\n",
       "      <td>0.364401</td>\n",
       "      <td>2.046429</td>\n",
       "      <td>1.754159</td>\n",
       "      <td>-2.318574</td>\n",
       "      <td>3.555381</td>\n",
       "      <td>0.902531</td>\n",
       "      <td>2.610897</td>\n",
       "      <td>-2.381469</td>\n",
       "      <td>3.647292</td>\n",
       "      <td>2.192409</td>\n",
       "      <td>2.223128</td>\n",
       "      <td>1.961964</td>\n",
       "      <td>3.687582</td>\n",
       "      <td>4.096519</td>\n",
       "      <td>0.936480</td>\n",
       "      <td>2.318399</td>\n",
       "      <td>4.799316</td>\n",
       "      <td>2.357352</td>\n",
       "      <td>3.199425</td>\n",
       "      <td>-2.842995</td>\n",
       "      <td>4.886313</td>\n",
       "      <td>-0.358293</td>\n",
       "      <td>-4.037364</td>\n",
       "      <td>-10.465565</td>\n",
       "      <td>11.2231</td>\n",
       "      <td>-9.141267</td>\n",
       "      <td>-6.508608</td>\n",
       "      <td>-0.178920</td>\n",
       "      <td>11.2231</td>\n",
       "      <td>1.142262</td>\n",
       "      <td>-11.164756</td>\n",
       "      <td>-0.013786</td>\n",
       "      <td>11.2231</td>\n",
       "      <td>-0.09182</td>\n",
       "      <td>-0.47461</td>\n",
       "      <td>-0.45328</td>\n",
       "      <td>-0.42328</td>\n",
       "      <td>0.35712</td>\n",
       "      <td>0.38659</td>\n",
       "      <td>-0.70487</td>\n",
       "      <td>0.024283</td>\n",
       "      <td>-0.130683</td>\n",
       "      <td>-0.107141</td>\n",
       "      <td>-0.086512</td>\n",
       "      <td>0.099119</td>\n",
       "      <td>0.172918</td>\n",
       "      <td>-0.147755</td>\n",
       "      <td>0.021639</td>\n",
       "      <td>-0.207058</td>\n",
       "      <td>-0.359136</td>\n",
       "      <td>-0.325890</td>\n",
       "      <td>0.118888</td>\n",
       "      <td>0.396393</td>\n",
       "      <td>-0.344853</td>\n",
       "      <td>1.6998</td>\n",
       "      <td>4.3976</td>\n",
       "      <td>7.1148</td>\n",
       "      <td>3.3635</td>\n",
       "      <td>105.1094</td>\n",
       "      <td>1.9157</td>\n",
       "      <td>4.8849</td>\n",
       "      <td>7.1951</td>\n",
       "      <td>4.5619</td>\n",
       "      <td>119.6950</td>\n",
       "      <td>1.6991</td>\n",
       "      <td>6.1833</td>\n",
       "      <td>3.5017</td>\n",
       "      <td>1.3199</td>\n",
       "      <td>132.8759</td>\n",
       "      <td>1.9926</td>\n",
       "      <td>7.4122</td>\n",
       "      <td>5.4308</td>\n",
       "      <td>3.2139</td>\n",
       "      <td>117.3367</td>\n",
       "      <td>2.263051</td>\n",
       "      <td>3.609350</td>\n",
       "      <td>4.191478</td>\n",
       "      <td>2.750317</td>\n",
       "      <td>1.980412</td>\n",
       "      <td>2.925409</td>\n",
       "      <td>115.488508</td>\n",
       "      <td>122.873644</td>\n",
       "      <td>2.315135</td>\n",
       "      <td>5.944809</td>\n",
       "    </tr>\n",
       "    <tr>\n",
       "      <th>LS1642</th>\n",
       "      <td>1642.4555</td>\n",
       "      <td>4.440006</td>\n",
       "      <td>1667.7782</td>\n",
       "      <td>76.476774</td>\n",
       "      <td>1532.7426</td>\n",
       "      <td>0.394142</td>\n",
       "      <td>1.766727</td>\n",
       "      <td>2.657969</td>\n",
       "      <td>-1.834042</td>\n",
       "      <td>3.681010</td>\n",
       "      <td>-1.407753</td>\n",
       "      <td>2.665817</td>\n",
       "      <td>-1.754589</td>\n",
       "      <td>3.488113</td>\n",
       "      <td>3.318882</td>\n",
       "      <td>0.592192</td>\n",
       "      <td>1.159044</td>\n",
       "      <td>3.564976</td>\n",
       "      <td>3.561186</td>\n",
       "      <td>0.278986</td>\n",
       "      <td>1.811652</td>\n",
       "      <td>4.005242</td>\n",
       "      <td>1.645234</td>\n",
       "      <td>2.961473</td>\n",
       "      <td>-2.178823</td>\n",
       "      <td>4.027951</td>\n",
       "      <td>-0.026167</td>\n",
       "      <td>-2.789254</td>\n",
       "      <td>-9.003339</td>\n",
       "      <td>9.4256</td>\n",
       "      <td>-8.055489</td>\n",
       "      <td>-4.859899</td>\n",
       "      <td>-0.575514</td>\n",
       "      <td>9.4256</td>\n",
       "      <td>1.532936</td>\n",
       "      <td>-9.295079</td>\n",
       "      <td>0.303879</td>\n",
       "      <td>9.4256</td>\n",
       "      <td>-0.09158</td>\n",
       "      <td>-0.47581</td>\n",
       "      <td>-0.45509</td>\n",
       "      <td>-0.39992</td>\n",
       "      <td>-0.14776</td>\n",
       "      <td>0.38112</td>\n",
       "      <td>-0.68620</td>\n",
       "      <td>0.024290</td>\n",
       "      <td>-0.132222</td>\n",
       "      <td>-0.108067</td>\n",
       "      <td>-0.063147</td>\n",
       "      <td>-0.007035</td>\n",
       "      <td>0.178655</td>\n",
       "      <td>-0.145062</td>\n",
       "      <td>0.021741</td>\n",
       "      <td>-0.208504</td>\n",
       "      <td>-0.358790</td>\n",
       "      <td>-0.303767</td>\n",
       "      <td>-0.060546</td>\n",
       "      <td>0.401310</td>\n",
       "      <td>-0.341222</td>\n",
       "      <td>2.2087</td>\n",
       "      <td>8.2551</td>\n",
       "      <td>7.7595</td>\n",
       "      <td>5.1398</td>\n",
       "      <td>120.4247</td>\n",
       "      <td>1.9000</td>\n",
       "      <td>4.8947</td>\n",
       "      <td>7.1913</td>\n",
       "      <td>4.5492</td>\n",
       "      <td>119.8334</td>\n",
       "      <td>1.6991</td>\n",
       "      <td>6.1852</td>\n",
       "      <td>3.4990</td>\n",
       "      <td>1.3094</td>\n",
       "      <td>132.7625</td>\n",
       "      <td>2.9663</td>\n",
       "      <td>7.4027</td>\n",
       "      <td>5.4300</td>\n",
       "      <td>3.2233</td>\n",
       "      <td>97.6683</td>\n",
       "      <td>2.268091</td>\n",
       "      <td>3.603733</td>\n",
       "      <td>4.204376</td>\n",
       "      <td>2.748761</td>\n",
       "      <td>1.978709</td>\n",
       "      <td>2.936209</td>\n",
       "      <td>115.501921</td>\n",
       "      <td>122.927556</td>\n",
       "      <td>2.373212</td>\n",
       "      <td>6.613158</td>\n",
       "    </tr>\n",
       "    <tr>\n",
       "      <th>LS1643</th>\n",
       "      <td>1636.0736</td>\n",
       "      <td>4.780466</td>\n",
       "      <td>1668.2129</td>\n",
       "      <td>76.343265</td>\n",
       "      <td>1533.2747</td>\n",
       "      <td>0.402490</td>\n",
       "      <td>2.090960</td>\n",
       "      <td>2.607707</td>\n",
       "      <td>-1.715628</td>\n",
       "      <td>3.757078</td>\n",
       "      <td>-1.303560</td>\n",
       "      <td>2.957542</td>\n",
       "      <td>-1.527703</td>\n",
       "      <td>3.574941</td>\n",
       "      <td>3.408000</td>\n",
       "      <td>0.864000</td>\n",
       "      <td>1.003267</td>\n",
       "      <td>3.656159</td>\n",
       "      <td>3.719134</td>\n",
       "      <td>0.503508</td>\n",
       "      <td>1.732801</td>\n",
       "      <td>4.133773</td>\n",
       "      <td>1.974965</td>\n",
       "      <td>3.025479</td>\n",
       "      <td>-2.057148</td>\n",
       "      <td>4.157628</td>\n",
       "      <td>-0.511415</td>\n",
       "      <td>-4.388000</td>\n",
       "      <td>-8.653471</td>\n",
       "      <td>9.7159</td>\n",
       "      <td>-7.446441</td>\n",
       "      <td>-6.239694</td>\n",
       "      <td>0.123980</td>\n",
       "      <td>9.7159</td>\n",
       "      <td>0.007991</td>\n",
       "      <td>-9.715069</td>\n",
       "      <td>-0.126561</td>\n",
       "      <td>9.7159</td>\n",
       "      <td>-0.09197</td>\n",
       "      <td>-0.47519</td>\n",
       "      <td>-0.45436</td>\n",
       "      <td>-0.39890</td>\n",
       "      <td>-0.14709</td>\n",
       "      <td>0.37978</td>\n",
       "      <td>-0.68904</td>\n",
       "      <td>0.024157</td>\n",
       "      <td>-0.132262</td>\n",
       "      <td>-0.109256</td>\n",
       "      <td>-0.071207</td>\n",
       "      <td>-0.007840</td>\n",
       "      <td>0.175047</td>\n",
       "      <td>-0.146515</td>\n",
       "      <td>0.021659</td>\n",
       "      <td>-0.208344</td>\n",
       "      <td>-0.359811</td>\n",
       "      <td>-0.308898</td>\n",
       "      <td>-0.061287</td>\n",
       "      <td>0.397066</td>\n",
       "      <td>-0.342716</td>\n",
       "      <td>1.7620</td>\n",
       "      <td>8.7601</td>\n",
       "      <td>8.7068</td>\n",
       "      <td>7.0913</td>\n",
       "      <td>99.1564</td>\n",
       "      <td>1.9467</td>\n",
       "      <td>4.8443</td>\n",
       "      <td>7.2284</td>\n",
       "      <td>4.6589</td>\n",
       "      <td>118.6067</td>\n",
       "      <td>1.6991</td>\n",
       "      <td>6.2148</td>\n",
       "      <td>3.4768</td>\n",
       "      <td>1.2793</td>\n",
       "      <td>130.3102</td>\n",
       "      <td>2.0781</td>\n",
       "      <td>7.4734</td>\n",
       "      <td>5.3958</td>\n",
       "      <td>3.1146</td>\n",
       "      <td>112.8403</td>\n",
       "      <td>2.274812</td>\n",
       "      <td>3.603294</td>\n",
       "      <td>4.184140</td>\n",
       "      <td>2.748798</td>\n",
       "      <td>1.979472</td>\n",
       "      <td>2.922278</td>\n",
       "      <td>115.457010</td>\n",
       "      <td>123.038129</td>\n",
       "      <td>1.443926</td>\n",
       "      <td>4.006796</td>\n",
       "    </tr>\n",
       "    <tr>\n",
       "      <th>LS1661</th>\n",
       "      <td>1653.0726</td>\n",
       "      <td>10.340303</td>\n",
       "      <td>1674.3443</td>\n",
       "      <td>76.471735</td>\n",
       "      <td>1533.2702</td>\n",
       "      <td>0.389691</td>\n",
       "      <td>0.688560</td>\n",
       "      <td>0.769306</td>\n",
       "      <td>-2.446064</td>\n",
       "      <td>2.655029</td>\n",
       "      <td>0.594216</td>\n",
       "      <td>0.874514</td>\n",
       "      <td>-2.388702</td>\n",
       "      <td>2.612234</td>\n",
       "      <td>1.008261</td>\n",
       "      <td>0.893624</td>\n",
       "      <td>2.191419</td>\n",
       "      <td>2.572445</td>\n",
       "      <td>2.128386</td>\n",
       "      <td>0.346092</td>\n",
       "      <td>2.490508</td>\n",
       "      <td>3.294303</td>\n",
       "      <td>0.919699</td>\n",
       "      <td>1.711920</td>\n",
       "      <td>-2.738471</td>\n",
       "      <td>3.357936</td>\n",
       "      <td>-0.277978</td>\n",
       "      <td>-2.424097</td>\n",
       "      <td>-9.687418</td>\n",
       "      <td>9.9899</td>\n",
       "      <td>-8.829480</td>\n",
       "      <td>-4.660438</td>\n",
       "      <td>-0.346673</td>\n",
       "      <td>9.9899</td>\n",
       "      <td>2.229749</td>\n",
       "      <td>-9.737870</td>\n",
       "      <td>-0.041068</td>\n",
       "      <td>9.9899</td>\n",
       "      <td>-0.09186</td>\n",
       "      <td>-0.47521</td>\n",
       "      <td>-0.45347</td>\n",
       "      <td>-0.39542</td>\n",
       "      <td>-0.14568</td>\n",
       "      <td>0.38581</td>\n",
       "      <td>-0.70316</td>\n",
       "      <td>0.024401</td>\n",
       "      <td>-0.131333</td>\n",
       "      <td>-0.107481</td>\n",
       "      <td>-0.071238</td>\n",
       "      <td>-0.006699</td>\n",
       "      <td>0.174022</td>\n",
       "      <td>-0.146607</td>\n",
       "      <td>0.021757</td>\n",
       "      <td>-0.207715</td>\n",
       "      <td>-0.359614</td>\n",
       "      <td>-0.310404</td>\n",
       "      <td>-0.060201</td>\n",
       "      <td>0.397235</td>\n",
       "      <td>-0.343752</td>\n",
       "      <td>1.6997</td>\n",
       "      <td>4.4108</td>\n",
       "      <td>6.2323</td>\n",
       "      <td>3.3432</td>\n",
       "      <td>102.0138</td>\n",
       "      <td>1.9155</td>\n",
       "      <td>4.8802</td>\n",
       "      <td>7.1982</td>\n",
       "      <td>4.5721</td>\n",
       "      <td>119.5792</td>\n",
       "      <td>1.6991</td>\n",
       "      <td>6.1863</td>\n",
       "      <td>3.4990</td>\n",
       "      <td>1.3159</td>\n",
       "      <td>132.6797</td>\n",
       "      <td>1.8882</td>\n",
       "      <td>7.4077</td>\n",
       "      <td>5.4360</td>\n",
       "      <td>3.2334</td>\n",
       "      <td>119.3167</td>\n",
       "      <td>2.268127</td>\n",
       "      <td>3.605632</td>\n",
       "      <td>4.187883</td>\n",
       "      <td>2.752791</td>\n",
       "      <td>1.980426</td>\n",
       "      <td>2.922057</td>\n",
       "      <td>115.626706</td>\n",
       "      <td>122.981755</td>\n",
       "      <td>2.208761</td>\n",
       "      <td>6.127085</td>\n",
       "    </tr>\n",
       "    <tr>\n",
       "      <th>LS1663</th>\n",
       "      <td>1652.2832</td>\n",
       "      <td>3.849523</td>\n",
       "      <td>1662.9231</td>\n",
       "      <td>89.452627</td>\n",
       "      <td>1536.3359</td>\n",
       "      <td>0.381549</td>\n",
       "      <td>0.995230</td>\n",
       "      <td>0.966063</td>\n",
       "      <td>-1.016553</td>\n",
       "      <td>1.719634</td>\n",
       "      <td>-0.063841</td>\n",
       "      <td>1.400754</td>\n",
       "      <td>-1.031241</td>\n",
       "      <td>1.740587</td>\n",
       "      <td>1.178196</td>\n",
       "      <td>0.843423</td>\n",
       "      <td>1.012033</td>\n",
       "      <td>1.767405</td>\n",
       "      <td>1.511421</td>\n",
       "      <td>0.340994</td>\n",
       "      <td>0.997034</td>\n",
       "      <td>1.842484</td>\n",
       "      <td>0.877222</td>\n",
       "      <td>1.173235</td>\n",
       "      <td>-1.133822</td>\n",
       "      <td>1.852444</td>\n",
       "      <td>-3.514183</td>\n",
       "      <td>-2.974375</td>\n",
       "      <td>-8.474539</td>\n",
       "      <td>9.6444</td>\n",
       "      <td>-8.508090</td>\n",
       "      <td>-4.437991</td>\n",
       "      <td>-0.964796</td>\n",
       "      <td>9.6444</td>\n",
       "      <td>2.185315</td>\n",
       "      <td>-9.348054</td>\n",
       "      <td>0.923297</td>\n",
       "      <td>9.6444</td>\n",
       "      <td>-0.09251</td>\n",
       "      <td>-0.47126</td>\n",
       "      <td>-0.47939</td>\n",
       "      <td>-0.39662</td>\n",
       "      <td>-0.15212</td>\n",
       "      <td>0.21677</td>\n",
       "      <td>-0.85877</td>\n",
       "      <td>0.016741</td>\n",
       "      <td>-0.131975</td>\n",
       "      <td>-0.113060</td>\n",
       "      <td>-0.101082</td>\n",
       "      <td>-0.012914</td>\n",
       "      <td>0.071966</td>\n",
       "      <td>-0.190632</td>\n",
       "      <td>0.015263</td>\n",
       "      <td>-0.206961</td>\n",
       "      <td>-0.373508</td>\n",
       "      <td>-0.310716</td>\n",
       "      <td>-0.066306</td>\n",
       "      <td>0.250657</td>\n",
       "      <td>-0.382677</td>\n",
       "      <td>1.9246</td>\n",
       "      <td>5.5964</td>\n",
       "      <td>7.0254</td>\n",
       "      <td>4.0044</td>\n",
       "      <td>118.5855</td>\n",
       "      <td>2.0946</td>\n",
       "      <td>5.6026</td>\n",
       "      <td>7.3048</td>\n",
       "      <td>3.6952</td>\n",
       "      <td>90.5267</td>\n",
       "      <td>1.6991</td>\n",
       "      <td>6.6032</td>\n",
       "      <td>3.4923</td>\n",
       "      <td>-1.5099</td>\n",
       "      <td>110.6668</td>\n",
       "      <td>2.3022</td>\n",
       "      <td>7.8022</td>\n",
       "      <td>5.3326</td>\n",
       "      <td>0.0168</td>\n",
       "      <td>94.0327</td>\n",
       "      <td>2.664355</td>\n",
       "      <td>3.594834</td>\n",
       "      <td>4.333581</td>\n",
       "      <td>2.727009</td>\n",
       "      <td>2.013282</td>\n",
       "      <td>3.092688</td>\n",
       "      <td>114.729343</td>\n",
       "      <td>122.990867</td>\n",
       "      <td>1.471326</td>\n",
       "      <td>3.017690</td>\n",
       "    </tr>\n",
       "    <tr>\n",
       "      <th>LS1685</th>\n",
       "      <td>1693.4940</td>\n",
       "      <td>20.903271</td>\n",
       "      <td>1652.0781</td>\n",
       "      <td>71.928016</td>\n",
       "      <td>1526.2269</td>\n",
       "      <td>0.331147</td>\n",
       "      <td>-2.589397</td>\n",
       "      <td>1.267166</td>\n",
       "      <td>-2.289069</td>\n",
       "      <td>3.681104</td>\n",
       "      <td>-2.224748</td>\n",
       "      <td>-1.555460</td>\n",
       "      <td>-2.696773</td>\n",
       "      <td>3.826427</td>\n",
       "      <td>0.899347</td>\n",
       "      <td>-2.694656</td>\n",
       "      <td>2.537138</td>\n",
       "      <td>3.808814</td>\n",
       "      <td>3.088414</td>\n",
       "      <td>-0.908456</td>\n",
       "      <td>1.692423</td>\n",
       "      <td>3.637017</td>\n",
       "      <td>0.099547</td>\n",
       "      <td>1.989650</td>\n",
       "      <td>-3.088254</td>\n",
       "      <td>3.675042</td>\n",
       "      <td>-7.155545</td>\n",
       "      <td>5.593327</td>\n",
       "      <td>4.072631</td>\n",
       "      <td>9.9535</td>\n",
       "      <td>-9.556989</td>\n",
       "      <td>0.697817</td>\n",
       "      <td>-2.692667</td>\n",
       "      <td>9.9535</td>\n",
       "      <td>6.633991</td>\n",
       "      <td>-7.408098</td>\n",
       "      <td>0.428594</td>\n",
       "      <td>9.9535</td>\n",
       "      <td>-0.03720</td>\n",
       "      <td>-0.43155</td>\n",
       "      <td>-0.60912</td>\n",
       "      <td>-0.40897</td>\n",
       "      <td>-0.11941</td>\n",
       "      <td>0.36686</td>\n",
       "      <td>-0.70339</td>\n",
       "      <td>0.023801</td>\n",
       "      <td>-0.074823</td>\n",
       "      <td>-0.087509</td>\n",
       "      <td>-0.055870</td>\n",
       "      <td>-0.000818</td>\n",
       "      <td>0.170249</td>\n",
       "      <td>-0.142555</td>\n",
       "      <td>0.019028</td>\n",
       "      <td>-0.328432</td>\n",
       "      <td>-0.480994</td>\n",
       "      <td>-0.325162</td>\n",
       "      <td>-0.050049</td>\n",
       "      <td>0.406323</td>\n",
       "      <td>-0.339065</td>\n",
       "      <td>2.1128</td>\n",
       "      <td>3.2527</td>\n",
       "      <td>7.6442</td>\n",
       "      <td>3.8971</td>\n",
       "      <td>71.3105</td>\n",
       "      <td>1.8033</td>\n",
       "      <td>8.6841</td>\n",
       "      <td>6.6189</td>\n",
       "      <td>4.8275</td>\n",
       "      <td>114.5387</td>\n",
       "      <td>1.7088</td>\n",
       "      <td>6.8776</td>\n",
       "      <td>7.2750</td>\n",
       "      <td>5.9483</td>\n",
       "      <td>103.4020</td>\n",
       "      <td>4.1122</td>\n",
       "      <td>7.4074</td>\n",
       "      <td>10.6909</td>\n",
       "      <td>2.3121</td>\n",
       "      <td>165.9953</td>\n",
       "      <td>2.141072</td>\n",
       "      <td>3.658606</td>\n",
       "      <td>4.330893</td>\n",
       "      <td>2.780686</td>\n",
       "      <td>1.975565</td>\n",
       "      <td>2.990188</td>\n",
       "      <td>116.785473</td>\n",
       "      <td>110.294901</td>\n",
       "      <td>30.293878</td>\n",
       "      <td>39.324441</td>\n",
       "    </tr>\n",
       "    <tr>\n",
       "      <th>LS1687</th>\n",
       "      <td>1675.3979</td>\n",
       "      <td>32.983838</td>\n",
       "      <td>1643.1653</td>\n",
       "      <td>54.573665</td>\n",
       "      <td>3156.6866</td>\n",
       "      <td>0.274509</td>\n",
       "      <td>2.450130</td>\n",
       "      <td>4.770688</td>\n",
       "      <td>-0.252738</td>\n",
       "      <td>5.369030</td>\n",
       "      <td>-1.742830</td>\n",
       "      <td>4.347877</td>\n",
       "      <td>-0.994602</td>\n",
       "      <td>4.788604</td>\n",
       "      <td>4.884433</td>\n",
       "      <td>0.908996</td>\n",
       "      <td>0.473461</td>\n",
       "      <td>4.990804</td>\n",
       "      <td>6.069935</td>\n",
       "      <td>-0.343490</td>\n",
       "      <td>1.220177</td>\n",
       "      <td>6.200881</td>\n",
       "      <td>2.453067</td>\n",
       "      <td>5.751100</td>\n",
       "      <td>-0.022528</td>\n",
       "      <td>6.252455</td>\n",
       "      <td>-11.399283</td>\n",
       "      <td>-1.991069</td>\n",
       "      <td>-6.751301</td>\n",
       "      <td>13.3973</td>\n",
       "      <td>-12.420068</td>\n",
       "      <td>-5.018041</td>\n",
       "      <td>0.221882</td>\n",
       "      <td>13.3973</td>\n",
       "      <td>2.833491</td>\n",
       "      <td>-13.081945</td>\n",
       "      <td>-0.567547</td>\n",
       "      <td>13.3973</td>\n",
       "      <td>-0.06062</td>\n",
       "      <td>-0.44304</td>\n",
       "      <td>-0.42439</td>\n",
       "      <td>-0.41659</td>\n",
       "      <td>0.34914</td>\n",
       "      <td>0.38972</td>\n",
       "      <td>-0.69268</td>\n",
       "      <td>0.024342</td>\n",
       "      <td>-0.061243</td>\n",
       "      <td>-0.111462</td>\n",
       "      <td>-0.072595</td>\n",
       "      <td>0.099730</td>\n",
       "      <td>0.166376</td>\n",
       "      <td>-0.138327</td>\n",
       "      <td>0.023777</td>\n",
       "      <td>-0.303697</td>\n",
       "      <td>-0.336342</td>\n",
       "      <td>-0.333751</td>\n",
       "      <td>0.119338</td>\n",
       "      <td>0.388345</td>\n",
       "      <td>-0.335498</td>\n",
       "      <td>1.7413</td>\n",
       "      <td>4.3087</td>\n",
       "      <td>7.1580</td>\n",
       "      <td>5.9734</td>\n",
       "      <td>94.5633</td>\n",
       "      <td>3.0390</td>\n",
       "      <td>8.1954</td>\n",
       "      <td>7.6051</td>\n",
       "      <td>2.2617</td>\n",
       "      <td>93.4312</td>\n",
       "      <td>1.8334</td>\n",
       "      <td>6.5018</td>\n",
       "      <td>6.7036</td>\n",
       "      <td>4.2812</td>\n",
       "      <td>108.5665</td>\n",
       "      <td>3.0604</td>\n",
       "      <td>7.6856</td>\n",
       "      <td>8.3374</td>\n",
       "      <td>3.1737</td>\n",
       "      <td>87.9733</td>\n",
       "      <td>2.172981</td>\n",
       "      <td>3.672568</td>\n",
       "      <td>4.385170</td>\n",
       "      <td>2.771226</td>\n",
       "      <td>1.974005</td>\n",
       "      <td>3.036094</td>\n",
       "      <td>115.897583</td>\n",
       "      <td>122.293488</td>\n",
       "      <td>6.322174</td>\n",
       "      <td>14.179659</td>\n",
       "    </tr>\n",
       "    <tr>\n",
       "      <th>LS1688</th>\n",
       "      <td>1676.6399</td>\n",
       "      <td>32.616456</td>\n",
       "      <td>1707.5011</td>\n",
       "      <td>54.890343</td>\n",
       "      <td>1526.2555</td>\n",
       "      <td>0.305067</td>\n",
       "      <td>2.817615</td>\n",
       "      <td>4.653798</td>\n",
       "      <td>0.005775</td>\n",
       "      <td>5.440296</td>\n",
       "      <td>-1.548649</td>\n",
       "      <td>4.688068</td>\n",
       "      <td>0.712195</td>\n",
       "      <td>4.988338</td>\n",
       "      <td>5.000848</td>\n",
       "      <td>1.286850</td>\n",
       "      <td>-0.439552</td>\n",
       "      <td>5.182439</td>\n",
       "      <td>6.242817</td>\n",
       "      <td>-0.424088</td>\n",
       "      <td>-0.394165</td>\n",
       "      <td>6.269608</td>\n",
       "      <td>2.236399</td>\n",
       "      <td>5.897976</td>\n",
       "      <td>-0.595665</td>\n",
       "      <td>6.335805</td>\n",
       "      <td>-2.982284</td>\n",
       "      <td>-2.336775</td>\n",
       "      <td>-13.627574</td>\n",
       "      <td>14.1445</td>\n",
       "      <td>-13.501210</td>\n",
       "      <td>-4.141511</td>\n",
       "      <td>0.794052</td>\n",
       "      <td>14.1445</td>\n",
       "      <td>4.328670</td>\n",
       "      <td>-13.456430</td>\n",
       "      <td>-0.502412</td>\n",
       "      <td>14.1445</td>\n",
       "      <td>-0.06939</td>\n",
       "      <td>-0.43614</td>\n",
       "      <td>-0.43349</td>\n",
       "      <td>-0.41144</td>\n",
       "      <td>0.34942</td>\n",
       "      <td>0.38615</td>\n",
       "      <td>-0.71776</td>\n",
       "      <td>0.024974</td>\n",
       "      <td>-0.057056</td>\n",
       "      <td>-0.106762</td>\n",
       "      <td>-0.072385</td>\n",
       "      <td>0.099353</td>\n",
       "      <td>0.167076</td>\n",
       "      <td>-0.151648</td>\n",
       "      <td>0.025570</td>\n",
       "      <td>-0.300334</td>\n",
       "      <td>-0.350733</td>\n",
       "      <td>-0.332667</td>\n",
       "      <td>0.118934</td>\n",
       "      <td>0.404506</td>\n",
       "      <td>-0.347892</td>\n",
       "      <td>1.7213</td>\n",
       "      <td>4.2037</td>\n",
       "      <td>7.2146</td>\n",
       "      <td>6.0523</td>\n",
       "      <td>94.6310</td>\n",
       "      <td>2.1699</td>\n",
       "      <td>9.3895</td>\n",
       "      <td>7.2279</td>\n",
       "      <td>1.6749</td>\n",
       "      <td>126.0737</td>\n",
       "      <td>1.8007</td>\n",
       "      <td>6.4265</td>\n",
       "      <td>7.5762</td>\n",
       "      <td>6.4011</td>\n",
       "      <td>110.2659</td>\n",
       "      <td>2.2528</td>\n",
       "      <td>7.5670</td>\n",
       "      <td>9.9083</td>\n",
       "      <td>2.6479</td>\n",
       "      <td>109.8198</td>\n",
       "      <td>2.173526</td>\n",
       "      <td>3.687187</td>\n",
       "      <td>4.304924</td>\n",
       "      <td>2.697403</td>\n",
       "      <td>1.977447</td>\n",
       "      <td>2.994000</td>\n",
       "      <td>114.811220</td>\n",
       "      <td>119.906033</td>\n",
       "      <td>5.889294</td>\n",
       "      <td>7.370325</td>\n",
       "    </tr>\n",
       "    <tr>\n",
       "      <th>LS1689</th>\n",
       "      <td>1679.2287</td>\n",
       "      <td>38.395036</td>\n",
       "      <td>1720.2773</td>\n",
       "      <td>60.270469</td>\n",
       "      <td>3158.1280</td>\n",
       "      <td>0.307001</td>\n",
       "      <td>3.039416</td>\n",
       "      <td>4.726370</td>\n",
       "      <td>-0.055219</td>\n",
       "      <td>5.619579</td>\n",
       "      <td>-1.629138</td>\n",
       "      <td>4.910424</td>\n",
       "      <td>0.674385</td>\n",
       "      <td>5.217389</td>\n",
       "      <td>5.208482</td>\n",
       "      <td>1.370908</td>\n",
       "      <td>-0.292736</td>\n",
       "      <td>5.393827</td>\n",
       "      <td>6.363724</td>\n",
       "      <td>-0.226919</td>\n",
       "      <td>-0.344859</td>\n",
       "      <td>6.377100</td>\n",
       "      <td>2.382049</td>\n",
       "      <td>5.937481</td>\n",
       "      <td>-0.725158</td>\n",
       "      <td>6.438454</td>\n",
       "      <td>-2.485730</td>\n",
       "      <td>-3.722371</td>\n",
       "      <td>-8.773376</td>\n",
       "      <td>9.8492</td>\n",
       "      <td>-8.453912</td>\n",
       "      <td>-4.938563</td>\n",
       "      <td>1.071911</td>\n",
       "      <td>9.8492</td>\n",
       "      <td>0.870040</td>\n",
       "      <td>-9.759492</td>\n",
       "      <td>-1.001193</td>\n",
       "      <td>9.8492</td>\n",
       "      <td>-0.07145</td>\n",
       "      <td>-0.43610</td>\n",
       "      <td>-0.40601</td>\n",
       "      <td>-0.41273</td>\n",
       "      <td>0.35380</td>\n",
       "      <td>0.38268</td>\n",
       "      <td>-0.70972</td>\n",
       "      <td>0.026692</td>\n",
       "      <td>-0.052439</td>\n",
       "      <td>-0.093679</td>\n",
       "      <td>-0.073386</td>\n",
       "      <td>0.102310</td>\n",
       "      <td>0.167372</td>\n",
       "      <td>-0.147201</td>\n",
       "      <td>0.027371</td>\n",
       "      <td>-0.296184</td>\n",
       "      <td>-0.337628</td>\n",
       "      <td>-0.332993</td>\n",
       "      <td>0.122039</td>\n",
       "      <td>0.403364</td>\n",
       "      <td>-0.343774</td>\n",
       "      <td>1.7450</td>\n",
       "      <td>4.2194</td>\n",
       "      <td>7.2062</td>\n",
       "      <td>6.0373</td>\n",
       "      <td>94.9026</td>\n",
       "      <td>2.2394</td>\n",
       "      <td>8.3949</td>\n",
       "      <td>7.2608</td>\n",
       "      <td>2.7456</td>\n",
       "      <td>114.6659</td>\n",
       "      <td>2.0417</td>\n",
       "      <td>7.1919</td>\n",
       "      <td>7.8964</td>\n",
       "      <td>2.9021</td>\n",
       "      <td>128.2878</td>\n",
       "      <td>2.2667</td>\n",
       "      <td>7.5657</td>\n",
       "      <td>10.0440</td>\n",
       "      <td>2.6606</td>\n",
       "      <td>109.8404</td>\n",
       "      <td>2.177946</td>\n",
       "      <td>3.698046</td>\n",
       "      <td>4.319343</td>\n",
       "      <td>2.705031</td>\n",
       "      <td>1.975346</td>\n",
       "      <td>2.993972</td>\n",
       "      <td>114.812135</td>\n",
       "      <td>120.321833</td>\n",
       "      <td>5.275517</td>\n",
       "      <td>9.993310</td>\n",
       "    </tr>\n",
       "    <tr>\n",
       "      <th>LS1690</th>\n",
       "      <td>1687.4328</td>\n",
       "      <td>2.576358</td>\n",
       "      <td>1643.9515</td>\n",
       "      <td>80.335574</td>\n",
       "      <td>1524.9490</td>\n",
       "      <td>0.315240</td>\n",
       "      <td>-0.807077</td>\n",
       "      <td>1.947644</td>\n",
       "      <td>-0.214909</td>\n",
       "      <td>2.119169</td>\n",
       "      <td>-3.372062</td>\n",
       "      <td>0.254897</td>\n",
       "      <td>0.494346</td>\n",
       "      <td>3.417624</td>\n",
       "      <td>1.851221</td>\n",
       "      <td>-2.529921</td>\n",
       "      <td>-0.292770</td>\n",
       "      <td>3.148529</td>\n",
       "      <td>0.164445</td>\n",
       "      <td>-1.716463</td>\n",
       "      <td>-0.060099</td>\n",
       "      <td>1.725369</td>\n",
       "      <td>-1.398547</td>\n",
       "      <td>0.804571</td>\n",
       "      <td>0.317857</td>\n",
       "      <td>1.644476</td>\n",
       "      <td>-1.558853</td>\n",
       "      <td>1.858467</td>\n",
       "      <td>-12.048597</td>\n",
       "      <td>12.2904</td>\n",
       "      <td>-12.278072</td>\n",
       "      <td>0.397518</td>\n",
       "      <td>-0.378862</td>\n",
       "      <td>12.2904</td>\n",
       "      <td>7.126147</td>\n",
       "      <td>-9.975199</td>\n",
       "      <td>0.875234</td>\n",
       "      <td>12.2904</td>\n",
       "      <td>-0.07024</td>\n",
       "      <td>-0.43623</td>\n",
       "      <td>-0.42184</td>\n",
       "      <td>-0.38073</td>\n",
       "      <td>-0.12573</td>\n",
       "      <td>0.38286</td>\n",
       "      <td>-0.71030</td>\n",
       "      <td>0.026036</td>\n",
       "      <td>-0.055658</td>\n",
       "      <td>-0.101847</td>\n",
       "      <td>-0.053734</td>\n",
       "      <td>-0.000250</td>\n",
       "      <td>0.169438</td>\n",
       "      <td>-0.146598</td>\n",
       "      <td>0.026506</td>\n",
       "      <td>-0.299202</td>\n",
       "      <td>-0.345370</td>\n",
       "      <td>-0.312982</td>\n",
       "      <td>-0.049611</td>\n",
       "      <td>0.405935</td>\n",
       "      <td>-0.343124</td>\n",
       "      <td>2.1666</td>\n",
       "      <td>3.3084</td>\n",
       "      <td>7.6007</td>\n",
       "      <td>3.7964</td>\n",
       "      <td>68.7386</td>\n",
       "      <td>2.2071</td>\n",
       "      <td>8.2052</td>\n",
       "      <td>7.2475</td>\n",
       "      <td>1.4898</td>\n",
       "      <td>123.0837</td>\n",
       "      <td>1.7216</td>\n",
       "      <td>6.4993</td>\n",
       "      <td>6.5485</td>\n",
       "      <td>4.2805</td>\n",
       "      <td>110.7787</td>\n",
       "      <td>2.3956</td>\n",
       "      <td>7.5573</td>\n",
       "      <td>8.9693</td>\n",
       "      <td>2.6958</td>\n",
       "      <td>107.2860</td>\n",
       "      <td>2.181072</td>\n",
       "      <td>3.682374</td>\n",
       "      <td>4.310617</td>\n",
       "      <td>2.701690</td>\n",
       "      <td>1.976125</td>\n",
       "      <td>2.995818</td>\n",
       "      <td>115.128878</td>\n",
       "      <td>119.967298</td>\n",
       "      <td>5.759962</td>\n",
       "      <td>8.415505</td>\n",
       "    </tr>\n",
       "    <tr>\n",
       "      <th>LS1695</th>\n",
       "      <td>1669.4949</td>\n",
       "      <td>23.946693</td>\n",
       "      <td>1703.1161</td>\n",
       "      <td>62.242270</td>\n",
       "      <td>1522.0344</td>\n",
       "      <td>0.279921</td>\n",
       "      <td>2.135691</td>\n",
       "      <td>3.405426</td>\n",
       "      <td>1.505250</td>\n",
       "      <td>4.292305</td>\n",
       "      <td>-1.182438</td>\n",
       "      <td>3.418525</td>\n",
       "      <td>1.775631</td>\n",
       "      <td>4.029558</td>\n",
       "      <td>3.921585</td>\n",
       "      <td>0.877829</td>\n",
       "      <td>-0.924372</td>\n",
       "      <td>4.123576</td>\n",
       "      <td>4.449382</td>\n",
       "      <td>0.555773</td>\n",
       "      <td>-1.342009</td>\n",
       "      <td>4.680478</td>\n",
       "      <td>2.073567</td>\n",
       "      <td>3.641629</td>\n",
       "      <td>2.142900</td>\n",
       "      <td>4.706715</td>\n",
       "      <td>-11.384409</td>\n",
       "      <td>-0.486646</td>\n",
       "      <td>-5.881054</td>\n",
       "      <td>12.8230</td>\n",
       "      <td>-12.315806</td>\n",
       "      <td>-3.376060</td>\n",
       "      <td>-1.162555</td>\n",
       "      <td>12.8230</td>\n",
       "      <td>3.735628</td>\n",
       "      <td>-12.091891</td>\n",
       "      <td>2.063894</td>\n",
       "      <td>12.8230</td>\n",
       "      <td>-0.06184</td>\n",
       "      <td>-0.44522</td>\n",
       "      <td>-0.43596</td>\n",
       "      <td>-0.39021</td>\n",
       "      <td>-0.15204</td>\n",
       "      <td>0.38299</td>\n",
       "      <td>-0.68629</td>\n",
       "      <td>0.024205</td>\n",
       "      <td>-0.069494</td>\n",
       "      <td>-0.125525</td>\n",
       "      <td>-0.054529</td>\n",
       "      <td>-0.006549</td>\n",
       "      <td>0.170535</td>\n",
       "      <td>-0.134545</td>\n",
       "      <td>0.024704</td>\n",
       "      <td>-0.309297</td>\n",
       "      <td>-0.346799</td>\n",
       "      <td>-0.318372</td>\n",
       "      <td>-0.060167</td>\n",
       "      <td>0.390427</td>\n",
       "      <td>-0.331824</td>\n",
       "      <td>1.6994</td>\n",
       "      <td>3.2595</td>\n",
       "      <td>6.2760</td>\n",
       "      <td>3.8311</td>\n",
       "      <td>92.6500</td>\n",
       "      <td>2.3216</td>\n",
       "      <td>8.1075</td>\n",
       "      <td>7.7843</td>\n",
       "      <td>1.6044</td>\n",
       "      <td>113.4549</td>\n",
       "      <td>1.8869</td>\n",
       "      <td>6.6985</td>\n",
       "      <td>6.1702</td>\n",
       "      <td>3.8825</td>\n",
       "      <td>118.1497</td>\n",
       "      <td>2.2736</td>\n",
       "      <td>7.8129</td>\n",
       "      <td>7.9409</td>\n",
       "      <td>2.8511</td>\n",
       "      <td>99.8854</td>\n",
       "      <td>2.162619</td>\n",
       "      <td>3.661546</td>\n",
       "      <td>4.357361</td>\n",
       "      <td>2.778686</td>\n",
       "      <td>1.973958</td>\n",
       "      <td>3.027188</td>\n",
       "      <td>116.056954</td>\n",
       "      <td>121.647621</td>\n",
       "      <td>4.873795</td>\n",
       "      <td>21.356673</td>\n",
       "    </tr>\n",
       "    <tr>\n",
       "      <th>LS1696</th>\n",
       "      <td>1669.1178</td>\n",
       "      <td>22.330605</td>\n",
       "      <td>1647.0120</td>\n",
       "      <td>74.705345</td>\n",
       "      <td>1522.0539</td>\n",
       "      <td>0.275112</td>\n",
       "      <td>2.056596</td>\n",
       "      <td>3.788837</td>\n",
       "      <td>-0.029419</td>\n",
       "      <td>4.311119</td>\n",
       "      <td>-1.702787</td>\n",
       "      <td>3.604697</td>\n",
       "      <td>0.294243</td>\n",
       "      <td>3.997487</td>\n",
       "      <td>4.024660</td>\n",
       "      <td>0.544868</td>\n",
       "      <td>0.597907</td>\n",
       "      <td>4.105151</td>\n",
       "      <td>4.739338</td>\n",
       "      <td>-0.178642</td>\n",
       "      <td>0.014050</td>\n",
       "      <td>4.742725</td>\n",
       "      <td>1.844867</td>\n",
       "      <td>4.334948</td>\n",
       "      <td>0.766733</td>\n",
       "      <td>4.773174</td>\n",
       "      <td>-12.476687</td>\n",
       "      <td>0.140135</td>\n",
       "      <td>-5.798199</td>\n",
       "      <td>13.7589</td>\n",
       "      <td>-13.403546</td>\n",
       "      <td>-3.056963</td>\n",
       "      <td>-0.553522</td>\n",
       "      <td>13.7589</td>\n",
       "      <td>4.715879</td>\n",
       "      <td>-12.821007</td>\n",
       "      <td>1.639730</td>\n",
       "      <td>13.7589</td>\n",
       "      <td>-0.06198</td>\n",
       "      <td>-0.44276</td>\n",
       "      <td>-0.43771</td>\n",
       "      <td>-0.38994</td>\n",
       "      <td>-0.15207</td>\n",
       "      <td>0.38328</td>\n",
       "      <td>-0.68686</td>\n",
       "      <td>0.023850</td>\n",
       "      <td>-0.070259</td>\n",
       "      <td>-0.126166</td>\n",
       "      <td>-0.054533</td>\n",
       "      <td>-0.006668</td>\n",
       "      <td>0.170582</td>\n",
       "      <td>-0.134819</td>\n",
       "      <td>0.024347</td>\n",
       "      <td>-0.309959</td>\n",
       "      <td>-0.347590</td>\n",
       "      <td>-0.318219</td>\n",
       "      <td>-0.060286</td>\n",
       "      <td>0.390594</td>\n",
       "      <td>-0.332093</td>\n",
       "      <td>1.6994</td>\n",
       "      <td>3.2610</td>\n",
       "      <td>6.2769</td>\n",
       "      <td>3.8301</td>\n",
       "      <td>92.5133</td>\n",
       "      <td>2.3114</td>\n",
       "      <td>9.2707</td>\n",
       "      <td>7.7812</td>\n",
       "      <td>0.5685</td>\n",
       "      <td>105.2520</td>\n",
       "      <td>1.9214</td>\n",
       "      <td>6.8480</td>\n",
       "      <td>7.2765</td>\n",
       "      <td>5.9199</td>\n",
       "      <td>113.7033</td>\n",
       "      <td>2.2679</td>\n",
       "      <td>7.8167</td>\n",
       "      <td>8.7716</td>\n",
       "      <td>2.8345</td>\n",
       "      <td>100.1009</td>\n",
       "      <td>2.163058</td>\n",
       "      <td>3.661940</td>\n",
       "      <td>4.358663</td>\n",
       "      <td>2.777014</td>\n",
       "      <td>1.974090</td>\n",
       "      <td>3.028957</td>\n",
       "      <td>116.026412</td>\n",
       "      <td>121.620059</td>\n",
       "      <td>4.889655</td>\n",
       "      <td>21.033770</td>\n",
       "    </tr>\n",
       "    <tr>\n",
       "      <th>LS1714</th>\n",
       "      <td>1642.3086</td>\n",
       "      <td>31.986222</td>\n",
       "      <td>1679.8822</td>\n",
       "      <td>59.825018</td>\n",
       "      <td>1530.0641</td>\n",
       "      <td>0.447556</td>\n",
       "      <td>5.184504</td>\n",
       "      <td>3.023554</td>\n",
       "      <td>-1.074141</td>\n",
       "      <td>6.097109</td>\n",
       "      <td>1.672638</td>\n",
       "      <td>6.074451</td>\n",
       "      <td>-1.077456</td>\n",
       "      <td>6.391994</td>\n",
       "      <td>4.225913</td>\n",
       "      <td>4.806044</td>\n",
       "      <td>1.134676</td>\n",
       "      <td>6.499530</td>\n",
       "      <td>6.800123</td>\n",
       "      <td>2.617050</td>\n",
       "      <td>0.795886</td>\n",
       "      <td>7.329670</td>\n",
       "      <td>5.486691</td>\n",
       "      <td>4.809341</td>\n",
       "      <td>-1.066208</td>\n",
       "      <td>7.373625</td>\n",
       "      <td>-6.454530</td>\n",
       "      <td>-0.513473</td>\n",
       "      <td>-10.694788</td>\n",
       "      <td>12.5021</td>\n",
       "      <td>-12.145772</td>\n",
       "      <td>-2.960742</td>\n",
       "      <td>-0.131599</td>\n",
       "      <td>12.5021</td>\n",
       "      <td>4.958290</td>\n",
       "      <td>-11.475204</td>\n",
       "      <td>0.195348</td>\n",
       "      <td>12.5021</td>\n",
       "      <td>-0.09227</td>\n",
       "      <td>-0.47449</td>\n",
       "      <td>-0.42953</td>\n",
       "      <td>-0.40692</td>\n",
       "      <td>0.35077</td>\n",
       "      <td>0.38326</td>\n",
       "      <td>-0.71075</td>\n",
       "      <td>0.028675</td>\n",
       "      <td>-0.135801</td>\n",
       "      <td>-0.108313</td>\n",
       "      <td>-0.068998</td>\n",
       "      <td>0.101421</td>\n",
       "      <td>0.156937</td>\n",
       "      <td>-0.148118</td>\n",
       "      <td>0.020630</td>\n",
       "      <td>-0.210348</td>\n",
       "      <td>-0.355196</td>\n",
       "      <td>-0.327989</td>\n",
       "      <td>0.121228</td>\n",
       "      <td>0.392666</td>\n",
       "      <td>-0.344699</td>\n",
       "      <td>1.7655</td>\n",
       "      <td>5.1554</td>\n",
       "      <td>6.2534</td>\n",
       "      <td>4.6540</td>\n",
       "      <td>91.9920</td>\n",
       "      <td>1.8736</td>\n",
       "      <td>3.7040</td>\n",
       "      <td>6.2748</td>\n",
       "      <td>4.0935</td>\n",
       "      <td>116.6017</td>\n",
       "      <td>1.6991</td>\n",
       "      <td>5.0505</td>\n",
       "      <td>3.3606</td>\n",
       "      <td>0.9383</td>\n",
       "      <td>119.3347</td>\n",
       "      <td>1.8907</td>\n",
       "      <td>6.3954</td>\n",
       "      <td>5.1802</td>\n",
       "      <td>2.5905</td>\n",
       "      <td>104.1053</td>\n",
       "      <td>2.181160</td>\n",
       "      <td>3.596211</td>\n",
       "      <td>4.266262</td>\n",
       "      <td>2.722678</td>\n",
       "      <td>1.973885</td>\n",
       "      <td>2.962919</td>\n",
       "      <td>114.924387</td>\n",
       "      <td>122.500652</td>\n",
       "      <td>1.768053</td>\n",
       "      <td>1.399416</td>\n",
       "    </tr>\n",
       "    <tr>\n",
       "      <th>LS1715</th>\n",
       "      <td>1641.5013</td>\n",
       "      <td>31.870056</td>\n",
       "      <td>1679.5905</td>\n",
       "      <td>58.580913</td>\n",
       "      <td>3164.9311</td>\n",
       "      <td>0.440698</td>\n",
       "      <td>0.889284</td>\n",
       "      <td>4.137456</td>\n",
       "      <td>0.678628</td>\n",
       "      <td>4.286013</td>\n",
       "      <td>-1.756937</td>\n",
       "      <td>2.778816</td>\n",
       "      <td>0.643499</td>\n",
       "      <td>3.350035</td>\n",
       "      <td>3.599136</td>\n",
       "      <td>0.132811</td>\n",
       "      <td>-0.583737</td>\n",
       "      <td>3.648585</td>\n",
       "      <td>4.966679</td>\n",
       "      <td>-1.581424</td>\n",
       "      <td>-1.161736</td>\n",
       "      <td>5.340265</td>\n",
       "      <td>1.025660</td>\n",
       "      <td>5.262181</td>\n",
       "      <td>0.781232</td>\n",
       "      <td>5.417827</td>\n",
       "      <td>-5.428762</td>\n",
       "      <td>-0.979489</td>\n",
       "      <td>-10.826897</td>\n",
       "      <td>12.1512</td>\n",
       "      <td>-11.717568</td>\n",
       "      <td>-3.217272</td>\n",
       "      <td>0.017329</td>\n",
       "      <td>12.1512</td>\n",
       "      <td>4.521532</td>\n",
       "      <td>-11.278532</td>\n",
       "      <td>0.054741</td>\n",
       "      <td>12.1512</td>\n",
       "      <td>-0.08073</td>\n",
       "      <td>-0.47425</td>\n",
       "      <td>-0.43243</td>\n",
       "      <td>-0.40725</td>\n",
       "      <td>0.35136</td>\n",
       "      <td>0.38766</td>\n",
       "      <td>-0.71328</td>\n",
       "      <td>0.026607</td>\n",
       "      <td>-0.135962</td>\n",
       "      <td>-0.107788</td>\n",
       "      <td>-0.069404</td>\n",
       "      <td>0.101778</td>\n",
       "      <td>0.159820</td>\n",
       "      <td>-0.149493</td>\n",
       "      <td>0.021824</td>\n",
       "      <td>-0.210073</td>\n",
       "      <td>-0.358485</td>\n",
       "      <td>-0.327734</td>\n",
       "      <td>0.121607</td>\n",
       "      <td>0.397403</td>\n",
       "      <td>-0.345969</td>\n",
       "      <td>1.7644</td>\n",
       "      <td>5.1469</td>\n",
       "      <td>6.2529</td>\n",
       "      <td>4.6643</td>\n",
       "      <td>92.0532</td>\n",
       "      <td>1.8856</td>\n",
       "      <td>3.9287</td>\n",
       "      <td>10.4604</td>\n",
       "      <td>8.0143</td>\n",
       "      <td>168.2284</td>\n",
       "      <td>1.6991</td>\n",
       "      <td>8.3885</td>\n",
       "      <td>5.1334</td>\n",
       "      <td>3.4466</td>\n",
       "      <td>115.7207</td>\n",
       "      <td>1.9712</td>\n",
       "      <td>9.9871</td>\n",
       "      <td>6.5319</td>\n",
       "      <td>4.7225</td>\n",
       "      <td>100.8456</td>\n",
       "      <td>2.183763</td>\n",
       "      <td>3.599443</td>\n",
       "      <td>4.255714</td>\n",
       "      <td>2.711812</td>\n",
       "      <td>1.974220</td>\n",
       "      <td>2.958044</td>\n",
       "      <td>114.789628</td>\n",
       "      <td>122.038091</td>\n",
       "      <td>3.197660</td>\n",
       "      <td>1.828063</td>\n",
       "    </tr>\n",
       "    <tr>\n",
       "      <th>LS1716</th>\n",
       "      <td>1684.9070</td>\n",
       "      <td>42.388805</td>\n",
       "      <td>1644.6364</td>\n",
       "      <td>49.071611</td>\n",
       "      <td>1526.2058</td>\n",
       "      <td>0.440776</td>\n",
       "      <td>2.113619</td>\n",
       "      <td>3.745524</td>\n",
       "      <td>-0.610299</td>\n",
       "      <td>4.343824</td>\n",
       "      <td>-2.486561</td>\n",
       "      <td>3.597514</td>\n",
       "      <td>-0.451814</td>\n",
       "      <td>4.396502</td>\n",
       "      <td>4.365686</td>\n",
       "      <td>0.201245</td>\n",
       "      <td>0.239257</td>\n",
       "      <td>4.376867</td>\n",
       "      <td>4.231886</td>\n",
       "      <td>-0.140760</td>\n",
       "      <td>0.577225</td>\n",
       "      <td>4.273390</td>\n",
       "      <td>1.779137</td>\n",
       "      <td>3.745030</td>\n",
       "      <td>-1.015635</td>\n",
       "      <td>4.268735</td>\n",
       "      <td>-2.136904</td>\n",
       "      <td>-2.841961</td>\n",
       "      <td>-11.377507</td>\n",
       "      <td>11.9202</td>\n",
       "      <td>-10.643380</td>\n",
       "      <td>-5.360639</td>\n",
       "      <td>-0.269767</td>\n",
       "      <td>11.9202</td>\n",
       "      <td>2.168237</td>\n",
       "      <td>-11.720187</td>\n",
       "      <td>0.163470</td>\n",
       "      <td>11.9202</td>\n",
       "      <td>-0.09008</td>\n",
       "      <td>-0.47264</td>\n",
       "      <td>-0.44077</td>\n",
       "      <td>-0.40886</td>\n",
       "      <td>0.17972</td>\n",
       "      <td>0.38067</td>\n",
       "      <td>-0.70664</td>\n",
       "      <td>0.025237</td>\n",
       "      <td>-0.133060</td>\n",
       "      <td>-0.108843</td>\n",
       "      <td>-0.069272</td>\n",
       "      <td>0.044806</td>\n",
       "      <td>0.163778</td>\n",
       "      <td>-0.145955</td>\n",
       "      <td>0.020616</td>\n",
       "      <td>-0.208005</td>\n",
       "      <td>-0.352692</td>\n",
       "      <td>-0.329479</td>\n",
       "      <td>0.104699</td>\n",
       "      <td>0.396613</td>\n",
       "      <td>-0.342661</td>\n",
       "      <td>1.7593</td>\n",
       "      <td>4.2595</td>\n",
       "      <td>7.1652</td>\n",
       "      <td>5.9909</td>\n",
       "      <td>93.4766</td>\n",
       "      <td>1.9337</td>\n",
       "      <td>4.8772</td>\n",
       "      <td>7.1902</td>\n",
       "      <td>4.4467</td>\n",
       "      <td>123.6816</td>\n",
       "      <td>1.6991</td>\n",
       "      <td>6.1322</td>\n",
       "      <td>3.4873</td>\n",
       "      <td>1.3894</td>\n",
       "      <td>133.8034</td>\n",
       "      <td>2.0950</td>\n",
       "      <td>7.3652</td>\n",
       "      <td>5.3949</td>\n",
       "      <td>3.2629</td>\n",
       "      <td>115.5568</td>\n",
       "      <td>2.176901</td>\n",
       "      <td>3.598103</td>\n",
       "      <td>4.264860</td>\n",
       "      <td>2.739053</td>\n",
       "      <td>1.973423</td>\n",
       "      <td>2.967273</td>\n",
       "      <td>115.005724</td>\n",
       "      <td>122.968366</td>\n",
       "      <td>3.281352</td>\n",
       "      <td>4.689611</td>\n",
       "    </tr>\n",
       "    <tr>\n",
       "      <th>LS1717</th>\n",
       "      <td>1685.4213</td>\n",
       "      <td>41.655674</td>\n",
       "      <td>1645.5708</td>\n",
       "      <td>49.389207</td>\n",
       "      <td>3109.8378</td>\n",
       "      <td>0.455088</td>\n",
       "      <td>2.988307</td>\n",
       "      <td>5.044552</td>\n",
       "      <td>-0.248094</td>\n",
       "      <td>5.868478</td>\n",
       "      <td>-2.346520</td>\n",
       "      <td>5.003023</td>\n",
       "      <td>-0.165097</td>\n",
       "      <td>5.528440</td>\n",
       "      <td>5.562810</td>\n",
       "      <td>1.072480</td>\n",
       "      <td>-0.067464</td>\n",
       "      <td>5.665653</td>\n",
       "      <td>6.394149</td>\n",
       "      <td>-0.110484</td>\n",
       "      <td>0.495508</td>\n",
       "      <td>6.414271</td>\n",
       "      <td>2.963014</td>\n",
       "      <td>5.690147</td>\n",
       "      <td>-0.593781</td>\n",
       "      <td>6.442810</td>\n",
       "      <td>-5.030320</td>\n",
       "      <td>-3.296833</td>\n",
       "      <td>-10.357278</td>\n",
       "      <td>11.9769</td>\n",
       "      <td>-10.499002</td>\n",
       "      <td>-5.763033</td>\n",
       "      <td>-0.069566</td>\n",
       "      <td>11.9769</td>\n",
       "      <td>1.737053</td>\n",
       "      <td>-11.850278</td>\n",
       "      <td>-0.001517</td>\n",
       "      <td>11.9769</td>\n",
       "      <td>-0.10812</td>\n",
       "      <td>-0.46729</td>\n",
       "      <td>-0.43932</td>\n",
       "      <td>-0.40840</td>\n",
       "      <td>0.35137</td>\n",
       "      <td>0.37065</td>\n",
       "      <td>-0.70489</td>\n",
       "      <td>0.028884</td>\n",
       "      <td>-0.128729</td>\n",
       "      <td>-0.110334</td>\n",
       "      <td>-0.068756</td>\n",
       "      <td>0.101998</td>\n",
       "      <td>0.161405</td>\n",
       "      <td>-0.144864</td>\n",
       "      <td>0.029690</td>\n",
       "      <td>-0.203586</td>\n",
       "      <td>-0.350837</td>\n",
       "      <td>-0.329879</td>\n",
       "      <td>0.121828</td>\n",
       "      <td>0.394420</td>\n",
       "      <td>-0.341622</td>\n",
       "      <td>1.7695</td>\n",
       "      <td>4.2773</td>\n",
       "      <td>7.1577</td>\n",
       "      <td>5.9788</td>\n",
       "      <td>93.3735</td>\n",
       "      <td>1.9369</td>\n",
       "      <td>6.0804</td>\n",
       "      <td>8.3229</td>\n",
       "      <td>4.2628</td>\n",
       "      <td>134.4989</td>\n",
       "      <td>1.6991</td>\n",
       "      <td>7.9728</td>\n",
       "      <td>3.3481</td>\n",
       "      <td>0.0086</td>\n",
       "      <td>137.1586</td>\n",
       "      <td>1.9839</td>\n",
       "      <td>9.0666</td>\n",
       "      <td>5.3009</td>\n",
       "      <td>2.0096</td>\n",
       "      <td>123.2331</td>\n",
       "      <td>2.171857</td>\n",
       "      <td>3.593926</td>\n",
       "      <td>4.274288</td>\n",
       "      <td>2.748371</td>\n",
       "      <td>1.973452</td>\n",
       "      <td>2.972155</td>\n",
       "      <td>115.220583</td>\n",
       "      <td>123.210394</td>\n",
       "      <td>0.466122</td>\n",
       "      <td>4.040474</td>\n",
       "    </tr>\n",
       "    <tr>\n",
       "      <th>LS1721</th>\n",
       "      <td>1675.9759</td>\n",
       "      <td>14.387515</td>\n",
       "      <td>1631.5139</td>\n",
       "      <td>81.609682</td>\n",
       "      <td>1530.5385</td>\n",
       "      <td>0.348472</td>\n",
       "      <td>1.292501</td>\n",
       "      <td>4.587483</td>\n",
       "      <td>-0.245207</td>\n",
       "      <td>4.772388</td>\n",
       "      <td>-3.057356</td>\n",
       "      <td>3.336013</td>\n",
       "      <td>-0.014332</td>\n",
       "      <td>4.525109</td>\n",
       "      <td>4.566767</td>\n",
       "      <td>-0.517093</td>\n",
       "      <td>-0.255026</td>\n",
       "      <td>4.603019</td>\n",
       "      <td>4.860328</td>\n",
       "      <td>-1.273910</td>\n",
       "      <td>0.198867</td>\n",
       "      <td>5.028437</td>\n",
       "      <td>1.100419</td>\n",
       "      <td>4.877656</td>\n",
       "      <td>-0.690034</td>\n",
       "      <td>5.047633</td>\n",
       "      <td>-0.416672</td>\n",
       "      <td>-1.441733</td>\n",
       "      <td>-9.443114</td>\n",
       "      <td>9.5616</td>\n",
       "      <td>-8.749104</td>\n",
       "      <td>-3.531566</td>\n",
       "      <td>-1.551069</td>\n",
       "      <td>9.5616</td>\n",
       "      <td>2.432297</td>\n",
       "      <td>-9.138500</td>\n",
       "      <td>1.412922</td>\n",
       "      <td>9.5616</td>\n",
       "      <td>-0.08819</td>\n",
       "      <td>-0.47516</td>\n",
       "      <td>-0.44883</td>\n",
       "      <td>-0.37348</td>\n",
       "      <td>-0.14155</td>\n",
       "      <td>0.38149</td>\n",
       "      <td>-0.70357</td>\n",
       "      <td>0.025453</td>\n",
       "      <td>-0.131368</td>\n",
       "      <td>-0.109057</td>\n",
       "      <td>-0.053241</td>\n",
       "      <td>-0.007212</td>\n",
       "      <td>0.165124</td>\n",
       "      <td>-0.144067</td>\n",
       "      <td>0.022578</td>\n",
       "      <td>-0.207856</td>\n",
       "      <td>-0.353833</td>\n",
       "      <td>-0.314027</td>\n",
       "      <td>-0.058011</td>\n",
       "      <td>0.397350</td>\n",
       "      <td>-0.340859</td>\n",
       "      <td>2.0750</td>\n",
       "      <td>4.1600</td>\n",
       "      <td>13.2867</td>\n",
       "      <td>11.9748</td>\n",
       "      <td>78.0353</td>\n",
       "      <td>1.9317</td>\n",
       "      <td>4.8581</td>\n",
       "      <td>7.1903</td>\n",
       "      <td>4.5614</td>\n",
       "      <td>119.4571</td>\n",
       "      <td>1.6991</td>\n",
       "      <td>6.1409</td>\n",
       "      <td>3.5232</td>\n",
       "      <td>1.3736</td>\n",
       "      <td>144.5645</td>\n",
       "      <td>2.3325</td>\n",
       "      <td>10.4049</td>\n",
       "      <td>5.4448</td>\n",
       "      <td>-4.1857</td>\n",
       "      <td>98.1781</td>\n",
       "      <td>2.179373</td>\n",
       "      <td>3.593876</td>\n",
       "      <td>4.263795</td>\n",
       "      <td>2.747050</td>\n",
       "      <td>1.973655</td>\n",
       "      <td>2.964240</td>\n",
       "      <td>115.372524</td>\n",
       "      <td>123.223141</td>\n",
       "      <td>3.931017</td>\n",
       "      <td>4.925030</td>\n",
       "    </tr>\n",
       "    <tr>\n",
       "      <th>LS1723</th>\n",
       "      <td>1626.5010</td>\n",
       "      <td>38.325201</td>\n",
       "      <td>1679.5264</td>\n",
       "      <td>52.539944</td>\n",
       "      <td>3175.4102</td>\n",
       "      <td>0.334523</td>\n",
       "      <td>2.208952</td>\n",
       "      <td>4.610558</td>\n",
       "      <td>-0.544445</td>\n",
       "      <td>5.141317</td>\n",
       "      <td>-2.605781</td>\n",
       "      <td>4.116659</td>\n",
       "      <td>-0.342683</td>\n",
       "      <td>4.884098</td>\n",
       "      <td>4.965047</td>\n",
       "      <td>0.339802</td>\n",
       "      <td>0.047143</td>\n",
       "      <td>4.976884</td>\n",
       "      <td>5.438330</td>\n",
       "      <td>-0.510247</td>\n",
       "      <td>0.431037</td>\n",
       "      <td>5.479195</td>\n",
       "      <td>1.992433</td>\n",
       "      <td>5.013657</td>\n",
       "      <td>-1.080403</td>\n",
       "      <td>5.502165</td>\n",
       "      <td>-2.180662</td>\n",
       "      <td>-1.438845</td>\n",
       "      <td>-11.726877</td>\n",
       "      <td>12.0144</td>\n",
       "      <td>-11.279244</td>\n",
       "      <td>-4.128266</td>\n",
       "      <td>-0.285089</td>\n",
       "      <td>12.0144</td>\n",
       "      <td>3.475323</td>\n",
       "      <td>-11.500452</td>\n",
       "      <td>0.083259</td>\n",
       "      <td>12.0144</td>\n",
       "      <td>-0.08823</td>\n",
       "      <td>-0.47511</td>\n",
       "      <td>-0.44897</td>\n",
       "      <td>-0.38448</td>\n",
       "      <td>0.03681</td>\n",
       "      <td>0.38209</td>\n",
       "      <td>-0.70459</td>\n",
       "      <td>0.025265</td>\n",
       "      <td>-0.131155</td>\n",
       "      <td>-0.108963</td>\n",
       "      <td>-0.057719</td>\n",
       "      <td>0.032694</td>\n",
       "      <td>0.164170</td>\n",
       "      <td>-0.144724</td>\n",
       "      <td>0.022421</td>\n",
       "      <td>-0.207735</td>\n",
       "      <td>-0.354052</td>\n",
       "      <td>-0.318551</td>\n",
       "      <td>0.025290</td>\n",
       "      <td>0.396895</td>\n",
       "      <td>-0.341470</td>\n",
       "      <td>2.3511</td>\n",
       "      <td>7.7902</td>\n",
       "      <td>8.6336</td>\n",
       "      <td>6.1786</td>\n",
       "      <td>125.1577</td>\n",
       "      <td>1.9320</td>\n",
       "      <td>4.8623</td>\n",
       "      <td>7.1914</td>\n",
       "      <td>4.5596</td>\n",
       "      <td>119.3175</td>\n",
       "      <td>1.6991</td>\n",
       "      <td>6.1418</td>\n",
       "      <td>3.5223</td>\n",
       "      <td>1.3714</td>\n",
       "      <td>144.6481</td>\n",
       "      <td>3.0575</td>\n",
       "      <td>9.0990</td>\n",
       "      <td>6.4769</td>\n",
       "      <td>4.0183</td>\n",
       "      <td>111.5299</td>\n",
       "      <td>2.175911</td>\n",
       "      <td>3.594264</td>\n",
       "      <td>4.262223</td>\n",
       "      <td>2.743710</td>\n",
       "      <td>1.973608</td>\n",
       "      <td>2.963272</td>\n",
       "      <td>115.153768</td>\n",
       "      <td>123.179002</td>\n",
       "      <td>3.961526</td>\n",
       "      <td>5.028303</td>\n",
       "    </tr>\n",
       "    <tr>\n",
       "      <th>LS1726</th>\n",
       "      <td>1623.6432</td>\n",
       "      <td>37.249391</td>\n",
       "      <td>1688.5429</td>\n",
       "      <td>56.442700</td>\n",
       "      <td>1529.6224</td>\n",
       "      <td>0.342308</td>\n",
       "      <td>2.344853</td>\n",
       "      <td>4.558988</td>\n",
       "      <td>-0.473146</td>\n",
       "      <td>5.148453</td>\n",
       "      <td>-2.437274</td>\n",
       "      <td>4.200808</td>\n",
       "      <td>-0.286393</td>\n",
       "      <td>4.865091</td>\n",
       "      <td>4.941615</td>\n",
       "      <td>0.531578</td>\n",
       "      <td>-0.008534</td>\n",
       "      <td>4.970131</td>\n",
       "      <td>5.517360</td>\n",
       "      <td>-0.384168</td>\n",
       "      <td>0.343547</td>\n",
       "      <td>5.541378</td>\n",
       "      <td>2.147994</td>\n",
       "      <td>5.033723</td>\n",
       "      <td>-1.022448</td>\n",
       "      <td>5.567553</td>\n",
       "      <td>-1.716358</td>\n",
       "      <td>-2.835314</td>\n",
       "      <td>-12.845691</td>\n",
       "      <td>13.2664</td>\n",
       "      <td>-11.899250</td>\n",
       "      <td>-5.790238</td>\n",
       "      <td>-0.936835</td>\n",
       "      <td>13.2664</td>\n",
       "      <td>2.594932</td>\n",
       "      <td>-12.986251</td>\n",
       "      <td>0.787582</td>\n",
       "      <td>13.2664</td>\n",
       "      <td>-0.08817</td>\n",
       "      <td>-0.47589</td>\n",
       "      <td>-0.44929</td>\n",
       "      <td>-0.38859</td>\n",
       "      <td>0.02656</td>\n",
       "      <td>0.38241</td>\n",
       "      <td>-0.70468</td>\n",
       "      <td>0.025199</td>\n",
       "      <td>-0.131457</td>\n",
       "      <td>-0.109070</td>\n",
       "      <td>-0.060054</td>\n",
       "      <td>0.026464</td>\n",
       "      <td>0.164311</td>\n",
       "      <td>-0.144860</td>\n",
       "      <td>0.022361</td>\n",
       "      <td>-0.208158</td>\n",
       "      <td>-0.353928</td>\n",
       "      <td>-0.320997</td>\n",
       "      <td>0.019812</td>\n",
       "      <td>0.397089</td>\n",
       "      <td>-0.341596</td>\n",
       "      <td>1.8509</td>\n",
       "      <td>7.9583</td>\n",
       "      <td>9.5820</td>\n",
       "      <td>8.2393</td>\n",
       "      <td>102.1375</td>\n",
       "      <td>1.9333</td>\n",
       "      <td>4.8596</td>\n",
       "      <td>7.1926</td>\n",
       "      <td>4.5626</td>\n",
       "      <td>119.3016</td>\n",
       "      <td>1.6991</td>\n",
       "      <td>6.1404</td>\n",
       "      <td>3.5239</td>\n",
       "      <td>1.3757</td>\n",
       "      <td>144.5879</td>\n",
       "      <td>2.2886</td>\n",
       "      <td>10.0862</td>\n",
       "      <td>6.1149</td>\n",
       "      <td>4.7516</td>\n",
       "      <td>94.0445</td>\n",
       "      <td>2.173815</td>\n",
       "      <td>3.594476</td>\n",
       "      <td>4.264251</td>\n",
       "      <td>2.742445</td>\n",
       "      <td>1.973567</td>\n",
       "      <td>2.964758</td>\n",
       "      <td>115.088042</td>\n",
       "      <td>123.178011</td>\n",
       "      <td>3.960191</td>\n",
       "      <td>4.862916</td>\n",
       "    </tr>\n",
       "    <tr>\n",
       "      <th>LS1734</th>\n",
       "      <td>1649.1903</td>\n",
       "      <td>47.242350</td>\n",
       "      <td>1663.1918</td>\n",
       "      <td>48.971044</td>\n",
       "      <td>1526.3043</td>\n",
       "      <td>0.351025</td>\n",
       "      <td>3.356883</td>\n",
       "      <td>3.422891</td>\n",
       "      <td>-0.629850</td>\n",
       "      <td>4.835448</td>\n",
       "      <td>-0.893362</td>\n",
       "      <td>4.583373</td>\n",
       "      <td>-0.616677</td>\n",
       "      <td>4.710169</td>\n",
       "      <td>4.332501</td>\n",
       "      <td>1.725775</td>\n",
       "      <td>1.027838</td>\n",
       "      <td>4.775491</td>\n",
       "      <td>4.989556</td>\n",
       "      <td>0.999718</td>\n",
       "      <td>0.803667</td>\n",
       "      <td>5.151794</td>\n",
       "      <td>3.268903</td>\n",
       "      <td>3.993818</td>\n",
       "      <td>0.227433</td>\n",
       "      <td>5.166046</td>\n",
       "      <td>-9.957367</td>\n",
       "      <td>0.100076</td>\n",
       "      <td>-5.393371</td>\n",
       "      <td>11.3247</td>\n",
       "      <td>-11.017759</td>\n",
       "      <td>-2.617476</td>\n",
       "      <td>0.073576</td>\n",
       "      <td>11.3247</td>\n",
       "      <td>3.857758</td>\n",
       "      <td>-10.643329</td>\n",
       "      <td>0.291319</td>\n",
       "      <td>11.3247</td>\n",
       "      <td>-0.08049</td>\n",
       "      <td>-0.47123</td>\n",
       "      <td>-0.45488</td>\n",
       "      <td>-0.38154</td>\n",
       "      <td>-0.14956</td>\n",
       "      <td>0.38587</td>\n",
       "      <td>-0.69014</td>\n",
       "      <td>0.022946</td>\n",
       "      <td>-0.117635</td>\n",
       "      <td>-0.121963</td>\n",
       "      <td>-0.055087</td>\n",
       "      <td>-0.006035</td>\n",
       "      <td>0.168803</td>\n",
       "      <td>-0.135727</td>\n",
       "      <td>0.018831</td>\n",
       "      <td>-0.193686</td>\n",
       "      <td>-0.351142</td>\n",
       "      <td>-0.315972</td>\n",
       "      <td>-0.057037</td>\n",
       "      <td>0.389786</td>\n",
       "      <td>-0.333120</td>\n",
       "      <td>2.3646</td>\n",
       "      <td>8.2935</td>\n",
       "      <td>6.2695</td>\n",
       "      <td>1.1278</td>\n",
       "      <td>124.3500</td>\n",
       "      <td>1.9243</td>\n",
       "      <td>6.5501</td>\n",
       "      <td>7.7629</td>\n",
       "      <td>2.2567</td>\n",
       "      <td>120.0339</td>\n",
       "      <td>1.6991</td>\n",
       "      <td>6.3235</td>\n",
       "      <td>3.5805</td>\n",
       "      <td>1.4049</td>\n",
       "      <td>177.1419</td>\n",
       "      <td>3.7480</td>\n",
       "      <td>7.7605</td>\n",
       "      <td>9.3559</td>\n",
       "      <td>2.9160</td>\n",
       "      <td>152.0837</td>\n",
       "      <td>2.177483</td>\n",
       "      <td>3.581179</td>\n",
       "      <td>4.312073</td>\n",
       "      <td>2.769601</td>\n",
       "      <td>1.974318</td>\n",
       "      <td>3.011143</td>\n",
       "      <td>114.236255</td>\n",
       "      <td>124.476184</td>\n",
       "      <td>5.333851</td>\n",
       "      <td>11.557367</td>\n",
       "    </tr>\n",
       "    <tr>\n",
       "      <th>LS1736</th>\n",
       "      <td>1665.7780</td>\n",
       "      <td>33.987181</td>\n",
       "      <td>1644.4508</td>\n",
       "      <td>50.909524</td>\n",
       "      <td>1532.2860</td>\n",
       "      <td>0.359825</td>\n",
       "      <td>2.200025</td>\n",
       "      <td>3.867657</td>\n",
       "      <td>-0.437648</td>\n",
       "      <td>4.471065</td>\n",
       "      <td>-1.904837</td>\n",
       "      <td>3.839994</td>\n",
       "      <td>-0.284860</td>\n",
       "      <td>4.295941</td>\n",
       "      <td>4.327880</td>\n",
       "      <td>0.578664</td>\n",
       "      <td>-0.001067</td>\n",
       "      <td>4.366394</td>\n",
       "      <td>4.594868</td>\n",
       "      <td>-0.199842</td>\n",
       "      <td>1.105175</td>\n",
       "      <td>4.730133</td>\n",
       "      <td>1.719055</td>\n",
       "      <td>4.085430</td>\n",
       "      <td>-1.713736</td>\n",
       "      <td>4.752134</td>\n",
       "      <td>-1.135018</td>\n",
       "      <td>-0.828801</td>\n",
       "      <td>-11.819579</td>\n",
       "      <td>11.9028</td>\n",
       "      <td>-11.645751</td>\n",
       "      <td>-2.441910</td>\n",
       "      <td>-0.301961</td>\n",
       "      <td>11.9028</td>\n",
       "      <td>4.621421</td>\n",
       "      <td>-10.969050</td>\n",
       "      <td>-0.004128</td>\n",
       "      <td>11.9028</td>\n",
       "      <td>-0.09096</td>\n",
       "      <td>-0.46709</td>\n",
       "      <td>-0.46040</td>\n",
       "      <td>-0.37797</td>\n",
       "      <td>-0.14262</td>\n",
       "      <td>0.38669</td>\n",
       "      <td>-0.71040</td>\n",
       "      <td>0.023749</td>\n",
       "      <td>-0.120986</td>\n",
       "      <td>-0.110731</td>\n",
       "      <td>-0.055879</td>\n",
       "      <td>-0.008419</td>\n",
       "      <td>0.163068</td>\n",
       "      <td>-0.147144</td>\n",
       "      <td>0.020900</td>\n",
       "      <td>-0.196515</td>\n",
       "      <td>-0.360634</td>\n",
       "      <td>-0.315522</td>\n",
       "      <td>-0.058957</td>\n",
       "      <td>0.399057</td>\n",
       "      <td>-0.343811</td>\n",
       "      <td>2.3620</td>\n",
       "      <td>9.0409</td>\n",
       "      <td>6.2536</td>\n",
       "      <td>2.4985</td>\n",
       "      <td>100.3075</td>\n",
       "      <td>2.0588</td>\n",
       "      <td>4.8342</td>\n",
       "      <td>7.2028</td>\n",
       "      <td>4.5590</td>\n",
       "      <td>117.7583</td>\n",
       "      <td>1.6991</td>\n",
       "      <td>6.1349</td>\n",
       "      <td>3.5346</td>\n",
       "      <td>1.3735</td>\n",
       "      <td>143.9965</td>\n",
       "      <td>3.6188</td>\n",
       "      <td>7.2954</td>\n",
       "      <td>9.2621</td>\n",
       "      <td>3.5327</td>\n",
       "      <td>92.8277</td>\n",
       "      <td>2.180404</td>\n",
       "      <td>3.575323</td>\n",
       "      <td>4.210219</td>\n",
       "      <td>2.715982</td>\n",
       "      <td>1.975176</td>\n",
       "      <td>2.953980</td>\n",
       "      <td>113.380749</td>\n",
       "      <td>122.006826</td>\n",
       "      <td>4.610907</td>\n",
       "      <td>16.809455</td>\n",
       "    </tr>\n",
       "    <tr>\n",
       "      <th>LS2000</th>\n",
       "      <td>1627.6459</td>\n",
       "      <td>37.916912</td>\n",
       "      <td>1681.3815</td>\n",
       "      <td>51.597389</td>\n",
       "      <td>3177.3443</td>\n",
       "      <td>0.335028</td>\n",
       "      <td>2.257425</td>\n",
       "      <td>4.603610</td>\n",
       "      <td>-0.426142</td>\n",
       "      <td>5.144977</td>\n",
       "      <td>-2.600648</td>\n",
       "      <td>4.152256</td>\n",
       "      <td>-0.200848</td>\n",
       "      <td>4.903564</td>\n",
       "      <td>4.977314</td>\n",
       "      <td>0.370733</td>\n",
       "      <td>-0.054234</td>\n",
       "      <td>4.991396</td>\n",
       "      <td>5.437330</td>\n",
       "      <td>-0.478694</td>\n",
       "      <td>0.293941</td>\n",
       "      <td>5.466270</td>\n",
       "      <td>2.039411</td>\n",
       "      <td>5.005128</td>\n",
       "      <td>-0.951659</td>\n",
       "      <td>5.487819</td>\n",
       "      <td>-2.250713</td>\n",
       "      <td>-1.483738</td>\n",
       "      <td>-11.805484</td>\n",
       "      <td>12.1093</td>\n",
       "      <td>-11.351394</td>\n",
       "      <td>-4.210353</td>\n",
       "      <td>-0.235410</td>\n",
       "      <td>12.1093</td>\n",
       "      <td>3.457522</td>\n",
       "      <td>-11.605093</td>\n",
       "      <td>0.063226</td>\n",
       "      <td>12.1093</td>\n",
       "      <td>-0.08828</td>\n",
       "      <td>-0.47568</td>\n",
       "      <td>-0.44826</td>\n",
       "      <td>-0.38491</td>\n",
       "      <td>0.01903</td>\n",
       "      <td>0.38209</td>\n",
       "      <td>-0.70436</td>\n",
       "      <td>0.025348</td>\n",
       "      <td>-0.131267</td>\n",
       "      <td>-0.108592</td>\n",
       "      <td>-0.057934</td>\n",
       "      <td>0.026872</td>\n",
       "      <td>0.164687</td>\n",
       "      <td>-0.144535</td>\n",
       "      <td>0.022491</td>\n",
       "      <td>-0.207951</td>\n",
       "      <td>-0.353554</td>\n",
       "      <td>-0.318784</td>\n",
       "      <td>0.020186</td>\n",
       "      <td>0.397501</td>\n",
       "      <td>-0.341283</td>\n",
       "      <td>1.9325</td>\n",
       "      <td>6.6396</td>\n",
       "      <td>8.3148</td>\n",
       "      <td>4.4320</td>\n",
       "      <td>114.4992</td>\n",
       "      <td>1.9293</td>\n",
       "      <td>4.8659</td>\n",
       "      <td>7.1889</td>\n",
       "      <td>4.5527</td>\n",
       "      <td>119.5422</td>\n",
       "      <td>1.6991</td>\n",
       "      <td>6.1394</td>\n",
       "      <td>3.5248</td>\n",
       "      <td>1.3769</td>\n",
       "      <td>144.4812</td>\n",
       "      <td>2.3298</td>\n",
       "      <td>7.9709</td>\n",
       "      <td>6.0513</td>\n",
       "      <td>4.2201</td>\n",
       "      <td>91.6815</td>\n",
       "      <td>2.174896</td>\n",
       "      <td>3.594552</td>\n",
       "      <td>4.264549</td>\n",
       "      <td>2.742718</td>\n",
       "      <td>1.973591</td>\n",
       "      <td>2.964800</td>\n",
       "      <td>115.132991</td>\n",
       "      <td>123.149117</td>\n",
       "      <td>3.918037</td>\n",
       "      <td>4.927979</td>\n",
       "    </tr>\n",
       "    <tr>\n",
       "      <th>LS2001</th>\n",
       "      <td>1627.4980</td>\n",
       "      <td>40.039239</td>\n",
       "      <td>1680.9700</td>\n",
       "      <td>50.792589</td>\n",
       "      <td>1530.1975</td>\n",
       "      <td>0.342623</td>\n",
       "      <td>1.719424</td>\n",
       "      <td>4.604653</td>\n",
       "      <td>-0.377073</td>\n",
       "      <td>4.929648</td>\n",
       "      <td>-2.906527</td>\n",
       "      <td>3.681422</td>\n",
       "      <td>-0.116581</td>\n",
       "      <td>4.691946</td>\n",
       "      <td>4.766966</td>\n",
       "      <td>-0.156807</td>\n",
       "      <td>-0.120886</td>\n",
       "      <td>4.771076</td>\n",
       "      <td>5.109243</td>\n",
       "      <td>-0.935067</td>\n",
       "      <td>0.277796</td>\n",
       "      <td>5.201527</td>\n",
       "      <td>1.502118</td>\n",
       "      <td>4.929460</td>\n",
       "      <td>-0.837613</td>\n",
       "      <td>5.220874</td>\n",
       "      <td>-1.333802</td>\n",
       "      <td>-0.257990</td>\n",
       "      <td>-8.744907</td>\n",
       "      <td>8.8499</td>\n",
       "      <td>-8.530673</td>\n",
       "      <td>-2.292192</td>\n",
       "      <td>-0.540799</td>\n",
       "      <td>8.8499</td>\n",
       "      <td>3.300734</td>\n",
       "      <td>-8.202363</td>\n",
       "      <td>0.381280</td>\n",
       "      <td>8.8499</td>\n",
       "      <td>-0.08856</td>\n",
       "      <td>-0.47578</td>\n",
       "      <td>-0.44559</td>\n",
       "      <td>-0.38108</td>\n",
       "      <td>0.00913</td>\n",
       "      <td>0.38120</td>\n",
       "      <td>-0.70336</td>\n",
       "      <td>0.025693</td>\n",
       "      <td>-0.131395</td>\n",
       "      <td>-0.107552</td>\n",
       "      <td>-0.055570</td>\n",
       "      <td>0.025714</td>\n",
       "      <td>0.164934</td>\n",
       "      <td>-0.143759</td>\n",
       "      <td>0.022794</td>\n",
       "      <td>-0.208052</td>\n",
       "      <td>-0.352376</td>\n",
       "      <td>-0.316299</td>\n",
       "      <td>0.019059</td>\n",
       "      <td>0.397638</td>\n",
       "      <td>-0.340536</td>\n",
       "      <td>1.9508</td>\n",
       "      <td>8.2599</td>\n",
       "      <td>9.3993</td>\n",
       "      <td>6.3123</td>\n",
       "      <td>108.6521</td>\n",
       "      <td>1.9294</td>\n",
       "      <td>4.8654</td>\n",
       "      <td>7.1889</td>\n",
       "      <td>4.5553</td>\n",
       "      <td>119.4628</td>\n",
       "      <td>1.6991</td>\n",
       "      <td>6.1410</td>\n",
       "      <td>3.5217</td>\n",
       "      <td>1.3699</td>\n",
       "      <td>144.5764</td>\n",
       "      <td>2.3757</td>\n",
       "      <td>9.7109</td>\n",
       "      <td>6.8414</td>\n",
       "      <td>3.6394</td>\n",
       "      <td>95.0239</td>\n",
       "      <td>2.175971</td>\n",
       "      <td>3.594368</td>\n",
       "      <td>4.265659</td>\n",
       "      <td>2.743396</td>\n",
       "      <td>1.973480</td>\n",
       "      <td>2.965867</td>\n",
       "      <td>115.206968</td>\n",
       "      <td>123.119394</td>\n",
       "      <td>3.919665</td>\n",
       "      <td>4.745683</td>\n",
       "    </tr>\n",
       "    <tr>\n",
       "      <th>LS2002</th>\n",
       "      <td>1663.6056</td>\n",
       "      <td>45.545353</td>\n",
       "      <td>1657.6958</td>\n",
       "      <td>54.629806</td>\n",
       "      <td>1527.1918</td>\n",
       "      <td>0.351488</td>\n",
       "      <td>3.294134</td>\n",
       "      <td>3.637156</td>\n",
       "      <td>-0.629750</td>\n",
       "      <td>4.947404</td>\n",
       "      <td>-1.241731</td>\n",
       "      <td>4.579699</td>\n",
       "      <td>-0.764197</td>\n",
       "      <td>4.806197</td>\n",
       "      <td>4.532477</td>\n",
       "      <td>1.448216</td>\n",
       "      <td>1.036984</td>\n",
       "      <td>4.869909</td>\n",
       "      <td>5.167031</td>\n",
       "      <td>0.827745</td>\n",
       "      <td>0.325712</td>\n",
       "      <td>5.243039</td>\n",
       "      <td>3.109235</td>\n",
       "      <td>4.180444</td>\n",
       "      <td>0.710103</td>\n",
       "      <td>5.258108</td>\n",
       "      <td>-9.865891</td>\n",
       "      <td>0.092649</td>\n",
       "      <td>-5.392643</td>\n",
       "      <td>11.2439</td>\n",
       "      <td>-10.923988</td>\n",
       "      <td>-2.662654</td>\n",
       "      <td>-0.041862</td>\n",
       "      <td>11.2439</td>\n",
       "      <td>3.795419</td>\n",
       "      <td>-10.580348</td>\n",
       "      <td>0.275719</td>\n",
       "      <td>11.2439</td>\n",
       "      <td>-0.08038</td>\n",
       "      <td>-0.46965</td>\n",
       "      <td>-0.45354</td>\n",
       "      <td>-0.38168</td>\n",
       "      <td>-0.14108</td>\n",
       "      <td>0.38374</td>\n",
       "      <td>-0.68757</td>\n",
       "      <td>0.023048</td>\n",
       "      <td>-0.123863</td>\n",
       "      <td>-0.123639</td>\n",
       "      <td>-0.055621</td>\n",
       "      <td>-0.008130</td>\n",
       "      <td>0.170761</td>\n",
       "      <td>-0.134284</td>\n",
       "      <td>0.018896</td>\n",
       "      <td>-0.198970</td>\n",
       "      <td>-0.351195</td>\n",
       "      <td>-0.315716</td>\n",
       "      <td>-0.058714</td>\n",
       "      <td>0.390109</td>\n",
       "      <td>-0.331794</td>\n",
       "      <td>2.0542</td>\n",
       "      <td>7.1924</td>\n",
       "      <td>6.2581</td>\n",
       "      <td>0.4494</td>\n",
       "      <td>107.1687</td>\n",
       "      <td>1.8536</td>\n",
       "      <td>6.5609</td>\n",
       "      <td>7.7363</td>\n",
       "      <td>2.2236</td>\n",
       "      <td>121.1417</td>\n",
       "      <td>1.6991</td>\n",
       "      <td>6.3238</td>\n",
       "      <td>3.5746</td>\n",
       "      <td>1.4073</td>\n",
       "      <td>177.0822</td>\n",
       "      <td>2.8967</td>\n",
       "      <td>7.7899</td>\n",
       "      <td>8.3871</td>\n",
       "      <td>2.7603</td>\n",
       "      <td>88.4803</td>\n",
       "      <td>2.181137</td>\n",
       "      <td>3.558617</td>\n",
       "      <td>4.301469</td>\n",
       "      <td>2.784245</td>\n",
       "      <td>1.973592</td>\n",
       "      <td>3.011572</td>\n",
       "      <td>114.165757</td>\n",
       "      <td>124.517457</td>\n",
       "      <td>5.818664</td>\n",
       "      <td>18.957162</td>\n",
       "    </tr>\n",
       "    <tr>\n",
       "      <th>LS2003</th>\n",
       "      <td>1665.1791</td>\n",
       "      <td>47.857455</td>\n",
       "      <td>1656.1417</td>\n",
       "      <td>53.533302</td>\n",
       "      <td>1527.2013</td>\n",
       "      <td>0.348484</td>\n",
       "      <td>1.982944</td>\n",
       "      <td>3.941917</td>\n",
       "      <td>0.018589</td>\n",
       "      <td>4.412610</td>\n",
       "      <td>-2.112086</td>\n",
       "      <td>3.639957</td>\n",
       "      <td>0.039741</td>\n",
       "      <td>4.208536</td>\n",
       "      <td>4.267037</td>\n",
       "      <td>0.207653</td>\n",
       "      <td>0.189598</td>\n",
       "      <td>4.276292</td>\n",
       "      <td>4.628046</td>\n",
       "      <td>-0.251471</td>\n",
       "      <td>-0.509286</td>\n",
       "      <td>4.662770</td>\n",
       "      <td>1.757261</td>\n",
       "      <td>4.146735</td>\n",
       "      <td>1.273049</td>\n",
       "      <td>4.680174</td>\n",
       "      <td>-7.145848</td>\n",
       "      <td>-1.708733</td>\n",
       "      <td>-4.769495</td>\n",
       "      <td>8.7597</td>\n",
       "      <td>-7.875757</td>\n",
       "      <td>-3.784200</td>\n",
       "      <td>-0.619095</td>\n",
       "      <td>8.7597</td>\n",
       "      <td>1.146460</td>\n",
       "      <td>-8.657370</td>\n",
       "      <td>0.683067</td>\n",
       "      <td>8.7597</td>\n",
       "      <td>-0.08074</td>\n",
       "      <td>-0.47337</td>\n",
       "      <td>-0.44872</td>\n",
       "      <td>-0.38033</td>\n",
       "      <td>-0.14028</td>\n",
       "      <td>0.38258</td>\n",
       "      <td>-0.68695</td>\n",
       "      <td>0.023537</td>\n",
       "      <td>-0.125552</td>\n",
       "      <td>-0.121112</td>\n",
       "      <td>-0.054418</td>\n",
       "      <td>-0.007259</td>\n",
       "      <td>0.170174</td>\n",
       "      <td>-0.133649</td>\n",
       "      <td>0.019322</td>\n",
       "      <td>-0.200512</td>\n",
       "      <td>-0.348868</td>\n",
       "      <td>-0.314315</td>\n",
       "      <td>-0.057812</td>\n",
       "      <td>0.389576</td>\n",
       "      <td>-0.331172</td>\n",
       "      <td>2.0712</td>\n",
       "      <td>8.8024</td>\n",
       "      <td>6.2615</td>\n",
       "      <td>1.2661</td>\n",
       "      <td>104.8160</td>\n",
       "      <td>1.8573</td>\n",
       "      <td>6.5594</td>\n",
       "      <td>7.7325</td>\n",
       "      <td>2.2269</td>\n",
       "      <td>120.7106</td>\n",
       "      <td>1.6991</td>\n",
       "      <td>6.3232</td>\n",
       "      <td>3.5775</td>\n",
       "      <td>1.4020</td>\n",
       "      <td>177.1645</td>\n",
       "      <td>2.9488</td>\n",
       "      <td>7.7805</td>\n",
       "      <td>9.7882</td>\n",
       "      <td>2.7933</td>\n",
       "      <td>88.0474</td>\n",
       "      <td>2.182354</td>\n",
       "      <td>3.564569</td>\n",
       "      <td>4.308510</td>\n",
       "      <td>2.781773</td>\n",
       "      <td>1.973561</td>\n",
       "      <td>3.014232</td>\n",
       "      <td>114.274519</td>\n",
       "      <td>124.533621</td>\n",
       "      <td>5.558506</td>\n",
       "      <td>17.180729</td>\n",
       "    </tr>\n",
       "    <tr>\n",
       "      <th>LS2004</th>\n",
       "      <td>1669.1752</td>\n",
       "      <td>28.365961</td>\n",
       "      <td>1711.7992</td>\n",
       "      <td>64.279863</td>\n",
       "      <td>1523.5172</td>\n",
       "      <td>0.302728</td>\n",
       "      <td>2.033865</td>\n",
       "      <td>3.777661</td>\n",
       "      <td>0.049252</td>\n",
       "      <td>4.290659</td>\n",
       "      <td>-1.771778</td>\n",
       "      <td>3.576334</td>\n",
       "      <td>0.392827</td>\n",
       "      <td>4.010446</td>\n",
       "      <td>4.039599</td>\n",
       "      <td>0.484619</td>\n",
       "      <td>0.551997</td>\n",
       "      <td>4.105840</td>\n",
       "      <td>4.666833</td>\n",
       "      <td>-0.103676</td>\n",
       "      <td>-0.103146</td>\n",
       "      <td>4.669124</td>\n",
       "      <td>1.855586</td>\n",
       "      <td>4.230623</td>\n",
       "      <td>0.831728</td>\n",
       "      <td>4.693948</td>\n",
       "      <td>-9.267983</td>\n",
       "      <td>-0.566135</td>\n",
       "      <td>-2.218938</td>\n",
       "      <td>9.5467</td>\n",
       "      <td>-8.937561</td>\n",
       "      <td>-3.055767</td>\n",
       "      <td>1.386363</td>\n",
       "      <td>9.5467</td>\n",
       "      <td>2.732288</td>\n",
       "      <td>-9.114966</td>\n",
       "      <td>-0.769218</td>\n",
       "      <td>9.5467</td>\n",
       "      <td>-0.06261</td>\n",
       "      <td>-0.44465</td>\n",
       "      <td>-0.41870</td>\n",
       "      <td>-0.39098</td>\n",
       "      <td>-0.14841</td>\n",
       "      <td>0.37895</td>\n",
       "      <td>-0.67903</td>\n",
       "      <td>0.026146</td>\n",
       "      <td>-0.066246</td>\n",
       "      <td>-0.118713</td>\n",
       "      <td>-0.054583</td>\n",
       "      <td>-0.003000</td>\n",
       "      <td>0.170108</td>\n",
       "      <td>-0.130314</td>\n",
       "      <td>0.026638</td>\n",
       "      <td>-0.306063</td>\n",
       "      <td>-0.338993</td>\n",
       "      <td>-0.318094</td>\n",
       "      <td>-0.056654</td>\n",
       "      <td>0.388163</td>\n",
       "      <td>-0.327805</td>\n",
       "      <td>1.6994</td>\n",
       "      <td>3.2578</td>\n",
       "      <td>6.2759</td>\n",
       "      <td>3.8310</td>\n",
       "      <td>92.2623</td>\n",
       "      <td>2.4331</td>\n",
       "      <td>8.4781</td>\n",
       "      <td>7.7873</td>\n",
       "      <td>1.6569</td>\n",
       "      <td>96.1467</td>\n",
       "      <td>2.2478</td>\n",
       "      <td>7.2394</td>\n",
       "      <td>7.8135</td>\n",
       "      <td>2.7510</td>\n",
       "      <td>136.9121</td>\n",
       "      <td>2.2965</td>\n",
       "      <td>7.8111</td>\n",
       "      <td>9.4158</td>\n",
       "      <td>2.8601</td>\n",
       "      <td>100.2594</td>\n",
       "      <td>2.165812</td>\n",
       "      <td>3.663237</td>\n",
       "      <td>4.362204</td>\n",
       "      <td>2.787969</td>\n",
       "      <td>1.972691</td>\n",
       "      <td>3.029312</td>\n",
       "      <td>116.019277</td>\n",
       "      <td>121.878261</td>\n",
       "      <td>5.043501</td>\n",
       "      <td>23.795786</td>\n",
       "    </tr>\n",
       "    <tr>\n",
       "      <th>LS2005</th>\n",
       "      <td>1688.5763</td>\n",
       "      <td>1.572877</td>\n",
       "      <td>1651.3228</td>\n",
       "      <td>82.338222</td>\n",
       "      <td>1524.0354</td>\n",
       "      <td>0.342487</td>\n",
       "      <td>0.208195</td>\n",
       "      <td>1.716698</td>\n",
       "      <td>-0.023424</td>\n",
       "      <td>1.729435</td>\n",
       "      <td>-2.761547</td>\n",
       "      <td>1.064794</td>\n",
       "      <td>0.378994</td>\n",
       "      <td>2.983884</td>\n",
       "      <td>2.173166</td>\n",
       "      <td>-1.570385</td>\n",
       "      <td>0.177101</td>\n",
       "      <td>2.687029</td>\n",
       "      <td>0.599214</td>\n",
       "      <td>-0.596389</td>\n",
       "      <td>-0.323014</td>\n",
       "      <td>0.905028</td>\n",
       "      <td>-0.298996</td>\n",
       "      <td>0.690732</td>\n",
       "      <td>0.314440</td>\n",
       "      <td>0.815710</td>\n",
       "      <td>-8.245305</td>\n",
       "      <td>2.298315</td>\n",
       "      <td>-2.312654</td>\n",
       "      <td>8.8665</td>\n",
       "      <td>-8.764262</td>\n",
       "      <td>0.012556</td>\n",
       "      <td>1.342844</td>\n",
       "      <td>8.8665</td>\n",
       "      <td>5.054539</td>\n",
       "      <td>-7.283170</td>\n",
       "      <td>-0.150833</td>\n",
       "      <td>8.8665</td>\n",
       "      <td>-0.06326</td>\n",
       "      <td>-0.44347</td>\n",
       "      <td>-0.41203</td>\n",
       "      <td>-0.38671</td>\n",
       "      <td>-0.12054</td>\n",
       "      <td>0.37564</td>\n",
       "      <td>-0.67526</td>\n",
       "      <td>0.026789</td>\n",
       "      <td>-0.066188</td>\n",
       "      <td>-0.115995</td>\n",
       "      <td>-0.050820</td>\n",
       "      <td>0.003132</td>\n",
       "      <td>0.170451</td>\n",
       "      <td>-0.127442</td>\n",
       "      <td>0.027196</td>\n",
       "      <td>-0.305985</td>\n",
       "      <td>-0.335911</td>\n",
       "      <td>-0.313474</td>\n",
       "      <td>-0.046223</td>\n",
       "      <td>0.387864</td>\n",
       "      <td>-0.324989</td>\n",
       "      <td>2.0969</td>\n",
       "      <td>3.2563</td>\n",
       "      <td>7.5974</td>\n",
       "      <td>3.8390</td>\n",
       "      <td>72.3669</td>\n",
       "      <td>2.4226</td>\n",
       "      <td>8.2556</td>\n",
       "      <td>7.7836</td>\n",
       "      <td>1.2748</td>\n",
       "      <td>89.1533</td>\n",
       "      <td>2.1179</td>\n",
       "      <td>7.2473</td>\n",
       "      <td>7.8631</td>\n",
       "      <td>2.7256</td>\n",
       "      <td>132.9205</td>\n",
       "      <td>2.9351</td>\n",
       "      <td>7.8086</td>\n",
       "      <td>9.3687</td>\n",
       "      <td>2.8594</td>\n",
       "      <td>93.1090</td>\n",
       "      <td>2.169635</td>\n",
       "      <td>3.661330</td>\n",
       "      <td>4.367085</td>\n",
       "      <td>2.785117</td>\n",
       "      <td>1.972290</td>\n",
       "      <td>3.035084</td>\n",
       "      <td>116.084217</td>\n",
       "      <td>121.658843</td>\n",
       "      <td>4.932108</td>\n",
       "      <td>23.971235</td>\n",
       "    </tr>\n",
       "    <tr>\n",
       "      <th>LS2006</th>\n",
       "      <td>1685.1458</td>\n",
       "      <td>41.869183</td>\n",
       "      <td>1645.2038</td>\n",
       "      <td>49.809612</td>\n",
       "      <td>1531.8738</td>\n",
       "      <td>0.359865</td>\n",
       "      <td>3.060716</td>\n",
       "      <td>5.071087</td>\n",
       "      <td>-0.446464</td>\n",
       "      <td>5.939970</td>\n",
       "      <td>-2.304398</td>\n",
       "      <td>5.077368</td>\n",
       "      <td>-0.226461</td>\n",
       "      <td>5.580430</td>\n",
       "      <td>5.608670</td>\n",
       "      <td>1.151893</td>\n",
       "      <td>-0.079483</td>\n",
       "      <td>5.726286</td>\n",
       "      <td>6.515374</td>\n",
       "      <td>-0.072564</td>\n",
       "      <td>0.247248</td>\n",
       "      <td>6.520467</td>\n",
       "      <td>2.897887</td>\n",
       "      <td>5.777997</td>\n",
       "      <td>-1.100157</td>\n",
       "      <td>6.556931</td>\n",
       "      <td>-2.012181</td>\n",
       "      <td>-2.743005</td>\n",
       "      <td>-11.349897</td>\n",
       "      <td>11.8488</td>\n",
       "      <td>-10.564402</td>\n",
       "      <td>-5.356333</td>\n",
       "      <td>-0.310172</td>\n",
       "      <td>11.8488</td>\n",
       "      <td>2.125537</td>\n",
       "      <td>-11.654843</td>\n",
       "      <td>0.199543</td>\n",
       "      <td>11.8488</td>\n",
       "      <td>-0.08846</td>\n",
       "      <td>-0.47468</td>\n",
       "      <td>-0.44751</td>\n",
       "      <td>-0.40798</td>\n",
       "      <td>0.35137</td>\n",
       "      <td>0.38101</td>\n",
       "      <td>-0.70585</td>\n",
       "      <td>0.025336</td>\n",
       "      <td>-0.130623</td>\n",
       "      <td>-0.108015</td>\n",
       "      <td>-0.069252</td>\n",
       "      <td>0.101499</td>\n",
       "      <td>0.163046</td>\n",
       "      <td>-0.145432</td>\n",
       "      <td>0.022465</td>\n",
       "      <td>-0.207143</td>\n",
       "      <td>-0.352835</td>\n",
       "      <td>-0.329736</td>\n",
       "      <td>0.121310</td>\n",
       "      <td>0.395355</td>\n",
       "      <td>-0.342138</td>\n",
       "      <td>1.7535</td>\n",
       "      <td>4.2642</td>\n",
       "      <td>7.1628</td>\n",
       "      <td>5.9874</td>\n",
       "      <td>93.5804</td>\n",
       "      <td>1.9315</td>\n",
       "      <td>4.8637</td>\n",
       "      <td>7.1897</td>\n",
       "      <td>4.5572</td>\n",
       "      <td>119.4106</td>\n",
       "      <td>1.6991</td>\n",
       "      <td>6.1399</td>\n",
       "      <td>3.5231</td>\n",
       "      <td>1.3738</td>\n",
       "      <td>144.5419</td>\n",
       "      <td>2.1178</td>\n",
       "      <td>7.3673</td>\n",
       "      <td>5.4284</td>\n",
       "      <td>3.2477</td>\n",
       "      <td>115.9080</td>\n",
       "      <td>2.176061</td>\n",
       "      <td>3.597780</td>\n",
       "      <td>4.266723</td>\n",
       "      <td>2.742514</td>\n",
       "      <td>1.973529</td>\n",
       "      <td>2.968025</td>\n",
       "      <td>115.053510</td>\n",
       "      <td>123.097336</td>\n",
       "      <td>3.935583</td>\n",
       "      <td>4.738700</td>\n",
       "    </tr>\n",
       "    <tr>\n",
       "      <th>LS2007</th>\n",
       "      <td>1642.1804</td>\n",
       "      <td>4.790523</td>\n",
       "      <td>1668.6826</td>\n",
       "      <td>74.345349</td>\n",
       "      <td>1533.8962</td>\n",
       "      <td>0.408304</td>\n",
       "      <td>0.685837</td>\n",
       "      <td>2.833034</td>\n",
       "      <td>-2.266960</td>\n",
       "      <td>3.692636</td>\n",
       "      <td>-2.338695</td>\n",
       "      <td>1.775748</td>\n",
       "      <td>-1.698659</td>\n",
       "      <td>3.392377</td>\n",
       "      <td>3.184368</td>\n",
       "      <td>-0.679866</td>\n",
       "      <td>1.207402</td>\n",
       "      <td>3.472785</td>\n",
       "      <td>3.106798</td>\n",
       "      <td>-0.755060</td>\n",
       "      <td>2.364277</td>\n",
       "      <td>3.976445</td>\n",
       "      <td>0.512627</td>\n",
       "      <td>3.063695</td>\n",
       "      <td>-2.522615</td>\n",
       "      <td>4.001575</td>\n",
       "      <td>-0.062848</td>\n",
       "      <td>-2.848095</td>\n",
       "      <td>-9.068211</td>\n",
       "      <td>9.5052</td>\n",
       "      <td>-8.153381</td>\n",
       "      <td>-4.865442</td>\n",
       "      <td>-0.444863</td>\n",
       "      <td>9.5052</td>\n",
       "      <td>1.589606</td>\n",
       "      <td>-9.369005</td>\n",
       "      <td>0.207240</td>\n",
       "      <td>9.5052</td>\n",
       "      <td>-0.09191</td>\n",
       "      <td>-0.47504</td>\n",
       "      <td>-0.45346</td>\n",
       "      <td>-0.39464</td>\n",
       "      <td>-0.14621</td>\n",
       "      <td>0.37912</td>\n",
       "      <td>-0.68692</td>\n",
       "      <td>0.024340</td>\n",
       "      <td>-0.132077</td>\n",
       "      <td>-0.108984</td>\n",
       "      <td>-0.069101</td>\n",
       "      <td>-0.006334</td>\n",
       "      <td>0.174270</td>\n",
       "      <td>-0.145630</td>\n",
       "      <td>0.021788</td>\n",
       "      <td>-0.208189</td>\n",
       "      <td>-0.359219</td>\n",
       "      <td>-0.306891</td>\n",
       "      <td>-0.059784</td>\n",
       "      <td>0.396010</td>\n",
       "      <td>-0.341856</td>\n",
       "      <td>1.7822</td>\n",
       "      <td>7.1261</td>\n",
       "      <td>7.7247</td>\n",
       "      <td>5.6515</td>\n",
       "      <td>103.5318</td>\n",
       "      <td>1.9394</td>\n",
       "      <td>4.8469</td>\n",
       "      <td>7.2228</td>\n",
       "      <td>4.6534</td>\n",
       "      <td>118.8188</td>\n",
       "      <td>1.6991</td>\n",
       "      <td>6.2127</td>\n",
       "      <td>3.4778</td>\n",
       "      <td>1.2817</td>\n",
       "      <td>130.4224</td>\n",
       "      <td>2.0966</td>\n",
       "      <td>7.4640</td>\n",
       "      <td>5.4027</td>\n",
       "      <td>3.1398</td>\n",
       "      <td>113.0324</td>\n",
       "      <td>2.275542</td>\n",
       "      <td>3.602447</td>\n",
       "      <td>4.186724</td>\n",
       "      <td>2.749425</td>\n",
       "      <td>1.979267</td>\n",
       "      <td>2.924808</td>\n",
       "      <td>115.489911</td>\n",
       "      <td>123.030865</td>\n",
       "      <td>1.476101</td>\n",
       "      <td>4.546540</td>\n",
       "    </tr>\n",
       "    <tr>\n",
       "      <th>LS2008</th>\n",
       "      <td>1651.6779</td>\n",
       "      <td>8.817197</td>\n",
       "      <td>1673.4978</td>\n",
       "      <td>78.132418</td>\n",
       "      <td>1532.0536</td>\n",
       "      <td>0.368716</td>\n",
       "      <td>-0.654287</td>\n",
       "      <td>1.937362</td>\n",
       "      <td>-2.251076</td>\n",
       "      <td>3.041185</td>\n",
       "      <td>-1.247531</td>\n",
       "      <td>0.258241</td>\n",
       "      <td>-1.865930</td>\n",
       "      <td>2.259362</td>\n",
       "      <td>1.586790</td>\n",
       "      <td>-0.853864</td>\n",
       "      <td>1.576469</td>\n",
       "      <td>2.394210</td>\n",
       "      <td>2.168389</td>\n",
       "      <td>-1.342724</td>\n",
       "      <td>2.433519</td>\n",
       "      <td>3.525171</td>\n",
       "      <td>-0.571245</td>\n",
       "      <td>2.502077</td>\n",
       "      <td>-2.515733</td>\n",
       "      <td>3.593832</td>\n",
       "      <td>-0.230090</td>\n",
       "      <td>-2.748817</td>\n",
       "      <td>-9.224952</td>\n",
       "      <td>9.6285</td>\n",
       "      <td>-8.229299</td>\n",
       "      <td>-4.988768</td>\n",
       "      <td>-0.315445</td>\n",
       "      <td>9.6285</td>\n",
       "      <td>1.771116</td>\n",
       "      <td>-9.464238</td>\n",
       "      <td>-0.004656</td>\n",
       "      <td>9.6285</td>\n",
       "      <td>-0.09193</td>\n",
       "      <td>-0.47612</td>\n",
       "      <td>-0.45646</td>\n",
       "      <td>-0.39815</td>\n",
       "      <td>-0.14723</td>\n",
       "      <td>0.39559</td>\n",
       "      <td>-0.71355</td>\n",
       "      <td>0.024077</td>\n",
       "      <td>-0.130900</td>\n",
       "      <td>-0.107151</td>\n",
       "      <td>-0.074275</td>\n",
       "      <td>-0.007639</td>\n",
       "      <td>0.178195</td>\n",
       "      <td>-0.146054</td>\n",
       "      <td>0.021285</td>\n",
       "      <td>-0.207693</td>\n",
       "      <td>-0.360626</td>\n",
       "      <td>-0.307762</td>\n",
       "      <td>-0.061188</td>\n",
       "      <td>0.396714</td>\n",
       "      <td>-0.343869</td>\n",
       "      <td>1.9217</td>\n",
       "      <td>9.2254</td>\n",
       "      <td>9.3594</td>\n",
       "      <td>7.9348</td>\n",
       "      <td>119.6014</td>\n",
       "      <td>1.9062</td>\n",
       "      <td>4.9021</td>\n",
       "      <td>7.1833</td>\n",
       "      <td>4.5087</td>\n",
       "      <td>119.3391</td>\n",
       "      <td>1.6991</td>\n",
       "      <td>6.1617</td>\n",
       "      <td>3.5165</td>\n",
       "      <td>1.3514</td>\n",
       "      <td>134.0518</td>\n",
       "      <td>2.8709</td>\n",
       "      <td>7.3420</td>\n",
       "      <td>5.4793</td>\n",
       "      <td>3.3659</td>\n",
       "      <td>90.0632</td>\n",
       "      <td>2.305779</td>\n",
       "      <td>3.609414</td>\n",
       "      <td>4.197185</td>\n",
       "      <td>2.763225</td>\n",
       "      <td>1.982292</td>\n",
       "      <td>2.932289</td>\n",
       "      <td>115.962363</td>\n",
       "      <td>123.096107</td>\n",
       "      <td>2.883795</td>\n",
       "      <td>7.737964</td>\n",
       "    </tr>\n",
       "  </tbody>\n",
       "</table>\n",
       "</div>"
      ],
      "text/plain": [
       "            cross  cross_angle       para  para_angle  \\\n",
       "LS1621  1674.6111    39.227103  1652.6065   53.790361   \n",
       "LS1622  1688.8190     7.836688  1660.1501   84.348787   \n",
       "LS1630  1643.0843    30.852374  1678.5785   60.148641   \n",
       "LS1641  1647.4172    29.770644  1680.0379   59.709925   \n",
       "LS1642  1642.4555     4.440006  1667.7782   76.476774   \n",
       "LS1643  1636.0736     4.780466  1668.2129   76.343265   \n",
       "LS1661  1653.0726    10.340303  1674.3443   76.471735   \n",
       "LS1663  1652.2832     3.849523  1662.9231   89.452627   \n",
       "LS1685  1693.4940    20.903271  1652.0781   71.928016   \n",
       "LS1687  1675.3979    32.983838  1643.1653   54.573665   \n",
       "LS1688  1676.6399    32.616456  1707.5011   54.890343   \n",
       "LS1689  1679.2287    38.395036  1720.2773   60.270469   \n",
       "LS1690  1687.4328     2.576358  1643.9515   80.335574   \n",
       "LS1695  1669.4949    23.946693  1703.1161   62.242270   \n",
       "LS1696  1669.1178    22.330605  1647.0120   74.705345   \n",
       "LS1714  1642.3086    31.986222  1679.8822   59.825018   \n",
       "LS1715  1641.5013    31.870056  1679.5905   58.580913   \n",
       "LS1716  1684.9070    42.388805  1644.6364   49.071611   \n",
       "LS1717  1685.4213    41.655674  1645.5708   49.389207   \n",
       "LS1721  1675.9759    14.387515  1631.5139   81.609682   \n",
       "LS1723  1626.5010    38.325201  1679.5264   52.539944   \n",
       "LS1726  1623.6432    37.249391  1688.5429   56.442700   \n",
       "LS1734  1649.1903    47.242350  1663.1918   48.971044   \n",
       "LS1736  1665.7780    33.987181  1644.4508   50.909524   \n",
       "LS2000  1627.6459    37.916912  1681.3815   51.597389   \n",
       "LS2001  1627.4980    40.039239  1680.9700   50.792589   \n",
       "LS2002  1663.6056    45.545353  1657.6958   54.629806   \n",
       "LS2003  1665.1791    47.857455  1656.1417   53.533302   \n",
       "LS2004  1669.1752    28.365961  1711.7992   64.279863   \n",
       "LS2005  1688.5763     1.572877  1651.3228   82.338222   \n",
       "LS2006  1685.1458    41.869183  1645.2038   49.809612   \n",
       "LS2007  1642.1804     4.790523  1668.6826   74.345349   \n",
       "LS2008  1651.6779     8.817197  1673.4978   78.132418   \n",
       "\n",
       "        Frequency_Bending_22-23  Cross_mag_Bending_22-23  dip_x_NPA_11-6-4  \\\n",
       "LS1621                3176.5085                 0.341497          1.160731   \n",
       "LS1622                1530.3972                 0.359935          0.272959   \n",
       "LS1630                1531.9099                 0.376626          2.667708   \n",
       "LS1641                3173.2922                 0.364401          2.046429   \n",
       "LS1642                1532.7426                 0.394142          1.766727   \n",
       "LS1643                1533.2747                 0.402490          2.090960   \n",
       "LS1661                1533.2702                 0.389691          0.688560   \n",
       "LS1663                1536.3359                 0.381549          0.995230   \n",
       "LS1685                1526.2269                 0.331147         -2.589397   \n",
       "LS1687                3156.6866                 0.274509          2.450130   \n",
       "LS1688                1526.2555                 0.305067          2.817615   \n",
       "LS1689                3158.1280                 0.307001          3.039416   \n",
       "LS1690                1524.9490                 0.315240         -0.807077   \n",
       "LS1695                1522.0344                 0.279921          2.135691   \n",
       "LS1696                1522.0539                 0.275112          2.056596   \n",
       "LS1714                1530.0641                 0.447556          5.184504   \n",
       "LS1715                3164.9311                 0.440698          0.889284   \n",
       "LS1716                1526.2058                 0.440776          2.113619   \n",
       "LS1717                3109.8378                 0.455088          2.988307   \n",
       "LS1721                1530.5385                 0.348472          1.292501   \n",
       "LS1723                3175.4102                 0.334523          2.208952   \n",
       "LS1726                1529.6224                 0.342308          2.344853   \n",
       "LS1734                1526.3043                 0.351025          3.356883   \n",
       "LS1736                1532.2860                 0.359825          2.200025   \n",
       "LS2000                3177.3443                 0.335028          2.257425   \n",
       "LS2001                1530.1975                 0.342623          1.719424   \n",
       "LS2002                1527.1918                 0.351488          3.294134   \n",
       "LS2003                1527.2013                 0.348484          1.982944   \n",
       "LS2004                1523.5172                 0.302728          2.033865   \n",
       "LS2005                1524.0354                 0.342487          0.208195   \n",
       "LS2006                1531.8738                 0.359865          3.060716   \n",
       "LS2007                1533.8962                 0.408304          0.685837   \n",
       "LS2008                1532.0536                 0.368716         -0.654287   \n",
       "\n",
       "        dip_y_NPA_11-6-4  dip_z_NPA_11-6-4  total_dipole_NPA_11-6-4  \\\n",
       "LS1621          4.299914         -0.409019                 4.472567   \n",
       "LS1622          1.839751         -0.989847                 2.106891   \n",
       "LS1630          4.898217         -0.305293                 5.585910   \n",
       "LS1641          1.754159         -2.318574                 3.555381   \n",
       "LS1642          2.657969         -1.834042                 3.681010   \n",
       "LS1643          2.607707         -1.715628                 3.757078   \n",
       "LS1661          0.769306         -2.446064                 2.655029   \n",
       "LS1663          0.966063         -1.016553                 1.719634   \n",
       "LS1685          1.267166         -2.289069                 3.681104   \n",
       "LS1687          4.770688         -0.252738                 5.369030   \n",
       "LS1688          4.653798          0.005775                 5.440296   \n",
       "LS1689          4.726370         -0.055219                 5.619579   \n",
       "LS1690          1.947644         -0.214909                 2.119169   \n",
       "LS1695          3.405426          1.505250                 4.292305   \n",
       "LS1696          3.788837         -0.029419                 4.311119   \n",
       "LS1714          3.023554         -1.074141                 6.097109   \n",
       "LS1715          4.137456          0.678628                 4.286013   \n",
       "LS1716          3.745524         -0.610299                 4.343824   \n",
       "LS1717          5.044552         -0.248094                 5.868478   \n",
       "LS1721          4.587483         -0.245207                 4.772388   \n",
       "LS1723          4.610558         -0.544445                 5.141317   \n",
       "LS1726          4.558988         -0.473146                 5.148453   \n",
       "LS1734          3.422891         -0.629850                 4.835448   \n",
       "LS1736          3.867657         -0.437648                 4.471065   \n",
       "LS2000          4.603610         -0.426142                 5.144977   \n",
       "LS2001          4.604653         -0.377073                 4.929648   \n",
       "LS2002          3.637156         -0.629750                 4.947404   \n",
       "LS2003          3.941917          0.018589                 4.412610   \n",
       "LS2004          3.777661          0.049252                 4.290659   \n",
       "LS2005          1.716698         -0.023424                 1.729435   \n",
       "LS2006          5.071087         -0.446464                 5.939970   \n",
       "LS2007          2.833034         -2.266960                 3.692636   \n",
       "LS2008          1.937362         -2.251076                 3.041185   \n",
       "\n",
       "        dip_x_NPA_10-11-12  dip_y_NPA_10-11-12  dip_z_NPA_10-11-12  \\\n",
       "LS1621           -3.054492            3.064794           -0.171324   \n",
       "LS1622           -3.199226            1.077458           -0.910373   \n",
       "LS1630           -2.316098            4.650567           -0.077794   \n",
       "LS1641            0.902531            2.610897           -2.381469   \n",
       "LS1642           -1.407753            2.665817           -1.754589   \n",
       "LS1643           -1.303560            2.957542           -1.527703   \n",
       "LS1661            0.594216            0.874514           -2.388702   \n",
       "LS1663           -0.063841            1.400754           -1.031241   \n",
       "LS1685           -2.224748           -1.555460           -2.696773   \n",
       "LS1687           -1.742830            4.347877           -0.994602   \n",
       "LS1688           -1.548649            4.688068            0.712195   \n",
       "LS1689           -1.629138            4.910424            0.674385   \n",
       "LS1690           -3.372062            0.254897            0.494346   \n",
       "LS1695           -1.182438            3.418525            1.775631   \n",
       "LS1696           -1.702787            3.604697            0.294243   \n",
       "LS1714            1.672638            6.074451           -1.077456   \n",
       "LS1715           -1.756937            2.778816            0.643499   \n",
       "LS1716           -2.486561            3.597514           -0.451814   \n",
       "LS1717           -2.346520            5.003023           -0.165097   \n",
       "LS1721           -3.057356            3.336013           -0.014332   \n",
       "LS1723           -2.605781            4.116659           -0.342683   \n",
       "LS1726           -2.437274            4.200808           -0.286393   \n",
       "LS1734           -0.893362            4.583373           -0.616677   \n",
       "LS1736           -1.904837            3.839994           -0.284860   \n",
       "LS2000           -2.600648            4.152256           -0.200848   \n",
       "LS2001           -2.906527            3.681422           -0.116581   \n",
       "LS2002           -1.241731            4.579699           -0.764197   \n",
       "LS2003           -2.112086            3.639957            0.039741   \n",
       "LS2004           -1.771778            3.576334            0.392827   \n",
       "LS2005           -2.761547            1.064794            0.378994   \n",
       "LS2006           -2.304398            5.077368           -0.226461   \n",
       "LS2007           -2.338695            1.775748           -1.698659   \n",
       "LS2008           -1.247531            0.258241           -1.865930   \n",
       "\n",
       "        total_dipole_NPA_10-11-12  dip_x_NPA_11-12-5  dip_y_NPA_11-12-5  \\\n",
       "LS1621                   4.330385           4.325054          -0.650147   \n",
       "LS1622                   3.496389           2.476554          -1.778912   \n",
       "LS1630                   5.195972           5.269708           0.872177   \n",
       "LS1641                   3.647292           2.192409           2.223128   \n",
       "LS1642                   3.488113           3.318882           0.592192   \n",
       "LS1643                   3.574941           3.408000           0.864000   \n",
       "LS1661                   2.612234           1.008261           0.893624   \n",
       "LS1663                   1.740587           1.178196           0.843423   \n",
       "LS1685                   3.826427           0.899347          -2.694656   \n",
       "LS1687                   4.788604           4.884433           0.908996   \n",
       "LS1688                   4.988338           5.000848           1.286850   \n",
       "LS1689                   5.217389           5.208482           1.370908   \n",
       "LS1690                   3.417624           1.851221          -2.529921   \n",
       "LS1695                   4.029558           3.921585           0.877829   \n",
       "LS1696                   3.997487           4.024660           0.544868   \n",
       "LS1714                   6.391994           4.225913           4.806044   \n",
       "LS1715                   3.350035           3.599136           0.132811   \n",
       "LS1716                   4.396502           4.365686           0.201245   \n",
       "LS1717                   5.528440           5.562810           1.072480   \n",
       "LS1721                   4.525109           4.566767          -0.517093   \n",
       "LS1723                   4.884098           4.965047           0.339802   \n",
       "LS1726                   4.865091           4.941615           0.531578   \n",
       "LS1734                   4.710169           4.332501           1.725775   \n",
       "LS1736                   4.295941           4.327880           0.578664   \n",
       "LS2000                   4.903564           4.977314           0.370733   \n",
       "LS2001                   4.691946           4.766966          -0.156807   \n",
       "LS2002                   4.806197           4.532477           1.448216   \n",
       "LS2003                   4.208536           4.267037           0.207653   \n",
       "LS2004                   4.010446           4.039599           0.484619   \n",
       "LS2005                   2.983884           2.173166          -1.570385   \n",
       "LS2006                   5.580430           5.608670           1.151893   \n",
       "LS2007                   3.392377           3.184368          -0.679866   \n",
       "LS2008                   2.259362           1.586790          -0.853864   \n",
       "\n",
       "        dip_z_NPA_11-12-5  total_dipole_NPA_11-12-5  dip_x_NPA_4-5-1  \\\n",
       "LS1621          -0.077242                  4.374328         4.430421   \n",
       "LS1622           0.796034                  3.151431         0.554543   \n",
       "LS1630          -0.204786                  5.345321         6.159097   \n",
       "LS1641           1.961964                  3.687582         4.096519   \n",
       "LS1642           1.159044                  3.564976         3.561186   \n",
       "LS1643           1.003267                  3.656159         3.719134   \n",
       "LS1661           2.191419                  2.572445         2.128386   \n",
       "LS1663           1.012033                  1.767405         1.511421   \n",
       "LS1685           2.537138                  3.808814         3.088414   \n",
       "LS1687           0.473461                  4.990804         6.069935   \n",
       "LS1688          -0.439552                  5.182439         6.242817   \n",
       "LS1689          -0.292736                  5.393827         6.363724   \n",
       "LS1690          -0.292770                  3.148529         0.164445   \n",
       "LS1695          -0.924372                  4.123576         4.449382   \n",
       "LS1696           0.597907                  4.105151         4.739338   \n",
       "LS1714           1.134676                  6.499530         6.800123   \n",
       "LS1715          -0.583737                  3.648585         4.966679   \n",
       "LS1716           0.239257                  4.376867         4.231886   \n",
       "LS1717          -0.067464                  5.665653         6.394149   \n",
       "LS1721          -0.255026                  4.603019         4.860328   \n",
       "LS1723           0.047143                  4.976884         5.438330   \n",
       "LS1726          -0.008534                  4.970131         5.517360   \n",
       "LS1734           1.027838                  4.775491         4.989556   \n",
       "LS1736          -0.001067                  4.366394         4.594868   \n",
       "LS2000          -0.054234                  4.991396         5.437330   \n",
       "LS2001          -0.120886                  4.771076         5.109243   \n",
       "LS2002           1.036984                  4.869909         5.167031   \n",
       "LS2003           0.189598                  4.276292         4.628046   \n",
       "LS2004           0.551997                  4.105840         4.666833   \n",
       "LS2005           0.177101                  2.687029         0.599214   \n",
       "LS2006          -0.079483                  5.726286         6.515374   \n",
       "LS2007           1.207402                  3.472785         3.106798   \n",
       "LS2008           1.576469                  2.394210         2.168389   \n",
       "\n",
       "        dip_y_NPA_4-5-1  dip_z_NPA_4-5-1  total_dipole_NPA_4-5-1  \\\n",
       "LS1621        -1.231978         0.382390                4.614393   \n",
       "LS1622        -0.580570         1.047279                1.319611   \n",
       "LS1630        -0.302250         0.142644                6.168158   \n",
       "LS1641         0.936480         2.318399                4.799316   \n",
       "LS1642         0.278986         1.811652                4.005242   \n",
       "LS1643         0.503508         1.732801                4.133773   \n",
       "LS1661         0.346092         2.490508                3.294303   \n",
       "LS1663         0.340994         0.997034                1.842484   \n",
       "LS1685        -0.908456         1.692423                3.637017   \n",
       "LS1687        -0.343490         1.220177                6.200881   \n",
       "LS1688        -0.424088        -0.394165                6.269608   \n",
       "LS1689        -0.226919        -0.344859                6.377100   \n",
       "LS1690        -1.716463        -0.060099                1.725369   \n",
       "LS1695         0.555773        -1.342009                4.680478   \n",
       "LS1696        -0.178642         0.014050                4.742725   \n",
       "LS1714         2.617050         0.795886                7.329670   \n",
       "LS1715        -1.581424        -1.161736                5.340265   \n",
       "LS1716        -0.140760         0.577225                4.273390   \n",
       "LS1717        -0.110484         0.495508                6.414271   \n",
       "LS1721        -1.273910         0.198867                5.028437   \n",
       "LS1723        -0.510247         0.431037                5.479195   \n",
       "LS1726        -0.384168         0.343547                5.541378   \n",
       "LS1734         0.999718         0.803667                5.151794   \n",
       "LS1736        -0.199842         1.105175                4.730133   \n",
       "LS2000        -0.478694         0.293941                5.466270   \n",
       "LS2001        -0.935067         0.277796                5.201527   \n",
       "LS2002         0.827745         0.325712                5.243039   \n",
       "LS2003        -0.251471        -0.509286                4.662770   \n",
       "LS2004        -0.103676        -0.103146                4.669124   \n",
       "LS2005        -0.596389        -0.323014                0.905028   \n",
       "LS2006        -0.072564         0.247248                6.520467   \n",
       "LS2007        -0.755060         2.364277                3.976445   \n",
       "LS2008        -1.342724         2.433519                3.525171   \n",
       "\n",
       "        dip_x_NPA_4-3-2  dip_y_NPA_4-3-2  dip_z_NPA_4-3-2  \\\n",
       "LS1621         0.915549         4.461030        -0.808884   \n",
       "LS1622        -0.380821         0.612844        -0.994820   \n",
       "LS1630         2.549087         5.582991        -0.915997   \n",
       "LS1641         2.357352         3.199425        -2.842995   \n",
       "LS1642         1.645234         2.961473        -2.178823   \n",
       "LS1643         1.974965         3.025479        -2.057148   \n",
       "LS1661         0.919699         1.711920        -2.738471   \n",
       "LS1663         0.877222         1.173235        -1.133822   \n",
       "LS1685         0.099547         1.989650        -3.088254   \n",
       "LS1687         2.453067         5.751100        -0.022528   \n",
       "LS1688         2.236399         5.897976        -0.595665   \n",
       "LS1689         2.382049         5.937481        -0.725158   \n",
       "LS1690        -1.398547         0.804571         0.317857   \n",
       "LS1695         2.073567         3.641629         2.142900   \n",
       "LS1696         1.844867         4.334948         0.766733   \n",
       "LS1714         5.486691         4.809341        -1.066208   \n",
       "LS1715         1.025660         5.262181         0.781232   \n",
       "LS1716         1.779137         3.745030        -1.015635   \n",
       "LS1717         2.963014         5.690147        -0.593781   \n",
       "LS1721         1.100419         4.877656        -0.690034   \n",
       "LS1723         1.992433         5.013657        -1.080403   \n",
       "LS1726         2.147994         5.033723        -1.022448   \n",
       "LS1734         3.268903         3.993818         0.227433   \n",
       "LS1736         1.719055         4.085430        -1.713736   \n",
       "LS2000         2.039411         5.005128        -0.951659   \n",
       "LS2001         1.502118         4.929460        -0.837613   \n",
       "LS2002         3.109235         4.180444         0.710103   \n",
       "LS2003         1.757261         4.146735         1.273049   \n",
       "LS2004         1.855586         4.230623         0.831728   \n",
       "LS2005        -0.298996         0.690732         0.314440   \n",
       "LS2006         2.897887         5.777997        -1.100157   \n",
       "LS2007         0.512627         3.063695        -2.522615   \n",
       "LS2008        -0.571245         2.502077        -2.515733   \n",
       "\n",
       "        total_dipole_NPA_4-3-2  dipole_x_5-1-25  dipole_y_5-1-25  \\\n",
       "LS1621                4.625290        -1.863747        -1.024725   \n",
       "LS1622                1.228930        -1.792450         1.775714   \n",
       "LS1630                6.205375        -2.423660        -0.080908   \n",
       "LS1641                4.886313        -0.358293        -4.037364   \n",
       "LS1642                4.027951        -0.026167        -2.789254   \n",
       "LS1643                4.157628        -0.511415        -4.388000   \n",
       "LS1661                3.357936        -0.277978        -2.424097   \n",
       "LS1663                1.852444        -3.514183        -2.974375   \n",
       "LS1685                3.675042        -7.155545         5.593327   \n",
       "LS1687                6.252455       -11.399283        -1.991069   \n",
       "LS1688                6.335805        -2.982284        -2.336775   \n",
       "LS1689                6.438454        -2.485730        -3.722371   \n",
       "LS1690                1.644476        -1.558853         1.858467   \n",
       "LS1695                4.706715       -11.384409        -0.486646   \n",
       "LS1696                4.773174       -12.476687         0.140135   \n",
       "LS1714                7.373625        -6.454530        -0.513473   \n",
       "LS1715                5.417827        -5.428762        -0.979489   \n",
       "LS1716                4.268735        -2.136904        -2.841961   \n",
       "LS1717                6.442810        -5.030320        -3.296833   \n",
       "LS1721                5.047633        -0.416672        -1.441733   \n",
       "LS1723                5.502165        -2.180662        -1.438845   \n",
       "LS1726                5.567553        -1.716358        -2.835314   \n",
       "LS1734                5.166046        -9.957367         0.100076   \n",
       "LS1736                4.752134        -1.135018        -0.828801   \n",
       "LS2000                5.487819        -2.250713        -1.483738   \n",
       "LS2001                5.220874        -1.333802        -0.257990   \n",
       "LS2002                5.258108        -9.865891         0.092649   \n",
       "LS2003                4.680174        -7.145848        -1.708733   \n",
       "LS2004                4.693948        -9.267983        -0.566135   \n",
       "LS2005                0.815710        -8.245305         2.298315   \n",
       "LS2006                6.556931        -2.012181        -2.743005   \n",
       "LS2007                4.001575        -0.062848        -2.848095   \n",
       "LS2008                3.593832        -0.230090        -2.748817   \n",
       "\n",
       "        dipole_z_5-1-25  total_dipole_5-1-25  dipole_x_10-11-12  \\\n",
       "LS1621       -10.519571              10.7325         -10.180303   \n",
       "LS1622        -9.693686              10.0166          -9.997078   \n",
       "LS1630       -11.988257              12.2311         -11.868040   \n",
       "LS1641       -10.465565              11.2231          -9.141267   \n",
       "LS1642        -9.003339               9.4256          -8.055489   \n",
       "LS1643        -8.653471               9.7159          -7.446441   \n",
       "LS1661        -9.687418               9.9899          -8.829480   \n",
       "LS1663        -8.474539               9.6444          -8.508090   \n",
       "LS1685         4.072631               9.9535          -9.556989   \n",
       "LS1687        -6.751301              13.3973         -12.420068   \n",
       "LS1688       -13.627574              14.1445         -13.501210   \n",
       "LS1689        -8.773376               9.8492          -8.453912   \n",
       "LS1690       -12.048597              12.2904         -12.278072   \n",
       "LS1695        -5.881054              12.8230         -12.315806   \n",
       "LS1696        -5.798199              13.7589         -13.403546   \n",
       "LS1714       -10.694788              12.5021         -12.145772   \n",
       "LS1715       -10.826897              12.1512         -11.717568   \n",
       "LS1716       -11.377507              11.9202         -10.643380   \n",
       "LS1717       -10.357278              11.9769         -10.499002   \n",
       "LS1721        -9.443114               9.5616          -8.749104   \n",
       "LS1723       -11.726877              12.0144         -11.279244   \n",
       "LS1726       -12.845691              13.2664         -11.899250   \n",
       "LS1734        -5.393371              11.3247         -11.017759   \n",
       "LS1736       -11.819579              11.9028         -11.645751   \n",
       "LS2000       -11.805484              12.1093         -11.351394   \n",
       "LS2001        -8.744907               8.8499          -8.530673   \n",
       "LS2002        -5.392643              11.2439         -10.923988   \n",
       "LS2003        -4.769495               8.7597          -7.875757   \n",
       "LS2004        -2.218938               9.5467          -8.937561   \n",
       "LS2005        -2.312654               8.8665          -8.764262   \n",
       "LS2006       -11.349897              11.8488         -10.564402   \n",
       "LS2007        -9.068211               9.5052          -8.153381   \n",
       "LS2008        -9.224952               9.6285          -8.229299   \n",
       "\n",
       "        dipole_y_10-11-12  dipole_z_10-11-12  total_dipole_10-11-12  \\\n",
       "LS1621          -3.377346          -0.374115                10.7325   \n",
       "LS1622          -0.459818          -0.424948                10.0166   \n",
       "LS1630          -2.951194          -0.197577                12.2311   \n",
       "LS1641          -6.508608          -0.178920                11.2231   \n",
       "LS1642          -4.859899          -0.575514                 9.4256   \n",
       "LS1643          -6.239694           0.123980                 9.7159   \n",
       "LS1661          -4.660438          -0.346673                 9.9899   \n",
       "LS1663          -4.437991          -0.964796                 9.6444   \n",
       "LS1685           0.697817          -2.692667                 9.9535   \n",
       "LS1687          -5.018041           0.221882                13.3973   \n",
       "LS1688          -4.141511           0.794052                14.1445   \n",
       "LS1689          -4.938563           1.071911                 9.8492   \n",
       "LS1690           0.397518          -0.378862                12.2904   \n",
       "LS1695          -3.376060          -1.162555                12.8230   \n",
       "LS1696          -3.056963          -0.553522                13.7589   \n",
       "LS1714          -2.960742          -0.131599                12.5021   \n",
       "LS1715          -3.217272           0.017329                12.1512   \n",
       "LS1716          -5.360639          -0.269767                11.9202   \n",
       "LS1717          -5.763033          -0.069566                11.9769   \n",
       "LS1721          -3.531566          -1.551069                 9.5616   \n",
       "LS1723          -4.128266          -0.285089                12.0144   \n",
       "LS1726          -5.790238          -0.936835                13.2664   \n",
       "LS1734          -2.617476           0.073576                11.3247   \n",
       "LS1736          -2.441910          -0.301961                11.9028   \n",
       "LS2000          -4.210353          -0.235410                12.1093   \n",
       "LS2001          -2.292192          -0.540799                 8.8499   \n",
       "LS2002          -2.662654          -0.041862                11.2439   \n",
       "LS2003          -3.784200          -0.619095                 8.7597   \n",
       "LS2004          -3.055767           1.386363                 9.5467   \n",
       "LS2005           0.012556           1.342844                 8.8665   \n",
       "LS2006          -5.356333          -0.310172                11.8488   \n",
       "LS2007          -4.865442          -0.444863                 9.5052   \n",
       "LS2008          -4.988768          -0.315445                 9.6285   \n",
       "\n",
       "        dipole_x_11-12-5  dipole_y_11-12-5  dipole_z_11-12-5  \\\n",
       "LS1621          3.360200        -10.191187          0.183729   \n",
       "LS1622          5.574201         -8.321639          0.110408   \n",
       "LS1630          4.792779        -11.252821         -0.047437   \n",
       "LS1641          1.142262        -11.164756         -0.013786   \n",
       "LS1642          1.532936         -9.295079          0.303879   \n",
       "LS1643          0.007991         -9.715069         -0.126561   \n",
       "LS1661          2.229749         -9.737870         -0.041068   \n",
       "LS1663          2.185315         -9.348054          0.923297   \n",
       "LS1685          6.633991         -7.408098          0.428594   \n",
       "LS1687          2.833491        -13.081945         -0.567547   \n",
       "LS1688          4.328670        -13.456430         -0.502412   \n",
       "LS1689          0.870040         -9.759492         -1.001193   \n",
       "LS1690          7.126147         -9.975199          0.875234   \n",
       "LS1695          3.735628        -12.091891          2.063894   \n",
       "LS1696          4.715879        -12.821007          1.639730   \n",
       "LS1714          4.958290        -11.475204          0.195348   \n",
       "LS1715          4.521532        -11.278532          0.054741   \n",
       "LS1716          2.168237        -11.720187          0.163470   \n",
       "LS1717          1.737053        -11.850278         -0.001517   \n",
       "LS1721          2.432297         -9.138500          1.412922   \n",
       "LS1723          3.475323        -11.500452          0.083259   \n",
       "LS1726          2.594932        -12.986251          0.787582   \n",
       "LS1734          3.857758        -10.643329          0.291319   \n",
       "LS1736          4.621421        -10.969050         -0.004128   \n",
       "LS2000          3.457522        -11.605093          0.063226   \n",
       "LS2001          3.300734         -8.202363          0.381280   \n",
       "LS2002          3.795419        -10.580348          0.275719   \n",
       "LS2003          1.146460         -8.657370          0.683067   \n",
       "LS2004          2.732288         -9.114966         -0.769218   \n",
       "LS2005          5.054539         -7.283170         -0.150833   \n",
       "LS2006          2.125537        -11.654843          0.199543   \n",
       "LS2007          1.589606         -9.369005          0.207240   \n",
       "LS2008          1.771116         -9.464238         -0.004656   \n",
       "\n",
       "        total_dipole_11-12-5  nbo_atom_1  nbo_atom_3  nbo_atom_5  nbo_atom_11  \\\n",
       "LS1621               10.7325    -0.08843    -0.47523    -0.44749     -0.37993   \n",
       "LS1622               10.0166    -0.08915    -0.47427    -0.44016     -0.37463   \n",
       "LS1630               12.2311    -0.08857    -0.47873    -0.44479     -0.40645   \n",
       "LS1641               11.2231    -0.09182    -0.47461    -0.45328     -0.42328   \n",
       "LS1642                9.4256    -0.09158    -0.47581    -0.45509     -0.39992   \n",
       "LS1643                9.7159    -0.09197    -0.47519    -0.45436     -0.39890   \n",
       "LS1661                9.9899    -0.09186    -0.47521    -0.45347     -0.39542   \n",
       "LS1663                9.6444    -0.09251    -0.47126    -0.47939     -0.39662   \n",
       "LS1685                9.9535    -0.03720    -0.43155    -0.60912     -0.40897   \n",
       "LS1687               13.3973    -0.06062    -0.44304    -0.42439     -0.41659   \n",
       "LS1688               14.1445    -0.06939    -0.43614    -0.43349     -0.41144   \n",
       "LS1689                9.8492    -0.07145    -0.43610    -0.40601     -0.41273   \n",
       "LS1690               12.2904    -0.07024    -0.43623    -0.42184     -0.38073   \n",
       "LS1695               12.8230    -0.06184    -0.44522    -0.43596     -0.39021   \n",
       "LS1696               13.7589    -0.06198    -0.44276    -0.43771     -0.38994   \n",
       "LS1714               12.5021    -0.09227    -0.47449    -0.42953     -0.40692   \n",
       "LS1715               12.1512    -0.08073    -0.47425    -0.43243     -0.40725   \n",
       "LS1716               11.9202    -0.09008    -0.47264    -0.44077     -0.40886   \n",
       "LS1717               11.9769    -0.10812    -0.46729    -0.43932     -0.40840   \n",
       "LS1721                9.5616    -0.08819    -0.47516    -0.44883     -0.37348   \n",
       "LS1723               12.0144    -0.08823    -0.47511    -0.44897     -0.38448   \n",
       "LS1726               13.2664    -0.08817    -0.47589    -0.44929     -0.38859   \n",
       "LS1734               11.3247    -0.08049    -0.47123    -0.45488     -0.38154   \n",
       "LS1736               11.9028    -0.09096    -0.46709    -0.46040     -0.37797   \n",
       "LS2000               12.1093    -0.08828    -0.47568    -0.44826     -0.38491   \n",
       "LS2001                8.8499    -0.08856    -0.47578    -0.44559     -0.38108   \n",
       "LS2002               11.2439    -0.08038    -0.46965    -0.45354     -0.38168   \n",
       "LS2003                8.7597    -0.08074    -0.47337    -0.44872     -0.38033   \n",
       "LS2004                9.5467    -0.06261    -0.44465    -0.41870     -0.39098   \n",
       "LS2005                8.8665    -0.06326    -0.44347    -0.41203     -0.38671   \n",
       "LS2006               11.8488    -0.08846    -0.47468    -0.44751     -0.40798   \n",
       "LS2007                9.5052    -0.09191    -0.47504    -0.45346     -0.39464   \n",
       "LS2008                9.6285    -0.09193    -0.47612    -0.45646     -0.39815   \n",
       "\n",
       "        nbo_atom_8  nbo_atom_12  nbo_atom_14  hirshfeld_atom_1  \\\n",
       "LS1621    -0.15272      0.38106     -0.70421          0.025547   \n",
       "LS1622    -0.12868      0.37809     -0.70028          0.026314   \n",
       "LS1630     0.35094      0.38062     -0.70331          0.025554   \n",
       "LS1641     0.35712      0.38659     -0.70487          0.024283   \n",
       "LS1642    -0.14776      0.38112     -0.68620          0.024290   \n",
       "LS1643    -0.14709      0.37978     -0.68904          0.024157   \n",
       "LS1661    -0.14568      0.38581     -0.70316          0.024401   \n",
       "LS1663    -0.15212      0.21677     -0.85877          0.016741   \n",
       "LS1685    -0.11941      0.36686     -0.70339          0.023801   \n",
       "LS1687     0.34914      0.38972     -0.69268          0.024342   \n",
       "LS1688     0.34942      0.38615     -0.71776          0.024974   \n",
       "LS1689     0.35380      0.38268     -0.70972          0.026692   \n",
       "LS1690    -0.12573      0.38286     -0.71030          0.026036   \n",
       "LS1695    -0.15204      0.38299     -0.68629          0.024205   \n",
       "LS1696    -0.15207      0.38328     -0.68686          0.023850   \n",
       "LS1714     0.35077      0.38326     -0.71075          0.028675   \n",
       "LS1715     0.35136      0.38766     -0.71328          0.026607   \n",
       "LS1716     0.17972      0.38067     -0.70664          0.025237   \n",
       "LS1717     0.35137      0.37065     -0.70489          0.028884   \n",
       "LS1721    -0.14155      0.38149     -0.70357          0.025453   \n",
       "LS1723     0.03681      0.38209     -0.70459          0.025265   \n",
       "LS1726     0.02656      0.38241     -0.70468          0.025199   \n",
       "LS1734    -0.14956      0.38587     -0.69014          0.022946   \n",
       "LS1736    -0.14262      0.38669     -0.71040          0.023749   \n",
       "LS2000     0.01903      0.38209     -0.70436          0.025348   \n",
       "LS2001     0.00913      0.38120     -0.70336          0.025693   \n",
       "LS2002    -0.14108      0.38374     -0.68757          0.023048   \n",
       "LS2003    -0.14028      0.38258     -0.68695          0.023537   \n",
       "LS2004    -0.14841      0.37895     -0.67903          0.026146   \n",
       "LS2005    -0.12054      0.37564     -0.67526          0.026789   \n",
       "LS2006     0.35137      0.38101     -0.70585          0.025336   \n",
       "LS2007    -0.14621      0.37912     -0.68692          0.024340   \n",
       "LS2008    -0.14723      0.39559     -0.71355          0.024077   \n",
       "\n",
       "        hirshfeld_atom_3  hirshfeld_atom_5  hirshfeld_atom_11  \\\n",
       "LS1621         -0.131285         -0.108202          -0.053677   \n",
       "LS1622         -0.130423         -0.105224          -0.048963   \n",
       "LS1630         -0.132824         -0.107156          -0.068794   \n",
       "LS1641         -0.130683         -0.107141          -0.086512   \n",
       "LS1642         -0.132222         -0.108067          -0.063147   \n",
       "LS1643         -0.132262         -0.109256          -0.071207   \n",
       "LS1661         -0.131333         -0.107481          -0.071238   \n",
       "LS1663         -0.131975         -0.113060          -0.101082   \n",
       "LS1685         -0.074823         -0.087509          -0.055870   \n",
       "LS1687         -0.061243         -0.111462          -0.072595   \n",
       "LS1688         -0.057056         -0.106762          -0.072385   \n",
       "LS1689         -0.052439         -0.093679          -0.073386   \n",
       "LS1690         -0.055658         -0.101847          -0.053734   \n",
       "LS1695         -0.069494         -0.125525          -0.054529   \n",
       "LS1696         -0.070259         -0.126166          -0.054533   \n",
       "LS1714         -0.135801         -0.108313          -0.068998   \n",
       "LS1715         -0.135962         -0.107788          -0.069404   \n",
       "LS1716         -0.133060         -0.108843          -0.069272   \n",
       "LS1717         -0.128729         -0.110334          -0.068756   \n",
       "LS1721         -0.131368         -0.109057          -0.053241   \n",
       "LS1723         -0.131155         -0.108963          -0.057719   \n",
       "LS1726         -0.131457         -0.109070          -0.060054   \n",
       "LS1734         -0.117635         -0.121963          -0.055087   \n",
       "LS1736         -0.120986         -0.110731          -0.055879   \n",
       "LS2000         -0.131267         -0.108592          -0.057934   \n",
       "LS2001         -0.131395         -0.107552          -0.055570   \n",
       "LS2002         -0.123863         -0.123639          -0.055621   \n",
       "LS2003         -0.125552         -0.121112          -0.054418   \n",
       "LS2004         -0.066246         -0.118713          -0.054583   \n",
       "LS2005         -0.066188         -0.115995          -0.050820   \n",
       "LS2006         -0.130623         -0.108015          -0.069252   \n",
       "LS2007         -0.132077         -0.108984          -0.069101   \n",
       "LS2008         -0.130900         -0.107151          -0.074275   \n",
       "\n",
       "        hirshfeld_atom_8  hirshfeld_atom_12  hirshfeld_atom_14  cm5_atom_1  \\\n",
       "LS1621         -0.004202           0.164793          -0.144169    0.022678   \n",
       "LS1622          0.000883           0.165090          -0.141094    0.023349   \n",
       "LS1630          0.101392           0.163014          -0.144128    0.022714   \n",
       "LS1641          0.099119           0.172918          -0.147755    0.021639   \n",
       "LS1642         -0.007035           0.178655          -0.145062    0.021741   \n",
       "LS1643         -0.007840           0.175047          -0.146515    0.021659   \n",
       "LS1661         -0.006699           0.174022          -0.146607    0.021757   \n",
       "LS1663         -0.012914           0.071966          -0.190632    0.015263   \n",
       "LS1685         -0.000818           0.170249          -0.142555    0.019028   \n",
       "LS1687          0.099730           0.166376          -0.138327    0.023777   \n",
       "LS1688          0.099353           0.167076          -0.151648    0.025570   \n",
       "LS1689          0.102310           0.167372          -0.147201    0.027371   \n",
       "LS1690         -0.000250           0.169438          -0.146598    0.026506   \n",
       "LS1695         -0.006549           0.170535          -0.134545    0.024704   \n",
       "LS1696         -0.006668           0.170582          -0.134819    0.024347   \n",
       "LS1714          0.101421           0.156937          -0.148118    0.020630   \n",
       "LS1715          0.101778           0.159820          -0.149493    0.021824   \n",
       "LS1716          0.044806           0.163778          -0.145955    0.020616   \n",
       "LS1717          0.101998           0.161405          -0.144864    0.029690   \n",
       "LS1721         -0.007212           0.165124          -0.144067    0.022578   \n",
       "LS1723          0.032694           0.164170          -0.144724    0.022421   \n",
       "LS1726          0.026464           0.164311          -0.144860    0.022361   \n",
       "LS1734         -0.006035           0.168803          -0.135727    0.018831   \n",
       "LS1736         -0.008419           0.163068          -0.147144    0.020900   \n",
       "LS2000          0.026872           0.164687          -0.144535    0.022491   \n",
       "LS2001          0.025714           0.164934          -0.143759    0.022794   \n",
       "LS2002         -0.008130           0.170761          -0.134284    0.018896   \n",
       "LS2003         -0.007259           0.170174          -0.133649    0.019322   \n",
       "LS2004         -0.003000           0.170108          -0.130314    0.026638   \n",
       "LS2005          0.003132           0.170451          -0.127442    0.027196   \n",
       "LS2006          0.101499           0.163046          -0.145432    0.022465   \n",
       "LS2007         -0.006334           0.174270          -0.145630    0.021788   \n",
       "LS2008         -0.007639           0.178195          -0.146054    0.021285   \n",
       "\n",
       "        cm5_atom_3  cm5_atom_5  cm5_atom_11  cm5_atom_8  cm5_atom_12  \\\n",
       "LS1621   -0.207793   -0.353321    -0.314159   -0.057741     0.397356   \n",
       "LS1622   -0.206961   -0.349665    -0.308815   -0.048492     0.396865   \n",
       "LS1630   -0.209683   -0.351706    -0.328876    0.121196     0.394774   \n",
       "LS1641   -0.207058   -0.359136    -0.325890    0.118888     0.396393   \n",
       "LS1642   -0.208504   -0.358790    -0.303767   -0.060546     0.401310   \n",
       "LS1643   -0.208344   -0.359811    -0.308898   -0.061287     0.397066   \n",
       "LS1661   -0.207715   -0.359614    -0.310404   -0.060201     0.397235   \n",
       "LS1663   -0.206961   -0.373508    -0.310716   -0.066306     0.250657   \n",
       "LS1685   -0.328432   -0.480994    -0.325162   -0.050049     0.406323   \n",
       "LS1687   -0.303697   -0.336342    -0.333751    0.119338     0.388345   \n",
       "LS1688   -0.300334   -0.350733    -0.332667    0.118934     0.404506   \n",
       "LS1689   -0.296184   -0.337628    -0.332993    0.122039     0.403364   \n",
       "LS1690   -0.299202   -0.345370    -0.312982   -0.049611     0.405935   \n",
       "LS1695   -0.309297   -0.346799    -0.318372   -0.060167     0.390427   \n",
       "LS1696   -0.309959   -0.347590    -0.318219   -0.060286     0.390594   \n",
       "LS1714   -0.210348   -0.355196    -0.327989    0.121228     0.392666   \n",
       "LS1715   -0.210073   -0.358485    -0.327734    0.121607     0.397403   \n",
       "LS1716   -0.208005   -0.352692    -0.329479    0.104699     0.396613   \n",
       "LS1717   -0.203586   -0.350837    -0.329879    0.121828     0.394420   \n",
       "LS1721   -0.207856   -0.353833    -0.314027   -0.058011     0.397350   \n",
       "LS1723   -0.207735   -0.354052    -0.318551    0.025290     0.396895   \n",
       "LS1726   -0.208158   -0.353928    -0.320997    0.019812     0.397089   \n",
       "LS1734   -0.193686   -0.351142    -0.315972   -0.057037     0.389786   \n",
       "LS1736   -0.196515   -0.360634    -0.315522   -0.058957     0.399057   \n",
       "LS2000   -0.207951   -0.353554    -0.318784    0.020186     0.397501   \n",
       "LS2001   -0.208052   -0.352376    -0.316299    0.019059     0.397638   \n",
       "LS2002   -0.198970   -0.351195    -0.315716   -0.058714     0.390109   \n",
       "LS2003   -0.200512   -0.348868    -0.314315   -0.057812     0.389576   \n",
       "LS2004   -0.306063   -0.338993    -0.318094   -0.056654     0.388163   \n",
       "LS2005   -0.305985   -0.335911    -0.313474   -0.046223     0.387864   \n",
       "LS2006   -0.207143   -0.352835    -0.329736    0.121310     0.395355   \n",
       "LS2007   -0.208189   -0.359219    -0.306891   -0.059784     0.396010   \n",
       "LS2008   -0.207693   -0.360626    -0.307762   -0.061188     0.396714   \n",
       "\n",
       "        cm5_atom_14  B1_4-6  B5_4-6    L_4-6  loc_B5_4-6  B1_B5_angle_4-6  \\\n",
       "LS1621    -0.340934  1.6998  3.2852   6.2555      3.7923          91.0482   \n",
       "LS1622    -0.337926  2.0629  3.2858   7.6548      3.7996         109.0228   \n",
       "LS1630    -0.340945  1.7537  5.1704   6.2538      4.6347          93.1665   \n",
       "LS1641    -0.344853  1.6998  4.3976   7.1148      3.3635         105.1094   \n",
       "LS1642    -0.341222  2.2087  8.2551   7.7595      5.1398         120.4247   \n",
       "LS1643    -0.342716  1.7620  8.7601   8.7068      7.0913          99.1564   \n",
       "LS1661    -0.343752  1.6997  4.4108   6.2323      3.3432         102.0138   \n",
       "LS1663    -0.382677  1.9246  5.5964   7.0254      4.0044         118.5855   \n",
       "LS1685    -0.339065  2.1128  3.2527   7.6442      3.8971          71.3105   \n",
       "LS1687    -0.335498  1.7413  4.3087   7.1580      5.9734          94.5633   \n",
       "LS1688    -0.347892  1.7213  4.2037   7.2146      6.0523          94.6310   \n",
       "LS1689    -0.343774  1.7450  4.2194   7.2062      6.0373          94.9026   \n",
       "LS1690    -0.343124  2.1666  3.3084   7.6007      3.7964          68.7386   \n",
       "LS1695    -0.331824  1.6994  3.2595   6.2760      3.8311          92.6500   \n",
       "LS1696    -0.332093  1.6994  3.2610   6.2769      3.8301          92.5133   \n",
       "LS1714    -0.344699  1.7655  5.1554   6.2534      4.6540          91.9920   \n",
       "LS1715    -0.345969  1.7644  5.1469   6.2529      4.6643          92.0532   \n",
       "LS1716    -0.342661  1.7593  4.2595   7.1652      5.9909          93.4766   \n",
       "LS1717    -0.341622  1.7695  4.2773   7.1577      5.9788          93.3735   \n",
       "LS1721    -0.340859  2.0750  4.1600  13.2867     11.9748          78.0353   \n",
       "LS1723    -0.341470  2.3511  7.7902   8.6336      6.1786         125.1577   \n",
       "LS1726    -0.341596  1.8509  7.9583   9.5820      8.2393         102.1375   \n",
       "LS1734    -0.333120  2.3646  8.2935   6.2695      1.1278         124.3500   \n",
       "LS1736    -0.343811  2.3620  9.0409   6.2536      2.4985         100.3075   \n",
       "LS2000    -0.341283  1.9325  6.6396   8.3148      4.4320         114.4992   \n",
       "LS2001    -0.340536  1.9508  8.2599   9.3993      6.3123         108.6521   \n",
       "LS2002    -0.331794  2.0542  7.1924   6.2581      0.4494         107.1687   \n",
       "LS2003    -0.331172  2.0712  8.8024   6.2615      1.2661         104.8160   \n",
       "LS2004    -0.327805  1.6994  3.2578   6.2759      3.8310          92.2623   \n",
       "LS2005    -0.324989  2.0969  3.2563   7.5974      3.8390          72.3669   \n",
       "LS2006    -0.342138  1.7535  4.2642   7.1628      5.9874          93.5804   \n",
       "LS2007    -0.341856  1.7822  7.1261   7.7247      5.6515         103.5318   \n",
       "LS2008    -0.343869  1.9217  9.2254   9.3594      7.9348         119.6014   \n",
       "\n",
       "        B1_6-4  B5_6-4    L_6-4  loc_B5_6-4  B1_B5_angle_6-4  B1_4-3  B5_4-3  \\\n",
       "LS1621  1.9316  4.8590   7.1930      4.5669         119.2581  1.6991  6.1440   \n",
       "LS1622  1.9312  4.8565   7.1931      4.5734         119.1972  1.6991  6.1445   \n",
       "LS1630  1.9315  4.8603   7.1936      4.5640         119.3033  1.6991  6.1418   \n",
       "LS1641  1.9157  4.8849   7.1951      4.5619         119.6950  1.6991  6.1833   \n",
       "LS1642  1.9000  4.8947   7.1913      4.5492         119.8334  1.6991  6.1852   \n",
       "LS1643  1.9467  4.8443   7.2284      4.6589         118.6067  1.6991  6.2148   \n",
       "LS1661  1.9155  4.8802   7.1982      4.5721         119.5792  1.6991  6.1863   \n",
       "LS1663  2.0946  5.6026   7.3048      3.6952          90.5267  1.6991  6.6032   \n",
       "LS1685  1.8033  8.6841   6.6189      4.8275         114.5387  1.7088  6.8776   \n",
       "LS1687  3.0390  8.1954   7.6051      2.2617          93.4312  1.8334  6.5018   \n",
       "LS1688  2.1699  9.3895   7.2279      1.6749         126.0737  1.8007  6.4265   \n",
       "LS1689  2.2394  8.3949   7.2608      2.7456         114.6659  2.0417  7.1919   \n",
       "LS1690  2.2071  8.2052   7.2475      1.4898         123.0837  1.7216  6.4993   \n",
       "LS1695  2.3216  8.1075   7.7843      1.6044         113.4549  1.8869  6.6985   \n",
       "LS1696  2.3114  9.2707   7.7812      0.5685         105.2520  1.9214  6.8480   \n",
       "LS1714  1.8736  3.7040   6.2748      4.0935         116.6017  1.6991  5.0505   \n",
       "LS1715  1.8856  3.9287  10.4604      8.0143         168.2284  1.6991  8.3885   \n",
       "LS1716  1.9337  4.8772   7.1902      4.4467         123.6816  1.6991  6.1322   \n",
       "LS1717  1.9369  6.0804   8.3229      4.2628         134.4989  1.6991  7.9728   \n",
       "LS1721  1.9317  4.8581   7.1903      4.5614         119.4571  1.6991  6.1409   \n",
       "LS1723  1.9320  4.8623   7.1914      4.5596         119.3175  1.6991  6.1418   \n",
       "LS1726  1.9333  4.8596   7.1926      4.5626         119.3016  1.6991  6.1404   \n",
       "LS1734  1.9243  6.5501   7.7629      2.2567         120.0339  1.6991  6.3235   \n",
       "LS1736  2.0588  4.8342   7.2028      4.5590         117.7583  1.6991  6.1349   \n",
       "LS2000  1.9293  4.8659   7.1889      4.5527         119.5422  1.6991  6.1394   \n",
       "LS2001  1.9294  4.8654   7.1889      4.5553         119.4628  1.6991  6.1410   \n",
       "LS2002  1.8536  6.5609   7.7363      2.2236         121.1417  1.6991  6.3238   \n",
       "LS2003  1.8573  6.5594   7.7325      2.2269         120.7106  1.6991  6.3232   \n",
       "LS2004  2.4331  8.4781   7.7873      1.6569          96.1467  2.2478  7.2394   \n",
       "LS2005  2.4226  8.2556   7.7836      1.2748          89.1533  2.1179  7.2473   \n",
       "LS2006  1.9315  4.8637   7.1897      4.5572         119.4106  1.6991  6.1399   \n",
       "LS2007  1.9394  4.8469   7.2228      4.6534         118.8188  1.6991  6.2127   \n",
       "LS2008  1.9062  4.9021   7.1833      4.5087         119.3391  1.6991  6.1617   \n",
       "\n",
       "         L_4-3  loc_B5_4-3  B1_B5_angle_4-3  B1_11-6  B5_11-6   L_11-6  \\\n",
       "LS1621  3.5204      1.3677         144.7530   1.9574   7.3621   5.4352   \n",
       "LS1622  3.5161      1.3591         144.8043   2.3398   7.3589   5.4389   \n",
       "LS1630  3.5222      1.3708         144.6567   2.0843   7.3651   5.4272   \n",
       "LS1641  3.5017      1.3199         132.8759   1.9926   7.4122   5.4308   \n",
       "LS1642  3.4990      1.3094         132.7625   2.9663   7.4027   5.4300   \n",
       "LS1643  3.4768      1.2793         130.3102   2.0781   7.4734   5.3958   \n",
       "LS1661  3.4990      1.3159         132.6797   1.8882   7.4077   5.4360   \n",
       "LS1663  3.4923     -1.5099         110.6668   2.3022   7.8022   5.3326   \n",
       "LS1685  7.2750      5.9483         103.4020   4.1122   7.4074  10.6909   \n",
       "LS1687  6.7036      4.2812         108.5665   3.0604   7.6856   8.3374   \n",
       "LS1688  7.5762      6.4011         110.2659   2.2528   7.5670   9.9083   \n",
       "LS1689  7.8964      2.9021         128.2878   2.2667   7.5657  10.0440   \n",
       "LS1690  6.5485      4.2805         110.7787   2.3956   7.5573   8.9693   \n",
       "LS1695  6.1702      3.8825         118.1497   2.2736   7.8129   7.9409   \n",
       "LS1696  7.2765      5.9199         113.7033   2.2679   7.8167   8.7716   \n",
       "LS1714  3.3606      0.9383         119.3347   1.8907   6.3954   5.1802   \n",
       "LS1715  5.1334      3.4466         115.7207   1.9712   9.9871   6.5319   \n",
       "LS1716  3.4873      1.3894         133.8034   2.0950   7.3652   5.3949   \n",
       "LS1717  3.3481      0.0086         137.1586   1.9839   9.0666   5.3009   \n",
       "LS1721  3.5232      1.3736         144.5645   2.3325  10.4049   5.4448   \n",
       "LS1723  3.5223      1.3714         144.6481   3.0575   9.0990   6.4769   \n",
       "LS1726  3.5239      1.3757         144.5879   2.2886  10.0862   6.1149   \n",
       "LS1734  3.5805      1.4049         177.1419   3.7480   7.7605   9.3559   \n",
       "LS1736  3.5346      1.3735         143.9965   3.6188   7.2954   9.2621   \n",
       "LS2000  3.5248      1.3769         144.4812   2.3298   7.9709   6.0513   \n",
       "LS2001  3.5217      1.3699         144.5764   2.3757   9.7109   6.8414   \n",
       "LS2002  3.5746      1.4073         177.0822   2.8967   7.7899   8.3871   \n",
       "LS2003  3.5775      1.4020         177.1645   2.9488   7.7805   9.7882   \n",
       "LS2004  7.8135      2.7510         136.9121   2.2965   7.8111   9.4158   \n",
       "LS2005  7.8631      2.7256         132.9205   2.9351   7.8086   9.3687   \n",
       "LS2006  3.5231      1.3738         144.5419   2.1178   7.3673   5.4284   \n",
       "LS2007  3.4778      1.2817         130.4224   2.0966   7.4640   5.4027   \n",
       "LS2008  3.5165      1.3514         134.0518   2.8709   7.3420   5.4793   \n",
       "\n",
       "        loc_B5_11-6  B1_B5_angle_11-6  bond_length_11-12  bond_length_3-11  \\\n",
       "LS1621       3.2715          119.8702           2.178381          3.594038   \n",
       "LS1622       3.2800          111.8759           2.181839          3.594216   \n",
       "LS1630       3.2544          116.8778           2.177188          3.591680   \n",
       "LS1641       3.2139          117.3367           2.263051          3.609350   \n",
       "LS1642       3.2233           97.6683           2.268091          3.603733   \n",
       "LS1643       3.1146          112.8403           2.274812          3.603294   \n",
       "LS1661       3.2334          119.3167           2.268127          3.605632   \n",
       "LS1663       0.0168           94.0327           2.664355          3.594834   \n",
       "LS1685       2.3121          165.9953           2.141072          3.658606   \n",
       "LS1687       3.1737           87.9733           2.172981          3.672568   \n",
       "LS1688       2.6479          109.8198           2.173526          3.687187   \n",
       "LS1689       2.6606          109.8404           2.177946          3.698046   \n",
       "LS1690       2.6958          107.2860           2.181072          3.682374   \n",
       "LS1695       2.8511           99.8854           2.162619          3.661546   \n",
       "LS1696       2.8345          100.1009           2.163058          3.661940   \n",
       "LS1714       2.5905          104.1053           2.181160          3.596211   \n",
       "LS1715       4.7225          100.8456           2.183763          3.599443   \n",
       "LS1716       3.2629          115.5568           2.176901          3.598103   \n",
       "LS1717       2.0096          123.2331           2.171857          3.593926   \n",
       "LS1721      -4.1857           98.1781           2.179373          3.593876   \n",
       "LS1723       4.0183          111.5299           2.175911          3.594264   \n",
       "LS1726       4.7516           94.0445           2.173815          3.594476   \n",
       "LS1734       2.9160          152.0837           2.177483          3.581179   \n",
       "LS1736       3.5327           92.8277           2.180404          3.575323   \n",
       "LS2000       4.2201           91.6815           2.174896          3.594552   \n",
       "LS2001       3.6394           95.0239           2.175971          3.594368   \n",
       "LS2002       2.7603           88.4803           2.181137          3.558617   \n",
       "LS2003       2.7933           88.0474           2.182354          3.564569   \n",
       "LS2004       2.8601          100.2594           2.165812          3.663237   \n",
       "LS2005       2.8594           93.1090           2.169635          3.661330   \n",
       "LS2006       3.2477          115.9080           2.176061          3.597780   \n",
       "LS2007       3.1398          113.0324           2.275542          3.602447   \n",
       "LS2008       3.3659           90.0632           2.305779          3.609414   \n",
       "\n",
       "        bond_length_3-12  bond_length_5-11  bond_length_12-14  \\\n",
       "LS1621          4.262064          2.745039           1.973706   \n",
       "LS1622          4.268282          2.745470           1.973025   \n",
       "LS1630          4.267622          2.742675           1.972927   \n",
       "LS1641          4.191478          2.750317           1.980412   \n",
       "LS1642          4.204376          2.748761           1.978709   \n",
       "LS1643          4.184140          2.748798           1.979472   \n",
       "LS1661          4.187883          2.752791           1.980426   \n",
       "LS1663          4.333581          2.727009           2.013282   \n",
       "LS1685          4.330893          2.780686           1.975565   \n",
       "LS1687          4.385170          2.771226           1.974005   \n",
       "LS1688          4.304924          2.697403           1.977447   \n",
       "LS1689          4.319343          2.705031           1.975346   \n",
       "LS1690          4.310617          2.701690           1.976125   \n",
       "LS1695          4.357361          2.778686           1.973958   \n",
       "LS1696          4.358663          2.777014           1.974090   \n",
       "LS1714          4.266262          2.722678           1.973885   \n",
       "LS1715          4.255714          2.711812           1.974220   \n",
       "LS1716          4.264860          2.739053           1.973423   \n",
       "LS1717          4.274288          2.748371           1.973452   \n",
       "LS1721          4.263795          2.747050           1.973655   \n",
       "LS1723          4.262223          2.743710           1.973608   \n",
       "LS1726          4.264251          2.742445           1.973567   \n",
       "LS1734          4.312073          2.769601           1.974318   \n",
       "LS1736          4.210219          2.715982           1.975176   \n",
       "LS2000          4.264549          2.742718           1.973591   \n",
       "LS2001          4.265659          2.743396           1.973480   \n",
       "LS2002          4.301469          2.784245           1.973592   \n",
       "LS2003          4.308510          2.781773           1.973561   \n",
       "LS2004          4.362204          2.787969           1.972691   \n",
       "LS2005          4.367085          2.785117           1.972290   \n",
       "LS2006          4.266723          2.742514           1.973529   \n",
       "LS2007          4.186724          2.749425           1.979267   \n",
       "LS2008          4.197185          2.763225           1.982292   \n",
       "\n",
       "        bond_length_4-12  angle_[11, 6, 4]  angle_[6, 4, 5]  \\\n",
       "LS1621          2.963223        115.225880       123.183505   \n",
       "LS1622          2.969747        115.242874       123.122975   \n",
       "LS1630          2.966716        115.180219       123.174901   \n",
       "LS1641          2.925409        115.488508       122.873644   \n",
       "LS1642          2.936209        115.501921       122.927556   \n",
       "LS1643          2.922278        115.457010       123.038129   \n",
       "LS1661          2.922057        115.626706       122.981755   \n",
       "LS1663          3.092688        114.729343       122.990867   \n",
       "LS1685          2.990188        116.785473       110.294901   \n",
       "LS1687          3.036094        115.897583       122.293488   \n",
       "LS1688          2.994000        114.811220       119.906033   \n",
       "LS1689          2.993972        114.812135       120.321833   \n",
       "LS1690          2.995818        115.128878       119.967298   \n",
       "LS1695          3.027188        116.056954       121.647621   \n",
       "LS1696          3.028957        116.026412       121.620059   \n",
       "LS1714          2.962919        114.924387       122.500652   \n",
       "LS1715          2.958044        114.789628       122.038091   \n",
       "LS1716          2.967273        115.005724       122.968366   \n",
       "LS1717          2.972155        115.220583       123.210394   \n",
       "LS1721          2.964240        115.372524       123.223141   \n",
       "LS1723          2.963272        115.153768       123.179002   \n",
       "LS1726          2.964758        115.088042       123.178011   \n",
       "LS1734          3.011143        114.236255       124.476184   \n",
       "LS1736          2.953980        113.380749       122.006826   \n",
       "LS2000          2.964800        115.132991       123.149117   \n",
       "LS2001          2.965867        115.206968       123.119394   \n",
       "LS2002          3.011572        114.165757       124.517457   \n",
       "LS2003          3.014232        114.274519       124.533621   \n",
       "LS2004          3.029312        116.019277       121.878261   \n",
       "LS2005          3.035084        116.084217       121.658843   \n",
       "LS2006          2.968025        115.053510       123.097336   \n",
       "LS2007          2.924808        115.489911       123.030865   \n",
       "LS2008          2.932289        115.962363       123.096107   \n",
       "\n",
       "        dihedral_[1, 5, 4, 3]  dihedral_[11, 6, 4, 5]  \n",
       "LS1621               3.866926                4.982389  \n",
       "LS1622               3.817904                5.056583  \n",
       "LS1630               3.886540                4.792056  \n",
       "LS1641               2.315135                5.944809  \n",
       "LS1642               2.373212                6.613158  \n",
       "LS1643               1.443926                4.006796  \n",
       "LS1661               2.208761                6.127085  \n",
       "LS1663               1.471326                3.017690  \n",
       "LS1685              30.293878               39.324441  \n",
       "LS1687               6.322174               14.179659  \n",
       "LS1688               5.889294                7.370325  \n",
       "LS1689               5.275517                9.993310  \n",
       "LS1690               5.759962                8.415505  \n",
       "LS1695               4.873795               21.356673  \n",
       "LS1696               4.889655               21.033770  \n",
       "LS1714               1.768053                1.399416  \n",
       "LS1715               3.197660                1.828063  \n",
       "LS1716               3.281352                4.689611  \n",
       "LS1717               0.466122                4.040474  \n",
       "LS1721               3.931017                4.925030  \n",
       "LS1723               3.961526                5.028303  \n",
       "LS1726               3.960191                4.862916  \n",
       "LS1734               5.333851               11.557367  \n",
       "LS1736               4.610907               16.809455  \n",
       "LS2000               3.918037                4.927979  \n",
       "LS2001               3.919665                4.745683  \n",
       "LS2002               5.818664               18.957162  \n",
       "LS2003               5.558506               17.180729  \n",
       "LS2004               5.043501               23.795786  \n",
       "LS2005               4.932108               23.971235  \n",
       "LS2006               3.935583                4.738700  \n",
       "LS2007               1.476101                4.546540  \n",
       "LS2008               2.883795                7.737964  "
      ]
     },
     "execution_count": 2,
     "metadata": {},
     "output_type": "execute_result"
    }
   ],
   "source": [
    "df=mols.get_molecules_comp_set_app(answers_dict=None,answers_list_load=list_answers)\n",
    "df"
   ]
  },
  {
   "cell_type": "code",
   "execution_count": null,
   "metadata": {},
   "outputs": [],
   "source": [
    "first_set_indices=[0,1,2,3,4,5,6,7,15,16,17,18,19,20,21,22,23,24,25,26,27,30,31,32]\n",
    "second_set_indices=[8,9,10,11,12,13,14,28,29]\n",
    "first_df=df.iloc[first_set_indices]\n",
    "second_df=df.iloc[second_set_indices]\n",
    "print(first_df.head(),second_df.head())"
   ]
  },
  {
   "cell_type": "code",
   "execution_count": 2,
   "metadata": {},
   "outputs": [],
   "source": [
    "os.chdir(r'C:\\Users\\edens\\Documents\\GitHub\\lucas_project\\new_update_logs')\n",
    "# combined_df.to_csv('combined_features1.csv', index=False)"
   ]
  },
  {
   "cell_type": "code",
   "execution_count": 4,
   "metadata": {},
   "outputs": [
    {
     "name": "stdout",
     "output_type": "stream",
     "text": [
      "Creating table at location: results_combined_features1.db\n",
      "Table has been created successfully at location: results_combined_features1.db \n",
      "Created flag: True\n",
      "linear model selected\n",
      "leave_out: [15, 16]\n",
      "Starting generate_and_display_q2_scatter_plot...\n",
      "Extracting features from model.features_df...\n",
      "Extraction complete. X shape: (31, 4), y shape: (31,)\n",
      "Fitting the model...\n",
      "Model fitted successfully.\n",
      "Generating predictions with covariance calculation...\n",
      "Predictions generated. pred shape: (31,)\n",
      "Retrieving coefficient estimates...\n",
      "Coefficient estimates retrieved:\n",
      "                   Estimate  Std. Error    t value       p value\n",
      "(Intercept)        1.061225    0.070488  15.055424  2.375877e-14\n",
      "dipole_z_11-12-5  -0.222085    0.071449  -3.108315  4.517450e-03\n",
      "nbo_atom_14        1.447149    0.180271   8.027624  1.658101e-08\n",
      "bond_length_11-12 -1.683193    0.384669  -4.375686  1.745721e-04\n",
      "bond_length_12-14  3.258770    0.478050   6.816798  3.098546e-07\n",
      "Calculating cross-validation metrics for 3-fold CV...\n",
      "3-fold CV metrics: Q2: 0.6474854212882996, MAE: 0.34557977397699136, RMSD: 0.4712432776882751\n",
      "Calculating cross-validation metrics for 5-fold CV...\n",
      "5-fold CV metrics: Q2: 0.6801110785988154, MAE: 0.3262688657158063, RMSD: 0.4392468644673854\n",
      "Calculating cross-validation metrics for LOOCV...\n",
      "LOOCV metrics: Q2: 0.7114500297335943, MAE: 0.2999209766503334, RMSD: 0.4097203013813302\n",
      "Left-out samples prediction and metrics:\n",
      "leftout_features: [[ 0.19534765 -0.71075     2.18116009  1.97388487  0.05474142 -0.71328\n",
      "   2.18376301  1.97421974]]\n",
      "Trained model theta shape: (5,)\n",
      "Features for prediction shape: (1, 8)\n",
      "Base Features prediction shape: (31, 4)\n",
      "Traceback (most recent call last):\n",
      "  File \"C:\\Users\\edens\\Documents\\GitHub\\LabCode\\MolFeatures\\M3_modeler\\plot.py\", line 1140, in generate_and_display_q2_scatter_plot\n",
      "    leftout_pred, _, _ = model.predict_for_leftout(features_for_leftout, calc_covariance_matrix=False)\n",
      "  File \"C:\\Users\\edens\\Documents\\GitHub\\LabCode\\MolFeatures\\M3_modeler\\modeling.py\", line 952, in predict_for_leftout\n",
      "    raise ValueError(\n",
      "ValueError: Expected input with 4 features, but got 8.\n",
      "\n",
      "During handling of the above exception, another exception occurred:\n",
      "\n",
      "Traceback (most recent call last):\n",
      "  File \"C:\\Users\\edens\\Documents\\GitHub\\LabCode\\MolFeatures\\M3_modeler\\plot.py\", line 1142, in generate_and_display_q2_scatter_plot\n",
      "    leftout_pred = model.predict(features_for_leftout, calc_covariance_matrix=False)\n",
      "  File \"C:\\Users\\edens\\Documents\\GitHub\\LabCode\\MolFeatures\\M3_modeler\\modeling.py\", line 891, in predict\n",
      "    predictions = X_b.dot(self.theta)\n",
      "ValueError: shapes (1,9) and (5,) not aligned: 9 (dim 1) != 5 (dim 0)\n",
      "\n",
      "Error calculating cross-validation metrics: shapes (1,9) and (5,) not aligned: 9 (dim 1) != 5 (dim 0)\n"
     ]
    }
   ],
   "source": [
    "csv_path=r'C:\\Users\\edens\\Documents\\GitHub\\lucas_project\\new_update_logs\\combined_features1.csv'\n",
    "\n",
    "\n",
    "csv_filepaths = {\n",
    "'features_csv_filepath': csv_path,\n",
    "'target_csv_filepath': ''\n",
    "}\n",
    "\n",
    "# ('B1_B5_angle_4-3', 'L_11-6', 'bond_length_11-12')\n",
    "Regression_model = LinearRegressionModel(csv_filepaths, process_method='one csv', output_name='output', leave_out=[15,16], min_features_num=2, max_features_num=None, metrics=None, return_coefficients=False)\n",
    "features_combination=['B1_B5_angle_4-3', 'L_11-6', 'bond_length_11-12']\n",
    "features_combination_2=['dipole_z_11-12-5', 'nbo_atom_14', 'bond_length_11-12', 'bond_length_12-14']\n",
    "# ('B1_B5_angle_4-3', 'L_11-6', 'bond_length_11-12')\n",
    "plot.generate_and_display_q2_scatter_plot(Regression_model,features_combination_2)\n",
    "# fit_and_evaluate_single_combination_regression(Regression_model,['B1_B5_angle_4-3', 'L_11-6', 'bond_length_11-12'],r2_threshold=0,bool_parallel=False)\n",
    "# ('Frequency_Bending_22-23', 'angle_[11, 6, 4].1', 'bite_angle_inverted', 'L_[11, 6]')\n",
    "# ('para', 'angle_[11, 6, 4].1', 'bite_angle_inverted', 'L_[11, 6]')\n",
    "# ('cross_angle', 'angle_[11, 6, 4].1', 'bite_angle_inverted', 'L_[11, 6]')\n"
   ]
  },
  {
   "cell_type": "code",
   "execution_count": null,
   "metadata": {},
   "outputs": [
    {
     "name": "stdout",
     "output_type": "stream",
     "text": [
      "Creating table at location: results_sterimol_data.db\n",
      "Table has been created successfully at location: results_sterimol_data.db \n",
      "Created flag: True\n",
      "linear model selected\n",
      "leave_out: None\n",
      "Using 1 jobs for evaluation. found 20 cores\n"
     ]
    },
    {
     "name": "stderr",
     "output_type": "stream",
     "text": [
      "Calculating combos with threshold 0.85 (single-core): 100%|██████████| 46904/46904 [14:39<00:00, 53.33it/s]\n"
     ]
    },
    {
     "name": "stdout",
     "output_type": "stream",
     "text": [
      "All Q2 values are -inf, recalculating with a new R2 threshold...\n",
      "new threshold 0.2538525482436125\n"
     ]
    },
    {
     "name": "stderr",
     "output_type": "stream",
     "text": [
      "Calculating combos with threshold 0.2538525482436125 (single-core):   6%|▌         | 2875/46904 [00:57<14:44, 49.76it/s]\n"
     ]
    },
    {
     "ename": "PermissionError",
     "evalue": "[Errno 13] Permission denied: 'results_sterimol_data.csv'",
     "output_type": "error",
     "traceback": [
      "\u001b[1;31m---------------------------------------------------------------------------\u001b[0m",
      "\u001b[1;31mPermissionError\u001b[0m                           Traceback (most recent call last)",
      "Cell \u001b[1;32mIn[2], line 11\u001b[0m\n\u001b[0;32m      5\u001b[0m csv_filepaths \u001b[38;5;241m=\u001b[39m {\n\u001b[0;32m      6\u001b[0m \u001b[38;5;124m'\u001b[39m\u001b[38;5;124mfeatures_csv_filepath\u001b[39m\u001b[38;5;124m'\u001b[39m: csv_path,\n\u001b[0;32m      7\u001b[0m \u001b[38;5;124m'\u001b[39m\u001b[38;5;124mtarget_csv_filepath\u001b[39m\u001b[38;5;124m'\u001b[39m: \u001b[38;5;124m'\u001b[39m\u001b[38;5;124m'\u001b[39m\n\u001b[0;32m      8\u001b[0m }\n\u001b[0;32m     10\u001b[0m Regression_model \u001b[38;5;241m=\u001b[39m LinearRegressionModel(csv_filepaths, process_method\u001b[38;5;241m=\u001b[39m\u001b[38;5;124m'\u001b[39m\u001b[38;5;124mone csv\u001b[39m\u001b[38;5;124m'\u001b[39m, output_name\u001b[38;5;241m=\u001b[39m\u001b[38;5;124m'\u001b[39m\u001b[38;5;124moutput\u001b[39m\u001b[38;5;124m'\u001b[39m, leave_out\u001b[38;5;241m=\u001b[39m\u001b[38;5;28;01mNone\u001b[39;00m, min_features_num\u001b[38;5;241m=\u001b[39m\u001b[38;5;241m2\u001b[39m, max_features_num\u001b[38;5;241m=\u001b[39m\u001b[38;5;241m4\u001b[39m, metrics\u001b[38;5;241m=\u001b[39m\u001b[38;5;28;01mNone\u001b[39;00m, return_coefficients\u001b[38;5;241m=\u001b[39m\u001b[38;5;28;01mFalse\u001b[39;00m)\n\u001b[1;32m---> 11\u001b[0m results\u001b[38;5;241m=\u001b[39m\u001b[43mRegression_model\u001b[49m\u001b[38;5;241;43m.\u001b[39;49m\u001b[43mfit_and_evaluate_combinations\u001b[49m\u001b[43m(\u001b[49m\u001b[43mtop_n\u001b[49m\u001b[38;5;241;43m=\u001b[39;49m\u001b[38;5;28;43;01mNone\u001b[39;49;00m\u001b[43m)\u001b[49m\n",
      "File \u001b[1;32m~\\Documents\\GitHub\\LabCode\\MolFeatures\\M3_modeler\\modeling.py:1134\u001b[0m, in \u001b[0;36mLinearRegressionModel.fit_and_evaluate_combinations\u001b[1;34m(self, top_n, n_jobs, initial_r2_threshold, bool_parallel)\u001b[0m\n\u001b[0;32m   1132\u001b[0m     new_threshold \u001b[38;5;241m=\u001b[39m initial_r2_threshold \u001b[38;5;241m-\u001b[39m \u001b[38;5;241m0.15\u001b[39m  \u001b[38;5;66;03m# Default lowering if no R2 found\u001b[39;00m\n\u001b[0;32m   1133\u001b[0m \u001b[38;5;28mprint\u001b[39m(\u001b[38;5;124m'\u001b[39m\u001b[38;5;124mnew threshold\u001b[39m\u001b[38;5;124m'\u001b[39m,new_threshold)\n\u001b[1;32m-> 1134\u001b[0m sorted_results \u001b[38;5;241m=\u001b[39m \u001b[43mevaluate_with_threshold\u001b[49m\u001b[43m(\u001b[49m\u001b[43mnew_threshold\u001b[49m\u001b[43m)\u001b[49m\n\u001b[0;32m   1135\u001b[0m sorted_results \u001b[38;5;241m=\u001b[39m \u001b[38;5;28msorted\u001b[39m(sorted_results, key\u001b[38;5;241m=\u001b[39m\u001b[38;5;28;01mlambda\u001b[39;00m x: x[\u001b[38;5;124m'\u001b[39m\u001b[38;5;124mscores\u001b[39m\u001b[38;5;124m'\u001b[39m]\u001b[38;5;241m.\u001b[39mget(\u001b[38;5;124m'\u001b[39m\u001b[38;5;124mQ2\u001b[39m\u001b[38;5;124m'\u001b[39m, \u001b[38;5;28mfloat\u001b[39m(\u001b[38;5;124m'\u001b[39m\u001b[38;5;124m-inf\u001b[39m\u001b[38;5;124m'\u001b[39m)), reverse\u001b[38;5;241m=\u001b[39m\u001b[38;5;28;01mTrue\u001b[39;00m)\n\u001b[0;32m   1136\u001b[0m sorted_results \u001b[38;5;241m=\u001b[39m sorted_results[:top_n]\n",
      "File \u001b[1;32m~\\Documents\\GitHub\\LabCode\\MolFeatures\\M3_modeler\\modeling.py:1094\u001b[0m, in \u001b[0;36mLinearRegressionModel.fit_and_evaluate_combinations.<locals>.evaluate_with_threshold\u001b[1;34m(threshold)\u001b[0m\n\u001b[0;32m   1090\u001b[0m     results \u001b[38;5;241m=\u001b[39m []\n\u001b[0;32m   1091\u001b[0m     \u001b[38;5;28;01mfor\u001b[39;00m combination \u001b[38;5;129;01min\u001b[39;00m tqdm(\u001b[38;5;28mself\u001b[39m\u001b[38;5;241m.\u001b[39mfeatures_combinations,\n\u001b[0;32m   1092\u001b[0m                             desc\u001b[38;5;241m=\u001b[39m\u001b[38;5;124mf\u001b[39m\u001b[38;5;124m'\u001b[39m\u001b[38;5;124mCalculating combos with threshold \u001b[39m\u001b[38;5;132;01m{\u001b[39;00mthreshold\u001b[38;5;132;01m}\u001b[39;00m\u001b[38;5;124m (single-core)\u001b[39m\u001b[38;5;124m'\u001b[39m):\n\u001b[1;32m-> 1094\u001b[0m         res \u001b[38;5;241m=\u001b[39m \u001b[43mfit_and_evaluate_single_combination_regression\u001b[49m\u001b[43m(\u001b[49m\u001b[38;5;28;43mself\u001b[39;49m\u001b[43m,\u001b[49m\u001b[43mcombination\u001b[49m\u001b[43m,\u001b[49m\u001b[43m \u001b[49m\u001b[43mthreshold\u001b[49m\u001b[43m)\u001b[49m \u001b[38;5;66;03m# fit_and_evaluate_single_combination_with_prints\u001b[39;00m\n\u001b[0;32m   1095\u001b[0m         results\u001b[38;5;241m.\u001b[39mappend(res)\n\u001b[0;32m   1096\u001b[0m \u001b[38;5;28;01melse\u001b[39;00m:\n\u001b[0;32m   1097\u001b[0m     \u001b[38;5;66;03m# Parallel execution\u001b[39;00m\n",
      "File \u001b[1;32m~\\Documents\\GitHub\\LabCode\\MolFeatures\\M3_modeler\\modeling.py:390\u001b[0m, in \u001b[0;36mfit_and_evaluate_single_combination_regression\u001b[1;34m(model, combination, r2_threshold)\u001b[0m\n\u001b[0;32m    388\u001b[0m     csv_path\u001b[38;5;241m=\u001b[39mmodel\u001b[38;5;241m.\u001b[39mdb_path\u001b[38;5;241m.\u001b[39mreplace(\u001b[38;5;124m'\u001b[39m\u001b[38;5;124m.db\u001b[39m\u001b[38;5;124m'\u001b[39m,\u001b[38;5;124m'\u001b[39m\u001b[38;5;124m.csv\u001b[39m\u001b[38;5;124m'\u001b[39m)\n\u001b[0;32m    389\u001b[0m     \u001b[38;5;66;03m# Insert into DB\u001b[39;00m\n\u001b[1;32m--> 390\u001b[0m     \u001b[43minsert_result_into_db\u001b[49m\u001b[43m(\u001b[49m\n\u001b[0;32m    391\u001b[0m \u001b[43m        \u001b[49m\u001b[43mdb_path\u001b[49m\u001b[38;5;241;43m=\u001b[39;49m\u001b[43mmodel\u001b[49m\u001b[38;5;241;43m.\u001b[39;49m\u001b[43mdb_path\u001b[49m\u001b[43m,\u001b[49m\n\u001b[0;32m    392\u001b[0m \u001b[43m        \u001b[49m\u001b[43mcombination\u001b[49m\u001b[38;5;241;43m=\u001b[39;49m\u001b[43mcombination\u001b[49m\u001b[43m,\u001b[49m\n\u001b[0;32m    393\u001b[0m \u001b[43m        \u001b[49m\u001b[43mr2\u001b[49m\u001b[38;5;241;43m=\u001b[39;49m\u001b[43mr2\u001b[49m\u001b[43m,\u001b[49m\n\u001b[0;32m    394\u001b[0m \u001b[43m        \u001b[49m\u001b[43mq2\u001b[49m\u001b[38;5;241;43m=\u001b[39;49m\u001b[43mq2\u001b[49m\u001b[43m,\u001b[49m\n\u001b[0;32m    395\u001b[0m \u001b[43m        \u001b[49m\u001b[43mmae\u001b[49m\u001b[38;5;241;43m=\u001b[39;49m\u001b[43mmae\u001b[49m\u001b[43m,\u001b[49m\n\u001b[0;32m    396\u001b[0m \u001b[43m        \u001b[49m\u001b[43mrmsd\u001b[49m\u001b[38;5;241;43m=\u001b[39;49m\u001b[43mrmsd\u001b[49m\u001b[43m,\u001b[49m\n\u001b[0;32m    397\u001b[0m \u001b[43m        \u001b[49m\u001b[43mthreshold\u001b[49m\u001b[38;5;241;43m=\u001b[39;49m\u001b[43mr2_threshold\u001b[49m\u001b[43m,\u001b[49m\n\u001b[0;32m    398\u001b[0m \u001b[43m        \u001b[49m\u001b[43mcsv_path\u001b[49m\u001b[38;5;241;43m=\u001b[39;49m\u001b[43mcsv_path\u001b[49m\n\u001b[0;32m    399\u001b[0m \u001b[43m    \u001b[49m\u001b[43m)\u001b[49m\n\u001b[0;32m    400\u001b[0m \u001b[38;5;28;01mreturn\u001b[39;00m result\n",
      "File \u001b[1;32m~\\Documents\\GitHub\\LabCode\\MolFeatures\\M3_modeler\\modeling.py:109\u001b[0m, in \u001b[0;36minsert_result_into_db\u001b[1;34m(db_path, combination, r2, q2, mae, rmsd, threshold, csv_path)\u001b[0m\n\u001b[0;32m    106\u001b[0m     result_df\u001b[38;5;241m.\u001b[39mto_csv(csv_path, index\u001b[38;5;241m=\u001b[39m\u001b[38;5;28;01mFalse\u001b[39;00m, mode\u001b[38;5;241m=\u001b[39m\u001b[38;5;124m'\u001b[39m\u001b[38;5;124mw\u001b[39m\u001b[38;5;124m'\u001b[39m)\n\u001b[0;32m    107\u001b[0m     \u001b[38;5;66;03m# print(f'CSV created and result saved at: {csv_path}')\u001b[39;00m\n\u001b[0;32m    108\u001b[0m \u001b[38;5;28;01melse\u001b[39;00m:\n\u001b[1;32m--> 109\u001b[0m     \u001b[43mresult_df\u001b[49m\u001b[38;5;241;43m.\u001b[39;49m\u001b[43mto_csv\u001b[49m\u001b[43m(\u001b[49m\u001b[43mcsv_path\u001b[49m\u001b[43m,\u001b[49m\u001b[43m \u001b[49m\u001b[43mindex\u001b[49m\u001b[38;5;241;43m=\u001b[39;49m\u001b[38;5;28;43;01mFalse\u001b[39;49;00m\u001b[43m,\u001b[49m\u001b[43m \u001b[49m\u001b[43mmode\u001b[49m\u001b[38;5;241;43m=\u001b[39;49m\u001b[38;5;124;43m'\u001b[39;49m\u001b[38;5;124;43ma\u001b[39;49m\u001b[38;5;124;43m'\u001b[39;49m\u001b[43m,\u001b[49m\u001b[43m \u001b[49m\u001b[43mheader\u001b[49m\u001b[38;5;241;43m=\u001b[39;49m\u001b[38;5;28;43;01mFalse\u001b[39;49;00m\u001b[43m)\u001b[49m\n",
      "File \u001b[1;32mc:\\Users\\edens\\anaconda3\\envs\\labenv\\lib\\site-packages\\pandas\\util\\_decorators.py:333\u001b[0m, in \u001b[0;36mdeprecate_nonkeyword_arguments.<locals>.decorate.<locals>.wrapper\u001b[1;34m(*args, **kwargs)\u001b[0m\n\u001b[0;32m    327\u001b[0m \u001b[38;5;28;01mif\u001b[39;00m \u001b[38;5;28mlen\u001b[39m(args) \u001b[38;5;241m>\u001b[39m num_allow_args:\n\u001b[0;32m    328\u001b[0m     warnings\u001b[38;5;241m.\u001b[39mwarn(\n\u001b[0;32m    329\u001b[0m         msg\u001b[38;5;241m.\u001b[39mformat(arguments\u001b[38;5;241m=\u001b[39m_format_argument_list(allow_args)),\n\u001b[0;32m    330\u001b[0m         \u001b[38;5;167;01mFutureWarning\u001b[39;00m,\n\u001b[0;32m    331\u001b[0m         stacklevel\u001b[38;5;241m=\u001b[39mfind_stack_level(),\n\u001b[0;32m    332\u001b[0m     )\n\u001b[1;32m--> 333\u001b[0m \u001b[38;5;28;01mreturn\u001b[39;00m func(\u001b[38;5;241m*\u001b[39margs, \u001b[38;5;241m*\u001b[39m\u001b[38;5;241m*\u001b[39mkwargs)\n",
      "File \u001b[1;32mc:\\Users\\edens\\anaconda3\\envs\\labenv\\lib\\site-packages\\pandas\\core\\generic.py:3961\u001b[0m, in \u001b[0;36mNDFrame.to_csv\u001b[1;34m(self, path_or_buf, sep, na_rep, float_format, columns, header, index, index_label, mode, encoding, compression, quoting, quotechar, lineterminator, chunksize, date_format, doublequote, escapechar, decimal, errors, storage_options)\u001b[0m\n\u001b[0;32m   3950\u001b[0m df \u001b[38;5;241m=\u001b[39m \u001b[38;5;28mself\u001b[39m \u001b[38;5;28;01mif\u001b[39;00m \u001b[38;5;28misinstance\u001b[39m(\u001b[38;5;28mself\u001b[39m, ABCDataFrame) \u001b[38;5;28;01melse\u001b[39;00m \u001b[38;5;28mself\u001b[39m\u001b[38;5;241m.\u001b[39mto_frame()\n\u001b[0;32m   3952\u001b[0m formatter \u001b[38;5;241m=\u001b[39m DataFrameFormatter(\n\u001b[0;32m   3953\u001b[0m     frame\u001b[38;5;241m=\u001b[39mdf,\n\u001b[0;32m   3954\u001b[0m     header\u001b[38;5;241m=\u001b[39mheader,\n\u001b[1;32m   (...)\u001b[0m\n\u001b[0;32m   3958\u001b[0m     decimal\u001b[38;5;241m=\u001b[39mdecimal,\n\u001b[0;32m   3959\u001b[0m )\n\u001b[1;32m-> 3961\u001b[0m \u001b[38;5;28;01mreturn\u001b[39;00m \u001b[43mDataFrameRenderer\u001b[49m\u001b[43m(\u001b[49m\u001b[43mformatter\u001b[49m\u001b[43m)\u001b[49m\u001b[38;5;241;43m.\u001b[39;49m\u001b[43mto_csv\u001b[49m\u001b[43m(\u001b[49m\n\u001b[0;32m   3962\u001b[0m \u001b[43m    \u001b[49m\u001b[43mpath_or_buf\u001b[49m\u001b[43m,\u001b[49m\n\u001b[0;32m   3963\u001b[0m \u001b[43m    \u001b[49m\u001b[43mlineterminator\u001b[49m\u001b[38;5;241;43m=\u001b[39;49m\u001b[43mlineterminator\u001b[49m\u001b[43m,\u001b[49m\n\u001b[0;32m   3964\u001b[0m \u001b[43m    \u001b[49m\u001b[43msep\u001b[49m\u001b[38;5;241;43m=\u001b[39;49m\u001b[43msep\u001b[49m\u001b[43m,\u001b[49m\n\u001b[0;32m   3965\u001b[0m \u001b[43m    \u001b[49m\u001b[43mencoding\u001b[49m\u001b[38;5;241;43m=\u001b[39;49m\u001b[43mencoding\u001b[49m\u001b[43m,\u001b[49m\n\u001b[0;32m   3966\u001b[0m \u001b[43m    \u001b[49m\u001b[43merrors\u001b[49m\u001b[38;5;241;43m=\u001b[39;49m\u001b[43merrors\u001b[49m\u001b[43m,\u001b[49m\n\u001b[0;32m   3967\u001b[0m \u001b[43m    \u001b[49m\u001b[43mcompression\u001b[49m\u001b[38;5;241;43m=\u001b[39;49m\u001b[43mcompression\u001b[49m\u001b[43m,\u001b[49m\n\u001b[0;32m   3968\u001b[0m \u001b[43m    \u001b[49m\u001b[43mquoting\u001b[49m\u001b[38;5;241;43m=\u001b[39;49m\u001b[43mquoting\u001b[49m\u001b[43m,\u001b[49m\n\u001b[0;32m   3969\u001b[0m \u001b[43m    \u001b[49m\u001b[43mcolumns\u001b[49m\u001b[38;5;241;43m=\u001b[39;49m\u001b[43mcolumns\u001b[49m\u001b[43m,\u001b[49m\n\u001b[0;32m   3970\u001b[0m \u001b[43m    \u001b[49m\u001b[43mindex_label\u001b[49m\u001b[38;5;241;43m=\u001b[39;49m\u001b[43mindex_label\u001b[49m\u001b[43m,\u001b[49m\n\u001b[0;32m   3971\u001b[0m \u001b[43m    \u001b[49m\u001b[43mmode\u001b[49m\u001b[38;5;241;43m=\u001b[39;49m\u001b[43mmode\u001b[49m\u001b[43m,\u001b[49m\n\u001b[0;32m   3972\u001b[0m \u001b[43m    \u001b[49m\u001b[43mchunksize\u001b[49m\u001b[38;5;241;43m=\u001b[39;49m\u001b[43mchunksize\u001b[49m\u001b[43m,\u001b[49m\n\u001b[0;32m   3973\u001b[0m \u001b[43m    \u001b[49m\u001b[43mquotechar\u001b[49m\u001b[38;5;241;43m=\u001b[39;49m\u001b[43mquotechar\u001b[49m\u001b[43m,\u001b[49m\n\u001b[0;32m   3974\u001b[0m \u001b[43m    \u001b[49m\u001b[43mdate_format\u001b[49m\u001b[38;5;241;43m=\u001b[39;49m\u001b[43mdate_format\u001b[49m\u001b[43m,\u001b[49m\n\u001b[0;32m   3975\u001b[0m \u001b[43m    \u001b[49m\u001b[43mdoublequote\u001b[49m\u001b[38;5;241;43m=\u001b[39;49m\u001b[43mdoublequote\u001b[49m\u001b[43m,\u001b[49m\n\u001b[0;32m   3976\u001b[0m \u001b[43m    \u001b[49m\u001b[43mescapechar\u001b[49m\u001b[38;5;241;43m=\u001b[39;49m\u001b[43mescapechar\u001b[49m\u001b[43m,\u001b[49m\n\u001b[0;32m   3977\u001b[0m \u001b[43m    \u001b[49m\u001b[43mstorage_options\u001b[49m\u001b[38;5;241;43m=\u001b[39;49m\u001b[43mstorage_options\u001b[49m\u001b[43m,\u001b[49m\n\u001b[0;32m   3978\u001b[0m \u001b[43m\u001b[49m\u001b[43m)\u001b[49m\n",
      "File \u001b[1;32mc:\\Users\\edens\\anaconda3\\envs\\labenv\\lib\\site-packages\\pandas\\io\\formats\\format.py:1014\u001b[0m, in \u001b[0;36mDataFrameRenderer.to_csv\u001b[1;34m(self, path_or_buf, encoding, sep, columns, index_label, mode, compression, quoting, quotechar, lineterminator, chunksize, date_format, doublequote, escapechar, errors, storage_options)\u001b[0m\n\u001b[0;32m    993\u001b[0m     created_buffer \u001b[38;5;241m=\u001b[39m \u001b[38;5;28;01mFalse\u001b[39;00m\n\u001b[0;32m    995\u001b[0m csv_formatter \u001b[38;5;241m=\u001b[39m CSVFormatter(\n\u001b[0;32m    996\u001b[0m     path_or_buf\u001b[38;5;241m=\u001b[39mpath_or_buf,\n\u001b[0;32m    997\u001b[0m     lineterminator\u001b[38;5;241m=\u001b[39mlineterminator,\n\u001b[1;32m   (...)\u001b[0m\n\u001b[0;32m   1012\u001b[0m     formatter\u001b[38;5;241m=\u001b[39m\u001b[38;5;28mself\u001b[39m\u001b[38;5;241m.\u001b[39mfmt,\n\u001b[0;32m   1013\u001b[0m )\n\u001b[1;32m-> 1014\u001b[0m \u001b[43mcsv_formatter\u001b[49m\u001b[38;5;241;43m.\u001b[39;49m\u001b[43msave\u001b[49m\u001b[43m(\u001b[49m\u001b[43m)\u001b[49m\n\u001b[0;32m   1016\u001b[0m \u001b[38;5;28;01mif\u001b[39;00m created_buffer:\n\u001b[0;32m   1017\u001b[0m     \u001b[38;5;28;01massert\u001b[39;00m \u001b[38;5;28misinstance\u001b[39m(path_or_buf, StringIO)\n",
      "File \u001b[1;32mc:\\Users\\edens\\anaconda3\\envs\\labenv\\lib\\site-packages\\pandas\\io\\formats\\csvs.py:251\u001b[0m, in \u001b[0;36mCSVFormatter.save\u001b[1;34m(self)\u001b[0m\n\u001b[0;32m    247\u001b[0m \u001b[38;5;250m\u001b[39m\u001b[38;5;124;03m\"\"\"\u001b[39;00m\n\u001b[0;32m    248\u001b[0m \u001b[38;5;124;03mCreate the writer & save.\u001b[39;00m\n\u001b[0;32m    249\u001b[0m \u001b[38;5;124;03m\"\"\"\u001b[39;00m\n\u001b[0;32m    250\u001b[0m \u001b[38;5;66;03m# apply compression and byte/text conversion\u001b[39;00m\n\u001b[1;32m--> 251\u001b[0m \u001b[38;5;28;01mwith\u001b[39;00m \u001b[43mget_handle\u001b[49m\u001b[43m(\u001b[49m\n\u001b[0;32m    252\u001b[0m \u001b[43m    \u001b[49m\u001b[38;5;28;43mself\u001b[39;49m\u001b[38;5;241;43m.\u001b[39;49m\u001b[43mfilepath_or_buffer\u001b[49m\u001b[43m,\u001b[49m\n\u001b[0;32m    253\u001b[0m \u001b[43m    \u001b[49m\u001b[38;5;28;43mself\u001b[39;49m\u001b[38;5;241;43m.\u001b[39;49m\u001b[43mmode\u001b[49m\u001b[43m,\u001b[49m\n\u001b[0;32m    254\u001b[0m \u001b[43m    \u001b[49m\u001b[43mencoding\u001b[49m\u001b[38;5;241;43m=\u001b[39;49m\u001b[38;5;28;43mself\u001b[39;49m\u001b[38;5;241;43m.\u001b[39;49m\u001b[43mencoding\u001b[49m\u001b[43m,\u001b[49m\n\u001b[0;32m    255\u001b[0m \u001b[43m    \u001b[49m\u001b[43merrors\u001b[49m\u001b[38;5;241;43m=\u001b[39;49m\u001b[38;5;28;43mself\u001b[39;49m\u001b[38;5;241;43m.\u001b[39;49m\u001b[43merrors\u001b[49m\u001b[43m,\u001b[49m\n\u001b[0;32m    256\u001b[0m \u001b[43m    \u001b[49m\u001b[43mcompression\u001b[49m\u001b[38;5;241;43m=\u001b[39;49m\u001b[38;5;28;43mself\u001b[39;49m\u001b[38;5;241;43m.\u001b[39;49m\u001b[43mcompression\u001b[49m\u001b[43m,\u001b[49m\n\u001b[0;32m    257\u001b[0m \u001b[43m    \u001b[49m\u001b[43mstorage_options\u001b[49m\u001b[38;5;241;43m=\u001b[39;49m\u001b[38;5;28;43mself\u001b[39;49m\u001b[38;5;241;43m.\u001b[39;49m\u001b[43mstorage_options\u001b[49m\u001b[43m,\u001b[49m\n\u001b[0;32m    258\u001b[0m \u001b[43m\u001b[49m\u001b[43m)\u001b[49m \u001b[38;5;28;01mas\u001b[39;00m handles:\n\u001b[0;32m    259\u001b[0m     \u001b[38;5;66;03m# Note: self.encoding is irrelevant here\u001b[39;00m\n\u001b[0;32m    260\u001b[0m     \u001b[38;5;28mself\u001b[39m\u001b[38;5;241m.\u001b[39mwriter \u001b[38;5;241m=\u001b[39m csvlib\u001b[38;5;241m.\u001b[39mwriter(\n\u001b[0;32m    261\u001b[0m         handles\u001b[38;5;241m.\u001b[39mhandle,\n\u001b[0;32m    262\u001b[0m         lineterminator\u001b[38;5;241m=\u001b[39m\u001b[38;5;28mself\u001b[39m\u001b[38;5;241m.\u001b[39mlineterminator,\n\u001b[1;32m   (...)\u001b[0m\n\u001b[0;32m    267\u001b[0m         quotechar\u001b[38;5;241m=\u001b[39m\u001b[38;5;28mself\u001b[39m\u001b[38;5;241m.\u001b[39mquotechar,\n\u001b[0;32m    268\u001b[0m     )\n\u001b[0;32m    270\u001b[0m     \u001b[38;5;28mself\u001b[39m\u001b[38;5;241m.\u001b[39m_save()\n",
      "File \u001b[1;32mc:\\Users\\edens\\anaconda3\\envs\\labenv\\lib\\site-packages\\pandas\\io\\common.py:873\u001b[0m, in \u001b[0;36mget_handle\u001b[1;34m(path_or_buf, mode, encoding, compression, memory_map, is_text, errors, storage_options)\u001b[0m\n\u001b[0;32m    868\u001b[0m \u001b[38;5;28;01melif\u001b[39;00m \u001b[38;5;28misinstance\u001b[39m(handle, \u001b[38;5;28mstr\u001b[39m):\n\u001b[0;32m    869\u001b[0m     \u001b[38;5;66;03m# Check whether the filename is to be opened in binary mode.\u001b[39;00m\n\u001b[0;32m    870\u001b[0m     \u001b[38;5;66;03m# Binary mode does not support 'encoding' and 'newline'.\u001b[39;00m\n\u001b[0;32m    871\u001b[0m     \u001b[38;5;28;01mif\u001b[39;00m ioargs\u001b[38;5;241m.\u001b[39mencoding \u001b[38;5;129;01mand\u001b[39;00m \u001b[38;5;124m\"\u001b[39m\u001b[38;5;124mb\u001b[39m\u001b[38;5;124m\"\u001b[39m \u001b[38;5;129;01mnot\u001b[39;00m \u001b[38;5;129;01min\u001b[39;00m ioargs\u001b[38;5;241m.\u001b[39mmode:\n\u001b[0;32m    872\u001b[0m         \u001b[38;5;66;03m# Encoding\u001b[39;00m\n\u001b[1;32m--> 873\u001b[0m         handle \u001b[38;5;241m=\u001b[39m \u001b[38;5;28;43mopen\u001b[39;49m\u001b[43m(\u001b[49m\n\u001b[0;32m    874\u001b[0m \u001b[43m            \u001b[49m\u001b[43mhandle\u001b[49m\u001b[43m,\u001b[49m\n\u001b[0;32m    875\u001b[0m \u001b[43m            \u001b[49m\u001b[43mioargs\u001b[49m\u001b[38;5;241;43m.\u001b[39;49m\u001b[43mmode\u001b[49m\u001b[43m,\u001b[49m\n\u001b[0;32m    876\u001b[0m \u001b[43m            \u001b[49m\u001b[43mencoding\u001b[49m\u001b[38;5;241;43m=\u001b[39;49m\u001b[43mioargs\u001b[49m\u001b[38;5;241;43m.\u001b[39;49m\u001b[43mencoding\u001b[49m\u001b[43m,\u001b[49m\n\u001b[0;32m    877\u001b[0m \u001b[43m            \u001b[49m\u001b[43merrors\u001b[49m\u001b[38;5;241;43m=\u001b[39;49m\u001b[43merrors\u001b[49m\u001b[43m,\u001b[49m\n\u001b[0;32m    878\u001b[0m \u001b[43m            \u001b[49m\u001b[43mnewline\u001b[49m\u001b[38;5;241;43m=\u001b[39;49m\u001b[38;5;124;43m\"\u001b[39;49m\u001b[38;5;124;43m\"\u001b[39;49m\u001b[43m,\u001b[49m\n\u001b[0;32m    879\u001b[0m \u001b[43m        \u001b[49m\u001b[43m)\u001b[49m\n\u001b[0;32m    880\u001b[0m     \u001b[38;5;28;01melse\u001b[39;00m:\n\u001b[0;32m    881\u001b[0m         \u001b[38;5;66;03m# Binary mode\u001b[39;00m\n\u001b[0;32m    882\u001b[0m         handle \u001b[38;5;241m=\u001b[39m \u001b[38;5;28mopen\u001b[39m(handle, ioargs\u001b[38;5;241m.\u001b[39mmode)\n",
      "\u001b[1;31mPermissionError\u001b[0m: [Errno 13] Permission denied: 'results_sterimol_data.csv'"
     ]
    }
   ],
   "source": [
    "os.chdir(r'C:\\Users\\edens\\Documents\\GitHub\\smiles_data')\n",
    "csv_path=r'xyz_fingerprints.csv'\n",
    "\n",
    "\n",
    "csv_filepaths = {\n",
    "'features_csv_filepath': csv_path,\n",
    "'target_csv_filepath': ''\n",
    "}\n",
    "\n",
    "Regression_model = LinearRegressionModel(csv_filepaths, process_method='one csv', output_name='output', leave_out=None, min_features_num=4, max_features_num=4, metrics=None, return_coefficients=False)\n",
    "results=Regression_model.fit_and_evaluate_combinations(top_n=None)"
   ]
  },
  {
   "cell_type": "code",
   "execution_count": 12,
   "metadata": {},
   "outputs": [],
   "source": [
    "os.chdir(r'C:\\Users\\edens\\Documents\\GitHub\\lucas_project')\n",
    "sterimol_df=dict_to_horizontal_df(sterimol)\n",
    "sterimol_df.to_csv('sterimol_new.csv')"
   ]
  },
  {
   "cell_type": "code",
   "execution_count": 8,
   "metadata": {},
   "outputs": [
    {
     "name": "stdout",
     "output_type": "stream",
     "text": [
      "{frozenset({0, 1}): 1.54, frozenset({1, 2}): 1.45, frozenset({2, 3}): 1.34, frozenset({3, 4}): 1.27, frozenset({5, 6}): 1.38, frozenset({6, 7}): 1.39, frozenset({8, 7}): 1.38, frozenset({8, 9}): 1.39, frozenset({9, 10}): 1.33, frozenset({10, 11}): 2.18, frozenset({11, 12}): 2.32, frozenset({13, 14}): 1.09, frozenset({24, 25}): 1.53, frozenset({28, 29}): 1.09, frozenset({29, 30}): 1.09, frozenset({3, 5}): 1.47, frozenset({11, 13}): 1.97, frozenset({13, 15}): 1.09, frozenset({25, 27}): 1.09, frozenset({16, 13}): 1.09, frozenset({26, 29}): 1.09, frozenset({34, 31}): 1.09, frozenset({0, 4}): 1.47, frozenset({35, 31}): 1.09, frozenset({10, 5}): 1.34, frozenset({24, 29}): 1.53, frozenset({36, 31}): 1.09, frozenset({11, 4}): 2.29, frozenset({24, 31}): 1.53, frozenset({32, 25}): 1.09, frozenset({25, 33}): 1.09, frozenset({17, 6}): 1.08, frozenset({18, 7}): 1.08, frozenset({8, 19}): 1.08, frozenset({9, 20}): 1.08, frozenset({24, 0}): 1.55, frozenset({0, 23}): 1.09, frozenset({1, 22}): 1.09, frozenset({1, 21}): 1.09}\n"
     ]
    },
    {
     "data": {
      "application/vnd.plotly.v1+json": {
       "config": {
        "plotlyServerURL": "https://plot.ly"
       },
       "data": [
        {
         "marker": {
          "color": [
           "black",
           "black",
           "red",
           "black",
           "blue",
           "black",
           "black",
           "black",
           "black",
           "black",
           "blue",
           "green",
           "green",
           "black",
           "white",
           "white",
           "white",
           "white",
           "white",
           "white",
           "white",
           "white",
           "white",
           "white",
           "black",
           "black",
           "white",
           "white",
           "white",
           "black",
           "white",
           "black",
           "white",
           "white",
           "white",
           "white",
           "white"
          ],
          "line": {
           "color": "lightgray",
           "width": 2
          },
          "opacity": 0.8,
          "size": 5,
          "symbol": "circle"
         },
         "mode": "markers",
         "name": "",
         "text": [
          "C",
          "C",
          "O",
          "C",
          "N",
          "C",
          "C",
          "C",
          "C",
          "C",
          "N",
          "Pd",
          "Cl",
          "C",
          "H",
          "H",
          "H",
          "H",
          "H",
          "H",
          "H",
          "H",
          "H",
          "H",
          "C",
          "C",
          "H",
          "H",
          "H",
          "C",
          "H",
          "C",
          "H",
          "H",
          "H",
          "H",
          "H"
         ],
         "type": "scatter3d",
         "x": [
          2.134492,
          2.036881,
          0.724225,
          0.080018,
          0.730345,
          -1.351739,
          -2.009159,
          -3.352694,
          -3.978855,
          -3.244253,
          -1.958228,
          -0.716834,
          0.71839,
          -2.20892,
          -1.884503,
          -2.572219,
          -2.988541,
          -1.467432,
          -3.89869,
          -5.023451,
          -3.696718,
          2.066939,
          2.769276,
          2.480324,
          3.033453,
          2.937968,
          3.252686,
          3.176036,
          1.581602,
          2.606369,
          2.676929,
          4.477691,
          3.63504,
          1.932956,
          5.142751,
          4.616306,
          4.796314
         ],
         "y": [
          -0.694968,
          -2.120286,
          -2.582517,
          -1.480139,
          -0.39805,
          -1.589627,
          -2.806654,
          -2.828523,
          -1.638157,
          -0.459499,
          -0.431489,
          1.344061,
          3.114298,
          2.602218,
          3.631271,
          2.438883,
          2.365864,
          -3.703595,
          -3.762282,
          -1.607622,
          0.49577,
          -2.130198,
          -2.818926,
          0.025106,
          -0.567393,
          0.856649,
          -1.4469,
          1.596068,
          -1.365275,
          -1.558112,
          -2.597163,
          -0.84329,
          0.976786,
          1.085716,
          -0.723004,
          -1.857322,
          -0.139461
         ],
         "z": [
          -0.697091,
          -1.282779,
          -0.879761,
          -0.472746,
          -0.386415,
          -0.14006,
          -0.137508,
          0.209044,
          0.530748,
          0.492557,
          0.166485,
          -0.060908,
          -0.51039,
          0.232751,
          0.112696,
          1.251734,
          -0.496547,
          -0.401285,
          0.225457,
          0.806296,
          0.725846,
          -2.37197,
          -0.888623,
          -1.440554,
          0.553803,
          1.100299,
          2.509882,
          0.334518,
          1.961153,
          1.637804,
          1.307512,
          0.129948,
          1.932223,
          1.454011,
          0.986458,
          -0.251494,
          -0.641922
         ]
        },
        {
         "hoverinfo": "none",
         "line": {
          "width": 3
         },
         "marker": {
          "color": "black",
          "opacity": 1,
          "size": 7
         },
         "mode": "lines",
         "type": "scatter3d",
         "x": [
          2.134492,
          2.036881,
          null,
          2.036881,
          0.724225,
          null,
          0.724225,
          0.080018,
          null,
          0.080018,
          0.730345,
          null,
          -1.351739,
          -2.009159,
          null,
          -2.009159,
          -3.352694,
          null,
          -3.978855,
          -3.352694,
          null,
          -3.978855,
          -3.244253,
          null,
          -3.244253,
          -1.958228,
          null,
          -1.958228,
          -0.716834,
          null,
          -0.716834,
          0.71839,
          null,
          -2.20892,
          -1.884503,
          null,
          3.033453,
          2.937968,
          null,
          1.581602,
          2.606369,
          null,
          2.606369,
          2.676929,
          null,
          0.080018,
          -1.351739,
          null,
          -0.716834,
          -2.20892,
          null,
          -2.20892,
          -2.572219,
          null,
          2.937968,
          3.176036,
          null,
          -2.988541,
          -2.20892,
          null,
          3.252686,
          2.606369,
          null,
          5.142751,
          4.477691,
          null,
          2.134492,
          0.730345,
          null,
          4.616306,
          4.477691,
          null,
          -1.958228,
          -1.351739,
          null,
          3.033453,
          2.606369,
          null,
          4.796314,
          4.477691,
          null,
          -0.716834,
          0.730345,
          null,
          3.033453,
          4.477691,
          null,
          3.63504,
          2.937968,
          null,
          2.937968,
          1.932956,
          null,
          -1.467432,
          -2.009159,
          null,
          -3.89869,
          -3.352694,
          null,
          -3.978855,
          -5.023451,
          null,
          -3.244253,
          -3.696718,
          null,
          3.033453,
          2.134492,
          null,
          2.134492,
          2.480324,
          null,
          2.036881,
          2.769276,
          null,
          2.036881,
          2.066939,
          null
         ],
         "y": [
          -0.694968,
          -2.120286,
          null,
          -2.120286,
          -2.582517,
          null,
          -2.582517,
          -1.480139,
          null,
          -1.480139,
          -0.39805,
          null,
          -1.589627,
          -2.806654,
          null,
          -2.806654,
          -2.828523,
          null,
          -1.638157,
          -2.828523,
          null,
          -1.638157,
          -0.459499,
          null,
          -0.459499,
          -0.431489,
          null,
          -0.431489,
          1.344061,
          null,
          1.344061,
          3.114298,
          null,
          2.602218,
          3.631271,
          null,
          -0.567393,
          0.856649,
          null,
          -1.365275,
          -1.558112,
          null,
          -1.558112,
          -2.597163,
          null,
          -1.480139,
          -1.589627,
          null,
          1.344061,
          2.602218,
          null,
          2.602218,
          2.438883,
          null,
          0.856649,
          1.596068,
          null,
          2.365864,
          2.602218,
          null,
          -1.4469,
          -1.558112,
          null,
          -0.723004,
          -0.84329,
          null,
          -0.694968,
          -0.39805,
          null,
          -1.857322,
          -0.84329,
          null,
          -0.431489,
          -1.589627,
          null,
          -0.567393,
          -1.558112,
          null,
          -0.139461,
          -0.84329,
          null,
          1.344061,
          -0.39805,
          null,
          -0.567393,
          -0.84329,
          null,
          0.976786,
          0.856649,
          null,
          0.856649,
          1.085716,
          null,
          -3.703595,
          -2.806654,
          null,
          -3.762282,
          -2.828523,
          null,
          -1.638157,
          -1.607622,
          null,
          -0.459499,
          0.49577,
          null,
          -0.567393,
          -0.694968,
          null,
          -0.694968,
          0.025106,
          null,
          -2.120286,
          -2.818926,
          null,
          -2.120286,
          -2.130198,
          null
         ],
         "z": [
          -0.697091,
          -1.282779,
          null,
          -1.282779,
          -0.879761,
          null,
          -0.879761,
          -0.472746,
          null,
          -0.472746,
          -0.386415,
          null,
          -0.14006,
          -0.137508,
          null,
          -0.137508,
          0.209044,
          null,
          0.530748,
          0.209044,
          null,
          0.530748,
          0.492557,
          null,
          0.492557,
          0.166485,
          null,
          0.166485,
          -0.060908,
          null,
          -0.060908,
          -0.51039,
          null,
          0.232751,
          0.112696,
          null,
          0.553803,
          1.100299,
          null,
          1.961153,
          1.637804,
          null,
          1.637804,
          1.307512,
          null,
          -0.472746,
          -0.14006,
          null,
          -0.060908,
          0.232751,
          null,
          0.232751,
          1.251734,
          null,
          1.100299,
          0.334518,
          null,
          -0.496547,
          0.232751,
          null,
          2.509882,
          1.637804,
          null,
          0.986458,
          0.129948,
          null,
          -0.697091,
          -0.386415,
          null,
          -0.251494,
          0.129948,
          null,
          0.166485,
          -0.14006,
          null,
          0.553803,
          1.637804,
          null,
          -0.641922,
          0.129948,
          null,
          -0.060908,
          -0.386415,
          null,
          0.553803,
          0.129948,
          null,
          1.932223,
          1.100299,
          null,
          1.100299,
          1.454011,
          null,
          -0.401285,
          -0.137508,
          null,
          0.225457,
          0.209044,
          null,
          0.530748,
          0.806296,
          null,
          0.492557,
          0.725846,
          null,
          0.553803,
          -0.697091,
          null,
          -0.697091,
          -1.440554,
          null,
          -1.282779,
          -0.888623,
          null,
          -1.282779,
          -2.37197,
          null
         ]
        }
       ],
       "layout": {
        "margin": {
         "b": 0,
         "l": 0,
         "r": 0,
         "t": 0
        },
        "scene": {
         "annotations": [
          {
           "font": {
            "color": "blue"
           },
           "showarrow": false,
           "text": "1",
           "x": 2.134492,
           "y": -0.694968,
           "yshift": 15,
           "z": -0.697091
          },
          {
           "font": {
            "color": "blue"
           },
           "showarrow": false,
           "text": "2",
           "x": 2.036881,
           "y": -2.120286,
           "yshift": 15,
           "z": -1.282779
          },
          {
           "font": {
            "color": "blue"
           },
           "showarrow": false,
           "text": "3",
           "x": 0.724225,
           "y": -2.582517,
           "yshift": 15,
           "z": -0.879761
          },
          {
           "font": {
            "color": "blue"
           },
           "showarrow": false,
           "text": "4",
           "x": 0.080018,
           "y": -1.480139,
           "yshift": 15,
           "z": -0.472746
          },
          {
           "font": {
            "color": "blue"
           },
           "showarrow": false,
           "text": "5",
           "x": 0.730345,
           "y": -0.39805,
           "yshift": 15,
           "z": -0.386415
          },
          {
           "font": {
            "color": "blue"
           },
           "showarrow": false,
           "text": "6",
           "x": -1.351739,
           "y": -1.589627,
           "yshift": 15,
           "z": -0.14006
          },
          {
           "font": {
            "color": "blue"
           },
           "showarrow": false,
           "text": "7",
           "x": -2.009159,
           "y": -2.806654,
           "yshift": 15,
           "z": -0.137508
          },
          {
           "font": {
            "color": "blue"
           },
           "showarrow": false,
           "text": "8",
           "x": -3.352694,
           "y": -2.828523,
           "yshift": 15,
           "z": 0.209044
          },
          {
           "font": {
            "color": "blue"
           },
           "showarrow": false,
           "text": "9",
           "x": -3.978855,
           "y": -1.638157,
           "yshift": 15,
           "z": 0.530748
          },
          {
           "font": {
            "color": "blue"
           },
           "showarrow": false,
           "text": "10",
           "x": -3.244253,
           "y": -0.459499,
           "yshift": 15,
           "z": 0.492557
          },
          {
           "font": {
            "color": "blue"
           },
           "showarrow": false,
           "text": "11",
           "x": -1.958228,
           "y": -0.431489,
           "yshift": 15,
           "z": 0.166485
          },
          {
           "font": {
            "color": "blue"
           },
           "showarrow": false,
           "text": "12",
           "x": -0.716834,
           "y": 1.344061,
           "yshift": 15,
           "z": -0.060908
          },
          {
           "font": {
            "color": "blue"
           },
           "showarrow": false,
           "text": "13",
           "x": 0.71839,
           "y": 3.114298,
           "yshift": 15,
           "z": -0.51039
          },
          {
           "font": {
            "color": "blue"
           },
           "showarrow": false,
           "text": "14",
           "x": -2.20892,
           "y": 2.602218,
           "yshift": 15,
           "z": 0.232751
          },
          {
           "font": {
            "color": "blue"
           },
           "showarrow": false,
           "text": "15",
           "x": -1.884503,
           "y": 3.631271,
           "yshift": 15,
           "z": 0.112696
          },
          {
           "font": {
            "color": "blue"
           },
           "showarrow": false,
           "text": "16",
           "x": -2.572219,
           "y": 2.438883,
           "yshift": 15,
           "z": 1.251734
          },
          {
           "font": {
            "color": "blue"
           },
           "showarrow": false,
           "text": "17",
           "x": -2.988541,
           "y": 2.365864,
           "yshift": 15,
           "z": -0.496547
          },
          {
           "font": {
            "color": "blue"
           },
           "showarrow": false,
           "text": "18",
           "x": -1.467432,
           "y": -3.703595,
           "yshift": 15,
           "z": -0.401285
          },
          {
           "font": {
            "color": "blue"
           },
           "showarrow": false,
           "text": "19",
           "x": -3.89869,
           "y": -3.762282,
           "yshift": 15,
           "z": 0.225457
          },
          {
           "font": {
            "color": "blue"
           },
           "showarrow": false,
           "text": "20",
           "x": -5.023451,
           "y": -1.607622,
           "yshift": 15,
           "z": 0.806296
          },
          {
           "font": {
            "color": "blue"
           },
           "showarrow": false,
           "text": "21",
           "x": -3.696718,
           "y": 0.49577,
           "yshift": 15,
           "z": 0.725846
          },
          {
           "font": {
            "color": "blue"
           },
           "showarrow": false,
           "text": "22",
           "x": 2.066939,
           "y": -2.130198,
           "yshift": 15,
           "z": -2.37197
          },
          {
           "font": {
            "color": "blue"
           },
           "showarrow": false,
           "text": "23",
           "x": 2.769276,
           "y": -2.818926,
           "yshift": 15,
           "z": -0.888623
          },
          {
           "font": {
            "color": "blue"
           },
           "showarrow": false,
           "text": "24",
           "x": 2.480324,
           "y": 0.025106,
           "yshift": 15,
           "z": -1.440554
          },
          {
           "font": {
            "color": "blue"
           },
           "showarrow": false,
           "text": "25",
           "x": 3.033453,
           "y": -0.567393,
           "yshift": 15,
           "z": 0.553803
          },
          {
           "font": {
            "color": "blue"
           },
           "showarrow": false,
           "text": "26",
           "x": 2.937968,
           "y": 0.856649,
           "yshift": 15,
           "z": 1.100299
          },
          {
           "font": {
            "color": "blue"
           },
           "showarrow": false,
           "text": "27",
           "x": 3.252686,
           "y": -1.4469,
           "yshift": 15,
           "z": 2.509882
          },
          {
           "font": {
            "color": "blue"
           },
           "showarrow": false,
           "text": "28",
           "x": 3.176036,
           "y": 1.596068,
           "yshift": 15,
           "z": 0.334518
          },
          {
           "font": {
            "color": "blue"
           },
           "showarrow": false,
           "text": "29",
           "x": 1.581602,
           "y": -1.365275,
           "yshift": 15,
           "z": 1.961153
          },
          {
           "font": {
            "color": "blue"
           },
           "showarrow": false,
           "text": "30",
           "x": 2.606369,
           "y": -1.558112,
           "yshift": 15,
           "z": 1.637804
          },
          {
           "font": {
            "color": "blue"
           },
           "showarrow": false,
           "text": "31",
           "x": 2.676929,
           "y": -2.597163,
           "yshift": 15,
           "z": 1.307512
          },
          {
           "font": {
            "color": "blue"
           },
           "showarrow": false,
           "text": "32",
           "x": 4.477691,
           "y": -0.84329,
           "yshift": 15,
           "z": 0.129948
          },
          {
           "font": {
            "color": "blue"
           },
           "showarrow": false,
           "text": "33",
           "x": 3.63504,
           "y": 0.976786,
           "yshift": 15,
           "z": 1.932223
          },
          {
           "font": {
            "color": "blue"
           },
           "showarrow": false,
           "text": "34",
           "x": 1.932956,
           "y": 1.085716,
           "yshift": 15,
           "z": 1.454011
          },
          {
           "font": {
            "color": "blue"
           },
           "showarrow": false,
           "text": "35",
           "x": 5.142751,
           "y": -0.723004,
           "yshift": 15,
           "z": 0.986458
          },
          {
           "font": {
            "color": "blue"
           },
           "showarrow": false,
           "text": "36",
           "x": 4.616306,
           "y": -1.857322,
           "yshift": 15,
           "z": -0.251494
          },
          {
           "font": {
            "color": "blue"
           },
           "showarrow": false,
           "text": "37",
           "x": 4.796314,
           "y": -0.139461,
           "yshift": 15,
           "z": -0.641922
          }
         ],
         "xaxis": {
          "showbackground": false,
          "showgrid": false,
          "showticklabels": false,
          "title": {
           "font": {
            "color": "white"
           }
          },
          "zeroline": false
         },
         "yaxis": {
          "showbackground": false,
          "showgrid": false,
          "showticklabels": false,
          "title": {
           "font": {
            "color": "white"
           }
          },
          "zeroline": false
         },
         "zaxis": {
          "showbackground": false,
          "showgrid": false,
          "showticklabels": false,
          "title": {
           "font": {
            "color": "white"
           }
          },
          "zeroline": false
         }
        },
        "showlegend": false,
        "template": {
         "data": {
          "bar": [
           {
            "error_x": {
             "color": "#2a3f5f"
            },
            "error_y": {
             "color": "#2a3f5f"
            },
            "marker": {
             "line": {
              "color": "#E5ECF6",
              "width": 0.5
             },
             "pattern": {
              "fillmode": "overlay",
              "size": 10,
              "solidity": 0.2
             }
            },
            "type": "bar"
           }
          ],
          "barpolar": [
           {
            "marker": {
             "line": {
              "color": "#E5ECF6",
              "width": 0.5
             },
             "pattern": {
              "fillmode": "overlay",
              "size": 10,
              "solidity": 0.2
             }
            },
            "type": "barpolar"
           }
          ],
          "carpet": [
           {
            "aaxis": {
             "endlinecolor": "#2a3f5f",
             "gridcolor": "white",
             "linecolor": "white",
             "minorgridcolor": "white",
             "startlinecolor": "#2a3f5f"
            },
            "baxis": {
             "endlinecolor": "#2a3f5f",
             "gridcolor": "white",
             "linecolor": "white",
             "minorgridcolor": "white",
             "startlinecolor": "#2a3f5f"
            },
            "type": "carpet"
           }
          ],
          "choropleth": [
           {
            "colorbar": {
             "outlinewidth": 0,
             "ticks": ""
            },
            "type": "choropleth"
           }
          ],
          "contour": [
           {
            "colorbar": {
             "outlinewidth": 0,
             "ticks": ""
            },
            "colorscale": [
             [
              0,
              "#0d0887"
             ],
             [
              0.1111111111111111,
              "#46039f"
             ],
             [
              0.2222222222222222,
              "#7201a8"
             ],
             [
              0.3333333333333333,
              "#9c179e"
             ],
             [
              0.4444444444444444,
              "#bd3786"
             ],
             [
              0.5555555555555556,
              "#d8576b"
             ],
             [
              0.6666666666666666,
              "#ed7953"
             ],
             [
              0.7777777777777778,
              "#fb9f3a"
             ],
             [
              0.8888888888888888,
              "#fdca26"
             ],
             [
              1,
              "#f0f921"
             ]
            ],
            "type": "contour"
           }
          ],
          "contourcarpet": [
           {
            "colorbar": {
             "outlinewidth": 0,
             "ticks": ""
            },
            "type": "contourcarpet"
           }
          ],
          "heatmap": [
           {
            "colorbar": {
             "outlinewidth": 0,
             "ticks": ""
            },
            "colorscale": [
             [
              0,
              "#0d0887"
             ],
             [
              0.1111111111111111,
              "#46039f"
             ],
             [
              0.2222222222222222,
              "#7201a8"
             ],
             [
              0.3333333333333333,
              "#9c179e"
             ],
             [
              0.4444444444444444,
              "#bd3786"
             ],
             [
              0.5555555555555556,
              "#d8576b"
             ],
             [
              0.6666666666666666,
              "#ed7953"
             ],
             [
              0.7777777777777778,
              "#fb9f3a"
             ],
             [
              0.8888888888888888,
              "#fdca26"
             ],
             [
              1,
              "#f0f921"
             ]
            ],
            "type": "heatmap"
           }
          ],
          "heatmapgl": [
           {
            "colorbar": {
             "outlinewidth": 0,
             "ticks": ""
            },
            "colorscale": [
             [
              0,
              "#0d0887"
             ],
             [
              0.1111111111111111,
              "#46039f"
             ],
             [
              0.2222222222222222,
              "#7201a8"
             ],
             [
              0.3333333333333333,
              "#9c179e"
             ],
             [
              0.4444444444444444,
              "#bd3786"
             ],
             [
              0.5555555555555556,
              "#d8576b"
             ],
             [
              0.6666666666666666,
              "#ed7953"
             ],
             [
              0.7777777777777778,
              "#fb9f3a"
             ],
             [
              0.8888888888888888,
              "#fdca26"
             ],
             [
              1,
              "#f0f921"
             ]
            ],
            "type": "heatmapgl"
           }
          ],
          "histogram": [
           {
            "marker": {
             "pattern": {
              "fillmode": "overlay",
              "size": 10,
              "solidity": 0.2
             }
            },
            "type": "histogram"
           }
          ],
          "histogram2d": [
           {
            "colorbar": {
             "outlinewidth": 0,
             "ticks": ""
            },
            "colorscale": [
             [
              0,
              "#0d0887"
             ],
             [
              0.1111111111111111,
              "#46039f"
             ],
             [
              0.2222222222222222,
              "#7201a8"
             ],
             [
              0.3333333333333333,
              "#9c179e"
             ],
             [
              0.4444444444444444,
              "#bd3786"
             ],
             [
              0.5555555555555556,
              "#d8576b"
             ],
             [
              0.6666666666666666,
              "#ed7953"
             ],
             [
              0.7777777777777778,
              "#fb9f3a"
             ],
             [
              0.8888888888888888,
              "#fdca26"
             ],
             [
              1,
              "#f0f921"
             ]
            ],
            "type": "histogram2d"
           }
          ],
          "histogram2dcontour": [
           {
            "colorbar": {
             "outlinewidth": 0,
             "ticks": ""
            },
            "colorscale": [
             [
              0,
              "#0d0887"
             ],
             [
              0.1111111111111111,
              "#46039f"
             ],
             [
              0.2222222222222222,
              "#7201a8"
             ],
             [
              0.3333333333333333,
              "#9c179e"
             ],
             [
              0.4444444444444444,
              "#bd3786"
             ],
             [
              0.5555555555555556,
              "#d8576b"
             ],
             [
              0.6666666666666666,
              "#ed7953"
             ],
             [
              0.7777777777777778,
              "#fb9f3a"
             ],
             [
              0.8888888888888888,
              "#fdca26"
             ],
             [
              1,
              "#f0f921"
             ]
            ],
            "type": "histogram2dcontour"
           }
          ],
          "mesh3d": [
           {
            "colorbar": {
             "outlinewidth": 0,
             "ticks": ""
            },
            "type": "mesh3d"
           }
          ],
          "parcoords": [
           {
            "line": {
             "colorbar": {
              "outlinewidth": 0,
              "ticks": ""
             }
            },
            "type": "parcoords"
           }
          ],
          "pie": [
           {
            "automargin": true,
            "type": "pie"
           }
          ],
          "scatter": [
           {
            "fillpattern": {
             "fillmode": "overlay",
             "size": 10,
             "solidity": 0.2
            },
            "type": "scatter"
           }
          ],
          "scatter3d": [
           {
            "line": {
             "colorbar": {
              "outlinewidth": 0,
              "ticks": ""
             }
            },
            "marker": {
             "colorbar": {
              "outlinewidth": 0,
              "ticks": ""
             }
            },
            "type": "scatter3d"
           }
          ],
          "scattercarpet": [
           {
            "marker": {
             "colorbar": {
              "outlinewidth": 0,
              "ticks": ""
             }
            },
            "type": "scattercarpet"
           }
          ],
          "scattergeo": [
           {
            "marker": {
             "colorbar": {
              "outlinewidth": 0,
              "ticks": ""
             }
            },
            "type": "scattergeo"
           }
          ],
          "scattergl": [
           {
            "marker": {
             "colorbar": {
              "outlinewidth": 0,
              "ticks": ""
             }
            },
            "type": "scattergl"
           }
          ],
          "scattermapbox": [
           {
            "marker": {
             "colorbar": {
              "outlinewidth": 0,
              "ticks": ""
             }
            },
            "type": "scattermapbox"
           }
          ],
          "scatterpolar": [
           {
            "marker": {
             "colorbar": {
              "outlinewidth": 0,
              "ticks": ""
             }
            },
            "type": "scatterpolar"
           }
          ],
          "scatterpolargl": [
           {
            "marker": {
             "colorbar": {
              "outlinewidth": 0,
              "ticks": ""
             }
            },
            "type": "scatterpolargl"
           }
          ],
          "scatterternary": [
           {
            "marker": {
             "colorbar": {
              "outlinewidth": 0,
              "ticks": ""
             }
            },
            "type": "scatterternary"
           }
          ],
          "surface": [
           {
            "colorbar": {
             "outlinewidth": 0,
             "ticks": ""
            },
            "colorscale": [
             [
              0,
              "#0d0887"
             ],
             [
              0.1111111111111111,
              "#46039f"
             ],
             [
              0.2222222222222222,
              "#7201a8"
             ],
             [
              0.3333333333333333,
              "#9c179e"
             ],
             [
              0.4444444444444444,
              "#bd3786"
             ],
             [
              0.5555555555555556,
              "#d8576b"
             ],
             [
              0.6666666666666666,
              "#ed7953"
             ],
             [
              0.7777777777777778,
              "#fb9f3a"
             ],
             [
              0.8888888888888888,
              "#fdca26"
             ],
             [
              1,
              "#f0f921"
             ]
            ],
            "type": "surface"
           }
          ],
          "table": [
           {
            "cells": {
             "fill": {
              "color": "#EBF0F8"
             },
             "line": {
              "color": "white"
             }
            },
            "header": {
             "fill": {
              "color": "#C8D4E3"
             },
             "line": {
              "color": "white"
             }
            },
            "type": "table"
           }
          ]
         },
         "layout": {
          "annotationdefaults": {
           "arrowcolor": "#2a3f5f",
           "arrowhead": 0,
           "arrowwidth": 1
          },
          "autotypenumbers": "strict",
          "coloraxis": {
           "colorbar": {
            "outlinewidth": 0,
            "ticks": ""
           }
          },
          "colorscale": {
           "diverging": [
            [
             0,
             "#8e0152"
            ],
            [
             0.1,
             "#c51b7d"
            ],
            [
             0.2,
             "#de77ae"
            ],
            [
             0.3,
             "#f1b6da"
            ],
            [
             0.4,
             "#fde0ef"
            ],
            [
             0.5,
             "#f7f7f7"
            ],
            [
             0.6,
             "#e6f5d0"
            ],
            [
             0.7,
             "#b8e186"
            ],
            [
             0.8,
             "#7fbc41"
            ],
            [
             0.9,
             "#4d9221"
            ],
            [
             1,
             "#276419"
            ]
           ],
           "sequential": [
            [
             0,
             "#0d0887"
            ],
            [
             0.1111111111111111,
             "#46039f"
            ],
            [
             0.2222222222222222,
             "#7201a8"
            ],
            [
             0.3333333333333333,
             "#9c179e"
            ],
            [
             0.4444444444444444,
             "#bd3786"
            ],
            [
             0.5555555555555556,
             "#d8576b"
            ],
            [
             0.6666666666666666,
             "#ed7953"
            ],
            [
             0.7777777777777778,
             "#fb9f3a"
            ],
            [
             0.8888888888888888,
             "#fdca26"
            ],
            [
             1,
             "#f0f921"
            ]
           ],
           "sequentialminus": [
            [
             0,
             "#0d0887"
            ],
            [
             0.1111111111111111,
             "#46039f"
            ],
            [
             0.2222222222222222,
             "#7201a8"
            ],
            [
             0.3333333333333333,
             "#9c179e"
            ],
            [
             0.4444444444444444,
             "#bd3786"
            ],
            [
             0.5555555555555556,
             "#d8576b"
            ],
            [
             0.6666666666666666,
             "#ed7953"
            ],
            [
             0.7777777777777778,
             "#fb9f3a"
            ],
            [
             0.8888888888888888,
             "#fdca26"
            ],
            [
             1,
             "#f0f921"
            ]
           ]
          },
          "colorway": [
           "#636efa",
           "#EF553B",
           "#00cc96",
           "#ab63fa",
           "#FFA15A",
           "#19d3f3",
           "#FF6692",
           "#B6E880",
           "#FF97FF",
           "#FECB52"
          ],
          "font": {
           "color": "#2a3f5f"
          },
          "geo": {
           "bgcolor": "white",
           "lakecolor": "white",
           "landcolor": "#E5ECF6",
           "showlakes": true,
           "showland": true,
           "subunitcolor": "white"
          },
          "hoverlabel": {
           "align": "left"
          },
          "hovermode": "closest",
          "mapbox": {
           "style": "light"
          },
          "paper_bgcolor": "white",
          "plot_bgcolor": "#E5ECF6",
          "polar": {
           "angularaxis": {
            "gridcolor": "white",
            "linecolor": "white",
            "ticks": ""
           },
           "bgcolor": "#E5ECF6",
           "radialaxis": {
            "gridcolor": "white",
            "linecolor": "white",
            "ticks": ""
           }
          },
          "scene": {
           "xaxis": {
            "backgroundcolor": "#E5ECF6",
            "gridcolor": "white",
            "gridwidth": 2,
            "linecolor": "white",
            "showbackground": true,
            "ticks": "",
            "zerolinecolor": "white"
           },
           "yaxis": {
            "backgroundcolor": "#E5ECF6",
            "gridcolor": "white",
            "gridwidth": 2,
            "linecolor": "white",
            "showbackground": true,
            "ticks": "",
            "zerolinecolor": "white"
           },
           "zaxis": {
            "backgroundcolor": "#E5ECF6",
            "gridcolor": "white",
            "gridwidth": 2,
            "linecolor": "white",
            "showbackground": true,
            "ticks": "",
            "zerolinecolor": "white"
           }
          },
          "shapedefaults": {
           "line": {
            "color": "#2a3f5f"
           }
          },
          "ternary": {
           "aaxis": {
            "gridcolor": "white",
            "linecolor": "white",
            "ticks": ""
           },
           "baxis": {
            "gridcolor": "white",
            "linecolor": "white",
            "ticks": ""
           },
           "bgcolor": "#E5ECF6",
           "caxis": {
            "gridcolor": "white",
            "linecolor": "white",
            "ticks": ""
           }
          },
          "title": {
           "x": 0.05
          },
          "xaxis": {
           "automargin": true,
           "gridcolor": "white",
           "linecolor": "white",
           "ticks": "",
           "title": {
            "standoff": 15
           },
           "zerolinecolor": "white",
           "zerolinewidth": 2
          },
          "yaxis": {
           "automargin": true,
           "gridcolor": "white",
           "linecolor": "white",
           "ticks": "",
           "title": {
            "standoff": 15
           },
           "zerolinecolor": "white",
           "zerolinewidth": 2
          }
         }
        },
        "title": {
         "text": "LS1621",
         "x": 0.5,
         "xanchor": "center",
         "y": 0.9,
         "yanchor": "top"
        },
        "updatemenus": [
         {
          "buttons": [
           {
            "args": [
             {
              "scene.annotations": [
               {
                "font": {
                 "color": "blue"
                },
                "showarrow": false,
                "text": 1,
                "x": 2.134492,
                "y": -0.694968,
                "yshift": 15,
                "z": -0.697091
               },
               {
                "font": {
                 "color": "blue"
                },
                "showarrow": false,
                "text": 2,
                "x": 2.036881,
                "y": -2.120286,
                "yshift": 15,
                "z": -1.282779
               },
               {
                "font": {
                 "color": "blue"
                },
                "showarrow": false,
                "text": 3,
                "x": 0.724225,
                "y": -2.582517,
                "yshift": 15,
                "z": -0.879761
               },
               {
                "font": {
                 "color": "blue"
                },
                "showarrow": false,
                "text": 4,
                "x": 0.080018,
                "y": -1.480139,
                "yshift": 15,
                "z": -0.472746
               },
               {
                "font": {
                 "color": "blue"
                },
                "showarrow": false,
                "text": 5,
                "x": 0.730345,
                "y": -0.39805,
                "yshift": 15,
                "z": -0.386415
               },
               {
                "font": {
                 "color": "blue"
                },
                "showarrow": false,
                "text": 6,
                "x": -1.351739,
                "y": -1.589627,
                "yshift": 15,
                "z": -0.14006
               },
               {
                "font": {
                 "color": "blue"
                },
                "showarrow": false,
                "text": 7,
                "x": -2.009159,
                "y": -2.806654,
                "yshift": 15,
                "z": -0.137508
               },
               {
                "font": {
                 "color": "blue"
                },
                "showarrow": false,
                "text": 8,
                "x": -3.352694,
                "y": -2.828523,
                "yshift": 15,
                "z": 0.209044
               },
               {
                "font": {
                 "color": "blue"
                },
                "showarrow": false,
                "text": 9,
                "x": -3.978855,
                "y": -1.638157,
                "yshift": 15,
                "z": 0.530748
               },
               {
                "font": {
                 "color": "blue"
                },
                "showarrow": false,
                "text": 10,
                "x": -3.244253,
                "y": -0.459499,
                "yshift": 15,
                "z": 0.492557
               },
               {
                "font": {
                 "color": "blue"
                },
                "showarrow": false,
                "text": 11,
                "x": -1.958228,
                "y": -0.431489,
                "yshift": 15,
                "z": 0.166485
               },
               {
                "font": {
                 "color": "blue"
                },
                "showarrow": false,
                "text": 12,
                "x": -0.716834,
                "y": 1.344061,
                "yshift": 15,
                "z": -0.060908
               },
               {
                "font": {
                 "color": "blue"
                },
                "showarrow": false,
                "text": 13,
                "x": 0.71839,
                "y": 3.114298,
                "yshift": 15,
                "z": -0.51039
               },
               {
                "font": {
                 "color": "blue"
                },
                "showarrow": false,
                "text": 14,
                "x": -2.20892,
                "y": 2.602218,
                "yshift": 15,
                "z": 0.232751
               },
               {
                "font": {
                 "color": "blue"
                },
                "showarrow": false,
                "text": 15,
                "x": -1.884503,
                "y": 3.631271,
                "yshift": 15,
                "z": 0.112696
               },
               {
                "font": {
                 "color": "blue"
                },
                "showarrow": false,
                "text": 16,
                "x": -2.572219,
                "y": 2.438883,
                "yshift": 15,
                "z": 1.251734
               },
               {
                "font": {
                 "color": "blue"
                },
                "showarrow": false,
                "text": 17,
                "x": -2.988541,
                "y": 2.365864,
                "yshift": 15,
                "z": -0.496547
               },
               {
                "font": {
                 "color": "blue"
                },
                "showarrow": false,
                "text": 18,
                "x": -1.467432,
                "y": -3.703595,
                "yshift": 15,
                "z": -0.401285
               },
               {
                "font": {
                 "color": "blue"
                },
                "showarrow": false,
                "text": 19,
                "x": -3.89869,
                "y": -3.762282,
                "yshift": 15,
                "z": 0.225457
               },
               {
                "font": {
                 "color": "blue"
                },
                "showarrow": false,
                "text": 20,
                "x": -5.023451,
                "y": -1.607622,
                "yshift": 15,
                "z": 0.806296
               },
               {
                "font": {
                 "color": "blue"
                },
                "showarrow": false,
                "text": 21,
                "x": -3.696718,
                "y": 0.49577,
                "yshift": 15,
                "z": 0.725846
               },
               {
                "font": {
                 "color": "blue"
                },
                "showarrow": false,
                "text": 22,
                "x": 2.066939,
                "y": -2.130198,
                "yshift": 15,
                "z": -2.37197
               },
               {
                "font": {
                 "color": "blue"
                },
                "showarrow": false,
                "text": 23,
                "x": 2.769276,
                "y": -2.818926,
                "yshift": 15,
                "z": -0.888623
               },
               {
                "font": {
                 "color": "blue"
                },
                "showarrow": false,
                "text": 24,
                "x": 2.480324,
                "y": 0.025106,
                "yshift": 15,
                "z": -1.440554
               },
               {
                "font": {
                 "color": "blue"
                },
                "showarrow": false,
                "text": 25,
                "x": 3.033453,
                "y": -0.567393,
                "yshift": 15,
                "z": 0.553803
               },
               {
                "font": {
                 "color": "blue"
                },
                "showarrow": false,
                "text": 26,
                "x": 2.937968,
                "y": 0.856649,
                "yshift": 15,
                "z": 1.100299
               },
               {
                "font": {
                 "color": "blue"
                },
                "showarrow": false,
                "text": 27,
                "x": 3.252686,
                "y": -1.4469,
                "yshift": 15,
                "z": 2.509882
               },
               {
                "font": {
                 "color": "blue"
                },
                "showarrow": false,
                "text": 28,
                "x": 3.176036,
                "y": 1.596068,
                "yshift": 15,
                "z": 0.334518
               },
               {
                "font": {
                 "color": "blue"
                },
                "showarrow": false,
                "text": 29,
                "x": 1.581602,
                "y": -1.365275,
                "yshift": 15,
                "z": 1.961153
               },
               {
                "font": {
                 "color": "blue"
                },
                "showarrow": false,
                "text": 30,
                "x": 2.606369,
                "y": -1.558112,
                "yshift": 15,
                "z": 1.637804
               },
               {
                "font": {
                 "color": "blue"
                },
                "showarrow": false,
                "text": 31,
                "x": 2.676929,
                "y": -2.597163,
                "yshift": 15,
                "z": 1.307512
               },
               {
                "font": {
                 "color": "blue"
                },
                "showarrow": false,
                "text": 32,
                "x": 4.477691,
                "y": -0.84329,
                "yshift": 15,
                "z": 0.129948
               },
               {
                "font": {
                 "color": "blue"
                },
                "showarrow": false,
                "text": 33,
                "x": 3.63504,
                "y": 0.976786,
                "yshift": 15,
                "z": 1.932223
               },
               {
                "font": {
                 "color": "blue"
                },
                "showarrow": false,
                "text": 34,
                "x": 1.932956,
                "y": 1.085716,
                "yshift": 15,
                "z": 1.454011
               },
               {
                "font": {
                 "color": "blue"
                },
                "showarrow": false,
                "text": 35,
                "x": 5.142751,
                "y": -0.723004,
                "yshift": 15,
                "z": 0.986458
               },
               {
                "font": {
                 "color": "blue"
                },
                "showarrow": false,
                "text": 36,
                "x": 4.616306,
                "y": -1.857322,
                "yshift": 15,
                "z": -0.251494
               },
               {
                "font": {
                 "color": "blue"
                },
                "showarrow": false,
                "text": 37,
                "x": 4.796314,
                "y": -0.139461,
                "yshift": 15,
                "z": -0.641922
               }
              ]
             }
            ],
            "label": "Atom indices",
            "method": "relayout"
           },
           {
            "args": [
             {
              "scene.annotations": [
               {
                "showarrow": false,
                "text": 1.54,
                "x": 2.0856865,
                "y": -1.4076270000000002,
                "yshift": 10,
                "z": -0.989935
               },
               {
                "showarrow": false,
                "text": 1.45,
                "x": 1.3805530000000001,
                "y": -2.3514015,
                "yshift": 10,
                "z": -1.08127
               },
               {
                "showarrow": false,
                "text": 1.34,
                "x": 0.4021215,
                "y": -2.0313280000000002,
                "yshift": 10,
                "z": -0.6762535000000001
               },
               {
                "showarrow": false,
                "text": 1.27,
                "x": 0.4051815,
                "y": -0.9390945,
                "yshift": 10,
                "z": -0.42958050000000003
               },
               {
                "showarrow": false,
                "text": 1.38,
                "x": -1.6804489999999999,
                "y": -2.1981405,
                "yshift": 10,
                "z": -0.138784
               },
               {
                "showarrow": false,
                "text": 1.39,
                "x": -2.6809265,
                "y": -2.8175885000000003,
                "yshift": 10,
                "z": 0.03576800000000001
               },
               {
                "showarrow": false,
                "text": 1.38,
                "x": -3.6657745,
                "y": -2.23334,
                "yshift": 10,
                "z": 0.369896
               },
               {
                "showarrow": false,
                "text": 1.39,
                "x": -3.611554,
                "y": -1.048828,
                "yshift": 10,
                "z": 0.5116525000000001
               },
               {
                "showarrow": false,
                "text": 1.33,
                "x": -2.6012405000000003,
                "y": -0.445494,
                "yshift": 10,
                "z": 0.329521
               },
               {
                "showarrow": false,
                "text": 2.18,
                "x": -1.337531,
                "y": 0.45628599999999997,
                "yshift": 10,
                "z": 0.0527885
               },
               {
                "showarrow": false,
                "text": 2.32,
                "x": 0.0007780000000000009,
                "y": 2.2291795,
                "yshift": 10,
                "z": -0.285649
               },
               {
                "showarrow": false,
                "text": 1.09,
                "x": -2.0467115,
                "y": 3.1167445000000003,
                "yshift": 10,
                "z": 0.1727235
               },
               {
                "showarrow": false,
                "text": 1.53,
                "x": 2.9857105,
                "y": 0.14462799999999998,
                "yshift": 10,
                "z": 0.827051
               },
               {
                "showarrow": false,
                "text": 1.09,
                "x": 2.0939855,
                "y": -1.4616935,
                "yshift": 10,
                "z": 1.7994785
               },
               {
                "showarrow": false,
                "text": 1.09,
                "x": 2.641649,
                "y": -2.0776375,
                "yshift": 10,
                "z": 1.472658
               },
               {
                "showarrow": false,
                "text": 1.47,
                "x": -0.6358605,
                "y": -1.534883,
                "yshift": 10,
                "z": -0.306403
               },
               {
                "showarrow": false,
                "text": 1.97,
                "x": -1.462877,
                "y": 1.9731395,
                "yshift": 10,
                "z": 0.08592150000000001
               },
               {
                "showarrow": false,
                "text": 1.09,
                "x": -2.3905695,
                "y": 2.5205505,
                "yshift": 10,
                "z": 0.7422424999999999
               },
               {
                "showarrow": false,
                "text": 1.09,
                "x": 3.0570019999999998,
                "y": 1.2263585,
                "yshift": 10,
                "z": 0.7174084999999999
               },
               {
                "showarrow": false,
                "text": 1.09,
                "x": -2.5987305000000003,
                "y": 2.4840410000000004,
                "yshift": 10,
                "z": -0.13189800000000002
               },
               {
                "showarrow": false,
                "text": 1.09,
                "x": 2.9295275,
                "y": -1.502506,
                "yshift": 10,
                "z": 2.073843
               },
               {
                "showarrow": false,
                "text": 1.09,
                "x": 4.810221,
                "y": -0.783147,
                "yshift": 10,
                "z": 0.558203
               },
               {
                "showarrow": false,
                "text": 1.47,
                "x": 1.4324184999999998,
                "y": -0.546509,
                "yshift": 10,
                "z": -0.541753
               },
               {
                "showarrow": false,
                "text": 1.09,
                "x": 4.5469985,
                "y": -1.350306,
                "yshift": 10,
                "z": -0.060772999999999994
               },
               {
                "showarrow": false,
                "text": 1.34,
                "x": -1.6549835000000002,
                "y": -1.010558,
                "yshift": 10,
                "z": 0.013212500000000002
               },
               {
                "showarrow": false,
                "text": 1.53,
                "x": 2.8199110000000003,
                "y": -1.0627525,
                "yshift": 10,
                "z": 1.0958035000000002
               },
               {
                "showarrow": false,
                "text": 1.09,
                "x": 4.6370024999999995,
                "y": -0.49137549999999997,
                "yshift": 10,
                "z": -0.25598699999999996
               },
               {
                "showarrow": false,
                "text": 2.29,
                "x": 0.006755500000000025,
                "y": 0.47300549999999997,
                "yshift": 10,
                "z": -0.2236615
               },
               {
                "showarrow": false,
                "text": 1.53,
                "x": 3.755572,
                "y": -0.7053415000000001,
                "yshift": 10,
                "z": 0.3418755
               },
               {
                "showarrow": false,
                "text": 1.09,
                "x": 3.286504,
                "y": 0.9167175000000001,
                "yshift": 10,
                "z": 1.516261
               },
               {
                "showarrow": false,
                "text": 1.09,
                "x": 2.4354620000000002,
                "y": 0.9711825,
                "yshift": 10,
                "z": 1.277155
               },
               {
                "showarrow": false,
                "text": 1.08,
                "x": -1.7382955,
                "y": -3.2551245,
                "yshift": 10,
                "z": -0.2693965
               },
               {
                "showarrow": false,
                "text": 1.08,
                "x": -3.625692,
                "y": -3.2954025,
                "yshift": 10,
                "z": 0.2172505
               },
               {
                "showarrow": false,
                "text": 1.08,
                "x": -4.5011529999999995,
                "y": -1.6228895,
                "yshift": 10,
                "z": 0.6685220000000001
               },
               {
                "showarrow": false,
                "text": 1.08,
                "x": -3.4704855,
                "y": 0.0181355,
                "yshift": 10,
                "z": 0.6092015
               },
               {
                "showarrow": false,
                "text": 1.55,
                "x": 2.5839725,
                "y": -0.6311805,
                "yshift": 10,
                "z": -0.07164399999999999
               },
               {
                "showarrow": false,
                "text": 1.09,
                "x": 2.3074079999999997,
                "y": -0.33493100000000003,
                "yshift": 10,
                "z": -1.0688225
               },
               {
                "showarrow": false,
                "text": 1.09,
                "x": 2.4030785000000003,
                "y": -2.4696059999999997,
                "yshift": 10,
                "z": -1.085701
               },
               {
                "showarrow": false,
                "text": 1.09,
                "x": 2.0519100000000003,
                "y": -2.125242,
                "yshift": 10,
                "z": -1.8273745
               }
              ]
             }
            ],
            "label": "Bond lengths",
            "method": "relayout"
           },
           {
            "args": [
             {
              "scene.annotations": [
               {
                "font": {
                 "color": "blue"
                },
                "showarrow": false,
                "text": 1,
                "x": 2.134492,
                "y": -0.694968,
                "yshift": 15,
                "z": -0.697091
               },
               {
                "font": {
                 "color": "blue"
                },
                "showarrow": false,
                "text": 2,
                "x": 2.036881,
                "y": -2.120286,
                "yshift": 15,
                "z": -1.282779
               },
               {
                "font": {
                 "color": "blue"
                },
                "showarrow": false,
                "text": 3,
                "x": 0.724225,
                "y": -2.582517,
                "yshift": 15,
                "z": -0.879761
               },
               {
                "font": {
                 "color": "blue"
                },
                "showarrow": false,
                "text": 4,
                "x": 0.080018,
                "y": -1.480139,
                "yshift": 15,
                "z": -0.472746
               },
               {
                "font": {
                 "color": "blue"
                },
                "showarrow": false,
                "text": 5,
                "x": 0.730345,
                "y": -0.39805,
                "yshift": 15,
                "z": -0.386415
               },
               {
                "font": {
                 "color": "blue"
                },
                "showarrow": false,
                "text": 6,
                "x": -1.351739,
                "y": -1.589627,
                "yshift": 15,
                "z": -0.14006
               },
               {
                "font": {
                 "color": "blue"
                },
                "showarrow": false,
                "text": 7,
                "x": -2.009159,
                "y": -2.806654,
                "yshift": 15,
                "z": -0.137508
               },
               {
                "font": {
                 "color": "blue"
                },
                "showarrow": false,
                "text": 8,
                "x": -3.352694,
                "y": -2.828523,
                "yshift": 15,
                "z": 0.209044
               },
               {
                "font": {
                 "color": "blue"
                },
                "showarrow": false,
                "text": 9,
                "x": -3.978855,
                "y": -1.638157,
                "yshift": 15,
                "z": 0.530748
               },
               {
                "font": {
                 "color": "blue"
                },
                "showarrow": false,
                "text": 10,
                "x": -3.244253,
                "y": -0.459499,
                "yshift": 15,
                "z": 0.492557
               },
               {
                "font": {
                 "color": "blue"
                },
                "showarrow": false,
                "text": 11,
                "x": -1.958228,
                "y": -0.431489,
                "yshift": 15,
                "z": 0.166485
               },
               {
                "font": {
                 "color": "blue"
                },
                "showarrow": false,
                "text": 12,
                "x": -0.716834,
                "y": 1.344061,
                "yshift": 15,
                "z": -0.060908
               },
               {
                "font": {
                 "color": "blue"
                },
                "showarrow": false,
                "text": 13,
                "x": 0.71839,
                "y": 3.114298,
                "yshift": 15,
                "z": -0.51039
               },
               {
                "font": {
                 "color": "blue"
                },
                "showarrow": false,
                "text": 14,
                "x": -2.20892,
                "y": 2.602218,
                "yshift": 15,
                "z": 0.232751
               },
               {
                "font": {
                 "color": "blue"
                },
                "showarrow": false,
                "text": 15,
                "x": -1.884503,
                "y": 3.631271,
                "yshift": 15,
                "z": 0.112696
               },
               {
                "font": {
                 "color": "blue"
                },
                "showarrow": false,
                "text": 16,
                "x": -2.572219,
                "y": 2.438883,
                "yshift": 15,
                "z": 1.251734
               },
               {
                "font": {
                 "color": "blue"
                },
                "showarrow": false,
                "text": 17,
                "x": -2.988541,
                "y": 2.365864,
                "yshift": 15,
                "z": -0.496547
               },
               {
                "font": {
                 "color": "blue"
                },
                "showarrow": false,
                "text": 18,
                "x": -1.467432,
                "y": -3.703595,
                "yshift": 15,
                "z": -0.401285
               },
               {
                "font": {
                 "color": "blue"
                },
                "showarrow": false,
                "text": 19,
                "x": -3.89869,
                "y": -3.762282,
                "yshift": 15,
                "z": 0.225457
               },
               {
                "font": {
                 "color": "blue"
                },
                "showarrow": false,
                "text": 20,
                "x": -5.023451,
                "y": -1.607622,
                "yshift": 15,
                "z": 0.806296
               },
               {
                "font": {
                 "color": "blue"
                },
                "showarrow": false,
                "text": 21,
                "x": -3.696718,
                "y": 0.49577,
                "yshift": 15,
                "z": 0.725846
               },
               {
                "font": {
                 "color": "blue"
                },
                "showarrow": false,
                "text": 22,
                "x": 2.066939,
                "y": -2.130198,
                "yshift": 15,
                "z": -2.37197
               },
               {
                "font": {
                 "color": "blue"
                },
                "showarrow": false,
                "text": 23,
                "x": 2.769276,
                "y": -2.818926,
                "yshift": 15,
                "z": -0.888623
               },
               {
                "font": {
                 "color": "blue"
                },
                "showarrow": false,
                "text": 24,
                "x": 2.480324,
                "y": 0.025106,
                "yshift": 15,
                "z": -1.440554
               },
               {
                "font": {
                 "color": "blue"
                },
                "showarrow": false,
                "text": 25,
                "x": 3.033453,
                "y": -0.567393,
                "yshift": 15,
                "z": 0.553803
               },
               {
                "font": {
                 "color": "blue"
                },
                "showarrow": false,
                "text": 26,
                "x": 2.937968,
                "y": 0.856649,
                "yshift": 15,
                "z": 1.100299
               },
               {
                "font": {
                 "color": "blue"
                },
                "showarrow": false,
                "text": 27,
                "x": 3.252686,
                "y": -1.4469,
                "yshift": 15,
                "z": 2.509882
               },
               {
                "font": {
                 "color": "blue"
                },
                "showarrow": false,
                "text": 28,
                "x": 3.176036,
                "y": 1.596068,
                "yshift": 15,
                "z": 0.334518
               },
               {
                "font": {
                 "color": "blue"
                },
                "showarrow": false,
                "text": 29,
                "x": 1.581602,
                "y": -1.365275,
                "yshift": 15,
                "z": 1.961153
               },
               {
                "font": {
                 "color": "blue"
                },
                "showarrow": false,
                "text": 30,
                "x": 2.606369,
                "y": -1.558112,
                "yshift": 15,
                "z": 1.637804
               },
               {
                "font": {
                 "color": "blue"
                },
                "showarrow": false,
                "text": 31,
                "x": 2.676929,
                "y": -2.597163,
                "yshift": 15,
                "z": 1.307512
               },
               {
                "font": {
                 "color": "blue"
                },
                "showarrow": false,
                "text": 32,
                "x": 4.477691,
                "y": -0.84329,
                "yshift": 15,
                "z": 0.129948
               },
               {
                "font": {
                 "color": "blue"
                },
                "showarrow": false,
                "text": 33,
                "x": 3.63504,
                "y": 0.976786,
                "yshift": 15,
                "z": 1.932223
               },
               {
                "font": {
                 "color": "blue"
                },
                "showarrow": false,
                "text": 34,
                "x": 1.932956,
                "y": 1.085716,
                "yshift": 15,
                "z": 1.454011
               },
               {
                "font": {
                 "color": "blue"
                },
                "showarrow": false,
                "text": 35,
                "x": 5.142751,
                "y": -0.723004,
                "yshift": 15,
                "z": 0.986458
               },
               {
                "font": {
                 "color": "blue"
                },
                "showarrow": false,
                "text": 36,
                "x": 4.616306,
                "y": -1.857322,
                "yshift": 15,
                "z": -0.251494
               },
               {
                "font": {
                 "color": "blue"
                },
                "showarrow": false,
                "text": 37,
                "x": 4.796314,
                "y": -0.139461,
                "yshift": 15,
                "z": -0.641922
               },
               {
                "showarrow": false,
                "text": 1.54,
                "x": 2.0856865,
                "y": -1.4076270000000002,
                "yshift": 10,
                "z": -0.989935
               },
               {
                "showarrow": false,
                "text": 1.45,
                "x": 1.3805530000000001,
                "y": -2.3514015,
                "yshift": 10,
                "z": -1.08127
               },
               {
                "showarrow": false,
                "text": 1.34,
                "x": 0.4021215,
                "y": -2.0313280000000002,
                "yshift": 10,
                "z": -0.6762535000000001
               },
               {
                "showarrow": false,
                "text": 1.27,
                "x": 0.4051815,
                "y": -0.9390945,
                "yshift": 10,
                "z": -0.42958050000000003
               },
               {
                "showarrow": false,
                "text": 1.38,
                "x": -1.6804489999999999,
                "y": -2.1981405,
                "yshift": 10,
                "z": -0.138784
               },
               {
                "showarrow": false,
                "text": 1.39,
                "x": -2.6809265,
                "y": -2.8175885000000003,
                "yshift": 10,
                "z": 0.03576800000000001
               },
               {
                "showarrow": false,
                "text": 1.38,
                "x": -3.6657745,
                "y": -2.23334,
                "yshift": 10,
                "z": 0.369896
               },
               {
                "showarrow": false,
                "text": 1.39,
                "x": -3.611554,
                "y": -1.048828,
                "yshift": 10,
                "z": 0.5116525000000001
               },
               {
                "showarrow": false,
                "text": 1.33,
                "x": -2.6012405000000003,
                "y": -0.445494,
                "yshift": 10,
                "z": 0.329521
               },
               {
                "showarrow": false,
                "text": 2.18,
                "x": -1.337531,
                "y": 0.45628599999999997,
                "yshift": 10,
                "z": 0.0527885
               },
               {
                "showarrow": false,
                "text": 2.32,
                "x": 0.0007780000000000009,
                "y": 2.2291795,
                "yshift": 10,
                "z": -0.285649
               },
               {
                "showarrow": false,
                "text": 1.09,
                "x": -2.0467115,
                "y": 3.1167445000000003,
                "yshift": 10,
                "z": 0.1727235
               },
               {
                "showarrow": false,
                "text": 1.53,
                "x": 2.9857105,
                "y": 0.14462799999999998,
                "yshift": 10,
                "z": 0.827051
               },
               {
                "showarrow": false,
                "text": 1.09,
                "x": 2.0939855,
                "y": -1.4616935,
                "yshift": 10,
                "z": 1.7994785
               },
               {
                "showarrow": false,
                "text": 1.09,
                "x": 2.641649,
                "y": -2.0776375,
                "yshift": 10,
                "z": 1.472658
               },
               {
                "showarrow": false,
                "text": 1.47,
                "x": -0.6358605,
                "y": -1.534883,
                "yshift": 10,
                "z": -0.306403
               },
               {
                "showarrow": false,
                "text": 1.97,
                "x": -1.462877,
                "y": 1.9731395,
                "yshift": 10,
                "z": 0.08592150000000001
               },
               {
                "showarrow": false,
                "text": 1.09,
                "x": -2.3905695,
                "y": 2.5205505,
                "yshift": 10,
                "z": 0.7422424999999999
               },
               {
                "showarrow": false,
                "text": 1.09,
                "x": 3.0570019999999998,
                "y": 1.2263585,
                "yshift": 10,
                "z": 0.7174084999999999
               },
               {
                "showarrow": false,
                "text": 1.09,
                "x": -2.5987305000000003,
                "y": 2.4840410000000004,
                "yshift": 10,
                "z": -0.13189800000000002
               },
               {
                "showarrow": false,
                "text": 1.09,
                "x": 2.9295275,
                "y": -1.502506,
                "yshift": 10,
                "z": 2.073843
               },
               {
                "showarrow": false,
                "text": 1.09,
                "x": 4.810221,
                "y": -0.783147,
                "yshift": 10,
                "z": 0.558203
               },
               {
                "showarrow": false,
                "text": 1.47,
                "x": 1.4324184999999998,
                "y": -0.546509,
                "yshift": 10,
                "z": -0.541753
               },
               {
                "showarrow": false,
                "text": 1.09,
                "x": 4.5469985,
                "y": -1.350306,
                "yshift": 10,
                "z": -0.060772999999999994
               },
               {
                "showarrow": false,
                "text": 1.34,
                "x": -1.6549835000000002,
                "y": -1.010558,
                "yshift": 10,
                "z": 0.013212500000000002
               },
               {
                "showarrow": false,
                "text": 1.53,
                "x": 2.8199110000000003,
                "y": -1.0627525,
                "yshift": 10,
                "z": 1.0958035000000002
               },
               {
                "showarrow": false,
                "text": 1.09,
                "x": 4.6370024999999995,
                "y": -0.49137549999999997,
                "yshift": 10,
                "z": -0.25598699999999996
               },
               {
                "showarrow": false,
                "text": 2.29,
                "x": 0.006755500000000025,
                "y": 0.47300549999999997,
                "yshift": 10,
                "z": -0.2236615
               },
               {
                "showarrow": false,
                "text": 1.53,
                "x": 3.755572,
                "y": -0.7053415000000001,
                "yshift": 10,
                "z": 0.3418755
               },
               {
                "showarrow": false,
                "text": 1.09,
                "x": 3.286504,
                "y": 0.9167175000000001,
                "yshift": 10,
                "z": 1.516261
               },
               {
                "showarrow": false,
                "text": 1.09,
                "x": 2.4354620000000002,
                "y": 0.9711825,
                "yshift": 10,
                "z": 1.277155
               },
               {
                "showarrow": false,
                "text": 1.08,
                "x": -1.7382955,
                "y": -3.2551245,
                "yshift": 10,
                "z": -0.2693965
               },
               {
                "showarrow": false,
                "text": 1.08,
                "x": -3.625692,
                "y": -3.2954025,
                "yshift": 10,
                "z": 0.2172505
               },
               {
                "showarrow": false,
                "text": 1.08,
                "x": -4.5011529999999995,
                "y": -1.6228895,
                "yshift": 10,
                "z": 0.6685220000000001
               },
               {
                "showarrow": false,
                "text": 1.08,
                "x": -3.4704855,
                "y": 0.0181355,
                "yshift": 10,
                "z": 0.6092015
               },
               {
                "showarrow": false,
                "text": 1.55,
                "x": 2.5839725,
                "y": -0.6311805,
                "yshift": 10,
                "z": -0.07164399999999999
               },
               {
                "showarrow": false,
                "text": 1.09,
                "x": 2.3074079999999997,
                "y": -0.33493100000000003,
                "yshift": 10,
                "z": -1.0688225
               },
               {
                "showarrow": false,
                "text": 1.09,
                "x": 2.4030785000000003,
                "y": -2.4696059999999997,
                "yshift": 10,
                "z": -1.085701
               },
               {
                "showarrow": false,
                "text": 1.09,
                "x": 2.0519100000000003,
                "y": -2.125242,
                "yshift": 10,
                "z": -1.8273745
               }
              ]
             }
            ],
            "label": "Atom indices & Bond lengths",
            "method": "relayout"
           },
           {
            "args": [
             {
              "scene.annotations": []
             }
            ],
            "label": "Hide all",
            "method": "relayout"
           }
          ],
          "direction": "down",
          "xanchor": "left",
          "yanchor": "top"
         }
        ]
       }
      }
     },
     "metadata": {},
     "output_type": "display_data"
    },
    {
     "name": "stdout",
     "output_type": "stream",
     "text": [
      "{frozenset({0, 1}): 1.54, frozenset({1, 2}): 1.45, frozenset({2, 3}): 1.34, frozenset({3, 4}): 1.26, frozenset({5, 6}): 1.38, frozenset({6, 7}): 1.39, frozenset({8, 7}): 1.38, frozenset({8, 9}): 1.39, frozenset({9, 10}): 1.32, frozenset({10, 11}): 2.18, frozenset({11, 12}): 2.32, frozenset({13, 14}): 1.09, frozenset({24, 25}): 1.53, frozenset({3, 5}): 1.47, frozenset({11, 13}): 1.97, frozenset({13, 15}): 1.09, frozenset({25, 27}): 1.09, frozenset({28, 30}): 1.09, frozenset({16, 13}): 1.09, frozenset({33, 30}): 1.09, frozenset({0, 4}): 1.47, frozenset({34, 30}): 1.09, frozenset({10, 5}): 1.34, frozenset({24, 29}): 1.53, frozenset({24, 30}): 1.53, frozenset({25, 31}): 1.09, frozenset({35, 29}): 1.09, frozenset({11, 4}): 2.29, frozenset({26, 19}): 1.33, frozenset({36, 29}): 1.09, frozenset({37, 29}): 1.09, frozenset({17, 6}): 1.08, frozenset({18, 7}): 1.08, frozenset({8, 19}): 1.51, frozenset({9, 20}): 1.08, frozenset({32, 19}): 1.34, frozenset({25, 38}): 1.09, frozenset({24, 0}): 1.55, frozenset({0, 23}): 1.09, frozenset({1, 22}): 1.09, frozenset({1, 21}): 1.09, frozenset({19, 39}): 1.34}\n"
     ]
    },
    {
     "data": {
      "application/vnd.plotly.v1+json": {
       "config": {
        "plotlyServerURL": "https://plot.ly"
       },
       "data": [
        {
         "marker": {
          "color": [
           "black",
           "black",
           "red",
           "black",
           "blue",
           "black",
           "black",
           "black",
           "black",
           "black",
           "blue",
           "green",
           "green",
           "black",
           "white",
           "white",
           "white",
           "white",
           "white",
           "black",
           "white",
           "white",
           "white",
           "white",
           "black",
           "black",
           "green",
           "white",
           "white",
           "black",
           "black",
           "white",
           "green",
           "white",
           "white",
           "white",
           "white",
           "white",
           "white",
           "green"
          ],
          "line": {
           "color": "lightgray",
           "width": 2
          },
          "opacity": 0.8,
          "size": 5,
          "symbol": "circle"
         },
         "mode": "markers",
         "name": "",
         "text": [
          "C",
          "C",
          "O",
          "C",
          "N",
          "C",
          "C",
          "C",
          "C",
          "C",
          "N",
          "Pd",
          "Cl",
          "C",
          "H",
          "H",
          "H",
          "H",
          "H",
          "C",
          "H",
          "H",
          "H",
          "H",
          "C",
          "C",
          "F",
          "H",
          "H",
          "C",
          "C",
          "H",
          "F",
          "H",
          "H",
          "H",
          "H",
          "H",
          "H",
          "F"
         ],
         "type": "scatter3d",
         "x": [
          2.90789,
          2.56751,
          1.154645,
          0.724209,
          1.574441,
          -0.723506,
          -1.616599,
          -2.962402,
          -3.345357,
          -2.384689,
          -1.10094,
          0.501183,
          2.304392,
          -0.718329,
          -1.45587,
          -1.202163,
          -0.178991,
          -1.253634,
          -3.696604,
          -4.783333,
          -2.656566,
          2.693751,
          3.096801,
          3.462182,
          3.696282,
          3.855704,
          -5.578047,
          4.312839,
          5.61011,
          2.972958,
          5.081726,
          2.894804,
          -4.929608,
          5.037025,
          5.677213,
          3.547225,
          1.987727,
          2.850833,
          4.485395,
          -5.228477
         ],
         "y": [
          -1.078288,
          -2.44298,
          -2.621478,
          -1.413853,
          -0.494562,
          -1.223269,
          -2.273713,
          -2.020852,
          -0.729922,
          0.274672,
          0.034217,
          1.514334,
          2.948721,
          3.051276,
          2.998502,
          2.946149,
          3.992053,
          -3.261442,
          -2.812644,
          -0.363599,
          1.299353,
          -2.445112,
          -3.286152,
          -0.436977,
          -1.160207,
          0.244853,
          -1.433845,
          0.924927,
          -1.104268,
          -2.050013,
          -1.733049,
          0.679431,
          0.215452,
          -2.748853,
          -1.76732,
          -2.090635,
          -1.646025,
          -3.076051,
          0.203606,
          0.501919
         ],
         "z": [
          -0.604204,
          -1.242491,
          -0.970004,
          -0.583602,
          -0.404714,
          -0.379195,
          -0.473726,
          -0.246533,
          0.057541,
          0.123671,
          -0.087954,
          -0.141587,
          -0.39738,
          0.066801,
          -0.738838,
          1.042551,
          0.01745,
          -0.718486,
          -0.305072,
          0.311014,
          0.349727,
          -2.324732,
          -0.808333,
          -1.291308,
          0.723036,
          1.302518,
          0.27729,
          0.582433,
          -0.304498,
          1.735021,
          0.415358,
          1.577367,
          1.505177,
          0.016532,
          1.328941,
          2.66191,
          1.976639,
          1.379869,
          2.193664,
          -0.60357
         ]
        },
        {
         "hoverinfo": "none",
         "line": {
          "width": 3
         },
         "marker": {
          "color": "black",
          "opacity": 1,
          "size": 7
         },
         "mode": "lines",
         "type": "scatter3d",
         "x": [
          2.90789,
          2.56751,
          null,
          2.56751,
          1.154645,
          null,
          1.154645,
          0.724209,
          null,
          0.724209,
          1.574441,
          null,
          -0.723506,
          -1.616599,
          null,
          -1.616599,
          -2.962402,
          null,
          -3.345357,
          -2.962402,
          null,
          -3.345357,
          -2.384689,
          null,
          -2.384689,
          -1.10094,
          null,
          -1.10094,
          0.501183,
          null,
          0.501183,
          2.304392,
          null,
          -0.718329,
          -1.45587,
          null,
          3.696282,
          3.855704,
          null,
          0.724209,
          -0.723506,
          null,
          0.501183,
          -0.718329,
          null,
          -0.718329,
          -1.202163,
          null,
          3.855704,
          4.312839,
          null,
          5.61011,
          5.081726,
          null,
          -0.178991,
          -0.718329,
          null,
          5.037025,
          5.081726,
          null,
          2.90789,
          1.574441,
          null,
          5.677213,
          5.081726,
          null,
          -1.10094,
          -0.723506,
          null,
          3.696282,
          2.972958,
          null,
          3.696282,
          5.081726,
          null,
          3.855704,
          2.894804,
          null,
          3.547225,
          2.972958,
          null,
          0.501183,
          1.574441,
          null,
          -5.578047,
          -4.783333,
          null,
          1.987727,
          2.972958,
          null,
          2.850833,
          2.972958,
          null,
          -1.253634,
          -1.616599,
          null,
          -3.696604,
          -2.962402,
          null,
          -3.345357,
          -4.783333,
          null,
          -2.384689,
          -2.656566,
          null,
          -4.929608,
          -4.783333,
          null,
          3.855704,
          4.485395,
          null,
          3.696282,
          2.90789,
          null,
          2.90789,
          3.462182,
          null,
          2.56751,
          3.096801,
          null,
          2.56751,
          2.693751,
          null,
          -4.783333,
          -5.228477,
          null
         ],
         "y": [
          -1.078288,
          -2.44298,
          null,
          -2.44298,
          -2.621478,
          null,
          -2.621478,
          -1.413853,
          null,
          -1.413853,
          -0.494562,
          null,
          -1.223269,
          -2.273713,
          null,
          -2.273713,
          -2.020852,
          null,
          -0.729922,
          -2.020852,
          null,
          -0.729922,
          0.274672,
          null,
          0.274672,
          0.034217,
          null,
          0.034217,
          1.514334,
          null,
          1.514334,
          2.948721,
          null,
          3.051276,
          2.998502,
          null,
          -1.160207,
          0.244853,
          null,
          -1.413853,
          -1.223269,
          null,
          1.514334,
          3.051276,
          null,
          3.051276,
          2.946149,
          null,
          0.244853,
          0.924927,
          null,
          -1.104268,
          -1.733049,
          null,
          3.992053,
          3.051276,
          null,
          -2.748853,
          -1.733049,
          null,
          -1.078288,
          -0.494562,
          null,
          -1.76732,
          -1.733049,
          null,
          0.034217,
          -1.223269,
          null,
          -1.160207,
          -2.050013,
          null,
          -1.160207,
          -1.733049,
          null,
          0.244853,
          0.679431,
          null,
          -2.090635,
          -2.050013,
          null,
          1.514334,
          -0.494562,
          null,
          -1.433845,
          -0.363599,
          null,
          -1.646025,
          -2.050013,
          null,
          -3.076051,
          -2.050013,
          null,
          -3.261442,
          -2.273713,
          null,
          -2.812644,
          -2.020852,
          null,
          -0.729922,
          -0.363599,
          null,
          0.274672,
          1.299353,
          null,
          0.215452,
          -0.363599,
          null,
          0.244853,
          0.203606,
          null,
          -1.160207,
          -1.078288,
          null,
          -1.078288,
          -0.436977,
          null,
          -2.44298,
          -3.286152,
          null,
          -2.44298,
          -2.445112,
          null,
          -0.363599,
          0.501919,
          null
         ],
         "z": [
          -0.604204,
          -1.242491,
          null,
          -1.242491,
          -0.970004,
          null,
          -0.970004,
          -0.583602,
          null,
          -0.583602,
          -0.404714,
          null,
          -0.379195,
          -0.473726,
          null,
          -0.473726,
          -0.246533,
          null,
          0.057541,
          -0.246533,
          null,
          0.057541,
          0.123671,
          null,
          0.123671,
          -0.087954,
          null,
          -0.087954,
          -0.141587,
          null,
          -0.141587,
          -0.39738,
          null,
          0.066801,
          -0.738838,
          null,
          0.723036,
          1.302518,
          null,
          -0.583602,
          -0.379195,
          null,
          -0.141587,
          0.066801,
          null,
          0.066801,
          1.042551,
          null,
          1.302518,
          0.582433,
          null,
          -0.304498,
          0.415358,
          null,
          0.01745,
          0.066801,
          null,
          0.016532,
          0.415358,
          null,
          -0.604204,
          -0.404714,
          null,
          1.328941,
          0.415358,
          null,
          -0.087954,
          -0.379195,
          null,
          0.723036,
          1.735021,
          null,
          0.723036,
          0.415358,
          null,
          1.302518,
          1.577367,
          null,
          2.66191,
          1.735021,
          null,
          -0.141587,
          -0.404714,
          null,
          0.27729,
          0.311014,
          null,
          1.976639,
          1.735021,
          null,
          1.379869,
          1.735021,
          null,
          -0.718486,
          -0.473726,
          null,
          -0.305072,
          -0.246533,
          null,
          0.057541,
          0.311014,
          null,
          0.123671,
          0.349727,
          null,
          1.505177,
          0.311014,
          null,
          1.302518,
          2.193664,
          null,
          0.723036,
          -0.604204,
          null,
          -0.604204,
          -1.291308,
          null,
          -1.242491,
          -0.808333,
          null,
          -1.242491,
          -2.324732,
          null,
          0.311014,
          -0.60357,
          null
         ]
        }
       ],
       "layout": {
        "margin": {
         "b": 0,
         "l": 0,
         "r": 0,
         "t": 0
        },
        "scene": {
         "annotations": [
          {
           "font": {
            "color": "blue"
           },
           "showarrow": false,
           "text": "1",
           "x": 2.90789,
           "y": -1.078288,
           "yshift": 15,
           "z": -0.604204
          },
          {
           "font": {
            "color": "blue"
           },
           "showarrow": false,
           "text": "2",
           "x": 2.56751,
           "y": -2.44298,
           "yshift": 15,
           "z": -1.242491
          },
          {
           "font": {
            "color": "blue"
           },
           "showarrow": false,
           "text": "3",
           "x": 1.154645,
           "y": -2.621478,
           "yshift": 15,
           "z": -0.970004
          },
          {
           "font": {
            "color": "blue"
           },
           "showarrow": false,
           "text": "4",
           "x": 0.724209,
           "y": -1.413853,
           "yshift": 15,
           "z": -0.583602
          },
          {
           "font": {
            "color": "blue"
           },
           "showarrow": false,
           "text": "5",
           "x": 1.574441,
           "y": -0.494562,
           "yshift": 15,
           "z": -0.404714
          },
          {
           "font": {
            "color": "blue"
           },
           "showarrow": false,
           "text": "6",
           "x": -0.723506,
           "y": -1.223269,
           "yshift": 15,
           "z": -0.379195
          },
          {
           "font": {
            "color": "blue"
           },
           "showarrow": false,
           "text": "7",
           "x": -1.616599,
           "y": -2.273713,
           "yshift": 15,
           "z": -0.473726
          },
          {
           "font": {
            "color": "blue"
           },
           "showarrow": false,
           "text": "8",
           "x": -2.962402,
           "y": -2.020852,
           "yshift": 15,
           "z": -0.246533
          },
          {
           "font": {
            "color": "blue"
           },
           "showarrow": false,
           "text": "9",
           "x": -3.345357,
           "y": -0.729922,
           "yshift": 15,
           "z": 0.057541
          },
          {
           "font": {
            "color": "blue"
           },
           "showarrow": false,
           "text": "10",
           "x": -2.384689,
           "y": 0.274672,
           "yshift": 15,
           "z": 0.123671
          },
          {
           "font": {
            "color": "blue"
           },
           "showarrow": false,
           "text": "11",
           "x": -1.10094,
           "y": 0.034217,
           "yshift": 15,
           "z": -0.087954
          },
          {
           "font": {
            "color": "blue"
           },
           "showarrow": false,
           "text": "12",
           "x": 0.501183,
           "y": 1.514334,
           "yshift": 15,
           "z": -0.141587
          },
          {
           "font": {
            "color": "blue"
           },
           "showarrow": false,
           "text": "13",
           "x": 2.304392,
           "y": 2.948721,
           "yshift": 15,
           "z": -0.39738
          },
          {
           "font": {
            "color": "blue"
           },
           "showarrow": false,
           "text": "14",
           "x": -0.718329,
           "y": 3.051276,
           "yshift": 15,
           "z": 0.066801
          },
          {
           "font": {
            "color": "blue"
           },
           "showarrow": false,
           "text": "15",
           "x": -1.45587,
           "y": 2.998502,
           "yshift": 15,
           "z": -0.738838
          },
          {
           "font": {
            "color": "blue"
           },
           "showarrow": false,
           "text": "16",
           "x": -1.202163,
           "y": 2.946149,
           "yshift": 15,
           "z": 1.042551
          },
          {
           "font": {
            "color": "blue"
           },
           "showarrow": false,
           "text": "17",
           "x": -0.178991,
           "y": 3.992053,
           "yshift": 15,
           "z": 0.01745
          },
          {
           "font": {
            "color": "blue"
           },
           "showarrow": false,
           "text": "18",
           "x": -1.253634,
           "y": -3.261442,
           "yshift": 15,
           "z": -0.718486
          },
          {
           "font": {
            "color": "blue"
           },
           "showarrow": false,
           "text": "19",
           "x": -3.696604,
           "y": -2.812644,
           "yshift": 15,
           "z": -0.305072
          },
          {
           "font": {
            "color": "blue"
           },
           "showarrow": false,
           "text": "20",
           "x": -4.783333,
           "y": -0.363599,
           "yshift": 15,
           "z": 0.311014
          },
          {
           "font": {
            "color": "blue"
           },
           "showarrow": false,
           "text": "21",
           "x": -2.656566,
           "y": 1.299353,
           "yshift": 15,
           "z": 0.349727
          },
          {
           "font": {
            "color": "blue"
           },
           "showarrow": false,
           "text": "22",
           "x": 2.693751,
           "y": -2.445112,
           "yshift": 15,
           "z": -2.324732
          },
          {
           "font": {
            "color": "blue"
           },
           "showarrow": false,
           "text": "23",
           "x": 3.096801,
           "y": -3.286152,
           "yshift": 15,
           "z": -0.808333
          },
          {
           "font": {
            "color": "blue"
           },
           "showarrow": false,
           "text": "24",
           "x": 3.462182,
           "y": -0.436977,
           "yshift": 15,
           "z": -1.291308
          },
          {
           "font": {
            "color": "blue"
           },
           "showarrow": false,
           "text": "25",
           "x": 3.696282,
           "y": -1.160207,
           "yshift": 15,
           "z": 0.723036
          },
          {
           "font": {
            "color": "blue"
           },
           "showarrow": false,
           "text": "26",
           "x": 3.855704,
           "y": 0.244853,
           "yshift": 15,
           "z": 1.302518
          },
          {
           "font": {
            "color": "blue"
           },
           "showarrow": false,
           "text": "27",
           "x": -5.578047,
           "y": -1.433845,
           "yshift": 15,
           "z": 0.27729
          },
          {
           "font": {
            "color": "blue"
           },
           "showarrow": false,
           "text": "28",
           "x": 4.312839,
           "y": 0.924927,
           "yshift": 15,
           "z": 0.582433
          },
          {
           "font": {
            "color": "blue"
           },
           "showarrow": false,
           "text": "29",
           "x": 5.61011,
           "y": -1.104268,
           "yshift": 15,
           "z": -0.304498
          },
          {
           "font": {
            "color": "blue"
           },
           "showarrow": false,
           "text": "30",
           "x": 2.972958,
           "y": -2.050013,
           "yshift": 15,
           "z": 1.735021
          },
          {
           "font": {
            "color": "blue"
           },
           "showarrow": false,
           "text": "31",
           "x": 5.081726,
           "y": -1.733049,
           "yshift": 15,
           "z": 0.415358
          },
          {
           "font": {
            "color": "blue"
           },
           "showarrow": false,
           "text": "32",
           "x": 2.894804,
           "y": 0.679431,
           "yshift": 15,
           "z": 1.577367
          },
          {
           "font": {
            "color": "blue"
           },
           "showarrow": false,
           "text": "33",
           "x": -4.929608,
           "y": 0.215452,
           "yshift": 15,
           "z": 1.505177
          },
          {
           "font": {
            "color": "blue"
           },
           "showarrow": false,
           "text": "34",
           "x": 5.037025,
           "y": -2.748853,
           "yshift": 15,
           "z": 0.016532
          },
          {
           "font": {
            "color": "blue"
           },
           "showarrow": false,
           "text": "35",
           "x": 5.677213,
           "y": -1.76732,
           "yshift": 15,
           "z": 1.328941
          },
          {
           "font": {
            "color": "blue"
           },
           "showarrow": false,
           "text": "36",
           "x": 3.547225,
           "y": -2.090635,
           "yshift": 15,
           "z": 2.66191
          },
          {
           "font": {
            "color": "blue"
           },
           "showarrow": false,
           "text": "37",
           "x": 1.987727,
           "y": -1.646025,
           "yshift": 15,
           "z": 1.976639
          },
          {
           "font": {
            "color": "blue"
           },
           "showarrow": false,
           "text": "38",
           "x": 2.850833,
           "y": -3.076051,
           "yshift": 15,
           "z": 1.379869
          },
          {
           "font": {
            "color": "blue"
           },
           "showarrow": false,
           "text": "39",
           "x": 4.485395,
           "y": 0.203606,
           "yshift": 15,
           "z": 2.193664
          },
          {
           "font": {
            "color": "blue"
           },
           "showarrow": false,
           "text": "40",
           "x": -5.228477,
           "y": 0.501919,
           "yshift": 15,
           "z": -0.60357
          }
         ],
         "xaxis": {
          "showbackground": false,
          "showgrid": false,
          "showticklabels": false,
          "title": {
           "font": {
            "color": "white"
           }
          },
          "zeroline": false
         },
         "yaxis": {
          "showbackground": false,
          "showgrid": false,
          "showticklabels": false,
          "title": {
           "font": {
            "color": "white"
           }
          },
          "zeroline": false
         },
         "zaxis": {
          "showbackground": false,
          "showgrid": false,
          "showticklabels": false,
          "title": {
           "font": {
            "color": "white"
           }
          },
          "zeroline": false
         }
        },
        "showlegend": false,
        "template": {
         "data": {
          "bar": [
           {
            "error_x": {
             "color": "#2a3f5f"
            },
            "error_y": {
             "color": "#2a3f5f"
            },
            "marker": {
             "line": {
              "color": "#E5ECF6",
              "width": 0.5
             },
             "pattern": {
              "fillmode": "overlay",
              "size": 10,
              "solidity": 0.2
             }
            },
            "type": "bar"
           }
          ],
          "barpolar": [
           {
            "marker": {
             "line": {
              "color": "#E5ECF6",
              "width": 0.5
             },
             "pattern": {
              "fillmode": "overlay",
              "size": 10,
              "solidity": 0.2
             }
            },
            "type": "barpolar"
           }
          ],
          "carpet": [
           {
            "aaxis": {
             "endlinecolor": "#2a3f5f",
             "gridcolor": "white",
             "linecolor": "white",
             "minorgridcolor": "white",
             "startlinecolor": "#2a3f5f"
            },
            "baxis": {
             "endlinecolor": "#2a3f5f",
             "gridcolor": "white",
             "linecolor": "white",
             "minorgridcolor": "white",
             "startlinecolor": "#2a3f5f"
            },
            "type": "carpet"
           }
          ],
          "choropleth": [
           {
            "colorbar": {
             "outlinewidth": 0,
             "ticks": ""
            },
            "type": "choropleth"
           }
          ],
          "contour": [
           {
            "colorbar": {
             "outlinewidth": 0,
             "ticks": ""
            },
            "colorscale": [
             [
              0,
              "#0d0887"
             ],
             [
              0.1111111111111111,
              "#46039f"
             ],
             [
              0.2222222222222222,
              "#7201a8"
             ],
             [
              0.3333333333333333,
              "#9c179e"
             ],
             [
              0.4444444444444444,
              "#bd3786"
             ],
             [
              0.5555555555555556,
              "#d8576b"
             ],
             [
              0.6666666666666666,
              "#ed7953"
             ],
             [
              0.7777777777777778,
              "#fb9f3a"
             ],
             [
              0.8888888888888888,
              "#fdca26"
             ],
             [
              1,
              "#f0f921"
             ]
            ],
            "type": "contour"
           }
          ],
          "contourcarpet": [
           {
            "colorbar": {
             "outlinewidth": 0,
             "ticks": ""
            },
            "type": "contourcarpet"
           }
          ],
          "heatmap": [
           {
            "colorbar": {
             "outlinewidth": 0,
             "ticks": ""
            },
            "colorscale": [
             [
              0,
              "#0d0887"
             ],
             [
              0.1111111111111111,
              "#46039f"
             ],
             [
              0.2222222222222222,
              "#7201a8"
             ],
             [
              0.3333333333333333,
              "#9c179e"
             ],
             [
              0.4444444444444444,
              "#bd3786"
             ],
             [
              0.5555555555555556,
              "#d8576b"
             ],
             [
              0.6666666666666666,
              "#ed7953"
             ],
             [
              0.7777777777777778,
              "#fb9f3a"
             ],
             [
              0.8888888888888888,
              "#fdca26"
             ],
             [
              1,
              "#f0f921"
             ]
            ],
            "type": "heatmap"
           }
          ],
          "heatmapgl": [
           {
            "colorbar": {
             "outlinewidth": 0,
             "ticks": ""
            },
            "colorscale": [
             [
              0,
              "#0d0887"
             ],
             [
              0.1111111111111111,
              "#46039f"
             ],
             [
              0.2222222222222222,
              "#7201a8"
             ],
             [
              0.3333333333333333,
              "#9c179e"
             ],
             [
              0.4444444444444444,
              "#bd3786"
             ],
             [
              0.5555555555555556,
              "#d8576b"
             ],
             [
              0.6666666666666666,
              "#ed7953"
             ],
             [
              0.7777777777777778,
              "#fb9f3a"
             ],
             [
              0.8888888888888888,
              "#fdca26"
             ],
             [
              1,
              "#f0f921"
             ]
            ],
            "type": "heatmapgl"
           }
          ],
          "histogram": [
           {
            "marker": {
             "pattern": {
              "fillmode": "overlay",
              "size": 10,
              "solidity": 0.2
             }
            },
            "type": "histogram"
           }
          ],
          "histogram2d": [
           {
            "colorbar": {
             "outlinewidth": 0,
             "ticks": ""
            },
            "colorscale": [
             [
              0,
              "#0d0887"
             ],
             [
              0.1111111111111111,
              "#46039f"
             ],
             [
              0.2222222222222222,
              "#7201a8"
             ],
             [
              0.3333333333333333,
              "#9c179e"
             ],
             [
              0.4444444444444444,
              "#bd3786"
             ],
             [
              0.5555555555555556,
              "#d8576b"
             ],
             [
              0.6666666666666666,
              "#ed7953"
             ],
             [
              0.7777777777777778,
              "#fb9f3a"
             ],
             [
              0.8888888888888888,
              "#fdca26"
             ],
             [
              1,
              "#f0f921"
             ]
            ],
            "type": "histogram2d"
           }
          ],
          "histogram2dcontour": [
           {
            "colorbar": {
             "outlinewidth": 0,
             "ticks": ""
            },
            "colorscale": [
             [
              0,
              "#0d0887"
             ],
             [
              0.1111111111111111,
              "#46039f"
             ],
             [
              0.2222222222222222,
              "#7201a8"
             ],
             [
              0.3333333333333333,
              "#9c179e"
             ],
             [
              0.4444444444444444,
              "#bd3786"
             ],
             [
              0.5555555555555556,
              "#d8576b"
             ],
             [
              0.6666666666666666,
              "#ed7953"
             ],
             [
              0.7777777777777778,
              "#fb9f3a"
             ],
             [
              0.8888888888888888,
              "#fdca26"
             ],
             [
              1,
              "#f0f921"
             ]
            ],
            "type": "histogram2dcontour"
           }
          ],
          "mesh3d": [
           {
            "colorbar": {
             "outlinewidth": 0,
             "ticks": ""
            },
            "type": "mesh3d"
           }
          ],
          "parcoords": [
           {
            "line": {
             "colorbar": {
              "outlinewidth": 0,
              "ticks": ""
             }
            },
            "type": "parcoords"
           }
          ],
          "pie": [
           {
            "automargin": true,
            "type": "pie"
           }
          ],
          "scatter": [
           {
            "fillpattern": {
             "fillmode": "overlay",
             "size": 10,
             "solidity": 0.2
            },
            "type": "scatter"
           }
          ],
          "scatter3d": [
           {
            "line": {
             "colorbar": {
              "outlinewidth": 0,
              "ticks": ""
             }
            },
            "marker": {
             "colorbar": {
              "outlinewidth": 0,
              "ticks": ""
             }
            },
            "type": "scatter3d"
           }
          ],
          "scattercarpet": [
           {
            "marker": {
             "colorbar": {
              "outlinewidth": 0,
              "ticks": ""
             }
            },
            "type": "scattercarpet"
           }
          ],
          "scattergeo": [
           {
            "marker": {
             "colorbar": {
              "outlinewidth": 0,
              "ticks": ""
             }
            },
            "type": "scattergeo"
           }
          ],
          "scattergl": [
           {
            "marker": {
             "colorbar": {
              "outlinewidth": 0,
              "ticks": ""
             }
            },
            "type": "scattergl"
           }
          ],
          "scattermapbox": [
           {
            "marker": {
             "colorbar": {
              "outlinewidth": 0,
              "ticks": ""
             }
            },
            "type": "scattermapbox"
           }
          ],
          "scatterpolar": [
           {
            "marker": {
             "colorbar": {
              "outlinewidth": 0,
              "ticks": ""
             }
            },
            "type": "scatterpolar"
           }
          ],
          "scatterpolargl": [
           {
            "marker": {
             "colorbar": {
              "outlinewidth": 0,
              "ticks": ""
             }
            },
            "type": "scatterpolargl"
           }
          ],
          "scatterternary": [
           {
            "marker": {
             "colorbar": {
              "outlinewidth": 0,
              "ticks": ""
             }
            },
            "type": "scatterternary"
           }
          ],
          "surface": [
           {
            "colorbar": {
             "outlinewidth": 0,
             "ticks": ""
            },
            "colorscale": [
             [
              0,
              "#0d0887"
             ],
             [
              0.1111111111111111,
              "#46039f"
             ],
             [
              0.2222222222222222,
              "#7201a8"
             ],
             [
              0.3333333333333333,
              "#9c179e"
             ],
             [
              0.4444444444444444,
              "#bd3786"
             ],
             [
              0.5555555555555556,
              "#d8576b"
             ],
             [
              0.6666666666666666,
              "#ed7953"
             ],
             [
              0.7777777777777778,
              "#fb9f3a"
             ],
             [
              0.8888888888888888,
              "#fdca26"
             ],
             [
              1,
              "#f0f921"
             ]
            ],
            "type": "surface"
           }
          ],
          "table": [
           {
            "cells": {
             "fill": {
              "color": "#EBF0F8"
             },
             "line": {
              "color": "white"
             }
            },
            "header": {
             "fill": {
              "color": "#C8D4E3"
             },
             "line": {
              "color": "white"
             }
            },
            "type": "table"
           }
          ]
         },
         "layout": {
          "annotationdefaults": {
           "arrowcolor": "#2a3f5f",
           "arrowhead": 0,
           "arrowwidth": 1
          },
          "autotypenumbers": "strict",
          "coloraxis": {
           "colorbar": {
            "outlinewidth": 0,
            "ticks": ""
           }
          },
          "colorscale": {
           "diverging": [
            [
             0,
             "#8e0152"
            ],
            [
             0.1,
             "#c51b7d"
            ],
            [
             0.2,
             "#de77ae"
            ],
            [
             0.3,
             "#f1b6da"
            ],
            [
             0.4,
             "#fde0ef"
            ],
            [
             0.5,
             "#f7f7f7"
            ],
            [
             0.6,
             "#e6f5d0"
            ],
            [
             0.7,
             "#b8e186"
            ],
            [
             0.8,
             "#7fbc41"
            ],
            [
             0.9,
             "#4d9221"
            ],
            [
             1,
             "#276419"
            ]
           ],
           "sequential": [
            [
             0,
             "#0d0887"
            ],
            [
             0.1111111111111111,
             "#46039f"
            ],
            [
             0.2222222222222222,
             "#7201a8"
            ],
            [
             0.3333333333333333,
             "#9c179e"
            ],
            [
             0.4444444444444444,
             "#bd3786"
            ],
            [
             0.5555555555555556,
             "#d8576b"
            ],
            [
             0.6666666666666666,
             "#ed7953"
            ],
            [
             0.7777777777777778,
             "#fb9f3a"
            ],
            [
             0.8888888888888888,
             "#fdca26"
            ],
            [
             1,
             "#f0f921"
            ]
           ],
           "sequentialminus": [
            [
             0,
             "#0d0887"
            ],
            [
             0.1111111111111111,
             "#46039f"
            ],
            [
             0.2222222222222222,
             "#7201a8"
            ],
            [
             0.3333333333333333,
             "#9c179e"
            ],
            [
             0.4444444444444444,
             "#bd3786"
            ],
            [
             0.5555555555555556,
             "#d8576b"
            ],
            [
             0.6666666666666666,
             "#ed7953"
            ],
            [
             0.7777777777777778,
             "#fb9f3a"
            ],
            [
             0.8888888888888888,
             "#fdca26"
            ],
            [
             1,
             "#f0f921"
            ]
           ]
          },
          "colorway": [
           "#636efa",
           "#EF553B",
           "#00cc96",
           "#ab63fa",
           "#FFA15A",
           "#19d3f3",
           "#FF6692",
           "#B6E880",
           "#FF97FF",
           "#FECB52"
          ],
          "font": {
           "color": "#2a3f5f"
          },
          "geo": {
           "bgcolor": "white",
           "lakecolor": "white",
           "landcolor": "#E5ECF6",
           "showlakes": true,
           "showland": true,
           "subunitcolor": "white"
          },
          "hoverlabel": {
           "align": "left"
          },
          "hovermode": "closest",
          "mapbox": {
           "style": "light"
          },
          "paper_bgcolor": "white",
          "plot_bgcolor": "#E5ECF6",
          "polar": {
           "angularaxis": {
            "gridcolor": "white",
            "linecolor": "white",
            "ticks": ""
           },
           "bgcolor": "#E5ECF6",
           "radialaxis": {
            "gridcolor": "white",
            "linecolor": "white",
            "ticks": ""
           }
          },
          "scene": {
           "xaxis": {
            "backgroundcolor": "#E5ECF6",
            "gridcolor": "white",
            "gridwidth": 2,
            "linecolor": "white",
            "showbackground": true,
            "ticks": "",
            "zerolinecolor": "white"
           },
           "yaxis": {
            "backgroundcolor": "#E5ECF6",
            "gridcolor": "white",
            "gridwidth": 2,
            "linecolor": "white",
            "showbackground": true,
            "ticks": "",
            "zerolinecolor": "white"
           },
           "zaxis": {
            "backgroundcolor": "#E5ECF6",
            "gridcolor": "white",
            "gridwidth": 2,
            "linecolor": "white",
            "showbackground": true,
            "ticks": "",
            "zerolinecolor": "white"
           }
          },
          "shapedefaults": {
           "line": {
            "color": "#2a3f5f"
           }
          },
          "ternary": {
           "aaxis": {
            "gridcolor": "white",
            "linecolor": "white",
            "ticks": ""
           },
           "baxis": {
            "gridcolor": "white",
            "linecolor": "white",
            "ticks": ""
           },
           "bgcolor": "#E5ECF6",
           "caxis": {
            "gridcolor": "white",
            "linecolor": "white",
            "ticks": ""
           }
          },
          "title": {
           "x": 0.05
          },
          "xaxis": {
           "automargin": true,
           "gridcolor": "white",
           "linecolor": "white",
           "ticks": "",
           "title": {
            "standoff": 15
           },
           "zerolinecolor": "white",
           "zerolinewidth": 2
          },
          "yaxis": {
           "automargin": true,
           "gridcolor": "white",
           "linecolor": "white",
           "ticks": "",
           "title": {
            "standoff": 15
           },
           "zerolinecolor": "white",
           "zerolinewidth": 2
          }
         }
        },
        "title": {
         "text": "LS1622",
         "x": 0.5,
         "xanchor": "center",
         "y": 0.9,
         "yanchor": "top"
        },
        "updatemenus": [
         {
          "buttons": [
           {
            "args": [
             {
              "scene.annotations": [
               {
                "font": {
                 "color": "blue"
                },
                "showarrow": false,
                "text": 1,
                "x": 2.90789,
                "y": -1.078288,
                "yshift": 15,
                "z": -0.604204
               },
               {
                "font": {
                 "color": "blue"
                },
                "showarrow": false,
                "text": 2,
                "x": 2.56751,
                "y": -2.44298,
                "yshift": 15,
                "z": -1.242491
               },
               {
                "font": {
                 "color": "blue"
                },
                "showarrow": false,
                "text": 3,
                "x": 1.154645,
                "y": -2.621478,
                "yshift": 15,
                "z": -0.970004
               },
               {
                "font": {
                 "color": "blue"
                },
                "showarrow": false,
                "text": 4,
                "x": 0.724209,
                "y": -1.413853,
                "yshift": 15,
                "z": -0.583602
               },
               {
                "font": {
                 "color": "blue"
                },
                "showarrow": false,
                "text": 5,
                "x": 1.574441,
                "y": -0.494562,
                "yshift": 15,
                "z": -0.404714
               },
               {
                "font": {
                 "color": "blue"
                },
                "showarrow": false,
                "text": 6,
                "x": -0.723506,
                "y": -1.223269,
                "yshift": 15,
                "z": -0.379195
               },
               {
                "font": {
                 "color": "blue"
                },
                "showarrow": false,
                "text": 7,
                "x": -1.616599,
                "y": -2.273713,
                "yshift": 15,
                "z": -0.473726
               },
               {
                "font": {
                 "color": "blue"
                },
                "showarrow": false,
                "text": 8,
                "x": -2.962402,
                "y": -2.020852,
                "yshift": 15,
                "z": -0.246533
               },
               {
                "font": {
                 "color": "blue"
                },
                "showarrow": false,
                "text": 9,
                "x": -3.345357,
                "y": -0.729922,
                "yshift": 15,
                "z": 0.057541
               },
               {
                "font": {
                 "color": "blue"
                },
                "showarrow": false,
                "text": 10,
                "x": -2.384689,
                "y": 0.274672,
                "yshift": 15,
                "z": 0.123671
               },
               {
                "font": {
                 "color": "blue"
                },
                "showarrow": false,
                "text": 11,
                "x": -1.10094,
                "y": 0.034217,
                "yshift": 15,
                "z": -0.087954
               },
               {
                "font": {
                 "color": "blue"
                },
                "showarrow": false,
                "text": 12,
                "x": 0.501183,
                "y": 1.514334,
                "yshift": 15,
                "z": -0.141587
               },
               {
                "font": {
                 "color": "blue"
                },
                "showarrow": false,
                "text": 13,
                "x": 2.304392,
                "y": 2.948721,
                "yshift": 15,
                "z": -0.39738
               },
               {
                "font": {
                 "color": "blue"
                },
                "showarrow": false,
                "text": 14,
                "x": -0.718329,
                "y": 3.051276,
                "yshift": 15,
                "z": 0.066801
               },
               {
                "font": {
                 "color": "blue"
                },
                "showarrow": false,
                "text": 15,
                "x": -1.45587,
                "y": 2.998502,
                "yshift": 15,
                "z": -0.738838
               },
               {
                "font": {
                 "color": "blue"
                },
                "showarrow": false,
                "text": 16,
                "x": -1.202163,
                "y": 2.946149,
                "yshift": 15,
                "z": 1.042551
               },
               {
                "font": {
                 "color": "blue"
                },
                "showarrow": false,
                "text": 17,
                "x": -0.178991,
                "y": 3.992053,
                "yshift": 15,
                "z": 0.01745
               },
               {
                "font": {
                 "color": "blue"
                },
                "showarrow": false,
                "text": 18,
                "x": -1.253634,
                "y": -3.261442,
                "yshift": 15,
                "z": -0.718486
               },
               {
                "font": {
                 "color": "blue"
                },
                "showarrow": false,
                "text": 19,
                "x": -3.696604,
                "y": -2.812644,
                "yshift": 15,
                "z": -0.305072
               },
               {
                "font": {
                 "color": "blue"
                },
                "showarrow": false,
                "text": 20,
                "x": -4.783333,
                "y": -0.363599,
                "yshift": 15,
                "z": 0.311014
               },
               {
                "font": {
                 "color": "blue"
                },
                "showarrow": false,
                "text": 21,
                "x": -2.656566,
                "y": 1.299353,
                "yshift": 15,
                "z": 0.349727
               },
               {
                "font": {
                 "color": "blue"
                },
                "showarrow": false,
                "text": 22,
                "x": 2.693751,
                "y": -2.445112,
                "yshift": 15,
                "z": -2.324732
               },
               {
                "font": {
                 "color": "blue"
                },
                "showarrow": false,
                "text": 23,
                "x": 3.096801,
                "y": -3.286152,
                "yshift": 15,
                "z": -0.808333
               },
               {
                "font": {
                 "color": "blue"
                },
                "showarrow": false,
                "text": 24,
                "x": 3.462182,
                "y": -0.436977,
                "yshift": 15,
                "z": -1.291308
               },
               {
                "font": {
                 "color": "blue"
                },
                "showarrow": false,
                "text": 25,
                "x": 3.696282,
                "y": -1.160207,
                "yshift": 15,
                "z": 0.723036
               },
               {
                "font": {
                 "color": "blue"
                },
                "showarrow": false,
                "text": 26,
                "x": 3.855704,
                "y": 0.244853,
                "yshift": 15,
                "z": 1.302518
               },
               {
                "font": {
                 "color": "blue"
                },
                "showarrow": false,
                "text": 27,
                "x": -5.578047,
                "y": -1.433845,
                "yshift": 15,
                "z": 0.27729
               },
               {
                "font": {
                 "color": "blue"
                },
                "showarrow": false,
                "text": 28,
                "x": 4.312839,
                "y": 0.924927,
                "yshift": 15,
                "z": 0.582433
               },
               {
                "font": {
                 "color": "blue"
                },
                "showarrow": false,
                "text": 29,
                "x": 5.61011,
                "y": -1.104268,
                "yshift": 15,
                "z": -0.304498
               },
               {
                "font": {
                 "color": "blue"
                },
                "showarrow": false,
                "text": 30,
                "x": 2.972958,
                "y": -2.050013,
                "yshift": 15,
                "z": 1.735021
               },
               {
                "font": {
                 "color": "blue"
                },
                "showarrow": false,
                "text": 31,
                "x": 5.081726,
                "y": -1.733049,
                "yshift": 15,
                "z": 0.415358
               },
               {
                "font": {
                 "color": "blue"
                },
                "showarrow": false,
                "text": 32,
                "x": 2.894804,
                "y": 0.679431,
                "yshift": 15,
                "z": 1.577367
               },
               {
                "font": {
                 "color": "blue"
                },
                "showarrow": false,
                "text": 33,
                "x": -4.929608,
                "y": 0.215452,
                "yshift": 15,
                "z": 1.505177
               },
               {
                "font": {
                 "color": "blue"
                },
                "showarrow": false,
                "text": 34,
                "x": 5.037025,
                "y": -2.748853,
                "yshift": 15,
                "z": 0.016532
               },
               {
                "font": {
                 "color": "blue"
                },
                "showarrow": false,
                "text": 35,
                "x": 5.677213,
                "y": -1.76732,
                "yshift": 15,
                "z": 1.328941
               },
               {
                "font": {
                 "color": "blue"
                },
                "showarrow": false,
                "text": 36,
                "x": 3.547225,
                "y": -2.090635,
                "yshift": 15,
                "z": 2.66191
               },
               {
                "font": {
                 "color": "blue"
                },
                "showarrow": false,
                "text": 37,
                "x": 1.987727,
                "y": -1.646025,
                "yshift": 15,
                "z": 1.976639
               },
               {
                "font": {
                 "color": "blue"
                },
                "showarrow": false,
                "text": 38,
                "x": 2.850833,
                "y": -3.076051,
                "yshift": 15,
                "z": 1.379869
               },
               {
                "font": {
                 "color": "blue"
                },
                "showarrow": false,
                "text": 39,
                "x": 4.485395,
                "y": 0.203606,
                "yshift": 15,
                "z": 2.193664
               },
               {
                "font": {
                 "color": "blue"
                },
                "showarrow": false,
                "text": 40,
                "x": -5.228477,
                "y": 0.501919,
                "yshift": 15,
                "z": -0.60357
               }
              ]
             }
            ],
            "label": "Atom indices",
            "method": "relayout"
           },
           {
            "args": [
             {
              "scene.annotations": [
               {
                "showarrow": false,
                "text": 1.54,
                "x": 2.7377000000000002,
                "y": -1.760634,
                "yshift": 10,
                "z": -0.9233475
               },
               {
                "showarrow": false,
                "text": 1.45,
                "x": 1.8610775,
                "y": -2.532229,
                "yshift": 10,
                "z": -1.1062475
               },
               {
                "showarrow": false,
                "text": 1.34,
                "x": 0.939427,
                "y": -2.0176655,
                "yshift": 10,
                "z": -0.7768029999999999
               },
               {
                "showarrow": false,
                "text": 1.26,
                "x": 1.149325,
                "y": -0.9542075,
                "yshift": 10,
                "z": -0.494158
               },
               {
                "showarrow": false,
                "text": 1.38,
                "x": -1.1700525,
                "y": -1.748491,
                "yshift": 10,
                "z": -0.4264605
               },
               {
                "showarrow": false,
                "text": 1.39,
                "x": -2.2895005,
                "y": -2.1472825,
                "yshift": 10,
                "z": -0.3601295
               },
               {
                "showarrow": false,
                "text": 1.38,
                "x": -3.1538795,
                "y": -1.375387,
                "yshift": 10,
                "z": -0.094496
               },
               {
                "showarrow": false,
                "text": 1.39,
                "x": -2.865023,
                "y": -0.22762499999999997,
                "yshift": 10,
                "z": 0.090606
               },
               {
                "showarrow": false,
                "text": 1.32,
                "x": -1.7428145,
                "y": 0.1544445,
                "yshift": 10,
                "z": 0.0178585
               },
               {
                "showarrow": false,
                "text": 2.18,
                "x": -0.2998785,
                "y": 0.7742755,
                "yshift": 10,
                "z": -0.1147705
               },
               {
                "showarrow": false,
                "text": 2.32,
                "x": 1.4027875,
                "y": 2.2315275,
                "yshift": 10,
                "z": -0.2694835
               },
               {
                "showarrow": false,
                "text": 1.09,
                "x": -1.0870994999999999,
                "y": 3.024889,
                "yshift": 10,
                "z": -0.3360185
               },
               {
                "showarrow": false,
                "text": 1.53,
                "x": 3.7759929999999997,
                "y": -0.457677,
                "yshift": 10,
                "z": 1.012777
               },
               {
                "showarrow": false,
                "text": 1.47,
                "x": 0.0003515000000000046,
                "y": -1.3185609999999999,
                "yshift": 10,
                "z": -0.48139849999999995
               },
               {
                "showarrow": false,
                "text": 1.97,
                "x": -0.10857299999999998,
                "y": 2.282805,
                "yshift": 10,
                "z": -0.037392999999999996
               },
               {
                "showarrow": false,
                "text": 1.09,
                "x": -0.960246,
                "y": 2.9987125,
                "yshift": 10,
                "z": 0.554676
               },
               {
                "showarrow": false,
                "text": 1.09,
                "x": 4.0842715,
                "y": 0.58489,
                "yshift": 10,
                "z": 0.9424755
               },
               {
                "showarrow": false,
                "text": 1.09,
                "x": 5.345917999999999,
                "y": -1.4186585,
                "yshift": 10,
                "z": 0.05543000000000001
               },
               {
                "showarrow": false,
                "text": 1.09,
                "x": -0.44866,
                "y": 3.5216645,
                "yshift": 10,
                "z": 0.042125499999999996
               },
               {
                "showarrow": false,
                "text": 1.09,
                "x": 5.0593755,
                "y": -2.240951,
                "yshift": 10,
                "z": 0.215945
               },
               {
                "showarrow": false,
                "text": 1.47,
                "x": 2.2411655,
                "y": -0.7864249999999999,
                "yshift": 10,
                "z": -0.504459
               },
               {
                "showarrow": false,
                "text": 1.09,
                "x": 5.3794695,
                "y": -1.7501845,
                "yshift": 10,
                "z": 0.8721494999999999
               },
               {
                "showarrow": false,
                "text": 1.34,
                "x": -0.912223,
                "y": -0.594526,
                "yshift": 10,
                "z": -0.23357450000000002
               },
               {
                "showarrow": false,
                "text": 1.53,
                "x": 3.33462,
                "y": -1.6051099999999998,
                "yshift": 10,
                "z": 1.2290285
               },
               {
                "showarrow": false,
                "text": 1.53,
                "x": 4.389004,
                "y": -1.446628,
                "yshift": 10,
                "z": 0.569197
               },
               {
                "showarrow": false,
                "text": 1.09,
                "x": 3.375254,
                "y": 0.462142,
                "yshift": 10,
                "z": 1.4399425
               },
               {
                "showarrow": false,
                "text": 1.09,
                "x": 3.2600915,
                "y": -2.070324,
                "yshift": 10,
                "z": 2.1984655
               },
               {
                "showarrow": false,
                "text": 2.29,
                "x": 1.037812,
                "y": 0.5098860000000001,
                "yshift": 10,
                "z": -0.2731505
               },
               {
                "showarrow": false,
                "text": 1.33,
                "x": -5.18069,
                "y": -0.898722,
                "yshift": 10,
                "z": 0.29415199999999997
               },
               {
                "showarrow": false,
                "text": 1.09,
                "x": 2.4803425,
                "y": -1.8480189999999999,
                "yshift": 10,
                "z": 1.85583
               },
               {
                "showarrow": false,
                "text": 1.09,
                "x": 2.9118955,
                "y": -2.5630319999999998,
                "yshift": 10,
                "z": 1.557445
               },
               {
                "showarrow": false,
                "text": 1.08,
                "x": -1.4351165,
                "y": -2.7675775,
                "yshift": 10,
                "z": -0.596106
               },
               {
                "showarrow": false,
                "text": 1.08,
                "x": -3.329503,
                "y": -2.416748,
                "yshift": 10,
                "z": -0.2758025
               },
               {
                "showarrow": false,
                "text": 1.51,
                "x": -4.064344999999999,
                "y": -0.5467605,
                "yshift": 10,
                "z": 0.1842775
               },
               {
                "showarrow": false,
                "text": 1.08,
                "x": -2.5206275,
                "y": 0.7870125,
                "yshift": 10,
                "z": 0.236699
               },
               {
                "showarrow": false,
                "text": 1.34,
                "x": -4.8564705,
                "y": -0.0740735,
                "yshift": 10,
                "z": 0.9080954999999999
               },
               {
                "showarrow": false,
                "text": 1.09,
                "x": 4.1705495,
                "y": 0.2242295,
                "yshift": 10,
                "z": 1.748091
               },
               {
                "showarrow": false,
                "text": 1.55,
                "x": 3.302086,
                "y": -1.1192475,
                "yshift": 10,
                "z": 0.059416000000000024
               },
               {
                "showarrow": false,
                "text": 1.09,
                "x": 3.185036,
                "y": -0.7576324999999999,
                "yshift": 10,
                "z": -0.9477559999999999
               },
               {
                "showarrow": false,
                "text": 1.09,
                "x": 2.8321555,
                "y": -2.864566,
                "yshift": 10,
                "z": -1.025412
               },
               {
                "showarrow": false,
                "text": 1.09,
                "x": 2.6306304999999996,
                "y": -2.444046,
                "yshift": 10,
                "z": -1.7836115000000001
               },
               {
                "showarrow": false,
                "text": 1.34,
                "x": -5.005905,
                "y": 0.06916,
                "yshift": 10,
                "z": -0.14627800000000002
               }
              ]
             }
            ],
            "label": "Bond lengths",
            "method": "relayout"
           },
           {
            "args": [
             {
              "scene.annotations": [
               {
                "font": {
                 "color": "blue"
                },
                "showarrow": false,
                "text": 1,
                "x": 2.90789,
                "y": -1.078288,
                "yshift": 15,
                "z": -0.604204
               },
               {
                "font": {
                 "color": "blue"
                },
                "showarrow": false,
                "text": 2,
                "x": 2.56751,
                "y": -2.44298,
                "yshift": 15,
                "z": -1.242491
               },
               {
                "font": {
                 "color": "blue"
                },
                "showarrow": false,
                "text": 3,
                "x": 1.154645,
                "y": -2.621478,
                "yshift": 15,
                "z": -0.970004
               },
               {
                "font": {
                 "color": "blue"
                },
                "showarrow": false,
                "text": 4,
                "x": 0.724209,
                "y": -1.413853,
                "yshift": 15,
                "z": -0.583602
               },
               {
                "font": {
                 "color": "blue"
                },
                "showarrow": false,
                "text": 5,
                "x": 1.574441,
                "y": -0.494562,
                "yshift": 15,
                "z": -0.404714
               },
               {
                "font": {
                 "color": "blue"
                },
                "showarrow": false,
                "text": 6,
                "x": -0.723506,
                "y": -1.223269,
                "yshift": 15,
                "z": -0.379195
               },
               {
                "font": {
                 "color": "blue"
                },
                "showarrow": false,
                "text": 7,
                "x": -1.616599,
                "y": -2.273713,
                "yshift": 15,
                "z": -0.473726
               },
               {
                "font": {
                 "color": "blue"
                },
                "showarrow": false,
                "text": 8,
                "x": -2.962402,
                "y": -2.020852,
                "yshift": 15,
                "z": -0.246533
               },
               {
                "font": {
                 "color": "blue"
                },
                "showarrow": false,
                "text": 9,
                "x": -3.345357,
                "y": -0.729922,
                "yshift": 15,
                "z": 0.057541
               },
               {
                "font": {
                 "color": "blue"
                },
                "showarrow": false,
                "text": 10,
                "x": -2.384689,
                "y": 0.274672,
                "yshift": 15,
                "z": 0.123671
               },
               {
                "font": {
                 "color": "blue"
                },
                "showarrow": false,
                "text": 11,
                "x": -1.10094,
                "y": 0.034217,
                "yshift": 15,
                "z": -0.087954
               },
               {
                "font": {
                 "color": "blue"
                },
                "showarrow": false,
                "text": 12,
                "x": 0.501183,
                "y": 1.514334,
                "yshift": 15,
                "z": -0.141587
               },
               {
                "font": {
                 "color": "blue"
                },
                "showarrow": false,
                "text": 13,
                "x": 2.304392,
                "y": 2.948721,
                "yshift": 15,
                "z": -0.39738
               },
               {
                "font": {
                 "color": "blue"
                },
                "showarrow": false,
                "text": 14,
                "x": -0.718329,
                "y": 3.051276,
                "yshift": 15,
                "z": 0.066801
               },
               {
                "font": {
                 "color": "blue"
                },
                "showarrow": false,
                "text": 15,
                "x": -1.45587,
                "y": 2.998502,
                "yshift": 15,
                "z": -0.738838
               },
               {
                "font": {
                 "color": "blue"
                },
                "showarrow": false,
                "text": 16,
                "x": -1.202163,
                "y": 2.946149,
                "yshift": 15,
                "z": 1.042551
               },
               {
                "font": {
                 "color": "blue"
                },
                "showarrow": false,
                "text": 17,
                "x": -0.178991,
                "y": 3.992053,
                "yshift": 15,
                "z": 0.01745
               },
               {
                "font": {
                 "color": "blue"
                },
                "showarrow": false,
                "text": 18,
                "x": -1.253634,
                "y": -3.261442,
                "yshift": 15,
                "z": -0.718486
               },
               {
                "font": {
                 "color": "blue"
                },
                "showarrow": false,
                "text": 19,
                "x": -3.696604,
                "y": -2.812644,
                "yshift": 15,
                "z": -0.305072
               },
               {
                "font": {
                 "color": "blue"
                },
                "showarrow": false,
                "text": 20,
                "x": -4.783333,
                "y": -0.363599,
                "yshift": 15,
                "z": 0.311014
               },
               {
                "font": {
                 "color": "blue"
                },
                "showarrow": false,
                "text": 21,
                "x": -2.656566,
                "y": 1.299353,
                "yshift": 15,
                "z": 0.349727
               },
               {
                "font": {
                 "color": "blue"
                },
                "showarrow": false,
                "text": 22,
                "x": 2.693751,
                "y": -2.445112,
                "yshift": 15,
                "z": -2.324732
               },
               {
                "font": {
                 "color": "blue"
                },
                "showarrow": false,
                "text": 23,
                "x": 3.096801,
                "y": -3.286152,
                "yshift": 15,
                "z": -0.808333
               },
               {
                "font": {
                 "color": "blue"
                },
                "showarrow": false,
                "text": 24,
                "x": 3.462182,
                "y": -0.436977,
                "yshift": 15,
                "z": -1.291308
               },
               {
                "font": {
                 "color": "blue"
                },
                "showarrow": false,
                "text": 25,
                "x": 3.696282,
                "y": -1.160207,
                "yshift": 15,
                "z": 0.723036
               },
               {
                "font": {
                 "color": "blue"
                },
                "showarrow": false,
                "text": 26,
                "x": 3.855704,
                "y": 0.244853,
                "yshift": 15,
                "z": 1.302518
               },
               {
                "font": {
                 "color": "blue"
                },
                "showarrow": false,
                "text": 27,
                "x": -5.578047,
                "y": -1.433845,
                "yshift": 15,
                "z": 0.27729
               },
               {
                "font": {
                 "color": "blue"
                },
                "showarrow": false,
                "text": 28,
                "x": 4.312839,
                "y": 0.924927,
                "yshift": 15,
                "z": 0.582433
               },
               {
                "font": {
                 "color": "blue"
                },
                "showarrow": false,
                "text": 29,
                "x": 5.61011,
                "y": -1.104268,
                "yshift": 15,
                "z": -0.304498
               },
               {
                "font": {
                 "color": "blue"
                },
                "showarrow": false,
                "text": 30,
                "x": 2.972958,
                "y": -2.050013,
                "yshift": 15,
                "z": 1.735021
               },
               {
                "font": {
                 "color": "blue"
                },
                "showarrow": false,
                "text": 31,
                "x": 5.081726,
                "y": -1.733049,
                "yshift": 15,
                "z": 0.415358
               },
               {
                "font": {
                 "color": "blue"
                },
                "showarrow": false,
                "text": 32,
                "x": 2.894804,
                "y": 0.679431,
                "yshift": 15,
                "z": 1.577367
               },
               {
                "font": {
                 "color": "blue"
                },
                "showarrow": false,
                "text": 33,
                "x": -4.929608,
                "y": 0.215452,
                "yshift": 15,
                "z": 1.505177
               },
               {
                "font": {
                 "color": "blue"
                },
                "showarrow": false,
                "text": 34,
                "x": 5.037025,
                "y": -2.748853,
                "yshift": 15,
                "z": 0.016532
               },
               {
                "font": {
                 "color": "blue"
                },
                "showarrow": false,
                "text": 35,
                "x": 5.677213,
                "y": -1.76732,
                "yshift": 15,
                "z": 1.328941
               },
               {
                "font": {
                 "color": "blue"
                },
                "showarrow": false,
                "text": 36,
                "x": 3.547225,
                "y": -2.090635,
                "yshift": 15,
                "z": 2.66191
               },
               {
                "font": {
                 "color": "blue"
                },
                "showarrow": false,
                "text": 37,
                "x": 1.987727,
                "y": -1.646025,
                "yshift": 15,
                "z": 1.976639
               },
               {
                "font": {
                 "color": "blue"
                },
                "showarrow": false,
                "text": 38,
                "x": 2.850833,
                "y": -3.076051,
                "yshift": 15,
                "z": 1.379869
               },
               {
                "font": {
                 "color": "blue"
                },
                "showarrow": false,
                "text": 39,
                "x": 4.485395,
                "y": 0.203606,
                "yshift": 15,
                "z": 2.193664
               },
               {
                "font": {
                 "color": "blue"
                },
                "showarrow": false,
                "text": 40,
                "x": -5.228477,
                "y": 0.501919,
                "yshift": 15,
                "z": -0.60357
               },
               {
                "showarrow": false,
                "text": 1.54,
                "x": 2.7377000000000002,
                "y": -1.760634,
                "yshift": 10,
                "z": -0.9233475
               },
               {
                "showarrow": false,
                "text": 1.45,
                "x": 1.8610775,
                "y": -2.532229,
                "yshift": 10,
                "z": -1.1062475
               },
               {
                "showarrow": false,
                "text": 1.34,
                "x": 0.939427,
                "y": -2.0176655,
                "yshift": 10,
                "z": -0.7768029999999999
               },
               {
                "showarrow": false,
                "text": 1.26,
                "x": 1.149325,
                "y": -0.9542075,
                "yshift": 10,
                "z": -0.494158
               },
               {
                "showarrow": false,
                "text": 1.38,
                "x": -1.1700525,
                "y": -1.748491,
                "yshift": 10,
                "z": -0.4264605
               },
               {
                "showarrow": false,
                "text": 1.39,
                "x": -2.2895005,
                "y": -2.1472825,
                "yshift": 10,
                "z": -0.3601295
               },
               {
                "showarrow": false,
                "text": 1.38,
                "x": -3.1538795,
                "y": -1.375387,
                "yshift": 10,
                "z": -0.094496
               },
               {
                "showarrow": false,
                "text": 1.39,
                "x": -2.865023,
                "y": -0.22762499999999997,
                "yshift": 10,
                "z": 0.090606
               },
               {
                "showarrow": false,
                "text": 1.32,
                "x": -1.7428145,
                "y": 0.1544445,
                "yshift": 10,
                "z": 0.0178585
               },
               {
                "showarrow": false,
                "text": 2.18,
                "x": -0.2998785,
                "y": 0.7742755,
                "yshift": 10,
                "z": -0.1147705
               },
               {
                "showarrow": false,
                "text": 2.32,
                "x": 1.4027875,
                "y": 2.2315275,
                "yshift": 10,
                "z": -0.2694835
               },
               {
                "showarrow": false,
                "text": 1.09,
                "x": -1.0870994999999999,
                "y": 3.024889,
                "yshift": 10,
                "z": -0.3360185
               },
               {
                "showarrow": false,
                "text": 1.53,
                "x": 3.7759929999999997,
                "y": -0.457677,
                "yshift": 10,
                "z": 1.012777
               },
               {
                "showarrow": false,
                "text": 1.47,
                "x": 0.0003515000000000046,
                "y": -1.3185609999999999,
                "yshift": 10,
                "z": -0.48139849999999995
               },
               {
                "showarrow": false,
                "text": 1.97,
                "x": -0.10857299999999998,
                "y": 2.282805,
                "yshift": 10,
                "z": -0.037392999999999996
               },
               {
                "showarrow": false,
                "text": 1.09,
                "x": -0.960246,
                "y": 2.9987125,
                "yshift": 10,
                "z": 0.554676
               },
               {
                "showarrow": false,
                "text": 1.09,
                "x": 4.0842715,
                "y": 0.58489,
                "yshift": 10,
                "z": 0.9424755
               },
               {
                "showarrow": false,
                "text": 1.09,
                "x": 5.345917999999999,
                "y": -1.4186585,
                "yshift": 10,
                "z": 0.05543000000000001
               },
               {
                "showarrow": false,
                "text": 1.09,
                "x": -0.44866,
                "y": 3.5216645,
                "yshift": 10,
                "z": 0.042125499999999996
               },
               {
                "showarrow": false,
                "text": 1.09,
                "x": 5.0593755,
                "y": -2.240951,
                "yshift": 10,
                "z": 0.215945
               },
               {
                "showarrow": false,
                "text": 1.47,
                "x": 2.2411655,
                "y": -0.7864249999999999,
                "yshift": 10,
                "z": -0.504459
               },
               {
                "showarrow": false,
                "text": 1.09,
                "x": 5.3794695,
                "y": -1.7501845,
                "yshift": 10,
                "z": 0.8721494999999999
               },
               {
                "showarrow": false,
                "text": 1.34,
                "x": -0.912223,
                "y": -0.594526,
                "yshift": 10,
                "z": -0.23357450000000002
               },
               {
                "showarrow": false,
                "text": 1.53,
                "x": 3.33462,
                "y": -1.6051099999999998,
                "yshift": 10,
                "z": 1.2290285
               },
               {
                "showarrow": false,
                "text": 1.53,
                "x": 4.389004,
                "y": -1.446628,
                "yshift": 10,
                "z": 0.569197
               },
               {
                "showarrow": false,
                "text": 1.09,
                "x": 3.375254,
                "y": 0.462142,
                "yshift": 10,
                "z": 1.4399425
               },
               {
                "showarrow": false,
                "text": 1.09,
                "x": 3.2600915,
                "y": -2.070324,
                "yshift": 10,
                "z": 2.1984655
               },
               {
                "showarrow": false,
                "text": 2.29,
                "x": 1.037812,
                "y": 0.5098860000000001,
                "yshift": 10,
                "z": -0.2731505
               },
               {
                "showarrow": false,
                "text": 1.33,
                "x": -5.18069,
                "y": -0.898722,
                "yshift": 10,
                "z": 0.29415199999999997
               },
               {
                "showarrow": false,
                "text": 1.09,
                "x": 2.4803425,
                "y": -1.8480189999999999,
                "yshift": 10,
                "z": 1.85583
               },
               {
                "showarrow": false,
                "text": 1.09,
                "x": 2.9118955,
                "y": -2.5630319999999998,
                "yshift": 10,
                "z": 1.557445
               },
               {
                "showarrow": false,
                "text": 1.08,
                "x": -1.4351165,
                "y": -2.7675775,
                "yshift": 10,
                "z": -0.596106
               },
               {
                "showarrow": false,
                "text": 1.08,
                "x": -3.329503,
                "y": -2.416748,
                "yshift": 10,
                "z": -0.2758025
               },
               {
                "showarrow": false,
                "text": 1.51,
                "x": -4.064344999999999,
                "y": -0.5467605,
                "yshift": 10,
                "z": 0.1842775
               },
               {
                "showarrow": false,
                "text": 1.08,
                "x": -2.5206275,
                "y": 0.7870125,
                "yshift": 10,
                "z": 0.236699
               },
               {
                "showarrow": false,
                "text": 1.34,
                "x": -4.8564705,
                "y": -0.0740735,
                "yshift": 10,
                "z": 0.9080954999999999
               },
               {
                "showarrow": false,
                "text": 1.09,
                "x": 4.1705495,
                "y": 0.2242295,
                "yshift": 10,
                "z": 1.748091
               },
               {
                "showarrow": false,
                "text": 1.55,
                "x": 3.302086,
                "y": -1.1192475,
                "yshift": 10,
                "z": 0.059416000000000024
               },
               {
                "showarrow": false,
                "text": 1.09,
                "x": 3.185036,
                "y": -0.7576324999999999,
                "yshift": 10,
                "z": -0.9477559999999999
               },
               {
                "showarrow": false,
                "text": 1.09,
                "x": 2.8321555,
                "y": -2.864566,
                "yshift": 10,
                "z": -1.025412
               },
               {
                "showarrow": false,
                "text": 1.09,
                "x": 2.6306304999999996,
                "y": -2.444046,
                "yshift": 10,
                "z": -1.7836115000000001
               },
               {
                "showarrow": false,
                "text": 1.34,
                "x": -5.005905,
                "y": 0.06916,
                "yshift": 10,
                "z": -0.14627800000000002
               }
              ]
             }
            ],
            "label": "Atom indices & Bond lengths",
            "method": "relayout"
           },
           {
            "args": [
             {
              "scene.annotations": []
             }
            ],
            "label": "Hide all",
            "method": "relayout"
           }
          ],
          "direction": "down",
          "xanchor": "left",
          "yanchor": "top"
         }
        ]
       }
      }
     },
     "metadata": {},
     "output_type": "display_data"
    },
    {
     "name": "stdout",
     "output_type": "stream",
     "text": [
      "{frozenset({0, 1}): 1.54, frozenset({1, 2}): 1.45, frozenset({2, 3}): 1.34, frozenset({3, 4}): 1.27, frozenset({5, 6}): 1.38, frozenset({6, 7}): 1.39, frozenset({8, 7}): 1.39, frozenset({8, 9}): 1.38, frozenset({9, 10}): 1.33, frozenset({10, 11}): 2.18, frozenset({11, 12}): 2.33, frozenset({13, 14}): 1.09, frozenset({24, 25}): 1.53, frozenset({3, 5}): 1.48, frozenset({11, 13}): 1.97, frozenset({13, 15}): 1.09, frozenset({25, 27}): 1.09, frozenset({26, 28}): 1.09, frozenset({16, 13}): 1.09, frozenset({26, 29}): 1.09, frozenset({33, 30}): 1.09, frozenset({0, 4}): 1.47, frozenset({32, 36}): 1.09, frozenset({10, 5}): 1.34, frozenset({26, 31}): 1.09, frozenset({32, 37}): 1.09, frozenset({32, 38}): 1.09, frozenset({33, 39}): 1.09, frozenset({11, 4}): 2.29, frozenset({40, 33}): 1.09, frozenset({18, 26}): 1.42, frozenset({24, 32}): 1.53, frozenset({24, 33}): 1.53, frozenset({25, 34}): 1.09, frozenset({25, 35}): 1.09, frozenset({17, 6}): 1.08, frozenset({18, 7}): 1.34, frozenset({8, 19}): 1.08, frozenset({9, 20}): 1.08, frozenset({24, 0}): 1.55, frozenset({0, 23}): 1.09, frozenset({1, 21}): 1.09, frozenset({1, 22}): 1.09}\n"
     ]
    },
    {
     "data": {
      "application/vnd.plotly.v1+json": {
       "config": {
        "plotlyServerURL": "https://plot.ly"
       },
       "data": [
        {
         "marker": {
          "color": [
           "black",
           "black",
           "red",
           "black",
           "blue",
           "black",
           "black",
           "black",
           "black",
           "black",
           "blue",
           "green",
           "green",
           "black",
           "white",
           "white",
           "white",
           "white",
           "red",
           "white",
           "white",
           "white",
           "white",
           "white",
           "black",
           "black",
           "black",
           "white",
           "white",
           "white",
           "white",
           "white",
           "black",
           "black",
           "white",
           "white",
           "white",
           "white",
           "white",
           "white",
           "white"
          ],
          "line": {
           "color": "lightgray",
           "width": 2
          },
          "opacity": 0.8,
          "size": 5,
          "symbol": "circle"
         },
         "mode": "markers",
         "name": "",
         "text": [
          "C",
          "C",
          "O",
          "C",
          "N",
          "C",
          "C",
          "C",
          "C",
          "C",
          "N",
          "Pd",
          "Cl",
          "C",
          "H",
          "H",
          "H",
          "H",
          "O",
          "H",
          "H",
          "H",
          "H",
          "H",
          "C",
          "C",
          "C",
          "H",
          "H",
          "H",
          "H",
          "H",
          "C",
          "C",
          "H",
          "H",
          "H",
          "H",
          "H",
          "H",
          "H"
         ],
         "type": "scatter3d",
         "x": [
          -1.732295,
          -0.780883,
          0.538855,
          0.37115,
          -0.806201,
          1.569547,
          2.827503,
          3.914506,
          3.677714,
          2.385004,
          1.336313,
          -0.730976,
          -2.954715,
          -0.31603,
          -1.2021,
          0.442156,
          0.077201,
          2.923926,
          5.18316,
          4.504719,
          2.16804,
          -0.798901,
          -0.931227,
          -2.448587,
          -2.518478,
          -3.316889,
          5.452175,
          -3.959905,
          6.526501,
          5.146818,
          -4.174852,
          4.942855,
          -1.57101,
          -3.489422,
          -2.664195,
          -3.939688,
          -2.147454,
          -0.991136,
          -0.878397,
          -4.086255,
          -2.976939
         ],
         "y": [
          1.745082,
          2.813111,
          2.371267,
          1.102116,
          0.647054,
          0.306589,
          0.88302,
          0.079044,
          -1.256759,
          -1.734549,
          -0.975322,
          -1.621568,
          -2.144001,
          -3.52755,
          -4.144514,
          -3.817768,
          -3.617357,
          1.924857,
          0.49849,
          -1.899475,
          -2.768983,
          2.843582,
          3.812544,
          1.393387,
          2.189903,
          1.0045,
          1.851997,
          0.571597,
          1.974129,
          2.072785,
          2.941061,
          2.526398,
          2.703645,
          3.296928,
          0.204237,
          1.33332,
          3.005807,
          3.570417,
          1.921054,
          3.606117,
          4.18432
         ],
         "z": [
          -0.696098,
          -1.277399,
          -0.875992,
          -0.475397,
          -0.391749,
          -0.146343,
          -0.151551,
          0.188007,
          0.50801,
          0.47448,
          0.155787,
          -0.065192,
          -0.502058,
          0.230598,
          0.11653,
          -0.501821,
          1.247566,
          -0.414936,
          0.229059,
          0.773159,
          0.707702,
          -2.366543,
          -0.879265,
          -1.440452,
          0.55822,
          1.099329,
          -0.096705,
          0.33188,
          -0.001298,
          -1.121459,
          -0.630148,
          0.594638,
          1.64337,
          0.141999,
          1.447346,
          1.933899,
          2.519185,
          1.317235,
          1.959349,
          1.001414,
          -0.236122
         ]
        },
        {
         "hoverinfo": "none",
         "line": {
          "width": 3
         },
         "marker": {
          "color": "black",
          "opacity": 1,
          "size": 7
         },
         "mode": "lines",
         "type": "scatter3d",
         "x": [
          -1.732295,
          -0.780883,
          null,
          -0.780883,
          0.538855,
          null,
          0.538855,
          0.37115,
          null,
          0.37115,
          -0.806201,
          null,
          1.569547,
          2.827503,
          null,
          2.827503,
          3.914506,
          null,
          3.677714,
          3.914506,
          null,
          3.677714,
          2.385004,
          null,
          2.385004,
          1.336313,
          null,
          1.336313,
          -0.730976,
          null,
          -0.730976,
          -2.954715,
          null,
          -0.31603,
          -1.2021,
          null,
          -2.518478,
          -3.316889,
          null,
          0.37115,
          1.569547,
          null,
          -0.730976,
          -0.31603,
          null,
          -0.31603,
          0.442156,
          null,
          -3.316889,
          -3.959905,
          null,
          5.452175,
          6.526501,
          null,
          0.077201,
          -0.31603,
          null,
          5.452175,
          5.146818,
          null,
          -3.489422,
          -4.174852,
          null,
          -1.732295,
          -0.806201,
          null,
          -1.57101,
          -2.147454,
          null,
          1.336313,
          1.569547,
          null,
          5.452175,
          4.942855,
          null,
          -1.57101,
          -0.991136,
          null,
          -1.57101,
          -0.878397,
          null,
          -3.489422,
          -4.086255,
          null,
          -0.730976,
          -0.806201,
          null,
          -2.976939,
          -3.489422,
          null,
          5.18316,
          5.452175,
          null,
          -2.518478,
          -1.57101,
          null,
          -2.518478,
          -3.489422,
          null,
          -3.316889,
          -2.664195,
          null,
          -3.316889,
          -3.939688,
          null,
          2.923926,
          2.827503,
          null,
          5.18316,
          3.914506,
          null,
          3.677714,
          4.504719,
          null,
          2.385004,
          2.16804,
          null,
          -2.518478,
          -1.732295,
          null,
          -1.732295,
          -2.448587,
          null,
          -0.780883,
          -0.798901,
          null,
          -0.780883,
          -0.931227,
          null
         ],
         "y": [
          1.745082,
          2.813111,
          null,
          2.813111,
          2.371267,
          null,
          2.371267,
          1.102116,
          null,
          1.102116,
          0.647054,
          null,
          0.306589,
          0.88302,
          null,
          0.88302,
          0.079044,
          null,
          -1.256759,
          0.079044,
          null,
          -1.256759,
          -1.734549,
          null,
          -1.734549,
          -0.975322,
          null,
          -0.975322,
          -1.621568,
          null,
          -1.621568,
          -2.144001,
          null,
          -3.52755,
          -4.144514,
          null,
          2.189903,
          1.0045,
          null,
          1.102116,
          0.306589,
          null,
          -1.621568,
          -3.52755,
          null,
          -3.52755,
          -3.817768,
          null,
          1.0045,
          0.571597,
          null,
          1.851997,
          1.974129,
          null,
          -3.617357,
          -3.52755,
          null,
          1.851997,
          2.072785,
          null,
          3.296928,
          2.941061,
          null,
          1.745082,
          0.647054,
          null,
          2.703645,
          3.005807,
          null,
          -0.975322,
          0.306589,
          null,
          1.851997,
          2.526398,
          null,
          2.703645,
          3.570417,
          null,
          2.703645,
          1.921054,
          null,
          3.296928,
          3.606117,
          null,
          -1.621568,
          0.647054,
          null,
          4.18432,
          3.296928,
          null,
          0.49849,
          1.851997,
          null,
          2.189903,
          2.703645,
          null,
          2.189903,
          3.296928,
          null,
          1.0045,
          0.204237,
          null,
          1.0045,
          1.33332,
          null,
          1.924857,
          0.88302,
          null,
          0.49849,
          0.079044,
          null,
          -1.256759,
          -1.899475,
          null,
          -1.734549,
          -2.768983,
          null,
          2.189903,
          1.745082,
          null,
          1.745082,
          1.393387,
          null,
          2.813111,
          2.843582,
          null,
          2.813111,
          3.812544,
          null
         ],
         "z": [
          -0.696098,
          -1.277399,
          null,
          -1.277399,
          -0.875992,
          null,
          -0.875992,
          -0.475397,
          null,
          -0.475397,
          -0.391749,
          null,
          -0.146343,
          -0.151551,
          null,
          -0.151551,
          0.188007,
          null,
          0.50801,
          0.188007,
          null,
          0.50801,
          0.47448,
          null,
          0.47448,
          0.155787,
          null,
          0.155787,
          -0.065192,
          null,
          -0.065192,
          -0.502058,
          null,
          0.230598,
          0.11653,
          null,
          0.55822,
          1.099329,
          null,
          -0.475397,
          -0.146343,
          null,
          -0.065192,
          0.230598,
          null,
          0.230598,
          -0.501821,
          null,
          1.099329,
          0.33188,
          null,
          -0.096705,
          -0.001298,
          null,
          1.247566,
          0.230598,
          null,
          -0.096705,
          -1.121459,
          null,
          0.141999,
          -0.630148,
          null,
          -0.696098,
          -0.391749,
          null,
          1.64337,
          2.519185,
          null,
          0.155787,
          -0.146343,
          null,
          -0.096705,
          0.594638,
          null,
          1.64337,
          1.317235,
          null,
          1.64337,
          1.959349,
          null,
          0.141999,
          1.001414,
          null,
          -0.065192,
          -0.391749,
          null,
          -0.236122,
          0.141999,
          null,
          0.229059,
          -0.096705,
          null,
          0.55822,
          1.64337,
          null,
          0.55822,
          0.141999,
          null,
          1.099329,
          1.447346,
          null,
          1.099329,
          1.933899,
          null,
          -0.414936,
          -0.151551,
          null,
          0.229059,
          0.188007,
          null,
          0.50801,
          0.773159,
          null,
          0.47448,
          0.707702,
          null,
          0.55822,
          -0.696098,
          null,
          -0.696098,
          -1.440452,
          null,
          -1.277399,
          -2.366543,
          null,
          -1.277399,
          -0.879265,
          null
         ]
        }
       ],
       "layout": {
        "margin": {
         "b": 0,
         "l": 0,
         "r": 0,
         "t": 0
        },
        "scene": {
         "annotations": [
          {
           "font": {
            "color": "blue"
           },
           "showarrow": false,
           "text": "1",
           "x": -1.732295,
           "y": 1.745082,
           "yshift": 15,
           "z": -0.696098
          },
          {
           "font": {
            "color": "blue"
           },
           "showarrow": false,
           "text": "2",
           "x": -0.780883,
           "y": 2.813111,
           "yshift": 15,
           "z": -1.277399
          },
          {
           "font": {
            "color": "blue"
           },
           "showarrow": false,
           "text": "3",
           "x": 0.538855,
           "y": 2.371267,
           "yshift": 15,
           "z": -0.875992
          },
          {
           "font": {
            "color": "blue"
           },
           "showarrow": false,
           "text": "4",
           "x": 0.37115,
           "y": 1.102116,
           "yshift": 15,
           "z": -0.475397
          },
          {
           "font": {
            "color": "blue"
           },
           "showarrow": false,
           "text": "5",
           "x": -0.806201,
           "y": 0.647054,
           "yshift": 15,
           "z": -0.391749
          },
          {
           "font": {
            "color": "blue"
           },
           "showarrow": false,
           "text": "6",
           "x": 1.569547,
           "y": 0.306589,
           "yshift": 15,
           "z": -0.146343
          },
          {
           "font": {
            "color": "blue"
           },
           "showarrow": false,
           "text": "7",
           "x": 2.827503,
           "y": 0.88302,
           "yshift": 15,
           "z": -0.151551
          },
          {
           "font": {
            "color": "blue"
           },
           "showarrow": false,
           "text": "8",
           "x": 3.914506,
           "y": 0.079044,
           "yshift": 15,
           "z": 0.188007
          },
          {
           "font": {
            "color": "blue"
           },
           "showarrow": false,
           "text": "9",
           "x": 3.677714,
           "y": -1.256759,
           "yshift": 15,
           "z": 0.50801
          },
          {
           "font": {
            "color": "blue"
           },
           "showarrow": false,
           "text": "10",
           "x": 2.385004,
           "y": -1.734549,
           "yshift": 15,
           "z": 0.47448
          },
          {
           "font": {
            "color": "blue"
           },
           "showarrow": false,
           "text": "11",
           "x": 1.336313,
           "y": -0.975322,
           "yshift": 15,
           "z": 0.155787
          },
          {
           "font": {
            "color": "blue"
           },
           "showarrow": false,
           "text": "12",
           "x": -0.730976,
           "y": -1.621568,
           "yshift": 15,
           "z": -0.065192
          },
          {
           "font": {
            "color": "blue"
           },
           "showarrow": false,
           "text": "13",
           "x": -2.954715,
           "y": -2.144001,
           "yshift": 15,
           "z": -0.502058
          },
          {
           "font": {
            "color": "blue"
           },
           "showarrow": false,
           "text": "14",
           "x": -0.31603,
           "y": -3.52755,
           "yshift": 15,
           "z": 0.230598
          },
          {
           "font": {
            "color": "blue"
           },
           "showarrow": false,
           "text": "15",
           "x": -1.2021,
           "y": -4.144514,
           "yshift": 15,
           "z": 0.11653
          },
          {
           "font": {
            "color": "blue"
           },
           "showarrow": false,
           "text": "16",
           "x": 0.442156,
           "y": -3.817768,
           "yshift": 15,
           "z": -0.501821
          },
          {
           "font": {
            "color": "blue"
           },
           "showarrow": false,
           "text": "17",
           "x": 0.077201,
           "y": -3.617357,
           "yshift": 15,
           "z": 1.247566
          },
          {
           "font": {
            "color": "blue"
           },
           "showarrow": false,
           "text": "18",
           "x": 2.923926,
           "y": 1.924857,
           "yshift": 15,
           "z": -0.414936
          },
          {
           "font": {
            "color": "blue"
           },
           "showarrow": false,
           "text": "19",
           "x": 5.18316,
           "y": 0.49849,
           "yshift": 15,
           "z": 0.229059
          },
          {
           "font": {
            "color": "blue"
           },
           "showarrow": false,
           "text": "20",
           "x": 4.504719,
           "y": -1.899475,
           "yshift": 15,
           "z": 0.773159
          },
          {
           "font": {
            "color": "blue"
           },
           "showarrow": false,
           "text": "21",
           "x": 2.16804,
           "y": -2.768983,
           "yshift": 15,
           "z": 0.707702
          },
          {
           "font": {
            "color": "blue"
           },
           "showarrow": false,
           "text": "22",
           "x": -0.798901,
           "y": 2.843582,
           "yshift": 15,
           "z": -2.366543
          },
          {
           "font": {
            "color": "blue"
           },
           "showarrow": false,
           "text": "23",
           "x": -0.931227,
           "y": 3.812544,
           "yshift": 15,
           "z": -0.879265
          },
          {
           "font": {
            "color": "blue"
           },
           "showarrow": false,
           "text": "24",
           "x": -2.448587,
           "y": 1.393387,
           "yshift": 15,
           "z": -1.440452
          },
          {
           "font": {
            "color": "blue"
           },
           "showarrow": false,
           "text": "25",
           "x": -2.518478,
           "y": 2.189903,
           "yshift": 15,
           "z": 0.55822
          },
          {
           "font": {
            "color": "blue"
           },
           "showarrow": false,
           "text": "26",
           "x": -3.316889,
           "y": 1.0045,
           "yshift": 15,
           "z": 1.099329
          },
          {
           "font": {
            "color": "blue"
           },
           "showarrow": false,
           "text": "27",
           "x": 5.452175,
           "y": 1.851997,
           "yshift": 15,
           "z": -0.096705
          },
          {
           "font": {
            "color": "blue"
           },
           "showarrow": false,
           "text": "28",
           "x": -3.959905,
           "y": 0.571597,
           "yshift": 15,
           "z": 0.33188
          },
          {
           "font": {
            "color": "blue"
           },
           "showarrow": false,
           "text": "29",
           "x": 6.526501,
           "y": 1.974129,
           "yshift": 15,
           "z": -0.001298
          },
          {
           "font": {
            "color": "blue"
           },
           "showarrow": false,
           "text": "30",
           "x": 5.146818,
           "y": 2.072785,
           "yshift": 15,
           "z": -1.121459
          },
          {
           "font": {
            "color": "blue"
           },
           "showarrow": false,
           "text": "31",
           "x": -4.174852,
           "y": 2.941061,
           "yshift": 15,
           "z": -0.630148
          },
          {
           "font": {
            "color": "blue"
           },
           "showarrow": false,
           "text": "32",
           "x": 4.942855,
           "y": 2.526398,
           "yshift": 15,
           "z": 0.594638
          },
          {
           "font": {
            "color": "blue"
           },
           "showarrow": false,
           "text": "33",
           "x": -1.57101,
           "y": 2.703645,
           "yshift": 15,
           "z": 1.64337
          },
          {
           "font": {
            "color": "blue"
           },
           "showarrow": false,
           "text": "34",
           "x": -3.489422,
           "y": 3.296928,
           "yshift": 15,
           "z": 0.141999
          },
          {
           "font": {
            "color": "blue"
           },
           "showarrow": false,
           "text": "35",
           "x": -2.664195,
           "y": 0.204237,
           "yshift": 15,
           "z": 1.447346
          },
          {
           "font": {
            "color": "blue"
           },
           "showarrow": false,
           "text": "36",
           "x": -3.939688,
           "y": 1.33332,
           "yshift": 15,
           "z": 1.933899
          },
          {
           "font": {
            "color": "blue"
           },
           "showarrow": false,
           "text": "37",
           "x": -2.147454,
           "y": 3.005807,
           "yshift": 15,
           "z": 2.519185
          },
          {
           "font": {
            "color": "blue"
           },
           "showarrow": false,
           "text": "38",
           "x": -0.991136,
           "y": 3.570417,
           "yshift": 15,
           "z": 1.317235
          },
          {
           "font": {
            "color": "blue"
           },
           "showarrow": false,
           "text": "39",
           "x": -0.878397,
           "y": 1.921054,
           "yshift": 15,
           "z": 1.959349
          },
          {
           "font": {
            "color": "blue"
           },
           "showarrow": false,
           "text": "40",
           "x": -4.086255,
           "y": 3.606117,
           "yshift": 15,
           "z": 1.001414
          },
          {
           "font": {
            "color": "blue"
           },
           "showarrow": false,
           "text": "41",
           "x": -2.976939,
           "y": 4.18432,
           "yshift": 15,
           "z": -0.236122
          }
         ],
         "xaxis": {
          "showbackground": false,
          "showgrid": false,
          "showticklabels": false,
          "title": {
           "font": {
            "color": "white"
           }
          },
          "zeroline": false
         },
         "yaxis": {
          "showbackground": false,
          "showgrid": false,
          "showticklabels": false,
          "title": {
           "font": {
            "color": "white"
           }
          },
          "zeroline": false
         },
         "zaxis": {
          "showbackground": false,
          "showgrid": false,
          "showticklabels": false,
          "title": {
           "font": {
            "color": "white"
           }
          },
          "zeroline": false
         }
        },
        "showlegend": false,
        "template": {
         "data": {
          "bar": [
           {
            "error_x": {
             "color": "#2a3f5f"
            },
            "error_y": {
             "color": "#2a3f5f"
            },
            "marker": {
             "line": {
              "color": "#E5ECF6",
              "width": 0.5
             },
             "pattern": {
              "fillmode": "overlay",
              "size": 10,
              "solidity": 0.2
             }
            },
            "type": "bar"
           }
          ],
          "barpolar": [
           {
            "marker": {
             "line": {
              "color": "#E5ECF6",
              "width": 0.5
             },
             "pattern": {
              "fillmode": "overlay",
              "size": 10,
              "solidity": 0.2
             }
            },
            "type": "barpolar"
           }
          ],
          "carpet": [
           {
            "aaxis": {
             "endlinecolor": "#2a3f5f",
             "gridcolor": "white",
             "linecolor": "white",
             "minorgridcolor": "white",
             "startlinecolor": "#2a3f5f"
            },
            "baxis": {
             "endlinecolor": "#2a3f5f",
             "gridcolor": "white",
             "linecolor": "white",
             "minorgridcolor": "white",
             "startlinecolor": "#2a3f5f"
            },
            "type": "carpet"
           }
          ],
          "choropleth": [
           {
            "colorbar": {
             "outlinewidth": 0,
             "ticks": ""
            },
            "type": "choropleth"
           }
          ],
          "contour": [
           {
            "colorbar": {
             "outlinewidth": 0,
             "ticks": ""
            },
            "colorscale": [
             [
              0,
              "#0d0887"
             ],
             [
              0.1111111111111111,
              "#46039f"
             ],
             [
              0.2222222222222222,
              "#7201a8"
             ],
             [
              0.3333333333333333,
              "#9c179e"
             ],
             [
              0.4444444444444444,
              "#bd3786"
             ],
             [
              0.5555555555555556,
              "#d8576b"
             ],
             [
              0.6666666666666666,
              "#ed7953"
             ],
             [
              0.7777777777777778,
              "#fb9f3a"
             ],
             [
              0.8888888888888888,
              "#fdca26"
             ],
             [
              1,
              "#f0f921"
             ]
            ],
            "type": "contour"
           }
          ],
          "contourcarpet": [
           {
            "colorbar": {
             "outlinewidth": 0,
             "ticks": ""
            },
            "type": "contourcarpet"
           }
          ],
          "heatmap": [
           {
            "colorbar": {
             "outlinewidth": 0,
             "ticks": ""
            },
            "colorscale": [
             [
              0,
              "#0d0887"
             ],
             [
              0.1111111111111111,
              "#46039f"
             ],
             [
              0.2222222222222222,
              "#7201a8"
             ],
             [
              0.3333333333333333,
              "#9c179e"
             ],
             [
              0.4444444444444444,
              "#bd3786"
             ],
             [
              0.5555555555555556,
              "#d8576b"
             ],
             [
              0.6666666666666666,
              "#ed7953"
             ],
             [
              0.7777777777777778,
              "#fb9f3a"
             ],
             [
              0.8888888888888888,
              "#fdca26"
             ],
             [
              1,
              "#f0f921"
             ]
            ],
            "type": "heatmap"
           }
          ],
          "heatmapgl": [
           {
            "colorbar": {
             "outlinewidth": 0,
             "ticks": ""
            },
            "colorscale": [
             [
              0,
              "#0d0887"
             ],
             [
              0.1111111111111111,
              "#46039f"
             ],
             [
              0.2222222222222222,
              "#7201a8"
             ],
             [
              0.3333333333333333,
              "#9c179e"
             ],
             [
              0.4444444444444444,
              "#bd3786"
             ],
             [
              0.5555555555555556,
              "#d8576b"
             ],
             [
              0.6666666666666666,
              "#ed7953"
             ],
             [
              0.7777777777777778,
              "#fb9f3a"
             ],
             [
              0.8888888888888888,
              "#fdca26"
             ],
             [
              1,
              "#f0f921"
             ]
            ],
            "type": "heatmapgl"
           }
          ],
          "histogram": [
           {
            "marker": {
             "pattern": {
              "fillmode": "overlay",
              "size": 10,
              "solidity": 0.2
             }
            },
            "type": "histogram"
           }
          ],
          "histogram2d": [
           {
            "colorbar": {
             "outlinewidth": 0,
             "ticks": ""
            },
            "colorscale": [
             [
              0,
              "#0d0887"
             ],
             [
              0.1111111111111111,
              "#46039f"
             ],
             [
              0.2222222222222222,
              "#7201a8"
             ],
             [
              0.3333333333333333,
              "#9c179e"
             ],
             [
              0.4444444444444444,
              "#bd3786"
             ],
             [
              0.5555555555555556,
              "#d8576b"
             ],
             [
              0.6666666666666666,
              "#ed7953"
             ],
             [
              0.7777777777777778,
              "#fb9f3a"
             ],
             [
              0.8888888888888888,
              "#fdca26"
             ],
             [
              1,
              "#f0f921"
             ]
            ],
            "type": "histogram2d"
           }
          ],
          "histogram2dcontour": [
           {
            "colorbar": {
             "outlinewidth": 0,
             "ticks": ""
            },
            "colorscale": [
             [
              0,
              "#0d0887"
             ],
             [
              0.1111111111111111,
              "#46039f"
             ],
             [
              0.2222222222222222,
              "#7201a8"
             ],
             [
              0.3333333333333333,
              "#9c179e"
             ],
             [
              0.4444444444444444,
              "#bd3786"
             ],
             [
              0.5555555555555556,
              "#d8576b"
             ],
             [
              0.6666666666666666,
              "#ed7953"
             ],
             [
              0.7777777777777778,
              "#fb9f3a"
             ],
             [
              0.8888888888888888,
              "#fdca26"
             ],
             [
              1,
              "#f0f921"
             ]
            ],
            "type": "histogram2dcontour"
           }
          ],
          "mesh3d": [
           {
            "colorbar": {
             "outlinewidth": 0,
             "ticks": ""
            },
            "type": "mesh3d"
           }
          ],
          "parcoords": [
           {
            "line": {
             "colorbar": {
              "outlinewidth": 0,
              "ticks": ""
             }
            },
            "type": "parcoords"
           }
          ],
          "pie": [
           {
            "automargin": true,
            "type": "pie"
           }
          ],
          "scatter": [
           {
            "fillpattern": {
             "fillmode": "overlay",
             "size": 10,
             "solidity": 0.2
            },
            "type": "scatter"
           }
          ],
          "scatter3d": [
           {
            "line": {
             "colorbar": {
              "outlinewidth": 0,
              "ticks": ""
             }
            },
            "marker": {
             "colorbar": {
              "outlinewidth": 0,
              "ticks": ""
             }
            },
            "type": "scatter3d"
           }
          ],
          "scattercarpet": [
           {
            "marker": {
             "colorbar": {
              "outlinewidth": 0,
              "ticks": ""
             }
            },
            "type": "scattercarpet"
           }
          ],
          "scattergeo": [
           {
            "marker": {
             "colorbar": {
              "outlinewidth": 0,
              "ticks": ""
             }
            },
            "type": "scattergeo"
           }
          ],
          "scattergl": [
           {
            "marker": {
             "colorbar": {
              "outlinewidth": 0,
              "ticks": ""
             }
            },
            "type": "scattergl"
           }
          ],
          "scattermapbox": [
           {
            "marker": {
             "colorbar": {
              "outlinewidth": 0,
              "ticks": ""
             }
            },
            "type": "scattermapbox"
           }
          ],
          "scatterpolar": [
           {
            "marker": {
             "colorbar": {
              "outlinewidth": 0,
              "ticks": ""
             }
            },
            "type": "scatterpolar"
           }
          ],
          "scatterpolargl": [
           {
            "marker": {
             "colorbar": {
              "outlinewidth": 0,
              "ticks": ""
             }
            },
            "type": "scatterpolargl"
           }
          ],
          "scatterternary": [
           {
            "marker": {
             "colorbar": {
              "outlinewidth": 0,
              "ticks": ""
             }
            },
            "type": "scatterternary"
           }
          ],
          "surface": [
           {
            "colorbar": {
             "outlinewidth": 0,
             "ticks": ""
            },
            "colorscale": [
             [
              0,
              "#0d0887"
             ],
             [
              0.1111111111111111,
              "#46039f"
             ],
             [
              0.2222222222222222,
              "#7201a8"
             ],
             [
              0.3333333333333333,
              "#9c179e"
             ],
             [
              0.4444444444444444,
              "#bd3786"
             ],
             [
              0.5555555555555556,
              "#d8576b"
             ],
             [
              0.6666666666666666,
              "#ed7953"
             ],
             [
              0.7777777777777778,
              "#fb9f3a"
             ],
             [
              0.8888888888888888,
              "#fdca26"
             ],
             [
              1,
              "#f0f921"
             ]
            ],
            "type": "surface"
           }
          ],
          "table": [
           {
            "cells": {
             "fill": {
              "color": "#EBF0F8"
             },
             "line": {
              "color": "white"
             }
            },
            "header": {
             "fill": {
              "color": "#C8D4E3"
             },
             "line": {
              "color": "white"
             }
            },
            "type": "table"
           }
          ]
         },
         "layout": {
          "annotationdefaults": {
           "arrowcolor": "#2a3f5f",
           "arrowhead": 0,
           "arrowwidth": 1
          },
          "autotypenumbers": "strict",
          "coloraxis": {
           "colorbar": {
            "outlinewidth": 0,
            "ticks": ""
           }
          },
          "colorscale": {
           "diverging": [
            [
             0,
             "#8e0152"
            ],
            [
             0.1,
             "#c51b7d"
            ],
            [
             0.2,
             "#de77ae"
            ],
            [
             0.3,
             "#f1b6da"
            ],
            [
             0.4,
             "#fde0ef"
            ],
            [
             0.5,
             "#f7f7f7"
            ],
            [
             0.6,
             "#e6f5d0"
            ],
            [
             0.7,
             "#b8e186"
            ],
            [
             0.8,
             "#7fbc41"
            ],
            [
             0.9,
             "#4d9221"
            ],
            [
             1,
             "#276419"
            ]
           ],
           "sequential": [
            [
             0,
             "#0d0887"
            ],
            [
             0.1111111111111111,
             "#46039f"
            ],
            [
             0.2222222222222222,
             "#7201a8"
            ],
            [
             0.3333333333333333,
             "#9c179e"
            ],
            [
             0.4444444444444444,
             "#bd3786"
            ],
            [
             0.5555555555555556,
             "#d8576b"
            ],
            [
             0.6666666666666666,
             "#ed7953"
            ],
            [
             0.7777777777777778,
             "#fb9f3a"
            ],
            [
             0.8888888888888888,
             "#fdca26"
            ],
            [
             1,
             "#f0f921"
            ]
           ],
           "sequentialminus": [
            [
             0,
             "#0d0887"
            ],
            [
             0.1111111111111111,
             "#46039f"
            ],
            [
             0.2222222222222222,
             "#7201a8"
            ],
            [
             0.3333333333333333,
             "#9c179e"
            ],
            [
             0.4444444444444444,
             "#bd3786"
            ],
            [
             0.5555555555555556,
             "#d8576b"
            ],
            [
             0.6666666666666666,
             "#ed7953"
            ],
            [
             0.7777777777777778,
             "#fb9f3a"
            ],
            [
             0.8888888888888888,
             "#fdca26"
            ],
            [
             1,
             "#f0f921"
            ]
           ]
          },
          "colorway": [
           "#636efa",
           "#EF553B",
           "#00cc96",
           "#ab63fa",
           "#FFA15A",
           "#19d3f3",
           "#FF6692",
           "#B6E880",
           "#FF97FF",
           "#FECB52"
          ],
          "font": {
           "color": "#2a3f5f"
          },
          "geo": {
           "bgcolor": "white",
           "lakecolor": "white",
           "landcolor": "#E5ECF6",
           "showlakes": true,
           "showland": true,
           "subunitcolor": "white"
          },
          "hoverlabel": {
           "align": "left"
          },
          "hovermode": "closest",
          "mapbox": {
           "style": "light"
          },
          "paper_bgcolor": "white",
          "plot_bgcolor": "#E5ECF6",
          "polar": {
           "angularaxis": {
            "gridcolor": "white",
            "linecolor": "white",
            "ticks": ""
           },
           "bgcolor": "#E5ECF6",
           "radialaxis": {
            "gridcolor": "white",
            "linecolor": "white",
            "ticks": ""
           }
          },
          "scene": {
           "xaxis": {
            "backgroundcolor": "#E5ECF6",
            "gridcolor": "white",
            "gridwidth": 2,
            "linecolor": "white",
            "showbackground": true,
            "ticks": "",
            "zerolinecolor": "white"
           },
           "yaxis": {
            "backgroundcolor": "#E5ECF6",
            "gridcolor": "white",
            "gridwidth": 2,
            "linecolor": "white",
            "showbackground": true,
            "ticks": "",
            "zerolinecolor": "white"
           },
           "zaxis": {
            "backgroundcolor": "#E5ECF6",
            "gridcolor": "white",
            "gridwidth": 2,
            "linecolor": "white",
            "showbackground": true,
            "ticks": "",
            "zerolinecolor": "white"
           }
          },
          "shapedefaults": {
           "line": {
            "color": "#2a3f5f"
           }
          },
          "ternary": {
           "aaxis": {
            "gridcolor": "white",
            "linecolor": "white",
            "ticks": ""
           },
           "baxis": {
            "gridcolor": "white",
            "linecolor": "white",
            "ticks": ""
           },
           "bgcolor": "#E5ECF6",
           "caxis": {
            "gridcolor": "white",
            "linecolor": "white",
            "ticks": ""
           }
          },
          "title": {
           "x": 0.05
          },
          "xaxis": {
           "automargin": true,
           "gridcolor": "white",
           "linecolor": "white",
           "ticks": "",
           "title": {
            "standoff": 15
           },
           "zerolinecolor": "white",
           "zerolinewidth": 2
          },
          "yaxis": {
           "automargin": true,
           "gridcolor": "white",
           "linecolor": "white",
           "ticks": "",
           "title": {
            "standoff": 15
           },
           "zerolinecolor": "white",
           "zerolinewidth": 2
          }
         }
        },
        "title": {
         "text": "LS1630",
         "x": 0.5,
         "xanchor": "center",
         "y": 0.9,
         "yanchor": "top"
        },
        "updatemenus": [
         {
          "buttons": [
           {
            "args": [
             {
              "scene.annotations": [
               {
                "font": {
                 "color": "blue"
                },
                "showarrow": false,
                "text": 1,
                "x": -1.732295,
                "y": 1.745082,
                "yshift": 15,
                "z": -0.696098
               },
               {
                "font": {
                 "color": "blue"
                },
                "showarrow": false,
                "text": 2,
                "x": -0.780883,
                "y": 2.813111,
                "yshift": 15,
                "z": -1.277399
               },
               {
                "font": {
                 "color": "blue"
                },
                "showarrow": false,
                "text": 3,
                "x": 0.538855,
                "y": 2.371267,
                "yshift": 15,
                "z": -0.875992
               },
               {
                "font": {
                 "color": "blue"
                },
                "showarrow": false,
                "text": 4,
                "x": 0.37115,
                "y": 1.102116,
                "yshift": 15,
                "z": -0.475397
               },
               {
                "font": {
                 "color": "blue"
                },
                "showarrow": false,
                "text": 5,
                "x": -0.806201,
                "y": 0.647054,
                "yshift": 15,
                "z": -0.391749
               },
               {
                "font": {
                 "color": "blue"
                },
                "showarrow": false,
                "text": 6,
                "x": 1.569547,
                "y": 0.306589,
                "yshift": 15,
                "z": -0.146343
               },
               {
                "font": {
                 "color": "blue"
                },
                "showarrow": false,
                "text": 7,
                "x": 2.827503,
                "y": 0.88302,
                "yshift": 15,
                "z": -0.151551
               },
               {
                "font": {
                 "color": "blue"
                },
                "showarrow": false,
                "text": 8,
                "x": 3.914506,
                "y": 0.079044,
                "yshift": 15,
                "z": 0.188007
               },
               {
                "font": {
                 "color": "blue"
                },
                "showarrow": false,
                "text": 9,
                "x": 3.677714,
                "y": -1.256759,
                "yshift": 15,
                "z": 0.50801
               },
               {
                "font": {
                 "color": "blue"
                },
                "showarrow": false,
                "text": 10,
                "x": 2.385004,
                "y": -1.734549,
                "yshift": 15,
                "z": 0.47448
               },
               {
                "font": {
                 "color": "blue"
                },
                "showarrow": false,
                "text": 11,
                "x": 1.336313,
                "y": -0.975322,
                "yshift": 15,
                "z": 0.155787
               },
               {
                "font": {
                 "color": "blue"
                },
                "showarrow": false,
                "text": 12,
                "x": -0.730976,
                "y": -1.621568,
                "yshift": 15,
                "z": -0.065192
               },
               {
                "font": {
                 "color": "blue"
                },
                "showarrow": false,
                "text": 13,
                "x": -2.954715,
                "y": -2.144001,
                "yshift": 15,
                "z": -0.502058
               },
               {
                "font": {
                 "color": "blue"
                },
                "showarrow": false,
                "text": 14,
                "x": -0.31603,
                "y": -3.52755,
                "yshift": 15,
                "z": 0.230598
               },
               {
                "font": {
                 "color": "blue"
                },
                "showarrow": false,
                "text": 15,
                "x": -1.2021,
                "y": -4.144514,
                "yshift": 15,
                "z": 0.11653
               },
               {
                "font": {
                 "color": "blue"
                },
                "showarrow": false,
                "text": 16,
                "x": 0.442156,
                "y": -3.817768,
                "yshift": 15,
                "z": -0.501821
               },
               {
                "font": {
                 "color": "blue"
                },
                "showarrow": false,
                "text": 17,
                "x": 0.077201,
                "y": -3.617357,
                "yshift": 15,
                "z": 1.247566
               },
               {
                "font": {
                 "color": "blue"
                },
                "showarrow": false,
                "text": 18,
                "x": 2.923926,
                "y": 1.924857,
                "yshift": 15,
                "z": -0.414936
               },
               {
                "font": {
                 "color": "blue"
                },
                "showarrow": false,
                "text": 19,
                "x": 5.18316,
                "y": 0.49849,
                "yshift": 15,
                "z": 0.229059
               },
               {
                "font": {
                 "color": "blue"
                },
                "showarrow": false,
                "text": 20,
                "x": 4.504719,
                "y": -1.899475,
                "yshift": 15,
                "z": 0.773159
               },
               {
                "font": {
                 "color": "blue"
                },
                "showarrow": false,
                "text": 21,
                "x": 2.16804,
                "y": -2.768983,
                "yshift": 15,
                "z": 0.707702
               },
               {
                "font": {
                 "color": "blue"
                },
                "showarrow": false,
                "text": 22,
                "x": -0.798901,
                "y": 2.843582,
                "yshift": 15,
                "z": -2.366543
               },
               {
                "font": {
                 "color": "blue"
                },
                "showarrow": false,
                "text": 23,
                "x": -0.931227,
                "y": 3.812544,
                "yshift": 15,
                "z": -0.879265
               },
               {
                "font": {
                 "color": "blue"
                },
                "showarrow": false,
                "text": 24,
                "x": -2.448587,
                "y": 1.393387,
                "yshift": 15,
                "z": -1.440452
               },
               {
                "font": {
                 "color": "blue"
                },
                "showarrow": false,
                "text": 25,
                "x": -2.518478,
                "y": 2.189903,
                "yshift": 15,
                "z": 0.55822
               },
               {
                "font": {
                 "color": "blue"
                },
                "showarrow": false,
                "text": 26,
                "x": -3.316889,
                "y": 1.0045,
                "yshift": 15,
                "z": 1.099329
               },
               {
                "font": {
                 "color": "blue"
                },
                "showarrow": false,
                "text": 27,
                "x": 5.452175,
                "y": 1.851997,
                "yshift": 15,
                "z": -0.096705
               },
               {
                "font": {
                 "color": "blue"
                },
                "showarrow": false,
                "text": 28,
                "x": -3.959905,
                "y": 0.571597,
                "yshift": 15,
                "z": 0.33188
               },
               {
                "font": {
                 "color": "blue"
                },
                "showarrow": false,
                "text": 29,
                "x": 6.526501,
                "y": 1.974129,
                "yshift": 15,
                "z": -0.001298
               },
               {
                "font": {
                 "color": "blue"
                },
                "showarrow": false,
                "text": 30,
                "x": 5.146818,
                "y": 2.072785,
                "yshift": 15,
                "z": -1.121459
               },
               {
                "font": {
                 "color": "blue"
                },
                "showarrow": false,
                "text": 31,
                "x": -4.174852,
                "y": 2.941061,
                "yshift": 15,
                "z": -0.630148
               },
               {
                "font": {
                 "color": "blue"
                },
                "showarrow": false,
                "text": 32,
                "x": 4.942855,
                "y": 2.526398,
                "yshift": 15,
                "z": 0.594638
               },
               {
                "font": {
                 "color": "blue"
                },
                "showarrow": false,
                "text": 33,
                "x": -1.57101,
                "y": 2.703645,
                "yshift": 15,
                "z": 1.64337
               },
               {
                "font": {
                 "color": "blue"
                },
                "showarrow": false,
                "text": 34,
                "x": -3.489422,
                "y": 3.296928,
                "yshift": 15,
                "z": 0.141999
               },
               {
                "font": {
                 "color": "blue"
                },
                "showarrow": false,
                "text": 35,
                "x": -2.664195,
                "y": 0.204237,
                "yshift": 15,
                "z": 1.447346
               },
               {
                "font": {
                 "color": "blue"
                },
                "showarrow": false,
                "text": 36,
                "x": -3.939688,
                "y": 1.33332,
                "yshift": 15,
                "z": 1.933899
               },
               {
                "font": {
                 "color": "blue"
                },
                "showarrow": false,
                "text": 37,
                "x": -2.147454,
                "y": 3.005807,
                "yshift": 15,
                "z": 2.519185
               },
               {
                "font": {
                 "color": "blue"
                },
                "showarrow": false,
                "text": 38,
                "x": -0.991136,
                "y": 3.570417,
                "yshift": 15,
                "z": 1.317235
               },
               {
                "font": {
                 "color": "blue"
                },
                "showarrow": false,
                "text": 39,
                "x": -0.878397,
                "y": 1.921054,
                "yshift": 15,
                "z": 1.959349
               },
               {
                "font": {
                 "color": "blue"
                },
                "showarrow": false,
                "text": 40,
                "x": -4.086255,
                "y": 3.606117,
                "yshift": 15,
                "z": 1.001414
               },
               {
                "font": {
                 "color": "blue"
                },
                "showarrow": false,
                "text": 41,
                "x": -2.976939,
                "y": 4.18432,
                "yshift": 15,
                "z": -0.236122
               }
              ]
             }
            ],
            "label": "Atom indices",
            "method": "relayout"
           },
           {
            "args": [
             {
              "scene.annotations": [
               {
                "showarrow": false,
                "text": 1.54,
                "x": -1.256589,
                "y": 2.2790965,
                "yshift": 10,
                "z": -0.9867485
               },
               {
                "showarrow": false,
                "text": 1.45,
                "x": -0.12101400000000001,
                "y": 2.5921890000000003,
                "yshift": 10,
                "z": -1.0766955
               },
               {
                "showarrow": false,
                "text": 1.34,
                "x": 0.4550025,
                "y": 1.7366915,
                "yshift": 10,
                "z": -0.6756945
               },
               {
                "showarrow": false,
                "text": 1.27,
                "x": -0.21752549999999998,
                "y": 0.8745850000000001,
                "yshift": 10,
                "z": -0.433573
               },
               {
                "showarrow": false,
                "text": 1.38,
                "x": 2.198525,
                "y": 0.5948045,
                "yshift": 10,
                "z": -0.148947
               },
               {
                "showarrow": false,
                "text": 1.39,
                "x": 3.3710044999999997,
                "y": 0.481032,
                "yshift": 10,
                "z": 0.018228000000000008
               },
               {
                "showarrow": false,
                "text": 1.39,
                "x": 3.7961099999999997,
                "y": -0.5888575,
                "yshift": 10,
                "z": 0.3480085
               },
               {
                "showarrow": false,
                "text": 1.38,
                "x": 3.031359,
                "y": -1.495654,
                "yshift": 10,
                "z": 0.491245
               },
               {
                "showarrow": false,
                "text": 1.33,
                "x": 1.8606585,
                "y": -1.3549354999999998,
                "yshift": 10,
                "z": 0.3151335
               },
               {
                "showarrow": false,
                "text": 2.18,
                "x": 0.30266850000000006,
                "y": -1.298445,
                "yshift": 10,
                "z": 0.045297500000000004
               },
               {
                "showarrow": false,
                "text": 2.33,
                "x": -1.8428455000000001,
                "y": -1.8827844999999999,
                "yshift": 10,
                "z": -0.283625
               },
               {
                "showarrow": false,
                "text": 1.09,
                "x": -0.759065,
                "y": -3.8360320000000003,
                "yshift": 10,
                "z": 0.173564
               },
               {
                "showarrow": false,
                "text": 1.53,
                "x": -2.9176835,
                "y": 1.5972015000000002,
                "yshift": 10,
                "z": 0.8287745
               },
               {
                "showarrow": false,
                "text": 1.48,
                "x": 0.9703485000000001,
                "y": 0.7043525,
                "yshift": 10,
                "z": -0.31087
               },
               {
                "showarrow": false,
                "text": 1.97,
                "x": -0.5235029999999999,
                "y": -2.574559,
                "yshift": 10,
                "z": 0.082703
               },
               {
                "showarrow": false,
                "text": 1.09,
                "x": 0.06306300000000001,
                "y": -3.6726590000000003,
                "yshift": 10,
                "z": -0.1356115
               },
               {
                "showarrow": false,
                "text": 1.09,
                "x": -3.6383970000000003,
                "y": 0.7880484999999999,
                "yshift": 10,
                "z": 0.7156045
               },
               {
                "showarrow": false,
                "text": 1.09,
                "x": 5.989338,
                "y": 1.913063,
                "yshift": 10,
                "z": -0.049001499999999996
               },
               {
                "showarrow": false,
                "text": 1.09,
                "x": -0.11941449999999998,
                "y": -3.5724535,
                "yshift": 10,
                "z": 0.739082
               },
               {
                "showarrow": false,
                "text": 1.09,
                "x": 5.2994965,
                "y": 1.962391,
                "yshift": 10,
                "z": -0.609082
               },
               {
                "showarrow": false,
                "text": 1.09,
                "x": -3.8321369999999995,
                "y": 3.1189945,
                "yshift": 10,
                "z": -0.24407450000000003
               },
               {
                "showarrow": false,
                "text": 1.47,
                "x": -1.269248,
                "y": 1.196068,
                "yshift": 10,
                "z": -0.5439235
               },
               {
                "showarrow": false,
                "text": 1.09,
                "x": -1.859232,
                "y": 2.854726,
                "yshift": 10,
                "z": 2.0812774999999997
               },
               {
                "showarrow": false,
                "text": 1.34,
                "x": 1.45293,
                "y": -0.3343665,
                "yshift": 10,
                "z": 0.004722000000000004
               },
               {
                "showarrow": false,
                "text": 1.09,
                "x": 5.197515,
                "y": 2.1891974999999997,
                "yshift": 10,
                "z": 0.2489665
               },
               {
                "showarrow": false,
                "text": 1.09,
                "x": -1.2810730000000001,
                "y": 3.137031,
                "yshift": 10,
                "z": 1.4803025
               },
               {
                "showarrow": false,
                "text": 1.09,
                "x": -1.2247035,
                "y": 2.3123495,
                "yshift": 10,
                "z": 1.8013595
               },
               {
                "showarrow": false,
                "text": 1.09,
                "x": -3.7878385000000003,
                "y": 3.4515225,
                "yshift": 10,
                "z": 0.5717065
               },
               {
                "showarrow": false,
                "text": 2.29,
                "x": -0.7685884999999999,
                "y": -0.48725699999999994,
                "yshift": 10,
                "z": -0.22847050000000002
               },
               {
                "showarrow": false,
                "text": 1.09,
                "x": -3.2331804999999996,
                "y": 3.7406239999999995,
                "yshift": 10,
                "z": -0.047061500000000006
               },
               {
                "showarrow": false,
                "text": 1.42,
                "x": 5.317667500000001,
                "y": 1.1752434999999999,
                "yshift": 10,
                "z": 0.06617700000000001
               },
               {
                "showarrow": false,
                "text": 1.53,
                "x": -2.044744,
                "y": 2.446774,
                "yshift": 10,
                "z": 1.100795
               },
               {
                "showarrow": false,
                "text": 1.53,
                "x": -3.0039499999999997,
                "y": 2.7434155000000002,
                "yshift": 10,
                "z": 0.3501095
               },
               {
                "showarrow": false,
                "text": 1.09,
                "x": -2.990542,
                "y": 0.6043685,
                "yshift": 10,
                "z": 1.2733375
               },
               {
                "showarrow": false,
                "text": 1.09,
                "x": -3.6282885,
                "y": 1.16891,
                "yshift": 10,
                "z": 1.5166140000000001
               },
               {
                "showarrow": false,
                "text": 1.08,
                "x": 2.8757145,
                "y": 1.4039385,
                "yshift": 10,
                "z": -0.2832435
               },
               {
                "showarrow": false,
                "text": 1.34,
                "x": 4.548833,
                "y": 0.288767,
                "yshift": 10,
                "z": 0.20853300000000002
               },
               {
                "showarrow": false,
                "text": 1.08,
                "x": 4.0912165,
                "y": -1.578117,
                "yshift": 10,
                "z": 0.6405845
               },
               {
                "showarrow": false,
                "text": 1.08,
                "x": 2.276522,
                "y": -2.251766,
                "yshift": 10,
                "z": 0.591091
               },
               {
                "showarrow": false,
                "text": 1.55,
                "x": -2.1253865,
                "y": 1.9674925,
                "yshift": 10,
                "z": -0.06893899999999997
               },
               {
                "showarrow": false,
                "text": 1.09,
                "x": -2.0904409999999998,
                "y": 1.5692344999999999,
                "yshift": 10,
                "z": -1.068275
               },
               {
                "showarrow": false,
                "text": 1.09,
                "x": -0.789892,
                "y": 2.8283465000000003,
                "yshift": 10,
                "z": -1.821971
               },
               {
                "showarrow": false,
                "text": 1.09,
                "x": -0.856055,
                "y": 3.3128275,
                "yshift": 10,
                "z": -1.078332
               }
              ]
             }
            ],
            "label": "Bond lengths",
            "method": "relayout"
           },
           {
            "args": [
             {
              "scene.annotations": [
               {
                "font": {
                 "color": "blue"
                },
                "showarrow": false,
                "text": 1,
                "x": -1.732295,
                "y": 1.745082,
                "yshift": 15,
                "z": -0.696098
               },
               {
                "font": {
                 "color": "blue"
                },
                "showarrow": false,
                "text": 2,
                "x": -0.780883,
                "y": 2.813111,
                "yshift": 15,
                "z": -1.277399
               },
               {
                "font": {
                 "color": "blue"
                },
                "showarrow": false,
                "text": 3,
                "x": 0.538855,
                "y": 2.371267,
                "yshift": 15,
                "z": -0.875992
               },
               {
                "font": {
                 "color": "blue"
                },
                "showarrow": false,
                "text": 4,
                "x": 0.37115,
                "y": 1.102116,
                "yshift": 15,
                "z": -0.475397
               },
               {
                "font": {
                 "color": "blue"
                },
                "showarrow": false,
                "text": 5,
                "x": -0.806201,
                "y": 0.647054,
                "yshift": 15,
                "z": -0.391749
               },
               {
                "font": {
                 "color": "blue"
                },
                "showarrow": false,
                "text": 6,
                "x": 1.569547,
                "y": 0.306589,
                "yshift": 15,
                "z": -0.146343
               },
               {
                "font": {
                 "color": "blue"
                },
                "showarrow": false,
                "text": 7,
                "x": 2.827503,
                "y": 0.88302,
                "yshift": 15,
                "z": -0.151551
               },
               {
                "font": {
                 "color": "blue"
                },
                "showarrow": false,
                "text": 8,
                "x": 3.914506,
                "y": 0.079044,
                "yshift": 15,
                "z": 0.188007
               },
               {
                "font": {
                 "color": "blue"
                },
                "showarrow": false,
                "text": 9,
                "x": 3.677714,
                "y": -1.256759,
                "yshift": 15,
                "z": 0.50801
               },
               {
                "font": {
                 "color": "blue"
                },
                "showarrow": false,
                "text": 10,
                "x": 2.385004,
                "y": -1.734549,
                "yshift": 15,
                "z": 0.47448
               },
               {
                "font": {
                 "color": "blue"
                },
                "showarrow": false,
                "text": 11,
                "x": 1.336313,
                "y": -0.975322,
                "yshift": 15,
                "z": 0.155787
               },
               {
                "font": {
                 "color": "blue"
                },
                "showarrow": false,
                "text": 12,
                "x": -0.730976,
                "y": -1.621568,
                "yshift": 15,
                "z": -0.065192
               },
               {
                "font": {
                 "color": "blue"
                },
                "showarrow": false,
                "text": 13,
                "x": -2.954715,
                "y": -2.144001,
                "yshift": 15,
                "z": -0.502058
               },
               {
                "font": {
                 "color": "blue"
                },
                "showarrow": false,
                "text": 14,
                "x": -0.31603,
                "y": -3.52755,
                "yshift": 15,
                "z": 0.230598
               },
               {
                "font": {
                 "color": "blue"
                },
                "showarrow": false,
                "text": 15,
                "x": -1.2021,
                "y": -4.144514,
                "yshift": 15,
                "z": 0.11653
               },
               {
                "font": {
                 "color": "blue"
                },
                "showarrow": false,
                "text": 16,
                "x": 0.442156,
                "y": -3.817768,
                "yshift": 15,
                "z": -0.501821
               },
               {
                "font": {
                 "color": "blue"
                },
                "showarrow": false,
                "text": 17,
                "x": 0.077201,
                "y": -3.617357,
                "yshift": 15,
                "z": 1.247566
               },
               {
                "font": {
                 "color": "blue"
                },
                "showarrow": false,
                "text": 18,
                "x": 2.923926,
                "y": 1.924857,
                "yshift": 15,
                "z": -0.414936
               },
               {
                "font": {
                 "color": "blue"
                },
                "showarrow": false,
                "text": 19,
                "x": 5.18316,
                "y": 0.49849,
                "yshift": 15,
                "z": 0.229059
               },
               {
                "font": {
                 "color": "blue"
                },
                "showarrow": false,
                "text": 20,
                "x": 4.504719,
                "y": -1.899475,
                "yshift": 15,
                "z": 0.773159
               },
               {
                "font": {
                 "color": "blue"
                },
                "showarrow": false,
                "text": 21,
                "x": 2.16804,
                "y": -2.768983,
                "yshift": 15,
                "z": 0.707702
               },
               {
                "font": {
                 "color": "blue"
                },
                "showarrow": false,
                "text": 22,
                "x": -0.798901,
                "y": 2.843582,
                "yshift": 15,
                "z": -2.366543
               },
               {
                "font": {
                 "color": "blue"
                },
                "showarrow": false,
                "text": 23,
                "x": -0.931227,
                "y": 3.812544,
                "yshift": 15,
                "z": -0.879265
               },
               {
                "font": {
                 "color": "blue"
                },
                "showarrow": false,
                "text": 24,
                "x": -2.448587,
                "y": 1.393387,
                "yshift": 15,
                "z": -1.440452
               },
               {
                "font": {
                 "color": "blue"
                },
                "showarrow": false,
                "text": 25,
                "x": -2.518478,
                "y": 2.189903,
                "yshift": 15,
                "z": 0.55822
               },
               {
                "font": {
                 "color": "blue"
                },
                "showarrow": false,
                "text": 26,
                "x": -3.316889,
                "y": 1.0045,
                "yshift": 15,
                "z": 1.099329
               },
               {
                "font": {
                 "color": "blue"
                },
                "showarrow": false,
                "text": 27,
                "x": 5.452175,
                "y": 1.851997,
                "yshift": 15,
                "z": -0.096705
               },
               {
                "font": {
                 "color": "blue"
                },
                "showarrow": false,
                "text": 28,
                "x": -3.959905,
                "y": 0.571597,
                "yshift": 15,
                "z": 0.33188
               },
               {
                "font": {
                 "color": "blue"
                },
                "showarrow": false,
                "text": 29,
                "x": 6.526501,
                "y": 1.974129,
                "yshift": 15,
                "z": -0.001298
               },
               {
                "font": {
                 "color": "blue"
                },
                "showarrow": false,
                "text": 30,
                "x": 5.146818,
                "y": 2.072785,
                "yshift": 15,
                "z": -1.121459
               },
               {
                "font": {
                 "color": "blue"
                },
                "showarrow": false,
                "text": 31,
                "x": -4.174852,
                "y": 2.941061,
                "yshift": 15,
                "z": -0.630148
               },
               {
                "font": {
                 "color": "blue"
                },
                "showarrow": false,
                "text": 32,
                "x": 4.942855,
                "y": 2.526398,
                "yshift": 15,
                "z": 0.594638
               },
               {
                "font": {
                 "color": "blue"
                },
                "showarrow": false,
                "text": 33,
                "x": -1.57101,
                "y": 2.703645,
                "yshift": 15,
                "z": 1.64337
               },
               {
                "font": {
                 "color": "blue"
                },
                "showarrow": false,
                "text": 34,
                "x": -3.489422,
                "y": 3.296928,
                "yshift": 15,
                "z": 0.141999
               },
               {
                "font": {
                 "color": "blue"
                },
                "showarrow": false,
                "text": 35,
                "x": -2.664195,
                "y": 0.204237,
                "yshift": 15,
                "z": 1.447346
               },
               {
                "font": {
                 "color": "blue"
                },
                "showarrow": false,
                "text": 36,
                "x": -3.939688,
                "y": 1.33332,
                "yshift": 15,
                "z": 1.933899
               },
               {
                "font": {
                 "color": "blue"
                },
                "showarrow": false,
                "text": 37,
                "x": -2.147454,
                "y": 3.005807,
                "yshift": 15,
                "z": 2.519185
               },
               {
                "font": {
                 "color": "blue"
                },
                "showarrow": false,
                "text": 38,
                "x": -0.991136,
                "y": 3.570417,
                "yshift": 15,
                "z": 1.317235
               },
               {
                "font": {
                 "color": "blue"
                },
                "showarrow": false,
                "text": 39,
                "x": -0.878397,
                "y": 1.921054,
                "yshift": 15,
                "z": 1.959349
               },
               {
                "font": {
                 "color": "blue"
                },
                "showarrow": false,
                "text": 40,
                "x": -4.086255,
                "y": 3.606117,
                "yshift": 15,
                "z": 1.001414
               },
               {
                "font": {
                 "color": "blue"
                },
                "showarrow": false,
                "text": 41,
                "x": -2.976939,
                "y": 4.18432,
                "yshift": 15,
                "z": -0.236122
               },
               {
                "showarrow": false,
                "text": 1.54,
                "x": -1.256589,
                "y": 2.2790965,
                "yshift": 10,
                "z": -0.9867485
               },
               {
                "showarrow": false,
                "text": 1.45,
                "x": -0.12101400000000001,
                "y": 2.5921890000000003,
                "yshift": 10,
                "z": -1.0766955
               },
               {
                "showarrow": false,
                "text": 1.34,
                "x": 0.4550025,
                "y": 1.7366915,
                "yshift": 10,
                "z": -0.6756945
               },
               {
                "showarrow": false,
                "text": 1.27,
                "x": -0.21752549999999998,
                "y": 0.8745850000000001,
                "yshift": 10,
                "z": -0.433573
               },
               {
                "showarrow": false,
                "text": 1.38,
                "x": 2.198525,
                "y": 0.5948045,
                "yshift": 10,
                "z": -0.148947
               },
               {
                "showarrow": false,
                "text": 1.39,
                "x": 3.3710044999999997,
                "y": 0.481032,
                "yshift": 10,
                "z": 0.018228000000000008
               },
               {
                "showarrow": false,
                "text": 1.39,
                "x": 3.7961099999999997,
                "y": -0.5888575,
                "yshift": 10,
                "z": 0.3480085
               },
               {
                "showarrow": false,
                "text": 1.38,
                "x": 3.031359,
                "y": -1.495654,
                "yshift": 10,
                "z": 0.491245
               },
               {
                "showarrow": false,
                "text": 1.33,
                "x": 1.8606585,
                "y": -1.3549354999999998,
                "yshift": 10,
                "z": 0.3151335
               },
               {
                "showarrow": false,
                "text": 2.18,
                "x": 0.30266850000000006,
                "y": -1.298445,
                "yshift": 10,
                "z": 0.045297500000000004
               },
               {
                "showarrow": false,
                "text": 2.33,
                "x": -1.8428455000000001,
                "y": -1.8827844999999999,
                "yshift": 10,
                "z": -0.283625
               },
               {
                "showarrow": false,
                "text": 1.09,
                "x": -0.759065,
                "y": -3.8360320000000003,
                "yshift": 10,
                "z": 0.173564
               },
               {
                "showarrow": false,
                "text": 1.53,
                "x": -2.9176835,
                "y": 1.5972015000000002,
                "yshift": 10,
                "z": 0.8287745
               },
               {
                "showarrow": false,
                "text": 1.48,
                "x": 0.9703485000000001,
                "y": 0.7043525,
                "yshift": 10,
                "z": -0.31087
               },
               {
                "showarrow": false,
                "text": 1.97,
                "x": -0.5235029999999999,
                "y": -2.574559,
                "yshift": 10,
                "z": 0.082703
               },
               {
                "showarrow": false,
                "text": 1.09,
                "x": 0.06306300000000001,
                "y": -3.6726590000000003,
                "yshift": 10,
                "z": -0.1356115
               },
               {
                "showarrow": false,
                "text": 1.09,
                "x": -3.6383970000000003,
                "y": 0.7880484999999999,
                "yshift": 10,
                "z": 0.7156045
               },
               {
                "showarrow": false,
                "text": 1.09,
                "x": 5.989338,
                "y": 1.913063,
                "yshift": 10,
                "z": -0.049001499999999996
               },
               {
                "showarrow": false,
                "text": 1.09,
                "x": -0.11941449999999998,
                "y": -3.5724535,
                "yshift": 10,
                "z": 0.739082
               },
               {
                "showarrow": false,
                "text": 1.09,
                "x": 5.2994965,
                "y": 1.962391,
                "yshift": 10,
                "z": -0.609082
               },
               {
                "showarrow": false,
                "text": 1.09,
                "x": -3.8321369999999995,
                "y": 3.1189945,
                "yshift": 10,
                "z": -0.24407450000000003
               },
               {
                "showarrow": false,
                "text": 1.47,
                "x": -1.269248,
                "y": 1.196068,
                "yshift": 10,
                "z": -0.5439235
               },
               {
                "showarrow": false,
                "text": 1.09,
                "x": -1.859232,
                "y": 2.854726,
                "yshift": 10,
                "z": 2.0812774999999997
               },
               {
                "showarrow": false,
                "text": 1.34,
                "x": 1.45293,
                "y": -0.3343665,
                "yshift": 10,
                "z": 0.004722000000000004
               },
               {
                "showarrow": false,
                "text": 1.09,
                "x": 5.197515,
                "y": 2.1891974999999997,
                "yshift": 10,
                "z": 0.2489665
               },
               {
                "showarrow": false,
                "text": 1.09,
                "x": -1.2810730000000001,
                "y": 3.137031,
                "yshift": 10,
                "z": 1.4803025
               },
               {
                "showarrow": false,
                "text": 1.09,
                "x": -1.2247035,
                "y": 2.3123495,
                "yshift": 10,
                "z": 1.8013595
               },
               {
                "showarrow": false,
                "text": 1.09,
                "x": -3.7878385000000003,
                "y": 3.4515225,
                "yshift": 10,
                "z": 0.5717065
               },
               {
                "showarrow": false,
                "text": 2.29,
                "x": -0.7685884999999999,
                "y": -0.48725699999999994,
                "yshift": 10,
                "z": -0.22847050000000002
               },
               {
                "showarrow": false,
                "text": 1.09,
                "x": -3.2331804999999996,
                "y": 3.7406239999999995,
                "yshift": 10,
                "z": -0.047061500000000006
               },
               {
                "showarrow": false,
                "text": 1.42,
                "x": 5.317667500000001,
                "y": 1.1752434999999999,
                "yshift": 10,
                "z": 0.06617700000000001
               },
               {
                "showarrow": false,
                "text": 1.53,
                "x": -2.044744,
                "y": 2.446774,
                "yshift": 10,
                "z": 1.100795
               },
               {
                "showarrow": false,
                "text": 1.53,
                "x": -3.0039499999999997,
                "y": 2.7434155000000002,
                "yshift": 10,
                "z": 0.3501095
               },
               {
                "showarrow": false,
                "text": 1.09,
                "x": -2.990542,
                "y": 0.6043685,
                "yshift": 10,
                "z": 1.2733375
               },
               {
                "showarrow": false,
                "text": 1.09,
                "x": -3.6282885,
                "y": 1.16891,
                "yshift": 10,
                "z": 1.5166140000000001
               },
               {
                "showarrow": false,
                "text": 1.08,
                "x": 2.8757145,
                "y": 1.4039385,
                "yshift": 10,
                "z": -0.2832435
               },
               {
                "showarrow": false,
                "text": 1.34,
                "x": 4.548833,
                "y": 0.288767,
                "yshift": 10,
                "z": 0.20853300000000002
               },
               {
                "showarrow": false,
                "text": 1.08,
                "x": 4.0912165,
                "y": -1.578117,
                "yshift": 10,
                "z": 0.6405845
               },
               {
                "showarrow": false,
                "text": 1.08,
                "x": 2.276522,
                "y": -2.251766,
                "yshift": 10,
                "z": 0.591091
               },
               {
                "showarrow": false,
                "text": 1.55,
                "x": -2.1253865,
                "y": 1.9674925,
                "yshift": 10,
                "z": -0.06893899999999997
               },
               {
                "showarrow": false,
                "text": 1.09,
                "x": -2.0904409999999998,
                "y": 1.5692344999999999,
                "yshift": 10,
                "z": -1.068275
               },
               {
                "showarrow": false,
                "text": 1.09,
                "x": -0.789892,
                "y": 2.8283465000000003,
                "yshift": 10,
                "z": -1.821971
               },
               {
                "showarrow": false,
                "text": 1.09,
                "x": -0.856055,
                "y": 3.3128275,
                "yshift": 10,
                "z": -1.078332
               }
              ]
             }
            ],
            "label": "Atom indices & Bond lengths",
            "method": "relayout"
           },
           {
            "args": [
             {
              "scene.annotations": []
             }
            ],
            "label": "Hide all",
            "method": "relayout"
           }
          ],
          "direction": "down",
          "xanchor": "left",
          "yanchor": "top"
         }
        ]
       }
      }
     },
     "metadata": {},
     "output_type": "display_data"
    },
    {
     "name": "stdout",
     "output_type": "stream",
     "text": [
      "{frozenset({0, 1}): 1.55, frozenset({1, 2}): 1.45, frozenset({2, 3}): 1.34, frozenset({3, 4}): 1.26, frozenset({5, 6}): 1.37, frozenset({6, 7}): 1.4, frozenset({8, 7}): 1.38, frozenset({8, 9}): 1.4, frozenset({9, 10}): 1.33, frozenset({10, 11}): 2.26, frozenset({11, 12}): 2.33, frozenset({13, 14}): 1.09, frozenset({24, 25}): 1.53, frozenset({3, 5}): 1.48, frozenset({11, 13}): 1.98, frozenset({13, 15}): 1.09, frozenset({16, 13}): 1.09, frozenset({0, 4}): 1.47, frozenset({25, 29}): 1.09, frozenset({26, 30}): 1.09, frozenset({10, 5}): 1.35, frozenset({33, 28}): 1.09, frozenset({32, 37}): 1.09, frozenset({32, 38}): 1.09, frozenset({11, 4}): 2.25, frozenset({27, 20}): 1.09, frozenset({32, 39}): 1.09, frozenset({40, 33}): 1.09, frozenset({18, 26}): 1.42, frozenset({24, 32}): 1.53, frozenset({33, 41}): 1.09, frozenset({24, 33}): 1.53, frozenset({25, 35}): 1.09, frozenset({17, 6}): 1.08, frozenset({18, 7}): 1.34, frozenset({8, 19}): 1.08, frozenset({9, 20}): 1.5, frozenset({20, 31}): 1.09, frozenset({25, 36}): 1.09, frozenset({34, 20}): 1.09, frozenset({26, 42}): 1.09, frozenset({26, 43}): 1.09, frozenset({1, 21}): 1.09, frozenset({24, 0}): 1.54, frozenset({1, 22}): 1.09, frozenset({0, 23}): 1.09}\n"
     ]
    },
    {
     "data": {
      "application/vnd.plotly.v1+json": {
       "config": {
        "plotlyServerURL": "https://plot.ly"
       },
       "data": [
        {
         "marker": {
          "color": [
           "black",
           "black",
           "red",
           "black",
           "blue",
           "black",
           "black",
           "black",
           "black",
           "black",
           "blue",
           "green",
           "green",
           "black",
           "white",
           "white",
           "white",
           "white",
           "red",
           "white",
           "black",
           "white",
           "white",
           "white",
           "black",
           "black",
           "black",
           "white",
           "white",
           "white",
           "white",
           "white",
           "black",
           "black",
           "white",
           "white",
           "white",
           "white",
           "white",
           "white",
           "white",
           "white",
           "white",
           "white"
          ],
          "line": {
           "color": "lightgray",
           "width": 2
          },
          "opacity": 0.8,
          "size": 5,
          "symbol": "circle"
         },
         "mode": "markers",
         "name": "",
         "text": [
          "C",
          "C",
          "O",
          "C",
          "N",
          "C",
          "C",
          "C",
          "C",
          "C",
          "N",
          "Pd",
          "Cl",
          "C",
          "H",
          "H",
          "H",
          "H",
          "O",
          "H",
          "C",
          "H",
          "H",
          "H",
          "C",
          "C",
          "C",
          "H",
          "H",
          "H",
          "H",
          "H",
          "C",
          "C",
          "H",
          "H",
          "H",
          "H",
          "H",
          "H",
          "H",
          "H",
          "H",
          "H"
         ],
         "type": "scatter3d",
         "x": [
          2.239125,
          1.600929,
          0.179993,
          0.031077,
          1.070377,
          -1.332136,
          -2.412221,
          -3.674731,
          -3.761178,
          -2.605337,
          -1.409149,
          0.554347,
          2.707347,
          -0.067103,
          -1.02103,
          -0.18806,
          0.667948,
          -2.29127,
          -4.709058,
          -4.701865,
          -2.703081,
          1.748016,
          1.911419,
          2.904071,
          3.013377,
          3.483389,
          -6.002772,
          -2.857264,
          4.872872,
          4.082194,
          -6.061,
          -1.780712,
          2.129675,
          4.234857,
          -3.540936,
          4.083222,
          2.639292,
          1.260772,
          2.69562,
          1.778367,
          3.959808,
          4.826402,
          -6.268089,
          -6.683944
         ],
         "y": [
          -1.421466,
          -2.598767,
          -2.470792,
          -1.256134,
          -0.596474,
          -0.758435,
          -1.586619,
          -1.09818,
          0.178799,
          0.955333,
          0.510628,
          1.592147,
          2.305451,
          3.468373,
          3.470039,
          3.877849,
          4.05241,
          -2.591796,
          -1.925743,
          0.596606,
          2.32062,
          -2.524842,
          -3.581022,
          -0.831033,
          -1.815339,
          -0.544064,
          -1.466476,
          3.075099,
          -2.065919,
          0.080451,
          -1.246105,
          2.56461,
          -2.62936,
          -2.636934,
          2.366621,
          -0.809695,
          0.062589,
          -2.04966,
          -2.894327,
          -3.559527,
          -3.572067,
          -2.893344,
          -0.577248,
          -2.275988
         ],
         "z": [
          -0.561952,
          -1.333568,
          -1.078947,
          -0.533454,
          -0.245326,
          -0.268942,
          -0.435605,
          -0.086395,
          0.442343,
          0.571319,
          0.191159,
          -0.119326,
          -0.641466,
          -0.244253,
          -0.775644,
          0.760205,
          -0.790107,
          -0.81156,
          -0.2717,
          0.767767,
          1.176639,
          -2.410361,
          -0.987961,
          -1.195823,
          0.714946,
          1.422417,
          0.078503,
          0.404633,
          -0.378952,
          0.758423,
          1.146493,
          1.697708,
          1.660948,
          0.298887,
          1.870395,
          2.295531,
          1.75141,
          1.978136,
          2.555618,
          1.207942,
          -0.194215,
          1.179269,
          -0.497089,
          -0.164574
         ]
        },
        {
         "hoverinfo": "none",
         "line": {
          "width": 3
         },
         "marker": {
          "color": "black",
          "opacity": 1,
          "size": 7
         },
         "mode": "lines",
         "type": "scatter3d",
         "x": [
          2.239125,
          1.600929,
          null,
          1.600929,
          0.179993,
          null,
          0.179993,
          0.031077,
          null,
          0.031077,
          1.070377,
          null,
          -1.332136,
          -2.412221,
          null,
          -2.412221,
          -3.674731,
          null,
          -3.761178,
          -3.674731,
          null,
          -3.761178,
          -2.605337,
          null,
          -2.605337,
          -1.409149,
          null,
          -1.409149,
          0.554347,
          null,
          0.554347,
          2.707347,
          null,
          -0.067103,
          -1.02103,
          null,
          3.013377,
          3.483389,
          null,
          0.031077,
          -1.332136,
          null,
          0.554347,
          -0.067103,
          null,
          -0.067103,
          -0.18806,
          null,
          0.667948,
          -0.067103,
          null,
          2.239125,
          1.070377,
          null,
          3.483389,
          4.082194,
          null,
          -6.002772,
          -6.061,
          null,
          -1.409149,
          -1.332136,
          null,
          4.234857,
          4.872872,
          null,
          2.129675,
          1.260772,
          null,
          2.129675,
          2.69562,
          null,
          0.554347,
          1.070377,
          null,
          -2.857264,
          -2.703081,
          null,
          2.129675,
          1.778367,
          null,
          3.959808,
          4.234857,
          null,
          -4.709058,
          -6.002772,
          null,
          3.013377,
          2.129675,
          null,
          4.234857,
          4.826402,
          null,
          3.013377,
          4.234857,
          null,
          3.483389,
          4.083222,
          null,
          -2.29127,
          -2.412221,
          null,
          -4.709058,
          -3.674731,
          null,
          -3.761178,
          -4.701865,
          null,
          -2.605337,
          -2.703081,
          null,
          -2.703081,
          -1.780712,
          null,
          3.483389,
          2.639292,
          null,
          -3.540936,
          -2.703081,
          null,
          -6.002772,
          -6.268089,
          null,
          -6.002772,
          -6.683944,
          null,
          1.600929,
          1.748016,
          null,
          3.013377,
          2.239125,
          null,
          1.600929,
          1.911419,
          null,
          2.239125,
          2.904071,
          null
         ],
         "y": [
          -1.421466,
          -2.598767,
          null,
          -2.598767,
          -2.470792,
          null,
          -2.470792,
          -1.256134,
          null,
          -1.256134,
          -0.596474,
          null,
          -0.758435,
          -1.586619,
          null,
          -1.586619,
          -1.09818,
          null,
          0.178799,
          -1.09818,
          null,
          0.178799,
          0.955333,
          null,
          0.955333,
          0.510628,
          null,
          0.510628,
          1.592147,
          null,
          1.592147,
          2.305451,
          null,
          3.468373,
          3.470039,
          null,
          -1.815339,
          -0.544064,
          null,
          -1.256134,
          -0.758435,
          null,
          1.592147,
          3.468373,
          null,
          3.468373,
          3.877849,
          null,
          4.05241,
          3.468373,
          null,
          -1.421466,
          -0.596474,
          null,
          -0.544064,
          0.080451,
          null,
          -1.466476,
          -1.246105,
          null,
          0.510628,
          -0.758435,
          null,
          -2.636934,
          -2.065919,
          null,
          -2.62936,
          -2.04966,
          null,
          -2.62936,
          -2.894327,
          null,
          1.592147,
          -0.596474,
          null,
          3.075099,
          2.32062,
          null,
          -2.62936,
          -3.559527,
          null,
          -3.572067,
          -2.636934,
          null,
          -1.925743,
          -1.466476,
          null,
          -1.815339,
          -2.62936,
          null,
          -2.636934,
          -2.893344,
          null,
          -1.815339,
          -2.636934,
          null,
          -0.544064,
          -0.809695,
          null,
          -2.591796,
          -1.586619,
          null,
          -1.925743,
          -1.09818,
          null,
          0.178799,
          0.596606,
          null,
          0.955333,
          2.32062,
          null,
          2.32062,
          2.56461,
          null,
          -0.544064,
          0.062589,
          null,
          2.366621,
          2.32062,
          null,
          -1.466476,
          -0.577248,
          null,
          -1.466476,
          -2.275988,
          null,
          -2.598767,
          -2.524842,
          null,
          -1.815339,
          -1.421466,
          null,
          -2.598767,
          -3.581022,
          null,
          -1.421466,
          -0.831033,
          null
         ],
         "z": [
          -0.561952,
          -1.333568,
          null,
          -1.333568,
          -1.078947,
          null,
          -1.078947,
          -0.533454,
          null,
          -0.533454,
          -0.245326,
          null,
          -0.268942,
          -0.435605,
          null,
          -0.435605,
          -0.086395,
          null,
          0.442343,
          -0.086395,
          null,
          0.442343,
          0.571319,
          null,
          0.571319,
          0.191159,
          null,
          0.191159,
          -0.119326,
          null,
          -0.119326,
          -0.641466,
          null,
          -0.244253,
          -0.775644,
          null,
          0.714946,
          1.422417,
          null,
          -0.533454,
          -0.268942,
          null,
          -0.119326,
          -0.244253,
          null,
          -0.244253,
          0.760205,
          null,
          -0.790107,
          -0.244253,
          null,
          -0.561952,
          -0.245326,
          null,
          1.422417,
          0.758423,
          null,
          0.078503,
          1.146493,
          null,
          0.191159,
          -0.268942,
          null,
          0.298887,
          -0.378952,
          null,
          1.660948,
          1.978136,
          null,
          1.660948,
          2.555618,
          null,
          -0.119326,
          -0.245326,
          null,
          0.404633,
          1.176639,
          null,
          1.660948,
          1.207942,
          null,
          -0.194215,
          0.298887,
          null,
          -0.2717,
          0.078503,
          null,
          0.714946,
          1.660948,
          null,
          0.298887,
          1.179269,
          null,
          0.714946,
          0.298887,
          null,
          1.422417,
          2.295531,
          null,
          -0.81156,
          -0.435605,
          null,
          -0.2717,
          -0.086395,
          null,
          0.442343,
          0.767767,
          null,
          0.571319,
          1.176639,
          null,
          1.176639,
          1.697708,
          null,
          1.422417,
          1.75141,
          null,
          1.870395,
          1.176639,
          null,
          0.078503,
          -0.497089,
          null,
          0.078503,
          -0.164574,
          null,
          -1.333568,
          -2.410361,
          null,
          0.714946,
          -0.561952,
          null,
          -1.333568,
          -0.987961,
          null,
          -0.561952,
          -1.195823,
          null
         ]
        }
       ],
       "layout": {
        "margin": {
         "b": 0,
         "l": 0,
         "r": 0,
         "t": 0
        },
        "scene": {
         "annotations": [
          {
           "font": {
            "color": "blue"
           },
           "showarrow": false,
           "text": "1",
           "x": 2.239125,
           "y": -1.421466,
           "yshift": 15,
           "z": -0.561952
          },
          {
           "font": {
            "color": "blue"
           },
           "showarrow": false,
           "text": "2",
           "x": 1.600929,
           "y": -2.598767,
           "yshift": 15,
           "z": -1.333568
          },
          {
           "font": {
            "color": "blue"
           },
           "showarrow": false,
           "text": "3",
           "x": 0.179993,
           "y": -2.470792,
           "yshift": 15,
           "z": -1.078947
          },
          {
           "font": {
            "color": "blue"
           },
           "showarrow": false,
           "text": "4",
           "x": 0.031077,
           "y": -1.256134,
           "yshift": 15,
           "z": -0.533454
          },
          {
           "font": {
            "color": "blue"
           },
           "showarrow": false,
           "text": "5",
           "x": 1.070377,
           "y": -0.596474,
           "yshift": 15,
           "z": -0.245326
          },
          {
           "font": {
            "color": "blue"
           },
           "showarrow": false,
           "text": "6",
           "x": -1.332136,
           "y": -0.758435,
           "yshift": 15,
           "z": -0.268942
          },
          {
           "font": {
            "color": "blue"
           },
           "showarrow": false,
           "text": "7",
           "x": -2.412221,
           "y": -1.586619,
           "yshift": 15,
           "z": -0.435605
          },
          {
           "font": {
            "color": "blue"
           },
           "showarrow": false,
           "text": "8",
           "x": -3.674731,
           "y": -1.09818,
           "yshift": 15,
           "z": -0.086395
          },
          {
           "font": {
            "color": "blue"
           },
           "showarrow": false,
           "text": "9",
           "x": -3.761178,
           "y": 0.178799,
           "yshift": 15,
           "z": 0.442343
          },
          {
           "font": {
            "color": "blue"
           },
           "showarrow": false,
           "text": "10",
           "x": -2.605337,
           "y": 0.955333,
           "yshift": 15,
           "z": 0.571319
          },
          {
           "font": {
            "color": "blue"
           },
           "showarrow": false,
           "text": "11",
           "x": -1.409149,
           "y": 0.510628,
           "yshift": 15,
           "z": 0.191159
          },
          {
           "font": {
            "color": "blue"
           },
           "showarrow": false,
           "text": "12",
           "x": 0.554347,
           "y": 1.592147,
           "yshift": 15,
           "z": -0.119326
          },
          {
           "font": {
            "color": "blue"
           },
           "showarrow": false,
           "text": "13",
           "x": 2.707347,
           "y": 2.305451,
           "yshift": 15,
           "z": -0.641466
          },
          {
           "font": {
            "color": "blue"
           },
           "showarrow": false,
           "text": "14",
           "x": -0.067103,
           "y": 3.468373,
           "yshift": 15,
           "z": -0.244253
          },
          {
           "font": {
            "color": "blue"
           },
           "showarrow": false,
           "text": "15",
           "x": -1.02103,
           "y": 3.470039,
           "yshift": 15,
           "z": -0.775644
          },
          {
           "font": {
            "color": "blue"
           },
           "showarrow": false,
           "text": "16",
           "x": -0.18806,
           "y": 3.877849,
           "yshift": 15,
           "z": 0.760205
          },
          {
           "font": {
            "color": "blue"
           },
           "showarrow": false,
           "text": "17",
           "x": 0.667948,
           "y": 4.05241,
           "yshift": 15,
           "z": -0.790107
          },
          {
           "font": {
            "color": "blue"
           },
           "showarrow": false,
           "text": "18",
           "x": -2.29127,
           "y": -2.591796,
           "yshift": 15,
           "z": -0.81156
          },
          {
           "font": {
            "color": "blue"
           },
           "showarrow": false,
           "text": "19",
           "x": -4.709058,
           "y": -1.925743,
           "yshift": 15,
           "z": -0.2717
          },
          {
           "font": {
            "color": "blue"
           },
           "showarrow": false,
           "text": "20",
           "x": -4.701865,
           "y": 0.596606,
           "yshift": 15,
           "z": 0.767767
          },
          {
           "font": {
            "color": "blue"
           },
           "showarrow": false,
           "text": "21",
           "x": -2.703081,
           "y": 2.32062,
           "yshift": 15,
           "z": 1.176639
          },
          {
           "font": {
            "color": "blue"
           },
           "showarrow": false,
           "text": "22",
           "x": 1.748016,
           "y": -2.524842,
           "yshift": 15,
           "z": -2.410361
          },
          {
           "font": {
            "color": "blue"
           },
           "showarrow": false,
           "text": "23",
           "x": 1.911419,
           "y": -3.581022,
           "yshift": 15,
           "z": -0.987961
          },
          {
           "font": {
            "color": "blue"
           },
           "showarrow": false,
           "text": "24",
           "x": 2.904071,
           "y": -0.831033,
           "yshift": 15,
           "z": -1.195823
          },
          {
           "font": {
            "color": "blue"
           },
           "showarrow": false,
           "text": "25",
           "x": 3.013377,
           "y": -1.815339,
           "yshift": 15,
           "z": 0.714946
          },
          {
           "font": {
            "color": "blue"
           },
           "showarrow": false,
           "text": "26",
           "x": 3.483389,
           "y": -0.544064,
           "yshift": 15,
           "z": 1.422417
          },
          {
           "font": {
            "color": "blue"
           },
           "showarrow": false,
           "text": "27",
           "x": -6.002772,
           "y": -1.466476,
           "yshift": 15,
           "z": 0.078503
          },
          {
           "font": {
            "color": "blue"
           },
           "showarrow": false,
           "text": "28",
           "x": -2.857264,
           "y": 3.075099,
           "yshift": 15,
           "z": 0.404633
          },
          {
           "font": {
            "color": "blue"
           },
           "showarrow": false,
           "text": "29",
           "x": 4.872872,
           "y": -2.065919,
           "yshift": 15,
           "z": -0.378952
          },
          {
           "font": {
            "color": "blue"
           },
           "showarrow": false,
           "text": "30",
           "x": 4.082194,
           "y": 0.080451,
           "yshift": 15,
           "z": 0.758423
          },
          {
           "font": {
            "color": "blue"
           },
           "showarrow": false,
           "text": "31",
           "x": -6.061,
           "y": -1.246105,
           "yshift": 15,
           "z": 1.146493
          },
          {
           "font": {
            "color": "blue"
           },
           "showarrow": false,
           "text": "32",
           "x": -1.780712,
           "y": 2.56461,
           "yshift": 15,
           "z": 1.697708
          },
          {
           "font": {
            "color": "blue"
           },
           "showarrow": false,
           "text": "33",
           "x": 2.129675,
           "y": -2.62936,
           "yshift": 15,
           "z": 1.660948
          },
          {
           "font": {
            "color": "blue"
           },
           "showarrow": false,
           "text": "34",
           "x": 4.234857,
           "y": -2.636934,
           "yshift": 15,
           "z": 0.298887
          },
          {
           "font": {
            "color": "blue"
           },
           "showarrow": false,
           "text": "35",
           "x": -3.540936,
           "y": 2.366621,
           "yshift": 15,
           "z": 1.870395
          },
          {
           "font": {
            "color": "blue"
           },
           "showarrow": false,
           "text": "36",
           "x": 4.083222,
           "y": -0.809695,
           "yshift": 15,
           "z": 2.295531
          },
          {
           "font": {
            "color": "blue"
           },
           "showarrow": false,
           "text": "37",
           "x": 2.639292,
           "y": 0.062589,
           "yshift": 15,
           "z": 1.75141
          },
          {
           "font": {
            "color": "blue"
           },
           "showarrow": false,
           "text": "38",
           "x": 1.260772,
           "y": -2.04966,
           "yshift": 15,
           "z": 1.978136
          },
          {
           "font": {
            "color": "blue"
           },
           "showarrow": false,
           "text": "39",
           "x": 2.69562,
           "y": -2.894327,
           "yshift": 15,
           "z": 2.555618
          },
          {
           "font": {
            "color": "blue"
           },
           "showarrow": false,
           "text": "40",
           "x": 1.778367,
           "y": -3.559527,
           "yshift": 15,
           "z": 1.207942
          },
          {
           "font": {
            "color": "blue"
           },
           "showarrow": false,
           "text": "41",
           "x": 3.959808,
           "y": -3.572067,
           "yshift": 15,
           "z": -0.194215
          },
          {
           "font": {
            "color": "blue"
           },
           "showarrow": false,
           "text": "42",
           "x": 4.826402,
           "y": -2.893344,
           "yshift": 15,
           "z": 1.179269
          },
          {
           "font": {
            "color": "blue"
           },
           "showarrow": false,
           "text": "43",
           "x": -6.268089,
           "y": -0.577248,
           "yshift": 15,
           "z": -0.497089
          },
          {
           "font": {
            "color": "blue"
           },
           "showarrow": false,
           "text": "44",
           "x": -6.683944,
           "y": -2.275988,
           "yshift": 15,
           "z": -0.164574
          }
         ],
         "xaxis": {
          "showbackground": false,
          "showgrid": false,
          "showticklabels": false,
          "title": {
           "font": {
            "color": "white"
           }
          },
          "zeroline": false
         },
         "yaxis": {
          "showbackground": false,
          "showgrid": false,
          "showticklabels": false,
          "title": {
           "font": {
            "color": "white"
           }
          },
          "zeroline": false
         },
         "zaxis": {
          "showbackground": false,
          "showgrid": false,
          "showticklabels": false,
          "title": {
           "font": {
            "color": "white"
           }
          },
          "zeroline": false
         }
        },
        "showlegend": false,
        "template": {
         "data": {
          "bar": [
           {
            "error_x": {
             "color": "#2a3f5f"
            },
            "error_y": {
             "color": "#2a3f5f"
            },
            "marker": {
             "line": {
              "color": "#E5ECF6",
              "width": 0.5
             },
             "pattern": {
              "fillmode": "overlay",
              "size": 10,
              "solidity": 0.2
             }
            },
            "type": "bar"
           }
          ],
          "barpolar": [
           {
            "marker": {
             "line": {
              "color": "#E5ECF6",
              "width": 0.5
             },
             "pattern": {
              "fillmode": "overlay",
              "size": 10,
              "solidity": 0.2
             }
            },
            "type": "barpolar"
           }
          ],
          "carpet": [
           {
            "aaxis": {
             "endlinecolor": "#2a3f5f",
             "gridcolor": "white",
             "linecolor": "white",
             "minorgridcolor": "white",
             "startlinecolor": "#2a3f5f"
            },
            "baxis": {
             "endlinecolor": "#2a3f5f",
             "gridcolor": "white",
             "linecolor": "white",
             "minorgridcolor": "white",
             "startlinecolor": "#2a3f5f"
            },
            "type": "carpet"
           }
          ],
          "choropleth": [
           {
            "colorbar": {
             "outlinewidth": 0,
             "ticks": ""
            },
            "type": "choropleth"
           }
          ],
          "contour": [
           {
            "colorbar": {
             "outlinewidth": 0,
             "ticks": ""
            },
            "colorscale": [
             [
              0,
              "#0d0887"
             ],
             [
              0.1111111111111111,
              "#46039f"
             ],
             [
              0.2222222222222222,
              "#7201a8"
             ],
             [
              0.3333333333333333,
              "#9c179e"
             ],
             [
              0.4444444444444444,
              "#bd3786"
             ],
             [
              0.5555555555555556,
              "#d8576b"
             ],
             [
              0.6666666666666666,
              "#ed7953"
             ],
             [
              0.7777777777777778,
              "#fb9f3a"
             ],
             [
              0.8888888888888888,
              "#fdca26"
             ],
             [
              1,
              "#f0f921"
             ]
            ],
            "type": "contour"
           }
          ],
          "contourcarpet": [
           {
            "colorbar": {
             "outlinewidth": 0,
             "ticks": ""
            },
            "type": "contourcarpet"
           }
          ],
          "heatmap": [
           {
            "colorbar": {
             "outlinewidth": 0,
             "ticks": ""
            },
            "colorscale": [
             [
              0,
              "#0d0887"
             ],
             [
              0.1111111111111111,
              "#46039f"
             ],
             [
              0.2222222222222222,
              "#7201a8"
             ],
             [
              0.3333333333333333,
              "#9c179e"
             ],
             [
              0.4444444444444444,
              "#bd3786"
             ],
             [
              0.5555555555555556,
              "#d8576b"
             ],
             [
              0.6666666666666666,
              "#ed7953"
             ],
             [
              0.7777777777777778,
              "#fb9f3a"
             ],
             [
              0.8888888888888888,
              "#fdca26"
             ],
             [
              1,
              "#f0f921"
             ]
            ],
            "type": "heatmap"
           }
          ],
          "heatmapgl": [
           {
            "colorbar": {
             "outlinewidth": 0,
             "ticks": ""
            },
            "colorscale": [
             [
              0,
              "#0d0887"
             ],
             [
              0.1111111111111111,
              "#46039f"
             ],
             [
              0.2222222222222222,
              "#7201a8"
             ],
             [
              0.3333333333333333,
              "#9c179e"
             ],
             [
              0.4444444444444444,
              "#bd3786"
             ],
             [
              0.5555555555555556,
              "#d8576b"
             ],
             [
              0.6666666666666666,
              "#ed7953"
             ],
             [
              0.7777777777777778,
              "#fb9f3a"
             ],
             [
              0.8888888888888888,
              "#fdca26"
             ],
             [
              1,
              "#f0f921"
             ]
            ],
            "type": "heatmapgl"
           }
          ],
          "histogram": [
           {
            "marker": {
             "pattern": {
              "fillmode": "overlay",
              "size": 10,
              "solidity": 0.2
             }
            },
            "type": "histogram"
           }
          ],
          "histogram2d": [
           {
            "colorbar": {
             "outlinewidth": 0,
             "ticks": ""
            },
            "colorscale": [
             [
              0,
              "#0d0887"
             ],
             [
              0.1111111111111111,
              "#46039f"
             ],
             [
              0.2222222222222222,
              "#7201a8"
             ],
             [
              0.3333333333333333,
              "#9c179e"
             ],
             [
              0.4444444444444444,
              "#bd3786"
             ],
             [
              0.5555555555555556,
              "#d8576b"
             ],
             [
              0.6666666666666666,
              "#ed7953"
             ],
             [
              0.7777777777777778,
              "#fb9f3a"
             ],
             [
              0.8888888888888888,
              "#fdca26"
             ],
             [
              1,
              "#f0f921"
             ]
            ],
            "type": "histogram2d"
           }
          ],
          "histogram2dcontour": [
           {
            "colorbar": {
             "outlinewidth": 0,
             "ticks": ""
            },
            "colorscale": [
             [
              0,
              "#0d0887"
             ],
             [
              0.1111111111111111,
              "#46039f"
             ],
             [
              0.2222222222222222,
              "#7201a8"
             ],
             [
              0.3333333333333333,
              "#9c179e"
             ],
             [
              0.4444444444444444,
              "#bd3786"
             ],
             [
              0.5555555555555556,
              "#d8576b"
             ],
             [
              0.6666666666666666,
              "#ed7953"
             ],
             [
              0.7777777777777778,
              "#fb9f3a"
             ],
             [
              0.8888888888888888,
              "#fdca26"
             ],
             [
              1,
              "#f0f921"
             ]
            ],
            "type": "histogram2dcontour"
           }
          ],
          "mesh3d": [
           {
            "colorbar": {
             "outlinewidth": 0,
             "ticks": ""
            },
            "type": "mesh3d"
           }
          ],
          "parcoords": [
           {
            "line": {
             "colorbar": {
              "outlinewidth": 0,
              "ticks": ""
             }
            },
            "type": "parcoords"
           }
          ],
          "pie": [
           {
            "automargin": true,
            "type": "pie"
           }
          ],
          "scatter": [
           {
            "fillpattern": {
             "fillmode": "overlay",
             "size": 10,
             "solidity": 0.2
            },
            "type": "scatter"
           }
          ],
          "scatter3d": [
           {
            "line": {
             "colorbar": {
              "outlinewidth": 0,
              "ticks": ""
             }
            },
            "marker": {
             "colorbar": {
              "outlinewidth": 0,
              "ticks": ""
             }
            },
            "type": "scatter3d"
           }
          ],
          "scattercarpet": [
           {
            "marker": {
             "colorbar": {
              "outlinewidth": 0,
              "ticks": ""
             }
            },
            "type": "scattercarpet"
           }
          ],
          "scattergeo": [
           {
            "marker": {
             "colorbar": {
              "outlinewidth": 0,
              "ticks": ""
             }
            },
            "type": "scattergeo"
           }
          ],
          "scattergl": [
           {
            "marker": {
             "colorbar": {
              "outlinewidth": 0,
              "ticks": ""
             }
            },
            "type": "scattergl"
           }
          ],
          "scattermapbox": [
           {
            "marker": {
             "colorbar": {
              "outlinewidth": 0,
              "ticks": ""
             }
            },
            "type": "scattermapbox"
           }
          ],
          "scatterpolar": [
           {
            "marker": {
             "colorbar": {
              "outlinewidth": 0,
              "ticks": ""
             }
            },
            "type": "scatterpolar"
           }
          ],
          "scatterpolargl": [
           {
            "marker": {
             "colorbar": {
              "outlinewidth": 0,
              "ticks": ""
             }
            },
            "type": "scatterpolargl"
           }
          ],
          "scatterternary": [
           {
            "marker": {
             "colorbar": {
              "outlinewidth": 0,
              "ticks": ""
             }
            },
            "type": "scatterternary"
           }
          ],
          "surface": [
           {
            "colorbar": {
             "outlinewidth": 0,
             "ticks": ""
            },
            "colorscale": [
             [
              0,
              "#0d0887"
             ],
             [
              0.1111111111111111,
              "#46039f"
             ],
             [
              0.2222222222222222,
              "#7201a8"
             ],
             [
              0.3333333333333333,
              "#9c179e"
             ],
             [
              0.4444444444444444,
              "#bd3786"
             ],
             [
              0.5555555555555556,
              "#d8576b"
             ],
             [
              0.6666666666666666,
              "#ed7953"
             ],
             [
              0.7777777777777778,
              "#fb9f3a"
             ],
             [
              0.8888888888888888,
              "#fdca26"
             ],
             [
              1,
              "#f0f921"
             ]
            ],
            "type": "surface"
           }
          ],
          "table": [
           {
            "cells": {
             "fill": {
              "color": "#EBF0F8"
             },
             "line": {
              "color": "white"
             }
            },
            "header": {
             "fill": {
              "color": "#C8D4E3"
             },
             "line": {
              "color": "white"
             }
            },
            "type": "table"
           }
          ]
         },
         "layout": {
          "annotationdefaults": {
           "arrowcolor": "#2a3f5f",
           "arrowhead": 0,
           "arrowwidth": 1
          },
          "autotypenumbers": "strict",
          "coloraxis": {
           "colorbar": {
            "outlinewidth": 0,
            "ticks": ""
           }
          },
          "colorscale": {
           "diverging": [
            [
             0,
             "#8e0152"
            ],
            [
             0.1,
             "#c51b7d"
            ],
            [
             0.2,
             "#de77ae"
            ],
            [
             0.3,
             "#f1b6da"
            ],
            [
             0.4,
             "#fde0ef"
            ],
            [
             0.5,
             "#f7f7f7"
            ],
            [
             0.6,
             "#e6f5d0"
            ],
            [
             0.7,
             "#b8e186"
            ],
            [
             0.8,
             "#7fbc41"
            ],
            [
             0.9,
             "#4d9221"
            ],
            [
             1,
             "#276419"
            ]
           ],
           "sequential": [
            [
             0,
             "#0d0887"
            ],
            [
             0.1111111111111111,
             "#46039f"
            ],
            [
             0.2222222222222222,
             "#7201a8"
            ],
            [
             0.3333333333333333,
             "#9c179e"
            ],
            [
             0.4444444444444444,
             "#bd3786"
            ],
            [
             0.5555555555555556,
             "#d8576b"
            ],
            [
             0.6666666666666666,
             "#ed7953"
            ],
            [
             0.7777777777777778,
             "#fb9f3a"
            ],
            [
             0.8888888888888888,
             "#fdca26"
            ],
            [
             1,
             "#f0f921"
            ]
           ],
           "sequentialminus": [
            [
             0,
             "#0d0887"
            ],
            [
             0.1111111111111111,
             "#46039f"
            ],
            [
             0.2222222222222222,
             "#7201a8"
            ],
            [
             0.3333333333333333,
             "#9c179e"
            ],
            [
             0.4444444444444444,
             "#bd3786"
            ],
            [
             0.5555555555555556,
             "#d8576b"
            ],
            [
             0.6666666666666666,
             "#ed7953"
            ],
            [
             0.7777777777777778,
             "#fb9f3a"
            ],
            [
             0.8888888888888888,
             "#fdca26"
            ],
            [
             1,
             "#f0f921"
            ]
           ]
          },
          "colorway": [
           "#636efa",
           "#EF553B",
           "#00cc96",
           "#ab63fa",
           "#FFA15A",
           "#19d3f3",
           "#FF6692",
           "#B6E880",
           "#FF97FF",
           "#FECB52"
          ],
          "font": {
           "color": "#2a3f5f"
          },
          "geo": {
           "bgcolor": "white",
           "lakecolor": "white",
           "landcolor": "#E5ECF6",
           "showlakes": true,
           "showland": true,
           "subunitcolor": "white"
          },
          "hoverlabel": {
           "align": "left"
          },
          "hovermode": "closest",
          "mapbox": {
           "style": "light"
          },
          "paper_bgcolor": "white",
          "plot_bgcolor": "#E5ECF6",
          "polar": {
           "angularaxis": {
            "gridcolor": "white",
            "linecolor": "white",
            "ticks": ""
           },
           "bgcolor": "#E5ECF6",
           "radialaxis": {
            "gridcolor": "white",
            "linecolor": "white",
            "ticks": ""
           }
          },
          "scene": {
           "xaxis": {
            "backgroundcolor": "#E5ECF6",
            "gridcolor": "white",
            "gridwidth": 2,
            "linecolor": "white",
            "showbackground": true,
            "ticks": "",
            "zerolinecolor": "white"
           },
           "yaxis": {
            "backgroundcolor": "#E5ECF6",
            "gridcolor": "white",
            "gridwidth": 2,
            "linecolor": "white",
            "showbackground": true,
            "ticks": "",
            "zerolinecolor": "white"
           },
           "zaxis": {
            "backgroundcolor": "#E5ECF6",
            "gridcolor": "white",
            "gridwidth": 2,
            "linecolor": "white",
            "showbackground": true,
            "ticks": "",
            "zerolinecolor": "white"
           }
          },
          "shapedefaults": {
           "line": {
            "color": "#2a3f5f"
           }
          },
          "ternary": {
           "aaxis": {
            "gridcolor": "white",
            "linecolor": "white",
            "ticks": ""
           },
           "baxis": {
            "gridcolor": "white",
            "linecolor": "white",
            "ticks": ""
           },
           "bgcolor": "#E5ECF6",
           "caxis": {
            "gridcolor": "white",
            "linecolor": "white",
            "ticks": ""
           }
          },
          "title": {
           "x": 0.05
          },
          "xaxis": {
           "automargin": true,
           "gridcolor": "white",
           "linecolor": "white",
           "ticks": "",
           "title": {
            "standoff": 15
           },
           "zerolinecolor": "white",
           "zerolinewidth": 2
          },
          "yaxis": {
           "automargin": true,
           "gridcolor": "white",
           "linecolor": "white",
           "ticks": "",
           "title": {
            "standoff": 15
           },
           "zerolinecolor": "white",
           "zerolinewidth": 2
          }
         }
        },
        "title": {
         "text": "LS1641",
         "x": 0.5,
         "xanchor": "center",
         "y": 0.9,
         "yanchor": "top"
        },
        "updatemenus": [
         {
          "buttons": [
           {
            "args": [
             {
              "scene.annotations": [
               {
                "font": {
                 "color": "blue"
                },
                "showarrow": false,
                "text": 1,
                "x": 2.239125,
                "y": -1.421466,
                "yshift": 15,
                "z": -0.561952
               },
               {
                "font": {
                 "color": "blue"
                },
                "showarrow": false,
                "text": 2,
                "x": 1.600929,
                "y": -2.598767,
                "yshift": 15,
                "z": -1.333568
               },
               {
                "font": {
                 "color": "blue"
                },
                "showarrow": false,
                "text": 3,
                "x": 0.179993,
                "y": -2.470792,
                "yshift": 15,
                "z": -1.078947
               },
               {
                "font": {
                 "color": "blue"
                },
                "showarrow": false,
                "text": 4,
                "x": 0.031077,
                "y": -1.256134,
                "yshift": 15,
                "z": -0.533454
               },
               {
                "font": {
                 "color": "blue"
                },
                "showarrow": false,
                "text": 5,
                "x": 1.070377,
                "y": -0.596474,
                "yshift": 15,
                "z": -0.245326
               },
               {
                "font": {
                 "color": "blue"
                },
                "showarrow": false,
                "text": 6,
                "x": -1.332136,
                "y": -0.758435,
                "yshift": 15,
                "z": -0.268942
               },
               {
                "font": {
                 "color": "blue"
                },
                "showarrow": false,
                "text": 7,
                "x": -2.412221,
                "y": -1.586619,
                "yshift": 15,
                "z": -0.435605
               },
               {
                "font": {
                 "color": "blue"
                },
                "showarrow": false,
                "text": 8,
                "x": -3.674731,
                "y": -1.09818,
                "yshift": 15,
                "z": -0.086395
               },
               {
                "font": {
                 "color": "blue"
                },
                "showarrow": false,
                "text": 9,
                "x": -3.761178,
                "y": 0.178799,
                "yshift": 15,
                "z": 0.442343
               },
               {
                "font": {
                 "color": "blue"
                },
                "showarrow": false,
                "text": 10,
                "x": -2.605337,
                "y": 0.955333,
                "yshift": 15,
                "z": 0.571319
               },
               {
                "font": {
                 "color": "blue"
                },
                "showarrow": false,
                "text": 11,
                "x": -1.409149,
                "y": 0.510628,
                "yshift": 15,
                "z": 0.191159
               },
               {
                "font": {
                 "color": "blue"
                },
                "showarrow": false,
                "text": 12,
                "x": 0.554347,
                "y": 1.592147,
                "yshift": 15,
                "z": -0.119326
               },
               {
                "font": {
                 "color": "blue"
                },
                "showarrow": false,
                "text": 13,
                "x": 2.707347,
                "y": 2.305451,
                "yshift": 15,
                "z": -0.641466
               },
               {
                "font": {
                 "color": "blue"
                },
                "showarrow": false,
                "text": 14,
                "x": -0.067103,
                "y": 3.468373,
                "yshift": 15,
                "z": -0.244253
               },
               {
                "font": {
                 "color": "blue"
                },
                "showarrow": false,
                "text": 15,
                "x": -1.02103,
                "y": 3.470039,
                "yshift": 15,
                "z": -0.775644
               },
               {
                "font": {
                 "color": "blue"
                },
                "showarrow": false,
                "text": 16,
                "x": -0.18806,
                "y": 3.877849,
                "yshift": 15,
                "z": 0.760205
               },
               {
                "font": {
                 "color": "blue"
                },
                "showarrow": false,
                "text": 17,
                "x": 0.667948,
                "y": 4.05241,
                "yshift": 15,
                "z": -0.790107
               },
               {
                "font": {
                 "color": "blue"
                },
                "showarrow": false,
                "text": 18,
                "x": -2.29127,
                "y": -2.591796,
                "yshift": 15,
                "z": -0.81156
               },
               {
                "font": {
                 "color": "blue"
                },
                "showarrow": false,
                "text": 19,
                "x": -4.709058,
                "y": -1.925743,
                "yshift": 15,
                "z": -0.2717
               },
               {
                "font": {
                 "color": "blue"
                },
                "showarrow": false,
                "text": 20,
                "x": -4.701865,
                "y": 0.596606,
                "yshift": 15,
                "z": 0.767767
               },
               {
                "font": {
                 "color": "blue"
                },
                "showarrow": false,
                "text": 21,
                "x": -2.703081,
                "y": 2.32062,
                "yshift": 15,
                "z": 1.176639
               },
               {
                "font": {
                 "color": "blue"
                },
                "showarrow": false,
                "text": 22,
                "x": 1.748016,
                "y": -2.524842,
                "yshift": 15,
                "z": -2.410361
               },
               {
                "font": {
                 "color": "blue"
                },
                "showarrow": false,
                "text": 23,
                "x": 1.911419,
                "y": -3.581022,
                "yshift": 15,
                "z": -0.987961
               },
               {
                "font": {
                 "color": "blue"
                },
                "showarrow": false,
                "text": 24,
                "x": 2.904071,
                "y": -0.831033,
                "yshift": 15,
                "z": -1.195823
               },
               {
                "font": {
                 "color": "blue"
                },
                "showarrow": false,
                "text": 25,
                "x": 3.013377,
                "y": -1.815339,
                "yshift": 15,
                "z": 0.714946
               },
               {
                "font": {
                 "color": "blue"
                },
                "showarrow": false,
                "text": 26,
                "x": 3.483389,
                "y": -0.544064,
                "yshift": 15,
                "z": 1.422417
               },
               {
                "font": {
                 "color": "blue"
                },
                "showarrow": false,
                "text": 27,
                "x": -6.002772,
                "y": -1.466476,
                "yshift": 15,
                "z": 0.078503
               },
               {
                "font": {
                 "color": "blue"
                },
                "showarrow": false,
                "text": 28,
                "x": -2.857264,
                "y": 3.075099,
                "yshift": 15,
                "z": 0.404633
               },
               {
                "font": {
                 "color": "blue"
                },
                "showarrow": false,
                "text": 29,
                "x": 4.872872,
                "y": -2.065919,
                "yshift": 15,
                "z": -0.378952
               },
               {
                "font": {
                 "color": "blue"
                },
                "showarrow": false,
                "text": 30,
                "x": 4.082194,
                "y": 0.080451,
                "yshift": 15,
                "z": 0.758423
               },
               {
                "font": {
                 "color": "blue"
                },
                "showarrow": false,
                "text": 31,
                "x": -6.061,
                "y": -1.246105,
                "yshift": 15,
                "z": 1.146493
               },
               {
                "font": {
                 "color": "blue"
                },
                "showarrow": false,
                "text": 32,
                "x": -1.780712,
                "y": 2.56461,
                "yshift": 15,
                "z": 1.697708
               },
               {
                "font": {
                 "color": "blue"
                },
                "showarrow": false,
                "text": 33,
                "x": 2.129675,
                "y": -2.62936,
                "yshift": 15,
                "z": 1.660948
               },
               {
                "font": {
                 "color": "blue"
                },
                "showarrow": false,
                "text": 34,
                "x": 4.234857,
                "y": -2.636934,
                "yshift": 15,
                "z": 0.298887
               },
               {
                "font": {
                 "color": "blue"
                },
                "showarrow": false,
                "text": 35,
                "x": -3.540936,
                "y": 2.366621,
                "yshift": 15,
                "z": 1.870395
               },
               {
                "font": {
                 "color": "blue"
                },
                "showarrow": false,
                "text": 36,
                "x": 4.083222,
                "y": -0.809695,
                "yshift": 15,
                "z": 2.295531
               },
               {
                "font": {
                 "color": "blue"
                },
                "showarrow": false,
                "text": 37,
                "x": 2.639292,
                "y": 0.062589,
                "yshift": 15,
                "z": 1.75141
               },
               {
                "font": {
                 "color": "blue"
                },
                "showarrow": false,
                "text": 38,
                "x": 1.260772,
                "y": -2.04966,
                "yshift": 15,
                "z": 1.978136
               },
               {
                "font": {
                 "color": "blue"
                },
                "showarrow": false,
                "text": 39,
                "x": 2.69562,
                "y": -2.894327,
                "yshift": 15,
                "z": 2.555618
               },
               {
                "font": {
                 "color": "blue"
                },
                "showarrow": false,
                "text": 40,
                "x": 1.778367,
                "y": -3.559527,
                "yshift": 15,
                "z": 1.207942
               },
               {
                "font": {
                 "color": "blue"
                },
                "showarrow": false,
                "text": 41,
                "x": 3.959808,
                "y": -3.572067,
                "yshift": 15,
                "z": -0.194215
               },
               {
                "font": {
                 "color": "blue"
                },
                "showarrow": false,
                "text": 42,
                "x": 4.826402,
                "y": -2.893344,
                "yshift": 15,
                "z": 1.179269
               },
               {
                "font": {
                 "color": "blue"
                },
                "showarrow": false,
                "text": 43,
                "x": -6.268089,
                "y": -0.577248,
                "yshift": 15,
                "z": -0.497089
               },
               {
                "font": {
                 "color": "blue"
                },
                "showarrow": false,
                "text": 44,
                "x": -6.683944,
                "y": -2.275988,
                "yshift": 15,
                "z": -0.164574
               }
              ]
             }
            ],
            "label": "Atom indices",
            "method": "relayout"
           },
           {
            "args": [
             {
              "scene.annotations": [
               {
                "showarrow": false,
                "text": 1.55,
                "x": 1.9200270000000002,
                "y": -2.0101165,
                "yshift": 10,
                "z": -0.94776
               },
               {
                "showarrow": false,
                "text": 1.45,
                "x": 0.8904610000000001,
                "y": -2.5347795,
                "yshift": 10,
                "z": -1.2062575
               },
               {
                "showarrow": false,
                "text": 1.34,
                "x": 0.10553499999999999,
                "y": -1.8634629999999999,
                "yshift": 10,
                "z": -0.8062005000000001
               },
               {
                "showarrow": false,
                "text": 1.26,
                "x": 0.550727,
                "y": -0.926304,
                "yshift": 10,
                "z": -0.38939
               },
               {
                "showarrow": false,
                "text": 1.37,
                "x": -1.8721785,
                "y": -1.172527,
                "yshift": 10,
                "z": -0.3522735
               },
               {
                "showarrow": false,
                "text": 1.4,
                "x": -3.043476,
                "y": -1.3423995,
                "yshift": 10,
                "z": -0.261
               },
               {
                "showarrow": false,
                "text": 1.38,
                "x": -3.7179545000000003,
                "y": -0.45969049999999995,
                "yshift": 10,
                "z": 0.177974
               },
               {
                "showarrow": false,
                "text": 1.4,
                "x": -3.1832575,
                "y": 0.567066,
                "yshift": 10,
                "z": 0.506831
               },
               {
                "showarrow": false,
                "text": 1.33,
                "x": -2.007243,
                "y": 0.7329805,
                "yshift": 10,
                "z": 0.381239
               },
               {
                "showarrow": false,
                "text": 2.26,
                "x": -0.427401,
                "y": 1.0513875,
                "yshift": 10,
                "z": 0.0359165
               },
               {
                "showarrow": false,
                "text": 2.33,
                "x": 1.630847,
                "y": 1.9487990000000002,
                "yshift": 10,
                "z": -0.380396
               },
               {
                "showarrow": false,
                "text": 1.09,
                "x": -0.5440665,
                "y": 3.469206,
                "yshift": 10,
                "z": -0.5099485
               },
               {
                "showarrow": false,
                "text": 1.53,
                "x": 3.248383,
                "y": -1.1797015,
                "yshift": 10,
                "z": 1.0686815
               },
               {
                "showarrow": false,
                "text": 1.48,
                "x": -0.6505295,
                "y": -1.0072845,
                "yshift": 10,
                "z": -0.401198
               },
               {
                "showarrow": false,
                "text": 1.98,
                "x": 0.243622,
                "y": 2.53026,
                "yshift": 10,
                "z": -0.1817895
               },
               {
                "showarrow": false,
                "text": 1.09,
                "x": -0.12758150000000001,
                "y": 3.673111,
                "yshift": 10,
                "z": 0.257976
               },
               {
                "showarrow": false,
                "text": 1.09,
                "x": 0.3004225,
                "y": 3.7603915,
                "yshift": 10,
                "z": -0.51718
               },
               {
                "showarrow": false,
                "text": 1.47,
                "x": 1.654751,
                "y": -1.00897,
                "yshift": 10,
                "z": -0.40363899999999997
               },
               {
                "showarrow": false,
                "text": 1.09,
                "x": 3.7827915,
                "y": -0.2318065,
                "yshift": 10,
                "z": 1.09042
               },
               {
                "showarrow": false,
                "text": 1.09,
                "x": -6.031886,
                "y": -1.3562905,
                "yshift": 10,
                "z": 0.612498
               },
               {
                "showarrow": false,
                "text": 1.35,
                "x": -1.3706425,
                "y": -0.1239035,
                "yshift": 10,
                "z": -0.03889150000000001
               },
               {
                "showarrow": false,
                "text": 1.09,
                "x": 4.5538644999999995,
                "y": -2.3514265,
                "yshift": 10,
                "z": -0.0400325
               },
               {
                "showarrow": false,
                "text": 1.09,
                "x": 1.6952235,
                "y": -2.3395099999999998,
                "yshift": 10,
                "z": 1.819542
               },
               {
                "showarrow": false,
                "text": 1.09,
                "x": 2.4126475000000003,
                "y": -2.7618435000000003,
                "yshift": 10,
                "z": 2.108283
               },
               {
                "showarrow": false,
                "text": 2.25,
                "x": 0.812362,
                "y": 0.4978365,
                "yshift": 10,
                "z": -0.182326
               },
               {
                "showarrow": false,
                "text": 1.09,
                "x": -2.7801725,
                "y": 2.6978595,
                "yshift": 10,
                "z": 0.790636
               },
               {
                "showarrow": false,
                "text": 1.09,
                "x": 1.954021,
                "y": -3.0944435,
                "yshift": 10,
                "z": 1.4344450000000002
               },
               {
                "showarrow": false,
                "text": 1.09,
                "x": 4.0973325,
                "y": -3.1045005000000003,
                "yshift": 10,
                "z": 0.05233600000000001
               },
               {
                "showarrow": false,
                "text": 1.42,
                "x": -5.3559149999999995,
                "y": -1.6961095,
                "yshift": 10,
                "z": -0.0965985
               },
               {
                "showarrow": false,
                "text": 1.53,
                "x": 2.5715260000000004,
                "y": -2.2223495,
                "yshift": 10,
                "z": 1.187947
               },
               {
                "showarrow": false,
                "text": 1.09,
                "x": 4.5306295,
                "y": -2.765139,
                "yshift": 10,
                "z": 0.7390779999999999
               },
               {
                "showarrow": false,
                "text": 1.53,
                "x": 3.624117,
                "y": -2.2261365,
                "yshift": 10,
                "z": 0.5069165
               },
               {
                "showarrow": false,
                "text": 1.09,
                "x": 3.7833055,
                "y": -0.6768795000000001,
                "yshift": 10,
                "z": 1.858974
               },
               {
                "showarrow": false,
                "text": 1.08,
                "x": -2.3517455,
                "y": -2.0892075,
                "yshift": 10,
                "z": -0.6235824999999999
               },
               {
                "showarrow": false,
                "text": 1.34,
                "x": -4.1918945,
                "y": -1.5119615,
                "yshift": 10,
                "z": -0.1790475
               },
               {
                "showarrow": false,
                "text": 1.08,
                "x": -4.2315214999999995,
                "y": 0.3877025,
                "yshift": 10,
                "z": 0.605055
               },
               {
                "showarrow": false,
                "text": 1.5,
                "x": -2.654209,
                "y": 1.6379765,
                "yshift": 10,
                "z": 0.8739790000000001
               },
               {
                "showarrow": false,
                "text": 1.09,
                "x": -2.2418965,
                "y": 2.442615,
                "yshift": 10,
                "z": 1.4371735
               },
               {
                "showarrow": false,
                "text": 1.09,
                "x": 3.0613405,
                "y": -0.2407375,
                "yshift": 10,
                "z": 1.5869135
               },
               {
                "showarrow": false,
                "text": 1.09,
                "x": -3.1220084999999997,
                "y": 2.3436205,
                "yshift": 10,
                "z": 1.523517
               },
               {
                "showarrow": false,
                "text": 1.09,
                "x": -6.1354305,
                "y": -1.021862,
                "yshift": 10,
                "z": -0.209293
               },
               {
                "showarrow": false,
                "text": 1.09,
                "x": -6.343358,
                "y": -1.871232,
                "yshift": 10,
                "z": -0.0430355
               },
               {
                "showarrow": false,
                "text": 1.09,
                "x": 1.6744725,
                "y": -2.5618045,
                "yshift": 10,
                "z": -1.8719645
               },
               {
                "showarrow": false,
                "text": 1.54,
                "x": 2.626251,
                "y": -1.6184025,
                "yshift": 10,
                "z": 0.07649699999999998
               },
               {
                "showarrow": false,
                "text": 1.09,
                "x": 1.7561740000000001,
                "y": -3.0898944999999998,
                "yshift": 10,
                "z": -1.1607645
               },
               {
                "showarrow": false,
                "text": 1.09,
                "x": 2.571598,
                "y": -1.1262495,
                "yshift": 10,
                "z": -0.8788875
               }
              ]
             }
            ],
            "label": "Bond lengths",
            "method": "relayout"
           },
           {
            "args": [
             {
              "scene.annotations": [
               {
                "font": {
                 "color": "blue"
                },
                "showarrow": false,
                "text": 1,
                "x": 2.239125,
                "y": -1.421466,
                "yshift": 15,
                "z": -0.561952
               },
               {
                "font": {
                 "color": "blue"
                },
                "showarrow": false,
                "text": 2,
                "x": 1.600929,
                "y": -2.598767,
                "yshift": 15,
                "z": -1.333568
               },
               {
                "font": {
                 "color": "blue"
                },
                "showarrow": false,
                "text": 3,
                "x": 0.179993,
                "y": -2.470792,
                "yshift": 15,
                "z": -1.078947
               },
               {
                "font": {
                 "color": "blue"
                },
                "showarrow": false,
                "text": 4,
                "x": 0.031077,
                "y": -1.256134,
                "yshift": 15,
                "z": -0.533454
               },
               {
                "font": {
                 "color": "blue"
                },
                "showarrow": false,
                "text": 5,
                "x": 1.070377,
                "y": -0.596474,
                "yshift": 15,
                "z": -0.245326
               },
               {
                "font": {
                 "color": "blue"
                },
                "showarrow": false,
                "text": 6,
                "x": -1.332136,
                "y": -0.758435,
                "yshift": 15,
                "z": -0.268942
               },
               {
                "font": {
                 "color": "blue"
                },
                "showarrow": false,
                "text": 7,
                "x": -2.412221,
                "y": -1.586619,
                "yshift": 15,
                "z": -0.435605
               },
               {
                "font": {
                 "color": "blue"
                },
                "showarrow": false,
                "text": 8,
                "x": -3.674731,
                "y": -1.09818,
                "yshift": 15,
                "z": -0.086395
               },
               {
                "font": {
                 "color": "blue"
                },
                "showarrow": false,
                "text": 9,
                "x": -3.761178,
                "y": 0.178799,
                "yshift": 15,
                "z": 0.442343
               },
               {
                "font": {
                 "color": "blue"
                },
                "showarrow": false,
                "text": 10,
                "x": -2.605337,
                "y": 0.955333,
                "yshift": 15,
                "z": 0.571319
               },
               {
                "font": {
                 "color": "blue"
                },
                "showarrow": false,
                "text": 11,
                "x": -1.409149,
                "y": 0.510628,
                "yshift": 15,
                "z": 0.191159
               },
               {
                "font": {
                 "color": "blue"
                },
                "showarrow": false,
                "text": 12,
                "x": 0.554347,
                "y": 1.592147,
                "yshift": 15,
                "z": -0.119326
               },
               {
                "font": {
                 "color": "blue"
                },
                "showarrow": false,
                "text": 13,
                "x": 2.707347,
                "y": 2.305451,
                "yshift": 15,
                "z": -0.641466
               },
               {
                "font": {
                 "color": "blue"
                },
                "showarrow": false,
                "text": 14,
                "x": -0.067103,
                "y": 3.468373,
                "yshift": 15,
                "z": -0.244253
               },
               {
                "font": {
                 "color": "blue"
                },
                "showarrow": false,
                "text": 15,
                "x": -1.02103,
                "y": 3.470039,
                "yshift": 15,
                "z": -0.775644
               },
               {
                "font": {
                 "color": "blue"
                },
                "showarrow": false,
                "text": 16,
                "x": -0.18806,
                "y": 3.877849,
                "yshift": 15,
                "z": 0.760205
               },
               {
                "font": {
                 "color": "blue"
                },
                "showarrow": false,
                "text": 17,
                "x": 0.667948,
                "y": 4.05241,
                "yshift": 15,
                "z": -0.790107
               },
               {
                "font": {
                 "color": "blue"
                },
                "showarrow": false,
                "text": 18,
                "x": -2.29127,
                "y": -2.591796,
                "yshift": 15,
                "z": -0.81156
               },
               {
                "font": {
                 "color": "blue"
                },
                "showarrow": false,
                "text": 19,
                "x": -4.709058,
                "y": -1.925743,
                "yshift": 15,
                "z": -0.2717
               },
               {
                "font": {
                 "color": "blue"
                },
                "showarrow": false,
                "text": 20,
                "x": -4.701865,
                "y": 0.596606,
                "yshift": 15,
                "z": 0.767767
               },
               {
                "font": {
                 "color": "blue"
                },
                "showarrow": false,
                "text": 21,
                "x": -2.703081,
                "y": 2.32062,
                "yshift": 15,
                "z": 1.176639
               },
               {
                "font": {
                 "color": "blue"
                },
                "showarrow": false,
                "text": 22,
                "x": 1.748016,
                "y": -2.524842,
                "yshift": 15,
                "z": -2.410361
               },
               {
                "font": {
                 "color": "blue"
                },
                "showarrow": false,
                "text": 23,
                "x": 1.911419,
                "y": -3.581022,
                "yshift": 15,
                "z": -0.987961
               },
               {
                "font": {
                 "color": "blue"
                },
                "showarrow": false,
                "text": 24,
                "x": 2.904071,
                "y": -0.831033,
                "yshift": 15,
                "z": -1.195823
               },
               {
                "font": {
                 "color": "blue"
                },
                "showarrow": false,
                "text": 25,
                "x": 3.013377,
                "y": -1.815339,
                "yshift": 15,
                "z": 0.714946
               },
               {
                "font": {
                 "color": "blue"
                },
                "showarrow": false,
                "text": 26,
                "x": 3.483389,
                "y": -0.544064,
                "yshift": 15,
                "z": 1.422417
               },
               {
                "font": {
                 "color": "blue"
                },
                "showarrow": false,
                "text": 27,
                "x": -6.002772,
                "y": -1.466476,
                "yshift": 15,
                "z": 0.078503
               },
               {
                "font": {
                 "color": "blue"
                },
                "showarrow": false,
                "text": 28,
                "x": -2.857264,
                "y": 3.075099,
                "yshift": 15,
                "z": 0.404633
               },
               {
                "font": {
                 "color": "blue"
                },
                "showarrow": false,
                "text": 29,
                "x": 4.872872,
                "y": -2.065919,
                "yshift": 15,
                "z": -0.378952
               },
               {
                "font": {
                 "color": "blue"
                },
                "showarrow": false,
                "text": 30,
                "x": 4.082194,
                "y": 0.080451,
                "yshift": 15,
                "z": 0.758423
               },
               {
                "font": {
                 "color": "blue"
                },
                "showarrow": false,
                "text": 31,
                "x": -6.061,
                "y": -1.246105,
                "yshift": 15,
                "z": 1.146493
               },
               {
                "font": {
                 "color": "blue"
                },
                "showarrow": false,
                "text": 32,
                "x": -1.780712,
                "y": 2.56461,
                "yshift": 15,
                "z": 1.697708
               },
               {
                "font": {
                 "color": "blue"
                },
                "showarrow": false,
                "text": 33,
                "x": 2.129675,
                "y": -2.62936,
                "yshift": 15,
                "z": 1.660948
               },
               {
                "font": {
                 "color": "blue"
                },
                "showarrow": false,
                "text": 34,
                "x": 4.234857,
                "y": -2.636934,
                "yshift": 15,
                "z": 0.298887
               },
               {
                "font": {
                 "color": "blue"
                },
                "showarrow": false,
                "text": 35,
                "x": -3.540936,
                "y": 2.366621,
                "yshift": 15,
                "z": 1.870395
               },
               {
                "font": {
                 "color": "blue"
                },
                "showarrow": false,
                "text": 36,
                "x": 4.083222,
                "y": -0.809695,
                "yshift": 15,
                "z": 2.295531
               },
               {
                "font": {
                 "color": "blue"
                },
                "showarrow": false,
                "text": 37,
                "x": 2.639292,
                "y": 0.062589,
                "yshift": 15,
                "z": 1.75141
               },
               {
                "font": {
                 "color": "blue"
                },
                "showarrow": false,
                "text": 38,
                "x": 1.260772,
                "y": -2.04966,
                "yshift": 15,
                "z": 1.978136
               },
               {
                "font": {
                 "color": "blue"
                },
                "showarrow": false,
                "text": 39,
                "x": 2.69562,
                "y": -2.894327,
                "yshift": 15,
                "z": 2.555618
               },
               {
                "font": {
                 "color": "blue"
                },
                "showarrow": false,
                "text": 40,
                "x": 1.778367,
                "y": -3.559527,
                "yshift": 15,
                "z": 1.207942
               },
               {
                "font": {
                 "color": "blue"
                },
                "showarrow": false,
                "text": 41,
                "x": 3.959808,
                "y": -3.572067,
                "yshift": 15,
                "z": -0.194215
               },
               {
                "font": {
                 "color": "blue"
                },
                "showarrow": false,
                "text": 42,
                "x": 4.826402,
                "y": -2.893344,
                "yshift": 15,
                "z": 1.179269
               },
               {
                "font": {
                 "color": "blue"
                },
                "showarrow": false,
                "text": 43,
                "x": -6.268089,
                "y": -0.577248,
                "yshift": 15,
                "z": -0.497089
               },
               {
                "font": {
                 "color": "blue"
                },
                "showarrow": false,
                "text": 44,
                "x": -6.683944,
                "y": -2.275988,
                "yshift": 15,
                "z": -0.164574
               },
               {
                "showarrow": false,
                "text": 1.55,
                "x": 1.9200270000000002,
                "y": -2.0101165,
                "yshift": 10,
                "z": -0.94776
               },
               {
                "showarrow": false,
                "text": 1.45,
                "x": 0.8904610000000001,
                "y": -2.5347795,
                "yshift": 10,
                "z": -1.2062575
               },
               {
                "showarrow": false,
                "text": 1.34,
                "x": 0.10553499999999999,
                "y": -1.8634629999999999,
                "yshift": 10,
                "z": -0.8062005000000001
               },
               {
                "showarrow": false,
                "text": 1.26,
                "x": 0.550727,
                "y": -0.926304,
                "yshift": 10,
                "z": -0.38939
               },
               {
                "showarrow": false,
                "text": 1.37,
                "x": -1.8721785,
                "y": -1.172527,
                "yshift": 10,
                "z": -0.3522735
               },
               {
                "showarrow": false,
                "text": 1.4,
                "x": -3.043476,
                "y": -1.3423995,
                "yshift": 10,
                "z": -0.261
               },
               {
                "showarrow": false,
                "text": 1.38,
                "x": -3.7179545000000003,
                "y": -0.45969049999999995,
                "yshift": 10,
                "z": 0.177974
               },
               {
                "showarrow": false,
                "text": 1.4,
                "x": -3.1832575,
                "y": 0.567066,
                "yshift": 10,
                "z": 0.506831
               },
               {
                "showarrow": false,
                "text": 1.33,
                "x": -2.007243,
                "y": 0.7329805,
                "yshift": 10,
                "z": 0.381239
               },
               {
                "showarrow": false,
                "text": 2.26,
                "x": -0.427401,
                "y": 1.0513875,
                "yshift": 10,
                "z": 0.0359165
               },
               {
                "showarrow": false,
                "text": 2.33,
                "x": 1.630847,
                "y": 1.9487990000000002,
                "yshift": 10,
                "z": -0.380396
               },
               {
                "showarrow": false,
                "text": 1.09,
                "x": -0.5440665,
                "y": 3.469206,
                "yshift": 10,
                "z": -0.5099485
               },
               {
                "showarrow": false,
                "text": 1.53,
                "x": 3.248383,
                "y": -1.1797015,
                "yshift": 10,
                "z": 1.0686815
               },
               {
                "showarrow": false,
                "text": 1.48,
                "x": -0.6505295,
                "y": -1.0072845,
                "yshift": 10,
                "z": -0.401198
               },
               {
                "showarrow": false,
                "text": 1.98,
                "x": 0.243622,
                "y": 2.53026,
                "yshift": 10,
                "z": -0.1817895
               },
               {
                "showarrow": false,
                "text": 1.09,
                "x": -0.12758150000000001,
                "y": 3.673111,
                "yshift": 10,
                "z": 0.257976
               },
               {
                "showarrow": false,
                "text": 1.09,
                "x": 0.3004225,
                "y": 3.7603915,
                "yshift": 10,
                "z": -0.51718
               },
               {
                "showarrow": false,
                "text": 1.47,
                "x": 1.654751,
                "y": -1.00897,
                "yshift": 10,
                "z": -0.40363899999999997
               },
               {
                "showarrow": false,
                "text": 1.09,
                "x": 3.7827915,
                "y": -0.2318065,
                "yshift": 10,
                "z": 1.09042
               },
               {
                "showarrow": false,
                "text": 1.09,
                "x": -6.031886,
                "y": -1.3562905,
                "yshift": 10,
                "z": 0.612498
               },
               {
                "showarrow": false,
                "text": 1.35,
                "x": -1.3706425,
                "y": -0.1239035,
                "yshift": 10,
                "z": -0.03889150000000001
               },
               {
                "showarrow": false,
                "text": 1.09,
                "x": 4.5538644999999995,
                "y": -2.3514265,
                "yshift": 10,
                "z": -0.0400325
               },
               {
                "showarrow": false,
                "text": 1.09,
                "x": 1.6952235,
                "y": -2.3395099999999998,
                "yshift": 10,
                "z": 1.819542
               },
               {
                "showarrow": false,
                "text": 1.09,
                "x": 2.4126475000000003,
                "y": -2.7618435000000003,
                "yshift": 10,
                "z": 2.108283
               },
               {
                "showarrow": false,
                "text": 2.25,
                "x": 0.812362,
                "y": 0.4978365,
                "yshift": 10,
                "z": -0.182326
               },
               {
                "showarrow": false,
                "text": 1.09,
                "x": -2.7801725,
                "y": 2.6978595,
                "yshift": 10,
                "z": 0.790636
               },
               {
                "showarrow": false,
                "text": 1.09,
                "x": 1.954021,
                "y": -3.0944435,
                "yshift": 10,
                "z": 1.4344450000000002
               },
               {
                "showarrow": false,
                "text": 1.09,
                "x": 4.0973325,
                "y": -3.1045005000000003,
                "yshift": 10,
                "z": 0.05233600000000001
               },
               {
                "showarrow": false,
                "text": 1.42,
                "x": -5.3559149999999995,
                "y": -1.6961095,
                "yshift": 10,
                "z": -0.0965985
               },
               {
                "showarrow": false,
                "text": 1.53,
                "x": 2.5715260000000004,
                "y": -2.2223495,
                "yshift": 10,
                "z": 1.187947
               },
               {
                "showarrow": false,
                "text": 1.09,
                "x": 4.5306295,
                "y": -2.765139,
                "yshift": 10,
                "z": 0.7390779999999999
               },
               {
                "showarrow": false,
                "text": 1.53,
                "x": 3.624117,
                "y": -2.2261365,
                "yshift": 10,
                "z": 0.5069165
               },
               {
                "showarrow": false,
                "text": 1.09,
                "x": 3.7833055,
                "y": -0.6768795000000001,
                "yshift": 10,
                "z": 1.858974
               },
               {
                "showarrow": false,
                "text": 1.08,
                "x": -2.3517455,
                "y": -2.0892075,
                "yshift": 10,
                "z": -0.6235824999999999
               },
               {
                "showarrow": false,
                "text": 1.34,
                "x": -4.1918945,
                "y": -1.5119615,
                "yshift": 10,
                "z": -0.1790475
               },
               {
                "showarrow": false,
                "text": 1.08,
                "x": -4.2315214999999995,
                "y": 0.3877025,
                "yshift": 10,
                "z": 0.605055
               },
               {
                "showarrow": false,
                "text": 1.5,
                "x": -2.654209,
                "y": 1.6379765,
                "yshift": 10,
                "z": 0.8739790000000001
               },
               {
                "showarrow": false,
                "text": 1.09,
                "x": -2.2418965,
                "y": 2.442615,
                "yshift": 10,
                "z": 1.4371735
               },
               {
                "showarrow": false,
                "text": 1.09,
                "x": 3.0613405,
                "y": -0.2407375,
                "yshift": 10,
                "z": 1.5869135
               },
               {
                "showarrow": false,
                "text": 1.09,
                "x": -3.1220084999999997,
                "y": 2.3436205,
                "yshift": 10,
                "z": 1.523517
               },
               {
                "showarrow": false,
                "text": 1.09,
                "x": -6.1354305,
                "y": -1.021862,
                "yshift": 10,
                "z": -0.209293
               },
               {
                "showarrow": false,
                "text": 1.09,
                "x": -6.343358,
                "y": -1.871232,
                "yshift": 10,
                "z": -0.0430355
               },
               {
                "showarrow": false,
                "text": 1.09,
                "x": 1.6744725,
                "y": -2.5618045,
                "yshift": 10,
                "z": -1.8719645
               },
               {
                "showarrow": false,
                "text": 1.54,
                "x": 2.626251,
                "y": -1.6184025,
                "yshift": 10,
                "z": 0.07649699999999998
               },
               {
                "showarrow": false,
                "text": 1.09,
                "x": 1.7561740000000001,
                "y": -3.0898944999999998,
                "yshift": 10,
                "z": -1.1607645
               },
               {
                "showarrow": false,
                "text": 1.09,
                "x": 2.571598,
                "y": -1.1262495,
                "yshift": 10,
                "z": -0.8788875
               }
              ]
             }
            ],
            "label": "Atom indices & Bond lengths",
            "method": "relayout"
           },
           {
            "args": [
             {
              "scene.annotations": []
             }
            ],
            "label": "Hide all",
            "method": "relayout"
           }
          ],
          "direction": "down",
          "xanchor": "left",
          "yanchor": "top"
         }
        ]
       }
      }
     },
     "metadata": {},
     "output_type": "display_data"
    },
    {
     "name": "stdout",
     "output_type": "stream",
     "text": [
      "{frozenset({0, 1}): 1.55, frozenset({1, 2}): 1.45, frozenset({2, 3}): 1.34, frozenset({3, 4}): 1.26, frozenset({5, 6}): 1.38, frozenset({6, 7}): 1.39, frozenset({8, 7}): 1.38, frozenset({8, 9}): 1.4, frozenset({9, 10}): 1.33, frozenset({10, 11}): 2.27, frozenset({11, 12}): 2.33, frozenset({13, 14}): 1.09, frozenset({32, 31}): 1.51, frozenset({33, 34}): 1.5, frozenset({35, 36}): 1.39, frozenset({36, 37}): 1.51, frozenset({3, 5}): 1.47, frozenset({11, 13}): 1.98, frozenset({13, 15}): 1.09, frozenset({29, 31}): 1.39, frozenset({33, 35}): 1.39, frozenset({16, 13}): 1.09, frozenset({24, 27}): 1.53, frozenset({0, 4}): 1.46, frozenset({32, 28}): 1.09, frozenset({33, 29}): 1.39, frozenset({51, 55}): 1.09, frozenset({10, 5}): 1.35, frozenset({50, 55}): 1.09, frozenset({24, 30}): 1.53, frozenset({32, 26}): 1.09, frozenset({49, 55}): 1.09, frozenset({11, 4}): 2.26, frozenset({32, 25}): 1.09, frozenset({34, 42}): 1.09, frozenset({34, 43}): 1.09, frozenset({37, 46}): 1.09, frozenset({34, 44}): 1.09, frozenset({35, 45}): 1.08, frozenset({37, 47}): 1.09, frozenset({17, 6}): 1.08, frozenset({18, 7}): 1.08, frozenset({8, 19}): 1.08, frozenset({9, 20}): 1.48, frozenset({20, 31}): 1.4, frozenset({27, 38}): 1.09, frozenset({48, 37}): 1.09, frozenset({27, 39}): 1.09, frozenset({41, 29}): 1.08, frozenset({40, 27}): 1.09, frozenset({20, 36}): 1.4, frozenset({1, 21}): 1.09, frozenset({1, 22}): 1.09, frozenset({52, 30}): 1.09, frozenset({0, 23}): 1.09, frozenset({53, 30}): 1.09, frozenset({0, 24}): 1.54, frozenset({54, 30}): 1.09, frozenset({24, 55}): 1.53}\n"
     ]
    },
    {
     "data": {
      "application/vnd.plotly.v1+json": {
       "config": {
        "plotlyServerURL": "https://plot.ly"
       },
       "data": [
        {
         "marker": {
          "color": [
           "black",
           "black",
           "red",
           "black",
           "blue",
           "black",
           "black",
           "black",
           "black",
           "black",
           "blue",
           "green",
           "green",
           "black",
           "white",
           "white",
           "white",
           "white",
           "white",
           "white",
           "black",
           "white",
           "white",
           "white",
           "black",
           "white",
           "white",
           "black",
           "white",
           "black",
           "black",
           "black",
           "black",
           "black",
           "black",
           "black",
           "black",
           "black",
           "white",
           "white",
           "white",
           "white",
           "white",
           "white",
           "white",
           "white",
           "white",
           "white",
           "white",
           "white",
           "white",
           "white",
           "white",
           "white",
           "white",
           "black"
          ],
          "line": {
           "color": "lightgray",
           "width": 2
          },
          "opacity": 0.8,
          "size": 5,
          "symbol": "circle"
         },
         "mode": "markers",
         "name": "",
         "text": [
          "C",
          "C",
          "O",
          "C",
          "N",
          "C",
          "C",
          "C",
          "C",
          "C",
          "N",
          "Pd",
          "Cl",
          "C",
          "H",
          "H",
          "H",
          "H",
          "H",
          "H",
          "C",
          "H",
          "H",
          "H",
          "C",
          "H",
          "H",
          "C",
          "H",
          "C",
          "C",
          "C",
          "C",
          "C",
          "C",
          "C",
          "C",
          "C",
          "H",
          "H",
          "H",
          "H",
          "H",
          "H",
          "H",
          "H",
          "H",
          "H",
          "H",
          "H",
          "H",
          "H",
          "H",
          "H",
          "H",
          "C"
         ],
         "type": "scatter3d",
         "x": [
          -3.597082,
          -4.1395,
          -3.02292,
          -1.961511,
          -2.155104,
          -0.627519,
          -0.485541,
          0.788093,
          1.840118,
          1.6198,
          0.403414,
          -0.233391,
          -1.303334,
          1.495243,
          1.980253,
          2.107291,
          1.316945,
          -1.357246,
          0.946455,
          2.841749,
          2.736535,
          -4.410163,
          -4.967032,
          -3.769287,
          -4.142848,
          1.822892,
          1.210104,
          -3.433923,
          0.690265,
          3.759014,
          -5.639897,
          2.700885,
          1.543911,
          4.829972,
          5.933045,
          4.837005,
          3.808517,
          3.834678,
          -3.853045,
          -3.543213,
          -2.363817,
          3.739856,
          6.09424,
          5.678778,
          6.869218,
          5.659296,
          4.603903,
          2.875534,
          4.046107,
          -4.406376,
          -4.302318,
          -2.842785,
          -5.818488,
          -6.203922,
          -6.045155,
          -3.909359
         ],
         "y": [
          -0.058193,
          1.322092,
          2.226594,
          1.433063,
          0.189146,
          2.050375,
          3.42254,
          3.937967,
          3.061039,
          1.681362,
          1.189332,
          -0.915981,
          -2.870454,
          -1.666643,
          -0.901993,
          -1.891353,
          -2.565137,
          4.053305,
          5.006853,
          3.41465,
          0.737522,
          1.353581,
          1.688162,
          -0.822555,
          -0.584957,
          -0.457033,
          1.012698,
          -1.895335,
          -0.564501,
          -0.925934,
          -0.853531,
          -0.057385,
          -0.009676,
          -1.034862,
          -2.024054,
          -0.233157,
          0.660133,
          1.477669,
          -2.310501,
          -2.627407,
          -1.741976,
          -1.542124,
          -2.171642,
          -2.993709,
          -1.695041,
          -0.31481,
          1.107742,
          1.431627,
          2.530154,
          1.384458,
          0.038436,
          0.617849,
          -1.575983,
          0.054391,
          -1.269174,
          0.430264
         ],
         "z": [
          -0.311131,
          -0.747004,
          -0.557164,
          -0.35496,
          -0.23982,
          -0.241454,
          -0.180585,
          0.019898,
          0.177441,
          0.09952,
          -0.143382,
          -0.696894,
          -1.370639,
          -1.299903,
          -1.910899,
          -0.4247,
          -1.883098,
          -0.276897,
          0.07642,
          0.380543,
          0.356588,
          -1.801625,
          -0.145304,
          -1.071852,
          1.034342,
          3.421976,
          2.654192,
          1.377886,
          2.070381,
          1.745492,
          0.871016,
          1.507647,
          2.469483,
          0.86708,
          1.118691,
          -0.268004,
          -0.537047,
          -1.801639,
          2.296928,
          0.576823,
          1.521256,
          2.637759,
          2.186158,
          0.685215,
          0.668926,
          -0.970251,
          -2.477173,
          -2.321133,
          -1.601378,
          1.96316,
          3.093455,
          2.293379,
          0.071824,
          0.645659,
          1.794989,
          2.153803
         ]
        },
        {
         "hoverinfo": "none",
         "line": {
          "width": 3
         },
         "marker": {
          "color": "black",
          "opacity": 1,
          "size": 7
         },
         "mode": "lines",
         "type": "scatter3d",
         "x": [
          -3.597082,
          -4.1395,
          null,
          -4.1395,
          -3.02292,
          null,
          -3.02292,
          -1.961511,
          null,
          -1.961511,
          -2.155104,
          null,
          -0.627519,
          -0.485541,
          null,
          -0.485541,
          0.788093,
          null,
          1.840118,
          0.788093,
          null,
          1.840118,
          1.6198,
          null,
          1.6198,
          0.403414,
          null,
          0.403414,
          -0.233391,
          null,
          -0.233391,
          -1.303334,
          null,
          1.495243,
          1.980253,
          null,
          1.543911,
          2.700885,
          null,
          4.829972,
          5.933045,
          null,
          4.837005,
          3.808517,
          null,
          3.808517,
          3.834678,
          null,
          -1.961511,
          -0.627519,
          null,
          -0.233391,
          1.495243,
          null,
          1.495243,
          2.107291,
          null,
          3.759014,
          2.700885,
          null,
          4.829972,
          4.837005,
          null,
          1.316945,
          1.495243,
          null,
          -4.142848,
          -3.433923,
          null,
          -3.597082,
          -2.155104,
          null,
          1.543911,
          0.690265,
          null,
          4.829972,
          3.759014,
          null,
          -2.842785,
          -3.909359,
          null,
          0.403414,
          -0.627519,
          null,
          -4.302318,
          -3.909359,
          null,
          -4.142848,
          -5.639897,
          null,
          1.543911,
          1.210104,
          null,
          -4.406376,
          -3.909359,
          null,
          -0.233391,
          -2.155104,
          null,
          1.543911,
          1.822892,
          null,
          5.933045,
          6.09424,
          null,
          5.933045,
          5.678778,
          null,
          3.834678,
          4.603903,
          null,
          5.933045,
          6.869218,
          null,
          4.837005,
          5.659296,
          null,
          3.834678,
          2.875534,
          null,
          -1.357246,
          -0.485541,
          null,
          0.946455,
          0.788093,
          null,
          1.840118,
          2.841749,
          null,
          1.6198,
          2.736535,
          null,
          2.736535,
          2.700885,
          null,
          -3.433923,
          -3.853045,
          null,
          4.046107,
          3.834678,
          null,
          -3.433923,
          -3.543213,
          null,
          3.739856,
          3.759014,
          null,
          -2.363817,
          -3.433923,
          null,
          2.736535,
          3.808517,
          null,
          -4.1395,
          -4.410163,
          null,
          -4.1395,
          -4.967032,
          null,
          -5.818488,
          -5.639897,
          null,
          -3.597082,
          -3.769287,
          null,
          -6.203922,
          -5.639897,
          null,
          -3.597082,
          -4.142848,
          null,
          -6.045155,
          -5.639897,
          null,
          -4.142848,
          -3.909359,
          null
         ],
         "y": [
          -0.058193,
          1.322092,
          null,
          1.322092,
          2.226594,
          null,
          2.226594,
          1.433063,
          null,
          1.433063,
          0.189146,
          null,
          2.050375,
          3.42254,
          null,
          3.42254,
          3.937967,
          null,
          3.061039,
          3.937967,
          null,
          3.061039,
          1.681362,
          null,
          1.681362,
          1.189332,
          null,
          1.189332,
          -0.915981,
          null,
          -0.915981,
          -2.870454,
          null,
          -1.666643,
          -0.901993,
          null,
          -0.009676,
          -0.057385,
          null,
          -1.034862,
          -2.024054,
          null,
          -0.233157,
          0.660133,
          null,
          0.660133,
          1.477669,
          null,
          1.433063,
          2.050375,
          null,
          -0.915981,
          -1.666643,
          null,
          -1.666643,
          -1.891353,
          null,
          -0.925934,
          -0.057385,
          null,
          -1.034862,
          -0.233157,
          null,
          -2.565137,
          -1.666643,
          null,
          -0.584957,
          -1.895335,
          null,
          -0.058193,
          0.189146,
          null,
          -0.009676,
          -0.564501,
          null,
          -1.034862,
          -0.925934,
          null,
          0.617849,
          0.430264,
          null,
          1.189332,
          2.050375,
          null,
          0.038436,
          0.430264,
          null,
          -0.584957,
          -0.853531,
          null,
          -0.009676,
          1.012698,
          null,
          1.384458,
          0.430264,
          null,
          -0.915981,
          0.189146,
          null,
          -0.009676,
          -0.457033,
          null,
          -2.024054,
          -2.171642,
          null,
          -2.024054,
          -2.993709,
          null,
          1.477669,
          1.107742,
          null,
          -2.024054,
          -1.695041,
          null,
          -0.233157,
          -0.31481,
          null,
          1.477669,
          1.431627,
          null,
          4.053305,
          3.42254,
          null,
          5.006853,
          3.937967,
          null,
          3.061039,
          3.41465,
          null,
          1.681362,
          0.737522,
          null,
          0.737522,
          -0.057385,
          null,
          -1.895335,
          -2.310501,
          null,
          2.530154,
          1.477669,
          null,
          -1.895335,
          -2.627407,
          null,
          -1.542124,
          -0.925934,
          null,
          -1.741976,
          -1.895335,
          null,
          0.737522,
          0.660133,
          null,
          1.322092,
          1.353581,
          null,
          1.322092,
          1.688162,
          null,
          -1.575983,
          -0.853531,
          null,
          -0.058193,
          -0.822555,
          null,
          0.054391,
          -0.853531,
          null,
          -0.058193,
          -0.584957,
          null,
          -1.269174,
          -0.853531,
          null,
          -0.584957,
          0.430264,
          null
         ],
         "z": [
          -0.311131,
          -0.747004,
          null,
          -0.747004,
          -0.557164,
          null,
          -0.557164,
          -0.35496,
          null,
          -0.35496,
          -0.23982,
          null,
          -0.241454,
          -0.180585,
          null,
          -0.180585,
          0.019898,
          null,
          0.177441,
          0.019898,
          null,
          0.177441,
          0.09952,
          null,
          0.09952,
          -0.143382,
          null,
          -0.143382,
          -0.696894,
          null,
          -0.696894,
          -1.370639,
          null,
          -1.299903,
          -1.910899,
          null,
          2.469483,
          1.507647,
          null,
          0.86708,
          1.118691,
          null,
          -0.268004,
          -0.537047,
          null,
          -0.537047,
          -1.801639,
          null,
          -0.35496,
          -0.241454,
          null,
          -0.696894,
          -1.299903,
          null,
          -1.299903,
          -0.4247,
          null,
          1.745492,
          1.507647,
          null,
          0.86708,
          -0.268004,
          null,
          -1.883098,
          -1.299903,
          null,
          1.034342,
          1.377886,
          null,
          -0.311131,
          -0.23982,
          null,
          2.469483,
          2.070381,
          null,
          0.86708,
          1.745492,
          null,
          2.293379,
          2.153803,
          null,
          -0.143382,
          -0.241454,
          null,
          3.093455,
          2.153803,
          null,
          1.034342,
          0.871016,
          null,
          2.469483,
          2.654192,
          null,
          1.96316,
          2.153803,
          null,
          -0.696894,
          -0.23982,
          null,
          2.469483,
          3.421976,
          null,
          1.118691,
          2.186158,
          null,
          1.118691,
          0.685215,
          null,
          -1.801639,
          -2.477173,
          null,
          1.118691,
          0.668926,
          null,
          -0.268004,
          -0.970251,
          null,
          -1.801639,
          -2.321133,
          null,
          -0.276897,
          -0.180585,
          null,
          0.07642,
          0.019898,
          null,
          0.177441,
          0.380543,
          null,
          0.09952,
          0.356588,
          null,
          0.356588,
          1.507647,
          null,
          1.377886,
          2.296928,
          null,
          -1.601378,
          -1.801639,
          null,
          1.377886,
          0.576823,
          null,
          2.637759,
          1.745492,
          null,
          1.521256,
          1.377886,
          null,
          0.356588,
          -0.537047,
          null,
          -0.747004,
          -1.801625,
          null,
          -0.747004,
          -0.145304,
          null,
          0.071824,
          0.871016,
          null,
          -0.311131,
          -1.071852,
          null,
          0.645659,
          0.871016,
          null,
          -0.311131,
          1.034342,
          null,
          1.794989,
          0.871016,
          null,
          1.034342,
          2.153803,
          null
         ]
        }
       ],
       "layout": {
        "margin": {
         "b": 0,
         "l": 0,
         "r": 0,
         "t": 0
        },
        "scene": {
         "annotations": [
          {
           "font": {
            "color": "blue"
           },
           "showarrow": false,
           "text": "1",
           "x": -3.597082,
           "y": -0.058193,
           "yshift": 15,
           "z": -0.311131
          },
          {
           "font": {
            "color": "blue"
           },
           "showarrow": false,
           "text": "2",
           "x": -4.1395,
           "y": 1.322092,
           "yshift": 15,
           "z": -0.747004
          },
          {
           "font": {
            "color": "blue"
           },
           "showarrow": false,
           "text": "3",
           "x": -3.02292,
           "y": 2.226594,
           "yshift": 15,
           "z": -0.557164
          },
          {
           "font": {
            "color": "blue"
           },
           "showarrow": false,
           "text": "4",
           "x": -1.961511,
           "y": 1.433063,
           "yshift": 15,
           "z": -0.35496
          },
          {
           "font": {
            "color": "blue"
           },
           "showarrow": false,
           "text": "5",
           "x": -2.155104,
           "y": 0.189146,
           "yshift": 15,
           "z": -0.23982
          },
          {
           "font": {
            "color": "blue"
           },
           "showarrow": false,
           "text": "6",
           "x": -0.627519,
           "y": 2.050375,
           "yshift": 15,
           "z": -0.241454
          },
          {
           "font": {
            "color": "blue"
           },
           "showarrow": false,
           "text": "7",
           "x": -0.485541,
           "y": 3.42254,
           "yshift": 15,
           "z": -0.180585
          },
          {
           "font": {
            "color": "blue"
           },
           "showarrow": false,
           "text": "8",
           "x": 0.788093,
           "y": 3.937967,
           "yshift": 15,
           "z": 0.019898
          },
          {
           "font": {
            "color": "blue"
           },
           "showarrow": false,
           "text": "9",
           "x": 1.840118,
           "y": 3.061039,
           "yshift": 15,
           "z": 0.177441
          },
          {
           "font": {
            "color": "blue"
           },
           "showarrow": false,
           "text": "10",
           "x": 1.6198,
           "y": 1.681362,
           "yshift": 15,
           "z": 0.09952
          },
          {
           "font": {
            "color": "blue"
           },
           "showarrow": false,
           "text": "11",
           "x": 0.403414,
           "y": 1.189332,
           "yshift": 15,
           "z": -0.143382
          },
          {
           "font": {
            "color": "blue"
           },
           "showarrow": false,
           "text": "12",
           "x": -0.233391,
           "y": -0.915981,
           "yshift": 15,
           "z": -0.696894
          },
          {
           "font": {
            "color": "blue"
           },
           "showarrow": false,
           "text": "13",
           "x": -1.303334,
           "y": -2.870454,
           "yshift": 15,
           "z": -1.370639
          },
          {
           "font": {
            "color": "blue"
           },
           "showarrow": false,
           "text": "14",
           "x": 1.495243,
           "y": -1.666643,
           "yshift": 15,
           "z": -1.299903
          },
          {
           "font": {
            "color": "blue"
           },
           "showarrow": false,
           "text": "15",
           "x": 1.980253,
           "y": -0.901993,
           "yshift": 15,
           "z": -1.910899
          },
          {
           "font": {
            "color": "blue"
           },
           "showarrow": false,
           "text": "16",
           "x": 2.107291,
           "y": -1.891353,
           "yshift": 15,
           "z": -0.4247
          },
          {
           "font": {
            "color": "blue"
           },
           "showarrow": false,
           "text": "17",
           "x": 1.316945,
           "y": -2.565137,
           "yshift": 15,
           "z": -1.883098
          },
          {
           "font": {
            "color": "blue"
           },
           "showarrow": false,
           "text": "18",
           "x": -1.357246,
           "y": 4.053305,
           "yshift": 15,
           "z": -0.276897
          },
          {
           "font": {
            "color": "blue"
           },
           "showarrow": false,
           "text": "19",
           "x": 0.946455,
           "y": 5.006853,
           "yshift": 15,
           "z": 0.07642
          },
          {
           "font": {
            "color": "blue"
           },
           "showarrow": false,
           "text": "20",
           "x": 2.841749,
           "y": 3.41465,
           "yshift": 15,
           "z": 0.380543
          },
          {
           "font": {
            "color": "blue"
           },
           "showarrow": false,
           "text": "21",
           "x": 2.736535,
           "y": 0.737522,
           "yshift": 15,
           "z": 0.356588
          },
          {
           "font": {
            "color": "blue"
           },
           "showarrow": false,
           "text": "22",
           "x": -4.410163,
           "y": 1.353581,
           "yshift": 15,
           "z": -1.801625
          },
          {
           "font": {
            "color": "blue"
           },
           "showarrow": false,
           "text": "23",
           "x": -4.967032,
           "y": 1.688162,
           "yshift": 15,
           "z": -0.145304
          },
          {
           "font": {
            "color": "blue"
           },
           "showarrow": false,
           "text": "24",
           "x": -3.769287,
           "y": -0.822555,
           "yshift": 15,
           "z": -1.071852
          },
          {
           "font": {
            "color": "blue"
           },
           "showarrow": false,
           "text": "25",
           "x": -4.142848,
           "y": -0.584957,
           "yshift": 15,
           "z": 1.034342
          },
          {
           "font": {
            "color": "blue"
           },
           "showarrow": false,
           "text": "26",
           "x": 1.822892,
           "y": -0.457033,
           "yshift": 15,
           "z": 3.421976
          },
          {
           "font": {
            "color": "blue"
           },
           "showarrow": false,
           "text": "27",
           "x": 1.210104,
           "y": 1.012698,
           "yshift": 15,
           "z": 2.654192
          },
          {
           "font": {
            "color": "blue"
           },
           "showarrow": false,
           "text": "28",
           "x": -3.433923,
           "y": -1.895335,
           "yshift": 15,
           "z": 1.377886
          },
          {
           "font": {
            "color": "blue"
           },
           "showarrow": false,
           "text": "29",
           "x": 0.690265,
           "y": -0.564501,
           "yshift": 15,
           "z": 2.070381
          },
          {
           "font": {
            "color": "blue"
           },
           "showarrow": false,
           "text": "30",
           "x": 3.759014,
           "y": -0.925934,
           "yshift": 15,
           "z": 1.745492
          },
          {
           "font": {
            "color": "blue"
           },
           "showarrow": false,
           "text": "31",
           "x": -5.639897,
           "y": -0.853531,
           "yshift": 15,
           "z": 0.871016
          },
          {
           "font": {
            "color": "blue"
           },
           "showarrow": false,
           "text": "32",
           "x": 2.700885,
           "y": -0.057385,
           "yshift": 15,
           "z": 1.507647
          },
          {
           "font": {
            "color": "blue"
           },
           "showarrow": false,
           "text": "33",
           "x": 1.543911,
           "y": -0.009676,
           "yshift": 15,
           "z": 2.469483
          },
          {
           "font": {
            "color": "blue"
           },
           "showarrow": false,
           "text": "34",
           "x": 4.829972,
           "y": -1.034862,
           "yshift": 15,
           "z": 0.86708
          },
          {
           "font": {
            "color": "blue"
           },
           "showarrow": false,
           "text": "35",
           "x": 5.933045,
           "y": -2.024054,
           "yshift": 15,
           "z": 1.118691
          },
          {
           "font": {
            "color": "blue"
           },
           "showarrow": false,
           "text": "36",
           "x": 4.837005,
           "y": -0.233157,
           "yshift": 15,
           "z": -0.268004
          },
          {
           "font": {
            "color": "blue"
           },
           "showarrow": false,
           "text": "37",
           "x": 3.808517,
           "y": 0.660133,
           "yshift": 15,
           "z": -0.537047
          },
          {
           "font": {
            "color": "blue"
           },
           "showarrow": false,
           "text": "38",
           "x": 3.834678,
           "y": 1.477669,
           "yshift": 15,
           "z": -1.801639
          },
          {
           "font": {
            "color": "blue"
           },
           "showarrow": false,
           "text": "39",
           "x": -3.853045,
           "y": -2.310501,
           "yshift": 15,
           "z": 2.296928
          },
          {
           "font": {
            "color": "blue"
           },
           "showarrow": false,
           "text": "40",
           "x": -3.543213,
           "y": -2.627407,
           "yshift": 15,
           "z": 0.576823
          },
          {
           "font": {
            "color": "blue"
           },
           "showarrow": false,
           "text": "41",
           "x": -2.363817,
           "y": -1.741976,
           "yshift": 15,
           "z": 1.521256
          },
          {
           "font": {
            "color": "blue"
           },
           "showarrow": false,
           "text": "42",
           "x": 3.739856,
           "y": -1.542124,
           "yshift": 15,
           "z": 2.637759
          },
          {
           "font": {
            "color": "blue"
           },
           "showarrow": false,
           "text": "43",
           "x": 6.09424,
           "y": -2.171642,
           "yshift": 15,
           "z": 2.186158
          },
          {
           "font": {
            "color": "blue"
           },
           "showarrow": false,
           "text": "44",
           "x": 5.678778,
           "y": -2.993709,
           "yshift": 15,
           "z": 0.685215
          },
          {
           "font": {
            "color": "blue"
           },
           "showarrow": false,
           "text": "45",
           "x": 6.869218,
           "y": -1.695041,
           "yshift": 15,
           "z": 0.668926
          },
          {
           "font": {
            "color": "blue"
           },
           "showarrow": false,
           "text": "46",
           "x": 5.659296,
           "y": -0.31481,
           "yshift": 15,
           "z": -0.970251
          },
          {
           "font": {
            "color": "blue"
           },
           "showarrow": false,
           "text": "47",
           "x": 4.603903,
           "y": 1.107742,
           "yshift": 15,
           "z": -2.477173
          },
          {
           "font": {
            "color": "blue"
           },
           "showarrow": false,
           "text": "48",
           "x": 2.875534,
           "y": 1.431627,
           "yshift": 15,
           "z": -2.321133
          },
          {
           "font": {
            "color": "blue"
           },
           "showarrow": false,
           "text": "49",
           "x": 4.046107,
           "y": 2.530154,
           "yshift": 15,
           "z": -1.601378
          },
          {
           "font": {
            "color": "blue"
           },
           "showarrow": false,
           "text": "50",
           "x": -4.406376,
           "y": 1.384458,
           "yshift": 15,
           "z": 1.96316
          },
          {
           "font": {
            "color": "blue"
           },
           "showarrow": false,
           "text": "51",
           "x": -4.302318,
           "y": 0.038436,
           "yshift": 15,
           "z": 3.093455
          },
          {
           "font": {
            "color": "blue"
           },
           "showarrow": false,
           "text": "52",
           "x": -2.842785,
           "y": 0.617849,
           "yshift": 15,
           "z": 2.293379
          },
          {
           "font": {
            "color": "blue"
           },
           "showarrow": false,
           "text": "53",
           "x": -5.818488,
           "y": -1.575983,
           "yshift": 15,
           "z": 0.071824
          },
          {
           "font": {
            "color": "blue"
           },
           "showarrow": false,
           "text": "54",
           "x": -6.203922,
           "y": 0.054391,
           "yshift": 15,
           "z": 0.645659
          },
          {
           "font": {
            "color": "blue"
           },
           "showarrow": false,
           "text": "55",
           "x": -6.045155,
           "y": -1.269174,
           "yshift": 15,
           "z": 1.794989
          },
          {
           "font": {
            "color": "blue"
           },
           "showarrow": false,
           "text": "56",
           "x": -3.909359,
           "y": 0.430264,
           "yshift": 15,
           "z": 2.153803
          }
         ],
         "xaxis": {
          "showbackground": false,
          "showgrid": false,
          "showticklabels": false,
          "title": {
           "font": {
            "color": "white"
           }
          },
          "zeroline": false
         },
         "yaxis": {
          "showbackground": false,
          "showgrid": false,
          "showticklabels": false,
          "title": {
           "font": {
            "color": "white"
           }
          },
          "zeroline": false
         },
         "zaxis": {
          "showbackground": false,
          "showgrid": false,
          "showticklabels": false,
          "title": {
           "font": {
            "color": "white"
           }
          },
          "zeroline": false
         }
        },
        "showlegend": false,
        "template": {
         "data": {
          "bar": [
           {
            "error_x": {
             "color": "#2a3f5f"
            },
            "error_y": {
             "color": "#2a3f5f"
            },
            "marker": {
             "line": {
              "color": "#E5ECF6",
              "width": 0.5
             },
             "pattern": {
              "fillmode": "overlay",
              "size": 10,
              "solidity": 0.2
             }
            },
            "type": "bar"
           }
          ],
          "barpolar": [
           {
            "marker": {
             "line": {
              "color": "#E5ECF6",
              "width": 0.5
             },
             "pattern": {
              "fillmode": "overlay",
              "size": 10,
              "solidity": 0.2
             }
            },
            "type": "barpolar"
           }
          ],
          "carpet": [
           {
            "aaxis": {
             "endlinecolor": "#2a3f5f",
             "gridcolor": "white",
             "linecolor": "white",
             "minorgridcolor": "white",
             "startlinecolor": "#2a3f5f"
            },
            "baxis": {
             "endlinecolor": "#2a3f5f",
             "gridcolor": "white",
             "linecolor": "white",
             "minorgridcolor": "white",
             "startlinecolor": "#2a3f5f"
            },
            "type": "carpet"
           }
          ],
          "choropleth": [
           {
            "colorbar": {
             "outlinewidth": 0,
             "ticks": ""
            },
            "type": "choropleth"
           }
          ],
          "contour": [
           {
            "colorbar": {
             "outlinewidth": 0,
             "ticks": ""
            },
            "colorscale": [
             [
              0,
              "#0d0887"
             ],
             [
              0.1111111111111111,
              "#46039f"
             ],
             [
              0.2222222222222222,
              "#7201a8"
             ],
             [
              0.3333333333333333,
              "#9c179e"
             ],
             [
              0.4444444444444444,
              "#bd3786"
             ],
             [
              0.5555555555555556,
              "#d8576b"
             ],
             [
              0.6666666666666666,
              "#ed7953"
             ],
             [
              0.7777777777777778,
              "#fb9f3a"
             ],
             [
              0.8888888888888888,
              "#fdca26"
             ],
             [
              1,
              "#f0f921"
             ]
            ],
            "type": "contour"
           }
          ],
          "contourcarpet": [
           {
            "colorbar": {
             "outlinewidth": 0,
             "ticks": ""
            },
            "type": "contourcarpet"
           }
          ],
          "heatmap": [
           {
            "colorbar": {
             "outlinewidth": 0,
             "ticks": ""
            },
            "colorscale": [
             [
              0,
              "#0d0887"
             ],
             [
              0.1111111111111111,
              "#46039f"
             ],
             [
              0.2222222222222222,
              "#7201a8"
             ],
             [
              0.3333333333333333,
              "#9c179e"
             ],
             [
              0.4444444444444444,
              "#bd3786"
             ],
             [
              0.5555555555555556,
              "#d8576b"
             ],
             [
              0.6666666666666666,
              "#ed7953"
             ],
             [
              0.7777777777777778,
              "#fb9f3a"
             ],
             [
              0.8888888888888888,
              "#fdca26"
             ],
             [
              1,
              "#f0f921"
             ]
            ],
            "type": "heatmap"
           }
          ],
          "heatmapgl": [
           {
            "colorbar": {
             "outlinewidth": 0,
             "ticks": ""
            },
            "colorscale": [
             [
              0,
              "#0d0887"
             ],
             [
              0.1111111111111111,
              "#46039f"
             ],
             [
              0.2222222222222222,
              "#7201a8"
             ],
             [
              0.3333333333333333,
              "#9c179e"
             ],
             [
              0.4444444444444444,
              "#bd3786"
             ],
             [
              0.5555555555555556,
              "#d8576b"
             ],
             [
              0.6666666666666666,
              "#ed7953"
             ],
             [
              0.7777777777777778,
              "#fb9f3a"
             ],
             [
              0.8888888888888888,
              "#fdca26"
             ],
             [
              1,
              "#f0f921"
             ]
            ],
            "type": "heatmapgl"
           }
          ],
          "histogram": [
           {
            "marker": {
             "pattern": {
              "fillmode": "overlay",
              "size": 10,
              "solidity": 0.2
             }
            },
            "type": "histogram"
           }
          ],
          "histogram2d": [
           {
            "colorbar": {
             "outlinewidth": 0,
             "ticks": ""
            },
            "colorscale": [
             [
              0,
              "#0d0887"
             ],
             [
              0.1111111111111111,
              "#46039f"
             ],
             [
              0.2222222222222222,
              "#7201a8"
             ],
             [
              0.3333333333333333,
              "#9c179e"
             ],
             [
              0.4444444444444444,
              "#bd3786"
             ],
             [
              0.5555555555555556,
              "#d8576b"
             ],
             [
              0.6666666666666666,
              "#ed7953"
             ],
             [
              0.7777777777777778,
              "#fb9f3a"
             ],
             [
              0.8888888888888888,
              "#fdca26"
             ],
             [
              1,
              "#f0f921"
             ]
            ],
            "type": "histogram2d"
           }
          ],
          "histogram2dcontour": [
           {
            "colorbar": {
             "outlinewidth": 0,
             "ticks": ""
            },
            "colorscale": [
             [
              0,
              "#0d0887"
             ],
             [
              0.1111111111111111,
              "#46039f"
             ],
             [
              0.2222222222222222,
              "#7201a8"
             ],
             [
              0.3333333333333333,
              "#9c179e"
             ],
             [
              0.4444444444444444,
              "#bd3786"
             ],
             [
              0.5555555555555556,
              "#d8576b"
             ],
             [
              0.6666666666666666,
              "#ed7953"
             ],
             [
              0.7777777777777778,
              "#fb9f3a"
             ],
             [
              0.8888888888888888,
              "#fdca26"
             ],
             [
              1,
              "#f0f921"
             ]
            ],
            "type": "histogram2dcontour"
           }
          ],
          "mesh3d": [
           {
            "colorbar": {
             "outlinewidth": 0,
             "ticks": ""
            },
            "type": "mesh3d"
           }
          ],
          "parcoords": [
           {
            "line": {
             "colorbar": {
              "outlinewidth": 0,
              "ticks": ""
             }
            },
            "type": "parcoords"
           }
          ],
          "pie": [
           {
            "automargin": true,
            "type": "pie"
           }
          ],
          "scatter": [
           {
            "fillpattern": {
             "fillmode": "overlay",
             "size": 10,
             "solidity": 0.2
            },
            "type": "scatter"
           }
          ],
          "scatter3d": [
           {
            "line": {
             "colorbar": {
              "outlinewidth": 0,
              "ticks": ""
             }
            },
            "marker": {
             "colorbar": {
              "outlinewidth": 0,
              "ticks": ""
             }
            },
            "type": "scatter3d"
           }
          ],
          "scattercarpet": [
           {
            "marker": {
             "colorbar": {
              "outlinewidth": 0,
              "ticks": ""
             }
            },
            "type": "scattercarpet"
           }
          ],
          "scattergeo": [
           {
            "marker": {
             "colorbar": {
              "outlinewidth": 0,
              "ticks": ""
             }
            },
            "type": "scattergeo"
           }
          ],
          "scattergl": [
           {
            "marker": {
             "colorbar": {
              "outlinewidth": 0,
              "ticks": ""
             }
            },
            "type": "scattergl"
           }
          ],
          "scattermapbox": [
           {
            "marker": {
             "colorbar": {
              "outlinewidth": 0,
              "ticks": ""
             }
            },
            "type": "scattermapbox"
           }
          ],
          "scatterpolar": [
           {
            "marker": {
             "colorbar": {
              "outlinewidth": 0,
              "ticks": ""
             }
            },
            "type": "scatterpolar"
           }
          ],
          "scatterpolargl": [
           {
            "marker": {
             "colorbar": {
              "outlinewidth": 0,
              "ticks": ""
             }
            },
            "type": "scatterpolargl"
           }
          ],
          "scatterternary": [
           {
            "marker": {
             "colorbar": {
              "outlinewidth": 0,
              "ticks": ""
             }
            },
            "type": "scatterternary"
           }
          ],
          "surface": [
           {
            "colorbar": {
             "outlinewidth": 0,
             "ticks": ""
            },
            "colorscale": [
             [
              0,
              "#0d0887"
             ],
             [
              0.1111111111111111,
              "#46039f"
             ],
             [
              0.2222222222222222,
              "#7201a8"
             ],
             [
              0.3333333333333333,
              "#9c179e"
             ],
             [
              0.4444444444444444,
              "#bd3786"
             ],
             [
              0.5555555555555556,
              "#d8576b"
             ],
             [
              0.6666666666666666,
              "#ed7953"
             ],
             [
              0.7777777777777778,
              "#fb9f3a"
             ],
             [
              0.8888888888888888,
              "#fdca26"
             ],
             [
              1,
              "#f0f921"
             ]
            ],
            "type": "surface"
           }
          ],
          "table": [
           {
            "cells": {
             "fill": {
              "color": "#EBF0F8"
             },
             "line": {
              "color": "white"
             }
            },
            "header": {
             "fill": {
              "color": "#C8D4E3"
             },
             "line": {
              "color": "white"
             }
            },
            "type": "table"
           }
          ]
         },
         "layout": {
          "annotationdefaults": {
           "arrowcolor": "#2a3f5f",
           "arrowhead": 0,
           "arrowwidth": 1
          },
          "autotypenumbers": "strict",
          "coloraxis": {
           "colorbar": {
            "outlinewidth": 0,
            "ticks": ""
           }
          },
          "colorscale": {
           "diverging": [
            [
             0,
             "#8e0152"
            ],
            [
             0.1,
             "#c51b7d"
            ],
            [
             0.2,
             "#de77ae"
            ],
            [
             0.3,
             "#f1b6da"
            ],
            [
             0.4,
             "#fde0ef"
            ],
            [
             0.5,
             "#f7f7f7"
            ],
            [
             0.6,
             "#e6f5d0"
            ],
            [
             0.7,
             "#b8e186"
            ],
            [
             0.8,
             "#7fbc41"
            ],
            [
             0.9,
             "#4d9221"
            ],
            [
             1,
             "#276419"
            ]
           ],
           "sequential": [
            [
             0,
             "#0d0887"
            ],
            [
             0.1111111111111111,
             "#46039f"
            ],
            [
             0.2222222222222222,
             "#7201a8"
            ],
            [
             0.3333333333333333,
             "#9c179e"
            ],
            [
             0.4444444444444444,
             "#bd3786"
            ],
            [
             0.5555555555555556,
             "#d8576b"
            ],
            [
             0.6666666666666666,
             "#ed7953"
            ],
            [
             0.7777777777777778,
             "#fb9f3a"
            ],
            [
             0.8888888888888888,
             "#fdca26"
            ],
            [
             1,
             "#f0f921"
            ]
           ],
           "sequentialminus": [
            [
             0,
             "#0d0887"
            ],
            [
             0.1111111111111111,
             "#46039f"
            ],
            [
             0.2222222222222222,
             "#7201a8"
            ],
            [
             0.3333333333333333,
             "#9c179e"
            ],
            [
             0.4444444444444444,
             "#bd3786"
            ],
            [
             0.5555555555555556,
             "#d8576b"
            ],
            [
             0.6666666666666666,
             "#ed7953"
            ],
            [
             0.7777777777777778,
             "#fb9f3a"
            ],
            [
             0.8888888888888888,
             "#fdca26"
            ],
            [
             1,
             "#f0f921"
            ]
           ]
          },
          "colorway": [
           "#636efa",
           "#EF553B",
           "#00cc96",
           "#ab63fa",
           "#FFA15A",
           "#19d3f3",
           "#FF6692",
           "#B6E880",
           "#FF97FF",
           "#FECB52"
          ],
          "font": {
           "color": "#2a3f5f"
          },
          "geo": {
           "bgcolor": "white",
           "lakecolor": "white",
           "landcolor": "#E5ECF6",
           "showlakes": true,
           "showland": true,
           "subunitcolor": "white"
          },
          "hoverlabel": {
           "align": "left"
          },
          "hovermode": "closest",
          "mapbox": {
           "style": "light"
          },
          "paper_bgcolor": "white",
          "plot_bgcolor": "#E5ECF6",
          "polar": {
           "angularaxis": {
            "gridcolor": "white",
            "linecolor": "white",
            "ticks": ""
           },
           "bgcolor": "#E5ECF6",
           "radialaxis": {
            "gridcolor": "white",
            "linecolor": "white",
            "ticks": ""
           }
          },
          "scene": {
           "xaxis": {
            "backgroundcolor": "#E5ECF6",
            "gridcolor": "white",
            "gridwidth": 2,
            "linecolor": "white",
            "showbackground": true,
            "ticks": "",
            "zerolinecolor": "white"
           },
           "yaxis": {
            "backgroundcolor": "#E5ECF6",
            "gridcolor": "white",
            "gridwidth": 2,
            "linecolor": "white",
            "showbackground": true,
            "ticks": "",
            "zerolinecolor": "white"
           },
           "zaxis": {
            "backgroundcolor": "#E5ECF6",
            "gridcolor": "white",
            "gridwidth": 2,
            "linecolor": "white",
            "showbackground": true,
            "ticks": "",
            "zerolinecolor": "white"
           }
          },
          "shapedefaults": {
           "line": {
            "color": "#2a3f5f"
           }
          },
          "ternary": {
           "aaxis": {
            "gridcolor": "white",
            "linecolor": "white",
            "ticks": ""
           },
           "baxis": {
            "gridcolor": "white",
            "linecolor": "white",
            "ticks": ""
           },
           "bgcolor": "#E5ECF6",
           "caxis": {
            "gridcolor": "white",
            "linecolor": "white",
            "ticks": ""
           }
          },
          "title": {
           "x": 0.05
          },
          "xaxis": {
           "automargin": true,
           "gridcolor": "white",
           "linecolor": "white",
           "ticks": "",
           "title": {
            "standoff": 15
           },
           "zerolinecolor": "white",
           "zerolinewidth": 2
          },
          "yaxis": {
           "automargin": true,
           "gridcolor": "white",
           "linecolor": "white",
           "ticks": "",
           "title": {
            "standoff": 15
           },
           "zerolinecolor": "white",
           "zerolinewidth": 2
          }
         }
        },
        "title": {
         "text": "LS1642",
         "x": 0.5,
         "xanchor": "center",
         "y": 0.9,
         "yanchor": "top"
        },
        "updatemenus": [
         {
          "buttons": [
           {
            "args": [
             {
              "scene.annotations": [
               {
                "font": {
                 "color": "blue"
                },
                "showarrow": false,
                "text": 1,
                "x": -3.597082,
                "y": -0.058193,
                "yshift": 15,
                "z": -0.311131
               },
               {
                "font": {
                 "color": "blue"
                },
                "showarrow": false,
                "text": 2,
                "x": -4.1395,
                "y": 1.322092,
                "yshift": 15,
                "z": -0.747004
               },
               {
                "font": {
                 "color": "blue"
                },
                "showarrow": false,
                "text": 3,
                "x": -3.02292,
                "y": 2.226594,
                "yshift": 15,
                "z": -0.557164
               },
               {
                "font": {
                 "color": "blue"
                },
                "showarrow": false,
                "text": 4,
                "x": -1.961511,
                "y": 1.433063,
                "yshift": 15,
                "z": -0.35496
               },
               {
                "font": {
                 "color": "blue"
                },
                "showarrow": false,
                "text": 5,
                "x": -2.155104,
                "y": 0.189146,
                "yshift": 15,
                "z": -0.23982
               },
               {
                "font": {
                 "color": "blue"
                },
                "showarrow": false,
                "text": 6,
                "x": -0.627519,
                "y": 2.050375,
                "yshift": 15,
                "z": -0.241454
               },
               {
                "font": {
                 "color": "blue"
                },
                "showarrow": false,
                "text": 7,
                "x": -0.485541,
                "y": 3.42254,
                "yshift": 15,
                "z": -0.180585
               },
               {
                "font": {
                 "color": "blue"
                },
                "showarrow": false,
                "text": 8,
                "x": 0.788093,
                "y": 3.937967,
                "yshift": 15,
                "z": 0.019898
               },
               {
                "font": {
                 "color": "blue"
                },
                "showarrow": false,
                "text": 9,
                "x": 1.840118,
                "y": 3.061039,
                "yshift": 15,
                "z": 0.177441
               },
               {
                "font": {
                 "color": "blue"
                },
                "showarrow": false,
                "text": 10,
                "x": 1.6198,
                "y": 1.681362,
                "yshift": 15,
                "z": 0.09952
               },
               {
                "font": {
                 "color": "blue"
                },
                "showarrow": false,
                "text": 11,
                "x": 0.403414,
                "y": 1.189332,
                "yshift": 15,
                "z": -0.143382
               },
               {
                "font": {
                 "color": "blue"
                },
                "showarrow": false,
                "text": 12,
                "x": -0.233391,
                "y": -0.915981,
                "yshift": 15,
                "z": -0.696894
               },
               {
                "font": {
                 "color": "blue"
                },
                "showarrow": false,
                "text": 13,
                "x": -1.303334,
                "y": -2.870454,
                "yshift": 15,
                "z": -1.370639
               },
               {
                "font": {
                 "color": "blue"
                },
                "showarrow": false,
                "text": 14,
                "x": 1.495243,
                "y": -1.666643,
                "yshift": 15,
                "z": -1.299903
               },
               {
                "font": {
                 "color": "blue"
                },
                "showarrow": false,
                "text": 15,
                "x": 1.980253,
                "y": -0.901993,
                "yshift": 15,
                "z": -1.910899
               },
               {
                "font": {
                 "color": "blue"
                },
                "showarrow": false,
                "text": 16,
                "x": 2.107291,
                "y": -1.891353,
                "yshift": 15,
                "z": -0.4247
               },
               {
                "font": {
                 "color": "blue"
                },
                "showarrow": false,
                "text": 17,
                "x": 1.316945,
                "y": -2.565137,
                "yshift": 15,
                "z": -1.883098
               },
               {
                "font": {
                 "color": "blue"
                },
                "showarrow": false,
                "text": 18,
                "x": -1.357246,
                "y": 4.053305,
                "yshift": 15,
                "z": -0.276897
               },
               {
                "font": {
                 "color": "blue"
                },
                "showarrow": false,
                "text": 19,
                "x": 0.946455,
                "y": 5.006853,
                "yshift": 15,
                "z": 0.07642
               },
               {
                "font": {
                 "color": "blue"
                },
                "showarrow": false,
                "text": 20,
                "x": 2.841749,
                "y": 3.41465,
                "yshift": 15,
                "z": 0.380543
               },
               {
                "font": {
                 "color": "blue"
                },
                "showarrow": false,
                "text": 21,
                "x": 2.736535,
                "y": 0.737522,
                "yshift": 15,
                "z": 0.356588
               },
               {
                "font": {
                 "color": "blue"
                },
                "showarrow": false,
                "text": 22,
                "x": -4.410163,
                "y": 1.353581,
                "yshift": 15,
                "z": -1.801625
               },
               {
                "font": {
                 "color": "blue"
                },
                "showarrow": false,
                "text": 23,
                "x": -4.967032,
                "y": 1.688162,
                "yshift": 15,
                "z": -0.145304
               },
               {
                "font": {
                 "color": "blue"
                },
                "showarrow": false,
                "text": 24,
                "x": -3.769287,
                "y": -0.822555,
                "yshift": 15,
                "z": -1.071852
               },
               {
                "font": {
                 "color": "blue"
                },
                "showarrow": false,
                "text": 25,
                "x": -4.142848,
                "y": -0.584957,
                "yshift": 15,
                "z": 1.034342
               },
               {
                "font": {
                 "color": "blue"
                },
                "showarrow": false,
                "text": 26,
                "x": 1.822892,
                "y": -0.457033,
                "yshift": 15,
                "z": 3.421976
               },
               {
                "font": {
                 "color": "blue"
                },
                "showarrow": false,
                "text": 27,
                "x": 1.210104,
                "y": 1.012698,
                "yshift": 15,
                "z": 2.654192
               },
               {
                "font": {
                 "color": "blue"
                },
                "showarrow": false,
                "text": 28,
                "x": -3.433923,
                "y": -1.895335,
                "yshift": 15,
                "z": 1.377886
               },
               {
                "font": {
                 "color": "blue"
                },
                "showarrow": false,
                "text": 29,
                "x": 0.690265,
                "y": -0.564501,
                "yshift": 15,
                "z": 2.070381
               },
               {
                "font": {
                 "color": "blue"
                },
                "showarrow": false,
                "text": 30,
                "x": 3.759014,
                "y": -0.925934,
                "yshift": 15,
                "z": 1.745492
               },
               {
                "font": {
                 "color": "blue"
                },
                "showarrow": false,
                "text": 31,
                "x": -5.639897,
                "y": -0.853531,
                "yshift": 15,
                "z": 0.871016
               },
               {
                "font": {
                 "color": "blue"
                },
                "showarrow": false,
                "text": 32,
                "x": 2.700885,
                "y": -0.057385,
                "yshift": 15,
                "z": 1.507647
               },
               {
                "font": {
                 "color": "blue"
                },
                "showarrow": false,
                "text": 33,
                "x": 1.543911,
                "y": -0.009676,
                "yshift": 15,
                "z": 2.469483
               },
               {
                "font": {
                 "color": "blue"
                },
                "showarrow": false,
                "text": 34,
                "x": 4.829972,
                "y": -1.034862,
                "yshift": 15,
                "z": 0.86708
               },
               {
                "font": {
                 "color": "blue"
                },
                "showarrow": false,
                "text": 35,
                "x": 5.933045,
                "y": -2.024054,
                "yshift": 15,
                "z": 1.118691
               },
               {
                "font": {
                 "color": "blue"
                },
                "showarrow": false,
                "text": 36,
                "x": 4.837005,
                "y": -0.233157,
                "yshift": 15,
                "z": -0.268004
               },
               {
                "font": {
                 "color": "blue"
                },
                "showarrow": false,
                "text": 37,
                "x": 3.808517,
                "y": 0.660133,
                "yshift": 15,
                "z": -0.537047
               },
               {
                "font": {
                 "color": "blue"
                },
                "showarrow": false,
                "text": 38,
                "x": 3.834678,
                "y": 1.477669,
                "yshift": 15,
                "z": -1.801639
               },
               {
                "font": {
                 "color": "blue"
                },
                "showarrow": false,
                "text": 39,
                "x": -3.853045,
                "y": -2.310501,
                "yshift": 15,
                "z": 2.296928
               },
               {
                "font": {
                 "color": "blue"
                },
                "showarrow": false,
                "text": 40,
                "x": -3.543213,
                "y": -2.627407,
                "yshift": 15,
                "z": 0.576823
               },
               {
                "font": {
                 "color": "blue"
                },
                "showarrow": false,
                "text": 41,
                "x": -2.363817,
                "y": -1.741976,
                "yshift": 15,
                "z": 1.521256
               },
               {
                "font": {
                 "color": "blue"
                },
                "showarrow": false,
                "text": 42,
                "x": 3.739856,
                "y": -1.542124,
                "yshift": 15,
                "z": 2.637759
               },
               {
                "font": {
                 "color": "blue"
                },
                "showarrow": false,
                "text": 43,
                "x": 6.09424,
                "y": -2.171642,
                "yshift": 15,
                "z": 2.186158
               },
               {
                "font": {
                 "color": "blue"
                },
                "showarrow": false,
                "text": 44,
                "x": 5.678778,
                "y": -2.993709,
                "yshift": 15,
                "z": 0.685215
               },
               {
                "font": {
                 "color": "blue"
                },
                "showarrow": false,
                "text": 45,
                "x": 6.869218,
                "y": -1.695041,
                "yshift": 15,
                "z": 0.668926
               },
               {
                "font": {
                 "color": "blue"
                },
                "showarrow": false,
                "text": 46,
                "x": 5.659296,
                "y": -0.31481,
                "yshift": 15,
                "z": -0.970251
               },
               {
                "font": {
                 "color": "blue"
                },
                "showarrow": false,
                "text": 47,
                "x": 4.603903,
                "y": 1.107742,
                "yshift": 15,
                "z": -2.477173
               },
               {
                "font": {
                 "color": "blue"
                },
                "showarrow": false,
                "text": 48,
                "x": 2.875534,
                "y": 1.431627,
                "yshift": 15,
                "z": -2.321133
               },
               {
                "font": {
                 "color": "blue"
                },
                "showarrow": false,
                "text": 49,
                "x": 4.046107,
                "y": 2.530154,
                "yshift": 15,
                "z": -1.601378
               },
               {
                "font": {
                 "color": "blue"
                },
                "showarrow": false,
                "text": 50,
                "x": -4.406376,
                "y": 1.384458,
                "yshift": 15,
                "z": 1.96316
               },
               {
                "font": {
                 "color": "blue"
                },
                "showarrow": false,
                "text": 51,
                "x": -4.302318,
                "y": 0.038436,
                "yshift": 15,
                "z": 3.093455
               },
               {
                "font": {
                 "color": "blue"
                },
                "showarrow": false,
                "text": 52,
                "x": -2.842785,
                "y": 0.617849,
                "yshift": 15,
                "z": 2.293379
               },
               {
                "font": {
                 "color": "blue"
                },
                "showarrow": false,
                "text": 53,
                "x": -5.818488,
                "y": -1.575983,
                "yshift": 15,
                "z": 0.071824
               },
               {
                "font": {
                 "color": "blue"
                },
                "showarrow": false,
                "text": 54,
                "x": -6.203922,
                "y": 0.054391,
                "yshift": 15,
                "z": 0.645659
               },
               {
                "font": {
                 "color": "blue"
                },
                "showarrow": false,
                "text": 55,
                "x": -6.045155,
                "y": -1.269174,
                "yshift": 15,
                "z": 1.794989
               },
               {
                "font": {
                 "color": "blue"
                },
                "showarrow": false,
                "text": 56,
                "x": -3.909359,
                "y": 0.430264,
                "yshift": 15,
                "z": 2.153803
               }
              ]
             }
            ],
            "label": "Atom indices",
            "method": "relayout"
           },
           {
            "args": [
             {
              "scene.annotations": [
               {
                "showarrow": false,
                "text": 1.55,
                "x": -3.868291,
                "y": 0.6319495,
                "yshift": 10,
                "z": -0.5290675
               },
               {
                "showarrow": false,
                "text": 1.45,
                "x": -3.58121,
                "y": 1.774343,
                "yshift": 10,
                "z": -0.652084
               },
               {
                "showarrow": false,
                "text": 1.34,
                "x": -2.4922155,
                "y": 1.8298285,
                "yshift": 10,
                "z": -0.45606199999999997
               },
               {
                "showarrow": false,
                "text": 1.26,
                "x": -2.0583075,
                "y": 0.8111045,
                "yshift": 10,
                "z": -0.29739
               },
               {
                "showarrow": false,
                "text": 1.38,
                "x": -0.55653,
                "y": 2.7364575,
                "yshift": 10,
                "z": -0.2110195
               },
               {
                "showarrow": false,
                "text": 1.39,
                "x": 0.15127600000000002,
                "y": 3.6802535,
                "yshift": 10,
                "z": -0.0803435
               },
               {
                "showarrow": false,
                "text": 1.38,
                "x": 1.3141055,
                "y": 3.499503,
                "yshift": 10,
                "z": 0.0986695
               },
               {
                "showarrow": false,
                "text": 1.4,
                "x": 1.729959,
                "y": 2.3712005,
                "yshift": 10,
                "z": 0.1384805
               },
               {
                "showarrow": false,
                "text": 1.33,
                "x": 1.011607,
                "y": 1.4353470000000002,
                "yshift": 10,
                "z": -0.021931000000000006
               },
               {
                "showarrow": false,
                "text": 2.27,
                "x": 0.0850115,
                "y": 0.1366755,
                "yshift": 10,
                "z": -0.420138
               },
               {
                "showarrow": false,
                "text": 2.33,
                "x": -0.7683625,
                "y": -1.8932175,
                "yshift": 10,
                "z": -1.0337665
               },
               {
                "showarrow": false,
                "text": 1.09,
                "x": 1.737748,
                "y": -1.284318,
                "yshift": 10,
                "z": -1.605401
               },
               {
                "showarrow": false,
                "text": 1.51,
                "x": 2.122398,
                "y": -0.0335305,
                "yshift": 10,
                "z": 1.988565
               },
               {
                "showarrow": false,
                "text": 1.5,
                "x": 5.3815085,
                "y": -1.529458,
                "yshift": 10,
                "z": 0.9928855000000001
               },
               {
                "showarrow": false,
                "text": 1.39,
                "x": 4.322761,
                "y": 0.21348799999999998,
                "yshift": 10,
                "z": -0.40252550000000004
               },
               {
                "showarrow": false,
                "text": 1.51,
                "x": 3.8215975,
                "y": 1.0689009999999999,
                "yshift": 10,
                "z": -1.169343
               },
               {
                "showarrow": false,
                "text": 1.47,
                "x": -1.294515,
                "y": 1.7417189999999998,
                "yshift": 10,
                "z": -0.298207
               },
               {
                "showarrow": false,
                "text": 1.98,
                "x": 0.6309260000000001,
                "y": -1.291312,
                "yshift": 10,
                "z": -0.9983985
               },
               {
                "showarrow": false,
                "text": 1.09,
                "x": 1.8012670000000002,
                "y": -1.778998,
                "yshift": 10,
                "z": -0.8623015
               },
               {
                "showarrow": false,
                "text": 1.39,
                "x": 3.2299495,
                "y": -0.4916595,
                "yshift": 10,
                "z": 1.6265695
               },
               {
                "showarrow": false,
                "text": 1.39,
                "x": 4.8334885,
                "y": -0.6340095,
                "yshift": 10,
                "z": 0.29953799999999997
               },
               {
                "showarrow": false,
                "text": 1.09,
                "x": 1.406094,
                "y": -2.1158900000000003,
                "yshift": 10,
                "z": -1.5915005
               },
               {
                "showarrow": false,
                "text": 1.53,
                "x": -3.7883855,
                "y": -1.240146,
                "yshift": 10,
                "z": 1.206114
               },
               {
                "showarrow": false,
                "text": 1.46,
                "x": -2.876093,
                "y": 0.0654765,
                "yshift": 10,
                "z": -0.2754755
               },
               {
                "showarrow": false,
                "text": 1.09,
                "x": 1.117088,
                "y": -0.2870885,
                "yshift": 10,
                "z": 2.269932
               },
               {
                "showarrow": false,
                "text": 1.39,
                "x": 4.294493,
                "y": -0.980398,
                "yshift": 10,
                "z": 1.306286
               },
               {
                "showarrow": false,
                "text": 1.09,
                "x": -3.3760719999999997,
                "y": 0.5240564999999999,
                "yshift": 10,
                "z": 2.223591
               },
               {
                "showarrow": false,
                "text": 1.35,
                "x": -0.11205250000000003,
                "y": 1.6198535,
                "yshift": 10,
                "z": -0.192418
               },
               {
                "showarrow": false,
                "text": 1.09,
                "x": -4.1058385,
                "y": 0.23435,
                "yshift": 10,
                "z": 2.623629
               },
               {
                "showarrow": false,
                "text": 1.53,
                "x": -4.8913725,
                "y": -0.719244,
                "yshift": 10,
                "z": 0.952679
               },
               {
                "showarrow": false,
                "text": 1.09,
                "x": 1.3770075,
                "y": 0.501511,
                "yshift": 10,
                "z": 2.5618375
               },
               {
                "showarrow": false,
                "text": 1.09,
                "x": -4.1578675,
                "y": 0.907361,
                "yshift": 10,
                "z": 2.0584815
               },
               {
                "showarrow": false,
                "text": 2.26,
                "x": -1.1942475000000001,
                "y": -0.3634175,
                "yshift": 10,
                "z": -0.468357
               },
               {
                "showarrow": false,
                "text": 1.09,
                "x": 1.6834015,
                "y": -0.23335450000000002,
                "yshift": 10,
                "z": 2.9457294999999997
               },
               {
                "showarrow": false,
                "text": 1.09,
                "x": 6.0136425,
                "y": -2.097848,
                "yshift": 10,
                "z": 1.6524245
               },
               {
                "showarrow": false,
                "text": 1.09,
                "x": 5.805911500000001,
                "y": -2.5088815,
                "yshift": 10,
                "z": 0.901953
               },
               {
                "showarrow": false,
                "text": 1.09,
                "x": 4.2192905,
                "y": 1.2927054999999998,
                "yshift": 10,
                "z": -2.139406
               },
               {
                "showarrow": false,
                "text": 1.09,
                "x": 6.4011315,
                "y": -1.8595475000000001,
                "yshift": 10,
                "z": 0.8938085
               },
               {
                "showarrow": false,
                "text": 1.08,
                "x": 5.2481505,
                "y": -0.2739835,
                "yshift": 10,
                "z": -0.6191275
               },
               {
                "showarrow": false,
                "text": 1.09,
                "x": 3.355106,
                "y": 1.454648,
                "yshift": 10,
                "z": -2.061386
               },
               {
                "showarrow": false,
                "text": 1.08,
                "x": -0.9213935,
                "y": 3.7379225,
                "yshift": 10,
                "z": -0.228741
               },
               {
                "showarrow": false,
                "text": 1.08,
                "x": 0.8672740000000001,
                "y": 4.47241,
                "yshift": 10,
                "z": 0.048159
               },
               {
                "showarrow": false,
                "text": 1.08,
                "x": 2.3409335000000002,
                "y": 3.2378445,
                "yshift": 10,
                "z": 0.278992
               },
               {
                "showarrow": false,
                "text": 1.48,
                "x": 2.1781675,
                "y": 1.2094420000000001,
                "yshift": 10,
                "z": 0.228054
               },
               {
                "showarrow": false,
                "text": 1.4,
                "x": 2.7187099999999997,
                "y": 0.3400685,
                "yshift": 10,
                "z": 0.9321174999999999
               },
               {
                "showarrow": false,
                "text": 1.09,
                "x": -3.643484,
                "y": -2.102918,
                "yshift": 10,
                "z": 1.8374069999999998
               },
               {
                "showarrow": false,
                "text": 1.09,
                "x": 3.9403924999999997,
                "y": 2.0039115,
                "yshift": 10,
                "z": -1.7015085
               },
               {
                "showarrow": false,
                "text": 1.09,
                "x": -3.488568,
                "y": -2.261371,
                "yshift": 10,
                "z": 0.9773544999999999
               },
               {
                "showarrow": false,
                "text": 1.08,
                "x": 3.749435,
                "y": -1.234029,
                "yshift": 10,
                "z": 2.1916255
               },
               {
                "showarrow": false,
                "text": 1.09,
                "x": -2.89887,
                "y": -1.8186555,
                "yshift": 10,
                "z": 1.449571
               },
               {
                "showarrow": false,
                "text": 1.4,
                "x": 3.272526,
                "y": 0.6988274999999999,
                "yshift": 10,
                "z": -0.09022950000000002
               },
               {
                "showarrow": false,
                "text": 1.09,
                "x": -4.2748314999999995,
                "y": 1.3378364999999999,
                "yshift": 10,
                "z": -1.2743145
               },
               {
                "showarrow": false,
                "text": 1.09,
                "x": -4.553266,
                "y": 1.5051269999999999,
                "yshift": 10,
                "z": -0.446154
               },
               {
                "showarrow": false,
                "text": 1.09,
                "x": -5.7291925,
                "y": -1.214757,
                "yshift": 10,
                "z": 0.47142
               },
               {
                "showarrow": false,
                "text": 1.09,
                "x": -3.6831845,
                "y": -0.44037400000000004,
                "yshift": 10,
                "z": -0.6914915
               },
               {
                "showarrow": false,
                "text": 1.09,
                "x": -5.9219095,
                "y": -0.39957000000000004,
                "yshift": 10,
                "z": 0.7583375
               },
               {
                "showarrow": false,
                "text": 1.54,
                "x": -3.8699649999999997,
                "y": -0.321575,
                "yshift": 10,
                "z": 0.3616055
               },
               {
                "showarrow": false,
                "text": 1.09,
                "x": -5.842526,
                "y": -1.0613525,
                "yshift": 10,
                "z": 1.3330025
               },
               {
                "showarrow": false,
                "text": 1.53,
                "x": -4.0261035,
                "y": -0.07734649999999998,
                "yshift": 10,
                "z": 1.5940725
               }
              ]
             }
            ],
            "label": "Bond lengths",
            "method": "relayout"
           },
           {
            "args": [
             {
              "scene.annotations": [
               {
                "font": {
                 "color": "blue"
                },
                "showarrow": false,
                "text": 1,
                "x": -3.597082,
                "y": -0.058193,
                "yshift": 15,
                "z": -0.311131
               },
               {
                "font": {
                 "color": "blue"
                },
                "showarrow": false,
                "text": 2,
                "x": -4.1395,
                "y": 1.322092,
                "yshift": 15,
                "z": -0.747004
               },
               {
                "font": {
                 "color": "blue"
                },
                "showarrow": false,
                "text": 3,
                "x": -3.02292,
                "y": 2.226594,
                "yshift": 15,
                "z": -0.557164
               },
               {
                "font": {
                 "color": "blue"
                },
                "showarrow": false,
                "text": 4,
                "x": -1.961511,
                "y": 1.433063,
                "yshift": 15,
                "z": -0.35496
               },
               {
                "font": {
                 "color": "blue"
                },
                "showarrow": false,
                "text": 5,
                "x": -2.155104,
                "y": 0.189146,
                "yshift": 15,
                "z": -0.23982
               },
               {
                "font": {
                 "color": "blue"
                },
                "showarrow": false,
                "text": 6,
                "x": -0.627519,
                "y": 2.050375,
                "yshift": 15,
                "z": -0.241454
               },
               {
                "font": {
                 "color": "blue"
                },
                "showarrow": false,
                "text": 7,
                "x": -0.485541,
                "y": 3.42254,
                "yshift": 15,
                "z": -0.180585
               },
               {
                "font": {
                 "color": "blue"
                },
                "showarrow": false,
                "text": 8,
                "x": 0.788093,
                "y": 3.937967,
                "yshift": 15,
                "z": 0.019898
               },
               {
                "font": {
                 "color": "blue"
                },
                "showarrow": false,
                "text": 9,
                "x": 1.840118,
                "y": 3.061039,
                "yshift": 15,
                "z": 0.177441
               },
               {
                "font": {
                 "color": "blue"
                },
                "showarrow": false,
                "text": 10,
                "x": 1.6198,
                "y": 1.681362,
                "yshift": 15,
                "z": 0.09952
               },
               {
                "font": {
                 "color": "blue"
                },
                "showarrow": false,
                "text": 11,
                "x": 0.403414,
                "y": 1.189332,
                "yshift": 15,
                "z": -0.143382
               },
               {
                "font": {
                 "color": "blue"
                },
                "showarrow": false,
                "text": 12,
                "x": -0.233391,
                "y": -0.915981,
                "yshift": 15,
                "z": -0.696894
               },
               {
                "font": {
                 "color": "blue"
                },
                "showarrow": false,
                "text": 13,
                "x": -1.303334,
                "y": -2.870454,
                "yshift": 15,
                "z": -1.370639
               },
               {
                "font": {
                 "color": "blue"
                },
                "showarrow": false,
                "text": 14,
                "x": 1.495243,
                "y": -1.666643,
                "yshift": 15,
                "z": -1.299903
               },
               {
                "font": {
                 "color": "blue"
                },
                "showarrow": false,
                "text": 15,
                "x": 1.980253,
                "y": -0.901993,
                "yshift": 15,
                "z": -1.910899
               },
               {
                "font": {
                 "color": "blue"
                },
                "showarrow": false,
                "text": 16,
                "x": 2.107291,
                "y": -1.891353,
                "yshift": 15,
                "z": -0.4247
               },
               {
                "font": {
                 "color": "blue"
                },
                "showarrow": false,
                "text": 17,
                "x": 1.316945,
                "y": -2.565137,
                "yshift": 15,
                "z": -1.883098
               },
               {
                "font": {
                 "color": "blue"
                },
                "showarrow": false,
                "text": 18,
                "x": -1.357246,
                "y": 4.053305,
                "yshift": 15,
                "z": -0.276897
               },
               {
                "font": {
                 "color": "blue"
                },
                "showarrow": false,
                "text": 19,
                "x": 0.946455,
                "y": 5.006853,
                "yshift": 15,
                "z": 0.07642
               },
               {
                "font": {
                 "color": "blue"
                },
                "showarrow": false,
                "text": 20,
                "x": 2.841749,
                "y": 3.41465,
                "yshift": 15,
                "z": 0.380543
               },
               {
                "font": {
                 "color": "blue"
                },
                "showarrow": false,
                "text": 21,
                "x": 2.736535,
                "y": 0.737522,
                "yshift": 15,
                "z": 0.356588
               },
               {
                "font": {
                 "color": "blue"
                },
                "showarrow": false,
                "text": 22,
                "x": -4.410163,
                "y": 1.353581,
                "yshift": 15,
                "z": -1.801625
               },
               {
                "font": {
                 "color": "blue"
                },
                "showarrow": false,
                "text": 23,
                "x": -4.967032,
                "y": 1.688162,
                "yshift": 15,
                "z": -0.145304
               },
               {
                "font": {
                 "color": "blue"
                },
                "showarrow": false,
                "text": 24,
                "x": -3.769287,
                "y": -0.822555,
                "yshift": 15,
                "z": -1.071852
               },
               {
                "font": {
                 "color": "blue"
                },
                "showarrow": false,
                "text": 25,
                "x": -4.142848,
                "y": -0.584957,
                "yshift": 15,
                "z": 1.034342
               },
               {
                "font": {
                 "color": "blue"
                },
                "showarrow": false,
                "text": 26,
                "x": 1.822892,
                "y": -0.457033,
                "yshift": 15,
                "z": 3.421976
               },
               {
                "font": {
                 "color": "blue"
                },
                "showarrow": false,
                "text": 27,
                "x": 1.210104,
                "y": 1.012698,
                "yshift": 15,
                "z": 2.654192
               },
               {
                "font": {
                 "color": "blue"
                },
                "showarrow": false,
                "text": 28,
                "x": -3.433923,
                "y": -1.895335,
                "yshift": 15,
                "z": 1.377886
               },
               {
                "font": {
                 "color": "blue"
                },
                "showarrow": false,
                "text": 29,
                "x": 0.690265,
                "y": -0.564501,
                "yshift": 15,
                "z": 2.070381
               },
               {
                "font": {
                 "color": "blue"
                },
                "showarrow": false,
                "text": 30,
                "x": 3.759014,
                "y": -0.925934,
                "yshift": 15,
                "z": 1.745492
               },
               {
                "font": {
                 "color": "blue"
                },
                "showarrow": false,
                "text": 31,
                "x": -5.639897,
                "y": -0.853531,
                "yshift": 15,
                "z": 0.871016
               },
               {
                "font": {
                 "color": "blue"
                },
                "showarrow": false,
                "text": 32,
                "x": 2.700885,
                "y": -0.057385,
                "yshift": 15,
                "z": 1.507647
               },
               {
                "font": {
                 "color": "blue"
                },
                "showarrow": false,
                "text": 33,
                "x": 1.543911,
                "y": -0.009676,
                "yshift": 15,
                "z": 2.469483
               },
               {
                "font": {
                 "color": "blue"
                },
                "showarrow": false,
                "text": 34,
                "x": 4.829972,
                "y": -1.034862,
                "yshift": 15,
                "z": 0.86708
               },
               {
                "font": {
                 "color": "blue"
                },
                "showarrow": false,
                "text": 35,
                "x": 5.933045,
                "y": -2.024054,
                "yshift": 15,
                "z": 1.118691
               },
               {
                "font": {
                 "color": "blue"
                },
                "showarrow": false,
                "text": 36,
                "x": 4.837005,
                "y": -0.233157,
                "yshift": 15,
                "z": -0.268004
               },
               {
                "font": {
                 "color": "blue"
                },
                "showarrow": false,
                "text": 37,
                "x": 3.808517,
                "y": 0.660133,
                "yshift": 15,
                "z": -0.537047
               },
               {
                "font": {
                 "color": "blue"
                },
                "showarrow": false,
                "text": 38,
                "x": 3.834678,
                "y": 1.477669,
                "yshift": 15,
                "z": -1.801639
               },
               {
                "font": {
                 "color": "blue"
                },
                "showarrow": false,
                "text": 39,
                "x": -3.853045,
                "y": -2.310501,
                "yshift": 15,
                "z": 2.296928
               },
               {
                "font": {
                 "color": "blue"
                },
                "showarrow": false,
                "text": 40,
                "x": -3.543213,
                "y": -2.627407,
                "yshift": 15,
                "z": 0.576823
               },
               {
                "font": {
                 "color": "blue"
                },
                "showarrow": false,
                "text": 41,
                "x": -2.363817,
                "y": -1.741976,
                "yshift": 15,
                "z": 1.521256
               },
               {
                "font": {
                 "color": "blue"
                },
                "showarrow": false,
                "text": 42,
                "x": 3.739856,
                "y": -1.542124,
                "yshift": 15,
                "z": 2.637759
               },
               {
                "font": {
                 "color": "blue"
                },
                "showarrow": false,
                "text": 43,
                "x": 6.09424,
                "y": -2.171642,
                "yshift": 15,
                "z": 2.186158
               },
               {
                "font": {
                 "color": "blue"
                },
                "showarrow": false,
                "text": 44,
                "x": 5.678778,
                "y": -2.993709,
                "yshift": 15,
                "z": 0.685215
               },
               {
                "font": {
                 "color": "blue"
                },
                "showarrow": false,
                "text": 45,
                "x": 6.869218,
                "y": -1.695041,
                "yshift": 15,
                "z": 0.668926
               },
               {
                "font": {
                 "color": "blue"
                },
                "showarrow": false,
                "text": 46,
                "x": 5.659296,
                "y": -0.31481,
                "yshift": 15,
                "z": -0.970251
               },
               {
                "font": {
                 "color": "blue"
                },
                "showarrow": false,
                "text": 47,
                "x": 4.603903,
                "y": 1.107742,
                "yshift": 15,
                "z": -2.477173
               },
               {
                "font": {
                 "color": "blue"
                },
                "showarrow": false,
                "text": 48,
                "x": 2.875534,
                "y": 1.431627,
                "yshift": 15,
                "z": -2.321133
               },
               {
                "font": {
                 "color": "blue"
                },
                "showarrow": false,
                "text": 49,
                "x": 4.046107,
                "y": 2.530154,
                "yshift": 15,
                "z": -1.601378
               },
               {
                "font": {
                 "color": "blue"
                },
                "showarrow": false,
                "text": 50,
                "x": -4.406376,
                "y": 1.384458,
                "yshift": 15,
                "z": 1.96316
               },
               {
                "font": {
                 "color": "blue"
                },
                "showarrow": false,
                "text": 51,
                "x": -4.302318,
                "y": 0.038436,
                "yshift": 15,
                "z": 3.093455
               },
               {
                "font": {
                 "color": "blue"
                },
                "showarrow": false,
                "text": 52,
                "x": -2.842785,
                "y": 0.617849,
                "yshift": 15,
                "z": 2.293379
               },
               {
                "font": {
                 "color": "blue"
                },
                "showarrow": false,
                "text": 53,
                "x": -5.818488,
                "y": -1.575983,
                "yshift": 15,
                "z": 0.071824
               },
               {
                "font": {
                 "color": "blue"
                },
                "showarrow": false,
                "text": 54,
                "x": -6.203922,
                "y": 0.054391,
                "yshift": 15,
                "z": 0.645659
               },
               {
                "font": {
                 "color": "blue"
                },
                "showarrow": false,
                "text": 55,
                "x": -6.045155,
                "y": -1.269174,
                "yshift": 15,
                "z": 1.794989
               },
               {
                "font": {
                 "color": "blue"
                },
                "showarrow": false,
                "text": 56,
                "x": -3.909359,
                "y": 0.430264,
                "yshift": 15,
                "z": 2.153803
               },
               {
                "showarrow": false,
                "text": 1.55,
                "x": -3.868291,
                "y": 0.6319495,
                "yshift": 10,
                "z": -0.5290675
               },
               {
                "showarrow": false,
                "text": 1.45,
                "x": -3.58121,
                "y": 1.774343,
                "yshift": 10,
                "z": -0.652084
               },
               {
                "showarrow": false,
                "text": 1.34,
                "x": -2.4922155,
                "y": 1.8298285,
                "yshift": 10,
                "z": -0.45606199999999997
               },
               {
                "showarrow": false,
                "text": 1.26,
                "x": -2.0583075,
                "y": 0.8111045,
                "yshift": 10,
                "z": -0.29739
               },
               {
                "showarrow": false,
                "text": 1.38,
                "x": -0.55653,
                "y": 2.7364575,
                "yshift": 10,
                "z": -0.2110195
               },
               {
                "showarrow": false,
                "text": 1.39,
                "x": 0.15127600000000002,
                "y": 3.6802535,
                "yshift": 10,
                "z": -0.0803435
               },
               {
                "showarrow": false,
                "text": 1.38,
                "x": 1.3141055,
                "y": 3.499503,
                "yshift": 10,
                "z": 0.0986695
               },
               {
                "showarrow": false,
                "text": 1.4,
                "x": 1.729959,
                "y": 2.3712005,
                "yshift": 10,
                "z": 0.1384805
               },
               {
                "showarrow": false,
                "text": 1.33,
                "x": 1.011607,
                "y": 1.4353470000000002,
                "yshift": 10,
                "z": -0.021931000000000006
               },
               {
                "showarrow": false,
                "text": 2.27,
                "x": 0.0850115,
                "y": 0.1366755,
                "yshift": 10,
                "z": -0.420138
               },
               {
                "showarrow": false,
                "text": 2.33,
                "x": -0.7683625,
                "y": -1.8932175,
                "yshift": 10,
                "z": -1.0337665
               },
               {
                "showarrow": false,
                "text": 1.09,
                "x": 1.737748,
                "y": -1.284318,
                "yshift": 10,
                "z": -1.605401
               },
               {
                "showarrow": false,
                "text": 1.51,
                "x": 2.122398,
                "y": -0.0335305,
                "yshift": 10,
                "z": 1.988565
               },
               {
                "showarrow": false,
                "text": 1.5,
                "x": 5.3815085,
                "y": -1.529458,
                "yshift": 10,
                "z": 0.9928855000000001
               },
               {
                "showarrow": false,
                "text": 1.39,
                "x": 4.322761,
                "y": 0.21348799999999998,
                "yshift": 10,
                "z": -0.40252550000000004
               },
               {
                "showarrow": false,
                "text": 1.51,
                "x": 3.8215975,
                "y": 1.0689009999999999,
                "yshift": 10,
                "z": -1.169343
               },
               {
                "showarrow": false,
                "text": 1.47,
                "x": -1.294515,
                "y": 1.7417189999999998,
                "yshift": 10,
                "z": -0.298207
               },
               {
                "showarrow": false,
                "text": 1.98,
                "x": 0.6309260000000001,
                "y": -1.291312,
                "yshift": 10,
                "z": -0.9983985
               },
               {
                "showarrow": false,
                "text": 1.09,
                "x": 1.8012670000000002,
                "y": -1.778998,
                "yshift": 10,
                "z": -0.8623015
               },
               {
                "showarrow": false,
                "text": 1.39,
                "x": 3.2299495,
                "y": -0.4916595,
                "yshift": 10,
                "z": 1.6265695
               },
               {
                "showarrow": false,
                "text": 1.39,
                "x": 4.8334885,
                "y": -0.6340095,
                "yshift": 10,
                "z": 0.29953799999999997
               },
               {
                "showarrow": false,
                "text": 1.09,
                "x": 1.406094,
                "y": -2.1158900000000003,
                "yshift": 10,
                "z": -1.5915005
               },
               {
                "showarrow": false,
                "text": 1.53,
                "x": -3.7883855,
                "y": -1.240146,
                "yshift": 10,
                "z": 1.206114
               },
               {
                "showarrow": false,
                "text": 1.46,
                "x": -2.876093,
                "y": 0.0654765,
                "yshift": 10,
                "z": -0.2754755
               },
               {
                "showarrow": false,
                "text": 1.09,
                "x": 1.117088,
                "y": -0.2870885,
                "yshift": 10,
                "z": 2.269932
               },
               {
                "showarrow": false,
                "text": 1.39,
                "x": 4.294493,
                "y": -0.980398,
                "yshift": 10,
                "z": 1.306286
               },
               {
                "showarrow": false,
                "text": 1.09,
                "x": -3.3760719999999997,
                "y": 0.5240564999999999,
                "yshift": 10,
                "z": 2.223591
               },
               {
                "showarrow": false,
                "text": 1.35,
                "x": -0.11205250000000003,
                "y": 1.6198535,
                "yshift": 10,
                "z": -0.192418
               },
               {
                "showarrow": false,
                "text": 1.09,
                "x": -4.1058385,
                "y": 0.23435,
                "yshift": 10,
                "z": 2.623629
               },
               {
                "showarrow": false,
                "text": 1.53,
                "x": -4.8913725,
                "y": -0.719244,
                "yshift": 10,
                "z": 0.952679
               },
               {
                "showarrow": false,
                "text": 1.09,
                "x": 1.3770075,
                "y": 0.501511,
                "yshift": 10,
                "z": 2.5618375
               },
               {
                "showarrow": false,
                "text": 1.09,
                "x": -4.1578675,
                "y": 0.907361,
                "yshift": 10,
                "z": 2.0584815
               },
               {
                "showarrow": false,
                "text": 2.26,
                "x": -1.1942475000000001,
                "y": -0.3634175,
                "yshift": 10,
                "z": -0.468357
               },
               {
                "showarrow": false,
                "text": 1.09,
                "x": 1.6834015,
                "y": -0.23335450000000002,
                "yshift": 10,
                "z": 2.9457294999999997
               },
               {
                "showarrow": false,
                "text": 1.09,
                "x": 6.0136425,
                "y": -2.097848,
                "yshift": 10,
                "z": 1.6524245
               },
               {
                "showarrow": false,
                "text": 1.09,
                "x": 5.805911500000001,
                "y": -2.5088815,
                "yshift": 10,
                "z": 0.901953
               },
               {
                "showarrow": false,
                "text": 1.09,
                "x": 4.2192905,
                "y": 1.2927054999999998,
                "yshift": 10,
                "z": -2.139406
               },
               {
                "showarrow": false,
                "text": 1.09,
                "x": 6.4011315,
                "y": -1.8595475000000001,
                "yshift": 10,
                "z": 0.8938085
               },
               {
                "showarrow": false,
                "text": 1.08,
                "x": 5.2481505,
                "y": -0.2739835,
                "yshift": 10,
                "z": -0.6191275
               },
               {
                "showarrow": false,
                "text": 1.09,
                "x": 3.355106,
                "y": 1.454648,
                "yshift": 10,
                "z": -2.061386
               },
               {
                "showarrow": false,
                "text": 1.08,
                "x": -0.9213935,
                "y": 3.7379225,
                "yshift": 10,
                "z": -0.228741
               },
               {
                "showarrow": false,
                "text": 1.08,
                "x": 0.8672740000000001,
                "y": 4.47241,
                "yshift": 10,
                "z": 0.048159
               },
               {
                "showarrow": false,
                "text": 1.08,
                "x": 2.3409335000000002,
                "y": 3.2378445,
                "yshift": 10,
                "z": 0.278992
               },
               {
                "showarrow": false,
                "text": 1.48,
                "x": 2.1781675,
                "y": 1.2094420000000001,
                "yshift": 10,
                "z": 0.228054
               },
               {
                "showarrow": false,
                "text": 1.4,
                "x": 2.7187099999999997,
                "y": 0.3400685,
                "yshift": 10,
                "z": 0.9321174999999999
               },
               {
                "showarrow": false,
                "text": 1.09,
                "x": -3.643484,
                "y": -2.102918,
                "yshift": 10,
                "z": 1.8374069999999998
               },
               {
                "showarrow": false,
                "text": 1.09,
                "x": 3.9403924999999997,
                "y": 2.0039115,
                "yshift": 10,
                "z": -1.7015085
               },
               {
                "showarrow": false,
                "text": 1.09,
                "x": -3.488568,
                "y": -2.261371,
                "yshift": 10,
                "z": 0.9773544999999999
               },
               {
                "showarrow": false,
                "text": 1.08,
                "x": 3.749435,
                "y": -1.234029,
                "yshift": 10,
                "z": 2.1916255
               },
               {
                "showarrow": false,
                "text": 1.09,
                "x": -2.89887,
                "y": -1.8186555,
                "yshift": 10,
                "z": 1.449571
               },
               {
                "showarrow": false,
                "text": 1.4,
                "x": 3.272526,
                "y": 0.6988274999999999,
                "yshift": 10,
                "z": -0.09022950000000002
               },
               {
                "showarrow": false,
                "text": 1.09,
                "x": -4.2748314999999995,
                "y": 1.3378364999999999,
                "yshift": 10,
                "z": -1.2743145
               },
               {
                "showarrow": false,
                "text": 1.09,
                "x": -4.553266,
                "y": 1.5051269999999999,
                "yshift": 10,
                "z": -0.446154
               },
               {
                "showarrow": false,
                "text": 1.09,
                "x": -5.7291925,
                "y": -1.214757,
                "yshift": 10,
                "z": 0.47142
               },
               {
                "showarrow": false,
                "text": 1.09,
                "x": -3.6831845,
                "y": -0.44037400000000004,
                "yshift": 10,
                "z": -0.6914915
               },
               {
                "showarrow": false,
                "text": 1.09,
                "x": -5.9219095,
                "y": -0.39957000000000004,
                "yshift": 10,
                "z": 0.7583375
               },
               {
                "showarrow": false,
                "text": 1.54,
                "x": -3.8699649999999997,
                "y": -0.321575,
                "yshift": 10,
                "z": 0.3616055
               },
               {
                "showarrow": false,
                "text": 1.09,
                "x": -5.842526,
                "y": -1.0613525,
                "yshift": 10,
                "z": 1.3330025
               },
               {
                "showarrow": false,
                "text": 1.53,
                "x": -4.0261035,
                "y": -0.07734649999999998,
                "yshift": 10,
                "z": 1.5940725
               }
              ]
             }
            ],
            "label": "Atom indices & Bond lengths",
            "method": "relayout"
           },
           {
            "args": [
             {
              "scene.annotations": []
             }
            ],
            "label": "Hide all",
            "method": "relayout"
           }
          ],
          "direction": "down",
          "xanchor": "left",
          "yanchor": "top"
         }
        ]
       }
      }
     },
     "metadata": {},
     "output_type": "display_data"
    },
    {
     "name": "stdout",
     "output_type": "stream",
     "text": [
      "{frozenset({0, 1}): 1.55, frozenset({1, 2}): 1.45, frozenset({2, 3}): 1.34, frozenset({3, 4}): 1.26, frozenset({5, 6}): 1.38, frozenset({6, 7}): 1.39, frozenset({8, 7}): 1.38, frozenset({8, 9}): 1.4, frozenset({9, 10}): 1.34, frozenset({10, 11}): 2.27, frozenset({11, 12}): 2.33, frozenset({13, 14}): 1.09, frozenset({26, 27}): 1.09, frozenset({29, 30}): 1.09, frozenset({32, 31}): 1.41, frozenset({3, 5}): 1.48, frozenset({11, 13}): 1.98, frozenset({13, 15}): 1.09, frozenset({24, 26}): 1.53, frozenset({16, 13}): 1.09, frozenset({25, 28}): 1.39, frozenset({0, 4}): 1.46, frozenset({10, 5}): 1.35, frozenset({25, 20}): 1.39, frozenset({24, 30}): 1.53, frozenset({11, 4}): 2.26, frozenset({32, 39}): 1.09, frozenset({50, 43}): 1.08, frozenset({32, 40}): 1.09, frozenset({26, 35}): 1.09, frozenset({32, 41}): 1.09, frozenset({33, 42}): 1.08, frozenset({24, 34}): 1.53, frozenset({26, 36}): 1.09, frozenset({28, 38}): 1.08, frozenset({34, 44}): 1.09, frozenset({17, 6}): 1.08, frozenset({18, 7}): 1.08, frozenset({8, 19}): 1.08, frozenset({9, 20}): 1.47, frozenset({34, 45}): 1.09, frozenset({25, 37}): 1.08, frozenset({34, 46}): 1.09, frozenset({33, 49}): 1.4, frozenset({30, 47}): 1.09, frozenset({33, 50}): 1.38, frozenset({48, 30}): 1.09, frozenset({49, 31}): 1.35, frozenset({1, 21}): 1.09, frozenset({1, 22}): 1.09, frozenset({49, 28}): 1.39, frozenset({50, 20}): 1.4, frozenset({0, 23}): 1.09, frozenset({0, 24}): 1.54}\n"
     ]
    },
    {
     "data": {
      "application/vnd.plotly.v1+json": {
       "config": {
        "plotlyServerURL": "https://plot.ly"
       },
       "data": [
        {
         "marker": {
          "color": [
           "black",
           "black",
           "red",
           "black",
           "blue",
           "black",
           "black",
           "black",
           "black",
           "black",
           "blue",
           "green",
           "green",
           "black",
           "white",
           "white",
           "white",
           "white",
           "white",
           "white",
           "black",
           "white",
           "white",
           "white",
           "black",
           "black",
           "black",
           "white",
           "black",
           "white",
           "black",
           "red",
           "black",
           "black",
           "black",
           "white",
           "white",
           "white",
           "white",
           "white",
           "white",
           "white",
           "white",
           "white",
           "white",
           "white",
           "white",
           "white",
           "white",
           "black",
           "black"
          ],
          "line": {
           "color": "lightgray",
           "width": 2
          },
          "opacity": 0.8,
          "size": 5,
          "symbol": "circle"
         },
         "mode": "markers",
         "name": "",
         "text": [
          "C",
          "C",
          "O",
          "C",
          "N",
          "C",
          "C",
          "C",
          "C",
          "C",
          "N",
          "Pd",
          "Cl",
          "C",
          "H",
          "H",
          "H",
          "H",
          "H",
          "H",
          "C",
          "H",
          "H",
          "H",
          "C",
          "C",
          "C",
          "H",
          "C",
          "H",
          "C",
          "O",
          "C",
          "C",
          "C",
          "H",
          "H",
          "H",
          "H",
          "H",
          "H",
          "H",
          "H",
          "H",
          "H",
          "H",
          "H",
          "H",
          "H",
          "C",
          "C"
         ],
         "type": "scatter3d",
         "x": [
          -3.653875,
          -4.309805,
          -3.235943,
          -2.118795,
          -2.229552,
          -0.819307,
          -0.755628,
          0.498087,
          1.606556,
          1.463296,
          0.263916,
          -0.28631,
          -1.27389,
          1.415752,
          2.028038,
          1.924577,
          1.189089,
          -1.666057,
          0.598201,
          2.589813,
          2.630353,
          -4.675483,
          -5.100673,
          -3.809767,
          -4.09915,
          3.869252,
          -3.870469,
          -4.435968,
          4.971089,
          -6.21079,
          -5.583511,
          5.841364,
          7.104912,
          3.597933,
          -3.294935,
          -2.81216,
          -4.187674,
          3.977693,
          5.914837,
          7.754652,
          7.048111,
          7.508561,
          3.517851,
          1.547985,
          -3.641703,
          -2.230911,
          -3.398353,
          -5.758173,
          -5.917247,
          4.836379,
          2.509873
         ],
         "y": [
          -0.190447,
          1.152175,
          2.121777,
          1.398642,
          0.149489,
          2.0975,
          3.474808,
          4.070162,
          3.270785,
          1.877274,
          1.304783,
          -0.830743,
          -2.833552,
          -1.464281,
          -0.593632,
          -2.095146,
          -2.04175,
          4.048738,
          5.146537,
          3.702075,
          1.022752,
          1.153804,
          1.478603,
          -0.960048,
          -0.765206,
          1.285756,
          0.247589,
          1.170651,
          0.48701,
          -0.24722,
          -1.12229,
          -1.41814,
          -1.212762,
          -0.845647,
          -2.034181,
          0.501035,
          -0.180316,
          2.104195,
          0.702346,
          -1.988101,
          -1.305394,
          -0.231098,
          -1.682735,
          -0.276658,
          -2.489146,
          -1.815607,
          -2.759011,
          -1.84509,
          -1.571787,
          -0.583825,
          -0.057426
         ],
         "z": [
          -0.108061,
          -0.508397,
          -0.427058,
          -0.26598,
          -0.106095,
          -0.266355,
          -0.328629,
          -0.261793,
          -0.092469,
          -0.032146,
          -0.167759,
          -0.725925,
          -1.382489,
          -1.513277,
          -1.754551,
          -0.784174,
          -2.405713,
          -0.419843,
          -0.308093,
          0.032211,
          0.252028,
          -1.534139,
          0.161924,
          -0.867554,
          1.253517,
          -0.316569,
          2.37577,
          2.227253,
          -0.042705,
          0.974931,
          1.159878,
          1.177712,
          0.5841,
          1.427747,
          1.538524,
          2.461084,
          3.328243,
          -1.018106,
          -0.521061,
          0.979826,
          -0.503396,
          0.845553,
          2.107874,
          1.577477,
          2.468793,
          1.633161,
          0.729951,
          0.360083,
          2.096544,
          0.836916,
          1.130954
         ]
        },
        {
         "hoverinfo": "none",
         "line": {
          "width": 3
         },
         "marker": {
          "color": "black",
          "opacity": 1,
          "size": 7
         },
         "mode": "lines",
         "type": "scatter3d",
         "x": [
          -3.653875,
          -4.309805,
          null,
          -4.309805,
          -3.235943,
          null,
          -3.235943,
          -2.118795,
          null,
          -2.118795,
          -2.229552,
          null,
          -0.819307,
          -0.755628,
          null,
          -0.755628,
          0.498087,
          null,
          1.606556,
          0.498087,
          null,
          1.606556,
          1.463296,
          null,
          1.463296,
          0.263916,
          null,
          0.263916,
          -0.28631,
          null,
          -0.28631,
          -1.27389,
          null,
          1.415752,
          2.028038,
          null,
          -3.870469,
          -4.435968,
          null,
          -6.21079,
          -5.583511,
          null,
          7.104912,
          5.841364,
          null,
          -2.118795,
          -0.819307,
          null,
          -0.28631,
          1.415752,
          null,
          1.415752,
          1.924577,
          null,
          -4.09915,
          -3.870469,
          null,
          1.189089,
          1.415752,
          null,
          3.869252,
          4.971089,
          null,
          -3.653875,
          -2.229552,
          null,
          0.263916,
          -0.819307,
          null,
          3.869252,
          2.630353,
          null,
          -4.09915,
          -5.583511,
          null,
          -0.28631,
          -2.229552,
          null,
          7.104912,
          7.754652,
          null,
          2.509873,
          1.547985,
          null,
          7.104912,
          7.048111,
          null,
          -3.870469,
          -2.81216,
          null,
          7.104912,
          7.508561,
          null,
          3.597933,
          3.517851,
          null,
          -4.09915,
          -3.294935,
          null,
          -3.870469,
          -4.187674,
          null,
          4.971089,
          5.914837,
          null,
          -3.294935,
          -3.641703,
          null,
          -1.666057,
          -0.755628,
          null,
          0.598201,
          0.498087,
          null,
          1.606556,
          2.589813,
          null,
          1.463296,
          2.630353,
          null,
          -3.294935,
          -2.230911,
          null,
          3.869252,
          3.977693,
          null,
          -3.294935,
          -3.398353,
          null,
          3.597933,
          4.836379,
          null,
          -5.583511,
          -5.758173,
          null,
          3.597933,
          2.509873,
          null,
          -5.917247,
          -5.583511,
          null,
          4.836379,
          5.841364,
          null,
          -4.309805,
          -4.675483,
          null,
          -4.309805,
          -5.100673,
          null,
          4.836379,
          4.971089,
          null,
          2.509873,
          2.630353,
          null,
          -3.653875,
          -3.809767,
          null,
          -3.653875,
          -4.09915,
          null
         ],
         "y": [
          -0.190447,
          1.152175,
          null,
          1.152175,
          2.121777,
          null,
          2.121777,
          1.398642,
          null,
          1.398642,
          0.149489,
          null,
          2.0975,
          3.474808,
          null,
          3.474808,
          4.070162,
          null,
          3.270785,
          4.070162,
          null,
          3.270785,
          1.877274,
          null,
          1.877274,
          1.304783,
          null,
          1.304783,
          -0.830743,
          null,
          -0.830743,
          -2.833552,
          null,
          -1.464281,
          -0.593632,
          null,
          0.247589,
          1.170651,
          null,
          -0.24722,
          -1.12229,
          null,
          -1.212762,
          -1.41814,
          null,
          1.398642,
          2.0975,
          null,
          -0.830743,
          -1.464281,
          null,
          -1.464281,
          -2.095146,
          null,
          -0.765206,
          0.247589,
          null,
          -2.04175,
          -1.464281,
          null,
          1.285756,
          0.48701,
          null,
          -0.190447,
          0.149489,
          null,
          1.304783,
          2.0975,
          null,
          1.285756,
          1.022752,
          null,
          -0.765206,
          -1.12229,
          null,
          -0.830743,
          0.149489,
          null,
          -1.212762,
          -1.988101,
          null,
          -0.057426,
          -0.276658,
          null,
          -1.212762,
          -1.305394,
          null,
          0.247589,
          0.501035,
          null,
          -1.212762,
          -0.231098,
          null,
          -0.845647,
          -1.682735,
          null,
          -0.765206,
          -2.034181,
          null,
          0.247589,
          -0.180316,
          null,
          0.48701,
          0.702346,
          null,
          -2.034181,
          -2.489146,
          null,
          4.048738,
          3.474808,
          null,
          5.146537,
          4.070162,
          null,
          3.270785,
          3.702075,
          null,
          1.877274,
          1.022752,
          null,
          -2.034181,
          -1.815607,
          null,
          1.285756,
          2.104195,
          null,
          -2.034181,
          -2.759011,
          null,
          -0.845647,
          -0.583825,
          null,
          -1.12229,
          -1.84509,
          null,
          -0.845647,
          -0.057426,
          null,
          -1.571787,
          -1.12229,
          null,
          -0.583825,
          -1.41814,
          null,
          1.152175,
          1.153804,
          null,
          1.152175,
          1.478603,
          null,
          -0.583825,
          0.48701,
          null,
          -0.057426,
          1.022752,
          null,
          -0.190447,
          -0.960048,
          null,
          -0.190447,
          -0.765206,
          null
         ],
         "z": [
          -0.108061,
          -0.508397,
          null,
          -0.508397,
          -0.427058,
          null,
          -0.427058,
          -0.26598,
          null,
          -0.26598,
          -0.106095,
          null,
          -0.266355,
          -0.328629,
          null,
          -0.328629,
          -0.261793,
          null,
          -0.092469,
          -0.261793,
          null,
          -0.092469,
          -0.032146,
          null,
          -0.032146,
          -0.167759,
          null,
          -0.167759,
          -0.725925,
          null,
          -0.725925,
          -1.382489,
          null,
          -1.513277,
          -1.754551,
          null,
          2.37577,
          2.227253,
          null,
          0.974931,
          1.159878,
          null,
          0.5841,
          1.177712,
          null,
          -0.26598,
          -0.266355,
          null,
          -0.725925,
          -1.513277,
          null,
          -1.513277,
          -0.784174,
          null,
          1.253517,
          2.37577,
          null,
          -2.405713,
          -1.513277,
          null,
          -0.316569,
          -0.042705,
          null,
          -0.108061,
          -0.106095,
          null,
          -0.167759,
          -0.266355,
          null,
          -0.316569,
          0.252028,
          null,
          1.253517,
          1.159878,
          null,
          -0.725925,
          -0.106095,
          null,
          0.5841,
          0.979826,
          null,
          1.130954,
          1.577477,
          null,
          0.5841,
          -0.503396,
          null,
          2.37577,
          2.461084,
          null,
          0.5841,
          0.845553,
          null,
          1.427747,
          2.107874,
          null,
          1.253517,
          1.538524,
          null,
          2.37577,
          3.328243,
          null,
          -0.042705,
          -0.521061,
          null,
          1.538524,
          2.468793,
          null,
          -0.419843,
          -0.328629,
          null,
          -0.308093,
          -0.261793,
          null,
          -0.092469,
          0.032211,
          null,
          -0.032146,
          0.252028,
          null,
          1.538524,
          1.633161,
          null,
          -0.316569,
          -1.018106,
          null,
          1.538524,
          0.729951,
          null,
          1.427747,
          0.836916,
          null,
          1.159878,
          0.360083,
          null,
          1.427747,
          1.130954,
          null,
          2.096544,
          1.159878,
          null,
          0.836916,
          1.177712,
          null,
          -0.508397,
          -1.534139,
          null,
          -0.508397,
          0.161924,
          null,
          0.836916,
          -0.042705,
          null,
          1.130954,
          0.252028,
          null,
          -0.108061,
          -0.867554,
          null,
          -0.108061,
          1.253517,
          null
         ]
        }
       ],
       "layout": {
        "margin": {
         "b": 0,
         "l": 0,
         "r": 0,
         "t": 0
        },
        "scene": {
         "annotations": [
          {
           "font": {
            "color": "blue"
           },
           "showarrow": false,
           "text": "1",
           "x": -3.653875,
           "y": -0.190447,
           "yshift": 15,
           "z": -0.108061
          },
          {
           "font": {
            "color": "blue"
           },
           "showarrow": false,
           "text": "2",
           "x": -4.309805,
           "y": 1.152175,
           "yshift": 15,
           "z": -0.508397
          },
          {
           "font": {
            "color": "blue"
           },
           "showarrow": false,
           "text": "3",
           "x": -3.235943,
           "y": 2.121777,
           "yshift": 15,
           "z": -0.427058
          },
          {
           "font": {
            "color": "blue"
           },
           "showarrow": false,
           "text": "4",
           "x": -2.118795,
           "y": 1.398642,
           "yshift": 15,
           "z": -0.26598
          },
          {
           "font": {
            "color": "blue"
           },
           "showarrow": false,
           "text": "5",
           "x": -2.229552,
           "y": 0.149489,
           "yshift": 15,
           "z": -0.106095
          },
          {
           "font": {
            "color": "blue"
           },
           "showarrow": false,
           "text": "6",
           "x": -0.819307,
           "y": 2.0975,
           "yshift": 15,
           "z": -0.266355
          },
          {
           "font": {
            "color": "blue"
           },
           "showarrow": false,
           "text": "7",
           "x": -0.755628,
           "y": 3.474808,
           "yshift": 15,
           "z": -0.328629
          },
          {
           "font": {
            "color": "blue"
           },
           "showarrow": false,
           "text": "8",
           "x": 0.498087,
           "y": 4.070162,
           "yshift": 15,
           "z": -0.261793
          },
          {
           "font": {
            "color": "blue"
           },
           "showarrow": false,
           "text": "9",
           "x": 1.606556,
           "y": 3.270785,
           "yshift": 15,
           "z": -0.092469
          },
          {
           "font": {
            "color": "blue"
           },
           "showarrow": false,
           "text": "10",
           "x": 1.463296,
           "y": 1.877274,
           "yshift": 15,
           "z": -0.032146
          },
          {
           "font": {
            "color": "blue"
           },
           "showarrow": false,
           "text": "11",
           "x": 0.263916,
           "y": 1.304783,
           "yshift": 15,
           "z": -0.167759
          },
          {
           "font": {
            "color": "blue"
           },
           "showarrow": false,
           "text": "12",
           "x": -0.28631,
           "y": -0.830743,
           "yshift": 15,
           "z": -0.725925
          },
          {
           "font": {
            "color": "blue"
           },
           "showarrow": false,
           "text": "13",
           "x": -1.27389,
           "y": -2.833552,
           "yshift": 15,
           "z": -1.382489
          },
          {
           "font": {
            "color": "blue"
           },
           "showarrow": false,
           "text": "14",
           "x": 1.415752,
           "y": -1.464281,
           "yshift": 15,
           "z": -1.513277
          },
          {
           "font": {
            "color": "blue"
           },
           "showarrow": false,
           "text": "15",
           "x": 2.028038,
           "y": -0.593632,
           "yshift": 15,
           "z": -1.754551
          },
          {
           "font": {
            "color": "blue"
           },
           "showarrow": false,
           "text": "16",
           "x": 1.924577,
           "y": -2.095146,
           "yshift": 15,
           "z": -0.784174
          },
          {
           "font": {
            "color": "blue"
           },
           "showarrow": false,
           "text": "17",
           "x": 1.189089,
           "y": -2.04175,
           "yshift": 15,
           "z": -2.405713
          },
          {
           "font": {
            "color": "blue"
           },
           "showarrow": false,
           "text": "18",
           "x": -1.666057,
           "y": 4.048738,
           "yshift": 15,
           "z": -0.419843
          },
          {
           "font": {
            "color": "blue"
           },
           "showarrow": false,
           "text": "19",
           "x": 0.598201,
           "y": 5.146537,
           "yshift": 15,
           "z": -0.308093
          },
          {
           "font": {
            "color": "blue"
           },
           "showarrow": false,
           "text": "20",
           "x": 2.589813,
           "y": 3.702075,
           "yshift": 15,
           "z": 0.032211
          },
          {
           "font": {
            "color": "blue"
           },
           "showarrow": false,
           "text": "21",
           "x": 2.630353,
           "y": 1.022752,
           "yshift": 15,
           "z": 0.252028
          },
          {
           "font": {
            "color": "blue"
           },
           "showarrow": false,
           "text": "22",
           "x": -4.675483,
           "y": 1.153804,
           "yshift": 15,
           "z": -1.534139
          },
          {
           "font": {
            "color": "blue"
           },
           "showarrow": false,
           "text": "23",
           "x": -5.100673,
           "y": 1.478603,
           "yshift": 15,
           "z": 0.161924
          },
          {
           "font": {
            "color": "blue"
           },
           "showarrow": false,
           "text": "24",
           "x": -3.809767,
           "y": -0.960048,
           "yshift": 15,
           "z": -0.867554
          },
          {
           "font": {
            "color": "blue"
           },
           "showarrow": false,
           "text": "25",
           "x": -4.09915,
           "y": -0.765206,
           "yshift": 15,
           "z": 1.253517
          },
          {
           "font": {
            "color": "blue"
           },
           "showarrow": false,
           "text": "26",
           "x": 3.869252,
           "y": 1.285756,
           "yshift": 15,
           "z": -0.316569
          },
          {
           "font": {
            "color": "blue"
           },
           "showarrow": false,
           "text": "27",
           "x": -3.870469,
           "y": 0.247589,
           "yshift": 15,
           "z": 2.37577
          },
          {
           "font": {
            "color": "blue"
           },
           "showarrow": false,
           "text": "28",
           "x": -4.435968,
           "y": 1.170651,
           "yshift": 15,
           "z": 2.227253
          },
          {
           "font": {
            "color": "blue"
           },
           "showarrow": false,
           "text": "29",
           "x": 4.971089,
           "y": 0.48701,
           "yshift": 15,
           "z": -0.042705
          },
          {
           "font": {
            "color": "blue"
           },
           "showarrow": false,
           "text": "30",
           "x": -6.21079,
           "y": -0.24722,
           "yshift": 15,
           "z": 0.974931
          },
          {
           "font": {
            "color": "blue"
           },
           "showarrow": false,
           "text": "31",
           "x": -5.583511,
           "y": -1.12229,
           "yshift": 15,
           "z": 1.159878
          },
          {
           "font": {
            "color": "blue"
           },
           "showarrow": false,
           "text": "32",
           "x": 5.841364,
           "y": -1.41814,
           "yshift": 15,
           "z": 1.177712
          },
          {
           "font": {
            "color": "blue"
           },
           "showarrow": false,
           "text": "33",
           "x": 7.104912,
           "y": -1.212762,
           "yshift": 15,
           "z": 0.5841
          },
          {
           "font": {
            "color": "blue"
           },
           "showarrow": false,
           "text": "34",
           "x": 3.597933,
           "y": -0.845647,
           "yshift": 15,
           "z": 1.427747
          },
          {
           "font": {
            "color": "blue"
           },
           "showarrow": false,
           "text": "35",
           "x": -3.294935,
           "y": -2.034181,
           "yshift": 15,
           "z": 1.538524
          },
          {
           "font": {
            "color": "blue"
           },
           "showarrow": false,
           "text": "36",
           "x": -2.81216,
           "y": 0.501035,
           "yshift": 15,
           "z": 2.461084
          },
          {
           "font": {
            "color": "blue"
           },
           "showarrow": false,
           "text": "37",
           "x": -4.187674,
           "y": -0.180316,
           "yshift": 15,
           "z": 3.328243
          },
          {
           "font": {
            "color": "blue"
           },
           "showarrow": false,
           "text": "38",
           "x": 3.977693,
           "y": 2.104195,
           "yshift": 15,
           "z": -1.018106
          },
          {
           "font": {
            "color": "blue"
           },
           "showarrow": false,
           "text": "39",
           "x": 5.914837,
           "y": 0.702346,
           "yshift": 15,
           "z": -0.521061
          },
          {
           "font": {
            "color": "blue"
           },
           "showarrow": false,
           "text": "40",
           "x": 7.754652,
           "y": -1.988101,
           "yshift": 15,
           "z": 0.979826
          },
          {
           "font": {
            "color": "blue"
           },
           "showarrow": false,
           "text": "41",
           "x": 7.048111,
           "y": -1.305394,
           "yshift": 15,
           "z": -0.503396
          },
          {
           "font": {
            "color": "blue"
           },
           "showarrow": false,
           "text": "42",
           "x": 7.508561,
           "y": -0.231098,
           "yshift": 15,
           "z": 0.845553
          },
          {
           "font": {
            "color": "blue"
           },
           "showarrow": false,
           "text": "43",
           "x": 3.517851,
           "y": -1.682735,
           "yshift": 15,
           "z": 2.107874
          },
          {
           "font": {
            "color": "blue"
           },
           "showarrow": false,
           "text": "44",
           "x": 1.547985,
           "y": -0.276658,
           "yshift": 15,
           "z": 1.577477
          },
          {
           "font": {
            "color": "blue"
           },
           "showarrow": false,
           "text": "45",
           "x": -3.641703,
           "y": -2.489146,
           "yshift": 15,
           "z": 2.468793
          },
          {
           "font": {
            "color": "blue"
           },
           "showarrow": false,
           "text": "46",
           "x": -2.230911,
           "y": -1.815607,
           "yshift": 15,
           "z": 1.633161
          },
          {
           "font": {
            "color": "blue"
           },
           "showarrow": false,
           "text": "47",
           "x": -3.398353,
           "y": -2.759011,
           "yshift": 15,
           "z": 0.729951
          },
          {
           "font": {
            "color": "blue"
           },
           "showarrow": false,
           "text": "48",
           "x": -5.758173,
           "y": -1.84509,
           "yshift": 15,
           "z": 0.360083
          },
          {
           "font": {
            "color": "blue"
           },
           "showarrow": false,
           "text": "49",
           "x": -5.917247,
           "y": -1.571787,
           "yshift": 15,
           "z": 2.096544
          },
          {
           "font": {
            "color": "blue"
           },
           "showarrow": false,
           "text": "50",
           "x": 4.836379,
           "y": -0.583825,
           "yshift": 15,
           "z": 0.836916
          },
          {
           "font": {
            "color": "blue"
           },
           "showarrow": false,
           "text": "51",
           "x": 2.509873,
           "y": -0.057426,
           "yshift": 15,
           "z": 1.130954
          }
         ],
         "xaxis": {
          "showbackground": false,
          "showgrid": false,
          "showticklabels": false,
          "title": {
           "font": {
            "color": "white"
           }
          },
          "zeroline": false
         },
         "yaxis": {
          "showbackground": false,
          "showgrid": false,
          "showticklabels": false,
          "title": {
           "font": {
            "color": "white"
           }
          },
          "zeroline": false
         },
         "zaxis": {
          "showbackground": false,
          "showgrid": false,
          "showticklabels": false,
          "title": {
           "font": {
            "color": "white"
           }
          },
          "zeroline": false
         }
        },
        "showlegend": false,
        "template": {
         "data": {
          "bar": [
           {
            "error_x": {
             "color": "#2a3f5f"
            },
            "error_y": {
             "color": "#2a3f5f"
            },
            "marker": {
             "line": {
              "color": "#E5ECF6",
              "width": 0.5
             },
             "pattern": {
              "fillmode": "overlay",
              "size": 10,
              "solidity": 0.2
             }
            },
            "type": "bar"
           }
          ],
          "barpolar": [
           {
            "marker": {
             "line": {
              "color": "#E5ECF6",
              "width": 0.5
             },
             "pattern": {
              "fillmode": "overlay",
              "size": 10,
              "solidity": 0.2
             }
            },
            "type": "barpolar"
           }
          ],
          "carpet": [
           {
            "aaxis": {
             "endlinecolor": "#2a3f5f",
             "gridcolor": "white",
             "linecolor": "white",
             "minorgridcolor": "white",
             "startlinecolor": "#2a3f5f"
            },
            "baxis": {
             "endlinecolor": "#2a3f5f",
             "gridcolor": "white",
             "linecolor": "white",
             "minorgridcolor": "white",
             "startlinecolor": "#2a3f5f"
            },
            "type": "carpet"
           }
          ],
          "choropleth": [
           {
            "colorbar": {
             "outlinewidth": 0,
             "ticks": ""
            },
            "type": "choropleth"
           }
          ],
          "contour": [
           {
            "colorbar": {
             "outlinewidth": 0,
             "ticks": ""
            },
            "colorscale": [
             [
              0,
              "#0d0887"
             ],
             [
              0.1111111111111111,
              "#46039f"
             ],
             [
              0.2222222222222222,
              "#7201a8"
             ],
             [
              0.3333333333333333,
              "#9c179e"
             ],
             [
              0.4444444444444444,
              "#bd3786"
             ],
             [
              0.5555555555555556,
              "#d8576b"
             ],
             [
              0.6666666666666666,
              "#ed7953"
             ],
             [
              0.7777777777777778,
              "#fb9f3a"
             ],
             [
              0.8888888888888888,
              "#fdca26"
             ],
             [
              1,
              "#f0f921"
             ]
            ],
            "type": "contour"
           }
          ],
          "contourcarpet": [
           {
            "colorbar": {
             "outlinewidth": 0,
             "ticks": ""
            },
            "type": "contourcarpet"
           }
          ],
          "heatmap": [
           {
            "colorbar": {
             "outlinewidth": 0,
             "ticks": ""
            },
            "colorscale": [
             [
              0,
              "#0d0887"
             ],
             [
              0.1111111111111111,
              "#46039f"
             ],
             [
              0.2222222222222222,
              "#7201a8"
             ],
             [
              0.3333333333333333,
              "#9c179e"
             ],
             [
              0.4444444444444444,
              "#bd3786"
             ],
             [
              0.5555555555555556,
              "#d8576b"
             ],
             [
              0.6666666666666666,
              "#ed7953"
             ],
             [
              0.7777777777777778,
              "#fb9f3a"
             ],
             [
              0.8888888888888888,
              "#fdca26"
             ],
             [
              1,
              "#f0f921"
             ]
            ],
            "type": "heatmap"
           }
          ],
          "heatmapgl": [
           {
            "colorbar": {
             "outlinewidth": 0,
             "ticks": ""
            },
            "colorscale": [
             [
              0,
              "#0d0887"
             ],
             [
              0.1111111111111111,
              "#46039f"
             ],
             [
              0.2222222222222222,
              "#7201a8"
             ],
             [
              0.3333333333333333,
              "#9c179e"
             ],
             [
              0.4444444444444444,
              "#bd3786"
             ],
             [
              0.5555555555555556,
              "#d8576b"
             ],
             [
              0.6666666666666666,
              "#ed7953"
             ],
             [
              0.7777777777777778,
              "#fb9f3a"
             ],
             [
              0.8888888888888888,
              "#fdca26"
             ],
             [
              1,
              "#f0f921"
             ]
            ],
            "type": "heatmapgl"
           }
          ],
          "histogram": [
           {
            "marker": {
             "pattern": {
              "fillmode": "overlay",
              "size": 10,
              "solidity": 0.2
             }
            },
            "type": "histogram"
           }
          ],
          "histogram2d": [
           {
            "colorbar": {
             "outlinewidth": 0,
             "ticks": ""
            },
            "colorscale": [
             [
              0,
              "#0d0887"
             ],
             [
              0.1111111111111111,
              "#46039f"
             ],
             [
              0.2222222222222222,
              "#7201a8"
             ],
             [
              0.3333333333333333,
              "#9c179e"
             ],
             [
              0.4444444444444444,
              "#bd3786"
             ],
             [
              0.5555555555555556,
              "#d8576b"
             ],
             [
              0.6666666666666666,
              "#ed7953"
             ],
             [
              0.7777777777777778,
              "#fb9f3a"
             ],
             [
              0.8888888888888888,
              "#fdca26"
             ],
             [
              1,
              "#f0f921"
             ]
            ],
            "type": "histogram2d"
           }
          ],
          "histogram2dcontour": [
           {
            "colorbar": {
             "outlinewidth": 0,
             "ticks": ""
            },
            "colorscale": [
             [
              0,
              "#0d0887"
             ],
             [
              0.1111111111111111,
              "#46039f"
             ],
             [
              0.2222222222222222,
              "#7201a8"
             ],
             [
              0.3333333333333333,
              "#9c179e"
             ],
             [
              0.4444444444444444,
              "#bd3786"
             ],
             [
              0.5555555555555556,
              "#d8576b"
             ],
             [
              0.6666666666666666,
              "#ed7953"
             ],
             [
              0.7777777777777778,
              "#fb9f3a"
             ],
             [
              0.8888888888888888,
              "#fdca26"
             ],
             [
              1,
              "#f0f921"
             ]
            ],
            "type": "histogram2dcontour"
           }
          ],
          "mesh3d": [
           {
            "colorbar": {
             "outlinewidth": 0,
             "ticks": ""
            },
            "type": "mesh3d"
           }
          ],
          "parcoords": [
           {
            "line": {
             "colorbar": {
              "outlinewidth": 0,
              "ticks": ""
             }
            },
            "type": "parcoords"
           }
          ],
          "pie": [
           {
            "automargin": true,
            "type": "pie"
           }
          ],
          "scatter": [
           {
            "fillpattern": {
             "fillmode": "overlay",
             "size": 10,
             "solidity": 0.2
            },
            "type": "scatter"
           }
          ],
          "scatter3d": [
           {
            "line": {
             "colorbar": {
              "outlinewidth": 0,
              "ticks": ""
             }
            },
            "marker": {
             "colorbar": {
              "outlinewidth": 0,
              "ticks": ""
             }
            },
            "type": "scatter3d"
           }
          ],
          "scattercarpet": [
           {
            "marker": {
             "colorbar": {
              "outlinewidth": 0,
              "ticks": ""
             }
            },
            "type": "scattercarpet"
           }
          ],
          "scattergeo": [
           {
            "marker": {
             "colorbar": {
              "outlinewidth": 0,
              "ticks": ""
             }
            },
            "type": "scattergeo"
           }
          ],
          "scattergl": [
           {
            "marker": {
             "colorbar": {
              "outlinewidth": 0,
              "ticks": ""
             }
            },
            "type": "scattergl"
           }
          ],
          "scattermapbox": [
           {
            "marker": {
             "colorbar": {
              "outlinewidth": 0,
              "ticks": ""
             }
            },
            "type": "scattermapbox"
           }
          ],
          "scatterpolar": [
           {
            "marker": {
             "colorbar": {
              "outlinewidth": 0,
              "ticks": ""
             }
            },
            "type": "scatterpolar"
           }
          ],
          "scatterpolargl": [
           {
            "marker": {
             "colorbar": {
              "outlinewidth": 0,
              "ticks": ""
             }
            },
            "type": "scatterpolargl"
           }
          ],
          "scatterternary": [
           {
            "marker": {
             "colorbar": {
              "outlinewidth": 0,
              "ticks": ""
             }
            },
            "type": "scatterternary"
           }
          ],
          "surface": [
           {
            "colorbar": {
             "outlinewidth": 0,
             "ticks": ""
            },
            "colorscale": [
             [
              0,
              "#0d0887"
             ],
             [
              0.1111111111111111,
              "#46039f"
             ],
             [
              0.2222222222222222,
              "#7201a8"
             ],
             [
              0.3333333333333333,
              "#9c179e"
             ],
             [
              0.4444444444444444,
              "#bd3786"
             ],
             [
              0.5555555555555556,
              "#d8576b"
             ],
             [
              0.6666666666666666,
              "#ed7953"
             ],
             [
              0.7777777777777778,
              "#fb9f3a"
             ],
             [
              0.8888888888888888,
              "#fdca26"
             ],
             [
              1,
              "#f0f921"
             ]
            ],
            "type": "surface"
           }
          ],
          "table": [
           {
            "cells": {
             "fill": {
              "color": "#EBF0F8"
             },
             "line": {
              "color": "white"
             }
            },
            "header": {
             "fill": {
              "color": "#C8D4E3"
             },
             "line": {
              "color": "white"
             }
            },
            "type": "table"
           }
          ]
         },
         "layout": {
          "annotationdefaults": {
           "arrowcolor": "#2a3f5f",
           "arrowhead": 0,
           "arrowwidth": 1
          },
          "autotypenumbers": "strict",
          "coloraxis": {
           "colorbar": {
            "outlinewidth": 0,
            "ticks": ""
           }
          },
          "colorscale": {
           "diverging": [
            [
             0,
             "#8e0152"
            ],
            [
             0.1,
             "#c51b7d"
            ],
            [
             0.2,
             "#de77ae"
            ],
            [
             0.3,
             "#f1b6da"
            ],
            [
             0.4,
             "#fde0ef"
            ],
            [
             0.5,
             "#f7f7f7"
            ],
            [
             0.6,
             "#e6f5d0"
            ],
            [
             0.7,
             "#b8e186"
            ],
            [
             0.8,
             "#7fbc41"
            ],
            [
             0.9,
             "#4d9221"
            ],
            [
             1,
             "#276419"
            ]
           ],
           "sequential": [
            [
             0,
             "#0d0887"
            ],
            [
             0.1111111111111111,
             "#46039f"
            ],
            [
             0.2222222222222222,
             "#7201a8"
            ],
            [
             0.3333333333333333,
             "#9c179e"
            ],
            [
             0.4444444444444444,
             "#bd3786"
            ],
            [
             0.5555555555555556,
             "#d8576b"
            ],
            [
             0.6666666666666666,
             "#ed7953"
            ],
            [
             0.7777777777777778,
             "#fb9f3a"
            ],
            [
             0.8888888888888888,
             "#fdca26"
            ],
            [
             1,
             "#f0f921"
            ]
           ],
           "sequentialminus": [
            [
             0,
             "#0d0887"
            ],
            [
             0.1111111111111111,
             "#46039f"
            ],
            [
             0.2222222222222222,
             "#7201a8"
            ],
            [
             0.3333333333333333,
             "#9c179e"
            ],
            [
             0.4444444444444444,
             "#bd3786"
            ],
            [
             0.5555555555555556,
             "#d8576b"
            ],
            [
             0.6666666666666666,
             "#ed7953"
            ],
            [
             0.7777777777777778,
             "#fb9f3a"
            ],
            [
             0.8888888888888888,
             "#fdca26"
            ],
            [
             1,
             "#f0f921"
            ]
           ]
          },
          "colorway": [
           "#636efa",
           "#EF553B",
           "#00cc96",
           "#ab63fa",
           "#FFA15A",
           "#19d3f3",
           "#FF6692",
           "#B6E880",
           "#FF97FF",
           "#FECB52"
          ],
          "font": {
           "color": "#2a3f5f"
          },
          "geo": {
           "bgcolor": "white",
           "lakecolor": "white",
           "landcolor": "#E5ECF6",
           "showlakes": true,
           "showland": true,
           "subunitcolor": "white"
          },
          "hoverlabel": {
           "align": "left"
          },
          "hovermode": "closest",
          "mapbox": {
           "style": "light"
          },
          "paper_bgcolor": "white",
          "plot_bgcolor": "#E5ECF6",
          "polar": {
           "angularaxis": {
            "gridcolor": "white",
            "linecolor": "white",
            "ticks": ""
           },
           "bgcolor": "#E5ECF6",
           "radialaxis": {
            "gridcolor": "white",
            "linecolor": "white",
            "ticks": ""
           }
          },
          "scene": {
           "xaxis": {
            "backgroundcolor": "#E5ECF6",
            "gridcolor": "white",
            "gridwidth": 2,
            "linecolor": "white",
            "showbackground": true,
            "ticks": "",
            "zerolinecolor": "white"
           },
           "yaxis": {
            "backgroundcolor": "#E5ECF6",
            "gridcolor": "white",
            "gridwidth": 2,
            "linecolor": "white",
            "showbackground": true,
            "ticks": "",
            "zerolinecolor": "white"
           },
           "zaxis": {
            "backgroundcolor": "#E5ECF6",
            "gridcolor": "white",
            "gridwidth": 2,
            "linecolor": "white",
            "showbackground": true,
            "ticks": "",
            "zerolinecolor": "white"
           }
          },
          "shapedefaults": {
           "line": {
            "color": "#2a3f5f"
           }
          },
          "ternary": {
           "aaxis": {
            "gridcolor": "white",
            "linecolor": "white",
            "ticks": ""
           },
           "baxis": {
            "gridcolor": "white",
            "linecolor": "white",
            "ticks": ""
           },
           "bgcolor": "#E5ECF6",
           "caxis": {
            "gridcolor": "white",
            "linecolor": "white",
            "ticks": ""
           }
          },
          "title": {
           "x": 0.05
          },
          "xaxis": {
           "automargin": true,
           "gridcolor": "white",
           "linecolor": "white",
           "ticks": "",
           "title": {
            "standoff": 15
           },
           "zerolinecolor": "white",
           "zerolinewidth": 2
          },
          "yaxis": {
           "automargin": true,
           "gridcolor": "white",
           "linecolor": "white",
           "ticks": "",
           "title": {
            "standoff": 15
           },
           "zerolinecolor": "white",
           "zerolinewidth": 2
          }
         }
        },
        "title": {
         "text": "LS1643",
         "x": 0.5,
         "xanchor": "center",
         "y": 0.9,
         "yanchor": "top"
        },
        "updatemenus": [
         {
          "buttons": [
           {
            "args": [
             {
              "scene.annotations": [
               {
                "font": {
                 "color": "blue"
                },
                "showarrow": false,
                "text": 1,
                "x": -3.653875,
                "y": -0.190447,
                "yshift": 15,
                "z": -0.108061
               },
               {
                "font": {
                 "color": "blue"
                },
                "showarrow": false,
                "text": 2,
                "x": -4.309805,
                "y": 1.152175,
                "yshift": 15,
                "z": -0.508397
               },
               {
                "font": {
                 "color": "blue"
                },
                "showarrow": false,
                "text": 3,
                "x": -3.235943,
                "y": 2.121777,
                "yshift": 15,
                "z": -0.427058
               },
               {
                "font": {
                 "color": "blue"
                },
                "showarrow": false,
                "text": 4,
                "x": -2.118795,
                "y": 1.398642,
                "yshift": 15,
                "z": -0.26598
               },
               {
                "font": {
                 "color": "blue"
                },
                "showarrow": false,
                "text": 5,
                "x": -2.229552,
                "y": 0.149489,
                "yshift": 15,
                "z": -0.106095
               },
               {
                "font": {
                 "color": "blue"
                },
                "showarrow": false,
                "text": 6,
                "x": -0.819307,
                "y": 2.0975,
                "yshift": 15,
                "z": -0.266355
               },
               {
                "font": {
                 "color": "blue"
                },
                "showarrow": false,
                "text": 7,
                "x": -0.755628,
                "y": 3.474808,
                "yshift": 15,
                "z": -0.328629
               },
               {
                "font": {
                 "color": "blue"
                },
                "showarrow": false,
                "text": 8,
                "x": 0.498087,
                "y": 4.070162,
                "yshift": 15,
                "z": -0.261793
               },
               {
                "font": {
                 "color": "blue"
                },
                "showarrow": false,
                "text": 9,
                "x": 1.606556,
                "y": 3.270785,
                "yshift": 15,
                "z": -0.092469
               },
               {
                "font": {
                 "color": "blue"
                },
                "showarrow": false,
                "text": 10,
                "x": 1.463296,
                "y": 1.877274,
                "yshift": 15,
                "z": -0.032146
               },
               {
                "font": {
                 "color": "blue"
                },
                "showarrow": false,
                "text": 11,
                "x": 0.263916,
                "y": 1.304783,
                "yshift": 15,
                "z": -0.167759
               },
               {
                "font": {
                 "color": "blue"
                },
                "showarrow": false,
                "text": 12,
                "x": -0.28631,
                "y": -0.830743,
                "yshift": 15,
                "z": -0.725925
               },
               {
                "font": {
                 "color": "blue"
                },
                "showarrow": false,
                "text": 13,
                "x": -1.27389,
                "y": -2.833552,
                "yshift": 15,
                "z": -1.382489
               },
               {
                "font": {
                 "color": "blue"
                },
                "showarrow": false,
                "text": 14,
                "x": 1.415752,
                "y": -1.464281,
                "yshift": 15,
                "z": -1.513277
               },
               {
                "font": {
                 "color": "blue"
                },
                "showarrow": false,
                "text": 15,
                "x": 2.028038,
                "y": -0.593632,
                "yshift": 15,
                "z": -1.754551
               },
               {
                "font": {
                 "color": "blue"
                },
                "showarrow": false,
                "text": 16,
                "x": 1.924577,
                "y": -2.095146,
                "yshift": 15,
                "z": -0.784174
               },
               {
                "font": {
                 "color": "blue"
                },
                "showarrow": false,
                "text": 17,
                "x": 1.189089,
                "y": -2.04175,
                "yshift": 15,
                "z": -2.405713
               },
               {
                "font": {
                 "color": "blue"
                },
                "showarrow": false,
                "text": 18,
                "x": -1.666057,
                "y": 4.048738,
                "yshift": 15,
                "z": -0.419843
               },
               {
                "font": {
                 "color": "blue"
                },
                "showarrow": false,
                "text": 19,
                "x": 0.598201,
                "y": 5.146537,
                "yshift": 15,
                "z": -0.308093
               },
               {
                "font": {
                 "color": "blue"
                },
                "showarrow": false,
                "text": 20,
                "x": 2.589813,
                "y": 3.702075,
                "yshift": 15,
                "z": 0.032211
               },
               {
                "font": {
                 "color": "blue"
                },
                "showarrow": false,
                "text": 21,
                "x": 2.630353,
                "y": 1.022752,
                "yshift": 15,
                "z": 0.252028
               },
               {
                "font": {
                 "color": "blue"
                },
                "showarrow": false,
                "text": 22,
                "x": -4.675483,
                "y": 1.153804,
                "yshift": 15,
                "z": -1.534139
               },
               {
                "font": {
                 "color": "blue"
                },
                "showarrow": false,
                "text": 23,
                "x": -5.100673,
                "y": 1.478603,
                "yshift": 15,
                "z": 0.161924
               },
               {
                "font": {
                 "color": "blue"
                },
                "showarrow": false,
                "text": 24,
                "x": -3.809767,
                "y": -0.960048,
                "yshift": 15,
                "z": -0.867554
               },
               {
                "font": {
                 "color": "blue"
                },
                "showarrow": false,
                "text": 25,
                "x": -4.09915,
                "y": -0.765206,
                "yshift": 15,
                "z": 1.253517
               },
               {
                "font": {
                 "color": "blue"
                },
                "showarrow": false,
                "text": 26,
                "x": 3.869252,
                "y": 1.285756,
                "yshift": 15,
                "z": -0.316569
               },
               {
                "font": {
                 "color": "blue"
                },
                "showarrow": false,
                "text": 27,
                "x": -3.870469,
                "y": 0.247589,
                "yshift": 15,
                "z": 2.37577
               },
               {
                "font": {
                 "color": "blue"
                },
                "showarrow": false,
                "text": 28,
                "x": -4.435968,
                "y": 1.170651,
                "yshift": 15,
                "z": 2.227253
               },
               {
                "font": {
                 "color": "blue"
                },
                "showarrow": false,
                "text": 29,
                "x": 4.971089,
                "y": 0.48701,
                "yshift": 15,
                "z": -0.042705
               },
               {
                "font": {
                 "color": "blue"
                },
                "showarrow": false,
                "text": 30,
                "x": -6.21079,
                "y": -0.24722,
                "yshift": 15,
                "z": 0.974931
               },
               {
                "font": {
                 "color": "blue"
                },
                "showarrow": false,
                "text": 31,
                "x": -5.583511,
                "y": -1.12229,
                "yshift": 15,
                "z": 1.159878
               },
               {
                "font": {
                 "color": "blue"
                },
                "showarrow": false,
                "text": 32,
                "x": 5.841364,
                "y": -1.41814,
                "yshift": 15,
                "z": 1.177712
               },
               {
                "font": {
                 "color": "blue"
                },
                "showarrow": false,
                "text": 33,
                "x": 7.104912,
                "y": -1.212762,
                "yshift": 15,
                "z": 0.5841
               },
               {
                "font": {
                 "color": "blue"
                },
                "showarrow": false,
                "text": 34,
                "x": 3.597933,
                "y": -0.845647,
                "yshift": 15,
                "z": 1.427747
               },
               {
                "font": {
                 "color": "blue"
                },
                "showarrow": false,
                "text": 35,
                "x": -3.294935,
                "y": -2.034181,
                "yshift": 15,
                "z": 1.538524
               },
               {
                "font": {
                 "color": "blue"
                },
                "showarrow": false,
                "text": 36,
                "x": -2.81216,
                "y": 0.501035,
                "yshift": 15,
                "z": 2.461084
               },
               {
                "font": {
                 "color": "blue"
                },
                "showarrow": false,
                "text": 37,
                "x": -4.187674,
                "y": -0.180316,
                "yshift": 15,
                "z": 3.328243
               },
               {
                "font": {
                 "color": "blue"
                },
                "showarrow": false,
                "text": 38,
                "x": 3.977693,
                "y": 2.104195,
                "yshift": 15,
                "z": -1.018106
               },
               {
                "font": {
                 "color": "blue"
                },
                "showarrow": false,
                "text": 39,
                "x": 5.914837,
                "y": 0.702346,
                "yshift": 15,
                "z": -0.521061
               },
               {
                "font": {
                 "color": "blue"
                },
                "showarrow": false,
                "text": 40,
                "x": 7.754652,
                "y": -1.988101,
                "yshift": 15,
                "z": 0.979826
               },
               {
                "font": {
                 "color": "blue"
                },
                "showarrow": false,
                "text": 41,
                "x": 7.048111,
                "y": -1.305394,
                "yshift": 15,
                "z": -0.503396
               },
               {
                "font": {
                 "color": "blue"
                },
                "showarrow": false,
                "text": 42,
                "x": 7.508561,
                "y": -0.231098,
                "yshift": 15,
                "z": 0.845553
               },
               {
                "font": {
                 "color": "blue"
                },
                "showarrow": false,
                "text": 43,
                "x": 3.517851,
                "y": -1.682735,
                "yshift": 15,
                "z": 2.107874
               },
               {
                "font": {
                 "color": "blue"
                },
                "showarrow": false,
                "text": 44,
                "x": 1.547985,
                "y": -0.276658,
                "yshift": 15,
                "z": 1.577477
               },
               {
                "font": {
                 "color": "blue"
                },
                "showarrow": false,
                "text": 45,
                "x": -3.641703,
                "y": -2.489146,
                "yshift": 15,
                "z": 2.468793
               },
               {
                "font": {
                 "color": "blue"
                },
                "showarrow": false,
                "text": 46,
                "x": -2.230911,
                "y": -1.815607,
                "yshift": 15,
                "z": 1.633161
               },
               {
                "font": {
                 "color": "blue"
                },
                "showarrow": false,
                "text": 47,
                "x": -3.398353,
                "y": -2.759011,
                "yshift": 15,
                "z": 0.729951
               },
               {
                "font": {
                 "color": "blue"
                },
                "showarrow": false,
                "text": 48,
                "x": -5.758173,
                "y": -1.84509,
                "yshift": 15,
                "z": 0.360083
               },
               {
                "font": {
                 "color": "blue"
                },
                "showarrow": false,
                "text": 49,
                "x": -5.917247,
                "y": -1.571787,
                "yshift": 15,
                "z": 2.096544
               },
               {
                "font": {
                 "color": "blue"
                },
                "showarrow": false,
                "text": 50,
                "x": 4.836379,
                "y": -0.583825,
                "yshift": 15,
                "z": 0.836916
               },
               {
                "font": {
                 "color": "blue"
                },
                "showarrow": false,
                "text": 51,
                "x": 2.509873,
                "y": -0.057426,
                "yshift": 15,
                "z": 1.130954
               }
              ]
             }
            ],
            "label": "Atom indices",
            "method": "relayout"
           },
           {
            "args": [
             {
              "scene.annotations": [
               {
                "showarrow": false,
                "text": 1.55,
                "x": -3.98184,
                "y": 0.48086399999999996,
                "yshift": 10,
                "z": -0.308229
               },
               {
                "showarrow": false,
                "text": 1.45,
                "x": -3.772874,
                "y": 1.6369759999999998,
                "yshift": 10,
                "z": -0.46772749999999996
               },
               {
                "showarrow": false,
                "text": 1.34,
                "x": -2.6773689999999997,
                "y": 1.7602094999999998,
                "yshift": 10,
                "z": -0.346519
               },
               {
                "showarrow": false,
                "text": 1.26,
                "x": -2.1741735,
                "y": 0.7740655,
                "yshift": 10,
                "z": -0.1860375
               },
               {
                "showarrow": false,
                "text": 1.38,
                "x": -0.7874675,
                "y": 2.786154,
                "yshift": 10,
                "z": -0.297492
               },
               {
                "showarrow": false,
                "text": 1.39,
                "x": -0.12877049999999998,
                "y": 3.7724849999999996,
                "yshift": 10,
                "z": -0.295211
               },
               {
                "showarrow": false,
                "text": 1.38,
                "x": 1.0523215000000001,
                "y": 3.6704735,
                "yshift": 10,
                "z": -0.17713099999999998
               },
               {
                "showarrow": false,
                "text": 1.4,
                "x": 1.534926,
                "y": 2.5740295,
                "yshift": 10,
                "z": -0.0623075
               },
               {
                "showarrow": false,
                "text": 1.34,
                "x": 0.863606,
                "y": 1.5910285000000002,
                "yshift": 10,
                "z": -0.0999525
               },
               {
                "showarrow": false,
                "text": 2.27,
                "x": -0.011197000000000012,
                "y": 0.23702,
                "yshift": 10,
                "z": -0.446842
               },
               {
                "showarrow": false,
                "text": 2.33,
                "x": -0.7801,
                "y": -1.8321475,
                "yshift": 10,
                "z": -1.0542070000000001
               },
               {
                "showarrow": false,
                "text": 1.09,
                "x": 1.721895,
                "y": -1.0289565,
                "yshift": 10,
                "z": -1.6339139999999999
               },
               {
                "showarrow": false,
                "text": 1.09,
                "x": -4.1532184999999995,
                "y": 0.7091200000000001,
                "yshift": 10,
                "z": 2.3015115
               },
               {
                "showarrow": false,
                "text": 1.09,
                "x": -5.8971505,
                "y": -0.684755,
                "yshift": 10,
                "z": 1.0674044999999999
               },
               {
                "showarrow": false,
                "text": 1.41,
                "x": 6.473138,
                "y": -1.315451,
                "yshift": 10,
                "z": 0.880906
               },
               {
                "showarrow": false,
                "text": 1.48,
                "x": -1.4690509999999999,
                "y": 1.748071,
                "yshift": 10,
                "z": -0.2661675
               },
               {
                "showarrow": false,
                "text": 1.98,
                "x": 0.5647209999999999,
                "y": -1.1475119999999999,
                "yshift": 10,
                "z": -1.119601
               },
               {
                "showarrow": false,
                "text": 1.09,
                "x": 1.6701644999999998,
                "y": -1.7797135000000002,
                "yshift": 10,
                "z": -1.1487255
               },
               {
                "showarrow": false,
                "text": 1.53,
                "x": -3.9848095,
                "y": -0.2588085,
                "yshift": 10,
                "z": 1.8146435
               },
               {
                "showarrow": false,
                "text": 1.09,
                "x": 1.3024205,
                "y": -1.7530155,
                "yshift": 10,
                "z": -1.959495
               },
               {
                "showarrow": false,
                "text": 1.39,
                "x": 4.4201705,
                "y": 0.8863829999999999,
                "yshift": 10,
                "z": -0.179637
               },
               {
                "showarrow": false,
                "text": 1.46,
                "x": -2.9417135,
                "y": -0.020478999999999997,
                "yshift": 10,
                "z": -0.107078
               },
               {
                "showarrow": false,
                "text": 1.35,
                "x": -0.2776955,
                "y": 1.7011415,
                "yshift": 10,
                "z": -0.217057
               },
               {
                "showarrow": false,
                "text": 1.39,
                "x": 3.2498025,
                "y": 1.154254,
                "yshift": 10,
                "z": -0.03227050000000001
               },
               {
                "showarrow": false,
                "text": 1.53,
                "x": -4.8413305,
                "y": -0.943748,
                "yshift": 10,
                "z": 1.2066975
               },
               {
                "showarrow": false,
                "text": 2.26,
                "x": -1.257931,
                "y": -0.340627,
                "yshift": 10,
                "z": -0.41601
               },
               {
                "showarrow": false,
                "text": 1.09,
                "x": 7.429781999999999,
                "y": -1.6004315,
                "yshift": 10,
                "z": 0.781963
               },
               {
                "showarrow": false,
                "text": 1.08,
                "x": 2.0289289999999998,
                "y": -0.167042,
                "yshift": 10,
                "z": 1.3542155
               },
               {
                "showarrow": false,
                "text": 1.09,
                "x": 7.0765115,
                "y": -1.259078,
                "yshift": 10,
                "z": 0.040352
               },
               {
                "showarrow": false,
                "text": 1.09,
                "x": -3.3413145,
                "y": 0.374312,
                "yshift": 10,
                "z": 2.4184270000000003
               },
               {
                "showarrow": false,
                "text": 1.09,
                "x": 7.3067364999999995,
                "y": -0.72193,
                "yshift": 10,
                "z": 0.7148265
               },
               {
                "showarrow": false,
                "text": 1.08,
                "x": 3.557892,
                "y": -1.264191,
                "yshift": 10,
                "z": 1.7678105
               },
               {
                "showarrow": false,
                "text": 1.53,
                "x": -3.6970425000000002,
                "y": -1.3996935,
                "yshift": 10,
                "z": 1.3960205
               },
               {
                "showarrow": false,
                "text": 1.09,
                "x": -4.029071500000001,
                "y": 0.0336365,
                "yshift": 10,
                "z": 2.8520065
               },
               {
                "showarrow": false,
                "text": 1.08,
                "x": 5.442963000000001,
                "y": 0.594678,
                "yshift": 10,
                "z": -0.281883
               },
               {
                "showarrow": false,
                "text": 1.09,
                "x": -3.468319,
                "y": -2.2616635,
                "yshift": 10,
                "z": 2.0036585
               },
               {
                "showarrow": false,
                "text": 1.08,
                "x": -1.2108425,
                "y": 3.761773,
                "yshift": 10,
                "z": -0.374236
               },
               {
                "showarrow": false,
                "text": 1.08,
                "x": 0.548144,
                "y": 4.6083495,
                "yshift": 10,
                "z": -0.284943
               },
               {
                "showarrow": false,
                "text": 1.08,
                "x": 2.0981845,
                "y": 3.48643,
                "yshift": 10,
                "z": -0.030129
               },
               {
                "showarrow": false,
                "text": 1.47,
                "x": 2.0468245,
                "y": 1.4500130000000002,
                "yshift": 10,
                "z": 0.10994099999999998
               },
               {
                "showarrow": false,
                "text": 1.09,
                "x": -2.762923,
                "y": -1.9248939999999999,
                "yshift": 10,
                "z": 1.5858425
               },
               {
                "showarrow": false,
                "text": 1.08,
                "x": 3.9234725,
                "y": 1.6949755,
                "yshift": 10,
                "z": -0.6673374999999999
               },
               {
                "showarrow": false,
                "text": 1.09,
                "x": -3.3466440000000004,
                "y": -2.3965959999999997,
                "yshift": 10,
                "z": 1.1342375
               },
               {
                "showarrow": false,
                "text": 1.4,
                "x": 4.217156,
                "y": -0.714736,
                "yshift": 10,
                "z": 1.1323315
               },
               {
                "showarrow": false,
                "text": 1.09,
                "x": -5.670842,
                "y": -1.48369,
                "yshift": 10,
                "z": 0.7599805
               },
               {
                "showarrow": false,
                "text": 1.38,
                "x": 3.053903,
                "y": -0.4515365,
                "yshift": 10,
                "z": 1.2793505
               },
               {
                "showarrow": false,
                "text": 1.09,
                "x": -5.750379,
                "y": -1.3470385,
                "yshift": 10,
                "z": 1.628211
               },
               {
                "showarrow": false,
                "text": 1.35,
                "x": 5.3388715,
                "y": -1.0009825,
                "yshift": 10,
                "z": 1.007314
               },
               {
                "showarrow": false,
                "text": 1.09,
                "x": -4.492644,
                "y": 1.1529895,
                "yshift": 10,
                "z": -1.021268
               },
               {
                "showarrow": false,
                "text": 1.09,
                "x": -4.705239,
                "y": 1.315389,
                "yshift": 10,
                "z": -0.1732365
               },
               {
                "showarrow": false,
                "text": 1.39,
                "x": 4.903734,
                "y": -0.04840750000000002,
                "yshift": 10,
                "z": 0.3971055
               },
               {
                "showarrow": false,
                "text": 1.4,
                "x": 2.570113,
                "y": 0.48266300000000006,
                "yshift": 10,
                "z": 0.691491
               },
               {
                "showarrow": false,
                "text": 1.09,
                "x": -3.731821,
                "y": -0.5752475,
                "yshift": 10,
                "z": -0.4878075
               },
               {
                "showarrow": false,
                "text": 1.54,
                "x": -3.8765125,
                "y": -0.47782650000000004,
                "yshift": 10,
                "z": 0.572728
               }
              ]
             }
            ],
            "label": "Bond lengths",
            "method": "relayout"
           },
           {
            "args": [
             {
              "scene.annotations": [
               {
                "font": {
                 "color": "blue"
                },
                "showarrow": false,
                "text": 1,
                "x": -3.653875,
                "y": -0.190447,
                "yshift": 15,
                "z": -0.108061
               },
               {
                "font": {
                 "color": "blue"
                },
                "showarrow": false,
                "text": 2,
                "x": -4.309805,
                "y": 1.152175,
                "yshift": 15,
                "z": -0.508397
               },
               {
                "font": {
                 "color": "blue"
                },
                "showarrow": false,
                "text": 3,
                "x": -3.235943,
                "y": 2.121777,
                "yshift": 15,
                "z": -0.427058
               },
               {
                "font": {
                 "color": "blue"
                },
                "showarrow": false,
                "text": 4,
                "x": -2.118795,
                "y": 1.398642,
                "yshift": 15,
                "z": -0.26598
               },
               {
                "font": {
                 "color": "blue"
                },
                "showarrow": false,
                "text": 5,
                "x": -2.229552,
                "y": 0.149489,
                "yshift": 15,
                "z": -0.106095
               },
               {
                "font": {
                 "color": "blue"
                },
                "showarrow": false,
                "text": 6,
                "x": -0.819307,
                "y": 2.0975,
                "yshift": 15,
                "z": -0.266355
               },
               {
                "font": {
                 "color": "blue"
                },
                "showarrow": false,
                "text": 7,
                "x": -0.755628,
                "y": 3.474808,
                "yshift": 15,
                "z": -0.328629
               },
               {
                "font": {
                 "color": "blue"
                },
                "showarrow": false,
                "text": 8,
                "x": 0.498087,
                "y": 4.070162,
                "yshift": 15,
                "z": -0.261793
               },
               {
                "font": {
                 "color": "blue"
                },
                "showarrow": false,
                "text": 9,
                "x": 1.606556,
                "y": 3.270785,
                "yshift": 15,
                "z": -0.092469
               },
               {
                "font": {
                 "color": "blue"
                },
                "showarrow": false,
                "text": 10,
                "x": 1.463296,
                "y": 1.877274,
                "yshift": 15,
                "z": -0.032146
               },
               {
                "font": {
                 "color": "blue"
                },
                "showarrow": false,
                "text": 11,
                "x": 0.263916,
                "y": 1.304783,
                "yshift": 15,
                "z": -0.167759
               },
               {
                "font": {
                 "color": "blue"
                },
                "showarrow": false,
                "text": 12,
                "x": -0.28631,
                "y": -0.830743,
                "yshift": 15,
                "z": -0.725925
               },
               {
                "font": {
                 "color": "blue"
                },
                "showarrow": false,
                "text": 13,
                "x": -1.27389,
                "y": -2.833552,
                "yshift": 15,
                "z": -1.382489
               },
               {
                "font": {
                 "color": "blue"
                },
                "showarrow": false,
                "text": 14,
                "x": 1.415752,
                "y": -1.464281,
                "yshift": 15,
                "z": -1.513277
               },
               {
                "font": {
                 "color": "blue"
                },
                "showarrow": false,
                "text": 15,
                "x": 2.028038,
                "y": -0.593632,
                "yshift": 15,
                "z": -1.754551
               },
               {
                "font": {
                 "color": "blue"
                },
                "showarrow": false,
                "text": 16,
                "x": 1.924577,
                "y": -2.095146,
                "yshift": 15,
                "z": -0.784174
               },
               {
                "font": {
                 "color": "blue"
                },
                "showarrow": false,
                "text": 17,
                "x": 1.189089,
                "y": -2.04175,
                "yshift": 15,
                "z": -2.405713
               },
               {
                "font": {
                 "color": "blue"
                },
                "showarrow": false,
                "text": 18,
                "x": -1.666057,
                "y": 4.048738,
                "yshift": 15,
                "z": -0.419843
               },
               {
                "font": {
                 "color": "blue"
                },
                "showarrow": false,
                "text": 19,
                "x": 0.598201,
                "y": 5.146537,
                "yshift": 15,
                "z": -0.308093
               },
               {
                "font": {
                 "color": "blue"
                },
                "showarrow": false,
                "text": 20,
                "x": 2.589813,
                "y": 3.702075,
                "yshift": 15,
                "z": 0.032211
               },
               {
                "font": {
                 "color": "blue"
                },
                "showarrow": false,
                "text": 21,
                "x": 2.630353,
                "y": 1.022752,
                "yshift": 15,
                "z": 0.252028
               },
               {
                "font": {
                 "color": "blue"
                },
                "showarrow": false,
                "text": 22,
                "x": -4.675483,
                "y": 1.153804,
                "yshift": 15,
                "z": -1.534139
               },
               {
                "font": {
                 "color": "blue"
                },
                "showarrow": false,
                "text": 23,
                "x": -5.100673,
                "y": 1.478603,
                "yshift": 15,
                "z": 0.161924
               },
               {
                "font": {
                 "color": "blue"
                },
                "showarrow": false,
                "text": 24,
                "x": -3.809767,
                "y": -0.960048,
                "yshift": 15,
                "z": -0.867554
               },
               {
                "font": {
                 "color": "blue"
                },
                "showarrow": false,
                "text": 25,
                "x": -4.09915,
                "y": -0.765206,
                "yshift": 15,
                "z": 1.253517
               },
               {
                "font": {
                 "color": "blue"
                },
                "showarrow": false,
                "text": 26,
                "x": 3.869252,
                "y": 1.285756,
                "yshift": 15,
                "z": -0.316569
               },
               {
                "font": {
                 "color": "blue"
                },
                "showarrow": false,
                "text": 27,
                "x": -3.870469,
                "y": 0.247589,
                "yshift": 15,
                "z": 2.37577
               },
               {
                "font": {
                 "color": "blue"
                },
                "showarrow": false,
                "text": 28,
                "x": -4.435968,
                "y": 1.170651,
                "yshift": 15,
                "z": 2.227253
               },
               {
                "font": {
                 "color": "blue"
                },
                "showarrow": false,
                "text": 29,
                "x": 4.971089,
                "y": 0.48701,
                "yshift": 15,
                "z": -0.042705
               },
               {
                "font": {
                 "color": "blue"
                },
                "showarrow": false,
                "text": 30,
                "x": -6.21079,
                "y": -0.24722,
                "yshift": 15,
                "z": 0.974931
               },
               {
                "font": {
                 "color": "blue"
                },
                "showarrow": false,
                "text": 31,
                "x": -5.583511,
                "y": -1.12229,
                "yshift": 15,
                "z": 1.159878
               },
               {
                "font": {
                 "color": "blue"
                },
                "showarrow": false,
                "text": 32,
                "x": 5.841364,
                "y": -1.41814,
                "yshift": 15,
                "z": 1.177712
               },
               {
                "font": {
                 "color": "blue"
                },
                "showarrow": false,
                "text": 33,
                "x": 7.104912,
                "y": -1.212762,
                "yshift": 15,
                "z": 0.5841
               },
               {
                "font": {
                 "color": "blue"
                },
                "showarrow": false,
                "text": 34,
                "x": 3.597933,
                "y": -0.845647,
                "yshift": 15,
                "z": 1.427747
               },
               {
                "font": {
                 "color": "blue"
                },
                "showarrow": false,
                "text": 35,
                "x": -3.294935,
                "y": -2.034181,
                "yshift": 15,
                "z": 1.538524
               },
               {
                "font": {
                 "color": "blue"
                },
                "showarrow": false,
                "text": 36,
                "x": -2.81216,
                "y": 0.501035,
                "yshift": 15,
                "z": 2.461084
               },
               {
                "font": {
                 "color": "blue"
                },
                "showarrow": false,
                "text": 37,
                "x": -4.187674,
                "y": -0.180316,
                "yshift": 15,
                "z": 3.328243
               },
               {
                "font": {
                 "color": "blue"
                },
                "showarrow": false,
                "text": 38,
                "x": 3.977693,
                "y": 2.104195,
                "yshift": 15,
                "z": -1.018106
               },
               {
                "font": {
                 "color": "blue"
                },
                "showarrow": false,
                "text": 39,
                "x": 5.914837,
                "y": 0.702346,
                "yshift": 15,
                "z": -0.521061
               },
               {
                "font": {
                 "color": "blue"
                },
                "showarrow": false,
                "text": 40,
                "x": 7.754652,
                "y": -1.988101,
                "yshift": 15,
                "z": 0.979826
               },
               {
                "font": {
                 "color": "blue"
                },
                "showarrow": false,
                "text": 41,
                "x": 7.048111,
                "y": -1.305394,
                "yshift": 15,
                "z": -0.503396
               },
               {
                "font": {
                 "color": "blue"
                },
                "showarrow": false,
                "text": 42,
                "x": 7.508561,
                "y": -0.231098,
                "yshift": 15,
                "z": 0.845553
               },
               {
                "font": {
                 "color": "blue"
                },
                "showarrow": false,
                "text": 43,
                "x": 3.517851,
                "y": -1.682735,
                "yshift": 15,
                "z": 2.107874
               },
               {
                "font": {
                 "color": "blue"
                },
                "showarrow": false,
                "text": 44,
                "x": 1.547985,
                "y": -0.276658,
                "yshift": 15,
                "z": 1.577477
               },
               {
                "font": {
                 "color": "blue"
                },
                "showarrow": false,
                "text": 45,
                "x": -3.641703,
                "y": -2.489146,
                "yshift": 15,
                "z": 2.468793
               },
               {
                "font": {
                 "color": "blue"
                },
                "showarrow": false,
                "text": 46,
                "x": -2.230911,
                "y": -1.815607,
                "yshift": 15,
                "z": 1.633161
               },
               {
                "font": {
                 "color": "blue"
                },
                "showarrow": false,
                "text": 47,
                "x": -3.398353,
                "y": -2.759011,
                "yshift": 15,
                "z": 0.729951
               },
               {
                "font": {
                 "color": "blue"
                },
                "showarrow": false,
                "text": 48,
                "x": -5.758173,
                "y": -1.84509,
                "yshift": 15,
                "z": 0.360083
               },
               {
                "font": {
                 "color": "blue"
                },
                "showarrow": false,
                "text": 49,
                "x": -5.917247,
                "y": -1.571787,
                "yshift": 15,
                "z": 2.096544
               },
               {
                "font": {
                 "color": "blue"
                },
                "showarrow": false,
                "text": 50,
                "x": 4.836379,
                "y": -0.583825,
                "yshift": 15,
                "z": 0.836916
               },
               {
                "font": {
                 "color": "blue"
                },
                "showarrow": false,
                "text": 51,
                "x": 2.509873,
                "y": -0.057426,
                "yshift": 15,
                "z": 1.130954
               },
               {
                "showarrow": false,
                "text": 1.55,
                "x": -3.98184,
                "y": 0.48086399999999996,
                "yshift": 10,
                "z": -0.308229
               },
               {
                "showarrow": false,
                "text": 1.45,
                "x": -3.772874,
                "y": 1.6369759999999998,
                "yshift": 10,
                "z": -0.46772749999999996
               },
               {
                "showarrow": false,
                "text": 1.34,
                "x": -2.6773689999999997,
                "y": 1.7602094999999998,
                "yshift": 10,
                "z": -0.346519
               },
               {
                "showarrow": false,
                "text": 1.26,
                "x": -2.1741735,
                "y": 0.7740655,
                "yshift": 10,
                "z": -0.1860375
               },
               {
                "showarrow": false,
                "text": 1.38,
                "x": -0.7874675,
                "y": 2.786154,
                "yshift": 10,
                "z": -0.297492
               },
               {
                "showarrow": false,
                "text": 1.39,
                "x": -0.12877049999999998,
                "y": 3.7724849999999996,
                "yshift": 10,
                "z": -0.295211
               },
               {
                "showarrow": false,
                "text": 1.38,
                "x": 1.0523215000000001,
                "y": 3.6704735,
                "yshift": 10,
                "z": -0.17713099999999998
               },
               {
                "showarrow": false,
                "text": 1.4,
                "x": 1.534926,
                "y": 2.5740295,
                "yshift": 10,
                "z": -0.0623075
               },
               {
                "showarrow": false,
                "text": 1.34,
                "x": 0.863606,
                "y": 1.5910285000000002,
                "yshift": 10,
                "z": -0.0999525
               },
               {
                "showarrow": false,
                "text": 2.27,
                "x": -0.011197000000000012,
                "y": 0.23702,
                "yshift": 10,
                "z": -0.446842
               },
               {
                "showarrow": false,
                "text": 2.33,
                "x": -0.7801,
                "y": -1.8321475,
                "yshift": 10,
                "z": -1.0542070000000001
               },
               {
                "showarrow": false,
                "text": 1.09,
                "x": 1.721895,
                "y": -1.0289565,
                "yshift": 10,
                "z": -1.6339139999999999
               },
               {
                "showarrow": false,
                "text": 1.09,
                "x": -4.1532184999999995,
                "y": 0.7091200000000001,
                "yshift": 10,
                "z": 2.3015115
               },
               {
                "showarrow": false,
                "text": 1.09,
                "x": -5.8971505,
                "y": -0.684755,
                "yshift": 10,
                "z": 1.0674044999999999
               },
               {
                "showarrow": false,
                "text": 1.41,
                "x": 6.473138,
                "y": -1.315451,
                "yshift": 10,
                "z": 0.880906
               },
               {
                "showarrow": false,
                "text": 1.48,
                "x": -1.4690509999999999,
                "y": 1.748071,
                "yshift": 10,
                "z": -0.2661675
               },
               {
                "showarrow": false,
                "text": 1.98,
                "x": 0.5647209999999999,
                "y": -1.1475119999999999,
                "yshift": 10,
                "z": -1.119601
               },
               {
                "showarrow": false,
                "text": 1.09,
                "x": 1.6701644999999998,
                "y": -1.7797135000000002,
                "yshift": 10,
                "z": -1.1487255
               },
               {
                "showarrow": false,
                "text": 1.53,
                "x": -3.9848095,
                "y": -0.2588085,
                "yshift": 10,
                "z": 1.8146435
               },
               {
                "showarrow": false,
                "text": 1.09,
                "x": 1.3024205,
                "y": -1.7530155,
                "yshift": 10,
                "z": -1.959495
               },
               {
                "showarrow": false,
                "text": 1.39,
                "x": 4.4201705,
                "y": 0.8863829999999999,
                "yshift": 10,
                "z": -0.179637
               },
               {
                "showarrow": false,
                "text": 1.46,
                "x": -2.9417135,
                "y": -0.020478999999999997,
                "yshift": 10,
                "z": -0.107078
               },
               {
                "showarrow": false,
                "text": 1.35,
                "x": -0.2776955,
                "y": 1.7011415,
                "yshift": 10,
                "z": -0.217057
               },
               {
                "showarrow": false,
                "text": 1.39,
                "x": 3.2498025,
                "y": 1.154254,
                "yshift": 10,
                "z": -0.03227050000000001
               },
               {
                "showarrow": false,
                "text": 1.53,
                "x": -4.8413305,
                "y": -0.943748,
                "yshift": 10,
                "z": 1.2066975
               },
               {
                "showarrow": false,
                "text": 2.26,
                "x": -1.257931,
                "y": -0.340627,
                "yshift": 10,
                "z": -0.41601
               },
               {
                "showarrow": false,
                "text": 1.09,
                "x": 7.429781999999999,
                "y": -1.6004315,
                "yshift": 10,
                "z": 0.781963
               },
               {
                "showarrow": false,
                "text": 1.08,
                "x": 2.0289289999999998,
                "y": -0.167042,
                "yshift": 10,
                "z": 1.3542155
               },
               {
                "showarrow": false,
                "text": 1.09,
                "x": 7.0765115,
                "y": -1.259078,
                "yshift": 10,
                "z": 0.040352
               },
               {
                "showarrow": false,
                "text": 1.09,
                "x": -3.3413145,
                "y": 0.374312,
                "yshift": 10,
                "z": 2.4184270000000003
               },
               {
                "showarrow": false,
                "text": 1.09,
                "x": 7.3067364999999995,
                "y": -0.72193,
                "yshift": 10,
                "z": 0.7148265
               },
               {
                "showarrow": false,
                "text": 1.08,
                "x": 3.557892,
                "y": -1.264191,
                "yshift": 10,
                "z": 1.7678105
               },
               {
                "showarrow": false,
                "text": 1.53,
                "x": -3.6970425000000002,
                "y": -1.3996935,
                "yshift": 10,
                "z": 1.3960205
               },
               {
                "showarrow": false,
                "text": 1.09,
                "x": -4.029071500000001,
                "y": 0.0336365,
                "yshift": 10,
                "z": 2.8520065
               },
               {
                "showarrow": false,
                "text": 1.08,
                "x": 5.442963000000001,
                "y": 0.594678,
                "yshift": 10,
                "z": -0.281883
               },
               {
                "showarrow": false,
                "text": 1.09,
                "x": -3.468319,
                "y": -2.2616635,
                "yshift": 10,
                "z": 2.0036585
               },
               {
                "showarrow": false,
                "text": 1.08,
                "x": -1.2108425,
                "y": 3.761773,
                "yshift": 10,
                "z": -0.374236
               },
               {
                "showarrow": false,
                "text": 1.08,
                "x": 0.548144,
                "y": 4.6083495,
                "yshift": 10,
                "z": -0.284943
               },
               {
                "showarrow": false,
                "text": 1.08,
                "x": 2.0981845,
                "y": 3.48643,
                "yshift": 10,
                "z": -0.030129
               },
               {
                "showarrow": false,
                "text": 1.47,
                "x": 2.0468245,
                "y": 1.4500130000000002,
                "yshift": 10,
                "z": 0.10994099999999998
               },
               {
                "showarrow": false,
                "text": 1.09,
                "x": -2.762923,
                "y": -1.9248939999999999,
                "yshift": 10,
                "z": 1.5858425
               },
               {
                "showarrow": false,
                "text": 1.08,
                "x": 3.9234725,
                "y": 1.6949755,
                "yshift": 10,
                "z": -0.6673374999999999
               },
               {
                "showarrow": false,
                "text": 1.09,
                "x": -3.3466440000000004,
                "y": -2.3965959999999997,
                "yshift": 10,
                "z": 1.1342375
               },
               {
                "showarrow": false,
                "text": 1.4,
                "x": 4.217156,
                "y": -0.714736,
                "yshift": 10,
                "z": 1.1323315
               },
               {
                "showarrow": false,
                "text": 1.09,
                "x": -5.670842,
                "y": -1.48369,
                "yshift": 10,
                "z": 0.7599805
               },
               {
                "showarrow": false,
                "text": 1.38,
                "x": 3.053903,
                "y": -0.4515365,
                "yshift": 10,
                "z": 1.2793505
               },
               {
                "showarrow": false,
                "text": 1.09,
                "x": -5.750379,
                "y": -1.3470385,
                "yshift": 10,
                "z": 1.628211
               },
               {
                "showarrow": false,
                "text": 1.35,
                "x": 5.3388715,
                "y": -1.0009825,
                "yshift": 10,
                "z": 1.007314
               },
               {
                "showarrow": false,
                "text": 1.09,
                "x": -4.492644,
                "y": 1.1529895,
                "yshift": 10,
                "z": -1.021268
               },
               {
                "showarrow": false,
                "text": 1.09,
                "x": -4.705239,
                "y": 1.315389,
                "yshift": 10,
                "z": -0.1732365
               },
               {
                "showarrow": false,
                "text": 1.39,
                "x": 4.903734,
                "y": -0.04840750000000002,
                "yshift": 10,
                "z": 0.3971055
               },
               {
                "showarrow": false,
                "text": 1.4,
                "x": 2.570113,
                "y": 0.48266300000000006,
                "yshift": 10,
                "z": 0.691491
               },
               {
                "showarrow": false,
                "text": 1.09,
                "x": -3.731821,
                "y": -0.5752475,
                "yshift": 10,
                "z": -0.4878075
               },
               {
                "showarrow": false,
                "text": 1.54,
                "x": -3.8765125,
                "y": -0.47782650000000004,
                "yshift": 10,
                "z": 0.572728
               }
              ]
             }
            ],
            "label": "Atom indices & Bond lengths",
            "method": "relayout"
           },
           {
            "args": [
             {
              "scene.annotations": []
             }
            ],
            "label": "Hide all",
            "method": "relayout"
           }
          ],
          "direction": "down",
          "xanchor": "left",
          "yanchor": "top"
         }
        ]
       }
      }
     },
     "metadata": {},
     "output_type": "display_data"
    }
   ],
   "source": [
    "# visualize molecules 0-5 with mols.molecules[0:5] and visualize molecule me\n",
    "mols.visualize_molecules([0,1,2,3,4,5])"
   ]
  },
  {
   "cell_type": "code",
   "execution_count": 10,
   "metadata": {},
   "outputs": [],
   "source": [
    "import os\n",
    "import csv\n",
    "from rdkit import Chem\n",
    "from rdkit.Chem import rdmolfiles\n",
    "\n",
    "def xyz_dir_to_csv(directory, output_csv=\"output.csv\"):\n",
    "    \"\"\"\n",
    "    Processes XYZ files in a directory and creates a CSV with filenames and SMILES.\n",
    "    \n",
    "    Args:\n",
    "        directory (str): Path to directory containing XYZ files\n",
    "        output_csv (str): Name of output CSV file (default: output.csv)\n",
    "    \"\"\"\n",
    "    results = []\n",
    "    mols = []\n",
    "    for filename in os.listdir(directory):\n",
    "        if filename.endswith(\".xyz\"):\n",
    "            filepath = os.path.join(directory, filename)\n",
    "            \n",
    "            try:\n",
    "                # Read XYZ file and convert to molecule\n",
    "                mol = rdmolfiles.MolFromXYZFile(filepath)\n",
    "                mols.append(mol)\n",
    "                if mol:\n",
    "                    # Generate canonical SMILES\n",
    "                    smiles =  rdmolfiles.MolToCXSmiles(mol)\n",
    "                    results.append([filename, smiles])\n",
    "                    \n",
    "            except Exception as e:\n",
    "                print(f\"Error processing {filename}: {str(e)}\")\n",
    "    \n",
    "    # Write to CSV\n",
    "    # with open(output_csv, 'w', newline='') as f:\n",
    "    #     writer = csv.writer(f)\n",
    "    #     writer.writerow([\"Filename\", \"SMILES\"])\n",
    "    #     writer.writerows(results)\n",
    "\n",
    "    return results, mols\n",
    "\n",
    "os.chdir(r'C:\\Users\\edens\\Documents\\GitHub\\lucas_project\\new_update_logs\\xyz_new')\n",
    "res,mols=xyz_dir_to_csv(os.getcwd(), output_csv=\"smiles_lucas.csv\")"
   ]
  },
  {
   "cell_type": "code",
   "execution_count": 20,
   "metadata": {},
   "outputs": [],
   "source": [
    "import os\n",
    "import csv\n",
    "from openbabel import pybel  # Requires Open Babel\n",
    "\n",
    "def xyz_to_cxsmiles_with_metal(directory, output_csv=\"output.csv\"):\n",
    "    \"\"\"\n",
    "    Processes XYZ files in a directory and creates a CSV with filenames and CXSMILES strings,\n",
    "    including proper handling of transition metals like Pd.\n",
    "\n",
    "    Args:\n",
    "        directory (str): Path to the directory containing XYZ files.\n",
    "        output_csv (str): Name of the output CSV file (default: \"output.csv\").\n",
    "    \"\"\"\n",
    "    results = []\n",
    "\n",
    "    # Iterate through all files in the directory\n",
    "    for filename in os.listdir(directory):\n",
    "        if filename.endswith(\".xyz\"):  # Only process XYZ files\n",
    "            filepath = os.path.join(directory, filename)\n",
    "\n",
    "            try:\n",
    "                # Use Open Babel to read the XYZ file\n",
    "                mol = next(pybel.readfile(\"xyz\", filepath))\n",
    "\n",
    "                # Generate SMILES or CXSMILES\n",
    "                smiles = mol.write(\"smi\").split()[0].strip()  # Generate SMILES string\n",
    "                results.append([filename, smiles])\n",
    "            except Exception as e:\n",
    "                print(f\"Error processing {filename}: {str(e)}\")\n",
    "                results.append([filename, \"Error\"])\n",
    "\n",
    "    # Write results to a CSV file\n",
    "    with open(output_csv, 'w', newline='') as f:\n",
    "        writer = csv.writer(f)\n",
    "        writer.writerow([\"Filename\", \"CXSMILES\"])\n",
    "        writer.writerows(results)\n",
    "\n",
    "    print(f\"CSV file '{output_csv}' created successfully!\")\n"
   ]
  },
  {
   "cell_type": "code",
   "execution_count": 21,
   "metadata": {},
   "outputs": [
    {
     "name": "stdout",
     "output_type": "stream",
     "text": [
      "Error processing LS1685.xyz: \n",
      "CSV file 'smiles_lucas_metal_new.csv' created successfully!\n"
     ]
    }
   ],
   "source": [
    "xyz_to_cxsmiles_with_metal(r'C:\\Users\\edens\\Documents\\GitHub\\lucas_project\\new_update_logs\\xyz_new', output_csv=\"smiles_lucas_metal_new.csv\")"
   ]
  },
  {
   "cell_type": "code",
   "execution_count": null,
   "metadata": {},
   "outputs": [],
   "source": []
  }
 ],
 "metadata": {
  "kernelspec": {
   "display_name": "labenv",
   "language": "python",
   "name": "python3"
  },
  "language_info": {
   "codemirror_mode": {
    "name": "ipython",
    "version": 3
   },
   "file_extension": ".py",
   "mimetype": "text/x-python",
   "name": "python",
   "nbconvert_exporter": "python",
   "pygments_lexer": "ipython3",
   "version": "3.9.18"
  }
 },
 "nbformat": 4,
 "nbformat_minor": 2
}
