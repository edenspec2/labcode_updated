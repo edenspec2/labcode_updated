{
 "cells": [
  {
   "cell_type": "code",
   "execution_count": 10,
   "metadata": {},
   "outputs": [
    {
     "name": "stdout",
     "output_type": "stream",
     "text": [
      "L         B_1       B_5       \n",
      "6.16      2.50      6.70      \n",
      "L         B_1       B_5       \n",
      "6.15      2.82      7.77      \n",
      "L         B_1       B_5       \n",
      "6.15      2.78      7.47      \n",
      "L         B_1       B_5       \n",
      "6.15      2.69      6.87      \n",
      "L         B_1       B_5       \n",
      "6.15      2.83      8.08      \n",
      "L         B_1       B_5       \n",
      "6.16      2.86      7.93      \n",
      "L         B_1       B_5       \n",
      "6.16      2.06      7.03      \n",
      "L         B_1       B_5       \n",
      "6.16      2.09      7.07      \n",
      "L         B_1       B_5       \n",
      "6.16      2.13      7.16      \n",
      "L         B_1       B_5       \n",
      "6.16      2.06      6.93      \n",
      "L         B_1       B_5       \n",
      "6.14      2.08      7.09      \n",
      "L         B_1       B_5       \n",
      "6.16      2.70      7.35      \n",
      "L         B_1       B_5       \n",
      "6.16      2.48      7.61      \n",
      "L         B_1       B_5       \n",
      "6.17      2.51      8.57      \n",
      "L         B_1       B_5       \n",
      "7.89      2.50      11.60     \n",
      "L         B_1       B_5       \n",
      "6.17      2.48      8.11      \n",
      "L         B_1       B_5       \n",
      "6.17      2.49      7.88      \n",
      "L         B_1       B_5       \n",
      "6.16      2.51      7.28      \n",
      "L         B_1       B_5       \n",
      "6.16      2.51      8.39      \n",
      "L         B_1       B_5       \n",
      "6.16      2.54      7.82      \n",
      "L         B_1       B_5       \n",
      "6.17      2.51      8.01      \n",
      "L         B_1       B_5       \n",
      "6.55      2.47      9.35      \n",
      "L         B_1       B_5       \n",
      "6.17      2.48      7.34      \n",
      "L         B_1       B_5       \n",
      "6.17      2.47      8.27      \n",
      "L         B_1       B_5       \n",
      "7.18      2.57      10.17     \n",
      "L         B_1       B_5       \n",
      "6.17      2.46      8.55      \n"
     ]
    }
   ],
   "source": [
    "from morfeus import Sterimol, read_xyz\n",
    "import os\n",
    "os.chdir(r'C:\\Users\\edens\\Documents\\Random molecules\\Extracted_info\\Optimized_structures_xyz')\n",
    "files=os.listdir(r'C:\\Users\\edens\\Documents\\Random molecules\\Extracted_info\\Optimized_structures_xyz')\n",
    "for file in files:\n",
    "    elements, coordinates = read_xyz(file)\n",
    "    sterimol = Sterimol(elements, coordinates, 1, 2, radii_type='crc')\n",
    "    sterimol.print_report()\n",
    "    print(file)"
   ]
  },
  {
   "cell_type": "code",
   "execution_count": null,
   "metadata": {},
   "outputs": [],
   "source": []
  }
 ],
 "metadata": {
  "kernelspec": {
   "display_name": "labenv",
   "language": "python",
   "name": "python3"
  },
  "language_info": {
   "codemirror_mode": {
    "name": "ipython",
    "version": 3
   },
   "file_extension": ".py",
   "mimetype": "text/x-python",
   "name": "python",
   "nbconvert_exporter": "python",
   "pygments_lexer": "ipython3",
   "version": "3.9.18"
  }
 },
 "nbformat": 4,
 "nbformat_minor": 2
}
