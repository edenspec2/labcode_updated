{
 "cells": [
  {
   "cell_type": "code",
   "execution_count": null,
   "metadata": {},
   "outputs": [],
   "source": [
    "%load_ext autoreload\n",
    "%autoreload 2\n",
    "import os\n",
    "\n",
    "from data_extractor import Molecules\n",
    "import numpy as np\n",
    "\n",
    "\n",
    "\n",
    "mols=Molecules(r'C:\\Users\\edens\\Documents\\GitHub\\LabCode\\MolFeatures\\feather_example')\n",
    "\n"
   ]
  },
  {
   "cell_type": "code",
   "execution_count": null,
   "metadata": {},
   "outputs": [],
   "source": [
    "mols.get_ring_vibration_dict([7,14])"
   ]
  },
  {
   "cell_type": "code",
   "execution_count": null,
   "metadata": {},
   "outputs": [],
   "source": [
    "mols.get_bend_vibration_dict([5,6])"
   ]
  },
  {
   "cell_type": "code",
   "execution_count": null,
   "metadata": {},
   "outputs": [],
   "source": [
    "mols.get_stretch_vibration_dict([2,18])"
   ]
  },
  {
   "cell_type": "code",
   "execution_count": null,
   "metadata": {},
   "outputs": [],
   "source": [
    "\n",
    "mols.get_stretch_vibration_dict([27,29],1300)"
   ]
  },
  {
   "cell_type": "code",
   "execution_count": null,
   "metadata": {},
   "outputs": [],
   "source": [
    "mols.get_stretch_vibration_dict([19,21],1000)"
   ]
  },
  {
   "cell_type": "code",
   "execution_count": null,
   "metadata": {},
   "outputs": [],
   "source": [
    "mols.get_stretch_vibration_dict([1,4],1000)"
   ]
  },
  {
   "cell_type": "code",
   "execution_count": null,
   "metadata": {},
   "outputs": [],
   "source": [
    "dipole=mols.get_dipole_dict([[7,8,9,10,14,12],8,9])\n",
    "dipole\n"
   ]
  },
  {
   "cell_type": "code",
   "execution_count": null,
   "metadata": {},
   "outputs": [],
   "source": [
    "# Example usage of get_sterimol_dict\n",
    "atom_indices = [[1, 6], [3, 4]]  # Example atom indices\n",
    "sterimol_dict = mols.get_sterimol_dict(atom_indices)\n",
    "sterimol_dict\n"
   ]
  },
  {
   "cell_type": "code",
   "execution_count": null,
   "metadata": {},
   "outputs": [],
   "source": [
    "atom_indices = [1, 2, 3]  # Example base atom indices\n",
    "\n",
    "npa_dict = mols.get_npa_dict(atom_indices)\n",
    "npa_dict"
   ]
  },
  {
   "cell_type": "code",
   "execution_count": null,
   "metadata": {},
   "outputs": [],
   "source": [
    "ring_atom_indices = [7,14]  # Example ring atom indices\n",
    "ring_vibration_dict = mols.get_ring_vibration_dict(ring_atom_indices)\n",
    "ring_vibration_dict"
   ]
  },
  {
   "cell_type": "code",
   "execution_count": null,
   "metadata": {},
   "outputs": [],
   "source": [
    "atom_indices = [[1, 2, 3], [4, 5, 6]]    \n",
    "bond_angle_dict = mols.get_bond_angle_dict(atom_indices)\n",
    "bond_angle_dict"
   ]
  },
  {
   "cell_type": "code",
   "execution_count": null,
   "metadata": {},
   "outputs": [],
   "source": [
    "atom_pairs = [[1, 2], [3, 4]]  # Example atom pairs\n",
    "bond_length_dict = mols.get_bond_length_dict(atom_pairs)\n",
    "bond_length_dict"
   ]
  },
  {
   "cell_type": "code",
   "execution_count": null,
   "metadata": {},
   "outputs": [],
   "source": [
    "atom_indices = [[1, 2], [3, 4]] \n",
    "charge_diff_df_dict = mols.get_charge_diff_df_dict(atom_indices,tyep='nbo')\n",
    "charge_diff_df_dict"
   ]
  },
  {
   "cell_type": "code",
   "execution_count": null,
   "metadata": {},
   "outputs": [],
   "source": [
    "### Help function to unify all dictionaries into one dataframe for this nobeook example\n",
    "\n",
    "os.chdir(r'C:\\Users\\edens\\Documents\\GitHub\\LabCode\\MolFeatures\\utils')\n",
    "from help_functions import dict_to_horizontal_df\n",
    "import pandas as pd\n",
    "\n",
    "\n",
    "lists_in_scope = {k: v for k, v in globals().items() if isinstance(v, dict)}\n",
    "def unify_list_of_dicts_to_dataframe(list_of_dicts):\n",
    "    \"\"\"\n",
    "    Unify two dictionaries into one dictionary.\n",
    "    \"\"\" \n",
    "    data = pd.DataFrame()\n",
    "    for key, value in lists_in_scope.items():\n",
    "        for key, value1 in value.items():\n",
    "            try:\n",
    "                data = pd.concat([data, dict_to_horizontal_df(value1)], axis=1)\n",
    "            except AttributeError:\n",
    "                if isinstance(value1, dict):\n",
    "                    for key2, value2 in value1.items():\n",
    "                        try:\n",
    "                        \n",
    "                            data = pd.concat([data, dict_to_horizontal_df(value2)], axis=1)\n",
    "                            \n",
    "                        except Exception as e:  # Catch any exception and print the error for debugging\n",
    "                            continue\n",
    "            except Exception as e:  # Catch any other exceptions for the outer loop\n",
    "                print(f\"Error processing value1: {e}\")\n",
    "    return data\n",
    "\n",
    "data = unify_list_of_dicts_to_dataframe(lists_in_scope)"
   ]
  },
  {
   "cell_type": "code",
   "execution_count": null,
   "metadata": {},
   "outputs": [],
   "source": [
    "data"
   ]
  },
  {
   "cell_type": "code",
   "execution_count": null,
   "metadata": {},
   "outputs": [],
   "source": []
  }
 ],
 "metadata": {
  "kernelspec": {
   "display_name": "labenv",
   "language": "python",
   "name": "python3"
  },
  "language_info": {
   "codemirror_mode": {
    "name": "ipython",
    "version": 3
   },
   "file_extension": ".py",
   "mimetype": "text/x-python",
   "name": "python",
   "nbconvert_exporter": "python",
   "pygments_lexer": "ipython3",
   "version": "3.9.18"
  }
 },
 "nbformat": 4,
 "nbformat_minor": 2
}
