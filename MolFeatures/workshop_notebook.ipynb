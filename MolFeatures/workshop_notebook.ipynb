{
 "cells": [
  {
   "cell_type": "code",
   "execution_count": 49,
   "id": "914a1564",
   "metadata": {},
   "outputs": [
    {
     "name": "stdout",
     "output_type": "stream",
     "text": [
      "Setting ROOT_DIR to: C:\\Users\\edens\\Documents\\GitHub\\possible_dataset_info\\second_sphere_dayalan\n",
      "Could not change directory to C:\\Users\\edens\\Documents\\GitHub\\possible_dataset_info\\second_sphere_dayalan\\Getting_started_with_examples. Please ensure the path exists.\n",
      "Current working directory: C:\\Users\\edens\\Documents\\GitHub\\possible_dataset_info\\second_sphere_dayalan\n"
     ]
    }
   ],
   "source": [
    "# ===Jupyter notebook setup commands===\n",
    "%reset -f\n",
    "%reload_ext autoreload\n",
    "%autoreload 2\n",
    "\n",
    "# ===imports===\n",
    "import os\n",
    "import sys\n",
    "import importlib\n",
    "import numpy as np\n",
    "import pandas as pd\n",
    "from pathlib import Path\n",
    "# === Setup ===\n",
    "# Might need to change to main directory of MolFeatures - r'/your/path/to/MolFeatures'\n",
    "ROOT_DIR = Path().resolve().parent\n",
    "print(f\"Setting ROOT_DIR to: {ROOT_DIR}\")\n",
    "sys.path.append(ROOT_DIR)\n",
    "sys.path.append(os.path.join(ROOT_DIR, 'M3_modeler'))\n",
    "sys.path.append(os.path.join(ROOT_DIR, 'M2_data_extractor'))\n",
    "sys.path.append(os.path.join(ROOT_DIR, 'utils'))\n",
    "os.chdir(ROOT_DIR)  # Set working directory\n",
    "\n",
    "# === Clear old module caches ===\n",
    "for module in ['data_extractor', 'feather_extractor', 'gaussian_handler', 'help_functions', 'modeling', 'plot']:\n",
    "    sys.modules.pop(module, None)\n",
    "\n",
    "# === Safe Imports ===\n",
    "try:\n",
    "    from data_extractor import Molecules, extract_connectivity\n",
    "    from morfeus_sterics import morfeus_results_to_df\n",
    "    from feather_extractor import logs_to_feather\n",
    "    import gaussian_handler\n",
    "    from gaussian_handler import feather_file_handler\n",
    "    from help_functions import dict_to_horizontal_df, get_df_from_file, pick_samples_to_remove_for_distribution\n",
    "    import help_functions\n",
    "    import visualize\n",
    "    from modeling import (\n",
    "        ClassificationModel,\n",
    "        LinearRegressionModel,\n",
    "        fit_and_evaluate_single_combination_regression,\n",
    "        fit_and_evaluate_single_combination_classification\n",
    "        \n",
    "    )\n",
    "    import plot\n",
    "    \n",
    "except ModuleNotFoundError as e:\n",
    "    print(f\"Module import failed: {e} \\nPlease ensure all required modules are installed and available in the path specified on the right hand corner of the notebook.\")\n",
    "# === Config ===\n",
    "pd.set_option('display.max_columns', None)\n",
    "examples_path=ROOT_DIR / 'Getting_started_with_examples'\n",
    "try:\n",
    "    os.chdir(examples_path)  # Ensure working directory is examples_path\n",
    "except : \n",
    "    print(f\"Could not change directory to {examples_path}. Please ensure the path exists.\")\n",
    "    print(f\"Current working directory: {os.getcwd()}\")\n",
    "    pass\n",
    "   "
   ]
  },
  {
   "cell_type": "code",
   "execution_count": 17,
   "id": "1718617b",
   "metadata": {},
   "outputs": [
    {
     "name": "stdout",
     "output_type": "stream",
     "text": [
      "Molecules Loaded: ['1-Ad.feather', '4-Et-Ph.feather', '4-MeO-Ph.feather', '4-tBu-Ph.feather', '5F-Ph.feather', 'Bn.feather', 'CCl₃.feather', 'CHEt₂.feather', 'CHPh₂.feather', 'CH₂CF₃.feather', 'CH₂iPr.feather', 'CH₂tBu.feather', 'Cy.feather', 'Et.feather', 'iPr.feather', 'Me.feather', 'Ph.feather', 'tB14.feather'] Failed Molecules: []\n"
     ]
    }
   ],
   "source": [
    "## Bisphenol example - output\n",
    "ddG_dict = {\n",
    "    \"Me\": 0.545178102,\n",
    "    \"Et\": 0.605535911,\n",
    "    \"Ph\": 0.513320796,\n",
    "    \"Bn\": 0.440848865,\n",
    "    \"iPr\": 0.888718471,\n",
    "    \"tBu\": 1.732739731,\n",
    "    \"Cy\": 0.725235446,\n",
    "    \"CH2tBu\": 0.584946549,\n",
    "    \"CHEt2\": 1.123896008,\n",
    "    \"CH2iPr\": 0.351085622,\n",
    "    \"CHPh2\": 0.820407149,\n",
    "    \"1‐Ad\": 1.713704329,\n",
    "    \"CCl3\": 0.772767909,\n",
    "    \"4-MeO-Ph\": 0.761095748,\n",
    "    \"4-tBu-Ph\": 0.725235446,\n",
    "    \"CH2CF3\": 0.749947626,\n",
    "    \"4-Et-Ph\": 0.761095748,\n",
    "    \"5F-Ph\": 0.018921159\n",
    "}\n",
    "\n",
    "bisphenol_mols= Molecules(r'C:\\Users\\edens\\Documents\\GitHub\\possible_dataset_info\\bisphenol_feather')"
   ]
  },
  {
   "cell_type": "code",
   "execution_count": 9,
   "id": "333ee4ec",
   "metadata": {},
   "outputs": [
    {
     "data": {
      "text/html": [
       "<div>\n",
       "<style scoped>\n",
       "    .dataframe tbody tr th:only-of-type {\n",
       "        vertical-align: middle;\n",
       "    }\n",
       "\n",
       "    .dataframe tbody tr th {\n",
       "        vertical-align: top;\n",
       "    }\n",
       "\n",
       "    .dataframe thead th {\n",
       "        text-align: right;\n",
       "    }\n",
       "</style>\n",
       "<table border=\"1\" class=\"dataframe\">\n",
       "  <thead>\n",
       "    <tr style=\"text-align: right;\">\n",
       "      <th></th>\n",
       "      <th>B1_11-27</th>\n",
       "      <th>B5_11-27</th>\n",
       "      <th>L_11-27</th>\n",
       "      <th>loc_B5_11-27</th>\n",
       "      <th>B1_B5_angle_11-27</th>\n",
       "    </tr>\n",
       "  </thead>\n",
       "  <tbody>\n",
       "    <tr>\n",
       "      <th>1-Ad</th>\n",
       "      <td>1.9907</td>\n",
       "      <td>4.8939</td>\n",
       "      <td>6.3666</td>\n",
       "      <td>2.2666</td>\n",
       "      <td>162.1097</td>\n",
       "    </tr>\n",
       "    <tr>\n",
       "      <th>4-Et-Ph</th>\n",
       "      <td>1.8028</td>\n",
       "      <td>3.2246</td>\n",
       "      <td>8.4893</td>\n",
       "      <td>4.0867</td>\n",
       "      <td>88.2051</td>\n",
       "    </tr>\n",
       "    <tr>\n",
       "      <th>4-MeO-Ph</th>\n",
       "      <td>1.7023</td>\n",
       "      <td>3.2289</td>\n",
       "      <td>8.4422</td>\n",
       "      <td>4.0825</td>\n",
       "      <td>92.7640</td>\n",
       "    </tr>\n",
       "    <tr>\n",
       "      <th>4-tBu-Ph</th>\n",
       "      <td>2.7485</td>\n",
       "      <td>3.4163</td>\n",
       "      <td>8.6276</td>\n",
       "      <td>5.8911</td>\n",
       "      <td>85.4788</td>\n",
       "    </tr>\n",
       "    <tr>\n",
       "      <th>5F-Ph</th>\n",
       "      <td>1.6998</td>\n",
       "      <td>3.8058</td>\n",
       "      <td>7.0046</td>\n",
       "      <td>4.2036</td>\n",
       "      <td>91.3009</td>\n",
       "    </tr>\n",
       "  </tbody>\n",
       "</table>\n",
       "</div>"
      ],
      "text/plain": [
       "          B1_11-27  B5_11-27  L_11-27  loc_B5_11-27  B1_B5_angle_11-27\n",
       "1-Ad        1.9907    4.8939   6.3666        2.2666           162.1097\n",
       "4-Et-Ph     1.8028    3.2246   8.4893        4.0867            88.2051\n",
       "4-MeO-Ph    1.7023    3.2289   8.4422        4.0825            92.7640\n",
       "4-tBu-Ph    2.7485    3.4163   8.6276        5.8911            85.4788\n",
       "5F-Ph       1.6998    3.8058   7.0046        4.2036            91.3009"
      ]
     },
     "execution_count": 9,
     "metadata": {},
     "output_type": "execute_result"
    }
   ],
   "source": [
    "sterimol = bisphenol_mols.get_sterimol_dict([11,27])\n",
    "sterimol.head()"
   ]
  },
  {
   "cell_type": "code",
   "execution_count": 10,
   "id": "d047c7eb",
   "metadata": {},
   "outputs": [],
   "source": [
    "os.chdir(r'C:\\Users\\edens\\Documents\\GitHub\\possible_dataset_info\\bisphenol_feather')\n",
    "sterimol.to_csv('sterimol.csv', index=True)"
   ]
  },
  {
   "cell_type": "code",
   "execution_count": 20,
   "id": "b97df345",
   "metadata": {},
   "outputs": [
    {
     "name": "stdout",
     "output_type": "stream",
     "text": [
      "Error extracting energy value: float() argument must be a string or a number, not 'NoneType'\n",
      "Error extracting energy value: float() argument must be a string or a number, not 'NoneType'\n",
      "Error extracting energy value: float() argument must be a string or a number, not 'NoneType'\n",
      "Error extracting energy value: float() argument must be a string or a number, not 'NoneType'\n",
      "Error extracting energy value: float() argument must be a string or a number, not 'NoneType'\n",
      "Error extracting energy value: float() argument must be a string or a number, not 'NoneType'\n",
      "Error extracting energy value: float() argument must be a string or a number, not 'NoneType'\n",
      "Error extracting energy value: float() argument must be a string or a number, not 'NoneType'\n",
      "Error extracting energy value: float() argument must be a string or a number, not 'NoneType'\n",
      "Error extracting energy value: float() argument must be a string or a number, not 'NoneType'\n",
      "Molecules Loaded: ['m-CN_BA_renumbered.feather', 'm-OMe_BA_renumbered.feather', 'm-SO2Me_BA_renumbered.feather', 'o-Me_BA_renumbered.feather', 'p-Cl_BA_renumbered.feather', 'p-CO2Me_BA_renumbered.feather', 'p-COMe_BA_renumbered.feather', 'p-F_BA_renumbered.feather', 'p-H_BA_renumbered.feather', 'p-OMe_BA_renumbered.feather'] Failed Molecules: []\n"
     ]
    }
   ],
   "source": [
    "benzoic_mols = Molecules(r'C:\\Users\\edens\\Documents\\GitHub\\possible_dataset_info\\milo_benzoic_acids\\feathers\\re')"
   ]
  },
  {
   "cell_type": "code",
   "execution_count": null,
   "id": "0c832ddd",
   "metadata": {},
   "outputs": [
    {
     "name": "stdout",
     "output_type": "stream",
     "text": [
      "Molecules Loaded: ['m-CN_BA.feather', 'm-OMe_BA.feather', 'm-SO2Me_BA.feather', 'o-Me_BA.feather', 'p-Cl_BA.feather', 'p-CO2Me_BA.feather', 'p-COMe_BA.feather', 'p-F_BA.feather', 'p-H_BA.feather', 'p-OMe_BA.feather', 'p-t-Bu_BA.feather'] Failed Molecules: []\n",
      "No basic structure file provided, using the smallest file in the folder as the basic structure.\n",
      "molecules is not valid\n",
      "The basic structure path is C:\\Users\\edens\\Documents\\GitHub\\possible_dataset_info\\milo_benzoic_acids\\xyz_files\\p-Cl_BA.xyz\n",
      "Target index for renumbering is -1\n",
      "Files to optimize: 11\n"
     ]
    },
    {
     "name": "stderr",
     "output_type": "stream",
     "text": [
      "Optimizing Molecules:   0%|          | 0/11 [00:00<?, ?it/s]C:\\Users\\edens\\Documents\\GitHub\\‏‏LabCode_backup\\MolFeatures\\MolAlign\\RDKIT_utils.py:187: UserWarning:\n",
      "\n",
      "Using torch.cross without specifying the dim arg is deprecated.\n",
      "Please either pass the dim explicitly or simply use torch.linalg.cross.\n",
      "The default value of dim will change to agree with that of linalg.cross in a future release. (Triggered internally at C:\\actions-runner\\_work\\pytorch\\pytorch\\builder\\windows\\pytorch\\aten\\src\\ATen\\native\\Cross.cpp:66.)\n",
      "\n"
     ]
    },
    {
     "name": "stdout",
     "output_type": "stream",
     "text": [
      "Optimizing C:\\Users\\edens\\Documents\\GitHub\\possible_dataset_info\\milo_benzoic_acids\\xyz_files\\m-CN_BA.xyz... (1/11)\n",
      "idx is 0, target_idx is -1\n",
      "search for MCS...\n"
     ]
    },
    {
     "name": "stderr",
     "output_type": "stream",
     "text": [
      "Optimizing Molecules:   9%|▉         | 1/11 [00:02<00:29,  2.93s/it]"
     ]
    },
    {
     "name": "stdout",
     "output_type": "stream",
     "text": [
      "coords mapping is {2: 2, 3: 3, 4: 4, 5: 5, 6: 6, 7: 1, 8: 7, 9: 9, 10: 8, 11: 11, 12: 12, 13: 13}\n",
      "Successfully optimized C:\\Users\\edens\\Documents\\GitHub\\possible_dataset_info\\milo_benzoic_acids\\xyz_files\\m-CN_BA.xyz. Mapping: {'p-Cl_BA': {2: 2, 3: 3, 4: 4, 5: 5, 6: 6, 7: 1, 8: 7, 9: 9, 10: 8, 11: 11, 12: 12, 13: 13}}\n",
      "Optimizing C:\\Users\\edens\\Documents\\GitHub\\possible_dataset_info\\milo_benzoic_acids\\xyz_files\\m-OMe_BA.xyz... (2/11)\n",
      "idx is 1, target_idx is -1\n",
      "search for MCS...\n"
     ]
    },
    {
     "name": "stderr",
     "output_type": "stream",
     "text": [
      "Optimizing Molecules:  18%|█▊        | 2/11 [00:03<00:15,  1.71s/it]"
     ]
    },
    {
     "name": "stdout",
     "output_type": "stream",
     "text": [
      "coords mapping is {2: 2, 3: 3, 4: 4, 5: 5, 6: 6, 7: 1, 8: 7, 9: 9, 10: 8, 14: 11, 15: 12, 16: 13}\n",
      "Successfully optimized C:\\Users\\edens\\Documents\\GitHub\\possible_dataset_info\\milo_benzoic_acids\\xyz_files\\m-OMe_BA.xyz. Mapping: {'p-Cl_BA': {2: 2, 3: 3, 4: 4, 5: 5, 6: 6, 7: 1, 8: 7, 9: 9, 10: 8, 14: 11, 15: 12, 16: 13}}\n",
      "Optimizing C:\\Users\\edens\\Documents\\GitHub\\possible_dataset_info\\milo_benzoic_acids\\xyz_files\\m-SO2Me_BA.xyz... (3/11)\n",
      "idx is 2, target_idx is -1\n",
      "search for MCS...\n"
     ]
    },
    {
     "name": "stderr",
     "output_type": "stream",
     "text": [
      "Optimizing Molecules:  27%|██▋       | 3/11 [00:04<00:10,  1.27s/it]"
     ]
    },
    {
     "name": "stdout",
     "output_type": "stream",
     "text": [
      "coords mapping is {4: 2, 5: 3, 6: 4, 7: 5, 8: 6, 9: 1, 10: 7, 11: 8, 12: 9, 16: 11, 17: 12, 18: 13, 20: 14}\n",
      "Successfully optimized C:\\Users\\edens\\Documents\\GitHub\\possible_dataset_info\\milo_benzoic_acids\\xyz_files\\m-SO2Me_BA.xyz. Mapping: {'p-Cl_BA': {4: 2, 5: 3, 6: 4, 7: 5, 8: 6, 9: 1, 10: 7, 11: 8, 12: 9, 16: 11, 17: 12, 18: 13, 20: 14}}\n",
      "Optimizing C:\\Users\\edens\\Documents\\GitHub\\possible_dataset_info\\milo_benzoic_acids\\xyz_files\\o-Me_BA.xyz... (4/11)\n",
      "idx is 3, target_idx is -1\n",
      "search for MCS...\n"
     ]
    },
    {
     "name": "stderr",
     "output_type": "stream",
     "text": [
      "Optimizing Molecules:  36%|███▋      | 4/11 [00:05<00:07,  1.10s/it]"
     ]
    },
    {
     "name": "stdout",
     "output_type": "stream",
     "text": [
      "coords mapping is {1: 3, 2: 2, 3: 1, 4: 6, 5: 5, 6: 4, 7: 7, 8: 9, 9: 8, 13: 10, 15: 13, 16: 12}\n",
      "Successfully optimized C:\\Users\\edens\\Documents\\GitHub\\possible_dataset_info\\milo_benzoic_acids\\xyz_files\\o-Me_BA.xyz. Mapping: {'p-Cl_BA': {1: 3, 2: 2, 3: 1, 4: 6, 5: 5, 6: 4, 7: 7, 8: 9, 9: 8, 13: 10, 15: 13, 16: 12}}\n",
      "Skipping basic file\n",
      "Optimizing C:\\Users\\edens\\Documents\\GitHub\\possible_dataset_info\\milo_benzoic_acids\\xyz_files\\p-CO2Me_BA.xyz... (6/11)\n",
      "idx is 5, target_idx is -1\n",
      "search for MCS...\n"
     ]
    },
    {
     "name": "stderr",
     "output_type": "stream",
     "text": [
      "Optimizing Molecules:  55%|█████▍    | 6/11 [00:06<00:03,  1.40it/s]"
     ]
    },
    {
     "name": "stdout",
     "output_type": "stream",
     "text": [
      "coords mapping is {4: 1, 5: 2, 6: 3, 7: 4, 8: 5, 9: 6, 10: 7, 11: 9, 12: 8, 16: 10, 17: 11, 18: 12, 19: 13}\n",
      "Successfully optimized C:\\Users\\edens\\Documents\\GitHub\\possible_dataset_info\\milo_benzoic_acids\\xyz_files\\p-CO2Me_BA.xyz. Mapping: {'p-Cl_BA': {4: 1, 5: 2, 6: 3, 7: 4, 8: 5, 9: 6, 10: 7, 11: 9, 12: 8, 16: 10, 17: 11, 18: 12, 19: 13}}\n",
      "Optimizing C:\\Users\\edens\\Documents\\GitHub\\possible_dataset_info\\milo_benzoic_acids\\xyz_files\\p-COMe_BA.xyz... (7/11)\n",
      "idx is 6, target_idx is -1\n",
      "search for MCS...\n"
     ]
    },
    {
     "name": "stderr",
     "output_type": "stream",
     "text": [
      "Optimizing Molecules:  64%|██████▎   | 7/11 [00:06<00:02,  1.46it/s]"
     ]
    },
    {
     "name": "stdout",
     "output_type": "stream",
     "text": [
      "coords mapping is {3: 1, 4: 6, 5: 5, 6: 4, 7: 3, 8: 2, 9: 7, 10: 8, 11: 9, 15: 13, 16: 12, 17: 11, 18: 10, 19: 14}\n",
      "Successfully optimized C:\\Users\\edens\\Documents\\GitHub\\possible_dataset_info\\milo_benzoic_acids\\xyz_files\\p-COMe_BA.xyz. Mapping: {'p-Cl_BA': {3: 1, 4: 6, 5: 5, 6: 4, 7: 3, 8: 2, 9: 7, 10: 8, 11: 9, 15: 13, 16: 12, 17: 11, 18: 10, 19: 14}}\n",
      "Optimizing C:\\Users\\edens\\Documents\\GitHub\\possible_dataset_info\\milo_benzoic_acids\\xyz_files\\p-F_BA.xyz... (8/11)\n",
      "idx is 7, target_idx is -1\n",
      "search for MCS...\n"
     ]
    },
    {
     "name": "stderr",
     "output_type": "stream",
     "text": [
      "Optimizing Molecules:  73%|███████▎  | 8/11 [00:07<00:01,  1.50it/s]"
     ]
    }
   ],
   "source": [
    "## Milo Benzoic acid case study\n",
    "\n",
    "measured_dict = {\n",
    "    \"4-CO2Me\": 1.74,\n",
    "    \"4-MeO\": 0.44,\n",
    "    \"4-Cl\": 1.56,\n",
    "    \"4-COMe\": 1.64,\n",
    "    \"Ph\": 0.89,\n",
    "    \"3-MeO\": 0.96,\n",
    "    \"4-tBu\": 0.71,\n",
    "    \"4-F\": 1.18,\n",
    "    \"3-CN\": 2.30,\n",
    "    \"3-SO2Me\": 2.23,\n",
    "    \"2-Me\": 2.09,\n",
    "    \"1-naphthyl\": 2.01\n",
    "}\n",
    "\n",
    "benzoic_mols = Molecules(r'C:\\Users\\edens\\Documents\\GitHub\\possible_dataset_info\\milo_benzoic_acids\\feathers')\n",
    "benzoic_mols.get_renumbering_dict()\n",
    "benzoic_mols.visualize_molecules([1,2,3])"
   ]
  },
  {
   "cell_type": "code",
   "execution_count": 50,
   "id": "fe1c72a0",
   "metadata": {},
   "outputs": [
    {
     "name": "stdout",
     "output_type": "stream",
     "text": [
      "Molecules Loaded: ['Br-3.feather', 'Br-4_renumbered.feather', 'Br-m_renumbered.feather', 'CF3-3_renumbered.feather', 'CF3-4_renumbered.feather', 'Cl-3_renumbered.feather', 'Cl-4_renumbered.feather', 'Cl-m_renumbered.feather', 'CN-4_renumbered.feather', 'COOMe-3_renumbered.feather', 'COOMe-4_renumbered.feather', 'F-3_renumbered.feather', 'F-4_renumbered.feather', 'I-3_renumbered.feather', 'I-4_renumbered.feather', 'NO2-3_renumbered.feather'] Failed Molecules: []\n"
     ]
    }
   ],
   "source": [
    "\n",
    "\n",
    "output_by_name = {\n",
    "    \"NO2-3_renumbered\": 1.13,   # 3-NO2\n",
    "    \"I-4_renumbered\": 2.27,     # 4-I\n",
    "    \"I-3_renumbered\": 1.60,     # 3-I\n",
    "    \"F-4_renumbered\": 2.27,     # 4-F\n",
    "    \"F-3_renumbered\": 2.27,     # 3-F\n",
    "    \"Cl-m_renumbered\": 1.51,    # 3,5-Cl\n",
    "    \"Cl-4_renumbered\": 2.27,    # 4-Cl\n",
    "    \"Cl-3_renumbered\": 2.13,    # 3-Cl\n",
    "    \"COOMe-4_renumbered\": 2.08, # 4-COOMe\n",
    "    \"COOMe-3_renumbered\": 1.63, # 3-COOMe\n",
    "    \"CN-4_renumbered\": 1.55,    # 4-CN\n",
    "    \"CF3-4_renumbered\": 2.13,   # 4-CF3\n",
    "    \"CF3-3_renumbered\": 1.22,   # 3-CF3\n",
    "    \"Br-m_renumbered\": 1.26,    # 3,5-Br\n",
    "    \"Br-4_renumbered\": 2.44,    # 4-Br\n",
    "    \"Br-3\": 1.85,               # 3-Br\n",
    "}\n",
    "\n",
    "output_list = output_by_name.values()\n",
    "\n",
    "\n",
    "sphere_mols= Molecules(r'C:\\Users\\edens\\Documents\\GitHub\\possible_dataset_info\\second_sphere_dayalan\\feather_for_paper\\renumbered')"
   ]
  },
  {
   "cell_type": "code",
   "execution_count": 51,
   "id": "6d6e4286",
   "metadata": {},
   "outputs": [
    {
     "name": "stdout",
     "output_type": "stream",
     "text": [
      "Input saved to C:\\Users\\edens\\Documents\\GitHub\\possible_dataset_info\\second_sphere_dayalan\\feather_for_paper\\second_sphere_input.json\n",
      "Calculating stretch vibration for atoms [[10, 11]] with threshold 1600 \n",
      " Remember : ALWAYS LOOK AT THE RESULTING VIBRATION\n"
     ]
    },
    {
     "data": {
      "application/vnd.jupyter.widget-view+json": {
       "model_id": "44a84f879f374b01ad1ca11812bc415b",
       "version_major": 2,
       "version_minor": 0
      },
      "text/plain": [
       "interactive(children=(FloatSlider(value=0.9, description='Threshold', max=1.0, step=0.01), Output()), _dom_cla…"
      ]
     },
     "metadata": {},
     "output_type": "display_data"
    },
    {
     "name": "stdout",
     "output_type": "stream",
     "text": [
      "Features saved to features_second_sphere_20251018_215636.csv and correlation table to features_second_sphere_20251018_215636_correlation_table.csv in C:\\Users\\edens\\Documents\\GitHub\\possible_dataset_info\\second_sphere_dayalan\\feather_for_paper\n",
      "                      cross  cross_angle       para  para_angle  \\\n",
      "NO2-3_renumbered  1656.5418    20.372027  1669.1607   84.323742   \n",
      "I-4_renumbered    1641.8462    18.818061  1659.0566   69.992042   \n",
      "I-3_renumbered    1643.0434    32.714617  1661.6286   59.322318   \n",
      "F-4_renumbered    1669.0566    16.822375  1679.3198   73.670128   \n",
      "F-3_renumbered    1672.1278    21.636705  1683.1186   69.557788   \n",
      "\n",
      "                  Frequency_Stretch_10_11  Amplitude_Stretch_10_11  \\\n",
      "NO2-3_renumbered                1850.6057                 1.474911   \n",
      "I-4_renumbered                  1842.1913                 0.620274   \n",
      "I-3_renumbered                  1844.8077                 1.473483   \n",
      "F-4_renumbered                  1840.2009                 0.610278   \n",
      "F-3_renumbered                  1846.2097                 1.482124   \n",
      "\n",
      "                  dipole_x_10-4-3  dipole_y_10-4-3  dipole_z_10-4-3  \\\n",
      "NO2-3_renumbered         2.156273         0.230606         0.000870   \n",
      "I-4_renumbered          -1.780430         1.334175         0.000572   \n",
      "I-3_renumbered          -0.519384         1.911728         0.000021   \n",
      "F-4_renumbered          -1.791008         1.313377        -0.000016   \n",
      "F-3_renumbered          -0.446619         1.874719         0.000020   \n",
      "\n",
      "                  total_dipole_10-4-3  nbo_atom_4  nbo_atom_10  \\\n",
      "NO2-3_renumbered               2.1686    -0.17398      0.42379   \n",
      "I-4_renumbered                 2.2249    -0.18476      0.42428   \n",
      "I-3_renumbered                 1.9811    -0.16782      0.42580   \n",
      "F-4_renumbered                 2.2210    -0.20139      0.42490   \n",
      "F-3_renumbered                 1.9272    -0.15893      0.42427   \n",
      "\n",
      "                  hirshfeld_atom_4  hirshfeld_atom_10  cm5_atom_4  \\\n",
      "NO2-3_renumbered         -0.011617           0.139332   -0.019602   \n",
      "I-4_renumbered           -0.019815           0.133853   -0.028348   \n",
      "I-3_renumbered           -0.016000           0.136289   -0.024467   \n",
      "F-4_renumbered           -0.027412           0.131515   -0.035917   \n",
      "F-3_renumbered           -0.015231           0.136066   -0.023400   \n",
      "\n",
      "                  cm5_atom_10  B1_10-4  B5_10-4  L_10-4  loc_B5_10-4  \\\n",
      "NO2-3_renumbered     0.129182   1.6998   4.8260  6.3475       3.6292   \n",
      "I-4_renumbered       0.123547   1.6998   3.1605  5.8428       4.0967   \n",
      "I-3_renumbered       0.126008   1.6998   3.1430  6.3367       1.6008   \n",
      "F-4_renumbered       0.121176   1.6998   3.1491  5.8196       4.1181   \n",
      "F-3_renumbered       0.125885   1.6998   3.1587  6.3406       1.6254   \n",
      "\n",
      "                  B1_B5_angle_10-4  angle_[12, 10, 11]  \\\n",
      "NO2-3_renumbered           89.4847          121.164967   \n",
      "I-4_renumbered             90.5747          120.824684   \n",
      "I-3_renumbered             90.5779          120.940954   \n",
      "F-4_renumbered             90.5768          120.761310   \n",
      "F-3_renumbered             90.5750          120.905808   \n",
      "\n",
      "                  dihedral_[12, 10, 11, 4]  bond_length_4-10  \\\n",
      "NO2-3_renumbered                179.961436          1.485701   \n",
      "I-4_renumbered                  179.942992          1.481366   \n",
      "I-3_renumbered                  179.999438          1.484194   \n",
      "F-4_renumbered                  179.999647          1.478921   \n",
      "F-3_renumbered                  179.999765          1.484260   \n",
      "\n",
      "                  bond_length_10-11    aniso      iso  output  \n",
      "NO2-3_renumbered           1.199375  961.817  121.558    1.13  \n",
      "I-4_renumbered             1.201062  115.198  168.249    2.27  \n",
      "I-3_renumbered             1.200404  112.852  145.117    1.60  \n",
      "F-4_renumbered             1.201680  804.883  962.216    2.27  \n",
      "F-3_renumbered             1.200296  801.014  933.414    2.27  \n"
     ]
    }
   ],
   "source": [
    "## Secondary sphere notebook\n",
    "answers_dict = {\n",
    "    \"Ring Vibration atoms - by order -> Pick one  atom from a six member ring\\n example: 13\": [4],\n",
    "    \"Stretch Threshold\": [1600],\n",
    "    \"Stretching Vibration atoms- enter bonded atom pairs: \\n example: 1,2 4,5\": [[10,11]],\n",
    "    \"Bend Threshold\": [1400],\n",
    "    \"Bending Vibration atoms - enter atom pairs that have a common atom: \\n example: 4,7\": [],\n",
    "    \"Center_Atoms Dipole\": [],\n",
    "    \"Dipole atoms - indices for coordination transformation: \\n example: 4,5,6 - origin, y-axis, new xy plane\": [[10,4,3]],\n",
    "    \"Sub-Atoms NPA\": [] ,\n",
    "    \"NPA manipulation atoms - Insert atoms to show NPA: \\n example: 1,2,4\": [],\n",
    "    \"charges values - Insert atoms to show charge: \\n example: 1,2,3,4\": [4,10],\n",
    "    \"charge_diff - Insert atoms to show charge difference: \\n example: 1,2 3,4\": [],\n",
    "    \"Sterimol atoms - Primary axis along: \\n example: 7,8\": [[10,4]],\n",
    "    'drop_atoms - Atoms to drop: \\n example: 1,2,3': [],\n",
    "    \"Bond_length - Atom pairs to calculate difference: \\n example: 1,2 4,5\": [[4,10],[10,11]],    \n",
    "    'Bond_angle - Atom triplets to calculate difference: \\n example: 1,2,3 4,5,6': [[12,10,11],[12,10,11,4]],\n",
    "}\n",
    "current_dir=os.getcwd()\n",
    "json_path=os.path.join(current_dir,'second_sphere_input.json')\n",
    "help_functions.save_input_json(answers_dict, json_path=json_path)\n",
    "df=sphere_mols.get_molecules_features_set(entry_widgets=answers_dict,answers_list=None, save_as=True,csv_file_name='features_second_sphere')\n",
    "df['output']=output_list\n",
    "print(df.head())"
   ]
  },
  {
   "cell_type": "code",
   "execution_count": null,
   "id": "aafdbeaf",
   "metadata": {},
   "outputs": [
    {
     "name": "stdout",
     "output_type": "stream",
     "text": [
      "Reusing existing run directory: runs\\in_memory_dataset_output_linear_20251018\n",
      "Database already exists at: C:\\Users\\edens\\Documents\\GitHub\\possible_dataset_info\\second_sphere_dayalan\\feather_for_paper\\runs\\in_memory_dataset_output_linear_20251018\\db\\results_in_memory_dataset.db\n",
      "Table 'regression_results' has been ensured to exist.\n",
      "linear model selected\n",
      "Processed DataFrame\n",
      "Names column: <index> | Target: output\n",
      "Rows: 16 | Features: 27 â 27\n"
     ]
    },
    {
     "data": {
      "application/vnd.jupyter.widget-view+json": {
       "model_id": "33a0ee1762cd47ffb16e2048225713d9",
       "version_major": 2,
       "version_minor": 0
      },
      "text/plain": [
       "interactive(children=(FloatSlider(value=0.9, continuous_update=False, description='|r| ≥', max=1.0, step=0.01)…"
      ]
     },
     "metadata": {},
     "output_type": "display_data"
    },
    {
     "name": "stdout",
     "output_type": "stream",
     "text": [
      "--- Correlation Report ---\n",
      "Features with |r| > 0.8:\n",
      "['Frequency_Stretch_10_11', 'angle_[12, 10, 11]', 'bond_length_10-11', 'bond_length_4-10', 'cm5_atom_10', 'cm5_atom_4', 'cross_angle', 'hirshfeld_atom_10', 'hirshfeld_atom_4', 'nbo_atom_4', 'para_angle']\n",
      "VIF pruning skipped by user/preference.\n"
     ]
    }
   ],
   "source": [
    "regression_model = LinearRegressionModel(df, process_method='one csv', y_value='output',\n",
    "                                        leave_out=None, min_features_num=3,\n",
    "                                        max_features_num=3, metrics=None, return_coefficients=False)"
   ]
  },
  {
   "cell_type": "code",
   "execution_count": 41,
   "id": "54c4748d",
   "metadata": {},
   "outputs": [
    {
     "name": "stdout",
     "output_type": "stream",
     "text": [
      "Using 1 jobs for evaluation. Found 20 cores.\n",
      "Loaded 2925 existing results from DB.\n",
      "Combos to run: 0, done_combos: 2925\n",
      "No new combinations to evaluate at threshold 0.700.\n"
     ]
    },
    {
     "name": "stderr",
     "output_type": "stream",
     "text": [
      "c:\\Users\\edens\\anaconda3\\envs\\labenv\\lib\\site-packages\\adjustText\\__init__.py:367: UserWarning:\n",
      "\n",
      "constrained_layout not applied because axes sizes collapsed to zero.  Try making figure larger or Axes decorations smaller.\n",
      "\n",
      "C:\\Users\\edens\\Documents\\GitHub\\‏‏LabCode_backup\\MolFeatures\\M3_modeler\\plot.py:423: UserWarning:\n",
      "\n",
      "Tight layout not applied. The left and right margins cannot be made large enough to accommodate all Axes decorations.\n",
      "\n",
      "C:\\Users\\edens\\Documents\\GitHub\\‏‏LabCode_backup\\MolFeatures\\M3_modeler\\plot.py:423: UserWarning:\n",
      "\n",
      "The figure layout has changed to tight\n",
      "\n"
     ]
    },
    {
     "name": "stdout",
     "output_type": "stream",
     "text": [
      "[PDF] Skipping top-5 export due to error: 'LinearRegressionModel' object has no attribute 'molecules_names'\n",
      "| formula                                                                |     R.sq |     Q.sq |      MAE |   Model_id |\n",
      "|:-----------------------------------------------------------------------|---------:|---------:|---------:|-----------:|\n",
      "| ('dipole_x_10-4-3', 'B1_B5_angle_10-4', 'angle_[12, 10, 11]')          | 0.869236 | 0.790814 | 0.169216 |          0 |\n",
      "| ('nbo_atom_4', 'hirshfeld_atom_10', 'B1_B5_angle_10-4')                | 0.850946 | 0.778859 | 0.160603 |          1 |\n",
      "| ('nbo_atom_4', 'cm5_atom_10', 'B1_B5_angle_10-4')                      | 0.848273 | 0.776817 | 0.16166  |          2 |\n",
      "| ('B1_B5_angle_10-4', 'angle_[12, 10, 11]', 'dihedral_[12, 10, 11, 4]') | 0.858557 | 0.771703 | 0.171659 |          3 |\n",
      "| ('B1_10-4', 'B1_B5_angle_10-4', 'angle_[12, 10, 11]')                  | 0.856071 | 0.768512 | 0.177361 |          4 |\n",
      "| ('dipole_z_10-4-3', 'B1_B5_angle_10-4', 'angle_[12, 10, 11]')          | 0.863617 | 0.768034 | 0.173748 |          5 |\n",
      "| ('hirshfeld_atom_10', 'B1_B5_angle_10-4', 'bond_length_4-10')          | 0.842874 | 0.747385 | 0.17556  |          6 |\n",
      "| ('nbo_atom_4', 'B1_B5_angle_10-4', 'angle_[12, 10, 11]')               | 0.862416 | 0.744569 | 0.177776 |          7 |\n",
      "| ('dipole_y_10-4-3', 'B1_B5_angle_10-4', 'angle_[12, 10, 11]')          | 0.850091 | 0.744499 | 0.172994 |          8 |\n",
      "| ('nbo_atom_4', 'hirshfeld_atom_10', 'cm5_atom_10')                     | 0.820812 | 0.739024 | 0.163803 |          9 |\n",
      "| ('nbo_atom_4', 'L_10-4', 'angle_[12, 10, 11]')                         | 0.812663 | 0.736516 | 0.169453 |         10 |\n",
      "| ('nbo_atom_4', 'hirshfeld_atom_10', 'B5_10-4')                         | 0.829174 | 0.730086 | 0.187229 |         11 |\n",
      "| ('cm5_atom_10', 'B1_B5_angle_10-4', 'bond_length_4-10')                | 0.834141 | 0.73008  | 0.182318 |         12 |\n",
      "| ('para', 'B1_B5_angle_10-4', 'angle_[12, 10, 11]')                     | 0.846929 | 0.729497 | 0.184227 |         13 |\n",
      "| ('B1_B5_angle_10-4', 'angle_[12, 10, 11]', 'aniso')                    | 0.84832  | 0.726376 | 0.18276  |         14 |\n",
      "| ('B1_B5_angle_10-4', 'angle_[12, 10, 11]', 'bond_length_4-10')         | 0.852708 | 0.72537  | 0.185597 |         15 |\n",
      "| ('nbo_atom_4', 'cm5_atom_10', 'B5_10-4')                               | 0.82507  | 0.723699 | 0.190251 |         16 |\n",
      "| ('nbo_atom_10', 'B1_B5_angle_10-4', 'angle_[12, 10, 11]')              | 0.847423 | 0.722815 | 0.181732 |         17 |\n",
      "| ('Frequency_Stretch_10_11', 'nbo_atom_4', 'hirshfeld_atom_10')         | 0.823599 | 0.722722 | 0.17106  |         18 |\n",
      "| ('L_10-4', 'B1_B5_angle_10-4', 'angle_[12, 10, 11]')                   | 0.846873 | 0.722008 | 0.189741 |         19 |\n",
      "\n",
      "Model Coefficients\n",
      "\n",
      "|                    |   Estimate |   Std. Error |   t value |     p value |\n",
      "|:-------------------|-----------:|-------------:|----------:|------------:|\n",
      "| (Intercept)        |  1.85062   |    0.0440052 |  42.0547  | 2.13163e-14 |\n",
      "| dipole_x_10-4-3    | -0.0689846 |    0.0481012 |  -1.43415 | 0.17707     |\n",
      "| B1_B5_angle_10-4   | -0.122074  |    0.0462455 |  -2.63969 | 0.021586    |\n",
      "| angle_[12, 10, 11] | -0.319656  |    0.0466388 |  -6.85387 | 1.76252e-05 |\n",
      "\n",
      "Selected Model: ('dipole_x_10-4-3', 'B1_B5_angle_10-4', 'angle_[12, 10, 11]')\n",
      "\n",
      "\n",
      "\n",
      "\n",
      "\n",
      "VIF Table\n",
      "\n",
      "---\n",
      "\n",
      "| variable           |     VIF |\n",
      "|:-------------------|--------:|\n",
      "| dipole_x_10-4-3    | 1.19483 |\n",
      "| B1_B5_angle_10-4   | 1.10441 |\n",
      "| angle_[12, 10, 11] | 1.12328 |\n",
      "\n",
      "3-fold CV\n",
      "\n",
      "|   Q2_3_Fold |      MAE |\n",
      "|------------:|---------:|\n",
      "|    0.697175 | 0.191287 |\n",
      "\n",
      "5-fold CV\n",
      "\n",
      "|   Q2_5_Fold |      MAE |\n",
      "|------------:|---------:|\n",
      "|    0.771456 | 0.172595 |\n",
      "\n",
      "LOOCV\n",
      "\n",
      "|   Q2_LOOCV |      MAE |\n",
      "|-----------:|---------:|\n",
      "|   0.790814 | 0.169216 |\n",
      "Results saved to regression_results.txt in C:\\Users\\edens\\Documents\\GitHub\\possible_dataset_info\\second_sphere_dayalan\\feather_for_paper\n"
     ]
    },
    {
     "name": "stderr",
     "output_type": "stream",
     "text": [
      "c:\\Users\\edens\\anaconda3\\envs\\labenv\\lib\\site-packages\\adjustText\\__init__.py:367: UserWarning:\n",
      "\n",
      "constrained_layout not applied because axes sizes collapsed to zero.  Try making figure larger or Axes decorations smaller.\n",
      "\n",
      "C:\\Users\\edens\\Documents\\GitHub\\‏‏LabCode_backup\\MolFeatures\\M3_modeler\\plot.py:423: UserWarning:\n",
      "\n",
      "Tight layout not applied. The left and right margins cannot be made large enough to accommodate all Axes decorations.\n",
      "\n",
      "C:\\Users\\edens\\Documents\\GitHub\\‏‏LabCode_backup\\MolFeatures\\M3_modeler\\plot.py:423: UserWarning:\n",
      "\n",
      "The figure layout has changed to tight\n",
      "\n"
     ]
    },
    {
     "name": "stdout",
     "output_type": "stream",
     "text": [
      "Exiting model selection.\n"
     ]
    },
    {
     "data": {
      "text/html": [
       "<div>\n",
       "<style scoped>\n",
       "    .dataframe tbody tr th:only-of-type {\n",
       "        vertical-align: middle;\n",
       "    }\n",
       "\n",
       "    .dataframe tbody tr th {\n",
       "        vertical-align: top;\n",
       "    }\n",
       "\n",
       "    .dataframe thead th {\n",
       "        text-align: right;\n",
       "    }\n",
       "</style>\n",
       "<table border=\"1\" class=\"dataframe\">\n",
       "  <thead>\n",
       "    <tr style=\"text-align: right;\">\n",
       "      <th></th>\n",
       "      <th>id</th>\n",
       "      <th>combination</th>\n",
       "      <th>r2</th>\n",
       "      <th>q2</th>\n",
       "      <th>mae</th>\n",
       "      <th>rmsd</th>\n",
       "      <th>threshold</th>\n",
       "      <th>model</th>\n",
       "      <th>predictions</th>\n",
       "    </tr>\n",
       "  </thead>\n",
       "  <tbody>\n",
       "    <tr>\n",
       "      <th>1439</th>\n",
       "      <td>1440</td>\n",
       "      <td>('dipole_x_10-4-3', 'B1_B5_angle_10-4', 'angle...</td>\n",
       "      <td>0.869236</td>\n",
       "      <td>0.790814</td>\n",
       "      <td>0.169216</td>\n",
       "      <td>0.192804</td>\n",
       "      <td>0.7</td>\n",
       "      <td>&lt;modeling.LinearRegressionModel object at 0x00...</td>\n",
       "      <td>[1.18278415 2.3159084  1.92535987 2.48653981 2...</td>\n",
       "    </tr>\n",
       "    <tr>\n",
       "      <th>1955</th>\n",
       "      <td>1956</td>\n",
       "      <td>('nbo_atom_4', 'hirshfeld_atom_10', 'B1_B5_ang...</td>\n",
       "      <td>0.850946</td>\n",
       "      <td>0.778859</td>\n",
       "      <td>0.160603</td>\n",
       "      <td>0.198237</td>\n",
       "      <td>0.7</td>\n",
       "      <td>&lt;modeling.LinearRegressionModel object at 0x00...</td>\n",
       "      <td>[1.17116425 2.21470548 1.95556099 2.4567578  2...</td>\n",
       "    </tr>\n",
       "    <tr>\n",
       "      <th>1978</th>\n",
       "      <td>1979</td>\n",
       "      <td>('nbo_atom_4', 'cm5_atom_10', 'B1_B5_angle_10-4')</td>\n",
       "      <td>0.848273</td>\n",
       "      <td>0.776817</td>\n",
       "      <td>0.161660</td>\n",
       "      <td>0.199151</td>\n",
       "      <td>0.7</td>\n",
       "      <td>&lt;modeling.LinearRegressionModel object at 0x00...</td>\n",
       "      <td>[1.16788477 2.21546304 1.96229824 2.45384241 2...</td>\n",
       "    </tr>\n",
       "    <tr>\n",
       "      <th>2565</th>\n",
       "      <td>2566</td>\n",
       "      <td>('B1_B5_angle_10-4', 'angle_[12, 10, 11]', 'di...</td>\n",
       "      <td>0.858557</td>\n",
       "      <td>0.771703</td>\n",
       "      <td>0.171659</td>\n",
       "      <td>0.201419</td>\n",
       "      <td>0.7</td>\n",
       "      <td>&lt;modeling.LinearRegressionModel object at 0x00...</td>\n",
       "      <td>[1.31593276 2.21345674 1.98412003 2.49041519 2...</td>\n",
       "    </tr>\n",
       "    <tr>\n",
       "      <th>2459</th>\n",
       "      <td>2460</td>\n",
       "      <td>('B1_10-4', 'B1_B5_angle_10-4', 'angle_[12, 10...</td>\n",
       "      <td>0.856071</td>\n",
       "      <td>0.768512</td>\n",
       "      <td>0.177361</td>\n",
       "      <td>0.202822</td>\n",
       "      <td>0.7</td>\n",
       "      <td>&lt;modeling.LinearRegressionModel object at 0x00...</td>\n",
       "      <td>[1.29244734 2.28571962 1.93584736 2.47631635 2...</td>\n",
       "    </tr>\n",
       "    <tr>\n",
       "      <th>1763</th>\n",
       "      <td>1764</td>\n",
       "      <td>('dipole_z_10-4-3', 'B1_B5_angle_10-4', 'angle...</td>\n",
       "      <td>0.863617</td>\n",
       "      <td>0.768034</td>\n",
       "      <td>0.173748</td>\n",
       "      <td>0.203031</td>\n",
       "      <td>0.7</td>\n",
       "      <td>&lt;modeling.LinearRegressionModel object at 0x00...</td>\n",
       "      <td>[1.23285845 2.22297055 1.98061275 2.50110133 2...</td>\n",
       "    </tr>\n",
       "    <tr>\n",
       "      <th>2295</th>\n",
       "      <td>2296</td>\n",
       "      <td>('hirshfeld_atom_10', 'B1_B5_angle_10-4', 'bon...</td>\n",
       "      <td>0.842874</td>\n",
       "      <td>0.747385</td>\n",
       "      <td>0.175560</td>\n",
       "      <td>0.211875</td>\n",
       "      <td>0.7</td>\n",
       "      <td>&lt;modeling.LinearRegressionModel object at 0x00...</td>\n",
       "      <td>[1.24094027 2.19260457 2.00800361 2.44435823 2...</td>\n",
       "    </tr>\n",
       "    <tr>\n",
       "      <th>2019</th>\n",
       "      <td>2020</td>\n",
       "      <td>('nbo_atom_4', 'B1_B5_angle_10-4', 'angle_[12,...</td>\n",
       "      <td>0.862416</td>\n",
       "      <td>0.744569</td>\n",
       "      <td>0.177776</td>\n",
       "      <td>0.213053</td>\n",
       "      <td>0.7</td>\n",
       "      <td>&lt;modeling.LinearRegressionModel object at 0x00...</td>\n",
       "      <td>[1.22416518 2.26522457 1.97004024 2.38743027 2...</td>\n",
       "    </tr>\n",
       "    <tr>\n",
       "      <th>1610</th>\n",
       "      <td>1611</td>\n",
       "      <td>('dipole_y_10-4-3', 'B1_B5_angle_10-4', 'angle...</td>\n",
       "      <td>0.850091</td>\n",
       "      <td>0.744499</td>\n",
       "      <td>0.172994</td>\n",
       "      <td>0.213082</td>\n",
       "      <td>0.7</td>\n",
       "      <td>&lt;modeling.LinearRegressionModel object at 0x00...</td>\n",
       "      <td>[1.35101437 2.28170834 1.97626457 2.45526884 2...</td>\n",
       "    </tr>\n",
       "    <tr>\n",
       "      <th>1950</th>\n",
       "      <td>1951</td>\n",
       "      <td>('nbo_atom_4', 'hirshfeld_atom_10', 'cm5_atom_...</td>\n",
       "      <td>0.820812</td>\n",
       "      <td>0.739024</td>\n",
       "      <td>0.163803</td>\n",
       "      <td>0.215353</td>\n",
       "      <td>0.7</td>\n",
       "      <td>&lt;modeling.LinearRegressionModel object at 0x00...</td>\n",
       "      <td>[1.09278931 2.17429403 1.86337116 2.44500277 2...</td>\n",
       "    </tr>\n",
       "    <tr>\n",
       "      <th>2006</th>\n",
       "      <td>2007</td>\n",
       "      <td>('nbo_atom_4', 'L_10-4', 'angle_[12, 10, 11]')</td>\n",
       "      <td>0.812663</td>\n",
       "      <td>0.736516</td>\n",
       "      <td>0.169453</td>\n",
       "      <td>0.216386</td>\n",
       "      <td>0.7</td>\n",
       "      <td>&lt;modeling.LinearRegressionModel object at 0x00...</td>\n",
       "      <td>[1.03390852 2.27352278 1.96829976 2.34307119 2...</td>\n",
       "    </tr>\n",
       "    <tr>\n",
       "      <th>1952</th>\n",
       "      <td>1953</td>\n",
       "      <td>('nbo_atom_4', 'hirshfeld_atom_10', 'B5_10-4')</td>\n",
       "      <td>0.829174</td>\n",
       "      <td>0.730086</td>\n",
       "      <td>0.187229</td>\n",
       "      <td>0.219010</td>\n",
       "      <td>0.7</td>\n",
       "      <td>&lt;modeling.LinearRegressionModel object at 0x00...</td>\n",
       "      <td>[1.05249663 2.20576666 1.98552631 2.41489414 2...</td>\n",
       "    </tr>\n",
       "    <tr>\n",
       "      <th>2416</th>\n",
       "      <td>2417</td>\n",
       "      <td>('cm5_atom_10', 'B1_B5_angle_10-4', 'bond_leng...</td>\n",
       "      <td>0.834141</td>\n",
       "      <td>0.730080</td>\n",
       "      <td>0.182318</td>\n",
       "      <td>0.219012</td>\n",
       "      <td>0.7</td>\n",
       "      <td>&lt;modeling.LinearRegressionModel object at 0x00...</td>\n",
       "      <td>[1.24971761 2.19693186 2.01427624 2.44539112 2...</td>\n",
       "    </tr>\n",
       "    <tr>\n",
       "      <th>555</th>\n",
       "      <td>556</td>\n",
       "      <td>('para', 'B1_B5_angle_10-4', 'angle_[12, 10, 1...</td>\n",
       "      <td>0.846929</td>\n",
       "      <td>0.729497</td>\n",
       "      <td>0.184227</td>\n",
       "      <td>0.219249</td>\n",
       "      <td>0.7</td>\n",
       "      <td>&lt;modeling.LinearRegressionModel object at 0x00...</td>\n",
       "      <td>[1.34414788 2.29124199 1.9582503  2.46436856 2...</td>\n",
       "    </tr>\n",
       "    <tr>\n",
       "      <th>2568</th>\n",
       "      <td>2569</td>\n",
       "      <td>('B1_B5_angle_10-4', 'angle_[12, 10, 11]', 'an...</td>\n",
       "      <td>0.848320</td>\n",
       "      <td>0.726376</td>\n",
       "      <td>0.182760</td>\n",
       "      <td>0.220510</td>\n",
       "      <td>0.7</td>\n",
       "      <td>&lt;modeling.LinearRegressionModel object at 0x00...</td>\n",
       "      <td>[1.32843774 2.30195601 1.9712576  2.45415101 2...</td>\n",
       "    </tr>\n",
       "    <tr>\n",
       "      <th>2566</th>\n",
       "      <td>2567</td>\n",
       "      <td>('B1_B5_angle_10-4', 'angle_[12, 10, 11]', 'bo...</td>\n",
       "      <td>0.852708</td>\n",
       "      <td>0.725370</td>\n",
       "      <td>0.185597</td>\n",
       "      <td>0.220915</td>\n",
       "      <td>0.7</td>\n",
       "      <td>&lt;modeling.LinearRegressionModel object at 0x00...</td>\n",
       "      <td>[1.29212961 2.27396952 1.97017593 2.41192118 2...</td>\n",
       "    </tr>\n",
       "    <tr>\n",
       "      <th>1975</th>\n",
       "      <td>1976</td>\n",
       "      <td>('nbo_atom_4', 'cm5_atom_10', 'B5_10-4')</td>\n",
       "      <td>0.825070</td>\n",
       "      <td>0.723699</td>\n",
       "      <td>0.190251</td>\n",
       "      <td>0.221586</td>\n",
       "      <td>0.7</td>\n",
       "      <td>&lt;modeling.LinearRegressionModel object at 0x00...</td>\n",
       "      <td>[1.04895488 2.20597696 1.99208395 2.41097528 2...</td>\n",
       "    </tr>\n",
       "    <tr>\n",
       "      <th>2124</th>\n",
       "      <td>2125</td>\n",
       "      <td>('nbo_atom_10', 'B1_B5_angle_10-4', 'angle_[12...</td>\n",
       "      <td>0.847423</td>\n",
       "      <td>0.722815</td>\n",
       "      <td>0.181732</td>\n",
       "      <td>0.221940</td>\n",
       "      <td>0.7</td>\n",
       "      <td>&lt;modeling.LinearRegressionModel object at 0x00...</td>\n",
       "      <td>[1.34076522 2.28515293 1.96964574 2.47182627 2...</td>\n",
       "    </tr>\n",
       "    <tr>\n",
       "      <th>926</th>\n",
       "      <td>927</td>\n",
       "      <td>('Frequency_Stretch_10_11', 'nbo_atom_4', 'hir...</td>\n",
       "      <td>0.823599</td>\n",
       "      <td>0.722722</td>\n",
       "      <td>0.171060</td>\n",
       "      <td>0.221977</td>\n",
       "      <td>0.7</td>\n",
       "      <td>&lt;modeling.LinearRegressionModel object at 0x00...</td>\n",
       "      <td>[1.11403818 2.14862614 1.8544104  2.47384565 2...</td>\n",
       "    </tr>\n",
       "    <tr>\n",
       "      <th>2523</th>\n",
       "      <td>2524</td>\n",
       "      <td>('L_10-4', 'B1_B5_angle_10-4', 'angle_[12, 10,...</td>\n",
       "      <td>0.846873</td>\n",
       "      <td>0.722008</td>\n",
       "      <td>0.189741</td>\n",
       "      <td>0.222263</td>\n",
       "      <td>0.7</td>\n",
       "      <td>&lt;modeling.LinearRegressionModel object at 0x00...</td>\n",
       "      <td>[1.34702009 2.28757696 1.95542352 2.46775136 2...</td>\n",
       "    </tr>\n",
       "  </tbody>\n",
       "</table>\n",
       "</div>"
      ],
      "text/plain": [
       "        id                                        combination        r2  \\\n",
       "1439  1440  ('dipole_x_10-4-3', 'B1_B5_angle_10-4', 'angle...  0.869236   \n",
       "1955  1956  ('nbo_atom_4', 'hirshfeld_atom_10', 'B1_B5_ang...  0.850946   \n",
       "1978  1979  ('nbo_atom_4', 'cm5_atom_10', 'B1_B5_angle_10-4')  0.848273   \n",
       "2565  2566  ('B1_B5_angle_10-4', 'angle_[12, 10, 11]', 'di...  0.858557   \n",
       "2459  2460  ('B1_10-4', 'B1_B5_angle_10-4', 'angle_[12, 10...  0.856071   \n",
       "1763  1764  ('dipole_z_10-4-3', 'B1_B5_angle_10-4', 'angle...  0.863617   \n",
       "2295  2296  ('hirshfeld_atom_10', 'B1_B5_angle_10-4', 'bon...  0.842874   \n",
       "2019  2020  ('nbo_atom_4', 'B1_B5_angle_10-4', 'angle_[12,...  0.862416   \n",
       "1610  1611  ('dipole_y_10-4-3', 'B1_B5_angle_10-4', 'angle...  0.850091   \n",
       "1950  1951  ('nbo_atom_4', 'hirshfeld_atom_10', 'cm5_atom_...  0.820812   \n",
       "2006  2007     ('nbo_atom_4', 'L_10-4', 'angle_[12, 10, 11]')  0.812663   \n",
       "1952  1953     ('nbo_atom_4', 'hirshfeld_atom_10', 'B5_10-4')  0.829174   \n",
       "2416  2417  ('cm5_atom_10', 'B1_B5_angle_10-4', 'bond_leng...  0.834141   \n",
       "555    556  ('para', 'B1_B5_angle_10-4', 'angle_[12, 10, 1...  0.846929   \n",
       "2568  2569  ('B1_B5_angle_10-4', 'angle_[12, 10, 11]', 'an...  0.848320   \n",
       "2566  2567  ('B1_B5_angle_10-4', 'angle_[12, 10, 11]', 'bo...  0.852708   \n",
       "1975  1976           ('nbo_atom_4', 'cm5_atom_10', 'B5_10-4')  0.825070   \n",
       "2124  2125  ('nbo_atom_10', 'B1_B5_angle_10-4', 'angle_[12...  0.847423   \n",
       "926    927  ('Frequency_Stretch_10_11', 'nbo_atom_4', 'hir...  0.823599   \n",
       "2523  2524  ('L_10-4', 'B1_B5_angle_10-4', 'angle_[12, 10,...  0.846873   \n",
       "\n",
       "            q2       mae      rmsd  threshold  \\\n",
       "1439  0.790814  0.169216  0.192804        0.7   \n",
       "1955  0.778859  0.160603  0.198237        0.7   \n",
       "1978  0.776817  0.161660  0.199151        0.7   \n",
       "2565  0.771703  0.171659  0.201419        0.7   \n",
       "2459  0.768512  0.177361  0.202822        0.7   \n",
       "1763  0.768034  0.173748  0.203031        0.7   \n",
       "2295  0.747385  0.175560  0.211875        0.7   \n",
       "2019  0.744569  0.177776  0.213053        0.7   \n",
       "1610  0.744499  0.172994  0.213082        0.7   \n",
       "1950  0.739024  0.163803  0.215353        0.7   \n",
       "2006  0.736516  0.169453  0.216386        0.7   \n",
       "1952  0.730086  0.187229  0.219010        0.7   \n",
       "2416  0.730080  0.182318  0.219012        0.7   \n",
       "555   0.729497  0.184227  0.219249        0.7   \n",
       "2568  0.726376  0.182760  0.220510        0.7   \n",
       "2566  0.725370  0.185597  0.220915        0.7   \n",
       "1975  0.723699  0.190251  0.221586        0.7   \n",
       "2124  0.722815  0.181732  0.221940        0.7   \n",
       "926   0.722722  0.171060  0.221977        0.7   \n",
       "2523  0.722008  0.189741  0.222263        0.7   \n",
       "\n",
       "                                                  model  \\\n",
       "1439  <modeling.LinearRegressionModel object at 0x00...   \n",
       "1955  <modeling.LinearRegressionModel object at 0x00...   \n",
       "1978  <modeling.LinearRegressionModel object at 0x00...   \n",
       "2565  <modeling.LinearRegressionModel object at 0x00...   \n",
       "2459  <modeling.LinearRegressionModel object at 0x00...   \n",
       "1763  <modeling.LinearRegressionModel object at 0x00...   \n",
       "2295  <modeling.LinearRegressionModel object at 0x00...   \n",
       "2019  <modeling.LinearRegressionModel object at 0x00...   \n",
       "1610  <modeling.LinearRegressionModel object at 0x00...   \n",
       "1950  <modeling.LinearRegressionModel object at 0x00...   \n",
       "2006  <modeling.LinearRegressionModel object at 0x00...   \n",
       "1952  <modeling.LinearRegressionModel object at 0x00...   \n",
       "2416  <modeling.LinearRegressionModel object at 0x00...   \n",
       "555   <modeling.LinearRegressionModel object at 0x00...   \n",
       "2568  <modeling.LinearRegressionModel object at 0x00...   \n",
       "2566  <modeling.LinearRegressionModel object at 0x00...   \n",
       "1975  <modeling.LinearRegressionModel object at 0x00...   \n",
       "2124  <modeling.LinearRegressionModel object at 0x00...   \n",
       "926   <modeling.LinearRegressionModel object at 0x00...   \n",
       "2523  <modeling.LinearRegressionModel object at 0x00...   \n",
       "\n",
       "                                            predictions  \n",
       "1439  [1.18278415 2.3159084  1.92535987 2.48653981 2...  \n",
       "1955  [1.17116425 2.21470548 1.95556099 2.4567578  2...  \n",
       "1978  [1.16788477 2.21546304 1.96229824 2.45384241 2...  \n",
       "2565  [1.31593276 2.21345674 1.98412003 2.49041519 2...  \n",
       "2459  [1.29244734 2.28571962 1.93584736 2.47631635 2...  \n",
       "1763  [1.23285845 2.22297055 1.98061275 2.50110133 2...  \n",
       "2295  [1.24094027 2.19260457 2.00800361 2.44435823 2...  \n",
       "2019  [1.22416518 2.26522457 1.97004024 2.38743027 2...  \n",
       "1610  [1.35101437 2.28170834 1.97626457 2.45526884 2...  \n",
       "1950  [1.09278931 2.17429403 1.86337116 2.44500277 2...  \n",
       "2006  [1.03390852 2.27352278 1.96829976 2.34307119 2...  \n",
       "1952  [1.05249663 2.20576666 1.98552631 2.41489414 2...  \n",
       "2416  [1.24971761 2.19693186 2.01427624 2.44539112 2...  \n",
       "555   [1.34414788 2.29124199 1.9582503  2.46436856 2...  \n",
       "2568  [1.32843774 2.30195601 1.9712576  2.45415101 2...  \n",
       "2566  [1.29212961 2.27396952 1.97017593 2.41192118 2...  \n",
       "1975  [1.04895488 2.20597696 1.99208395 2.41097528 2...  \n",
       "2124  [1.34076522 2.28515293 1.96964574 2.47182627 2...  \n",
       "926   [1.11403818 2.14862614 1.8544104  2.47384565 2...  \n",
       "2523  [1.34702009 2.28757696 1.95542352 2.46775136 2...  "
      ]
     },
     "execution_count": 41,
     "metadata": {},
     "output_type": "execute_result"
    },
    {
     "data": {
      "image/png": "[encoded data removed]",
      "text/plain": [
       "<Figure size 600x1200 with 1 Axes>"
      ]
     },
     "metadata": {},
     "output_type": "display_data"
    }
   ],
   "source": [
    "regression_model.search_models()"
   ]
  },
  {
   "cell_type": "code",
   "execution_count": null,
   "id": "944b242e",
   "metadata": {},
   "outputs": [],
   "source": [
    "plot.run_single_combo_report(regression_model,['cm5_atom_12', 'angle_[11, 12, 5]']) \n",
    "\n"
   ]
  },
  {
   "cell_type": "code",
   "execution_count": 56,
   "id": "b943602a",
   "metadata": {},
   "outputs": [
    {
     "name": "stdout",
     "output_type": "stream",
     "text": [
      "Molecules Loaded: ['m-CN_BA.feather', 'm-OMe_BA.feather', 'm-SO2Me_BA.feather', 'naphthyl_BA.feather', 'o-Me_BA.feather', 'p-Cl_BA.feather', 'p-CO2Me_BA.feather', 'p-COMe_BA.feather', 'p-F_BA.feather', 'p-H_BA.feather', 'p-OMe_BA.feather', 'p-t-Bu_BA.feather'] Failed Molecules: []\n",
      "['m-CN_BA', 'm-OMe_BA', 'm-SO2Me_BA', 'naphthyl_BA', 'o-Me_BA', 'p-Cl_BA', 'p-CO2Me_BA', 'p-COMe_BA', 'p-F_BA', 'p-H_BA', 'p-OMe_BA', 'p-t-Bu_BA']\n"
     ]
    }
   ],
   "source": [
    "## Milo Benzoic acid case study\n",
    "measured_values = {\n",
    "    \"m-CN_BA\": 2.30,\n",
    "    \"m-OMe_BA\": 0.96,\n",
    "    \"m-SO2Me_BA\": 2.23,\n",
    "    \"naphthyl_BA\": 2.01,\n",
    "    \"o-Me_BA\": 2.09,\n",
    "    \"p-Cl_BA\": 1.56,\n",
    "    \"p-CO2Me_BA\": 1.74,\n",
    "    \"p-COMe_BA\": 1.64,\n",
    "    \"p-F_BA\": 1.18,\n",
    "    \"p-H_BA\": 0.89,\n",
    "    \"p-OMe_BA\": 0.44,\n",
    "    \"p-t-Bu_BA\": 0.71\n",
    "}\n",
    "\n",
    "output_list = measured_values.values()\n",
    "benzoic_mols = Molecules(r'C:\\Users\\edens\\Documents\\GitHub\\possible_dataset_info\\milo_benzoic_acids\\feathers')\n",
    "print(benzoic_mols.molecule_names)"
   ]
  },
  {
   "cell_type": "code",
   "execution_count": 57,
   "id": "8ad57628",
   "metadata": {},
   "outputs": [
    {
     "data": {
      "application/vnd.plotly.v1+json": {
       "config": {
        "plotlyServerURL": "https://plot.ly"
       },
       "data": [
        {
         "marker": {
          "color": [
           "black",
           "black",
           "black",
           "black",
           "black",
           "black",
           "black",
           "red",
           "red",
           "white",
           "black",
           "red",
           "white",
           "white",
           "white",
           "white",
           "white",
           "white",
           "white"
          ],
          "line": {
           "color": "lightgray",
           "width": 2
          },
          "size": 5
         },
         "mode": "markers",
         "name": "atoms",
         "text": [
          "C",
          "C",
          "C",
          "C",
          "C",
          "C",
          "C",
          "O",
          "O",
          "H",
          "C",
          "O",
          "H",
          "H",
          "H",
          "H",
          "H",
          "H",
          "H"
         ],
         "type": "scatter3d",
         "x": [
          -1.004569,
          0.067421,
          1.368289,
          1.581981,
          0.491137,
          -0.801213,
          -2.406554,
          -3.379818,
          -2.492033,
          -3.433994,
          3.690371,
          2.35697,
          4.316345,
          3.903525,
          3.903519,
          -0.08374,
          -1.65769,
          0.667025,
          2.582887
         ],
         "y": [
          0.168499,
          -0.707394,
          -0.207552,
          1.166996,
          2.032857,
          1.547792,
          -0.329266,
          0.373483,
          -1.672214,
          -1.890713,
          -0.675718,
          -1.134406,
          -1.563552,
          -0.080533,
          -0.080541,
          -1.777412,
          2.206837,
          3.100507,
          1.573222
         ],
         "z": [
          -0.00001,
          -0.000009,
          -0.000002,
          0.000005,
          0.000004,
          -0.000003,
          -0.00002,
          0.000009,
          0.000011,
          0.000029,
          0.000004,
          -0.000002,
          0.000002,
          -0.89185,
          0.891865,
          -0.000014,
          -0.000004,
          0.000009,
          0.00001
         ]
        },
        {
         "hoverinfo": "none",
         "line": {
          "color": "black",
          "width": 3
         },
         "mode": "lines",
         "name": "bonds",
         "type": "scatter3d",
         "x": [
          -1.004569,
          0.067421,
          null,
          0.067421,
          1.368289,
          null,
          1.368289,
          1.581981,
          null,
          1.581981,
          0.491137,
          null,
          0.491137,
          -0.801213,
          null,
          -2.406554,
          -3.379818,
          null,
          -2.492033,
          -3.433994,
          null,
          3.690371,
          2.35697,
          null,
          -2.492033,
          -2.406554,
          null,
          3.690371,
          4.316345,
          null,
          3.690371,
          3.903525,
          null,
          3.690371,
          3.903519,
          null,
          2.582887,
          1.581981,
          null,
          -1.004569,
          -0.801213,
          null,
          0.067421,
          -0.08374,
          null,
          -1.004569,
          -2.406554,
          null,
          0.667025,
          0.491137,
          null,
          -1.65769,
          -0.801213,
          null,
          1.368289,
          2.35697,
          null
         ],
         "y": [
          0.168499,
          -0.707394,
          null,
          -0.707394,
          -0.207552,
          null,
          -0.207552,
          1.166996,
          null,
          1.166996,
          2.032857,
          null,
          2.032857,
          1.547792,
          null,
          -0.329266,
          0.373483,
          null,
          -1.672214,
          -1.890713,
          null,
          -0.675718,
          -1.134406,
          null,
          -1.672214,
          -0.329266,
          null,
          -0.675718,
          -1.563552,
          null,
          -0.675718,
          -0.080533,
          null,
          -0.675718,
          -0.080541,
          null,
          1.573222,
          1.166996,
          null,
          0.168499,
          1.547792,
          null,
          -0.707394,
          -1.777412,
          null,
          0.168499,
          -0.329266,
          null,
          3.100507,
          2.032857,
          null,
          2.206837,
          1.547792,
          null,
          -0.207552,
          -1.134406,
          null
         ],
         "z": [
          -0.00001,
          -0.000009,
          null,
          -0.000009,
          -0.000002,
          null,
          -0.000002,
          0.000005,
          null,
          0.000005,
          0.000004,
          null,
          0.000004,
          -0.000003,
          null,
          -0.00002,
          0.000009,
          null,
          0.000011,
          0.000029,
          null,
          0.000004,
          -0.000002,
          null,
          0.000011,
          -0.00002,
          null,
          0.000004,
          0.000002,
          null,
          0.000004,
          -0.89185,
          null,
          0.000004,
          0.891865,
          null,
          0.00001,
          0.000005,
          null,
          -0.00001,
          -0.000003,
          null,
          -0.000009,
          -0.000014,
          null,
          -0.00001,
          -0.00002,
          null,
          0.000009,
          0.000004,
          null,
          -0.000004,
          -0.000003,
          null,
          -0.000002,
          -0.000002,
          null
         ]
        },
        {
         "line": {
          "color": "red",
          "width": 8
         },
         "mode": "lines",
         "name": "Dipole X",
         "showlegend": true,
         "type": "scatter3d",
         "visible": false,
         "x": [
          0,
          5.9079999999999995
         ],
         "y": [
          0,
          0
         ],
         "z": [
          0,
          0
         ]
        },
        {
         "anchor": "tip",
         "colorscale": [
          [
           0,
           "red"
          ],
          [
           1,
           "red"
          ]
         ],
         "name": "Dipole X",
         "showlegend": false,
         "showscale": false,
         "sizemode": "scaled",
         "sizeref": 0.2,
         "type": "cone",
         "u": [
          6.058
         ],
         "v": [
          0
         ],
         "visible": false,
         "w": [
          0
         ],
         "x": [
          6.058
         ],
         "y": [
          0
         ],
         "z": [
          0
         ]
        },
        {
         "line": {
          "color": "green",
          "width": 8
         },
         "mode": "lines",
         "name": "Dipole Y",
         "showlegend": true,
         "type": "scatter3d",
         "visible": false,
         "x": [
          0,
          0
         ],
         "y": [
          0,
          -0.266
         ],
         "z": [
          0,
          0
         ]
        },
        {
         "anchor": "tip",
         "colorscale": [
          [
           0,
           "green"
          ],
          [
           1,
           "green"
          ]
         ],
         "name": "Dipole Y",
         "showlegend": false,
         "showscale": false,
         "sizemode": "scaled",
         "sizeref": 0.2,
         "type": "cone",
         "u": [
          0
         ],
         "v": [
          -0.416
         ],
         "visible": false,
         "w": [
          0
         ],
         "x": [
          0
         ],
         "y": [
          -0.416
         ],
         "z": [
          0
         ]
        },
        {
         "line": {
          "color": "purple",
          "width": 8
         },
         "mode": "lines",
         "name": "Total Dipole",
         "showlegend": true,
         "type": "scatter3d",
         "visible": false,
         "x": [
          0,
          5.908352416925656
         ],
         "y": [
          0,
          -0.4057237711193583
         ],
         "z": [
          0,
          0
         ]
        },
        {
         "anchor": "tip",
         "colorscale": [
          [
           0,
           "purple"
          ],
          [
           1,
           "purple"
          ]
         ],
         "name": "Total Dipole",
         "showlegend": false,
         "showscale": false,
         "sizemode": "scaled",
         "sizeref": 0.2,
         "type": "cone",
         "u": [
          6.058
         ],
         "v": [
          -0.416
         ],
         "visible": false,
         "w": [
          0
         ],
         "x": [
          6.058
         ],
         "y": [
          -0.416
         ],
         "z": [
          0
         ]
        }
       ],
       "layout": {
        "margin": {
         "b": 0,
         "l": 0,
         "r": 0,
         "t": 0
        },
        "scene": {
         "annotations": [
          {
           "font": {
            "color": "blue"
           },
           "showarrow": false,
           "text": "1",
           "x": -1.004569,
           "y": 0.168499,
           "yshift": 15,
           "z": -0.00001
          },
          {
           "font": {
            "color": "blue"
           },
           "showarrow": false,
           "text": "2",
           "x": 0.067421,
           "y": -0.707394,
           "yshift": 15,
           "z": -0.000009
          },
          {
           "font": {
            "color": "blue"
           },
           "showarrow": false,
           "text": "3",
           "x": 1.368289,
           "y": -0.207552,
           "yshift": 15,
           "z": -0.000002
          },
          {
           "font": {
            "color": "blue"
           },
           "showarrow": false,
           "text": "4",
           "x": 1.581981,
           "y": 1.166996,
           "yshift": 15,
           "z": 0.000005
          },
          {
           "font": {
            "color": "blue"
           },
           "showarrow": false,
           "text": "5",
           "x": 0.491137,
           "y": 2.032857,
           "yshift": 15,
           "z": 0.000004
          },
          {
           "font": {
            "color": "blue"
           },
           "showarrow": false,
           "text": "6",
           "x": -0.801213,
           "y": 1.547792,
           "yshift": 15,
           "z": -0.000003
          },
          {
           "font": {
            "color": "blue"
           },
           "showarrow": false,
           "text": "7",
           "x": -2.406554,
           "y": -0.329266,
           "yshift": 15,
           "z": -0.00002
          },
          {
           "font": {
            "color": "blue"
           },
           "showarrow": false,
           "text": "8",
           "x": -3.379818,
           "y": 0.373483,
           "yshift": 15,
           "z": 0.000009
          },
          {
           "font": {
            "color": "blue"
           },
           "showarrow": false,
           "text": "9",
           "x": -2.492033,
           "y": -1.672214,
           "yshift": 15,
           "z": 0.000011
          },
          {
           "font": {
            "color": "blue"
           },
           "showarrow": false,
           "text": "10",
           "x": -3.433994,
           "y": -1.890713,
           "yshift": 15,
           "z": 0.000029
          },
          {
           "font": {
            "color": "blue"
           },
           "showarrow": false,
           "text": "11",
           "x": 3.690371,
           "y": -0.675718,
           "yshift": 15,
           "z": 0.000004
          },
          {
           "font": {
            "color": "blue"
           },
           "showarrow": false,
           "text": "12",
           "x": 2.35697,
           "y": -1.134406,
           "yshift": 15,
           "z": -0.000002
          },
          {
           "font": {
            "color": "blue"
           },
           "showarrow": false,
           "text": "13",
           "x": 4.316345,
           "y": -1.563552,
           "yshift": 15,
           "z": 0.000002
          },
          {
           "font": {
            "color": "blue"
           },
           "showarrow": false,
           "text": "14",
           "x": 3.903525,
           "y": -0.080533,
           "yshift": 15,
           "z": -0.89185
          },
          {
           "font": {
            "color": "blue"
           },
           "showarrow": false,
           "text": "15",
           "x": 3.903519,
           "y": -0.080541,
           "yshift": 15,
           "z": 0.891865
          },
          {
           "font": {
            "color": "blue"
           },
           "showarrow": false,
           "text": "16",
           "x": -0.08374,
           "y": -1.777412,
           "yshift": 15,
           "z": -0.000014
          },
          {
           "font": {
            "color": "blue"
           },
           "showarrow": false,
           "text": "17",
           "x": -1.65769,
           "y": 2.206837,
           "yshift": 15,
           "z": -0.000004
          },
          {
           "font": {
            "color": "blue"
           },
           "showarrow": false,
           "text": "18",
           "x": 0.667025,
           "y": 3.100507,
           "yshift": 15,
           "z": 0.000009
          },
          {
           "font": {
            "color": "blue"
           },
           "showarrow": false,
           "text": "19",
           "x": 2.582887,
           "y": 1.573222,
           "yshift": 15,
           "z": 0.00001
          }
         ],
         "xaxis": {
          "showbackground": false,
          "showgrid": false,
          "showticklabels": false,
          "title": {
           "font": {
            "color": "white"
           },
           "text": "X"
          },
          "zeroline": false
         },
         "yaxis": {
          "showbackground": false,
          "showgrid": false,
          "showticklabels": false,
          "title": {
           "font": {
            "color": "white"
           },
           "text": "Y"
          },
          "zeroline": false
         },
         "zaxis": {
          "showbackground": false,
          "showgrid": false,
          "showticklabels": false,
          "title": {
           "font": {
            "color": "white"
           },
           "text": "Z"
          },
          "zeroline": false
         }
        },
        "showlegend": false,
        "template": {
         "data": {
          "bar": [
           {
            "error_x": {
             "color": "#2a3f5f"
            },
            "error_y": {
             "color": "#2a3f5f"
            },
            "marker": {
             "line": {
              "color": "#E5ECF6",
              "width": 0.5
             },
             "pattern": {
              "fillmode": "overlay",
              "size": 10,
              "solidity": 0.2
             }
            },
            "type": "bar"
           }
          ],
          "barpolar": [
           {
            "marker": {
             "line": {
              "color": "#E5ECF6",
              "width": 0.5
             },
             "pattern": {
              "fillmode": "overlay",
              "size": 10,
              "solidity": 0.2
             }
            },
            "type": "barpolar"
           }
          ],
          "carpet": [
           {
            "aaxis": {
             "endlinecolor": "#2a3f5f",
             "gridcolor": "white",
             "linecolor": "white",
             "minorgridcolor": "white",
             "startlinecolor": "#2a3f5f"
            },
            "baxis": {
             "endlinecolor": "#2a3f5f",
             "gridcolor": "white",
             "linecolor": "white",
             "minorgridcolor": "white",
             "startlinecolor": "#2a3f5f"
            },
            "type": "carpet"
           }
          ],
          "choropleth": [
           {
            "colorbar": {
             "outlinewidth": 0,
             "ticks": ""
            },
            "type": "choropleth"
           }
          ],
          "contour": [
           {
            "colorbar": {
             "outlinewidth": 0,
             "ticks": ""
            },
            "colorscale": [
             [
              0,
              "#0d0887"
             ],
             [
              0.1111111111111111,
              "#46039f"
             ],
             [
              0.2222222222222222,
              "#7201a8"
             ],
             [
              0.3333333333333333,
              "#9c179e"
             ],
             [
              0.4444444444444444,
              "#bd3786"
             ],
             [
              0.5555555555555556,
              "#d8576b"
             ],
             [
              0.6666666666666666,
              "#ed7953"
             ],
             [
              0.7777777777777778,
              "#fb9f3a"
             ],
             [
              0.8888888888888888,
              "#fdca26"
             ],
             [
              1,
              "#f0f921"
             ]
            ],
            "type": "contour"
           }
          ],
          "contourcarpet": [
           {
            "colorbar": {
             "outlinewidth": 0,
             "ticks": ""
            },
            "type": "contourcarpet"
           }
          ],
          "heatmap": [
           {
            "colorbar": {
             "outlinewidth": 0,
             "ticks": ""
            },
            "colorscale": [
             [
              0,
              "#0d0887"
             ],
             [
              0.1111111111111111,
              "#46039f"
             ],
             [
              0.2222222222222222,
              "#7201a8"
             ],
             [
              0.3333333333333333,
              "#9c179e"
             ],
             [
              0.4444444444444444,
              "#bd3786"
             ],
             [
              0.5555555555555556,
              "#d8576b"
             ],
             [
              0.6666666666666666,
              "#ed7953"
             ],
             [
              0.7777777777777778,
              "#fb9f3a"
             ],
             [
              0.8888888888888888,
              "#fdca26"
             ],
             [
              1,
              "#f0f921"
             ]
            ],
            "type": "heatmap"
           }
          ],
          "heatmapgl": [
           {
            "colorbar": {
             "outlinewidth": 0,
             "ticks": ""
            },
            "colorscale": [
             [
              0,
              "#0d0887"
             ],
             [
              0.1111111111111111,
              "#46039f"
             ],
             [
              0.2222222222222222,
              "#7201a8"
             ],
             [
              0.3333333333333333,
              "#9c179e"
             ],
             [
              0.4444444444444444,
              "#bd3786"
             ],
             [
              0.5555555555555556,
              "#d8576b"
             ],
             [
              0.6666666666666666,
              "#ed7953"
             ],
             [
              0.7777777777777778,
              "#fb9f3a"
             ],
             [
              0.8888888888888888,
              "#fdca26"
             ],
             [
              1,
              "#f0f921"
             ]
            ],
            "type": "heatmapgl"
           }
          ],
          "histogram": [
           {
            "marker": {
             "pattern": {
              "fillmode": "overlay",
              "size": 10,
              "solidity": 0.2
             }
            },
            "type": "histogram"
           }
          ],
          "histogram2d": [
           {
            "colorbar": {
             "outlinewidth": 0,
             "ticks": ""
            },
            "colorscale": [
             [
              0,
              "#0d0887"
             ],
             [
              0.1111111111111111,
              "#46039f"
             ],
             [
              0.2222222222222222,
              "#7201a8"
             ],
             [
              0.3333333333333333,
              "#9c179e"
             ],
             [
              0.4444444444444444,
              "#bd3786"
             ],
             [
              0.5555555555555556,
              "#d8576b"
             ],
             [
              0.6666666666666666,
              "#ed7953"
             ],
             [
              0.7777777777777778,
              "#fb9f3a"
             ],
             [
              0.8888888888888888,
              "#fdca26"
             ],
             [
              1,
              "#f0f921"
             ]
            ],
            "type": "histogram2d"
           }
          ],
          "histogram2dcontour": [
           {
            "colorbar": {
             "outlinewidth": 0,
             "ticks": ""
            },
            "colorscale": [
             [
              0,
              "#0d0887"
             ],
             [
              0.1111111111111111,
              "#46039f"
             ],
             [
              0.2222222222222222,
              "#7201a8"
             ],
             [
              0.3333333333333333,
              "#9c179e"
             ],
             [
              0.4444444444444444,
              "#bd3786"
             ],
             [
              0.5555555555555556,
              "#d8576b"
             ],
             [
              0.6666666666666666,
              "#ed7953"
             ],
             [
              0.7777777777777778,
              "#fb9f3a"
             ],
             [
              0.8888888888888888,
              "#fdca26"
             ],
             [
              1,
              "#f0f921"
             ]
            ],
            "type": "histogram2dcontour"
           }
          ],
          "mesh3d": [
           {
            "colorbar": {
             "outlinewidth": 0,
             "ticks": ""
            },
            "type": "mesh3d"
           }
          ],
          "parcoords": [
           {
            "line": {
             "colorbar": {
              "outlinewidth": 0,
              "ticks": ""
             }
            },
            "type": "parcoords"
           }
          ],
          "pie": [
           {
            "automargin": true,
            "type": "pie"
           }
          ],
          "scatter": [
           {
            "fillpattern": {
             "fillmode": "overlay",
             "size": 10,
             "solidity": 0.2
            },
            "type": "scatter"
           }
          ],
          "scatter3d": [
           {
            "line": {
             "colorbar": {
              "outlinewidth": 0,
              "ticks": ""
             }
            },
            "marker": {
             "colorbar": {
              "outlinewidth": 0,
              "ticks": ""
             }
            },
            "type": "scatter3d"
           }
          ],
          "scattercarpet": [
           {
            "marker": {
             "colorbar": {
              "outlinewidth": 0,
              "ticks": ""
             }
            },
            "type": "scattercarpet"
           }
          ],
          "scattergeo": [
           {
            "marker": {
             "colorbar": {
              "outlinewidth": 0,
              "ticks": ""
             }
            },
            "type": "scattergeo"
           }
          ],
          "scattergl": [
           {
            "marker": {
             "colorbar": {
              "outlinewidth": 0,
              "ticks": ""
             }
            },
            "type": "scattergl"
           }
          ],
          "scattermapbox": [
           {
            "marker": {
             "colorbar": {
              "outlinewidth": 0,
              "ticks": ""
             }
            },
            "type": "scattermapbox"
           }
          ],
          "scatterpolar": [
           {
            "marker": {
             "colorbar": {
              "outlinewidth": 0,
              "ticks": ""
             }
            },
            "type": "scatterpolar"
           }
          ],
          "scatterpolargl": [
           {
            "marker": {
             "colorbar": {
              "outlinewidth": 0,
              "ticks": ""
             }
            },
            "type": "scatterpolargl"
           }
          ],
          "scatterternary": [
           {
            "marker": {
             "colorbar": {
              "outlinewidth": 0,
              "ticks": ""
             }
            },
            "type": "scatterternary"
           }
          ],
          "surface": [
           {
            "colorbar": {
             "outlinewidth": 0,
             "ticks": ""
            },
            "colorscale": [
             [
              0,
              "#0d0887"
             ],
             [
              0.1111111111111111,
              "#46039f"
             ],
             [
              0.2222222222222222,
              "#7201a8"
             ],
             [
              0.3333333333333333,
              "#9c179e"
             ],
             [
              0.4444444444444444,
              "#bd3786"
             ],
             [
              0.5555555555555556,
              "#d8576b"
             ],
             [
              0.6666666666666666,
              "#ed7953"
             ],
             [
              0.7777777777777778,
              "#fb9f3a"
             ],
             [
              0.8888888888888888,
              "#fdca26"
             ],
             [
              1,
              "#f0f921"
             ]
            ],
            "type": "surface"
           }
          ],
          "table": [
           {
            "cells": {
             "fill": {
              "color": "#EBF0F8"
             },
             "line": {
              "color": "white"
             }
            },
            "header": {
             "fill": {
              "color": "#C8D4E3"
             },
             "line": {
              "color": "white"
             }
            },
            "type": "table"
           }
          ]
         },
         "layout": {
          "annotationdefaults": {
           "arrowcolor": "#2a3f5f",
           "arrowhead": 0,
           "arrowwidth": 1
          },
          "autotypenumbers": "strict",
          "coloraxis": {
           "colorbar": {
            "outlinewidth": 0,
            "ticks": ""
           }
          },
          "colorscale": {
           "diverging": [
            [
             0,
             "#8e0152"
            ],
            [
             0.1,
             "#c51b7d"
            ],
            [
             0.2,
             "#de77ae"
            ],
            [
             0.3,
             "#f1b6da"
            ],
            [
             0.4,
             "#fde0ef"
            ],
            [
             0.5,
             "#f7f7f7"
            ],
            [
             0.6,
             "#e6f5d0"
            ],
            [
             0.7,
             "#b8e186"
            ],
            [
             0.8,
             "#7fbc41"
            ],
            [
             0.9,
             "#4d9221"
            ],
            [
             1,
             "#276419"
            ]
           ],
           "sequential": [
            [
             0,
             "#0d0887"
            ],
            [
             0.1111111111111111,
             "#46039f"
            ],
            [
             0.2222222222222222,
             "#7201a8"
            ],
            [
             0.3333333333333333,
             "#9c179e"
            ],
            [
             0.4444444444444444,
             "#bd3786"
            ],
            [
             0.5555555555555556,
             "#d8576b"
            ],
            [
             0.6666666666666666,
             "#ed7953"
            ],
            [
             0.7777777777777778,
             "#fb9f3a"
            ],
            [
             0.8888888888888888,
             "#fdca26"
            ],
            [
             1,
             "#f0f921"
            ]
           ],
           "sequentialminus": [
            [
             0,
             "#0d0887"
            ],
            [
             0.1111111111111111,
             "#46039f"
            ],
            [
             0.2222222222222222,
             "#7201a8"
            ],
            [
             0.3333333333333333,
             "#9c179e"
            ],
            [
             0.4444444444444444,
             "#bd3786"
            ],
            [
             0.5555555555555556,
             "#d8576b"
            ],
            [
             0.6666666666666666,
             "#ed7953"
            ],
            [
             0.7777777777777778,
             "#fb9f3a"
            ],
            [
             0.8888888888888888,
             "#fdca26"
            ],
            [
             1,
             "#f0f921"
            ]
           ]
          },
          "colorway": [
           "#636efa",
           "#EF553B",
           "#00cc96",
           "#ab63fa",
           "#FFA15A",
           "#19d3f3",
           "#FF6692",
           "#B6E880",
           "#FF97FF",
           "#FECB52"
          ],
          "font": {
           "color": "#2a3f5f"
          },
          "geo": {
           "bgcolor": "white",
           "lakecolor": "white",
           "landcolor": "#E5ECF6",
           "showlakes": true,
           "showland": true,
           "subunitcolor": "white"
          },
          "hoverlabel": {
           "align": "left"
          },
          "hovermode": "closest",
          "mapbox": {
           "style": "light"
          },
          "paper_bgcolor": "white",
          "plot_bgcolor": "#E5ECF6",
          "polar": {
           "angularaxis": {
            "gridcolor": "white",
            "linecolor": "white",
            "ticks": ""
           },
           "bgcolor": "#E5ECF6",
           "radialaxis": {
            "gridcolor": "white",
            "linecolor": "white",
            "ticks": ""
           }
          },
          "scene": {
           "xaxis": {
            "backgroundcolor": "#E5ECF6",
            "gridcolor": "white",
            "gridwidth": 2,
            "linecolor": "white",
            "showbackground": true,
            "ticks": "",
            "zerolinecolor": "white"
           },
           "yaxis": {
            "backgroundcolor": "#E5ECF6",
            "gridcolor": "white",
            "gridwidth": 2,
            "linecolor": "white",
            "showbackground": true,
            "ticks": "",
            "zerolinecolor": "white"
           },
           "zaxis": {
            "backgroundcolor": "#E5ECF6",
            "gridcolor": "white",
            "gridwidth": 2,
            "linecolor": "white",
            "showbackground": true,
            "ticks": "",
            "zerolinecolor": "white"
           }
          },
          "shapedefaults": {
           "line": {
            "color": "#2a3f5f"
           }
          },
          "ternary": {
           "aaxis": {
            "gridcolor": "white",
            "linecolor": "white",
            "ticks": ""
           },
           "baxis": {
            "gridcolor": "white",
            "linecolor": "white",
            "ticks": ""
           },
           "bgcolor": "#E5ECF6",
           "caxis": {
            "gridcolor": "white",
            "linecolor": "white",
            "ticks": ""
           }
          },
          "title": {
           "x": 0.05
          },
          "xaxis": {
           "automargin": true,
           "gridcolor": "white",
           "linecolor": "white",
           "ticks": "",
           "title": {
            "standoff": 15
           },
           "zerolinecolor": "white",
           "zerolinewidth": 2
          },
          "yaxis": {
           "automargin": true,
           "gridcolor": "white",
           "linecolor": "white",
           "ticks": "",
           "title": {
            "standoff": 15
           },
           "zerolinecolor": "white",
           "zerolinewidth": 2
          }
         }
        },
        "title": {
         "text": "m-OMe_BA",
         "x": 0.5,
         "xanchor": "center",
         "y": 0.9,
         "yanchor": "top"
        },
        "updatemenus": [
         {
          "buttons": [
           {
            "args": [
             {
              "scene.annotations": [
               {
                "font": {
                 "color": "blue"
                },
                "showarrow": false,
                "text": "1",
                "x": -1.004569,
                "y": 0.168499,
                "yshift": 15,
                "z": -0.00001
               },
               {
                "font": {
                 "color": "blue"
                },
                "showarrow": false,
                "text": "2",
                "x": 0.067421,
                "y": -0.707394,
                "yshift": 15,
                "z": -0.000009
               },
               {
                "font": {
                 "color": "blue"
                },
                "showarrow": false,
                "text": "3",
                "x": 1.368289,
                "y": -0.207552,
                "yshift": 15,
                "z": -0.000002
               },
               {
                "font": {
                 "color": "blue"
                },
                "showarrow": false,
                "text": "4",
                "x": 1.581981,
                "y": 1.166996,
                "yshift": 15,
                "z": 0.000005
               },
               {
                "font": {
                 "color": "blue"
                },
                "showarrow": false,
                "text": "5",
                "x": 0.491137,
                "y": 2.032857,
                "yshift": 15,
                "z": 0.000004
               },
               {
                "font": {
                 "color": "blue"
                },
                "showarrow": false,
                "text": "6",
                "x": -0.801213,
                "y": 1.547792,
                "yshift": 15,
                "z": -0.000003
               },
               {
                "font": {
                 "color": "blue"
                },
                "showarrow": false,
                "text": "7",
                "x": -2.406554,
                "y": -0.329266,
                "yshift": 15,
                "z": -0.00002
               },
               {
                "font": {
                 "color": "blue"
                },
                "showarrow": false,
                "text": "8",
                "x": -3.379818,
                "y": 0.373483,
                "yshift": 15,
                "z": 0.000009
               },
               {
                "font": {
                 "color": "blue"
                },
                "showarrow": false,
                "text": "9",
                "x": -2.492033,
                "y": -1.672214,
                "yshift": 15,
                "z": 0.000011
               },
               {
                "font": {
                 "color": "blue"
                },
                "showarrow": false,
                "text": "10",
                "x": -3.433994,
                "y": -1.890713,
                "yshift": 15,
                "z": 0.000029
               },
               {
                "font": {
                 "color": "blue"
                },
                "showarrow": false,
                "text": "11",
                "x": 3.690371,
                "y": -0.675718,
                "yshift": 15,
                "z": 0.000004
               },
               {
                "font": {
                 "color": "blue"
                },
                "showarrow": false,
                "text": "12",
                "x": 2.35697,
                "y": -1.134406,
                "yshift": 15,
                "z": -0.000002
               },
               {
                "font": {
                 "color": "blue"
                },
                "showarrow": false,
                "text": "13",
                "x": 4.316345,
                "y": -1.563552,
                "yshift": 15,
                "z": 0.000002
               },
               {
                "font": {
                 "color": "blue"
                },
                "showarrow": false,
                "text": "14",
                "x": 3.903525,
                "y": -0.080533,
                "yshift": 15,
                "z": -0.89185
               },
               {
                "font": {
                 "color": "blue"
                },
                "showarrow": false,
                "text": "15",
                "x": 3.903519,
                "y": -0.080541,
                "yshift": 15,
                "z": 0.891865
               },
               {
                "font": {
                 "color": "blue"
                },
                "showarrow": false,
                "text": "16",
                "x": -0.08374,
                "y": -1.777412,
                "yshift": 15,
                "z": -0.000014
               },
               {
                "font": {
                 "color": "blue"
                },
                "showarrow": false,
                "text": "17",
                "x": -1.65769,
                "y": 2.206837,
                "yshift": 15,
                "z": -0.000004
               },
               {
                "font": {
                 "color": "blue"
                },
                "showarrow": false,
                "text": "18",
                "x": 0.667025,
                "y": 3.100507,
                "yshift": 15,
                "z": 0.000009
               },
               {
                "font": {
                 "color": "blue"
                },
                "showarrow": false,
                "text": "19",
                "x": 2.582887,
                "y": 1.573222,
                "yshift": 15,
                "z": 0.00001
               }
              ]
             }
            ],
            "label": "Atom indices",
            "method": "relayout"
           },
           {
            "args": [
             {
              "scene.annotations": [
               {
                "showarrow": false,
                "text": "1.38",
                "x": -0.46857400000000005,
                "y": -0.26944749999999995,
                "yshift": 10,
                "z": -0.0000095
               },
               {
                "showarrow": false,
                "text": "1.39",
                "x": 0.717855,
                "y": -0.45747299999999996,
                "yshift": 10,
                "z": -0.0000055
               },
               {
                "showarrow": false,
                "text": "1.39",
                "x": 1.475135,
                "y": 0.479722,
                "yshift": 10,
                "z": 0.0000015000000000000002
               },
               {
                "showarrow": false,
                "text": "1.39",
                "x": 1.036559,
                "y": 1.5999265,
                "yshift": 10,
                "z": 0.0000045
               },
               {
                "showarrow": false,
                "text": "1.38",
                "x": -0.15503799999999998,
                "y": 1.7903245,
                "yshift": 10,
                "z": 4.999999999999999e-7
               },
               {
                "showarrow": false,
                "text": "1.2",
                "x": -2.893186,
                "y": 0.022108500000000003,
                "yshift": 10,
                "z": -0.000005500000000000001
               },
               {
                "showarrow": false,
                "text": "0.97",
                "x": -2.9630135,
                "y": -1.7814635,
                "yshift": 10,
                "z": 0.000019999999999999998
               },
               {
                "showarrow": false,
                "text": "1.41",
                "x": 3.0236704999999997,
                "y": -0.905062,
                "yshift": 10,
                "z": 0.000001
               },
               {
                "showarrow": false,
                "text": "1.35",
                "x": -2.4492935,
                "y": -1.00074,
                "yshift": 10,
                "z": -0.000004500000000000001
               },
               {
                "showarrow": false,
                "text": "1.09",
                "x": 4.003358,
                "y": -1.1196350000000002,
                "yshift": 10,
                "z": 0.000003
               },
               {
                "showarrow": false,
                "text": "1.09",
                "x": 3.796948,
                "y": -0.3781255,
                "yshift": 10,
                "z": -0.445923
               },
               {
                "showarrow": false,
                "text": "1.09",
                "x": 3.796945,
                "y": -0.3781295,
                "yshift": 10,
                "z": 0.4459345
               },
               {
                "showarrow": false,
                "text": "1.08",
                "x": 2.082434,
                "y": 1.3701089999999998,
                "yshift": 10,
                "z": 0.000007500000000000001
               },
               {
                "showarrow": false,
                "text": "1.39",
                "x": -0.902891,
                "y": 0.8581455,
                "yshift": 10,
                "z": -0.0000065000000000000004
               },
               {
                "showarrow": false,
                "text": "1.08",
                "x": -0.0081595,
                "y": -1.242403,
                "yshift": 10,
                "z": -0.0000115
               },
               {
                "showarrow": false,
                "text": "1.49",
                "x": -1.7055615,
                "y": -0.0803835,
                "yshift": 10,
                "z": -0.000015000000000000002
               },
               {
                "showarrow": false,
                "text": "1.08",
                "x": 0.579081,
                "y": 2.566682,
                "yshift": 10,
                "z": 0.0000065000000000000004
               },
               {
                "showarrow": false,
                "text": "1.08",
                "x": -1.2294515000000001,
                "y": 1.8773145000000002,
                "yshift": 10,
                "z": -0.0000035
               },
               {
                "showarrow": false,
                "text": "1.36",
                "x": 1.8626295000000002,
                "y": -0.670979,
                "yshift": 10,
                "z": -0.000002
               }
              ]
             }
            ],
            "label": "Bond lengths",
            "method": "relayout"
           },
           {
            "args": [
             {
              "scene.annotations": [
               {
                "font": {
                 "color": "blue"
                },
                "showarrow": false,
                "text": "1",
                "x": -1.004569,
                "y": 0.168499,
                "yshift": 15,
                "z": -0.00001
               },
               {
                "font": {
                 "color": "blue"
                },
                "showarrow": false,
                "text": "2",
                "x": 0.067421,
                "y": -0.707394,
                "yshift": 15,
                "z": -0.000009
               },
               {
                "font": {
                 "color": "blue"
                },
                "showarrow": false,
                "text": "3",
                "x": 1.368289,
                "y": -0.207552,
                "yshift": 15,
                "z": -0.000002
               },
               {
                "font": {
                 "color": "blue"
                },
                "showarrow": false,
                "text": "4",
                "x": 1.581981,
                "y": 1.166996,
                "yshift": 15,
                "z": 0.000005
               },
               {
                "font": {
                 "color": "blue"
                },
                "showarrow": false,
                "text": "5",
                "x": 0.491137,
                "y": 2.032857,
                "yshift": 15,
                "z": 0.000004
               },
               {
                "font": {
                 "color": "blue"
                },
                "showarrow": false,
                "text": "6",
                "x": -0.801213,
                "y": 1.547792,
                "yshift": 15,
                "z": -0.000003
               },
               {
                "font": {
                 "color": "blue"
                },
                "showarrow": false,
                "text": "7",
                "x": -2.406554,
                "y": -0.329266,
                "yshift": 15,
                "z": -0.00002
               },
               {
                "font": {
                 "color": "blue"
                },
                "showarrow": false,
                "text": "8",
                "x": -3.379818,
                "y": 0.373483,
                "yshift": 15,
                "z": 0.000009
               },
               {
                "font": {
                 "color": "blue"
                },
                "showarrow": false,
                "text": "9",
                "x": -2.492033,
                "y": -1.672214,
                "yshift": 15,
                "z": 0.000011
               },
               {
                "font": {
                 "color": "blue"
                },
                "showarrow": false,
                "text": "10",
                "x": -3.433994,
                "y": -1.890713,
                "yshift": 15,
                "z": 0.000029
               },
               {
                "font": {
                 "color": "blue"
                },
                "showarrow": false,
                "text": "11",
                "x": 3.690371,
                "y": -0.675718,
                "yshift": 15,
                "z": 0.000004
               },
               {
                "font": {
                 "color": "blue"
                },
                "showarrow": false,
                "text": "12",
                "x": 2.35697,
                "y": -1.134406,
                "yshift": 15,
                "z": -0.000002
               },
               {
                "font": {
                 "color": "blue"
                },
                "showarrow": false,
                "text": "13",
                "x": 4.316345,
                "y": -1.563552,
                "yshift": 15,
                "z": 0.000002
               },
               {
                "font": {
                 "color": "blue"
                },
                "showarrow": false,
                "text": "14",
                "x": 3.903525,
                "y": -0.080533,
                "yshift": 15,
                "z": -0.89185
               },
               {
                "font": {
                 "color": "blue"
                },
                "showarrow": false,
                "text": "15",
                "x": 3.903519,
                "y": -0.080541,
                "yshift": 15,
                "z": 0.891865
               },
               {
                "font": {
                 "color": "blue"
                },
                "showarrow": false,
                "text": "16",
                "x": -0.08374,
                "y": -1.777412,
                "yshift": 15,
                "z": -0.000014
               },
               {
                "font": {
                 "color": "blue"
                },
                "showarrow": false,
                "text": "17",
                "x": -1.65769,
                "y": 2.206837,
                "yshift": 15,
                "z": -0.000004
               },
               {
                "font": {
                 "color": "blue"
                },
                "showarrow": false,
                "text": "18",
                "x": 0.667025,
                "y": 3.100507,
                "yshift": 15,
                "z": 0.000009
               },
               {
                "font": {
                 "color": "blue"
                },
                "showarrow": false,
                "text": "19",
                "x": 2.582887,
                "y": 1.573222,
                "yshift": 15,
                "z": 0.00001
               },
               {
                "showarrow": false,
                "text": "1.38",
                "x": -0.46857400000000005,
                "y": -0.26944749999999995,
                "yshift": 10,
                "z": -0.0000095
               },
               {
                "showarrow": false,
                "text": "1.39",
                "x": 0.717855,
                "y": -0.45747299999999996,
                "yshift": 10,
                "z": -0.0000055
               },
               {
                "showarrow": false,
                "text": "1.39",
                "x": 1.475135,
                "y": 0.479722,
                "yshift": 10,
                "z": 0.0000015000000000000002
               },
               {
                "showarrow": false,
                "text": "1.39",
                "x": 1.036559,
                "y": 1.5999265,
                "yshift": 10,
                "z": 0.0000045
               },
               {
                "showarrow": false,
                "text": "1.38",
                "x": -0.15503799999999998,
                "y": 1.7903245,
                "yshift": 10,
                "z": 4.999999999999999e-7
               },
               {
                "showarrow": false,
                "text": "1.2",
                "x": -2.893186,
                "y": 0.022108500000000003,
                "yshift": 10,
                "z": -0.000005500000000000001
               },
               {
                "showarrow": false,
                "text": "0.97",
                "x": -2.9630135,
                "y": -1.7814635,
                "yshift": 10,
                "z": 0.000019999999999999998
               },
               {
                "showarrow": false,
                "text": "1.41",
                "x": 3.0236704999999997,
                "y": -0.905062,
                "yshift": 10,
                "z": 0.000001
               },
               {
                "showarrow": false,
                "text": "1.35",
                "x": -2.4492935,
                "y": -1.00074,
                "yshift": 10,
                "z": -0.000004500000000000001
               },
               {
                "showarrow": false,
                "text": "1.09",
                "x": 4.003358,
                "y": -1.1196350000000002,
                "yshift": 10,
                "z": 0.000003
               },
               {
                "showarrow": false,
                "text": "1.09",
                "x": 3.796948,
                "y": -0.3781255,
                "yshift": 10,
                "z": -0.445923
               },
               {
                "showarrow": false,
                "text": "1.09",
                "x": 3.796945,
                "y": -0.3781295,
                "yshift": 10,
                "z": 0.4459345
               },
               {
                "showarrow": false,
                "text": "1.08",
                "x": 2.082434,
                "y": 1.3701089999999998,
                "yshift": 10,
                "z": 0.000007500000000000001
               },
               {
                "showarrow": false,
                "text": "1.39",
                "x": -0.902891,
                "y": 0.8581455,
                "yshift": 10,
                "z": -0.0000065000000000000004
               },
               {
                "showarrow": false,
                "text": "1.08",
                "x": -0.0081595,
                "y": -1.242403,
                "yshift": 10,
                "z": -0.0000115
               },
               {
                "showarrow": false,
                "text": "1.49",
                "x": -1.7055615,
                "y": -0.0803835,
                "yshift": 10,
                "z": -0.000015000000000000002
               },
               {
                "showarrow": false,
                "text": "1.08",
                "x": 0.579081,
                "y": 2.566682,
                "yshift": 10,
                "z": 0.0000065000000000000004
               },
               {
                "showarrow": false,
                "text": "1.08",
                "x": -1.2294515000000001,
                "y": 1.8773145000000002,
                "yshift": 10,
                "z": -0.0000035
               },
               {
                "showarrow": false,
                "text": "1.36",
                "x": 1.8626295000000002,
                "y": -0.670979,
                "yshift": 10,
                "z": -0.000002
               }
              ]
             }
            ],
            "label": "Both",
            "method": "relayout"
           },
           {
            "args": [
             {
              "scene.annotations": []
             }
            ],
            "label": "Hide all",
            "method": "relayout"
           },
           {
            "args": [
             {
              "visible": [
               true,
               true,
               true,
               true,
               true,
               true,
               true,
               true
              ]
             },
             {}
            ],
            "label": "Show dipole",
            "method": "update"
           },
           {
            "args": [
             {
              "visible": [
               true,
               true,
               false,
               false,
               false,
               false,
               false,
               false
              ]
             },
             {}
            ],
            "label": "Hide dipole",
            "method": "update"
           }
          ],
          "direction": "down",
          "xanchor": "left",
          "yanchor": "top"
         }
        ]
       }
      }
     },
     "metadata": {},
     "output_type": "display_data"
    },
    {
     "data": {
      "application/vnd.plotly.v1+json": {
       "config": {
        "plotlyServerURL": "https://plot.ly"
       },
       "data": [
        {
         "marker": {
          "color": [
           "black",
           "black",
           "black",
           "black",
           "black",
           "black",
           "black",
           "red",
           "red",
           "white",
           "black",
           "yellow",
           "red",
           "red",
           "white",
           "white",
           "white",
           "white",
           "white",
           "white",
           "white"
          ],
          "line": {
           "color": "lightgray",
           "width": 2
          },
          "size": 5
         },
         "mode": "markers",
         "name": "atoms",
         "text": [
          "C",
          "C",
          "C",
          "C",
          "C",
          "C",
          "C",
          "O",
          "O",
          "H",
          "C",
          "S",
          "O",
          "O",
          "H",
          "H",
          "H",
          "H",
          "H",
          "H",
          "H"
         ],
         "type": "scatter3d",
         "x": [
          -1.735639,
          -0.474041,
          0.637663,
          0.517018,
          -0.747606,
          -1.872441,
          -2.915285,
          -2.849255,
          -4.084161,
          -4.786867,
          2.617595,
          2.255524,
          3.17197,
          2.15071,
          3.609623,
          1.878144,
          2.615767,
          -0.37453,
          -2.861395,
          -0.856067,
          1.409237
         ],
         "y": [
          0.147652,
          -0.42974,
          0.395019,
          1.777021,
          2.343189,
          1.5314,
          -0.761342,
          -1.958168,
          -0.098242,
          -0.763719,
          -0.731267,
          -0.330975,
          0.694493,
          -1.562965,
          -1.180954,
          -1.442446,
          0.182785,
          -1.505372,
          1.965125,
          3.41852,
          2.38912
         ],
         "z": [
          -0.003113,
          -0.078316,
          -0.07801,
          -0.017154,
          0.051314,
          0.061145,
          0.001883,
          -0.016237,
          0.033549,
          0.034558,
          1.522597,
          -0.165429,
          -0.580646,
          -0.89425,
          1.512819,
          1.883172,
          2.111519,
          -0.155286,
          0.112792,
          0.090735,
          -0.044845
         ]
        },
        {
         "hoverinfo": "none",
         "line": {
          "color": "black",
          "width": 3
         },
         "mode": "lines",
         "name": "bonds",
         "type": "scatter3d",
         "x": [
          -1.735639,
          -0.474041,
          null,
          -0.474041,
          0.637663,
          null,
          0.637663,
          0.517018,
          null,
          0.517018,
          -0.747606,
          null,
          -0.747606,
          -1.872441,
          null,
          -2.915285,
          -2.849255,
          null,
          -4.084161,
          -4.786867,
          null,
          2.617595,
          2.255524,
          null,
          2.255524,
          3.17197,
          null,
          -4.084161,
          -2.915285,
          null,
          2.255524,
          2.15071,
          null,
          2.617595,
          3.609623,
          null,
          0.517018,
          1.409237,
          null,
          -1.735639,
          -1.872441,
          null,
          2.617595,
          1.878144,
          null,
          -0.37453,
          -0.474041,
          null,
          -1.735639,
          -2.915285,
          null,
          2.615767,
          2.617595,
          null,
          -0.856067,
          -0.747606,
          null,
          -2.861395,
          -1.872441,
          null,
          0.637663,
          2.255524,
          null
         ],
         "y": [
          0.147652,
          -0.42974,
          null,
          -0.42974,
          0.395019,
          null,
          0.395019,
          1.777021,
          null,
          1.777021,
          2.343189,
          null,
          2.343189,
          1.5314,
          null,
          -0.761342,
          -1.958168,
          null,
          -0.098242,
          -0.763719,
          null,
          -0.731267,
          -0.330975,
          null,
          -0.330975,
          0.694493,
          null,
          -0.098242,
          -0.761342,
          null,
          -0.330975,
          -1.562965,
          null,
          -0.731267,
          -1.180954,
          null,
          1.777021,
          2.38912,
          null,
          0.147652,
          1.5314,
          null,
          -0.731267,
          -1.442446,
          null,
          -1.505372,
          -0.42974,
          null,
          0.147652,
          -0.761342,
          null,
          0.182785,
          -0.731267,
          null,
          3.41852,
          2.343189,
          null,
          1.965125,
          1.5314,
          null,
          0.395019,
          -0.330975,
          null
         ],
         "z": [
          -0.003113,
          -0.078316,
          null,
          -0.078316,
          -0.07801,
          null,
          -0.07801,
          -0.017154,
          null,
          -0.017154,
          0.051314,
          null,
          0.051314,
          0.061145,
          null,
          0.001883,
          -0.016237,
          null,
          0.033549,
          0.034558,
          null,
          1.522597,
          -0.165429,
          null,
          -0.165429,
          -0.580646,
          null,
          0.033549,
          0.001883,
          null,
          -0.165429,
          -0.89425,
          null,
          1.522597,
          1.512819,
          null,
          -0.017154,
          -0.044845,
          null,
          -0.003113,
          0.061145,
          null,
          1.522597,
          1.883172,
          null,
          -0.155286,
          -0.078316,
          null,
          -0.003113,
          0.001883,
          null,
          2.111519,
          1.522597,
          null,
          0.090735,
          0.051314,
          null,
          0.112792,
          0.061145,
          null,
          -0.07801,
          -0.165429,
          null
         ]
        },
        {
         "line": {
          "color": "red",
          "width": 8
         },
         "mode": "lines",
         "name": "Dipole X",
         "showlegend": true,
         "type": "scatter3d",
         "visible": false,
         "x": [
          0,
          -5.8984
         ],
         "y": [
          0,
          0
         ],
         "z": [
          0,
          0
         ]
        },
        {
         "anchor": "tip",
         "colorscale": [
          [
           0,
           "red"
          ],
          [
           1,
           "red"
          ]
         ],
         "name": "Dipole X",
         "showlegend": false,
         "showscale": false,
         "sizemode": "scaled",
         "sizeref": 0.2,
         "type": "cone",
         "u": [
          -6.0484
         ],
         "v": [
          0
         ],
         "visible": false,
         "w": [
          0
         ],
         "x": [
          -6.0484
         ],
         "y": [
          0
         ],
         "z": [
          0
         ]
        },
        {
         "line": {
          "color": "green",
          "width": 8
         },
         "mode": "lines",
         "name": "Dipole Y",
         "showlegend": true,
         "type": "scatter3d",
         "visible": false,
         "x": [
          0,
          0
         ],
         "y": [
          0,
          5.3098
         ],
         "z": [
          0,
          0
         ]
        },
        {
         "anchor": "tip",
         "colorscale": [
          [
           0,
           "green"
          ],
          [
           1,
           "green"
          ]
         ],
         "name": "Dipole Y",
         "showlegend": false,
         "showscale": false,
         "sizemode": "scaled",
         "sizeref": 0.2,
         "type": "cone",
         "u": [
          0
         ],
         "v": [
          5.4598
         ],
         "visible": false,
         "w": [
          0
         ],
         "x": [
          0
         ],
         "y": [
          5.4598
         ],
         "z": [
          0
         ]
        },
        {
         "line": {
          "color": "blue",
          "width": 8
         },
         "mode": "lines",
         "name": "Dipole Z",
         "showlegend": true,
         "type": "scatter3d",
         "visible": false,
         "x": [
          0,
          0
         ],
         "y": [
          0,
          0
         ],
         "z": [
          0,
          7.1652
         ]
        },
        {
         "anchor": "tip",
         "colorscale": [
          [
           0,
           "blue"
          ],
          [
           1,
           "blue"
          ]
         ],
         "name": "Dipole Z",
         "showlegend": false,
         "showscale": false,
         "sizemode": "scaled",
         "sizeref": 0.2,
         "type": "cone",
         "u": [
          0
         ],
         "v": [
          0
         ],
         "visible": false,
         "w": [
          7.3152
         ],
         "x": [
          0
         ],
         "y": [
          0
         ],
         "z": [
          7.3152
         ]
        },
        {
         "line": {
          "color": "purple",
          "width": 8
         },
         "mode": "lines",
         "name": "Total Dipole",
         "showlegend": true,
         "type": "scatter3d",
         "visible": false,
         "x": [
          0,
          -5.965545968919487
         ],
         "y": [
          0,
          5.385008908323957
         ],
         "z": [
          0,
          7.214992704159751
         ]
        },
        {
         "anchor": "tip",
         "colorscale": [
          [
           0,
           "purple"
          ],
          [
           1,
           "purple"
          ]
         ],
         "name": "Total Dipole",
         "showlegend": false,
         "showscale": false,
         "sizemode": "scaled",
         "sizeref": 0.2,
         "type": "cone",
         "u": [
          -6.0484
         ],
         "v": [
          5.4598
         ],
         "visible": false,
         "w": [
          7.3152
         ],
         "x": [
          -6.0484
         ],
         "y": [
          5.4598
         ],
         "z": [
          7.3152
         ]
        }
       ],
       "layout": {
        "margin": {
         "b": 0,
         "l": 0,
         "r": 0,
         "t": 0
        },
        "scene": {
         "annotations": [
          {
           "font": {
            "color": "blue"
           },
           "showarrow": false,
           "text": "1",
           "x": -1.735639,
           "y": 0.147652,
           "yshift": 15,
           "z": -0.003113
          },
          {
           "font": {
            "color": "blue"
           },
           "showarrow": false,
           "text": "2",
           "x": -0.474041,
           "y": -0.42974,
           "yshift": 15,
           "z": -0.078316
          },
          {
           "font": {
            "color": "blue"
           },
           "showarrow": false,
           "text": "3",
           "x": 0.637663,
           "y": 0.395019,
           "yshift": 15,
           "z": -0.07801
          },
          {
           "font": {
            "color": "blue"
           },
           "showarrow": false,
           "text": "4",
           "x": 0.517018,
           "y": 1.777021,
           "yshift": 15,
           "z": -0.017154
          },
          {
           "font": {
            "color": "blue"
           },
           "showarrow": false,
           "text": "5",
           "x": -0.747606,
           "y": 2.343189,
           "yshift": 15,
           "z": 0.051314
          },
          {
           "font": {
            "color": "blue"
           },
           "showarrow": false,
           "text": "6",
           "x": -1.872441,
           "y": 1.5314,
           "yshift": 15,
           "z": 0.061145
          },
          {
           "font": {
            "color": "blue"
           },
           "showarrow": false,
           "text": "7",
           "x": -2.915285,
           "y": -0.761342,
           "yshift": 15,
           "z": 0.001883
          },
          {
           "font": {
            "color": "blue"
           },
           "showarrow": false,
           "text": "8",
           "x": -2.849255,
           "y": -1.958168,
           "yshift": 15,
           "z": -0.016237
          },
          {
           "font": {
            "color": "blue"
           },
           "showarrow": false,
           "text": "9",
           "x": -4.084161,
           "y": -0.098242,
           "yshift": 15,
           "z": 0.033549
          },
          {
           "font": {
            "color": "blue"
           },
           "showarrow": false,
           "text": "10",
           "x": -4.786867,
           "y": -0.763719,
           "yshift": 15,
           "z": 0.034558
          },
          {
           "font": {
            "color": "blue"
           },
           "showarrow": false,
           "text": "11",
           "x": 2.617595,
           "y": -0.731267,
           "yshift": 15,
           "z": 1.522597
          },
          {
           "font": {
            "color": "blue"
           },
           "showarrow": false,
           "text": "12",
           "x": 2.255524,
           "y": -0.330975,
           "yshift": 15,
           "z": -0.165429
          },
          {
           "font": {
            "color": "blue"
           },
           "showarrow": false,
           "text": "13",
           "x": 3.17197,
           "y": 0.694493,
           "yshift": 15,
           "z": -0.580646
          },
          {
           "font": {
            "color": "blue"
           },
           "showarrow": false,
           "text": "14",
           "x": 2.15071,
           "y": -1.562965,
           "yshift": 15,
           "z": -0.89425
          },
          {
           "font": {
            "color": "blue"
           },
           "showarrow": false,
           "text": "15",
           "x": 3.609623,
           "y": -1.180954,
           "yshift": 15,
           "z": 1.512819
          },
          {
           "font": {
            "color": "blue"
           },
           "showarrow": false,
           "text": "16",
           "x": 1.878144,
           "y": -1.442446,
           "yshift": 15,
           "z": 1.883172
          },
          {
           "font": {
            "color": "blue"
           },
           "showarrow": false,
           "text": "17",
           "x": 2.615767,
           "y": 0.182785,
           "yshift": 15,
           "z": 2.111519
          },
          {
           "font": {
            "color": "blue"
           },
           "showarrow": false,
           "text": "18",
           "x": -0.37453,
           "y": -1.505372,
           "yshift": 15,
           "z": -0.155286
          },
          {
           "font": {
            "color": "blue"
           },
           "showarrow": false,
           "text": "19",
           "x": -2.861395,
           "y": 1.965125,
           "yshift": 15,
           "z": 0.112792
          },
          {
           "font": {
            "color": "blue"
           },
           "showarrow": false,
           "text": "20",
           "x": -0.856067,
           "y": 3.41852,
           "yshift": 15,
           "z": 0.090735
          },
          {
           "font": {
            "color": "blue"
           },
           "showarrow": false,
           "text": "21",
           "x": 1.409237,
           "y": 2.38912,
           "yshift": 15,
           "z": -0.044845
          }
         ],
         "xaxis": {
          "showbackground": false,
          "showgrid": false,
          "showticklabels": false,
          "title": {
           "font": {
            "color": "white"
           },
           "text": "X"
          },
          "zeroline": false
         },
         "yaxis": {
          "showbackground": false,
          "showgrid": false,
          "showticklabels": false,
          "title": {
           "font": {
            "color": "white"
           },
           "text": "Y"
          },
          "zeroline": false
         },
         "zaxis": {
          "showbackground": false,
          "showgrid": false,
          "showticklabels": false,
          "title": {
           "font": {
            "color": "white"
           },
           "text": "Z"
          },
          "zeroline": false
         }
        },
        "showlegend": false,
        "template": {
         "data": {
          "bar": [
           {
            "error_x": {
             "color": "#2a3f5f"
            },
            "error_y": {
             "color": "#2a3f5f"
            },
            "marker": {
             "line": {
              "color": "#E5ECF6",
              "width": 0.5
             },
             "pattern": {
              "fillmode": "overlay",
              "size": 10,
              "solidity": 0.2
             }
            },
            "type": "bar"
           }
          ],
          "barpolar": [
           {
            "marker": {
             "line": {
              "color": "#E5ECF6",
              "width": 0.5
             },
             "pattern": {
              "fillmode": "overlay",
              "size": 10,
              "solidity": 0.2
             }
            },
            "type": "barpolar"
           }
          ],
          "carpet": [
           {
            "aaxis": {
             "endlinecolor": "#2a3f5f",
             "gridcolor": "white",
             "linecolor": "white",
             "minorgridcolor": "white",
             "startlinecolor": "#2a3f5f"
            },
            "baxis": {
             "endlinecolor": "#2a3f5f",
             "gridcolor": "white",
             "linecolor": "white",
             "minorgridcolor": "white",
             "startlinecolor": "#2a3f5f"
            },
            "type": "carpet"
           }
          ],
          "choropleth": [
           {
            "colorbar": {
             "outlinewidth": 0,
             "ticks": ""
            },
            "type": "choropleth"
           }
          ],
          "contour": [
           {
            "colorbar": {
             "outlinewidth": 0,
             "ticks": ""
            },
            "colorscale": [
             [
              0,
              "#0d0887"
             ],
             [
              0.1111111111111111,
              "#46039f"
             ],
             [
              0.2222222222222222,
              "#7201a8"
             ],
             [
              0.3333333333333333,
              "#9c179e"
             ],
             [
              0.4444444444444444,
              "#bd3786"
             ],
             [
              0.5555555555555556,
              "#d8576b"
             ],
             [
              0.6666666666666666,
              "#ed7953"
             ],
             [
              0.7777777777777778,
              "#fb9f3a"
             ],
             [
              0.8888888888888888,
              "#fdca26"
             ],
             [
              1,
              "#f0f921"
             ]
            ],
            "type": "contour"
           }
          ],
          "contourcarpet": [
           {
            "colorbar": {
             "outlinewidth": 0,
             "ticks": ""
            },
            "type": "contourcarpet"
           }
          ],
          "heatmap": [
           {
            "colorbar": {
             "outlinewidth": 0,
             "ticks": ""
            },
            "colorscale": [
             [
              0,
              "#0d0887"
             ],
             [
              0.1111111111111111,
              "#46039f"
             ],
             [
              0.2222222222222222,
              "#7201a8"
             ],
             [
              0.3333333333333333,
              "#9c179e"
             ],
             [
              0.4444444444444444,
              "#bd3786"
             ],
             [
              0.5555555555555556,
              "#d8576b"
             ],
             [
              0.6666666666666666,
              "#ed7953"
             ],
             [
              0.7777777777777778,
              "#fb9f3a"
             ],
             [
              0.8888888888888888,
              "#fdca26"
             ],
             [
              1,
              "#f0f921"
             ]
            ],
            "type": "heatmap"
           }
          ],
          "heatmapgl": [
           {
            "colorbar": {
             "outlinewidth": 0,
             "ticks": ""
            },
            "colorscale": [
             [
              0,
              "#0d0887"
             ],
             [
              0.1111111111111111,
              "#46039f"
             ],
             [
              0.2222222222222222,
              "#7201a8"
             ],
             [
              0.3333333333333333,
              "#9c179e"
             ],
             [
              0.4444444444444444,
              "#bd3786"
             ],
             [
              0.5555555555555556,
              "#d8576b"
             ],
             [
              0.6666666666666666,
              "#ed7953"
             ],
             [
              0.7777777777777778,
              "#fb9f3a"
             ],
             [
              0.8888888888888888,
              "#fdca26"
             ],
             [
              1,
              "#f0f921"
             ]
            ],
            "type": "heatmapgl"
           }
          ],
          "histogram": [
           {
            "marker": {
             "pattern": {
              "fillmode": "overlay",
              "size": 10,
              "solidity": 0.2
             }
            },
            "type": "histogram"
           }
          ],
          "histogram2d": [
           {
            "colorbar": {
             "outlinewidth": 0,
             "ticks": ""
            },
            "colorscale": [
             [
              0,
              "#0d0887"
             ],
             [
              0.1111111111111111,
              "#46039f"
             ],
             [
              0.2222222222222222,
              "#7201a8"
             ],
             [
              0.3333333333333333,
              "#9c179e"
             ],
             [
              0.4444444444444444,
              "#bd3786"
             ],
             [
              0.5555555555555556,
              "#d8576b"
             ],
             [
              0.6666666666666666,
              "#ed7953"
             ],
             [
              0.7777777777777778,
              "#fb9f3a"
             ],
             [
              0.8888888888888888,
              "#fdca26"
             ],
             [
              1,
              "#f0f921"
             ]
            ],
            "type": "histogram2d"
           }
          ],
          "histogram2dcontour": [
           {
            "colorbar": {
             "outlinewidth": 0,
             "ticks": ""
            },
            "colorscale": [
             [
              0,
              "#0d0887"
             ],
             [
              0.1111111111111111,
              "#46039f"
             ],
             [
              0.2222222222222222,
              "#7201a8"
             ],
             [
              0.3333333333333333,
              "#9c179e"
             ],
             [
              0.4444444444444444,
              "#bd3786"
             ],
             [
              0.5555555555555556,
              "#d8576b"
             ],
             [
              0.6666666666666666,
              "#ed7953"
             ],
             [
              0.7777777777777778,
              "#fb9f3a"
             ],
             [
              0.8888888888888888,
              "#fdca26"
             ],
             [
              1,
              "#f0f921"
             ]
            ],
            "type": "histogram2dcontour"
           }
          ],
          "mesh3d": [
           {
            "colorbar": {
             "outlinewidth": 0,
             "ticks": ""
            },
            "type": "mesh3d"
           }
          ],
          "parcoords": [
           {
            "line": {
             "colorbar": {
              "outlinewidth": 0,
              "ticks": ""
             }
            },
            "type": "parcoords"
           }
          ],
          "pie": [
           {
            "automargin": true,
            "type": "pie"
           }
          ],
          "scatter": [
           {
            "fillpattern": {
             "fillmode": "overlay",
             "size": 10,
             "solidity": 0.2
            },
            "type": "scatter"
           }
          ],
          "scatter3d": [
           {
            "line": {
             "colorbar": {
              "outlinewidth": 0,
              "ticks": ""
             }
            },
            "marker": {
             "colorbar": {
              "outlinewidth": 0,
              "ticks": ""
             }
            },
            "type": "scatter3d"
           }
          ],
          "scattercarpet": [
           {
            "marker": {
             "colorbar": {
              "outlinewidth": 0,
              "ticks": ""
             }
            },
            "type": "scattercarpet"
           }
          ],
          "scattergeo": [
           {
            "marker": {
             "colorbar": {
              "outlinewidth": 0,
              "ticks": ""
             }
            },
            "type": "scattergeo"
           }
          ],
          "scattergl": [
           {
            "marker": {
             "colorbar": {
              "outlinewidth": 0,
              "ticks": ""
             }
            },
            "type": "scattergl"
           }
          ],
          "scattermapbox": [
           {
            "marker": {
             "colorbar": {
              "outlinewidth": 0,
              "ticks": ""
             }
            },
            "type": "scattermapbox"
           }
          ],
          "scatterpolar": [
           {
            "marker": {
             "colorbar": {
              "outlinewidth": 0,
              "ticks": ""
             }
            },
            "type": "scatterpolar"
           }
          ],
          "scatterpolargl": [
           {
            "marker": {
             "colorbar": {
              "outlinewidth": 0,
              "ticks": ""
             }
            },
            "type": "scatterpolargl"
           }
          ],
          "scatterternary": [
           {
            "marker": {
             "colorbar": {
              "outlinewidth": 0,
              "ticks": ""
             }
            },
            "type": "scatterternary"
           }
          ],
          "surface": [
           {
            "colorbar": {
             "outlinewidth": 0,
             "ticks": ""
            },
            "colorscale": [
             [
              0,
              "#0d0887"
             ],
             [
              0.1111111111111111,
              "#46039f"
             ],
             [
              0.2222222222222222,
              "#7201a8"
             ],
             [
              0.3333333333333333,
              "#9c179e"
             ],
             [
              0.4444444444444444,
              "#bd3786"
             ],
             [
              0.5555555555555556,
              "#d8576b"
             ],
             [
              0.6666666666666666,
              "#ed7953"
             ],
             [
              0.7777777777777778,
              "#fb9f3a"
             ],
             [
              0.8888888888888888,
              "#fdca26"
             ],
             [
              1,
              "#f0f921"
             ]
            ],
            "type": "surface"
           }
          ],
          "table": [
           {
            "cells": {
             "fill": {
              "color": "#EBF0F8"
             },
             "line": {
              "color": "white"
             }
            },
            "header": {
             "fill": {
              "color": "#C8D4E3"
             },
             "line": {
              "color": "white"
             }
            },
            "type": "table"
           }
          ]
         },
         "layout": {
          "annotationdefaults": {
           "arrowcolor": "#2a3f5f",
           "arrowhead": 0,
           "arrowwidth": 1
          },
          "autotypenumbers": "strict",
          "coloraxis": {
           "colorbar": {
            "outlinewidth": 0,
            "ticks": ""
           }
          },
          "colorscale": {
           "diverging": [
            [
             0,
             "#8e0152"
            ],
            [
             0.1,
             "#c51b7d"
            ],
            [
             0.2,
             "#de77ae"
            ],
            [
             0.3,
             "#f1b6da"
            ],
            [
             0.4,
             "#fde0ef"
            ],
            [
             0.5,
             "#f7f7f7"
            ],
            [
             0.6,
             "#e6f5d0"
            ],
            [
             0.7,
             "#b8e186"
            ],
            [
             0.8,
             "#7fbc41"
            ],
            [
             0.9,
             "#4d9221"
            ],
            [
             1,
             "#276419"
            ]
           ],
           "sequential": [
            [
             0,
             "#0d0887"
            ],
            [
             0.1111111111111111,
             "#46039f"
            ],
            [
             0.2222222222222222,
             "#7201a8"
            ],
            [
             0.3333333333333333,
             "#9c179e"
            ],
            [
             0.4444444444444444,
             "#bd3786"
            ],
            [
             0.5555555555555556,
             "#d8576b"
            ],
            [
             0.6666666666666666,
             "#ed7953"
            ],
            [
             0.7777777777777778,
             "#fb9f3a"
            ],
            [
             0.8888888888888888,
             "#fdca26"
            ],
            [
             1,
             "#f0f921"
            ]
           ],
           "sequentialminus": [
            [
             0,
             "#0d0887"
            ],
            [
             0.1111111111111111,
             "#46039f"
            ],
            [
             0.2222222222222222,
             "#7201a8"
            ],
            [
             0.3333333333333333,
             "#9c179e"
            ],
            [
             0.4444444444444444,
             "#bd3786"
            ],
            [
             0.5555555555555556,
             "#d8576b"
            ],
            [
             0.6666666666666666,
             "#ed7953"
            ],
            [
             0.7777777777777778,
             "#fb9f3a"
            ],
            [
             0.8888888888888888,
             "#fdca26"
            ],
            [
             1,
             "#f0f921"
            ]
           ]
          },
          "colorway": [
           "#636efa",
           "#EF553B",
           "#00cc96",
           "#ab63fa",
           "#FFA15A",
           "#19d3f3",
           "#FF6692",
           "#B6E880",
           "#FF97FF",
           "#FECB52"
          ],
          "font": {
           "color": "#2a3f5f"
          },
          "geo": {
           "bgcolor": "white",
           "lakecolor": "white",
           "landcolor": "#E5ECF6",
           "showlakes": true,
           "showland": true,
           "subunitcolor": "white"
          },
          "hoverlabel": {
           "align": "left"
          },
          "hovermode": "closest",
          "mapbox": {
           "style": "light"
          },
          "paper_bgcolor": "white",
          "plot_bgcolor": "#E5ECF6",
          "polar": {
           "angularaxis": {
            "gridcolor": "white",
            "linecolor": "white",
            "ticks": ""
           },
           "bgcolor": "#E5ECF6",
           "radialaxis": {
            "gridcolor": "white",
            "linecolor": "white",
            "ticks": ""
           }
          },
          "scene": {
           "xaxis": {
            "backgroundcolor": "#E5ECF6",
            "gridcolor": "white",
            "gridwidth": 2,
            "linecolor": "white",
            "showbackground": true,
            "ticks": "",
            "zerolinecolor": "white"
           },
           "yaxis": {
            "backgroundcolor": "#E5ECF6",
            "gridcolor": "white",
            "gridwidth": 2,
            "linecolor": "white",
            "showbackground": true,
            "ticks": "",
            "zerolinecolor": "white"
           },
           "zaxis": {
            "backgroundcolor": "#E5ECF6",
            "gridcolor": "white",
            "gridwidth": 2,
            "linecolor": "white",
            "showbackground": true,
            "ticks": "",
            "zerolinecolor": "white"
           }
          },
          "shapedefaults": {
           "line": {
            "color": "#2a3f5f"
           }
          },
          "ternary": {
           "aaxis": {
            "gridcolor": "white",
            "linecolor": "white",
            "ticks": ""
           },
           "baxis": {
            "gridcolor": "white",
            "linecolor": "white",
            "ticks": ""
           },
           "bgcolor": "#E5ECF6",
           "caxis": {
            "gridcolor": "white",
            "linecolor": "white",
            "ticks": ""
           }
          },
          "title": {
           "x": 0.05
          },
          "xaxis": {
           "automargin": true,
           "gridcolor": "white",
           "linecolor": "white",
           "ticks": "",
           "title": {
            "standoff": 15
           },
           "zerolinecolor": "white",
           "zerolinewidth": 2
          },
          "yaxis": {
           "automargin": true,
           "gridcolor": "white",
           "linecolor": "white",
           "ticks": "",
           "title": {
            "standoff": 15
           },
           "zerolinecolor": "white",
           "zerolinewidth": 2
          }
         }
        },
        "title": {
         "text": "m-SO2Me_BA",
         "x": 0.5,
         "xanchor": "center",
         "y": 0.9,
         "yanchor": "top"
        },
        "updatemenus": [
         {
          "buttons": [
           {
            "args": [
             {
              "scene.annotations": [
               {
                "font": {
                 "color": "blue"
                },
                "showarrow": false,
                "text": "1",
                "x": -1.735639,
                "y": 0.147652,
                "yshift": 15,
                "z": -0.003113
               },
               {
                "font": {
                 "color": "blue"
                },
                "showarrow": false,
                "text": "2",
                "x": -0.474041,
                "y": -0.42974,
                "yshift": 15,
                "z": -0.078316
               },
               {
                "font": {
                 "color": "blue"
                },
                "showarrow": false,
                "text": "3",
                "x": 0.637663,
                "y": 0.395019,
                "yshift": 15,
                "z": -0.07801
               },
               {
                "font": {
                 "color": "blue"
                },
                "showarrow": false,
                "text": "4",
                "x": 0.517018,
                "y": 1.777021,
                "yshift": 15,
                "z": -0.017154
               },
               {
                "font": {
                 "color": "blue"
                },
                "showarrow": false,
                "text": "5",
                "x": -0.747606,
                "y": 2.343189,
                "yshift": 15,
                "z": 0.051314
               },
               {
                "font": {
                 "color": "blue"
                },
                "showarrow": false,
                "text": "6",
                "x": -1.872441,
                "y": 1.5314,
                "yshift": 15,
                "z": 0.061145
               },
               {
                "font": {
                 "color": "blue"
                },
                "showarrow": false,
                "text": "7",
                "x": -2.915285,
                "y": -0.761342,
                "yshift": 15,
                "z": 0.001883
               },
               {
                "font": {
                 "color": "blue"
                },
                "showarrow": false,
                "text": "8",
                "x": -2.849255,
                "y": -1.958168,
                "yshift": 15,
                "z": -0.016237
               },
               {
                "font": {
                 "color": "blue"
                },
                "showarrow": false,
                "text": "9",
                "x": -4.084161,
                "y": -0.098242,
                "yshift": 15,
                "z": 0.033549
               },
               {
                "font": {
                 "color": "blue"
                },
                "showarrow": false,
                "text": "10",
                "x": -4.786867,
                "y": -0.763719,
                "yshift": 15,
                "z": 0.034558
               },
               {
                "font": {
                 "color": "blue"
                },
                "showarrow": false,
                "text": "11",
                "x": 2.617595,
                "y": -0.731267,
                "yshift": 15,
                "z": 1.522597
               },
               {
                "font": {
                 "color": "blue"
                },
                "showarrow": false,
                "text": "12",
                "x": 2.255524,
                "y": -0.330975,
                "yshift": 15,
                "z": -0.165429
               },
               {
                "font": {
                 "color": "blue"
                },
                "showarrow": false,
                "text": "13",
                "x": 3.17197,
                "y": 0.694493,
                "yshift": 15,
                "z": -0.580646
               },
               {
                "font": {
                 "color": "blue"
                },
                "showarrow": false,
                "text": "14",
                "x": 2.15071,
                "y": -1.562965,
                "yshift": 15,
                "z": -0.89425
               },
               {
                "font": {
                 "color": "blue"
                },
                "showarrow": false,
                "text": "15",
                "x": 3.609623,
                "y": -1.180954,
                "yshift": 15,
                "z": 1.512819
               },
               {
                "font": {
                 "color": "blue"
                },
                "showarrow": false,
                "text": "16",
                "x": 1.878144,
                "y": -1.442446,
                "yshift": 15,
                "z": 1.883172
               },
               {
                "font": {
                 "color": "blue"
                },
                "showarrow": false,
                "text": "17",
                "x": 2.615767,
                "y": 0.182785,
                "yshift": 15,
                "z": 2.111519
               },
               {
                "font": {
                 "color": "blue"
                },
                "showarrow": false,
                "text": "18",
                "x": -0.37453,
                "y": -1.505372,
                "yshift": 15,
                "z": -0.155286
               },
               {
                "font": {
                 "color": "blue"
                },
                "showarrow": false,
                "text": "19",
                "x": -2.861395,
                "y": 1.965125,
                "yshift": 15,
                "z": 0.112792
               },
               {
                "font": {
                 "color": "blue"
                },
                "showarrow": false,
                "text": "20",
                "x": -0.856067,
                "y": 3.41852,
                "yshift": 15,
                "z": 0.090735
               },
               {
                "font": {
                 "color": "blue"
                },
                "showarrow": false,
                "text": "21",
                "x": 1.409237,
                "y": 2.38912,
                "yshift": 15,
                "z": -0.044845
               }
              ]
             }
            ],
            "label": "Atom indices",
            "method": "relayout"
           },
           {
            "args": [
             {
              "scene.annotations": [
               {
                "showarrow": false,
                "text": "1.39",
                "x": -1.10484,
                "y": -0.141044,
                "yshift": 10,
                "z": -0.0407145
               },
               {
                "showarrow": false,
                "text": "1.38",
                "x": 0.081811,
                "y": -0.0173605,
                "yshift": 10,
                "z": -0.078163
               },
               {
                "showarrow": false,
                "text": "1.39",
                "x": 0.5773405,
                "y": 1.08602,
                "yshift": 10,
                "z": -0.047582
               },
               {
                "showarrow": false,
                "text": "1.39",
                "x": -0.11529400000000001,
                "y": 2.060105,
                "yshift": 10,
                "z": 0.017079999999999998
               },
               {
                "showarrow": false,
                "text": "1.39",
                "x": -1.3100235,
                "y": 1.9372945000000001,
                "yshift": 10,
                "z": 0.0562295
               },
               {
                "showarrow": false,
                "text": "1.2",
                "x": -2.88227,
                "y": -1.3597549999999998,
                "yshift": 10,
                "z": -0.007177000000000001
               },
               {
                "showarrow": false,
                "text": "0.97",
                "x": -4.4355139999999995,
                "y": -0.4309805,
                "yshift": 10,
                "z": 0.0340535
               },
               {
                "showarrow": false,
                "text": "1.77",
                "x": 2.4365595,
                "y": -0.531121,
                "yshift": 10,
                "z": 0.678584
               },
               {
                "showarrow": false,
                "text": "1.44",
                "x": 2.7137469999999997,
                "y": 0.181759,
                "yshift": 10,
                "z": -0.3730375
               },
               {
                "showarrow": false,
                "text": "1.34",
                "x": -3.499723,
                "y": -0.42979199999999995,
                "yshift": 10,
                "z": 0.017716000000000003
               },
               {
                "showarrow": false,
                "text": "1.44",
                "x": 2.2031169999999998,
                "y": -0.94697,
                "yshift": 10,
                "z": -0.5298395
               },
               {
                "showarrow": false,
                "text": "1.09",
                "x": 3.1136090000000003,
                "y": -0.9561105000000001,
                "yshift": 10,
                "z": 1.5177079999999998
               },
               {
                "showarrow": false,
                "text": "1.08",
                "x": 0.9631275,
                "y": 2.0830705,
                "yshift": 10,
                "z": -0.0309995
               },
               {
                "showarrow": false,
                "text": "1.39",
                "x": -1.80404,
                "y": 0.839526,
                "yshift": 10,
                "z": 0.029016
               },
               {
                "showarrow": false,
                "text": "1.09",
                "x": 2.2478695,
                "y": -1.0868565,
                "yshift": 10,
                "z": 1.7028845000000001
               },
               {
                "showarrow": false,
                "text": "1.08",
                "x": -0.4242855,
                "y": -0.967556,
                "yshift": 10,
                "z": -0.116801
               },
               {
                "showarrow": false,
                "text": "1.49",
                "x": -2.325462,
                "y": -0.306845,
                "yshift": 10,
                "z": -0.000615
               },
               {
                "showarrow": false,
                "text": "1.09",
                "x": 2.616681,
                "y": -0.274241,
                "yshift": 10,
                "z": 1.8170579999999998
               },
               {
                "showarrow": false,
                "text": "1.08",
                "x": -0.8018365000000001,
                "y": 2.8808545,
                "yshift": 10,
                "z": 0.07102449999999999
               },
               {
                "showarrow": false,
                "text": "1.08",
                "x": -2.366918,
                "y": 1.7482625,
                "yshift": 10,
                "z": 0.0869685
               },
               {
                "showarrow": false,
                "text": "1.78",
                "x": 1.4465934999999999,
                "y": 0.032021999999999995,
                "yshift": 10,
                "z": -0.1217195
               }
              ]
             }
            ],
            "label": "Bond lengths",
            "method": "relayout"
           },
           {
            "args": [
             {
              "scene.annotations": [
               {
                "font": {
                 "color": "blue"
                },
                "showarrow": false,
                "text": "1",
                "x": -1.735639,
                "y": 0.147652,
                "yshift": 15,
                "z": -0.003113
               },
               {
                "font": {
                 "color": "blue"
                },
                "showarrow": false,
                "text": "2",
                "x": -0.474041,
                "y": -0.42974,
                "yshift": 15,
                "z": -0.078316
               },
               {
                "font": {
                 "color": "blue"
                },
                "showarrow": false,
                "text": "3",
                "x": 0.637663,
                "y": 0.395019,
                "yshift": 15,
                "z": -0.07801
               },
               {
                "font": {
                 "color": "blue"
                },
                "showarrow": false,
                "text": "4",
                "x": 0.517018,
                "y": 1.777021,
                "yshift": 15,
                "z": -0.017154
               },
               {
                "font": {
                 "color": "blue"
                },
                "showarrow": false,
                "text": "5",
                "x": -0.747606,
                "y": 2.343189,
                "yshift": 15,
                "z": 0.051314
               },
               {
                "font": {
                 "color": "blue"
                },
                "showarrow": false,
                "text": "6",
                "x": -1.872441,
                "y": 1.5314,
                "yshift": 15,
                "z": 0.061145
               },
               {
                "font": {
                 "color": "blue"
                },
                "showarrow": false,
                "text": "7",
                "x": -2.915285,
                "y": -0.761342,
                "yshift": 15,
                "z": 0.001883
               },
               {
                "font": {
                 "color": "blue"
                },
                "showarrow": false,
                "text": "8",
                "x": -2.849255,
                "y": -1.958168,
                "yshift": 15,
                "z": -0.016237
               },
               {
                "font": {
                 "color": "blue"
                },
                "showarrow": false,
                "text": "9",
                "x": -4.084161,
                "y": -0.098242,
                "yshift": 15,
                "z": 0.033549
               },
               {
                "font": {
                 "color": "blue"
                },
                "showarrow": false,
                "text": "10",
                "x": -4.786867,
                "y": -0.763719,
                "yshift": 15,
                "z": 0.034558
               },
               {
                "font": {
                 "color": "blue"
                },
                "showarrow": false,
                "text": "11",
                "x": 2.617595,
                "y": -0.731267,
                "yshift": 15,
                "z": 1.522597
               },
               {
                "font": {
                 "color": "blue"
                },
                "showarrow": false,
                "text": "12",
                "x": 2.255524,
                "y": -0.330975,
                "yshift": 15,
                "z": -0.165429
               },
               {
                "font": {
                 "color": "blue"
                },
                "showarrow": false,
                "text": "13",
                "x": 3.17197,
                "y": 0.694493,
                "yshift": 15,
                "z": -0.580646
               },
               {
                "font": {
                 "color": "blue"
                },
                "showarrow": false,
                "text": "14",
                "x": 2.15071,
                "y": -1.562965,
                "yshift": 15,
                "z": -0.89425
               },
               {
                "font": {
                 "color": "blue"
                },
                "showarrow": false,
                "text": "15",
                "x": 3.609623,
                "y": -1.180954,
                "yshift": 15,
                "z": 1.512819
               },
               {
                "font": {
                 "color": "blue"
                },
                "showarrow": false,
                "text": "16",
                "x": 1.878144,
                "y": -1.442446,
                "yshift": 15,
                "z": 1.883172
               },
               {
                "font": {
                 "color": "blue"
                },
                "showarrow": false,
                "text": "17",
                "x": 2.615767,
                "y": 0.182785,
                "yshift": 15,
                "z": 2.111519
               },
               {
                "font": {
                 "color": "blue"
                },
                "showarrow": false,
                "text": "18",
                "x": -0.37453,
                "y": -1.505372,
                "yshift": 15,
                "z": -0.155286
               },
               {
                "font": {
                 "color": "blue"
                },
                "showarrow": false,
                "text": "19",
                "x": -2.861395,
                "y": 1.965125,
                "yshift": 15,
                "z": 0.112792
               },
               {
                "font": {
                 "color": "blue"
                },
                "showarrow": false,
                "text": "20",
                "x": -0.856067,
                "y": 3.41852,
                "yshift": 15,
                "z": 0.090735
               },
               {
                "font": {
                 "color": "blue"
                },
                "showarrow": false,
                "text": "21",
                "x": 1.409237,
                "y": 2.38912,
                "yshift": 15,
                "z": -0.044845
               },
               {
                "showarrow": false,
                "text": "1.39",
                "x": -1.10484,
                "y": -0.141044,
                "yshift": 10,
                "z": -0.0407145
               },
               {
                "showarrow": false,
                "text": "1.38",
                "x": 0.081811,
                "y": -0.0173605,
                "yshift": 10,
                "z": -0.078163
               },
               {
                "showarrow": false,
                "text": "1.39",
                "x": 0.5773405,
                "y": 1.08602,
                "yshift": 10,
                "z": -0.047582
               },
               {
                "showarrow": false,
                "text": "1.39",
                "x": -0.11529400000000001,
                "y": 2.060105,
                "yshift": 10,
                "z": 0.017079999999999998
               },
               {
                "showarrow": false,
                "text": "1.39",
                "x": -1.3100235,
                "y": 1.9372945000000001,
                "yshift": 10,
                "z": 0.0562295
               },
               {
                "showarrow": false,
                "text": "1.2",
                "x": -2.88227,
                "y": -1.3597549999999998,
                "yshift": 10,
                "z": -0.007177000000000001
               },
               {
                "showarrow": false,
                "text": "0.97",
                "x": -4.4355139999999995,
                "y": -0.4309805,
                "yshift": 10,
                "z": 0.0340535
               },
               {
                "showarrow": false,
                "text": "1.77",
                "x": 2.4365595,
                "y": -0.531121,
                "yshift": 10,
                "z": 0.678584
               },
               {
                "showarrow": false,
                "text": "1.44",
                "x": 2.7137469999999997,
                "y": 0.181759,
                "yshift": 10,
                "z": -0.3730375
               },
               {
                "showarrow": false,
                "text": "1.34",
                "x": -3.499723,
                "y": -0.42979199999999995,
                "yshift": 10,
                "z": 0.017716000000000003
               },
               {
                "showarrow": false,
                "text": "1.44",
                "x": 2.2031169999999998,
                "y": -0.94697,
                "yshift": 10,
                "z": -0.5298395
               },
               {
                "showarrow": false,
                "text": "1.09",
                "x": 3.1136090000000003,
                "y": -0.9561105000000001,
                "yshift": 10,
                "z": 1.5177079999999998
               },
               {
                "showarrow": false,
                "text": "1.08",
                "x": 0.9631275,
                "y": 2.0830705,
                "yshift": 10,
                "z": -0.0309995
               },
               {
                "showarrow": false,
                "text": "1.39",
                "x": -1.80404,
                "y": 0.839526,
                "yshift": 10,
                "z": 0.029016
               },
               {
                "showarrow": false,
                "text": "1.09",
                "x": 2.2478695,
                "y": -1.0868565,
                "yshift": 10,
                "z": 1.7028845000000001
               },
               {
                "showarrow": false,
                "text": "1.08",
                "x": -0.4242855,
                "y": -0.967556,
                "yshift": 10,
                "z": -0.116801
               },
               {
                "showarrow": false,
                "text": "1.49",
                "x": -2.325462,
                "y": -0.306845,
                "yshift": 10,
                "z": -0.000615
               },
               {
                "showarrow": false,
                "text": "1.09",
                "x": 2.616681,
                "y": -0.274241,
                "yshift": 10,
                "z": 1.8170579999999998
               },
               {
                "showarrow": false,
                "text": "1.08",
                "x": -0.8018365000000001,
                "y": 2.8808545,
                "yshift": 10,
                "z": 0.07102449999999999
               },
               {
                "showarrow": false,
                "text": "1.08",
                "x": -2.366918,
                "y": 1.7482625,
                "yshift": 10,
                "z": 0.0869685
               },
               {
                "showarrow": false,
                "text": "1.78",
                "x": 1.4465934999999999,
                "y": 0.032021999999999995,
                "yshift": 10,
                "z": -0.1217195
               }
              ]
             }
            ],
            "label": "Both",
            "method": "relayout"
           },
           {
            "args": [
             {
              "scene.annotations": []
             }
            ],
            "label": "Hide all",
            "method": "relayout"
           },
           {
            "args": [
             {
              "visible": [
               true,
               true,
               true,
               true,
               true,
               true,
               true,
               true,
               true,
               true
              ]
             },
             {}
            ],
            "label": "Show dipole",
            "method": "update"
           },
           {
            "args": [
             {
              "visible": [
               true,
               true,
               false,
               false,
               false,
               false,
               false,
               false,
               false,
               false
              ]
             },
             {}
            ],
            "label": "Hide dipole",
            "method": "update"
           }
          ],
          "direction": "down",
          "xanchor": "left",
          "yanchor": "top"
         }
        ]
       }
      }
     },
     "metadata": {},
     "output_type": "display_data"
    },
    {
     "data": {
      "application/vnd.plotly.v1+json": {
       "config": {
        "plotlyServerURL": "https://plot.ly"
       },
       "data": [
        {
         "marker": {
          "color": [
           "black",
           "black",
           "black",
           "black",
           "black",
           "black",
           "black",
           "red",
           "red",
           "white",
           "black",
           "black",
           "black",
           "black",
           "white",
           "white",
           "white",
           "white",
           "white",
           "white",
           "white"
          ],
          "line": {
           "color": "lightgray",
           "width": 2
          },
          "size": 5
         },
         "mode": "markers",
         "name": "atoms",
         "text": [
          "C",
          "C",
          "C",
          "C",
          "C",
          "C",
          "C",
          "O",
          "O",
          "H",
          "C",
          "C",
          "C",
          "C",
          "H",
          "H",
          "H",
          "H",
          "H",
          "H",
          "H"
         ],
         "type": "scatter3d",
         "x": [
          1.027664,
          1.327652,
          0.316871,
          -0.991932,
          -1.349681,
          -0.337734,
          2.159162,
          2.091653,
          3.348846,
          4.012457,
          -2.713856,
          -3.07411,
          -2.075369,
          -0.747821,
          2.363248,
          0.585693,
          -1.783903,
          -3.465,
          -4.118657,
          -2.362691,
          -0.000219
         ],
         "y": [
          0.226419,
          1.567656,
          2.544704,
          2.161213,
          0.792508,
          -0.207648,
          -0.741951,
          -1.92181,
          -0.15576,
          -0.856515,
          0.414406,
          -0.900727,
          -1.894712,
          -1.565736,
          1.874527,
          3.592181,
          2.900741,
          1.194962,
          -1.183051,
          -2.937809,
          -2.341267
         ],
         "z": [
          -0.007269,
          -0.020796,
          -0.040833,
          -0.038188,
          -0.012009,
          0.001694,
          -0.028109,
          -0.250256,
          0.223691,
          0.159395,
          0.003994,
          0.038306,
          0.060836,
          0.042667,
          -0.02394,
          -0.059294,
          -0.053974,
          -0.009154,
          0.051054,
          0.092908,
          0.053753
         ]
        },
        {
         "hoverinfo": "none",
         "line": {
          "color": "black",
          "width": 3
         },
         "mode": "lines",
         "name": "bonds",
         "type": "scatter3d",
         "x": [
          1.027664,
          1.327652,
          null,
          1.327652,
          0.316871,
          null,
          0.316871,
          -0.991932,
          null,
          -0.991932,
          -1.349681,
          null,
          -1.349681,
          -0.337734,
          null,
          2.159162,
          2.091653,
          null,
          3.348846,
          4.012457,
          null,
          -2.713856,
          -3.07411,
          null,
          -3.07411,
          -2.075369,
          null,
          -2.075369,
          -0.747821,
          null,
          3.348846,
          2.159162,
          null,
          1.027664,
          -0.337734,
          null,
          1.027664,
          2.159162,
          null,
          -2.713856,
          -1.349681,
          null,
          -3.465,
          -2.713856,
          null,
          -4.118657,
          -3.07411,
          null,
          -2.362691,
          -2.075369,
          null,
          -0.000219,
          -0.747821,
          null,
          -0.747821,
          -0.337734,
          null,
          1.327652,
          2.363248,
          null,
          0.316871,
          0.585693,
          null,
          -1.783903,
          -0.991932,
          null
         ],
         "y": [
          0.226419,
          1.567656,
          null,
          1.567656,
          2.544704,
          null,
          2.544704,
          2.161213,
          null,
          2.161213,
          0.792508,
          null,
          0.792508,
          -0.207648,
          null,
          -0.741951,
          -1.92181,
          null,
          -0.15576,
          -0.856515,
          null,
          0.414406,
          -0.900727,
          null,
          -0.900727,
          -1.894712,
          null,
          -1.894712,
          -1.565736,
          null,
          -0.15576,
          -0.741951,
          null,
          0.226419,
          -0.207648,
          null,
          0.226419,
          -0.741951,
          null,
          0.414406,
          0.792508,
          null,
          1.194962,
          0.414406,
          null,
          -1.183051,
          -0.900727,
          null,
          -2.937809,
          -1.894712,
          null,
          -2.341267,
          -1.565736,
          null,
          -1.565736,
          -0.207648,
          null,
          1.567656,
          1.874527,
          null,
          2.544704,
          3.592181,
          null,
          2.900741,
          2.161213,
          null
         ],
         "z": [
          -0.007269,
          -0.020796,
          null,
          -0.020796,
          -0.040833,
          null,
          -0.040833,
          -0.038188,
          null,
          -0.038188,
          -0.012009,
          null,
          -0.012009,
          0.001694,
          null,
          -0.028109,
          -0.250256,
          null,
          0.223691,
          0.159395,
          null,
          0.003994,
          0.038306,
          null,
          0.038306,
          0.060836,
          null,
          0.060836,
          0.042667,
          null,
          0.223691,
          -0.028109,
          null,
          -0.007269,
          0.001694,
          null,
          -0.007269,
          -0.028109,
          null,
          0.003994,
          -0.012009,
          null,
          -0.009154,
          0.003994,
          null,
          0.051054,
          0.038306,
          null,
          0.092908,
          0.060836,
          null,
          0.053753,
          0.042667,
          null,
          0.042667,
          0.001694,
          null,
          -0.020796,
          -0.02394,
          null,
          -0.040833,
          -0.059294,
          null,
          -0.053974,
          -0.038188,
          null
         ]
        },
        {
         "line": {
          "color": "red",
          "width": 8
         },
         "mode": "lines",
         "name": "Dipole X",
         "showlegend": true,
         "type": "scatter3d",
         "visible": false,
         "x": [
          0,
          -0.7694
         ],
         "y": [
          0,
          0
         ],
         "z": [
          0,
          0
         ]
        },
        {
         "anchor": "tip",
         "colorscale": [
          [
           0,
           "red"
          ],
          [
           1,
           "red"
          ]
         ],
         "name": "Dipole X",
         "showlegend": false,
         "showscale": false,
         "sizemode": "scaled",
         "sizeref": 0.2,
         "type": "cone",
         "u": [
          -0.9194
         ],
         "v": [
          0
         ],
         "visible": false,
         "w": [
          0
         ],
         "x": [
          -0.9194
         ],
         "y": [
          0
         ],
         "z": [
          0
         ]
        },
        {
         "line": {
          "color": "green",
          "width": 8
         },
         "mode": "lines",
         "name": "Dipole Y",
         "showlegend": true,
         "type": "scatter3d",
         "visible": false,
         "x": [
          0,
          0
         ],
         "y": [
          0,
          3.3374
         ],
         "z": [
          0,
          0
         ]
        },
        {
         "anchor": "tip",
         "colorscale": [
          [
           0,
           "green"
          ],
          [
           1,
           "green"
          ]
         ],
         "name": "Dipole Y",
         "showlegend": false,
         "showscale": false,
         "sizemode": "scaled",
         "sizeref": 0.2,
         "type": "cone",
         "u": [
          0
         ],
         "v": [
          3.4874
         ],
         "visible": false,
         "w": [
          0
         ],
         "x": [
          0
         ],
         "y": [
          3.4874
         ],
         "z": [
          0
         ]
        },
        {
         "line": {
          "color": "blue",
          "width": 8
         },
         "mode": "lines",
         "name": "Dipole Z",
         "showlegend": true,
         "type": "scatter3d",
         "visible": false,
         "x": [
          0,
          0
         ],
         "y": [
          0,
          0
         ],
         "z": [
          0,
          0.3436
         ]
        },
        {
         "anchor": "tip",
         "colorscale": [
          [
           0,
           "blue"
          ],
          [
           1,
           "blue"
          ]
         ],
         "name": "Dipole Z",
         "showlegend": false,
         "showscale": false,
         "sizemode": "scaled",
         "sizeref": 0.2,
         "type": "cone",
         "u": [
          0
         ],
         "v": [
          0
         ],
         "visible": false,
         "w": [
          0.4936
         ],
         "x": [
          0
         ],
         "y": [
          0
         ],
         "z": [
          0.4936
         ]
        },
        {
         "line": {
          "color": "purple",
          "width": 8
         },
         "mode": "lines",
         "name": "Total Dipole",
         "showlegend": true,
         "type": "scatter3d",
         "visible": false,
         "x": [
          0,
          -0.8815144903035057
         ],
         "y": [
          0,
          3.343695489976556
         ],
         "z": [
          0,
          0.4732603354511751
         ]
        },
        {
         "anchor": "tip",
         "colorscale": [
          [
           0,
           "purple"
          ],
          [
           1,
           "purple"
          ]
         ],
         "name": "Total Dipole",
         "showlegend": false,
         "showscale": false,
         "sizemode": "scaled",
         "sizeref": 0.2,
         "type": "cone",
         "u": [
          -0.9194
         ],
         "v": [
          3.4874
         ],
         "visible": false,
         "w": [
          0.4936
         ],
         "x": [
          -0.9194
         ],
         "y": [
          3.4874
         ],
         "z": [
          0.4936
         ]
        }
       ],
       "layout": {
        "margin": {
         "b": 0,
         "l": 0,
         "r": 0,
         "t": 0
        },
        "scene": {
         "annotations": [
          {
           "font": {
            "color": "blue"
           },
           "showarrow": false,
           "text": "1",
           "x": 1.027664,
           "y": 0.226419,
           "yshift": 15,
           "z": -0.007269
          },
          {
           "font": {
            "color": "blue"
           },
           "showarrow": false,
           "text": "2",
           "x": 1.327652,
           "y": 1.567656,
           "yshift": 15,
           "z": -0.020796
          },
          {
           "font": {
            "color": "blue"
           },
           "showarrow": false,
           "text": "3",
           "x": 0.316871,
           "y": 2.544704,
           "yshift": 15,
           "z": -0.040833
          },
          {
           "font": {
            "color": "blue"
           },
           "showarrow": false,
           "text": "4",
           "x": -0.991932,
           "y": 2.161213,
           "yshift": 15,
           "z": -0.038188
          },
          {
           "font": {
            "color": "blue"
           },
           "showarrow": false,
           "text": "5",
           "x": -1.349681,
           "y": 0.792508,
           "yshift": 15,
           "z": -0.012009
          },
          {
           "font": {
            "color": "blue"
           },
           "showarrow": false,
           "text": "6",
           "x": -0.337734,
           "y": -0.207648,
           "yshift": 15,
           "z": 0.001694
          },
          {
           "font": {
            "color": "blue"
           },
           "showarrow": false,
           "text": "7",
           "x": 2.159162,
           "y": -0.741951,
           "yshift": 15,
           "z": -0.028109
          },
          {
           "font": {
            "color": "blue"
           },
           "showarrow": false,
           "text": "8",
           "x": 2.091653,
           "y": -1.92181,
           "yshift": 15,
           "z": -0.250256
          },
          {
           "font": {
            "color": "blue"
           },
           "showarrow": false,
           "text": "9",
           "x": 3.348846,
           "y": -0.15576,
           "yshift": 15,
           "z": 0.223691
          },
          {
           "font": {
            "color": "blue"
           },
           "showarrow": false,
           "text": "10",
           "x": 4.012457,
           "y": -0.856515,
           "yshift": 15,
           "z": 0.159395
          },
          {
           "font": {
            "color": "blue"
           },
           "showarrow": false,
           "text": "11",
           "x": -2.713856,
           "y": 0.414406,
           "yshift": 15,
           "z": 0.003994
          },
          {
           "font": {
            "color": "blue"
           },
           "showarrow": false,
           "text": "12",
           "x": -3.07411,
           "y": -0.900727,
           "yshift": 15,
           "z": 0.038306
          },
          {
           "font": {
            "color": "blue"
           },
           "showarrow": false,
           "text": "13",
           "x": -2.075369,
           "y": -1.894712,
           "yshift": 15,
           "z": 0.060836
          },
          {
           "font": {
            "color": "blue"
           },
           "showarrow": false,
           "text": "14",
           "x": -0.747821,
           "y": -1.565736,
           "yshift": 15,
           "z": 0.042667
          },
          {
           "font": {
            "color": "blue"
           },
           "showarrow": false,
           "text": "15",
           "x": 2.363248,
           "y": 1.874527,
           "yshift": 15,
           "z": -0.02394
          },
          {
           "font": {
            "color": "blue"
           },
           "showarrow": false,
           "text": "16",
           "x": 0.585693,
           "y": 3.592181,
           "yshift": 15,
           "z": -0.059294
          },
          {
           "font": {
            "color": "blue"
           },
           "showarrow": false,
           "text": "17",
           "x": -1.783903,
           "y": 2.900741,
           "yshift": 15,
           "z": -0.053974
          },
          {
           "font": {
            "color": "blue"
           },
           "showarrow": false,
           "text": "18",
           "x": -3.465,
           "y": 1.194962,
           "yshift": 15,
           "z": -0.009154
          },
          {
           "font": {
            "color": "blue"
           },
           "showarrow": false,
           "text": "19",
           "x": -4.118657,
           "y": -1.183051,
           "yshift": 15,
           "z": 0.051054
          },
          {
           "font": {
            "color": "blue"
           },
           "showarrow": false,
           "text": "20",
           "x": -2.362691,
           "y": -2.937809,
           "yshift": 15,
           "z": 0.092908
          },
          {
           "font": {
            "color": "blue"
           },
           "showarrow": false,
           "text": "21",
           "x": -0.000219,
           "y": -2.341267,
           "yshift": 15,
           "z": 0.053753
          }
         ],
         "xaxis": {
          "showbackground": false,
          "showgrid": false,
          "showticklabels": false,
          "title": {
           "font": {
            "color": "white"
           },
           "text": "X"
          },
          "zeroline": false
         },
         "yaxis": {
          "showbackground": false,
          "showgrid": false,
          "showticklabels": false,
          "title": {
           "font": {
            "color": "white"
           },
           "text": "Y"
          },
          "zeroline": false
         },
         "zaxis": {
          "showbackground": false,
          "showgrid": false,
          "showticklabels": false,
          "title": {
           "font": {
            "color": "white"
           },
           "text": "Z"
          },
          "zeroline": false
         }
        },
        "showlegend": false,
        "template": {
         "data": {
          "bar": [
           {
            "error_x": {
             "color": "#2a3f5f"
            },
            "error_y": {
             "color": "#2a3f5f"
            },
            "marker": {
             "line": {
              "color": "#E5ECF6",
              "width": 0.5
             },
             "pattern": {
              "fillmode": "overlay",
              "size": 10,
              "solidity": 0.2
             }
            },
            "type": "bar"
           }
          ],
          "barpolar": [
           {
            "marker": {
             "line": {
              "color": "#E5ECF6",
              "width": 0.5
             },
             "pattern": {
              "fillmode": "overlay",
              "size": 10,
              "solidity": 0.2
             }
            },
            "type": "barpolar"
           }
          ],
          "carpet": [
           {
            "aaxis": {
             "endlinecolor": "#2a3f5f",
             "gridcolor": "white",
             "linecolor": "white",
             "minorgridcolor": "white",
             "startlinecolor": "#2a3f5f"
            },
            "baxis": {
             "endlinecolor": "#2a3f5f",
             "gridcolor": "white",
             "linecolor": "white",
             "minorgridcolor": "white",
             "startlinecolor": "#2a3f5f"
            },
            "type": "carpet"
           }
          ],
          "choropleth": [
           {
            "colorbar": {
             "outlinewidth": 0,
             "ticks": ""
            },
            "type": "choropleth"
           }
          ],
          "contour": [
           {
            "colorbar": {
             "outlinewidth": 0,
             "ticks": ""
            },
            "colorscale": [
             [
              0,
              "#0d0887"
             ],
             [
              0.1111111111111111,
              "#46039f"
             ],
             [
              0.2222222222222222,
              "#7201a8"
             ],
             [
              0.3333333333333333,
              "#9c179e"
             ],
             [
              0.4444444444444444,
              "#bd3786"
             ],
             [
              0.5555555555555556,
              "#d8576b"
             ],
             [
              0.6666666666666666,
              "#ed7953"
             ],
             [
              0.7777777777777778,
              "#fb9f3a"
             ],
             [
              0.8888888888888888,
              "#fdca26"
             ],
             [
              1,
              "#f0f921"
             ]
            ],
            "type": "contour"
           }
          ],
          "contourcarpet": [
           {
            "colorbar": {
             "outlinewidth": 0,
             "ticks": ""
            },
            "type": "contourcarpet"
           }
          ],
          "heatmap": [
           {
            "colorbar": {
             "outlinewidth": 0,
             "ticks": ""
            },
            "colorscale": [
             [
              0,
              "#0d0887"
             ],
             [
              0.1111111111111111,
              "#46039f"
             ],
             [
              0.2222222222222222,
              "#7201a8"
             ],
             [
              0.3333333333333333,
              "#9c179e"
             ],
             [
              0.4444444444444444,
              "#bd3786"
             ],
             [
              0.5555555555555556,
              "#d8576b"
             ],
             [
              0.6666666666666666,
              "#ed7953"
             ],
             [
              0.7777777777777778,
              "#fb9f3a"
             ],
             [
              0.8888888888888888,
              "#fdca26"
             ],
             [
              1,
              "#f0f921"
             ]
            ],
            "type": "heatmap"
           }
          ],
          "heatmapgl": [
           {
            "colorbar": {
             "outlinewidth": 0,
             "ticks": ""
            },
            "colorscale": [
             [
              0,
              "#0d0887"
             ],
             [
              0.1111111111111111,
              "#46039f"
             ],
             [
              0.2222222222222222,
              "#7201a8"
             ],
             [
              0.3333333333333333,
              "#9c179e"
             ],
             [
              0.4444444444444444,
              "#bd3786"
             ],
             [
              0.5555555555555556,
              "#d8576b"
             ],
             [
              0.6666666666666666,
              "#ed7953"
             ],
             [
              0.7777777777777778,
              "#fb9f3a"
             ],
             [
              0.8888888888888888,
              "#fdca26"
             ],
             [
              1,
              "#f0f921"
             ]
            ],
            "type": "heatmapgl"
           }
          ],
          "histogram": [
           {
            "marker": {
             "pattern": {
              "fillmode": "overlay",
              "size": 10,
              "solidity": 0.2
             }
            },
            "type": "histogram"
           }
          ],
          "histogram2d": [
           {
            "colorbar": {
             "outlinewidth": 0,
             "ticks": ""
            },
            "colorscale": [
             [
              0,
              "#0d0887"
             ],
             [
              0.1111111111111111,
              "#46039f"
             ],
             [
              0.2222222222222222,
              "#7201a8"
             ],
             [
              0.3333333333333333,
              "#9c179e"
             ],
             [
              0.4444444444444444,
              "#bd3786"
             ],
             [
              0.5555555555555556,
              "#d8576b"
             ],
             [
              0.6666666666666666,
              "#ed7953"
             ],
             [
              0.7777777777777778,
              "#fb9f3a"
             ],
             [
              0.8888888888888888,
              "#fdca26"
             ],
             [
              1,
              "#f0f921"
             ]
            ],
            "type": "histogram2d"
           }
          ],
          "histogram2dcontour": [
           {
            "colorbar": {
             "outlinewidth": 0,
             "ticks": ""
            },
            "colorscale": [
             [
              0,
              "#0d0887"
             ],
             [
              0.1111111111111111,
              "#46039f"
             ],
             [
              0.2222222222222222,
              "#7201a8"
             ],
             [
              0.3333333333333333,
              "#9c179e"
             ],
             [
              0.4444444444444444,
              "#bd3786"
             ],
             [
              0.5555555555555556,
              "#d8576b"
             ],
             [
              0.6666666666666666,
              "#ed7953"
             ],
             [
              0.7777777777777778,
              "#fb9f3a"
             ],
             [
              0.8888888888888888,
              "#fdca26"
             ],
             [
              1,
              "#f0f921"
             ]
            ],
            "type": "histogram2dcontour"
           }
          ],
          "mesh3d": [
           {
            "colorbar": {
             "outlinewidth": 0,
             "ticks": ""
            },
            "type": "mesh3d"
           }
          ],
          "parcoords": [
           {
            "line": {
             "colorbar": {
              "outlinewidth": 0,
              "ticks": ""
             }
            },
            "type": "parcoords"
           }
          ],
          "pie": [
           {
            "automargin": true,
            "type": "pie"
           }
          ],
          "scatter": [
           {
            "fillpattern": {
             "fillmode": "overlay",
             "size": 10,
             "solidity": 0.2
            },
            "type": "scatter"
           }
          ],
          "scatter3d": [
           {
            "line": {
             "colorbar": {
              "outlinewidth": 0,
              "ticks": ""
             }
            },
            "marker": {
             "colorbar": {
              "outlinewidth": 0,
              "ticks": ""
             }
            },
            "type": "scatter3d"
           }
          ],
          "scattercarpet": [
           {
            "marker": {
             "colorbar": {
              "outlinewidth": 0,
              "ticks": ""
             }
            },
            "type": "scattercarpet"
           }
          ],
          "scattergeo": [
           {
            "marker": {
             "colorbar": {
              "outlinewidth": 0,
              "ticks": ""
             }
            },
            "type": "scattergeo"
           }
          ],
          "scattergl": [
           {
            "marker": {
             "colorbar": {
              "outlinewidth": 0,
              "ticks": ""
             }
            },
            "type": "scattergl"
           }
          ],
          "scattermapbox": [
           {
            "marker": {
             "colorbar": {
              "outlinewidth": 0,
              "ticks": ""
             }
            },
            "type": "scattermapbox"
           }
          ],
          "scatterpolar": [
           {
            "marker": {
             "colorbar": {
              "outlinewidth": 0,
              "ticks": ""
             }
            },
            "type": "scatterpolar"
           }
          ],
          "scatterpolargl": [
           {
            "marker": {
             "colorbar": {
              "outlinewidth": 0,
              "ticks": ""
             }
            },
            "type": "scatterpolargl"
           }
          ],
          "scatterternary": [
           {
            "marker": {
             "colorbar": {
              "outlinewidth": 0,
              "ticks": ""
             }
            },
            "type": "scatterternary"
           }
          ],
          "surface": [
           {
            "colorbar": {
             "outlinewidth": 0,
             "ticks": ""
            },
            "colorscale": [
             [
              0,
              "#0d0887"
             ],
             [
              0.1111111111111111,
              "#46039f"
             ],
             [
              0.2222222222222222,
              "#7201a8"
             ],
             [
              0.3333333333333333,
              "#9c179e"
             ],
             [
              0.4444444444444444,
              "#bd3786"
             ],
             [
              0.5555555555555556,
              "#d8576b"
             ],
             [
              0.6666666666666666,
              "#ed7953"
             ],
             [
              0.7777777777777778,
              "#fb9f3a"
             ],
             [
              0.8888888888888888,
              "#fdca26"
             ],
             [
              1,
              "#f0f921"
             ]
            ],
            "type": "surface"
           }
          ],
          "table": [
           {
            "cells": {
             "fill": {
              "color": "#EBF0F8"
             },
             "line": {
              "color": "white"
             }
            },
            "header": {
             "fill": {
              "color": "#C8D4E3"
             },
             "line": {
              "color": "white"
             }
            },
            "type": "table"
           }
          ]
         },
         "layout": {
          "annotationdefaults": {
           "arrowcolor": "#2a3f5f",
           "arrowhead": 0,
           "arrowwidth": 1
          },
          "autotypenumbers": "strict",
          "coloraxis": {
           "colorbar": {
            "outlinewidth": 0,
            "ticks": ""
           }
          },
          "colorscale": {
           "diverging": [
            [
             0,
             "#8e0152"
            ],
            [
             0.1,
             "#c51b7d"
            ],
            [
             0.2,
             "#de77ae"
            ],
            [
             0.3,
             "#f1b6da"
            ],
            [
             0.4,
             "#fde0ef"
            ],
            [
             0.5,
             "#f7f7f7"
            ],
            [
             0.6,
             "#e6f5d0"
            ],
            [
             0.7,
             "#b8e186"
            ],
            [
             0.8,
             "#7fbc41"
            ],
            [
             0.9,
             "#4d9221"
            ],
            [
             1,
             "#276419"
            ]
           ],
           "sequential": [
            [
             0,
             "#0d0887"
            ],
            [
             0.1111111111111111,
             "#46039f"
            ],
            [
             0.2222222222222222,
             "#7201a8"
            ],
            [
             0.3333333333333333,
             "#9c179e"
            ],
            [
             0.4444444444444444,
             "#bd3786"
            ],
            [
             0.5555555555555556,
             "#d8576b"
            ],
            [
             0.6666666666666666,
             "#ed7953"
            ],
            [
             0.7777777777777778,
             "#fb9f3a"
            ],
            [
             0.8888888888888888,
             "#fdca26"
            ],
            [
             1,
             "#f0f921"
            ]
           ],
           "sequentialminus": [
            [
             0,
             "#0d0887"
            ],
            [
             0.1111111111111111,
             "#46039f"
            ],
            [
             0.2222222222222222,
             "#7201a8"
            ],
            [
             0.3333333333333333,
             "#9c179e"
            ],
            [
             0.4444444444444444,
             "#bd3786"
            ],
            [
             0.5555555555555556,
             "#d8576b"
            ],
            [
             0.6666666666666666,
             "#ed7953"
            ],
            [
             0.7777777777777778,
             "#fb9f3a"
            ],
            [
             0.8888888888888888,
             "#fdca26"
            ],
            [
             1,
             "#f0f921"
            ]
           ]
          },
          "colorway": [
           "#636efa",
           "#EF553B",
           "#00cc96",
           "#ab63fa",
           "#FFA15A",
           "#19d3f3",
           "#FF6692",
           "#B6E880",
           "#FF97FF",
           "#FECB52"
          ],
          "font": {
           "color": "#2a3f5f"
          },
          "geo": {
           "bgcolor": "white",
           "lakecolor": "white",
           "landcolor": "#E5ECF6",
           "showlakes": true,
           "showland": true,
           "subunitcolor": "white"
          },
          "hoverlabel": {
           "align": "left"
          },
          "hovermode": "closest",
          "mapbox": {
           "style": "light"
          },
          "paper_bgcolor": "white",
          "plot_bgcolor": "#E5ECF6",
          "polar": {
           "angularaxis": {
            "gridcolor": "white",
            "linecolor": "white",
            "ticks": ""
           },
           "bgcolor": "#E5ECF6",
           "radialaxis": {
            "gridcolor": "white",
            "linecolor": "white",
            "ticks": ""
           }
          },
          "scene": {
           "xaxis": {
            "backgroundcolor": "#E5ECF6",
            "gridcolor": "white",
            "gridwidth": 2,
            "linecolor": "white",
            "showbackground": true,
            "ticks": "",
            "zerolinecolor": "white"
           },
           "yaxis": {
            "backgroundcolor": "#E5ECF6",
            "gridcolor": "white",
            "gridwidth": 2,
            "linecolor": "white",
            "showbackground": true,
            "ticks": "",
            "zerolinecolor": "white"
           },
           "zaxis": {
            "backgroundcolor": "#E5ECF6",
            "gridcolor": "white",
            "gridwidth": 2,
            "linecolor": "white",
            "showbackground": true,
            "ticks": "",
            "zerolinecolor": "white"
           }
          },
          "shapedefaults": {
           "line": {
            "color": "#2a3f5f"
           }
          },
          "ternary": {
           "aaxis": {
            "gridcolor": "white",
            "linecolor": "white",
            "ticks": ""
           },
           "baxis": {
            "gridcolor": "white",
            "linecolor": "white",
            "ticks": ""
           },
           "bgcolor": "#E5ECF6",
           "caxis": {
            "gridcolor": "white",
            "linecolor": "white",
            "ticks": ""
           }
          },
          "title": {
           "x": 0.05
          },
          "xaxis": {
           "automargin": true,
           "gridcolor": "white",
           "linecolor": "white",
           "ticks": "",
           "title": {
            "standoff": 15
           },
           "zerolinecolor": "white",
           "zerolinewidth": 2
          },
          "yaxis": {
           "automargin": true,
           "gridcolor": "white",
           "linecolor": "white",
           "ticks": "",
           "title": {
            "standoff": 15
           },
           "zerolinecolor": "white",
           "zerolinewidth": 2
          }
         }
        },
        "title": {
         "text": "naphthyl_BA",
         "x": 0.5,
         "xanchor": "center",
         "y": 0.9,
         "yanchor": "top"
        },
        "updatemenus": [
         {
          "buttons": [
           {
            "args": [
             {
              "scene.annotations": [
               {
                "font": {
                 "color": "blue"
                },
                "showarrow": false,
                "text": "1",
                "x": 1.027664,
                "y": 0.226419,
                "yshift": 15,
                "z": -0.007269
               },
               {
                "font": {
                 "color": "blue"
                },
                "showarrow": false,
                "text": "2",
                "x": 1.327652,
                "y": 1.567656,
                "yshift": 15,
                "z": -0.020796
               },
               {
                "font": {
                 "color": "blue"
                },
                "showarrow": false,
                "text": "3",
                "x": 0.316871,
                "y": 2.544704,
                "yshift": 15,
                "z": -0.040833
               },
               {
                "font": {
                 "color": "blue"
                },
                "showarrow": false,
                "text": "4",
                "x": -0.991932,
                "y": 2.161213,
                "yshift": 15,
                "z": -0.038188
               },
               {
                "font": {
                 "color": "blue"
                },
                "showarrow": false,
                "text": "5",
                "x": -1.349681,
                "y": 0.792508,
                "yshift": 15,
                "z": -0.012009
               },
               {
                "font": {
                 "color": "blue"
                },
                "showarrow": false,
                "text": "6",
                "x": -0.337734,
                "y": -0.207648,
                "yshift": 15,
                "z": 0.001694
               },
               {
                "font": {
                 "color": "blue"
                },
                "showarrow": false,
                "text": "7",
                "x": 2.159162,
                "y": -0.741951,
                "yshift": 15,
                "z": -0.028109
               },
               {
                "font": {
                 "color": "blue"
                },
                "showarrow": false,
                "text": "8",
                "x": 2.091653,
                "y": -1.92181,
                "yshift": 15,
                "z": -0.250256
               },
               {
                "font": {
                 "color": "blue"
                },
                "showarrow": false,
                "text": "9",
                "x": 3.348846,
                "y": -0.15576,
                "yshift": 15,
                "z": 0.223691
               },
               {
                "font": {
                 "color": "blue"
                },
                "showarrow": false,
                "text": "10",
                "x": 4.012457,
                "y": -0.856515,
                "yshift": 15,
                "z": 0.159395
               },
               {
                "font": {
                 "color": "blue"
                },
                "showarrow": false,
                "text": "11",
                "x": -2.713856,
                "y": 0.414406,
                "yshift": 15,
                "z": 0.003994
               },
               {
                "font": {
                 "color": "blue"
                },
                "showarrow": false,
                "text": "12",
                "x": -3.07411,
                "y": -0.900727,
                "yshift": 15,
                "z": 0.038306
               },
               {
                "font": {
                 "color": "blue"
                },
                "showarrow": false,
                "text": "13",
                "x": -2.075369,
                "y": -1.894712,
                "yshift": 15,
                "z": 0.060836
               },
               {
                "font": {
                 "color": "blue"
                },
                "showarrow": false,
                "text": "14",
                "x": -0.747821,
                "y": -1.565736,
                "yshift": 15,
                "z": 0.042667
               },
               {
                "font": {
                 "color": "blue"
                },
                "showarrow": false,
                "text": "15",
                "x": 2.363248,
                "y": 1.874527,
                "yshift": 15,
                "z": -0.02394
               },
               {
                "font": {
                 "color": "blue"
                },
                "showarrow": false,
                "text": "16",
                "x": 0.585693,
                "y": 3.592181,
                "yshift": 15,
                "z": -0.059294
               },
               {
                "font": {
                 "color": "blue"
                },
                "showarrow": false,
                "text": "17",
                "x": -1.783903,
                "y": 2.900741,
                "yshift": 15,
                "z": -0.053974
               },
               {
                "font": {
                 "color": "blue"
                },
                "showarrow": false,
                "text": "18",
                "x": -3.465,
                "y": 1.194962,
                "yshift": 15,
                "z": -0.009154
               },
               {
                "font": {
                 "color": "blue"
                },
                "showarrow": false,
                "text": "19",
                "x": -4.118657,
                "y": -1.183051,
                "yshift": 15,
                "z": 0.051054
               },
               {
                "font": {
                 "color": "blue"
                },
                "showarrow": false,
                "text": "20",
                "x": -2.362691,
                "y": -2.937809,
                "yshift": 15,
                "z": 0.092908
               },
               {
                "font": {
                 "color": "blue"
                },
                "showarrow": false,
                "text": "21",
                "x": -0.000219,
                "y": -2.341267,
                "yshift": 15,
                "z": 0.053753
               }
              ]
             }
            ],
            "label": "Atom indices",
            "method": "relayout"
           },
           {
            "args": [
             {
              "scene.annotations": [
               {
                "showarrow": false,
                "text": "1.37",
                "x": 1.177658,
                "y": 0.8970374999999999,
                "yshift": 10,
                "z": -0.0140325
               },
               {
                "showarrow": false,
                "text": "1.41",
                "x": 0.8222615,
                "y": 2.05618,
                "yshift": 10,
                "z": -0.0308145
               },
               {
                "showarrow": false,
                "text": "1.36",
                "x": -0.3375305,
                "y": 2.3529584999999997,
                "yshift": 10,
                "z": -0.039510500000000004
               },
               {
                "showarrow": false,
                "text": "1.41",
                "x": -1.1708064999999999,
                "y": 1.4768605,
                "yshift": 10,
                "z": -0.0250985
               },
               {
                "showarrow": false,
                "text": "1.42",
                "x": -0.8437074999999999,
                "y": 0.29242999999999997,
                "yshift": 10,
                "z": -0.005157500000000001
               },
               {
                "showarrow": false,
                "text": "1.2",
                "x": 2.1254074999999997,
                "y": -1.3318805,
                "yshift": 10,
                "z": -0.1391825
               },
               {
                "showarrow": false,
                "text": "0.97",
                "x": 3.6806515,
                "y": -0.5061375,
                "yshift": 10,
                "z": 0.19154300000000002
               },
               {
                "showarrow": false,
                "text": "1.36",
                "x": -2.893983,
                "y": -0.24316050000000003,
                "yshift": 10,
                "z": 0.02115
               },
               {
                "showarrow": false,
                "text": "1.41",
                "x": -2.5747394999999997,
                "y": -1.3977195,
                "yshift": 10,
                "z": 0.049571000000000004
               },
               {
                "showarrow": false,
                "text": "1.37",
                "x": -1.411595,
                "y": -1.730224,
                "yshift": 10,
                "z": 0.0517515
               },
               {
                "showarrow": false,
                "text": "1.35",
                "x": 2.754004,
                "y": -0.4488555,
                "yshift": 10,
                "z": 0.097791
               },
               {
                "showarrow": false,
                "text": "1.43",
                "x": 0.34496499999999997,
                "y": 0.009385500000000005,
                "yshift": 10,
                "z": -0.0027875
               },
               {
                "showarrow": false,
                "text": "1.49",
                "x": 1.593413,
                "y": -0.257766,
                "yshift": 10,
                "z": -0.017689
               },
               {
                "showarrow": false,
                "text": "1.42",
                "x": -2.0317685,
                "y": 0.603457,
                "yshift": 10,
                "z": -0.004007500000000001
               },
               {
                "showarrow": false,
                "text": "1.08",
                "x": -3.089428,
                "y": 0.8046840000000001,
                "yshift": 10,
                "z": -0.0025800000000000003
               },
               {
                "showarrow": false,
                "text": "1.08",
                "x": -3.5963835,
                "y": -1.041889,
                "yshift": 10,
                "z": 0.04468
               },
               {
                "showarrow": false,
                "text": "1.08",
                "x": -2.21903,
                "y": -2.4162605,
                "yshift": 10,
                "z": 0.076872
               },
               {
                "showarrow": false,
                "text": "1.08",
                "x": -0.37401999999999996,
                "y": -1.9535015000000002,
                "yshift": 10,
                "z": 0.04821
               },
               {
                "showarrow": false,
                "text": "1.42",
                "x": -0.5427774999999999,
                "y": -0.886692,
                "yshift": 10,
                "z": 0.0221805
               },
               {
                "showarrow": false,
                "text": "1.08",
                "x": 1.84545,
                "y": 1.7210915,
                "yshift": 10,
                "z": -0.022368
               },
               {
                "showarrow": false,
                "text": "1.08",
                "x": 0.451282,
                "y": 3.0684424999999997,
                "yshift": 10,
                "z": -0.0500635
               },
               {
                "showarrow": false,
                "text": "1.08",
                "x": -1.3879175,
                "y": 2.530977,
                "yshift": 10,
                "z": -0.046081
               }
              ]
             }
            ],
            "label": "Bond lengths",
            "method": "relayout"
           },
           {
            "args": [
             {
              "scene.annotations": [
               {
                "font": {
                 "color": "blue"
                },
                "showarrow": false,
                "text": "1",
                "x": 1.027664,
                "y": 0.226419,
                "yshift": 15,
                "z": -0.007269
               },
               {
                "font": {
                 "color": "blue"
                },
                "showarrow": false,
                "text": "2",
                "x": 1.327652,
                "y": 1.567656,
                "yshift": 15,
                "z": -0.020796
               },
               {
                "font": {
                 "color": "blue"
                },
                "showarrow": false,
                "text": "3",
                "x": 0.316871,
                "y": 2.544704,
                "yshift": 15,
                "z": -0.040833
               },
               {
                "font": {
                 "color": "blue"
                },
                "showarrow": false,
                "text": "4",
                "x": -0.991932,
                "y": 2.161213,
                "yshift": 15,
                "z": -0.038188
               },
               {
                "font": {
                 "color": "blue"
                },
                "showarrow": false,
                "text": "5",
                "x": -1.349681,
                "y": 0.792508,
                "yshift": 15,
                "z": -0.012009
               },
               {
                "font": {
                 "color": "blue"
                },
                "showarrow": false,
                "text": "6",
                "x": -0.337734,
                "y": -0.207648,
                "yshift": 15,
                "z": 0.001694
               },
               {
                "font": {
                 "color": "blue"
                },
                "showarrow": false,
                "text": "7",
                "x": 2.159162,
                "y": -0.741951,
                "yshift": 15,
                "z": -0.028109
               },
               {
                "font": {
                 "color": "blue"
                },
                "showarrow": false,
                "text": "8",
                "x": 2.091653,
                "y": -1.92181,
                "yshift": 15,
                "z": -0.250256
               },
               {
                "font": {
                 "color": "blue"
                },
                "showarrow": false,
                "text": "9",
                "x": 3.348846,
                "y": -0.15576,
                "yshift": 15,
                "z": 0.223691
               },
               {
                "font": {
                 "color": "blue"
                },
                "showarrow": false,
                "text": "10",
                "x": 4.012457,
                "y": -0.856515,
                "yshift": 15,
                "z": 0.159395
               },
               {
                "font": {
                 "color": "blue"
                },
                "showarrow": false,
                "text": "11",
                "x": -2.713856,
                "y": 0.414406,
                "yshift": 15,
                "z": 0.003994
               },
               {
                "font": {
                 "color": "blue"
                },
                "showarrow": false,
                "text": "12",
                "x": -3.07411,
                "y": -0.900727,
                "yshift": 15,
                "z": 0.038306
               },
               {
                "font": {
                 "color": "blue"
                },
                "showarrow": false,
                "text": "13",
                "x": -2.075369,
                "y": -1.894712,
                "yshift": 15,
                "z": 0.060836
               },
               {
                "font": {
                 "color": "blue"
                },
                "showarrow": false,
                "text": "14",
                "x": -0.747821,
                "y": -1.565736,
                "yshift": 15,
                "z": 0.042667
               },
               {
                "font": {
                 "color": "blue"
                },
                "showarrow": false,
                "text": "15",
                "x": 2.363248,
                "y": 1.874527,
                "yshift": 15,
                "z": -0.02394
               },
               {
                "font": {
                 "color": "blue"
                },
                "showarrow": false,
                "text": "16",
                "x": 0.585693,
                "y": 3.592181,
                "yshift": 15,
                "z": -0.059294
               },
               {
                "font": {
                 "color": "blue"
                },
                "showarrow": false,
                "text": "17",
                "x": -1.783903,
                "y": 2.900741,
                "yshift": 15,
                "z": -0.053974
               },
               {
                "font": {
                 "color": "blue"
                },
                "showarrow": false,
                "text": "18",
                "x": -3.465,
                "y": 1.194962,
                "yshift": 15,
                "z": -0.009154
               },
               {
                "font": {
                 "color": "blue"
                },
                "showarrow": false,
                "text": "19",
                "x": -4.118657,
                "y": -1.183051,
                "yshift": 15,
                "z": 0.051054
               },
               {
                "font": {
                 "color": "blue"
                },
                "showarrow": false,
                "text": "20",
                "x": -2.362691,
                "y": -2.937809,
                "yshift": 15,
                "z": 0.092908
               },
               {
                "font": {
                 "color": "blue"
                },
                "showarrow": false,
                "text": "21",
                "x": -0.000219,
                "y": -2.341267,
                "yshift": 15,
                "z": 0.053753
               },
               {
                "showarrow": false,
                "text": "1.37",
                "x": 1.177658,
                "y": 0.8970374999999999,
                "yshift": 10,
                "z": -0.0140325
               },
               {
                "showarrow": false,
                "text": "1.41",
                "x": 0.8222615,
                "y": 2.05618,
                "yshift": 10,
                "z": -0.0308145
               },
               {
                "showarrow": false,
                "text": "1.36",
                "x": -0.3375305,
                "y": 2.3529584999999997,
                "yshift": 10,
                "z": -0.039510500000000004
               },
               {
                "showarrow": false,
                "text": "1.41",
                "x": -1.1708064999999999,
                "y": 1.4768605,
                "yshift": 10,
                "z": -0.0250985
               },
               {
                "showarrow": false,
                "text": "1.42",
                "x": -0.8437074999999999,
                "y": 0.29242999999999997,
                "yshift": 10,
                "z": -0.005157500000000001
               },
               {
                "showarrow": false,
                "text": "1.2",
                "x": 2.1254074999999997,
                "y": -1.3318805,
                "yshift": 10,
                "z": -0.1391825
               },
               {
                "showarrow": false,
                "text": "0.97",
                "x": 3.6806515,
                "y": -0.5061375,
                "yshift": 10,
                "z": 0.19154300000000002
               },
               {
                "showarrow": false,
                "text": "1.36",
                "x": -2.893983,
                "y": -0.24316050000000003,
                "yshift": 10,
                "z": 0.02115
               },
               {
                "showarrow": false,
                "text": "1.41",
                "x": -2.5747394999999997,
                "y": -1.3977195,
                "yshift": 10,
                "z": 0.049571000000000004
               },
               {
                "showarrow": false,
                "text": "1.37",
                "x": -1.411595,
                "y": -1.730224,
                "yshift": 10,
                "z": 0.0517515
               },
               {
                "showarrow": false,
                "text": "1.35",
                "x": 2.754004,
                "y": -0.4488555,
                "yshift": 10,
                "z": 0.097791
               },
               {
                "showarrow": false,
                "text": "1.43",
                "x": 0.34496499999999997,
                "y": 0.009385500000000005,
                "yshift": 10,
                "z": -0.0027875
               },
               {
                "showarrow": false,
                "text": "1.49",
                "x": 1.593413,
                "y": -0.257766,
                "yshift": 10,
                "z": -0.017689
               },
               {
                "showarrow": false,
                "text": "1.42",
                "x": -2.0317685,
                "y": 0.603457,
                "yshift": 10,
                "z": -0.004007500000000001
               },
               {
                "showarrow": false,
                "text": "1.08",
                "x": -3.089428,
                "y": 0.8046840000000001,
                "yshift": 10,
                "z": -0.0025800000000000003
               },
               {
                "showarrow": false,
                "text": "1.08",
                "x": -3.5963835,
                "y": -1.041889,
                "yshift": 10,
                "z": 0.04468
               },
               {
                "showarrow": false,
                "text": "1.08",
                "x": -2.21903,
                "y": -2.4162605,
                "yshift": 10,
                "z": 0.076872
               },
               {
                "showarrow": false,
                "text": "1.08",
                "x": -0.37401999999999996,
                "y": -1.9535015000000002,
                "yshift": 10,
                "z": 0.04821
               },
               {
                "showarrow": false,
                "text": "1.42",
                "x": -0.5427774999999999,
                "y": -0.886692,
                "yshift": 10,
                "z": 0.0221805
               },
               {
                "showarrow": false,
                "text": "1.08",
                "x": 1.84545,
                "y": 1.7210915,
                "yshift": 10,
                "z": -0.022368
               },
               {
                "showarrow": false,
                "text": "1.08",
                "x": 0.451282,
                "y": 3.0684424999999997,
                "yshift": 10,
                "z": -0.0500635
               },
               {
                "showarrow": false,
                "text": "1.08",
                "x": -1.3879175,
                "y": 2.530977,
                "yshift": 10,
                "z": -0.046081
               }
              ]
             }
            ],
            "label": "Both",
            "method": "relayout"
           },
           {
            "args": [
             {
              "scene.annotations": []
             }
            ],
            "label": "Hide all",
            "method": "relayout"
           },
           {
            "args": [
             {
              "visible": [
               true,
               true,
               true,
               true,
               true,
               true,
               true,
               true,
               true,
               true
              ]
             },
             {}
            ],
            "label": "Show dipole",
            "method": "update"
           },
           {
            "args": [
             {
              "visible": [
               true,
               true,
               false,
               false,
               false,
               false,
               false,
               false,
               false,
               false
              ]
             },
             {}
            ],
            "label": "Hide dipole",
            "method": "update"
           }
          ],
          "direction": "down",
          "xanchor": "left",
          "yanchor": "top"
         }
        ]
       }
      }
     },
     "metadata": {},
     "output_type": "display_data"
    }
   ],
   "source": [
    "benzoic_mols.visualize_molecules([1,2,3])"
   ]
  },
  {
   "cell_type": "code",
   "execution_count": null,
   "id": "19c27b0e",
   "metadata": {},
   "outputs": [],
   "source": [
    "## Benzoic Surrogate notebook\n",
    "answers_dict = {\n",
    "    \"Ring Vibration atoms - by order -> Pick one  atom from a six member ring\\n example: 13\": [4],\n",
    "    \"Stretch Threshold\": [1600],\n",
    "    \"Stretching Vibration atoms- enter bonded atom pairs: \\n example: 1,2 4,5\": [[7,8]],\n",
    "    \"Bend Threshold\": [1400],\n",
    "    \"Bending Vibration atoms - enter atom pairs that have a common atom: \\n example: 4,7\": [],\n",
    "    \"Center_Atoms Dipole\": [],\n",
    "    \"Dipole atoms - indices for coordination transformation: \\n example: 4,5,6 - origin, y-axis, new xy plane\": [[2,1,7]],\n",
    "    \"Sub-Atoms NPA\": [] ,\n",
    "    \"NPA manipulation atoms - Insert atoms to show NPA: \\n example: 1,2,4\": [],\n",
    "    \"charges values - Insert atoms to show charge: \\n example: 1,2,3,4\": [7,1,8],\n",
    "    \"charge_diff - Insert atoms to show charge difference: \\n example: 1,2 3,4\": [],\n",
    "    \"Sterimol atoms - Primary axis along: \\n example: 7,8\": [[7,1]],\n",
    "    'drop_atoms - Atoms to drop: \\n example: 1,2,3': [],\n",
    "    \"Bond_length - Atom pairs to calculate difference: \\n example: 1,2 4,5\": [[9,10],[7,8]],    \n",
    "    'Bond_angle - Atom triplets to calculate difference: \\n example: 1,2,3 4,5,6': [[1,7,8],[7,1,2,6]],\n",
    "}\n",
    "current_dir=os.getcwd()\n",
    "json_path=os.path.join(current_dir,'second_sphere_input.json')\n",
    "help_functions.save_input_json(answers_dict, json_path=json_path)\n",
    "df=sphere_mols.get_molecules_features_set(entry_widgets=answers_dict,answers_list=None, save_as=True,csv_file_name='features_second_sphere')\n",
    "df['output']=output_list\n",
    "print(df.head())"
   ]
  },
  {
   "cell_type": "code",
   "execution_count": null,
   "id": "67fc2a47",
   "metadata": {},
   "outputs": [],
   "source": []
  }
 ],
 "metadata": {
  "kernelspec": {
   "display_name": "labenv",
   "language": "python",
   "name": "python3"
  },
  "language_info": {
   "codemirror_mode": {
    "name": "ipython",
    "version": 3
   },
   "file_extension": ".py",
   "mimetype": "text/x-python",
   "name": "python",
   "nbconvert_exporter": "python",
   "pygments_lexer": "ipython3",
   "version": "3.9.18"
  }
 },
 "nbformat": 4,
 "nbformat_minor": 5
}
