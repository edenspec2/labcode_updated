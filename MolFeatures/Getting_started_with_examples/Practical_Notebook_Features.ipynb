{
 "cells": [
  {
   "cell_type": "markdown",
   "metadata": {},
   "source": [
    "This Notebook will go over Feature extraction ,and some Visualization methods\n",
    "\n",
    "lets start with imports and loading the main class Molecules that works on a directory with feather files,\n",
    "\n",
    "Change ROOT_DIR accordingly.\n"
   ]
  },
  {
   "cell_type": "code",
   "execution_count": 10,
   "metadata": {},
   "outputs": [
    {
     "name": "stdout",
     "output_type": "stream",
     "text": [
      "Setting ROOT_DIR to: C:\\Users\\edens\\Documents\\GitHub\\LabCode\\MolFeatures\n"
     ]
    }
   ],
   "source": [
    "# ===Jupyter notebook setup commands===\n",
    "%reset -f\n",
    "%reload_ext autoreload\n",
    "%autoreload 2\n",
    "\n",
    "# ===imports===\n",
    "import os\n",
    "import sys\n",
    "import importlib\n",
    "import numpy as np\n",
    "import pandas as pd\n",
    "from pathlib import Path\n",
    "# === Setup ===\n",
    "# Might need to change to main directory of MolFeatures - r'/your/path/to/MolFeatures'\n",
    "ROOT_DIR = Path().resolve().parent\n",
    "print(f\"Setting ROOT_DIR to: {ROOT_DIR}\")\n",
    "sys.path.append(ROOT_DIR)\n",
    "sys.path.append(os.path.join(ROOT_DIR, 'M3_modeler'))\n",
    "sys.path.append(os.path.join(ROOT_DIR, 'M2_data_extractor'))\n",
    "sys.path.append(os.path.join(ROOT_DIR, 'utils'))\n",
    "os.chdir(ROOT_DIR)  # Set working directory\n",
    "\n",
    "# === Clear old module caches ===\n",
    "for module in ['data_extractor', 'feather_extractor', 'gaussian_handler', 'help_functions', 'modeling', 'plot']:\n",
    "    sys.modules.pop(module, None)\n",
    "\n",
    "# === Safe Imports ===\n",
    "try:\n",
    "    from data_extractor import Molecules, extract_connectivity\n",
    "    from feather_extractor import logs_to_feather\n",
    "    import gaussian_handler\n",
    "    from gaussian_handler import feather_file_handler\n",
    "    from help_functions import dict_to_horizontal_df, get_df_from_file, pick_samples_to_remove_for_distribution\n",
    "    import help_functions\n",
    "    import visualize\n",
    "    from modeling import (\n",
    "        ClassificationModel,\n",
    "        LinearRegressionModel,\n",
    "        fit_and_evaluate_single_combination_regression,\n",
    "        fit_and_evaluate_single_combination_classification\n",
    "        \n",
    "    )\n",
    "    import plot\n",
    "    \n",
    "except ModuleNotFoundError as e:\n",
    "    print(f\"Module import failed: {e} \\nPlease ensure all required modules are installed and available in the path specified on the right hand corner of the notebook.\")\n",
    "# === Config ===\n",
    "pd.set_option('display.max_columns', None)\n",
    "examples_path=ROOT_DIR / 'Getting_started_with_examples'\n",
    "os.chdir(examples_path)  # Ensure working directory is examples_path\n",
    "\n"
   ]
  },
  {
   "cell_type": "code",
   "execution_count": 11,
   "metadata": {},
   "outputs": [
    {
     "name": "stdout",
     "output_type": "stream",
     "text": [
      "Molecules Loaded: ['basic.feather', 'm_Br.feather', 'm_Cl.feather', 'm_F.feather', 'm_I.feather', 'm_nitro.feather', 'o_Br.feather', 'o_Cl.feather', 'o_F.feather', 'o_I.feather', 'o_nitro.feather', 'penta_F.feather', 'p_amine.feather', 'p_azide.feather', 'p_boc.feather', 'p_Br.feather', 'p_Cl.feather', 'p_F.feather', 'p_I.feather', 'p_Me.feather', 'p_nitro.feather', 'p_OEt.feather', 'p_OH.feather', 'p_OMe.feather', 'p_Ph.feather', 'p_tfm.feather'] Failed Molecules: []\n"
     ]
    }
   ],
   "source": [
    "\n",
    "# === Load molecular data ===\n",
    "# if you want to convert your own log files to feather format use - logs_to_feather(dir_path)\n",
    "\n",
    "feather_path = examples_path / 'feather_example' # or other feather directory\n",
    "mols = Molecules(feather_path)"
   ]
  },
  {
   "cell_type": "markdown",
   "metadata": {},
   "source": [
    "Great, we can see the files were loaded !\n",
    "\n",
    "lets print the methods for the mols object we created to see what wee can use. \n",
    "\n",
    "for more advanced use go to the class Molecules in the data_extractor in M2_data_extractor"
   ]
  },
  {
   "cell_type": "code",
   "execution_count": 3,
   "metadata": {},
   "outputs": [
    {
     "name": "stdout",
     "output_type": "stream",
     "text": [
      "['export_all_xyz', 'extract_all_dfs', 'extract_all_xyz', 'failed_molecules', 'filter_molecules', 'get_bend_vibration_dict', 'get_bond_angle_dict', 'get_bond_length_dict', 'get_charge_df_dict', 'get_charge_diff_df_dict', 'get_dipole_dict', 'get_molecules_features_set', 'get_npa_dict', 'get_ring_vibration_dict', 'get_sterimol_dict', 'get_stretch_vibration_dict', 'molecules', 'molecules_names', 'molecules_path', 'old_molecules', 'old_molecules_names', 'renumber_all_molecules', 'success_molecules', 'visualize_molecules', 'visualize_smallest_molecule', 'visualize_smallest_molecule_morfeus']\n"
     ]
    }
   ],
   "source": [
    "methods=[method for method in dir(mols) if not method.startswith('_')]\n",
    "print(methods)"
   ]
  },
  {
   "cell_type": "code",
   "execution_count": 14,
   "metadata": {},
   "outputs": [
    {
     "ename": "AttributeError",
     "evalue": "'Molecules' object has no attribute 'molecule_names'",
     "output_type": "error",
     "traceback": [
      "\u001b[1;31m---------------------------------------------------------------------------\u001b[0m",
      "\u001b[1;31mAttributeError\u001b[0m                            Traceback (most recent call last)",
      "Cell \u001b[1;32mIn[14], line 1\u001b[0m\n\u001b[1;32m----> 1\u001b[0m \u001b[43mmols\u001b[49m\u001b[38;5;241;43m.\u001b[39;49m\u001b[43mmolecule_names\u001b[49m\n",
      "\u001b[1;31mAttributeError\u001b[0m: 'Molecules' object has no attribute 'molecule_names'"
     ]
    }
   ],
   "source": [
    "mols.molecule_names"
   ]
  },
  {
   "cell_type": "markdown",
   "metadata": {},
   "source": [
    "Great now lets use visualize_molecules to see the first molecule of the set.\n",
    "\n",
    "You can use the dropdown menu for more options."
   ]
  },
  {
   "cell_type": "code",
   "execution_count": 17,
   "metadata": {},
   "outputs": [
    {
     "data": {
      "application/vnd.plotly.v1+json": {
       "config": {
        "plotlyServerURL": "https://plot.ly"
       },
       "data": [
        {
         "marker": {
          "color": [
           "black",
           "blue",
           "red",
           "black",
           "white",
           "white",
           "black",
           "black",
           "black",
           "black",
           "green",
           "black",
           "green",
           "black",
           "green",
           "green",
           "green",
           "white",
           "black",
           "black",
           "white",
           "black",
           "white",
           "white",
           "white",
           "white",
           "black",
           "red",
           "red"
          ],
          "line": {
           "color": "lightgray",
           "width": 2
          },
          "size": 5
         },
         "mode": "markers",
         "name": "atoms",
         "text": [
          "C",
          "N",
          "O",
          "C",
          "H",
          "H",
          "C",
          "C",
          "C",
          "C",
          "F",
          "C",
          "F",
          "C",
          "F",
          "F",
          "F",
          "H",
          "C",
          "C",
          "H",
          "C",
          "H",
          "H",
          "H",
          "H",
          "C",
          "O",
          "O"
         ],
         "type": "scatter3d",
         "x": [
          -1.368529,
          -1.381352,
          -2.357084,
          -0.0447,
          -0.130814,
          0.006648,
          1.189147,
          1.638692,
          1.930277,
          2.772258,
          0.958203,
          3.071866,
          1.554435,
          3.492326,
          3.173499,
          3.759826,
          4.578577,
          -0.577519,
          -2.63313,
          -3.387802,
          -2.443428,
          -4.840583,
          -3.213723,
          -3.108582,
          -5.177459,
          -5.534976,
          -3.655753,
          -4.881678,
          -3.430734
         ],
         "y": [
          0.096822,
          -0.040679,
          -0.073741,
          0.499434,
          1.559509,
          -0.045767,
          0.254788,
          -1.038664,
          1.285071,
          -1.306718,
          -2.061024,
          1.048617,
          2.547993,
          -0.253089,
          -2.553307,
          2.056132,
          -0.493052,
          0.257961,
          -0.212928,
          -1.513733,
          -0.085152,
          -1.071994,
          -1.834314,
          -2.312186,
          -1.187527,
          -1.584093,
          0.866796,
          0.323933,
          2.014711
         ],
         "z": [
          1.086729,
          -0.26671,
          1.763108,
          1.729245,
          1.968499,
          2.670924,
          0.911427,
          0.68005,
          0.352416,
          -0.064054,
          1.191338,
          -0.397494,
          0.533789,
          -0.605508,
          -0.264268,
          -0.913406,
          -1.320562,
          -0.792019,
          -0.957105,
          -0.699768,
          -2.025054,
          -0.885876,
          0.324219,
          -1.383266,
          -1.917873,
          -0.225032,
          -0.573473,
          -0.559358,
          -0.360623
         ]
        },
        {
         "hoverinfo": "none",
         "line": {
          "color": "black",
          "width": 3
         },
         "mode": "lines",
         "name": "bonds",
         "type": "scatter3d",
         "x": [
          -1.368529,
          -1.381352,
          null,
          -0.0447,
          -0.130814,
          null,
          1.189147,
          1.638692,
          null,
          -2.63313,
          -3.387802,
          null,
          -3.655753,
          -4.881678,
          null,
          -1.368529,
          -2.357084,
          null,
          -0.0447,
          0.006648,
          null,
          1.930277,
          1.189147,
          null,
          2.772258,
          1.638692,
          null,
          3.071866,
          3.492326,
          null,
          -2.63313,
          -2.443428,
          null,
          -3.387802,
          -4.840583,
          null,
          -3.655753,
          -3.430734,
          null,
          -1.368529,
          -0.0447,
          null,
          -0.0447,
          1.189147,
          null,
          0.958203,
          1.638692,
          null,
          1.930277,
          3.071866,
          null,
          4.578577,
          3.492326,
          null,
          -3.387802,
          -3.213723,
          null,
          -5.177459,
          -4.840583,
          null,
          1.930277,
          1.554435,
          null,
          2.772258,
          3.492326,
          null,
          3.071866,
          3.759826,
          null,
          -3.387802,
          -3.108582,
          null,
          -5.534976,
          -4.840583,
          null,
          2.772258,
          3.173499,
          null,
          -4.881678,
          -4.840583,
          null,
          -2.63313,
          -3.655753,
          null,
          -1.381352,
          -2.63313,
          null,
          -0.577519,
          -1.381352,
          null
         ],
         "y": [
          0.096822,
          -0.040679,
          null,
          0.499434,
          1.559509,
          null,
          0.254788,
          -1.038664,
          null,
          -0.212928,
          -1.513733,
          null,
          0.866796,
          0.323933,
          null,
          0.096822,
          -0.073741,
          null,
          0.499434,
          -0.045767,
          null,
          1.285071,
          0.254788,
          null,
          -1.306718,
          -1.038664,
          null,
          1.048617,
          -0.253089,
          null,
          -0.212928,
          -0.085152,
          null,
          -1.513733,
          -1.071994,
          null,
          0.866796,
          2.014711,
          null,
          0.096822,
          0.499434,
          null,
          0.499434,
          0.254788,
          null,
          -2.061024,
          -1.038664,
          null,
          1.285071,
          1.048617,
          null,
          -0.493052,
          -0.253089,
          null,
          -1.513733,
          -1.834314,
          null,
          -1.187527,
          -1.071994,
          null,
          1.285071,
          2.547993,
          null,
          -1.306718,
          -0.253089,
          null,
          1.048617,
          2.056132,
          null,
          -1.513733,
          -2.312186,
          null,
          -1.584093,
          -1.071994,
          null,
          -1.306718,
          -2.553307,
          null,
          0.323933,
          -1.071994,
          null,
          -0.212928,
          0.866796,
          null,
          -0.040679,
          -0.212928,
          null,
          0.257961,
          -0.040679,
          null
         ],
         "z": [
          1.086729,
          -0.26671,
          null,
          1.729245,
          1.968499,
          null,
          0.911427,
          0.68005,
          null,
          -0.957105,
          -0.699768,
          null,
          -0.573473,
          -0.559358,
          null,
          1.086729,
          1.763108,
          null,
          1.729245,
          2.670924,
          null,
          0.352416,
          0.911427,
          null,
          -0.064054,
          0.68005,
          null,
          -0.397494,
          -0.605508,
          null,
          -0.957105,
          -2.025054,
          null,
          -0.699768,
          -0.885876,
          null,
          -0.573473,
          -0.360623,
          null,
          1.086729,
          1.729245,
          null,
          1.729245,
          0.911427,
          null,
          1.191338,
          0.68005,
          null,
          0.352416,
          -0.397494,
          null,
          -1.320562,
          -0.605508,
          null,
          -0.699768,
          0.324219,
          null,
          -1.917873,
          -0.885876,
          null,
          0.352416,
          0.533789,
          null,
          -0.064054,
          -0.605508,
          null,
          -0.397494,
          -0.913406,
          null,
          -0.699768,
          -1.383266,
          null,
          -0.225032,
          -0.885876,
          null,
          -0.064054,
          -0.264268,
          null,
          -0.559358,
          -0.885876,
          null,
          -0.957105,
          -0.573473,
          null,
          -0.26671,
          -0.957105,
          null,
          -0.792019,
          -0.26671,
          null
         ]
        },
        {
         "line": {
          "color": "red",
          "width": 8
         },
         "mode": "lines",
         "name": "Dipole X",
         "showlegend": true,
         "type": "scatter3d",
         "visible": false,
         "x": [
          0,
          2.7246
         ],
         "y": [
          0,
          0
         ],
         "z": [
          0,
          0
         ]
        },
        {
         "anchor": "tip",
         "colorscale": [
          [
           0,
           "red"
          ],
          [
           1,
           "red"
          ]
         ],
         "name": "Dipole X",
         "showlegend": false,
         "showscale": false,
         "sizemode": "scaled",
         "sizeref": 0.2,
         "type": "cone",
         "u": [
          2.8746
         ],
         "v": [
          0
         ],
         "visible": false,
         "w": [
          0
         ],
         "x": [
          2.8746
         ],
         "y": [
          0
         ],
         "z": [
          0
         ]
        },
        {
         "line": {
          "color": "green",
          "width": 8
         },
         "mode": "lines",
         "name": "Dipole Y",
         "showlegend": true,
         "type": "scatter3d",
         "visible": false,
         "x": [
          0,
          0
         ],
         "y": [
          0,
          -6.6018
         ],
         "z": [
          0,
          0
         ]
        },
        {
         "anchor": "tip",
         "colorscale": [
          [
           0,
           "green"
          ],
          [
           1,
           "green"
          ]
         ],
         "name": "Dipole Y",
         "showlegend": false,
         "showscale": false,
         "sizemode": "scaled",
         "sizeref": 0.2,
         "type": "cone",
         "u": [
          0
         ],
         "v": [
          -6.7518
         ],
         "visible": false,
         "w": [
          0
         ],
         "x": [
          0
         ],
         "y": [
          -6.7518
         ],
         "z": [
          0
         ]
        },
        {
         "line": {
          "color": "blue",
          "width": 8
         },
         "mode": "lines",
         "name": "Dipole Z",
         "showlegend": true,
         "type": "scatter3d",
         "visible": false,
         "x": [
          0,
          0
         ],
         "y": [
          0,
          0
         ],
         "z": [
          0,
          -4.401199999999999
         ]
        },
        {
         "anchor": "tip",
         "colorscale": [
          [
           0,
           "blue"
          ],
          [
           1,
           "blue"
          ]
         ],
         "name": "Dipole Z",
         "showlegend": false,
         "showscale": false,
         "sizemode": "scaled",
         "sizeref": 0.2,
         "type": "cone",
         "u": [
          0
         ],
         "v": [
          0
         ],
         "visible": false,
         "w": [
          -4.5512
         ],
         "x": [
          0
         ],
         "y": [
          0
         ],
         "z": [
          -4.5512
         ]
        },
        {
         "line": {
          "color": "purple",
          "width": 8
         },
         "mode": "lines",
         "name": "Total Dipole",
         "showlegend": true,
         "type": "scatter3d",
         "visible": false,
         "x": [
          0,
          2.824664961117765
         ],
         "y": [
          0,
          -6.634513631279109
         ],
         "z": [
          0,
          -4.472140531217969
         ]
        },
        {
         "anchor": "tip",
         "colorscale": [
          [
           0,
           "purple"
          ],
          [
           1,
           "purple"
          ]
         ],
         "name": "Total Dipole",
         "showlegend": false,
         "showscale": false,
         "sizemode": "scaled",
         "sizeref": 0.2,
         "type": "cone",
         "u": [
          2.8746
         ],
         "v": [
          -6.7518
         ],
         "visible": false,
         "w": [
          -4.5512
         ],
         "x": [
          2.8746
         ],
         "y": [
          -6.7518
         ],
         "z": [
          -4.5512
         ]
        }
       ],
       "layout": {
        "margin": {
         "b": 0,
         "l": 0,
         "r": 0,
         "t": 0
        },
        "scene": {
         "annotations": [
          {
           "font": {
            "color": "blue"
           },
           "showarrow": false,
           "text": "1",
           "x": -1.368529,
           "y": 0.096822,
           "yshift": 15,
           "z": 1.086729
          },
          {
           "font": {
            "color": "blue"
           },
           "showarrow": false,
           "text": "2",
           "x": -1.381352,
           "y": -0.040679,
           "yshift": 15,
           "z": -0.26671
          },
          {
           "font": {
            "color": "blue"
           },
           "showarrow": false,
           "text": "3",
           "x": -2.357084,
           "y": -0.073741,
           "yshift": 15,
           "z": 1.763108
          },
          {
           "font": {
            "color": "blue"
           },
           "showarrow": false,
           "text": "4",
           "x": -0.0447,
           "y": 0.499434,
           "yshift": 15,
           "z": 1.729245
          },
          {
           "font": {
            "color": "blue"
           },
           "showarrow": false,
           "text": "5",
           "x": -0.130814,
           "y": 1.559509,
           "yshift": 15,
           "z": 1.968499
          },
          {
           "font": {
            "color": "blue"
           },
           "showarrow": false,
           "text": "6",
           "x": 0.006648,
           "y": -0.045767,
           "yshift": 15,
           "z": 2.670924
          },
          {
           "font": {
            "color": "blue"
           },
           "showarrow": false,
           "text": "7",
           "x": 1.189147,
           "y": 0.254788,
           "yshift": 15,
           "z": 0.911427
          },
          {
           "font": {
            "color": "blue"
           },
           "showarrow": false,
           "text": "8",
           "x": 1.638692,
           "y": -1.038664,
           "yshift": 15,
           "z": 0.68005
          },
          {
           "font": {
            "color": "blue"
           },
           "showarrow": false,
           "text": "9",
           "x": 1.930277,
           "y": 1.285071,
           "yshift": 15,
           "z": 0.352416
          },
          {
           "font": {
            "color": "blue"
           },
           "showarrow": false,
           "text": "10",
           "x": 2.772258,
           "y": -1.306718,
           "yshift": 15,
           "z": -0.064054
          },
          {
           "font": {
            "color": "blue"
           },
           "showarrow": false,
           "text": "11",
           "x": 0.958203,
           "y": -2.061024,
           "yshift": 15,
           "z": 1.191338
          },
          {
           "font": {
            "color": "blue"
           },
           "showarrow": false,
           "text": "12",
           "x": 3.071866,
           "y": 1.048617,
           "yshift": 15,
           "z": -0.397494
          },
          {
           "font": {
            "color": "blue"
           },
           "showarrow": false,
           "text": "13",
           "x": 1.554435,
           "y": 2.547993,
           "yshift": 15,
           "z": 0.533789
          },
          {
           "font": {
            "color": "blue"
           },
           "showarrow": false,
           "text": "14",
           "x": 3.492326,
           "y": -0.253089,
           "yshift": 15,
           "z": -0.605508
          },
          {
           "font": {
            "color": "blue"
           },
           "showarrow": false,
           "text": "15",
           "x": 3.173499,
           "y": -2.553307,
           "yshift": 15,
           "z": -0.264268
          },
          {
           "font": {
            "color": "blue"
           },
           "showarrow": false,
           "text": "16",
           "x": 3.759826,
           "y": 2.056132,
           "yshift": 15,
           "z": -0.913406
          },
          {
           "font": {
            "color": "blue"
           },
           "showarrow": false,
           "text": "17",
           "x": 4.578577,
           "y": -0.493052,
           "yshift": 15,
           "z": -1.320562
          },
          {
           "font": {
            "color": "blue"
           },
           "showarrow": false,
           "text": "18",
           "x": -0.577519,
           "y": 0.257961,
           "yshift": 15,
           "z": -0.792019
          },
          {
           "font": {
            "color": "blue"
           },
           "showarrow": false,
           "text": "19",
           "x": -2.63313,
           "y": -0.212928,
           "yshift": 15,
           "z": -0.957105
          },
          {
           "font": {
            "color": "blue"
           },
           "showarrow": false,
           "text": "20",
           "x": -3.387802,
           "y": -1.513733,
           "yshift": 15,
           "z": -0.699768
          },
          {
           "font": {
            "color": "blue"
           },
           "showarrow": false,
           "text": "21",
           "x": -2.443428,
           "y": -0.085152,
           "yshift": 15,
           "z": -2.025054
          },
          {
           "font": {
            "color": "blue"
           },
           "showarrow": false,
           "text": "22",
           "x": -4.840583,
           "y": -1.071994,
           "yshift": 15,
           "z": -0.885876
          },
          {
           "font": {
            "color": "blue"
           },
           "showarrow": false,
           "text": "23",
           "x": -3.213723,
           "y": -1.834314,
           "yshift": 15,
           "z": 0.324219
          },
          {
           "font": {
            "color": "blue"
           },
           "showarrow": false,
           "text": "24",
           "x": -3.108582,
           "y": -2.312186,
           "yshift": 15,
           "z": -1.383266
          },
          {
           "font": {
            "color": "blue"
           },
           "showarrow": false,
           "text": "25",
           "x": -5.177459,
           "y": -1.187527,
           "yshift": 15,
           "z": -1.917873
          },
          {
           "font": {
            "color": "blue"
           },
           "showarrow": false,
           "text": "26",
           "x": -5.534976,
           "y": -1.584093,
           "yshift": 15,
           "z": -0.225032
          },
          {
           "font": {
            "color": "blue"
           },
           "showarrow": false,
           "text": "27",
           "x": -3.655753,
           "y": 0.866796,
           "yshift": 15,
           "z": -0.573473
          },
          {
           "font": {
            "color": "blue"
           },
           "showarrow": false,
           "text": "28",
           "x": -4.881678,
           "y": 0.323933,
           "yshift": 15,
           "z": -0.559358
          },
          {
           "font": {
            "color": "blue"
           },
           "showarrow": false,
           "text": "29",
           "x": -3.430734,
           "y": 2.014711,
           "yshift": 15,
           "z": -0.360623
          }
         ],
         "xaxis": {
          "showbackground": false,
          "showgrid": false,
          "showticklabels": false,
          "title": {
           "font": {
            "color": "white"
           },
           "text": "X"
          },
          "zeroline": false
         },
         "yaxis": {
          "showbackground": false,
          "showgrid": false,
          "showticklabels": false,
          "title": {
           "font": {
            "color": "white"
           },
           "text": "Y"
          },
          "zeroline": false
         },
         "zaxis": {
          "showbackground": false,
          "showgrid": false,
          "showticklabels": false,
          "title": {
           "font": {
            "color": "white"
           },
           "text": "Z"
          },
          "zeroline": false
         }
        },
        "showlegend": false,
        "template": {
         "data": {
          "bar": [
           {
            "error_x": {
             "color": "#2a3f5f"
            },
            "error_y": {
             "color": "#2a3f5f"
            },
            "marker": {
             "line": {
              "color": "#E5ECF6",
              "width": 0.5
             },
             "pattern": {
              "fillmode": "overlay",
              "size": 10,
              "solidity": 0.2
             }
            },
            "type": "bar"
           }
          ],
          "barpolar": [
           {
            "marker": {
             "line": {
              "color": "#E5ECF6",
              "width": 0.5
             },
             "pattern": {
              "fillmode": "overlay",
              "size": 10,
              "solidity": 0.2
             }
            },
            "type": "barpolar"
           }
          ],
          "carpet": [
           {
            "aaxis": {
             "endlinecolor": "#2a3f5f",
             "gridcolor": "white",
             "linecolor": "white",
             "minorgridcolor": "white",
             "startlinecolor": "#2a3f5f"
            },
            "baxis": {
             "endlinecolor": "#2a3f5f",
             "gridcolor": "white",
             "linecolor": "white",
             "minorgridcolor": "white",
             "startlinecolor": "#2a3f5f"
            },
            "type": "carpet"
           }
          ],
          "choropleth": [
           {
            "colorbar": {
             "outlinewidth": 0,
             "ticks": ""
            },
            "type": "choropleth"
           }
          ],
          "contour": [
           {
            "colorbar": {
             "outlinewidth": 0,
             "ticks": ""
            },
            "colorscale": [
             [
              0,
              "#0d0887"
             ],
             [
              0.1111111111111111,
              "#46039f"
             ],
             [
              0.2222222222222222,
              "#7201a8"
             ],
             [
              0.3333333333333333,
              "#9c179e"
             ],
             [
              0.4444444444444444,
              "#bd3786"
             ],
             [
              0.5555555555555556,
              "#d8576b"
             ],
             [
              0.6666666666666666,
              "#ed7953"
             ],
             [
              0.7777777777777778,
              "#fb9f3a"
             ],
             [
              0.8888888888888888,
              "#fdca26"
             ],
             [
              1,
              "#f0f921"
             ]
            ],
            "type": "contour"
           }
          ],
          "contourcarpet": [
           {
            "colorbar": {
             "outlinewidth": 0,
             "ticks": ""
            },
            "type": "contourcarpet"
           }
          ],
          "heatmap": [
           {
            "colorbar": {
             "outlinewidth": 0,
             "ticks": ""
            },
            "colorscale": [
             [
              0,
              "#0d0887"
             ],
             [
              0.1111111111111111,
              "#46039f"
             ],
             [
              0.2222222222222222,
              "#7201a8"
             ],
             [
              0.3333333333333333,
              "#9c179e"
             ],
             [
              0.4444444444444444,
              "#bd3786"
             ],
             [
              0.5555555555555556,
              "#d8576b"
             ],
             [
              0.6666666666666666,
              "#ed7953"
             ],
             [
              0.7777777777777778,
              "#fb9f3a"
             ],
             [
              0.8888888888888888,
              "#fdca26"
             ],
             [
              1,
              "#f0f921"
             ]
            ],
            "type": "heatmap"
           }
          ],
          "heatmapgl": [
           {
            "colorbar": {
             "outlinewidth": 0,
             "ticks": ""
            },
            "colorscale": [
             [
              0,
              "#0d0887"
             ],
             [
              0.1111111111111111,
              "#46039f"
             ],
             [
              0.2222222222222222,
              "#7201a8"
             ],
             [
              0.3333333333333333,
              "#9c179e"
             ],
             [
              0.4444444444444444,
              "#bd3786"
             ],
             [
              0.5555555555555556,
              "#d8576b"
             ],
             [
              0.6666666666666666,
              "#ed7953"
             ],
             [
              0.7777777777777778,
              "#fb9f3a"
             ],
             [
              0.8888888888888888,
              "#fdca26"
             ],
             [
              1,
              "#f0f921"
             ]
            ],
            "type": "heatmapgl"
           }
          ],
          "histogram": [
           {
            "marker": {
             "pattern": {
              "fillmode": "overlay",
              "size": 10,
              "solidity": 0.2
             }
            },
            "type": "histogram"
           }
          ],
          "histogram2d": [
           {
            "colorbar": {
             "outlinewidth": 0,
             "ticks": ""
            },
            "colorscale": [
             [
              0,
              "#0d0887"
             ],
             [
              0.1111111111111111,
              "#46039f"
             ],
             [
              0.2222222222222222,
              "#7201a8"
             ],
             [
              0.3333333333333333,
              "#9c179e"
             ],
             [
              0.4444444444444444,
              "#bd3786"
             ],
             [
              0.5555555555555556,
              "#d8576b"
             ],
             [
              0.6666666666666666,
              "#ed7953"
             ],
             [
              0.7777777777777778,
              "#fb9f3a"
             ],
             [
              0.8888888888888888,
              "#fdca26"
             ],
             [
              1,
              "#f0f921"
             ]
            ],
            "type": "histogram2d"
           }
          ],
          "histogram2dcontour": [
           {
            "colorbar": {
             "outlinewidth": 0,
             "ticks": ""
            },
            "colorscale": [
             [
              0,
              "#0d0887"
             ],
             [
              0.1111111111111111,
              "#46039f"
             ],
             [
              0.2222222222222222,
              "#7201a8"
             ],
             [
              0.3333333333333333,
              "#9c179e"
             ],
             [
              0.4444444444444444,
              "#bd3786"
             ],
             [
              0.5555555555555556,
              "#d8576b"
             ],
             [
              0.6666666666666666,
              "#ed7953"
             ],
             [
              0.7777777777777778,
              "#fb9f3a"
             ],
             [
              0.8888888888888888,
              "#fdca26"
             ],
             [
              1,
              "#f0f921"
             ]
            ],
            "type": "histogram2dcontour"
           }
          ],
          "mesh3d": [
           {
            "colorbar": {
             "outlinewidth": 0,
             "ticks": ""
            },
            "type": "mesh3d"
           }
          ],
          "parcoords": [
           {
            "line": {
             "colorbar": {
              "outlinewidth": 0,
              "ticks": ""
             }
            },
            "type": "parcoords"
           }
          ],
          "pie": [
           {
            "automargin": true,
            "type": "pie"
           }
          ],
          "scatter": [
           {
            "fillpattern": {
             "fillmode": "overlay",
             "size": 10,
             "solidity": 0.2
            },
            "type": "scatter"
           }
          ],
          "scatter3d": [
           {
            "line": {
             "colorbar": {
              "outlinewidth": 0,
              "ticks": ""
             }
            },
            "marker": {
             "colorbar": {
              "outlinewidth": 0,
              "ticks": ""
             }
            },
            "type": "scatter3d"
           }
          ],
          "scattercarpet": [
           {
            "marker": {
             "colorbar": {
              "outlinewidth": 0,
              "ticks": ""
             }
            },
            "type": "scattercarpet"
           }
          ],
          "scattergeo": [
           {
            "marker": {
             "colorbar": {
              "outlinewidth": 0,
              "ticks": ""
             }
            },
            "type": "scattergeo"
           }
          ],
          "scattergl": [
           {
            "marker": {
             "colorbar": {
              "outlinewidth": 0,
              "ticks": ""
             }
            },
            "type": "scattergl"
           }
          ],
          "scattermapbox": [
           {
            "marker": {
             "colorbar": {
              "outlinewidth": 0,
              "ticks": ""
             }
            },
            "type": "scattermapbox"
           }
          ],
          "scatterpolar": [
           {
            "marker": {
             "colorbar": {
              "outlinewidth": 0,
              "ticks": ""
             }
            },
            "type": "scatterpolar"
           }
          ],
          "scatterpolargl": [
           {
            "marker": {
             "colorbar": {
              "outlinewidth": 0,
              "ticks": ""
             }
            },
            "type": "scatterpolargl"
           }
          ],
          "scatterternary": [
           {
            "marker": {
             "colorbar": {
              "outlinewidth": 0,
              "ticks": ""
             }
            },
            "type": "scatterternary"
           }
          ],
          "surface": [
           {
            "colorbar": {
             "outlinewidth": 0,
             "ticks": ""
            },
            "colorscale": [
             [
              0,
              "#0d0887"
             ],
             [
              0.1111111111111111,
              "#46039f"
             ],
             [
              0.2222222222222222,
              "#7201a8"
             ],
             [
              0.3333333333333333,
              "#9c179e"
             ],
             [
              0.4444444444444444,
              "#bd3786"
             ],
             [
              0.5555555555555556,
              "#d8576b"
             ],
             [
              0.6666666666666666,
              "#ed7953"
             ],
             [
              0.7777777777777778,
              "#fb9f3a"
             ],
             [
              0.8888888888888888,
              "#fdca26"
             ],
             [
              1,
              "#f0f921"
             ]
            ],
            "type": "surface"
           }
          ],
          "table": [
           {
            "cells": {
             "fill": {
              "color": "#EBF0F8"
             },
             "line": {
              "color": "white"
             }
            },
            "header": {
             "fill": {
              "color": "#C8D4E3"
             },
             "line": {
              "color": "white"
             }
            },
            "type": "table"
           }
          ]
         },
         "layout": {
          "annotationdefaults": {
           "arrowcolor": "#2a3f5f",
           "arrowhead": 0,
           "arrowwidth": 1
          },
          "autotypenumbers": "strict",
          "coloraxis": {
           "colorbar": {
            "outlinewidth": 0,
            "ticks": ""
           }
          },
          "colorscale": {
           "diverging": [
            [
             0,
             "#8e0152"
            ],
            [
             0.1,
             "#c51b7d"
            ],
            [
             0.2,
             "#de77ae"
            ],
            [
             0.3,
             "#f1b6da"
            ],
            [
             0.4,
             "#fde0ef"
            ],
            [
             0.5,
             "#f7f7f7"
            ],
            [
             0.6,
             "#e6f5d0"
            ],
            [
             0.7,
             "#b8e186"
            ],
            [
             0.8,
             "#7fbc41"
            ],
            [
             0.9,
             "#4d9221"
            ],
            [
             1,
             "#276419"
            ]
           ],
           "sequential": [
            [
             0,
             "#0d0887"
            ],
            [
             0.1111111111111111,
             "#46039f"
            ],
            [
             0.2222222222222222,
             "#7201a8"
            ],
            [
             0.3333333333333333,
             "#9c179e"
            ],
            [
             0.4444444444444444,
             "#bd3786"
            ],
            [
             0.5555555555555556,
             "#d8576b"
            ],
            [
             0.6666666666666666,
             "#ed7953"
            ],
            [
             0.7777777777777778,
             "#fb9f3a"
            ],
            [
             0.8888888888888888,
             "#fdca26"
            ],
            [
             1,
             "#f0f921"
            ]
           ],
           "sequentialminus": [
            [
             0,
             "#0d0887"
            ],
            [
             0.1111111111111111,
             "#46039f"
            ],
            [
             0.2222222222222222,
             "#7201a8"
            ],
            [
             0.3333333333333333,
             "#9c179e"
            ],
            [
             0.4444444444444444,
             "#bd3786"
            ],
            [
             0.5555555555555556,
             "#d8576b"
            ],
            [
             0.6666666666666666,
             "#ed7953"
            ],
            [
             0.7777777777777778,
             "#fb9f3a"
            ],
            [
             0.8888888888888888,
             "#fdca26"
            ],
            [
             1,
             "#f0f921"
            ]
           ]
          },
          "colorway": [
           "#636efa",
           "#EF553B",
           "#00cc96",
           "#ab63fa",
           "#FFA15A",
           "#19d3f3",
           "#FF6692",
           "#B6E880",
           "#FF97FF",
           "#FECB52"
          ],
          "font": {
           "color": "#2a3f5f"
          },
          "geo": {
           "bgcolor": "white",
           "lakecolor": "white",
           "landcolor": "#E5ECF6",
           "showlakes": true,
           "showland": true,
           "subunitcolor": "white"
          },
          "hoverlabel": {
           "align": "left"
          },
          "hovermode": "closest",
          "mapbox": {
           "style": "light"
          },
          "paper_bgcolor": "white",
          "plot_bgcolor": "#E5ECF6",
          "polar": {
           "angularaxis": {
            "gridcolor": "white",
            "linecolor": "white",
            "ticks": ""
           },
           "bgcolor": "#E5ECF6",
           "radialaxis": {
            "gridcolor": "white",
            "linecolor": "white",
            "ticks": ""
           }
          },
          "scene": {
           "xaxis": {
            "backgroundcolor": "#E5ECF6",
            "gridcolor": "white",
            "gridwidth": 2,
            "linecolor": "white",
            "showbackground": true,
            "ticks": "",
            "zerolinecolor": "white"
           },
           "yaxis": {
            "backgroundcolor": "#E5ECF6",
            "gridcolor": "white",
            "gridwidth": 2,
            "linecolor": "white",
            "showbackground": true,
            "ticks": "",
            "zerolinecolor": "white"
           },
           "zaxis": {
            "backgroundcolor": "#E5ECF6",
            "gridcolor": "white",
            "gridwidth": 2,
            "linecolor": "white",
            "showbackground": true,
            "ticks": "",
            "zerolinecolor": "white"
           }
          },
          "shapedefaults": {
           "line": {
            "color": "#2a3f5f"
           }
          },
          "ternary": {
           "aaxis": {
            "gridcolor": "white",
            "linecolor": "white",
            "ticks": ""
           },
           "baxis": {
            "gridcolor": "white",
            "linecolor": "white",
            "ticks": ""
           },
           "bgcolor": "#E5ECF6",
           "caxis": {
            "gridcolor": "white",
            "linecolor": "white",
            "ticks": ""
           }
          },
          "title": {
           "x": 0.05
          },
          "xaxis": {
           "automargin": true,
           "gridcolor": "white",
           "linecolor": "white",
           "ticks": "",
           "title": {
            "standoff": 15
           },
           "zerolinecolor": "white",
           "zerolinewidth": 2
          },
          "yaxis": {
           "automargin": true,
           "gridcolor": "white",
           "linecolor": "white",
           "ticks": "",
           "title": {
            "standoff": 15
           },
           "zerolinecolor": "white",
           "zerolinewidth": 2
          }
         }
        },
        "title": {
         "text": "penta_F",
         "x": 0.5,
         "xanchor": "center",
         "y": 0.9,
         "yanchor": "top"
        },
        "updatemenus": [
         {
          "buttons": [
           {
            "args": [
             {
              "scene.annotations": [
               {
                "font": {
                 "color": "blue"
                },
                "showarrow": false,
                "text": "1",
                "x": -1.368529,
                "y": 0.096822,
                "yshift": 15,
                "z": 1.086729
               },
               {
                "font": {
                 "color": "blue"
                },
                "showarrow": false,
                "text": "2",
                "x": -1.381352,
                "y": -0.040679,
                "yshift": 15,
                "z": -0.26671
               },
               {
                "font": {
                 "color": "blue"
                },
                "showarrow": false,
                "text": "3",
                "x": -2.357084,
                "y": -0.073741,
                "yshift": 15,
                "z": 1.763108
               },
               {
                "font": {
                 "color": "blue"
                },
                "showarrow": false,
                "text": "4",
                "x": -0.0447,
                "y": 0.499434,
                "yshift": 15,
                "z": 1.729245
               },
               {
                "font": {
                 "color": "blue"
                },
                "showarrow": false,
                "text": "5",
                "x": -0.130814,
                "y": 1.559509,
                "yshift": 15,
                "z": 1.968499
               },
               {
                "font": {
                 "color": "blue"
                },
                "showarrow": false,
                "text": "6",
                "x": 0.006648,
                "y": -0.045767,
                "yshift": 15,
                "z": 2.670924
               },
               {
                "font": {
                 "color": "blue"
                },
                "showarrow": false,
                "text": "7",
                "x": 1.189147,
                "y": 0.254788,
                "yshift": 15,
                "z": 0.911427
               },
               {
                "font": {
                 "color": "blue"
                },
                "showarrow": false,
                "text": "8",
                "x": 1.638692,
                "y": -1.038664,
                "yshift": 15,
                "z": 0.68005
               },
               {
                "font": {
                 "color": "blue"
                },
                "showarrow": false,
                "text": "9",
                "x": 1.930277,
                "y": 1.285071,
                "yshift": 15,
                "z": 0.352416
               },
               {
                "font": {
                 "color": "blue"
                },
                "showarrow": false,
                "text": "10",
                "x": 2.772258,
                "y": -1.306718,
                "yshift": 15,
                "z": -0.064054
               },
               {
                "font": {
                 "color": "blue"
                },
                "showarrow": false,
                "text": "11",
                "x": 0.958203,
                "y": -2.061024,
                "yshift": 15,
                "z": 1.191338
               },
               {
                "font": {
                 "color": "blue"
                },
                "showarrow": false,
                "text": "12",
                "x": 3.071866,
                "y": 1.048617,
                "yshift": 15,
                "z": -0.397494
               },
               {
                "font": {
                 "color": "blue"
                },
                "showarrow": false,
                "text": "13",
                "x": 1.554435,
                "y": 2.547993,
                "yshift": 15,
                "z": 0.533789
               },
               {
                "font": {
                 "color": "blue"
                },
                "showarrow": false,
                "text": "14",
                "x": 3.492326,
                "y": -0.253089,
                "yshift": 15,
                "z": -0.605508
               },
               {
                "font": {
                 "color": "blue"
                },
                "showarrow": false,
                "text": "15",
                "x": 3.173499,
                "y": -2.553307,
                "yshift": 15,
                "z": -0.264268
               },
               {
                "font": {
                 "color": "blue"
                },
                "showarrow": false,
                "text": "16",
                "x": 3.759826,
                "y": 2.056132,
                "yshift": 15,
                "z": -0.913406
               },
               {
                "font": {
                 "color": "blue"
                },
                "showarrow": false,
                "text": "17",
                "x": 4.578577,
                "y": -0.493052,
                "yshift": 15,
                "z": -1.320562
               },
               {
                "font": {
                 "color": "blue"
                },
                "showarrow": false,
                "text": "18",
                "x": -0.577519,
                "y": 0.257961,
                "yshift": 15,
                "z": -0.792019
               },
               {
                "font": {
                 "color": "blue"
                },
                "showarrow": false,
                "text": "19",
                "x": -2.63313,
                "y": -0.212928,
                "yshift": 15,
                "z": -0.957105
               },
               {
                "font": {
                 "color": "blue"
                },
                "showarrow": false,
                "text": "20",
                "x": -3.387802,
                "y": -1.513733,
                "yshift": 15,
                "z": -0.699768
               },
               {
                "font": {
                 "color": "blue"
                },
                "showarrow": false,
                "text": "21",
                "x": -2.443428,
                "y": -0.085152,
                "yshift": 15,
                "z": -2.025054
               },
               {
                "font": {
                 "color": "blue"
                },
                "showarrow": false,
                "text": "22",
                "x": -4.840583,
                "y": -1.071994,
                "yshift": 15,
                "z": -0.885876
               },
               {
                "font": {
                 "color": "blue"
                },
                "showarrow": false,
                "text": "23",
                "x": -3.213723,
                "y": -1.834314,
                "yshift": 15,
                "z": 0.324219
               },
               {
                "font": {
                 "color": "blue"
                },
                "showarrow": false,
                "text": "24",
                "x": -3.108582,
                "y": -2.312186,
                "yshift": 15,
                "z": -1.383266
               },
               {
                "font": {
                 "color": "blue"
                },
                "showarrow": false,
                "text": "25",
                "x": -5.177459,
                "y": -1.187527,
                "yshift": 15,
                "z": -1.917873
               },
               {
                "font": {
                 "color": "blue"
                },
                "showarrow": false,
                "text": "26",
                "x": -5.534976,
                "y": -1.584093,
                "yshift": 15,
                "z": -0.225032
               },
               {
                "font": {
                 "color": "blue"
                },
                "showarrow": false,
                "text": "27",
                "x": -3.655753,
                "y": 0.866796,
                "yshift": 15,
                "z": -0.573473
               },
               {
                "font": {
                 "color": "blue"
                },
                "showarrow": false,
                "text": "28",
                "x": -4.881678,
                "y": 0.323933,
                "yshift": 15,
                "z": -0.559358
               },
               {
                "font": {
                 "color": "blue"
                },
                "showarrow": false,
                "text": "29",
                "x": -3.430734,
                "y": 2.014711,
                "yshift": 15,
                "z": -0.360623
               }
              ]
             }
            ],
            "label": "Atom indices",
            "method": "relayout"
           },
           {
            "args": [
             {
              "scene.annotations": [
               {
                "showarrow": false,
                "text": "1.36",
                "x": -1.3749405000000001,
                "y": 0.028071500000000003,
                "yshift": 10,
                "z": 0.4100095
               },
               {
                "showarrow": false,
                "text": "1.09",
                "x": -0.087757,
                "y": 1.0294715,
                "yshift": 10,
                "z": 1.848872
               },
               {
                "showarrow": false,
                "text": "1.39",
                "x": 1.4139195,
                "y": -0.391938,
                "yshift": 10,
                "z": 0.7957385
               },
               {
                "showarrow": false,
                "text": "1.53",
                "x": -3.010466,
                "y": -0.8633305,
                "yshift": 10,
                "z": -0.8284365
               },
               {
                "showarrow": false,
                "text": "1.34",
                "x": -4.2687155,
                "y": 0.5953645000000001,
                "yshift": 10,
                "z": -0.5664155
               },
               {
                "showarrow": false,
                "text": "1.21",
                "x": -1.8628065,
                "y": 0.011540500000000002,
                "yshift": 10,
                "z": 1.4249185
               },
               {
                "showarrow": false,
                "text": "1.09",
                "x": -0.019025999999999998,
                "y": 0.2268335,
                "yshift": 10,
                "z": 2.2000845
               },
               {
                "showarrow": false,
                "text": "1.39",
                "x": 1.559712,
                "y": 0.7699295,
                "yshift": 10,
                "z": 0.6319215
               },
               {
                "showarrow": false,
                "text": "1.38",
                "x": 2.205475,
                "y": -1.172691,
                "yshift": 10,
                "z": 0.307998
               },
               {
                "showarrow": false,
                "text": "1.38",
                "x": 3.282096,
                "y": 0.39776399999999995,
                "yshift": 10,
                "z": -0.501501
               },
               {
                "showarrow": false,
                "text": "1.09",
                "x": -2.538279,
                "y": -0.14904,
                "yshift": 10,
                "z": -1.4910795
               },
               {
                "showarrow": false,
                "text": "1.53",
                "x": -4.1141925,
                "y": -1.2928635,
                "yshift": 10,
                "z": -0.7928219999999999
               },
               {
                "showarrow": false,
                "text": "1.19",
                "x": -3.5432435,
                "y": 1.4407535,
                "yshift": 10,
                "z": -0.467048
               },
               {
                "showarrow": false,
                "text": "1.53",
                "x": -0.7066145,
                "y": 0.298128,
                "yshift": 10,
                "z": 1.4079869999999999
               },
               {
                "showarrow": false,
                "text": "1.5",
                "x": 0.5722235,
                "y": 0.377111,
                "yshift": 10,
                "z": 1.320336
               },
               {
                "showarrow": false,
                "text": "1.33",
                "x": 1.2984475,
                "y": -1.5498440000000002,
                "yshift": 10,
                "z": 0.935694
               },
               {
                "showarrow": false,
                "text": "1.39",
                "x": 2.5010715,
                "y": 1.166844,
                "yshift": 10,
                "z": -0.022539000000000003
               },
               {
                "showarrow": false,
                "text": "1.32",
                "x": 4.0354515,
                "y": -0.37307049999999997,
                "yshift": 10,
                "z": -0.9630350000000001
               },
               {
                "showarrow": false,
                "text": "1.09",
                "x": -3.3007625000000003,
                "y": -1.6740235,
                "yshift": 10,
                "z": -0.18777449999999998
               },
               {
                "showarrow": false,
                "text": "1.09",
                "x": -5.009021,
                "y": -1.1297605,
                "yshift": 10,
                "z": -1.4018745
               },
               {
                "showarrow": false,
                "text": "1.33",
                "x": 1.742356,
                "y": 1.9165320000000001,
                "yshift": 10,
                "z": 0.44310249999999995
               },
               {
                "showarrow": false,
                "text": "1.39",
                "x": 3.1322919999999996,
                "y": -0.7799035000000001,
                "yshift": 10,
                "z": -0.334781
               },
               {
                "showarrow": false,
                "text": "1.32",
                "x": 3.415846,
                "y": 1.5523745,
                "yshift": 10,
                "z": -0.6554500000000001
               },
               {
                "showarrow": false,
                "text": "1.09",
                "x": -3.2481920000000004,
                "y": -1.9129595,
                "yshift": 10,
                "z": -1.041517
               },
               {
                "showarrow": false,
                "text": "1.09",
                "x": -5.1877794999999995,
                "y": -1.3280435,
                "yshift": 10,
                "z": -0.555454
               },
               {
                "showarrow": false,
                "text": "1.32",
                "x": 2.9728785,
                "y": -1.9300125000000001,
                "yshift": 10,
                "z": -0.164161
               },
               {
                "showarrow": false,
                "text": "1.43",
                "x": -4.8611305,
                "y": -0.37403049999999993,
                "yshift": 10,
                "z": -0.7226170000000001
               },
               {
                "showarrow": false,
                "text": "1.54",
                "x": -3.1444415,
                "y": 0.326934,
                "yshift": 10,
                "z": -0.765289
               },
               {
                "showarrow": false,
                "text": "1.44",
                "x": -2.007241,
                "y": -0.1268035,
                "yshift": 10,
                "z": -0.6119075
               },
               {
                "showarrow": false,
                "text": "1.01",
                "x": -0.9794354999999999,
                "y": 0.108641,
                "yshift": 10,
                "z": -0.5293645
               }
              ]
             }
            ],
            "label": "Bond lengths",
            "method": "relayout"
           },
           {
            "args": [
             {
              "scene.annotations": [
               {
                "font": {
                 "color": "blue"
                },
                "showarrow": false,
                "text": "1",
                "x": -1.368529,
                "y": 0.096822,
                "yshift": 15,
                "z": 1.086729
               },
               {
                "font": {
                 "color": "blue"
                },
                "showarrow": false,
                "text": "2",
                "x": -1.381352,
                "y": -0.040679,
                "yshift": 15,
                "z": -0.26671
               },
               {
                "font": {
                 "color": "blue"
                },
                "showarrow": false,
                "text": "3",
                "x": -2.357084,
                "y": -0.073741,
                "yshift": 15,
                "z": 1.763108
               },
               {
                "font": {
                 "color": "blue"
                },
                "showarrow": false,
                "text": "4",
                "x": -0.0447,
                "y": 0.499434,
                "yshift": 15,
                "z": 1.729245
               },
               {
                "font": {
                 "color": "blue"
                },
                "showarrow": false,
                "text": "5",
                "x": -0.130814,
                "y": 1.559509,
                "yshift": 15,
                "z": 1.968499
               },
               {
                "font": {
                 "color": "blue"
                },
                "showarrow": false,
                "text": "6",
                "x": 0.006648,
                "y": -0.045767,
                "yshift": 15,
                "z": 2.670924
               },
               {
                "font": {
                 "color": "blue"
                },
                "showarrow": false,
                "text": "7",
                "x": 1.189147,
                "y": 0.254788,
                "yshift": 15,
                "z": 0.911427
               },
               {
                "font": {
                 "color": "blue"
                },
                "showarrow": false,
                "text": "8",
                "x": 1.638692,
                "y": -1.038664,
                "yshift": 15,
                "z": 0.68005
               },
               {
                "font": {
                 "color": "blue"
                },
                "showarrow": false,
                "text": "9",
                "x": 1.930277,
                "y": 1.285071,
                "yshift": 15,
                "z": 0.352416
               },
               {
                "font": {
                 "color": "blue"
                },
                "showarrow": false,
                "text": "10",
                "x": 2.772258,
                "y": -1.306718,
                "yshift": 15,
                "z": -0.064054
               },
               {
                "font": {
                 "color": "blue"
                },
                "showarrow": false,
                "text": "11",
                "x": 0.958203,
                "y": -2.061024,
                "yshift": 15,
                "z": 1.191338
               },
               {
                "font": {
                 "color": "blue"
                },
                "showarrow": false,
                "text": "12",
                "x": 3.071866,
                "y": 1.048617,
                "yshift": 15,
                "z": -0.397494
               },
               {
                "font": {
                 "color": "blue"
                },
                "showarrow": false,
                "text": "13",
                "x": 1.554435,
                "y": 2.547993,
                "yshift": 15,
                "z": 0.533789
               },
               {
                "font": {
                 "color": "blue"
                },
                "showarrow": false,
                "text": "14",
                "x": 3.492326,
                "y": -0.253089,
                "yshift": 15,
                "z": -0.605508
               },
               {
                "font": {
                 "color": "blue"
                },
                "showarrow": false,
                "text": "15",
                "x": 3.173499,
                "y": -2.553307,
                "yshift": 15,
                "z": -0.264268
               },
               {
                "font": {
                 "color": "blue"
                },
                "showarrow": false,
                "text": "16",
                "x": 3.759826,
                "y": 2.056132,
                "yshift": 15,
                "z": -0.913406
               },
               {
                "font": {
                 "color": "blue"
                },
                "showarrow": false,
                "text": "17",
                "x": 4.578577,
                "y": -0.493052,
                "yshift": 15,
                "z": -1.320562
               },
               {
                "font": {
                 "color": "blue"
                },
                "showarrow": false,
                "text": "18",
                "x": -0.577519,
                "y": 0.257961,
                "yshift": 15,
                "z": -0.792019
               },
               {
                "font": {
                 "color": "blue"
                },
                "showarrow": false,
                "text": "19",
                "x": -2.63313,
                "y": -0.212928,
                "yshift": 15,
                "z": -0.957105
               },
               {
                "font": {
                 "color": "blue"
                },
                "showarrow": false,
                "text": "20",
                "x": -3.387802,
                "y": -1.513733,
                "yshift": 15,
                "z": -0.699768
               },
               {
                "font": {
                 "color": "blue"
                },
                "showarrow": false,
                "text": "21",
                "x": -2.443428,
                "y": -0.085152,
                "yshift": 15,
                "z": -2.025054
               },
               {
                "font": {
                 "color": "blue"
                },
                "showarrow": false,
                "text": "22",
                "x": -4.840583,
                "y": -1.071994,
                "yshift": 15,
                "z": -0.885876
               },
               {
                "font": {
                 "color": "blue"
                },
                "showarrow": false,
                "text": "23",
                "x": -3.213723,
                "y": -1.834314,
                "yshift": 15,
                "z": 0.324219
               },
               {
                "font": {
                 "color": "blue"
                },
                "showarrow": false,
                "text": "24",
                "x": -3.108582,
                "y": -2.312186,
                "yshift": 15,
                "z": -1.383266
               },
               {
                "font": {
                 "color": "blue"
                },
                "showarrow": false,
                "text": "25",
                "x": -5.177459,
                "y": -1.187527,
                "yshift": 15,
                "z": -1.917873
               },
               {
                "font": {
                 "color": "blue"
                },
                "showarrow": false,
                "text": "26",
                "x": -5.534976,
                "y": -1.584093,
                "yshift": 15,
                "z": -0.225032
               },
               {
                "font": {
                 "color": "blue"
                },
                "showarrow": false,
                "text": "27",
                "x": -3.655753,
                "y": 0.866796,
                "yshift": 15,
                "z": -0.573473
               },
               {
                "font": {
                 "color": "blue"
                },
                "showarrow": false,
                "text": "28",
                "x": -4.881678,
                "y": 0.323933,
                "yshift": 15,
                "z": -0.559358
               },
               {
                "font": {
                 "color": "blue"
                },
                "showarrow": false,
                "text": "29",
                "x": -3.430734,
                "y": 2.014711,
                "yshift": 15,
                "z": -0.360623
               },
               {
                "showarrow": false,
                "text": "1.36",
                "x": -1.3749405000000001,
                "y": 0.028071500000000003,
                "yshift": 10,
                "z": 0.4100095
               },
               {
                "showarrow": false,
                "text": "1.09",
                "x": -0.087757,
                "y": 1.0294715,
                "yshift": 10,
                "z": 1.848872
               },
               {
                "showarrow": false,
                "text": "1.39",
                "x": 1.4139195,
                "y": -0.391938,
                "yshift": 10,
                "z": 0.7957385
               },
               {
                "showarrow": false,
                "text": "1.53",
                "x": -3.010466,
                "y": -0.8633305,
                "yshift": 10,
                "z": -0.8284365
               },
               {
                "showarrow": false,
                "text": "1.34",
                "x": -4.2687155,
                "y": 0.5953645000000001,
                "yshift": 10,
                "z": -0.5664155
               },
               {
                "showarrow": false,
                "text": "1.21",
                "x": -1.8628065,
                "y": 0.011540500000000002,
                "yshift": 10,
                "z": 1.4249185
               },
               {
                "showarrow": false,
                "text": "1.09",
                "x": -0.019025999999999998,
                "y": 0.2268335,
                "yshift": 10,
                "z": 2.2000845
               },
               {
                "showarrow": false,
                "text": "1.39",
                "x": 1.559712,
                "y": 0.7699295,
                "yshift": 10,
                "z": 0.6319215
               },
               {
                "showarrow": false,
                "text": "1.38",
                "x": 2.205475,
                "y": -1.172691,
                "yshift": 10,
                "z": 0.307998
               },
               {
                "showarrow": false,
                "text": "1.38",
                "x": 3.282096,
                "y": 0.39776399999999995,
                "yshift": 10,
                "z": -0.501501
               },
               {
                "showarrow": false,
                "text": "1.09",
                "x": -2.538279,
                "y": -0.14904,
                "yshift": 10,
                "z": -1.4910795
               },
               {
                "showarrow": false,
                "text": "1.53",
                "x": -4.1141925,
                "y": -1.2928635,
                "yshift": 10,
                "z": -0.7928219999999999
               },
               {
                "showarrow": false,
                "text": "1.19",
                "x": -3.5432435,
                "y": 1.4407535,
                "yshift": 10,
                "z": -0.467048
               },
               {
                "showarrow": false,
                "text": "1.53",
                "x": -0.7066145,
                "y": 0.298128,
                "yshift": 10,
                "z": 1.4079869999999999
               },
               {
                "showarrow": false,
                "text": "1.5",
                "x": 0.5722235,
                "y": 0.377111,
                "yshift": 10,
                "z": 1.320336
               },
               {
                "showarrow": false,
                "text": "1.33",
                "x": 1.2984475,
                "y": -1.5498440000000002,
                "yshift": 10,
                "z": 0.935694
               },
               {
                "showarrow": false,
                "text": "1.39",
                "x": 2.5010715,
                "y": 1.166844,
                "yshift": 10,
                "z": -0.022539000000000003
               },
               {
                "showarrow": false,
                "text": "1.32",
                "x": 4.0354515,
                "y": -0.37307049999999997,
                "yshift": 10,
                "z": -0.9630350000000001
               },
               {
                "showarrow": false,
                "text": "1.09",
                "x": -3.3007625000000003,
                "y": -1.6740235,
                "yshift": 10,
                "z": -0.18777449999999998
               },
               {
                "showarrow": false,
                "text": "1.09",
                "x": -5.009021,
                "y": -1.1297605,
                "yshift": 10,
                "z": -1.4018745
               },
               {
                "showarrow": false,
                "text": "1.33",
                "x": 1.742356,
                "y": 1.9165320000000001,
                "yshift": 10,
                "z": 0.44310249999999995
               },
               {
                "showarrow": false,
                "text": "1.39",
                "x": 3.1322919999999996,
                "y": -0.7799035000000001,
                "yshift": 10,
                "z": -0.334781
               },
               {
                "showarrow": false,
                "text": "1.32",
                "x": 3.415846,
                "y": 1.5523745,
                "yshift": 10,
                "z": -0.6554500000000001
               },
               {
                "showarrow": false,
                "text": "1.09",
                "x": -3.2481920000000004,
                "y": -1.9129595,
                "yshift": 10,
                "z": -1.041517
               },
               {
                "showarrow": false,
                "text": "1.09",
                "x": -5.1877794999999995,
                "y": -1.3280435,
                "yshift": 10,
                "z": -0.555454
               },
               {
                "showarrow": false,
                "text": "1.32",
                "x": 2.9728785,
                "y": -1.9300125000000001,
                "yshift": 10,
                "z": -0.164161
               },
               {
                "showarrow": false,
                "text": "1.43",
                "x": -4.8611305,
                "y": -0.37403049999999993,
                "yshift": 10,
                "z": -0.7226170000000001
               },
               {
                "showarrow": false,
                "text": "1.54",
                "x": -3.1444415,
                "y": 0.326934,
                "yshift": 10,
                "z": -0.765289
               },
               {
                "showarrow": false,
                "text": "1.44",
                "x": -2.007241,
                "y": -0.1268035,
                "yshift": 10,
                "z": -0.6119075
               },
               {
                "showarrow": false,
                "text": "1.01",
                "x": -0.9794354999999999,
                "y": 0.108641,
                "yshift": 10,
                "z": -0.5293645
               }
              ]
             }
            ],
            "label": "Both",
            "method": "relayout"
           },
           {
            "args": [
             {
              "scene.annotations": []
             }
            ],
            "label": "Hide all",
            "method": "relayout"
           },
           {
            "args": [
             {
              "visible": [
               true,
               true,
               true,
               true,
               true,
               true,
               true,
               true,
               true,
               true
              ]
             },
             {}
            ],
            "label": "Show dipole",
            "method": "update"
           },
           {
            "args": [
             {
              "visible": [
               true,
               true,
               false,
               false,
               false,
               false,
               false,
               false,
               false,
               false
              ]
             },
             {}
            ],
            "label": "Hide dipole",
            "method": "update"
           }
          ],
          "direction": "down",
          "xanchor": "left",
          "yanchor": "top"
         }
        ]
       }
      }
     },
     "metadata": {},
     "output_type": "display_data"
    }
   ],
   "source": [
    "mols.visualize_molecules([11])"
   ]
  },
  {
   "cell_type": "markdown",
   "metadata": {},
   "source": [
    "Some examples of methods  : use the molecule's atom indices to extract relavent features "
   ]
  },
  {
   "cell_type": "code",
   "execution_count": 16,
   "metadata": {},
   "outputs": [
    {
     "data": {
      "text/html": [
       "<div>\n",
       "<style scoped>\n",
       "    .dataframe tbody tr th:only-of-type {\n",
       "        vertical-align: middle;\n",
       "    }\n",
       "\n",
       "    .dataframe tbody tr th {\n",
       "        vertical-align: top;\n",
       "    }\n",
       "\n",
       "    .dataframe thead th {\n",
       "        text-align: right;\n",
       "    }\n",
       "</style>\n",
       "<table border=\"1\" class=\"dataframe\">\n",
       "  <thead>\n",
       "    <tr style=\"text-align: right;\">\n",
       "      <th></th>\n",
       "      <th>cross</th>\n",
       "      <th>cross_angle</th>\n",
       "      <th>para</th>\n",
       "      <th>para_angle</th>\n",
       "    </tr>\n",
       "  </thead>\n",
       "  <tbody>\n",
       "    <tr>\n",
       "      <th>basic</th>\n",
       "      <td>1657.1445</td>\n",
       "      <td>28.914133</td>\n",
       "      <td>1680.2718</td>\n",
       "      <td>60.763308</td>\n",
       "    </tr>\n",
       "    <tr>\n",
       "      <th>m_Br</th>\n",
       "      <td>1641.5631</td>\n",
       "      <td>33.597172</td>\n",
       "      <td>1669.3498</td>\n",
       "      <td>54.571698</td>\n",
       "    </tr>\n",
       "    <tr>\n",
       "      <th>m_Cl</th>\n",
       "      <td>1647.6226</td>\n",
       "      <td>28.129027</td>\n",
       "      <td>1672.1898</td>\n",
       "      <td>60.369503</td>\n",
       "    </tr>\n",
       "    <tr>\n",
       "      <th>m_F</th>\n",
       "      <td>1667.7992</td>\n",
       "      <td>29.639712</td>\n",
       "      <td>1687.4749</td>\n",
       "      <td>58.569790</td>\n",
       "    </tr>\n",
       "    <tr>\n",
       "      <th>m_I</th>\n",
       "      <td>1635.9083</td>\n",
       "      <td>33.982134</td>\n",
       "      <td>1665.1876</td>\n",
       "      <td>54.884821</td>\n",
       "    </tr>\n",
       "    <tr>\n",
       "      <th>m_nitro</th>\n",
       "      <td>1652.8928</td>\n",
       "      <td>29.943044</td>\n",
       "      <td>1670.1614</td>\n",
       "      <td>74.902394</td>\n",
       "    </tr>\n",
       "    <tr>\n",
       "      <th>o_Br</th>\n",
       "      <td>1640.9503</td>\n",
       "      <td>33.934871</td>\n",
       "      <td>1667.6032</td>\n",
       "      <td>55.686555</td>\n",
       "    </tr>\n",
       "    <tr>\n",
       "      <th>o_Cl</th>\n",
       "      <td>1644.3875</td>\n",
       "      <td>36.610454</td>\n",
       "      <td>1669.8139</td>\n",
       "      <td>51.566367</td>\n",
       "    </tr>\n",
       "    <tr>\n",
       "      <th>o_F</th>\n",
       "      <td>1661.2122</td>\n",
       "      <td>22.318641</td>\n",
       "      <td>1690.3239</td>\n",
       "      <td>67.050090</td>\n",
       "    </tr>\n",
       "    <tr>\n",
       "      <th>o_I</th>\n",
       "      <td>1636.0173</td>\n",
       "      <td>33.122575</td>\n",
       "      <td>1662.2976</td>\n",
       "      <td>55.376466</td>\n",
       "    </tr>\n",
       "    <tr>\n",
       "      <th>o_nitro</th>\n",
       "      <td>1660.5135</td>\n",
       "      <td>18.814968</td>\n",
       "      <td>1697.3010</td>\n",
       "      <td>66.554412</td>\n",
       "    </tr>\n",
       "    <tr>\n",
       "      <th>penta_F</th>\n",
       "      <td>1705.8671</td>\n",
       "      <td>24.537430</td>\n",
       "      <td>1721.7035</td>\n",
       "      <td>64.060140</td>\n",
       "    </tr>\n",
       "    <tr>\n",
       "      <th>p_amine</th>\n",
       "      <td>1650.7953</td>\n",
       "      <td>25.557985</td>\n",
       "      <td>1695.0942</td>\n",
       "      <td>61.443251</td>\n",
       "    </tr>\n",
       "    <tr>\n",
       "      <th>p_azide</th>\n",
       "      <td>1646.5686</td>\n",
       "      <td>21.144995</td>\n",
       "      <td>1686.1110</td>\n",
       "      <td>69.023587</td>\n",
       "    </tr>\n",
       "    <tr>\n",
       "      <th>p_boc</th>\n",
       "      <td>1655.0745</td>\n",
       "      <td>28.863077</td>\n",
       "      <td>1690.6121</td>\n",
       "      <td>59.982045</td>\n",
       "    </tr>\n",
       "    <tr>\n",
       "      <th>p_Br</th>\n",
       "      <td>1643.5925</td>\n",
       "      <td>25.771415</td>\n",
       "      <td>1667.2775</td>\n",
       "      <td>64.083145</td>\n",
       "    </tr>\n",
       "    <tr>\n",
       "      <th>p_Cl</th>\n",
       "      <td>1644.9732</td>\n",
       "      <td>27.668491</td>\n",
       "      <td>1673.7923</td>\n",
       "      <td>61.811124</td>\n",
       "    </tr>\n",
       "    <tr>\n",
       "      <th>p_F</th>\n",
       "      <td>1668.6750</td>\n",
       "      <td>28.340906</td>\n",
       "      <td>1686.7409</td>\n",
       "      <td>61.314039</td>\n",
       "    </tr>\n",
       "    <tr>\n",
       "      <th>p_I</th>\n",
       "      <td>1637.7132</td>\n",
       "      <td>24.991522</td>\n",
       "      <td>1663.9261</td>\n",
       "      <td>64.070381</td>\n",
       "    </tr>\n",
       "    <tr>\n",
       "      <th>p_Me</th>\n",
       "      <td>1647.2585</td>\n",
       "      <td>28.766590</td>\n",
       "      <td>1691.1858</td>\n",
       "      <td>60.032228</td>\n",
       "    </tr>\n",
       "    <tr>\n",
       "      <th>p_nitro</th>\n",
       "      <td>1709.1878</td>\n",
       "      <td>28.332490</td>\n",
       "      <td>1675.9797</td>\n",
       "      <td>60.094452</td>\n",
       "    </tr>\n",
       "    <tr>\n",
       "      <th>p_OEt</th>\n",
       "      <td>1650.5610</td>\n",
       "      <td>18.049549</td>\n",
       "      <td>1691.9215</td>\n",
       "      <td>70.565007</td>\n",
       "    </tr>\n",
       "    <tr>\n",
       "      <th>p_OH</th>\n",
       "      <td>1664.3776</td>\n",
       "      <td>17.467321</td>\n",
       "      <td>1692.6970</td>\n",
       "      <td>72.083606</td>\n",
       "    </tr>\n",
       "    <tr>\n",
       "      <th>p_OMe</th>\n",
       "      <td>1651.7267</td>\n",
       "      <td>19.292294</td>\n",
       "      <td>1692.9778</td>\n",
       "      <td>70.210484</td>\n",
       "    </tr>\n",
       "    <tr>\n",
       "      <th>p_Ph</th>\n",
       "      <td>1632.5792</td>\n",
       "      <td>28.096938</td>\n",
       "      <td>1687.7438</td>\n",
       "      <td>61.225194</td>\n",
       "    </tr>\n",
       "    <tr>\n",
       "      <th>p_tfm</th>\n",
       "      <td>1656.7011</td>\n",
       "      <td>32.609309</td>\n",
       "      <td>1693.8106</td>\n",
       "      <td>57.036819</td>\n",
       "    </tr>\n",
       "  </tbody>\n",
       "</table>\n",
       "</div>"
      ],
      "text/plain": [
       "             cross  cross_angle       para  para_angle\n",
       "basic    1657.1445    28.914133  1680.2718   60.763308\n",
       "m_Br     1641.5631    33.597172  1669.3498   54.571698\n",
       "m_Cl     1647.6226    28.129027  1672.1898   60.369503\n",
       "m_F      1667.7992    29.639712  1687.4749   58.569790\n",
       "m_I      1635.9083    33.982134  1665.1876   54.884821\n",
       "m_nitro  1652.8928    29.943044  1670.1614   74.902394\n",
       "o_Br     1640.9503    33.934871  1667.6032   55.686555\n",
       "o_Cl     1644.3875    36.610454  1669.8139   51.566367\n",
       "o_F      1661.2122    22.318641  1690.3239   67.050090\n",
       "o_I      1636.0173    33.122575  1662.2976   55.376466\n",
       "o_nitro  1660.5135    18.814968  1697.3010   66.554412\n",
       "penta_F  1705.8671    24.537430  1721.7035   64.060140\n",
       "p_amine  1650.7953    25.557985  1695.0942   61.443251\n",
       "p_azide  1646.5686    21.144995  1686.1110   69.023587\n",
       "p_boc    1655.0745    28.863077  1690.6121   59.982045\n",
       "p_Br     1643.5925    25.771415  1667.2775   64.083145\n",
       "p_Cl     1644.9732    27.668491  1673.7923   61.811124\n",
       "p_F      1668.6750    28.340906  1686.7409   61.314039\n",
       "p_I      1637.7132    24.991522  1663.9261   64.070381\n",
       "p_Me     1647.2585    28.766590  1691.1858   60.032228\n",
       "p_nitro  1709.1878    28.332490  1675.9797   60.094452\n",
       "p_OEt    1650.5610    18.049549  1691.9215   70.565007\n",
       "p_OH     1664.3776    17.467321  1692.6970   72.083606\n",
       "p_OMe    1651.7267    19.292294  1692.9778   70.210484\n",
       "p_Ph     1632.5792    28.096938  1687.7438   61.225194\n",
       "p_tfm    1656.7011    32.609309  1693.8106   57.036819"
      ]
     },
     "execution_count": 16,
     "metadata": {},
     "output_type": "execute_result"
    }
   ],
   "source": [
    "# Get ring vibration data for the whole set - pick one atom located on a six membered ring\n",
    "# it is recommanded to use a visualization tool to look at the vibrations \n",
    "mols.get_ring_vibration_dict([9])"
   ]
  },
  {
   "cell_type": "code",
   "execution_count": 13,
   "metadata": {},
   "outputs": [
    {
     "name": "stdout",
     "output_type": "stream",
     "text": [
      "Calculating stretch vibration for atoms [[1, 3], [27, 29]] with threshold 1500 \n",
      " Remember : ALWAYS LOOK AT THE RESULTING VIBRATION\n"
     ]
    },
    {
     "data": {
      "text/html": [
       "<div>\n",
       "<style scoped>\n",
       "    .dataframe tbody tr th:only-of-type {\n",
       "        vertical-align: middle;\n",
       "    }\n",
       "\n",
       "    .dataframe tbody tr th {\n",
       "        vertical-align: top;\n",
       "    }\n",
       "\n",
       "    .dataframe thead th {\n",
       "        text-align: right;\n",
       "    }\n",
       "</style>\n",
       "<table border=\"1\" class=\"dataframe\">\n",
       "  <thead>\n",
       "    <tr style=\"text-align: right;\">\n",
       "      <th></th>\n",
       "      <th>Frequency_Stretch_1_3</th>\n",
       "      <th>Amplitude_Stretch_1_3</th>\n",
       "      <th>Frequency_Stretch_27_29</th>\n",
       "      <th>Amplitude_Stretch_27_29</th>\n",
       "    </tr>\n",
       "  </thead>\n",
       "  <tbody>\n",
       "    <tr>\n",
       "      <th>basic</th>\n",
       "      <td>1793.7506</td>\n",
       "      <td>1.438890</td>\n",
       "      <td>1909.4094</td>\n",
       "      <td>1.615949</td>\n",
       "    </tr>\n",
       "    <tr>\n",
       "      <th>m_Br</th>\n",
       "      <td>1799.0847</td>\n",
       "      <td>1.439634</td>\n",
       "      <td>1906.3996</td>\n",
       "      <td>1.626142</td>\n",
       "    </tr>\n",
       "    <tr>\n",
       "      <th>m_Cl</th>\n",
       "      <td>1799.3747</td>\n",
       "      <td>1.434360</td>\n",
       "      <td>1906.5924</td>\n",
       "      <td>1.619606</td>\n",
       "    </tr>\n",
       "    <tr>\n",
       "      <th>m_F</th>\n",
       "      <td>1797.8717</td>\n",
       "      <td>1.427607</td>\n",
       "      <td>1907.2265</td>\n",
       "      <td>1.615867</td>\n",
       "    </tr>\n",
       "    <tr>\n",
       "      <th>m_I</th>\n",
       "      <td>1798.8023</td>\n",
       "      <td>1.433790</td>\n",
       "      <td>1907.2956</td>\n",
       "      <td>1.608402</td>\n",
       "    </tr>\n",
       "  </tbody>\n",
       "</table>\n",
       "</div>"
      ],
      "text/plain": [
       "       Frequency_Stretch_1_3  Amplitude_Stretch_1_3  Frequency_Stretch_27_29  \\\n",
       "basic              1793.7506               1.438890                1909.4094   \n",
       "m_Br               1799.0847               1.439634                1906.3996   \n",
       "m_Cl               1799.3747               1.434360                1906.5924   \n",
       "m_F                1797.8717               1.427607                1907.2265   \n",
       "m_I                1798.8023               1.433790                1907.2956   \n",
       "\n",
       "       Amplitude_Stretch_27_29  \n",
       "basic                 1.615949  \n",
       "m_Br                  1.626142  \n",
       "m_Cl                  1.619606  \n",
       "m_F                   1.615867  \n",
       "m_I                   1.608402  "
      ]
     },
     "execution_count": 13,
     "metadata": {},
     "output_type": "execute_result"
    }
   ],
   "source": [
    "mols.get_stretch_vibration_dict([[1,3],[27,29]],threshold=1500).head(5)"
   ]
  },
  {
   "cell_type": "code",
   "execution_count": 7,
   "metadata": {},
   "outputs": [
    {
     "data": {
      "image/png": "[encoded data removed]",
      "text/plain": [
       "<Figure size 800x800 with 1 Axes>"
      ]
     },
     "metadata": {},
     "output_type": "display_data"
    },
    {
     "name": "stdout",
     "output_type": "stream",
     "text": [
      "B1 B5 Plane\n"
     ]
    },
    {
     "data": {
      "text/html": [
       "<div>\n",
       "<style scoped>\n",
       "    .dataframe tbody tr th:only-of-type {\n",
       "        vertical-align: middle;\n",
       "    }\n",
       "\n",
       "    .dataframe tbody tr th {\n",
       "        vertical-align: top;\n",
       "    }\n",
       "\n",
       "    .dataframe thead th {\n",
       "        text-align: right;\n",
       "    }\n",
       "</style>\n",
       "<table border=\"1\" class=\"dataframe\">\n",
       "  <thead>\n",
       "    <tr style=\"text-align: right;\">\n",
       "      <th></th>\n",
       "      <th>B1_1-4</th>\n",
       "      <th>B5_1-4</th>\n",
       "      <th>L_1-4</th>\n",
       "      <th>loc_B5_1-4</th>\n",
       "      <th>B1_B5_angle_1-4</th>\n",
       "      <th>B1_4-1</th>\n",
       "      <th>B5_4-1</th>\n",
       "      <th>L_4-1</th>\n",
       "      <th>loc_B5_4-1</th>\n",
       "      <th>B1_B5_angle_4-1</th>\n",
       "    </tr>\n",
       "  </thead>\n",
       "  <tbody>\n",
       "    <tr>\n",
       "      <th>basic</th>\n",
       "      <td>1.8509</td>\n",
       "      <td>5.8766</td>\n",
       "      <td>5.3493</td>\n",
       "      <td>3.7970</td>\n",
       "      <td>158.6045</td>\n",
       "      <td>2.2038</td>\n",
       "      <td>3.8912</td>\n",
       "      <td>7.4167</td>\n",
       "      <td>3.3540</td>\n",
       "      <td>135.9152</td>\n",
       "    </tr>\n",
       "    <tr>\n",
       "      <th>m_Br</th>\n",
       "      <td>1.8494</td>\n",
       "      <td>5.9249</td>\n",
       "      <td>7.0545</td>\n",
       "      <td>5.1045</td>\n",
       "      <td>170.1909</td>\n",
       "      <td>2.1975</td>\n",
       "      <td>3.9004</td>\n",
       "      <td>7.4085</td>\n",
       "      <td>3.3230</td>\n",
       "      <td>135.9484</td>\n",
       "    </tr>\n",
       "    <tr>\n",
       "      <th>m_Cl</th>\n",
       "      <td>1.8495</td>\n",
       "      <td>5.8864</td>\n",
       "      <td>6.7751</td>\n",
       "      <td>3.7831</td>\n",
       "      <td>157.5289</td>\n",
       "      <td>2.1983</td>\n",
       "      <td>3.9008</td>\n",
       "      <td>7.4074</td>\n",
       "      <td>3.3256</td>\n",
       "      <td>135.9795</td>\n",
       "    </tr>\n",
       "    <tr>\n",
       "      <th>m_F</th>\n",
       "      <td>1.8498</td>\n",
       "      <td>5.8744</td>\n",
       "      <td>6.0469</td>\n",
       "      <td>3.8180</td>\n",
       "      <td>158.2491</td>\n",
       "      <td>2.2012</td>\n",
       "      <td>3.8963</td>\n",
       "      <td>7.4117</td>\n",
       "      <td>3.3352</td>\n",
       "      <td>135.9244</td>\n",
       "    </tr>\n",
       "    <tr>\n",
       "      <th>m_I</th>\n",
       "      <td>1.8496</td>\n",
       "      <td>6.3463</td>\n",
       "      <td>7.2740</td>\n",
       "      <td>5.1240</td>\n",
       "      <td>167.4796</td>\n",
       "      <td>2.1992</td>\n",
       "      <td>3.8996</td>\n",
       "      <td>7.4089</td>\n",
       "      <td>3.3236</td>\n",
       "      <td>135.9153</td>\n",
       "    </tr>\n",
       "  </tbody>\n",
       "</table>\n",
       "</div>"
      ],
      "text/plain": [
       "       B1_1-4  B5_1-4   L_1-4  loc_B5_1-4  B1_B5_angle_1-4  B1_4-1  B5_4-1  \\\n",
       "basic  1.8509  5.8766  5.3493      3.7970         158.6045  2.2038  3.8912   \n",
       "m_Br   1.8494  5.9249  7.0545      5.1045         170.1909  2.1975  3.9004   \n",
       "m_Cl   1.8495  5.8864  6.7751      3.7831         157.5289  2.1983  3.9008   \n",
       "m_F    1.8498  5.8744  6.0469      3.8180         158.2491  2.2012  3.8963   \n",
       "m_I    1.8496  6.3463  7.2740      5.1240         167.4796  2.1992  3.8996   \n",
       "\n",
       "        L_4-1  loc_B5_4-1  B1_B5_angle_4-1  \n",
       "basic  7.4167      3.3540         135.9152  \n",
       "m_Br   7.4085      3.3230         135.9484  \n",
       "m_Cl   7.4074      3.3256         135.9795  \n",
       "m_F    7.4117      3.3352         135.9244  \n",
       "m_I    7.4089      3.3236         135.9153  "
      ]
     },
     "execution_count": 7,
     "metadata": {},
     "output_type": "execute_result"
    }
   ],
   "source": [
    "# use single class Molecule by mols.molecules[0] to show sterimol for the first molecule in set \n",
    "mols.molecules[0].get_sterimol([1,4],visualize_bool=True)\n",
    "#for multiple molecules add ,visualize_bool=True after indices list to visualize sterimol on B1 B5 plane\n",
    "mols.get_sterimol_dict([[1,4],[4,1]]).head(5) \n",
    "# Notice we can extract features with a lone list [1,4] or list of lists [[1,2],[3,4],...] for multiple sites"
   ]
  },
  {
   "cell_type": "code",
   "execution_count": 18,
   "metadata": {},
   "outputs": [
    {
     "data": {
      "application/vnd.plotly.v1+json": {
       "config": {
        "plotlyServerURL": "https://plot.ly"
       },
       "data": [
        {
         "marker": {
          "color": [
           "black",
           "blue",
           "red",
           "black",
           "white",
           "white",
           "black",
           "black",
           "black",
           "black",
           "white",
           "black",
           "white",
           "black",
           "white",
           "white",
           "white",
           "white",
           "black",
           "black",
           "white",
           "black",
           "white",
           "white",
           "white",
           "white",
           "black",
           "red",
           "red"
          ],
          "line": {
           "color": "lightgray",
           "width": 2
          },
          "size": 5
         },
         "mode": "markers",
         "name": "atoms",
         "text": [
          "C",
          "N",
          "O",
          "C",
          "H",
          "H",
          "C",
          "C",
          "C",
          "C",
          "H",
          "C",
          "H",
          "C",
          "H",
          "H",
          "H",
          "H",
          "C",
          "C",
          "H",
          "C",
          "H",
          "H",
          "H",
          "H",
          "C",
          "O",
          "O"
         ],
         "type": "scatter3d",
         "x": [
          0.6241,
          0,
          0,
          2.1456,
          2.4532,
          2.4579,
          2.7762,
          3.6514,
          2.4755,
          4.2274,
          3.8885,
          3.0467,
          1.7756,
          3.9268,
          4.9102,
          2.8044,
          4.3739,
          0.5589,
          -1.4149,
          -2.3401,
          -1.6678,
          -3.5378,
          -1.8583,
          -2.6193,
          -4.2882,
          -4.0153,
          -1.8154,
          -3.0257,
          -1.192
         ],
         "y": [
          1.2137,
          0,
          2.2533,
          1.1882,
          2.1215,
          1.2416,
          0.0015,
          -0.8399,
          -0.2735,
          -1.9301,
          -0.6375,
          -1.3621,
          0.3633,
          -2.1925,
          -2.573,
          -1.5631,
          -3.0411,
          -0.81,
          -0.0722,
          0.5164,
          -1.1188,
          0.9571,
          1.3756,
          -0.2006,
          0.1696,
          1.8621,
          0.6911,
          1.2391,
          0.7671
         ],
         "z": [
          -0.0145,
          0,
          0,
          0,
          -0.4725,
          1.0454,
          -0.6796,
          -0.0015,
          -2.0149,
          -0.6426,
          1.0365,
          -2.6547,
          -2.5461,
          -1.9703,
          -0.1023,
          -3.6902,
          -2.4714,
          -0.2136,
          -0.2462,
          0.8148,
          -0.4317,
          -0.0282,
          1.2739,
          1.5835,
          -0.122,
          0.3383,
          -1.5167,
          -1.3388,
          -2.528
         ]
        },
        {
         "hoverinfo": "none",
         "line": {
          "color": "black",
          "width": 3
         },
         "mode": "lines",
         "name": "bonds",
         "type": "scatter3d",
         "x": [
          0.6241,
          0,
          null,
          2.1456,
          2.4532,
          null,
          2.7762,
          3.6514,
          null,
          -1.4149,
          -2.3401,
          null,
          -1.8154,
          -3.0257,
          null,
          0.6241,
          0,
          null,
          2.1456,
          2.4579,
          null,
          2.4755,
          2.7762,
          null,
          4.2274,
          3.6514,
          null,
          3.0467,
          3.9268,
          null,
          -1.4149,
          -1.6678,
          null,
          -2.3401,
          -3.5378,
          null,
          -1.8154,
          -1.192,
          null,
          0.6241,
          2.1456,
          null,
          2.1456,
          2.7762,
          null,
          3.8885,
          3.6514,
          null,
          2.4755,
          3.0467,
          null,
          4.3739,
          3.9268,
          null,
          -2.3401,
          -1.8583,
          null,
          -4.2882,
          -3.5378,
          null,
          2.4755,
          1.7756,
          null,
          4.2274,
          3.9268,
          null,
          3.0467,
          2.8044,
          null,
          -2.3401,
          -2.6193,
          null,
          -4.0153,
          -3.5378,
          null,
          4.2274,
          4.9102,
          null,
          -3.0257,
          -3.5378,
          null,
          -1.4149,
          -1.8154,
          null,
          0,
          -1.4149,
          null,
          0.5589,
          0,
          null
         ],
         "y": [
          1.2137,
          0,
          null,
          1.1882,
          2.1215,
          null,
          0.0015,
          -0.8399,
          null,
          -0.0722,
          0.5164,
          null,
          0.6911,
          1.2391,
          null,
          1.2137,
          2.2533,
          null,
          1.1882,
          1.2416,
          null,
          -0.2735,
          0.0015,
          null,
          -1.9301,
          -0.8399,
          null,
          -1.3621,
          -2.1925,
          null,
          -0.0722,
          -1.1188,
          null,
          0.5164,
          0.9571,
          null,
          0.6911,
          0.7671,
          null,
          1.2137,
          1.1882,
          null,
          1.1882,
          0.0015,
          null,
          -0.6375,
          -0.8399,
          null,
          -0.2735,
          -1.3621,
          null,
          -3.0411,
          -2.1925,
          null,
          0.5164,
          1.3756,
          null,
          0.1696,
          0.9571,
          null,
          -0.2735,
          0.3633,
          null,
          -1.9301,
          -2.1925,
          null,
          -1.3621,
          -1.5631,
          null,
          0.5164,
          -0.2006,
          null,
          1.8621,
          0.9571,
          null,
          -1.9301,
          -2.573,
          null,
          1.2391,
          0.9571,
          null,
          -0.0722,
          0.6911,
          null,
          0,
          -0.0722,
          null,
          -0.81,
          0,
          null
         ],
         "z": [
          -0.0145,
          0,
          null,
          0,
          -0.4725,
          null,
          -0.6796,
          -0.0015,
          null,
          -0.2462,
          0.8148,
          null,
          -1.5167,
          -1.3388,
          null,
          -0.0145,
          0,
          null,
          0,
          1.0454,
          null,
          -2.0149,
          -0.6796,
          null,
          -0.6426,
          -0.0015,
          null,
          -2.6547,
          -1.9703,
          null,
          -0.2462,
          -0.4317,
          null,
          0.8148,
          -0.0282,
          null,
          -1.5167,
          -2.528,
          null,
          -0.0145,
          0,
          null,
          0,
          -0.6796,
          null,
          1.0365,
          -0.0015,
          null,
          -2.0149,
          -2.6547,
          null,
          -2.4714,
          -1.9703,
          null,
          0.8148,
          1.2739,
          null,
          -0.122,
          -0.0282,
          null,
          -2.0149,
          -2.5461,
          null,
          -0.6426,
          -1.9703,
          null,
          -2.6547,
          -3.6902,
          null,
          0.8148,
          1.5835,
          null,
          0.3383,
          -0.0282,
          null,
          -0.6426,
          -0.1023,
          null,
          -1.3388,
          -0.0282,
          null,
          -0.2462,
          -1.5167,
          null,
          0,
          -0.2462,
          null,
          -0.2136,
          0,
          null
         ]
        },
        {
         "line": {
          "color": "red",
          "width": 8
         },
         "mode": "lines",
         "name": "Dipole X",
         "showlegend": true,
         "type": "scatter3d",
         "visible": false,
         "x": [
          0.32504,
          -3.617685900134565
         ],
         "y": [
          -1.121856,
          -1.121856
         ],
         "z": [
          -0.576925,
          -0.576925
         ]
        },
        {
         "anchor": "tip",
         "colorscale": [
          [
           0,
           "red"
          ],
          [
           1,
           "red"
          ]
         ],
         "name": "Dipole X",
         "showlegend": false,
         "showscale": false,
         "sizemode": "scaled",
         "sizeref": 0.2,
         "type": "cone",
         "u": [
          -4.092725900134565
         ],
         "v": [
          0
         ],
         "visible": false,
         "w": [
          0
         ],
         "x": [
          -3.767685900134565
         ],
         "y": [
          -1.121856
         ],
         "z": [
          -0.576925
         ]
        },
        {
         "line": {
          "color": "green",
          "width": 8
         },
         "mode": "lines",
         "name": "Dipole Y",
         "showlegend": true,
         "type": "scatter3d",
         "visible": false,
         "x": [
          0.32504,
          0.32504
         ],
         "y": [
          -1.121856,
          5.789211431127446
         ],
         "z": [
          -0.576925,
          -0.576925
         ]
        },
        {
         "anchor": "tip",
         "colorscale": [
          [
           0,
           "green"
          ],
          [
           1,
           "green"
          ]
         ],
         "name": "Dipole Y",
         "showlegend": false,
         "showscale": false,
         "sizemode": "scaled",
         "sizeref": 0.2,
         "type": "cone",
         "u": [
          0
         ],
         "v": [
          7.061067431127446
         ],
         "visible": false,
         "w": [
          0
         ],
         "x": [
          0.32504
         ],
         "y": [
          5.939211431127446
         ],
         "z": [
          -0.576925
         ]
        },
        {
         "line": {
          "color": "blue",
          "width": 8
         },
         "mode": "lines",
         "name": "Dipole Z",
         "showlegend": true,
         "type": "scatter3d",
         "visible": false,
         "x": [
          0.32504,
          0.32504
         ],
         "y": [
          -1.121856,
          -1.121856
         ],
         "z": [
          -0.576925,
          6.07508832543821
         ]
        },
        {
         "anchor": "tip",
         "colorscale": [
          [
           0,
           "blue"
          ],
          [
           1,
           "blue"
          ]
         ],
         "name": "Dipole Z",
         "showlegend": false,
         "showscale": false,
         "sizemode": "scaled",
         "sizeref": 0.2,
         "type": "cone",
         "u": [
          0
         ],
         "v": [
          0
         ],
         "visible": false,
         "w": [
          6.80201332543821
         ],
         "x": [
          0.32504
         ],
         "y": [
          -1.121856
         ],
         "z": [
          6.22508832543821
         ]
        },
        {
         "line": {
          "color": "purple",
          "width": 8
         },
         "mode": "lines",
         "name": "Total Dipole",
         "showlegend": true,
         "type": "scatter3d",
         "visible": false,
         "x": [
          0.32504,
          -3.7099026160457695
         ],
         "y": [
          -1.121856,
          5.839519520332843
         ],
         "z": [
          -0.576925,
          6.129053878482785
         ]
        },
        {
         "anchor": "tip",
         "colorscale": [
          [
           0,
           "purple"
          ],
          [
           1,
           "purple"
          ]
         ],
         "name": "Total Dipole",
         "showlegend": false,
         "showscale": false,
         "sizemode": "scaled",
         "sizeref": 0.2,
         "type": "cone",
         "u": [
          -4.092725900134565
         ],
         "v": [
          7.061067431127446
         ],
         "visible": false,
         "w": [
          6.80201332543821
         ],
         "x": [
          -3.767685900134565
         ],
         "y": [
          5.939211431127446
         ],
         "z": [
          6.22508832543821
         ]
        }
       ],
       "layout": {
        "margin": {
         "b": 0,
         "l": 0,
         "r": 0,
         "t": 0
        },
        "scene": {
         "annotations": [
          {
           "font": {
            "color": "blue"
           },
           "showarrow": false,
           "text": "1",
           "x": 0.6241,
           "y": 1.2137,
           "yshift": 15,
           "z": -0.0145
          },
          {
           "font": {
            "color": "blue"
           },
           "showarrow": false,
           "text": "2",
           "x": 0,
           "y": 0,
           "yshift": 15,
           "z": 0
          },
          {
           "font": {
            "color": "blue"
           },
           "showarrow": false,
           "text": "3",
           "x": 0,
           "y": 2.2533,
           "yshift": 15,
           "z": 0
          },
          {
           "font": {
            "color": "blue"
           },
           "showarrow": false,
           "text": "4",
           "x": 2.1456,
           "y": 1.1882,
           "yshift": 15,
           "z": 0
          },
          {
           "font": {
            "color": "blue"
           },
           "showarrow": false,
           "text": "5",
           "x": 2.4532,
           "y": 2.1215,
           "yshift": 15,
           "z": -0.4725
          },
          {
           "font": {
            "color": "blue"
           },
           "showarrow": false,
           "text": "6",
           "x": 2.4579,
           "y": 1.2416,
           "yshift": 15,
           "z": 1.0454
          },
          {
           "font": {
            "color": "blue"
           },
           "showarrow": false,
           "text": "7",
           "x": 2.7762,
           "y": 0.0015,
           "yshift": 15,
           "z": -0.6796
          },
          {
           "font": {
            "color": "blue"
           },
           "showarrow": false,
           "text": "8",
           "x": 3.6514,
           "y": -0.8399,
           "yshift": 15,
           "z": -0.0015
          },
          {
           "font": {
            "color": "blue"
           },
           "showarrow": false,
           "text": "9",
           "x": 2.4755,
           "y": -0.2735,
           "yshift": 15,
           "z": -2.0149
          },
          {
           "font": {
            "color": "blue"
           },
           "showarrow": false,
           "text": "10",
           "x": 4.2274,
           "y": -1.9301,
           "yshift": 15,
           "z": -0.6426
          },
          {
           "font": {
            "color": "blue"
           },
           "showarrow": false,
           "text": "11",
           "x": 3.8885,
           "y": -0.6375,
           "yshift": 15,
           "z": 1.0365
          },
          {
           "font": {
            "color": "blue"
           },
           "showarrow": false,
           "text": "12",
           "x": 3.0467,
           "y": -1.3621,
           "yshift": 15,
           "z": -2.6547
          },
          {
           "font": {
            "color": "blue"
           },
           "showarrow": false,
           "text": "13",
           "x": 1.7756,
           "y": 0.3633,
           "yshift": 15,
           "z": -2.5461
          },
          {
           "font": {
            "color": "blue"
           },
           "showarrow": false,
           "text": "14",
           "x": 3.9268,
           "y": -2.1925,
           "yshift": 15,
           "z": -1.9703
          },
          {
           "font": {
            "color": "blue"
           },
           "showarrow": false,
           "text": "15",
           "x": 4.9102,
           "y": -2.573,
           "yshift": 15,
           "z": -0.1023
          },
          {
           "font": {
            "color": "blue"
           },
           "showarrow": false,
           "text": "16",
           "x": 2.8044,
           "y": -1.5631,
           "yshift": 15,
           "z": -3.6902
          },
          {
           "font": {
            "color": "blue"
           },
           "showarrow": false,
           "text": "17",
           "x": 4.3739,
           "y": -3.0411,
           "yshift": 15,
           "z": -2.4714
          },
          {
           "font": {
            "color": "blue"
           },
           "showarrow": false,
           "text": "18",
           "x": 0.5589,
           "y": -0.81,
           "yshift": 15,
           "z": -0.2136
          },
          {
           "font": {
            "color": "blue"
           },
           "showarrow": false,
           "text": "19",
           "x": -1.4149,
           "y": -0.0722,
           "yshift": 15,
           "z": -0.2462
          },
          {
           "font": {
            "color": "blue"
           },
           "showarrow": false,
           "text": "20",
           "x": -2.3401,
           "y": 0.5164,
           "yshift": 15,
           "z": 0.8148
          },
          {
           "font": {
            "color": "blue"
           },
           "showarrow": false,
           "text": "21",
           "x": -1.6678,
           "y": -1.1188,
           "yshift": 15,
           "z": -0.4317
          },
          {
           "font": {
            "color": "blue"
           },
           "showarrow": false,
           "text": "22",
           "x": -3.5378,
           "y": 0.9571,
           "yshift": 15,
           "z": -0.0282
          },
          {
           "font": {
            "color": "blue"
           },
           "showarrow": false,
           "text": "23",
           "x": -1.8583,
           "y": 1.3756,
           "yshift": 15,
           "z": 1.2739
          },
          {
           "font": {
            "color": "blue"
           },
           "showarrow": false,
           "text": "24",
           "x": -2.6193,
           "y": -0.2006,
           "yshift": 15,
           "z": 1.5835
          },
          {
           "font": {
            "color": "blue"
           },
           "showarrow": false,
           "text": "25",
           "x": -4.2882,
           "y": 0.1696,
           "yshift": 15,
           "z": -0.122
          },
          {
           "font": {
            "color": "blue"
           },
           "showarrow": false,
           "text": "26",
           "x": -4.0153,
           "y": 1.8621,
           "yshift": 15,
           "z": 0.3383
          },
          {
           "font": {
            "color": "blue"
           },
           "showarrow": false,
           "text": "27",
           "x": -1.8154,
           "y": 0.6911,
           "yshift": 15,
           "z": -1.5167
          },
          {
           "font": {
            "color": "blue"
           },
           "showarrow": false,
           "text": "28",
           "x": -3.0257,
           "y": 1.2391,
           "yshift": 15,
           "z": -1.3388
          },
          {
           "font": {
            "color": "blue"
           },
           "showarrow": false,
           "text": "29",
           "x": -1.192,
           "y": 0.7671,
           "yshift": 15,
           "z": -2.528
          }
         ],
         "xaxis": {
          "showbackground": false,
          "showgrid": false,
          "showticklabels": false,
          "title": {
           "font": {
            "color": "white"
           },
           "text": "X"
          },
          "zeroline": false
         },
         "yaxis": {
          "showbackground": false,
          "showgrid": false,
          "showticklabels": false,
          "title": {
           "font": {
            "color": "white"
           },
           "text": "Y"
          },
          "zeroline": false
         },
         "zaxis": {
          "showbackground": false,
          "showgrid": false,
          "showticklabels": false,
          "title": {
           "font": {
            "color": "white"
           },
           "text": "Z"
          },
          "zeroline": false
         }
        },
        "showlegend": false,
        "template": {
         "data": {
          "bar": [
           {
            "error_x": {
             "color": "#2a3f5f"
            },
            "error_y": {
             "color": "#2a3f5f"
            },
            "marker": {
             "line": {
              "color": "#E5ECF6",
              "width": 0.5
             },
             "pattern": {
              "fillmode": "overlay",
              "size": 10,
              "solidity": 0.2
             }
            },
            "type": "bar"
           }
          ],
          "barpolar": [
           {
            "marker": {
             "line": {
              "color": "#E5ECF6",
              "width": 0.5
             },
             "pattern": {
              "fillmode": "overlay",
              "size": 10,
              "solidity": 0.2
             }
            },
            "type": "barpolar"
           }
          ],
          "carpet": [
           {
            "aaxis": {
             "endlinecolor": "#2a3f5f",
             "gridcolor": "white",
             "linecolor": "white",
             "minorgridcolor": "white",
             "startlinecolor": "#2a3f5f"
            },
            "baxis": {
             "endlinecolor": "#2a3f5f",
             "gridcolor": "white",
             "linecolor": "white",
             "minorgridcolor": "white",
             "startlinecolor": "#2a3f5f"
            },
            "type": "carpet"
           }
          ],
          "choropleth": [
           {
            "colorbar": {
             "outlinewidth": 0,
             "ticks": ""
            },
            "type": "choropleth"
           }
          ],
          "contour": [
           {
            "colorbar": {
             "outlinewidth": 0,
             "ticks": ""
            },
            "colorscale": [
             [
              0,
              "#0d0887"
             ],
             [
              0.1111111111111111,
              "#46039f"
             ],
             [
              0.2222222222222222,
              "#7201a8"
             ],
             [
              0.3333333333333333,
              "#9c179e"
             ],
             [
              0.4444444444444444,
              "#bd3786"
             ],
             [
              0.5555555555555556,
              "#d8576b"
             ],
             [
              0.6666666666666666,
              "#ed7953"
             ],
             [
              0.7777777777777778,
              "#fb9f3a"
             ],
             [
              0.8888888888888888,
              "#fdca26"
             ],
             [
              1,
              "#f0f921"
             ]
            ],
            "type": "contour"
           }
          ],
          "contourcarpet": [
           {
            "colorbar": {
             "outlinewidth": 0,
             "ticks": ""
            },
            "type": "contourcarpet"
           }
          ],
          "heatmap": [
           {
            "colorbar": {
             "outlinewidth": 0,
             "ticks": ""
            },
            "colorscale": [
             [
              0,
              "#0d0887"
             ],
             [
              0.1111111111111111,
              "#46039f"
             ],
             [
              0.2222222222222222,
              "#7201a8"
             ],
             [
              0.3333333333333333,
              "#9c179e"
             ],
             [
              0.4444444444444444,
              "#bd3786"
             ],
             [
              0.5555555555555556,
              "#d8576b"
             ],
             [
              0.6666666666666666,
              "#ed7953"
             ],
             [
              0.7777777777777778,
              "#fb9f3a"
             ],
             [
              0.8888888888888888,
              "#fdca26"
             ],
             [
              1,
              "#f0f921"
             ]
            ],
            "type": "heatmap"
           }
          ],
          "heatmapgl": [
           {
            "colorbar": {
             "outlinewidth": 0,
             "ticks": ""
            },
            "colorscale": [
             [
              0,
              "#0d0887"
             ],
             [
              0.1111111111111111,
              "#46039f"
             ],
             [
              0.2222222222222222,
              "#7201a8"
             ],
             [
              0.3333333333333333,
              "#9c179e"
             ],
             [
              0.4444444444444444,
              "#bd3786"
             ],
             [
              0.5555555555555556,
              "#d8576b"
             ],
             [
              0.6666666666666666,
              "#ed7953"
             ],
             [
              0.7777777777777778,
              "#fb9f3a"
             ],
             [
              0.8888888888888888,
              "#fdca26"
             ],
             [
              1,
              "#f0f921"
             ]
            ],
            "type": "heatmapgl"
           }
          ],
          "histogram": [
           {
            "marker": {
             "pattern": {
              "fillmode": "overlay",
              "size": 10,
              "solidity": 0.2
             }
            },
            "type": "histogram"
           }
          ],
          "histogram2d": [
           {
            "colorbar": {
             "outlinewidth": 0,
             "ticks": ""
            },
            "colorscale": [
             [
              0,
              "#0d0887"
             ],
             [
              0.1111111111111111,
              "#46039f"
             ],
             [
              0.2222222222222222,
              "#7201a8"
             ],
             [
              0.3333333333333333,
              "#9c179e"
             ],
             [
              0.4444444444444444,
              "#bd3786"
             ],
             [
              0.5555555555555556,
              "#d8576b"
             ],
             [
              0.6666666666666666,
              "#ed7953"
             ],
             [
              0.7777777777777778,
              "#fb9f3a"
             ],
             [
              0.8888888888888888,
              "#fdca26"
             ],
             [
              1,
              "#f0f921"
             ]
            ],
            "type": "histogram2d"
           }
          ],
          "histogram2dcontour": [
           {
            "colorbar": {
             "outlinewidth": 0,
             "ticks": ""
            },
            "colorscale": [
             [
              0,
              "#0d0887"
             ],
             [
              0.1111111111111111,
              "#46039f"
             ],
             [
              0.2222222222222222,
              "#7201a8"
             ],
             [
              0.3333333333333333,
              "#9c179e"
             ],
             [
              0.4444444444444444,
              "#bd3786"
             ],
             [
              0.5555555555555556,
              "#d8576b"
             ],
             [
              0.6666666666666666,
              "#ed7953"
             ],
             [
              0.7777777777777778,
              "#fb9f3a"
             ],
             [
              0.8888888888888888,
              "#fdca26"
             ],
             [
              1,
              "#f0f921"
             ]
            ],
            "type": "histogram2dcontour"
           }
          ],
          "mesh3d": [
           {
            "colorbar": {
             "outlinewidth": 0,
             "ticks": ""
            },
            "type": "mesh3d"
           }
          ],
          "parcoords": [
           {
            "line": {
             "colorbar": {
              "outlinewidth": 0,
              "ticks": ""
             }
            },
            "type": "parcoords"
           }
          ],
          "pie": [
           {
            "automargin": true,
            "type": "pie"
           }
          ],
          "scatter": [
           {
            "fillpattern": {
             "fillmode": "overlay",
             "size": 10,
             "solidity": 0.2
            },
            "type": "scatter"
           }
          ],
          "scatter3d": [
           {
            "line": {
             "colorbar": {
              "outlinewidth": 0,
              "ticks": ""
             }
            },
            "marker": {
             "colorbar": {
              "outlinewidth": 0,
              "ticks": ""
             }
            },
            "type": "scatter3d"
           }
          ],
          "scattercarpet": [
           {
            "marker": {
             "colorbar": {
              "outlinewidth": 0,
              "ticks": ""
             }
            },
            "type": "scattercarpet"
           }
          ],
          "scattergeo": [
           {
            "marker": {
             "colorbar": {
              "outlinewidth": 0,
              "ticks": ""
             }
            },
            "type": "scattergeo"
           }
          ],
          "scattergl": [
           {
            "marker": {
             "colorbar": {
              "outlinewidth": 0,
              "ticks": ""
             }
            },
            "type": "scattergl"
           }
          ],
          "scattermapbox": [
           {
            "marker": {
             "colorbar": {
              "outlinewidth": 0,
              "ticks": ""
             }
            },
            "type": "scattermapbox"
           }
          ],
          "scatterpolar": [
           {
            "marker": {
             "colorbar": {
              "outlinewidth": 0,
              "ticks": ""
             }
            },
            "type": "scatterpolar"
           }
          ],
          "scatterpolargl": [
           {
            "marker": {
             "colorbar": {
              "outlinewidth": 0,
              "ticks": ""
             }
            },
            "type": "scatterpolargl"
           }
          ],
          "scatterternary": [
           {
            "marker": {
             "colorbar": {
              "outlinewidth": 0,
              "ticks": ""
             }
            },
            "type": "scatterternary"
           }
          ],
          "surface": [
           {
            "colorbar": {
             "outlinewidth": 0,
             "ticks": ""
            },
            "colorscale": [
             [
              0,
              "#0d0887"
             ],
             [
              0.1111111111111111,
              "#46039f"
             ],
             [
              0.2222222222222222,
              "#7201a8"
             ],
             [
              0.3333333333333333,
              "#9c179e"
             ],
             [
              0.4444444444444444,
              "#bd3786"
             ],
             [
              0.5555555555555556,
              "#d8576b"
             ],
             [
              0.6666666666666666,
              "#ed7953"
             ],
             [
              0.7777777777777778,
              "#fb9f3a"
             ],
             [
              0.8888888888888888,
              "#fdca26"
             ],
             [
              1,
              "#f0f921"
             ]
            ],
            "type": "surface"
           }
          ],
          "table": [
           {
            "cells": {
             "fill": {
              "color": "#EBF0F8"
             },
             "line": {
              "color": "white"
             }
            },
            "header": {
             "fill": {
              "color": "#C8D4E3"
             },
             "line": {
              "color": "white"
             }
            },
            "type": "table"
           }
          ]
         },
         "layout": {
          "annotationdefaults": {
           "arrowcolor": "#2a3f5f",
           "arrowhead": 0,
           "arrowwidth": 1
          },
          "autotypenumbers": "strict",
          "coloraxis": {
           "colorbar": {
            "outlinewidth": 0,
            "ticks": ""
           }
          },
          "colorscale": {
           "diverging": [
            [
             0,
             "#8e0152"
            ],
            [
             0.1,
             "#c51b7d"
            ],
            [
             0.2,
             "#de77ae"
            ],
            [
             0.3,
             "#f1b6da"
            ],
            [
             0.4,
             "#fde0ef"
            ],
            [
             0.5,
             "#f7f7f7"
            ],
            [
             0.6,
             "#e6f5d0"
            ],
            [
             0.7,
             "#b8e186"
            ],
            [
             0.8,
             "#7fbc41"
            ],
            [
             0.9,
             "#4d9221"
            ],
            [
             1,
             "#276419"
            ]
           ],
           "sequential": [
            [
             0,
             "#0d0887"
            ],
            [
             0.1111111111111111,
             "#46039f"
            ],
            [
             0.2222222222222222,
             "#7201a8"
            ],
            [
             0.3333333333333333,
             "#9c179e"
            ],
            [
             0.4444444444444444,
             "#bd3786"
            ],
            [
             0.5555555555555556,
             "#d8576b"
            ],
            [
             0.6666666666666666,
             "#ed7953"
            ],
            [
             0.7777777777777778,
             "#fb9f3a"
            ],
            [
             0.8888888888888888,
             "#fdca26"
            ],
            [
             1,
             "#f0f921"
            ]
           ],
           "sequentialminus": [
            [
             0,
             "#0d0887"
            ],
            [
             0.1111111111111111,
             "#46039f"
            ],
            [
             0.2222222222222222,
             "#7201a8"
            ],
            [
             0.3333333333333333,
             "#9c179e"
            ],
            [
             0.4444444444444444,
             "#bd3786"
            ],
            [
             0.5555555555555556,
             "#d8576b"
            ],
            [
             0.6666666666666666,
             "#ed7953"
            ],
            [
             0.7777777777777778,
             "#fb9f3a"
            ],
            [
             0.8888888888888888,
             "#fdca26"
            ],
            [
             1,
             "#f0f921"
            ]
           ]
          },
          "colorway": [
           "#636efa",
           "#EF553B",
           "#00cc96",
           "#ab63fa",
           "#FFA15A",
           "#19d3f3",
           "#FF6692",
           "#B6E880",
           "#FF97FF",
           "#FECB52"
          ],
          "font": {
           "color": "#2a3f5f"
          },
          "geo": {
           "bgcolor": "white",
           "lakecolor": "white",
           "landcolor": "#E5ECF6",
           "showlakes": true,
           "showland": true,
           "subunitcolor": "white"
          },
          "hoverlabel": {
           "align": "left"
          },
          "hovermode": "closest",
          "mapbox": {
           "style": "light"
          },
          "paper_bgcolor": "white",
          "plot_bgcolor": "#E5ECF6",
          "polar": {
           "angularaxis": {
            "gridcolor": "white",
            "linecolor": "white",
            "ticks": ""
           },
           "bgcolor": "#E5ECF6",
           "radialaxis": {
            "gridcolor": "white",
            "linecolor": "white",
            "ticks": ""
           }
          },
          "scene": {
           "xaxis": {
            "backgroundcolor": "#E5ECF6",
            "gridcolor": "white",
            "gridwidth": 2,
            "linecolor": "white",
            "showbackground": true,
            "ticks": "",
            "zerolinecolor": "white"
           },
           "yaxis": {
            "backgroundcolor": "#E5ECF6",
            "gridcolor": "white",
            "gridwidth": 2,
            "linecolor": "white",
            "showbackground": true,
            "ticks": "",
            "zerolinecolor": "white"
           },
           "zaxis": {
            "backgroundcolor": "#E5ECF6",
            "gridcolor": "white",
            "gridwidth": 2,
            "linecolor": "white",
            "showbackground": true,
            "ticks": "",
            "zerolinecolor": "white"
           }
          },
          "shapedefaults": {
           "line": {
            "color": "#2a3f5f"
           }
          },
          "ternary": {
           "aaxis": {
            "gridcolor": "white",
            "linecolor": "white",
            "ticks": ""
           },
           "baxis": {
            "gridcolor": "white",
            "linecolor": "white",
            "ticks": ""
           },
           "bgcolor": "#E5ECF6",
           "caxis": {
            "gridcolor": "white",
            "linecolor": "white",
            "ticks": ""
           }
          },
          "title": {
           "x": 0.05
          },
          "xaxis": {
           "automargin": true,
           "gridcolor": "white",
           "linecolor": "white",
           "ticks": "",
           "title": {
            "standoff": 15
           },
           "zerolinecolor": "white",
           "zerolinewidth": 2
          },
          "yaxis": {
           "automargin": true,
           "gridcolor": "white",
           "linecolor": "white",
           "ticks": "",
           "title": {
            "standoff": 15
           },
           "zerolinecolor": "white",
           "zerolinewidth": 2
          }
         }
        },
        "title": {
         "text": "basic",
         "x": 0.5,
         "xanchor": "center",
         "y": 0.9,
         "yanchor": "top"
        },
        "updatemenus": [
         {
          "buttons": [
           {
            "args": [
             {
              "scene.annotations": [
               {
                "font": {
                 "color": "blue"
                },
                "showarrow": false,
                "text": "1",
                "x": 0.6241,
                "y": 1.2137,
                "yshift": 15,
                "z": -0.0145
               },
               {
                "font": {
                 "color": "blue"
                },
                "showarrow": false,
                "text": "2",
                "x": 0,
                "y": 0,
                "yshift": 15,
                "z": 0
               },
               {
                "font": {
                 "color": "blue"
                },
                "showarrow": false,
                "text": "3",
                "x": 0,
                "y": 2.2533,
                "yshift": 15,
                "z": 0
               },
               {
                "font": {
                 "color": "blue"
                },
                "showarrow": false,
                "text": "4",
                "x": 2.1456,
                "y": 1.1882,
                "yshift": 15,
                "z": 0
               },
               {
                "font": {
                 "color": "blue"
                },
                "showarrow": false,
                "text": "5",
                "x": 2.4532,
                "y": 2.1215,
                "yshift": 15,
                "z": -0.4725
               },
               {
                "font": {
                 "color": "blue"
                },
                "showarrow": false,
                "text": "6",
                "x": 2.4579,
                "y": 1.2416,
                "yshift": 15,
                "z": 1.0454
               },
               {
                "font": {
                 "color": "blue"
                },
                "showarrow": false,
                "text": "7",
                "x": 2.7762,
                "y": 0.0015,
                "yshift": 15,
                "z": -0.6796
               },
               {
                "font": {
                 "color": "blue"
                },
                "showarrow": false,
                "text": "8",
                "x": 3.6514,
                "y": -0.8399,
                "yshift": 15,
                "z": -0.0015
               },
               {
                "font": {
                 "color": "blue"
                },
                "showarrow": false,
                "text": "9",
                "x": 2.4755,
                "y": -0.2735,
                "yshift": 15,
                "z": -2.0149
               },
               {
                "font": {
                 "color": "blue"
                },
                "showarrow": false,
                "text": "10",
                "x": 4.2274,
                "y": -1.9301,
                "yshift": 15,
                "z": -0.6426
               },
               {
                "font": {
                 "color": "blue"
                },
                "showarrow": false,
                "text": "11",
                "x": 3.8885,
                "y": -0.6375,
                "yshift": 15,
                "z": 1.0365
               },
               {
                "font": {
                 "color": "blue"
                },
                "showarrow": false,
                "text": "12",
                "x": 3.0467,
                "y": -1.3621,
                "yshift": 15,
                "z": -2.6547
               },
               {
                "font": {
                 "color": "blue"
                },
                "showarrow": false,
                "text": "13",
                "x": 1.7756,
                "y": 0.3633,
                "yshift": 15,
                "z": -2.5461
               },
               {
                "font": {
                 "color": "blue"
                },
                "showarrow": false,
                "text": "14",
                "x": 3.9268,
                "y": -2.1925,
                "yshift": 15,
                "z": -1.9703
               },
               {
                "font": {
                 "color": "blue"
                },
                "showarrow": false,
                "text": "15",
                "x": 4.9102,
                "y": -2.573,
                "yshift": 15,
                "z": -0.1023
               },
               {
                "font": {
                 "color": "blue"
                },
                "showarrow": false,
                "text": "16",
                "x": 2.8044,
                "y": -1.5631,
                "yshift": 15,
                "z": -3.6902
               },
               {
                "font": {
                 "color": "blue"
                },
                "showarrow": false,
                "text": "17",
                "x": 4.3739,
                "y": -3.0411,
                "yshift": 15,
                "z": -2.4714
               },
               {
                "font": {
                 "color": "blue"
                },
                "showarrow": false,
                "text": "18",
                "x": 0.5589,
                "y": -0.81,
                "yshift": 15,
                "z": -0.2136
               },
               {
                "font": {
                 "color": "blue"
                },
                "showarrow": false,
                "text": "19",
                "x": -1.4149,
                "y": -0.0722,
                "yshift": 15,
                "z": -0.2462
               },
               {
                "font": {
                 "color": "blue"
                },
                "showarrow": false,
                "text": "20",
                "x": -2.3401,
                "y": 0.5164,
                "yshift": 15,
                "z": 0.8148
               },
               {
                "font": {
                 "color": "blue"
                },
                "showarrow": false,
                "text": "21",
                "x": -1.6678,
                "y": -1.1188,
                "yshift": 15,
                "z": -0.4317
               },
               {
                "font": {
                 "color": "blue"
                },
                "showarrow": false,
                "text": "22",
                "x": -3.5378,
                "y": 0.9571,
                "yshift": 15,
                "z": -0.0282
               },
               {
                "font": {
                 "color": "blue"
                },
                "showarrow": false,
                "text": "23",
                "x": -1.8583,
                "y": 1.3756,
                "yshift": 15,
                "z": 1.2739
               },
               {
                "font": {
                 "color": "blue"
                },
                "showarrow": false,
                "text": "24",
                "x": -2.6193,
                "y": -0.2006,
                "yshift": 15,
                "z": 1.5835
               },
               {
                "font": {
                 "color": "blue"
                },
                "showarrow": false,
                "text": "25",
                "x": -4.2882,
                "y": 0.1696,
                "yshift": 15,
                "z": -0.122
               },
               {
                "font": {
                 "color": "blue"
                },
                "showarrow": false,
                "text": "26",
                "x": -4.0153,
                "y": 1.8621,
                "yshift": 15,
                "z": 0.3383
               },
               {
                "font": {
                 "color": "blue"
                },
                "showarrow": false,
                "text": "27",
                "x": -1.8154,
                "y": 0.6911,
                "yshift": 15,
                "z": -1.5167
               },
               {
                "font": {
                 "color": "blue"
                },
                "showarrow": false,
                "text": "28",
                "x": -3.0257,
                "y": 1.2391,
                "yshift": 15,
                "z": -1.3388
               },
               {
                "font": {
                 "color": "blue"
                },
                "showarrow": false,
                "text": "29",
                "x": -1.192,
                "y": 0.7671,
                "yshift": 15,
                "z": -2.528
               }
              ]
             }
            ],
            "label": "Atom indices",
            "method": "relayout"
           },
           {
            "args": [
             {
              "scene.annotations": [
               {
                "showarrow": false,
                "text": "1.36",
                "x": 0.31205,
                "y": 0.60685,
                "yshift": 10,
                "z": -0.00725
               },
               {
                "showarrow": false,
                "text": "1.09",
                "x": 2.2994,
                "y": 1.6548500000000002,
                "yshift": 10,
                "z": -0.23625
               },
               {
                "showarrow": false,
                "text": "1.39",
                "x": 3.2138,
                "y": -0.4192,
                "yshift": 10,
                "z": -0.34054999999999996
               },
               {
                "showarrow": false,
                "text": "1.53",
                "x": -1.8775,
                "y": 0.2221,
                "yshift": 10,
                "z": 0.2843
               },
               {
                "showarrow": false,
                "text": "1.34",
                "x": -2.42055,
                "y": 0.9651000000000001,
                "yshift": 10,
                "z": -1.42775
               },
               {
                "showarrow": false,
                "text": "1.21",
                "x": 0.31205,
                "y": 1.7334999999999998,
                "yshift": 10,
                "z": -0.00725
               },
               {
                "showarrow": false,
                "text": "1.09",
                "x": 2.30175,
                "y": 1.2149,
                "yshift": 10,
                "z": 0.5227
               },
               {
                "showarrow": false,
                "text": "1.4",
                "x": 2.62585,
                "y": -0.136,
                "yshift": 10,
                "z": -1.3472499999999998
               },
               {
                "showarrow": false,
                "text": "1.39",
                "x": 3.9394,
                "y": -1.385,
                "yshift": 10,
                "z": -0.32204999999999995
               },
               {
                "showarrow": false,
                "text": "1.39",
                "x": 3.48675,
                "y": -1.7772999999999999,
                "yshift": 10,
                "z": -2.3125
               },
               {
                "showarrow": false,
                "text": "1.09",
                "x": -1.54135,
                "y": -0.5955,
                "yshift": 10,
                "z": -0.33895
               },
               {
                "showarrow": false,
                "text": "1.53",
                "x": -2.93895,
                "y": 0.73675,
                "yshift": 10,
                "z": 0.3933
               },
               {
                "showarrow": false,
                "text": "1.19",
                "x": -1.5036999999999998,
                "y": 0.7291000000000001,
                "yshift": 10,
                "z": -2.02235
               },
               {
                "showarrow": false,
                "text": "1.52",
                "x": 1.38485,
                "y": 1.20095,
                "yshift": 10,
                "z": -0.00725
               },
               {
                "showarrow": false,
                "text": "1.51",
                "x": 2.4608999999999996,
                "y": 0.59485,
                "yshift": 10,
                "z": -0.3398
               },
               {
                "showarrow": false,
                "text": "1.08",
                "x": 3.76995,
                "y": -0.7386999999999999,
                "yshift": 10,
                "z": 0.5175
               },
               {
                "showarrow": false,
                "text": "1.39",
                "x": 2.7611,
                "y": -0.8178000000000001,
                "yshift": 10,
                "z": -2.3348
               },
               {
                "showarrow": false,
                "text": "1.08",
                "x": 4.1503499999999995,
                "y": -2.6168,
                "yshift": 10,
                "z": -2.22085
               },
               {
                "showarrow": false,
                "text": "1.09",
                "x": -2.0992,
                "y": 0.946,
                "yshift": 10,
                "z": 1.0443500000000001
               },
               {
                "showarrow": false,
                "text": "1.09",
                "x": -3.913,
                "y": 0.56335,
                "yshift": 10,
                "z": -0.0751
               },
               {
                "showarrow": false,
                "text": "1.09",
                "x": 2.12555,
                "y": 0.044899999999999995,
                "yshift": 10,
                "z": -2.2805
               },
               {
                "showarrow": false,
                "text": "1.39",
                "x": 4.0771,
                "y": -2.0613,
                "yshift": 10,
                "z": -1.30645
               },
               {
                "showarrow": false,
                "text": "1.08",
                "x": 2.92555,
                "y": -1.4626000000000001,
                "yshift": 10,
                "z": -3.17245
               },
               {
                "showarrow": false,
                "text": "1.09",
                "x": -2.4797000000000002,
                "y": 0.15789999999999998,
                "yshift": 10,
                "z": 1.19915
               },
               {
                "showarrow": false,
                "text": "1.09",
                "x": -3.77655,
                "y": 1.4096,
                "yshift": 10,
                "z": 0.15505
               },
               {
                "showarrow": false,
                "text": "1.08",
                "x": 4.5687999999999995,
                "y": -2.25155,
                "yshift": 10,
                "z": -0.37244999999999995
               },
               {
                "showarrow": false,
                "text": "1.44",
                "x": -3.2817499999999997,
                "y": 1.0981,
                "yshift": 10,
                "z": -0.6835
               },
               {
                "showarrow": false,
                "text": "1.54",
                "x": -1.6151499999999999,
                "y": 0.30945,
                "yshift": 10,
                "z": -0.88145
               },
               {
                "showarrow": false,
                "text": "1.44",
                "x": -0.70745,
                "y": -0.0361,
                "yshift": 10,
                "z": -0.1231
               },
               {
                "showarrow": false,
                "text": "1.01",
                "x": 0.27945,
                "y": -0.405,
                "yshift": 10,
                "z": -0.1068
               }
              ]
             }
            ],
            "label": "Bond lengths",
            "method": "relayout"
           },
           {
            "args": [
             {
              "scene.annotations": [
               {
                "font": {
                 "color": "blue"
                },
                "showarrow": false,
                "text": "1",
                "x": 0.6241,
                "y": 1.2137,
                "yshift": 15,
                "z": -0.0145
               },
               {
                "font": {
                 "color": "blue"
                },
                "showarrow": false,
                "text": "2",
                "x": 0,
                "y": 0,
                "yshift": 15,
                "z": 0
               },
               {
                "font": {
                 "color": "blue"
                },
                "showarrow": false,
                "text": "3",
                "x": 0,
                "y": 2.2533,
                "yshift": 15,
                "z": 0
               },
               {
                "font": {
                 "color": "blue"
                },
                "showarrow": false,
                "text": "4",
                "x": 2.1456,
                "y": 1.1882,
                "yshift": 15,
                "z": 0
               },
               {
                "font": {
                 "color": "blue"
                },
                "showarrow": false,
                "text": "5",
                "x": 2.4532,
                "y": 2.1215,
                "yshift": 15,
                "z": -0.4725
               },
               {
                "font": {
                 "color": "blue"
                },
                "showarrow": false,
                "text": "6",
                "x": 2.4579,
                "y": 1.2416,
                "yshift": 15,
                "z": 1.0454
               },
               {
                "font": {
                 "color": "blue"
                },
                "showarrow": false,
                "text": "7",
                "x": 2.7762,
                "y": 0.0015,
                "yshift": 15,
                "z": -0.6796
               },
               {
                "font": {
                 "color": "blue"
                },
                "showarrow": false,
                "text": "8",
                "x": 3.6514,
                "y": -0.8399,
                "yshift": 15,
                "z": -0.0015
               },
               {
                "font": {
                 "color": "blue"
                },
                "showarrow": false,
                "text": "9",
                "x": 2.4755,
                "y": -0.2735,
                "yshift": 15,
                "z": -2.0149
               },
               {
                "font": {
                 "color": "blue"
                },
                "showarrow": false,
                "text": "10",
                "x": 4.2274,
                "y": -1.9301,
                "yshift": 15,
                "z": -0.6426
               },
               {
                "font": {
                 "color": "blue"
                },
                "showarrow": false,
                "text": "11",
                "x": 3.8885,
                "y": -0.6375,
                "yshift": 15,
                "z": 1.0365
               },
               {
                "font": {
                 "color": "blue"
                },
                "showarrow": false,
                "text": "12",
                "x": 3.0467,
                "y": -1.3621,
                "yshift": 15,
                "z": -2.6547
               },
               {
                "font": {
                 "color": "blue"
                },
                "showarrow": false,
                "text": "13",
                "x": 1.7756,
                "y": 0.3633,
                "yshift": 15,
                "z": -2.5461
               },
               {
                "font": {
                 "color": "blue"
                },
                "showarrow": false,
                "text": "14",
                "x": 3.9268,
                "y": -2.1925,
                "yshift": 15,
                "z": -1.9703
               },
               {
                "font": {
                 "color": "blue"
                },
                "showarrow": false,
                "text": "15",
                "x": 4.9102,
                "y": -2.573,
                "yshift": 15,
                "z": -0.1023
               },
               {
                "font": {
                 "color": "blue"
                },
                "showarrow": false,
                "text": "16",
                "x": 2.8044,
                "y": -1.5631,
                "yshift": 15,
                "z": -3.6902
               },
               {
                "font": {
                 "color": "blue"
                },
                "showarrow": false,
                "text": "17",
                "x": 4.3739,
                "y": -3.0411,
                "yshift": 15,
                "z": -2.4714
               },
               {
                "font": {
                 "color": "blue"
                },
                "showarrow": false,
                "text": "18",
                "x": 0.5589,
                "y": -0.81,
                "yshift": 15,
                "z": -0.2136
               },
               {
                "font": {
                 "color": "blue"
                },
                "showarrow": false,
                "text": "19",
                "x": -1.4149,
                "y": -0.0722,
                "yshift": 15,
                "z": -0.2462
               },
               {
                "font": {
                 "color": "blue"
                },
                "showarrow": false,
                "text": "20",
                "x": -2.3401,
                "y": 0.5164,
                "yshift": 15,
                "z": 0.8148
               },
               {
                "font": {
                 "color": "blue"
                },
                "showarrow": false,
                "text": "21",
                "x": -1.6678,
                "y": -1.1188,
                "yshift": 15,
                "z": -0.4317
               },
               {
                "font": {
                 "color": "blue"
                },
                "showarrow": false,
                "text": "22",
                "x": -3.5378,
                "y": 0.9571,
                "yshift": 15,
                "z": -0.0282
               },
               {
                "font": {
                 "color": "blue"
                },
                "showarrow": false,
                "text": "23",
                "x": -1.8583,
                "y": 1.3756,
                "yshift": 15,
                "z": 1.2739
               },
               {
                "font": {
                 "color": "blue"
                },
                "showarrow": false,
                "text": "24",
                "x": -2.6193,
                "y": -0.2006,
                "yshift": 15,
                "z": 1.5835
               },
               {
                "font": {
                 "color": "blue"
                },
                "showarrow": false,
                "text": "25",
                "x": -4.2882,
                "y": 0.1696,
                "yshift": 15,
                "z": -0.122
               },
               {
                "font": {
                 "color": "blue"
                },
                "showarrow": false,
                "text": "26",
                "x": -4.0153,
                "y": 1.8621,
                "yshift": 15,
                "z": 0.3383
               },
               {
                "font": {
                 "color": "blue"
                },
                "showarrow": false,
                "text": "27",
                "x": -1.8154,
                "y": 0.6911,
                "yshift": 15,
                "z": -1.5167
               },
               {
                "font": {
                 "color": "blue"
                },
                "showarrow": false,
                "text": "28",
                "x": -3.0257,
                "y": 1.2391,
                "yshift": 15,
                "z": -1.3388
               },
               {
                "font": {
                 "color": "blue"
                },
                "showarrow": false,
                "text": "29",
                "x": -1.192,
                "y": 0.7671,
                "yshift": 15,
                "z": -2.528
               },
               {
                "showarrow": false,
                "text": "1.36",
                "x": 0.31205,
                "y": 0.60685,
                "yshift": 10,
                "z": -0.00725
               },
               {
                "showarrow": false,
                "text": "1.09",
                "x": 2.2994,
                "y": 1.6548500000000002,
                "yshift": 10,
                "z": -0.23625
               },
               {
                "showarrow": false,
                "text": "1.39",
                "x": 3.2138,
                "y": -0.4192,
                "yshift": 10,
                "z": -0.34054999999999996
               },
               {
                "showarrow": false,
                "text": "1.53",
                "x": -1.8775,
                "y": 0.2221,
                "yshift": 10,
                "z": 0.2843
               },
               {
                "showarrow": false,
                "text": "1.34",
                "x": -2.42055,
                "y": 0.9651000000000001,
                "yshift": 10,
                "z": -1.42775
               },
               {
                "showarrow": false,
                "text": "1.21",
                "x": 0.31205,
                "y": 1.7334999999999998,
                "yshift": 10,
                "z": -0.00725
               },
               {
                "showarrow": false,
                "text": "1.09",
                "x": 2.30175,
                "y": 1.2149,
                "yshift": 10,
                "z": 0.5227
               },
               {
                "showarrow": false,
                "text": "1.4",
                "x": 2.62585,
                "y": -0.136,
                "yshift": 10,
                "z": -1.3472499999999998
               },
               {
                "showarrow": false,
                "text": "1.39",
                "x": 3.9394,
                "y": -1.385,
                "yshift": 10,
                "z": -0.32204999999999995
               },
               {
                "showarrow": false,
                "text": "1.39",
                "x": 3.48675,
                "y": -1.7772999999999999,
                "yshift": 10,
                "z": -2.3125
               },
               {
                "showarrow": false,
                "text": "1.09",
                "x": -1.54135,
                "y": -0.5955,
                "yshift": 10,
                "z": -0.33895
               },
               {
                "showarrow": false,
                "text": "1.53",
                "x": -2.93895,
                "y": 0.73675,
                "yshift": 10,
                "z": 0.3933
               },
               {
                "showarrow": false,
                "text": "1.19",
                "x": -1.5036999999999998,
                "y": 0.7291000000000001,
                "yshift": 10,
                "z": -2.02235
               },
               {
                "showarrow": false,
                "text": "1.52",
                "x": 1.38485,
                "y": 1.20095,
                "yshift": 10,
                "z": -0.00725
               },
               {
                "showarrow": false,
                "text": "1.51",
                "x": 2.4608999999999996,
                "y": 0.59485,
                "yshift": 10,
                "z": -0.3398
               },
               {
                "showarrow": false,
                "text": "1.08",
                "x": 3.76995,
                "y": -0.7386999999999999,
                "yshift": 10,
                "z": 0.5175
               },
               {
                "showarrow": false,
                "text": "1.39",
                "x": 2.7611,
                "y": -0.8178000000000001,
                "yshift": 10,
                "z": -2.3348
               },
               {
                "showarrow": false,
                "text": "1.08",
                "x": 4.1503499999999995,
                "y": -2.6168,
                "yshift": 10,
                "z": -2.22085
               },
               {
                "showarrow": false,
                "text": "1.09",
                "x": -2.0992,
                "y": 0.946,
                "yshift": 10,
                "z": 1.0443500000000001
               },
               {
                "showarrow": false,
                "text": "1.09",
                "x": -3.913,
                "y": 0.56335,
                "yshift": 10,
                "z": -0.0751
               },
               {
                "showarrow": false,
                "text": "1.09",
                "x": 2.12555,
                "y": 0.044899999999999995,
                "yshift": 10,
                "z": -2.2805
               },
               {
                "showarrow": false,
                "text": "1.39",
                "x": 4.0771,
                "y": -2.0613,
                "yshift": 10,
                "z": -1.30645
               },
               {
                "showarrow": false,
                "text": "1.08",
                "x": 2.92555,
                "y": -1.4626000000000001,
                "yshift": 10,
                "z": -3.17245
               },
               {
                "showarrow": false,
                "text": "1.09",
                "x": -2.4797000000000002,
                "y": 0.15789999999999998,
                "yshift": 10,
                "z": 1.19915
               },
               {
                "showarrow": false,
                "text": "1.09",
                "x": -3.77655,
                "y": 1.4096,
                "yshift": 10,
                "z": 0.15505
               },
               {
                "showarrow": false,
                "text": "1.08",
                "x": 4.5687999999999995,
                "y": -2.25155,
                "yshift": 10,
                "z": -0.37244999999999995
               },
               {
                "showarrow": false,
                "text": "1.44",
                "x": -3.2817499999999997,
                "y": 1.0981,
                "yshift": 10,
                "z": -0.6835
               },
               {
                "showarrow": false,
                "text": "1.54",
                "x": -1.6151499999999999,
                "y": 0.30945,
                "yshift": 10,
                "z": -0.88145
               },
               {
                "showarrow": false,
                "text": "1.44",
                "x": -0.70745,
                "y": -0.0361,
                "yshift": 10,
                "z": -0.1231
               },
               {
                "showarrow": false,
                "text": "1.01",
                "x": 0.27945,
                "y": -0.405,
                "yshift": 10,
                "z": -0.1068
               }
              ]
             }
            ],
            "label": "Both",
            "method": "relayout"
           },
           {
            "args": [
             {
              "scene.annotations": []
             }
            ],
            "label": "Hide all",
            "method": "relayout"
           },
           {
            "args": [
             {
              "visible": [
               true,
               true,
               true,
               true,
               true,
               true,
               true,
               true,
               true,
               true
              ]
             },
             {}
            ],
            "label": "Show dipole",
            "method": "update"
           },
           {
            "args": [
             {
              "visible": [
               true,
               true,
               false,
               false,
               false,
               false,
               false,
               false,
               false,
               false
              ]
             },
             {}
            ],
            "label": "Hide dipole",
            "method": "update"
           }
          ],
          "direction": "down",
          "xanchor": "left",
          "yanchor": "top"
         }
        ]
       }
      }
     },
     "metadata": {},
     "output_type": "display_data"
    },
    {
     "data": {
      "text/html": [
       "<div>\n",
       "<style scoped>\n",
       "    .dataframe tbody tr th:only-of-type {\n",
       "        vertical-align: middle;\n",
       "    }\n",
       "\n",
       "    .dataframe tbody tr th {\n",
       "        vertical-align: top;\n",
       "    }\n",
       "\n",
       "    .dataframe thead th {\n",
       "        text-align: right;\n",
       "    }\n",
       "</style>\n",
       "<table border=\"1\" class=\"dataframe\">\n",
       "  <thead>\n",
       "    <tr style=\"text-align: right;\">\n",
       "      <th></th>\n",
       "      <th>dipole_x_1-2-3</th>\n",
       "      <th>dipole_y_1-2-3</th>\n",
       "      <th>dipole_z_1-2-3</th>\n",
       "      <th>total_dipole_1-2-3</th>\n",
       "    </tr>\n",
       "  </thead>\n",
       "  <tbody>\n",
       "    <tr>\n",
       "      <th>basic</th>\n",
       "      <td>-2.046363</td>\n",
       "      <td>3.530534</td>\n",
       "      <td>3.401007</td>\n",
       "      <td>5.3122</td>\n",
       "    </tr>\n",
       "    <tr>\n",
       "      <th>m_Br</th>\n",
       "      <td>-0.046471</td>\n",
       "      <td>3.170669</td>\n",
       "      <td>2.717470</td>\n",
       "      <td>4.1761</td>\n",
       "    </tr>\n",
       "    <tr>\n",
       "      <th>m_Cl</th>\n",
       "      <td>-0.157568</td>\n",
       "      <td>3.184321</td>\n",
       "      <td>2.735312</td>\n",
       "      <td>4.2008</td>\n",
       "    </tr>\n",
       "    <tr>\n",
       "      <th>m_F</th>\n",
       "      <td>-0.373425</td>\n",
       "      <td>3.223469</td>\n",
       "      <td>2.774059</td>\n",
       "      <td>4.2691</td>\n",
       "    </tr>\n",
       "    <tr>\n",
       "      <th>m_I</th>\n",
       "      <td>-0.316566</td>\n",
       "      <td>3.176521</td>\n",
       "      <td>2.715818</td>\n",
       "      <td>4.1911</td>\n",
       "    </tr>\n",
       "  </tbody>\n",
       "</table>\n",
       "</div>"
      ],
      "text/plain": [
       "       dipole_x_1-2-3  dipole_y_1-2-3  dipole_z_1-2-3  total_dipole_1-2-3\n",
       "basic       -2.046363        3.530534        3.401007              5.3122\n",
       "m_Br        -0.046471        3.170669        2.717470              4.1761\n",
       "m_Cl        -0.157568        3.184321        2.735312              4.2008\n",
       "m_F         -0.373425        3.223469        2.774059              4.2691\n",
       "m_I         -0.316566        3.176521        2.715818              4.1911"
      ]
     },
     "execution_count": 18,
     "metadata": {},
     "output_type": "execute_result"
    }
   ],
   "source": [
    "# use single class Molecule to show dipole arrows for the first molecule in set : toggle show dipole on the top left corner\n",
    "# Notice that the indices defined a new common plane as the origin for the transformed dipole vector component.\n",
    "mols.molecules[0].get_dipole_gaussian_df_single([1,2,3],visualize_bool=True)\n",
    "mols.get_dipole_dict([1,2,3]).head(5)"
   ]
  },
  {
   "cell_type": "markdown",
   "metadata": {},
   "source": [
    "The other methods in the molecules class can be used in the same way as the examples above.\n",
    "\n",
    "**The recommanded method : extracting all available features for your dataset**"
   ]
  },
  {
   "cell_type": "code",
   "execution_count": 9,
   "metadata": {},
   "outputs": [
    {
     "data": {
      "application/vnd.jupyter.widget-view+json": {
       "model_id": "28f4d1dc105b45d694c9f6ea010a2f48",
       "version_major": 2,
       "version_minor": 0
      },
      "text/plain": [
       "interactive(children=(FloatSlider(value=0.9, description='Threshold', max=1.0, step=0.01), Output()), _dom_cla…"
      ]
     },
     "metadata": {},
     "output_type": "display_data"
    },
    {
     "name": "stdout",
     "output_type": "stream",
     "text": [
      "             cross  cross_angle       para  para_angle  Frequency_Bending_5-6  \\\n",
      "penta_F  1705.8671    24.537430  1721.7035   64.060140              3155.8290   \n",
      "p_tfm    1656.7011    32.609309  1693.8106   57.036819              3134.6727   \n",
      "p_nitro  1709.1878    28.332490  1675.9797   60.094452              3135.1549   \n",
      "p_boc    1655.0745    28.863077  1690.6121   59.982045              3130.1273   \n",
      "p_azide  1646.5686    21.144995  1686.1110   69.023587              3131.5441   \n",
      "\n",
      "         Cross_mag_Bending_5-6  dip_x_NPA_1-2-19  dip_y_NPA_1-2-19  \\\n",
      "penta_F               0.478432          1.049012         -0.539026   \n",
      "p_tfm                 0.427941          5.186875         -0.223877   \n",
      "p_nitro               0.441214          5.123442         -0.283907   \n",
      "p_boc                 0.474752          4.964201         -0.228569   \n",
      "p_azide               0.432109          5.257189         -0.093588   \n",
      "\n",
      "         dip_z_NPA_1-2-19  total_dipole_NPA_1-2-19  dip_x_NPA_20-19-27  \\\n",
      "penta_F          2.225832                 2.518988            1.767558   \n",
      "p_tfm            1.400611                 5.377314            2.220304   \n",
      "p_nitro          1.318888                 5.298087            2.094714   \n",
      "p_boc            2.209424                 5.438482            2.921457   \n",
      "p_azide          1.523573                 5.474310            2.387348   \n",
      "\n",
      "         dip_y_NPA_20-19-27  dip_z_NPA_20-19-27  total_dipole_NPA_20-19-27  \\\n",
      "penta_F           -0.884869           -1.535059                   2.502730   \n",
      "p_tfm              1.336222           -6.490283                   6.988492   \n",
      "p_nitro            1.315044           -6.420845                   6.880728   \n",
      "p_boc              0.854392           -6.472542                   7.152531   \n",
      "p_azide            1.402411           -6.528326                   7.091208   \n",
      "\n",
      "         dipole_x_1-2-19  dipole_y_1-2-19  dipole_z_1-2-19  \\\n",
      "penta_F        -1.202532         2.591498         3.237120   \n",
      "p_tfm          -0.829767         2.361183         5.124853   \n",
      "p_nitro         0.262993         1.929657         6.764051   \n",
      "p_boc          -5.189057         4.363886         4.293773   \n",
      "p_azide        -1.688305         2.881211         3.866718   \n",
      "\n",
      "         total_dipole_1-2-19  dipole_x_20-19-27  dipole_y_20-19-27  \\\n",
      "penta_F               4.3175          -3.586727          -1.783477   \n",
      "p_tfm                 5.7033          -4.231527          -3.659857   \n",
      "p_nitro               7.0388          -4.102153          -5.666738   \n",
      "p_boc                 8.0254          -7.809570          -0.310954   \n",
      "p_azide               5.1091          -4.401523          -2.105720   \n",
      "\n",
      "         dipole_z_20-19-27  total_dipole_20-19-27  nbo_atom_3  nbo_atom_5  \\\n",
      "penta_F           1.611051                 4.3175    -0.60729     0.26687   \n",
      "p_tfm             1.107899                 5.7033    -0.61000     0.25456   \n",
      "p_nitro           0.778174                 7.0388    -0.60629     0.25705   \n",
      "p_boc             1.822150                 8.0254    -0.62611     0.25022   \n",
      "p_azide           1.515188                 5.1091    -0.61463     0.25103   \n",
      "\n",
      "         nbo_atom_11  nbo_atom_12  nbo_atom_4  nbo_atom_6  nbo_atom_20  \\\n",
      "penta_F     -0.28717      0.26061    -0.51796     0.26126     -0.43841   \n",
      "p_tfm        0.21624     -0.17035    -0.51790     0.23633     -0.43830   \n",
      "p_nitro      0.21946     -0.17696    -0.52053     0.23646     -0.43818   \n",
      "p_boc        0.21443     -0.24004    -0.50982     0.23983     -0.43864   \n",
      "p_azide      0.21449     -0.20739    -0.51235     0.23589     -0.43843   \n",
      "\n",
      "         nbo_atom_21  nbo_atom_22  nbo_atom_7  nbo_diff_3-2  nbo_diff_29-28  \\\n",
      "penta_F      0.22831     -0.07162    -0.15604       0.00268        -0.08780   \n",
      "p_tfm        0.22880     -0.07161    -0.02411       0.00578        -0.10447   \n",
      "p_nitro      0.22941     -0.07177    -0.00843       0.00894        -0.10762   \n",
      "p_boc        0.22697     -0.07122    -0.07516      -0.01317        -0.08913   \n",
      "p_azide      0.22768     -0.07149    -0.06136       0.00182        -0.10140   \n",
      "\n",
      "         nbo_diff_2-29  B1_4-1  B5_4-1   L_4-1  loc_B5_4-1  B1_B5_angle_4-1  \\\n",
      "penta_F       -0.05439  2.1822  3.3708  7.4351      3.8169         153.8515   \n",
      "p_tfm         -0.04491  2.1961  3.9044  7.4044      3.3084         135.9246   \n",
      "p_nitro       -0.04258  2.1927  3.9003  7.4019      3.3058         135.8466   \n",
      "p_boc         -0.05355  2.2001  3.8809  7.4352      3.4125         135.9302   \n",
      "p_azide       -0.04741  2.1988  3.9058  7.4106      3.3118         135.9149   \n",
      "\n",
      "         B1_1-4   B5_1-4   L_1-4  loc_B5_1-4  B1_B5_angle_1-4  \\\n",
      "penta_F  1.8466   6.4079  5.4748      3.9911         159.6584   \n",
      "p_tfm    1.8496   7.5555  5.6043      3.0332         161.8643   \n",
      "p_nitro  1.8490   7.4419  5.6788      3.4391         149.9159   \n",
      "p_boc    1.8535  11.1792  7.8520      6.0911         154.8722   \n",
      "p_azide  1.8506   6.9024  5.5879      3.8879         156.9151   \n",
      "\n",
      "         angle_[11, 6, 4]  angle_[6, 4, 5]  angle_[1, 5, 4]  bond_length_11-6  \\\n",
      "penta_F         85.162979       107.498919        43.967605          2.675050   \n",
      "p_tfm           96.870266       107.322633        44.351354          2.370130   \n",
      "p_nitro         96.434203       107.438371        44.254317          2.373922   \n",
      "p_boc           94.591244       106.480305        44.821311          2.420349   \n",
      "p_azide         97.211923       107.085010        44.479868          2.370006   \n",
      "\n",
      "         bond_length_6-4  bond_length_1-5  bond_length_22-23    aniso      iso  \n",
      "penta_F         1.089330         2.109244           2.166134  146.697  946.469  \n",
      "p_tfm           1.092311         2.095632           2.165984  158.334  118.621  \n",
      "p_nitro         1.092204         2.097362           2.166034  162.983  142.728  \n",
      "p_boc           1.091328         2.090049           2.165716  227.267  189.052  \n",
      "p_azide         1.092518         2.093227           2.166146  174.416  191.670  \n",
      "Features saved to features_20250924_104406.csv and correlation table to features_20250924_104406_correlation_table.csv in C:\\Users\\edens\\Documents\\GitHub\\LabCode\\MolFeatures\\Getting_started_with_examples\n"
     ]
    }
   ],
   "source": [
    "answers_dict = {\n",
    "    \"Ring Vibration atoms - by order -> Pick one  atom from a six member ring\\n example: 13\": [9],\n",
    "    \"Stretch Threshold\": [1600],\n",
    "    \"Stretching Vibration atoms- enter bonded atom pairs: \\n example: 1,2 4,5\": [],\n",
    "    \"Bend Threshold\": [3000],\n",
    "    \"Bending Vibration atoms - enter atom pairs that have a common atom: \\n example: 4,7\": [5, 6],\n",
    "    \"Center_Atoms Dipole\": [],\n",
    "    \"Dipole atoms - indices for coordination transformation: \\n example: 4,5,6 - origin, y-axis, new xy plane\": [[1, 2, 19], [20, 19, 27]],\n",
    "    \"Sub-Atoms NPA\": [1, 3, 5, 11, 8, 12, 14, 4, 6] ,\n",
    "    \"NPA manipulation atoms - Insert atoms to show NPA: \\n example: 1,2,4\": [[1, 2, 19], [20, 19, 27]],\n",
    "    \"charges values - Insert atoms to show charge: \\n example: 1,2,3,4\": [3,5,11,12,4,6,20,21,22,7],\n",
    "    \"charge_diff - Insert atoms to show charge difference: \\n example: 1,2 3,4\": [[3, 2], [29, 28], [2, 29]],\n",
    "    \"Sterimol atoms - Primary axis along: \\n example: 7,8\": [[4,1], [1, 4]],\n",
    "    'drop_atoms - Atoms to drop: \\n example: 1,2,3': [],\n",
    "    \"Bond_length - Atom pairs to calculate difference: \\n example: 1,2 4,5\": [[11, 6], [6, 4], [1, 5], [11, 6],[22,23]],\n",
    "    'Bond_angle - Atom triplets to calculate difference: \\n example: 1,2,3 4,5,6': [[11, 6, 4], [6, 4, 5], [1, 5, 4], [11, 6, 4]],\n",
    "}\n",
    "df=mols.get_molecules_features_set(entry_widgets=answers_dict,answers_list=None, save_as=True,csv_file_name='features')"
   ]
  },
  {
   "cell_type": "markdown",
   "metadata": {},
   "source": [
    "**The obtained features_csv file can be used in the Practical_Notebook_Modeling**"
   ]
  }
 ],
 "metadata": {
  "kernelspec": {
   "display_name": "labenv",
   "language": "python",
   "name": "python3"
  },
  "language_info": {
   "codemirror_mode": {
    "name": "ipython",
    "version": 3
   },
   "file_extension": ".py",
   "mimetype": "text/x-python",
   "name": "python",
   "nbconvert_exporter": "python",
   "pygments_lexer": "ipython3",
   "version": "3.9.18"
  }
 },
 "nbformat": 4,
 "nbformat_minor": 2
}
