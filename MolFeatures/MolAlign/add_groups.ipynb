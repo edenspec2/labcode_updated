{
 "cells": [
  {
   "cell_type": "code",
   "execution_count": 10,
   "id": "f0afaa51",
   "metadata": {},
   "outputs": [],
   "source": [
    "from rdkit import Chem\n",
    "from rdkit.Chem import AllChem\n",
    "from rdkit.Chem.rdMolTransforms import ComputeCentroid\n",
    "import numpy as np\n",
    "import pandas as pd\n",
    "import numpy as np\n",
    "from scipy.spatial.distance import pdist, squareform, cdist\n",
    "# This script provides functions to read/write XYZ files, extract connectivity,\n",
    "# select anchor atoms, sample directions on a unit sphere, and attach fragments\n",
    "import argparse\n",
    "COVALENT_RADII = {\n",
    "    'H': 0.31, 'C': 0.76, 'N': 0.71, 'O': 0.66,\n",
    "    'F': 0.57, 'P': 1.07, 'S': 1.05, 'Cl':1.02,\n",
    "    'Br':1.20, 'I':1.39\n",
    "}\n",
    "\n",
    "def extract_connectivity(xyz_df, tol=0.45):\n",
    "    coords = np.vstack([xyz_df.x, xyz_df.y, xyz_df.z]).T\n",
    "    symbols = xyz_df.atom.values\n",
    "    dmat = squareform(pdist(coords))\n",
    "    idx_i, idx_j = np.triu_indices(len(symbols), k=1)\n",
    "    df = pd.DataFrame({'i': idx_i, 'j': idx_j, 'd': dmat[idx_i, idx_j]})\n",
    "    df['sym_i'] = symbols[df.i]\n",
    "    df['sym_j'] = symbols[df.j]\n",
    "    to_drop = []\n",
    "    for k, r in df.iterrows():\n",
    "        a, b, d = r.sym_i, r.sym_j, r.d\n",
    "        # H rules\n",
    "        if d == 0 or (a=='H' and b not in {'O','N','F'}) or (b=='H' and a not in {'O','N','F'}) or (a=='H' and b=='H') or ((a=='H' or b=='H') and d>=1.5):\n",
    "            to_drop.append(k)\n",
    "            continue\n",
    "        # covalent cutoff\n",
    "        rsum = COVALENT_RADII.get(a,1.0) + COVALENT_RADII.get(b,1.0)\n",
    "        if d > rsum + tol:\n",
    "            to_drop.append(k)\n",
    "    df = df.drop(to_drop).reset_index(drop=True)\n",
    "    df[['i','j']] += 1  # to 1-based\n",
    "    return df[['i','j']]\n",
    "\n",
    "# Part 1: Read/write XYZ files\n",
    "def read_xyz(path):\n",
    "    \"\"\"\n",
    "    Reads an XYZ file.\n",
    "    Returns:\n",
    "      atoms: list of str, length N\n",
    "      coords: (N,3)-array of floats\n",
    "    \"\"\"\n",
    "    with open(path) as f:\n",
    "        natoms = int(f.readline().strip())\n",
    "        comment = f.readline()  # skip\n",
    "        atoms, coords = [], []\n",
    "        for line in f:\n",
    "            parts = line.split()\n",
    "            if len(parts) < 4:\n",
    "                continue\n",
    "            atoms.append(parts[0])\n",
    "            coords.append([float(x) for x in parts[1:4]])\n",
    "    coords = np.array(coords)\n",
    "    if coords.shape[0] != natoms:\n",
    "        raise ValueError(f\"Expected {natoms} atoms but found {coords.shape[0]}\")\n",
    "    return atoms, coords\n",
    "\n",
    "\n",
    "\n",
    "# Part 2: Select anchor atom\n",
    "def select_anchor(atoms, coords, index=None, symbol=None, occurrence=1):\n",
    "    \"\"\"\n",
    "    Selects an anchor atom by index or symbol+occurrence.\n",
    "    \"\"\"\n",
    "    N = len(atoms)\n",
    "    if index is not None:\n",
    "        if not (0 <= index < N):\n",
    "            raise IndexError(f\"Index {index} is out of range\")\n",
    "        anchor_idx = index\n",
    "    elif symbol is not None:\n",
    "        matches = [i for i, s in enumerate(atoms) if s == symbol]\n",
    "        if len(matches) < occurrence or occurrence < 1:\n",
    "            raise ValueError(f\"Found {len(matches)} '{symbol}' atoms; cannot select occurrence {occurrence}\")\n",
    "        anchor_idx = matches[occurrence - 1]\n",
    "    else:\n",
    "        raise ValueError(\"Provide either index or symbol+occurrence\")\n",
    "    return anchor_idx, atoms[anchor_idx], coords[anchor_idx]\n",
    "\n",
    "VDW_RADII = {\n",
    "    'H': 1.20, 'C': 1.70, 'N': 1.55, 'O': 1.52,\n",
    "    'F': 1.47, 'P': 1.80, 'S': 1.80, 'Cl':1.75,\n",
    "    'Br':1.85, 'I':1.98\n",
    "}\n",
    "\n",
    "CPK_COLORS = {\n",
    "    'H': (1.0, 1.0, 1.0),\n",
    "    'C': (0.2, 0.2, 0.2),\n",
    "    'N': (0.0, 0.0, 1.0),\n",
    "    'O': (1.0, 0.0, 0.0),\n",
    "    'F': (0.0, 0.8, 0.0),\n",
    "    'P': (1.0, 0.5, 0.0),\n",
    "    'S': (1.0, 1.0, 0.0),\n",
    "    'Cl': (0.0, 1.0, 0.0),\n",
    "    'Br': (0.6, 0.2, 0.2),\n",
    "    'I':  (0.6, 0.0, 0.6)\n",
    "}\n",
    "\n",
    "def get_vdw_radii(atom_list):\n",
    "    \"\"\"Return array of VDW radii for host or fragment atoms.\"\"\"\n",
    "    return np.array([VDW_RADII.get(a, 1.5) for a in atom_list])\n",
    "\n",
    "def get_cpk_colors(atom_list):\n",
    "    \"\"\"Return list of RGB tuples for each atom (for visualization).\"\"\"\n",
    "    return [CPK_COLORS.get(a, (0.5, 0.5, 0.5)) for a in atom_list]\n",
    "\n",
    "def score_direction_soft(fragment_coords, fragment_atoms,\n",
    "                         host_coords, host_vdw_radii,\n",
    "                         buffer=0.2, exponent=2):\n",
    "    \"\"\"\n",
    "    Vectorized soft clash penalty using VDW radii:\n",
    "    penalty = sum( max(r_i + r_j + buffer - d_ij, 0) ** exponent )\n",
    "    Returns: -penalty (higher is better)\n",
    "    \"\"\"\n",
    "    # fragment VDW radii (M,1), host VDW (1,N)\n",
    "    frag_vdw = get_vdw_radii(fragment_atoms)[:, None]\n",
    "    # pairwise distances (M,N)\n",
    "    dists = cdist(fragment_coords, host_coords)\n",
    "    allowed = frag_vdw + host_vdw_radii[None, :] + buffer\n",
    "    overlap = np.clip(allowed - dists, 0, None)\n",
    "    penalty = np.sum(overlap ** exponent)\n",
    "    return -penalty\n",
    "\n",
    "\n",
    "def get_radii_array(atoms):\n",
    "    return np.array([COVALENT_RADII[a] for a in atoms])\n",
    "\n",
    "def sample_unit_sphere(n_samples):\n",
    "    i = np.arange(0, n_samples, dtype=float) + 0.5\n",
    "    phi = np.arccos(1 - 2*i/n_samples)\n",
    "    theta = np.pi * (1 + np.sqrt(5)) * i\n",
    "    x = np.cos(theta) * np.sin(phi)\n",
    "    y = np.sin(theta) * np.sin(phi)\n",
    "    z = np.cos(phi)\n",
    "    return np.vstack((x, y, z)).T\n",
    "\n",
    "def rotation_matrix_from_vectors(vec1, vec2):\n",
    "    a = vec1 / np.linalg.norm(vec1)\n",
    "    b = vec2 / np.linalg.norm(vec2)\n",
    "    v = np.cross(a, b)\n",
    "    c = np.dot(a, b)\n",
    "    if np.allclose(v, 0):\n",
    "        return np.eye(3) if c > 0 else -np.eye(3)\n",
    "    k = np.array([[0,-v[2],v[1]],[v[2],0,-v[0]],[-v[1],v[0],0]])\n",
    "    return np.eye(3) + k + (k @ k) * (1/(1+c))\n",
    "\n",
    "# # Updated score_direction with soft penalty scoring\n",
    "# def score_direction_soft(fragment_coords, fragment_atoms, host_coords, host_radii, buffer=0.2):\n",
    "#     penalty = 0.0\n",
    "#     for fa_symbol, fa_coord in zip(fragment_atoms, fragment_coords):\n",
    "#         r_f = COVALENT_RADII.get(fa_symbol, 1.0)\n",
    "#         dists = np.linalg.norm(host_coords - fa_coord, axis=1)\n",
    "#         r_sum = r_f + host_radii + buffer\n",
    "#         overlap = np.clip(r_sum - dists, 0, None)\n",
    "#         penalty += np.sum(overlap**2)\n",
    "#     return -penalty  # more negative = worse\n",
    "\n",
    "import os\n",
    "\n",
    "\n",
    "\n",
    "def attach_fragment(host_atoms, host_coords, anchor_idx, fragment_smiles, n_directions=1000, bond_length=1.2, buffer=0.2):\n",
    "    from rdkit import Chem\n",
    "    from rdkit.Chem import AllChem\n",
    "\n",
    "    def build_rdkit_mol_with_coords(atom_list, coords):\n",
    "        mol = Chem.RWMol()\n",
    "        for a in atom_list:\n",
    "            mol.AddAtom(Chem.Atom(a))\n",
    "        mol = mol.GetMol()\n",
    "        conf = Chem.Conformer(len(atom_list))\n",
    "        for i, pos in enumerate(coords):\n",
    "            conf.SetAtomPosition(i, pos)\n",
    "        mol.AddConformer(conf)\n",
    "        Chem.SanitizeMol(mol, sanitizeOps=Chem.SANITIZE_ALL ^ Chem.SANITIZE_PROPERTIES)\n",
    "        return mol\n",
    "\n",
    "    def get_fragment_coords_and_bonds(smiles):\n",
    "        mol = Chem.MolFromSmiles(smiles)\n",
    "        # mol = Chem.AddHs(mol)\n",
    "        idx_anchor = [a.GetIdx() for a in mol.GetAtoms() if a.GetSymbol() == '*']\n",
    "        if len(idx_anchor) != 1:\n",
    "            raise ValueError(\"Fragment must contain exactly one wildcard '*' atom.\")\n",
    "        anchor_idx = idx_anchor[0]\n",
    "        neighbor_idx = [a.GetIdx() for a in mol.GetAtomWithIdx(anchor_idx).GetNeighbors()][0]\n",
    "\n",
    "        editable = Chem.EditableMol(mol)\n",
    "        editable.RemoveAtom(anchor_idx)\n",
    "        mol = editable.GetMol()\n",
    "\n",
    "        AllChem.EmbedMolecule(mol, AllChem.ETKDG())\n",
    "        conf = mol.GetConformer()\n",
    "        coords = np.array([list(conf.GetAtomPosition(i)) for i in range(mol.GetNumAtoms())])\n",
    "        atoms = [a.GetSymbol() for a in mol.GetAtoms()]\n",
    "\n",
    "        # Re-index bonds after anchor removed\n",
    "        bonds = []\n",
    "        for bond in mol.GetBonds():\n",
    "            i = bond.GetBeginAtomIdx()\n",
    "            j = bond.GetEndAtomIdx()\n",
    "            order = int(bond.GetBondTypeAsDouble())\n",
    "            bonds.append((i, j, order))\n",
    "\n",
    "        return atoms, coords, neighbor_idx, bonds\n",
    "\n",
    "    def transform_fragment(fragment_coords, fragment_anchor_idx, host_anchor_coord, direction, bond_length=1.5):\n",
    "        translated = fragment_coords - fragment_coords[fragment_anchor_idx]\n",
    "        default_dir = np.array([0.0, 0.0, -1.0])\n",
    "        R = rotation_matrix_from_vectors(default_dir, direction)\n",
    "        rotated = translated @ R.T\n",
    "        placed = rotated + (host_anchor_coord + bond_length * direction)\n",
    "        return placed\n",
    "\n",
    "    host_anchor = host_coords[anchor_idx]\n",
    "    host_radii = get_radii_array(host_atoms)\n",
    "\n",
    "    frag_atoms, frag_coords, frag_anchor_idx, frag_bonds = get_fragment_coords_and_bonds(fragment_smiles)\n",
    "    dirs = sample_unit_sphere(n_directions)\n",
    "\n",
    "    best_score = -np.inf\n",
    "    best_coords = None\n",
    "    for d in dirs:\n",
    "        trial_coords = transform_fragment(frag_coords, frag_anchor_idx, host_anchor, d, bond_length)\n",
    "        score = score_direction_soft(trial_coords, frag_atoms, host_coords, host_radii, buffer)\n",
    "        if score > best_score:\n",
    "            best_score = score\n",
    "            best_coords = trial_coords\n",
    "    # get backbone  bonds from mol from host_atoms\n",
    "    host_mol = build_rdkit_mol_with_coords(host_atoms, host_coords)\n",
    "    host_bonds = []\n",
    "    for bond in host_mol.GetBonds():\n",
    "        i = bond.GetBeginAtomIdx()\n",
    "        j = bond.GetEndAtomIdx()\n",
    "        order = int(bond.GetBondTypeAsDouble())\n",
    "        host_bonds.append((i, j, order))\n",
    "\n",
    "    # Build new atom and coordinate list\n",
    "    new_atoms = host_atoms + frag_atoms\n",
    "    new_coords = np.vstack([host_coords, best_coords])\n",
    "\n",
    "    # Bond indices: host (0..n-1), frag (n..)\n",
    "    host_N = len(host_atoms)\n",
    "    adjusted_frag_bonds = [(i + host_N, j + host_N, order) for (i, j, order) in frag_bonds]\n",
    "    connector_bond = [(anchor_idx, host_N + frag_anchor_idx, 1)]\n",
    "\n",
    "    all_bonds = adjusted_frag_bonds  + connector_bond  # (no host bonds assumed)\n",
    "\n",
    "    return new_atoms, new_coords , all_bonds\n",
    "\n",
    "\n",
    "from openbabel import openbabel, pybel\n",
    "import numpy as np\n",
    "\n",
    "def optimize_with_openbabel(atom_list, coords, ffname=\"UFF\", steps=500, bonds=None):\n",
    "    \"\"\"\n",
    "    Build OBMol, add optional bonds, optimize with Open Babel force field.\n",
    "    \n",
    "    Parameters:\n",
    "        atom_list: list of atomic symbols\n",
    "        coords: (N, 3) numpy array\n",
    "        ffname: 'UFF', 'MMFF94', etc.\n",
    "        steps: number of minimization steps\n",
    "        bonds: list of tuples (i, j, order) with 0-based indices\n",
    "    \"\"\"\n",
    "    from openbabel import openbabel, pybel\n",
    "    import numpy as np\n",
    "\n",
    "    obmol = openbabel.OBMol()\n",
    "    coords = np.asarray(coords)\n",
    "    original_coords = coords.copy()\n",
    "\n",
    "    for atom, pos in zip(atom_list, coords):\n",
    "        obatom = obmol.NewAtom()\n",
    "        obatom.SetAtomicNum(pybel.ob.GetAtomicNum(atom))\n",
    "        obatom.SetVector(*pos)\n",
    "\n",
    "    obmol.ConnectTheDots()           # build a distance‐based graph\n",
    "    obmol.PerceiveBondOrders()       # assign single/double/triple\n",
    "    builder = openbabel.OBBuilder()  \n",
    "    builder.Build(obmol)  \n",
    "               \n",
    "    if bonds:\n",
    "        for i, j, order in bonds:\n",
    "            obmol.AddBond(i + 1, j + 1, order)  # OBMol is 1-based indexing\n",
    "            \n",
    "    obmol.AddHydrogens() \n",
    "    # Setup force field\n",
    "    ff = openbabel.OBForceField.FindForceField(ffname)\n",
    "    if not ff or not ff.Setup(obmol):\n",
    "        try:\n",
    "            ff= openbabel.OBForceField('UFF')\n",
    "            print(f\"Using  force field: 'UFF'\")\n",
    "        except Exception as e:\n",
    "            print(f\"Error setting up force field {ffname}: {e}\")\n",
    "        raise ValueError(f\"Could not set up force field {ffname}.\")\n",
    "\n",
    "    ff.SteepestDescent(steps)\n",
    "    ff.GetCoordinates(obmol)\n",
    "\n",
    "    coords_opt = np.array([\n",
    "        [obmol.GetAtom(i).GetX(), obmol.GetAtom(i).GetY(), obmol.GetAtom(i).GetZ()]\n",
    "        for i in range(1, obmol.NumAtoms() + 1)\n",
    "    ])\n",
    "\n",
    "    # RMSD calculation\n",
    "    if coords.shape == coords_opt.shape:\n",
    "        rmsd = np.sqrt(np.mean(np.sum((original_coords - coords_opt) ** 2, axis=1)))\n",
    "        print(f\"RMSD after Open Babel optimization: {rmsd:.4f} Å\")\n",
    "    else:\n",
    "        print(\"⚠️ Could not compute RMSD (shape mismatch)\")\n",
    "\n",
    "    return coords_opt, obmol\n",
    "\n",
    "def write_xyz_file(filename, atom_list, coords, comment=\"optimized by Open Babel\"):\n",
    "    \"\"\"\n",
    "    Write atoms and coordinates to an XYZ file.\n",
    "    \"\"\"\n",
    "    with open(filename, 'w') as f:\n",
    "        f.write(f\"{len(atom_list)}\\n\")\n",
    "        f.write(f\"{comment}\\n\")\n",
    "        for atom, (x, y, z) in zip(atom_list, coords):\n",
    "            f.write(f\"{atom} {x:.6f} {y:.6f} {z:.6f}\\n\")\n",
    "\n"
   ]
  },
  {
   "cell_type": "code",
   "execution_count": 7,
   "id": "2932720d",
   "metadata": {},
   "outputs": [],
   "source": [
    "def build_obmol_from_coords(atom_list, coords):\n",
    "    \"\"\"\n",
    "    Create an OBMol from atom symbols and coords, perceive full chemistry\n",
    "    using Open Babel (bond orders, aromaticity).\n",
    "    \"\"\"\n",
    "    obmol = openbabel.OBMol()\n",
    "    for sym, pos in zip(atom_list, coords):\n",
    "        a = obmol.NewAtom()\n",
    "        a.SetAtomicNum(pybel.ob.GetAtomicNum(sym))\n",
    "        a.SetVector(*pos)\n",
    "    obmol.ConnectTheDots()\n",
    "    obmol.PerceiveBondOrders()\n",
    "    builder = openbabel.OBBuilder()\n",
    "    builder.Build(obmol)\n",
    "    return obmol\n",
    "\n",
    "def list_obmol_bonds(obmol):\n",
    "    \"\"\"\n",
    "    Return list of bonds (0-based) in OBMol: (i, j, order, aromatic)\n",
    "    \"\"\"\n",
    "    bonds = []\n",
    "    for b in openbabel.OBMolBondIter(obmol):\n",
    "        i0 = b.GetBeginAtomIdx() - 1\n",
    "        j0 = b.GetEndAtomIdx()   - 1\n",
    "        bonds.append((i0, j0, b.GetBondOrder(), b.IsAromatic()))\n",
    "    return bonds\n",
    "\n",
    "def attach_fragment_debug(host_atoms, host_coords, anchor_idx, fragment_smiles, \n",
    "                          n_directions=1000, bond_length=1.2, buffer=0.2):\n",
    "    \"\"\"\n",
    "    Attach fragment like before, but debug bond connectivity at start and end\n",
    "    using both RDKit and Open Babel perceptions.\n",
    "    Returns new_atoms, new_coords, all_bonds, debug_info\n",
    "    \"\"\"\n",
    "    # 1. Compute host bonds via RDKit\n",
    "    def build_rdkit_mol_with_coords(atom_list, coords):\n",
    "        mol = Chem.RWMol()\n",
    "        for a in atom_list:\n",
    "            mol.AddAtom(Chem.Atom(a))\n",
    "        mol = mol.GetMol()\n",
    "        conf = Chem.Conformer(len(atom_list))\n",
    "        for i, pos in enumerate(coords):\n",
    "            conf.SetAtomPosition(i, pos)\n",
    "        mol.AddConformer(conf)\n",
    "        Chem.SanitizeMol(mol, sanitizeOps=Chem.SANITIZE_ALL ^ Chem.SANITIZE_PROPERTIES)\n",
    "        return mol\n",
    "\n",
    "    def transform_fragment(fragment_coords, fragment_anchor_idx, host_anchor_coord, direction, bond_length=1.5):\n",
    "        translated = fragment_coords - fragment_coords[fragment_anchor_idx]\n",
    "        default_dir = np.array([0.0, 0.0, -1.0])\n",
    "        R = rotation_matrix_from_vectors(default_dir, direction)\n",
    "        rotated = translated @ R.T\n",
    "        placed = rotated + (host_anchor_coord + bond_length * direction)\n",
    "        return placed\n",
    "        \n",
    "    host_rdkit = build_rdkit_mol_with_coords(host_atoms, host_coords)\n",
    "    host_rdkit_bonds = [(b.GetBeginAtomIdx(), b.GetEndAtomIdx(), int(b.GetBondTypeAsDouble()))\n",
    "                        for b in host_rdkit.GetBonds()]\n",
    "\n",
    "    # 2. Compute host bonds via Open Babel\n",
    "    obmol_host = build_obmol_from_coords(host_atoms, host_coords)\n",
    "    host_obabel_bonds = list_obmol_bonds(obmol_host)\n",
    "    host_df = pd.DataFrame({'atom': host_atoms,\n",
    "                            'x': host_coords[:,0],\n",
    "                            'y': host_coords[:,1],\n",
    "                            'z': host_coords[:,2]})\n",
    "    host_conn = extract_connectivity(host_df)\n",
    "\n",
    "   \n",
    "    def get_fragment_coords_and_bonds(smiles):\n",
    "        mol = Chem.MolFromSmiles(smiles)\n",
    "        # mol = Chem.AddHs(mol)\n",
    "        idx_anchor = [a.GetIdx() for a in mol.GetAtoms() if a.GetSymbol() == '*']\n",
    "        if len(idx_anchor) != 1:\n",
    "            raise ValueError(\"Fragment must contain exactly one wildcard '*' atom.\")\n",
    "        anchor_idx = idx_anchor[0]\n",
    "        neighbor_idx = [a.GetIdx() for a in mol.GetAtomWithIdx(anchor_idx).GetNeighbors()][0]\n",
    "\n",
    "        editable = Chem.EditableMol(mol)\n",
    "        editable.RemoveAtom(anchor_idx)\n",
    "        mol = editable.GetMol()\n",
    "\n",
    "        AllChem.EmbedMolecule(mol, AllChem.ETKDG())\n",
    "        conf = mol.GetConformer()\n",
    "        coords = np.array([list(conf.GetAtomPosition(i)) for i in range(mol.GetNumAtoms())])\n",
    "        atoms = [a.GetSymbol() for a in mol.GetAtoms()]\n",
    "\n",
    "        # Re-index bonds after anchor removed\n",
    "        bonds = []\n",
    "        for bond in mol.GetBonds():\n",
    "            i = bond.GetBeginAtomIdx()\n",
    "            j = bond.GetEndAtomIdx()\n",
    "            order = int(bond.GetBondTypeAsDouble())\n",
    "            bonds.append((i, j, order))\n",
    "\n",
    "        return atoms, coords, neighbor_idx, bonds\n",
    "\n",
    "    frag_atoms, frag_coords, frag_anchor_idx, frag_bonds = get_fragment_coords_and_bonds(fragment_smiles)\n",
    "\n",
    "    # 4. Choose best placement\n",
    "    host_anchor = host_coords[anchor_idx]\n",
    "    host_radii = get_radii_array(host_atoms)\n",
    "    dirs = sample_unit_sphere(n_directions)\n",
    "    best_score, best_coords = -np.inf, None\n",
    "    for d in dirs:\n",
    "        trial = transform_fragment(frag_coords, frag_anchor_idx, host_anchor, d, bond_length)\n",
    "        sc = score_direction_soft(trial, frag_atoms, host_coords, host_radii, buffer)\n",
    "        if sc > best_score:\n",
    "            best_score, best_coords = sc, trial\n",
    "\n",
    "    # 5. Build new atom list and coords\n",
    "    new_atoms = host_atoms + frag_atoms\n",
    "    new_coords = np.vstack([host_coords, best_coords])\n",
    "    host_N = len(host_atoms)\n",
    "    frag_adj_bonds = [(i+host_N, j+host_N, order) for (i, j, order) in frag_bonds]\n",
    "    connector = [(anchor_idx, host_N+frag_anchor_idx, 1)]\n",
    "    all_bonds = host_rdkit_bonds + frag_adj_bonds + connector\n",
    "    new_df = pd.DataFrame({'atom': new_atoms,\n",
    "                           'x': new_coords[:,0],\n",
    "                           'y': new_coords[:,1],\n",
    "                           'z': new_coords[:,2]})\n",
    "    new_conn = extract_connectivity(new_df)\n",
    "\n",
    "    # 6. Compute final OBMol bonds\n",
    "    obmol_final = build_obmol_from_coords(new_atoms, new_coords)\n",
    "    final_obabel_bonds = list_obmol_bonds(obmol_final)\n",
    "    # Compare connectivity between the host  and new conn\n",
    "    try:\n",
    "        comoare_conn = pd.merge(host_conn, new_conn, on=['i', 'j'], how='outer', indicator=True)\n",
    "        if comoare_conn['_merge'].value_counts().get('both', 0) == len(host_conn):\n",
    "            print(\"All original host bonds are still present in the final structure.\")\n",
    "        else:\n",
    "            print(\"Some host bonds are missing in the final structure.\")\n",
    "    except Exception as e:\n",
    "        print(f\"Error comparing connectivity: {e}\")\n",
    "        \n",
    "    debug_info = {\n",
    "        'host_rdkit_bonds': host_rdkit_bonds,\n",
    "        'host_obabel_bonds': host_obabel_bonds,\n",
    "        'fragment_bonds': frag_bonds,\n",
    "        'initial_all_bonds': all_bonds,\n",
    "        'final_obabel_bonds': final_obabel_bonds,\n",
    "        'best_score': best_score\n",
    "    }\n",
    "\n",
    "    return new_atoms, new_coords, all_bonds, debug_info\n",
    "\n",
    "def report_bond_changes(debug_info):\n",
    "    \"\"\"\n",
    "    debug_info must contain:\n",
    "      - host_rdkit_bonds:    list of (i,j,order)\n",
    "      - fragment_bonds:      list of (i,j,order) in frag coords\n",
    "      - initial_all_bonds:   list of (i,j,order) merged before FF\n",
    "      - final_obabel_bonds:  list of (i,j,order,aromatic) after FF\n",
    "    \"\"\"\n",
    "    hr  = debug_info['host_rdkit_bonds']\n",
    "    fb  = debug_info['fragment_bonds']\n",
    "    init= debug_info['initial_all_bonds']\n",
    "    fb_only = [(i,j,o) for (i,j,o) in init if (i,j,o) not in hr]\n",
    "    conn = [b for b in fb_only if b not in fb]\n",
    "    \n",
    "    # Normalize final bonds to (i,j,order)\n",
    "    fin = [(i,j,o) for (i,j,o,ar) in debug_info['final_obabel_bonds']]\n",
    "\n",
    "    print(\"\\n=== ORIGINAL HOST BONDS (RDKit) ===\")\n",
    "    for i,j,o in sorted(hr):\n",
    "        print(f\"  {i}–{j} order={o}\")\n",
    "\n",
    "    print(\"\\n=== FRAGMENT INTERNAL BONDS ===\")\n",
    "    for i,j,o in sorted(fb):\n",
    "        print(f\"  frag {i}–{j} order={o}\")\n",
    "\n",
    "    print(\"\\n=== CONNECTOR BOND ===\")\n",
    "    for i,j,o in conn:\n",
    "        print(f\"  {i}–{j} order={o}\")\n",
    "\n",
    "    print(\"\\n=== ALL MERGED BONDS (before FF) ===\")\n",
    "    for i,j,o in sorted(init):\n",
    "        tag = (\"host\" if (i,j,o) in hr else\n",
    "               \"frag\" if (i,j,o) in fb else\n",
    "               \"conn\")\n",
    "        print(f\"  {i}–{j} order={o}  [{tag}]\")\n",
    "\n",
    "    print(\"\\n=== FINAL PERCEIVED BONDS (OpenBabel) ===\")\n",
    "    for i,j,o in sorted(fin):\n",
    "        arom = next(ar for (ii,jj,oar,ar) in debug_info['final_obabel_bonds']\n",
    "                    if (ii,jj,oar)==(i,j,o))\n",
    "        print(f\"  {i}–{j} order={o} aromatic={arom}\")\n",
    "\n",
    "    # check that all host bonds survived\n",
    "    print(\"\\n=== HOST BONDS MISSING IN FINAL? ===\")\n",
    "    missing = [b for b in hr if (b[0],b[1],b[2]) not in fin and (b[1],b[0],b[2]) not in fin]\n",
    "    if not missing:\n",
    "        print(\"  All original host bonds are still present.\")\n",
    "    else:\n",
    "        for i,j,o in missing:\n",
    "            print(f\"  MISSING: {i}–{j} order={o}\")\n",
    "\n"
   ]
  },
  {
   "cell_type": "code",
   "execution_count": 9,
   "id": "ce94fe52",
   "metadata": {},
   "outputs": [
    {
     "name": "stdout",
     "output_type": "stream",
     "text": [
      "🔥 sterimol_trace failed: TypeError(\"'NoneType' object is not subscriptable\")\n"
     ]
    },
    {
     "data": {
      "application/vnd.plotly.v1+json": {
       "config": {
        "plotlyServerURL": "https://plot.ly"
       },
       "data": [
        {
         "marker": {
          "color": [
           "black",
           "orange",
           "black",
           "black",
           "black",
           "black",
           "black",
           "black",
           "black",
           "black",
           "black",
           "black",
           "black",
           "black",
           "black",
           "red",
           "black",
           "black",
           "orange",
           "black",
           "black",
           "black",
           "black",
           "black",
           "black",
           "black",
           "black",
           "black",
           "black",
           "black",
           "black",
           "black",
           "black",
           "black",
           "black",
           "black",
           "black",
           "black",
           "black",
           "white",
           "white",
           "white",
           "white",
           "white",
           "white",
           "white",
           "white",
           "white",
           "white",
           "white",
           "white",
           "white",
           "white",
           "white",
           "white",
           "white",
           "white",
           "white",
           "white",
           "white",
           "white",
           "white",
           "white",
           "white",
           "white",
           "white",
           "white"
          ],
          "line": {
           "color": "lightgray",
           "width": 2
          },
          "size": 5
         },
         "mode": "markers",
         "name": "atoms",
         "text": [
          "C",
          "P",
          "C",
          "C",
          "C",
          "C",
          "C",
          "C",
          "C",
          "C",
          "C",
          "C",
          "C",
          "C",
          "C",
          "O",
          "C",
          "C",
          "P",
          "C",
          "C",
          "C",
          "C",
          "C",
          "C",
          "C",
          "C",
          "C",
          "C",
          "C",
          "C",
          "C",
          "C",
          "C",
          "C",
          "C",
          "C",
          "C",
          "C",
          "H",
          "H",
          "H",
          "H",
          "H",
          "H",
          "H",
          "H",
          "H",
          "H",
          "H",
          "H",
          "H",
          "H",
          "H",
          "H",
          "H",
          "H",
          "H",
          "H",
          "H",
          "H",
          "H",
          "H",
          "H",
          "H",
          "H",
          "H"
         ],
         "type": "scatter3d",
         "x": [
          -1.632807,
          -2.715693,
          -4.401271,
          -5.383064,
          -6.679314,
          -7.027314,
          -6.08449,
          -4.788775,
          -2.318129,
          -1.599552,
          -1.26488,
          -1.648925,
          -2.361615,
          -2.692349,
          -0.625284,
          -0.291269,
          0.197975,
          1.289641,
          2.275848,
          2.595614,
          1.598612,
          1.775063,
          2.951928,
          3.950656,
          3.772426,
          3.884906,
          4.143375,
          5.397591,
          6.413454,
          6.172182,
          4.918076,
          1.649488,
          0.985496,
          -0.055891,
          -0.439044,
          0.058738,
          -0.169687,
          -1.111909,
          -1.839802,
          -5.154161,
          -7.416747,
          -8.034567,
          -6.353989,
          -4.083058,
          -1.289075,
          -0.699317,
          -1.388982,
          -2.665464,
          -3.262908,
          0.663826,
          0.986663,
          3.089515,
          4.872881,
          4.571733,
          3.374578,
          5.573015,
          7.384993,
          6.954566,
          4.751652,
          2.481176,
          1.295602,
          -0.570338,
          -1.255363,
          0.796645,
          0.386766,
          -1.303062,
          -2.606585
         ],
         "y": [
          1.494798,
          0.169954,
          0.690646,
          -0.242113,
          0.164043,
          1.509957,
          2.446935,
          2.038763,
          -1.236851,
          -2.308226,
          -3.432904,
          -3.51048,
          -2.461242,
          -1.335795,
          2.109402,
          1.774482,
          0.510043,
          -0.128573,
          0.643618,
          -0.745411,
          -1.065226,
          -2.10612,
          -2.846059,
          -2.548209,
          -1.508267,
          1.048177,
          1.006123,
          1.360297,
          1.777683,
          1.852568,
          1.500139,
          -1.40827,
          -2.013146,
          -1.350363,
          -0.092061,
          3.239104,
          3.716613,
          3.088932,
          2.002843,
          -1.306211,
          -0.575063,
          1.825543,
          3.497367,
          2.796187,
          -2.278772,
          -4.243315,
          -4.383416,
          -2.51684,
          -0.546199,
          -0.50688,
          -2.33443,
          -3.654417,
          -3.121817,
          -1.314777,
          0.707686,
          1.315663,
          2.053393,
          2.188206,
          1.579331,
          -1.95122,
          -2.996755,
          -1.806658,
          0.428124,
          3.729272,
          4.573165,
          3.454859,
          1.58217
         ],
         "z": [
          -0.124,
          0.53967,
          0.072341,
          -0.304039,
          -0.636409,
          -0.571214,
          -0.158715,
          0.169948,
          -0.552305,
          0.005009,
          -0.754721,
          -2.089763,
          -2.663241,
          -1.900966,
          0.64883,
          1.94571,
          2.220157,
          1.590846,
          0.259793,
          -0.874674,
          -1.811293,
          -2.727284,
          -2.72462,
          -1.803341,
          -0.885105,
          0.999953,
          2.377069,
          2.88692,
          2.030592,
          0.662785,
          0.156093,
          2.070095,
          3.142226,
          3.774973,
          3.321758,
          0.165136,
          -1.120599,
          -1.921821,
          -1.424807,
          -0.340247,
          -0.941051,
          -0.828792,
          -0.083017,
          0.509423,
          1.047428,
          -0.300656,
          -2.682369,
          -3.705796,
          -2.381868,
          -1.836046,
          -3.438747,
          -3.437501,
          -1.797133,
          -0.174999,
          3.08626,
          3.958923,
          2.430901,
          -0.012675,
          -0.918027,
          1.62694,
          3.484805,
          4.615988,
          3.819335,
          0.795761,
          -1.490661,
          -2.927756,
          -2.069412
         ]
        },
        {
         "hoverinfo": "none",
         "line": {
          "color": "black",
          "width": 3
         },
         "mode": "lines",
         "name": "bonds",
         "type": "scatter3d",
         "x": [
          -1.632807,
          -2.715693,
          null,
          -2.715693,
          -4.401271,
          null,
          -4.401271,
          -5.383064,
          null,
          -5.383064,
          -6.679314,
          null,
          -6.679314,
          -7.027314,
          null,
          -7.027314,
          -6.08449,
          null,
          -6.08449,
          -4.788775,
          null,
          -2.318129,
          -1.599552,
          null,
          -1.599552,
          -1.26488,
          null,
          -1.26488,
          -1.648925,
          null,
          -1.648925,
          -2.361615,
          null,
          -2.361615,
          -2.692349,
          null,
          -0.625284,
          -0.291269,
          null,
          0.197975,
          -0.291269,
          null,
          0.197975,
          1.289641,
          null,
          1.289641,
          2.275848,
          null,
          2.275848,
          2.595614,
          null,
          2.595614,
          1.598612,
          null,
          1.598612,
          1.775063,
          null,
          1.775063,
          2.951928,
          null,
          2.951928,
          3.950656,
          null,
          3.772426,
          3.950656,
          null,
          3.884906,
          4.143375,
          null,
          4.143375,
          5.397591,
          null,
          5.397591,
          6.413454,
          null,
          6.413454,
          6.172182,
          null,
          6.172182,
          4.918076,
          null,
          0.985496,
          1.649488,
          null,
          0.985496,
          -0.055891,
          null,
          -0.055891,
          -0.439044,
          null,
          0.058738,
          -0.169687,
          null,
          -0.169687,
          -1.111909,
          null,
          -1.111909,
          -1.839802,
          null,
          -4.401271,
          -4.788775,
          null,
          -2.318129,
          -2.692349,
          null,
          3.772426,
          2.595614,
          null,
          3.884906,
          4.918076,
          null,
          -2.318129,
          -2.715693,
          null,
          3.884906,
          2.275848,
          null,
          -1.632807,
          -0.625284,
          null,
          1.289641,
          1.649488,
          null,
          0.197975,
          -0.439044,
          null,
          0.058738,
          -0.625284,
          null,
          4.143375,
          3.374578,
          null,
          5.397591,
          5.573015,
          null,
          7.384993,
          6.413454,
          null,
          6.954566,
          6.172182,
          null,
          4.751652,
          4.918076,
          null,
          2.481176,
          1.649488,
          null,
          0.985496,
          1.295602,
          null,
          -0.055891,
          -0.570338,
          null,
          -0.439044,
          -1.255363,
          null,
          0.058738,
          0.796645,
          null,
          0.386766,
          -0.169687,
          null,
          -1.303062,
          -1.111909,
          null,
          -2.606585,
          -1.839802,
          null,
          0.663826,
          1.598612,
          null,
          0.986663,
          1.775063,
          null,
          3.089515,
          2.951928,
          null,
          4.872881,
          3.950656,
          null,
          3.772426,
          4.571733,
          null,
          -1.632807,
          -1.839802,
          null,
          -5.383064,
          -5.154161,
          null,
          -7.416747,
          -6.679314,
          null,
          -8.034567,
          -7.027314,
          null,
          -6.353989,
          -6.08449,
          null,
          -4.083058,
          -4.788775,
          null,
          -1.599552,
          -1.289075,
          null,
          -1.26488,
          -0.699317,
          null,
          -1.648925,
          -1.388982,
          null,
          -2.361615,
          -2.665464,
          null,
          -3.262908,
          -2.692349,
          null
         ],
         "y": [
          1.494798,
          0.169954,
          null,
          0.169954,
          0.690646,
          null,
          0.690646,
          -0.242113,
          null,
          -0.242113,
          0.164043,
          null,
          0.164043,
          1.509957,
          null,
          1.509957,
          2.446935,
          null,
          2.446935,
          2.038763,
          null,
          -1.236851,
          -2.308226,
          null,
          -2.308226,
          -3.432904,
          null,
          -3.432904,
          -3.51048,
          null,
          -3.51048,
          -2.461242,
          null,
          -2.461242,
          -1.335795,
          null,
          2.109402,
          1.774482,
          null,
          0.510043,
          1.774482,
          null,
          0.510043,
          -0.128573,
          null,
          -0.128573,
          0.643618,
          null,
          0.643618,
          -0.745411,
          null,
          -0.745411,
          -1.065226,
          null,
          -1.065226,
          -2.10612,
          null,
          -2.10612,
          -2.846059,
          null,
          -2.846059,
          -2.548209,
          null,
          -1.508267,
          -2.548209,
          null,
          1.048177,
          1.006123,
          null,
          1.006123,
          1.360297,
          null,
          1.360297,
          1.777683,
          null,
          1.777683,
          1.852568,
          null,
          1.852568,
          1.500139,
          null,
          -2.013146,
          -1.40827,
          null,
          -2.013146,
          -1.350363,
          null,
          -1.350363,
          -0.092061,
          null,
          3.239104,
          3.716613,
          null,
          3.716613,
          3.088932,
          null,
          3.088932,
          2.002843,
          null,
          0.690646,
          2.038763,
          null,
          -1.236851,
          -1.335795,
          null,
          -1.508267,
          -0.745411,
          null,
          1.048177,
          1.500139,
          null,
          -1.236851,
          0.169954,
          null,
          1.048177,
          0.643618,
          null,
          1.494798,
          2.109402,
          null,
          -0.128573,
          -1.40827,
          null,
          0.510043,
          -0.092061,
          null,
          3.239104,
          2.109402,
          null,
          1.006123,
          0.707686,
          null,
          1.360297,
          1.315663,
          null,
          2.053393,
          1.777683,
          null,
          2.188206,
          1.852568,
          null,
          1.579331,
          1.500139,
          null,
          -1.95122,
          -1.40827,
          null,
          -2.013146,
          -2.996755,
          null,
          -1.350363,
          -1.806658,
          null,
          -0.092061,
          0.428124,
          null,
          3.239104,
          3.729272,
          null,
          4.573165,
          3.716613,
          null,
          3.454859,
          3.088932,
          null,
          1.58217,
          2.002843,
          null,
          -0.50688,
          -1.065226,
          null,
          -2.33443,
          -2.10612,
          null,
          -3.654417,
          -2.846059,
          null,
          -3.121817,
          -2.548209,
          null,
          -1.508267,
          -1.314777,
          null,
          1.494798,
          2.002843,
          null,
          -0.242113,
          -1.306211,
          null,
          -0.575063,
          0.164043,
          null,
          1.825543,
          1.509957,
          null,
          3.497367,
          2.446935,
          null,
          2.796187,
          2.038763,
          null,
          -2.308226,
          -2.278772,
          null,
          -3.432904,
          -4.243315,
          null,
          -3.51048,
          -4.383416,
          null,
          -2.461242,
          -2.51684,
          null,
          -0.546199,
          -1.335795,
          null
         ],
         "z": [
          -0.124,
          0.53967,
          null,
          0.53967,
          0.072341,
          null,
          0.072341,
          -0.304039,
          null,
          -0.304039,
          -0.636409,
          null,
          -0.636409,
          -0.571214,
          null,
          -0.571214,
          -0.158715,
          null,
          -0.158715,
          0.169948,
          null,
          -0.552305,
          0.005009,
          null,
          0.005009,
          -0.754721,
          null,
          -0.754721,
          -2.089763,
          null,
          -2.089763,
          -2.663241,
          null,
          -2.663241,
          -1.900966,
          null,
          0.64883,
          1.94571,
          null,
          2.220157,
          1.94571,
          null,
          2.220157,
          1.590846,
          null,
          1.590846,
          0.259793,
          null,
          0.259793,
          -0.874674,
          null,
          -0.874674,
          -1.811293,
          null,
          -1.811293,
          -2.727284,
          null,
          -2.727284,
          -2.72462,
          null,
          -2.72462,
          -1.803341,
          null,
          -0.885105,
          -1.803341,
          null,
          0.999953,
          2.377069,
          null,
          2.377069,
          2.88692,
          null,
          2.88692,
          2.030592,
          null,
          2.030592,
          0.662785,
          null,
          0.662785,
          0.156093,
          null,
          3.142226,
          2.070095,
          null,
          3.142226,
          3.774973,
          null,
          3.774973,
          3.321758,
          null,
          0.165136,
          -1.120599,
          null,
          -1.120599,
          -1.921821,
          null,
          -1.921821,
          -1.424807,
          null,
          0.072341,
          0.169948,
          null,
          -0.552305,
          -1.900966,
          null,
          -0.885105,
          -0.874674,
          null,
          0.999953,
          0.156093,
          null,
          -0.552305,
          0.53967,
          null,
          0.999953,
          0.259793,
          null,
          -0.124,
          0.64883,
          null,
          1.590846,
          2.070095,
          null,
          2.220157,
          3.321758,
          null,
          0.165136,
          0.64883,
          null,
          2.377069,
          3.08626,
          null,
          2.88692,
          3.958923,
          null,
          2.430901,
          2.030592,
          null,
          -0.012675,
          0.662785,
          null,
          -0.918027,
          0.156093,
          null,
          1.62694,
          2.070095,
          null,
          3.142226,
          3.484805,
          null,
          3.774973,
          4.615988,
          null,
          3.321758,
          3.819335,
          null,
          0.165136,
          0.795761,
          null,
          -1.490661,
          -1.120599,
          null,
          -2.927756,
          -1.921821,
          null,
          -2.069412,
          -1.424807,
          null,
          -1.836046,
          -1.811293,
          null,
          -3.438747,
          -2.727284,
          null,
          -3.437501,
          -2.72462,
          null,
          -1.797133,
          -1.803341,
          null,
          -0.885105,
          -0.174999,
          null,
          -0.124,
          -1.424807,
          null,
          -0.304039,
          -0.340247,
          null,
          -0.941051,
          -0.636409,
          null,
          -0.828792,
          -0.571214,
          null,
          -0.083017,
          -0.158715,
          null,
          0.509423,
          0.169948,
          null,
          0.005009,
          1.047428,
          null,
          -0.754721,
          -0.300656,
          null,
          -2.089763,
          -2.682369,
          null,
          -2.663241,
          -3.705796,
          null,
          -2.381868,
          -1.900966,
          null
         ]
        }
       ],
       "layout": {
        "margin": {
         "b": 0,
         "l": 0,
         "r": 0,
         "t": 0
        },
        "scene": {
         "annotations": [
          {
           "font": {
            "color": "blue"
           },
           "showarrow": false,
           "text": "1",
           "x": -1.632807,
           "y": 1.494798,
           "yshift": 15,
           "z": -0.124
          },
          {
           "font": {
            "color": "blue"
           },
           "showarrow": false,
           "text": "2",
           "x": -2.715693,
           "y": 0.169954,
           "yshift": 15,
           "z": 0.53967
          },
          {
           "font": {
            "color": "blue"
           },
           "showarrow": false,
           "text": "3",
           "x": -4.401271,
           "y": 0.690646,
           "yshift": 15,
           "z": 0.072341
          },
          {
           "font": {
            "color": "blue"
           },
           "showarrow": false,
           "text": "4",
           "x": -5.383064,
           "y": -0.242113,
           "yshift": 15,
           "z": -0.304039
          },
          {
           "font": {
            "color": "blue"
           },
           "showarrow": false,
           "text": "5",
           "x": -6.679314,
           "y": 0.164043,
           "yshift": 15,
           "z": -0.636409
          },
          {
           "font": {
            "color": "blue"
           },
           "showarrow": false,
           "text": "6",
           "x": -7.027314,
           "y": 1.509957,
           "yshift": 15,
           "z": -0.571214
          },
          {
           "font": {
            "color": "blue"
           },
           "showarrow": false,
           "text": "7",
           "x": -6.08449,
           "y": 2.446935,
           "yshift": 15,
           "z": -0.158715
          },
          {
           "font": {
            "color": "blue"
           },
           "showarrow": false,
           "text": "8",
           "x": -4.788775,
           "y": 2.038763,
           "yshift": 15,
           "z": 0.169948
          },
          {
           "font": {
            "color": "blue"
           },
           "showarrow": false,
           "text": "9",
           "x": -2.318129,
           "y": -1.236851,
           "yshift": 15,
           "z": -0.552305
          },
          {
           "font": {
            "color": "blue"
           },
           "showarrow": false,
           "text": "10",
           "x": -1.599552,
           "y": -2.308226,
           "yshift": 15,
           "z": 0.005009
          },
          {
           "font": {
            "color": "blue"
           },
           "showarrow": false,
           "text": "11",
           "x": -1.26488,
           "y": -3.432904,
           "yshift": 15,
           "z": -0.754721
          },
          {
           "font": {
            "color": "blue"
           },
           "showarrow": false,
           "text": "12",
           "x": -1.648925,
           "y": -3.51048,
           "yshift": 15,
           "z": -2.089763
          },
          {
           "font": {
            "color": "blue"
           },
           "showarrow": false,
           "text": "13",
           "x": -2.361615,
           "y": -2.461242,
           "yshift": 15,
           "z": -2.663241
          },
          {
           "font": {
            "color": "blue"
           },
           "showarrow": false,
           "text": "14",
           "x": -2.692349,
           "y": -1.335795,
           "yshift": 15,
           "z": -1.900966
          },
          {
           "font": {
            "color": "blue"
           },
           "showarrow": false,
           "text": "15",
           "x": -0.625284,
           "y": 2.109402,
           "yshift": 15,
           "z": 0.64883
          },
          {
           "font": {
            "color": "blue"
           },
           "showarrow": false,
           "text": "16",
           "x": -0.291269,
           "y": 1.774482,
           "yshift": 15,
           "z": 1.94571
          },
          {
           "font": {
            "color": "blue"
           },
           "showarrow": false,
           "text": "17",
           "x": 0.197975,
           "y": 0.510043,
           "yshift": 15,
           "z": 2.220157
          },
          {
           "font": {
            "color": "blue"
           },
           "showarrow": false,
           "text": "18",
           "x": 1.289641,
           "y": -0.128573,
           "yshift": 15,
           "z": 1.590846
          },
          {
           "font": {
            "color": "blue"
           },
           "showarrow": false,
           "text": "19",
           "x": 2.275848,
           "y": 0.643618,
           "yshift": 15,
           "z": 0.259793
          },
          {
           "font": {
            "color": "blue"
           },
           "showarrow": false,
           "text": "20",
           "x": 2.595614,
           "y": -0.745411,
           "yshift": 15,
           "z": -0.874674
          },
          {
           "font": {
            "color": "blue"
           },
           "showarrow": false,
           "text": "21",
           "x": 1.598612,
           "y": -1.065226,
           "yshift": 15,
           "z": -1.811293
          },
          {
           "font": {
            "color": "blue"
           },
           "showarrow": false,
           "text": "22",
           "x": 1.775063,
           "y": -2.10612,
           "yshift": 15,
           "z": -2.727284
          },
          {
           "font": {
            "color": "blue"
           },
           "showarrow": false,
           "text": "23",
           "x": 2.951928,
           "y": -2.846059,
           "yshift": 15,
           "z": -2.72462
          },
          {
           "font": {
            "color": "blue"
           },
           "showarrow": false,
           "text": "24",
           "x": 3.950656,
           "y": -2.548209,
           "yshift": 15,
           "z": -1.803341
          },
          {
           "font": {
            "color": "blue"
           },
           "showarrow": false,
           "text": "25",
           "x": 3.772426,
           "y": -1.508267,
           "yshift": 15,
           "z": -0.885105
          },
          {
           "font": {
            "color": "blue"
           },
           "showarrow": false,
           "text": "26",
           "x": 3.884906,
           "y": 1.048177,
           "yshift": 15,
           "z": 0.999953
          },
          {
           "font": {
            "color": "blue"
           },
           "showarrow": false,
           "text": "27",
           "x": 4.143375,
           "y": 1.006123,
           "yshift": 15,
           "z": 2.377069
          },
          {
           "font": {
            "color": "blue"
           },
           "showarrow": false,
           "text": "28",
           "x": 5.397591,
           "y": 1.360297,
           "yshift": 15,
           "z": 2.88692
          },
          {
           "font": {
            "color": "blue"
           },
           "showarrow": false,
           "text": "29",
           "x": 6.413454,
           "y": 1.777683,
           "yshift": 15,
           "z": 2.030592
          },
          {
           "font": {
            "color": "blue"
           },
           "showarrow": false,
           "text": "30",
           "x": 6.172182,
           "y": 1.852568,
           "yshift": 15,
           "z": 0.662785
          },
          {
           "font": {
            "color": "blue"
           },
           "showarrow": false,
           "text": "31",
           "x": 4.918076,
           "y": 1.500139,
           "yshift": 15,
           "z": 0.156093
          },
          {
           "font": {
            "color": "blue"
           },
           "showarrow": false,
           "text": "32",
           "x": 1.649488,
           "y": -1.40827,
           "yshift": 15,
           "z": 2.070095
          },
          {
           "font": {
            "color": "blue"
           },
           "showarrow": false,
           "text": "33",
           "x": 0.985496,
           "y": -2.013146,
           "yshift": 15,
           "z": 3.142226
          },
          {
           "font": {
            "color": "blue"
           },
           "showarrow": false,
           "text": "34",
           "x": -0.055891,
           "y": -1.350363,
           "yshift": 15,
           "z": 3.774973
          },
          {
           "font": {
            "color": "blue"
           },
           "showarrow": false,
           "text": "35",
           "x": -0.439044,
           "y": -0.092061,
           "yshift": 15,
           "z": 3.321758
          },
          {
           "font": {
            "color": "blue"
           },
           "showarrow": false,
           "text": "36",
           "x": 0.058738,
           "y": 3.239104,
           "yshift": 15,
           "z": 0.165136
          },
          {
           "font": {
            "color": "blue"
           },
           "showarrow": false,
           "text": "37",
           "x": -0.169687,
           "y": 3.716613,
           "yshift": 15,
           "z": -1.120599
          },
          {
           "font": {
            "color": "blue"
           },
           "showarrow": false,
           "text": "38",
           "x": -1.111909,
           "y": 3.088932,
           "yshift": 15,
           "z": -1.921821
          },
          {
           "font": {
            "color": "blue"
           },
           "showarrow": false,
           "text": "39",
           "x": -1.839802,
           "y": 2.002843,
           "yshift": 15,
           "z": -1.424807
          },
          {
           "font": {
            "color": "blue"
           },
           "showarrow": false,
           "text": "40",
           "x": -5.154161,
           "y": -1.306211,
           "yshift": 15,
           "z": -0.340247
          },
          {
           "font": {
            "color": "blue"
           },
           "showarrow": false,
           "text": "41",
           "x": -7.416747,
           "y": -0.575063,
           "yshift": 15,
           "z": -0.941051
          },
          {
           "font": {
            "color": "blue"
           },
           "showarrow": false,
           "text": "42",
           "x": -8.034567,
           "y": 1.825543,
           "yshift": 15,
           "z": -0.828792
          },
          {
           "font": {
            "color": "blue"
           },
           "showarrow": false,
           "text": "43",
           "x": -6.353989,
           "y": 3.497367,
           "yshift": 15,
           "z": -0.083017
          },
          {
           "font": {
            "color": "blue"
           },
           "showarrow": false,
           "text": "44",
           "x": -4.083058,
           "y": 2.796187,
           "yshift": 15,
           "z": 0.509423
          },
          {
           "font": {
            "color": "blue"
           },
           "showarrow": false,
           "text": "45",
           "x": -1.289075,
           "y": -2.278772,
           "yshift": 15,
           "z": 1.047428
          },
          {
           "font": {
            "color": "blue"
           },
           "showarrow": false,
           "text": "46",
           "x": -0.699317,
           "y": -4.243315,
           "yshift": 15,
           "z": -0.300656
          },
          {
           "font": {
            "color": "blue"
           },
           "showarrow": false,
           "text": "47",
           "x": -1.388982,
           "y": -4.383416,
           "yshift": 15,
           "z": -2.682369
          },
          {
           "font": {
            "color": "blue"
           },
           "showarrow": false,
           "text": "48",
           "x": -2.665464,
           "y": -2.51684,
           "yshift": 15,
           "z": -3.705796
          },
          {
           "font": {
            "color": "blue"
           },
           "showarrow": false,
           "text": "49",
           "x": -3.262908,
           "y": -0.546199,
           "yshift": 15,
           "z": -2.381868
          },
          {
           "font": {
            "color": "blue"
           },
           "showarrow": false,
           "text": "50",
           "x": 0.663826,
           "y": -0.50688,
           "yshift": 15,
           "z": -1.836046
          },
          {
           "font": {
            "color": "blue"
           },
           "showarrow": false,
           "text": "51",
           "x": 0.986663,
           "y": -2.33443,
           "yshift": 15,
           "z": -3.438747
          },
          {
           "font": {
            "color": "blue"
           },
           "showarrow": false,
           "text": "52",
           "x": 3.089515,
           "y": -3.654417,
           "yshift": 15,
           "z": -3.437501
          },
          {
           "font": {
            "color": "blue"
           },
           "showarrow": false,
           "text": "53",
           "x": 4.872881,
           "y": -3.121817,
           "yshift": 15,
           "z": -1.797133
          },
          {
           "font": {
            "color": "blue"
           },
           "showarrow": false,
           "text": "54",
           "x": 4.571733,
           "y": -1.314777,
           "yshift": 15,
           "z": -0.174999
          },
          {
           "font": {
            "color": "blue"
           },
           "showarrow": false,
           "text": "55",
           "x": 3.374578,
           "y": 0.707686,
           "yshift": 15,
           "z": 3.08626
          },
          {
           "font": {
            "color": "blue"
           },
           "showarrow": false,
           "text": "56",
           "x": 5.573015,
           "y": 1.315663,
           "yshift": 15,
           "z": 3.958923
          },
          {
           "font": {
            "color": "blue"
           },
           "showarrow": false,
           "text": "57",
           "x": 7.384993,
           "y": 2.053393,
           "yshift": 15,
           "z": 2.430901
          },
          {
           "font": {
            "color": "blue"
           },
           "showarrow": false,
           "text": "58",
           "x": 6.954566,
           "y": 2.188206,
           "yshift": 15,
           "z": -0.012675
          },
          {
           "font": {
            "color": "blue"
           },
           "showarrow": false,
           "text": "59",
           "x": 4.751652,
           "y": 1.579331,
           "yshift": 15,
           "z": -0.918027
          },
          {
           "font": {
            "color": "blue"
           },
           "showarrow": false,
           "text": "60",
           "x": 2.481176,
           "y": -1.95122,
           "yshift": 15,
           "z": 1.62694
          },
          {
           "font": {
            "color": "blue"
           },
           "showarrow": false,
           "text": "61",
           "x": 1.295602,
           "y": -2.996755,
           "yshift": 15,
           "z": 3.484805
          },
          {
           "font": {
            "color": "blue"
           },
           "showarrow": false,
           "text": "62",
           "x": -0.570338,
           "y": -1.806658,
           "yshift": 15,
           "z": 4.615988
          },
          {
           "font": {
            "color": "blue"
           },
           "showarrow": false,
           "text": "63",
           "x": -1.255363,
           "y": 0.428124,
           "yshift": 15,
           "z": 3.819335
          },
          {
           "font": {
            "color": "blue"
           },
           "showarrow": false,
           "text": "64",
           "x": 0.796645,
           "y": 3.729272,
           "yshift": 15,
           "z": 0.795761
          },
          {
           "font": {
            "color": "blue"
           },
           "showarrow": false,
           "text": "65",
           "x": 0.386766,
           "y": 4.573165,
           "yshift": 15,
           "z": -1.490661
          },
          {
           "font": {
            "color": "blue"
           },
           "showarrow": false,
           "text": "66",
           "x": -1.303062,
           "y": 3.454859,
           "yshift": 15,
           "z": -2.927756
          },
          {
           "font": {
            "color": "blue"
           },
           "showarrow": false,
           "text": "67",
           "x": -2.606585,
           "y": 1.58217,
           "yshift": 15,
           "z": -2.069412
          }
         ],
         "xaxis": {
          "showbackground": false,
          "showgrid": false,
          "showticklabels": false,
          "title": {
           "font": {
            "color": "white"
           }
          },
          "zeroline": false
         },
         "yaxis": {
          "showbackground": false,
          "showgrid": false,
          "showticklabels": false,
          "title": {
           "font": {
            "color": "white"
           }
          },
          "zeroline": false
         },
         "zaxis": {
          "showbackground": false,
          "showgrid": false,
          "showticklabels": false,
          "title": {
           "font": {
            "color": "white"
           }
          },
          "zeroline": false
         }
        },
        "showlegend": false,
        "template": {
         "data": {
          "bar": [
           {
            "error_x": {
             "color": "#2a3f5f"
            },
            "error_y": {
             "color": "#2a3f5f"
            },
            "marker": {
             "line": {
              "color": "#E5ECF6",
              "width": 0.5
             },
             "pattern": {
              "fillmode": "overlay",
              "size": 10,
              "solidity": 0.2
             }
            },
            "type": "bar"
           }
          ],
          "barpolar": [
           {
            "marker": {
             "line": {
              "color": "#E5ECF6",
              "width": 0.5
             },
             "pattern": {
              "fillmode": "overlay",
              "size": 10,
              "solidity": 0.2
             }
            },
            "type": "barpolar"
           }
          ],
          "carpet": [
           {
            "aaxis": {
             "endlinecolor": "#2a3f5f",
             "gridcolor": "white",
             "linecolor": "white",
             "minorgridcolor": "white",
             "startlinecolor": "#2a3f5f"
            },
            "baxis": {
             "endlinecolor": "#2a3f5f",
             "gridcolor": "white",
             "linecolor": "white",
             "minorgridcolor": "white",
             "startlinecolor": "#2a3f5f"
            },
            "type": "carpet"
           }
          ],
          "choropleth": [
           {
            "colorbar": {
             "outlinewidth": 0,
             "ticks": ""
            },
            "type": "choropleth"
           }
          ],
          "contour": [
           {
            "colorbar": {
             "outlinewidth": 0,
             "ticks": ""
            },
            "colorscale": [
             [
              0,
              "#0d0887"
             ],
             [
              0.1111111111111111,
              "#46039f"
             ],
             [
              0.2222222222222222,
              "#7201a8"
             ],
             [
              0.3333333333333333,
              "#9c179e"
             ],
             [
              0.4444444444444444,
              "#bd3786"
             ],
             [
              0.5555555555555556,
              "#d8576b"
             ],
             [
              0.6666666666666666,
              "#ed7953"
             ],
             [
              0.7777777777777778,
              "#fb9f3a"
             ],
             [
              0.8888888888888888,
              "#fdca26"
             ],
             [
              1,
              "#f0f921"
             ]
            ],
            "type": "contour"
           }
          ],
          "contourcarpet": [
           {
            "colorbar": {
             "outlinewidth": 0,
             "ticks": ""
            },
            "type": "contourcarpet"
           }
          ],
          "heatmap": [
           {
            "colorbar": {
             "outlinewidth": 0,
             "ticks": ""
            },
            "colorscale": [
             [
              0,
              "#0d0887"
             ],
             [
              0.1111111111111111,
              "#46039f"
             ],
             [
              0.2222222222222222,
              "#7201a8"
             ],
             [
              0.3333333333333333,
              "#9c179e"
             ],
             [
              0.4444444444444444,
              "#bd3786"
             ],
             [
              0.5555555555555556,
              "#d8576b"
             ],
             [
              0.6666666666666666,
              "#ed7953"
             ],
             [
              0.7777777777777778,
              "#fb9f3a"
             ],
             [
              0.8888888888888888,
              "#fdca26"
             ],
             [
              1,
              "#f0f921"
             ]
            ],
            "type": "heatmap"
           }
          ],
          "heatmapgl": [
           {
            "colorbar": {
             "outlinewidth": 0,
             "ticks": ""
            },
            "colorscale": [
             [
              0,
              "#0d0887"
             ],
             [
              0.1111111111111111,
              "#46039f"
             ],
             [
              0.2222222222222222,
              "#7201a8"
             ],
             [
              0.3333333333333333,
              "#9c179e"
             ],
             [
              0.4444444444444444,
              "#bd3786"
             ],
             [
              0.5555555555555556,
              "#d8576b"
             ],
             [
              0.6666666666666666,
              "#ed7953"
             ],
             [
              0.7777777777777778,
              "#fb9f3a"
             ],
             [
              0.8888888888888888,
              "#fdca26"
             ],
             [
              1,
              "#f0f921"
             ]
            ],
            "type": "heatmapgl"
           }
          ],
          "histogram": [
           {
            "marker": {
             "pattern": {
              "fillmode": "overlay",
              "size": 10,
              "solidity": 0.2
             }
            },
            "type": "histogram"
           }
          ],
          "histogram2d": [
           {
            "colorbar": {
             "outlinewidth": 0,
             "ticks": ""
            },
            "colorscale": [
             [
              0,
              "#0d0887"
             ],
             [
              0.1111111111111111,
              "#46039f"
             ],
             [
              0.2222222222222222,
              "#7201a8"
             ],
             [
              0.3333333333333333,
              "#9c179e"
             ],
             [
              0.4444444444444444,
              "#bd3786"
             ],
             [
              0.5555555555555556,
              "#d8576b"
             ],
             [
              0.6666666666666666,
              "#ed7953"
             ],
             [
              0.7777777777777778,
              "#fb9f3a"
             ],
             [
              0.8888888888888888,
              "#fdca26"
             ],
             [
              1,
              "#f0f921"
             ]
            ],
            "type": "histogram2d"
           }
          ],
          "histogram2dcontour": [
           {
            "colorbar": {
             "outlinewidth": 0,
             "ticks": ""
            },
            "colorscale": [
             [
              0,
              "#0d0887"
             ],
             [
              0.1111111111111111,
              "#46039f"
             ],
             [
              0.2222222222222222,
              "#7201a8"
             ],
             [
              0.3333333333333333,
              "#9c179e"
             ],
             [
              0.4444444444444444,
              "#bd3786"
             ],
             [
              0.5555555555555556,
              "#d8576b"
             ],
             [
              0.6666666666666666,
              "#ed7953"
             ],
             [
              0.7777777777777778,
              "#fb9f3a"
             ],
             [
              0.8888888888888888,
              "#fdca26"
             ],
             [
              1,
              "#f0f921"
             ]
            ],
            "type": "histogram2dcontour"
           }
          ],
          "mesh3d": [
           {
            "colorbar": {
             "outlinewidth": 0,
             "ticks": ""
            },
            "type": "mesh3d"
           }
          ],
          "parcoords": [
           {
            "line": {
             "colorbar": {
              "outlinewidth": 0,
              "ticks": ""
             }
            },
            "type": "parcoords"
           }
          ],
          "pie": [
           {
            "automargin": true,
            "type": "pie"
           }
          ],
          "scatter": [
           {
            "fillpattern": {
             "fillmode": "overlay",
             "size": 10,
             "solidity": 0.2
            },
            "type": "scatter"
           }
          ],
          "scatter3d": [
           {
            "line": {
             "colorbar": {
              "outlinewidth": 0,
              "ticks": ""
             }
            },
            "marker": {
             "colorbar": {
              "outlinewidth": 0,
              "ticks": ""
             }
            },
            "type": "scatter3d"
           }
          ],
          "scattercarpet": [
           {
            "marker": {
             "colorbar": {
              "outlinewidth": 0,
              "ticks": ""
             }
            },
            "type": "scattercarpet"
           }
          ],
          "scattergeo": [
           {
            "marker": {
             "colorbar": {
              "outlinewidth": 0,
              "ticks": ""
             }
            },
            "type": "scattergeo"
           }
          ],
          "scattergl": [
           {
            "marker": {
             "colorbar": {
              "outlinewidth": 0,
              "ticks": ""
             }
            },
            "type": "scattergl"
           }
          ],
          "scattermapbox": [
           {
            "marker": {
             "colorbar": {
              "outlinewidth": 0,
              "ticks": ""
             }
            },
            "type": "scattermapbox"
           }
          ],
          "scatterpolar": [
           {
            "marker": {
             "colorbar": {
              "outlinewidth": 0,
              "ticks": ""
             }
            },
            "type": "scatterpolar"
           }
          ],
          "scatterpolargl": [
           {
            "marker": {
             "colorbar": {
              "outlinewidth": 0,
              "ticks": ""
             }
            },
            "type": "scatterpolargl"
           }
          ],
          "scatterternary": [
           {
            "marker": {
             "colorbar": {
              "outlinewidth": 0,
              "ticks": ""
             }
            },
            "type": "scatterternary"
           }
          ],
          "surface": [
           {
            "colorbar": {
             "outlinewidth": 0,
             "ticks": ""
            },
            "colorscale": [
             [
              0,
              "#0d0887"
             ],
             [
              0.1111111111111111,
              "#46039f"
             ],
             [
              0.2222222222222222,
              "#7201a8"
             ],
             [
              0.3333333333333333,
              "#9c179e"
             ],
             [
              0.4444444444444444,
              "#bd3786"
             ],
             [
              0.5555555555555556,
              "#d8576b"
             ],
             [
              0.6666666666666666,
              "#ed7953"
             ],
             [
              0.7777777777777778,
              "#fb9f3a"
             ],
             [
              0.8888888888888888,
              "#fdca26"
             ],
             [
              1,
              "#f0f921"
             ]
            ],
            "type": "surface"
           }
          ],
          "table": [
           {
            "cells": {
             "fill": {
              "color": "#EBF0F8"
             },
             "line": {
              "color": "white"
             }
            },
            "header": {
             "fill": {
              "color": "#C8D4E3"
             },
             "line": {
              "color": "white"
             }
            },
            "type": "table"
           }
          ]
         },
         "layout": {
          "annotationdefaults": {
           "arrowcolor": "#2a3f5f",
           "arrowhead": 0,
           "arrowwidth": 1
          },
          "autotypenumbers": "strict",
          "coloraxis": {
           "colorbar": {
            "outlinewidth": 0,
            "ticks": ""
           }
          },
          "colorscale": {
           "diverging": [
            [
             0,
             "#8e0152"
            ],
            [
             0.1,
             "#c51b7d"
            ],
            [
             0.2,
             "#de77ae"
            ],
            [
             0.3,
             "#f1b6da"
            ],
            [
             0.4,
             "#fde0ef"
            ],
            [
             0.5,
             "#f7f7f7"
            ],
            [
             0.6,
             "#e6f5d0"
            ],
            [
             0.7,
             "#b8e186"
            ],
            [
             0.8,
             "#7fbc41"
            ],
            [
             0.9,
             "#4d9221"
            ],
            [
             1,
             "#276419"
            ]
           ],
           "sequential": [
            [
             0,
             "#0d0887"
            ],
            [
             0.1111111111111111,
             "#46039f"
            ],
            [
             0.2222222222222222,
             "#7201a8"
            ],
            [
             0.3333333333333333,
             "#9c179e"
            ],
            [
             0.4444444444444444,
             "#bd3786"
            ],
            [
             0.5555555555555556,
             "#d8576b"
            ],
            [
             0.6666666666666666,
             "#ed7953"
            ],
            [
             0.7777777777777778,
             "#fb9f3a"
            ],
            [
             0.8888888888888888,
             "#fdca26"
            ],
            [
             1,
             "#f0f921"
            ]
           ],
           "sequentialminus": [
            [
             0,
             "#0d0887"
            ],
            [
             0.1111111111111111,
             "#46039f"
            ],
            [
             0.2222222222222222,
             "#7201a8"
            ],
            [
             0.3333333333333333,
             "#9c179e"
            ],
            [
             0.4444444444444444,
             "#bd3786"
            ],
            [
             0.5555555555555556,
             "#d8576b"
            ],
            [
             0.6666666666666666,
             "#ed7953"
            ],
            [
             0.7777777777777778,
             "#fb9f3a"
            ],
            [
             0.8888888888888888,
             "#fdca26"
            ],
            [
             1,
             "#f0f921"
            ]
           ]
          },
          "colorway": [
           "#636efa",
           "#EF553B",
           "#00cc96",
           "#ab63fa",
           "#FFA15A",
           "#19d3f3",
           "#FF6692",
           "#B6E880",
           "#FF97FF",
           "#FECB52"
          ],
          "font": {
           "color": "#2a3f5f"
          },
          "geo": {
           "bgcolor": "white",
           "lakecolor": "white",
           "landcolor": "#E5ECF6",
           "showlakes": true,
           "showland": true,
           "subunitcolor": "white"
          },
          "hoverlabel": {
           "align": "left"
          },
          "hovermode": "closest",
          "mapbox": {
           "style": "light"
          },
          "paper_bgcolor": "white",
          "plot_bgcolor": "#E5ECF6",
          "polar": {
           "angularaxis": {
            "gridcolor": "white",
            "linecolor": "white",
            "ticks": ""
           },
           "bgcolor": "#E5ECF6",
           "radialaxis": {
            "gridcolor": "white",
            "linecolor": "white",
            "ticks": ""
           }
          },
          "scene": {
           "xaxis": {
            "backgroundcolor": "#E5ECF6",
            "gridcolor": "white",
            "gridwidth": 2,
            "linecolor": "white",
            "showbackground": true,
            "ticks": "",
            "zerolinecolor": "white"
           },
           "yaxis": {
            "backgroundcolor": "#E5ECF6",
            "gridcolor": "white",
            "gridwidth": 2,
            "linecolor": "white",
            "showbackground": true,
            "ticks": "",
            "zerolinecolor": "white"
           },
           "zaxis": {
            "backgroundcolor": "#E5ECF6",
            "gridcolor": "white",
            "gridwidth": 2,
            "linecolor": "white",
            "showbackground": true,
            "ticks": "",
            "zerolinecolor": "white"
           }
          },
          "shapedefaults": {
           "line": {
            "color": "#2a3f5f"
           }
          },
          "ternary": {
           "aaxis": {
            "gridcolor": "white",
            "linecolor": "white",
            "ticks": ""
           },
           "baxis": {
            "gridcolor": "white",
            "linecolor": "white",
            "ticks": ""
           },
           "bgcolor": "#E5ECF6",
           "caxis": {
            "gridcolor": "white",
            "linecolor": "white",
            "ticks": ""
           }
          },
          "title": {
           "x": 0.05
          },
          "xaxis": {
           "automargin": true,
           "gridcolor": "white",
           "linecolor": "white",
           "ticks": "",
           "title": {
            "standoff": 15
           },
           "zerolinecolor": "white",
           "zerolinewidth": 2
          },
          "yaxis": {
           "automargin": true,
           "gridcolor": "white",
           "linecolor": "white",
           "ticks": "",
           "title": {
            "standoff": 15
           },
           "zerolinecolor": "white",
           "zerolinewidth": 2
          }
         }
        },
        "title": {
         "text": "before",
         "x": 0.5,
         "xanchor": "center",
         "y": 0.9,
         "yanchor": "top"
        },
        "updatemenus": [
         {
          "buttons": [
           {
            "args": [
             {
              "scene.annotations": [
               {
                "font": {
                 "color": "blue"
                },
                "showarrow": false,
                "text": "1",
                "x": -1.632807,
                "y": 1.494798,
                "yshift": 15,
                "z": -0.124
               },
               {
                "font": {
                 "color": "blue"
                },
                "showarrow": false,
                "text": "2",
                "x": -2.715693,
                "y": 0.169954,
                "yshift": 15,
                "z": 0.53967
               },
               {
                "font": {
                 "color": "blue"
                },
                "showarrow": false,
                "text": "3",
                "x": -4.401271,
                "y": 0.690646,
                "yshift": 15,
                "z": 0.072341
               },
               {
                "font": {
                 "color": "blue"
                },
                "showarrow": false,
                "text": "4",
                "x": -5.383064,
                "y": -0.242113,
                "yshift": 15,
                "z": -0.304039
               },
               {
                "font": {
                 "color": "blue"
                },
                "showarrow": false,
                "text": "5",
                "x": -6.679314,
                "y": 0.164043,
                "yshift": 15,
                "z": -0.636409
               },
               {
                "font": {
                 "color": "blue"
                },
                "showarrow": false,
                "text": "6",
                "x": -7.027314,
                "y": 1.509957,
                "yshift": 15,
                "z": -0.571214
               },
               {
                "font": {
                 "color": "blue"
                },
                "showarrow": false,
                "text": "7",
                "x": -6.08449,
                "y": 2.446935,
                "yshift": 15,
                "z": -0.158715
               },
               {
                "font": {
                 "color": "blue"
                },
                "showarrow": false,
                "text": "8",
                "x": -4.788775,
                "y": 2.038763,
                "yshift": 15,
                "z": 0.169948
               },
               {
                "font": {
                 "color": "blue"
                },
                "showarrow": false,
                "text": "9",
                "x": -2.318129,
                "y": -1.236851,
                "yshift": 15,
                "z": -0.552305
               },
               {
                "font": {
                 "color": "blue"
                },
                "showarrow": false,
                "text": "10",
                "x": -1.599552,
                "y": -2.308226,
                "yshift": 15,
                "z": 0.005009
               },
               {
                "font": {
                 "color": "blue"
                },
                "showarrow": false,
                "text": "11",
                "x": -1.26488,
                "y": -3.432904,
                "yshift": 15,
                "z": -0.754721
               },
               {
                "font": {
                 "color": "blue"
                },
                "showarrow": false,
                "text": "12",
                "x": -1.648925,
                "y": -3.51048,
                "yshift": 15,
                "z": -2.089763
               },
               {
                "font": {
                 "color": "blue"
                },
                "showarrow": false,
                "text": "13",
                "x": -2.361615,
                "y": -2.461242,
                "yshift": 15,
                "z": -2.663241
               },
               {
                "font": {
                 "color": "blue"
                },
                "showarrow": false,
                "text": "14",
                "x": -2.692349,
                "y": -1.335795,
                "yshift": 15,
                "z": -1.900966
               },
               {
                "font": {
                 "color": "blue"
                },
                "showarrow": false,
                "text": "15",
                "x": -0.625284,
                "y": 2.109402,
                "yshift": 15,
                "z": 0.64883
               },
               {
                "font": {
                 "color": "blue"
                },
                "showarrow": false,
                "text": "16",
                "x": -0.291269,
                "y": 1.774482,
                "yshift": 15,
                "z": 1.94571
               },
               {
                "font": {
                 "color": "blue"
                },
                "showarrow": false,
                "text": "17",
                "x": 0.197975,
                "y": 0.510043,
                "yshift": 15,
                "z": 2.220157
               },
               {
                "font": {
                 "color": "blue"
                },
                "showarrow": false,
                "text": "18",
                "x": 1.289641,
                "y": -0.128573,
                "yshift": 15,
                "z": 1.590846
               },
               {
                "font": {
                 "color": "blue"
                },
                "showarrow": false,
                "text": "19",
                "x": 2.275848,
                "y": 0.643618,
                "yshift": 15,
                "z": 0.259793
               },
               {
                "font": {
                 "color": "blue"
                },
                "showarrow": false,
                "text": "20",
                "x": 2.595614,
                "y": -0.745411,
                "yshift": 15,
                "z": -0.874674
               },
               {
                "font": {
                 "color": "blue"
                },
                "showarrow": false,
                "text": "21",
                "x": 1.598612,
                "y": -1.065226,
                "yshift": 15,
                "z": -1.811293
               },
               {
                "font": {
                 "color": "blue"
                },
                "showarrow": false,
                "text": "22",
                "x": 1.775063,
                "y": -2.10612,
                "yshift": 15,
                "z": -2.727284
               },
               {
                "font": {
                 "color": "blue"
                },
                "showarrow": false,
                "text": "23",
                "x": 2.951928,
                "y": -2.846059,
                "yshift": 15,
                "z": -2.72462
               },
               {
                "font": {
                 "color": "blue"
                },
                "showarrow": false,
                "text": "24",
                "x": 3.950656,
                "y": -2.548209,
                "yshift": 15,
                "z": -1.803341
               },
               {
                "font": {
                 "color": "blue"
                },
                "showarrow": false,
                "text": "25",
                "x": 3.772426,
                "y": -1.508267,
                "yshift": 15,
                "z": -0.885105
               },
               {
                "font": {
                 "color": "blue"
                },
                "showarrow": false,
                "text": "26",
                "x": 3.884906,
                "y": 1.048177,
                "yshift": 15,
                "z": 0.999953
               },
               {
                "font": {
                 "color": "blue"
                },
                "showarrow": false,
                "text": "27",
                "x": 4.143375,
                "y": 1.006123,
                "yshift": 15,
                "z": 2.377069
               },
               {
                "font": {
                 "color": "blue"
                },
                "showarrow": false,
                "text": "28",
                "x": 5.397591,
                "y": 1.360297,
                "yshift": 15,
                "z": 2.88692
               },
               {
                "font": {
                 "color": "blue"
                },
                "showarrow": false,
                "text": "29",
                "x": 6.413454,
                "y": 1.777683,
                "yshift": 15,
                "z": 2.030592
               },
               {
                "font": {
                 "color": "blue"
                },
                "showarrow": false,
                "text": "30",
                "x": 6.172182,
                "y": 1.852568,
                "yshift": 15,
                "z": 0.662785
               },
               {
                "font": {
                 "color": "blue"
                },
                "showarrow": false,
                "text": "31",
                "x": 4.918076,
                "y": 1.500139,
                "yshift": 15,
                "z": 0.156093
               },
               {
                "font": {
                 "color": "blue"
                },
                "showarrow": false,
                "text": "32",
                "x": 1.649488,
                "y": -1.40827,
                "yshift": 15,
                "z": 2.070095
               },
               {
                "font": {
                 "color": "blue"
                },
                "showarrow": false,
                "text": "33",
                "x": 0.985496,
                "y": -2.013146,
                "yshift": 15,
                "z": 3.142226
               },
               {
                "font": {
                 "color": "blue"
                },
                "showarrow": false,
                "text": "34",
                "x": -0.055891,
                "y": -1.350363,
                "yshift": 15,
                "z": 3.774973
               },
               {
                "font": {
                 "color": "blue"
                },
                "showarrow": false,
                "text": "35",
                "x": -0.439044,
                "y": -0.092061,
                "yshift": 15,
                "z": 3.321758
               },
               {
                "font": {
                 "color": "blue"
                },
                "showarrow": false,
                "text": "36",
                "x": 0.058738,
                "y": 3.239104,
                "yshift": 15,
                "z": 0.165136
               },
               {
                "font": {
                 "color": "blue"
                },
                "showarrow": false,
                "text": "37",
                "x": -0.169687,
                "y": 3.716613,
                "yshift": 15,
                "z": -1.120599
               },
               {
                "font": {
                 "color": "blue"
                },
                "showarrow": false,
                "text": "38",
                "x": -1.111909,
                "y": 3.088932,
                "yshift": 15,
                "z": -1.921821
               },
               {
                "font": {
                 "color": "blue"
                },
                "showarrow": false,
                "text": "39",
                "x": -1.839802,
                "y": 2.002843,
                "yshift": 15,
                "z": -1.424807
               },
               {
                "font": {
                 "color": "blue"
                },
                "showarrow": false,
                "text": "40",
                "x": -5.154161,
                "y": -1.306211,
                "yshift": 15,
                "z": -0.340247
               },
               {
                "font": {
                 "color": "blue"
                },
                "showarrow": false,
                "text": "41",
                "x": -7.416747,
                "y": -0.575063,
                "yshift": 15,
                "z": -0.941051
               },
               {
                "font": {
                 "color": "blue"
                },
                "showarrow": false,
                "text": "42",
                "x": -8.034567,
                "y": 1.825543,
                "yshift": 15,
                "z": -0.828792
               },
               {
                "font": {
                 "color": "blue"
                },
                "showarrow": false,
                "text": "43",
                "x": -6.353989,
                "y": 3.497367,
                "yshift": 15,
                "z": -0.083017
               },
               {
                "font": {
                 "color": "blue"
                },
                "showarrow": false,
                "text": "44",
                "x": -4.083058,
                "y": 2.796187,
                "yshift": 15,
                "z": 0.509423
               },
               {
                "font": {
                 "color": "blue"
                },
                "showarrow": false,
                "text": "45",
                "x": -1.289075,
                "y": -2.278772,
                "yshift": 15,
                "z": 1.047428
               },
               {
                "font": {
                 "color": "blue"
                },
                "showarrow": false,
                "text": "46",
                "x": -0.699317,
                "y": -4.243315,
                "yshift": 15,
                "z": -0.300656
               },
               {
                "font": {
                 "color": "blue"
                },
                "showarrow": false,
                "text": "47",
                "x": -1.388982,
                "y": -4.383416,
                "yshift": 15,
                "z": -2.682369
               },
               {
                "font": {
                 "color": "blue"
                },
                "showarrow": false,
                "text": "48",
                "x": -2.665464,
                "y": -2.51684,
                "yshift": 15,
                "z": -3.705796
               },
               {
                "font": {
                 "color": "blue"
                },
                "showarrow": false,
                "text": "49",
                "x": -3.262908,
                "y": -0.546199,
                "yshift": 15,
                "z": -2.381868
               },
               {
                "font": {
                 "color": "blue"
                },
                "showarrow": false,
                "text": "50",
                "x": 0.663826,
                "y": -0.50688,
                "yshift": 15,
                "z": -1.836046
               },
               {
                "font": {
                 "color": "blue"
                },
                "showarrow": false,
                "text": "51",
                "x": 0.986663,
                "y": -2.33443,
                "yshift": 15,
                "z": -3.438747
               },
               {
                "font": {
                 "color": "blue"
                },
                "showarrow": false,
                "text": "52",
                "x": 3.089515,
                "y": -3.654417,
                "yshift": 15,
                "z": -3.437501
               },
               {
                "font": {
                 "color": "blue"
                },
                "showarrow": false,
                "text": "53",
                "x": 4.872881,
                "y": -3.121817,
                "yshift": 15,
                "z": -1.797133
               },
               {
                "font": {
                 "color": "blue"
                },
                "showarrow": false,
                "text": "54",
                "x": 4.571733,
                "y": -1.314777,
                "yshift": 15,
                "z": -0.174999
               },
               {
                "font": {
                 "color": "blue"
                },
                "showarrow": false,
                "text": "55",
                "x": 3.374578,
                "y": 0.707686,
                "yshift": 15,
                "z": 3.08626
               },
               {
                "font": {
                 "color": "blue"
                },
                "showarrow": false,
                "text": "56",
                "x": 5.573015,
                "y": 1.315663,
                "yshift": 15,
                "z": 3.958923
               },
               {
                "font": {
                 "color": "blue"
                },
                "showarrow": false,
                "text": "57",
                "x": 7.384993,
                "y": 2.053393,
                "yshift": 15,
                "z": 2.430901
               },
               {
                "font": {
                 "color": "blue"
                },
                "showarrow": false,
                "text": "58",
                "x": 6.954566,
                "y": 2.188206,
                "yshift": 15,
                "z": -0.012675
               },
               {
                "font": {
                 "color": "blue"
                },
                "showarrow": false,
                "text": "59",
                "x": 4.751652,
                "y": 1.579331,
                "yshift": 15,
                "z": -0.918027
               },
               {
                "font": {
                 "color": "blue"
                },
                "showarrow": false,
                "text": "60",
                "x": 2.481176,
                "y": -1.95122,
                "yshift": 15,
                "z": 1.62694
               },
               {
                "font": {
                 "color": "blue"
                },
                "showarrow": false,
                "text": "61",
                "x": 1.295602,
                "y": -2.996755,
                "yshift": 15,
                "z": 3.484805
               },
               {
                "font": {
                 "color": "blue"
                },
                "showarrow": false,
                "text": "62",
                "x": -0.570338,
                "y": -1.806658,
                "yshift": 15,
                "z": 4.615988
               },
               {
                "font": {
                 "color": "blue"
                },
                "showarrow": false,
                "text": "63",
                "x": -1.255363,
                "y": 0.428124,
                "yshift": 15,
                "z": 3.819335
               },
               {
                "font": {
                 "color": "blue"
                },
                "showarrow": false,
                "text": "64",
                "x": 0.796645,
                "y": 3.729272,
                "yshift": 15,
                "z": 0.795761
               },
               {
                "font": {
                 "color": "blue"
                },
                "showarrow": false,
                "text": "65",
                "x": 0.386766,
                "y": 4.573165,
                "yshift": 15,
                "z": -1.490661
               },
               {
                "font": {
                 "color": "blue"
                },
                "showarrow": false,
                "text": "66",
                "x": -1.303062,
                "y": 3.454859,
                "yshift": 15,
                "z": -2.927756
               },
               {
                "font": {
                 "color": "blue"
                },
                "showarrow": false,
                "text": "67",
                "x": -2.606585,
                "y": 1.58217,
                "yshift": 15,
                "z": -2.069412
               }
              ]
             }
            ],
            "label": "Atom indices",
            "method": "relayout"
           },
           {
            "args": [
             {
              "scene.annotations": [
               {
                "showarrow": false,
                "text": "1.84",
                "x": -2.17425,
                "y": 0.832376,
                "yshift": 10,
                "z": 0.207835
               },
               {
                "showarrow": false,
                "text": "1.83",
                "x": -3.558482,
                "y": 0.4303,
                "yshift": 10,
                "z": 0.3060055
               },
               {
                "showarrow": false,
                "text": "1.41",
                "x": -4.8921675,
                "y": 0.22426649999999998,
                "yshift": 10,
                "z": -0.11584900000000001
               },
               {
                "showarrow": false,
                "text": "1.4",
                "x": -6.0311889999999995,
                "y": -0.039035,
                "yshift": 10,
                "z": -0.470224
               },
               {
                "showarrow": false,
                "text": "1.39",
                "x": -6.853313999999999,
                "y": 0.837,
                "yshift": 10,
                "z": -0.6038115
               },
               {
                "showarrow": false,
                "text": "1.39",
                "x": -6.555902,
                "y": 1.978446,
                "yshift": 10,
                "z": -0.3649645
               },
               {
                "showarrow": false,
                "text": "1.4",
                "x": -5.4366325,
                "y": 2.2428489999999996,
                "yshift": 10,
                "z": 0.0056164999999999965
               },
               {
                "showarrow": false,
                "text": "1.41",
                "x": -1.9588405,
                "y": -1.7725385,
                "yshift": 10,
                "z": -0.273648
               },
               {
                "showarrow": false,
                "text": "1.4",
                "x": -1.432216,
                "y": -2.870565,
                "yshift": 10,
                "z": -0.37485599999999997
               },
               {
                "showarrow": false,
                "text": "1.39",
                "x": -1.4569025,
                "y": -3.471692,
                "yshift": 10,
                "z": -1.422242
               },
               {
                "showarrow": false,
                "text": "1.39",
                "x": -2.00527,
                "y": -2.985861,
                "yshift": 10,
                "z": -2.3765020000000003
               },
               {
                "showarrow": false,
                "text": "1.4",
                "x": -2.5269820000000003,
                "y": -1.8985185,
                "yshift": 10,
                "z": -2.2821035
               },
               {
                "showarrow": false,
                "text": "1.38",
                "x": -0.4582765,
                "y": 1.941942,
                "yshift": 10,
                "z": 1.2972700000000001
               },
               {
                "showarrow": false,
                "text": "1.38",
                "x": -0.046646999999999994,
                "y": 1.1422625,
                "yshift": 10,
                "z": 2.0829335
               },
               {
                "showarrow": false,
                "text": "1.41",
                "x": 0.743808,
                "y": 0.19073500000000002,
                "yshift": 10,
                "z": 1.9055015
               },
               {
                "showarrow": false,
                "text": "1.83",
                "x": 1.7827445,
                "y": 0.2575225,
                "yshift": 10,
                "z": 0.9253195
               },
               {
                "showarrow": false,
                "text": "1.82",
                "x": 2.4357309999999996,
                "y": -0.05089650000000001,
                "yshift": 10,
                "z": -0.3074405
               },
               {
                "showarrow": false,
                "text": "1.4",
                "x": 2.097113,
                "y": -0.9053185,
                "yshift": 10,
                "z": -1.3429834999999999
               },
               {
                "showarrow": false,
                "text": "1.4",
                "x": 1.6868375,
                "y": -1.585673,
                "yshift": 10,
                "z": -2.2692885
               },
               {
                "showarrow": false,
                "text": "1.39",
                "x": 2.3634955,
                "y": -2.4760895,
                "yshift": 10,
                "z": -2.725952
               },
               {
                "showarrow": false,
                "text": "1.39",
                "x": 3.451292,
                "y": -2.697134,
                "yshift": 10,
                "z": -2.2639804999999997
               },
               {
                "showarrow": false,
                "text": "1.4",
                "x": 3.861541,
                "y": -2.028238,
                "yshift": 10,
                "z": -1.344223
               },
               {
                "showarrow": false,
                "text": "1.4",
                "x": 4.0141405,
                "y": 1.02715,
                "yshift": 10,
                "z": 1.688511
               },
               {
                "showarrow": false,
                "text": "1.4",
                "x": 4.7704830000000005,
                "y": 1.18321,
                "yshift": 10,
                "z": 2.6319945000000002
               },
               {
                "showarrow": false,
                "text": "1.39",
                "x": 5.9055225,
                "y": 1.5689899999999999,
                "yshift": 10,
                "z": 2.458756
               },
               {
                "showarrow": false,
                "text": "1.39",
                "x": 6.2928180000000005,
                "y": 1.8151255,
                "yshift": 10,
                "z": 1.3466885
               },
               {
                "showarrow": false,
                "text": "1.4",
                "x": 5.545129,
                "y": 1.6763534999999998,
                "yshift": 10,
                "z": 0.409439
               },
               {
                "showarrow": false,
                "text": "1.4",
                "x": 1.317492,
                "y": -1.710708,
                "yshift": 10,
                "z": 2.6061604999999997
               },
               {
                "showarrow": false,
                "text": "1.39",
                "x": 0.4648025,
                "y": -1.6817544999999998,
                "yshift": 10,
                "z": 3.4585995
               },
               {
                "showarrow": false,
                "text": "1.39",
                "x": -0.2474675,
                "y": -0.721212,
                "yshift": 10,
                "z": 3.5483655
               },
               {
                "showarrow": false,
                "text": "1.39",
                "x": -0.0554745,
                "y": 3.4778585,
                "yshift": 10,
                "z": -0.4777315
               },
               {
                "showarrow": false,
                "text": "1.39",
                "x": -0.640798,
                "y": 3.4027725,
                "yshift": 10,
                "z": -1.52121
               },
               {
                "showarrow": false,
                "text": "1.4",
                "x": -1.4758555,
                "y": 2.5458875,
                "yshift": 10,
                "z": -1.673314
               },
               {
                "showarrow": false,
                "text": "1.41",
                "x": -4.595023,
                "y": 1.3647045,
                "yshift": 10,
                "z": 0.12114449999999999
               },
               {
                "showarrow": false,
                "text": "1.4",
                "x": -2.505239,
                "y": -1.2863229999999999,
                "yshift": 10,
                "z": -1.2266355
               },
               {
                "showarrow": false,
                "text": "1.4",
                "x": 3.18402,
                "y": -1.126839,
                "yshift": 10,
                "z": -0.8798895
               },
               {
                "showarrow": false,
                "text": "1.41",
                "x": 4.401491,
                "y": 1.274158,
                "yshift": 10,
                "z": 0.578023
               },
               {
                "showarrow": false,
                "text": "1.82",
                "x": -2.516911,
                "y": -0.5334485,
                "yshift": 10,
                "z": -0.006317500000000031
               },
               {
                "showarrow": false,
                "text": "1.82",
                "x": 3.080377,
                "y": 0.8458975,
                "yshift": 10,
                "z": 0.629873
               },
               {
                "showarrow": false,
                "text": "1.41",
                "x": -1.1290455,
                "y": 1.8021000000000003,
                "yshift": 10,
                "z": 0.262415
               },
               {
                "showarrow": false,
                "text": "1.41",
                "x": 1.4695645000000002,
                "y": -0.7684215,
                "yshift": 10,
                "z": 1.8304705
               },
               {
                "showarrow": false,
                "text": "1.41",
                "x": -0.12053449999999999,
                "y": 0.208991,
                "yshift": 10,
                "z": 2.7709574999999997
               },
               {
                "showarrow": false,
                "text": "1.41",
                "x": -0.283273,
                "y": 2.674253,
                "yshift": 10,
                "z": 0.406983
               },
               {
                "showarrow": false,
                "text": "1.09",
                "x": 3.7589765,
                "y": 0.8569045000000001,
                "yshift": 10,
                "z": 2.7316645
               },
               {
                "showarrow": false,
                "text": "1.09",
                "x": 5.485303,
                "y": 1.33798,
                "yshift": 10,
                "z": 3.4229215
               },
               {
                "showarrow": false,
                "text": "1.09",
                "x": 6.8992235,
                "y": 1.9155379999999997,
                "yshift": 10,
                "z": 2.2307465
               },
               {
                "showarrow": false,
                "text": "1.09",
                "x": 6.563374,
                "y": 2.020387,
                "yshift": 10,
                "z": 0.325055
               },
               {
                "showarrow": false,
                "text": "1.09",
                "x": 4.834864,
                "y": 1.5397349999999999,
                "yshift": 10,
                "z": -0.380967
               },
               {
                "showarrow": false,
                "text": "1.09",
                "x": 2.065332,
                "y": -1.679745,
                "yshift": 10,
                "z": 1.8485174999999998
               },
               {
                "showarrow": false,
                "text": "1.09",
                "x": 1.140549,
                "y": -2.5049504999999996,
                "yshift": 10,
                "z": 3.3135155000000003
               },
               {
                "showarrow": false,
                "text": "1.09",
                "x": -0.3131145,
                "y": -1.5785105000000001,
                "yshift": 10,
                "z": 4.1954805
               },
               {
                "showarrow": false,
                "text": "1.09",
                "x": -0.8472035,
                "y": 0.1680315,
                "yshift": 10,
                "z": 3.5705465
               },
               {
                "showarrow": false,
                "text": "1.09",
                "x": 0.4276915,
                "y": 3.484188,
                "yshift": 10,
                "z": 0.48044850000000006
               },
               {
                "showarrow": false,
                "text": "1.09",
                "x": 0.1085395,
                "y": 4.144889,
                "yshift": 10,
                "z": -1.3056299999999998
               },
               {
                "showarrow": false,
                "text": "1.09",
                "x": -1.2074855,
                "y": 3.2718955,
                "yshift": 10,
                "z": -2.4247885
               },
               {
                "showarrow": false,
                "text": "1.09",
                "x": -2.2231935,
                "y": 1.7925065,
                "yshift": 10,
                "z": -1.7471094999999999
               },
               {
                "showarrow": false,
                "text": "1.09",
                "x": 1.131219,
                "y": -0.786053,
                "yshift": 10,
                "z": -1.8236695
               },
               {
                "showarrow": false,
                "text": "1.09",
                "x": 1.380863,
                "y": -2.220275,
                "yshift": 10,
                "z": -3.0830155
               },
               {
                "showarrow": false,
                "text": "1.09",
                "x": 3.0207215,
                "y": -3.250238,
                "yshift": 10,
                "z": -3.0810605
               },
               {
                "showarrow": false,
                "text": "1.09",
                "x": 4.4117685,
                "y": -2.835013,
                "yshift": 10,
                "z": -1.800237
               },
               {
                "showarrow": false,
                "text": "1.09",
                "x": 4.1720795,
                "y": -1.4115220000000002,
                "yshift": 10,
                "z": -0.530052
               },
               {
                "showarrow": false,
                "text": "1.41",
                "x": -1.7363045,
                "y": 1.7488205,
                "yshift": 10,
                "z": -0.7744035
               },
               {
                "showarrow": false,
                "text": "1.09",
                "x": -5.2686125,
                "y": -0.774162,
                "yshift": 10,
                "z": -0.322143
               },
               {
                "showarrow": false,
                "text": "1.09",
                "x": -7.048030499999999,
                "y": -0.20551,
                "yshift": 10,
                "z": -0.7887299999999999
               },
               {
                "showarrow": false,
                "text": "1.09",
                "x": -7.5309405,
                "y": 1.6677499999999998,
                "yshift": 10,
                "z": -0.7000029999999999
               },
               {
                "showarrow": false,
                "text": "1.09",
                "x": -6.2192395000000005,
                "y": 2.972151,
                "yshift": 10,
                "z": -0.120866
               },
               {
                "showarrow": false,
                "text": "1.09",
                "x": -4.4359165,
                "y": 2.417475,
                "yshift": 10,
                "z": 0.3396855
               },
               {
                "showarrow": false,
                "text": "1.09",
                "x": -1.4443135,
                "y": -2.2934989999999997,
                "yshift": 10,
                "z": 0.5262185
               },
               {
                "showarrow": false,
                "text": "1.09",
                "x": -0.9820985,
                "y": -3.8381095,
                "yshift": 10,
                "z": -0.5276885
               },
               {
                "showarrow": false,
                "text": "1.09",
                "x": -1.5189534999999998,
                "y": -3.946948,
                "yshift": 10,
                "z": -2.386066
               },
               {
                "showarrow": false,
                "text": "1.09",
                "x": -2.5135395000000003,
                "y": -2.4890410000000003,
                "yshift": 10,
                "z": -3.1845185000000003
               },
               {
                "showarrow": false,
                "text": "1.09",
                "x": -2.9776285,
                "y": -0.9409970000000001,
                "yshift": 10,
                "z": -2.1414169999999997
               }
              ]
             }
            ],
            "label": "Bond lengths",
            "method": "relayout"
           },
           {
            "args": [
             {
              "scene.annotations": [
               {
                "font": {
                 "color": "blue"
                },
                "showarrow": false,
                "text": "1",
                "x": -1.632807,
                "y": 1.494798,
                "yshift": 15,
                "z": -0.124
               },
               {
                "font": {
                 "color": "blue"
                },
                "showarrow": false,
                "text": "2",
                "x": -2.715693,
                "y": 0.169954,
                "yshift": 15,
                "z": 0.53967
               },
               {
                "font": {
                 "color": "blue"
                },
                "showarrow": false,
                "text": "3",
                "x": -4.401271,
                "y": 0.690646,
                "yshift": 15,
                "z": 0.072341
               },
               {
                "font": {
                 "color": "blue"
                },
                "showarrow": false,
                "text": "4",
                "x": -5.383064,
                "y": -0.242113,
                "yshift": 15,
                "z": -0.304039
               },
               {
                "font": {
                 "color": "blue"
                },
                "showarrow": false,
                "text": "5",
                "x": -6.679314,
                "y": 0.164043,
                "yshift": 15,
                "z": -0.636409
               },
               {
                "font": {
                 "color": "blue"
                },
                "showarrow": false,
                "text": "6",
                "x": -7.027314,
                "y": 1.509957,
                "yshift": 15,
                "z": -0.571214
               },
               {
                "font": {
                 "color": "blue"
                },
                "showarrow": false,
                "text": "7",
                "x": -6.08449,
                "y": 2.446935,
                "yshift": 15,
                "z": -0.158715
               },
               {
                "font": {
                 "color": "blue"
                },
                "showarrow": false,
                "text": "8",
                "x": -4.788775,
                "y": 2.038763,
                "yshift": 15,
                "z": 0.169948
               },
               {
                "font": {
                 "color": "blue"
                },
                "showarrow": false,
                "text": "9",
                "x": -2.318129,
                "y": -1.236851,
                "yshift": 15,
                "z": -0.552305
               },
               {
                "font": {
                 "color": "blue"
                },
                "showarrow": false,
                "text": "10",
                "x": -1.599552,
                "y": -2.308226,
                "yshift": 15,
                "z": 0.005009
               },
               {
                "font": {
                 "color": "blue"
                },
                "showarrow": false,
                "text": "11",
                "x": -1.26488,
                "y": -3.432904,
                "yshift": 15,
                "z": -0.754721
               },
               {
                "font": {
                 "color": "blue"
                },
                "showarrow": false,
                "text": "12",
                "x": -1.648925,
                "y": -3.51048,
                "yshift": 15,
                "z": -2.089763
               },
               {
                "font": {
                 "color": "blue"
                },
                "showarrow": false,
                "text": "13",
                "x": -2.361615,
                "y": -2.461242,
                "yshift": 15,
                "z": -2.663241
               },
               {
                "font": {
                 "color": "blue"
                },
                "showarrow": false,
                "text": "14",
                "x": -2.692349,
                "y": -1.335795,
                "yshift": 15,
                "z": -1.900966
               },
               {
                "font": {
                 "color": "blue"
                },
                "showarrow": false,
                "text": "15",
                "x": -0.625284,
                "y": 2.109402,
                "yshift": 15,
                "z": 0.64883
               },
               {
                "font": {
                 "color": "blue"
                },
                "showarrow": false,
                "text": "16",
                "x": -0.291269,
                "y": 1.774482,
                "yshift": 15,
                "z": 1.94571
               },
               {
                "font": {
                 "color": "blue"
                },
                "showarrow": false,
                "text": "17",
                "x": 0.197975,
                "y": 0.510043,
                "yshift": 15,
                "z": 2.220157
               },
               {
                "font": {
                 "color": "blue"
                },
                "showarrow": false,
                "text": "18",
                "x": 1.289641,
                "y": -0.128573,
                "yshift": 15,
                "z": 1.590846
               },
               {
                "font": {
                 "color": "blue"
                },
                "showarrow": false,
                "text": "19",
                "x": 2.275848,
                "y": 0.643618,
                "yshift": 15,
                "z": 0.259793
               },
               {
                "font": {
                 "color": "blue"
                },
                "showarrow": false,
                "text": "20",
                "x": 2.595614,
                "y": -0.745411,
                "yshift": 15,
                "z": -0.874674
               },
               {
                "font": {
                 "color": "blue"
                },
                "showarrow": false,
                "text": "21",
                "x": 1.598612,
                "y": -1.065226,
                "yshift": 15,
                "z": -1.811293
               },
               {
                "font": {
                 "color": "blue"
                },
                "showarrow": false,
                "text": "22",
                "x": 1.775063,
                "y": -2.10612,
                "yshift": 15,
                "z": -2.727284
               },
               {
                "font": {
                 "color": "blue"
                },
                "showarrow": false,
                "text": "23",
                "x": 2.951928,
                "y": -2.846059,
                "yshift": 15,
                "z": -2.72462
               },
               {
                "font": {
                 "color": "blue"
                },
                "showarrow": false,
                "text": "24",
                "x": 3.950656,
                "y": -2.548209,
                "yshift": 15,
                "z": -1.803341
               },
               {
                "font": {
                 "color": "blue"
                },
                "showarrow": false,
                "text": "25",
                "x": 3.772426,
                "y": -1.508267,
                "yshift": 15,
                "z": -0.885105
               },
               {
                "font": {
                 "color": "blue"
                },
                "showarrow": false,
                "text": "26",
                "x": 3.884906,
                "y": 1.048177,
                "yshift": 15,
                "z": 0.999953
               },
               {
                "font": {
                 "color": "blue"
                },
                "showarrow": false,
                "text": "27",
                "x": 4.143375,
                "y": 1.006123,
                "yshift": 15,
                "z": 2.377069
               },
               {
                "font": {
                 "color": "blue"
                },
                "showarrow": false,
                "text": "28",
                "x": 5.397591,
                "y": 1.360297,
                "yshift": 15,
                "z": 2.88692
               },
               {
                "font": {
                 "color": "blue"
                },
                "showarrow": false,
                "text": "29",
                "x": 6.413454,
                "y": 1.777683,
                "yshift": 15,
                "z": 2.030592
               },
               {
                "font": {
                 "color": "blue"
                },
                "showarrow": false,
                "text": "30",
                "x": 6.172182,
                "y": 1.852568,
                "yshift": 15,
                "z": 0.662785
               },
               {
                "font": {
                 "color": "blue"
                },
                "showarrow": false,
                "text": "31",
                "x": 4.918076,
                "y": 1.500139,
                "yshift": 15,
                "z": 0.156093
               },
               {
                "font": {
                 "color": "blue"
                },
                "showarrow": false,
                "text": "32",
                "x": 1.649488,
                "y": -1.40827,
                "yshift": 15,
                "z": 2.070095
               },
               {
                "font": {
                 "color": "blue"
                },
                "showarrow": false,
                "text": "33",
                "x": 0.985496,
                "y": -2.013146,
                "yshift": 15,
                "z": 3.142226
               },
               {
                "font": {
                 "color": "blue"
                },
                "showarrow": false,
                "text": "34",
                "x": -0.055891,
                "y": -1.350363,
                "yshift": 15,
                "z": 3.774973
               },
               {
                "font": {
                 "color": "blue"
                },
                "showarrow": false,
                "text": "35",
                "x": -0.439044,
                "y": -0.092061,
                "yshift": 15,
                "z": 3.321758
               },
               {
                "font": {
                 "color": "blue"
                },
                "showarrow": false,
                "text": "36",
                "x": 0.058738,
                "y": 3.239104,
                "yshift": 15,
                "z": 0.165136
               },
               {
                "font": {
                 "color": "blue"
                },
                "showarrow": false,
                "text": "37",
                "x": -0.169687,
                "y": 3.716613,
                "yshift": 15,
                "z": -1.120599
               },
               {
                "font": {
                 "color": "blue"
                },
                "showarrow": false,
                "text": "38",
                "x": -1.111909,
                "y": 3.088932,
                "yshift": 15,
                "z": -1.921821
               },
               {
                "font": {
                 "color": "blue"
                },
                "showarrow": false,
                "text": "39",
                "x": -1.839802,
                "y": 2.002843,
                "yshift": 15,
                "z": -1.424807
               },
               {
                "font": {
                 "color": "blue"
                },
                "showarrow": false,
                "text": "40",
                "x": -5.154161,
                "y": -1.306211,
                "yshift": 15,
                "z": -0.340247
               },
               {
                "font": {
                 "color": "blue"
                },
                "showarrow": false,
                "text": "41",
                "x": -7.416747,
                "y": -0.575063,
                "yshift": 15,
                "z": -0.941051
               },
               {
                "font": {
                 "color": "blue"
                },
                "showarrow": false,
                "text": "42",
                "x": -8.034567,
                "y": 1.825543,
                "yshift": 15,
                "z": -0.828792
               },
               {
                "font": {
                 "color": "blue"
                },
                "showarrow": false,
                "text": "43",
                "x": -6.353989,
                "y": 3.497367,
                "yshift": 15,
                "z": -0.083017
               },
               {
                "font": {
                 "color": "blue"
                },
                "showarrow": false,
                "text": "44",
                "x": -4.083058,
                "y": 2.796187,
                "yshift": 15,
                "z": 0.509423
               },
               {
                "font": {
                 "color": "blue"
                },
                "showarrow": false,
                "text": "45",
                "x": -1.289075,
                "y": -2.278772,
                "yshift": 15,
                "z": 1.047428
               },
               {
                "font": {
                 "color": "blue"
                },
                "showarrow": false,
                "text": "46",
                "x": -0.699317,
                "y": -4.243315,
                "yshift": 15,
                "z": -0.300656
               },
               {
                "font": {
                 "color": "blue"
                },
                "showarrow": false,
                "text": "47",
                "x": -1.388982,
                "y": -4.383416,
                "yshift": 15,
                "z": -2.682369
               },
               {
                "font": {
                 "color": "blue"
                },
                "showarrow": false,
                "text": "48",
                "x": -2.665464,
                "y": -2.51684,
                "yshift": 15,
                "z": -3.705796
               },
               {
                "font": {
                 "color": "blue"
                },
                "showarrow": false,
                "text": "49",
                "x": -3.262908,
                "y": -0.546199,
                "yshift": 15,
                "z": -2.381868
               },
               {
                "font": {
                 "color": "blue"
                },
                "showarrow": false,
                "text": "50",
                "x": 0.663826,
                "y": -0.50688,
                "yshift": 15,
                "z": -1.836046
               },
               {
                "font": {
                 "color": "blue"
                },
                "showarrow": false,
                "text": "51",
                "x": 0.986663,
                "y": -2.33443,
                "yshift": 15,
                "z": -3.438747
               },
               {
                "font": {
                 "color": "blue"
                },
                "showarrow": false,
                "text": "52",
                "x": 3.089515,
                "y": -3.654417,
                "yshift": 15,
                "z": -3.437501
               },
               {
                "font": {
                 "color": "blue"
                },
                "showarrow": false,
                "text": "53",
                "x": 4.872881,
                "y": -3.121817,
                "yshift": 15,
                "z": -1.797133
               },
               {
                "font": {
                 "color": "blue"
                },
                "showarrow": false,
                "text": "54",
                "x": 4.571733,
                "y": -1.314777,
                "yshift": 15,
                "z": -0.174999
               },
               {
                "font": {
                 "color": "blue"
                },
                "showarrow": false,
                "text": "55",
                "x": 3.374578,
                "y": 0.707686,
                "yshift": 15,
                "z": 3.08626
               },
               {
                "font": {
                 "color": "blue"
                },
                "showarrow": false,
                "text": "56",
                "x": 5.573015,
                "y": 1.315663,
                "yshift": 15,
                "z": 3.958923
               },
               {
                "font": {
                 "color": "blue"
                },
                "showarrow": false,
                "text": "57",
                "x": 7.384993,
                "y": 2.053393,
                "yshift": 15,
                "z": 2.430901
               },
               {
                "font": {
                 "color": "blue"
                },
                "showarrow": false,
                "text": "58",
                "x": 6.954566,
                "y": 2.188206,
                "yshift": 15,
                "z": -0.012675
               },
               {
                "font": {
                 "color": "blue"
                },
                "showarrow": false,
                "text": "59",
                "x": 4.751652,
                "y": 1.579331,
                "yshift": 15,
                "z": -0.918027
               },
               {
                "font": {
                 "color": "blue"
                },
                "showarrow": false,
                "text": "60",
                "x": 2.481176,
                "y": -1.95122,
                "yshift": 15,
                "z": 1.62694
               },
               {
                "font": {
                 "color": "blue"
                },
                "showarrow": false,
                "text": "61",
                "x": 1.295602,
                "y": -2.996755,
                "yshift": 15,
                "z": 3.484805
               },
               {
                "font": {
                 "color": "blue"
                },
                "showarrow": false,
                "text": "62",
                "x": -0.570338,
                "y": -1.806658,
                "yshift": 15,
                "z": 4.615988
               },
               {
                "font": {
                 "color": "blue"
                },
                "showarrow": false,
                "text": "63",
                "x": -1.255363,
                "y": 0.428124,
                "yshift": 15,
                "z": 3.819335
               },
               {
                "font": {
                 "color": "blue"
                },
                "showarrow": false,
                "text": "64",
                "x": 0.796645,
                "y": 3.729272,
                "yshift": 15,
                "z": 0.795761
               },
               {
                "font": {
                 "color": "blue"
                },
                "showarrow": false,
                "text": "65",
                "x": 0.386766,
                "y": 4.573165,
                "yshift": 15,
                "z": -1.490661
               },
               {
                "font": {
                 "color": "blue"
                },
                "showarrow": false,
                "text": "66",
                "x": -1.303062,
                "y": 3.454859,
                "yshift": 15,
                "z": -2.927756
               },
               {
                "font": {
                 "color": "blue"
                },
                "showarrow": false,
                "text": "67",
                "x": -2.606585,
                "y": 1.58217,
                "yshift": 15,
                "z": -2.069412
               },
               {
                "showarrow": false,
                "text": "1.84",
                "x": -2.17425,
                "y": 0.832376,
                "yshift": 10,
                "z": 0.207835
               },
               {
                "showarrow": false,
                "text": "1.83",
                "x": -3.558482,
                "y": 0.4303,
                "yshift": 10,
                "z": 0.3060055
               },
               {
                "showarrow": false,
                "text": "1.41",
                "x": -4.8921675,
                "y": 0.22426649999999998,
                "yshift": 10,
                "z": -0.11584900000000001
               },
               {
                "showarrow": false,
                "text": "1.4",
                "x": -6.0311889999999995,
                "y": -0.039035,
                "yshift": 10,
                "z": -0.470224
               },
               {
                "showarrow": false,
                "text": "1.39",
                "x": -6.853313999999999,
                "y": 0.837,
                "yshift": 10,
                "z": -0.6038115
               },
               {
                "showarrow": false,
                "text": "1.39",
                "x": -6.555902,
                "y": 1.978446,
                "yshift": 10,
                "z": -0.3649645
               },
               {
                "showarrow": false,
                "text": "1.4",
                "x": -5.4366325,
                "y": 2.2428489999999996,
                "yshift": 10,
                "z": 0.0056164999999999965
               },
               {
                "showarrow": false,
                "text": "1.41",
                "x": -1.9588405,
                "y": -1.7725385,
                "yshift": 10,
                "z": -0.273648
               },
               {
                "showarrow": false,
                "text": "1.4",
                "x": -1.432216,
                "y": -2.870565,
                "yshift": 10,
                "z": -0.37485599999999997
               },
               {
                "showarrow": false,
                "text": "1.39",
                "x": -1.4569025,
                "y": -3.471692,
                "yshift": 10,
                "z": -1.422242
               },
               {
                "showarrow": false,
                "text": "1.39",
                "x": -2.00527,
                "y": -2.985861,
                "yshift": 10,
                "z": -2.3765020000000003
               },
               {
                "showarrow": false,
                "text": "1.4",
                "x": -2.5269820000000003,
                "y": -1.8985185,
                "yshift": 10,
                "z": -2.2821035
               },
               {
                "showarrow": false,
                "text": "1.38",
                "x": -0.4582765,
                "y": 1.941942,
                "yshift": 10,
                "z": 1.2972700000000001
               },
               {
                "showarrow": false,
                "text": "1.38",
                "x": -0.046646999999999994,
                "y": 1.1422625,
                "yshift": 10,
                "z": 2.0829335
               },
               {
                "showarrow": false,
                "text": "1.41",
                "x": 0.743808,
                "y": 0.19073500000000002,
                "yshift": 10,
                "z": 1.9055015
               },
               {
                "showarrow": false,
                "text": "1.83",
                "x": 1.7827445,
                "y": 0.2575225,
                "yshift": 10,
                "z": 0.9253195
               },
               {
                "showarrow": false,
                "text": "1.82",
                "x": 2.4357309999999996,
                "y": -0.05089650000000001,
                "yshift": 10,
                "z": -0.3074405
               },
               {
                "showarrow": false,
                "text": "1.4",
                "x": 2.097113,
                "y": -0.9053185,
                "yshift": 10,
                "z": -1.3429834999999999
               },
               {
                "showarrow": false,
                "text": "1.4",
                "x": 1.6868375,
                "y": -1.585673,
                "yshift": 10,
                "z": -2.2692885
               },
               {
                "showarrow": false,
                "text": "1.39",
                "x": 2.3634955,
                "y": -2.4760895,
                "yshift": 10,
                "z": -2.725952
               },
               {
                "showarrow": false,
                "text": "1.39",
                "x": 3.451292,
                "y": -2.697134,
                "yshift": 10,
                "z": -2.2639804999999997
               },
               {
                "showarrow": false,
                "text": "1.4",
                "x": 3.861541,
                "y": -2.028238,
                "yshift": 10,
                "z": -1.344223
               },
               {
                "showarrow": false,
                "text": "1.4",
                "x": 4.0141405,
                "y": 1.02715,
                "yshift": 10,
                "z": 1.688511
               },
               {
                "showarrow": false,
                "text": "1.4",
                "x": 4.7704830000000005,
                "y": 1.18321,
                "yshift": 10,
                "z": 2.6319945000000002
               },
               {
                "showarrow": false,
                "text": "1.39",
                "x": 5.9055225,
                "y": 1.5689899999999999,
                "yshift": 10,
                "z": 2.458756
               },
               {
                "showarrow": false,
                "text": "1.39",
                "x": 6.2928180000000005,
                "y": 1.8151255,
                "yshift": 10,
                "z": 1.3466885
               },
               {
                "showarrow": false,
                "text": "1.4",
                "x": 5.545129,
                "y": 1.6763534999999998,
                "yshift": 10,
                "z": 0.409439
               },
               {
                "showarrow": false,
                "text": "1.4",
                "x": 1.317492,
                "y": -1.710708,
                "yshift": 10,
                "z": 2.6061604999999997
               },
               {
                "showarrow": false,
                "text": "1.39",
                "x": 0.4648025,
                "y": -1.6817544999999998,
                "yshift": 10,
                "z": 3.4585995
               },
               {
                "showarrow": false,
                "text": "1.39",
                "x": -0.2474675,
                "y": -0.721212,
                "yshift": 10,
                "z": 3.5483655
               },
               {
                "showarrow": false,
                "text": "1.39",
                "x": -0.0554745,
                "y": 3.4778585,
                "yshift": 10,
                "z": -0.4777315
               },
               {
                "showarrow": false,
                "text": "1.39",
                "x": -0.640798,
                "y": 3.4027725,
                "yshift": 10,
                "z": -1.52121
               },
               {
                "showarrow": false,
                "text": "1.4",
                "x": -1.4758555,
                "y": 2.5458875,
                "yshift": 10,
                "z": -1.673314
               },
               {
                "showarrow": false,
                "text": "1.41",
                "x": -4.595023,
                "y": 1.3647045,
                "yshift": 10,
                "z": 0.12114449999999999
               },
               {
                "showarrow": false,
                "text": "1.4",
                "x": -2.505239,
                "y": -1.2863229999999999,
                "yshift": 10,
                "z": -1.2266355
               },
               {
                "showarrow": false,
                "text": "1.4",
                "x": 3.18402,
                "y": -1.126839,
                "yshift": 10,
                "z": -0.8798895
               },
               {
                "showarrow": false,
                "text": "1.41",
                "x": 4.401491,
                "y": 1.274158,
                "yshift": 10,
                "z": 0.578023
               },
               {
                "showarrow": false,
                "text": "1.82",
                "x": -2.516911,
                "y": -0.5334485,
                "yshift": 10,
                "z": -0.006317500000000031
               },
               {
                "showarrow": false,
                "text": "1.82",
                "x": 3.080377,
                "y": 0.8458975,
                "yshift": 10,
                "z": 0.629873
               },
               {
                "showarrow": false,
                "text": "1.41",
                "x": -1.1290455,
                "y": 1.8021000000000003,
                "yshift": 10,
                "z": 0.262415
               },
               {
                "showarrow": false,
                "text": "1.41",
                "x": 1.4695645000000002,
                "y": -0.7684215,
                "yshift": 10,
                "z": 1.8304705
               },
               {
                "showarrow": false,
                "text": "1.41",
                "x": -0.12053449999999999,
                "y": 0.208991,
                "yshift": 10,
                "z": 2.7709574999999997
               },
               {
                "showarrow": false,
                "text": "1.41",
                "x": -0.283273,
                "y": 2.674253,
                "yshift": 10,
                "z": 0.406983
               },
               {
                "showarrow": false,
                "text": "1.09",
                "x": 3.7589765,
                "y": 0.8569045000000001,
                "yshift": 10,
                "z": 2.7316645
               },
               {
                "showarrow": false,
                "text": "1.09",
                "x": 5.485303,
                "y": 1.33798,
                "yshift": 10,
                "z": 3.4229215
               },
               {
                "showarrow": false,
                "text": "1.09",
                "x": 6.8992235,
                "y": 1.9155379999999997,
                "yshift": 10,
                "z": 2.2307465
               },
               {
                "showarrow": false,
                "text": "1.09",
                "x": 6.563374,
                "y": 2.020387,
                "yshift": 10,
                "z": 0.325055
               },
               {
                "showarrow": false,
                "text": "1.09",
                "x": 4.834864,
                "y": 1.5397349999999999,
                "yshift": 10,
                "z": -0.380967
               },
               {
                "showarrow": false,
                "text": "1.09",
                "x": 2.065332,
                "y": -1.679745,
                "yshift": 10,
                "z": 1.8485174999999998
               },
               {
                "showarrow": false,
                "text": "1.09",
                "x": 1.140549,
                "y": -2.5049504999999996,
                "yshift": 10,
                "z": 3.3135155000000003
               },
               {
                "showarrow": false,
                "text": "1.09",
                "x": -0.3131145,
                "y": -1.5785105000000001,
                "yshift": 10,
                "z": 4.1954805
               },
               {
                "showarrow": false,
                "text": "1.09",
                "x": -0.8472035,
                "y": 0.1680315,
                "yshift": 10,
                "z": 3.5705465
               },
               {
                "showarrow": false,
                "text": "1.09",
                "x": 0.4276915,
                "y": 3.484188,
                "yshift": 10,
                "z": 0.48044850000000006
               },
               {
                "showarrow": false,
                "text": "1.09",
                "x": 0.1085395,
                "y": 4.144889,
                "yshift": 10,
                "z": -1.3056299999999998
               },
               {
                "showarrow": false,
                "text": "1.09",
                "x": -1.2074855,
                "y": 3.2718955,
                "yshift": 10,
                "z": -2.4247885
               },
               {
                "showarrow": false,
                "text": "1.09",
                "x": -2.2231935,
                "y": 1.7925065,
                "yshift": 10,
                "z": -1.7471094999999999
               },
               {
                "showarrow": false,
                "text": "1.09",
                "x": 1.131219,
                "y": -0.786053,
                "yshift": 10,
                "z": -1.8236695
               },
               {
                "showarrow": false,
                "text": "1.09",
                "x": 1.380863,
                "y": -2.220275,
                "yshift": 10,
                "z": -3.0830155
               },
               {
                "showarrow": false,
                "text": "1.09",
                "x": 3.0207215,
                "y": -3.250238,
                "yshift": 10,
                "z": -3.0810605
               },
               {
                "showarrow": false,
                "text": "1.09",
                "x": 4.4117685,
                "y": -2.835013,
                "yshift": 10,
                "z": -1.800237
               },
               {
                "showarrow": false,
                "text": "1.09",
                "x": 4.1720795,
                "y": -1.4115220000000002,
                "yshift": 10,
                "z": -0.530052
               },
               {
                "showarrow": false,
                "text": "1.41",
                "x": -1.7363045,
                "y": 1.7488205,
                "yshift": 10,
                "z": -0.7744035
               },
               {
                "showarrow": false,
                "text": "1.09",
                "x": -5.2686125,
                "y": -0.774162,
                "yshift": 10,
                "z": -0.322143
               },
               {
                "showarrow": false,
                "text": "1.09",
                "x": -7.048030499999999,
                "y": -0.20551,
                "yshift": 10,
                "z": -0.7887299999999999
               },
               {
                "showarrow": false,
                "text": "1.09",
                "x": -7.5309405,
                "y": 1.6677499999999998,
                "yshift": 10,
                "z": -0.7000029999999999
               },
               {
                "showarrow": false,
                "text": "1.09",
                "x": -6.2192395000000005,
                "y": 2.972151,
                "yshift": 10,
                "z": -0.120866
               },
               {
                "showarrow": false,
                "text": "1.09",
                "x": -4.4359165,
                "y": 2.417475,
                "yshift": 10,
                "z": 0.3396855
               },
               {
                "showarrow": false,
                "text": "1.09",
                "x": -1.4443135,
                "y": -2.2934989999999997,
                "yshift": 10,
                "z": 0.5262185
               },
               {
                "showarrow": false,
                "text": "1.09",
                "x": -0.9820985,
                "y": -3.8381095,
                "yshift": 10,
                "z": -0.5276885
               },
               {
                "showarrow": false,
                "text": "1.09",
                "x": -1.5189534999999998,
                "y": -3.946948,
                "yshift": 10,
                "z": -2.386066
               },
               {
                "showarrow": false,
                "text": "1.09",
                "x": -2.5135395000000003,
                "y": -2.4890410000000003,
                "yshift": 10,
                "z": -3.1845185000000003
               },
               {
                "showarrow": false,
                "text": "1.09",
                "x": -2.9776285,
                "y": -0.9409970000000001,
                "yshift": 10,
                "z": -2.1414169999999997
               }
              ]
             }
            ],
            "label": "Both",
            "method": "relayout"
           },
           {
            "args": [
             {
              "scene.annotations": []
             }
            ],
            "label": "Hide all",
            "method": "relayout"
           }
          ],
          "direction": "down",
          "xanchor": "left",
          "yanchor": "top"
         }
        ]
       }
      }
     },
     "metadata": {},
     "output_type": "display_data"
    },
    {
     "name": "stderr",
     "output_type": "stream",
     "text": [
      "[10:51:16] Molecule does not have explicit Hs. Consider calling AddHs()\n"
     ]
    },
    {
     "ename": "IndexError",
     "evalue": "index 1 is out of bounds for axis 0 with size 1",
     "output_type": "error",
     "traceback": [
      "\u001b[1;31m---------------------------------------------------------------------------\u001b[0m",
      "\u001b[1;31mIndexError\u001b[0m                                Traceback (most recent call last)",
      "Cell \u001b[1;32mIn[9], line 73\u001b[0m\n\u001b[0;32m     64\u001b[0m         process_single_xyz(\n\u001b[0;32m     65\u001b[0m             xyz, fragment_smiles,\n\u001b[0;32m     66\u001b[0m             anchor_index, anchor_symbol, anchor_occurrence,\n\u001b[0;32m     67\u001b[0m             n_directions, bond_length, buffer,\n\u001b[0;32m     68\u001b[0m             ffname, steps\n\u001b[0;32m     69\u001b[0m         )\n\u001b[0;32m     71\u001b[0m \u001b[38;5;66;03m# Example usage:\u001b[39;00m\n\u001b[0;32m     72\u001b[0m \u001b[38;5;66;03m# process_single_xyz('L19.xyz', '[*]CC', anchor_index=1)\u001b[39;00m\n\u001b[1;32m---> 73\u001b[0m \u001b[43mprocess_directory\u001b[49m\u001b[43m(\u001b[49m\u001b[38;5;124;43mr\u001b[39;49m\u001b[38;5;124;43m'\u001b[39;49m\u001b[38;5;124;43mC:\u001b[39;49m\u001b[38;5;124;43m\\\u001b[39;49m\u001b[38;5;124;43mUsers\u001b[39;49m\u001b[38;5;124;43m\\\u001b[39;49m\u001b[38;5;124;43medens\u001b[39;49m\u001b[38;5;124;43m\\\u001b[39;49m\u001b[38;5;124;43mDocuments\u001b[39;49m\u001b[38;5;124;43m\\\u001b[39;49m\u001b[38;5;124;43mGitHub\u001b[39;49m\u001b[38;5;124;43m\\\u001b[39;49m\u001b[38;5;124;43mMolAlign\u001b[39;49m\u001b[38;5;124;43m\\\u001b[39;49m\u001b[38;5;124;43mMolAlign\u001b[39;49m\u001b[38;5;124;43m\\\u001b[39;49m\u001b[38;5;124;43mxyz_files\u001b[39;49m\u001b[38;5;124;43m\\\u001b[39;49m\u001b[38;5;124;43mhidaya\u001b[39;49m\u001b[38;5;124;43m'\u001b[39;49m\u001b[43m,\u001b[49m\u001b[43m \u001b[49m\u001b[38;5;124;43m'\u001b[39;49m\u001b[38;5;124;43m[*]C\u001b[39;49m\u001b[38;5;124;43m'\u001b[39;49m\u001b[43m,\u001b[49m\u001b[43m \u001b[49m\u001b[43manchor_index\u001b[49m\u001b[38;5;241;43m=\u001b[39;49m\u001b[38;5;241;43m1\u001b[39;49m\u001b[43m,\u001b[49m\u001b[43m \u001b[49m\u001b[43manchor_symbol\u001b[49m\u001b[38;5;241;43m=\u001b[39;49m\u001b[38;5;124;43m'\u001b[39;49m\u001b[38;5;124;43mP\u001b[39;49m\u001b[38;5;124;43m'\u001b[39;49m\u001b[43m,\u001b[49m\u001b[43m \u001b[49m\u001b[43manchor_occurrence\u001b[49m\u001b[38;5;241;43m=\u001b[39;49m\u001b[38;5;241;43m1\u001b[39;49m\u001b[43m,\u001b[49m\u001b[43mffname\u001b[49m\u001b[38;5;241;43m=\u001b[39;49m\u001b[38;5;124;43m'\u001b[39;49m\u001b[38;5;124;43mUFF\u001b[39;49m\u001b[38;5;124;43m'\u001b[39;49m\u001b[43m)\u001b[49m\n\u001b[0;32m     75\u001b[0m \u001b[38;5;66;03m# If you want a CLI, you can wrap these in argparse as needed.\u001b[39;00m\n",
      "Cell \u001b[1;32mIn[9], line 64\u001b[0m, in \u001b[0;36mprocess_directory\u001b[1;34m(directory, fragment_smiles, anchor_index, anchor_symbol, anchor_occurrence, n_directions, bond_length, buffer, ffname, steps)\u001b[0m\n\u001b[0;32m     62\u001b[0m xyz_files \u001b[38;5;241m=\u001b[39m [f \u001b[38;5;28;01mfor\u001b[39;00m f \u001b[38;5;129;01min\u001b[39;00m xyz_files \u001b[38;5;28;01mif\u001b[39;00m \u001b[38;5;129;01mnot\u001b[39;00m f\u001b[38;5;241m.\u001b[39mendswith(\u001b[38;5;124m'\u001b[39m\u001b[38;5;124m_modified.xyz\u001b[39m\u001b[38;5;124m'\u001b[39m)]\n\u001b[0;32m     63\u001b[0m \u001b[38;5;28;01mfor\u001b[39;00m xyz \u001b[38;5;129;01min\u001b[39;00m xyz_files:\n\u001b[1;32m---> 64\u001b[0m     \u001b[43mprocess_single_xyz\u001b[49m\u001b[43m(\u001b[49m\n\u001b[0;32m     65\u001b[0m \u001b[43m        \u001b[49m\u001b[43mxyz\u001b[49m\u001b[43m,\u001b[49m\u001b[43m \u001b[49m\u001b[43mfragment_smiles\u001b[49m\u001b[43m,\u001b[49m\n\u001b[0;32m     66\u001b[0m \u001b[43m        \u001b[49m\u001b[43manchor_index\u001b[49m\u001b[43m,\u001b[49m\u001b[43m \u001b[49m\u001b[43manchor_symbol\u001b[49m\u001b[43m,\u001b[49m\u001b[43m \u001b[49m\u001b[43manchor_occurrence\u001b[49m\u001b[43m,\u001b[49m\n\u001b[0;32m     67\u001b[0m \u001b[43m        \u001b[49m\u001b[43mn_directions\u001b[49m\u001b[43m,\u001b[49m\u001b[43m \u001b[49m\u001b[43mbond_length\u001b[49m\u001b[43m,\u001b[49m\u001b[43m \u001b[49m\u001b[43mbuffer\u001b[49m\u001b[43m,\u001b[49m\n\u001b[0;32m     68\u001b[0m \u001b[43m        \u001b[49m\u001b[43mffname\u001b[49m\u001b[43m,\u001b[49m\u001b[43m \u001b[49m\u001b[43msteps\u001b[49m\n\u001b[0;32m     69\u001b[0m \u001b[43m    \u001b[49m\u001b[43m)\u001b[49m\n",
      "Cell \u001b[1;32mIn[9], line 23\u001b[0m, in \u001b[0;36mprocess_single_xyz\u001b[1;34m(input_path, fragment_smiles, anchor_index, anchor_symbol, anchor_occurrence, n_directions, bond_length, buffer, ffname, steps)\u001b[0m\n\u001b[0;32m     16\u001b[0m idx, sym, coord \u001b[38;5;241m=\u001b[39m select_anchor(\n\u001b[0;32m     17\u001b[0m     atoms, coords,\n\u001b[0;32m     18\u001b[0m     index\u001b[38;5;241m=\u001b[39manchor_index,\n\u001b[0;32m     19\u001b[0m     symbol\u001b[38;5;241m=\u001b[39manchor_symbol,\n\u001b[0;32m     20\u001b[0m     occurrence\u001b[38;5;241m=\u001b[39manchor_occurrence\n\u001b[0;32m     21\u001b[0m )\n\u001b[0;32m     22\u001b[0m \u001b[38;5;66;03m# Attach fragment\u001b[39;00m\n\u001b[1;32m---> 23\u001b[0m new_atoms, new_coords, bonds , debug_info \u001b[38;5;241m=\u001b[39m \u001b[43mattach_fragment_debug\u001b[49m\u001b[43m(\u001b[49m\n\u001b[0;32m     24\u001b[0m \u001b[43m    \u001b[49m\u001b[43matoms\u001b[49m\u001b[43m,\u001b[49m\u001b[43m \u001b[49m\u001b[43mcoords\u001b[49m\u001b[43m,\u001b[49m\u001b[43m \u001b[49m\u001b[43midx\u001b[49m\u001b[43m,\u001b[49m\n\u001b[0;32m     25\u001b[0m \u001b[43m    \u001b[49m\u001b[43mfragment_smiles\u001b[49m\u001b[38;5;241;43m=\u001b[39;49m\u001b[43mfragment_smiles\u001b[49m\u001b[43m,\u001b[49m\n\u001b[0;32m     26\u001b[0m \u001b[43m    \u001b[49m\u001b[43mn_directions\u001b[49m\u001b[38;5;241;43m=\u001b[39;49m\u001b[43mn_directions\u001b[49m\u001b[43m,\u001b[49m\n\u001b[0;32m     27\u001b[0m \u001b[43m    \u001b[49m\u001b[43mbond_length\u001b[49m\u001b[38;5;241;43m=\u001b[39;49m\u001b[43mbond_length\u001b[49m\u001b[43m,\u001b[49m\n\u001b[0;32m     28\u001b[0m \u001b[43m    \u001b[49m\u001b[43mbuffer\u001b[49m\u001b[38;5;241;43m=\u001b[39;49m\u001b[43mbuffer\u001b[49m\n\u001b[0;32m     29\u001b[0m \u001b[43m\u001b[49m\u001b[43m)\u001b[49m\n\u001b[0;32m     30\u001b[0m \u001b[38;5;66;03m# report_bond_changes(debug_info)\u001b[39;00m\n\u001b[0;32m     31\u001b[0m \u001b[38;5;66;03m# Optimize geometry\u001b[39;00m\n\u001b[0;32m     32\u001b[0m coords_opt, obmol \u001b[38;5;241m=\u001b[39m optimize_with_openbabel(\n\u001b[0;32m     33\u001b[0m     new_atoms, new_coords,\n\u001b[0;32m     34\u001b[0m     ffname\u001b[38;5;241m=\u001b[39mffname, steps\u001b[38;5;241m=\u001b[39msteps,\n\u001b[0;32m     35\u001b[0m     bonds\u001b[38;5;241m=\u001b[39mbonds\n\u001b[0;32m     36\u001b[0m )\n",
      "Cell \u001b[1;32mIn[7], line 106\u001b[0m, in \u001b[0;36mattach_fragment_debug\u001b[1;34m(host_atoms, host_coords, anchor_idx, fragment_smiles, n_directions, bond_length, buffer)\u001b[0m\n\u001b[0;32m    104\u001b[0m best_score, best_coords \u001b[38;5;241m=\u001b[39m \u001b[38;5;241m-\u001b[39mnp\u001b[38;5;241m.\u001b[39minf, \u001b[38;5;28;01mNone\u001b[39;00m\n\u001b[0;32m    105\u001b[0m \u001b[38;5;28;01mfor\u001b[39;00m d \u001b[38;5;129;01min\u001b[39;00m dirs:\n\u001b[1;32m--> 106\u001b[0m     trial \u001b[38;5;241m=\u001b[39m \u001b[43mtransform_fragment\u001b[49m\u001b[43m(\u001b[49m\u001b[43mfrag_coords\u001b[49m\u001b[43m,\u001b[49m\u001b[43m \u001b[49m\u001b[43mfrag_anchor_idx\u001b[49m\u001b[43m,\u001b[49m\u001b[43m \u001b[49m\u001b[43mhost_anchor\u001b[49m\u001b[43m,\u001b[49m\u001b[43m \u001b[49m\u001b[43md\u001b[49m\u001b[43m,\u001b[49m\u001b[43m \u001b[49m\u001b[43mbond_length\u001b[49m\u001b[43m)\u001b[49m\n\u001b[0;32m    107\u001b[0m     sc \u001b[38;5;241m=\u001b[39m score_direction_soft(trial, frag_atoms, host_coords, host_radii, buffer)\n\u001b[0;32m    108\u001b[0m     \u001b[38;5;28;01mif\u001b[39;00m sc \u001b[38;5;241m>\u001b[39m best_score:\n",
      "Cell \u001b[1;32mIn[7], line 49\u001b[0m, in \u001b[0;36mattach_fragment_debug.<locals>.transform_fragment\u001b[1;34m(fragment_coords, fragment_anchor_idx, host_anchor_coord, direction, bond_length)\u001b[0m\n\u001b[0;32m     48\u001b[0m \u001b[38;5;28;01mdef\u001b[39;00m \u001b[38;5;21mtransform_fragment\u001b[39m(fragment_coords, fragment_anchor_idx, host_anchor_coord, direction, bond_length\u001b[38;5;241m=\u001b[39m\u001b[38;5;241m1.5\u001b[39m):\n\u001b[1;32m---> 49\u001b[0m     translated \u001b[38;5;241m=\u001b[39m fragment_coords \u001b[38;5;241m-\u001b[39m \u001b[43mfragment_coords\u001b[49m\u001b[43m[\u001b[49m\u001b[43mfragment_anchor_idx\u001b[49m\u001b[43m]\u001b[49m\n\u001b[0;32m     50\u001b[0m     default_dir \u001b[38;5;241m=\u001b[39m np\u001b[38;5;241m.\u001b[39marray([\u001b[38;5;241m0.0\u001b[39m, \u001b[38;5;241m0.0\u001b[39m, \u001b[38;5;241m-\u001b[39m\u001b[38;5;241m1.0\u001b[39m])\n\u001b[0;32m     51\u001b[0m     R \u001b[38;5;241m=\u001b[39m rotation_matrix_from_vectors(default_dir, direction)\n",
      "\u001b[1;31mIndexError\u001b[0m: index 1 is out of bounds for axis 0 with size 1"
     ]
    }
   ],
   "source": [
    "import os\n",
    "from glob import glob\n",
    "from scipy.spatial.distance import cdist\n",
    "def process_single_xyz(input_path, fragment_smiles,\n",
    "                       anchor_index=None, anchor_symbol=None, anchor_occurrence=1,\n",
    "                       n_directions=1000, bond_length=1.1, buffer=0.2,\n",
    "                       ffname='MMFF94', steps=1000):\n",
    "    \"\"\"\n",
    "    Process one XYZ file: attach fragment and optimize.\n",
    "    \"\"\"\n",
    "    # Read input\n",
    "    atoms, coords = read_xyz(input_path)\n",
    "    df= pd.DataFrame({'atom': atoms, 'x': coords[:,0], 'y': coords[:,1], 'z': coords[:,2]})\n",
    "    show_single_molecule('before',df)\n",
    "    # Select anchor (by index or symbol+occurrence)\n",
    "    idx, sym, coord = select_anchor(\n",
    "        atoms, coords,\n",
    "        index=anchor_index,\n",
    "        symbol=anchor_symbol,\n",
    "        occurrence=anchor_occurrence\n",
    "    )\n",
    "    # Attach fragment\n",
    "    new_atoms, new_coords, bonds , debug_info = attach_fragment_debug(\n",
    "        atoms, coords, idx,\n",
    "        fragment_smiles=fragment_smiles,\n",
    "        n_directions=n_directions,\n",
    "        bond_length=bond_length,\n",
    "        buffer=buffer\n",
    "    )\n",
    "    # report_bond_changes(debug_info)\n",
    "    # Optimize geometry\n",
    "    coords_opt, obmol = optimize_with_openbabel(\n",
    "        new_atoms, new_coords,\n",
    "        ffname=ffname, steps=steps,\n",
    "        bonds=bonds\n",
    "    )\n",
    "    new_df = pd.DataFrame({\n",
    "        'atom': new_atoms,\n",
    "        'x': coords_opt[:, 0],\n",
    "        'y': coords_opt[:, 1],\n",
    "        'z': coords_opt[:, 2]\n",
    "    })\n",
    "    show_single_molecule('after', new_df)\n",
    "    # Write result\n",
    "    base, _ = os.path.splitext(os.path.basename(input_path))\n",
    "    output_path = os.path.join(os.path.dirname(input_path),\n",
    "                               f\"{base}_modified.xyz\")\n",
    "    write_xyz_file(output_path, new_atoms, coords_opt,\n",
    "                   comment=f\"Fragment {fragment_smiles} on {sym}{idx}\")\n",
    "    print(f\"Processed {input_path} → {output_path}\")\n",
    "    return output_path\n",
    "\n",
    "def process_directory(directory, fragment_smiles,\n",
    "                      anchor_index=None, anchor_symbol=None, anchor_occurrence=1,\n",
    "                      n_directions=1000, bond_length=1.2, buffer=0.5,\n",
    "                      ffname='MMFF94', steps=500):\n",
    "    \"\"\"\n",
    "    Process all .xyz files in a directory.\n",
    "    \"\"\"\n",
    "    # use glob to find all .xyz files without modified suffix '_modified' \n",
    "    xyz_files = glob(os.path.join(directory, '*.xyz'))\n",
    "    xyz_files = [f for f in xyz_files if not f.endswith('_modified.xyz')]\n",
    "    for xyz in xyz_files:\n",
    "        process_single_xyz(\n",
    "            xyz, fragment_smiles,\n",
    "            anchor_index, anchor_symbol, anchor_occurrence,\n",
    "            n_directions, bond_length, buffer,\n",
    "            ffname, steps\n",
    "        )\n",
    "\n",
    "# Example usage:\n",
    "# process_single_xyz('L19.xyz', '[*]CC', anchor_index=1)\n",
    "process_directory(r'C:\\Users\\edens\\Documents\\GitHub\\MolAlign\\MolAlign\\xyz_files\\hidaya', '[*]C', anchor_index=1, anchor_symbol='P', anchor_occurrence=1,ffname='UFF')\n",
    "\n",
    "# If you want a CLI, you can wrap these in argparse as needed."
   ]
  },
  {
   "cell_type": "code",
   "execution_count": 4,
   "id": "c5c345a7",
   "metadata": {},
   "outputs": [],
   "source": [
    "os.chdir(r'C:\\Users\\edens\\Documents\\GitHub\\LabCode\\MolFeatures\\utils')\n",
    "from visualize import show_single_molecule"
   ]
  },
  {
   "cell_type": "code",
   "execution_count": null,
   "id": "4de3eb6d",
   "metadata": {},
   "outputs": [],
   "source": []
  }
 ],
 "metadata": {
  "kernelspec": {
   "display_name": "labenv",
   "language": "python",
   "name": "python3"
  },
  "language_info": {
   "codemirror_mode": {
    "name": "ipython",
    "version": 3
   },
   "file_extension": ".py",
   "mimetype": "text/x-python",
   "name": "python",
   "nbconvert_exporter": "python",
   "pygments_lexer": "ipython3",
   "version": "3.9.18"
  }
 },
 "nbformat": 4,
 "nbformat_minor": 5
}
