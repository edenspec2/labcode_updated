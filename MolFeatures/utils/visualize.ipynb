{
 "cells": [
  {
   "cell_type": "code",
   "execution_count": 34,
   "metadata": {},
   "outputs": [],
   "source": [
    "import plotly.graph_objs as go\n",
    "from plotly.offline import init_notebook_mode, iplot\n",
    "import sys\n",
    "import pandas as pd\n",
    "from typing import *\n",
    "from enum import Enum\n",
    "import os\n",
    "import numpy as np\n",
    "\n",
    "\n",
    "# Now you can import from the parent directory\n",
    "\n",
    "\n",
    "\n",
    "class GeneralConstants(Enum):\n",
    "    \"\"\"\n",
    "    Holds constants for calculations and conversions\n",
    "    1. covalent radii from Alvarez (2008) DOI: 10.1039/b801115j\n",
    "    2. atomic numbers\n",
    "    2. atomic weights\n",
    "    \"\"\"\n",
    "    COVALENT_RADII= {\n",
    "            'H': 0.31, 'He': 0.28, 'Li': 1.28,\n",
    "            'Be': 0.96, 'B': 0.84, 'C': 0.76, \n",
    "            'N': 0.71, 'O': 0.66, 'F': 0.57, 'Ne': 0.58,\n",
    "            'Na': 1.66, 'Mg': 1.41, 'Al': 1.21, 'Si': 1.11, \n",
    "            'P': 1.07, 'S': 1.05, 'Cl': 1.02, 'Ar': 1.06,\n",
    "            'K': 2.03, 'Ca': 1.76, 'Sc': 1.70, 'Ti': 1.60, \n",
    "            'V': 1.53, 'Cr': 1.39, 'Mn': 1.61, 'Fe': 1.52, \n",
    "            'Co': 1.50, 'Ni': 1.24, 'Cu': 1.32, 'Zn': 1.22, \n",
    "            'Ga': 1.22, 'Ge': 1.20, 'As': 1.19, 'Se': 1.20, \n",
    "            'Br': 1.20, 'Kr': 1.16, 'Rb': 2.20, 'Sr': 1.95,\n",
    "            'Y': 1.90, 'Zr': 1.75, 'Nb': 1.64, 'Mo': 1.54,\n",
    "            'Tc': 1.47, 'Ru': 1.46, 'Rh': 1.42, 'Pd': 1.39,\n",
    "            'Ag': 1.45, 'Cd': 1.44, 'In': 1.42, 'Sn': 1.39,\n",
    "            'Sb': 1.39, 'Te': 1.38, 'I': 1.39, 'Xe': 1.40,\n",
    "            'Cs': 2.44, 'Ba': 2.15, 'La': 2.07, 'Ce': 2.04,\n",
    "            'Pr': 2.03, 'Nd': 2.01, 'Pm': 1.99, 'Sm': 1.98,\n",
    "            'Eu': 1.98, 'Gd': 1.96, 'Tb': 1.94, 'Dy': 1.92,\n",
    "            'Ho': 1.92, 'Er': 1.89, 'Tm': 1.90, 'Yb': 1.87,\n",
    "            'Lu': 1.87, 'Hf': 1.75, 'Ta': 1.70, 'W': 1.62,\n",
    "            'Re': 1.51, 'Os': 1.44, 'Ir': 1.41, 'Pt': 1.36,\n",
    "            'Au': 1.36, 'Hg': 1.32, 'Tl': 1.45, 'Pb': 1.46,\n",
    "            'Bi': 1.48, 'Po': 1.40, 'At': 1.50, 'Rn': 1.50, \n",
    "            'Fr': 2.60, 'Ra': 2.21, 'Ac': 2.15, 'Th': 2.06,\n",
    "            'Pa': 2.00, 'U': 1.96, 'Np': 1.90, 'Pu': 1.87,\n",
    "            'Am': 1.80, 'Cm': 1.69\n",
    "    }\n",
    "    BONDI_RADII={\n",
    "        'H': 1.10, 'C': 1.70, 'F': 1.47,\n",
    "        'S': 1.80, 'B': 1.92, 'I': 1.98, \n",
    "        'N': 1.55, 'O': 1.52, 'Co': 2.00, \n",
    "        'Br': 1.83, 'Si': 2.10,'Ni': 2.00,\n",
    "        'P': 1.80, 'Cl': 1.75, \n",
    "    }\n",
    "\n",
    "def flatten_list(nested_list_arg: List[list]) -> List:\n",
    "    \"\"\"\n",
    "    Flatten a nested list.\n",
    "    turn [[1,2],[3,4]] to [1,2,3,4]\n",
    "    \"\"\"\n",
    "    flat_list=[item for sublist in nested_list_arg for item in sublist]\n",
    "    return flat_list\n",
    "\n",
    "\n",
    "def plot_interactions(xyz_df,color):\n",
    "    \"\"\"Creates a 3D plot of the molecule\"\"\"\n",
    "\n",
    "    atomic_radii = GeneralConstants.COVALENT_RADII.value\n",
    "    cpk_colors = dict(C='black', F='green', H='white', N='blue', O='red', P='orange', S='yellow', Cl='green', Br='brown', I='purple', Ni='blue', Fe='red', Cu='orange', Zn='yellow', Ag='grey', Au='gold',Si='grey', B='pink',Pd='green')\n",
    "\n",
    "    # if molecule_name not in train_df.molecule_name.unique():\n",
    "    #     print(f'Molecule \"{molecule_name}\" is not in the training set!')\n",
    "    #     return\n",
    "    #\n",
    "\n",
    "    coordinates = np.array(xyz_df[['x', 'y', 'z']].values,dtype=float)\n",
    "    x_coordinates = coordinates[:, 0]\n",
    "    y_coordinates = coordinates[:, 1]\n",
    "    z_coordinates = coordinates[:, 2]\n",
    "    atoms = ((xyz_df['atom'].astype(str)).values.tolist())\n",
    "    atom_ids = xyz_df.index.tolist()\n",
    "    try:\n",
    "        radii = [atomic_radii[atom] for atom in atoms]\n",
    "    except TypeError:\n",
    "        atoms = flatten_list(atoms)\n",
    "        radii = [atomic_radii[atom] for atom in atoms]\n",
    "\n",
    "\n",
    "    def get_bonds():\n",
    "        \"\"\"Generates a set of bonds from atomic cartesian coordinates\"\"\"\n",
    "        ids = np.arange(coordinates.shape[0])\n",
    "        bonds = dict()\n",
    "        coordinates_compare, radii_compare, ids_compare = coordinates, radii, ids\n",
    "\n",
    "        for _ in range(len(ids)):\n",
    "            coordinates_compare = np.roll(coordinates_compare, -1, axis=0)\n",
    "            radii_compare = np.roll(radii_compare, -1, axis=0)\n",
    "            ids_compare = np.roll(ids_compare, -1, axis=0)\n",
    "            distances = np.linalg.norm(coordinates - coordinates_compare, axis=1)\n",
    "            bond_distances = (radii + radii_compare) * 1.3\n",
    "            mask = np.logical_and(distances > 0.1, distances < bond_distances)\n",
    "            distances = distances.round(2)\n",
    "            new_bonds = {frozenset([i, j]): dist for i, j, dist in zip(ids[mask], ids_compare[mask], distances[mask])}\n",
    "            bonds.update(new_bonds)\n",
    "        return bonds\n",
    "\n",
    "    def atom_trace():\n",
    "        \"\"\"Creates an enhanced atom trace for the plot with increased marker size and border width.\"\"\"\n",
    "        # Use the CPK color for each atom\n",
    "        colors = [cpk_colors[atom] for atom in atoms]\n",
    "        # Increase marker size, set a bolder border (line) and higher opacity for better visibility\n",
    "        markers = dict(\n",
    "            color=colors,\n",
    "            line=dict(color='black', width=3),  # Bold border for clarity\n",
    "            size=10,                           # Increased size for better visibility\n",
    "            symbol='circle',\n",
    "            opacity=0.9                        # Slightly higher opacity\n",
    "        )\n",
    "        trace = go.Scatter3d(\n",
    "            x=x_coordinates,\n",
    "            y=y_coordinates,\n",
    "            z=z_coordinates,\n",
    "            mode='markers',\n",
    "            marker=markers,\n",
    "            text=atoms,\n",
    "            name='Atoms'\n",
    "        )\n",
    "        return trace\n",
    "\n",
    "    def bond_trace(color):\n",
    "        \"\"\"Creates an enhanced bond trace for the plot with thicker lines.\"\"\"\n",
    "        # Create an empty trace for bonds with increased line width\n",
    "        trace = go.Scatter3d(\n",
    "            x=[], y=[], z=[], \n",
    "            hoverinfo='none', \n",
    "            mode='lines',\n",
    "            line=dict(width=5, color=color)  # Thicker lines for bonds\n",
    "        )\n",
    "        # Loop over the bond indices and append coordinates, inserting None for line breaks\n",
    "        for i, j in bonds.keys():\n",
    "            trace['x'] += (x_coordinates[i], x_coordinates[j], None)\n",
    "            trace['y'] += (y_coordinates[i], y_coordinates[j], None)\n",
    "            trace['z'] += (z_coordinates[i], z_coordinates[j], None)\n",
    "        return trace\n",
    "    bonds = get_bonds()\n",
    "    print(bonds)\n",
    "    \n",
    "    zipped = zip(atom_ids, x_coordinates, y_coordinates, z_coordinates)\n",
    "    annotations_id = [dict(text=num+1, x=x, y=y, z=z, showarrow=False, yshift=15, font=dict(color=\"blue\"))\n",
    "                      for num, x, y, z in zipped]\n",
    "\n",
    "    annotations_length = []\n",
    "    for (i, j), dist in bonds.items():\n",
    "        x_middle, y_middle, z_middle = (coordinates[i] + coordinates[j]) / 2\n",
    "        annotation = dict(text=dist, x=x_middle, y=y_middle, z=z_middle, showarrow=False, yshift=10)\n",
    "        annotations_length.append(annotation)\n",
    "\n",
    "    updatemenus = list([\n",
    "        dict(buttons=list([\n",
    "                 dict(label = 'Atom indices',\n",
    "                      method = 'relayout',\n",
    "                      args = [{'scene.annotations': annotations_id}]),\n",
    "                 dict(label = 'Bond lengths',\n",
    "                      method = 'relayout',\n",
    "                      args = [{'scene.annotations': annotations_length}]),\n",
    "                 dict(label = 'Atom indices & Bond lengths',\n",
    "                      method = 'relayout',\n",
    "                      args = [{'scene.annotations': annotations_id + annotations_length}]),\n",
    "                 dict(label = 'Hide all',\n",
    "                      method = 'relayout',\n",
    "                      args = [{'scene.annotations': []}])\n",
    "                 ]),\n",
    "                 direction='down',\n",
    "                 xanchor = 'left',\n",
    "                 yanchor = 'top'\n",
    "            ),\n",
    "    ])\n",
    "    data = [atom_trace(), bond_trace(color)]\n",
    "    return data, annotations_id, updatemenus\n",
    "\n",
    "def choose_conformers_input():\n",
    "    string=input('Enter the conformers numbers: ')\n",
    "    conformer_numbers=string.split(' ')\n",
    "    conformer_numbers=[int(i) for i in conformer_numbers]\n",
    "    return conformer_numbers\n",
    "\n",
    "\n",
    "def unite_buttons(buttons_list, ref_index=0):\n",
    "    buttons_keys=buttons_list[0].keys()\n",
    "    united_button=dict.fromkeys(buttons_keys)\n",
    "    for key in buttons_keys:\n",
    "        if key=='args':\n",
    "            all_annotations=[buttons[key][0]['scene.annotations'] for buttons in buttons_list]\n",
    "            united_annotations=list(zip(*all_annotations))\n",
    "            united_button[key]=[{'scene.annotations': united_annotations}]\n",
    "        else:\n",
    "            united_button[key]=buttons_list[ref_index][key]\n",
    "    return united_button\n",
    "\n",
    "def unite_updatemenus(updatemenus_list, ref_index=0):\n",
    "    menus_keys=updatemenus_list[ref_index][0].keys()\n",
    "    united_updatemenus_list=dict.fromkeys(menus_keys)\n",
    "    for key in menus_keys:\n",
    "        if key=='buttons':\n",
    "            buttons_list=[updatemenus[0].get(key) for updatemenus in updatemenus_list]\n",
    "            buttons_num=len(buttons_list[0])   \n",
    "            segregated_buttons=[]\n",
    "            for i in range(buttons_num):\n",
    "                type_buttons=[buttons[i] for buttons in buttons_list]\n",
    "                segregated_buttons.append(type_buttons)\n",
    "            buttons=[unite_buttons(buttons) for buttons in segregated_buttons]\n",
    "            united_updatemenus_list[key]=buttons\n",
    "        else:\n",
    "            united_updatemenus_list[key]=updatemenus_list[ref_index][0][key]\n",
    "    return [united_updatemenus_list]\n",
    "\n",
    "\n",
    "def compare_molecules(coordinates_df_list: List[pd.DataFrame],conformer_numbers:List[int]=None):\n",
    "    if conformer_numbers is None:\n",
    "        ## make a list of indices of conformers\n",
    "        conformer_numbers= range(len(coordinates_df_list))\n",
    "    # Create a subplot with 3D scatter plot\n",
    "    colors_list=['red','magenta','purple','blue','green','yellow','orange','brown','black','pink','cyan']\n",
    "    new_coodinates_df_list=[coordinates_df_list[i] for i in conformer_numbers]\n",
    "    # new_coodinates_df_list=renumbering_df_list(new_coodinates_df_list)\n",
    "    # coordinates_df_list=renumber_xyz_by_mcs(coordinates_df_list)  ##needs fixing , renumbering not working.\n",
    "    xyz_df=(coordinates_df_list[conformer_numbers[0]])\n",
    "    data_main, annotations_id_main, updatemenus = plot_interactions(xyz_df,'grey')\n",
    "    updatemenus_list=[updatemenus]\n",
    "    # Iterate through the conformer numbers and create traces for each conformer\n",
    "    for  conformer_number,color in zip((conformer_numbers[1:]),colors_list):\n",
    "        xyz_df = coordinates_df_list[conformer_number]\n",
    "        data, annotations_id, updatemenus_main = plot_interactions(xyz_df,color)\n",
    "        data_main += data\n",
    "        annotations_id_main += annotations_id\n",
    "        updatemenus_list.append(updatemenus_main)\n",
    "    # Set axis parameters\n",
    "    updatemenus=unite_updatemenus(updatemenus_list)\n",
    "    axis_params = dict(showgrid=False, showbackground=False, showticklabels=False, zeroline=False,\n",
    "                       titlefont=dict(color='white'))\n",
    "    # Set layout\n",
    "    layout = dict(scene=dict(xaxis=axis_params, yaxis=axis_params, zaxis=axis_params, annotations=annotations_id_main),\n",
    "                  margin=dict(r=0, l=0, b=0, t=0), showlegend=False, updatemenus=updatemenus)\n",
    "    fig = go.Figure(data=data_main, layout=layout)\n",
    "    # fig.show()\n",
    "    return fig\n",
    "\n",
    "import dash\n",
    "from dash import html, dcc, Output, Input, State\n",
    "import plotly.graph_objects as go\n",
    "import pandas as pd\n",
    "\n",
    "def show_single_molecule(molecule_name,xyz_df=None, color='black'):\n",
    "    if xyz_df is None:\n",
    "        xyz_df=get_df_from_file(choose_filename()[0])\n",
    "\n",
    "    data_main, annotations_id_main, updatemenus = plot_interactions(xyz_df,color)\n",
    "    # Set axis parameters\n",
    "    axis_params = dict(showgrid=False, showbackground=False, showticklabels=False, zeroline=False,\n",
    "                       titlefont=dict(color='white'))\n",
    "    # Set layout\n",
    "    layout = dict(title=dict(text=molecule_name, x=0.5, y=0.9, xanchor='center', yanchor='top'),scene=dict(xaxis=axis_params, yaxis=axis_params, zaxis=axis_params, annotations=annotations_id_main),\n",
    "                  margin=dict(r=0, l=0, b=0, t=0), showlegend=False, updatemenus=updatemenus)\n",
    "    fig = go.Figure(data=data_main, layout=layout)\n",
    "    html=fig.show()\n",
    "    run_app(fig)\n",
    "\n",
    "    \n",
    "    return html\n",
    "\n",
    "\n",
    "def run_app(figure):\n",
    "        # Create a Dash app\n",
    "    app = dash.Dash(__name__)\n",
    "\n",
    "    # App layout\n",
    "    app.layout = html.Div([\n",
    "        dcc.Graph(id='molecule-plot', figure=figure), # Replace \"Water\" with your molecule\n",
    "        html.Div(id='clicked-data', children=[]),\n",
    "        html.Button('Save Clicked Atom', id='save-button', n_clicks=0),\n",
    "        html.Div(id='saved-atoms', children=[])\n",
    "    ])\n",
    "\n",
    "    # Callback to display clicked data\n",
    "    @app.callback(\n",
    "        Output('clicked-data', 'children'),\n",
    "        Input('molecule-plot', 'clickData'),\n",
    "        prevent_initial_call=True\n",
    "    )\n",
    "    def display_click_data(clickData):\n",
    "        if clickData:\n",
    "            return f\"Clicked Point: {clickData['points'][0]['pointIndex']}\"\n",
    "        return \"Click on an atom.\"\n",
    "\n",
    "    # Callback to save clicked atom index\n",
    "    @app.callback(\n",
    "        Output('saved-atoms', 'children'),\n",
    "        Input('save-button', 'n_clicks'),\n",
    "        State('molecule-plot', 'clickData'),\n",
    "        State('saved-atoms', 'children'),\n",
    "        prevent_initial_call=True\n",
    "    )\n",
    "    def save_clicked_atom(n_clicks, clickData, saved_atoms):\n",
    "        if clickData:\n",
    "            saved_atoms.append(clickData['points'][0]['pointIndex'])\n",
    "        return f\"Saved Atom Indices: {saved_atoms}\"\n",
    "        \n",
    "\n",
    "\n",
    "\n",
    "if __name__ == '__main__':\n",
    "    \n",
    "    pass\n"
   ]
  },
  {
   "cell_type": "code",
   "execution_count": 35,
   "metadata": {},
   "outputs": [],
   "source": [
    "\n",
    "def get_file_name_list(file_identifier):\n",
    "    \"\"\"\n",
    "    The function gets a file identifier as input and returns a list of all files in the working \n",
    "    which contain the identifier in the files name\n",
    "    ----------\n",
    "    Parameters\n",
    "    ----------\n",
    "    identifier : str.\n",
    "        The wanted file identifier like 'txt','info','nbo' contained in the filename\n",
    "    -------\n",
    "    Returns\n",
    "    -------\n",
    "    list\n",
    "        A list of all files in the working directory with the chosen extension \n",
    "    --------\n",
    "    Examples\n",
    "    --------\n",
    "    \n",
    "    all_files_in_dir=listdir()\n",
    "    print(all_files_in_dir)\n",
    "        ['0_1106253-mod-mod.xyz', '0_1106253-mod.xyz', '1106253.cif', '1109098.cif', '1_1106253-mod.xyz', 'centered_0_BASCIH.xyz', 'cif_handler.py']\n",
    "        \n",
    "    xyz_files_in_dir=get_filename_list('.xyz')\n",
    "    print(xyz_files_in_dir)\n",
    "        ['0_1106253-mod-mod.xyz', '0_1106253-mod.xyz', '1_1106253-mod.xyz', 'centered_0_BASCIH.xyz']\n",
    "  \n",
    "    \"\"\"\n",
    "    return [filename for filename in os.listdir() if file_identifier in filename]\n",
    "\n",
    "def split_strings(strings_list):\n",
    "    split_list = []\n",
    "    for string in strings_list:\n",
    "        split_list.extend(string.split())\n",
    "    return split_list\n",
    "\n",
    "def get_df_from_file(filename,columns=['atom','x','y','z'],index=None):\n",
    "    \"\"\"\n",
    "    Parameters\n",
    "    ----------\n",
    "    filename : str\n",
    "        full file name to read.\n",
    "    columns : str , optional\n",
    "        list of column names for DataFrame. The default is None.\n",
    "    splitter : str, optional\n",
    "        input for [.split().] , for csv-',' for txt leave empty. The default is None.\n",
    "    dtype : type, optional\n",
    "        type of variables for dataframe. The default is None.\n",
    "\n",
    "    Returns\n",
    "    -------\n",
    "    df : TYPE\n",
    "        DESCRIPTION.\n",
    "\n",
    "    \"\"\"\n",
    "    with open(filename, 'r') as f:\n",
    "        lines=f.readlines()[2:]\n",
    "    splitted_lines=split_strings(lines)\n",
    "    df=pd.DataFrame(np.array(splitted_lines).reshape(-1,4),columns=columns,index=index)\n",
    "    df[['x','y','z']]=df[['x','y','z']].astype(float)\n",
    "    return df"
   ]
  },
  {
   "cell_type": "code",
   "execution_count": 36,
   "metadata": {},
   "outputs": [],
   "source": [
    "from typing import List\n",
    "import numpy.typing as npt\n",
    "def adjust_indices(element):\n",
    "    \n",
    "    if isinstance(element, list):\n",
    "        return [adjust_indices(sub_element) for sub_element in element]\n",
    "    elif isinstance(element, int):\n",
    "        return element - 1\n",
    "    elif isinstance(element, np.ndarray):\n",
    "        return element - 1\n",
    "    elif isinstance(element, np.int64):\n",
    "        return element - 1\n",
    "    else:\n",
    "        raise ValueError(\"Unsupported element type\")\n",
    "\n",
    "\n",
    "\n",
    "\n",
    "def calc_angle(p1: npt.ArrayLike, p2: npt.ArrayLike, degrees: bool=False) -> float: ###works, name in R: 'angle' , radians\n",
    "    dot_product=np.dot(p1, p2)\n",
    "    norm_p1=np.linalg.norm(p1)\n",
    "    norm_p2=np.linalg.norm(p2)\n",
    "    thetha=np.arccos(dot_product/(norm_p1*norm_p2))\n",
    "    if degrees:\n",
    "        thetha=np.degrees(thetha)   \n",
    "    return thetha\n",
    "    \n",
    "def calc_new_base_atoms(coordinates_array: npt.ArrayLike, atom_indices: npt.ArrayLike):  #help function for calc_coordinates_transformation\n",
    "    \"\"\"\n",
    "    a function that calculates the new base atoms for the transformation of the coordinates.\n",
    "    optional: if the atom_indices[0] is list, compute the new origin as the middle of the first atoms.\n",
    "    \"\"\"\n",
    "   \n",
    "    if isinstance(atom_indices[0], list):\n",
    "        new_origin=np.mean(coordinates_array[atom_indices[0]], axis=0)\n",
    "    else:\n",
    "        new_origin=coordinates_array[atom_indices[0]]\n",
    "    new_y=(coordinates_array[atom_indices[1]]-new_origin)/np.linalg.norm((coordinates_array[atom_indices[1]]-new_origin))\n",
    "    coplane=((coordinates_array[atom_indices[2]]-new_origin)/np.linalg.norm((coordinates_array[atom_indices[2]]-new_origin)+0.00000001))\n",
    "    \n",
    "    return (new_origin,new_y,coplane)\n",
    "\n",
    "def np_cross_and_vstack(plane_1, plane_2):\n",
    "    cross_plane=np.cross(plane_1, plane_2)\n",
    "    united_results=np.vstack([plane_1, plane_2, cross_plane])\n",
    "    return united_results\n",
    "\n",
    "from numpy.typing import ArrayLike\n",
    "\n",
    "def calc_basis_vector(origin, y: ArrayLike, coplane: ArrayLike):\n",
    "    \"\"\"\n",
    "    Calculate the new basis vector.\n",
    "    \n",
    "    Parameters\n",
    "    ----------\n",
    "    origin : array-like\n",
    "        The origin of the new basis.\n",
    "    y : array-like\n",
    "        The new basis's y direction.\n",
    "    coplane : array-like\n",
    "        A vector coplanar with the new y direction.\n",
    "    \n",
    "    Returns\n",
    "    -------\n",
    "    new_basis : np.array\n",
    "        The computed new basis matrix.\n",
    "    \"\"\"\n",
    "    coef_mat = np_cross_and_vstack(coplane, y)\n",
    "    angle_new_y_coplane = calc_angle(coplane, y)\n",
    "    cop_ang_x = angle_new_y_coplane - (np.pi/2)\n",
    "    result_vector = [np.cos(cop_ang_x), 0, 0]\n",
    "    new_x, _, _, _ = np.linalg.lstsq(coef_mat, result_vector, rcond=None)\n",
    "    new_basis = np_cross_and_vstack(new_x, y)\n",
    "    return new_basis\n",
    "\n",
    "def transform_row(row_array, new_basis, new_origin, round_digits):\n",
    "    \"\"\"\n",
    "    Transform a single row of coordinates.\n",
    "    \n",
    "    Parameters\n",
    "    ----------\n",
    "    row_array : array-like\n",
    "        A row of coordinates.\n",
    "    new_basis : array-like\n",
    "        New basis matrix.\n",
    "    new_origin : array-like\n",
    "        The new origin.\n",
    "    round_digits : int\n",
    "        Number of decimal places to round to.\n",
    "    \n",
    "    Returns\n",
    "    -------\n",
    "    np.array\n",
    "        The transformed coordinates.\n",
    "    \"\"\"\n",
    "    row_array = np.squeeze(row_array)\n",
    "    translocated_row = row_array - new_origin\n",
    "    ## make sure or change to shape (3,) if needed\n",
    "    if translocated_row.shape != (3,):\n",
    "        try:\n",
    "            translocated_row = np.reshape(translocated_row, (3,))\n",
    "        except Exception as e:\n",
    "            print(\"transform_row: Error reshaping translocated_row:\", e)\n",
    "    \n",
    "    result = np.dot(new_basis, translocated_row).round(round_digits)\n",
    "    return result\n",
    "\n",
    "def calc_coordinates_transformation(coordinates_array: ArrayLike, base_atoms_indices: ArrayLike, round_digits: int = 4, origin: ArrayLike = None) -> ArrayLike:\n",
    "    \"\"\"\n",
    "    Transform a coordinates array to a new basis defined by the atoms in base_atoms_indices.\n",
    "    \n",
    "    Parameters\n",
    "    ----------\n",
    "    coordinates_array : np.array\n",
    "        The original xyz molecule coordinates.\n",
    "    base_atoms_indices : list or array-like\n",
    "        Indices of atoms to define the new basis.\n",
    "    round_digits : int, optional\n",
    "        Number of digits to round the result.\n",
    "    origin : array-like, optional\n",
    "        A new origin for the transformation. If None, the first base atom is used.\n",
    "    \n",
    "    Returns\n",
    "    -------\n",
    "    transformed_coordinates : np.array\n",
    "        The transformed coordinates.\n",
    "    \"\"\"\n",
    "    indices = adjust_indices(base_atoms_indices)\n",
    "    # Calculate new basis using helper function calc_new_base_atoms (assumed to return origin, y, and coplane)\n",
    "    new_basis = calc_basis_vector(*calc_new_base_atoms(coordinates_array, indices))\n",
    "    if origin is None:\n",
    "        new_origin = coordinates_array[indices[0]]\n",
    "    else:\n",
    "        new_origin = origin\n",
    "    transformed_coordinates = np.apply_along_axis(lambda x: transform_row(x, new_basis, new_origin, round_digits), 1, coordinates_array)\n",
    "  \n",
    "    return transformed_coordinates\n",
    "\n",
    "def preform_coordination_transformation(xyz_df, indices=None):\n",
    "    \"\"\"\n",
    "    Perform a coordination transformation on the xyz DataFrame.\n",
    "    \n",
    "    Parameters\n",
    "    ----------\n",
    "    xyz_df : pd.DataFrame\n",
    "        DataFrame containing columns 'x', 'y', 'z'.\n",
    "    indices : array-like, optional\n",
    "        Atom indices to use for the new basis. If None, default indices [1,2,3] are used.\n",
    "    \n",
    "    Returns\n",
    "    -------\n",
    "    xyz_copy : pd.DataFrame\n",
    "        DataFrame with transformed coordinates.\n",
    "    \"\"\"\n",
    "    xyz_copy = xyz_df.copy()\n",
    "    coordinates = np.array(xyz_copy[['x', 'y', 'z']].values)\n",
    "    if indices is None:\n",
    "        transformed = calc_coordinates_transformation(coordinates, [1,2,3])\n",
    "    else:\n",
    "        transformed = calc_coordinates_transformation(coordinates, indices)\n",
    "    \n",
    "    xyz_copy[['x', 'y', 'z']] = transformed\n",
    "    return xyz_copy\n"
   ]
  },
  {
   "cell_type": "code",
   "execution_count": 37,
   "metadata": {},
   "outputs": [],
   "source": [
    "os.chdir(r'C:\\Users\\edens\\Documents\\GitHub\\lucas_project\\Secondary_Sphere\\xyz_before\\try')"
   ]
  },
  {
   "cell_type": "code",
   "execution_count": 38,
   "metadata": {},
   "outputs": [
    {
     "name": "stdout",
     "output_type": "stream",
     "text": [
      "{frozenset({0, 1}): 1.37, frozenset({1, 2}): 0.96, frozenset({3, 4}): 0.96, frozenset({5, 6}): 1.4, frozenset({9, 10}): 1.39, frozenset({16, 15}): 1.09, frozenset({5, 7}): 1.41, frozenset({8, 6}): 1.39, frozenset({9, 7}): 1.39, frozenset({8, 10}): 1.39, frozenset({17, 15}): 1.09, frozenset({0, 3}): 1.37, frozenset({18, 15}): 1.09, frozenset({8, 12}): 1.08, frozenset({9, 13}): 1.08, frozenset({10, 14}): 1.08, frozenset({0, 5}): 1.57, frozenset({11, 6}): 1.08, frozenset({15, 7}): 1.51}\n",
      "{frozenset({0, 1}): 1.39, frozenset({1, 2}): 1.38, frozenset({2, 3}): 1.39, frozenset({3, 4}): 1.39, frozenset({4, 5}): 1.39, frozenset({9, 10}): 1.2, frozenset({9, 12}): 1.11, frozenset({8, 4}): 1.08, frozenset({1, 11}): 1.08, frozenset({0, 5}): 1.39, frozenset({2, 7}): 1.08, frozenset({0, 6}): 1.08, frozenset({9, 3}): 1.48, frozenset({5, 13}): 1.73}\n",
      "{frozenset({0, 1}): 1.39, frozenset({1, 2}): 1.38, frozenset({2, 3}): 1.39, frozenset({3, 4}): 1.39, frozenset({4, 5}): 1.39, frozenset({8, 9}): 1.2, frozenset({0, 13}): 1.73, frozenset({4, 7}): 1.08, frozenset({8, 11}): 1.11, frozenset({2, 6}): 1.08, frozenset({0, 5}): 1.39, frozenset({8, 3}): 1.48, frozenset({1, 10}): 1.08, frozenset({12, 5}): 1.08}\n"
     ]
    },
    {
     "data": {
      "application/vnd.plotly.v1+json": {
       "config": {
        "plotlyServerURL": "https://plot.ly"
       },
       "data": [
        {
         "marker": {
          "color": [
           "pink",
           "red",
           "white",
           "red",
           "white",
           "black",
           "black",
           "black",
           "black",
           "black",
           "black",
           "white",
           "white",
           "white",
           "white",
           "black",
           "white",
           "white",
           "white"
          ],
          "line": {
           "color": "black",
           "width": 3
          },
          "opacity": 0.9,
          "size": 10,
          "symbol": "circle"
         },
         "mode": "markers",
         "name": "Atoms",
         "text": [
          "B",
          "O",
          "H",
          "O",
          "H",
          "C",
          "C",
          "C",
          "C",
          "C",
          "C",
          "H",
          "H",
          "H",
          "H",
          "C",
          "H",
          "H",
          "H"
         ],
         "type": "scatter3d",
         "x": [
          -0.040475,
          1.0992,
          0.963621,
          -1.292112,
          -1.326111,
          0.03974,
          -1.174798,
          1.238674,
          -1.227848,
          1.171079,
          -0.043818,
          -2.095852,
          -2.181886,
          2.09272,
          -0.062101,
          2.595618,
          2.727969,
          2.726935,
          3.379259
         ],
         "y": [
          3.143203,
          3.903182,
          4.853969,
          3.703691,
          4.662677,
          1.579029,
          0.884724,
          0.840427,
          -0.499933,
          -0.550745,
          -1.220031,
          1.453954,
          -1.010798,
          -1.120623,
          -2.302817,
          1.494293,
          2.133176,
          2.132157,
          0.737891
         ],
         "z": [
          -0.000472,
          0.001022,
          0.000836,
          -0.00242,
          -0.002502,
          -0.000474,
          -0.001504,
          0.000627,
          -0.001425,
          0.000697,
          -0.000304,
          -0.002371,
          -0.002232,
          0.001543,
          -0.000216,
          0.001763,
          -0.871103,
          0.875545,
          0.001801
         ]
        },
        {
         "hoverinfo": "none",
         "line": {
          "color": "grey",
          "width": 5
         },
         "mode": "lines",
         "type": "scatter3d",
         "x": [
          -0.040475,
          1.0992,
          null,
          1.0992,
          0.963621,
          null,
          -1.292112,
          -1.326111,
          null,
          0.03974,
          -1.174798,
          null,
          1.171079,
          -0.043818,
          null,
          2.727969,
          2.595618,
          null,
          0.03974,
          1.238674,
          null,
          -1.227848,
          -1.174798,
          null,
          1.171079,
          1.238674,
          null,
          -1.227848,
          -0.043818,
          null,
          2.726935,
          2.595618,
          null,
          -0.040475,
          -1.292112,
          null,
          3.379259,
          2.595618,
          null,
          -1.227848,
          -2.181886,
          null,
          1.171079,
          2.09272,
          null,
          -0.043818,
          -0.062101,
          null,
          -0.040475,
          0.03974,
          null,
          -2.095852,
          -1.174798,
          null,
          2.595618,
          1.238674,
          null
         ],
         "y": [
          3.143203,
          3.903182,
          null,
          3.903182,
          4.853969,
          null,
          3.703691,
          4.662677,
          null,
          1.579029,
          0.884724,
          null,
          -0.550745,
          -1.220031,
          null,
          2.133176,
          1.494293,
          null,
          1.579029,
          0.840427,
          null,
          -0.499933,
          0.884724,
          null,
          -0.550745,
          0.840427,
          null,
          -0.499933,
          -1.220031,
          null,
          2.132157,
          1.494293,
          null,
          3.143203,
          3.703691,
          null,
          0.737891,
          1.494293,
          null,
          -0.499933,
          -1.010798,
          null,
          -0.550745,
          -1.120623,
          null,
          -1.220031,
          -2.302817,
          null,
          3.143203,
          1.579029,
          null,
          1.453954,
          0.884724,
          null,
          1.494293,
          0.840427,
          null
         ],
         "z": [
          -0.000472,
          0.001022,
          null,
          0.001022,
          0.000836,
          null,
          -0.00242,
          -0.002502,
          null,
          -0.000474,
          -0.001504,
          null,
          0.000697,
          -0.000304,
          null,
          -0.871103,
          0.001763,
          null,
          -0.000474,
          0.000627,
          null,
          -0.001425,
          -0.001504,
          null,
          0.000697,
          0.000627,
          null,
          -0.001425,
          -0.000304,
          null,
          0.875545,
          0.001763,
          null,
          -0.000472,
          -0.00242,
          null,
          0.001801,
          0.001763,
          null,
          -0.001425,
          -0.002232,
          null,
          0.000697,
          0.001543,
          null,
          -0.000304,
          -0.000216,
          null,
          -0.000472,
          -0.000474,
          null,
          -0.002371,
          -0.001504,
          null,
          0.001763,
          0.000627,
          null
         ]
        },
        {
         "marker": {
          "color": [
           "black",
           "black",
           "black",
           "black",
           "black",
           "black",
           "white",
           "white",
           "white",
           "black",
           "red",
           "white",
           "white",
           "green"
          ],
          "line": {
           "color": "black",
           "width": 3
          },
          "opacity": 0.9,
          "size": 10,
          "symbol": "circle"
         },
         "mode": "markers",
         "name": "Atoms",
         "text": [
          "C",
          "C",
          "C",
          "C",
          "C",
          "C",
          "H",
          "H",
          "H",
          "C",
          "O",
          "H",
          "H",
          "Cl"
         ],
         "type": "scatter3d",
         "x": [
          0,
          0,
          1.1933,
          2.3972,
          2.4095,
          1.2058,
          -0.9278,
          1.2188,
          3.346,
          3.6885,
          3.7837,
          -0.9431,
          4.59,
          1.2088
         ],
         "y": [
          0,
          1.3908,
          2.0904,
          1.3915,
          0.0028,
          -0.6833,
          -0.5556,
          3.1722,
          -0.5416,
          2.1233,
          3.3198,
          1.9208,
          1.4807,
          -2.4144
         ],
         "z": [
          0,
          0,
          0,
          0,
          0,
          0,
          0,
          0,
          0,
          0,
          0,
          0,
          0,
          0
         ]
        },
        {
         "hoverinfo": "none",
         "line": {
          "color": "red",
          "width": 5
         },
         "mode": "lines",
         "type": "scatter3d",
         "x": [
          0,
          0,
          null,
          0,
          1.1933,
          null,
          1.1933,
          2.3972,
          null,
          2.3972,
          2.4095,
          null,
          2.4095,
          1.2058,
          null,
          3.6885,
          3.7837,
          null,
          3.6885,
          4.59,
          null,
          3.346,
          2.4095,
          null,
          0,
          -0.9431,
          null,
          0,
          1.2058,
          null,
          1.1933,
          1.2188,
          null,
          0,
          -0.9278,
          null,
          3.6885,
          2.3972,
          null,
          1.2058,
          1.2088,
          null
         ],
         "y": [
          0,
          1.3908,
          null,
          1.3908,
          2.0904,
          null,
          2.0904,
          1.3915,
          null,
          1.3915,
          0.0028,
          null,
          0.0028,
          -0.6833,
          null,
          2.1233,
          3.3198,
          null,
          2.1233,
          1.4807,
          null,
          -0.5416,
          0.0028,
          null,
          1.3908,
          1.9208,
          null,
          0,
          -0.6833,
          null,
          2.0904,
          3.1722,
          null,
          0,
          -0.5556,
          null,
          2.1233,
          1.3915,
          null,
          -0.6833,
          -2.4144,
          null
         ],
         "z": [
          0,
          0,
          null,
          0,
          0,
          null,
          0,
          0,
          null,
          0,
          0,
          null,
          0,
          0,
          null,
          0,
          0,
          null,
          0,
          0,
          null,
          0,
          0,
          null,
          0,
          0,
          null,
          0,
          0,
          null,
          0,
          0,
          null,
          0,
          0,
          null,
          0,
          0,
          null,
          0,
          0,
          null
         ]
        },
        {
         "marker": {
          "color": [
           "black",
           "black",
           "black",
           "black",
           "black",
           "black",
           "white",
           "white",
           "black",
           "red",
           "white",
           "white",
           "white",
           "green"
          ],
          "line": {
           "color": "black",
           "width": 3
          },
          "opacity": 0.9,
          "size": 10,
          "symbol": "circle"
         },
         "mode": "markers",
         "name": "Atoms",
         "text": [
          "C",
          "C",
          "C",
          "C",
          "C",
          "C",
          "H",
          "H",
          "C",
          "O",
          "H",
          "H",
          "H",
          "Cl"
         ],
         "type": "scatter3d",
         "x": [
          -1.193,
          -1.2158,
          -0.02,
          1.1887,
          1.1926,
          0,
          0,
          2.1358,
          2.4723,
          2.564,
          -2.1642,
          3.3772,
          -0.0142,
          -2.6885
         ],
         "y": [
          0.7063,
          2.0974,
          2.7886,
          2.0955,
          0.7061,
          0,
          3.8709,
          0.1718,
          2.8332,
          4.0309,
          2.6162,
          2.1947,
          -1.0807,
          -0.161
         ],
         "z": [
          0,
          0,
          0,
          0,
          0,
          0,
          0,
          0,
          0,
          0,
          0,
          0,
          0,
          0
         ]
        },
        {
         "hoverinfo": "none",
         "line": {
          "color": "magenta",
          "width": 5
         },
         "mode": "lines",
         "type": "scatter3d",
         "x": [
          -1.193,
          -1.2158,
          null,
          -1.2158,
          -0.02,
          null,
          -0.02,
          1.1887,
          null,
          1.1887,
          1.1926,
          null,
          1.1926,
          0,
          null,
          2.4723,
          2.564,
          null,
          -1.193,
          -2.6885,
          null,
          1.1926,
          2.1358,
          null,
          2.4723,
          3.3772,
          null,
          -0.02,
          0,
          null,
          -1.193,
          0,
          null,
          2.4723,
          1.1887,
          null,
          -1.2158,
          -2.1642,
          null,
          -0.0142,
          0,
          null
         ],
         "y": [
          0.7063,
          2.0974,
          null,
          2.0974,
          2.7886,
          null,
          2.7886,
          2.0955,
          null,
          2.0955,
          0.7061,
          null,
          0.7061,
          0,
          null,
          2.8332,
          4.0309,
          null,
          0.7063,
          -0.161,
          null,
          0.7061,
          0.1718,
          null,
          2.8332,
          2.1947,
          null,
          2.7886,
          3.8709,
          null,
          0.7063,
          0,
          null,
          2.8332,
          2.0955,
          null,
          2.0974,
          2.6162,
          null,
          -1.0807,
          0,
          null
         ],
         "z": [
          0,
          0,
          null,
          0,
          0,
          null,
          0,
          0,
          null,
          0,
          0,
          null,
          0,
          0,
          null,
          0,
          0,
          null,
          0,
          0,
          null,
          0,
          0,
          null,
          0,
          0,
          null,
          0,
          0,
          null,
          0,
          0,
          null,
          0,
          0,
          null,
          0,
          0,
          null,
          0,
          0,
          null
         ]
        }
       ],
       "layout": {
        "margin": {
         "b": 0,
         "l": 0,
         "r": 0,
         "t": 0
        },
        "scene": {
         "annotations": [
          {
           "font": {
            "color": "blue"
           },
           "showarrow": false,
           "text": "1",
           "x": -0.040475,
           "y": 3.143203,
           "yshift": 15,
           "z": -0.000472
          },
          {
           "font": {
            "color": "blue"
           },
           "showarrow": false,
           "text": "2",
           "x": 1.0992,
           "y": 3.903182,
           "yshift": 15,
           "z": 0.001022
          },
          {
           "font": {
            "color": "blue"
           },
           "showarrow": false,
           "text": "3",
           "x": 0.963621,
           "y": 4.853969,
           "yshift": 15,
           "z": 0.000836
          },
          {
           "font": {
            "color": "blue"
           },
           "showarrow": false,
           "text": "4",
           "x": -1.292112,
           "y": 3.703691,
           "yshift": 15,
           "z": -0.00242
          },
          {
           "font": {
            "color": "blue"
           },
           "showarrow": false,
           "text": "5",
           "x": -1.326111,
           "y": 4.662677,
           "yshift": 15,
           "z": -0.002502
          },
          {
           "font": {
            "color": "blue"
           },
           "showarrow": false,
           "text": "6",
           "x": 0.03974,
           "y": 1.579029,
           "yshift": 15,
           "z": -0.000474
          },
          {
           "font": {
            "color": "blue"
           },
           "showarrow": false,
           "text": "7",
           "x": -1.174798,
           "y": 0.884724,
           "yshift": 15,
           "z": -0.001504
          },
          {
           "font": {
            "color": "blue"
           },
           "showarrow": false,
           "text": "8",
           "x": 1.238674,
           "y": 0.840427,
           "yshift": 15,
           "z": 0.000627
          },
          {
           "font": {
            "color": "blue"
           },
           "showarrow": false,
           "text": "9",
           "x": -1.227848,
           "y": -0.499933,
           "yshift": 15,
           "z": -0.001425
          },
          {
           "font": {
            "color": "blue"
           },
           "showarrow": false,
           "text": "10",
           "x": 1.171079,
           "y": -0.550745,
           "yshift": 15,
           "z": 0.000697
          },
          {
           "font": {
            "color": "blue"
           },
           "showarrow": false,
           "text": "11",
           "x": -0.043818,
           "y": -1.220031,
           "yshift": 15,
           "z": -0.000304
          },
          {
           "font": {
            "color": "blue"
           },
           "showarrow": false,
           "text": "12",
           "x": -2.095852,
           "y": 1.453954,
           "yshift": 15,
           "z": -0.002371
          },
          {
           "font": {
            "color": "blue"
           },
           "showarrow": false,
           "text": "13",
           "x": -2.181886,
           "y": -1.010798,
           "yshift": 15,
           "z": -0.002232
          },
          {
           "font": {
            "color": "blue"
           },
           "showarrow": false,
           "text": "14",
           "x": 2.09272,
           "y": -1.120623,
           "yshift": 15,
           "z": 0.001543
          },
          {
           "font": {
            "color": "blue"
           },
           "showarrow": false,
           "text": "15",
           "x": -0.062101,
           "y": -2.302817,
           "yshift": 15,
           "z": -0.000216
          },
          {
           "font": {
            "color": "blue"
           },
           "showarrow": false,
           "text": "16",
           "x": 2.595618,
           "y": 1.494293,
           "yshift": 15,
           "z": 0.001763
          },
          {
           "font": {
            "color": "blue"
           },
           "showarrow": false,
           "text": "17",
           "x": 2.727969,
           "y": 2.133176,
           "yshift": 15,
           "z": -0.871103
          },
          {
           "font": {
            "color": "blue"
           },
           "showarrow": false,
           "text": "18",
           "x": 2.726935,
           "y": 2.132157,
           "yshift": 15,
           "z": 0.875545
          },
          {
           "font": {
            "color": "blue"
           },
           "showarrow": false,
           "text": "19",
           "x": 3.379259,
           "y": 0.737891,
           "yshift": 15,
           "z": 0.001801
          },
          {
           "font": {
            "color": "blue"
           },
           "showarrow": false,
           "text": "1",
           "x": 0,
           "y": 0,
           "yshift": 15,
           "z": 0
          },
          {
           "font": {
            "color": "blue"
           },
           "showarrow": false,
           "text": "2",
           "x": 0,
           "y": 1.3908,
           "yshift": 15,
           "z": 0
          },
          {
           "font": {
            "color": "blue"
           },
           "showarrow": false,
           "text": "3",
           "x": 1.1933,
           "y": 2.0904,
           "yshift": 15,
           "z": 0
          },
          {
           "font": {
            "color": "blue"
           },
           "showarrow": false,
           "text": "4",
           "x": 2.3972,
           "y": 1.3915,
           "yshift": 15,
           "z": 0
          },
          {
           "font": {
            "color": "blue"
           },
           "showarrow": false,
           "text": "5",
           "x": 2.4095,
           "y": 0.0028,
           "yshift": 15,
           "z": 0
          },
          {
           "font": {
            "color": "blue"
           },
           "showarrow": false,
           "text": "6",
           "x": 1.2058,
           "y": -0.6833,
           "yshift": 15,
           "z": 0
          },
          {
           "font": {
            "color": "blue"
           },
           "showarrow": false,
           "text": "7",
           "x": -0.9278,
           "y": -0.5556,
           "yshift": 15,
           "z": 0
          },
          {
           "font": {
            "color": "blue"
           },
           "showarrow": false,
           "text": "8",
           "x": 1.2188,
           "y": 3.1722,
           "yshift": 15,
           "z": 0
          },
          {
           "font": {
            "color": "blue"
           },
           "showarrow": false,
           "text": "9",
           "x": 3.346,
           "y": -0.5416,
           "yshift": 15,
           "z": 0
          },
          {
           "font": {
            "color": "blue"
           },
           "showarrow": false,
           "text": "10",
           "x": 3.6885,
           "y": 2.1233,
           "yshift": 15,
           "z": 0
          },
          {
           "font": {
            "color": "blue"
           },
           "showarrow": false,
           "text": "11",
           "x": 3.7837,
           "y": 3.3198,
           "yshift": 15,
           "z": 0
          },
          {
           "font": {
            "color": "blue"
           },
           "showarrow": false,
           "text": "12",
           "x": -0.9431,
           "y": 1.9208,
           "yshift": 15,
           "z": 0
          },
          {
           "font": {
            "color": "blue"
           },
           "showarrow": false,
           "text": "13",
           "x": 4.59,
           "y": 1.4807,
           "yshift": 15,
           "z": 0
          },
          {
           "font": {
            "color": "blue"
           },
           "showarrow": false,
           "text": "14",
           "x": 1.2088,
           "y": -2.4144,
           "yshift": 15,
           "z": 0
          },
          {
           "font": {
            "color": "blue"
           },
           "showarrow": false,
           "text": "1",
           "x": -1.193,
           "y": 0.7063,
           "yshift": 15,
           "z": 0
          },
          {
           "font": {
            "color": "blue"
           },
           "showarrow": false,
           "text": "2",
           "x": -1.2158,
           "y": 2.0974,
           "yshift": 15,
           "z": 0
          },
          {
           "font": {
            "color": "blue"
           },
           "showarrow": false,
           "text": "3",
           "x": -0.02,
           "y": 2.7886,
           "yshift": 15,
           "z": 0
          },
          {
           "font": {
            "color": "blue"
           },
           "showarrow": false,
           "text": "4",
           "x": 1.1887,
           "y": 2.0955,
           "yshift": 15,
           "z": 0
          },
          {
           "font": {
            "color": "blue"
           },
           "showarrow": false,
           "text": "5",
           "x": 1.1926,
           "y": 0.7061,
           "yshift": 15,
           "z": 0
          },
          {
           "font": {
            "color": "blue"
           },
           "showarrow": false,
           "text": "6",
           "x": 0,
           "y": 0,
           "yshift": 15,
           "z": 0
          },
          {
           "font": {
            "color": "blue"
           },
           "showarrow": false,
           "text": "7",
           "x": 0,
           "y": 3.8709,
           "yshift": 15,
           "z": 0
          },
          {
           "font": {
            "color": "blue"
           },
           "showarrow": false,
           "text": "8",
           "x": 2.1358,
           "y": 0.1718,
           "yshift": 15,
           "z": 0
          },
          {
           "font": {
            "color": "blue"
           },
           "showarrow": false,
           "text": "9",
           "x": 2.4723,
           "y": 2.8332,
           "yshift": 15,
           "z": 0
          },
          {
           "font": {
            "color": "blue"
           },
           "showarrow": false,
           "text": "10",
           "x": 2.564,
           "y": 4.0309,
           "yshift": 15,
           "z": 0
          },
          {
           "font": {
            "color": "blue"
           },
           "showarrow": false,
           "text": "11",
           "x": -2.1642,
           "y": 2.6162,
           "yshift": 15,
           "z": 0
          },
          {
           "font": {
            "color": "blue"
           },
           "showarrow": false,
           "text": "12",
           "x": 3.3772,
           "y": 2.1947,
           "yshift": 15,
           "z": 0
          },
          {
           "font": {
            "color": "blue"
           },
           "showarrow": false,
           "text": "13",
           "x": -0.0142,
           "y": -1.0807,
           "yshift": 15,
           "z": 0
          },
          {
           "font": {
            "color": "blue"
           },
           "showarrow": false,
           "text": "14",
           "x": -2.6885,
           "y": -0.161,
           "yshift": 15,
           "z": 0
          }
         ],
         "xaxis": {
          "showbackground": false,
          "showgrid": false,
          "showticklabels": false,
          "title": {
           "font": {
            "color": "white"
           }
          },
          "zeroline": false
         },
         "yaxis": {
          "showbackground": false,
          "showgrid": false,
          "showticklabels": false,
          "title": {
           "font": {
            "color": "white"
           }
          },
          "zeroline": false
         },
         "zaxis": {
          "showbackground": false,
          "showgrid": false,
          "showticklabels": false,
          "title": {
           "font": {
            "color": "white"
           }
          },
          "zeroline": false
         }
        },
        "showlegend": false,
        "template": {
         "data": {
          "bar": [
           {
            "error_x": {
             "color": "#2a3f5f"
            },
            "error_y": {
             "color": "#2a3f5f"
            },
            "marker": {
             "line": {
              "color": "#E5ECF6",
              "width": 0.5
             },
             "pattern": {
              "fillmode": "overlay",
              "size": 10,
              "solidity": 0.2
             }
            },
            "type": "bar"
           }
          ],
          "barpolar": [
           {
            "marker": {
             "line": {
              "color": "#E5ECF6",
              "width": 0.5
             },
             "pattern": {
              "fillmode": "overlay",
              "size": 10,
              "solidity": 0.2
             }
            },
            "type": "barpolar"
           }
          ],
          "carpet": [
           {
            "aaxis": {
             "endlinecolor": "#2a3f5f",
             "gridcolor": "white",
             "linecolor": "white",
             "minorgridcolor": "white",
             "startlinecolor": "#2a3f5f"
            },
            "baxis": {
             "endlinecolor": "#2a3f5f",
             "gridcolor": "white",
             "linecolor": "white",
             "minorgridcolor": "white",
             "startlinecolor": "#2a3f5f"
            },
            "type": "carpet"
           }
          ],
          "choropleth": [
           {
            "colorbar": {
             "outlinewidth": 0,
             "ticks": ""
            },
            "type": "choropleth"
           }
          ],
          "contour": [
           {
            "colorbar": {
             "outlinewidth": 0,
             "ticks": ""
            },
            "colorscale": [
             [
              0,
              "#0d0887"
             ],
             [
              0.1111111111111111,
              "#46039f"
             ],
             [
              0.2222222222222222,
              "#7201a8"
             ],
             [
              0.3333333333333333,
              "#9c179e"
             ],
             [
              0.4444444444444444,
              "#bd3786"
             ],
             [
              0.5555555555555556,
              "#d8576b"
             ],
             [
              0.6666666666666666,
              "#ed7953"
             ],
             [
              0.7777777777777778,
              "#fb9f3a"
             ],
             [
              0.8888888888888888,
              "#fdca26"
             ],
             [
              1,
              "#f0f921"
             ]
            ],
            "type": "contour"
           }
          ],
          "contourcarpet": [
           {
            "colorbar": {
             "outlinewidth": 0,
             "ticks": ""
            },
            "type": "contourcarpet"
           }
          ],
          "heatmap": [
           {
            "colorbar": {
             "outlinewidth": 0,
             "ticks": ""
            },
            "colorscale": [
             [
              0,
              "#0d0887"
             ],
             [
              0.1111111111111111,
              "#46039f"
             ],
             [
              0.2222222222222222,
              "#7201a8"
             ],
             [
              0.3333333333333333,
              "#9c179e"
             ],
             [
              0.4444444444444444,
              "#bd3786"
             ],
             [
              0.5555555555555556,
              "#d8576b"
             ],
             [
              0.6666666666666666,
              "#ed7953"
             ],
             [
              0.7777777777777778,
              "#fb9f3a"
             ],
             [
              0.8888888888888888,
              "#fdca26"
             ],
             [
              1,
              "#f0f921"
             ]
            ],
            "type": "heatmap"
           }
          ],
          "heatmapgl": [
           {
            "colorbar": {
             "outlinewidth": 0,
             "ticks": ""
            },
            "colorscale": [
             [
              0,
              "#0d0887"
             ],
             [
              0.1111111111111111,
              "#46039f"
             ],
             [
              0.2222222222222222,
              "#7201a8"
             ],
             [
              0.3333333333333333,
              "#9c179e"
             ],
             [
              0.4444444444444444,
              "#bd3786"
             ],
             [
              0.5555555555555556,
              "#d8576b"
             ],
             [
              0.6666666666666666,
              "#ed7953"
             ],
             [
              0.7777777777777778,
              "#fb9f3a"
             ],
             [
              0.8888888888888888,
              "#fdca26"
             ],
             [
              1,
              "#f0f921"
             ]
            ],
            "type": "heatmapgl"
           }
          ],
          "histogram": [
           {
            "marker": {
             "pattern": {
              "fillmode": "overlay",
              "size": 10,
              "solidity": 0.2
             }
            },
            "type": "histogram"
           }
          ],
          "histogram2d": [
           {
            "colorbar": {
             "outlinewidth": 0,
             "ticks": ""
            },
            "colorscale": [
             [
              0,
              "#0d0887"
             ],
             [
              0.1111111111111111,
              "#46039f"
             ],
             [
              0.2222222222222222,
              "#7201a8"
             ],
             [
              0.3333333333333333,
              "#9c179e"
             ],
             [
              0.4444444444444444,
              "#bd3786"
             ],
             [
              0.5555555555555556,
              "#d8576b"
             ],
             [
              0.6666666666666666,
              "#ed7953"
             ],
             [
              0.7777777777777778,
              "#fb9f3a"
             ],
             [
              0.8888888888888888,
              "#fdca26"
             ],
             [
              1,
              "#f0f921"
             ]
            ],
            "type": "histogram2d"
           }
          ],
          "histogram2dcontour": [
           {
            "colorbar": {
             "outlinewidth": 0,
             "ticks": ""
            },
            "colorscale": [
             [
              0,
              "#0d0887"
             ],
             [
              0.1111111111111111,
              "#46039f"
             ],
             [
              0.2222222222222222,
              "#7201a8"
             ],
             [
              0.3333333333333333,
              "#9c179e"
             ],
             [
              0.4444444444444444,
              "#bd3786"
             ],
             [
              0.5555555555555556,
              "#d8576b"
             ],
             [
              0.6666666666666666,
              "#ed7953"
             ],
             [
              0.7777777777777778,
              "#fb9f3a"
             ],
             [
              0.8888888888888888,
              "#fdca26"
             ],
             [
              1,
              "#f0f921"
             ]
            ],
            "type": "histogram2dcontour"
           }
          ],
          "mesh3d": [
           {
            "colorbar": {
             "outlinewidth": 0,
             "ticks": ""
            },
            "type": "mesh3d"
           }
          ],
          "parcoords": [
           {
            "line": {
             "colorbar": {
              "outlinewidth": 0,
              "ticks": ""
             }
            },
            "type": "parcoords"
           }
          ],
          "pie": [
           {
            "automargin": true,
            "type": "pie"
           }
          ],
          "scatter": [
           {
            "fillpattern": {
             "fillmode": "overlay",
             "size": 10,
             "solidity": 0.2
            },
            "type": "scatter"
           }
          ],
          "scatter3d": [
           {
            "line": {
             "colorbar": {
              "outlinewidth": 0,
              "ticks": ""
             }
            },
            "marker": {
             "colorbar": {
              "outlinewidth": 0,
              "ticks": ""
             }
            },
            "type": "scatter3d"
           }
          ],
          "scattercarpet": [
           {
            "marker": {
             "colorbar": {
              "outlinewidth": 0,
              "ticks": ""
             }
            },
            "type": "scattercarpet"
           }
          ],
          "scattergeo": [
           {
            "marker": {
             "colorbar": {
              "outlinewidth": 0,
              "ticks": ""
             }
            },
            "type": "scattergeo"
           }
          ],
          "scattergl": [
           {
            "marker": {
             "colorbar": {
              "outlinewidth": 0,
              "ticks": ""
             }
            },
            "type": "scattergl"
           }
          ],
          "scattermapbox": [
           {
            "marker": {
             "colorbar": {
              "outlinewidth": 0,
              "ticks": ""
             }
            },
            "type": "scattermapbox"
           }
          ],
          "scatterpolar": [
           {
            "marker": {
             "colorbar": {
              "outlinewidth": 0,
              "ticks": ""
             }
            },
            "type": "scatterpolar"
           }
          ],
          "scatterpolargl": [
           {
            "marker": {
             "colorbar": {
              "outlinewidth": 0,
              "ticks": ""
             }
            },
            "type": "scatterpolargl"
           }
          ],
          "scatterternary": [
           {
            "marker": {
             "colorbar": {
              "outlinewidth": 0,
              "ticks": ""
             }
            },
            "type": "scatterternary"
           }
          ],
          "surface": [
           {
            "colorbar": {
             "outlinewidth": 0,
             "ticks": ""
            },
            "colorscale": [
             [
              0,
              "#0d0887"
             ],
             [
              0.1111111111111111,
              "#46039f"
             ],
             [
              0.2222222222222222,
              "#7201a8"
             ],
             [
              0.3333333333333333,
              "#9c179e"
             ],
             [
              0.4444444444444444,
              "#bd3786"
             ],
             [
              0.5555555555555556,
              "#d8576b"
             ],
             [
              0.6666666666666666,
              "#ed7953"
             ],
             [
              0.7777777777777778,
              "#fb9f3a"
             ],
             [
              0.8888888888888888,
              "#fdca26"
             ],
             [
              1,
              "#f0f921"
             ]
            ],
            "type": "surface"
           }
          ],
          "table": [
           {
            "cells": {
             "fill": {
              "color": "#EBF0F8"
             },
             "line": {
              "color": "white"
             }
            },
            "header": {
             "fill": {
              "color": "#C8D4E3"
             },
             "line": {
              "color": "white"
             }
            },
            "type": "table"
           }
          ]
         },
         "layout": {
          "annotationdefaults": {
           "arrowcolor": "#2a3f5f",
           "arrowhead": 0,
           "arrowwidth": 1
          },
          "autotypenumbers": "strict",
          "coloraxis": {
           "colorbar": {
            "outlinewidth": 0,
            "ticks": ""
           }
          },
          "colorscale": {
           "diverging": [
            [
             0,
             "#8e0152"
            ],
            [
             0.1,
             "#c51b7d"
            ],
            [
             0.2,
             "#de77ae"
            ],
            [
             0.3,
             "#f1b6da"
            ],
            [
             0.4,
             "#fde0ef"
            ],
            [
             0.5,
             "#f7f7f7"
            ],
            [
             0.6,
             "#e6f5d0"
            ],
            [
             0.7,
             "#b8e186"
            ],
            [
             0.8,
             "#7fbc41"
            ],
            [
             0.9,
             "#4d9221"
            ],
            [
             1,
             "#276419"
            ]
           ],
           "sequential": [
            [
             0,
             "#0d0887"
            ],
            [
             0.1111111111111111,
             "#46039f"
            ],
            [
             0.2222222222222222,
             "#7201a8"
            ],
            [
             0.3333333333333333,
             "#9c179e"
            ],
            [
             0.4444444444444444,
             "#bd3786"
            ],
            [
             0.5555555555555556,
             "#d8576b"
            ],
            [
             0.6666666666666666,
             "#ed7953"
            ],
            [
             0.7777777777777778,
             "#fb9f3a"
            ],
            [
             0.8888888888888888,
             "#fdca26"
            ],
            [
             1,
             "#f0f921"
            ]
           ],
           "sequentialminus": [
            [
             0,
             "#0d0887"
            ],
            [
             0.1111111111111111,
             "#46039f"
            ],
            [
             0.2222222222222222,
             "#7201a8"
            ],
            [
             0.3333333333333333,
             "#9c179e"
            ],
            [
             0.4444444444444444,
             "#bd3786"
            ],
            [
             0.5555555555555556,
             "#d8576b"
            ],
            [
             0.6666666666666666,
             "#ed7953"
            ],
            [
             0.7777777777777778,
             "#fb9f3a"
            ],
            [
             0.8888888888888888,
             "#fdca26"
            ],
            [
             1,
             "#f0f921"
            ]
           ]
          },
          "colorway": [
           "#636efa",
           "#EF553B",
           "#00cc96",
           "#ab63fa",
           "#FFA15A",
           "#19d3f3",
           "#FF6692",
           "#B6E880",
           "#FF97FF",
           "#FECB52"
          ],
          "font": {
           "color": "#2a3f5f"
          },
          "geo": {
           "bgcolor": "white",
           "lakecolor": "white",
           "landcolor": "#E5ECF6",
           "showlakes": true,
           "showland": true,
           "subunitcolor": "white"
          },
          "hoverlabel": {
           "align": "left"
          },
          "hovermode": "closest",
          "mapbox": {
           "style": "light"
          },
          "paper_bgcolor": "white",
          "plot_bgcolor": "#E5ECF6",
          "polar": {
           "angularaxis": {
            "gridcolor": "white",
            "linecolor": "white",
            "ticks": ""
           },
           "bgcolor": "#E5ECF6",
           "radialaxis": {
            "gridcolor": "white",
            "linecolor": "white",
            "ticks": ""
           }
          },
          "scene": {
           "xaxis": {
            "backgroundcolor": "#E5ECF6",
            "gridcolor": "white",
            "gridwidth": 2,
            "linecolor": "white",
            "showbackground": true,
            "ticks": "",
            "zerolinecolor": "white"
           },
           "yaxis": {
            "backgroundcolor": "#E5ECF6",
            "gridcolor": "white",
            "gridwidth": 2,
            "linecolor": "white",
            "showbackground": true,
            "ticks": "",
            "zerolinecolor": "white"
           },
           "zaxis": {
            "backgroundcolor": "#E5ECF6",
            "gridcolor": "white",
            "gridwidth": 2,
            "linecolor": "white",
            "showbackground": true,
            "ticks": "",
            "zerolinecolor": "white"
           }
          },
          "shapedefaults": {
           "line": {
            "color": "#2a3f5f"
           }
          },
          "ternary": {
           "aaxis": {
            "gridcolor": "white",
            "linecolor": "white",
            "ticks": ""
           },
           "baxis": {
            "gridcolor": "white",
            "linecolor": "white",
            "ticks": ""
           },
           "bgcolor": "#E5ECF6",
           "caxis": {
            "gridcolor": "white",
            "linecolor": "white",
            "ticks": ""
           }
          },
          "title": {
           "x": 0.05
          },
          "xaxis": {
           "automargin": true,
           "gridcolor": "white",
           "linecolor": "white",
           "ticks": "",
           "title": {
            "standoff": 15
           },
           "zerolinecolor": "white",
           "zerolinewidth": 2
          },
          "yaxis": {
           "automargin": true,
           "gridcolor": "white",
           "linecolor": "white",
           "ticks": "",
           "title": {
            "standoff": 15
           },
           "zerolinecolor": "white",
           "zerolinewidth": 2
          }
         }
        },
        "updatemenus": [
         {
          "buttons": [
           {
            "args": [
             {
              "scene.annotations": [
               [
                {
                 "font": {
                  "color": "blue"
                 },
                 "showarrow": false,
                 "text": 1,
                 "x": -0.040475,
                 "y": 3.143203,
                 "yshift": 15,
                 "z": -0.000472
                },
                {
                 "font": {
                  "color": "blue"
                 },
                 "showarrow": false,
                 "text": 1,
                 "x": 0,
                 "y": 0,
                 "yshift": 15,
                 "z": 0
                },
                {
                 "font": {
                  "color": "blue"
                 },
                 "showarrow": false,
                 "text": 1,
                 "x": -1.193,
                 "y": 0.7063,
                 "yshift": 15,
                 "z": 0
                }
               ],
               [
                {
                 "font": {
                  "color": "blue"
                 },
                 "showarrow": false,
                 "text": 2,
                 "x": 1.0992,
                 "y": 3.903182,
                 "yshift": 15,
                 "z": 0.001022
                },
                {
                 "font": {
                  "color": "blue"
                 },
                 "showarrow": false,
                 "text": 2,
                 "x": 0,
                 "y": 1.3908,
                 "yshift": 15,
                 "z": 0
                },
                {
                 "font": {
                  "color": "blue"
                 },
                 "showarrow": false,
                 "text": 2,
                 "x": -1.2158,
                 "y": 2.0974,
                 "yshift": 15,
                 "z": 0
                }
               ],
               [
                {
                 "font": {
                  "color": "blue"
                 },
                 "showarrow": false,
                 "text": 3,
                 "x": 0.963621,
                 "y": 4.853969,
                 "yshift": 15,
                 "z": 0.000836
                },
                {
                 "font": {
                  "color": "blue"
                 },
                 "showarrow": false,
                 "text": 3,
                 "x": 1.1933,
                 "y": 2.0904,
                 "yshift": 15,
                 "z": 0
                },
                {
                 "font": {
                  "color": "blue"
                 },
                 "showarrow": false,
                 "text": 3,
                 "x": -0.02,
                 "y": 2.7886,
                 "yshift": 15,
                 "z": 0
                }
               ],
               [
                {
                 "font": {
                  "color": "blue"
                 },
                 "showarrow": false,
                 "text": 4,
                 "x": -1.292112,
                 "y": 3.703691,
                 "yshift": 15,
                 "z": -0.00242
                },
                {
                 "font": {
                  "color": "blue"
                 },
                 "showarrow": false,
                 "text": 4,
                 "x": 2.3972,
                 "y": 1.3915,
                 "yshift": 15,
                 "z": 0
                },
                {
                 "font": {
                  "color": "blue"
                 },
                 "showarrow": false,
                 "text": 4,
                 "x": 1.1887,
                 "y": 2.0955,
                 "yshift": 15,
                 "z": 0
                }
               ],
               [
                {
                 "font": {
                  "color": "blue"
                 },
                 "showarrow": false,
                 "text": 5,
                 "x": -1.326111,
                 "y": 4.662677,
                 "yshift": 15,
                 "z": -0.002502
                },
                {
                 "font": {
                  "color": "blue"
                 },
                 "showarrow": false,
                 "text": 5,
                 "x": 2.4095,
                 "y": 0.0028,
                 "yshift": 15,
                 "z": 0
                },
                {
                 "font": {
                  "color": "blue"
                 },
                 "showarrow": false,
                 "text": 5,
                 "x": 1.1926,
                 "y": 0.7061,
                 "yshift": 15,
                 "z": 0
                }
               ],
               [
                {
                 "font": {
                  "color": "blue"
                 },
                 "showarrow": false,
                 "text": 6,
                 "x": 0.03974,
                 "y": 1.579029,
                 "yshift": 15,
                 "z": -0.000474
                },
                {
                 "font": {
                  "color": "blue"
                 },
                 "showarrow": false,
                 "text": 6,
                 "x": 1.2058,
                 "y": -0.6833,
                 "yshift": 15,
                 "z": 0
                },
                {
                 "font": {
                  "color": "blue"
                 },
                 "showarrow": false,
                 "text": 6,
                 "x": 0,
                 "y": 0,
                 "yshift": 15,
                 "z": 0
                }
               ],
               [
                {
                 "font": {
                  "color": "blue"
                 },
                 "showarrow": false,
                 "text": 7,
                 "x": -1.174798,
                 "y": 0.884724,
                 "yshift": 15,
                 "z": -0.001504
                },
                {
                 "font": {
                  "color": "blue"
                 },
                 "showarrow": false,
                 "text": 7,
                 "x": -0.9278,
                 "y": -0.5556,
                 "yshift": 15,
                 "z": 0
                },
                {
                 "font": {
                  "color": "blue"
                 },
                 "showarrow": false,
                 "text": 7,
                 "x": 0,
                 "y": 3.8709,
                 "yshift": 15,
                 "z": 0
                }
               ],
               [
                {
                 "font": {
                  "color": "blue"
                 },
                 "showarrow": false,
                 "text": 8,
                 "x": 1.238674,
                 "y": 0.840427,
                 "yshift": 15,
                 "z": 0.000627
                },
                {
                 "font": {
                  "color": "blue"
                 },
                 "showarrow": false,
                 "text": 8,
                 "x": 1.2188,
                 "y": 3.1722,
                 "yshift": 15,
                 "z": 0
                },
                {
                 "font": {
                  "color": "blue"
                 },
                 "showarrow": false,
                 "text": 8,
                 "x": 2.1358,
                 "y": 0.1718,
                 "yshift": 15,
                 "z": 0
                }
               ],
               [
                {
                 "font": {
                  "color": "blue"
                 },
                 "showarrow": false,
                 "text": 9,
                 "x": -1.227848,
                 "y": -0.499933,
                 "yshift": 15,
                 "z": -0.001425
                },
                {
                 "font": {
                  "color": "blue"
                 },
                 "showarrow": false,
                 "text": 9,
                 "x": 3.346,
                 "y": -0.5416,
                 "yshift": 15,
                 "z": 0
                },
                {
                 "font": {
                  "color": "blue"
                 },
                 "showarrow": false,
                 "text": 9,
                 "x": 2.4723,
                 "y": 2.8332,
                 "yshift": 15,
                 "z": 0
                }
               ],
               [
                {
                 "font": {
                  "color": "blue"
                 },
                 "showarrow": false,
                 "text": 10,
                 "x": 1.171079,
                 "y": -0.550745,
                 "yshift": 15,
                 "z": 0.000697
                },
                {
                 "font": {
                  "color": "blue"
                 },
                 "showarrow": false,
                 "text": 10,
                 "x": 3.6885,
                 "y": 2.1233,
                 "yshift": 15,
                 "z": 0
                },
                {
                 "font": {
                  "color": "blue"
                 },
                 "showarrow": false,
                 "text": 10,
                 "x": 2.564,
                 "y": 4.0309,
                 "yshift": 15,
                 "z": 0
                }
               ],
               [
                {
                 "font": {
                  "color": "blue"
                 },
                 "showarrow": false,
                 "text": 11,
                 "x": -0.043818,
                 "y": -1.220031,
                 "yshift": 15,
                 "z": -0.000304
                },
                {
                 "font": {
                  "color": "blue"
                 },
                 "showarrow": false,
                 "text": 11,
                 "x": 3.7837,
                 "y": 3.3198,
                 "yshift": 15,
                 "z": 0
                },
                {
                 "font": {
                  "color": "blue"
                 },
                 "showarrow": false,
                 "text": 11,
                 "x": -2.1642,
                 "y": 2.6162,
                 "yshift": 15,
                 "z": 0
                }
               ],
               [
                {
                 "font": {
                  "color": "blue"
                 },
                 "showarrow": false,
                 "text": 12,
                 "x": -2.095852,
                 "y": 1.453954,
                 "yshift": 15,
                 "z": -0.002371
                },
                {
                 "font": {
                  "color": "blue"
                 },
                 "showarrow": false,
                 "text": 12,
                 "x": -0.9431,
                 "y": 1.9208,
                 "yshift": 15,
                 "z": 0
                },
                {
                 "font": {
                  "color": "blue"
                 },
                 "showarrow": false,
                 "text": 12,
                 "x": 3.3772,
                 "y": 2.1947,
                 "yshift": 15,
                 "z": 0
                }
               ],
               [
                {
                 "font": {
                  "color": "blue"
                 },
                 "showarrow": false,
                 "text": 13,
                 "x": -2.181886,
                 "y": -1.010798,
                 "yshift": 15,
                 "z": -0.002232
                },
                {
                 "font": {
                  "color": "blue"
                 },
                 "showarrow": false,
                 "text": 13,
                 "x": 4.59,
                 "y": 1.4807,
                 "yshift": 15,
                 "z": 0
                },
                {
                 "font": {
                  "color": "blue"
                 },
                 "showarrow": false,
                 "text": 13,
                 "x": -0.0142,
                 "y": -1.0807,
                 "yshift": 15,
                 "z": 0
                }
               ],
               [
                {
                 "font": {
                  "color": "blue"
                 },
                 "showarrow": false,
                 "text": 14,
                 "x": 2.09272,
                 "y": -1.120623,
                 "yshift": 15,
                 "z": 0.001543
                },
                {
                 "font": {
                  "color": "blue"
                 },
                 "showarrow": false,
                 "text": 14,
                 "x": 1.2088,
                 "y": -2.4144,
                 "yshift": 15,
                 "z": 0
                },
                {
                 "font": {
                  "color": "blue"
                 },
                 "showarrow": false,
                 "text": 14,
                 "x": -2.6885,
                 "y": -0.161,
                 "yshift": 15,
                 "z": 0
                }
               ]
              ]
             }
            ],
            "label": "Atom indices",
            "method": "relayout"
           },
           {
            "args": [
             {
              "scene.annotations": [
               [
                {
                 "showarrow": false,
                 "text": 1.37,
                 "x": 0.5293625,
                 "y": 3.5231925000000004,
                 "yshift": 10,
                 "z": 0.00027499999999999996
                },
                {
                 "showarrow": false,
                 "text": 1.39,
                 "x": 0,
                 "y": 0.6954,
                 "yshift": 10,
                 "z": 0
                },
                {
                 "showarrow": false,
                 "text": 1.39,
                 "x": -1.2044000000000001,
                 "y": 1.40185,
                 "yshift": 10,
                 "z": 0
                }
               ],
               [
                {
                 "showarrow": false,
                 "text": 0.96,
                 "x": 1.0314105,
                 "y": 4.3785755,
                 "yshift": 10,
                 "z": 0.0009289999999999999
                },
                {
                 "showarrow": false,
                 "text": 1.38,
                 "x": 0.59665,
                 "y": 1.7406,
                 "yshift": 10,
                 "z": 0
                },
                {
                 "showarrow": false,
                 "text": 1.38,
                 "x": -0.6179,
                 "y": 2.443,
                 "yshift": 10,
                 "z": 0
                }
               ],
               [
                {
                 "showarrow": false,
                 "text": 0.96,
                 "x": -1.3091115,
                 "y": 4.183184000000001,
                 "yshift": 10,
                 "z": -0.0024609999999999996
                },
                {
                 "showarrow": false,
                 "text": 1.39,
                 "x": 1.7952500000000002,
                 "y": 1.7409499999999998,
                 "yshift": 10,
                 "z": 0
                },
                {
                 "showarrow": false,
                 "text": 1.39,
                 "x": 0.58435,
                 "y": 2.44205,
                 "yshift": 10,
                 "z": 0
                }
               ],
               [
                {
                 "showarrow": false,
                 "text": 1.4,
                 "x": -0.567529,
                 "y": 1.2318765,
                 "yshift": 10,
                 "z": -0.0009889999999999999
                },
                {
                 "showarrow": false,
                 "text": 1.39,
                 "x": 2.40335,
                 "y": 0.6971499999999999,
                 "yshift": 10,
                 "z": 0
                },
                {
                 "showarrow": false,
                 "text": 1.39,
                 "x": 1.1906500000000002,
                 "y": 1.4007999999999998,
                 "yshift": 10,
                 "z": 0
                }
               ],
               [
                {
                 "showarrow": false,
                 "text": 1.39,
                 "x": 0.5636305,
                 "y": -0.8853880000000001,
                 "yshift": 10,
                 "z": 0.0001965
                },
                {
                 "showarrow": false,
                 "text": 1.39,
                 "x": 1.80765,
                 "y": -0.34025,
                 "yshift": 10,
                 "z": 0
                },
                {
                 "showarrow": false,
                 "text": 1.39,
                 "x": 0.5963,
                 "y": 0.35305,
                 "yshift": 10,
                 "z": 0
                }
               ],
               [
                {
                 "showarrow": false,
                 "text": 1.09,
                 "x": 2.6617935,
                 "y": 1.8137345000000002,
                 "yshift": 10,
                 "z": -0.43467
                },
                {
                 "showarrow": false,
                 "text": 1.2,
                 "x": 3.7361,
                 "y": 2.7215499999999997,
                 "yshift": 10,
                 "z": 0
                },
                {
                 "showarrow": false,
                 "text": 1.2,
                 "x": 2.5181500000000003,
                 "y": 3.4320500000000003,
                 "yshift": 10,
                 "z": 0
                }
               ],
               [
                {
                 "showarrow": false,
                 "text": 1.41,
                 "x": 0.6392070000000001,
                 "y": 1.2097280000000001,
                 "yshift": 10,
                 "z": 0.00007649999999999999
                },
                {
                 "showarrow": false,
                 "text": 1.11,
                 "x": 4.13925,
                 "y": 1.802,
                 "yshift": 10,
                 "z": 0
                },
                {
                 "showarrow": false,
                 "text": 1.73,
                 "x": -1.94075,
                 "y": 0.27265,
                 "yshift": 10,
                 "z": 0
                }
               ],
               [
                {
                 "showarrow": false,
                 "text": 1.39,
                 "x": -1.201323,
                 "y": 0.19239549999999997,
                 "yshift": 10,
                 "z": -0.0014645
                },
                {
                 "showarrow": false,
                 "text": 1.08,
                 "x": 2.87775,
                 "y": -0.2694,
                 "yshift": 10,
                 "z": 0
                },
                {
                 "showarrow": false,
                 "text": 1.08,
                 "x": 1.6642000000000001,
                 "y": 0.43894999999999995,
                 "yshift": 10,
                 "z": 0
                }
               ],
               [
                {
                 "showarrow": false,
                 "text": 1.39,
                 "x": 1.2048765000000001,
                 "y": 0.144841,
                 "yshift": 10,
                 "z": 0.000662
                },
                {
                 "showarrow": false,
                 "text": 1.08,
                 "x": -0.47155,
                 "y": 1.6558000000000002,
                 "yshift": 10,
                 "z": 0
                },
                {
                 "showarrow": false,
                 "text": 1.11,
                 "x": 2.9247500000000004,
                 "y": 2.5139500000000004,
                 "yshift": 10,
                 "z": 0
                }
               ],
               [
                {
                 "showarrow": false,
                 "text": 1.39,
                 "x": -0.635833,
                 "y": -0.859982,
                 "yshift": 10,
                 "z": -0.0008645
                },
                {
                 "showarrow": false,
                 "text": 1.39,
                 "x": 0.6029,
                 "y": -0.34165,
                 "yshift": 10,
                 "z": 0
                },
                {
                 "showarrow": false,
                 "text": 1.08,
                 "x": -0.01,
                 "y": 3.3297499999999998,
                 "yshift": 10,
                 "z": 0
                }
               ],
               [
                {
                 "showarrow": false,
                 "text": 1.09,
                 "x": 2.6612765,
                 "y": 1.813225,
                 "yshift": 10,
                 "z": 0.438654
                },
                {
                 "showarrow": false,
                 "text": 1.08,
                 "x": 1.20605,
                 "y": 2.6313,
                 "yshift": 10,
                 "z": 0
                },
                {
                 "showarrow": false,
                 "text": 1.39,
                 "x": -0.5965,
                 "y": 0.35315,
                 "yshift": 10,
                 "z": 0
                }
               ],
               [
                {
                 "showarrow": false,
                 "text": 1.37,
                 "x": -0.6662935,
                 "y": 3.4234470000000004,
                 "yshift": 10,
                 "z": -0.0014459999999999998
                },
                {
                 "showarrow": false,
                 "text": 1.08,
                 "x": -0.4639,
                 "y": -0.2778,
                 "yshift": 10,
                 "z": 0
                },
                {
                 "showarrow": false,
                 "text": 1.48,
                 "x": 1.8305000000000002,
                 "y": 2.46435,
                 "yshift": 10,
                 "z": 0
                }
               ],
               [
                {
                 "showarrow": false,
                 "text": 1.09,
                 "x": 2.9874384999999997,
                 "y": 1.116092,
                 "yshift": 10,
                 "z": 0.0017820000000000002
                },
                {
                 "showarrow": false,
                 "text": 1.48,
                 "x": 3.04285,
                 "y": 1.7574,
                 "yshift": 10,
                 "z": 0
                },
                {
                 "showarrow": false,
                 "text": 1.08,
                 "x": -1.69,
                 "y": 2.3568,
                 "yshift": 10,
                 "z": 0
                }
               ],
               [
                {
                 "showarrow": false,
                 "text": 1.08,
                 "x": -1.7048670000000001,
                 "y": -0.7553655,
                 "yshift": 10,
                 "z": -0.0018285
                },
                {
                 "showarrow": false,
                 "text": 1.73,
                 "x": 1.2073,
                 "y": -1.54885,
                 "yshift": 10,
                 "z": 0
                },
                {
                 "showarrow": false,
                 "text": 1.08,
                 "x": -0.0071,
                 "y": -0.54035,
                 "yshift": 10,
                 "z": 0
                }
               ]
              ]
             }
            ],
            "label": "Bond lengths",
            "method": "relayout"
           },
           {
            "args": [
             {
              "scene.annotations": [
               [
                {
                 "font": {
                  "color": "blue"
                 },
                 "showarrow": false,
                 "text": 1,
                 "x": -0.040475,
                 "y": 3.143203,
                 "yshift": 15,
                 "z": -0.000472
                },
                {
                 "font": {
                  "color": "blue"
                 },
                 "showarrow": false,
                 "text": 1,
                 "x": 0,
                 "y": 0,
                 "yshift": 15,
                 "z": 0
                },
                {
                 "font": {
                  "color": "blue"
                 },
                 "showarrow": false,
                 "text": 1,
                 "x": -1.193,
                 "y": 0.7063,
                 "yshift": 15,
                 "z": 0
                }
               ],
               [
                {
                 "font": {
                  "color": "blue"
                 },
                 "showarrow": false,
                 "text": 2,
                 "x": 1.0992,
                 "y": 3.903182,
                 "yshift": 15,
                 "z": 0.001022
                },
                {
                 "font": {
                  "color": "blue"
                 },
                 "showarrow": false,
                 "text": 2,
                 "x": 0,
                 "y": 1.3908,
                 "yshift": 15,
                 "z": 0
                },
                {
                 "font": {
                  "color": "blue"
                 },
                 "showarrow": false,
                 "text": 2,
                 "x": -1.2158,
                 "y": 2.0974,
                 "yshift": 15,
                 "z": 0
                }
               ],
               [
                {
                 "font": {
                  "color": "blue"
                 },
                 "showarrow": false,
                 "text": 3,
                 "x": 0.963621,
                 "y": 4.853969,
                 "yshift": 15,
                 "z": 0.000836
                },
                {
                 "font": {
                  "color": "blue"
                 },
                 "showarrow": false,
                 "text": 3,
                 "x": 1.1933,
                 "y": 2.0904,
                 "yshift": 15,
                 "z": 0
                },
                {
                 "font": {
                  "color": "blue"
                 },
                 "showarrow": false,
                 "text": 3,
                 "x": -0.02,
                 "y": 2.7886,
                 "yshift": 15,
                 "z": 0
                }
               ],
               [
                {
                 "font": {
                  "color": "blue"
                 },
                 "showarrow": false,
                 "text": 4,
                 "x": -1.292112,
                 "y": 3.703691,
                 "yshift": 15,
                 "z": -0.00242
                },
                {
                 "font": {
                  "color": "blue"
                 },
                 "showarrow": false,
                 "text": 4,
                 "x": 2.3972,
                 "y": 1.3915,
                 "yshift": 15,
                 "z": 0
                },
                {
                 "font": {
                  "color": "blue"
                 },
                 "showarrow": false,
                 "text": 4,
                 "x": 1.1887,
                 "y": 2.0955,
                 "yshift": 15,
                 "z": 0
                }
               ],
               [
                {
                 "font": {
                  "color": "blue"
                 },
                 "showarrow": false,
                 "text": 5,
                 "x": -1.326111,
                 "y": 4.662677,
                 "yshift": 15,
                 "z": -0.002502
                },
                {
                 "font": {
                  "color": "blue"
                 },
                 "showarrow": false,
                 "text": 5,
                 "x": 2.4095,
                 "y": 0.0028,
                 "yshift": 15,
                 "z": 0
                },
                {
                 "font": {
                  "color": "blue"
                 },
                 "showarrow": false,
                 "text": 5,
                 "x": 1.1926,
                 "y": 0.7061,
                 "yshift": 15,
                 "z": 0
                }
               ],
               [
                {
                 "font": {
                  "color": "blue"
                 },
                 "showarrow": false,
                 "text": 6,
                 "x": 0.03974,
                 "y": 1.579029,
                 "yshift": 15,
                 "z": -0.000474
                },
                {
                 "font": {
                  "color": "blue"
                 },
                 "showarrow": false,
                 "text": 6,
                 "x": 1.2058,
                 "y": -0.6833,
                 "yshift": 15,
                 "z": 0
                },
                {
                 "font": {
                  "color": "blue"
                 },
                 "showarrow": false,
                 "text": 6,
                 "x": 0,
                 "y": 0,
                 "yshift": 15,
                 "z": 0
                }
               ],
               [
                {
                 "font": {
                  "color": "blue"
                 },
                 "showarrow": false,
                 "text": 7,
                 "x": -1.174798,
                 "y": 0.884724,
                 "yshift": 15,
                 "z": -0.001504
                },
                {
                 "font": {
                  "color": "blue"
                 },
                 "showarrow": false,
                 "text": 7,
                 "x": -0.9278,
                 "y": -0.5556,
                 "yshift": 15,
                 "z": 0
                },
                {
                 "font": {
                  "color": "blue"
                 },
                 "showarrow": false,
                 "text": 7,
                 "x": 0,
                 "y": 3.8709,
                 "yshift": 15,
                 "z": 0
                }
               ],
               [
                {
                 "font": {
                  "color": "blue"
                 },
                 "showarrow": false,
                 "text": 8,
                 "x": 1.238674,
                 "y": 0.840427,
                 "yshift": 15,
                 "z": 0.000627
                },
                {
                 "font": {
                  "color": "blue"
                 },
                 "showarrow": false,
                 "text": 8,
                 "x": 1.2188,
                 "y": 3.1722,
                 "yshift": 15,
                 "z": 0
                },
                {
                 "font": {
                  "color": "blue"
                 },
                 "showarrow": false,
                 "text": 8,
                 "x": 2.1358,
                 "y": 0.1718,
                 "yshift": 15,
                 "z": 0
                }
               ],
               [
                {
                 "font": {
                  "color": "blue"
                 },
                 "showarrow": false,
                 "text": 9,
                 "x": -1.227848,
                 "y": -0.499933,
                 "yshift": 15,
                 "z": -0.001425
                },
                {
                 "font": {
                  "color": "blue"
                 },
                 "showarrow": false,
                 "text": 9,
                 "x": 3.346,
                 "y": -0.5416,
                 "yshift": 15,
                 "z": 0
                },
                {
                 "font": {
                  "color": "blue"
                 },
                 "showarrow": false,
                 "text": 9,
                 "x": 2.4723,
                 "y": 2.8332,
                 "yshift": 15,
                 "z": 0
                }
               ],
               [
                {
                 "font": {
                  "color": "blue"
                 },
                 "showarrow": false,
                 "text": 10,
                 "x": 1.171079,
                 "y": -0.550745,
                 "yshift": 15,
                 "z": 0.000697
                },
                {
                 "font": {
                  "color": "blue"
                 },
                 "showarrow": false,
                 "text": 10,
                 "x": 3.6885,
                 "y": 2.1233,
                 "yshift": 15,
                 "z": 0
                },
                {
                 "font": {
                  "color": "blue"
                 },
                 "showarrow": false,
                 "text": 10,
                 "x": 2.564,
                 "y": 4.0309,
                 "yshift": 15,
                 "z": 0
                }
               ],
               [
                {
                 "font": {
                  "color": "blue"
                 },
                 "showarrow": false,
                 "text": 11,
                 "x": -0.043818,
                 "y": -1.220031,
                 "yshift": 15,
                 "z": -0.000304
                },
                {
                 "font": {
                  "color": "blue"
                 },
                 "showarrow": false,
                 "text": 11,
                 "x": 3.7837,
                 "y": 3.3198,
                 "yshift": 15,
                 "z": 0
                },
                {
                 "font": {
                  "color": "blue"
                 },
                 "showarrow": false,
                 "text": 11,
                 "x": -2.1642,
                 "y": 2.6162,
                 "yshift": 15,
                 "z": 0
                }
               ],
               [
                {
                 "font": {
                  "color": "blue"
                 },
                 "showarrow": false,
                 "text": 12,
                 "x": -2.095852,
                 "y": 1.453954,
                 "yshift": 15,
                 "z": -0.002371
                },
                {
                 "font": {
                  "color": "blue"
                 },
                 "showarrow": false,
                 "text": 12,
                 "x": -0.9431,
                 "y": 1.9208,
                 "yshift": 15,
                 "z": 0
                },
                {
                 "font": {
                  "color": "blue"
                 },
                 "showarrow": false,
                 "text": 12,
                 "x": 3.3772,
                 "y": 2.1947,
                 "yshift": 15,
                 "z": 0
                }
               ],
               [
                {
                 "font": {
                  "color": "blue"
                 },
                 "showarrow": false,
                 "text": 13,
                 "x": -2.181886,
                 "y": -1.010798,
                 "yshift": 15,
                 "z": -0.002232
                },
                {
                 "font": {
                  "color": "blue"
                 },
                 "showarrow": false,
                 "text": 13,
                 "x": 4.59,
                 "y": 1.4807,
                 "yshift": 15,
                 "z": 0
                },
                {
                 "font": {
                  "color": "blue"
                 },
                 "showarrow": false,
                 "text": 13,
                 "x": -0.0142,
                 "y": -1.0807,
                 "yshift": 15,
                 "z": 0
                }
               ],
               [
                {
                 "font": {
                  "color": "blue"
                 },
                 "showarrow": false,
                 "text": 14,
                 "x": 2.09272,
                 "y": -1.120623,
                 "yshift": 15,
                 "z": 0.001543
                },
                {
                 "font": {
                  "color": "blue"
                 },
                 "showarrow": false,
                 "text": 14,
                 "x": 1.2088,
                 "y": -2.4144,
                 "yshift": 15,
                 "z": 0
                },
                {
                 "font": {
                  "color": "blue"
                 },
                 "showarrow": false,
                 "text": 14,
                 "x": -2.6885,
                 "y": -0.161,
                 "yshift": 15,
                 "z": 0
                }
               ],
               [
                {
                 "font": {
                  "color": "blue"
                 },
                 "showarrow": false,
                 "text": 15,
                 "x": -0.062101,
                 "y": -2.302817,
                 "yshift": 15,
                 "z": -0.000216
                },
                {
                 "showarrow": false,
                 "text": 1.39,
                 "x": 0,
                 "y": 0.6954,
                 "yshift": 10,
                 "z": 0
                },
                {
                 "showarrow": false,
                 "text": 1.39,
                 "x": -1.2044000000000001,
                 "y": 1.40185,
                 "yshift": 10,
                 "z": 0
                }
               ],
               [
                {
                 "font": {
                  "color": "blue"
                 },
                 "showarrow": false,
                 "text": 16,
                 "x": 2.595618,
                 "y": 1.494293,
                 "yshift": 15,
                 "z": 0.001763
                },
                {
                 "showarrow": false,
                 "text": 1.38,
                 "x": 0.59665,
                 "y": 1.7406,
                 "yshift": 10,
                 "z": 0
                },
                {
                 "showarrow": false,
                 "text": 1.38,
                 "x": -0.6179,
                 "y": 2.443,
                 "yshift": 10,
                 "z": 0
                }
               ],
               [
                {
                 "font": {
                  "color": "blue"
                 },
                 "showarrow": false,
                 "text": 17,
                 "x": 2.727969,
                 "y": 2.133176,
                 "yshift": 15,
                 "z": -0.871103
                },
                {
                 "showarrow": false,
                 "text": 1.39,
                 "x": 1.7952500000000002,
                 "y": 1.7409499999999998,
                 "yshift": 10,
                 "z": 0
                },
                {
                 "showarrow": false,
                 "text": 1.39,
                 "x": 0.58435,
                 "y": 2.44205,
                 "yshift": 10,
                 "z": 0
                }
               ],
               [
                {
                 "font": {
                  "color": "blue"
                 },
                 "showarrow": false,
                 "text": 18,
                 "x": 2.726935,
                 "y": 2.132157,
                 "yshift": 15,
                 "z": 0.875545
                },
                {
                 "showarrow": false,
                 "text": 1.39,
                 "x": 2.40335,
                 "y": 0.6971499999999999,
                 "yshift": 10,
                 "z": 0
                },
                {
                 "showarrow": false,
                 "text": 1.39,
                 "x": 1.1906500000000002,
                 "y": 1.4007999999999998,
                 "yshift": 10,
                 "z": 0
                }
               ],
               [
                {
                 "font": {
                  "color": "blue"
                 },
                 "showarrow": false,
                 "text": 19,
                 "x": 3.379259,
                 "y": 0.737891,
                 "yshift": 15,
                 "z": 0.001801
                },
                {
                 "showarrow": false,
                 "text": 1.39,
                 "x": 1.80765,
                 "y": -0.34025,
                 "yshift": 10,
                 "z": 0
                },
                {
                 "showarrow": false,
                 "text": 1.39,
                 "x": 0.5963,
                 "y": 0.35305,
                 "yshift": 10,
                 "z": 0
                }
               ],
               [
                {
                 "showarrow": false,
                 "text": 1.37,
                 "x": 0.5293625,
                 "y": 3.5231925000000004,
                 "yshift": 10,
                 "z": 0.00027499999999999996
                },
                {
                 "showarrow": false,
                 "text": 1.2,
                 "x": 3.7361,
                 "y": 2.7215499999999997,
                 "yshift": 10,
                 "z": 0
                },
                {
                 "showarrow": false,
                 "text": 1.2,
                 "x": 2.5181500000000003,
                 "y": 3.4320500000000003,
                 "yshift": 10,
                 "z": 0
                }
               ],
               [
                {
                 "showarrow": false,
                 "text": 0.96,
                 "x": 1.0314105,
                 "y": 4.3785755,
                 "yshift": 10,
                 "z": 0.0009289999999999999
                },
                {
                 "showarrow": false,
                 "text": 1.11,
                 "x": 4.13925,
                 "y": 1.802,
                 "yshift": 10,
                 "z": 0
                },
                {
                 "showarrow": false,
                 "text": 1.73,
                 "x": -1.94075,
                 "y": 0.27265,
                 "yshift": 10,
                 "z": 0
                }
               ],
               [
                {
                 "showarrow": false,
                 "text": 0.96,
                 "x": -1.3091115,
                 "y": 4.183184000000001,
                 "yshift": 10,
                 "z": -0.0024609999999999996
                },
                {
                 "showarrow": false,
                 "text": 1.08,
                 "x": 2.87775,
                 "y": -0.2694,
                 "yshift": 10,
                 "z": 0
                },
                {
                 "showarrow": false,
                 "text": 1.08,
                 "x": 1.6642000000000001,
                 "y": 0.43894999999999995,
                 "yshift": 10,
                 "z": 0
                }
               ],
               [
                {
                 "showarrow": false,
                 "text": 1.4,
                 "x": -0.567529,
                 "y": 1.2318765,
                 "yshift": 10,
                 "z": -0.0009889999999999999
                },
                {
                 "showarrow": false,
                 "text": 1.08,
                 "x": -0.47155,
                 "y": 1.6558000000000002,
                 "yshift": 10,
                 "z": 0
                },
                {
                 "showarrow": false,
                 "text": 1.11,
                 "x": 2.9247500000000004,
                 "y": 2.5139500000000004,
                 "yshift": 10,
                 "z": 0
                }
               ],
               [
                {
                 "showarrow": false,
                 "text": 1.39,
                 "x": 0.5636305,
                 "y": -0.8853880000000001,
                 "yshift": 10,
                 "z": 0.0001965
                },
                {
                 "showarrow": false,
                 "text": 1.39,
                 "x": 0.6029,
                 "y": -0.34165,
                 "yshift": 10,
                 "z": 0
                },
                {
                 "showarrow": false,
                 "text": 1.08,
                 "x": -0.01,
                 "y": 3.3297499999999998,
                 "yshift": 10,
                 "z": 0
                }
               ],
               [
                {
                 "showarrow": false,
                 "text": 1.09,
                 "x": 2.6617935,
                 "y": 1.8137345000000002,
                 "yshift": 10,
                 "z": -0.43467
                },
                {
                 "showarrow": false,
                 "text": 1.08,
                 "x": 1.20605,
                 "y": 2.6313,
                 "yshift": 10,
                 "z": 0
                },
                {
                 "showarrow": false,
                 "text": 1.39,
                 "x": -0.5965,
                 "y": 0.35315,
                 "yshift": 10,
                 "z": 0
                }
               ],
               [
                {
                 "showarrow": false,
                 "text": 1.41,
                 "x": 0.6392070000000001,
                 "y": 1.2097280000000001,
                 "yshift": 10,
                 "z": 0.00007649999999999999
                },
                {
                 "showarrow": false,
                 "text": 1.08,
                 "x": -0.4639,
                 "y": -0.2778,
                 "yshift": 10,
                 "z": 0
                },
                {
                 "showarrow": false,
                 "text": 1.48,
                 "x": 1.8305000000000002,
                 "y": 2.46435,
                 "yshift": 10,
                 "z": 0
                }
               ],
               [
                {
                 "showarrow": false,
                 "text": 1.39,
                 "x": -1.201323,
                 "y": 0.19239549999999997,
                 "yshift": 10,
                 "z": -0.0014645
                },
                {
                 "showarrow": false,
                 "text": 1.48,
                 "x": 3.04285,
                 "y": 1.7574,
                 "yshift": 10,
                 "z": 0
                },
                {
                 "showarrow": false,
                 "text": 1.08,
                 "x": -1.69,
                 "y": 2.3568,
                 "yshift": 10,
                 "z": 0
                }
               ],
               [
                {
                 "showarrow": false,
                 "text": 1.39,
                 "x": 1.2048765000000001,
                 "y": 0.144841,
                 "yshift": 10,
                 "z": 0.000662
                },
                {
                 "showarrow": false,
                 "text": 1.73,
                 "x": 1.2073,
                 "y": -1.54885,
                 "yshift": 10,
                 "z": 0
                },
                {
                 "showarrow": false,
                 "text": 1.08,
                 "x": -0.0071,
                 "y": -0.54035,
                 "yshift": 10,
                 "z": 0
                }
               ]
              ]
             }
            ],
            "label": "Atom indices & Bond lengths",
            "method": "relayout"
           },
           {
            "args": [
             {
              "scene.annotations": []
             }
            ],
            "label": "Hide all",
            "method": "relayout"
           }
          ],
          "direction": "down",
          "xanchor": "left",
          "yanchor": "top"
         }
        ]
       }
      }
     },
     "metadata": {},
     "output_type": "display_data"
    }
   ],
   "source": [
    "df_list=[get_df_from_file(file) for file in get_file_name_list('.xyz')]\n",
    "df_list[1]=preform_coordination_transformation(df_list[1],indices=[1,2,3])\n",
    "df_list[2]=preform_coordination_transformation(df_list[2],indices=[6,7,8])\n",
    "compare_molecules(df_list)"
   ]
  },
  {
   "cell_type": "code",
   "execution_count": 39,
   "metadata": {},
   "outputs": [
    {
     "name": "stdout",
     "output_type": "stream",
     "text": [
      "{frozenset({0, 1}): 1.37, frozenset({1, 2}): 0.96, frozenset({3, 4}): 0.96, frozenset({5, 6}): 1.4, frozenset({9, 10}): 1.39, frozenset({16, 15}): 1.09, frozenset({5, 7}): 1.41, frozenset({8, 6}): 1.39, frozenset({9, 7}): 1.39, frozenset({8, 10}): 1.39, frozenset({17, 15}): 1.09, frozenset({0, 3}): 1.37, frozenset({18, 15}): 1.09, frozenset({8, 12}): 1.08, frozenset({9, 13}): 1.08, frozenset({10, 14}): 1.08, frozenset({0, 5}): 1.57, frozenset({11, 6}): 1.08, frozenset({15, 7}): 1.51}\n",
      "{frozenset({0, 1}): 1.39, frozenset({1, 2}): 1.38, frozenset({2, 3}): 1.39, frozenset({3, 4}): 1.39, frozenset({4, 5}): 1.39, frozenset({9, 10}): 1.2, frozenset({9, 12}): 1.11, frozenset({8, 4}): 1.08, frozenset({1, 11}): 1.08, frozenset({0, 5}): 1.39, frozenset({2, 7}): 1.08, frozenset({0, 6}): 1.08, frozenset({9, 3}): 1.48, frozenset({5, 13}): 1.73}\n",
      "{frozenset({0, 1}): 1.39, frozenset({1, 2}): 1.38, frozenset({2, 3}): 1.39, frozenset({3, 4}): 1.39, frozenset({4, 5}): 1.39, frozenset({8, 9}): 1.2, frozenset({0, 13}): 1.73, frozenset({4, 7}): 1.08, frozenset({8, 11}): 1.11, frozenset({2, 6}): 1.08, frozenset({0, 5}): 1.39, frozenset({8, 3}): 1.48, frozenset({1, 10}): 1.08, frozenset({12, 5}): 1.08}\n"
     ]
    },
    {
     "data": {
      "application/vnd.plotly.v1+json": {
       "config": {
        "plotlyServerURL": "https://plot.ly"
       },
       "data": [
        {
         "marker": {
          "color": [
           "pink",
           "red",
           "white",
           "red",
           "white",
           "black",
           "black",
           "black",
           "black",
           "black",
           "black",
           "white",
           "white",
           "white",
           "white",
           "black",
           "white",
           "white",
           "white"
          ],
          "line": {
           "color": "black",
           "width": 3
          },
          "opacity": 0.9,
          "size": 10,
          "symbol": "circle"
         },
         "mode": "markers",
         "name": "Atoms",
         "text": [
          "B",
          "O",
          "H",
          "O",
          "H",
          "C",
          "C",
          "C",
          "C",
          "C",
          "C",
          "H",
          "H",
          "H",
          "H",
          "C",
          "H",
          "H",
          "H"
         ],
         "type": "scatter3d",
         "x": [
          -0.040475,
          1.0992,
          0.963621,
          -1.292112,
          -1.326111,
          0.03974,
          -1.174798,
          1.238674,
          -1.227848,
          1.171079,
          -0.043818,
          -2.095852,
          -2.181886,
          2.09272,
          -0.062101,
          2.595618,
          2.727969,
          2.726935,
          3.379259
         ],
         "y": [
          3.143203,
          3.903182,
          4.853969,
          3.703691,
          4.662677,
          1.579029,
          0.884724,
          0.840427,
          -0.499933,
          -0.550745,
          -1.220031,
          1.453954,
          -1.010798,
          -1.120623,
          -2.302817,
          1.494293,
          2.133176,
          2.132157,
          0.737891
         ],
         "z": [
          -0.000472,
          0.001022,
          0.000836,
          -0.00242,
          -0.002502,
          -0.000474,
          -0.001504,
          0.000627,
          -0.001425,
          0.000697,
          -0.000304,
          -0.002371,
          -0.002232,
          0.001543,
          -0.000216,
          0.001763,
          -0.871103,
          0.875545,
          0.001801
         ]
        },
        {
         "hoverinfo": "none",
         "line": {
          "color": "grey",
          "width": 5
         },
         "mode": "lines",
         "type": "scatter3d",
         "x": [
          -0.040475,
          1.0992,
          null,
          1.0992,
          0.963621,
          null,
          -1.292112,
          -1.326111,
          null,
          0.03974,
          -1.174798,
          null,
          1.171079,
          -0.043818,
          null,
          2.727969,
          2.595618,
          null,
          0.03974,
          1.238674,
          null,
          -1.227848,
          -1.174798,
          null,
          1.171079,
          1.238674,
          null,
          -1.227848,
          -0.043818,
          null,
          2.726935,
          2.595618,
          null,
          -0.040475,
          -1.292112,
          null,
          3.379259,
          2.595618,
          null,
          -1.227848,
          -2.181886,
          null,
          1.171079,
          2.09272,
          null,
          -0.043818,
          -0.062101,
          null,
          -0.040475,
          0.03974,
          null,
          -2.095852,
          -1.174798,
          null,
          2.595618,
          1.238674,
          null
         ],
         "y": [
          3.143203,
          3.903182,
          null,
          3.903182,
          4.853969,
          null,
          3.703691,
          4.662677,
          null,
          1.579029,
          0.884724,
          null,
          -0.550745,
          -1.220031,
          null,
          2.133176,
          1.494293,
          null,
          1.579029,
          0.840427,
          null,
          -0.499933,
          0.884724,
          null,
          -0.550745,
          0.840427,
          null,
          -0.499933,
          -1.220031,
          null,
          2.132157,
          1.494293,
          null,
          3.143203,
          3.703691,
          null,
          0.737891,
          1.494293,
          null,
          -0.499933,
          -1.010798,
          null,
          -0.550745,
          -1.120623,
          null,
          -1.220031,
          -2.302817,
          null,
          3.143203,
          1.579029,
          null,
          1.453954,
          0.884724,
          null,
          1.494293,
          0.840427,
          null
         ],
         "z": [
          -0.000472,
          0.001022,
          null,
          0.001022,
          0.000836,
          null,
          -0.00242,
          -0.002502,
          null,
          -0.000474,
          -0.001504,
          null,
          0.000697,
          -0.000304,
          null,
          -0.871103,
          0.001763,
          null,
          -0.000474,
          0.000627,
          null,
          -0.001425,
          -0.001504,
          null,
          0.000697,
          0.000627,
          null,
          -0.001425,
          -0.000304,
          null,
          0.875545,
          0.001763,
          null,
          -0.000472,
          -0.00242,
          null,
          0.001801,
          0.001763,
          null,
          -0.001425,
          -0.002232,
          null,
          0.000697,
          0.001543,
          null,
          -0.000304,
          -0.000216,
          null,
          -0.000472,
          -0.000474,
          null,
          -0.002371,
          -0.001504,
          null,
          0.001763,
          0.000627,
          null
         ]
        },
        {
         "marker": {
          "color": [
           "black",
           "black",
           "black",
           "black",
           "black",
           "black",
           "white",
           "white",
           "white",
           "black",
           "red",
           "white",
           "white",
           "green"
          ],
          "line": {
           "color": "black",
           "width": 3
          },
          "opacity": 0.9,
          "size": 10,
          "symbol": "circle"
         },
         "mode": "markers",
         "name": "Atoms",
         "text": [
          "C",
          "C",
          "C",
          "C",
          "C",
          "C",
          "H",
          "H",
          "H",
          "C",
          "O",
          "H",
          "H",
          "Cl"
         ],
         "type": "scatter3d",
         "x": [
          -0.012721,
          1.192213,
          1.202367,
          -0.004424,
          -1.213685,
          -1.206872,
          -0.030676,
          2.126755,
          -2.153013,
          -0.015391,
          0.973719,
          2.122424,
          -1.022401,
          -2.708163
         ],
         "y": [
          -1.122349,
          -0.427723,
          0.9555,
          1.649448,
          0.966472,
          -0.418987,
          -2.203628,
          1.517898,
          1.505965,
          3.133621,
          3.813688,
          -0.980104,
          3.593731,
          -1.280986
         ],
         "z": [
          -0.000217,
          -0.000166,
          0.000056,
          0.00023,
          0.000182,
          -0.000042,
          -0.000391,
          0.0001,
          0.000319,
          0.000471,
          0.000518,
          -0.000303,
          0.00061,
          -0.00011
         ]
        },
        {
         "hoverinfo": "none",
         "line": {
          "color": "red",
          "width": 5
         },
         "mode": "lines",
         "type": "scatter3d",
         "x": [
          -0.012721,
          1.192213,
          null,
          1.192213,
          1.202367,
          null,
          1.202367,
          -0.004424,
          null,
          -0.004424,
          -1.213685,
          null,
          -1.213685,
          -1.206872,
          null,
          -0.015391,
          0.973719,
          null,
          -0.015391,
          -1.022401,
          null,
          -2.153013,
          -1.213685,
          null,
          1.192213,
          2.122424,
          null,
          -0.012721,
          -1.206872,
          null,
          1.202367,
          2.126755,
          null,
          -0.012721,
          -0.030676,
          null,
          -0.015391,
          -0.004424,
          null,
          -1.206872,
          -2.708163,
          null
         ],
         "y": [
          -1.122349,
          -0.427723,
          null,
          -0.427723,
          0.9555,
          null,
          0.9555,
          1.649448,
          null,
          1.649448,
          0.966472,
          null,
          0.966472,
          -0.418987,
          null,
          3.133621,
          3.813688,
          null,
          3.133621,
          3.593731,
          null,
          1.505965,
          0.966472,
          null,
          -0.427723,
          -0.980104,
          null,
          -1.122349,
          -0.418987,
          null,
          0.9555,
          1.517898,
          null,
          -1.122349,
          -2.203628,
          null,
          3.133621,
          1.649448,
          null,
          -0.418987,
          -1.280986,
          null
         ],
         "z": [
          -0.000217,
          -0.000166,
          null,
          -0.000166,
          0.000056,
          null,
          0.000056,
          0.00023,
          null,
          0.00023,
          0.000182,
          null,
          0.000182,
          -0.000042,
          null,
          0.000471,
          0.000518,
          null,
          0.000471,
          0.00061,
          null,
          0.000319,
          0.000182,
          null,
          -0.000166,
          -0.000303,
          null,
          -0.000217,
          -0.000042,
          null,
          0.000056,
          0.0001,
          null,
          -0.000217,
          -0.000391,
          null,
          0.000471,
          0.00023,
          null,
          -0.000042,
          -0.00011,
          null
         ]
        },
        {
         "marker": {
          "color": [
           "black",
           "black",
           "black",
           "black",
           "black",
           "black",
           "white",
           "white",
           "black",
           "red",
           "white",
           "white",
           "white",
           "green"
          ],
          "line": {
           "color": "black",
           "width": 3
          },
          "opacity": 0.9,
          "size": 10,
          "symbol": "circle"
         },
         "mode": "markers",
         "name": "Atoms",
         "text": [
          "C",
          "C",
          "C",
          "C",
          "C",
          "C",
          "H",
          "H",
          "C",
          "O",
          "H",
          "H",
          "H",
          "Cl"
         ],
         "type": "scatter3d",
         "x": [
          -0.011024,
          1.203537,
          1.200954,
          -0.00524,
          -1.208778,
          -1.220754,
          2.12698,
          -2.144491,
          -0.011747,
          0.978109,
          2.128399,
          -1.018183,
          -2.148291,
          -0.010208
         ],
         "y": [
          -1.105528,
          -0.426916,
          0.954367,
          1.651656,
          0.957511,
          -0.428388,
          1.515005,
          1.504989,
          3.132169,
          3.812805,
          -0.986645,
          3.594222,
          -0.983231,
          -2.834328
         ],
         "z": [
          -0.000213,
          -0.00017,
          0.000053,
          0.000231,
          0.000182,
          -0.000041,
          0.000095,
          0.000322,
          0.000472,
          0.000521,
          -0.000309,
          0.000608,
          -0.000082,
          -0.000486
         ]
        },
        {
         "hoverinfo": "none",
         "line": {
          "color": "magenta",
          "width": 5
         },
         "mode": "lines",
         "type": "scatter3d",
         "x": [
          -0.011024,
          1.203537,
          null,
          1.203537,
          1.200954,
          null,
          1.200954,
          -0.00524,
          null,
          -0.00524,
          -1.208778,
          null,
          -1.208778,
          -1.220754,
          null,
          -0.011747,
          0.978109,
          null,
          -0.011024,
          -0.010208,
          null,
          -1.208778,
          -2.144491,
          null,
          -0.011747,
          -1.018183,
          null,
          1.200954,
          2.12698,
          null,
          -0.011024,
          -1.220754,
          null,
          -0.011747,
          -0.00524,
          null,
          1.203537,
          2.128399,
          null,
          -2.148291,
          -1.220754,
          null
         ],
         "y": [
          -1.105528,
          -0.426916,
          null,
          -0.426916,
          0.954367,
          null,
          0.954367,
          1.651656,
          null,
          1.651656,
          0.957511,
          null,
          0.957511,
          -0.428388,
          null,
          3.132169,
          3.812805,
          null,
          -1.105528,
          -2.834328,
          null,
          0.957511,
          1.504989,
          null,
          3.132169,
          3.594222,
          null,
          0.954367,
          1.515005,
          null,
          -1.105528,
          -0.428388,
          null,
          3.132169,
          1.651656,
          null,
          -0.426916,
          -0.986645,
          null,
          -0.983231,
          -0.428388,
          null
         ],
         "z": [
          -0.000213,
          -0.00017,
          null,
          -0.00017,
          0.000053,
          null,
          0.000053,
          0.000231,
          null,
          0.000231,
          0.000182,
          null,
          0.000182,
          -0.000041,
          null,
          0.000472,
          0.000521,
          null,
          -0.000213,
          -0.000486,
          null,
          0.000182,
          0.000322,
          null,
          0.000472,
          0.000608,
          null,
          0.000053,
          0.000095,
          null,
          -0.000213,
          -0.000041,
          null,
          0.000472,
          0.000231,
          null,
          -0.00017,
          -0.000309,
          null,
          -0.000082,
          -0.000041,
          null
         ]
        }
       ],
       "layout": {
        "margin": {
         "b": 0,
         "l": 0,
         "r": 0,
         "t": 0
        },
        "scene": {
         "annotations": [
          {
           "font": {
            "color": "blue"
           },
           "showarrow": false,
           "text": "1",
           "x": -0.040475,
           "y": 3.143203,
           "yshift": 15,
           "z": -0.000472
          },
          {
           "font": {
            "color": "blue"
           },
           "showarrow": false,
           "text": "2",
           "x": 1.0992,
           "y": 3.903182,
           "yshift": 15,
           "z": 0.001022
          },
          {
           "font": {
            "color": "blue"
           },
           "showarrow": false,
           "text": "3",
           "x": 0.963621,
           "y": 4.853969,
           "yshift": 15,
           "z": 0.000836
          },
          {
           "font": {
            "color": "blue"
           },
           "showarrow": false,
           "text": "4",
           "x": -1.292112,
           "y": 3.703691,
           "yshift": 15,
           "z": -0.00242
          },
          {
           "font": {
            "color": "blue"
           },
           "showarrow": false,
           "text": "5",
           "x": -1.326111,
           "y": 4.662677,
           "yshift": 15,
           "z": -0.002502
          },
          {
           "font": {
            "color": "blue"
           },
           "showarrow": false,
           "text": "6",
           "x": 0.03974,
           "y": 1.579029,
           "yshift": 15,
           "z": -0.000474
          },
          {
           "font": {
            "color": "blue"
           },
           "showarrow": false,
           "text": "7",
           "x": -1.174798,
           "y": 0.884724,
           "yshift": 15,
           "z": -0.001504
          },
          {
           "font": {
            "color": "blue"
           },
           "showarrow": false,
           "text": "8",
           "x": 1.238674,
           "y": 0.840427,
           "yshift": 15,
           "z": 0.000627
          },
          {
           "font": {
            "color": "blue"
           },
           "showarrow": false,
           "text": "9",
           "x": -1.227848,
           "y": -0.499933,
           "yshift": 15,
           "z": -0.001425
          },
          {
           "font": {
            "color": "blue"
           },
           "showarrow": false,
           "text": "10",
           "x": 1.171079,
           "y": -0.550745,
           "yshift": 15,
           "z": 0.000697
          },
          {
           "font": {
            "color": "blue"
           },
           "showarrow": false,
           "text": "11",
           "x": -0.043818,
           "y": -1.220031,
           "yshift": 15,
           "z": -0.000304
          },
          {
           "font": {
            "color": "blue"
           },
           "showarrow": false,
           "text": "12",
           "x": -2.095852,
           "y": 1.453954,
           "yshift": 15,
           "z": -0.002371
          },
          {
           "font": {
            "color": "blue"
           },
           "showarrow": false,
           "text": "13",
           "x": -2.181886,
           "y": -1.010798,
           "yshift": 15,
           "z": -0.002232
          },
          {
           "font": {
            "color": "blue"
           },
           "showarrow": false,
           "text": "14",
           "x": 2.09272,
           "y": -1.120623,
           "yshift": 15,
           "z": 0.001543
          },
          {
           "font": {
            "color": "blue"
           },
           "showarrow": false,
           "text": "15",
           "x": -0.062101,
           "y": -2.302817,
           "yshift": 15,
           "z": -0.000216
          },
          {
           "font": {
            "color": "blue"
           },
           "showarrow": false,
           "text": "16",
           "x": 2.595618,
           "y": 1.494293,
           "yshift": 15,
           "z": 0.001763
          },
          {
           "font": {
            "color": "blue"
           },
           "showarrow": false,
           "text": "17",
           "x": 2.727969,
           "y": 2.133176,
           "yshift": 15,
           "z": -0.871103
          },
          {
           "font": {
            "color": "blue"
           },
           "showarrow": false,
           "text": "18",
           "x": 2.726935,
           "y": 2.132157,
           "yshift": 15,
           "z": 0.875545
          },
          {
           "font": {
            "color": "blue"
           },
           "showarrow": false,
           "text": "19",
           "x": 3.379259,
           "y": 0.737891,
           "yshift": 15,
           "z": 0.001801
          },
          {
           "font": {
            "color": "blue"
           },
           "showarrow": false,
           "text": "1",
           "x": -0.012721,
           "y": -1.122349,
           "yshift": 15,
           "z": -0.000217
          },
          {
           "font": {
            "color": "blue"
           },
           "showarrow": false,
           "text": "2",
           "x": 1.192213,
           "y": -0.427723,
           "yshift": 15,
           "z": -0.000166
          },
          {
           "font": {
            "color": "blue"
           },
           "showarrow": false,
           "text": "3",
           "x": 1.202367,
           "y": 0.9555,
           "yshift": 15,
           "z": 0.000056
          },
          {
           "font": {
            "color": "blue"
           },
           "showarrow": false,
           "text": "4",
           "x": -0.004424,
           "y": 1.649448,
           "yshift": 15,
           "z": 0.00023
          },
          {
           "font": {
            "color": "blue"
           },
           "showarrow": false,
           "text": "5",
           "x": -1.213685,
           "y": 0.966472,
           "yshift": 15,
           "z": 0.000182
          },
          {
           "font": {
            "color": "blue"
           },
           "showarrow": false,
           "text": "6",
           "x": -1.206872,
           "y": -0.418987,
           "yshift": 15,
           "z": -0.000042
          },
          {
           "font": {
            "color": "blue"
           },
           "showarrow": false,
           "text": "7",
           "x": -0.030676,
           "y": -2.203628,
           "yshift": 15,
           "z": -0.000391
          },
          {
           "font": {
            "color": "blue"
           },
           "showarrow": false,
           "text": "8",
           "x": 2.126755,
           "y": 1.517898,
           "yshift": 15,
           "z": 0.0001
          },
          {
           "font": {
            "color": "blue"
           },
           "showarrow": false,
           "text": "9",
           "x": -2.153013,
           "y": 1.505965,
           "yshift": 15,
           "z": 0.000319
          },
          {
           "font": {
            "color": "blue"
           },
           "showarrow": false,
           "text": "10",
           "x": -0.015391,
           "y": 3.133621,
           "yshift": 15,
           "z": 0.000471
          },
          {
           "font": {
            "color": "blue"
           },
           "showarrow": false,
           "text": "11",
           "x": 0.973719,
           "y": 3.813688,
           "yshift": 15,
           "z": 0.000518
          },
          {
           "font": {
            "color": "blue"
           },
           "showarrow": false,
           "text": "12",
           "x": 2.122424,
           "y": -0.980104,
           "yshift": 15,
           "z": -0.000303
          },
          {
           "font": {
            "color": "blue"
           },
           "showarrow": false,
           "text": "13",
           "x": -1.022401,
           "y": 3.593731,
           "yshift": 15,
           "z": 0.00061
          },
          {
           "font": {
            "color": "blue"
           },
           "showarrow": false,
           "text": "14",
           "x": -2.708163,
           "y": -1.280986,
           "yshift": 15,
           "z": -0.00011
          },
          {
           "font": {
            "color": "blue"
           },
           "showarrow": false,
           "text": "1",
           "x": -0.011024,
           "y": -1.105528,
           "yshift": 15,
           "z": -0.000213
          },
          {
           "font": {
            "color": "blue"
           },
           "showarrow": false,
           "text": "2",
           "x": 1.203537,
           "y": -0.426916,
           "yshift": 15,
           "z": -0.00017
          },
          {
           "font": {
            "color": "blue"
           },
           "showarrow": false,
           "text": "3",
           "x": 1.200954,
           "y": 0.954367,
           "yshift": 15,
           "z": 0.000053
          },
          {
           "font": {
            "color": "blue"
           },
           "showarrow": false,
           "text": "4",
           "x": -0.00524,
           "y": 1.651656,
           "yshift": 15,
           "z": 0.000231
          },
          {
           "font": {
            "color": "blue"
           },
           "showarrow": false,
           "text": "5",
           "x": -1.208778,
           "y": 0.957511,
           "yshift": 15,
           "z": 0.000182
          },
          {
           "font": {
            "color": "blue"
           },
           "showarrow": false,
           "text": "6",
           "x": -1.220754,
           "y": -0.428388,
           "yshift": 15,
           "z": -0.000041
          },
          {
           "font": {
            "color": "blue"
           },
           "showarrow": false,
           "text": "7",
           "x": 2.12698,
           "y": 1.515005,
           "yshift": 15,
           "z": 0.000095
          },
          {
           "font": {
            "color": "blue"
           },
           "showarrow": false,
           "text": "8",
           "x": -2.144491,
           "y": 1.504989,
           "yshift": 15,
           "z": 0.000322
          },
          {
           "font": {
            "color": "blue"
           },
           "showarrow": false,
           "text": "9",
           "x": -0.011747,
           "y": 3.132169,
           "yshift": 15,
           "z": 0.000472
          },
          {
           "font": {
            "color": "blue"
           },
           "showarrow": false,
           "text": "10",
           "x": 0.978109,
           "y": 3.812805,
           "yshift": 15,
           "z": 0.000521
          },
          {
           "font": {
            "color": "blue"
           },
           "showarrow": false,
           "text": "11",
           "x": 2.128399,
           "y": -0.986645,
           "yshift": 15,
           "z": -0.000309
          },
          {
           "font": {
            "color": "blue"
           },
           "showarrow": false,
           "text": "12",
           "x": -1.018183,
           "y": 3.594222,
           "yshift": 15,
           "z": 0.000608
          },
          {
           "font": {
            "color": "blue"
           },
           "showarrow": false,
           "text": "13",
           "x": -2.148291,
           "y": -0.983231,
           "yshift": 15,
           "z": -0.000082
          },
          {
           "font": {
            "color": "blue"
           },
           "showarrow": false,
           "text": "14",
           "x": -0.010208,
           "y": -2.834328,
           "yshift": 15,
           "z": -0.000486
          }
         ],
         "xaxis": {
          "showbackground": false,
          "showgrid": false,
          "showticklabels": false,
          "title": {
           "font": {
            "color": "white"
           }
          },
          "zeroline": false
         },
         "yaxis": {
          "showbackground": false,
          "showgrid": false,
          "showticklabels": false,
          "title": {
           "font": {
            "color": "white"
           }
          },
          "zeroline": false
         },
         "zaxis": {
          "showbackground": false,
          "showgrid": false,
          "showticklabels": false,
          "title": {
           "font": {
            "color": "white"
           }
          },
          "zeroline": false
         }
        },
        "showlegend": false,
        "template": {
         "data": {
          "bar": [
           {
            "error_x": {
             "color": "#2a3f5f"
            },
            "error_y": {
             "color": "#2a3f5f"
            },
            "marker": {
             "line": {
              "color": "#E5ECF6",
              "width": 0.5
             },
             "pattern": {
              "fillmode": "overlay",
              "size": 10,
              "solidity": 0.2
             }
            },
            "type": "bar"
           }
          ],
          "barpolar": [
           {
            "marker": {
             "line": {
              "color": "#E5ECF6",
              "width": 0.5
             },
             "pattern": {
              "fillmode": "overlay",
              "size": 10,
              "solidity": 0.2
             }
            },
            "type": "barpolar"
           }
          ],
          "carpet": [
           {
            "aaxis": {
             "endlinecolor": "#2a3f5f",
             "gridcolor": "white",
             "linecolor": "white",
             "minorgridcolor": "white",
             "startlinecolor": "#2a3f5f"
            },
            "baxis": {
             "endlinecolor": "#2a3f5f",
             "gridcolor": "white",
             "linecolor": "white",
             "minorgridcolor": "white",
             "startlinecolor": "#2a3f5f"
            },
            "type": "carpet"
           }
          ],
          "choropleth": [
           {
            "colorbar": {
             "outlinewidth": 0,
             "ticks": ""
            },
            "type": "choropleth"
           }
          ],
          "contour": [
           {
            "colorbar": {
             "outlinewidth": 0,
             "ticks": ""
            },
            "colorscale": [
             [
              0,
              "#0d0887"
             ],
             [
              0.1111111111111111,
              "#46039f"
             ],
             [
              0.2222222222222222,
              "#7201a8"
             ],
             [
              0.3333333333333333,
              "#9c179e"
             ],
             [
              0.4444444444444444,
              "#bd3786"
             ],
             [
              0.5555555555555556,
              "#d8576b"
             ],
             [
              0.6666666666666666,
              "#ed7953"
             ],
             [
              0.7777777777777778,
              "#fb9f3a"
             ],
             [
              0.8888888888888888,
              "#fdca26"
             ],
             [
              1,
              "#f0f921"
             ]
            ],
            "type": "contour"
           }
          ],
          "contourcarpet": [
           {
            "colorbar": {
             "outlinewidth": 0,
             "ticks": ""
            },
            "type": "contourcarpet"
           }
          ],
          "heatmap": [
           {
            "colorbar": {
             "outlinewidth": 0,
             "ticks": ""
            },
            "colorscale": [
             [
              0,
              "#0d0887"
             ],
             [
              0.1111111111111111,
              "#46039f"
             ],
             [
              0.2222222222222222,
              "#7201a8"
             ],
             [
              0.3333333333333333,
              "#9c179e"
             ],
             [
              0.4444444444444444,
              "#bd3786"
             ],
             [
              0.5555555555555556,
              "#d8576b"
             ],
             [
              0.6666666666666666,
              "#ed7953"
             ],
             [
              0.7777777777777778,
              "#fb9f3a"
             ],
             [
              0.8888888888888888,
              "#fdca26"
             ],
             [
              1,
              "#f0f921"
             ]
            ],
            "type": "heatmap"
           }
          ],
          "heatmapgl": [
           {
            "colorbar": {
             "outlinewidth": 0,
             "ticks": ""
            },
            "colorscale": [
             [
              0,
              "#0d0887"
             ],
             [
              0.1111111111111111,
              "#46039f"
             ],
             [
              0.2222222222222222,
              "#7201a8"
             ],
             [
              0.3333333333333333,
              "#9c179e"
             ],
             [
              0.4444444444444444,
              "#bd3786"
             ],
             [
              0.5555555555555556,
              "#d8576b"
             ],
             [
              0.6666666666666666,
              "#ed7953"
             ],
             [
              0.7777777777777778,
              "#fb9f3a"
             ],
             [
              0.8888888888888888,
              "#fdca26"
             ],
             [
              1,
              "#f0f921"
             ]
            ],
            "type": "heatmapgl"
           }
          ],
          "histogram": [
           {
            "marker": {
             "pattern": {
              "fillmode": "overlay",
              "size": 10,
              "solidity": 0.2
             }
            },
            "type": "histogram"
           }
          ],
          "histogram2d": [
           {
            "colorbar": {
             "outlinewidth": 0,
             "ticks": ""
            },
            "colorscale": [
             [
              0,
              "#0d0887"
             ],
             [
              0.1111111111111111,
              "#46039f"
             ],
             [
              0.2222222222222222,
              "#7201a8"
             ],
             [
              0.3333333333333333,
              "#9c179e"
             ],
             [
              0.4444444444444444,
              "#bd3786"
             ],
             [
              0.5555555555555556,
              "#d8576b"
             ],
             [
              0.6666666666666666,
              "#ed7953"
             ],
             [
              0.7777777777777778,
              "#fb9f3a"
             ],
             [
              0.8888888888888888,
              "#fdca26"
             ],
             [
              1,
              "#f0f921"
             ]
            ],
            "type": "histogram2d"
           }
          ],
          "histogram2dcontour": [
           {
            "colorbar": {
             "outlinewidth": 0,
             "ticks": ""
            },
            "colorscale": [
             [
              0,
              "#0d0887"
             ],
             [
              0.1111111111111111,
              "#46039f"
             ],
             [
              0.2222222222222222,
              "#7201a8"
             ],
             [
              0.3333333333333333,
              "#9c179e"
             ],
             [
              0.4444444444444444,
              "#bd3786"
             ],
             [
              0.5555555555555556,
              "#d8576b"
             ],
             [
              0.6666666666666666,
              "#ed7953"
             ],
             [
              0.7777777777777778,
              "#fb9f3a"
             ],
             [
              0.8888888888888888,
              "#fdca26"
             ],
             [
              1,
              "#f0f921"
             ]
            ],
            "type": "histogram2dcontour"
           }
          ],
          "mesh3d": [
           {
            "colorbar": {
             "outlinewidth": 0,
             "ticks": ""
            },
            "type": "mesh3d"
           }
          ],
          "parcoords": [
           {
            "line": {
             "colorbar": {
              "outlinewidth": 0,
              "ticks": ""
             }
            },
            "type": "parcoords"
           }
          ],
          "pie": [
           {
            "automargin": true,
            "type": "pie"
           }
          ],
          "scatter": [
           {
            "fillpattern": {
             "fillmode": "overlay",
             "size": 10,
             "solidity": 0.2
            },
            "type": "scatter"
           }
          ],
          "scatter3d": [
           {
            "line": {
             "colorbar": {
              "outlinewidth": 0,
              "ticks": ""
             }
            },
            "marker": {
             "colorbar": {
              "outlinewidth": 0,
              "ticks": ""
             }
            },
            "type": "scatter3d"
           }
          ],
          "scattercarpet": [
           {
            "marker": {
             "colorbar": {
              "outlinewidth": 0,
              "ticks": ""
             }
            },
            "type": "scattercarpet"
           }
          ],
          "scattergeo": [
           {
            "marker": {
             "colorbar": {
              "outlinewidth": 0,
              "ticks": ""
             }
            },
            "type": "scattergeo"
           }
          ],
          "scattergl": [
           {
            "marker": {
             "colorbar": {
              "outlinewidth": 0,
              "ticks": ""
             }
            },
            "type": "scattergl"
           }
          ],
          "scattermapbox": [
           {
            "marker": {
             "colorbar": {
              "outlinewidth": 0,
              "ticks": ""
             }
            },
            "type": "scattermapbox"
           }
          ],
          "scatterpolar": [
           {
            "marker": {
             "colorbar": {
              "outlinewidth": 0,
              "ticks": ""
             }
            },
            "type": "scatterpolar"
           }
          ],
          "scatterpolargl": [
           {
            "marker": {
             "colorbar": {
              "outlinewidth": 0,
              "ticks": ""
             }
            },
            "type": "scatterpolargl"
           }
          ],
          "scatterternary": [
           {
            "marker": {
             "colorbar": {
              "outlinewidth": 0,
              "ticks": ""
             }
            },
            "type": "scatterternary"
           }
          ],
          "surface": [
           {
            "colorbar": {
             "outlinewidth": 0,
             "ticks": ""
            },
            "colorscale": [
             [
              0,
              "#0d0887"
             ],
             [
              0.1111111111111111,
              "#46039f"
             ],
             [
              0.2222222222222222,
              "#7201a8"
             ],
             [
              0.3333333333333333,
              "#9c179e"
             ],
             [
              0.4444444444444444,
              "#bd3786"
             ],
             [
              0.5555555555555556,
              "#d8576b"
             ],
             [
              0.6666666666666666,
              "#ed7953"
             ],
             [
              0.7777777777777778,
              "#fb9f3a"
             ],
             [
              0.8888888888888888,
              "#fdca26"
             ],
             [
              1,
              "#f0f921"
             ]
            ],
            "type": "surface"
           }
          ],
          "table": [
           {
            "cells": {
             "fill": {
              "color": "#EBF0F8"
             },
             "line": {
              "color": "white"
             }
            },
            "header": {
             "fill": {
              "color": "#C8D4E3"
             },
             "line": {
              "color": "white"
             }
            },
            "type": "table"
           }
          ]
         },
         "layout": {
          "annotationdefaults": {
           "arrowcolor": "#2a3f5f",
           "arrowhead": 0,
           "arrowwidth": 1
          },
          "autotypenumbers": "strict",
          "coloraxis": {
           "colorbar": {
            "outlinewidth": 0,
            "ticks": ""
           }
          },
          "colorscale": {
           "diverging": [
            [
             0,
             "#8e0152"
            ],
            [
             0.1,
             "#c51b7d"
            ],
            [
             0.2,
             "#de77ae"
            ],
            [
             0.3,
             "#f1b6da"
            ],
            [
             0.4,
             "#fde0ef"
            ],
            [
             0.5,
             "#f7f7f7"
            ],
            [
             0.6,
             "#e6f5d0"
            ],
            [
             0.7,
             "#b8e186"
            ],
            [
             0.8,
             "#7fbc41"
            ],
            [
             0.9,
             "#4d9221"
            ],
            [
             1,
             "#276419"
            ]
           ],
           "sequential": [
            [
             0,
             "#0d0887"
            ],
            [
             0.1111111111111111,
             "#46039f"
            ],
            [
             0.2222222222222222,
             "#7201a8"
            ],
            [
             0.3333333333333333,
             "#9c179e"
            ],
            [
             0.4444444444444444,
             "#bd3786"
            ],
            [
             0.5555555555555556,
             "#d8576b"
            ],
            [
             0.6666666666666666,
             "#ed7953"
            ],
            [
             0.7777777777777778,
             "#fb9f3a"
            ],
            [
             0.8888888888888888,
             "#fdca26"
            ],
            [
             1,
             "#f0f921"
            ]
           ],
           "sequentialminus": [
            [
             0,
             "#0d0887"
            ],
            [
             0.1111111111111111,
             "#46039f"
            ],
            [
             0.2222222222222222,
             "#7201a8"
            ],
            [
             0.3333333333333333,
             "#9c179e"
            ],
            [
             0.4444444444444444,
             "#bd3786"
            ],
            [
             0.5555555555555556,
             "#d8576b"
            ],
            [
             0.6666666666666666,
             "#ed7953"
            ],
            [
             0.7777777777777778,
             "#fb9f3a"
            ],
            [
             0.8888888888888888,
             "#fdca26"
            ],
            [
             1,
             "#f0f921"
            ]
           ]
          },
          "colorway": [
           "#636efa",
           "#EF553B",
           "#00cc96",
           "#ab63fa",
           "#FFA15A",
           "#19d3f3",
           "#FF6692",
           "#B6E880",
           "#FF97FF",
           "#FECB52"
          ],
          "font": {
           "color": "#2a3f5f"
          },
          "geo": {
           "bgcolor": "white",
           "lakecolor": "white",
           "landcolor": "#E5ECF6",
           "showlakes": true,
           "showland": true,
           "subunitcolor": "white"
          },
          "hoverlabel": {
           "align": "left"
          },
          "hovermode": "closest",
          "mapbox": {
           "style": "light"
          },
          "paper_bgcolor": "white",
          "plot_bgcolor": "#E5ECF6",
          "polar": {
           "angularaxis": {
            "gridcolor": "white",
            "linecolor": "white",
            "ticks": ""
           },
           "bgcolor": "#E5ECF6",
           "radialaxis": {
            "gridcolor": "white",
            "linecolor": "white",
            "ticks": ""
           }
          },
          "scene": {
           "xaxis": {
            "backgroundcolor": "#E5ECF6",
            "gridcolor": "white",
            "gridwidth": 2,
            "linecolor": "white",
            "showbackground": true,
            "ticks": "",
            "zerolinecolor": "white"
           },
           "yaxis": {
            "backgroundcolor": "#E5ECF6",
            "gridcolor": "white",
            "gridwidth": 2,
            "linecolor": "white",
            "showbackground": true,
            "ticks": "",
            "zerolinecolor": "white"
           },
           "zaxis": {
            "backgroundcolor": "#E5ECF6",
            "gridcolor": "white",
            "gridwidth": 2,
            "linecolor": "white",
            "showbackground": true,
            "ticks": "",
            "zerolinecolor": "white"
           }
          },
          "shapedefaults": {
           "line": {
            "color": "#2a3f5f"
           }
          },
          "ternary": {
           "aaxis": {
            "gridcolor": "white",
            "linecolor": "white",
            "ticks": ""
           },
           "baxis": {
            "gridcolor": "white",
            "linecolor": "white",
            "ticks": ""
           },
           "bgcolor": "#E5ECF6",
           "caxis": {
            "gridcolor": "white",
            "linecolor": "white",
            "ticks": ""
           }
          },
          "title": {
           "x": 0.05
          },
          "xaxis": {
           "automargin": true,
           "gridcolor": "white",
           "linecolor": "white",
           "ticks": "",
           "title": {
            "standoff": 15
           },
           "zerolinecolor": "white",
           "zerolinewidth": 2
          },
          "yaxis": {
           "automargin": true,
           "gridcolor": "white",
           "linecolor": "white",
           "ticks": "",
           "title": {
            "standoff": 15
           },
           "zerolinecolor": "white",
           "zerolinewidth": 2
          }
         }
        },
        "updatemenus": [
         {
          "buttons": [
           {
            "args": [
             {
              "scene.annotations": [
               [
                {
                 "font": {
                  "color": "blue"
                 },
                 "showarrow": false,
                 "text": 1,
                 "x": -0.040475,
                 "y": 3.143203,
                 "yshift": 15,
                 "z": -0.000472
                },
                {
                 "font": {
                  "color": "blue"
                 },
                 "showarrow": false,
                 "text": 1,
                 "x": -0.012721,
                 "y": -1.122349,
                 "yshift": 15,
                 "z": -0.000217
                },
                {
                 "font": {
                  "color": "blue"
                 },
                 "showarrow": false,
                 "text": 1,
                 "x": -0.011024,
                 "y": -1.105528,
                 "yshift": 15,
                 "z": -0.000213
                }
               ],
               [
                {
                 "font": {
                  "color": "blue"
                 },
                 "showarrow": false,
                 "text": 2,
                 "x": 1.0992,
                 "y": 3.903182,
                 "yshift": 15,
                 "z": 0.001022
                },
                {
                 "font": {
                  "color": "blue"
                 },
                 "showarrow": false,
                 "text": 2,
                 "x": 1.192213,
                 "y": -0.427723,
                 "yshift": 15,
                 "z": -0.000166
                },
                {
                 "font": {
                  "color": "blue"
                 },
                 "showarrow": false,
                 "text": 2,
                 "x": 1.203537,
                 "y": -0.426916,
                 "yshift": 15,
                 "z": -0.00017
                }
               ],
               [
                {
                 "font": {
                  "color": "blue"
                 },
                 "showarrow": false,
                 "text": 3,
                 "x": 0.963621,
                 "y": 4.853969,
                 "yshift": 15,
                 "z": 0.000836
                },
                {
                 "font": {
                  "color": "blue"
                 },
                 "showarrow": false,
                 "text": 3,
                 "x": 1.202367,
                 "y": 0.9555,
                 "yshift": 15,
                 "z": 0.000056
                },
                {
                 "font": {
                  "color": "blue"
                 },
                 "showarrow": false,
                 "text": 3,
                 "x": 1.200954,
                 "y": 0.954367,
                 "yshift": 15,
                 "z": 0.000053
                }
               ],
               [
                {
                 "font": {
                  "color": "blue"
                 },
                 "showarrow": false,
                 "text": 4,
                 "x": -1.292112,
                 "y": 3.703691,
                 "yshift": 15,
                 "z": -0.00242
                },
                {
                 "font": {
                  "color": "blue"
                 },
                 "showarrow": false,
                 "text": 4,
                 "x": -0.004424,
                 "y": 1.649448,
                 "yshift": 15,
                 "z": 0.00023
                },
                {
                 "font": {
                  "color": "blue"
                 },
                 "showarrow": false,
                 "text": 4,
                 "x": -0.00524,
                 "y": 1.651656,
                 "yshift": 15,
                 "z": 0.000231
                }
               ],
               [
                {
                 "font": {
                  "color": "blue"
                 },
                 "showarrow": false,
                 "text": 5,
                 "x": -1.326111,
                 "y": 4.662677,
                 "yshift": 15,
                 "z": -0.002502
                },
                {
                 "font": {
                  "color": "blue"
                 },
                 "showarrow": false,
                 "text": 5,
                 "x": -1.213685,
                 "y": 0.966472,
                 "yshift": 15,
                 "z": 0.000182
                },
                {
                 "font": {
                  "color": "blue"
                 },
                 "showarrow": false,
                 "text": 5,
                 "x": -1.208778,
                 "y": 0.957511,
                 "yshift": 15,
                 "z": 0.000182
                }
               ],
               [
                {
                 "font": {
                  "color": "blue"
                 },
                 "showarrow": false,
                 "text": 6,
                 "x": 0.03974,
                 "y": 1.579029,
                 "yshift": 15,
                 "z": -0.000474
                },
                {
                 "font": {
                  "color": "blue"
                 },
                 "showarrow": false,
                 "text": 6,
                 "x": -1.206872,
                 "y": -0.418987,
                 "yshift": 15,
                 "z": -0.000042
                },
                {
                 "font": {
                  "color": "blue"
                 },
                 "showarrow": false,
                 "text": 6,
                 "x": -1.220754,
                 "y": -0.428388,
                 "yshift": 15,
                 "z": -0.000041
                }
               ],
               [
                {
                 "font": {
                  "color": "blue"
                 },
                 "showarrow": false,
                 "text": 7,
                 "x": -1.174798,
                 "y": 0.884724,
                 "yshift": 15,
                 "z": -0.001504
                },
                {
                 "font": {
                  "color": "blue"
                 },
                 "showarrow": false,
                 "text": 7,
                 "x": -0.030676,
                 "y": -2.203628,
                 "yshift": 15,
                 "z": -0.000391
                },
                {
                 "font": {
                  "color": "blue"
                 },
                 "showarrow": false,
                 "text": 7,
                 "x": 2.12698,
                 "y": 1.515005,
                 "yshift": 15,
                 "z": 0.000095
                }
               ],
               [
                {
                 "font": {
                  "color": "blue"
                 },
                 "showarrow": false,
                 "text": 8,
                 "x": 1.238674,
                 "y": 0.840427,
                 "yshift": 15,
                 "z": 0.000627
                },
                {
                 "font": {
                  "color": "blue"
                 },
                 "showarrow": false,
                 "text": 8,
                 "x": 2.126755,
                 "y": 1.517898,
                 "yshift": 15,
                 "z": 0.0001
                },
                {
                 "font": {
                  "color": "blue"
                 },
                 "showarrow": false,
                 "text": 8,
                 "x": -2.144491,
                 "y": 1.504989,
                 "yshift": 15,
                 "z": 0.000322
                }
               ],
               [
                {
                 "font": {
                  "color": "blue"
                 },
                 "showarrow": false,
                 "text": 9,
                 "x": -1.227848,
                 "y": -0.499933,
                 "yshift": 15,
                 "z": -0.001425
                },
                {
                 "font": {
                  "color": "blue"
                 },
                 "showarrow": false,
                 "text": 9,
                 "x": -2.153013,
                 "y": 1.505965,
                 "yshift": 15,
                 "z": 0.000319
                },
                {
                 "font": {
                  "color": "blue"
                 },
                 "showarrow": false,
                 "text": 9,
                 "x": -0.011747,
                 "y": 3.132169,
                 "yshift": 15,
                 "z": 0.000472
                }
               ],
               [
                {
                 "font": {
                  "color": "blue"
                 },
                 "showarrow": false,
                 "text": 10,
                 "x": 1.171079,
                 "y": -0.550745,
                 "yshift": 15,
                 "z": 0.000697
                },
                {
                 "font": {
                  "color": "blue"
                 },
                 "showarrow": false,
                 "text": 10,
                 "x": -0.015391,
                 "y": 3.133621,
                 "yshift": 15,
                 "z": 0.000471
                },
                {
                 "font": {
                  "color": "blue"
                 },
                 "showarrow": false,
                 "text": 10,
                 "x": 0.978109,
                 "y": 3.812805,
                 "yshift": 15,
                 "z": 0.000521
                }
               ],
               [
                {
                 "font": {
                  "color": "blue"
                 },
                 "showarrow": false,
                 "text": 11,
                 "x": -0.043818,
                 "y": -1.220031,
                 "yshift": 15,
                 "z": -0.000304
                },
                {
                 "font": {
                  "color": "blue"
                 },
                 "showarrow": false,
                 "text": 11,
                 "x": 0.973719,
                 "y": 3.813688,
                 "yshift": 15,
                 "z": 0.000518
                },
                {
                 "font": {
                  "color": "blue"
                 },
                 "showarrow": false,
                 "text": 11,
                 "x": 2.128399,
                 "y": -0.986645,
                 "yshift": 15,
                 "z": -0.000309
                }
               ],
               [
                {
                 "font": {
                  "color": "blue"
                 },
                 "showarrow": false,
                 "text": 12,
                 "x": -2.095852,
                 "y": 1.453954,
                 "yshift": 15,
                 "z": -0.002371
                },
                {
                 "font": {
                  "color": "blue"
                 },
                 "showarrow": false,
                 "text": 12,
                 "x": 2.122424,
                 "y": -0.980104,
                 "yshift": 15,
                 "z": -0.000303
                },
                {
                 "font": {
                  "color": "blue"
                 },
                 "showarrow": false,
                 "text": 12,
                 "x": -1.018183,
                 "y": 3.594222,
                 "yshift": 15,
                 "z": 0.000608
                }
               ],
               [
                {
                 "font": {
                  "color": "blue"
                 },
                 "showarrow": false,
                 "text": 13,
                 "x": -2.181886,
                 "y": -1.010798,
                 "yshift": 15,
                 "z": -0.002232
                },
                {
                 "font": {
                  "color": "blue"
                 },
                 "showarrow": false,
                 "text": 13,
                 "x": -1.022401,
                 "y": 3.593731,
                 "yshift": 15,
                 "z": 0.00061
                },
                {
                 "font": {
                  "color": "blue"
                 },
                 "showarrow": false,
                 "text": 13,
                 "x": -2.148291,
                 "y": -0.983231,
                 "yshift": 15,
                 "z": -0.000082
                }
               ],
               [
                {
                 "font": {
                  "color": "blue"
                 },
                 "showarrow": false,
                 "text": 14,
                 "x": 2.09272,
                 "y": -1.120623,
                 "yshift": 15,
                 "z": 0.001543
                },
                {
                 "font": {
                  "color": "blue"
                 },
                 "showarrow": false,
                 "text": 14,
                 "x": -2.708163,
                 "y": -1.280986,
                 "yshift": 15,
                 "z": -0.00011
                },
                {
                 "font": {
                  "color": "blue"
                 },
                 "showarrow": false,
                 "text": 14,
                 "x": -0.010208,
                 "y": -2.834328,
                 "yshift": 15,
                 "z": -0.000486
                }
               ]
              ]
             }
            ],
            "label": "Atom indices",
            "method": "relayout"
           },
           {
            "args": [
             {
              "scene.annotations": [
               [
                {
                 "showarrow": false,
                 "text": 1.37,
                 "x": 0.5293625,
                 "y": 3.5231925000000004,
                 "yshift": 10,
                 "z": 0.00027499999999999996
                },
                {
                 "showarrow": false,
                 "text": 1.39,
                 "x": 0.589746,
                 "y": -0.7750360000000001,
                 "yshift": 10,
                 "z": -0.0001915
                },
                {
                 "showarrow": false,
                 "text": 1.39,
                 "x": 0.5962565000000001,
                 "y": -0.7662220000000001,
                 "yshift": 10,
                 "z": -0.0001915
                }
               ],
               [
                {
                 "showarrow": false,
                 "text": 0.96,
                 "x": 1.0314105,
                 "y": 4.3785755,
                 "yshift": 10,
                 "z": 0.0009289999999999999
                },
                {
                 "showarrow": false,
                 "text": 1.38,
                 "x": 1.19729,
                 "y": 0.26388849999999997,
                 "yshift": 10,
                 "z": -0.000054999999999999995
                },
                {
                 "showarrow": false,
                 "text": 1.38,
                 "x": 1.2022455,
                 "y": 0.26372549999999995,
                 "yshift": 10,
                 "z": -0.000058500000000000006
                }
               ],
               [
                {
                 "showarrow": false,
                 "text": 0.96,
                 "x": -1.3091115,
                 "y": 4.183184000000001,
                 "yshift": 10,
                 "z": -0.0024609999999999996
                },
                {
                 "showarrow": false,
                 "text": 1.39,
                 "x": 0.5989715,
                 "y": 1.3024740000000001,
                 "yshift": 10,
                 "z": 0.000143
                },
                {
                 "showarrow": false,
                 "text": 1.39,
                 "x": 0.5978570000000001,
                 "y": 1.3030115,
                 "yshift": 10,
                 "z": 0.000142
                }
               ],
               [
                {
                 "showarrow": false,
                 "text": 1.4,
                 "x": -0.567529,
                 "y": 1.2318765,
                 "yshift": 10,
                 "z": -0.0009889999999999999
                },
                {
                 "showarrow": false,
                 "text": 1.39,
                 "x": -0.6090544999999999,
                 "y": 1.30796,
                 "yshift": 10,
                 "z": 0.00020600000000000002
                },
                {
                 "showarrow": false,
                 "text": 1.39,
                 "x": -0.6070089999999999,
                 "y": 1.3045835000000001,
                 "yshift": 10,
                 "z": 0.0002065
                }
               ],
               [
                {
                 "showarrow": false,
                 "text": 1.39,
                 "x": 0.5636305,
                 "y": -0.8853880000000001,
                 "yshift": 10,
                 "z": 0.0001965
                },
                {
                 "showarrow": false,
                 "text": 1.39,
                 "x": -1.2102784999999998,
                 "y": 0.2737425,
                 "yshift": 10,
                 "z": 0.00007000000000000001
                },
                {
                 "showarrow": false,
                 "text": 1.39,
                 "x": -1.214766,
                 "y": 0.2645615,
                 "yshift": 10,
                 "z": 0.0000705
                }
               ],
               [
                {
                 "showarrow": false,
                 "text": 1.09,
                 "x": 2.6617935,
                 "y": 1.8137345000000002,
                 "yshift": 10,
                 "z": -0.43467
                },
                {
                 "showarrow": false,
                 "text": 1.2,
                 "x": 0.479164,
                 "y": 3.4736545000000003,
                 "yshift": 10,
                 "z": 0.0004945
                },
                {
                 "showarrow": false,
                 "text": 1.2,
                 "x": 0.483181,
                 "y": 3.472487,
                 "yshift": 10,
                 "z": 0.0004965
                }
               ],
               [
                {
                 "showarrow": false,
                 "text": 1.41,
                 "x": 0.6392070000000001,
                 "y": 1.2097280000000001,
                 "yshift": 10,
                 "z": 0.00007649999999999999
                },
                {
                 "showarrow": false,
                 "text": 1.11,
                 "x": -0.5188959999999999,
                 "y": 3.363676,
                 "yshift": 10,
                 "z": 0.0005405
                },
                {
                 "showarrow": false,
                 "text": 1.73,
                 "x": -0.010616,
                 "y": -1.9699280000000001,
                 "yshift": 10,
                 "z": -0.0003495
                }
               ],
               [
                {
                 "showarrow": false,
                 "text": 1.39,
                 "x": -1.201323,
                 "y": 0.19239549999999997,
                 "yshift": 10,
                 "z": -0.0014645
                },
                {
                 "showarrow": false,
                 "text": 1.08,
                 "x": -1.683349,
                 "y": 1.2362185,
                 "yshift": 10,
                 "z": 0.0002505
                },
                {
                 "showarrow": false,
                 "text": 1.08,
                 "x": -1.6766345,
                 "y": 1.23125,
                 "yshift": 10,
                 "z": 0.000252
                }
               ],
               [
                {
                 "showarrow": false,
                 "text": 1.39,
                 "x": 1.2048765000000001,
                 "y": 0.144841,
                 "yshift": 10,
                 "z": 0.000662
                },
                {
                 "showarrow": false,
                 "text": 1.08,
                 "x": 1.6573185000000001,
                 "y": -0.7039135,
                 "yshift": 10,
                 "z": -0.0002345
                },
                {
                 "showarrow": false,
                 "text": 1.11,
                 "x": -0.514965,
                 "y": 3.3631955,
                 "yshift": 10,
                 "z": 0.00054
                }
               ],
               [
                {
                 "showarrow": false,
                 "text": 1.39,
                 "x": -0.635833,
                 "y": -0.859982,
                 "yshift": 10,
                 "z": -0.0008645
                },
                {
                 "showarrow": false,
                 "text": 1.39,
                 "x": -0.6097965,
                 "y": -0.770668,
                 "yshift": 10,
                 "z": -0.0001295
                },
                {
                 "showarrow": false,
                 "text": 1.08,
                 "x": 1.663967,
                 "y": 1.234686,
                 "yshift": 10,
                 "z": 0.00007400000000000001
                }
               ],
               [
                {
                 "showarrow": false,
                 "text": 1.09,
                 "x": 2.6612765,
                 "y": 1.813225,
                 "yshift": 10,
                 "z": 0.438654
                },
                {
                 "showarrow": false,
                 "text": 1.08,
                 "x": 1.664561,
                 "y": 1.236699,
                 "yshift": 10,
                 "z": 0.000078
                },
                {
                 "showarrow": false,
                 "text": 1.39,
                 "x": -0.6158889999999999,
                 "y": -0.766958,
                 "yshift": 10,
                 "z": -0.000127
                }
               ],
               [
                {
                 "showarrow": false,
                 "text": 1.37,
                 "x": -0.6662935,
                 "y": 3.4234470000000004,
                 "yshift": 10,
                 "z": -0.0014459999999999998
                },
                {
                 "showarrow": false,
                 "text": 1.08,
                 "x": -0.0216985,
                 "y": -1.6629885,
                 "yshift": 10,
                 "z": -0.000304
                },
                {
                 "showarrow": false,
                 "text": 1.48,
                 "x": -0.008493500000000001,
                 "y": 2.3919125,
                 "yshift": 10,
                 "z": 0.0003515
                }
               ],
               [
                {
                 "showarrow": false,
                 "text": 1.09,
                 "x": 2.9874384999999997,
                 "y": 1.116092,
                 "yshift": 10,
                 "z": 0.0017820000000000002
                },
                {
                 "showarrow": false,
                 "text": 1.48,
                 "x": -0.0099075,
                 "y": 2.3915345,
                 "yshift": 10,
                 "z": 0.0003505
                },
                {
                 "showarrow": false,
                 "text": 1.08,
                 "x": 1.665968,
                 "y": -0.7067805,
                 "yshift": 10,
                 "z": -0.0002395
                }
               ],
               [
                {
                 "showarrow": false,
                 "text": 1.08,
                 "x": -1.7048670000000001,
                 "y": -0.7553655,
                 "yshift": 10,
                 "z": -0.0018285
                },
                {
                 "showarrow": false,
                 "text": 1.73,
                 "x": -1.9575174999999998,
                 "y": -0.8499865,
                 "yshift": 10,
                 "z": -0.000076
                },
                {
                 "showarrow": false,
                 "text": 1.08,
                 "x": -1.6845225,
                 "y": -0.7058095,
                 "yshift": 10,
                 "z": -0.0000615
                }
               ]
              ]
             }
            ],
            "label": "Bond lengths",
            "method": "relayout"
           },
           {
            "args": [
             {
              "scene.annotations": [
               [
                {
                 "font": {
                  "color": "blue"
                 },
                 "showarrow": false,
                 "text": 1,
                 "x": -0.040475,
                 "y": 3.143203,
                 "yshift": 15,
                 "z": -0.000472
                },
                {
                 "font": {
                  "color": "blue"
                 },
                 "showarrow": false,
                 "text": 1,
                 "x": -0.012721,
                 "y": -1.122349,
                 "yshift": 15,
                 "z": -0.000217
                },
                {
                 "font": {
                  "color": "blue"
                 },
                 "showarrow": false,
                 "text": 1,
                 "x": -0.011024,
                 "y": -1.105528,
                 "yshift": 15,
                 "z": -0.000213
                }
               ],
               [
                {
                 "font": {
                  "color": "blue"
                 },
                 "showarrow": false,
                 "text": 2,
                 "x": 1.0992,
                 "y": 3.903182,
                 "yshift": 15,
                 "z": 0.001022
                },
                {
                 "font": {
                  "color": "blue"
                 },
                 "showarrow": false,
                 "text": 2,
                 "x": 1.192213,
                 "y": -0.427723,
                 "yshift": 15,
                 "z": -0.000166
                },
                {
                 "font": {
                  "color": "blue"
                 },
                 "showarrow": false,
                 "text": 2,
                 "x": 1.203537,
                 "y": -0.426916,
                 "yshift": 15,
                 "z": -0.00017
                }
               ],
               [
                {
                 "font": {
                  "color": "blue"
                 },
                 "showarrow": false,
                 "text": 3,
                 "x": 0.963621,
                 "y": 4.853969,
                 "yshift": 15,
                 "z": 0.000836
                },
                {
                 "font": {
                  "color": "blue"
                 },
                 "showarrow": false,
                 "text": 3,
                 "x": 1.202367,
                 "y": 0.9555,
                 "yshift": 15,
                 "z": 0.000056
                },
                {
                 "font": {
                  "color": "blue"
                 },
                 "showarrow": false,
                 "text": 3,
                 "x": 1.200954,
                 "y": 0.954367,
                 "yshift": 15,
                 "z": 0.000053
                }
               ],
               [
                {
                 "font": {
                  "color": "blue"
                 },
                 "showarrow": false,
                 "text": 4,
                 "x": -1.292112,
                 "y": 3.703691,
                 "yshift": 15,
                 "z": -0.00242
                },
                {
                 "font": {
                  "color": "blue"
                 },
                 "showarrow": false,
                 "text": 4,
                 "x": -0.004424,
                 "y": 1.649448,
                 "yshift": 15,
                 "z": 0.00023
                },
                {
                 "font": {
                  "color": "blue"
                 },
                 "showarrow": false,
                 "text": 4,
                 "x": -0.00524,
                 "y": 1.651656,
                 "yshift": 15,
                 "z": 0.000231
                }
               ],
               [
                {
                 "font": {
                  "color": "blue"
                 },
                 "showarrow": false,
                 "text": 5,
                 "x": -1.326111,
                 "y": 4.662677,
                 "yshift": 15,
                 "z": -0.002502
                },
                {
                 "font": {
                  "color": "blue"
                 },
                 "showarrow": false,
                 "text": 5,
                 "x": -1.213685,
                 "y": 0.966472,
                 "yshift": 15,
                 "z": 0.000182
                },
                {
                 "font": {
                  "color": "blue"
                 },
                 "showarrow": false,
                 "text": 5,
                 "x": -1.208778,
                 "y": 0.957511,
                 "yshift": 15,
                 "z": 0.000182
                }
               ],
               [
                {
                 "font": {
                  "color": "blue"
                 },
                 "showarrow": false,
                 "text": 6,
                 "x": 0.03974,
                 "y": 1.579029,
                 "yshift": 15,
                 "z": -0.000474
                },
                {
                 "font": {
                  "color": "blue"
                 },
                 "showarrow": false,
                 "text": 6,
                 "x": -1.206872,
                 "y": -0.418987,
                 "yshift": 15,
                 "z": -0.000042
                },
                {
                 "font": {
                  "color": "blue"
                 },
                 "showarrow": false,
                 "text": 6,
                 "x": -1.220754,
                 "y": -0.428388,
                 "yshift": 15,
                 "z": -0.000041
                }
               ],
               [
                {
                 "font": {
                  "color": "blue"
                 },
                 "showarrow": false,
                 "text": 7,
                 "x": -1.174798,
                 "y": 0.884724,
                 "yshift": 15,
                 "z": -0.001504
                },
                {
                 "font": {
                  "color": "blue"
                 },
                 "showarrow": false,
                 "text": 7,
                 "x": -0.030676,
                 "y": -2.203628,
                 "yshift": 15,
                 "z": -0.000391
                },
                {
                 "font": {
                  "color": "blue"
                 },
                 "showarrow": false,
                 "text": 7,
                 "x": 2.12698,
                 "y": 1.515005,
                 "yshift": 15,
                 "z": 0.000095
                }
               ],
               [
                {
                 "font": {
                  "color": "blue"
                 },
                 "showarrow": false,
                 "text": 8,
                 "x": 1.238674,
                 "y": 0.840427,
                 "yshift": 15,
                 "z": 0.000627
                },
                {
                 "font": {
                  "color": "blue"
                 },
                 "showarrow": false,
                 "text": 8,
                 "x": 2.126755,
                 "y": 1.517898,
                 "yshift": 15,
                 "z": 0.0001
                },
                {
                 "font": {
                  "color": "blue"
                 },
                 "showarrow": false,
                 "text": 8,
                 "x": -2.144491,
                 "y": 1.504989,
                 "yshift": 15,
                 "z": 0.000322
                }
               ],
               [
                {
                 "font": {
                  "color": "blue"
                 },
                 "showarrow": false,
                 "text": 9,
                 "x": -1.227848,
                 "y": -0.499933,
                 "yshift": 15,
                 "z": -0.001425
                },
                {
                 "font": {
                  "color": "blue"
                 },
                 "showarrow": false,
                 "text": 9,
                 "x": -2.153013,
                 "y": 1.505965,
                 "yshift": 15,
                 "z": 0.000319
                },
                {
                 "font": {
                  "color": "blue"
                 },
                 "showarrow": false,
                 "text": 9,
                 "x": -0.011747,
                 "y": 3.132169,
                 "yshift": 15,
                 "z": 0.000472
                }
               ],
               [
                {
                 "font": {
                  "color": "blue"
                 },
                 "showarrow": false,
                 "text": 10,
                 "x": 1.171079,
                 "y": -0.550745,
                 "yshift": 15,
                 "z": 0.000697
                },
                {
                 "font": {
                  "color": "blue"
                 },
                 "showarrow": false,
                 "text": 10,
                 "x": -0.015391,
                 "y": 3.133621,
                 "yshift": 15,
                 "z": 0.000471
                },
                {
                 "font": {
                  "color": "blue"
                 },
                 "showarrow": false,
                 "text": 10,
                 "x": 0.978109,
                 "y": 3.812805,
                 "yshift": 15,
                 "z": 0.000521
                }
               ],
               [
                {
                 "font": {
                  "color": "blue"
                 },
                 "showarrow": false,
                 "text": 11,
                 "x": -0.043818,
                 "y": -1.220031,
                 "yshift": 15,
                 "z": -0.000304
                },
                {
                 "font": {
                  "color": "blue"
                 },
                 "showarrow": false,
                 "text": 11,
                 "x": 0.973719,
                 "y": 3.813688,
                 "yshift": 15,
                 "z": 0.000518
                },
                {
                 "font": {
                  "color": "blue"
                 },
                 "showarrow": false,
                 "text": 11,
                 "x": 2.128399,
                 "y": -0.986645,
                 "yshift": 15,
                 "z": -0.000309
                }
               ],
               [
                {
                 "font": {
                  "color": "blue"
                 },
                 "showarrow": false,
                 "text": 12,
                 "x": -2.095852,
                 "y": 1.453954,
                 "yshift": 15,
                 "z": -0.002371
                },
                {
                 "font": {
                  "color": "blue"
                 },
                 "showarrow": false,
                 "text": 12,
                 "x": 2.122424,
                 "y": -0.980104,
                 "yshift": 15,
                 "z": -0.000303
                },
                {
                 "font": {
                  "color": "blue"
                 },
                 "showarrow": false,
                 "text": 12,
                 "x": -1.018183,
                 "y": 3.594222,
                 "yshift": 15,
                 "z": 0.000608
                }
               ],
               [
                {
                 "font": {
                  "color": "blue"
                 },
                 "showarrow": false,
                 "text": 13,
                 "x": -2.181886,
                 "y": -1.010798,
                 "yshift": 15,
                 "z": -0.002232
                },
                {
                 "font": {
                  "color": "blue"
                 },
                 "showarrow": false,
                 "text": 13,
                 "x": -1.022401,
                 "y": 3.593731,
                 "yshift": 15,
                 "z": 0.00061
                },
                {
                 "font": {
                  "color": "blue"
                 },
                 "showarrow": false,
                 "text": 13,
                 "x": -2.148291,
                 "y": -0.983231,
                 "yshift": 15,
                 "z": -0.000082
                }
               ],
               [
                {
                 "font": {
                  "color": "blue"
                 },
                 "showarrow": false,
                 "text": 14,
                 "x": 2.09272,
                 "y": -1.120623,
                 "yshift": 15,
                 "z": 0.001543
                },
                {
                 "font": {
                  "color": "blue"
                 },
                 "showarrow": false,
                 "text": 14,
                 "x": -2.708163,
                 "y": -1.280986,
                 "yshift": 15,
                 "z": -0.00011
                },
                {
                 "font": {
                  "color": "blue"
                 },
                 "showarrow": false,
                 "text": 14,
                 "x": -0.010208,
                 "y": -2.834328,
                 "yshift": 15,
                 "z": -0.000486
                }
               ],
               [
                {
                 "font": {
                  "color": "blue"
                 },
                 "showarrow": false,
                 "text": 15,
                 "x": -0.062101,
                 "y": -2.302817,
                 "yshift": 15,
                 "z": -0.000216
                },
                {
                 "showarrow": false,
                 "text": 1.39,
                 "x": 0.589746,
                 "y": -0.7750360000000001,
                 "yshift": 10,
                 "z": -0.0001915
                },
                {
                 "showarrow": false,
                 "text": 1.39,
                 "x": 0.5962565000000001,
                 "y": -0.7662220000000001,
                 "yshift": 10,
                 "z": -0.0001915
                }
               ],
               [
                {
                 "font": {
                  "color": "blue"
                 },
                 "showarrow": false,
                 "text": 16,
                 "x": 2.595618,
                 "y": 1.494293,
                 "yshift": 15,
                 "z": 0.001763
                },
                {
                 "showarrow": false,
                 "text": 1.38,
                 "x": 1.19729,
                 "y": 0.26388849999999997,
                 "yshift": 10,
                 "z": -0.000054999999999999995
                },
                {
                 "showarrow": false,
                 "text": 1.38,
                 "x": 1.2022455,
                 "y": 0.26372549999999995,
                 "yshift": 10,
                 "z": -0.000058500000000000006
                }
               ],
               [
                {
                 "font": {
                  "color": "blue"
                 },
                 "showarrow": false,
                 "text": 17,
                 "x": 2.727969,
                 "y": 2.133176,
                 "yshift": 15,
                 "z": -0.871103
                },
                {
                 "showarrow": false,
                 "text": 1.39,
                 "x": 0.5989715,
                 "y": 1.3024740000000001,
                 "yshift": 10,
                 "z": 0.000143
                },
                {
                 "showarrow": false,
                 "text": 1.39,
                 "x": 0.5978570000000001,
                 "y": 1.3030115,
                 "yshift": 10,
                 "z": 0.000142
                }
               ],
               [
                {
                 "font": {
                  "color": "blue"
                 },
                 "showarrow": false,
                 "text": 18,
                 "x": 2.726935,
                 "y": 2.132157,
                 "yshift": 15,
                 "z": 0.875545
                },
                {
                 "showarrow": false,
                 "text": 1.39,
                 "x": -0.6090544999999999,
                 "y": 1.30796,
                 "yshift": 10,
                 "z": 0.00020600000000000002
                },
                {
                 "showarrow": false,
                 "text": 1.39,
                 "x": -0.6070089999999999,
                 "y": 1.3045835000000001,
                 "yshift": 10,
                 "z": 0.0002065
                }
               ],
               [
                {
                 "font": {
                  "color": "blue"
                 },
                 "showarrow": false,
                 "text": 19,
                 "x": 3.379259,
                 "y": 0.737891,
                 "yshift": 15,
                 "z": 0.001801
                },
                {
                 "showarrow": false,
                 "text": 1.39,
                 "x": -1.2102784999999998,
                 "y": 0.2737425,
                 "yshift": 10,
                 "z": 0.00007000000000000001
                },
                {
                 "showarrow": false,
                 "text": 1.39,
                 "x": -1.214766,
                 "y": 0.2645615,
                 "yshift": 10,
                 "z": 0.0000705
                }
               ],
               [
                {
                 "showarrow": false,
                 "text": 1.37,
                 "x": 0.5293625,
                 "y": 3.5231925000000004,
                 "yshift": 10,
                 "z": 0.00027499999999999996
                },
                {
                 "showarrow": false,
                 "text": 1.2,
                 "x": 0.479164,
                 "y": 3.4736545000000003,
                 "yshift": 10,
                 "z": 0.0004945
                },
                {
                 "showarrow": false,
                 "text": 1.2,
                 "x": 0.483181,
                 "y": 3.472487,
                 "yshift": 10,
                 "z": 0.0004965
                }
               ],
               [
                {
                 "showarrow": false,
                 "text": 0.96,
                 "x": 1.0314105,
                 "y": 4.3785755,
                 "yshift": 10,
                 "z": 0.0009289999999999999
                },
                {
                 "showarrow": false,
                 "text": 1.11,
                 "x": -0.5188959999999999,
                 "y": 3.363676,
                 "yshift": 10,
                 "z": 0.0005405
                },
                {
                 "showarrow": false,
                 "text": 1.73,
                 "x": -0.010616,
                 "y": -1.9699280000000001,
                 "yshift": 10,
                 "z": -0.0003495
                }
               ],
               [
                {
                 "showarrow": false,
                 "text": 0.96,
                 "x": -1.3091115,
                 "y": 4.183184000000001,
                 "yshift": 10,
                 "z": -0.0024609999999999996
                },
                {
                 "showarrow": false,
                 "text": 1.08,
                 "x": -1.683349,
                 "y": 1.2362185,
                 "yshift": 10,
                 "z": 0.0002505
                },
                {
                 "showarrow": false,
                 "text": 1.08,
                 "x": -1.6766345,
                 "y": 1.23125,
                 "yshift": 10,
                 "z": 0.000252
                }
               ],
               [
                {
                 "showarrow": false,
                 "text": 1.4,
                 "x": -0.567529,
                 "y": 1.2318765,
                 "yshift": 10,
                 "z": -0.0009889999999999999
                },
                {
                 "showarrow": false,
                 "text": 1.08,
                 "x": 1.6573185000000001,
                 "y": -0.7039135,
                 "yshift": 10,
                 "z": -0.0002345
                },
                {
                 "showarrow": false,
                 "text": 1.11,
                 "x": -0.514965,
                 "y": 3.3631955,
                 "yshift": 10,
                 "z": 0.00054
                }
               ],
               [
                {
                 "showarrow": false,
                 "text": 1.39,
                 "x": 0.5636305,
                 "y": -0.8853880000000001,
                 "yshift": 10,
                 "z": 0.0001965
                },
                {
                 "showarrow": false,
                 "text": 1.39,
                 "x": -0.6097965,
                 "y": -0.770668,
                 "yshift": 10,
                 "z": -0.0001295
                },
                {
                 "showarrow": false,
                 "text": 1.08,
                 "x": 1.663967,
                 "y": 1.234686,
                 "yshift": 10,
                 "z": 0.00007400000000000001
                }
               ],
               [
                {
                 "showarrow": false,
                 "text": 1.09,
                 "x": 2.6617935,
                 "y": 1.8137345000000002,
                 "yshift": 10,
                 "z": -0.43467
                },
                {
                 "showarrow": false,
                 "text": 1.08,
                 "x": 1.664561,
                 "y": 1.236699,
                 "yshift": 10,
                 "z": 0.000078
                },
                {
                 "showarrow": false,
                 "text": 1.39,
                 "x": -0.6158889999999999,
                 "y": -0.766958,
                 "yshift": 10,
                 "z": -0.000127
                }
               ],
               [
                {
                 "showarrow": false,
                 "text": 1.41,
                 "x": 0.6392070000000001,
                 "y": 1.2097280000000001,
                 "yshift": 10,
                 "z": 0.00007649999999999999
                },
                {
                 "showarrow": false,
                 "text": 1.08,
                 "x": -0.0216985,
                 "y": -1.6629885,
                 "yshift": 10,
                 "z": -0.000304
                },
                {
                 "showarrow": false,
                 "text": 1.48,
                 "x": -0.008493500000000001,
                 "y": 2.3919125,
                 "yshift": 10,
                 "z": 0.0003515
                }
               ],
               [
                {
                 "showarrow": false,
                 "text": 1.39,
                 "x": -1.201323,
                 "y": 0.19239549999999997,
                 "yshift": 10,
                 "z": -0.0014645
                },
                {
                 "showarrow": false,
                 "text": 1.48,
                 "x": -0.0099075,
                 "y": 2.3915345,
                 "yshift": 10,
                 "z": 0.0003505
                },
                {
                 "showarrow": false,
                 "text": 1.08,
                 "x": 1.665968,
                 "y": -0.7067805,
                 "yshift": 10,
                 "z": -0.0002395
                }
               ],
               [
                {
                 "showarrow": false,
                 "text": 1.39,
                 "x": 1.2048765000000001,
                 "y": 0.144841,
                 "yshift": 10,
                 "z": 0.000662
                },
                {
                 "showarrow": false,
                 "text": 1.73,
                 "x": -1.9575174999999998,
                 "y": -0.8499865,
                 "yshift": 10,
                 "z": -0.000076
                },
                {
                 "showarrow": false,
                 "text": 1.08,
                 "x": -1.6845225,
                 "y": -0.7058095,
                 "yshift": 10,
                 "z": -0.0000615
                }
               ]
              ]
             }
            ],
            "label": "Atom indices & Bond lengths",
            "method": "relayout"
           },
           {
            "args": [
             {
              "scene.annotations": []
             }
            ],
            "label": "Hide all",
            "method": "relayout"
           }
          ],
          "direction": "down",
          "xanchor": "left",
          "yanchor": "top"
         }
        ]
       }
      }
     },
     "metadata": {},
     "output_type": "display_data"
    }
   ],
   "source": [
    "df_list=[get_df_from_file(file) for file in get_file_name_list('.xyz')]\n",
    "compare_molecules(df_list)"
   ]
  },
  {
   "cell_type": "code",
   "execution_count": null,
   "metadata": {},
   "outputs": [],
   "source": []
  }
 ],
 "metadata": {
  "kernelspec": {
   "display_name": "labenv",
   "language": "python",
   "name": "python3"
  },
  "language_info": {
   "codemirror_mode": {
    "name": "ipython",
    "version": 3
   },
   "file_extension": ".py",
   "mimetype": "text/x-python",
   "name": "python",
   "nbconvert_exporter": "python",
   "pygments_lexer": "ipython3",
   "version": "3.9.18"
  }
 },
 "nbformat": 4,
 "nbformat_minor": 2
}
